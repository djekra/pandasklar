{
 "cells": [
  {
   "cell_type": "markdown",
   "id": "6a8c2dd9-6fa9-40a9-b8bc-93cc4f99c364",
   "metadata": {},
   "source": [
    "## Test"
   ]
  },
  {
   "cell_type": "code",
   "execution_count": 2,
   "id": "6cab640e-f2a8-421d-be13-b1af98ece0f8",
   "metadata": {
    "execution": {
     "iopub.execute_input": "2025-03-11T21:55:41.448799Z",
     "iopub.status.busy": "2025-03-11T21:55:41.446953Z",
     "iopub.status.idle": "2025-03-11T21:55:42.611639Z",
     "shell.execute_reply": "2025-03-11T21:55:42.610416Z",
     "shell.execute_reply.started": "2025-03-11T21:55:41.448693Z"
    }
   },
   "outputs": [
    {
     "name": "stdout",
     "output_type": "stream",
     "text": [
      "\u001b[1m============================= test session starts ==============================\u001b[0m\n",
      "platform linux -- Python 3.12.9, pytest-8.3.5, pluggy-1.5.0\n",
      "rootdir: /media/me/LinuxDropbox/Dropbox/31_Projekte/01_Python/88_PyCharm/bpyth\n",
      "configfile: pyproject.toml\n",
      "plugins: dash-2.18.2, anyio-4.8.0\n",
      "collected 17 items                                                             \u001b[0m\n",
      "\n",
      "tests/test_bpyth_human.py \u001b[32m.\u001b[0m\u001b[32m.\u001b[0m\u001b[32m.\u001b[0m\u001b[32m.\u001b[0m\u001b[32m.\u001b[0m\u001b[32m.\u001b[0m\u001b[32m.\u001b[0m\u001b[32m.\u001b[0m\u001b[32m.\u001b[0m\u001b[32m.\u001b[0m\u001b[32m.\u001b[0m\u001b[32m.\u001b[0m\u001b[32m.\u001b[0m\u001b[32m.\u001b[0m\u001b[32m.\u001b[0m\u001b[32m.\u001b[0m\u001b[32m.\u001b[0m\u001b[32m                              [100%]\u001b[0m\n",
      "\n",
      "\u001b[32m============================== \u001b[32m\u001b[1m17 passed\u001b[0m\u001b[32m in 0.03s\u001b[0m\u001b[32m ==============================\u001b[0m\n"
     ]
    }
   ],
   "source": [
    "!pytest"
   ]
  },
  {
   "cell_type": "code",
   "execution_count": null,
   "id": "db57e9b1-40dc-45d8-85c3-e28ffe0ff311",
   "metadata": {},
   "outputs": [],
   "source": []
  }
 ],
 "metadata": {
  "kernelspec": {
   "display_name": "Python 3 (ipykernel)",
   "language": "python",
   "name": "python3"
  },
  "language_info": {
   "codemirror_mode": {
    "name": "ipython",
    "version": 3
   },
   "file_extension": ".py",
   "mimetype": "text/x-python",
   "name": "python",
   "nbconvert_exporter": "python",
   "pygments_lexer": "ipython3",
   "version": "3.12.9"
  }
 },
 "nbformat": 4,
 "nbformat_minor": 5
}
