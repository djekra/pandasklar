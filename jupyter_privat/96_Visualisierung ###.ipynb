{
 "cells": [
  {
   "cell_type": "markdown",
   "metadata": {},
   "source": [
    "# Visualisierung mit Seaborn\n",
    "* https://elitedatascience.com/python-seaborn-tutorial"
   ]
  },
  {
   "cell_type": "code",
   "execution_count": 1,
   "metadata": {},
   "outputs": [
    {
     "name": "stdout",
     "output_type": "stream",
     "text": [
      "dropbox_path = C:\\Users\\me\\Dropbox\n"
     ]
    },
    {
     "data": {
      "text/html": [
       "<img src onerror=\"var cell = this.closest('.jp-CodeCell');var editor = cell.querySelector('.jp-Editor');editor.style.background='DarkGray';this.parentNode.removeChild(this)\">"
      ],
      "text/plain": [
       "<IPython.core.display.HTML object>"
      ]
     },
     "metadata": {},
     "output_type": "display_data"
    }
   ],
   "source": [
    "# blab init\n",
    "import blab\n",
    "startup_notebook = blab.blab_startup()\n",
    "%run $startup_notebook"
   ]
  },
  {
   "cell_type": "code",
   "execution_count": 2,
   "metadata": {},
   "outputs": [
    {
     "ename": "ModuleNotFoundError",
     "evalue": "No module named 'keras'",
     "output_type": "error",
     "traceback": [
      "\u001b[1;31m---------------------------------------------------------------------------\u001b[0m",
      "\u001b[1;31mModuleNotFoundError\u001b[0m                       Traceback (most recent call last)",
      "\u001b[1;32m~\\AppData\\Local\\Temp/ipykernel_9940/1826639394.py\u001b[0m in \u001b[0;36m<module>\u001b[1;34m\u001b[0m\n\u001b[0;32m      1\u001b[0m \u001b[1;32mimport\u001b[0m \u001b[0mpandas\u001b[0m  \u001b[1;32mas\u001b[0m \u001b[0mpd\u001b[0m\u001b[1;33m\u001b[0m\u001b[1;33m\u001b[0m\u001b[0m\n\u001b[0;32m      2\u001b[0m \u001b[1;32mimport\u001b[0m \u001b[0mnumpy\u001b[0m   \u001b[1;32mas\u001b[0m \u001b[0mnp\u001b[0m\u001b[1;33m\u001b[0m\u001b[1;33m\u001b[0m\u001b[0m\n\u001b[1;32m----> 3\u001b[1;33m \u001b[1;32mimport\u001b[0m \u001b[0mkeras\u001b[0m\u001b[1;33m\u001b[0m\u001b[1;33m\u001b[0m\u001b[0m\n\u001b[0m\u001b[0;32m      4\u001b[0m \u001b[1;32mimport\u001b[0m \u001b[0mmatplotlib\u001b[0m\u001b[1;33m.\u001b[0m\u001b[0mpyplot\u001b[0m \u001b[1;32mas\u001b[0m \u001b[0mplt\u001b[0m\u001b[1;33m\u001b[0m\u001b[1;33m\u001b[0m\u001b[0m\n\u001b[0;32m      5\u001b[0m \u001b[1;32mimport\u001b[0m \u001b[0mseaborn\u001b[0m\u001b[1;33m\u001b[0m\u001b[1;33m\u001b[0m\u001b[0m\n",
      "\u001b[1;31mModuleNotFoundError\u001b[0m: No module named 'keras'"
     ]
    },
    {
     "name": "stdout",
     "output_type": "stream",
     "text": [
      "time: 2.5 s\n"
     ]
    }
   ],
   "source": [
    "import pandas  as pd\n",
    "import numpy   as np\n",
    "import keras\n",
    "import matplotlib.pyplot as plt\n",
    "import seaborn\n",
    "from bj_helper.pandas_content   import *\n",
    "from bj_helper.pandas           import *\n",
    "from bj_helper.pandas_analyse   import *\n",
    "from bj_helper.keras            import see"
   ]
  },
  {
   "cell_type": "markdown",
   "metadata": {},
   "source": [
    "## Pokemon-Tabelle"
   ]
  },
  {
   "cell_type": "code",
   "execution_count": null,
   "metadata": {},
   "outputs": [],
   "source": [
    "# Read dataset\n",
    "df = pd.read_csv('pokemon.csv', index_col=0)"
   ]
  },
  {
   "cell_type": "code",
   "execution_count": null,
   "metadata": {},
   "outputs": [],
   "source": [
    "grid(df)"
   ]
  },
  {
   "cell_type": "code",
   "execution_count": null,
   "metadata": {},
   "outputs": [],
   "source": [
    "# Scatterplot\n",
    "seaborn.lmplot(x='Attack', y='Defense', data=df)"
   ]
  },
  {
   "cell_type": "code",
   "execution_count": null,
   "metadata": {},
   "outputs": [],
   "source": [
    "# Ändern der Größe geht nur mit regplot\n",
    "plt.figure(figsize=(16, 4))\n",
    "seaborn.regplot(x='Attack', y='Defense', data=df)"
   ]
  },
  {
   "cell_type": "code",
   "execution_count": null,
   "metadata": {},
   "outputs": [],
   "source": [
    "# Scatterplot arguments\n",
    "seaborn.lmplot( data=df,\n",
    "                x='Attack',  \n",
    "                y='Defense',\n",
    "                hue='Stage',   # Color by evolution stage\n",
    "                fit_reg=False) # No regression line"
   ]
  },
  {
   "cell_type": "code",
   "execution_count": null,
   "metadata": {},
   "outputs": [],
   "source": [
    "# Boxplot\n",
    "seaborn.boxplot(data=df)"
   ]
  },
  {
   "cell_type": "code",
   "execution_count": null,
   "metadata": {},
   "outputs": [],
   "source": [
    "# Set theme\n",
    "#seaborn.set_style('whitegrid')\n",
    "\n",
    "# Größe ändern\n",
    "plt.figure(figsize=(16, 4))\n",
    " \n",
    "# Violin plot\n",
    "seaborn.violinplot(x='Type 1', y='Attack', data=df)"
   ]
  },
  {
   "cell_type": "code",
   "execution_count": null,
   "metadata": {},
   "outputs": [],
   "source": [
    "# Größe ändern\n",
    "plt.figure(figsize=(14, 4))\n",
    "\n",
    "# Swarm plot with Pokemon color palette\n",
    "seaborn.swarmplot(x='Type 1', y='Attack', data=df)"
   ]
  },
  {
   "cell_type": "code",
   "execution_count": null,
   "metadata": {},
   "outputs": [],
   "source": [
    "# Distribution Plot (a.k.a. Histogram)\n",
    "seaborn.distplot(df.Attack)"
   ]
  },
  {
   "cell_type": "code",
   "execution_count": null,
   "metadata": {},
   "outputs": [],
   "source": [
    "seaborn.countplot(df.Attack)"
   ]
  },
  {
   "cell_type": "code",
   "execution_count": null,
   "metadata": {},
   "outputs": [],
   "source": [
    "# Count Plot (a.k.a. Bar Plot)\n",
    "seaborn.countplot(x='Type 1', data=df)\n",
    " \n",
    "# Rotate x-labels\n",
    "plt.xticks(rotation=-45)"
   ]
  },
  {
   "cell_type": "code",
   "execution_count": null,
   "metadata": {},
   "outputs": [],
   "source": [
    "# Factor Plot\n",
    "g = seaborn.catplot(x='Type 1', \n",
    "                    y='Attack', \n",
    "                    data=df, \n",
    "                    hue='Stage',  # Color by stage\n",
    "                    col='Stage',  # Separate by stage\n",
    "                    kind='swarm') # Swarmplot\n",
    " \n",
    "# Rotate x-axis labels\n",
    "g.set_xticklabels(rotation=-45)\n",
    " \n",
    "# Doesn't work because only rotates last plot\n",
    "# plt.xticks(rotation=-45)"
   ]
  },
  {
   "cell_type": "code",
   "execution_count": null,
   "metadata": {},
   "outputs": [],
   "source": [
    "# Density Plot\n",
    "# Density plots display the distribution between two variables.\n",
    "seaborn.kdeplot(df.Attack, df.Defense)"
   ]
  },
  {
   "cell_type": "code",
   "execution_count": null,
   "metadata": {},
   "outputs": [],
   "source": [
    "# Joint Distribution Plot\n",
    "seaborn.jointplot(x='Attack', y='Defense', data=df)"
   ]
  },
  {
   "cell_type": "markdown",
   "metadata": {},
   "source": [
    "## Keras-Dataset"
   ]
  },
  {
   "cell_type": "code",
   "execution_count": null,
   "metadata": {},
   "outputs": [],
   "source": [
    "# Daten laden\n",
    "from keras.datasets import boston_housing\n",
    "\n",
    "# train_data, train_targets, test_data, test_targets\n",
    "(x_train0,    y_train0),    (x_test0,   y_test0) = boston_housing.load_data()"
   ]
  },
  {
   "cell_type": "code",
   "execution_count": null,
   "metadata": {},
   "outputs": [],
   "source": [
    "see(y_train0)"
   ]
  },
  {
   "cell_type": "code",
   "execution_count": null,
   "metadata": {},
   "outputs": [],
   "source": [
    "y_train_df = pd.DataFrame(y_train0, columns=['Preis'])\n",
    "y_train_df['Preis'] *= 1000\n",
    "grid(y_train_df)"
   ]
  },
  {
   "cell_type": "code",
   "execution_count": null,
   "metadata": {},
   "outputs": [],
   "source": [
    "seaborn.distplot(y_train_df)\n"
   ]
  },
  {
   "cell_type": "code",
   "execution_count": null,
   "metadata": {},
   "outputs": [],
   "source": [
    "x_train_df = pd.DataFrame(x_train0, columns=list('ABCDEFGHIJKLM'))\n",
    "grid(x_train_df)"
   ]
  },
  {
   "cell_type": "code",
   "execution_count": null,
   "metadata": {},
   "outputs": [],
   "source": [
    "# Größe ändern\n",
    "plt.figure(figsize=(10, 4))\n",
    "\n",
    "# Boxplot\n",
    "seaborn.boxplot(data=x_train_df)"
   ]
  },
  {
   "cell_type": "code",
   "execution_count": null,
   "metadata": {},
   "outputs": [],
   "source": [
    "# Normalisieren\n",
    "\n",
    "# Mittelwert und Standardabweichung berechnen (ergibt jeweils ein Array)\n",
    "mean = x_train0.mean(axis=0)\n",
    "std  = x_train0.std(axis=0)\n",
    "\n",
    "# normalisieren\n",
    "x_train1 = x_train0 - mean \n",
    "x_train1 /= std\n",
    "\n",
    "# Testdaten auch normieren. Es ist richtig, dass dafür die Parameter aus den Trainingsdaten verwendet werden!!\n",
    "x_test1 = x_test0 - mean \n",
    "x_test1 /= std"
   ]
  },
  {
   "cell_type": "code",
   "execution_count": null,
   "metadata": {},
   "outputs": [],
   "source": [
    "# Visualisieren\n",
    "x_train_df = pd.DataFrame(x_train1, columns=list('ABCDEFGHIJKLM'))\n",
    "plt.figure(figsize=(16, 8))\n",
    "seaborn.boxplot(data=x_train_df, showmeans=True)\n",
    "\n",
    "# geht auch: Numpy-Array direkt visualisieren\n",
    "# seaborn.boxplot(data=x_train1)"
   ]
  },
  {
   "cell_type": "markdown",
   "metadata": {},
   "source": [
    "## Trainingskurve mit Rauschen\n",
    "* Quelle: https://stackoverflow.com/questions/48254090/numpy-how-to-generate-a-random-noisy-curve-resembling-a-training-curve"
   ]
  },
  {
   "cell_type": "code",
   "execution_count": null,
   "metadata": {},
   "outputs": [],
   "source": [
    "import scipy\n",
    "\n",
    "# Parameter\n",
    "rauschen = 10\n",
    "\n",
    "# Kurve erzeugen\n",
    "x = np.arange(2000)\n",
    "y = 0.00025 + 0.001 * np.exp(-x/100.) + scipy.stats.gamma(rauschen).rvs(len(x)) * (1-np.exp(-x/100)) * 2e-5\n",
    "\n",
    "# In Dataframe wandeln\n",
    "training = pd.DataFrame(y)\n",
    "training['i'] = training.index # Index immer als extra Zeile! Sonst kommt seaborn durcheinander.\n",
    "training.columns=['mae','i']\n",
    "\n",
    "# visualisieren\n",
    "plt.figure(figsize=(16, 4))\n",
    "seaborn.lineplot(data=training, x='i', y='mae')"
   ]
  },
  {
   "cell_type": "code",
   "execution_count": null,
   "metadata": {},
   "outputs": [],
   "source": [
    "#grid(training)"
   ]
  },
  {
   "cell_type": "code",
   "execution_count": null,
   "metadata": {},
   "outputs": [],
   "source": [
    "# visualisieren\n",
    "# Order legt ein Polynom n-ter Ordnung durch die Punkte\n",
    "plt.figure(figsize=(16, 4))\n",
    "seaborn.regplot(data=training, x='i', y='mae', order=5, scatter_kws={\"color\": \"black\"}, line_kws={\"color\": \"red\"})"
   ]
  },
  {
   "cell_type": "code",
   "execution_count": null,
   "metadata": {},
   "outputs": [],
   "source": []
  }
 ],
 "metadata": {
  "kernelspec": {
   "display_name": "Python 3 (ipykernel)",
   "language": "python",
   "name": "python3"
  },
  "language_info": {
   "codemirror_mode": {
    "name": "ipython",
    "version": 3
   },
   "file_extension": ".py",
   "mimetype": "text/x-python",
   "name": "python",
   "nbconvert_exporter": "python",
   "pygments_lexer": "ipython3",
   "version": "3.8.12"
  }
 },
 "nbformat": 4,
 "nbformat_minor": 4
}
