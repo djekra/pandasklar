{
 "cells": [
  {
   "cell_type": "markdown",
   "id": "a4547f78-251b-45b5-a478-27dc691d193b",
   "metadata": {},
   "source": [
    "## Local install"
   ]
  },
  {
   "cell_type": "code",
   "execution_count": 1,
   "id": "266f2dca-3daf-4091-9571-68eff79de8eb",
   "metadata": {},
   "outputs": [
    {
     "name": "stdout",
     "output_type": "stream",
     "text": [
      "blab init\n",
      "blab found local libs at /mnt/DATA/Dropbox/31_Projekte/01_Python/libs\n",
      "Start Time: 17:48:18\n"
     ]
    },
    {
     "data": {
      "text/html": [
       "<img src onerror=\"var cell = this.closest('.jp-CodeCell');var editor = cell.querySelector('.jp-Editor');editor.style.background='Beige';this.parentNode.removeChild(this)\">"
      ],
      "text/plain": [
       "<IPython.core.display.HTML object>"
      ]
     },
     "metadata": {},
     "output_type": "display_data"
    },
    {
     "name": "stdout",
     "output_type": "stream",
     "text": [
      "time: 703 ms (started: 2022-09-13 17:48:18 +02:00)\n"
     ]
    }
   ],
   "source": [
    "# blab init\n",
    "import blab\n",
    "startup_notebook = blab.blab_startup()\n",
    "%run $startup_notebook"
   ]
  },
  {
   "cell_type": "code",
   "execution_count": 2,
   "id": "30be06b0-90b1-41b1-a63d-9cec8e4a05ab",
   "metadata": {},
   "outputs": [
    {
     "name": "stdout",
     "output_type": "stream",
     "text": [
      "Found existing installation: bpyth 0.0.9\n",
      "Uninstalling bpyth-0.0.9:\n",
      "  Would remove:\n",
      "    /home/a/anaconda3/envs/bjpython/bin/bpyth\n",
      "    /home/a/anaconda3/envs/bjpython/lib/python3.8/site-packages/bpyth-0.0.9.dist-info/*\n",
      "    /home/a/anaconda3/envs/bjpython/lib/python3.8/site-packages/bpyth/*\n",
      "Proceed (Y/n)?   Successfully uninstalled bpyth-0.0.9\n",
      "time: 826 ms (started: 2022-09-13 17:48:19 +02:00)\n"
     ]
    }
   ],
   "source": [
    "# uninstall\n",
    "!printf 'y\\n' | pip uninstall pandasklar"
   ]
  },
  {
   "cell_type": "code",
   "execution_count": 3,
   "id": "f345ee0f-748f-40be-8578-8ad4ac4d9fe3",
   "metadata": {},
   "outputs": [
    {
     "name": "stdout",
     "output_type": "stream",
     "text": [
      "Obtaining file:///mnt/DATA/Dropbox/31_Projekte/01_Python/git/bpyth\n",
      "  Installing build dependencies ... \u001b[?25ldone\n",
      "\u001b[?25h  Checking if build backend supports build_editable ... \u001b[?25ldone\n",
      "\u001b[?25h  Getting requirements to build editable ... \u001b[?25ldone\n",
      "\u001b[?25h  Preparing editable metadata (pyproject.toml) ... \u001b[?25ldone\n",
      "\u001b[?25hBuilding wheels for collected packages: bpyth\n",
      "  Building editable for bpyth (pyproject.toml) ... \u001b[?25ldone\n",
      "\u001b[?25h  Created wheel for bpyth: filename=bpyth-0.0.10-0.editable-py3-none-any.whl size=2493 sha256=9990abae282037a8eef190766ffc672d87f18121b701c606e21e47219d6f735a\n",
      "  Stored in directory: /tmp/pip-ephem-wheel-cache-t9ce1a8q/wheels/6e/1c/f9/103f9d44e72097ab534e5df52d4201163e9fccca7d908d2837\n",
      "Successfully built bpyth\n",
      "Installing collected packages: bpyth\n",
      "Successfully installed bpyth-0.0.10\n",
      "time: 9.98 s (started: 2022-09-13 17:48:20 +02:00)\n"
     ]
    }
   ],
   "source": [
    "# install locally\n",
    "!python -m pip install -e ."
   ]
  },
  {
   "cell_type": "code",
   "execution_count": 4,
   "id": "8cec0e88-e3c2-4020-b9c9-176bcd255c46",
   "metadata": {},
   "outputs": [
    {
     "name": "stdout",
     "output_type": "stream",
     "text": [
      "Name: bpyth\n",
      "Version: 0.0.10\n",
      "Summary: Various Python Tools\n",
      "Home-page: \n",
      "Author: \n",
      "Author-email: djekra <hopsalla@gmail.com>\n",
      "License: MIT\n",
      "Location: /home/a/anaconda3/envs/bjpython/lib/python3.8/site-packages\n",
      "Requires: \n",
      "Required-by: blab\n",
      "time: 2.9 s (started: 2022-09-13 17:48:30 +02:00)\n"
     ]
    }
   ],
   "source": [
    "# show\n",
    "!pip show pandasklar"
   ]
  },
  {
   "cell_type": "code",
   "execution_count": 5,
   "id": "baf8f2b6-2bb4-4460-b654-f4454bfec48f",
   "metadata": {},
   "outputs": [
    {
     "name": "stdout",
     "output_type": "stream",
     "text": [
      "time: 24.3 ms (started: 2022-09-13 17:48:33 +02:00)\n"
     ]
    }
   ],
   "source": [
    "# test import\n",
    "import pandasklar as pak"
   ]
  },
  {
   "cell_type": "code",
   "execution_count": 6,
   "id": "43f0bbdd-2df6-4534-a86e-77657d0329da",
   "metadata": {},
   "outputs": [
    {
     "name": "stdout",
     "output_type": "stream",
     "text": [
      "bpyth Hello World\n",
      "time: 282 ms (started: 2022-09-13 17:48:33 +02:00)\n"
     ]
    }
   ],
   "source": [
    "# test script\n",
    "!pandasklar"
   ]
  },
  {
   "cell_type": "markdown",
   "id": "efa2c656-785f-45b7-a3b5-a9ae251bce06",
   "metadata": {},
   "source": [
    "## build"
   ]
  },
  {
   "cell_type": "code",
   "execution_count": 7,
   "id": "f20cbd4d-b38b-4bc9-a750-b14851fb174b",
   "metadata": {},
   "outputs": [
    {
     "name": "stdout",
     "output_type": "stream",
     "text": [
      "time: 3.07 s (started: 2022-09-13 17:48:33 +02:00)\n"
     ]
    }
   ],
   "source": [
    "!pip install -q build"
   ]
  },
  {
   "cell_type": "code",
   "execution_count": 8,
   "id": "c745f5da-d6e4-408a-aa73-1166ccc6fd5b",
   "metadata": {},
   "outputs": [
    {
     "name": "stdout",
     "output_type": "stream",
     "text": [
      "\u001b[1m* Creating venv isolated environment...\u001b[0m\n",
      "\u001b[1m* Installing packages in isolated environment... (setuptools>=61.0.0, wheel)\u001b[0m\n",
      "\u001b[1m* Getting dependencies for sdist...\u001b[0m\n",
      "/tmp/build-env-_umoc96g/lib/python3.8/site-packages/setuptools/config/pyprojecttoml.py:108: _BetaConfiguration: Support for `[tool.setuptools]` in `pyproject.toml` is still *beta*.\n",
      "  warnings.warn(msg, _BetaConfiguration)\n",
      "running egg_info\n",
      "writing src/bpyth.egg-info/PKG-INFO\n",
      "writing dependency_links to src/bpyth.egg-info/dependency_links.txt\n",
      "writing entry points to src/bpyth.egg-info/entry_points.txt\n",
      "writing top-level names to src/bpyth.egg-info/top_level.txt\n",
      "reading manifest file 'src/bpyth.egg-info/SOURCES.txt'\n",
      "adding license file 'LICENSE'\n",
      "writing manifest file 'src/bpyth.egg-info/SOURCES.txt'\n",
      "\u001b[1m* Building sdist...\u001b[0m\n",
      "/tmp/build-env-_umoc96g/lib/python3.8/site-packages/setuptools/config/pyprojecttoml.py:108: _BetaConfiguration: Support for `[tool.setuptools]` in `pyproject.toml` is still *beta*.\n",
      "  warnings.warn(msg, _BetaConfiguration)\n",
      "running sdist\n",
      "running egg_info\n",
      "writing src/bpyth.egg-info/PKG-INFO\n",
      "writing dependency_links to src/bpyth.egg-info/dependency_links.txt\n",
      "writing entry points to src/bpyth.egg-info/entry_points.txt\n",
      "writing top-level names to src/bpyth.egg-info/top_level.txt\n",
      "reading manifest file 'src/bpyth.egg-info/SOURCES.txt'\n",
      "adding license file 'LICENSE'\n",
      "writing manifest file 'src/bpyth.egg-info/SOURCES.txt'\n",
      "running check\n",
      "creating bpyth-0.0.10\n",
      "creating bpyth-0.0.10/src\n",
      "creating bpyth-0.0.10/src/bpyth\n",
      "creating bpyth-0.0.10/src/bpyth.egg-info\n",
      "copying files to bpyth-0.0.10...\n",
      "copying LICENSE -> bpyth-0.0.10\n",
      "copying README.md -> bpyth-0.0.10\n",
      "copying pyproject.toml -> bpyth-0.0.10\n",
      "copying src/bpyth/__init__.py -> bpyth-0.0.10/src/bpyth\n",
      "copying src/bpyth/__main__.py -> bpyth-0.0.10/src/bpyth\n",
      "copying src/bpyth/bpyth_files.py -> bpyth-0.0.10/src/bpyth\n",
      "copying src/bpyth/bpyth_human.py -> bpyth-0.0.10/src/bpyth\n",
      "copying src/bpyth/bpyth_iterable.py -> bpyth-0.0.10/src/bpyth\n",
      "copying src/bpyth/bpyth_object_analysis.py -> bpyth-0.0.10/src/bpyth\n",
      "copying src/bpyth/bpyth_string.py -> bpyth-0.0.10/src/bpyth\n",
      "copying src/bpyth/bpyth_tools.py -> bpyth-0.0.10/src/bpyth\n",
      "copying src/bpyth.egg-info/PKG-INFO -> bpyth-0.0.10/src/bpyth.egg-info\n",
      "copying src/bpyth.egg-info/SOURCES.txt -> bpyth-0.0.10/src/bpyth.egg-info\n",
      "copying src/bpyth.egg-info/dependency_links.txt -> bpyth-0.0.10/src/bpyth.egg-info\n",
      "copying src/bpyth.egg-info/entry_points.txt -> bpyth-0.0.10/src/bpyth.egg-info\n",
      "copying src/bpyth.egg-info/top_level.txt -> bpyth-0.0.10/src/bpyth.egg-info\n",
      "Writing bpyth-0.0.10/setup.cfg\n",
      "Creating tar archive\n",
      "removing 'bpyth-0.0.10' (and everything under it)\n",
      "\u001b[1m* Building wheel from sdist\u001b[0m\n",
      "\u001b[1m* Creating venv isolated environment...\u001b[0m\n",
      "\u001b[1m* Installing packages in isolated environment... (setuptools>=61.0.0, wheel)\u001b[0m\n",
      "\u001b[1m* Getting dependencies for wheel...\u001b[0m\n",
      "/tmp/build-env-9j6ykvsw/lib/python3.8/site-packages/setuptools/config/pyprojecttoml.py:108: _BetaConfiguration: Support for `[tool.setuptools]` in `pyproject.toml` is still *beta*.\n",
      "  warnings.warn(msg, _BetaConfiguration)\n",
      "running egg_info\n",
      "writing src/bpyth.egg-info/PKG-INFO\n",
      "writing dependency_links to src/bpyth.egg-info/dependency_links.txt\n",
      "writing entry points to src/bpyth.egg-info/entry_points.txt\n",
      "writing top-level names to src/bpyth.egg-info/top_level.txt\n",
      "reading manifest file 'src/bpyth.egg-info/SOURCES.txt'\n",
      "adding license file 'LICENSE'\n",
      "writing manifest file 'src/bpyth.egg-info/SOURCES.txt'\n",
      "\u001b[1m* Installing packages in isolated environment... (wheel)\u001b[0m\n",
      "\u001b[1m* Building wheel...\u001b[0m\n",
      "/tmp/build-env-9j6ykvsw/lib/python3.8/site-packages/setuptools/config/pyprojecttoml.py:108: _BetaConfiguration: Support for `[tool.setuptools]` in `pyproject.toml` is still *beta*.\n",
      "  warnings.warn(msg, _BetaConfiguration)\n",
      "running bdist_wheel\n",
      "running build\n",
      "running build_py\n",
      "creating build\n",
      "creating build/lib\n",
      "creating build/lib/bpyth\n",
      "copying src/bpyth/bpyth_string.py -> build/lib/bpyth\n",
      "copying src/bpyth/__init__.py -> build/lib/bpyth\n",
      "copying src/bpyth/bpyth_object_analysis.py -> build/lib/bpyth\n",
      "copying src/bpyth/bpyth_human.py -> build/lib/bpyth\n",
      "copying src/bpyth/bpyth_tools.py -> build/lib/bpyth\n",
      "copying src/bpyth/__main__.py -> build/lib/bpyth\n",
      "copying src/bpyth/bpyth_iterable.py -> build/lib/bpyth\n",
      "copying src/bpyth/bpyth_files.py -> build/lib/bpyth\n",
      "running egg_info\n",
      "writing src/bpyth.egg-info/PKG-INFO\n",
      "writing dependency_links to src/bpyth.egg-info/dependency_links.txt\n",
      "writing entry points to src/bpyth.egg-info/entry_points.txt\n",
      "writing top-level names to src/bpyth.egg-info/top_level.txt\n",
      "reading manifest file 'src/bpyth.egg-info/SOURCES.txt'\n",
      "adding license file 'LICENSE'\n",
      "writing manifest file 'src/bpyth.egg-info/SOURCES.txt'\n",
      "installing to build/bdist.linux-x86_64/wheel\n",
      "running install\n",
      "running install_lib\n",
      "creating build/bdist.linux-x86_64\n",
      "creating build/bdist.linux-x86_64/wheel\n",
      "creating build/bdist.linux-x86_64/wheel/bpyth\n",
      "copying build/lib/bpyth/bpyth_string.py -> build/bdist.linux-x86_64/wheel/bpyth\n",
      "copying build/lib/bpyth/__init__.py -> build/bdist.linux-x86_64/wheel/bpyth\n",
      "copying build/lib/bpyth/bpyth_object_analysis.py -> build/bdist.linux-x86_64/wheel/bpyth\n",
      "copying build/lib/bpyth/bpyth_human.py -> build/bdist.linux-x86_64/wheel/bpyth\n",
      "copying build/lib/bpyth/bpyth_tools.py -> build/bdist.linux-x86_64/wheel/bpyth\n",
      "copying build/lib/bpyth/__main__.py -> build/bdist.linux-x86_64/wheel/bpyth\n",
      "copying build/lib/bpyth/bpyth_iterable.py -> build/bdist.linux-x86_64/wheel/bpyth\n",
      "copying build/lib/bpyth/bpyth_files.py -> build/bdist.linux-x86_64/wheel/bpyth\n",
      "running install_egg_info\n",
      "Copying src/bpyth.egg-info to build/bdist.linux-x86_64/wheel/bpyth-0.0.10-py3.8.egg-info\n",
      "running install_scripts\n",
      "adding license file \"LICENSE\" (matched pattern \"LICEN[CS]E*\")\n",
      "creating build/bdist.linux-x86_64/wheel/bpyth-0.0.10.dist-info/WHEEL\n",
      "creating '/mnt/DATA/Dropbox/31_Projekte/01_Python/git/bpyth/dist/tmp_xdq69wp/bpyth-0.0.10-py3-none-any.whl' and adding 'build/bdist.linux-x86_64/wheel' to it\n",
      "adding 'bpyth/__init__.py'\n",
      "adding 'bpyth/__main__.py'\n",
      "adding 'bpyth/bpyth_files.py'\n",
      "adding 'bpyth/bpyth_human.py'\n",
      "adding 'bpyth/bpyth_iterable.py'\n",
      "adding 'bpyth/bpyth_object_analysis.py'\n",
      "adding 'bpyth/bpyth_string.py'\n",
      "adding 'bpyth/bpyth_tools.py'\n",
      "adding 'bpyth-0.0.10.dist-info/LICENSE'\n",
      "adding 'bpyth-0.0.10.dist-info/METADATA'\n",
      "adding 'bpyth-0.0.10.dist-info/WHEEL'\n",
      "adding 'bpyth-0.0.10.dist-info/entry_points.txt'\n",
      "adding 'bpyth-0.0.10.dist-info/top_level.txt'\n",
      "adding 'bpyth-0.0.10.dist-info/RECORD'\n",
      "removing build/bdist.linux-x86_64/wheel\n",
      "\u001b[1m\u001b[92mSuccessfully built \u001b[4mbpyth-0.0.10.tar.gz\u001b[0m\u001b[1m\u001b[92m and \u001b[4mbpyth-0.0.10-py3-none-any.whl\u001b[0m\u001b[1m\u001b[92m\u001b[0m\n",
      "\u001b[0mtime: 13 s (started: 2022-09-13 17:48:36 +02:00)\n"
     ]
    }
   ],
   "source": [
    "!python -m build"
   ]
  },
  {
   "cell_type": "markdown",
   "id": "e6b13397-01f2-4ffb-9668-dc9a58196db9",
   "metadata": {},
   "source": [
    "## Publish on github"
   ]
  },
  {
   "cell_type": "code",
   "execution_count": 9,
   "id": "d444d5d8-ddb6-451e-9300-fa6424dde8f0",
   "metadata": {},
   "outputs": [
    {
     "name": "stdout",
     "output_type": "stream",
     "text": [
      "Auf Branch master\n",
      "Ihr Branch ist 1 Commit vor 'origin/master'.\n",
      "  (benutzen Sie \"git push\", um lokale Commits zu publizieren)\n",
      "\n",
      "Änderungen, die nicht zum Commit vorgemerkt sind:\n",
      "  (benutzen Sie \"git add/rm <Datei>...\", um die Änderungen zum Commit vorzumerken)\n",
      "  (benutzen Sie \"git restore <Datei>...\", um die Änderungen im Arbeitsverzeichnis zu verwerfen)\n",
      "\t\u001b[31mgeändert:       .gitignore\u001b[m\n",
      "\t\u001b[31mgelöscht:       jupyter/00_Test.ipynb\u001b[m\n",
      "\t\u001b[31mgeändert:       jupyter/10_Files.ipynb\u001b[m\n",
      "\t\u001b[31mgeändert:       jupyter/15_Human.ipynb\u001b[m\n",
      "\t\u001b[31mgeändert:       jupyter/20_Iterable.ipynb\u001b[m\n",
      "\t\u001b[31mgeändert:       jupyter/22_Object_Analysis.ipynb\u001b[m\n",
      "\t\u001b[31mgeändert:       jupyter/24_Strings.ipynb\u001b[m\n",
      "\t\u001b[31mgelöscht:       jupyter/98___blab_tools.ipynb\u001b[m\n",
      "\t\u001b[31mgeändert:       jupyter/99___run_all.ipynb\u001b[m\n",
      "\t\u001b[31mgeändert:       jupyter/nb_out/10_Files.ipynb\u001b[m\n",
      "\t\u001b[31mgeändert:       jupyter/nb_out/15_Human.ipynb\u001b[m\n",
      "\t\u001b[31mgeändert:       jupyter/nb_out/20_Iterable.ipynb\u001b[m\n",
      "\t\u001b[31mgeändert:       jupyter/nb_out/22_Object_Analysis.ipynb\u001b[m\n",
      "\t\u001b[31mgeändert:       jupyter/nb_out/24_Strings.ipynb\u001b[m\n",
      "\t\u001b[31mgeändert:       publish.ipynb\u001b[m\n",
      "\t\u001b[31mgeändert:       pyproject.toml\u001b[m\n",
      "\n",
      "keine Änderungen zum Commit vorgemerkt (benutzen Sie \"git add\" und/oder \"git commit -a\")\n",
      "time: 233 ms (started: 2022-09-13 17:48:49 +02:00)\n"
     ]
    }
   ],
   "source": [
    "!git status"
   ]
  },
  {
   "cell_type": "code",
   "execution_count": 10,
   "id": "a9a7e740-2661-43c1-9743-bef78afaba54",
   "metadata": {},
   "outputs": [
    {
     "name": "stdout",
     "output_type": "stream",
     "text": [
      "time: 140 ms (started: 2022-09-13 17:48:50 +02:00)\n"
     ]
    }
   ],
   "source": [
    "!git add --all"
   ]
  },
  {
   "cell_type": "code",
   "execution_count": 11,
   "id": "f5ed7e73-e40b-4de9-858d-54a1530018cb",
   "metadata": {},
   "outputs": [
    {
     "name": "stdout",
     "output_type": "stream",
     "text": [
      "[master 194e96c] 2\n",
      " 15 files changed, 925 insertions(+), 1104 deletions(-)\n",
      " rename jupyter/{00_Test.ipynb => 15_Human.ipynb} (52%)\n",
      " delete mode 100644 jupyter/98___blab_tools.ipynb\n",
      "time: 450 ms (started: 2022-09-13 17:48:50 +02:00)\n"
     ]
    }
   ],
   "source": [
    "!git commit -m \"2\""
   ]
  },
  {
   "cell_type": "code",
   "execution_count": 12,
   "id": "fc1bb674-46b3-4d13-98aa-d24f62df0bf7",
   "metadata": {},
   "outputs": [
    {
     "name": "stdout",
     "output_type": "stream",
     "text": [
      "Stop Time:  17:48:50\n",
      "Elapsed:    31 secs\n"
     ]
    },
    {
     "data": {
      "text/html": [
       "<img src onerror=\"var cell = this.closest('.jp-CodeCell');var editor = cell.querySelector('.jp-Editor');editor.style.background='DarkGray';this.parentNode.removeChild(this)\">"
      ],
      "text/plain": [
       "<IPython.core.display.HTML object>"
      ]
     },
     "metadata": {},
     "output_type": "display_data"
    },
    {
     "name": "stdout",
     "output_type": "stream",
     "text": [
      "time: 18.8 ms (started: 2022-09-13 17:48:50 +02:00)\n"
     ]
    }
   ],
   "source": [
    "raise Stop"
   ]
  },
  {
   "cell_type": "code",
   "execution_count": null,
   "id": "9d44e586-3194-4030-bf4b-d84e6868e09e",
   "metadata": {},
   "outputs": [],
   "source": [
    "#!git push origin master"
   ]
  },
  {
   "cell_type": "markdown",
   "id": "e2a85c3a-499b-4601-9224-d15393a95c0a",
   "metadata": {},
   "source": [
    "https://github.com/djekra/pandasklar"
   ]
  },
  {
   "cell_type": "markdown",
   "id": "ebfa6700-36d7-41a9-a138-d1a4d4ed1549",
   "metadata": {},
   "source": [
    "## Publish on pypi.org"
   ]
  },
  {
   "cell_type": "code",
   "execution_count": null,
   "id": "53726bc4-f1eb-45a3-add1-a00628d7b96d",
   "metadata": {},
   "outputs": [],
   "source": [
    "# Publish on test.pypi.org\n",
    "#python -m twine upload --repository testpypi --skip-existing dist/* "
   ]
  },
  {
   "cell_type": "code",
   "execution_count": null,
   "id": "728f5d18-ec4e-4392-8f97-cedaad41e431",
   "metadata": {},
   "outputs": [],
   "source": [
    "# Publish on pypi.org\n",
    "#python -m twine upload dist/* "
   ]
  },
  {
   "cell_type": "markdown",
   "id": "272ecb73-e6e3-4ee5-afdf-1ae39431c188",
   "metadata": {},
   "source": [
    "https://pypi.org/project/pandasklar/"
   ]
  },
  {
   "cell_type": "markdown",
   "id": "16c9f64f-40af-41ac-90db-f802bb8f73c1",
   "metadata": {},
   "source": [
    "## Test from PyPi"
   ]
  },
  {
   "cell_type": "code",
   "execution_count": 13,
   "id": "3af8896f-3f40-4d28-a365-fc4c0cb4228f",
   "metadata": {},
   "outputs": [
    {
     "name": "stdout",
     "output_type": "stream",
     "text": [
      "Found existing installation: bpyth 0.0.10\n",
      "Uninstalling bpyth-0.0.10:\n",
      "  Would remove:\n",
      "    /home/a/anaconda3/envs/bjpython/bin/bpyth\n",
      "    /home/a/anaconda3/envs/bjpython/lib/python3.8/site-packages/__editable__.bpyth-0.0.10.pth\n",
      "    /home/a/anaconda3/envs/bjpython/lib/python3.8/site-packages/bpyth-0.0.10.dist-info/*\n",
      "Proceed (Y/n)?   Successfully uninstalled bpyth-0.0.10\n",
      "time: 1.25 s (started: 2022-09-13 17:53:45 +02:00)\n"
     ]
    }
   ],
   "source": [
    "# uninstall\n",
    "!printf 'y\\n' | pip uninstall pandasklar"
   ]
  },
  {
   "cell_type": "code",
   "execution_count": 14,
   "id": "8ea8f83c-6970-424a-993d-f8e378e5faa9",
   "metadata": {},
   "outputs": [
    {
     "name": "stdout",
     "output_type": "stream",
     "text": [
      "Collecting bpyth\n",
      "  Downloading bpyth-0.0.10-py3-none-any.whl (8.5 kB)\n",
      "Installing collected packages: bpyth\n",
      "Successfully installed bpyth-0.0.10\n",
      "time: 4.14 s (started: 2022-09-13 17:53:47 +02:00)\n"
     ]
    }
   ],
   "source": [
    "!pip install pandasklar --no-cache-dir "
   ]
  },
  {
   "cell_type": "code",
   "execution_count": 15,
   "id": "5655c1d6-916d-4f5a-90aa-1877b6a5317b",
   "metadata": {},
   "outputs": [
    {
     "name": "stdout",
     "output_type": "stream",
     "text": [
      "time: 119 ms (started: 2022-09-13 17:53:51 +02:00)\n"
     ]
    }
   ],
   "source": [
    "# test import\n",
    "import pandasklar as pak"
   ]
  },
  {
   "cell_type": "code",
   "execution_count": 16,
   "id": "b1a1633d-62ad-4088-8b90-6447cc84daf6",
   "metadata": {},
   "outputs": [
    {
     "name": "stdout",
     "output_type": "stream",
     "text": [
      "bpyth Hello World\n",
      "time: 219 ms (started: 2022-09-13 17:53:51 +02:00)\n"
     ]
    }
   ],
   "source": [
    "# test script\n",
    "!pandasklar"
   ]
  },
  {
   "cell_type": "code",
   "execution_count": 17,
   "id": "d734da84-24da-4fa9-8a12-139486f7bf76",
   "metadata": {},
   "outputs": [
    {
     "data": {
      "text/plain": [
       "'0.0.10'"
      ]
     },
     "execution_count": 17,
     "metadata": {},
     "output_type": "execute_result"
    },
    {
     "name": "stdout",
     "output_type": "stream",
     "text": [
      "time: 29.4 ms (started: 2022-09-13 17:53:51 +02:00)\n"
     ]
    }
   ],
   "source": [
    "# show version\n",
    "from importlib.metadata import version  \n",
    "version('pandasklar')  "
   ]
  }
 ],
 "metadata": {
  "kernelspec": {
   "display_name": "Python 3 (ipykernel)",
   "language": "python",
   "name": "python3"
  },
  "language_info": {
   "codemirror_mode": {
    "name": "ipython",
    "version": 3
   },
   "file_extension": ".py",
   "mimetype": "text/x-python",
   "name": "python",
   "nbconvert_exporter": "python",
   "pygments_lexer": "ipython3",
   "version": "3.8.12"
  }
 },
 "nbformat": 4,
 "nbformat_minor": 5
}
