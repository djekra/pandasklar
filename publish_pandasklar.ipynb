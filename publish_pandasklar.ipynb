{
 "cells": [
  {
   "cell_type": "code",
   "execution_count": 1,
   "id": "368b880d-213c-4683-b7ac-22b4105e57ff",
   "metadata": {
    "execution": {
     "iopub.execute_input": "2023-07-09T19:55:10.410847Z",
     "iopub.status.busy": "2023-07-09T19:55:10.409598Z",
     "iopub.status.idle": "2023-07-09T19:55:11.248336Z",
     "shell.execute_reply": "2023-07-09T19:55:11.247736Z",
     "shell.execute_reply.started": "2023-07-09T19:55:10.410773Z"
    },
    "tags": []
   },
   "outputs": [
    {
     "name": "stdout",
     "output_type": "stream",
     "text": [
      "blab init\n",
      "environment['in_colab']     = False\n",
      "environment['dropbox_path'] = /home/me/Data_Linux/Dropbox\n",
      "environment['lib_path']     = /home/me/Data_Linux/Dropbox/31_Projekte/01_Python/libs\n",
      "Start Time: 21:55:10\n"
     ]
    },
    {
     "data": {
      "text/html": [
       "<img src onerror=\"var cell = this.closest('.jp-CodeCell');var editor = cell.querySelector('.jp-Editor');editor.style.background='Beige';this.parentNode.removeChild(this)\">"
      ],
      "text/plain": [
       "<IPython.core.display.HTML object>"
      ]
     },
     "metadata": {},
     "output_type": "display_data"
    }
   ],
   "source": [
    "# blab init\n",
    "try:\n",
    "    import blab\n",
    "    startup_notebook = blab.blab_startup()\n",
    "    %run $startup_notebook\n",
    "except:\n",
    "    pass"
   ]
  },
  {
   "cell_type": "markdown",
   "id": "cd12c4ae-a3a2-49b1-bbfe-51e52088441b",
   "metadata": {},
   "source": [
    "# Publish pandasklar"
   ]
  },
  {
   "cell_type": "code",
   "execution_count": 2,
   "id": "b8e6f59b-cef3-44eb-8ad7-733804de4bc6",
   "metadata": {
    "execution": {
     "iopub.execute_input": "2023-07-09T19:55:11.249649Z",
     "iopub.status.busy": "2023-07-09T19:55:11.249369Z",
     "iopub.status.idle": "2023-07-09T19:55:11.276274Z",
     "shell.execute_reply": "2023-07-09T19:55:11.275253Z",
     "shell.execute_reply.started": "2023-07-09T19:55:11.249628Z"
    },
    "executionInfo": {
     "elapsed": 463,
     "status": "ok",
     "timestamp": 1686173335567,
     "user": {
      "displayName": "Familie Klippstein",
      "userId": "08973939190628445877"
     },
     "user_tz": -120
    },
    "id": "wj1f-u_vOvsK"
   },
   "outputs": [
    {
     "data": {
      "text/html": [
       "<img src onerror=\"var cell = this.closest('.jp-CodeCell');var editor = cell.querySelector('.jp-Editor');editor.style.background='Beige';this.parentNode.removeChild(this)\">"
      ],
      "text/plain": [
       "<IPython.core.display.HTML object>"
      ]
     },
     "metadata": {},
     "output_type": "display_data"
    }
   ],
   "source": [
    "# Settings\n",
    "commit_message = 'datetime support'  \n",
    "\n",
    "bgc('Beige')"
   ]
  },
  {
   "cell_type": "markdown",
   "id": "4b8437a0-f586-4b27-ac6d-6dc93cf84169",
   "metadata": {},
   "source": [
    "## Create README"
   ]
  },
  {
   "cell_type": "code",
   "execution_count": 3,
   "id": "73a96aa2-8c8a-4964-8361-671d9d4bdce6",
   "metadata": {
    "execution": {
     "iopub.execute_input": "2023-07-09T19:55:11.277465Z",
     "iopub.status.busy": "2023-07-09T19:55:11.277198Z",
     "iopub.status.idle": "2023-07-09T19:55:13.801447Z",
     "shell.execute_reply": "2023-07-09T19:55:13.799224Z",
     "shell.execute_reply.started": "2023-07-09T19:55:11.277439Z"
    }
   },
   "outputs": [
    {
     "name": "stdout",
     "output_type": "stream",
     "text": [
      "[NbConvertApp] Converting notebook README.ipynb to markdown\n",
      "[NbConvertApp] Writing 9366 bytes to README.md\n"
     ]
    }
   ],
   "source": [
    "!jupyter nbconvert --ClearMetadataPreprocessor.enabled=True --ClearOutput.enabled=True --to markdown README.ipynb"
   ]
  },
  {
   "cell_type": "markdown",
   "id": "a4547f78-251b-45b5-a478-27dc691d193b",
   "metadata": {},
   "source": [
    "## Local install"
   ]
  },
  {
   "cell_type": "code",
   "execution_count": 4,
   "id": "30be06b0-90b1-41b1-a63d-9cec8e4a05ab",
   "metadata": {
    "execution": {
     "iopub.execute_input": "2023-07-09T19:55:13.829430Z",
     "iopub.status.busy": "2023-07-09T19:55:13.817273Z",
     "iopub.status.idle": "2023-07-09T19:55:17.857780Z",
     "shell.execute_reply": "2023-07-09T19:55:17.855782Z",
     "shell.execute_reply.started": "2023-07-09T19:55:13.829346Z"
    }
   },
   "outputs": [
    {
     "name": "stdout",
     "output_type": "stream",
     "text": [
      "Found existing installation: pandasklar 0.3.5\n",
      "Uninstalling pandasklar-0.3.5:\n",
      "  Successfully uninstalled pandasklar-0.3.5\n"
     ]
    }
   ],
   "source": [
    "# uninstall\n",
    "!pip uninstall -y pandasklar"
   ]
  },
  {
   "cell_type": "code",
   "execution_count": 5,
   "id": "f345ee0f-748f-40be-8578-8ad4ac4d9fe3",
   "metadata": {
    "execution": {
     "iopub.execute_input": "2023-07-09T19:55:17.859352Z",
     "iopub.status.busy": "2023-07-09T19:55:17.859032Z",
     "iopub.status.idle": "2023-07-09T19:55:29.912191Z",
     "shell.execute_reply": "2023-07-09T19:55:29.909236Z",
     "shell.execute_reply.started": "2023-07-09T19:55:17.859320Z"
    },
    "tags": []
   },
   "outputs": [],
   "source": [
    "# install locally\n",
    "!python -m pip install -q -e ."
   ]
  },
  {
   "cell_type": "code",
   "execution_count": 6,
   "id": "8cec0e88-e3c2-4020-b9c9-176bcd255c46",
   "metadata": {
    "execution": {
     "iopub.execute_input": "2023-07-09T19:55:29.918770Z",
     "iopub.status.busy": "2023-07-09T19:55:29.916698Z",
     "iopub.status.idle": "2023-07-09T19:55:34.198695Z",
     "shell.execute_reply": "2023-07-09T19:55:34.196066Z",
     "shell.execute_reply.started": "2023-07-09T19:55:29.917960Z"
    }
   },
   "outputs": [
    {
     "name": "stdout",
     "output_type": "stream",
     "text": [
      "Name: pandasklar\n",
      "Version: 0.3.6\n",
      "Summary: Toolbox / Ecosystem for data science. Easier handling of pandas, especially when thinking in SQL.\n",
      "Home-page: \n",
      "Author: \n",
      "Author-email: djekra <hopsalla@gmail.com>\n",
      "License: MIT\n",
      "Location: /home/me/mambaforge/envs/python_07/lib/python3.10/site-packages\n",
      "Editable project location: /home/me/Data_Linux/Dropbox/31_Projekte/01_Python/git/pandasklar\n",
      "Requires: blab, bpyth, numpy, pandas, perlin-noise, termcolor\n",
      "Required-by: bludwig\n"
     ]
    }
   ],
   "source": [
    "# show\n",
    "!pip show pandasklar"
   ]
  },
  {
   "cell_type": "code",
   "execution_count": 7,
   "id": "baf8f2b6-2bb4-4460-b654-f4454bfec48f",
   "metadata": {
    "execution": {
     "iopub.execute_input": "2023-07-09T19:55:34.215064Z",
     "iopub.status.busy": "2023-07-09T19:55:34.207620Z",
     "iopub.status.idle": "2023-07-09T19:55:35.787564Z",
     "shell.execute_reply": "2023-07-09T19:55:35.786902Z",
     "shell.execute_reply.started": "2023-07-09T19:55:34.214940Z"
    }
   },
   "outputs": [],
   "source": [
    "# test import\n",
    "# Wenn dies failed: Restart Kernel and Run all Cells\n",
    "import pandasklar as pak"
   ]
  },
  {
   "cell_type": "code",
   "execution_count": 8,
   "id": "43f0bbdd-2df6-4534-a86e-77657d0329da",
   "metadata": {
    "execution": {
     "iopub.execute_input": "2023-07-09T19:55:35.788671Z",
     "iopub.status.busy": "2023-07-09T19:55:35.788424Z",
     "iopub.status.idle": "2023-07-09T19:55:38.683865Z",
     "shell.execute_reply": "2023-07-09T19:55:38.680937Z",
     "shell.execute_reply.started": "2023-07-09T19:55:35.788647Z"
    }
   },
   "outputs": [
    {
     "name": "stdout",
     "output_type": "stream",
     "text": [
      "Hello pandasklar 0.3.6\n"
     ]
    }
   ],
   "source": [
    "# test script\n",
    "!pandasklar"
   ]
  },
  {
   "cell_type": "code",
   "execution_count": 9,
   "id": "64159a70-deaa-44c3-8c7b-ea315c626cb3",
   "metadata": {
    "execution": {
     "iopub.execute_input": "2023-07-09T19:55:38.693955Z",
     "iopub.status.busy": "2023-07-09T19:55:38.692209Z",
     "iopub.status.idle": "2023-07-09T19:55:38.783640Z",
     "shell.execute_reply": "2023-07-09T19:55:38.779999Z",
     "shell.execute_reply.started": "2023-07-09T19:55:38.693852Z"
    }
   },
   "outputs": [
    {
     "name": "stdout",
     "output_type": "stream",
     "text": [
      "Stop Time:  21:55:38\n",
      "Elapsed:    28 secs\n"
     ]
    },
    {
     "data": {
      "text/html": [
       "<img src onerror=\"var cell = this.closest('.jp-CodeCell');var editor = cell.querySelector('.jp-Editor');editor.style.background='DarkGray';this.parentNode.removeChild(this)\">"
      ],
      "text/plain": [
       "<IPython.core.display.HTML object>"
      ]
     },
     "metadata": {},
     "output_type": "display_data"
    }
   ],
   "source": [
    "raise Stop"
   ]
  },
  {
   "cell_type": "markdown",
   "id": "efa2c656-785f-45b7-a3b5-a9ae251bce06",
   "metadata": {},
   "source": [
    "## build"
   ]
  },
  {
   "cell_type": "code",
   "execution_count": 10,
   "id": "f20cbd4d-b38b-4bc9-a750-b14851fb174b",
   "metadata": {
    "execution": {
     "iopub.execute_input": "2023-07-09T19:55:58.164340Z",
     "iopub.status.busy": "2023-07-09T19:55:58.163233Z",
     "iopub.status.idle": "2023-07-09T19:56:03.646675Z",
     "shell.execute_reply": "2023-07-09T19:56:03.645634Z",
     "shell.execute_reply.started": "2023-07-09T19:55:58.164287Z"
    }
   },
   "outputs": [],
   "source": [
    "!pip install -q build"
   ]
  },
  {
   "cell_type": "code",
   "execution_count": 11,
   "id": "c745f5da-d6e4-408a-aa73-1166ccc6fd5b",
   "metadata": {
    "execution": {
     "iopub.execute_input": "2023-07-09T19:56:03.648880Z",
     "iopub.status.busy": "2023-07-09T19:56:03.648373Z",
     "iopub.status.idle": "2023-07-09T19:56:12.874073Z",
     "shell.execute_reply": "2023-07-09T19:56:12.871067Z",
     "shell.execute_reply.started": "2023-07-09T19:56:03.648846Z"
    }
   },
   "outputs": [
    {
     "name": "stdout",
     "output_type": "stream",
     "text": [
      "\u001b[1m* Creating virtualenv isolated environment...\u001b[0m\n",
      "\u001b[1m* Installing packages in isolated environment... (setuptools>=61.0.0, wheel)\u001b[0m\n",
      "\u001b[1m* Getting build dependencies for sdist...\u001b[0m\n",
      "/tmp/build-env-81swycgk/lib/python3.10/site-packages/setuptools/config/pyprojecttoml.py:66: _BetaConfiguration: Support for `[tool.setuptools]` in `pyproject.toml` is still *beta*.\n",
      "  config = read_configuration(filepath, True, ignore_option_errors, dist)\n",
      "running egg_info\n",
      "writing src/pandasklar.egg-info/PKG-INFO\n",
      "writing dependency_links to src/pandasklar.egg-info/dependency_links.txt\n",
      "writing entry points to src/pandasklar.egg-info/entry_points.txt\n",
      "writing requirements to src/pandasklar.egg-info/requires.txt\n",
      "writing top-level names to src/pandasklar.egg-info/top_level.txt\n",
      "reading manifest file 'src/pandasklar.egg-info/SOURCES.txt'\n",
      "adding license file 'LICENSE'\n",
      "writing manifest file 'src/pandasklar.egg-info/SOURCES.txt'\n",
      "\u001b[1m* Building sdist...\u001b[0m\n",
      "/tmp/build-env-81swycgk/lib/python3.10/site-packages/setuptools/config/pyprojecttoml.py:66: _BetaConfiguration: Support for `[tool.setuptools]` in `pyproject.toml` is still *beta*.\n",
      "  config = read_configuration(filepath, True, ignore_option_errors, dist)\n",
      "running sdist\n",
      "running egg_info\n",
      "writing src/pandasklar.egg-info/PKG-INFO\n",
      "writing dependency_links to src/pandasklar.egg-info/dependency_links.txt\n",
      "writing entry points to src/pandasklar.egg-info/entry_points.txt\n",
      "writing requirements to src/pandasklar.egg-info/requires.txt\n",
      "writing top-level names to src/pandasklar.egg-info/top_level.txt\n",
      "reading manifest file 'src/pandasklar.egg-info/SOURCES.txt'\n",
      "adding license file 'LICENSE'\n",
      "writing manifest file 'src/pandasklar.egg-info/SOURCES.txt'\n",
      "running check\n",
      "creating pandasklar-0.3.6\n",
      "creating pandasklar-0.3.6/src\n",
      "creating pandasklar-0.3.6/src/pandasklar\n",
      "creating pandasklar-0.3.6/src/pandasklar.egg-info\n",
      "copying files to pandasklar-0.3.6...\n",
      "copying LICENSE -> pandasklar-0.3.6\n",
      "copying README.md -> pandasklar-0.3.6\n",
      "copying pyproject.toml -> pandasklar-0.3.6\n",
      "copying src/pandasklar/__init__.py -> pandasklar-0.3.6/src/pandasklar\n",
      "copying src/pandasklar/__main__.py -> pandasklar-0.3.6/src/pandasklar\n",
      "copying src/pandasklar/aggregate.py -> pandasklar-0.3.6/src/pandasklar\n",
      "copying src/pandasklar/analyse.py -> pandasklar-0.3.6/src/pandasklar\n",
      "copying src/pandasklar/compare.py -> pandasklar-0.3.6/src/pandasklar\n",
      "copying src/pandasklar/config.py -> pandasklar-0.3.6/src/pandasklar\n",
      "copying src/pandasklar/content.py -> pandasklar-0.3.6/src/pandasklar\n",
      "copying src/pandasklar/develop.py -> pandasklar-0.3.6/src/pandasklar\n",
      "copying src/pandasklar/pandas.py -> pandasklar-0.3.6/src/pandasklar\n",
      "copying src/pandasklar/plot.py -> pandasklar-0.3.6/src/pandasklar\n",
      "copying src/pandasklar/rank.py -> pandasklar-0.3.6/src/pandasklar\n",
      "copying src/pandasklar/scale.py -> pandasklar-0.3.6/src/pandasklar\n",
      "copying src/pandasklar/string.py -> pandasklar-0.3.6/src/pandasklar\n",
      "copying src/pandasklar/subsets.py -> pandasklar-0.3.6/src/pandasklar\n",
      "copying src/pandasklar/type_info.py -> pandasklar-0.3.6/src/pandasklar\n",
      "copying src/pandasklar/values_info.py -> pandasklar-0.3.6/src/pandasklar\n",
      "copying src/pandasklar.egg-info/PKG-INFO -> pandasklar-0.3.6/src/pandasklar.egg-info\n",
      "copying src/pandasklar.egg-info/SOURCES.txt -> pandasklar-0.3.6/src/pandasklar.egg-info\n",
      "copying src/pandasklar.egg-info/dependency_links.txt -> pandasklar-0.3.6/src/pandasklar.egg-info\n",
      "copying src/pandasklar.egg-info/entry_points.txt -> pandasklar-0.3.6/src/pandasklar.egg-info\n",
      "copying src/pandasklar.egg-info/requires.txt -> pandasklar-0.3.6/src/pandasklar.egg-info\n",
      "copying src/pandasklar.egg-info/top_level.txt -> pandasklar-0.3.6/src/pandasklar.egg-info\n",
      "Writing pandasklar-0.3.6/setup.cfg\n",
      "Creating tar archive\n",
      "removing 'pandasklar-0.3.6' (and everything under it)\n",
      "\u001b[1m* Building wheel from sdist\u001b[0m\n",
      "\u001b[1m* Creating virtualenv isolated environment...\u001b[0m\n",
      "\u001b[1m* Installing packages in isolated environment... (setuptools>=61.0.0, wheel)\u001b[0m\n",
      "\u001b[1m* Getting build dependencies for wheel...\u001b[0m\n",
      "/tmp/build-env-x1ykq4rw/lib/python3.10/site-packages/setuptools/config/pyprojecttoml.py:66: _BetaConfiguration: Support for `[tool.setuptools]` in `pyproject.toml` is still *beta*.\n",
      "  config = read_configuration(filepath, True, ignore_option_errors, dist)\n",
      "running egg_info\n",
      "writing src/pandasklar.egg-info/PKG-INFO\n",
      "writing dependency_links to src/pandasklar.egg-info/dependency_links.txt\n",
      "writing entry points to src/pandasklar.egg-info/entry_points.txt\n",
      "writing requirements to src/pandasklar.egg-info/requires.txt\n",
      "writing top-level names to src/pandasklar.egg-info/top_level.txt\n",
      "reading manifest file 'src/pandasklar.egg-info/SOURCES.txt'\n",
      "adding license file 'LICENSE'\n",
      "writing manifest file 'src/pandasklar.egg-info/SOURCES.txt'\n",
      "\u001b[1m* Installing packages in isolated environment... (wheel)\u001b[0m\n",
      "\u001b[1m* Building wheel...\u001b[0m\n",
      "/tmp/build-env-x1ykq4rw/lib/python3.10/site-packages/setuptools/config/pyprojecttoml.py:66: _BetaConfiguration: Support for `[tool.setuptools]` in `pyproject.toml` is still *beta*.\n",
      "  config = read_configuration(filepath, True, ignore_option_errors, dist)\n",
      "running bdist_wheel\n",
      "running build\n",
      "running build_py\n",
      "creating build\n",
      "creating build/lib\n",
      "creating build/lib/pandasklar\n",
      "copying src/pandasklar/aggregate.py -> build/lib/pandasklar\n",
      "copying src/pandasklar/__main__.py -> build/lib/pandasklar\n",
      "copying src/pandasklar/scale.py -> build/lib/pandasklar\n",
      "copying src/pandasklar/config.py -> build/lib/pandasklar\n",
      "copying src/pandasklar/plot.py -> build/lib/pandasklar\n",
      "copying src/pandasklar/content.py -> build/lib/pandasklar\n",
      "copying src/pandasklar/subsets.py -> build/lib/pandasklar\n",
      "copying src/pandasklar/analyse.py -> build/lib/pandasklar\n",
      "copying src/pandasklar/develop.py -> build/lib/pandasklar\n",
      "copying src/pandasklar/values_info.py -> build/lib/pandasklar\n",
      "copying src/pandasklar/pandas.py -> build/lib/pandasklar\n",
      "copying src/pandasklar/compare.py -> build/lib/pandasklar\n",
      "copying src/pandasklar/rank.py -> build/lib/pandasklar\n",
      "copying src/pandasklar/type_info.py -> build/lib/pandasklar\n",
      "copying src/pandasklar/string.py -> build/lib/pandasklar\n",
      "copying src/pandasklar/__init__.py -> build/lib/pandasklar\n",
      "running egg_info\n",
      "writing src/pandasklar.egg-info/PKG-INFO\n",
      "writing dependency_links to src/pandasklar.egg-info/dependency_links.txt\n",
      "writing entry points to src/pandasklar.egg-info/entry_points.txt\n",
      "writing requirements to src/pandasklar.egg-info/requires.txt\n",
      "writing top-level names to src/pandasklar.egg-info/top_level.txt\n",
      "reading manifest file 'src/pandasklar.egg-info/SOURCES.txt'\n",
      "adding license file 'LICENSE'\n",
      "writing manifest file 'src/pandasklar.egg-info/SOURCES.txt'\n",
      "installing to build/bdist.linux-x86_64/wheel\n",
      "running install\n",
      "running install_lib\n",
      "creating build/bdist.linux-x86_64\n",
      "creating build/bdist.linux-x86_64/wheel\n",
      "creating build/bdist.linux-x86_64/wheel/pandasklar\n",
      "copying build/lib/pandasklar/aggregate.py -> build/bdist.linux-x86_64/wheel/pandasklar\n",
      "copying build/lib/pandasklar/__main__.py -> build/bdist.linux-x86_64/wheel/pandasklar\n",
      "copying build/lib/pandasklar/scale.py -> build/bdist.linux-x86_64/wheel/pandasklar\n",
      "copying build/lib/pandasklar/config.py -> build/bdist.linux-x86_64/wheel/pandasklar\n",
      "copying build/lib/pandasklar/plot.py -> build/bdist.linux-x86_64/wheel/pandasklar\n",
      "copying build/lib/pandasklar/content.py -> build/bdist.linux-x86_64/wheel/pandasklar\n",
      "copying build/lib/pandasklar/subsets.py -> build/bdist.linux-x86_64/wheel/pandasklar\n",
      "copying build/lib/pandasklar/analyse.py -> build/bdist.linux-x86_64/wheel/pandasklar\n",
      "copying build/lib/pandasklar/develop.py -> build/bdist.linux-x86_64/wheel/pandasklar\n",
      "copying build/lib/pandasklar/values_info.py -> build/bdist.linux-x86_64/wheel/pandasklar\n",
      "copying build/lib/pandasklar/pandas.py -> build/bdist.linux-x86_64/wheel/pandasklar\n",
      "copying build/lib/pandasklar/compare.py -> build/bdist.linux-x86_64/wheel/pandasklar\n",
      "copying build/lib/pandasklar/rank.py -> build/bdist.linux-x86_64/wheel/pandasklar\n",
      "copying build/lib/pandasklar/type_info.py -> build/bdist.linux-x86_64/wheel/pandasklar\n",
      "copying build/lib/pandasklar/string.py -> build/bdist.linux-x86_64/wheel/pandasklar\n",
      "copying build/lib/pandasklar/__init__.py -> build/bdist.linux-x86_64/wheel/pandasklar\n",
      "running install_egg_info\n",
      "Copying src/pandasklar.egg-info to build/bdist.linux-x86_64/wheel/pandasklar-0.3.6-py3.10.egg-info\n",
      "running install_scripts\n",
      "creating build/bdist.linux-x86_64/wheel/pandasklar-0.3.6.dist-info/WHEEL\n",
      "creating '/home/me/Data_Linux/Dropbox/31_Projekte/01_Python/git/pandasklar/dist/.tmp-3u64uct5/pandasklar-0.3.6-py3-none-any.whl' and adding 'build/bdist.linux-x86_64/wheel' to it\n",
      "adding 'pandasklar/__init__.py'\n",
      "adding 'pandasklar/__main__.py'\n",
      "adding 'pandasklar/aggregate.py'\n",
      "adding 'pandasklar/analyse.py'\n",
      "adding 'pandasklar/compare.py'\n",
      "adding 'pandasklar/config.py'\n",
      "adding 'pandasklar/content.py'\n",
      "adding 'pandasklar/develop.py'\n",
      "adding 'pandasklar/pandas.py'\n",
      "adding 'pandasklar/plot.py'\n",
      "adding 'pandasklar/rank.py'\n",
      "adding 'pandasklar/scale.py'\n",
      "adding 'pandasklar/string.py'\n",
      "adding 'pandasklar/subsets.py'\n",
      "adding 'pandasklar/type_info.py'\n",
      "adding 'pandasklar/values_info.py'\n",
      "adding 'pandasklar-0.3.6.dist-info/LICENSE'\n",
      "adding 'pandasklar-0.3.6.dist-info/METADATA'\n",
      "adding 'pandasklar-0.3.6.dist-info/WHEEL'\n",
      "adding 'pandasklar-0.3.6.dist-info/entry_points.txt'\n",
      "adding 'pandasklar-0.3.6.dist-info/top_level.txt'\n",
      "adding 'pandasklar-0.3.6.dist-info/RECORD'\n",
      "removing build/bdist.linux-x86_64/wheel\n",
      "\u001b[1m\u001b[92mSuccessfully built \u001b[4mpandasklar-0.3.6.tar.gz\u001b[0m\u001b[1m\u001b[92m and \u001b[4mpandasklar-0.3.6-py3-none-any.whl\u001b[0m\u001b[1m\u001b[92m\u001b[0m\n"
     ]
    }
   ],
   "source": [
    "!python -m build"
   ]
  },
  {
   "cell_type": "markdown",
   "id": "e6b13397-01f2-4ffb-9668-dc9a58196db9",
   "metadata": {},
   "source": [
    "## Publish on github"
   ]
  },
  {
   "cell_type": "code",
   "execution_count": 12,
   "id": "d444d5d8-ddb6-451e-9300-fa6424dde8f0",
   "metadata": {
    "execution": {
     "iopub.execute_input": "2023-07-09T19:56:12.882153Z",
     "iopub.status.busy": "2023-07-09T19:56:12.878571Z",
     "iopub.status.idle": "2023-07-09T19:56:13.240984Z",
     "shell.execute_reply": "2023-07-09T19:56:13.239152Z",
     "shell.execute_reply.started": "2023-07-09T19:56:12.882044Z"
    }
   },
   "outputs": [
    {
     "name": "stdout",
     "output_type": "stream",
     "text": [
      "Auf Branch master\n",
      "Änderungen, die nicht zum Commit vorgemerkt sind:\n",
      "  (benutzen Sie \"git add <Datei>...\", um die Änderungen zum Commit vorzumerken)\n",
      "  (benutzen Sie \"git restore <Datei>...\", um die Änderungen im Arbeitsverzeichnis zu verwerfen)\n",
      "\t\u001b[31mgeändert:       .gitignore\u001b[m\n",
      "\t\u001b[31mgeändert:       README.ipynb\u001b[m\n",
      "\t\u001b[31mgeändert:       README.md\u001b[m\n",
      "\t\u001b[31mgeändert:       jupyter/36_Cleanup_Strings.ipynb\u001b[m\n",
      "\t\u001b[31mgeändert:       publish_pandasklar.ipynb\u001b[m\n",
      "\t\u001b[31mgeändert:       pyproject.toml\u001b[m\n",
      "\t\u001b[31mgeändert:       src/pandasklar/compare.py\u001b[m\n",
      "\t\u001b[31mgeändert:       src/pandasklar/string.py\u001b[m\n",
      "\n",
      "keine Änderungen zum Commit vorgemerkt (benutzen Sie \"git add\" und/oder \"git commit -a\")\n"
     ]
    }
   ],
   "source": [
    "!git status"
   ]
  },
  {
   "cell_type": "code",
   "execution_count": 13,
   "id": "c6edb3f8-91d3-4a6d-8d9a-35e64e2f9239",
   "metadata": {
    "execution": {
     "iopub.execute_input": "2023-07-09T19:56:13.260571Z",
     "iopub.status.busy": "2023-07-09T19:56:13.253455Z",
     "iopub.status.idle": "2023-07-09T19:56:13.460047Z",
     "shell.execute_reply": "2023-07-09T19:56:13.459057Z",
     "shell.execute_reply.started": "2023-07-09T19:56:13.260501Z"
    }
   },
   "outputs": [],
   "source": [
    "!git config credential.helper store"
   ]
  },
  {
   "cell_type": "code",
   "execution_count": 14,
   "id": "a9a7e740-2661-43c1-9743-bef78afaba54",
   "metadata": {
    "execution": {
     "iopub.execute_input": "2023-07-09T19:56:13.463867Z",
     "iopub.status.busy": "2023-07-09T19:56:13.463483Z",
     "iopub.status.idle": "2023-07-09T19:56:13.762506Z",
     "shell.execute_reply": "2023-07-09T19:56:13.760598Z",
     "shell.execute_reply.started": "2023-07-09T19:56:13.463832Z"
    }
   },
   "outputs": [],
   "source": [
    "!git add --all"
   ]
  },
  {
   "cell_type": "code",
   "execution_count": 15,
   "id": "11087953-3aab-4adf-9561-3c151ee0f890",
   "metadata": {
    "execution": {
     "iopub.execute_input": "2023-07-09T19:56:13.766855Z",
     "iopub.status.busy": "2023-07-09T19:56:13.766269Z",
     "iopub.status.idle": "2023-07-09T19:56:14.617464Z",
     "shell.execute_reply": "2023-07-09T19:56:14.616331Z",
     "shell.execute_reply.started": "2023-07-09T19:56:13.766795Z"
    }
   },
   "outputs": [
    {
     "name": "stdout",
     "output_type": "stream",
     "text": [
      "[master 75e5fa5] commit_message\n",
      " 8 files changed, 998 insertions(+), 458 deletions(-)\n"
     ]
    }
   ],
   "source": [
    "# Commit message eintragen und run\n",
    "!git commit -m commit_message"
   ]
  },
  {
   "cell_type": "code",
   "execution_count": 16,
   "id": "2a2dd0f9-4eb4-4750-acae-6ad18982dabf",
   "metadata": {
    "execution": {
     "iopub.execute_input": "2023-07-09T19:56:14.619380Z",
     "iopub.status.busy": "2023-07-09T19:56:14.618919Z",
     "iopub.status.idle": "2023-07-09T19:56:15.956493Z",
     "shell.execute_reply": "2023-07-09T19:56:15.955689Z",
     "shell.execute_reply.started": "2023-07-09T19:56:14.619346Z"
    },
    "tags": []
   },
   "outputs": [
    {
     "name": "stdout",
     "output_type": "stream",
     "text": [
      "Objekte aufzählen: 25, fertig.\n",
      "Zähle Objekte: 100% (25/25), fertig.\n",
      "Delta-Kompression verwendet bis zu 2 Threads.\n",
      "Komprimiere Objekte: 100% (12/12), fertig.\n",
      "Schreibe Objekte: 100% (13/13), 9.54 KiB | 2.38 MiB/s, fertig.\n",
      "Gesamt 13 (Delta 10), Wiederverwendet 0 (Delta 0), Pack wiederverwendet 0\n",
      "remote: Resolving deltas: 100% (10/10), completed with 10 local objects.\u001b[K\n",
      "To https://github.com/djekra/pandasklar\n",
      "   f120d9f..75e5fa5  master -> master\n"
     ]
    }
   ],
   "source": [
    "!git push origin master"
   ]
  },
  {
   "cell_type": "code",
   "execution_count": 17,
   "id": "592c9efd-54a8-4e9a-ae55-83ab3e6f1463",
   "metadata": {
    "execution": {
     "iopub.execute_input": "2023-07-09T19:56:15.958232Z",
     "iopub.status.busy": "2023-07-09T19:56:15.957765Z",
     "iopub.status.idle": "2023-07-09T19:56:16.032504Z",
     "shell.execute_reply": "2023-07-09T19:56:16.030988Z",
     "shell.execute_reply.started": "2023-07-09T19:56:15.958207Z"
    }
   },
   "outputs": [
    {
     "name": "stdout",
     "output_type": "stream",
     "text": [
      "Stop Time:  21:56:16\n",
      "Elapsed:    1 min, 5 secs\n"
     ]
    },
    {
     "data": {
      "text/html": [
       "<img src onerror=\"var cell = this.closest('.jp-CodeCell');var editor = cell.querySelector('.jp-Editor');editor.style.background='DarkGray';this.parentNode.removeChild(this)\">"
      ],
      "text/plain": [
       "<IPython.core.display.HTML object>"
      ]
     },
     "metadata": {},
     "output_type": "display_data"
    }
   ],
   "source": [
    "raise Stop"
   ]
  },
  {
   "cell_type": "markdown",
   "id": "3d13ba76-74b6-44cd-a2f0-3b8087890032",
   "metadata": {},
   "source": [
    "* Terminal ins Verzeichnis öffnen\n",
    "* `git push origin master`\n",
    "* Personal Access Token verwenden statt Passwort\n",
    "* überprüfen: https://github.com/djekra/pandasklar"
   ]
  },
  {
   "cell_type": "markdown",
   "id": "1bee5aa0-6520-42a1-9993-a3a0f18e0bad",
   "metadata": {},
   "source": [
    "## Publish on pypi.org"
   ]
  },
  {
   "cell_type": "markdown",
   "id": "2fe58367-ce3a-4e94-8085-b5e1f4aa5932",
   "metadata": {},
   "source": [
    "* `python -m twine upload --skip-existing dist/*` \n",
    "* Version überprüfen: https://pypi.org/project/pandasklar/"
   ]
  },
  {
   "cell_type": "markdown",
   "id": "16c9f64f-40af-41ac-90db-f802bb8f73c1",
   "metadata": {},
   "source": [
    "## Test from PyPi"
   ]
  },
  {
   "cell_type": "code",
   "execution_count": null,
   "id": "3af8896f-3f40-4d28-a365-fc4c0cb4228f",
   "metadata": {
    "execution": {
     "iopub.status.busy": "2023-07-09T19:56:16.034310Z",
     "iopub.status.idle": "2023-07-09T19:56:16.035027Z",
     "shell.execute_reply": "2023-07-09T19:56:16.034842Z",
     "shell.execute_reply.started": "2023-07-09T19:56:16.034820Z"
    }
   },
   "outputs": [],
   "source": [
    "# uninstall\n",
    "!pip uninstall -y pandasklar"
   ]
  },
  {
   "cell_type": "code",
   "execution_count": null,
   "id": "8ea8f83c-6970-424a-993d-f8e378e5faa9",
   "metadata": {
    "execution": {
     "iopub.status.busy": "2023-07-09T19:56:16.036080Z",
     "iopub.status.idle": "2023-07-09T19:56:16.036695Z",
     "shell.execute_reply": "2023-07-09T19:56:16.036538Z",
     "shell.execute_reply.started": "2023-07-09T19:56:16.036520Z"
    }
   },
   "outputs": [],
   "source": [
    "!pip install pandasklar --no-cache-dir "
   ]
  },
  {
   "cell_type": "code",
   "execution_count": null,
   "id": "5655c1d6-916d-4f5a-90aa-1877b6a5317b",
   "metadata": {
    "execution": {
     "iopub.status.busy": "2023-07-09T19:56:16.039005Z",
     "iopub.status.idle": "2023-07-09T19:56:16.039878Z",
     "shell.execute_reply": "2023-07-09T19:56:16.039625Z",
     "shell.execute_reply.started": "2023-07-09T19:56:16.039600Z"
    }
   },
   "outputs": [],
   "source": [
    "# test import\n",
    "import pandasklar as pak"
   ]
  },
  {
   "cell_type": "code",
   "execution_count": null,
   "id": "b1a1633d-62ad-4088-8b90-6447cc84daf6",
   "metadata": {
    "execution": {
     "iopub.status.busy": "2023-07-09T19:56:16.042080Z",
     "iopub.status.idle": "2023-07-09T19:56:16.043174Z",
     "shell.execute_reply": "2023-07-09T19:56:16.042880Z",
     "shell.execute_reply.started": "2023-07-09T19:56:16.042846Z"
    }
   },
   "outputs": [],
   "source": [
    "# test script\n",
    "!pandasklar"
   ]
  },
  {
   "cell_type": "code",
   "execution_count": null,
   "id": "d734da84-24da-4fa9-8a12-139486f7bf76",
   "metadata": {
    "execution": {
     "iopub.status.busy": "2023-07-09T19:56:16.044912Z",
     "iopub.status.idle": "2023-07-09T19:56:16.045690Z",
     "shell.execute_reply": "2023-07-09T19:56:16.045489Z",
     "shell.execute_reply.started": "2023-07-09T19:56:16.045463Z"
    },
    "tags": []
   },
   "outputs": [],
   "source": [
    "# show version\n",
    "from importlib.metadata import version  \n",
    "version('pandasklar')  "
   ]
  }
 ],
 "metadata": {
  "kernelspec": {
   "display_name": "Python 3 (ipykernel)",
   "language": "python",
   "name": "python3"
  },
  "language_info": {
   "codemirror_mode": {
    "name": "ipython",
    "version": 3
   },
   "file_extension": ".py",
   "mimetype": "text/x-python",
   "name": "python",
   "nbconvert_exporter": "python",
   "pygments_lexer": "ipython3",
   "version": "3.10.11"
  }
 },
 "nbformat": 4,
 "nbformat_minor": 5
}
