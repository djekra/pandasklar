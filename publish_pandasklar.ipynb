{
 "cells": [
  {
   "cell_type": "code",
   "execution_count": 1,
   "id": "368b880d-213c-4683-b7ac-22b4105e57ff",
   "metadata": {
    "execution": {
     "iopub.execute_input": "2023-06-16T12:34:53.657201Z",
     "iopub.status.busy": "2023-06-16T12:34:53.655226Z",
     "iopub.status.idle": "2023-06-16T12:34:54.754983Z",
     "shell.execute_reply": "2023-06-16T12:34:54.754270Z",
     "shell.execute_reply.started": "2023-06-16T12:34:53.657142Z"
    },
    "tags": []
   },
   "outputs": [
    {
     "name": "stdout",
     "output_type": "stream",
     "text": [
      "blab init\n",
      "environment['in_colab']     = False\n",
      "environment['dropbox_path'] = /home/me/Data_Linux/Dropbox\n",
      "environment['lib_path']     = /home/me/Data_Linux/Dropbox/31_Projekte/01_Python/libs\n",
      "Start Time: 14:34:54\n"
     ]
    },
    {
     "data": {
      "text/html": [
       "<img src onerror=\"var cell = this.closest('.jp-CodeCell');var editor = cell.querySelector('.jp-Editor');editor.style.background='Beige';this.parentNode.removeChild(this)\">"
      ],
      "text/plain": [
       "<IPython.core.display.HTML object>"
      ]
     },
     "metadata": {},
     "output_type": "display_data"
    }
   ],
   "source": [
    "# blab init\n",
    "try:\n",
    "    import blab\n",
    "    startup_notebook = blab.blab_startup()\n",
    "    %run $startup_notebook\n",
    "except:\n",
    "    pass"
   ]
  },
  {
   "cell_type": "markdown",
   "id": "cd12c4ae-a3a2-49b1-bbfe-51e52088441b",
   "metadata": {},
   "source": [
    "# Publish pandasklar"
   ]
  },
  {
   "cell_type": "code",
   "execution_count": 2,
   "id": "b8e6f59b-cef3-44eb-8ad7-733804de4bc6",
   "metadata": {
    "execution": {
     "iopub.execute_input": "2023-06-16T12:34:54.759016Z",
     "iopub.status.busy": "2023-06-16T12:34:54.758244Z",
     "iopub.status.idle": "2023-06-16T12:34:54.774348Z",
     "shell.execute_reply": "2023-06-16T12:34:54.773329Z",
     "shell.execute_reply.started": "2023-06-16T12:34:54.758983Z"
    },
    "executionInfo": {
     "elapsed": 463,
     "status": "ok",
     "timestamp": 1686173335567,
     "user": {
      "displayName": "Familie Klippstein",
      "userId": "08973939190628445877"
     },
     "user_tz": -120
    },
    "id": "wj1f-u_vOvsK"
   },
   "outputs": [
    {
     "data": {
      "text/html": [
       "<img src onerror=\"var cell = this.closest('.jp-CodeCell');var editor = cell.querySelector('.jp-Editor');editor.style.background='Beige';this.parentNode.removeChild(this)\">"
      ],
      "text/plain": [
       "<IPython.core.display.HTML object>"
      ]
     },
     "metadata": {},
     "output_type": "display_data"
    }
   ],
   "source": [
    "# Settings\n",
    "commit_message = 'datetime support'  \n",
    "\n",
    "bgc('Beige')"
   ]
  },
  {
   "cell_type": "markdown",
   "id": "4b8437a0-f586-4b27-ac6d-6dc93cf84169",
   "metadata": {},
   "source": [
    "## Create README"
   ]
  },
  {
   "cell_type": "code",
   "execution_count": 3,
   "id": "73a96aa2-8c8a-4964-8361-671d9d4bdce6",
   "metadata": {
    "execution": {
     "iopub.execute_input": "2023-06-16T12:34:54.777083Z",
     "iopub.status.busy": "2023-06-16T12:34:54.776575Z",
     "iopub.status.idle": "2023-06-16T12:34:57.250042Z",
     "shell.execute_reply": "2023-06-16T12:34:57.247501Z",
     "shell.execute_reply.started": "2023-06-16T12:34:54.777053Z"
    }
   },
   "outputs": [
    {
     "name": "stdout",
     "output_type": "stream",
     "text": [
      "[NbConvertApp] Converting notebook README.ipynb to markdown\n",
      "[NbConvertApp] Writing 9297 bytes to README.md\n"
     ]
    }
   ],
   "source": [
    "!jupyter nbconvert --ClearMetadataPreprocessor.enabled=True --ClearOutput.enabled=True --to markdown README.ipynb"
   ]
  },
  {
   "cell_type": "markdown",
   "id": "a4547f78-251b-45b5-a478-27dc691d193b",
   "metadata": {},
   "source": [
    "## Local install"
   ]
  },
  {
   "cell_type": "code",
   "execution_count": 4,
   "id": "30be06b0-90b1-41b1-a63d-9cec8e4a05ab",
   "metadata": {
    "execution": {
     "iopub.execute_input": "2023-06-16T12:34:57.258998Z",
     "iopub.status.busy": "2023-06-16T12:34:57.257197Z",
     "iopub.status.idle": "2023-06-16T12:35:01.686839Z",
     "shell.execute_reply": "2023-06-16T12:35:01.684298Z",
     "shell.execute_reply.started": "2023-06-16T12:34:57.258908Z"
    }
   },
   "outputs": [
    {
     "name": "stdout",
     "output_type": "stream",
     "text": [
      "Found existing installation: pandasklar 0.3.2\n",
      "Uninstalling pandasklar-0.3.2:\n",
      "  Successfully uninstalled pandasklar-0.3.2\n"
     ]
    }
   ],
   "source": [
    "# uninstall\n",
    "!pip uninstall -y pandasklar"
   ]
  },
  {
   "cell_type": "code",
   "execution_count": 5,
   "id": "f345ee0f-748f-40be-8578-8ad4ac4d9fe3",
   "metadata": {
    "execution": {
     "iopub.execute_input": "2023-06-16T12:35:01.698051Z",
     "iopub.status.busy": "2023-06-16T12:35:01.695918Z",
     "iopub.status.idle": "2023-06-16T12:35:13.543413Z",
     "shell.execute_reply": "2023-06-16T12:35:13.540426Z",
     "shell.execute_reply.started": "2023-06-16T12:35:01.697942Z"
    },
    "tags": []
   },
   "outputs": [],
   "source": [
    "# install locally\n",
    "!python -m pip install -q -e ."
   ]
  },
  {
   "cell_type": "code",
   "execution_count": 6,
   "id": "8cec0e88-e3c2-4020-b9c9-176bcd255c46",
   "metadata": {
    "execution": {
     "iopub.execute_input": "2023-06-16T12:35:13.558481Z",
     "iopub.status.busy": "2023-06-16T12:35:13.548786Z",
     "iopub.status.idle": "2023-06-16T12:35:17.891679Z",
     "shell.execute_reply": "2023-06-16T12:35:17.890911Z",
     "shell.execute_reply.started": "2023-06-16T12:35:13.558367Z"
    }
   },
   "outputs": [
    {
     "name": "stdout",
     "output_type": "stream",
     "text": [
      "Name: pandasklar\n",
      "Version: 0.3.4\n",
      "Summary: Toolbox / Ecosystem for data science. Easier handling of pandas, especially when thinking in SQL.\n",
      "Home-page: \n",
      "Author: \n",
      "Author-email: djekra <hopsalla@gmail.com>\n",
      "License: MIT\n",
      "Location: /home/me/mambaforge/envs/python_07/lib/python3.10/site-packages\n",
      "Editable project location: /home/me/Data_Linux/Dropbox/31_Projekte/01_Python/git/pandasklar\n",
      "Requires: blab, bpyth, numpy, pandas, perlin-noise, termcolor\n",
      "Required-by: bludwig\n"
     ]
    }
   ],
   "source": [
    "# show\n",
    "!pip show pandasklar"
   ]
  },
  {
   "cell_type": "code",
   "execution_count": 7,
   "id": "baf8f2b6-2bb4-4460-b654-f4454bfec48f",
   "metadata": {
    "execution": {
     "iopub.execute_input": "2023-06-16T12:35:17.893560Z",
     "iopub.status.busy": "2023-06-16T12:35:17.893019Z",
     "iopub.status.idle": "2023-06-16T12:35:20.449482Z",
     "shell.execute_reply": "2023-06-16T12:35:20.448870Z",
     "shell.execute_reply.started": "2023-06-16T12:35:17.893527Z"
    }
   },
   "outputs": [],
   "source": [
    "# test import\n",
    "# Wenn dies failed: Restart Kernel and Run all Cells\n",
    "import pandasklar as pak"
   ]
  },
  {
   "cell_type": "code",
   "execution_count": 8,
   "id": "43f0bbdd-2df6-4534-a86e-77657d0329da",
   "metadata": {
    "execution": {
     "iopub.execute_input": "2023-06-16T12:35:20.450543Z",
     "iopub.status.busy": "2023-06-16T12:35:20.450323Z",
     "iopub.status.idle": "2023-06-16T12:35:23.641917Z",
     "shell.execute_reply": "2023-06-16T12:35:23.638882Z",
     "shell.execute_reply.started": "2023-06-16T12:35:20.450524Z"
    }
   },
   "outputs": [
    {
     "name": "stdout",
     "output_type": "stream",
     "text": [
      "Hello pandasklar 0.3.4\n"
     ]
    }
   ],
   "source": [
    "# test script\n",
    "!pandasklar"
   ]
  },
  {
   "cell_type": "code",
   "execution_count": 9,
   "id": "64159a70-deaa-44c3-8c7b-ea315c626cb3",
   "metadata": {
    "execution": {
     "iopub.execute_input": "2023-06-16T12:35:23.647658Z",
     "iopub.status.busy": "2023-06-16T12:35:23.646287Z",
     "iopub.status.idle": "2023-06-16T12:35:23.761405Z",
     "shell.execute_reply": "2023-06-16T12:35:23.758413Z",
     "shell.execute_reply.started": "2023-06-16T12:35:23.647564Z"
    }
   },
   "outputs": [
    {
     "name": "stdout",
     "output_type": "stream",
     "text": [
      "Stop Time:  14:35:23\n",
      "Elapsed:    29 secs\n"
     ]
    },
    {
     "data": {
      "text/html": [
       "<img src onerror=\"var cell = this.closest('.jp-CodeCell');var editor = cell.querySelector('.jp-Editor');editor.style.background='DarkGray';this.parentNode.removeChild(this)\">"
      ],
      "text/plain": [
       "<IPython.core.display.HTML object>"
      ]
     },
     "metadata": {},
     "output_type": "display_data"
    }
   ],
   "source": [
    "raise Stop"
   ]
  },
  {
   "cell_type": "markdown",
   "id": "efa2c656-785f-45b7-a3b5-a9ae251bce06",
   "metadata": {},
   "source": [
    "## build"
   ]
  },
  {
   "cell_type": "code",
   "execution_count": null,
   "id": "f20cbd4d-b38b-4bc9-a750-b14851fb174b",
   "metadata": {
    "execution": {
     "iopub.status.busy": "2023-06-16T12:35:23.766338Z",
     "iopub.status.idle": "2023-06-16T12:35:23.769083Z",
     "shell.execute_reply": "2023-06-16T12:35:23.768789Z",
     "shell.execute_reply.started": "2023-06-16T12:35:23.768752Z"
    }
   },
   "outputs": [],
   "source": [
    "!pip install -q build"
   ]
  },
  {
   "cell_type": "code",
   "execution_count": null,
   "id": "c745f5da-d6e4-408a-aa73-1166ccc6fd5b",
   "metadata": {
    "execution": {
     "iopub.status.busy": "2023-06-16T12:35:23.776280Z",
     "iopub.status.idle": "2023-06-16T12:35:23.783763Z",
     "shell.execute_reply": "2023-06-16T12:35:23.783262Z",
     "shell.execute_reply.started": "2023-06-16T12:35:23.783202Z"
    }
   },
   "outputs": [],
   "source": [
    "!python -m build"
   ]
  },
  {
   "cell_type": "markdown",
   "id": "e6b13397-01f2-4ffb-9668-dc9a58196db9",
   "metadata": {},
   "source": [
    "## Publish on github"
   ]
  },
  {
   "cell_type": "code",
   "execution_count": null,
   "id": "d444d5d8-ddb6-451e-9300-fa6424dde8f0",
   "metadata": {
    "execution": {
     "iopub.status.busy": "2023-06-16T12:35:23.787998Z",
     "iopub.status.idle": "2023-06-16T12:35:23.790177Z",
     "shell.execute_reply": "2023-06-16T12:35:23.789704Z",
     "shell.execute_reply.started": "2023-06-16T12:35:23.789660Z"
    }
   },
   "outputs": [],
   "source": [
    "!git status"
   ]
  },
  {
   "cell_type": "code",
   "execution_count": null,
   "id": "c6edb3f8-91d3-4a6d-8d9a-35e64e2f9239",
   "metadata": {
    "execution": {
     "iopub.status.busy": "2023-06-16T12:35:23.793353Z",
     "iopub.status.idle": "2023-06-16T12:35:23.795866Z",
     "shell.execute_reply": "2023-06-16T12:35:23.795055Z",
     "shell.execute_reply.started": "2023-06-16T12:35:23.795030Z"
    }
   },
   "outputs": [],
   "source": [
    "!git config credential.helper store"
   ]
  },
  {
   "cell_type": "code",
   "execution_count": null,
   "id": "a9a7e740-2661-43c1-9743-bef78afaba54",
   "metadata": {
    "execution": {
     "iopub.status.busy": "2023-06-16T12:35:23.801001Z",
     "iopub.status.idle": "2023-06-16T12:35:23.801826Z",
     "shell.execute_reply": "2023-06-16T12:35:23.801617Z",
     "shell.execute_reply.started": "2023-06-16T12:35:23.801592Z"
    }
   },
   "outputs": [],
   "source": [
    "!git add --all"
   ]
  },
  {
   "cell_type": "code",
   "execution_count": null,
   "id": "11087953-3aab-4adf-9561-3c151ee0f890",
   "metadata": {
    "execution": {
     "iopub.status.busy": "2023-06-16T12:35:23.803151Z",
     "iopub.status.idle": "2023-06-16T12:35:23.803837Z",
     "shell.execute_reply": "2023-06-16T12:35:23.803664Z",
     "shell.execute_reply.started": "2023-06-16T12:35:23.803644Z"
    }
   },
   "outputs": [],
   "source": [
    "# Commit message eintragen und run\n",
    "!git commit -m commit_message"
   ]
  },
  {
   "cell_type": "code",
   "execution_count": null,
   "id": "2a2dd0f9-4eb4-4750-acae-6ad18982dabf",
   "metadata": {
    "execution": {
     "iopub.status.busy": "2023-06-16T12:35:23.807747Z",
     "iopub.status.idle": "2023-06-16T12:35:23.809862Z",
     "shell.execute_reply": "2023-06-16T12:35:23.809260Z",
     "shell.execute_reply.started": "2023-06-16T12:35:23.809189Z"
    },
    "tags": []
   },
   "outputs": [],
   "source": [
    "!git push origin master"
   ]
  },
  {
   "cell_type": "code",
   "execution_count": null,
   "id": "592c9efd-54a8-4e9a-ae55-83ab3e6f1463",
   "metadata": {
    "execution": {
     "iopub.status.busy": "2023-06-16T12:35:23.815349Z",
     "iopub.status.idle": "2023-06-16T12:35:23.818171Z",
     "shell.execute_reply": "2023-06-16T12:35:23.817921Z",
     "shell.execute_reply.started": "2023-06-16T12:35:23.817875Z"
    }
   },
   "outputs": [],
   "source": [
    "raise Stop"
   ]
  },
  {
   "cell_type": "markdown",
   "id": "3d13ba76-74b6-44cd-a2f0-3b8087890032",
   "metadata": {},
   "source": [
    "* Terminal ins Verzeichnis öffnen\n",
    "* `git push origin master`\n",
    "* Personal Access Token verwenden statt Passwort\n",
    "* überprüfen: https://github.com/djekra/pandasklar"
   ]
  },
  {
   "cell_type": "markdown",
   "id": "1bee5aa0-6520-42a1-9993-a3a0f18e0bad",
   "metadata": {},
   "source": [
    "## Publish on pypi.org"
   ]
  },
  {
   "cell_type": "markdown",
   "id": "2fe58367-ce3a-4e94-8085-b5e1f4aa5932",
   "metadata": {},
   "source": [
    "* `python -m twine upload --skip-existing dist/*` \n",
    "* Version überprüfen: https://pypi.org/project/pandasklar/"
   ]
  },
  {
   "cell_type": "markdown",
   "id": "16c9f64f-40af-41ac-90db-f802bb8f73c1",
   "metadata": {},
   "source": [
    "## Test from PyPi"
   ]
  },
  {
   "cell_type": "code",
   "execution_count": null,
   "id": "3af8896f-3f40-4d28-a365-fc4c0cb4228f",
   "metadata": {
    "execution": {
     "iopub.status.busy": "2023-06-16T12:35:23.820911Z",
     "iopub.status.idle": "2023-06-16T12:35:23.821964Z",
     "shell.execute_reply": "2023-06-16T12:35:23.821770Z",
     "shell.execute_reply.started": "2023-06-16T12:35:23.821747Z"
    }
   },
   "outputs": [],
   "source": [
    "# uninstall\n",
    "!pip uninstall -y pandasklar"
   ]
  },
  {
   "cell_type": "code",
   "execution_count": null,
   "id": "8ea8f83c-6970-424a-993d-f8e378e5faa9",
   "metadata": {
    "execution": {
     "iopub.status.busy": "2023-06-16T12:35:23.824428Z",
     "iopub.status.idle": "2023-06-16T12:35:23.825590Z",
     "shell.execute_reply": "2023-06-16T12:35:23.825377Z",
     "shell.execute_reply.started": "2023-06-16T12:35:23.825338Z"
    }
   },
   "outputs": [],
   "source": [
    "!pip install pandasklar --no-cache-dir "
   ]
  },
  {
   "cell_type": "code",
   "execution_count": null,
   "id": "5655c1d6-916d-4f5a-90aa-1877b6a5317b",
   "metadata": {
    "execution": {
     "iopub.status.busy": "2023-06-16T12:35:23.828101Z",
     "iopub.status.idle": "2023-06-16T12:35:23.828775Z",
     "shell.execute_reply": "2023-06-16T12:35:23.828597Z",
     "shell.execute_reply.started": "2023-06-16T12:35:23.828579Z"
    }
   },
   "outputs": [],
   "source": [
    "# test import\n",
    "import pandasklar as pak"
   ]
  },
  {
   "cell_type": "code",
   "execution_count": null,
   "id": "b1a1633d-62ad-4088-8b90-6447cc84daf6",
   "metadata": {
    "execution": {
     "iopub.status.busy": "2023-06-16T12:35:23.833043Z",
     "iopub.status.idle": "2023-06-16T12:35:23.833891Z",
     "shell.execute_reply": "2023-06-16T12:35:23.833658Z",
     "shell.execute_reply.started": "2023-06-16T12:35:23.833632Z"
    }
   },
   "outputs": [],
   "source": [
    "# test script\n",
    "!pandasklar"
   ]
  },
  {
   "cell_type": "code",
   "execution_count": null,
   "id": "d734da84-24da-4fa9-8a12-139486f7bf76",
   "metadata": {
    "execution": {
     "iopub.status.busy": "2023-06-16T12:35:23.834973Z",
     "iopub.status.idle": "2023-06-16T12:35:23.835513Z",
     "shell.execute_reply": "2023-06-16T12:35:23.835356Z",
     "shell.execute_reply.started": "2023-06-16T12:35:23.835336Z"
    },
    "tags": []
   },
   "outputs": [],
   "source": [
    "# show version\n",
    "from importlib.metadata import version  \n",
    "version('pandasklar')  "
   ]
  }
 ],
 "metadata": {
  "kernelspec": {
   "display_name": "Python 3 (ipykernel)",
   "language": "python",
   "name": "python3"
  },
  "language_info": {
   "codemirror_mode": {
    "name": "ipython",
    "version": 3
   },
   "file_extension": ".py",
   "mimetype": "text/x-python",
   "name": "python",
   "nbconvert_exporter": "python",
   "pygments_lexer": "ipython3",
   "version": "3.10.11"
  }
 },
 "nbformat": 4,
 "nbformat_minor": 5
}
