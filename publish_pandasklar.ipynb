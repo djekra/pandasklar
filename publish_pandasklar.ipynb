{
 "cells": [
  {
   "cell_type": "markdown",
   "id": "4b8437a0-f586-4b27-ac6d-6dc93cf84169",
   "metadata": {},
   "source": [
    "## Create README"
   ]
  },
  {
   "cell_type": "code",
   "execution_count": 1,
   "id": "73a96aa2-8c8a-4964-8361-671d9d4bdce6",
   "metadata": {
    "execution": {
     "iopub.execute_input": "2023-03-11T11:04:31.971157Z",
     "iopub.status.busy": "2023-03-11T11:04:31.970723Z",
     "iopub.status.idle": "2023-03-11T11:04:33.653739Z",
     "shell.execute_reply": "2023-03-11T11:04:33.651916Z",
     "shell.execute_reply.started": "2023-03-11T11:04:31.971055Z"
    }
   },
   "outputs": [
    {
     "name": "stdout",
     "output_type": "stream",
     "text": [
      "[NbConvertApp] Converting notebook README.ipynb to markdown\n",
      "[NbConvertApp] Writing 9297 bytes to README.md\n"
     ]
    }
   ],
   "source": [
    "!jupyter nbconvert --ClearMetadataPreprocessor.enabled=True --ClearOutput.enabled=True --to markdown README.ipynb"
   ]
  },
  {
   "cell_type": "markdown",
   "id": "a4547f78-251b-45b5-a478-27dc691d193b",
   "metadata": {},
   "source": [
    "## Local install"
   ]
  },
  {
   "cell_type": "code",
   "execution_count": 2,
   "id": "30be06b0-90b1-41b1-a63d-9cec8e4a05ab",
   "metadata": {
    "execution": {
     "iopub.execute_input": "2023-03-11T11:04:33.662316Z",
     "iopub.status.busy": "2023-03-11T11:04:33.660893Z",
     "iopub.status.idle": "2023-03-11T11:04:36.986979Z",
     "shell.execute_reply": "2023-03-11T11:04:36.984451Z",
     "shell.execute_reply.started": "2023-03-11T11:04:33.662245Z"
    }
   },
   "outputs": [
    {
     "name": "stdout",
     "output_type": "stream",
     "text": [
      "Found existing installation: pandasklar 0.2.3\n",
      "Uninstalling pandasklar-0.2.3:\n",
      "  Successfully uninstalled pandasklar-0.2.3\n"
     ]
    }
   ],
   "source": [
    "# uninstall\n",
    "!pip uninstall -y pandasklar"
   ]
  },
  {
   "cell_type": "code",
   "execution_count": 3,
   "id": "f345ee0f-748f-40be-8578-8ad4ac4d9fe3",
   "metadata": {
    "execution": {
     "iopub.execute_input": "2023-03-11T11:04:36.991137Z",
     "iopub.status.busy": "2023-03-11T11:04:36.990571Z",
     "iopub.status.idle": "2023-03-11T11:04:46.508336Z",
     "shell.execute_reply": "2023-03-11T11:04:46.505962Z",
     "shell.execute_reply.started": "2023-03-11T11:04:36.991077Z"
    }
   },
   "outputs": [
    {
     "name": "stdout",
     "output_type": "stream",
     "text": [
      "Obtaining file:///home/me/Data_Linux/Dropbox/31_Projekte/01_Python/git/pandasklar\n",
      "  Installing build dependencies ... \u001b[?25ldone\n",
      "\u001b[?25h  Checking if build backend supports build_editable ... \u001b[?25ldone\n",
      "\u001b[?25h  Getting requirements to build editable ... \u001b[?25ldone\n",
      "\u001b[?25h  Preparing editable metadata (pyproject.toml) ... \u001b[?25ldone\n",
      "\u001b[?25hRequirement already satisfied: pandas in /home/me/mambaforge/envs/python_06/lib/python3.9/site-packages (from pandasklar==0.2.3) (1.5.3)\n",
      "Requirement already satisfied: perlin-noise in /home/me/mambaforge/envs/python_06/lib/python3.9/site-packages (from pandasklar==0.2.3) (1.12)\n",
      "Requirement already satisfied: numpy in /home/me/mambaforge/envs/python_06/lib/python3.9/site-packages (from pandasklar==0.2.3) (1.23.4)\n",
      "Requirement already satisfied: blab in /home/me/mambaforge/envs/python_06/lib/python3.9/site-packages (from pandasklar==0.2.3) (0.1.6)\n",
      "Requirement already satisfied: termcolor in /home/me/mambaforge/envs/python_06/lib/python3.9/site-packages (from pandasklar==0.2.3) (2.0.1)\n",
      "Requirement already satisfied: bpyth in /home/me/mambaforge/envs/python_06/lib/python3.9/site-packages (from pandasklar==0.2.3) (0.1.8)\n",
      "Requirement already satisfied: matplotlib in /home/me/mambaforge/envs/python_06/lib/python3.9/site-packages (from blab->pandasklar==0.2.3) (3.6.1)\n",
      "Requirement already satisfied: nbconvert in /home/me/mambaforge/envs/python_06/lib/python3.9/site-packages (from blab->pandasklar==0.2.3) (7.2.3)\n",
      "Requirement already satisfied: ipytest in /home/me/mambaforge/envs/python_06/lib/python3.9/site-packages (from blab->pandasklar==0.2.3) (0.12.0)\n",
      "Requirement already satisfied: nbformat in /home/me/mambaforge/envs/python_06/lib/python3.9/site-packages (from blab->pandasklar==0.2.3) (5.7.0)\n",
      "Requirement already satisfied: python-dateutil>=2.8.1 in /home/me/mambaforge/envs/python_06/lib/python3.9/site-packages (from pandas->pandasklar==0.2.3) (2.8.2)\n",
      "Requirement already satisfied: pytz>=2020.1 in /home/me/mambaforge/envs/python_06/lib/python3.9/site-packages (from pandas->pandasklar==0.2.3) (2022.5)\n",
      "Requirement already satisfied: six>=1.5 in /home/me/mambaforge/envs/python_06/lib/python3.9/site-packages (from python-dateutil>=2.8.1->pandas->pandasklar==0.2.3) (1.16.0)\n",
      "Requirement already satisfied: pytest>=5.4 in /home/me/mambaforge/envs/python_06/lib/python3.9/site-packages (from ipytest->blab->pandasklar==0.2.3) (7.2.0)\n",
      "Requirement already satisfied: ipython in /home/me/mambaforge/envs/python_06/lib/python3.9/site-packages (from ipytest->blab->pandasklar==0.2.3) (8.6.0)\n",
      "Requirement already satisfied: packaging in /home/me/mambaforge/envs/python_06/lib/python3.9/site-packages (from ipytest->blab->pandasklar==0.2.3) (21.3)\n",
      "Requirement already satisfied: kiwisolver>=1.0.1 in /home/me/mambaforge/envs/python_06/lib/python3.9/site-packages (from matplotlib->blab->pandasklar==0.2.3) (1.4.4)\n",
      "Requirement already satisfied: pillow>=6.2.0 in /home/me/mambaforge/envs/python_06/lib/python3.9/site-packages (from matplotlib->blab->pandasklar==0.2.3) (9.2.0)\n",
      "Requirement already satisfied: pyparsing>=2.2.1 in /home/me/mambaforge/envs/python_06/lib/python3.9/site-packages (from matplotlib->blab->pandasklar==0.2.3) (3.0.9)\n",
      "Requirement already satisfied: contourpy>=1.0.1 in /home/me/mambaforge/envs/python_06/lib/python3.9/site-packages (from matplotlib->blab->pandasklar==0.2.3) (1.0.6)\n",
      "Requirement already satisfied: fonttools>=4.22.0 in /home/me/mambaforge/envs/python_06/lib/python3.9/site-packages (from matplotlib->blab->pandasklar==0.2.3) (4.38.0)\n",
      "Requirement already satisfied: cycler>=0.10 in /home/me/mambaforge/envs/python_06/lib/python3.9/site-packages (from matplotlib->blab->pandasklar==0.2.3) (0.11.0)\n",
      "Requirement already satisfied: nbclient>=0.5.0 in /home/me/mambaforge/envs/python_06/lib/python3.9/site-packages (from nbconvert->blab->pandasklar==0.2.3) (0.7.0)\n",
      "Requirement already satisfied: pygments>=2.4.1 in /home/me/mambaforge/envs/python_06/lib/python3.9/site-packages (from nbconvert->blab->pandasklar==0.2.3) (2.13.0)\n",
      "Requirement already satisfied: beautifulsoup4 in /home/me/mambaforge/envs/python_06/lib/python3.9/site-packages (from nbconvert->blab->pandasklar==0.2.3) (4.11.1)\n",
      "Requirement already satisfied: importlib-metadata>=3.6 in /home/me/mambaforge/envs/python_06/lib/python3.9/site-packages (from nbconvert->blab->pandasklar==0.2.3) (5.0.0)\n",
      "Requirement already satisfied: jinja2>=3.0 in /home/me/mambaforge/envs/python_06/lib/python3.9/site-packages (from nbconvert->blab->pandasklar==0.2.3) (3.1.2)\n",
      "Requirement already satisfied: jupyter-core>=4.7 in /home/me/mambaforge/envs/python_06/lib/python3.9/site-packages (from nbconvert->blab->pandasklar==0.2.3) (4.11.1)\n",
      "Requirement already satisfied: markupsafe>=2.0 in /home/me/mambaforge/envs/python_06/lib/python3.9/site-packages (from nbconvert->blab->pandasklar==0.2.3) (2.1.1)\n",
      "Requirement already satisfied: bleach in /home/me/mambaforge/envs/python_06/lib/python3.9/site-packages (from nbconvert->blab->pandasklar==0.2.3) (5.0.1)\n",
      "Requirement already satisfied: traitlets>=5.0 in /home/me/mambaforge/envs/python_06/lib/python3.9/site-packages (from nbconvert->blab->pandasklar==0.2.3) (5.5.0)\n",
      "Requirement already satisfied: jupyterlab-pygments in /home/me/mambaforge/envs/python_06/lib/python3.9/site-packages (from nbconvert->blab->pandasklar==0.2.3) (0.2.2)\n",
      "Requirement already satisfied: defusedxml in /home/me/mambaforge/envs/python_06/lib/python3.9/site-packages (from nbconvert->blab->pandasklar==0.2.3) (0.7.1)\n",
      "Requirement already satisfied: tinycss2 in /home/me/mambaforge/envs/python_06/lib/python3.9/site-packages (from nbconvert->blab->pandasklar==0.2.3) (1.2.1)\n",
      "Requirement already satisfied: pandocfilters>=1.4.1 in /home/me/mambaforge/envs/python_06/lib/python3.9/site-packages (from nbconvert->blab->pandasklar==0.2.3) (1.5.0)\n",
      "Requirement already satisfied: mistune<3,>=2.0.3 in /home/me/mambaforge/envs/python_06/lib/python3.9/site-packages (from nbconvert->blab->pandasklar==0.2.3) (2.0.4)\n",
      "Requirement already satisfied: fastjsonschema in /home/me/mambaforge/envs/python_06/lib/python3.9/site-packages (from nbformat->blab->pandasklar==0.2.3) (2.16.2)\n",
      "Requirement already satisfied: jsonschema>=2.6 in /home/me/mambaforge/envs/python_06/lib/python3.9/site-packages (from nbformat->blab->pandasklar==0.2.3) (4.17.3)\n",
      "Requirement already satisfied: zipp>=0.5 in /home/me/mambaforge/envs/python_06/lib/python3.9/site-packages (from importlib-metadata>=3.6->nbconvert->blab->pandasklar==0.2.3) (3.10.0)\n",
      "Requirement already satisfied: attrs>=17.4.0 in /home/me/mambaforge/envs/python_06/lib/python3.9/site-packages (from jsonschema>=2.6->nbformat->blab->pandasklar==0.2.3) (22.1.0)\n",
      "Requirement already satisfied: pyrsistent!=0.17.0,!=0.17.1,!=0.17.2,>=0.14.0 in /home/me/mambaforge/envs/python_06/lib/python3.9/site-packages (from jsonschema>=2.6->nbformat->blab->pandasklar==0.2.3) (0.18.1)\n",
      "Requirement already satisfied: nest-asyncio in /home/me/mambaforge/envs/python_06/lib/python3.9/site-packages (from nbclient>=0.5.0->nbconvert->blab->pandasklar==0.2.3) (1.5.6)\n",
      "Requirement already satisfied: jupyter-client>=6.1.5 in /home/me/mambaforge/envs/python_06/lib/python3.9/site-packages (from nbclient>=0.5.0->nbconvert->blab->pandasklar==0.2.3) (7.4.4)\n",
      "Requirement already satisfied: iniconfig in /home/me/mambaforge/envs/python_06/lib/python3.9/site-packages (from pytest>=5.4->ipytest->blab->pandasklar==0.2.3) (1.1.1)\n",
      "Requirement already satisfied: pluggy<2.0,>=0.12 in /home/me/mambaforge/envs/python_06/lib/python3.9/site-packages (from pytest>=5.4->ipytest->blab->pandasklar==0.2.3) (1.0.0)\n",
      "Requirement already satisfied: exceptiongroup>=1.0.0rc8 in /home/me/mambaforge/envs/python_06/lib/python3.9/site-packages (from pytest>=5.4->ipytest->blab->pandasklar==0.2.3) (1.0.0)\n",
      "Requirement already satisfied: tomli>=1.0.0 in /home/me/mambaforge/envs/python_06/lib/python3.9/site-packages (from pytest>=5.4->ipytest->blab->pandasklar==0.2.3) (2.0.1)\n",
      "Requirement already satisfied: soupsieve>1.2 in /home/me/mambaforge/envs/python_06/lib/python3.9/site-packages (from beautifulsoup4->nbconvert->blab->pandasklar==0.2.3) (2.3.2.post1)\n",
      "Requirement already satisfied: webencodings in /home/me/mambaforge/envs/python_06/lib/python3.9/site-packages (from bleach->nbconvert->blab->pandasklar==0.2.3) (0.5.1)\n",
      "Requirement already satisfied: stack-data in /home/me/mambaforge/envs/python_06/lib/python3.9/site-packages (from ipython->ipytest->blab->pandasklar==0.2.3) (0.5.1)\n",
      "Requirement already satisfied: matplotlib-inline in /home/me/mambaforge/envs/python_06/lib/python3.9/site-packages (from ipython->ipytest->blab->pandasklar==0.2.3) (0.1.6)\n",
      "Requirement already satisfied: pickleshare in /home/me/mambaforge/envs/python_06/lib/python3.9/site-packages (from ipython->ipytest->blab->pandasklar==0.2.3) (0.7.5)\n",
      "Requirement already satisfied: prompt-toolkit<3.1.0,>3.0.1 in /home/me/mambaforge/envs/python_06/lib/python3.9/site-packages (from ipython->ipytest->blab->pandasklar==0.2.3) (3.0.31)\n",
      "Requirement already satisfied: backcall in /home/me/mambaforge/envs/python_06/lib/python3.9/site-packages (from ipython->ipytest->blab->pandasklar==0.2.3) (0.2.0)\n",
      "Requirement already satisfied: decorator in /home/me/mambaforge/envs/python_06/lib/python3.9/site-packages (from ipython->ipytest->blab->pandasklar==0.2.3) (5.1.1)\n",
      "Requirement already satisfied: pexpect>4.3 in /home/me/mambaforge/envs/python_06/lib/python3.9/site-packages (from ipython->ipytest->blab->pandasklar==0.2.3) (4.8.0)\n",
      "Requirement already satisfied: jedi>=0.16 in /home/me/mambaforge/envs/python_06/lib/python3.9/site-packages (from ipython->ipytest->blab->pandasklar==0.2.3) (0.18.1)\n",
      "Requirement already satisfied: parso<0.9.0,>=0.8.0 in /home/me/mambaforge/envs/python_06/lib/python3.9/site-packages (from jedi>=0.16->ipython->ipytest->blab->pandasklar==0.2.3) (0.8.3)\n",
      "Requirement already satisfied: entrypoints in /home/me/mambaforge/envs/python_06/lib/python3.9/site-packages (from jupyter-client>=6.1.5->nbclient>=0.5.0->nbconvert->blab->pandasklar==0.2.3) (0.4)\n",
      "Requirement already satisfied: pyzmq>=23.0 in /home/me/mambaforge/envs/python_06/lib/python3.9/site-packages (from jupyter-client>=6.1.5->nbclient>=0.5.0->nbconvert->blab->pandasklar==0.2.3) (24.0.1)\n",
      "Requirement already satisfied: tornado>=6.2 in /home/me/mambaforge/envs/python_06/lib/python3.9/site-packages (from jupyter-client>=6.1.5->nbclient>=0.5.0->nbconvert->blab->pandasklar==0.2.3) (6.2)\n",
      "Requirement already satisfied: ptyprocess>=0.5 in /home/me/mambaforge/envs/python_06/lib/python3.9/site-packages (from pexpect>4.3->ipython->ipytest->blab->pandasklar==0.2.3) (0.7.0)\n",
      "Requirement already satisfied: wcwidth in /home/me/mambaforge/envs/python_06/lib/python3.9/site-packages (from prompt-toolkit<3.1.0,>3.0.1->ipython->ipytest->blab->pandasklar==0.2.3) (0.2.5)\n",
      "Requirement already satisfied: executing in /home/me/mambaforge/envs/python_06/lib/python3.9/site-packages (from stack-data->ipython->ipytest->blab->pandasklar==0.2.3) (1.1.1)\n",
      "Requirement already satisfied: pure-eval in /home/me/mambaforge/envs/python_06/lib/python3.9/site-packages (from stack-data->ipython->ipytest->blab->pandasklar==0.2.3) (0.2.2)\n",
      "Requirement already satisfied: asttokens in /home/me/mambaforge/envs/python_06/lib/python3.9/site-packages (from stack-data->ipython->ipytest->blab->pandasklar==0.2.3) (2.0.8)\n",
      "Building wheels for collected packages: pandasklar\n",
      "  Building editable for pandasklar (pyproject.toml) ... \u001b[?25ldone\n",
      "\u001b[?25h  Created wheel for pandasklar: filename=pandasklar-0.2.3-0.editable-py3-none-any.whl size=5965 sha256=c1d31df7c2ff0a9d17e14fd9373c1d2dab3b224be06d64ada4e2f2f68d4632a5\n",
      "  Stored in directory: /tmp/pip-ephem-wheel-cache-9_2k4bfj/wheels/3c/8c/6e/75db442ae394977816362c8a808095e7b0e3c41de5c8c3233a\n",
      "Successfully built pandasklar\n",
      "Installing collected packages: pandasklar\n",
      "Successfully installed pandasklar-0.2.3\n"
     ]
    }
   ],
   "source": [
    "# install locally\n",
    "!python -m pip install -e ."
   ]
  },
  {
   "cell_type": "code",
   "execution_count": 4,
   "id": "8cec0e88-e3c2-4020-b9c9-176bcd255c46",
   "metadata": {
    "execution": {
     "iopub.execute_input": "2023-03-11T11:04:46.511830Z",
     "iopub.status.busy": "2023-03-11T11:04:46.511260Z",
     "iopub.status.idle": "2023-03-11T11:04:49.441946Z",
     "shell.execute_reply": "2023-03-11T11:04:49.439422Z",
     "shell.execute_reply.started": "2023-03-11T11:04:46.511774Z"
    }
   },
   "outputs": [
    {
     "name": "stdout",
     "output_type": "stream",
     "text": [
      "Name: pandasklar\n",
      "Version: 0.2.3\n",
      "Summary: Toolbox / Ecosystem for data science. Easier handling of pandas, especially when thinking in SQL.\n",
      "Home-page: \n",
      "Author: \n",
      "Author-email: djekra <hopsalla@gmail.com>\n",
      "License: MIT\n",
      "Location: /home/me/mambaforge/envs/python_06/lib/python3.9/site-packages\n",
      "Requires: blab, bpyth, numpy, pandas, perlin-noise, termcolor\n",
      "Required-by: \n"
     ]
    }
   ],
   "source": [
    "# show\n",
    "!pip show pandasklar"
   ]
  },
  {
   "cell_type": "code",
   "execution_count": 5,
   "id": "baf8f2b6-2bb4-4460-b654-f4454bfec48f",
   "metadata": {
    "execution": {
     "iopub.execute_input": "2023-03-11T11:04:49.446547Z",
     "iopub.status.busy": "2023-03-11T11:04:49.445729Z",
     "iopub.status.idle": "2023-03-11T11:04:51.438334Z",
     "shell.execute_reply": "2023-03-11T11:04:51.437718Z",
     "shell.execute_reply.started": "2023-03-11T11:04:49.446464Z"
    }
   },
   "outputs": [],
   "source": [
    "# test import\n",
    "# Wenn dies failed: Restart Kernel and Run all Cells\n",
    "import pandasklar as pak"
   ]
  },
  {
   "cell_type": "code",
   "execution_count": 6,
   "id": "43f0bbdd-2df6-4534-a86e-77657d0329da",
   "metadata": {
    "execution": {
     "iopub.execute_input": "2023-03-11T11:04:51.442189Z",
     "iopub.status.busy": "2023-03-11T11:04:51.441621Z",
     "iopub.status.idle": "2023-03-11T11:04:54.359801Z",
     "shell.execute_reply": "2023-03-11T11:04:54.358161Z",
     "shell.execute_reply.started": "2023-03-11T11:04:51.442155Z"
    }
   },
   "outputs": [
    {
     "name": "stdout",
     "output_type": "stream",
     "text": [
      "Hello pandasklar 0.2.3\n"
     ]
    }
   ],
   "source": [
    "# test script\n",
    "!pandasklar"
   ]
  },
  {
   "cell_type": "code",
   "execution_count": 7,
   "id": "368b880d-213c-4683-b7ac-22b4105e57ff",
   "metadata": {
    "execution": {
     "iopub.execute_input": "2023-03-11T11:04:54.366058Z",
     "iopub.status.busy": "2023-03-11T11:04:54.364545Z",
     "iopub.status.idle": "2023-03-11T11:04:54.681163Z",
     "shell.execute_reply": "2023-03-11T11:04:54.679415Z",
     "shell.execute_reply.started": "2023-03-11T11:04:54.365956Z"
    }
   },
   "outputs": [
    {
     "name": "stdout",
     "output_type": "stream",
     "text": [
      "blab init\n",
      "environment['in_colab']     = False\n",
      "environment['dropbox_path'] = /home/me/Data_Linux/Dropbox\n",
      "environment['lib_path']     = /home/me/Data_Linux/Dropbox/31_Projekte/01_Python/libs\n",
      "Start Time: 12:04:54\n"
     ]
    },
    {
     "data": {
      "text/html": [
       "<img src onerror=\"var cell = this.closest('.jp-CodeCell');var editor = cell.querySelector('.jp-Editor');editor.style.background='Beige';this.parentNode.removeChild(this)\">"
      ],
      "text/plain": [
       "<IPython.core.display.HTML object>"
      ]
     },
     "metadata": {},
     "output_type": "display_data"
    }
   ],
   "source": [
    "# blab init\n",
    "try:\n",
    "    import blab\n",
    "    startup_notebook = blab.blab_startup()\n",
    "    %run $startup_notebook\n",
    "except:\n",
    "    pass"
   ]
  },
  {
   "cell_type": "code",
   "execution_count": 8,
   "id": "64159a70-deaa-44c3-8c7b-ea315c626cb3",
   "metadata": {
    "execution": {
     "iopub.execute_input": "2023-03-11T11:04:54.689576Z",
     "iopub.status.busy": "2023-03-11T11:04:54.687157Z",
     "iopub.status.idle": "2023-03-11T11:04:54.738625Z",
     "shell.execute_reply": "2023-03-11T11:04:54.736043Z",
     "shell.execute_reply.started": "2023-03-11T11:04:54.689528Z"
    }
   },
   "outputs": [
    {
     "name": "stdout",
     "output_type": "stream",
     "text": [
      "Stop Time:  12:04:54\n",
      "Elapsed:    0 secs\n"
     ]
    },
    {
     "data": {
      "text/html": [
       "<img src onerror=\"var cell = this.closest('.jp-CodeCell');var editor = cell.querySelector('.jp-Editor');editor.style.background='DarkGray';this.parentNode.removeChild(this)\">"
      ],
      "text/plain": [
       "<IPython.core.display.HTML object>"
      ]
     },
     "metadata": {},
     "output_type": "display_data"
    }
   ],
   "source": [
    "raise Stop"
   ]
  },
  {
   "cell_type": "markdown",
   "id": "efa2c656-785f-45b7-a3b5-a9ae251bce06",
   "metadata": {},
   "source": [
    "## build"
   ]
  },
  {
   "cell_type": "code",
   "execution_count": null,
   "id": "f20cbd4d-b38b-4bc9-a750-b14851fb174b",
   "metadata": {
    "execution": {
     "iopub.status.busy": "2023-03-11T11:04:54.741913Z",
     "iopub.status.idle": "2023-03-11T11:04:54.742306Z",
     "shell.execute_reply": "2023-03-11T11:04:54.742144Z",
     "shell.execute_reply.started": "2023-03-11T11:04:54.742128Z"
    }
   },
   "outputs": [],
   "source": [
    "!pip install -q build"
   ]
  },
  {
   "cell_type": "code",
   "execution_count": null,
   "id": "c745f5da-d6e4-408a-aa73-1166ccc6fd5b",
   "metadata": {
    "execution": {
     "iopub.status.busy": "2023-03-11T11:04:54.744960Z",
     "iopub.status.idle": "2023-03-11T11:04:54.745342Z",
     "shell.execute_reply": "2023-03-11T11:04:54.745181Z",
     "shell.execute_reply.started": "2023-03-11T11:04:54.745166Z"
    }
   },
   "outputs": [],
   "source": [
    "!python -m build"
   ]
  },
  {
   "cell_type": "markdown",
   "id": "e6b13397-01f2-4ffb-9668-dc9a58196db9",
   "metadata": {},
   "source": [
    "## Publish on github"
   ]
  },
  {
   "cell_type": "code",
   "execution_count": null,
   "id": "d444d5d8-ddb6-451e-9300-fa6424dde8f0",
   "metadata": {
    "execution": {
     "iopub.status.busy": "2023-03-11T11:04:54.755878Z",
     "iopub.status.idle": "2023-03-11T11:04:54.756312Z",
     "shell.execute_reply": "2023-03-11T11:04:54.756147Z",
     "shell.execute_reply.started": "2023-03-11T11:04:54.756130Z"
    }
   },
   "outputs": [],
   "source": [
    "!git status"
   ]
  },
  {
   "cell_type": "code",
   "execution_count": null,
   "id": "c6edb3f8-91d3-4a6d-8d9a-35e64e2f9239",
   "metadata": {
    "execution": {
     "iopub.status.busy": "2023-03-11T11:04:54.757667Z",
     "iopub.status.idle": "2023-03-11T11:04:54.758049Z",
     "shell.execute_reply": "2023-03-11T11:04:54.757897Z",
     "shell.execute_reply.started": "2023-03-11T11:04:54.757882Z"
    }
   },
   "outputs": [],
   "source": [
    "!git config credential.helper store"
   ]
  },
  {
   "cell_type": "code",
   "execution_count": null,
   "id": "a9a7e740-2661-43c1-9743-bef78afaba54",
   "metadata": {
    "execution": {
     "iopub.status.busy": "2023-03-11T11:04:54.764834Z",
     "iopub.status.idle": "2023-03-11T11:04:54.765690Z",
     "shell.execute_reply": "2023-03-11T11:04:54.765330Z",
     "shell.execute_reply.started": "2023-03-11T11:04:54.765290Z"
    }
   },
   "outputs": [],
   "source": [
    "!git add --all"
   ]
  },
  {
   "cell_type": "code",
   "execution_count": null,
   "id": "11087953-3aab-4adf-9561-3c151ee0f890",
   "metadata": {
    "execution": {
     "iopub.status.busy": "2023-03-11T11:04:54.770791Z",
     "iopub.status.idle": "2023-03-11T11:04:54.771411Z",
     "shell.execute_reply": "2023-03-11T11:04:54.771099Z",
     "shell.execute_reply.started": "2023-03-11T11:04:54.771076Z"
    }
   },
   "outputs": [],
   "source": [
    "# Commit message eintragen und run\n",
    "!git commit -m \"ֹ\""
   ]
  },
  {
   "cell_type": "code",
   "execution_count": null,
   "id": "2a2dd0f9-4eb4-4750-acae-6ad18982dabf",
   "metadata": {
    "execution": {
     "iopub.status.busy": "2023-03-11T11:04:54.773880Z",
     "iopub.status.idle": "2023-03-11T11:04:54.777041Z",
     "shell.execute_reply": "2023-03-11T11:04:54.776830Z",
     "shell.execute_reply.started": "2023-03-11T11:04:54.776803Z"
    }
   },
   "outputs": [],
   "source": [
    "!git push origin master"
   ]
  },
  {
   "cell_type": "code",
   "execution_count": null,
   "id": "592c9efd-54a8-4e9a-ae55-83ab3e6f1463",
   "metadata": {
    "execution": {
     "iopub.status.busy": "2023-03-11T11:04:54.782899Z",
     "iopub.status.idle": "2023-03-11T11:04:54.784125Z",
     "shell.execute_reply": "2023-03-11T11:04:54.783835Z",
     "shell.execute_reply.started": "2023-03-11T11:04:54.783803Z"
    }
   },
   "outputs": [],
   "source": [
    "raise Stop"
   ]
  },
  {
   "cell_type": "markdown",
   "id": "3d13ba76-74b6-44cd-a2f0-3b8087890032",
   "metadata": {},
   "source": [
    "* Terminal ins Verzeichnis öffnen\n",
    "* `git push origin master`\n",
    "* Personal Access Token verwenden statt Passwort\n",
    "* überprüfen: https://github.com/djekra/pandasklar"
   ]
  },
  {
   "cell_type": "markdown",
   "id": "1bee5aa0-6520-42a1-9993-a3a0f18e0bad",
   "metadata": {},
   "source": [
    "## Publish on pypi.org"
   ]
  },
  {
   "cell_type": "markdown",
   "id": "2fe58367-ce3a-4e94-8085-b5e1f4aa5932",
   "metadata": {},
   "source": [
    "* `python -m twine upload --skip-existing dist/*` \n",
    "* Version überprüfen: https://pypi.org/project/pandasklar/"
   ]
  },
  {
   "cell_type": "code",
   "execution_count": null,
   "id": "f83b80b8-60ea-4ad6-bfdb-00a2f52a4740",
   "metadata": {
    "execution": {
     "iopub.status.busy": "2023-03-11T11:04:54.785346Z",
     "iopub.status.idle": "2023-03-11T11:04:54.786263Z",
     "shell.execute_reply": "2023-03-11T11:04:54.786007Z",
     "shell.execute_reply.started": "2023-03-11T11:04:54.785982Z"
    }
   },
   "outputs": [],
   "source": [
    "# Nicht nötig\n",
    "# Publish on test.pypi.org\n",
    "# python -m twine upload --repository testpypi --skip-existing dist/* "
   ]
  },
  {
   "cell_type": "markdown",
   "id": "16c9f64f-40af-41ac-90db-f802bb8f73c1",
   "metadata": {},
   "source": [
    "## Test from PyPi"
   ]
  },
  {
   "cell_type": "code",
   "execution_count": null,
   "id": "3af8896f-3f40-4d28-a365-fc4c0cb4228f",
   "metadata": {
    "execution": {
     "iopub.status.busy": "2023-03-11T11:04:54.791351Z",
     "iopub.status.idle": "2023-03-11T11:04:54.792234Z",
     "shell.execute_reply": "2023-03-11T11:04:54.792042Z",
     "shell.execute_reply.started": "2023-03-11T11:04:54.792017Z"
    }
   },
   "outputs": [],
   "source": [
    "# uninstall\n",
    "!pip uninstall -y pandasklar"
   ]
  },
  {
   "cell_type": "code",
   "execution_count": null,
   "id": "8ea8f83c-6970-424a-993d-f8e378e5faa9",
   "metadata": {
    "execution": {
     "iopub.status.busy": "2023-03-11T11:04:54.793075Z",
     "iopub.status.idle": "2023-03-11T11:04:54.793988Z",
     "shell.execute_reply": "2023-03-11T11:04:54.793793Z",
     "shell.execute_reply.started": "2023-03-11T11:04:54.793767Z"
    }
   },
   "outputs": [],
   "source": [
    "!pip install pandasklar --no-cache-dir "
   ]
  },
  {
   "cell_type": "code",
   "execution_count": null,
   "id": "5655c1d6-916d-4f5a-90aa-1877b6a5317b",
   "metadata": {
    "execution": {
     "iopub.status.busy": "2023-03-11T11:04:54.798219Z",
     "iopub.status.idle": "2023-03-11T11:04:54.799258Z",
     "shell.execute_reply": "2023-03-11T11:04:54.799039Z",
     "shell.execute_reply.started": "2023-03-11T11:04:54.799012Z"
    }
   },
   "outputs": [],
   "source": [
    "# test import\n",
    "import pandasklar as pak"
   ]
  },
  {
   "cell_type": "code",
   "execution_count": null,
   "id": "b1a1633d-62ad-4088-8b90-6447cc84daf6",
   "metadata": {
    "execution": {
     "iopub.status.busy": "2023-03-11T11:04:54.805851Z",
     "iopub.status.idle": "2023-03-11T11:04:54.806270Z",
     "shell.execute_reply": "2023-03-11T11:04:54.806108Z",
     "shell.execute_reply.started": "2023-03-11T11:04:54.806091Z"
    }
   },
   "outputs": [],
   "source": [
    "# test script\n",
    "!pandasklar"
   ]
  },
  {
   "cell_type": "code",
   "execution_count": null,
   "id": "d734da84-24da-4fa9-8a12-139486f7bf76",
   "metadata": {
    "execution": {
     "iopub.status.busy": "2023-03-11T11:04:54.808050Z",
     "iopub.status.idle": "2023-03-11T11:04:54.808808Z",
     "shell.execute_reply": "2023-03-11T11:04:54.808642Z",
     "shell.execute_reply.started": "2023-03-11T11:04:54.808620Z"
    },
    "tags": []
   },
   "outputs": [],
   "source": [
    "# show version\n",
    "from importlib.metadata import version  \n",
    "version('pandasklar')  "
   ]
  }
 ],
 "metadata": {
  "kernelspec": {
   "display_name": "Python 3 (ipykernel)",
   "language": "python",
   "name": "python3"
  },
  "language_info": {
   "codemirror_mode": {
    "name": "ipython",
    "version": 3
   },
   "file_extension": ".py",
   "mimetype": "text/x-python",
   "name": "python",
   "nbconvert_exporter": "python",
   "pygments_lexer": "ipython3",
   "version": "3.9.13"
  }
 },
 "nbformat": 4,
 "nbformat_minor": 5
}
