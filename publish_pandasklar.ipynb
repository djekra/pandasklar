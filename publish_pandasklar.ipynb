{
 "cells": [
  {
   "cell_type": "code",
   "execution_count": 10,
   "id": "368b880d-213c-4683-b7ac-22b4105e57ff",
   "metadata": {
    "execution": {
     "iopub.execute_input": "2023-06-17T20:46:50.622873Z",
     "iopub.status.busy": "2023-06-17T20:46:50.622321Z",
     "iopub.status.idle": "2023-06-17T20:46:50.776267Z",
     "shell.execute_reply": "2023-06-17T20:46:50.775136Z",
     "shell.execute_reply.started": "2023-06-17T20:46:50.622823Z"
    },
    "tags": []
   },
   "outputs": [
    {
     "name": "stdout",
     "output_type": "stream",
     "text": [
      "blab init\n",
      "environment['in_colab']     = False\n",
      "environment['dropbox_path'] = /home/me/Data_Linux/Dropbox\n",
      "environment['lib_path']     = /home/me/Data_Linux/Dropbox/31_Projekte/01_Python/libs\n",
      "Start Time: 22:46:50\n"
     ]
    },
    {
     "data": {
      "text/html": [
       "<img src onerror=\"var cell = this.closest('.jp-CodeCell');var editor = cell.querySelector('.jp-Editor');editor.style.background='Beige';this.parentNode.removeChild(this)\">"
      ],
      "text/plain": [
       "<IPython.core.display.HTML object>"
      ]
     },
     "metadata": {},
     "output_type": "display_data"
    }
   ],
   "source": [
    "# blab init\n",
    "try:\n",
    "    import blab\n",
    "    startup_notebook = blab.blab_startup()\n",
    "    %run $startup_notebook\n",
    "except:\n",
    "    pass"
   ]
  },
  {
   "cell_type": "markdown",
   "id": "cd12c4ae-a3a2-49b1-bbfe-51e52088441b",
   "metadata": {},
   "source": [
    "# Publish pandasklar"
   ]
  },
  {
   "cell_type": "code",
   "execution_count": 11,
   "id": "b8e6f59b-cef3-44eb-8ad7-733804de4bc6",
   "metadata": {
    "execution": {
     "iopub.execute_input": "2023-06-17T20:46:50.780629Z",
     "iopub.status.busy": "2023-06-17T20:46:50.779187Z",
     "iopub.status.idle": "2023-06-17T20:46:50.825465Z",
     "shell.execute_reply": "2023-06-17T20:46:50.824505Z",
     "shell.execute_reply.started": "2023-06-17T20:46:50.780540Z"
    },
    "executionInfo": {
     "elapsed": 463,
     "status": "ok",
     "timestamp": 1686173335567,
     "user": {
      "displayName": "Familie Klippstein",
      "userId": "08973939190628445877"
     },
     "user_tz": -120
    },
    "id": "wj1f-u_vOvsK"
   },
   "outputs": [
    {
     "data": {
      "text/html": [
       "<img src onerror=\"var cell = this.closest('.jp-CodeCell');var editor = cell.querySelector('.jp-Editor');editor.style.background='Beige';this.parentNode.removeChild(this)\">"
      ],
      "text/plain": [
       "<IPython.core.display.HTML object>"
      ]
     },
     "metadata": {},
     "output_type": "display_data"
    }
   ],
   "source": [
    "# Settings\n",
    "commit_message = 'datetime support'  \n",
    "\n",
    "bgc('Beige')"
   ]
  },
  {
   "cell_type": "markdown",
   "id": "4b8437a0-f586-4b27-ac6d-6dc93cf84169",
   "metadata": {},
   "source": [
    "## Create README"
   ]
  },
  {
   "cell_type": "code",
   "execution_count": 12,
   "id": "73a96aa2-8c8a-4964-8361-671d9d4bdce6",
   "metadata": {
    "execution": {
     "iopub.execute_input": "2023-06-17T20:46:50.827361Z",
     "iopub.status.busy": "2023-06-17T20:46:50.826856Z",
     "iopub.status.idle": "2023-06-17T20:46:53.170153Z",
     "shell.execute_reply": "2023-06-17T20:46:53.169220Z",
     "shell.execute_reply.started": "2023-06-17T20:46:50.827331Z"
    }
   },
   "outputs": [
    {
     "name": "stdout",
     "output_type": "stream",
     "text": [
      "[NbConvertApp] Converting notebook README.ipynb to markdown\n",
      "[NbConvertApp] Writing 9297 bytes to README.md\n"
     ]
    }
   ],
   "source": [
    "!jupyter nbconvert --ClearMetadataPreprocessor.enabled=True --ClearOutput.enabled=True --to markdown README.ipynb"
   ]
  },
  {
   "cell_type": "markdown",
   "id": "a4547f78-251b-45b5-a478-27dc691d193b",
   "metadata": {},
   "source": [
    "## Local install"
   ]
  },
  {
   "cell_type": "code",
   "execution_count": 13,
   "id": "30be06b0-90b1-41b1-a63d-9cec8e4a05ab",
   "metadata": {
    "execution": {
     "iopub.execute_input": "2023-06-17T20:46:53.175362Z",
     "iopub.status.busy": "2023-06-17T20:46:53.175048Z",
     "iopub.status.idle": "2023-06-17T20:46:54.499623Z",
     "shell.execute_reply": "2023-06-17T20:46:54.497015Z",
     "shell.execute_reply.started": "2023-06-17T20:46:53.175335Z"
    }
   },
   "outputs": [
    {
     "name": "stdout",
     "output_type": "stream",
     "text": [
      "Found existing installation: pandasklar 0.3.4\n",
      "Uninstalling pandasklar-0.3.4:\n",
      "  Successfully uninstalled pandasklar-0.3.4\n"
     ]
    }
   ],
   "source": [
    "# uninstall\n",
    "!pip uninstall -y pandasklar"
   ]
  },
  {
   "cell_type": "code",
   "execution_count": 14,
   "id": "f345ee0f-748f-40be-8578-8ad4ac4d9fe3",
   "metadata": {
    "execution": {
     "iopub.execute_input": "2023-06-17T20:46:54.509462Z",
     "iopub.status.busy": "2023-06-17T20:46:54.507827Z",
     "iopub.status.idle": "2023-06-17T20:47:06.011188Z",
     "shell.execute_reply": "2023-06-17T20:47:06.007941Z",
     "shell.execute_reply.started": "2023-06-17T20:46:54.509367Z"
    },
    "tags": []
   },
   "outputs": [],
   "source": [
    "# install locally\n",
    "!python -m pip install -q -e ."
   ]
  },
  {
   "cell_type": "code",
   "execution_count": 15,
   "id": "8cec0e88-e3c2-4020-b9c9-176bcd255c46",
   "metadata": {
    "execution": {
     "iopub.execute_input": "2023-06-17T20:47:06.021246Z",
     "iopub.status.busy": "2023-06-17T20:47:06.020259Z",
     "iopub.status.idle": "2023-06-17T20:47:10.235077Z",
     "shell.execute_reply": "2023-06-17T20:47:10.232409Z",
     "shell.execute_reply.started": "2023-06-17T20:47:06.021153Z"
    }
   },
   "outputs": [
    {
     "name": "stdout",
     "output_type": "stream",
     "text": [
      "Name: pandasklar\n",
      "Version: 0.3.5\n",
      "Summary: Toolbox / Ecosystem for data science. Easier handling of pandas, especially when thinking in SQL.\n",
      "Home-page: \n",
      "Author: \n",
      "Author-email: djekra <hopsalla@gmail.com>\n",
      "License: MIT\n",
      "Location: /home/me/mambaforge/envs/python_07/lib/python3.10/site-packages\n",
      "Editable project location: /home/me/Data_Linux/Dropbox/31_Projekte/01_Python/git/pandasklar\n",
      "Requires: blab, bpyth, numpy, pandas, perlin-noise, termcolor\n",
      "Required-by: bludwig\n"
     ]
    }
   ],
   "source": [
    "# show\n",
    "!pip show pandasklar"
   ]
  },
  {
   "cell_type": "code",
   "execution_count": 16,
   "id": "baf8f2b6-2bb4-4460-b654-f4454bfec48f",
   "metadata": {
    "execution": {
     "iopub.execute_input": "2023-06-17T20:47:10.257059Z",
     "iopub.status.busy": "2023-06-17T20:47:10.256221Z",
     "iopub.status.idle": "2023-06-17T20:47:10.337361Z",
     "shell.execute_reply": "2023-06-17T20:47:10.336165Z",
     "shell.execute_reply.started": "2023-06-17T20:47:10.256974Z"
    }
   },
   "outputs": [],
   "source": [
    "# test import\n",
    "# Wenn dies failed: Restart Kernel and Run all Cells\n",
    "import pandasklar as pak"
   ]
  },
  {
   "cell_type": "code",
   "execution_count": 17,
   "id": "43f0bbdd-2df6-4534-a86e-77657d0329da",
   "metadata": {
    "execution": {
     "iopub.execute_input": "2023-06-17T20:47:10.345548Z",
     "iopub.status.busy": "2023-06-17T20:47:10.343057Z",
     "iopub.status.idle": "2023-06-17T20:47:13.441883Z",
     "shell.execute_reply": "2023-06-17T20:47:13.440327Z",
     "shell.execute_reply.started": "2023-06-17T20:47:10.345506Z"
    }
   },
   "outputs": [
    {
     "name": "stdout",
     "output_type": "stream",
     "text": [
      "Hello pandasklar 0.3.5\n"
     ]
    }
   ],
   "source": [
    "# test script\n",
    "!pandasklar"
   ]
  },
  {
   "cell_type": "code",
   "execution_count": 18,
   "id": "64159a70-deaa-44c3-8c7b-ea315c626cb3",
   "metadata": {
    "execution": {
     "iopub.execute_input": "2023-06-17T20:47:13.447687Z",
     "iopub.status.busy": "2023-06-17T20:47:13.447015Z",
     "iopub.status.idle": "2023-06-17T20:47:13.526157Z",
     "shell.execute_reply": "2023-06-17T20:47:13.518234Z",
     "shell.execute_reply.started": "2023-06-17T20:47:13.447611Z"
    }
   },
   "outputs": [
    {
     "name": "stdout",
     "output_type": "stream",
     "text": [
      "Stop Time:  22:47:13\n",
      "Elapsed:    22 secs\n"
     ]
    },
    {
     "data": {
      "text/html": [
       "<img src onerror=\"var cell = this.closest('.jp-CodeCell');var editor = cell.querySelector('.jp-Editor');editor.style.background='DarkGray';this.parentNode.removeChild(this)\">"
      ],
      "text/plain": [
       "<IPython.core.display.HTML object>"
      ]
     },
     "metadata": {},
     "output_type": "display_data"
    }
   ],
   "source": [
    "raise Stop"
   ]
  },
  {
   "cell_type": "markdown",
   "id": "efa2c656-785f-45b7-a3b5-a9ae251bce06",
   "metadata": {},
   "source": [
    "## build"
   ]
  },
  {
   "cell_type": "code",
   "execution_count": 19,
   "id": "f20cbd4d-b38b-4bc9-a750-b14851fb174b",
   "metadata": {
    "execution": {
     "iopub.execute_input": "2023-06-17T20:47:26.554715Z",
     "iopub.status.busy": "2023-06-17T20:47:26.553520Z",
     "iopub.status.idle": "2023-06-17T20:47:31.349582Z",
     "shell.execute_reply": "2023-06-17T20:47:31.346657Z",
     "shell.execute_reply.started": "2023-06-17T20:47:26.554667Z"
    }
   },
   "outputs": [],
   "source": [
    "!pip install -q build"
   ]
  },
  {
   "cell_type": "code",
   "execution_count": 20,
   "id": "c745f5da-d6e4-408a-aa73-1166ccc6fd5b",
   "metadata": {
    "execution": {
     "iopub.execute_input": "2023-06-17T20:47:31.367952Z",
     "iopub.status.busy": "2023-06-17T20:47:31.362551Z",
     "iopub.status.idle": "2023-06-17T20:47:40.739837Z",
     "shell.execute_reply": "2023-06-17T20:47:40.737973Z",
     "shell.execute_reply.started": "2023-06-17T20:47:31.367834Z"
    }
   },
   "outputs": [
    {
     "name": "stdout",
     "output_type": "stream",
     "text": [
      "\u001b[1m* Creating virtualenv isolated environment...\u001b[0m\n",
      "\u001b[1m* Installing packages in isolated environment... (setuptools>=61.0.0, wheel)\u001b[0m\n",
      "\u001b[1m* Getting build dependencies for sdist...\u001b[0m\n",
      "/tmp/build-env-_ky8ynno/lib/python3.10/site-packages/setuptools/config/pyprojecttoml.py:66: _BetaConfiguration: Support for `[tool.setuptools]` in `pyproject.toml` is still *beta*.\n",
      "  config = read_configuration(filepath, True, ignore_option_errors, dist)\n",
      "running egg_info\n",
      "writing src/pandasklar.egg-info/PKG-INFO\n",
      "writing dependency_links to src/pandasklar.egg-info/dependency_links.txt\n",
      "writing entry points to src/pandasklar.egg-info/entry_points.txt\n",
      "writing requirements to src/pandasklar.egg-info/requires.txt\n",
      "writing top-level names to src/pandasklar.egg-info/top_level.txt\n",
      "reading manifest file 'src/pandasklar.egg-info/SOURCES.txt'\n",
      "adding license file 'LICENSE'\n",
      "writing manifest file 'src/pandasklar.egg-info/SOURCES.txt'\n",
      "\u001b[1m* Building sdist...\u001b[0m\n",
      "/tmp/build-env-_ky8ynno/lib/python3.10/site-packages/setuptools/config/pyprojecttoml.py:66: _BetaConfiguration: Support for `[tool.setuptools]` in `pyproject.toml` is still *beta*.\n",
      "  config = read_configuration(filepath, True, ignore_option_errors, dist)\n",
      "running sdist\n",
      "running egg_info\n",
      "writing src/pandasklar.egg-info/PKG-INFO\n",
      "writing dependency_links to src/pandasklar.egg-info/dependency_links.txt\n",
      "writing entry points to src/pandasklar.egg-info/entry_points.txt\n",
      "writing requirements to src/pandasklar.egg-info/requires.txt\n",
      "writing top-level names to src/pandasklar.egg-info/top_level.txt\n",
      "reading manifest file 'src/pandasklar.egg-info/SOURCES.txt'\n",
      "adding license file 'LICENSE'\n",
      "writing manifest file 'src/pandasklar.egg-info/SOURCES.txt'\n",
      "running check\n",
      "creating pandasklar-0.3.5\n",
      "creating pandasklar-0.3.5/src\n",
      "creating pandasklar-0.3.5/src/pandasklar\n",
      "creating pandasklar-0.3.5/src/pandasklar.egg-info\n",
      "copying files to pandasklar-0.3.5...\n",
      "copying LICENSE -> pandasklar-0.3.5\n",
      "copying README.md -> pandasklar-0.3.5\n",
      "copying pyproject.toml -> pandasklar-0.3.5\n",
      "copying src/pandasklar/__init__.py -> pandasklar-0.3.5/src/pandasklar\n",
      "copying src/pandasklar/__main__.py -> pandasklar-0.3.5/src/pandasklar\n",
      "copying src/pandasklar/aggregate.py -> pandasklar-0.3.5/src/pandasklar\n",
      "copying src/pandasklar/analyse.py -> pandasklar-0.3.5/src/pandasklar\n",
      "copying src/pandasklar/compare.py -> pandasklar-0.3.5/src/pandasklar\n",
      "copying src/pandasklar/config.py -> pandasklar-0.3.5/src/pandasklar\n",
      "copying src/pandasklar/content.py -> pandasklar-0.3.5/src/pandasklar\n",
      "copying src/pandasklar/develop.py -> pandasklar-0.3.5/src/pandasklar\n",
      "copying src/pandasklar/pandas.py -> pandasklar-0.3.5/src/pandasklar\n",
      "copying src/pandasklar/plot.py -> pandasklar-0.3.5/src/pandasklar\n",
      "copying src/pandasklar/rank.py -> pandasklar-0.3.5/src/pandasklar\n",
      "copying src/pandasklar/scale.py -> pandasklar-0.3.5/src/pandasklar\n",
      "copying src/pandasklar/string.py -> pandasklar-0.3.5/src/pandasklar\n",
      "copying src/pandasklar/subsets.py -> pandasklar-0.3.5/src/pandasklar\n",
      "copying src/pandasklar/type_info.py -> pandasklar-0.3.5/src/pandasklar\n",
      "copying src/pandasklar/values_info.py -> pandasklar-0.3.5/src/pandasklar\n",
      "copying src/pandasklar.egg-info/PKG-INFO -> pandasklar-0.3.5/src/pandasklar.egg-info\n",
      "copying src/pandasklar.egg-info/SOURCES.txt -> pandasklar-0.3.5/src/pandasklar.egg-info\n",
      "copying src/pandasklar.egg-info/dependency_links.txt -> pandasklar-0.3.5/src/pandasklar.egg-info\n",
      "copying src/pandasklar.egg-info/entry_points.txt -> pandasklar-0.3.5/src/pandasklar.egg-info\n",
      "copying src/pandasklar.egg-info/requires.txt -> pandasklar-0.3.5/src/pandasklar.egg-info\n",
      "copying src/pandasklar.egg-info/top_level.txt -> pandasklar-0.3.5/src/pandasklar.egg-info\n",
      "Writing pandasklar-0.3.5/setup.cfg\n",
      "Creating tar archive\n",
      "removing 'pandasklar-0.3.5' (and everything under it)\n",
      "\u001b[1m* Building wheel from sdist\u001b[0m\n",
      "\u001b[1m* Creating virtualenv isolated environment...\u001b[0m\n",
      "\u001b[1m* Installing packages in isolated environment... (setuptools>=61.0.0, wheel)\u001b[0m\n",
      "\u001b[1m* Getting build dependencies for wheel...\u001b[0m\n",
      "/tmp/build-env-zpii6sgk/lib/python3.10/site-packages/setuptools/config/pyprojecttoml.py:66: _BetaConfiguration: Support for `[tool.setuptools]` in `pyproject.toml` is still *beta*.\n",
      "  config = read_configuration(filepath, True, ignore_option_errors, dist)\n",
      "running egg_info\n",
      "writing src/pandasklar.egg-info/PKG-INFO\n",
      "writing dependency_links to src/pandasklar.egg-info/dependency_links.txt\n",
      "writing entry points to src/pandasklar.egg-info/entry_points.txt\n",
      "writing requirements to src/pandasklar.egg-info/requires.txt\n",
      "writing top-level names to src/pandasklar.egg-info/top_level.txt\n",
      "reading manifest file 'src/pandasklar.egg-info/SOURCES.txt'\n",
      "adding license file 'LICENSE'\n",
      "writing manifest file 'src/pandasklar.egg-info/SOURCES.txt'\n",
      "\u001b[1m* Installing packages in isolated environment... (wheel)\u001b[0m\n",
      "\u001b[1m* Building wheel...\u001b[0m\n",
      "/tmp/build-env-zpii6sgk/lib/python3.10/site-packages/setuptools/config/pyprojecttoml.py:66: _BetaConfiguration: Support for `[tool.setuptools]` in `pyproject.toml` is still *beta*.\n",
      "  config = read_configuration(filepath, True, ignore_option_errors, dist)\n",
      "running bdist_wheel\n",
      "running build\n",
      "running build_py\n",
      "creating build\n",
      "creating build/lib\n",
      "creating build/lib/pandasklar\n",
      "copying src/pandasklar/aggregate.py -> build/lib/pandasklar\n",
      "copying src/pandasklar/__main__.py -> build/lib/pandasklar\n",
      "copying src/pandasklar/scale.py -> build/lib/pandasklar\n",
      "copying src/pandasklar/config.py -> build/lib/pandasklar\n",
      "copying src/pandasklar/plot.py -> build/lib/pandasklar\n",
      "copying src/pandasklar/content.py -> build/lib/pandasklar\n",
      "copying src/pandasklar/subsets.py -> build/lib/pandasklar\n",
      "copying src/pandasklar/analyse.py -> build/lib/pandasklar\n",
      "copying src/pandasklar/develop.py -> build/lib/pandasklar\n",
      "copying src/pandasklar/values_info.py -> build/lib/pandasklar\n",
      "copying src/pandasklar/pandas.py -> build/lib/pandasklar\n",
      "copying src/pandasklar/compare.py -> build/lib/pandasklar\n",
      "copying src/pandasklar/rank.py -> build/lib/pandasklar\n",
      "copying src/pandasklar/type_info.py -> build/lib/pandasklar\n",
      "copying src/pandasklar/string.py -> build/lib/pandasklar\n",
      "copying src/pandasklar/__init__.py -> build/lib/pandasklar\n",
      "running egg_info\n",
      "writing src/pandasklar.egg-info/PKG-INFO\n",
      "writing dependency_links to src/pandasklar.egg-info/dependency_links.txt\n",
      "writing entry points to src/pandasklar.egg-info/entry_points.txt\n",
      "writing requirements to src/pandasklar.egg-info/requires.txt\n",
      "writing top-level names to src/pandasklar.egg-info/top_level.txt\n",
      "reading manifest file 'src/pandasklar.egg-info/SOURCES.txt'\n",
      "adding license file 'LICENSE'\n",
      "writing manifest file 'src/pandasklar.egg-info/SOURCES.txt'\n",
      "installing to build/bdist.linux-x86_64/wheel\n",
      "running install\n",
      "running install_lib\n",
      "creating build/bdist.linux-x86_64\n",
      "creating build/bdist.linux-x86_64/wheel\n",
      "creating build/bdist.linux-x86_64/wheel/pandasklar\n",
      "copying build/lib/pandasklar/aggregate.py -> build/bdist.linux-x86_64/wheel/pandasklar\n",
      "copying build/lib/pandasklar/__main__.py -> build/bdist.linux-x86_64/wheel/pandasklar\n",
      "copying build/lib/pandasklar/scale.py -> build/bdist.linux-x86_64/wheel/pandasklar\n",
      "copying build/lib/pandasklar/config.py -> build/bdist.linux-x86_64/wheel/pandasklar\n",
      "copying build/lib/pandasklar/plot.py -> build/bdist.linux-x86_64/wheel/pandasklar\n",
      "copying build/lib/pandasklar/content.py -> build/bdist.linux-x86_64/wheel/pandasklar\n",
      "copying build/lib/pandasklar/subsets.py -> build/bdist.linux-x86_64/wheel/pandasklar\n",
      "copying build/lib/pandasklar/analyse.py -> build/bdist.linux-x86_64/wheel/pandasklar\n",
      "copying build/lib/pandasklar/develop.py -> build/bdist.linux-x86_64/wheel/pandasklar\n",
      "copying build/lib/pandasklar/values_info.py -> build/bdist.linux-x86_64/wheel/pandasklar\n",
      "copying build/lib/pandasklar/pandas.py -> build/bdist.linux-x86_64/wheel/pandasklar\n",
      "copying build/lib/pandasklar/compare.py -> build/bdist.linux-x86_64/wheel/pandasklar\n",
      "copying build/lib/pandasklar/rank.py -> build/bdist.linux-x86_64/wheel/pandasklar\n",
      "copying build/lib/pandasklar/type_info.py -> build/bdist.linux-x86_64/wheel/pandasklar\n",
      "copying build/lib/pandasklar/string.py -> build/bdist.linux-x86_64/wheel/pandasklar\n",
      "copying build/lib/pandasklar/__init__.py -> build/bdist.linux-x86_64/wheel/pandasklar\n",
      "running install_egg_info\n",
      "Copying src/pandasklar.egg-info to build/bdist.linux-x86_64/wheel/pandasklar-0.3.5-py3.10.egg-info\n",
      "running install_scripts\n",
      "creating build/bdist.linux-x86_64/wheel/pandasklar-0.3.5.dist-info/WHEEL\n",
      "creating '/home/me/Data_Linux/Dropbox/31_Projekte/01_Python/git/pandasklar/dist/.tmp-jw0thjzk/pandasklar-0.3.5-py3-none-any.whl' and adding 'build/bdist.linux-x86_64/wheel' to it\n",
      "adding 'pandasklar/__init__.py'\n",
      "adding 'pandasklar/__main__.py'\n",
      "adding 'pandasklar/aggregate.py'\n",
      "adding 'pandasklar/analyse.py'\n",
      "adding 'pandasklar/compare.py'\n",
      "adding 'pandasklar/config.py'\n",
      "adding 'pandasklar/content.py'\n",
      "adding 'pandasklar/develop.py'\n",
      "adding 'pandasklar/pandas.py'\n",
      "adding 'pandasklar/plot.py'\n",
      "adding 'pandasklar/rank.py'\n",
      "adding 'pandasklar/scale.py'\n",
      "adding 'pandasklar/string.py'\n",
      "adding 'pandasklar/subsets.py'\n",
      "adding 'pandasklar/type_info.py'\n",
      "adding 'pandasklar/values_info.py'\n",
      "adding 'pandasklar-0.3.5.dist-info/LICENSE'\n",
      "adding 'pandasklar-0.3.5.dist-info/METADATA'\n",
      "adding 'pandasklar-0.3.5.dist-info/WHEEL'\n",
      "adding 'pandasklar-0.3.5.dist-info/entry_points.txt'\n",
      "adding 'pandasklar-0.3.5.dist-info/top_level.txt'\n",
      "adding 'pandasklar-0.3.5.dist-info/RECORD'\n",
      "removing build/bdist.linux-x86_64/wheel\n",
      "\u001b[1m\u001b[92mSuccessfully built \u001b[4mpandasklar-0.3.5.tar.gz\u001b[0m\u001b[1m\u001b[92m and \u001b[4mpandasklar-0.3.5-py3-none-any.whl\u001b[0m\u001b[1m\u001b[92m\u001b[0m\n"
     ]
    }
   ],
   "source": [
    "!python -m build"
   ]
  },
  {
   "cell_type": "markdown",
   "id": "e6b13397-01f2-4ffb-9668-dc9a58196db9",
   "metadata": {},
   "source": [
    "## Publish on github"
   ]
  },
  {
   "cell_type": "code",
   "execution_count": 21,
   "id": "d444d5d8-ddb6-451e-9300-fa6424dde8f0",
   "metadata": {
    "execution": {
     "iopub.execute_input": "2023-06-17T20:47:40.751064Z",
     "iopub.status.busy": "2023-06-17T20:47:40.749901Z",
     "iopub.status.idle": "2023-06-17T20:47:41.622941Z",
     "shell.execute_reply": "2023-06-17T20:47:41.620233Z",
     "shell.execute_reply.started": "2023-06-17T20:47:40.750977Z"
    }
   },
   "outputs": [
    {
     "name": "stdout",
     "output_type": "stream",
     "text": [
      "Auf Branch master\n",
      "Änderungen, die nicht zum Commit vorgemerkt sind:\n",
      "  (benutzen Sie \"git add <Datei>...\", um die Änderungen zum Commit vorzumerken)\n",
      "  (benutzen Sie \"git restore <Datei>...\", um die Änderungen im Arbeitsverzeichnis zu verwerfen)\n",
      "\t\u001b[31mgeändert:       jupyter/10_Create_Random_Data.ipynb\u001b[m\n",
      "\t\u001b[31mgeändert:       jupyter/13_Analyse_Datatypes.ipynb\u001b[m\n",
      "\t\u001b[31mgeändert:       publish_pandasklar.ipynb\u001b[m\n",
      "\t\u001b[31mgeändert:       pyproject.toml\u001b[m\n",
      "\t\u001b[31mgeändert:       src/pandasklar/analyse.py\u001b[m\n",
      "\t\u001b[31mgeändert:       src/pandasklar/string.py\u001b[m\n",
      "\t\u001b[31mgeändert:       src/pandasklar/values_info.py\u001b[m\n",
      "\n",
      "keine Änderungen zum Commit vorgemerkt (benutzen Sie \"git add\" und/oder \"git commit -a\")\n"
     ]
    }
   ],
   "source": [
    "!git status"
   ]
  },
  {
   "cell_type": "code",
   "execution_count": 22,
   "id": "c6edb3f8-91d3-4a6d-8d9a-35e64e2f9239",
   "metadata": {
    "execution": {
     "iopub.execute_input": "2023-06-17T20:47:41.629849Z",
     "iopub.status.busy": "2023-06-17T20:47:41.629251Z",
     "iopub.status.idle": "2023-06-17T20:47:41.820554Z",
     "shell.execute_reply": "2023-06-17T20:47:41.818213Z",
     "shell.execute_reply.started": "2023-06-17T20:47:41.629787Z"
    }
   },
   "outputs": [],
   "source": [
    "!git config credential.helper store"
   ]
  },
  {
   "cell_type": "code",
   "execution_count": 23,
   "id": "a9a7e740-2661-43c1-9743-bef78afaba54",
   "metadata": {
    "execution": {
     "iopub.execute_input": "2023-06-17T20:47:41.827281Z",
     "iopub.status.busy": "2023-06-17T20:47:41.826934Z",
     "iopub.status.idle": "2023-06-17T20:47:42.413770Z",
     "shell.execute_reply": "2023-06-17T20:47:42.409874Z",
     "shell.execute_reply.started": "2023-06-17T20:47:41.827252Z"
    }
   },
   "outputs": [],
   "source": [
    "!git add --all"
   ]
  },
  {
   "cell_type": "code",
   "execution_count": 24,
   "id": "11087953-3aab-4adf-9561-3c151ee0f890",
   "metadata": {
    "execution": {
     "iopub.execute_input": "2023-06-17T20:47:42.441752Z",
     "iopub.status.busy": "2023-06-17T20:47:42.437247Z",
     "iopub.status.idle": "2023-06-17T20:47:43.116447Z",
     "shell.execute_reply": "2023-06-17T20:47:43.114918Z",
     "shell.execute_reply.started": "2023-06-17T20:47:42.441619Z"
    }
   },
   "outputs": [
    {
     "name": "stdout",
     "output_type": "stream",
     "text": [
      "[master f120d9f] commit_message\n",
      " 7 files changed, 5873 insertions(+), 4674 deletions(-)\n",
      " rewrite jupyter/10_Create_Random_Data.ipynb (80%)\n",
      " rewrite publish_pandasklar.ipynb (67%)\n"
     ]
    }
   ],
   "source": [
    "# Commit message eintragen und run\n",
    "!git commit -m commit_message"
   ]
  },
  {
   "cell_type": "code",
   "execution_count": 25,
   "id": "2a2dd0f9-4eb4-4750-acae-6ad18982dabf",
   "metadata": {
    "execution": {
     "iopub.execute_input": "2023-06-17T20:47:43.124341Z",
     "iopub.status.busy": "2023-06-17T20:47:43.122788Z",
     "iopub.status.idle": "2023-06-17T20:47:44.958048Z",
     "shell.execute_reply": "2023-06-17T20:47:44.956491Z",
     "shell.execute_reply.started": "2023-06-17T20:47:43.124245Z"
    },
    "tags": []
   },
   "outputs": [
    {
     "name": "stdout",
     "output_type": "stream",
     "text": [
      "Objekte aufzählen: 23, fertig.\n",
      "Zähle Objekte: 100% (23/23), fertig.\n",
      "Delta-Kompression verwendet bis zu 2 Threads.\n",
      "Komprimiere Objekte: 100% (11/11), fertig.\n",
      "Schreibe Objekte: 100% (12/12), 867.07 KiB | 11.26 MiB/s, fertig.\n",
      "Gesamt 12 (Delta 9), Wiederverwendet 0 (Delta 0), Pack wiederverwendet 0\n",
      "remote: Resolving deltas: 100% (9/9), completed with 9 local objects.\u001b[K\n",
      "To https://github.com/djekra/pandasklar\n",
      "   02d50c3..f120d9f  master -> master\n"
     ]
    }
   ],
   "source": [
    "!git push origin master"
   ]
  },
  {
   "cell_type": "code",
   "execution_count": 26,
   "id": "592c9efd-54a8-4e9a-ae55-83ab3e6f1463",
   "metadata": {
    "execution": {
     "iopub.execute_input": "2023-06-17T20:47:44.967415Z",
     "iopub.status.busy": "2023-06-17T20:47:44.964231Z",
     "iopub.status.idle": "2023-06-17T20:47:45.023154Z",
     "shell.execute_reply": "2023-06-17T20:47:45.019503Z",
     "shell.execute_reply.started": "2023-06-17T20:47:44.967363Z"
    }
   },
   "outputs": [
    {
     "name": "stdout",
     "output_type": "stream",
     "text": [
      "Stop Time:  22:47:45\n",
      "Elapsed:    54 secs\n"
     ]
    },
    {
     "data": {
      "text/html": [
       "<img src onerror=\"var cell = this.closest('.jp-CodeCell');var editor = cell.querySelector('.jp-Editor');editor.style.background='DarkGray';this.parentNode.removeChild(this)\">"
      ],
      "text/plain": [
       "<IPython.core.display.HTML object>"
      ]
     },
     "metadata": {},
     "output_type": "display_data"
    }
   ],
   "source": [
    "raise Stop"
   ]
  },
  {
   "cell_type": "markdown",
   "id": "3d13ba76-74b6-44cd-a2f0-3b8087890032",
   "metadata": {},
   "source": [
    "* Terminal ins Verzeichnis öffnen\n",
    "* `git push origin master`\n",
    "* Personal Access Token verwenden statt Passwort\n",
    "* überprüfen: https://github.com/djekra/pandasklar"
   ]
  },
  {
   "cell_type": "markdown",
   "id": "1bee5aa0-6520-42a1-9993-a3a0f18e0bad",
   "metadata": {},
   "source": [
    "## Publish on pypi.org"
   ]
  },
  {
   "cell_type": "markdown",
   "id": "2fe58367-ce3a-4e94-8085-b5e1f4aa5932",
   "metadata": {},
   "source": [
    "* `python -m twine upload --skip-existing dist/*` \n",
    "* Version überprüfen: https://pypi.org/project/pandasklar/"
   ]
  },
  {
   "cell_type": "markdown",
   "id": "16c9f64f-40af-41ac-90db-f802bb8f73c1",
   "metadata": {},
   "source": [
    "## Test from PyPi"
   ]
  },
  {
   "cell_type": "code",
   "execution_count": null,
   "id": "3af8896f-3f40-4d28-a365-fc4c0cb4228f",
   "metadata": {
    "execution": {
     "iopub.status.busy": "2023-06-17T20:47:45.025782Z",
     "iopub.status.idle": "2023-06-17T20:47:45.028935Z",
     "shell.execute_reply": "2023-06-17T20:47:45.028676Z",
     "shell.execute_reply.started": "2023-06-17T20:47:45.028643Z"
    }
   },
   "outputs": [],
   "source": [
    "# uninstall\n",
    "!pip uninstall -y pandasklar"
   ]
  },
  {
   "cell_type": "code",
   "execution_count": null,
   "id": "8ea8f83c-6970-424a-993d-f8e378e5faa9",
   "metadata": {
    "execution": {
     "iopub.status.busy": "2023-06-17T20:47:45.035179Z",
     "iopub.status.idle": "2023-06-17T20:47:45.037932Z",
     "shell.execute_reply": "2023-06-17T20:47:45.037698Z",
     "shell.execute_reply.started": "2023-06-17T20:47:45.037665Z"
    }
   },
   "outputs": [],
   "source": [
    "!pip install pandasklar --no-cache-dir "
   ]
  },
  {
   "cell_type": "code",
   "execution_count": null,
   "id": "5655c1d6-916d-4f5a-90aa-1877b6a5317b",
   "metadata": {
    "execution": {
     "iopub.status.busy": "2023-06-17T20:47:45.042037Z",
     "iopub.status.idle": "2023-06-17T20:47:45.044876Z",
     "shell.execute_reply": "2023-06-17T20:47:45.044565Z",
     "shell.execute_reply.started": "2023-06-17T20:47:45.044523Z"
    }
   },
   "outputs": [],
   "source": [
    "# test import\n",
    "import pandasklar as pak"
   ]
  },
  {
   "cell_type": "code",
   "execution_count": null,
   "id": "b1a1633d-62ad-4088-8b90-6447cc84daf6",
   "metadata": {
    "execution": {
     "iopub.status.busy": "2023-06-17T20:47:45.054664Z",
     "iopub.status.idle": "2023-06-17T20:47:45.058743Z",
     "shell.execute_reply": "2023-06-17T20:47:45.056555Z",
     "shell.execute_reply.started": "2023-06-17T20:47:45.056493Z"
    }
   },
   "outputs": [],
   "source": [
    "# test script\n",
    "!pandasklar"
   ]
  },
  {
   "cell_type": "code",
   "execution_count": null,
   "id": "d734da84-24da-4fa9-8a12-139486f7bf76",
   "metadata": {
    "execution": {
     "iopub.status.busy": "2023-06-17T20:47:45.060663Z",
     "iopub.status.idle": "2023-06-17T20:47:45.064612Z",
     "shell.execute_reply": "2023-06-17T20:47:45.063298Z",
     "shell.execute_reply.started": "2023-06-17T20:47:45.063249Z"
    },
    "tags": []
   },
   "outputs": [],
   "source": [
    "# show version\n",
    "from importlib.metadata import version  \n",
    "version('pandasklar')  "
   ]
  }
 ],
 "metadata": {
  "kernelspec": {
   "display_name": "Python 3 (ipykernel)",
   "language": "python",
   "name": "python3"
  },
  "language_info": {
   "codemirror_mode": {
    "name": "ipython",
    "version": 3
   },
   "file_extension": ".py",
   "mimetype": "text/x-python",
   "name": "python",
   "nbconvert_exporter": "python",
   "pygments_lexer": "ipython3",
   "version": "3.10.11"
  }
 },
 "nbformat": 4,
 "nbformat_minor": 5
}
