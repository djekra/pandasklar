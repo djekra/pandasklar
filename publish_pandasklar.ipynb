{
 "cells": [
  {
   "cell_type": "markdown",
   "id": "4b8437a0-f586-4b27-ac6d-6dc93cf84169",
   "metadata": {},
   "source": [
    "## Create README"
   ]
  },
  {
   "cell_type": "code",
   "execution_count": 1,
   "id": "73a96aa2-8c8a-4964-8361-671d9d4bdce6",
   "metadata": {},
   "outputs": [
    {
     "name": "stdout",
     "output_type": "stream",
     "text": [
      "[NbConvertApp] Converting notebook README.ipynb to markdown\n",
      "[NbConvertApp] Writing 9125 bytes to README.md\n"
     ]
    }
   ],
   "source": [
    "!jupyter nbconvert --ClearMetadataPreprocessor.enabled=True --ClearOutput.enabled=True --to markdown README.ipynb"
   ]
  },
  {
   "cell_type": "markdown",
   "id": "a4547f78-251b-45b5-a478-27dc691d193b",
   "metadata": {},
   "source": [
    "## Local install"
   ]
  },
  {
   "cell_type": "code",
   "execution_count": 2,
   "id": "30be06b0-90b1-41b1-a63d-9cec8e4a05ab",
   "metadata": {},
   "outputs": [
    {
     "name": "stdout",
     "output_type": "stream",
     "text": [
      "Found existing installation: pandasklar 0.1.2\n",
      "Uninstalling pandasklar-0.1.2:\n",
      "  Successfully uninstalled pandasklar-0.1.2\n"
     ]
    }
   ],
   "source": [
    "# uninstall\n",
    "!pip uninstall -y pandasklar"
   ]
  },
  {
   "cell_type": "code",
   "execution_count": 3,
   "id": "f345ee0f-748f-40be-8578-8ad4ac4d9fe3",
   "metadata": {},
   "outputs": [
    {
     "name": "stdout",
     "output_type": "stream",
     "text": [
      "Obtaining file:///home/me/Data_Linux/Dropbox/31_Projekte/01_Python/git/pandasklar\n",
      "  Installing build dependencies ... \u001b[?25ldone\n",
      "\u001b[?25h  Checking if build backend supports build_editable ... \u001b[?25ldone\n",
      "\u001b[?25h  Getting requirements to build editable ... \u001b[?25ldone\n",
      "\u001b[?25h  Preparing editable metadata (pyproject.toml) ... \u001b[?25ldone\n",
      "\u001b[?25hRequirement already satisfied: numpy in /home/me/mambaforge/envs/python_06/lib/python3.9/site-packages (from pandasklar==0.1.2) (1.23.4)\n",
      "Requirement already satisfied: bpyth in /home/me/mambaforge/envs/python_06/lib/python3.9/site-packages (from pandasklar==0.1.2) (0.1.3)\n",
      "Requirement already satisfied: perlin-noise in /home/me/mambaforge/envs/python_06/lib/python3.9/site-packages (from pandasklar==0.1.2) (1.12)\n",
      "Requirement already satisfied: dtale in /home/me/mambaforge/envs/python_06/lib/python3.9/site-packages (from pandasklar==0.1.2) (2.8.1)\n",
      "Requirement already satisfied: blab in /home/me/mambaforge/envs/python_06/lib/python3.9/site-packages (from pandasklar==0.1.2) (0.1.1)\n",
      "Requirement already satisfied: pandas in /home/me/mambaforge/envs/python_06/lib/python3.9/site-packages (from pandasklar==0.1.2) (1.5.1)\n",
      "Requirement already satisfied: seaborn in /home/me/mambaforge/envs/python_06/lib/python3.9/site-packages (from pandasklar==0.1.2) (0.12.0)\n",
      "Requirement already satisfied: matplotlib in /home/me/mambaforge/envs/python_06/lib/python3.9/site-packages (from blab->pandasklar==0.1.2) (3.6.1)\n",
      "Requirement already satisfied: ipytest in /home/me/mambaforge/envs/python_06/lib/python3.9/site-packages (from blab->pandasklar==0.1.2) (0.12.0)\n",
      "Requirement already satisfied: nbformat in /home/me/mambaforge/envs/python_06/lib/python3.9/site-packages (from blab->pandasklar==0.1.2) (5.7.0)\n",
      "Requirement already satisfied: ipython-autotime in /home/me/mambaforge/envs/python_06/lib/python3.9/site-packages (from blab->pandasklar==0.1.2) (0.1)\n",
      "Requirement already satisfied: nbconvert in /home/me/mambaforge/envs/python_06/lib/python3.9/site-packages (from blab->pandasklar==0.1.2) (7.2.3)\n",
      "Requirement already satisfied: missingno<=0.4.2 in /home/me/mambaforge/envs/python_06/lib/python3.9/site-packages (from dtale->pandasklar==0.1.2) (0.4.2)\n",
      "Requirement already satisfied: scikit-learn in /home/me/mambaforge/envs/python_06/lib/python3.9/site-packages (from dtale->pandasklar==0.1.2) (1.1.3)\n",
      "Requirement already satisfied: squarify in /home/me/mambaforge/envs/python_06/lib/python3.9/site-packages (from dtale->pandasklar==0.1.2) (0.4.3)\n",
      "Requirement already satisfied: strsimpy in /home/me/mambaforge/envs/python_06/lib/python3.9/site-packages (from dtale->pandasklar==0.1.2) (0.1.9)\n",
      "Requirement already satisfied: six in /home/me/mambaforge/envs/python_06/lib/python3.9/site-packages (from dtale->pandasklar==0.1.2) (1.16.0)\n",
      "Requirement already satisfied: Flask in /home/me/mambaforge/envs/python_06/lib/python3.9/site-packages (from dtale->pandasklar==0.1.2) (2.2.2)\n",
      "Requirement already satisfied: certifi in /home/me/mambaforge/envs/python_06/lib/python3.9/site-packages (from dtale->pandasklar==0.1.2) (2022.9.24)\n",
      "Requirement already satisfied: cycler in /home/me/mambaforge/envs/python_06/lib/python3.9/site-packages (from dtale->pandasklar==0.1.2) (0.11.0)\n",
      "Requirement already satisfied: dash-colorscales in /home/me/mambaforge/envs/python_06/lib/python3.9/site-packages (from dtale->pandasklar==0.1.2) (0.0.4)\n",
      "Requirement already satisfied: xarray in /home/me/mambaforge/envs/python_06/lib/python3.9/site-packages (from dtale->pandasklar==0.1.2) (2022.10.0)\n",
      "Requirement already satisfied: lz4 in /home/me/mambaforge/envs/python_06/lib/python3.9/site-packages (from dtale->pandasklar==0.1.2) (4.0.2)\n",
      "Requirement already satisfied: dash-daq in /home/me/mambaforge/envs/python_06/lib/python3.9/site-packages (from dtale->pandasklar==0.1.2) (0.5.0)\n",
      "Requirement already satisfied: future>=0.14.0 in /home/me/mambaforge/envs/python_06/lib/python3.9/site-packages (from dtale->pandasklar==0.1.2) (0.18.2)\n",
      "Requirement already satisfied: scipy in /home/me/mambaforge/envs/python_06/lib/python3.9/site-packages (from dtale->pandasklar==0.1.2) (1.9.3)\n",
      "Requirement already satisfied: openpyxl in /home/me/mambaforge/envs/python_06/lib/python3.9/site-packages (from dtale->pandasklar==0.1.2) (3.0.10)\n",
      "Requirement already satisfied: networkx in /home/me/mambaforge/envs/python_06/lib/python3.9/site-packages (from dtale->pandasklar==0.1.2) (2.8.7)\n",
      "Requirement already satisfied: dash-bootstrap-components in /home/me/mambaforge/envs/python_06/lib/python3.9/site-packages (from dtale->pandasklar==0.1.2) (1.2.1)\n",
      "Requirement already satisfied: statsmodels in /home/me/mambaforge/envs/python_06/lib/python3.9/site-packages (from dtale->pandasklar==0.1.2) (0.13.2)\n",
      "Requirement already satisfied: requests in /home/me/mambaforge/envs/python_06/lib/python3.9/site-packages (from dtale->pandasklar==0.1.2) (2.28.1)\n",
      "Requirement already satisfied: itsdangerous in /home/me/mambaforge/envs/python_06/lib/python3.9/site-packages (from dtale->pandasklar==0.1.2) (2.1.2)\n",
      "Requirement already satisfied: flask-ngrok in /home/me/mambaforge/envs/python_06/lib/python3.9/site-packages (from dtale->pandasklar==0.1.2) (0.0.25)\n",
      "Requirement already satisfied: xlrd in /home/me/mambaforge/envs/python_06/lib/python3.9/site-packages (from dtale->pandasklar==0.1.2) (2.0.1)\n",
      "Requirement already satisfied: et-xmlfile in /home/me/mambaforge/envs/python_06/lib/python3.9/site-packages (from dtale->pandasklar==0.1.2) (1.0.1)\n",
      "Requirement already satisfied: kaleido in /home/me/mambaforge/envs/python_06/lib/python3.9/site-packages (from dtale->pandasklar==0.1.2) (0.2.1)\n",
      "Requirement already satisfied: Flask-Compress in /home/me/mambaforge/envs/python_06/lib/python3.9/site-packages (from dtale->pandasklar==0.1.2) (1.13)\n",
      "Requirement already satisfied: dash>=2.0.0 in /home/me/mambaforge/envs/python_06/lib/python3.9/site-packages (from dtale->pandasklar==0.1.2) (2.6.2)\n",
      "Requirement already satisfied: plotly>=5.0.0 in /home/me/mambaforge/envs/python_06/lib/python3.9/site-packages (from dtale->pandasklar==0.1.2) (5.11.0)\n",
      "Requirement already satisfied: python-dateutil>=2.8.1 in /home/me/mambaforge/envs/python_06/lib/python3.9/site-packages (from pandas->pandasklar==0.1.2) (2.8.2)\n",
      "Requirement already satisfied: pytz>=2020.1 in /home/me/mambaforge/envs/python_06/lib/python3.9/site-packages (from pandas->pandasklar==0.1.2) (2022.5)\n",
      "Requirement already satisfied: dash-table==5.0.0 in /home/me/mambaforge/envs/python_06/lib/python3.9/site-packages (from dash>=2.0.0->dtale->pandasklar==0.1.2) (5.0.0)\n",
      "Requirement already satisfied: dash-html-components==2.0.0 in /home/me/mambaforge/envs/python_06/lib/python3.9/site-packages (from dash>=2.0.0->dtale->pandasklar==0.1.2) (2.0.0)\n",
      "Requirement already satisfied: dash-core-components==2.0.0 in /home/me/mambaforge/envs/python_06/lib/python3.9/site-packages (from dash>=2.0.0->dtale->pandasklar==0.1.2) (2.0.0)\n",
      "Requirement already satisfied: Jinja2>=3.0 in /home/me/mambaforge/envs/python_06/lib/python3.9/site-packages (from Flask->dtale->pandasklar==0.1.2) (3.1.2)\n",
      "Requirement already satisfied: click>=8.0 in /home/me/mambaforge/envs/python_06/lib/python3.9/site-packages (from Flask->dtale->pandasklar==0.1.2) (8.1.3)\n",
      "Requirement already satisfied: importlib-metadata>=3.6.0 in /home/me/mambaforge/envs/python_06/lib/python3.9/site-packages (from Flask->dtale->pandasklar==0.1.2) (5.0.0)\n",
      "Requirement already satisfied: Werkzeug>=2.2.2 in /home/me/mambaforge/envs/python_06/lib/python3.9/site-packages (from Flask->dtale->pandasklar==0.1.2) (2.2.2)\n",
      "Requirement already satisfied: pillow>=6.2.0 in /home/me/mambaforge/envs/python_06/lib/python3.9/site-packages (from matplotlib->blab->pandasklar==0.1.2) (9.2.0)\n",
      "Requirement already satisfied: fonttools>=4.22.0 in /home/me/mambaforge/envs/python_06/lib/python3.9/site-packages (from matplotlib->blab->pandasklar==0.1.2) (4.38.0)\n",
      "Requirement already satisfied: kiwisolver>=1.0.1 in /home/me/mambaforge/envs/python_06/lib/python3.9/site-packages (from matplotlib->blab->pandasklar==0.1.2) (1.4.4)\n",
      "Requirement already satisfied: contourpy>=1.0.1 in /home/me/mambaforge/envs/python_06/lib/python3.9/site-packages (from matplotlib->blab->pandasklar==0.1.2) (1.0.6)\n",
      "Requirement already satisfied: packaging>=20.0 in /home/me/mambaforge/envs/python_06/lib/python3.9/site-packages (from matplotlib->blab->pandasklar==0.1.2) (21.3)\n",
      "Requirement already satisfied: pyparsing>=2.2.1 in /home/me/mambaforge/envs/python_06/lib/python3.9/site-packages (from matplotlib->blab->pandasklar==0.1.2) (3.0.9)\n",
      "Requirement already satisfied: tenacity>=6.2.0 in /home/me/mambaforge/envs/python_06/lib/python3.9/site-packages (from plotly>=5.0.0->dtale->pandasklar==0.1.2) (8.1.0)\n",
      "Requirement already satisfied: brotli in /home/me/mambaforge/envs/python_06/lib/python3.9/site-packages (from Flask-Compress->dtale->pandasklar==0.1.2) (1.0.9)\n",
      "Requirement already satisfied: ipython in /home/me/mambaforge/envs/python_06/lib/python3.9/site-packages (from ipytest->blab->pandasklar==0.1.2) (8.6.0)\n",
      "Requirement already satisfied: pytest>=5.4 in /home/me/mambaforge/envs/python_06/lib/python3.9/site-packages (from ipytest->blab->pandasklar==0.1.2) (7.2.0)\n",
      "Requirement already satisfied: traitlets>=5.0 in /home/me/mambaforge/envs/python_06/lib/python3.9/site-packages (from nbconvert->blab->pandasklar==0.1.2) (5.5.0)\n",
      "Requirement already satisfied: pygments>=2.4.1 in /home/me/mambaforge/envs/python_06/lib/python3.9/site-packages (from nbconvert->blab->pandasklar==0.1.2) (2.13.0)\n",
      "Requirement already satisfied: pandocfilters>=1.4.1 in /home/me/mambaforge/envs/python_06/lib/python3.9/site-packages (from nbconvert->blab->pandasklar==0.1.2) (1.5.0)\n",
      "Requirement already satisfied: jupyterlab-pygments in /home/me/mambaforge/envs/python_06/lib/python3.9/site-packages (from nbconvert->blab->pandasklar==0.1.2) (0.2.2)\n",
      "Requirement already satisfied: jupyter-core>=4.7 in /home/me/mambaforge/envs/python_06/lib/python3.9/site-packages (from nbconvert->blab->pandasklar==0.1.2) (4.11.1)\n",
      "Requirement already satisfied: markupsafe>=2.0 in /home/me/mambaforge/envs/python_06/lib/python3.9/site-packages (from nbconvert->blab->pandasklar==0.1.2) (2.1.1)\n",
      "Requirement already satisfied: mistune<3,>=2.0.3 in /home/me/mambaforge/envs/python_06/lib/python3.9/site-packages (from nbconvert->blab->pandasklar==0.1.2) (2.0.4)\n",
      "Requirement already satisfied: beautifulsoup4 in /home/me/mambaforge/envs/python_06/lib/python3.9/site-packages (from nbconvert->blab->pandasklar==0.1.2) (4.11.1)\n",
      "Requirement already satisfied: nbclient>=0.5.0 in /home/me/mambaforge/envs/python_06/lib/python3.9/site-packages (from nbconvert->blab->pandasklar==0.1.2) (0.7.0)\n",
      "Requirement already satisfied: bleach in /home/me/mambaforge/envs/python_06/lib/python3.9/site-packages (from nbconvert->blab->pandasklar==0.1.2) (5.0.1)\n",
      "Requirement already satisfied: defusedxml in /home/me/mambaforge/envs/python_06/lib/python3.9/site-packages (from nbconvert->blab->pandasklar==0.1.2) (0.7.1)\n",
      "Requirement already satisfied: tinycss2 in /home/me/mambaforge/envs/python_06/lib/python3.9/site-packages (from nbconvert->blab->pandasklar==0.1.2) (1.2.1)\n",
      "Requirement already satisfied: fastjsonschema in /home/me/mambaforge/envs/python_06/lib/python3.9/site-packages (from nbformat->blab->pandasklar==0.1.2) (2.16.2)\n",
      "Requirement already satisfied: jsonschema>=2.6 in /home/me/mambaforge/envs/python_06/lib/python3.9/site-packages (from nbformat->blab->pandasklar==0.1.2) (4.16.0)\n",
      "Requirement already satisfied: charset-normalizer<3,>=2 in /home/me/mambaforge/envs/python_06/lib/python3.9/site-packages (from requests->dtale->pandasklar==0.1.2) (2.1.1)\n",
      "Requirement already satisfied: urllib3<1.27,>=1.21.1 in /home/me/mambaforge/envs/python_06/lib/python3.9/site-packages (from requests->dtale->pandasklar==0.1.2) (1.26.11)\n",
      "Requirement already satisfied: idna<4,>=2.5 in /home/me/mambaforge/envs/python_06/lib/python3.9/site-packages (from requests->dtale->pandasklar==0.1.2) (3.4)\n",
      "Requirement already satisfied: joblib>=1.0.0 in /home/me/mambaforge/envs/python_06/lib/python3.9/site-packages (from scikit-learn->dtale->pandasklar==0.1.2) (1.2.0)\n",
      "Requirement already satisfied: threadpoolctl>=2.0.0 in /home/me/mambaforge/envs/python_06/lib/python3.9/site-packages (from scikit-learn->dtale->pandasklar==0.1.2) (3.1.0)\n",
      "Requirement already satisfied: patsy>=0.5.2 in /home/me/mambaforge/envs/python_06/lib/python3.9/site-packages (from statsmodels->dtale->pandasklar==0.1.2) (0.5.3)\n",
      "Requirement already satisfied: zipp>=0.5 in /home/me/mambaforge/envs/python_06/lib/python3.9/site-packages (from importlib-metadata>=3.6.0->Flask->dtale->pandasklar==0.1.2) (3.10.0)\n",
      "Requirement already satisfied: pyrsistent!=0.17.0,!=0.17.1,!=0.17.2,>=0.14.0 in /home/me/mambaforge/envs/python_06/lib/python3.9/site-packages (from jsonschema>=2.6->nbformat->blab->pandasklar==0.1.2) (0.18.1)\n",
      "Requirement already satisfied: attrs>=17.4.0 in /home/me/mambaforge/envs/python_06/lib/python3.9/site-packages (from jsonschema>=2.6->nbformat->blab->pandasklar==0.1.2) (22.1.0)\n",
      "Requirement already satisfied: jupyter-client>=6.1.5 in /home/me/mambaforge/envs/python_06/lib/python3.9/site-packages (from nbclient>=0.5.0->nbconvert->blab->pandasklar==0.1.2) (7.4.4)\n",
      "Requirement already satisfied: nest-asyncio in /home/me/mambaforge/envs/python_06/lib/python3.9/site-packages (from nbclient>=0.5.0->nbconvert->blab->pandasklar==0.1.2) (1.5.6)\n",
      "Requirement already satisfied: iniconfig in /home/me/mambaforge/envs/python_06/lib/python3.9/site-packages (from pytest>=5.4->ipytest->blab->pandasklar==0.1.2) (1.1.1)\n",
      "Requirement already satisfied: pluggy<2.0,>=0.12 in /home/me/mambaforge/envs/python_06/lib/python3.9/site-packages (from pytest>=5.4->ipytest->blab->pandasklar==0.1.2) (1.0.0)\n",
      "Requirement already satisfied: exceptiongroup>=1.0.0rc8 in /home/me/mambaforge/envs/python_06/lib/python3.9/site-packages (from pytest>=5.4->ipytest->blab->pandasklar==0.1.2) (1.0.0)\n",
      "Requirement already satisfied: tomli>=1.0.0 in /home/me/mambaforge/envs/python_06/lib/python3.9/site-packages (from pytest>=5.4->ipytest->blab->pandasklar==0.1.2) (2.0.1)\n",
      "Requirement already satisfied: soupsieve>1.2 in /home/me/mambaforge/envs/python_06/lib/python3.9/site-packages (from beautifulsoup4->nbconvert->blab->pandasklar==0.1.2) (2.3.2.post1)\n",
      "Requirement already satisfied: webencodings in /home/me/mambaforge/envs/python_06/lib/python3.9/site-packages (from bleach->nbconvert->blab->pandasklar==0.1.2) (0.5.1)\n",
      "Requirement already satisfied: decorator in /home/me/mambaforge/envs/python_06/lib/python3.9/site-packages (from ipython->ipytest->blab->pandasklar==0.1.2) (5.1.1)\n",
      "Requirement already satisfied: jedi>=0.16 in /home/me/mambaforge/envs/python_06/lib/python3.9/site-packages (from ipython->ipytest->blab->pandasklar==0.1.2) (0.18.1)\n",
      "Requirement already satisfied: prompt-toolkit<3.1.0,>3.0.1 in /home/me/mambaforge/envs/python_06/lib/python3.9/site-packages (from ipython->ipytest->blab->pandasklar==0.1.2) (3.0.31)\n",
      "Requirement already satisfied: pickleshare in /home/me/mambaforge/envs/python_06/lib/python3.9/site-packages (from ipython->ipytest->blab->pandasklar==0.1.2) (0.7.5)\n",
      "Requirement already satisfied: stack-data in /home/me/mambaforge/envs/python_06/lib/python3.9/site-packages (from ipython->ipytest->blab->pandasklar==0.1.2) (0.5.1)\n",
      "Requirement already satisfied: pexpect>4.3 in /home/me/mambaforge/envs/python_06/lib/python3.9/site-packages (from ipython->ipytest->blab->pandasklar==0.1.2) (4.8.0)\n",
      "Requirement already satisfied: matplotlib-inline in /home/me/mambaforge/envs/python_06/lib/python3.9/site-packages (from ipython->ipytest->blab->pandasklar==0.1.2) (0.1.6)\n",
      "Requirement already satisfied: backcall in /home/me/mambaforge/envs/python_06/lib/python3.9/site-packages (from ipython->ipytest->blab->pandasklar==0.1.2) (0.2.0)\n",
      "Requirement already satisfied: parso<0.9.0,>=0.8.0 in /home/me/mambaforge/envs/python_06/lib/python3.9/site-packages (from jedi>=0.16->ipython->ipytest->blab->pandasklar==0.1.2) (0.8.3)\n",
      "Requirement already satisfied: tornado>=6.2 in /home/me/mambaforge/envs/python_06/lib/python3.9/site-packages (from jupyter-client>=6.1.5->nbclient>=0.5.0->nbconvert->blab->pandasklar==0.1.2) (6.2)\n",
      "Requirement already satisfied: entrypoints in /home/me/mambaforge/envs/python_06/lib/python3.9/site-packages (from jupyter-client>=6.1.5->nbclient>=0.5.0->nbconvert->blab->pandasklar==0.1.2) (0.4)\n",
      "Requirement already satisfied: pyzmq>=23.0 in /home/me/mambaforge/envs/python_06/lib/python3.9/site-packages (from jupyter-client>=6.1.5->nbclient>=0.5.0->nbconvert->blab->pandasklar==0.1.2) (24.0.1)\n",
      "Requirement already satisfied: ptyprocess>=0.5 in /home/me/mambaforge/envs/python_06/lib/python3.9/site-packages (from pexpect>4.3->ipython->ipytest->blab->pandasklar==0.1.2) (0.7.0)\n",
      "Requirement already satisfied: wcwidth in /home/me/mambaforge/envs/python_06/lib/python3.9/site-packages (from prompt-toolkit<3.1.0,>3.0.1->ipython->ipytest->blab->pandasklar==0.1.2) (0.2.5)\n",
      "Requirement already satisfied: executing in /home/me/mambaforge/envs/python_06/lib/python3.9/site-packages (from stack-data->ipython->ipytest->blab->pandasklar==0.1.2) (1.1.1)\n",
      "Requirement already satisfied: pure-eval in /home/me/mambaforge/envs/python_06/lib/python3.9/site-packages (from stack-data->ipython->ipytest->blab->pandasklar==0.1.2) (0.2.2)\n",
      "Requirement already satisfied: asttokens in /home/me/mambaforge/envs/python_06/lib/python3.9/site-packages (from stack-data->ipython->ipytest->blab->pandasklar==0.1.2) (2.0.8)\n",
      "Building wheels for collected packages: pandasklar\n",
      "  Building editable for pandasklar (pyproject.toml) ... \u001b[?25ldone\n",
      "\u001b[?25h  Created wheel for pandasklar: filename=pandasklar-0.1.2-0.editable-py3-none-any.whl size=5894 sha256=43ff06f942d06c90a8c038b592f29e5a3e1e1cefe7b94a24d67c4b71fbfd35ca\n",
      "  Stored in directory: /tmp/pip-ephem-wheel-cache-16rp_91f/wheels/3c/8c/6e/75db442ae394977816362c8a808095e7b0e3c41de5c8c3233a\n",
      "Successfully built pandasklar\n",
      "Installing collected packages: pandasklar\n",
      "Successfully installed pandasklar-0.1.2\n"
     ]
    }
   ],
   "source": [
    "# install locally\n",
    "!python -m pip install -e ."
   ]
  },
  {
   "cell_type": "code",
   "execution_count": 4,
   "id": "8cec0e88-e3c2-4020-b9c9-176bcd255c46",
   "metadata": {},
   "outputs": [
    {
     "name": "stdout",
     "output_type": "stream",
     "text": [
      "Name: pandasklar\n",
      "Version: 0.1.2\n",
      "Summary: Toolbox / Ecosystem for data science. Easier handling of pandas, especially when thinking in SQL.\n",
      "Home-page: \n",
      "Author: \n",
      "Author-email: djekra <hopsalla@gmail.com>\n",
      "License: MIT\n",
      "Location: /home/me/mambaforge/envs/python_06/lib/python3.9/site-packages\n",
      "Requires: blab, bpyth, dtale, numpy, pandas, perlin-noise, seaborn\n",
      "Required-by: \n"
     ]
    }
   ],
   "source": [
    "# show\n",
    "!pip show pandasklar"
   ]
  },
  {
   "cell_type": "code",
   "execution_count": 5,
   "id": "baf8f2b6-2bb4-4460-b654-f4454bfec48f",
   "metadata": {},
   "outputs": [],
   "source": [
    "# test import\n",
    "# Wenn dies failed: Restart Kernel and Run all Cells\n",
    "import pandasklar as pak"
   ]
  },
  {
   "cell_type": "code",
   "execution_count": 6,
   "id": "43f0bbdd-2df6-4534-a86e-77657d0329da",
   "metadata": {},
   "outputs": [
    {
     "name": "stdout",
     "output_type": "stream",
     "text": [
      "pandasklar Hello World\n"
     ]
    }
   ],
   "source": [
    "# test script\n",
    "!pandasklar"
   ]
  },
  {
   "cell_type": "code",
   "execution_count": 7,
   "id": "368b880d-213c-4683-b7ac-22b4105e57ff",
   "metadata": {},
   "outputs": [
    {
     "name": "stdout",
     "output_type": "stream",
     "text": [
      "blab init\n",
      "environment['dropbox_path'] = /home/me/Data_Linux/Dropbox\n",
      "environment['lib_path']     = /home/me/Data_Linux/Dropbox/31_Projekte/01_Python/libs\n",
      "Start Time: 20:45:50\n"
     ]
    },
    {
     "data": {
      "text/html": [
       "<img src onerror=\"var cell = this.closest('.jp-CodeCell');var editor = cell.querySelector('.jp-Editor');editor.style.background='Beige';this.parentNode.removeChild(this)\">"
      ],
      "text/plain": [
       "<IPython.core.display.HTML object>"
      ]
     },
     "metadata": {},
     "output_type": "display_data"
    },
    {
     "name": "stdout",
     "output_type": "stream",
     "text": [
      "time: 45.7 ms\n"
     ]
    }
   ],
   "source": [
    "# blab init\n",
    "try:\n",
    "    import blab\n",
    "    startup_notebook = blab.blab_startup()\n",
    "    %run $startup_notebook\n",
    "except:\n",
    "    pass"
   ]
  },
  {
   "cell_type": "code",
   "execution_count": 8,
   "id": "64159a70-deaa-44c3-8c7b-ea315c626cb3",
   "metadata": {},
   "outputs": [
    {
     "name": "stdout",
     "output_type": "stream",
     "text": [
      "Stop Time:  20:45:50\n",
      "Elapsed:    0 secs\n"
     ]
    },
    {
     "data": {
      "text/html": [
       "<img src onerror=\"var cell = this.closest('.jp-CodeCell');var editor = cell.querySelector('.jp-Editor');editor.style.background='DarkGray';this.parentNode.removeChild(this)\">"
      ],
      "text/plain": [
       "<IPython.core.display.HTML object>"
      ]
     },
     "metadata": {},
     "output_type": "display_data"
    },
    {
     "name": "stdout",
     "output_type": "stream",
     "text": [
      "time: 39.9 ms\n"
     ]
    }
   ],
   "source": [
    "raise Stop"
   ]
  },
  {
   "cell_type": "markdown",
   "id": "efa2c656-785f-45b7-a3b5-a9ae251bce06",
   "metadata": {},
   "source": [
    "## build"
   ]
  },
  {
   "cell_type": "code",
   "execution_count": null,
   "id": "f20cbd4d-b38b-4bc9-a750-b14851fb174b",
   "metadata": {},
   "outputs": [],
   "source": [
    "!pip install -q build"
   ]
  },
  {
   "cell_type": "code",
   "execution_count": null,
   "id": "c745f5da-d6e4-408a-aa73-1166ccc6fd5b",
   "metadata": {},
   "outputs": [],
   "source": [
    "!python -m build"
   ]
  },
  {
   "cell_type": "markdown",
   "id": "e6b13397-01f2-4ffb-9668-dc9a58196db9",
   "metadata": {},
   "source": [
    "## Publish on github"
   ]
  },
  {
   "cell_type": "code",
   "execution_count": null,
   "id": "d444d5d8-ddb6-451e-9300-fa6424dde8f0",
   "metadata": {},
   "outputs": [],
   "source": [
    "!git status"
   ]
  },
  {
   "cell_type": "code",
   "execution_count": null,
   "id": "a9a7e740-2661-43c1-9743-bef78afaba54",
   "metadata": {},
   "outputs": [],
   "source": [
    "!git add --all"
   ]
  },
  {
   "cell_type": "code",
   "execution_count": null,
   "id": "592c9efd-54a8-4e9a-ae55-83ab3e6f1463",
   "metadata": {},
   "outputs": [],
   "source": [
    "raise Stop"
   ]
  },
  {
   "cell_type": "code",
   "execution_count": null,
   "id": "52db2b7f-5b91-4f46-939b-65a8f30ea239",
   "metadata": {},
   "outputs": [],
   "source": [
    "# Commit message eintragen und run\n",
    "!git commit -m \"some fixes\""
   ]
  },
  {
   "cell_type": "markdown",
   "id": "3d13ba76-74b6-44cd-a2f0-3b8087890032",
   "metadata": {},
   "source": [
    "* Terminal ins Verzeichnis öffnen\n",
    "* `git push origin master`\n",
    "* Personal Access Token verwenden statt Passwort\n",
    "* überprüfen: https://github.com/djekra/pandasklar"
   ]
  },
  {
   "cell_type": "markdown",
   "id": "1bee5aa0-6520-42a1-9993-a3a0f18e0bad",
   "metadata": {},
   "source": [
    "## Publish on pypi.org"
   ]
  },
  {
   "cell_type": "markdown",
   "id": "2fe58367-ce3a-4e94-8085-b5e1f4aa5932",
   "metadata": {},
   "source": [
    "* `python -m twine upload dist/*` \n",
    "* Version überprüfen: https://pypi.org/project/pandasklar/"
   ]
  },
  {
   "cell_type": "code",
   "execution_count": null,
   "id": "f83b80b8-60ea-4ad6-bfdb-00a2f52a4740",
   "metadata": {},
   "outputs": [],
   "source": [
    "# Nicht nötig\n",
    "# Publish on test.pypi.org\n",
    "# python -m twine upload --repository testpypi --skip-existing dist/* "
   ]
  },
  {
   "cell_type": "markdown",
   "id": "16c9f64f-40af-41ac-90db-f802bb8f73c1",
   "metadata": {},
   "source": [
    "## Test from PyPi"
   ]
  },
  {
   "cell_type": "code",
   "execution_count": null,
   "id": "3af8896f-3f40-4d28-a365-fc4c0cb4228f",
   "metadata": {},
   "outputs": [],
   "source": [
    "# uninstall\n",
    "!pip uninstall -y pandasklar"
   ]
  },
  {
   "cell_type": "code",
   "execution_count": null,
   "id": "8ea8f83c-6970-424a-993d-f8e378e5faa9",
   "metadata": {},
   "outputs": [],
   "source": [
    "!pip install pandasklar --no-cache-dir "
   ]
  },
  {
   "cell_type": "code",
   "execution_count": null,
   "id": "5655c1d6-916d-4f5a-90aa-1877b6a5317b",
   "metadata": {},
   "outputs": [],
   "source": [
    "# test import\n",
    "import pandasklar as pak"
   ]
  },
  {
   "cell_type": "code",
   "execution_count": null,
   "id": "b1a1633d-62ad-4088-8b90-6447cc84daf6",
   "metadata": {},
   "outputs": [],
   "source": [
    "# test script\n",
    "!pandasklar"
   ]
  },
  {
   "cell_type": "code",
   "execution_count": null,
   "id": "d734da84-24da-4fa9-8a12-139486f7bf76",
   "metadata": {},
   "outputs": [],
   "source": [
    "# show version\n",
    "from importlib.metadata import version  \n",
    "version('pandasklar')  "
   ]
  }
 ],
 "metadata": {
  "kernelspec": {
   "display_name": "Python 3 (ipykernel)",
   "language": "python",
   "name": "python3"
  },
  "language_info": {
   "codemirror_mode": {
    "name": "ipython",
    "version": 3
   },
   "file_extension": ".py",
   "mimetype": "text/x-python",
   "name": "python",
   "nbconvert_exporter": "python",
   "pygments_lexer": "ipython3",
   "version": "3.9.13"
  }
 },
 "nbformat": 4,
 "nbformat_minor": 5
}
