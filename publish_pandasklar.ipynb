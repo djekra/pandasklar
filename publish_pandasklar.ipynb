{
 "cells": [
  {
   "cell_type": "code",
   "execution_count": 1,
   "id": "368b880d-213c-4683-b7ac-22b4105e57ff",
   "metadata": {
    "execution": {
     "iopub.execute_input": "2025-03-16T18:34:44.093555Z",
     "iopub.status.busy": "2025-03-16T18:34:44.093555Z",
     "iopub.status.idle": "2025-03-16T18:34:46.048335Z",
     "shell.execute_reply": "2025-03-16T18:34:46.048335Z",
     "shell.execute_reply.started": "2025-03-16T18:34:44.093555Z"
    },
    "tags": []
   },
   "outputs": [
    {
     "name": "stdout",
     "output_type": "stream",
     "text": [
      "blab init\n",
      "environment['in_colab']     = False\n",
      "environment['dropbox_path'] = D:\\Dropbox\n",
      "environment['lib_path']     = D:\\Dropbox\\31_Projekte\\01_Python\\libs\n",
      "Start Time: 19:34:45\n"
     ]
    },
    {
     "data": {
      "text/html": [
       "<img src onerror=\"var cell = this.closest('.jp-CodeCell');var editor = cell.querySelector('.jp-Editor');editor.style.background='Beige';this.parentNode.removeChild(this)\">"
      ],
      "text/plain": [
       "<IPython.core.display.HTML object>"
      ]
     },
     "metadata": {},
     "output_type": "display_data"
    }
   ],
   "source": [
    "# blab init\n",
    "try:\n",
    "    import blab\n",
    "    startup_notebook = blab.blab_startup()\n",
    "    %run $startup_notebook\n",
    "except:\n",
    "    pass"
   ]
  },
  {
   "cell_type": "markdown",
   "id": "cd12c4ae-a3a2-49b1-bbfe-51e52088441b",
   "metadata": {},
   "source": [
    "# Publish pandasklar"
   ]
  },
  {
   "cell_type": "code",
   "execution_count": 2,
   "id": "b8e6f59b-cef3-44eb-8ad7-733804de4bc6",
   "metadata": {
    "execution": {
     "iopub.execute_input": "2025-03-16T18:34:46.049343Z",
     "iopub.status.busy": "2025-03-16T18:34:46.049343Z",
     "iopub.status.idle": "2025-03-16T18:34:46.253443Z",
     "shell.execute_reply": "2025-03-16T18:34:46.253443Z",
     "shell.execute_reply.started": "2025-03-16T18:34:46.049343Z"
    },
    "executionInfo": {
     "elapsed": 463,
     "status": "ok",
     "timestamp": 1686173335567,
     "user": {
      "displayName": "Familie Klippstein",
      "userId": "08973939190628445877"
     },
     "user_tz": -120
    },
    "id": "wj1f-u_vOvsK"
   },
   "outputs": [
    {
     "data": {
      "text/html": [
       "<img src onerror=\"var cell = this.closest('.jp-CodeCell');var editor = cell.querySelector('.jp-Editor');editor.style.background='Beige';this.parentNode.removeChild(this)\">"
      ],
      "text/plain": [
       "<IPython.core.display.HTML object>"
      ]
     },
     "metadata": {},
     "output_type": "display_data"
    }
   ],
   "source": [
    "# Settings\n",
    "commit_message = 'datetime support'  \n",
    "\n",
    "bgc('Beige')"
   ]
  },
  {
   "cell_type": "markdown",
   "id": "4b8437a0-f586-4b27-ac6d-6dc93cf84169",
   "metadata": {},
   "source": [
    "## Create README"
   ]
  },
  {
   "cell_type": "code",
   "execution_count": 3,
   "id": "73a96aa2-8c8a-4964-8361-671d9d4bdce6",
   "metadata": {
    "execution": {
     "iopub.execute_input": "2025-03-16T18:34:46.254453Z",
     "iopub.status.busy": "2025-03-16T18:34:46.254453Z",
     "iopub.status.idle": "2025-03-16T18:34:50.880792Z",
     "shell.execute_reply": "2025-03-16T18:34:50.880792Z",
     "shell.execute_reply.started": "2025-03-16T18:34:46.254453Z"
    }
   },
   "outputs": [
    {
     "name": "stderr",
     "output_type": "stream",
     "text": [
      "[NbConvertApp] Converting notebook README.ipynb to markdown\n",
      "[NbConvertApp] Writing 9368 bytes to README.md\n"
     ]
    }
   ],
   "source": [
    "!jupyter nbconvert --ClearMetadataPreprocessor.enabled=True --ClearOutput.enabled=True --to markdown README.ipynb"
   ]
  },
  {
   "cell_type": "markdown",
   "id": "a4547f78-251b-45b5-a478-27dc691d193b",
   "metadata": {},
   "source": [
    "## Local install"
   ]
  },
  {
   "cell_type": "code",
   "execution_count": 4,
   "id": "30be06b0-90b1-41b1-a63d-9cec8e4a05ab",
   "metadata": {
    "execution": {
     "iopub.execute_input": "2025-03-16T18:34:50.881797Z",
     "iopub.status.busy": "2025-03-16T18:34:50.881797Z",
     "iopub.status.idle": "2025-03-16T18:34:54.867340Z",
     "shell.execute_reply": "2025-03-16T18:34:54.867340Z",
     "shell.execute_reply.started": "2025-03-16T18:34:50.881797Z"
    }
   },
   "outputs": [
    {
     "name": "stdout",
     "output_type": "stream",
     "text": [
      "Found existing installation: pandasklar 0.4.0\n",
      "Uninstalling pandasklar-0.4.0:\n",
      "  Successfully uninstalled pandasklar-0.4.0\n"
     ]
    }
   ],
   "source": [
    "# uninstall\n",
    "!pip uninstall -y pandasklar"
   ]
  },
  {
   "cell_type": "code",
   "execution_count": 5,
   "id": "f345ee0f-748f-40be-8578-8ad4ac4d9fe3",
   "metadata": {
    "execution": {
     "iopub.execute_input": "2025-03-16T18:34:54.869102Z",
     "iopub.status.busy": "2025-03-16T18:34:54.868096Z",
     "iopub.status.idle": "2025-03-16T18:35:06.066110Z",
     "shell.execute_reply": "2025-03-16T18:35:06.066110Z",
     "shell.execute_reply.started": "2025-03-16T18:34:54.869102Z"
    },
    "tags": []
   },
   "outputs": [],
   "source": [
    "# install locally\n",
    "!python -m pip install -q -e ."
   ]
  },
  {
   "cell_type": "code",
   "execution_count": 6,
   "id": "8cec0e88-e3c2-4020-b9c9-176bcd255c46",
   "metadata": {
    "execution": {
     "iopub.execute_input": "2025-03-16T18:35:06.066110Z",
     "iopub.status.busy": "2025-03-16T18:35:06.066110Z",
     "iopub.status.idle": "2025-03-16T18:35:07.652190Z",
     "shell.execute_reply": "2025-03-16T18:35:07.652190Z",
     "shell.execute_reply.started": "2025-03-16T18:35:06.066110Z"
    }
   },
   "outputs": [
    {
     "name": "stdout",
     "output_type": "stream",
     "text": [
      "Name: pandasklar\n",
      "Version: 0.4.0\n",
      "Summary: Toolbox / Ecosystem for data science. Easier handling of pandas, especially when thinking in SQL.\n",
      "Home-page: https://github.com/djekra/pandasklar\n",
      "Author: \n",
      "Author-email: djekra <hopsalla@gmail.com>\n",
      "License: MIT\n",
      "Location: C:\\Users\\hopsa\\miniforge3\\envs\\python_07\\Lib\\site-packages\n",
      "Editable project location: D:\\Dropbox\\31_Projekte\\01_Python\\88_PyCharm\\pandasklar\n",
      "Requires: blab, bpyth, numpy, pandas, perlin_noise, termcolor\n",
      "Required-by: \n"
     ]
    }
   ],
   "source": [
    "# show\n",
    "!pip show pandasklar"
   ]
  },
  {
   "cell_type": "code",
   "execution_count": 7,
   "id": "baf8f2b6-2bb4-4460-b654-f4454bfec48f",
   "metadata": {
    "execution": {
     "iopub.execute_input": "2025-03-16T18:35:07.652904Z",
     "iopub.status.busy": "2025-03-16T18:35:07.652904Z",
     "iopub.status.idle": "2025-03-16T18:35:11.251776Z",
     "shell.execute_reply": "2025-03-16T18:35:11.251776Z",
     "shell.execute_reply.started": "2025-03-16T18:35:07.652904Z"
    }
   },
   "outputs": [],
   "source": [
    "# test import\n",
    "# Wenn dies failed: Restart Kernel and Run all Cells\n",
    "import pandasklar as pak"
   ]
  },
  {
   "cell_type": "code",
   "execution_count": 8,
   "id": "43f0bbdd-2df6-4534-a86e-77657d0329da",
   "metadata": {
    "execution": {
     "iopub.execute_input": "2025-03-16T18:35:11.251776Z",
     "iopub.status.busy": "2025-03-16T18:35:11.251776Z",
     "iopub.status.idle": "2025-03-16T18:35:17.383366Z",
     "shell.execute_reply": "2025-03-16T18:35:17.383366Z",
     "shell.execute_reply.started": "2025-03-16T18:35:11.251776Z"
    }
   },
   "outputs": [
    {
     "name": "stdout",
     "output_type": "stream",
     "text": [
      "Hello pandasklar 0.4.0\n"
     ]
    }
   ],
   "source": [
    "# test script\n",
    "!pandasklar"
   ]
  },
  {
   "cell_type": "code",
   "execution_count": 12,
   "id": "ff89f0af-1411-4d5a-a714-cf56b7bbd194",
   "metadata": {
    "execution": {
     "iopub.execute_input": "2025-03-16T18:38:19.771929Z",
     "iopub.status.busy": "2025-03-16T18:38:19.771929Z",
     "iopub.status.idle": "2025-03-16T18:38:50.540405Z",
     "shell.execute_reply": "2025-03-16T18:38:50.540405Z",
     "shell.execute_reply.started": "2025-03-16T18:38:19.771929Z"
    }
   },
   "outputs": [
    {
     "name": "stdout",
     "output_type": "stream",
     "text": [
      "\u001b[1m============================= test session starts =============================\u001b[0m\n",
      "platform win32 -- Python 3.12.9, pytest-8.3.5, pluggy-1.5.0\n",
      "rootdir: D:\\Dropbox\\31_Projekte\\01_Python\\88_PyCharm\\pandasklar\n",
      "configfile: pyproject.toml\n",
      "plugins: anyio-4.8.0, dash-2.18.2\n",
      "collected 181 items\n",
      "\n",
      "tests\\test_compare.py \u001b[32m.\u001b[0m\u001b[32m.\u001b[0m\u001b[32m.\u001b[0m\u001b[32m.\u001b[0m\u001b[32m.\u001b[0m\u001b[32m.\u001b[0m\u001b[32m.\u001b[0m\u001b[32m.\u001b[0m\u001b[32m.\u001b[0m\u001b[32m.\u001b[0m\u001b[32m.\u001b[0m\u001b[32m.\u001b[0m\u001b[32m.\u001b[0m\u001b[32m.\u001b[0m\u001b[32m.\u001b[0m\u001b[32m.\u001b[0m\u001b[32m.\u001b[0m\u001b[32m                                  [  9%]\u001b[0m\n",
      "tests\\test_compare_dataframe.py \u001b[32m.\u001b[0m\u001b[32m.\u001b[0m\u001b[32m.\u001b[0m\u001b[32m.\u001b[0m\u001b[32m.\u001b[0m\u001b[32m.\u001b[0m\u001b[32m.\u001b[0m\u001b[32m.\u001b[0m\u001b[32m.\u001b[0m\u001b[32m.\u001b[0m\u001b[32m.\u001b[0m\u001b[32m.\u001b[0m\u001b[32m.\u001b[0m\u001b[32m.\u001b[0m\u001b[32m.\u001b[0m\u001b[32m.\u001b[0m\u001b[32m.\u001b[0m\u001b[32m.\u001b[0m\u001b[32m.\u001b[0m\u001b[32m.\u001b[0m\u001b[32m.\u001b[0m\u001b[32m                    [ 20%]\u001b[0m\n",
      "tests\\test_compare_get_different_rows.py \u001b[32m.\u001b[0m\u001b[32m.\u001b[0m\u001b[32m.\u001b[0m\u001b[32m.\u001b[0m\u001b[32m.\u001b[0m\u001b[32m.\u001b[0m\u001b[32m.\u001b[0m\u001b[32m.\u001b[0m\u001b[32m.\u001b[0m\u001b[32m.\u001b[0m\u001b[32m.\u001b[0m\u001b[32m.\u001b[0m\u001b[32m.\u001b[0m\u001b[32m.\u001b[0m\u001b[32m.\u001b[0m\u001b[32m.\u001b[0m\u001b[32m.\u001b[0m\u001b[32m.\u001b[0m\u001b[32m.\u001b[0m\u001b[32m             [ 31%]\u001b[0m\n",
      "tests\\test_compare_series.py \u001b[32m.\u001b[0m\u001b[32m.\u001b[0m\u001b[32m.\u001b[0m\u001b[32m.\u001b[0m\u001b[32m.\u001b[0m\u001b[32m.\u001b[0m\u001b[32m.\u001b[0m\u001b[32m.\u001b[0m\u001b[32m.\u001b[0m\u001b[32m.\u001b[0m\u001b[32m.\u001b[0m\u001b[32m.\u001b[0m\u001b[32m.\u001b[0m\u001b[32m.\u001b[0m\u001b[32m.\u001b[0m\u001b[32m.\u001b[0m\u001b[32m.\u001b[0m\u001b[32m.\u001b[0m\u001b[32m.\u001b[0m\u001b[32m.\u001b[0m\u001b[32m.\u001b[0m\u001b[32m.\u001b[0m\u001b[32m.\u001b[0m\u001b[32m.\u001b[0m\u001b[32m.\u001b[0m\u001b[32m.\u001b[0m\u001b[32m                  [ 45%]\u001b[0m\n",
      "tests\\test_content.py \u001b[32m.\u001b[0m\u001b[32m.\u001b[0m\u001b[32m.\u001b[0m\u001b[32m.\u001b[0m\u001b[32m.\u001b[0m\u001b[32m.\u001b[0m\u001b[32m.\u001b[0m\u001b[32m.\u001b[0m\u001b[31mF\u001b[0m\u001b[31mF\u001b[0m\u001b[32m.\u001b[0m\u001b[32m.\u001b[0m\u001b[32m.\u001b[0m\u001b[32m.\u001b[0m\u001b[32m.\u001b[0m\u001b[32m.\u001b[0m\u001b[32m.\u001b[0m\u001b[32m.\u001b[0m\u001b[32m.\u001b[0m\u001b[32m.\u001b[0m\u001b[32m.\u001b[0m\u001b[32m.\u001b[0m\u001b[32m.\u001b[0m\u001b[32m.\u001b[0m\u001b[32m.\u001b[0m\u001b[32m.\u001b[0m\u001b[32m.\u001b[0m\u001b[32m.\u001b[0m\u001b[32m.\u001b[0m\u001b[32m.\u001b[0m\u001b[32m.\u001b[0m\u001b[31m                    [ 62%]\u001b[0m\n",
      "tests\\test_develop.py \u001b[32m.\u001b[0m\u001b[32m.\u001b[0m\u001b[32m.\u001b[0m\u001b[32m.\u001b[0m\u001b[32m.\u001b[0m\u001b[32m.\u001b[0m\u001b[32m.\u001b[0m\u001b[32m.\u001b[0m\u001b[32m.\u001b[0m\u001b[32m.\u001b[0m\u001b[32m.\u001b[0m\u001b[32m.\u001b[0m\u001b[31mF\u001b[0m\u001b[32m.\u001b[0m\u001b[32m.\u001b[0m\u001b[31m                                    [ 71%]\u001b[0m\n",
      "tests\\test_pandas_dataframe.py \u001b[32m.\u001b[0m\u001b[32m.\u001b[0m\u001b[32m.\u001b[0m\u001b[32m.\u001b[0m\u001b[32m.\u001b[0m\u001b[32m.\u001b[0m\u001b[32m.\u001b[0m\u001b[32m.\u001b[0m\u001b[32m.\u001b[0m\u001b[32m.\u001b[0m\u001b[32m.\u001b[0m\u001b[32m.\u001b[0m\u001b[32m.\u001b[0m\u001b[32m.\u001b[0m\u001b[32m.\u001b[0m\u001b[32m.\u001b[0m\u001b[32m.\u001b[0m\u001b[32m.\u001b[0m\u001b[32m.\u001b[0m\u001b[32m.\u001b[0m\u001b[32m.\u001b[0m\u001b[32m.\u001b[0m\u001b[32m.\u001b[0m\u001b[32m.\u001b[0m\u001b[32m.\u001b[0m\u001b[32m.\u001b[0m\u001b[32m.\u001b[0m\u001b[31m               [ 86%]\u001b[0m\n",
      "tests\\test_subsets.py \u001b[32m.\u001b[0m\u001b[32m.\u001b[0m\u001b[32m.\u001b[0m\u001b[32m.\u001b[0m\u001b[32m.\u001b[0m\u001b[32m.\u001b[0m\u001b[32m.\u001b[0m\u001b[32m.\u001b[0m\u001b[32m.\u001b[0m\u001b[32m.\u001b[0m\u001b[32m.\u001b[0m\u001b[32m.\u001b[0m\u001b[32m.\u001b[0m\u001b[32m.\u001b[0m\u001b[32m.\u001b[0m\u001b[32m.\u001b[0m\u001b[32m.\u001b[0m\u001b[32m.\u001b[0m\u001b[32m.\u001b[0m\u001b[32m.\u001b[0m\u001b[32m.\u001b[0m\u001b[32m.\u001b[0m\u001b[32m.\u001b[0m\u001b[32m.\u001b[0m\u001b[32m.\u001b[0m\u001b[31m                          [100%]\u001b[0m\n",
      "\n",
      "================================== FAILURES ===================================\n",
      "\u001b[31m\u001b[1m____________________ TestDataframe.test_random_series_time ____________________\u001b[0m\n",
      "\n",
      "self = <test_content.TestDataframe object at 0x000001BDAEB32CC0>\n",
      "\n",
      ">   \u001b[0m\u001b[04m\u001b[91m?\u001b[39;49;00m\u001b[04m\u001b[91m?\u001b[39;49;00m\u001b[04m\u001b[91m?\u001b[39;49;00m\u001b[90m\u001b[39;49;00m\n",
      "\n",
      "\u001b[1m\u001b[31m/media/me/LinuxDropbox/Dropbox/31_Projekte/01_Python/88_PyCharm/pandasklar/tests/test_content.py\u001b[0m:101: \n",
      "_ _ _ _ _ _ _ _ _ _ _ _ _ _ _ _ _ _ _ _ _ _ _ _ _ _ _ _ _ _ _ _ _ _ _ _ _ _ _ _\n",
      "\u001b[1m\u001b[31msrc\\pandasklar\\content.py\u001b[0m:243: in random_series\n",
      "    \u001b[0mresult = myfunc(size*\u001b[94m2\u001b[39;49;00m, **kwargs).drop_duplicates().head(size)\u001b[90m\u001b[39;49;00m\n",
      "\u001b[1m\u001b[31msrc\\pandasklar\\content.py\u001b[0m:453: in random_series_datetime\n",
      "    \u001b[0mrandom_dates = pd.to_datetime(np.random.randint(pd.Timestamp(\u001b[96mmin\u001b[39;49;00m).value, pd.Timestamp(\u001b[96mmax\u001b[39;49;00m).value, size), unit=\u001b[33m'\u001b[39;49;00m\u001b[33mns\u001b[39;49;00m\u001b[33m'\u001b[39;49;00m)\u001b[90m\u001b[39;49;00m\n",
      "\u001b[1m\u001b[31mnumpy\\\\random\\\\mtrand.pyx\u001b[0m:780: in numpy.random.mtrand.RandomState.randint\n",
      "    \u001b[0m\u001b[04m\u001b[91m?\u001b[39;49;00m\u001b[04m\u001b[91m?\u001b[39;49;00m\u001b[04m\u001b[91m?\u001b[39;49;00m\u001b[90m\u001b[39;49;00m\n",
      "_ _ _ _ _ _ _ _ _ _ _ _ _ _ _ _ _ _ _ _ _ _ _ _ _ _ _ _ _ _ _ _ _ _ _ _ _ _ _ _\n",
      "\n",
      ">   \u001b[0m\u001b[04m\u001b[91m?\u001b[39;49;00m\u001b[04m\u001b[91m?\u001b[39;49;00m\u001b[04m\u001b[91m?\u001b[39;49;00m\u001b[90m\u001b[39;49;00m\n",
      "\u001b[1m\u001b[31mE   ValueError: high is out of bounds for int32\u001b[0m\n",
      "\n",
      "\u001b[1m\u001b[31mnumpy\\\\random\\\\_bounded_integers.pyx\u001b[0m:1423: ValueError\n",
      "\u001b[31m\u001b[1m____________________ TestDataframe.test_random_series_mix _____________________\u001b[0m\n",
      "\n",
      "self = <test_content.TestDataframe object at 0x000001BDAEB32E40>\n",
      "\n",
      ">   \u001b[0m\u001b[04m\u001b[91m?\u001b[39;49;00m\u001b[04m\u001b[91m?\u001b[39;49;00m\u001b[04m\u001b[91m?\u001b[39;49;00m\u001b[90m\u001b[39;49;00m\n",
      "\n",
      "\u001b[1m\u001b[31m/media/me/LinuxDropbox/Dropbox/31_Projekte/01_Python/88_PyCharm/pandasklar/tests/test_content.py\u001b[0m:109: \n",
      "_ _ _ _ _ _ _ _ _ _ _ _ _ _ _ _ _ _ _ _ _ _ _ _ _ _ _ _ _ _ _ _ _ _ _ _ _ _ _ _\n",
      "\u001b[1m\u001b[31msrc\\pandasklar\\content.py\u001b[0m:228: in random_series\n",
      "    \u001b[0mresult = myfunc(size, **kwargs)\u001b[90m\u001b[39;49;00m\n",
      "\u001b[1m\u001b[31msrc\\pandasklar\\content.py\u001b[0m:610: in random_series_mix\n",
      "    \u001b[0mh = random_series( anz, \u001b[33m'\u001b[39;49;00m\u001b[33mtime\u001b[39;49;00m\u001b[33m'\u001b[39;49;00m,                                   )\u001b[90m\u001b[39;49;00m\n",
      "\u001b[1m\u001b[31msrc\\pandasklar\\content.py\u001b[0m:243: in random_series\n",
      "    \u001b[0mresult = myfunc(size*\u001b[94m2\u001b[39;49;00m, **kwargs).drop_duplicates().head(size)\u001b[90m\u001b[39;49;00m\n",
      "\u001b[1m\u001b[31msrc\\pandasklar\\content.py\u001b[0m:453: in random_series_datetime\n",
      "    \u001b[0mrandom_dates = pd.to_datetime(np.random.randint(pd.Timestamp(\u001b[96mmin\u001b[39;49;00m).value, pd.Timestamp(\u001b[96mmax\u001b[39;49;00m).value, size), unit=\u001b[33m'\u001b[39;49;00m\u001b[33mns\u001b[39;49;00m\u001b[33m'\u001b[39;49;00m)\u001b[90m\u001b[39;49;00m\n",
      "\u001b[1m\u001b[31mnumpy\\\\random\\\\mtrand.pyx\u001b[0m:780: in numpy.random.mtrand.RandomState.randint\n",
      "    \u001b[0m\u001b[04m\u001b[91m?\u001b[39;49;00m\u001b[04m\u001b[91m?\u001b[39;49;00m\u001b[04m\u001b[91m?\u001b[39;49;00m\u001b[90m\u001b[39;49;00m\n",
      "_ _ _ _ _ _ _ _ _ _ _ _ _ _ _ _ _ _ _ _ _ _ _ _ _ _ _ _ _ _ _ _ _ _ _ _ _ _ _ _\n",
      "\n",
      ">   \u001b[0m\u001b[04m\u001b[91m?\u001b[39;49;00m\u001b[04m\u001b[91m?\u001b[39;49;00m\u001b[04m\u001b[91m?\u001b[39;49;00m\u001b[90m\u001b[39;49;00m\n",
      "\u001b[1m\u001b[31mE   ValueError: low is out of bounds for int32\u001b[0m\n",
      "\n",
      "\u001b[1m\u001b[31mnumpy\\\\random\\\\_bounded_integers.pyx\u001b[0m:1421: ValueError\n",
      "\u001b[31m\u001b[1m__________________ TestCheckMask.test_check_mask_empty_mask ___________________\u001b[0m\n",
      "\n",
      "self = <test_develop.TestCheckMask object at 0x000001BDAEB54C50>\n",
      "\n",
      ">   \u001b[0m\u001b[04m\u001b[91m?\u001b[39;49;00m\u001b[04m\u001b[91m?\u001b[39;49;00m\u001b[04m\u001b[91m?\u001b[39;49;00m\u001b[90m\u001b[39;49;00m\n",
      "\n",
      "\u001b[1m\u001b[31m/media/me/LinuxDropbox/Dropbox/31_Projekte/01_Python/88_PyCharm/pandasklar/tests/test_develop.py\u001b[0m:90: \n",
      "_ _ _ _ _ _ _ _ _ _ _ _ _ _ _ _ _ _ _ _ _ _ _ _ _ _ _ _ _ _ _ _ _ _ _ _ _ _ _ _\n",
      "\u001b[1m\u001b[31msrc\\pandasklar\\develop.py\u001b[0m:247: in check_mask\n",
      "    \u001b[0manz_ds = df[mask].shape[\u001b[94m0\u001b[39;49;00m]\u001b[90m\u001b[39;49;00m\n",
      "\u001b[1m\u001b[31mC:\\Users\\hopsa\\miniforge3\\envs\\python_07\\Lib\\site-packages\\pandas\\core\\frame.py\u001b[0m:4093: in __getitem__\n",
      "    \u001b[0m\u001b[94mreturn\u001b[39;49;00m \u001b[96mself\u001b[39;49;00m._getitem_bool_array(key)\u001b[90m\u001b[39;49;00m\n",
      "\u001b[1m\u001b[31mC:\\Users\\hopsa\\miniforge3\\envs\\python_07\\Lib\\site-packages\\pandas\\core\\frame.py\u001b[0m:4149: in _getitem_bool_array\n",
      "    \u001b[0mkey = check_bool_indexer(\u001b[96mself\u001b[39;49;00m.index, key)\u001b[90m\u001b[39;49;00m\n",
      "_ _ _ _ _ _ _ _ _ _ _ _ _ _ _ _ _ _ _ _ _ _ _ _ _ _ _ _ _ _ _ _ _ _ _ _ _ _ _ _\n",
      "\n",
      "index = RangeIndex(start=0, stop=100, step=1), key = Series([], dtype: bool)\n",
      "\n",
      "    \u001b[0m\u001b[94mdef\u001b[39;49;00m\u001b[90m \u001b[39;49;00m\u001b[92mcheck_bool_indexer\u001b[39;49;00m(index: Index, key) -> np.ndarray:\u001b[90m\u001b[39;49;00m\n",
      "    \u001b[90m    \u001b[39;49;00m\u001b[33m\"\"\"\u001b[39;49;00m\n",
      "    \u001b[33m    Check if key is a valid boolean indexer for an object with such index and\u001b[39;49;00m\n",
      "    \u001b[33m    perform reindexing or conversion if needed.\u001b[39;49;00m\n",
      "    \u001b[33m\u001b[39;49;00m\n",
      "    \u001b[33m    This function assumes that is_bool_indexer(key) == True.\u001b[39;49;00m\n",
      "    \u001b[33m\u001b[39;49;00m\n",
      "    \u001b[33m    Parameters\u001b[39;49;00m\n",
      "    \u001b[33m    ----------\u001b[39;49;00m\n",
      "    \u001b[33m    index : Index\u001b[39;49;00m\n",
      "    \u001b[33m        Index of the object on which the indexing is done.\u001b[39;49;00m\n",
      "    \u001b[33m    key : list-like\u001b[39;49;00m\n",
      "    \u001b[33m        Boolean indexer to check.\u001b[39;49;00m\n",
      "    \u001b[33m\u001b[39;49;00m\n",
      "    \u001b[33m    Returns\u001b[39;49;00m\n",
      "    \u001b[33m    -------\u001b[39;49;00m\n",
      "    \u001b[33m    np.array\u001b[39;49;00m\n",
      "    \u001b[33m        Resulting key.\u001b[39;49;00m\n",
      "    \u001b[33m\u001b[39;49;00m\n",
      "    \u001b[33m    Raises\u001b[39;49;00m\n",
      "    \u001b[33m    ------\u001b[39;49;00m\n",
      "    \u001b[33m    IndexError\u001b[39;49;00m\n",
      "    \u001b[33m        If the key does not have the same length as index.\u001b[39;49;00m\n",
      "    \u001b[33m    IndexingError\u001b[39;49;00m\n",
      "    \u001b[33m        If the index of the key is unalignable to index.\u001b[39;49;00m\n",
      "    \u001b[33m    \"\"\"\u001b[39;49;00m\u001b[90m\u001b[39;49;00m\n",
      "        result = key\u001b[90m\u001b[39;49;00m\n",
      "        \u001b[94mif\u001b[39;49;00m \u001b[96misinstance\u001b[39;49;00m(key, ABCSeries) \u001b[95mand\u001b[39;49;00m \u001b[95mnot\u001b[39;49;00m key.index.equals(index):\u001b[90m\u001b[39;49;00m\n",
      "            indexer = result.index.get_indexer_for(index)\u001b[90m\u001b[39;49;00m\n",
      "            \u001b[94mif\u001b[39;49;00m -\u001b[94m1\u001b[39;49;00m \u001b[95min\u001b[39;49;00m indexer:\u001b[90m\u001b[39;49;00m\n",
      ">               \u001b[94mraise\u001b[39;49;00m IndexingError(\u001b[90m\u001b[39;49;00m\n",
      "                    \u001b[33m\"\u001b[39;49;00m\u001b[33mUnalignable boolean Series provided as \u001b[39;49;00m\u001b[33m\"\u001b[39;49;00m\u001b[90m\u001b[39;49;00m\n",
      "                    \u001b[33m\"\u001b[39;49;00m\u001b[33mindexer (index of the boolean Series and of \u001b[39;49;00m\u001b[33m\"\u001b[39;49;00m\u001b[90m\u001b[39;49;00m\n",
      "                    \u001b[33m\"\u001b[39;49;00m\u001b[33mthe indexed object do not match).\u001b[39;49;00m\u001b[33m\"\u001b[39;49;00m\u001b[90m\u001b[39;49;00m\n",
      "                )\u001b[90m\u001b[39;49;00m\n",
      "\u001b[1m\u001b[31mE               pandas.errors.IndexingError: Unalignable boolean Series provided as indexer (index of the boolean Series and of the indexed object do not match).\u001b[0m\n",
      "\n",
      "\u001b[1m\u001b[31mC:\\Users\\hopsa\\miniforge3\\envs\\python_07\\Lib\\site-packages\\pandas\\core\\indexing.py\u001b[0m:2662: IndexingError\n",
      "\u001b[33m============================== warnings summary ===============================\u001b[0m\n",
      "tests/test_develop.py::TestCheckMask::test_check_mask_empty_dataframe\n",
      "tests/test_develop.py::TestCheckMask::test_check_mask_empty_mask\n",
      "  D:\\Dropbox\\31_Projekte\\01_Python\\88_PyCharm\\pandasklar\\src\\pandasklar\\develop.py:247: UserWarning:\n",
      "  \n",
      "  Boolean Series key will be reindexed to match DataFrame index.\n",
      "\n",
      "tests/test_subsets.py::TestSubsetsSpecials::test_specials_dataframe_with_only_nan\n",
      "tests/test_subsets.py::TestSubsetsSpecials::test_specials_dataframe_with_only_nan\n",
      "tests/test_subsets.py::TestSubsetsSample::test_sample_only_nans\n",
      "tests/test_subsets.py::TestSubsetsSample::test_sample_only_nans\n",
      "  D:\\Dropbox\\31_Projekte\\01_Python\\88_PyCharm\\pandasklar\\src\\pandasklar\\rank.py:33: FutureWarning:\n",
      "  \n",
      "  The behavior of Series.idxmin with all-NA values, or any-NA and skipna=False, is deprecated. In a future version this will raise ValueError\n",
      "\n",
      "tests/test_subsets.py::TestSubsetsSpecials::test_specials_dataframe_with_only_nan\n",
      "tests/test_subsets.py::TestSubsetsSpecials::test_specials_dataframe_with_only_nan\n",
      "tests/test_subsets.py::TestSubsetsSample::test_sample_only_nans\n",
      "tests/test_subsets.py::TestSubsetsSample::test_sample_only_nans\n",
      "  D:\\Dropbox\\31_Projekte\\01_Python\\88_PyCharm\\pandasklar\\src\\pandasklar\\rank.py:31: FutureWarning:\n",
      "  \n",
      "  The behavior of Series.idxmax with all-NA values, or any-NA and skipna=False, is deprecated. In a future version this will raise ValueError\n",
      "\n",
      "-- Docs: https://docs.pytest.org/en/stable/how-to/capture-warnings.html\n",
      "\u001b[36m\u001b[1m=========================== short test summary info ===========================\u001b[0m\n",
      "\u001b[31mFAILED\u001b[0m tests/test_content.py::\u001b[1mTestDataframe::test_random_series_time\u001b[0m - ValueError: high is out of bounds for int32\n",
      "\u001b[31mFAILED\u001b[0m tests/test_content.py::\u001b[1mTestDataframe::test_random_series_mix\u001b[0m - ValueError: low is out of bounds for int32\n",
      "\u001b[31mFAILED\u001b[0m tests/test_develop.py::\u001b[1mTestCheckMask::test_check_mask_empty_mask\u001b[0m - pandas.errors.IndexingError: Unalignable boolean Series provided as indexer...\n",
      "\u001b[31m================= \u001b[31m\u001b[1m3 failed\u001b[0m, \u001b[32m178 passed\u001b[0m, \u001b[33m10 warnings\u001b[0m\u001b[31m in 27.61s\u001b[0m\u001b[31m =================\u001b[0m\n"
     ]
    }
   ],
   "source": [
    "!pytest"
   ]
  },
  {
   "cell_type": "code",
   "execution_count": 10,
   "id": "64159a70-deaa-44c3-8c7b-ea315c626cb3",
   "metadata": {
    "execution": {
     "iopub.execute_input": "2025-03-16T18:35:49.165643Z",
     "iopub.status.busy": "2025-03-16T18:35:49.165643Z",
     "iopub.status.idle": "2025-03-16T18:35:49.580961Z",
     "shell.execute_reply": "2025-03-16T18:35:49.580961Z",
     "shell.execute_reply.started": "2025-03-16T18:35:49.165643Z"
    }
   },
   "outputs": [
    {
     "name": "stdout",
     "output_type": "stream",
     "text": [
      "Stop Time:  19:35:49\n",
      "Elapsed:    1 min, 4 secs\n"
     ]
    },
    {
     "data": {
      "text/html": [
       "<img src onerror=\"var cell = this.closest('.jp-CodeCell');var editor = cell.querySelector('.jp-Editor');editor.style.background='DarkGray';this.parentNode.removeChild(this)\">"
      ],
      "text/plain": [
       "<IPython.core.display.HTML object>"
      ]
     },
     "metadata": {},
     "output_type": "display_data"
    }
   ],
   "source": [
    "raise Stop"
   ]
  },
  {
   "cell_type": "markdown",
   "id": "efa2c656-785f-45b7-a3b5-a9ae251bce06",
   "metadata": {},
   "source": [
    "## build"
   ]
  },
  {
   "cell_type": "code",
   "execution_count": null,
   "id": "f20cbd4d-b38b-4bc9-a750-b14851fb174b",
   "metadata": {
    "execution": {
     "iopub.status.busy": "2025-03-16T18:35:49.580961Z",
     "iopub.status.idle": "2025-03-16T18:35:49.580961Z",
     "shell.execute_reply": "2025-03-16T18:35:49.580961Z",
     "shell.execute_reply.started": "2025-03-16T18:35:49.580961Z"
    }
   },
   "outputs": [],
   "source": [
    "!pip install -q build"
   ]
  },
  {
   "cell_type": "code",
   "execution_count": null,
   "id": "c745f5da-d6e4-408a-aa73-1166ccc6fd5b",
   "metadata": {
    "execution": {
     "iopub.status.busy": "2025-03-16T18:35:49.580961Z",
     "iopub.status.idle": "2025-03-16T18:35:49.580961Z",
     "shell.execute_reply": "2025-03-16T18:35:49.580961Z",
     "shell.execute_reply.started": "2025-03-16T18:35:49.580961Z"
    }
   },
   "outputs": [],
   "source": [
    "!python -m build"
   ]
  },
  {
   "cell_type": "markdown",
   "id": "e6b13397-01f2-4ffb-9668-dc9a58196db9",
   "metadata": {},
   "source": [
    "## Publish on github"
   ]
  },
  {
   "cell_type": "code",
   "execution_count": null,
   "id": "d444d5d8-ddb6-451e-9300-fa6424dde8f0",
   "metadata": {
    "execution": {
     "iopub.status.busy": "2025-03-16T18:35:49.580961Z",
     "iopub.status.idle": "2025-03-16T18:35:49.580961Z",
     "shell.execute_reply": "2025-03-16T18:35:49.580961Z",
     "shell.execute_reply.started": "2025-03-16T18:35:49.580961Z"
    }
   },
   "outputs": [],
   "source": [
    "!git status"
   ]
  },
  {
   "cell_type": "code",
   "execution_count": null,
   "id": "c6edb3f8-91d3-4a6d-8d9a-35e64e2f9239",
   "metadata": {
    "execution": {
     "iopub.status.busy": "2025-03-16T18:35:49.580961Z",
     "iopub.status.idle": "2025-03-16T18:35:49.580961Z",
     "shell.execute_reply": "2025-03-16T18:35:49.580961Z",
     "shell.execute_reply.started": "2025-03-16T18:35:49.580961Z"
    }
   },
   "outputs": [],
   "source": [
    "!git config credential.helper store"
   ]
  },
  {
   "cell_type": "code",
   "execution_count": null,
   "id": "a9a7e740-2661-43c1-9743-bef78afaba54",
   "metadata": {
    "execution": {
     "iopub.status.busy": "2025-03-16T18:35:49.580961Z",
     "iopub.status.idle": "2025-03-16T18:35:49.580961Z",
     "shell.execute_reply": "2025-03-16T18:35:49.580961Z",
     "shell.execute_reply.started": "2025-03-16T18:35:49.580961Z"
    }
   },
   "outputs": [],
   "source": [
    "!git add --all"
   ]
  },
  {
   "cell_type": "code",
   "execution_count": null,
   "id": "11087953-3aab-4adf-9561-3c151ee0f890",
   "metadata": {
    "execution": {
     "iopub.status.busy": "2025-03-16T18:35:49.580961Z",
     "iopub.status.idle": "2025-03-16T18:35:49.580961Z",
     "shell.execute_reply": "2025-03-16T18:35:49.580961Z",
     "shell.execute_reply.started": "2025-03-16T18:35:49.580961Z"
    }
   },
   "outputs": [],
   "source": [
    "# Commit message eintragen und run\n",
    "!git commit -m commit_message"
   ]
  },
  {
   "cell_type": "code",
   "execution_count": null,
   "id": "2a2dd0f9-4eb4-4750-acae-6ad18982dabf",
   "metadata": {
    "execution": {
     "iopub.status.busy": "2025-03-16T18:35:49.580961Z",
     "iopub.status.idle": "2025-03-16T18:35:49.580961Z",
     "shell.execute_reply": "2025-03-16T18:35:49.580961Z",
     "shell.execute_reply.started": "2025-03-16T18:35:49.580961Z"
    },
    "tags": []
   },
   "outputs": [],
   "source": [
    "!git push origin master"
   ]
  },
  {
   "cell_type": "code",
   "execution_count": null,
   "id": "592c9efd-54a8-4e9a-ae55-83ab3e6f1463",
   "metadata": {
    "execution": {
     "iopub.status.busy": "2025-03-16T18:35:49.580961Z",
     "iopub.status.idle": "2025-03-16T18:35:49.580961Z",
     "shell.execute_reply": "2025-03-16T18:35:49.580961Z",
     "shell.execute_reply.started": "2025-03-16T18:35:49.580961Z"
    }
   },
   "outputs": [],
   "source": [
    "raise Stop"
   ]
  },
  {
   "cell_type": "markdown",
   "id": "3d13ba76-74b6-44cd-a2f0-3b8087890032",
   "metadata": {},
   "source": [
    "* Terminal ins Verzeichnis öffnen\n",
    "* `git push origin master`\n",
    "* Personal Access Token verwenden statt Passwort\n",
    "* überprüfen: https://github.com/djekra/pandasklar"
   ]
  },
  {
   "cell_type": "markdown",
   "id": "1bee5aa0-6520-42a1-9993-a3a0f18e0bad",
   "metadata": {},
   "source": [
    "## Publish on pypi.org"
   ]
  },
  {
   "cell_type": "markdown",
   "id": "2fe58367-ce3a-4e94-8085-b5e1f4aa5932",
   "metadata": {},
   "source": [
    "* `python -m twine upload --skip-existing dist/*` \n",
    "* Version überprüfen: https://pypi.org/project/pandasklar/"
   ]
  },
  {
   "cell_type": "markdown",
   "id": "16c9f64f-40af-41ac-90db-f802bb8f73c1",
   "metadata": {},
   "source": [
    "## Test from PyPi"
   ]
  },
  {
   "cell_type": "code",
   "execution_count": null,
   "id": "3af8896f-3f40-4d28-a365-fc4c0cb4228f",
   "metadata": {
    "execution": {
     "iopub.status.busy": "2025-03-16T18:35:49.580961Z",
     "iopub.status.idle": "2025-03-16T18:35:49.580961Z",
     "shell.execute_reply": "2025-03-16T18:35:49.580961Z",
     "shell.execute_reply.started": "2025-03-16T18:35:49.580961Z"
    }
   },
   "outputs": [],
   "source": [
    "# uninstall\n",
    "!pip uninstall -y pandasklar"
   ]
  },
  {
   "cell_type": "code",
   "execution_count": null,
   "id": "8ea8f83c-6970-424a-993d-f8e378e5faa9",
   "metadata": {
    "execution": {
     "iopub.status.busy": "2025-03-16T18:35:49.592310Z",
     "iopub.status.idle": "2025-03-16T18:35:49.592310Z",
     "shell.execute_reply": "2025-03-16T18:35:49.592310Z",
     "shell.execute_reply.started": "2025-03-16T18:35:49.592310Z"
    }
   },
   "outputs": [],
   "source": [
    "!pip install pandasklar --no-cache-dir "
   ]
  },
  {
   "cell_type": "code",
   "execution_count": null,
   "id": "5655c1d6-916d-4f5a-90aa-1877b6a5317b",
   "metadata": {
    "execution": {
     "iopub.status.busy": "2025-03-16T18:35:49.592310Z",
     "iopub.status.idle": "2025-03-16T18:35:49.592310Z",
     "shell.execute_reply": "2025-03-16T18:35:49.592310Z",
     "shell.execute_reply.started": "2025-03-16T18:35:49.592310Z"
    }
   },
   "outputs": [],
   "source": [
    "# test import\n",
    "import pandasklar as pak"
   ]
  },
  {
   "cell_type": "code",
   "execution_count": null,
   "id": "b1a1633d-62ad-4088-8b90-6447cc84daf6",
   "metadata": {
    "execution": {
     "iopub.status.busy": "2025-03-16T18:35:49.592310Z",
     "iopub.status.idle": "2025-03-16T18:35:49.592310Z",
     "shell.execute_reply": "2025-03-16T18:35:49.592310Z",
     "shell.execute_reply.started": "2025-03-16T18:35:49.592310Z"
    }
   },
   "outputs": [],
   "source": [
    "# test script\n",
    "!pandasklar"
   ]
  },
  {
   "cell_type": "code",
   "execution_count": null,
   "id": "37a28d72-1e60-44f9-a474-79c3e8c6f2db",
   "metadata": {
    "execution": {
     "iopub.status.busy": "2025-03-16T18:35:49.592310Z",
     "iopub.status.idle": "2025-03-16T18:35:49.592310Z",
     "shell.execute_reply": "2025-03-16T18:35:49.592310Z",
     "shell.execute_reply.started": "2025-03-16T18:35:49.592310Z"
    }
   },
   "outputs": [],
   "source": [
    "!pytest"
   ]
  },
  {
   "cell_type": "code",
   "execution_count": null,
   "id": "d734da84-24da-4fa9-8a12-139486f7bf76",
   "metadata": {
    "execution": {
     "iopub.status.busy": "2025-03-16T18:35:49.592310Z",
     "iopub.status.idle": "2025-03-16T18:35:49.592310Z",
     "shell.execute_reply": "2025-03-16T18:35:49.592310Z",
     "shell.execute_reply.started": "2025-03-16T18:35:49.592310Z"
    },
    "tags": []
   },
   "outputs": [],
   "source": [
    "# show version\n",
    "from importlib.metadata import version  \n",
    "version('pandasklar')  "
   ]
  }
 ],
 "metadata": {
  "kernelspec": {
   "display_name": "Python 3 (ipykernel)",
   "language": "python",
   "name": "python3"
  },
  "language_info": {
   "codemirror_mode": {
    "name": "ipython",
    "version": 3
   },
   "file_extension": ".py",
   "mimetype": "text/x-python",
   "name": "python",
   "nbconvert_exporter": "python",
   "pygments_lexer": "ipython3",
   "version": "3.12.9"
  }
 },
 "nbformat": 4,
 "nbformat_minor": 5
}
