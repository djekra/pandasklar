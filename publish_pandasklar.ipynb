{
 "cells": [
  {
   "cell_type": "markdown",
   "id": "4b8437a0-f586-4b27-ac6d-6dc93cf84169",
   "metadata": {},
   "source": [
    "## Create README"
   ]
  },
  {
   "cell_type": "code",
   "execution_count": 1,
   "id": "73a96aa2-8c8a-4964-8361-671d9d4bdce6",
   "metadata": {
    "execution": {
     "iopub.execute_input": "2023-03-24T22:29:28.443913Z",
     "iopub.status.busy": "2023-03-24T22:29:28.443296Z",
     "iopub.status.idle": "2023-03-24T22:29:30.290767Z",
     "shell.execute_reply": "2023-03-24T22:29:30.288862Z",
     "shell.execute_reply.started": "2023-03-24T22:29:28.443885Z"
    }
   },
   "outputs": [
    {
     "name": "stdout",
     "output_type": "stream",
     "text": [
      "[NbConvertApp] Converting notebook README.ipynb to markdown\n",
      "[NbConvertApp] Writing 9297 bytes to README.md\n"
     ]
    }
   ],
   "source": [
    "!jupyter nbconvert --ClearMetadataPreprocessor.enabled=True --ClearOutput.enabled=True --to markdown README.ipynb"
   ]
  },
  {
   "cell_type": "markdown",
   "id": "a4547f78-251b-45b5-a478-27dc691d193b",
   "metadata": {},
   "source": [
    "## Local install"
   ]
  },
  {
   "cell_type": "code",
   "execution_count": 2,
   "id": "30be06b0-90b1-41b1-a63d-9cec8e4a05ab",
   "metadata": {
    "execution": {
     "iopub.execute_input": "2023-03-24T22:29:30.300285Z",
     "iopub.status.busy": "2023-03-24T22:29:30.299730Z",
     "iopub.status.idle": "2023-03-24T22:29:33.599454Z",
     "shell.execute_reply": "2023-03-24T22:29:33.596724Z",
     "shell.execute_reply.started": "2023-03-24T22:29:30.300230Z"
    }
   },
   "outputs": [
    {
     "name": "stdout",
     "output_type": "stream",
     "text": [
      "Found existing installation: pandasklar 0.2.5\n",
      "Uninstalling pandasklar-0.2.5:\n",
      "  Successfully uninstalled pandasklar-0.2.5\n"
     ]
    }
   ],
   "source": [
    "# uninstall\n",
    "!pip uninstall -y pandasklar"
   ]
  },
  {
   "cell_type": "code",
   "execution_count": 3,
   "id": "f345ee0f-748f-40be-8578-8ad4ac4d9fe3",
   "metadata": {
    "execution": {
     "iopub.execute_input": "2023-03-24T22:29:33.604906Z",
     "iopub.status.busy": "2023-03-24T22:29:33.604019Z",
     "iopub.status.idle": "2023-03-24T22:29:41.911660Z",
     "shell.execute_reply": "2023-03-24T22:29:41.909020Z",
     "shell.execute_reply.started": "2023-03-24T22:29:33.604815Z"
    },
    "tags": []
   },
   "outputs": [],
   "source": [
    "# install locally\n",
    "!python -m pip install -q -e ."
   ]
  },
  {
   "cell_type": "code",
   "execution_count": 4,
   "id": "8cec0e88-e3c2-4020-b9c9-176bcd255c46",
   "metadata": {
    "execution": {
     "iopub.execute_input": "2023-03-24T22:29:41.940060Z",
     "iopub.status.busy": "2023-03-24T22:29:41.925910Z",
     "iopub.status.idle": "2023-03-24T22:29:44.815960Z",
     "shell.execute_reply": "2023-03-24T22:29:44.813452Z",
     "shell.execute_reply.started": "2023-03-24T22:29:41.939961Z"
    }
   },
   "outputs": [
    {
     "name": "stdout",
     "output_type": "stream",
     "text": [
      "Name: pandasklar\n",
      "Version: 0.2.5\n",
      "Summary: Toolbox / Ecosystem for data science. Easier handling of pandas, especially when thinking in SQL.\n",
      "Home-page: \n",
      "Author: \n",
      "Author-email: djekra <hopsalla@gmail.com>\n",
      "License: MIT\n",
      "Location: /home/me/mambaforge/envs/python_06/lib/python3.9/site-packages\n",
      "Requires: blab, bpyth, numpy, pandas, perlin-noise, termcolor\n",
      "Required-by: \n"
     ]
    }
   ],
   "source": [
    "# show\n",
    "!pip show pandasklar"
   ]
  },
  {
   "cell_type": "code",
   "execution_count": 5,
   "id": "baf8f2b6-2bb4-4460-b654-f4454bfec48f",
   "metadata": {
    "execution": {
     "iopub.execute_input": "2023-03-24T22:29:44.819432Z",
     "iopub.status.busy": "2023-03-24T22:29:44.818636Z",
     "iopub.status.idle": "2023-03-24T22:29:47.785535Z",
     "shell.execute_reply": "2023-03-24T22:29:47.784522Z",
     "shell.execute_reply.started": "2023-03-24T22:29:44.819338Z"
    }
   },
   "outputs": [],
   "source": [
    "# test import\n",
    "# Wenn dies failed: Restart Kernel and Run all Cells\n",
    "import pandasklar as pak"
   ]
  },
  {
   "cell_type": "code",
   "execution_count": 6,
   "id": "43f0bbdd-2df6-4534-a86e-77657d0329da",
   "metadata": {
    "execution": {
     "iopub.execute_input": "2023-03-24T22:29:47.787949Z",
     "iopub.status.busy": "2023-03-24T22:29:47.787210Z",
     "iopub.status.idle": "2023-03-24T22:29:51.057193Z",
     "shell.execute_reply": "2023-03-24T22:29:51.056328Z",
     "shell.execute_reply.started": "2023-03-24T22:29:47.787909Z"
    }
   },
   "outputs": [
    {
     "name": "stdout",
     "output_type": "stream",
     "text": [
      "Hello pandasklar 0.2.5\n"
     ]
    }
   ],
   "source": [
    "# test script\n",
    "!pandasklar"
   ]
  },
  {
   "cell_type": "code",
   "execution_count": 7,
   "id": "368b880d-213c-4683-b7ac-22b4105e57ff",
   "metadata": {
    "execution": {
     "iopub.execute_input": "2023-03-24T22:29:51.058633Z",
     "iopub.status.busy": "2023-03-24T22:29:51.058339Z",
     "iopub.status.idle": "2023-03-24T22:29:51.565188Z",
     "shell.execute_reply": "2023-03-24T22:29:51.564569Z",
     "shell.execute_reply.started": "2023-03-24T22:29:51.058603Z"
    },
    "tags": []
   },
   "outputs": [
    {
     "name": "stdout",
     "output_type": "stream",
     "text": [
      "blab init\n",
      "environment['in_colab']     = False\n",
      "environment['dropbox_path'] = /home/me/Data_Linux/Dropbox\n",
      "environment['lib_path']     = /home/me/Data_Linux/Dropbox/31_Projekte/01_Python/libs\n",
      "Start Time: 23:29:51\n"
     ]
    },
    {
     "data": {
      "text/html": [
       "<img src onerror=\"var cell = this.closest('.jp-CodeCell');var editor = cell.querySelector('.jp-Editor');editor.style.background='Beige';this.parentNode.removeChild(this)\">"
      ],
      "text/plain": [
       "<IPython.core.display.HTML object>"
      ]
     },
     "metadata": {},
     "output_type": "display_data"
    }
   ],
   "source": [
    "# blab init\n",
    "try:\n",
    "    import blab\n",
    "    startup_notebook = blab.blab_startup()\n",
    "    %run $startup_notebook\n",
    "except:\n",
    "    pass"
   ]
  },
  {
   "cell_type": "code",
   "execution_count": 8,
   "id": "64159a70-deaa-44c3-8c7b-ea315c626cb3",
   "metadata": {
    "execution": {
     "iopub.execute_input": "2023-03-24T22:29:51.567435Z",
     "iopub.status.busy": "2023-03-24T22:29:51.567154Z",
     "iopub.status.idle": "2023-03-24T22:29:51.606284Z",
     "shell.execute_reply": "2023-03-24T22:29:51.604653Z",
     "shell.execute_reply.started": "2023-03-24T22:29:51.567410Z"
    }
   },
   "outputs": [
    {
     "name": "stdout",
     "output_type": "stream",
     "text": [
      "Stop Time:  23:29:51\n",
      "Elapsed:    0 secs\n"
     ]
    },
    {
     "data": {
      "text/html": [
       "<img src onerror=\"var cell = this.closest('.jp-CodeCell');var editor = cell.querySelector('.jp-Editor');editor.style.background='DarkGray';this.parentNode.removeChild(this)\">"
      ],
      "text/plain": [
       "<IPython.core.display.HTML object>"
      ]
     },
     "metadata": {},
     "output_type": "display_data"
    }
   ],
   "source": [
    "raise Stop"
   ]
  },
  {
   "cell_type": "markdown",
   "id": "efa2c656-785f-45b7-a3b5-a9ae251bce06",
   "metadata": {},
   "source": [
    "## build"
   ]
  },
  {
   "cell_type": "code",
   "execution_count": null,
   "id": "f20cbd4d-b38b-4bc9-a750-b14851fb174b",
   "metadata": {
    "execution": {
     "iopub.status.busy": "2023-03-24T22:29:51.607245Z",
     "iopub.status.idle": "2023-03-24T22:29:51.607681Z",
     "shell.execute_reply": "2023-03-24T22:29:51.607471Z",
     "shell.execute_reply.started": "2023-03-24T22:29:51.607454Z"
    }
   },
   "outputs": [],
   "source": [
    "!pip install -q build"
   ]
  },
  {
   "cell_type": "code",
   "execution_count": null,
   "id": "c745f5da-d6e4-408a-aa73-1166ccc6fd5b",
   "metadata": {
    "execution": {
     "iopub.status.busy": "2023-03-24T22:29:51.608769Z",
     "iopub.status.idle": "2023-03-24T22:29:51.609644Z",
     "shell.execute_reply": "2023-03-24T22:29:51.609468Z",
     "shell.execute_reply.started": "2023-03-24T22:29:51.609445Z"
    }
   },
   "outputs": [],
   "source": [
    "!python -m build"
   ]
  },
  {
   "cell_type": "markdown",
   "id": "e6b13397-01f2-4ffb-9668-dc9a58196db9",
   "metadata": {},
   "source": [
    "## Publish on github"
   ]
  },
  {
   "cell_type": "code",
   "execution_count": null,
   "id": "d444d5d8-ddb6-451e-9300-fa6424dde8f0",
   "metadata": {
    "execution": {
     "iopub.status.busy": "2023-03-24T22:29:51.610479Z",
     "iopub.status.idle": "2023-03-24T22:29:51.611605Z",
     "shell.execute_reply": "2023-03-24T22:29:51.611434Z",
     "shell.execute_reply.started": "2023-03-24T22:29:51.611412Z"
    }
   },
   "outputs": [],
   "source": [
    "!git status"
   ]
  },
  {
   "cell_type": "code",
   "execution_count": null,
   "id": "c6edb3f8-91d3-4a6d-8d9a-35e64e2f9239",
   "metadata": {
    "execution": {
     "iopub.status.busy": "2023-03-24T22:29:51.612365Z",
     "iopub.status.idle": "2023-03-24T22:29:51.612907Z",
     "shell.execute_reply": "2023-03-24T22:29:51.612760Z",
     "shell.execute_reply.started": "2023-03-24T22:29:51.612743Z"
    }
   },
   "outputs": [],
   "source": [
    "!git config credential.helper store"
   ]
  },
  {
   "cell_type": "code",
   "execution_count": null,
   "id": "a9a7e740-2661-43c1-9743-bef78afaba54",
   "metadata": {
    "execution": {
     "iopub.status.busy": "2023-03-24T22:29:51.614249Z",
     "iopub.status.idle": "2023-03-24T22:29:51.615155Z",
     "shell.execute_reply": "2023-03-24T22:29:51.614950Z",
     "shell.execute_reply.started": "2023-03-24T22:29:51.614924Z"
    }
   },
   "outputs": [],
   "source": [
    "!git add --all"
   ]
  },
  {
   "cell_type": "code",
   "execution_count": null,
   "id": "11087953-3aab-4adf-9561-3c151ee0f890",
   "metadata": {
    "execution": {
     "iopub.status.busy": "2023-03-24T22:29:51.616218Z",
     "iopub.status.idle": "2023-03-24T22:29:51.616649Z",
     "shell.execute_reply": "2023-03-24T22:29:51.616461Z",
     "shell.execute_reply.started": "2023-03-24T22:29:51.616444Z"
    }
   },
   "outputs": [],
   "source": [
    "# Commit message eintragen und run\n",
    "#!git commit -m \"ֹ\"\n",
    "!git commit -m \"ready for pandas 2.0\""
   ]
  },
  {
   "cell_type": "code",
   "execution_count": null,
   "id": "2a2dd0f9-4eb4-4750-acae-6ad18982dabf",
   "metadata": {
    "execution": {
     "iopub.status.busy": "2023-03-24T22:29:51.617888Z",
     "iopub.status.idle": "2023-03-24T22:29:51.618276Z",
     "shell.execute_reply": "2023-03-24T22:29:51.618102Z",
     "shell.execute_reply.started": "2023-03-24T22:29:51.618086Z"
    },
    "tags": []
   },
   "outputs": [],
   "source": [
    "!git push origin master"
   ]
  },
  {
   "cell_type": "code",
   "execution_count": null,
   "id": "592c9efd-54a8-4e9a-ae55-83ab3e6f1463",
   "metadata": {
    "execution": {
     "iopub.status.busy": "2023-03-24T22:29:51.626198Z",
     "iopub.status.idle": "2023-03-24T22:29:51.626865Z",
     "shell.execute_reply": "2023-03-24T22:29:51.626715Z",
     "shell.execute_reply.started": "2023-03-24T22:29:51.626698Z"
    }
   },
   "outputs": [],
   "source": [
    "raise Stop"
   ]
  },
  {
   "cell_type": "markdown",
   "id": "3d13ba76-74b6-44cd-a2f0-3b8087890032",
   "metadata": {},
   "source": [
    "* Terminal ins Verzeichnis öffnen\n",
    "* `git push origin master`\n",
    "* Personal Access Token verwenden statt Passwort\n",
    "* überprüfen: https://github.com/djekra/pandasklar"
   ]
  },
  {
   "cell_type": "markdown",
   "id": "1bee5aa0-6520-42a1-9993-a3a0f18e0bad",
   "metadata": {},
   "source": [
    "## Publish on pypi.org"
   ]
  },
  {
   "cell_type": "markdown",
   "id": "2fe58367-ce3a-4e94-8085-b5e1f4aa5932",
   "metadata": {},
   "source": [
    "* `python -m twine upload --skip-existing dist/*` \n",
    "* Version überprüfen: https://pypi.org/project/pandasklar/"
   ]
  },
  {
   "cell_type": "code",
   "execution_count": null,
   "id": "f83b80b8-60ea-4ad6-bfdb-00a2f52a4740",
   "metadata": {
    "execution": {
     "iopub.status.busy": "2023-03-24T22:29:51.627557Z",
     "iopub.status.idle": "2023-03-24T22:29:51.628130Z",
     "shell.execute_reply": "2023-03-24T22:29:51.627992Z",
     "shell.execute_reply.started": "2023-03-24T22:29:51.627976Z"
    }
   },
   "outputs": [],
   "source": [
    "# Nicht nötig\n",
    "# Publish on test.pypi.org\n",
    "# python -m twine upload --repository testpypi --skip-existing dist/* "
   ]
  },
  {
   "cell_type": "markdown",
   "id": "16c9f64f-40af-41ac-90db-f802bb8f73c1",
   "metadata": {},
   "source": [
    "## Test from PyPi"
   ]
  },
  {
   "cell_type": "code",
   "execution_count": null,
   "id": "3af8896f-3f40-4d28-a365-fc4c0cb4228f",
   "metadata": {
    "execution": {
     "iopub.status.busy": "2023-03-24T22:29:51.628814Z",
     "iopub.status.idle": "2023-03-24T22:29:51.629475Z",
     "shell.execute_reply": "2023-03-24T22:29:51.629323Z",
     "shell.execute_reply.started": "2023-03-24T22:29:51.629304Z"
    }
   },
   "outputs": [],
   "source": [
    "# uninstall\n",
    "!pip uninstall -y pandasklar"
   ]
  },
  {
   "cell_type": "code",
   "execution_count": null,
   "id": "8ea8f83c-6970-424a-993d-f8e378e5faa9",
   "metadata": {
    "execution": {
     "iopub.status.busy": "2023-03-24T22:29:51.630371Z",
     "iopub.status.idle": "2023-03-24T22:29:51.631097Z",
     "shell.execute_reply": "2023-03-24T22:29:51.630942Z",
     "shell.execute_reply.started": "2023-03-24T22:29:51.630922Z"
    }
   },
   "outputs": [],
   "source": [
    "!pip install pandasklar --no-cache-dir "
   ]
  },
  {
   "cell_type": "code",
   "execution_count": null,
   "id": "5655c1d6-916d-4f5a-90aa-1877b6a5317b",
   "metadata": {
    "execution": {
     "iopub.status.busy": "2023-03-24T22:29:51.631823Z",
     "iopub.status.idle": "2023-03-24T22:29:51.632411Z",
     "shell.execute_reply": "2023-03-24T22:29:51.632273Z",
     "shell.execute_reply.started": "2023-03-24T22:29:51.632256Z"
    }
   },
   "outputs": [],
   "source": [
    "# test import\n",
    "import pandasklar as pak"
   ]
  },
  {
   "cell_type": "code",
   "execution_count": null,
   "id": "b1a1633d-62ad-4088-8b90-6447cc84daf6",
   "metadata": {
    "execution": {
     "iopub.status.busy": "2023-03-24T22:29:51.633092Z",
     "iopub.status.idle": "2023-03-24T22:29:51.637732Z",
     "shell.execute_reply": "2023-03-24T22:29:51.637497Z",
     "shell.execute_reply.started": "2023-03-24T22:29:51.637460Z"
    }
   },
   "outputs": [],
   "source": [
    "# test script\n",
    "!pandasklar"
   ]
  },
  {
   "cell_type": "code",
   "execution_count": null,
   "id": "d734da84-24da-4fa9-8a12-139486f7bf76",
   "metadata": {
    "execution": {
     "iopub.status.busy": "2023-03-24T22:29:51.638611Z",
     "iopub.status.idle": "2023-03-24T22:29:51.639289Z",
     "shell.execute_reply": "2023-03-24T22:29:51.639122Z",
     "shell.execute_reply.started": "2023-03-24T22:29:51.639102Z"
    },
    "tags": []
   },
   "outputs": [],
   "source": [
    "# show version\n",
    "from importlib.metadata import version  \n",
    "version('pandasklar')  "
   ]
  }
 ],
 "metadata": {
  "kernelspec": {
   "display_name": "Python 3 (ipykernel)",
   "language": "python",
   "name": "python3"
  },
  "language_info": {
   "codemirror_mode": {
    "name": "ipython",
    "version": 3
   },
   "file_extension": ".py",
   "mimetype": "text/x-python",
   "name": "python",
   "nbconvert_exporter": "python",
   "pygments_lexer": "ipython3",
   "version": "3.9.13"
  }
 },
 "nbformat": 4,
 "nbformat_minor": 5
}
