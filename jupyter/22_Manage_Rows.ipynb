{
 "cells": [
  {
   "cell_type": "markdown",
   "metadata": {},
   "source": [
    "__[Open and try this file online (Colab)](https://colab.research.google.com/github/djekra/pandasklar/blob/master/jupyter/22_Manage_Rows.ipynb)__"
   ]
  },
  {
   "cell_type": "markdown",
   "metadata": {},
   "source": [
    "# Manage rows\n",
    "* `drop_multiindex`: Converts any MultiIndex to normal columns and resets the index. Works with MultiIndex in Series or DataFrames, in rows and in columns.\n",
    "* `reset_index`: Creates a new, unnamed index. If keep_as is given, the old index is preserved as a row with this name. Otherwise the old index is dropped.\n",
    "* `rename_index`: Renames the index.\n",
    "* `drop_rows`: Drops rows identified by a binary mask, verbose if wanted.\n",
    "* `move_rows`: Moves rows identified by a binary mask from one dataframe to another (e.g. into a trash).<br>\n",
    "   The target dataframe gets an additional message column by standard (to identify why the rows were moved). Verbose if wanted. \n",
    "* `add_rows`: Like concat, with additional features only_new and verbose."
   ]
  },
  {
   "cell_type": "code",
   "execution_count": 1,
   "metadata": {},
   "outputs": [
    {
     "name": "stdout",
     "output_type": "stream",
     "text": [
      "blab init\n",
      "environment['dropbox_path'] = /home/me/Data_Linux/Dropbox\n",
      "environment['lib_path']     = /home/me/Data_Linux/Dropbox/31_Projekte/01_Python/libs\n",
      "Start Time: 21:40:20\n"
     ]
    },
    {
     "data": {
      "text/html": [
       "<img src onerror=\"var cell = this.closest('.jp-CodeCell');var editor = cell.querySelector('.jp-Editor');editor.style.background='Beige';this.parentNode.removeChild(this)\">"
      ],
      "text/plain": [
       "<IPython.core.display.HTML object>"
      ]
     },
     "metadata": {},
     "output_type": "display_data"
    },
    {
     "name": "stdout",
     "output_type": "stream",
     "text": [
      "time: 393 ms\n"
     ]
    }
   ],
   "source": [
    "# blab init\n",
    "try:\n",
    "    import blab\n",
    "except ImportError as e:\n",
    "    !pip install blab\n",
    "    import blab    \n",
    "startup_notebook = blab.blab_startup()\n",
    "%run $startup_notebook "
   ]
  },
  {
   "cell_type": "code",
   "execution_count": 2,
   "metadata": {},
   "outputs": [
    {
     "name": "stdout",
     "output_type": "stream",
     "text": [
      "VERBOSE = True\n",
      "--> setting verbose=True as default for all pandasklar functions\n",
      "\n",
      "time: 263 ms\n"
     ]
    }
   ],
   "source": [
    "import pandas     as pd \n",
    "import bpyth      as bpy\n",
    "\n",
    "# pandasklar\n",
    "try:\n",
    "    import pandasklar as pak \n",
    "except ImportError as e:\n",
    "    !pip install pandasklar\n",
    "    import pandasklar as pak   \n",
    "    \n",
    "# verbose\n",
    "pak.Config.set('VERBOSE', True)"
   ]
  },
  {
   "cell_type": "code",
   "execution_count": 3,
   "metadata": {},
   "outputs": [
    {
     "data": {
      "text/html": [
       "<div>\n",
       "<style scoped>\n",
       "    .dataframe tbody tr th:only-of-type {\n",
       "        vertical-align: middle;\n",
       "    }\n",
       "\n",
       "    .dataframe tbody tr th {\n",
       "        vertical-align: top;\n",
       "    }\n",
       "\n",
       "    .dataframe thead th {\n",
       "        text-align: right;\n",
       "    }\n",
       "</style>\n",
       "<table border=\"1\" class=\"dataframe\">\n",
       "  <thead>\n",
       "    <tr style=\"text-align: right;\">\n",
       "      <th></th>\n",
       "      <th>first_name</th>\n",
       "      <th>age</th>\n",
       "      <th>age_class</th>\n",
       "      <th>postal_code</th>\n",
       "      <th>birthplace</th>\n",
       "      <th>secret</th>\n",
       "      <th>features</th>\n",
       "      <th>history</th>\n",
       "    </tr>\n",
       "  </thead>\n",
       "  <tbody>\n",
       "    <tr>\n",
       "      <th>0</th>\n",
       "      <td>Tina</td>\n",
       "      <td>39</td>\n",
       "      <td>30</td>\n",
       "      <td>11064</td>\n",
       "      <td>&lt;NA&gt;</td>\n",
       "      <td>sÜdoA</td>\n",
       "      <td>{p, u, V}</td>\n",
       "      <td>[A, x]</td>\n",
       "    </tr>\n",
       "    <tr>\n",
       "      <th>1</th>\n",
       "      <td>Ralf</td>\n",
       "      <td>42</td>\n",
       "      <td>40</td>\n",
       "      <td>57102</td>\n",
       "      <td>Berlin</td>\n",
       "      <td>7g0TiBoPzG</td>\n",
       "      <td>{Z, r, V, R}</td>\n",
       "      <td>[c, b, a]</td>\n",
       "    </tr>\n",
       "    <tr>\n",
       "      <th>2</th>\n",
       "      <td>Carla</td>\n",
       "      <td>30</td>\n",
       "      <td>30</td>\n",
       "      <td>28521</td>\n",
       "      <td>&lt;NA&gt;</td>\n",
       "      <td>e3ScsL7wX</td>\n",
       "      <td>{N, n, F, r, K}</td>\n",
       "      <td>[A, A, A]</td>\n",
       "    </tr>\n",
       "    <tr>\n",
       "      <th>3</th>\n",
       "      <td>Max</td>\n",
       "      <td>26</td>\n",
       "      <td>20</td>\n",
       "      <td>22004</td>\n",
       "      <td>Berlin</td>\n",
       "      <td>meQh2pV47</td>\n",
       "      <td>{l, M, b, Y}</td>\n",
       "      <td>[a, b, c]</td>\n",
       "    </tr>\n",
       "    <tr>\n",
       "      <th>4</th>\n",
       "      <td>Manuel</td>\n",
       "      <td>36</td>\n",
       "      <td>30</td>\n",
       "      <td>64309</td>\n",
       "      <td>Berlin</td>\n",
       "      <td>KEufM</td>\n",
       "      <td>{a, C, U}</td>\n",
       "      <td>[A, C, C, B]</td>\n",
       "    </tr>\n",
       "    <tr>\n",
       "      <th>...</th>\n",
       "      <td>...</td>\n",
       "      <td>...</td>\n",
       "      <td>...</td>\n",
       "      <td>...</td>\n",
       "      <td>...</td>\n",
       "      <td>...</td>\n",
       "      <td>...</td>\n",
       "      <td>...</td>\n",
       "    </tr>\n",
       "    <tr>\n",
       "      <th>995</th>\n",
       "      <td>Zoe</td>\n",
       "      <td>31</td>\n",
       "      <td>30</td>\n",
       "      <td>32490</td>\n",
       "      <td>Berlin</td>\n",
       "      <td>fLEwuT</td>\n",
       "      <td>{E, L, Q}</td>\n",
       "      <td>[A, B, C]</td>\n",
       "    </tr>\n",
       "    <tr>\n",
       "      <th>996</th>\n",
       "      <td>Helmut</td>\n",
       "      <td>30</td>\n",
       "      <td>30</td>\n",
       "      <td>78962</td>\n",
       "      <td>Bremen</td>\n",
       "      <td>M4qPB89</td>\n",
       "      <td>{t, Z, K}</td>\n",
       "      <td>[a, b, c]</td>\n",
       "    </tr>\n",
       "    <tr>\n",
       "      <th>997</th>\n",
       "      <td>Leo</td>\n",
       "      <td>29</td>\n",
       "      <td>20</td>\n",
       "      <td>31000</td>\n",
       "      <td>&lt;NA&gt;</td>\n",
       "      <td>8L0uEM1M</td>\n",
       "      <td>{r, 4}</td>\n",
       "      <td>[b, b, a, b]</td>\n",
       "    </tr>\n",
       "    <tr>\n",
       "      <th>998</th>\n",
       "      <td>Pauline</td>\n",
       "      <td>20</td>\n",
       "      <td>20</td>\n",
       "      <td>51043</td>\n",
       "      <td>Bremen</td>\n",
       "      <td>vkPineÜÜ</td>\n",
       "      <td>{N, v, V, d, s}</td>\n",
       "      <td>[A, A, A]</td>\n",
       "    </tr>\n",
       "    <tr>\n",
       "      <th>999</th>\n",
       "      <td>Jannick</td>\n",
       "      <td>36</td>\n",
       "      <td>30</td>\n",
       "      <td>65600</td>\n",
       "      <td>Bremen</td>\n",
       "      <td>0iQinFdOt</td>\n",
       "      <td>{3, M, R}</td>\n",
       "      <td>[A, C, C, B]</td>\n",
       "    </tr>\n",
       "  </tbody>\n",
       "</table>\n",
       "<p>1000 rows × 8 columns</p>\n",
       "</div>"
      ],
      "text/plain": [
       "    first_name  age  age_class  postal_code birthplace      secret  \\\n",
       "0         Tina   39         30        11064       <NA>       sÜdoA   \n",
       "1         Ralf   42         40        57102     Berlin  7g0TiBoPzG   \n",
       "2        Carla   30         30        28521       <NA>   e3ScsL7wX   \n",
       "3          Max   26         20        22004     Berlin   meQh2pV47   \n",
       "4       Manuel   36         30        64309     Berlin       KEufM   \n",
       "..         ...  ...        ...          ...        ...         ...   \n",
       "995        Zoe   31         30        32490     Berlin      fLEwuT   \n",
       "996     Helmut   30         30        78962     Bremen     M4qPB89   \n",
       "997        Leo   29         20        31000       <NA>    8L0uEM1M   \n",
       "998    Pauline   20         20        51043     Bremen    vkPineÜÜ   \n",
       "999    Jannick   36         30        65600     Bremen   0iQinFdOt   \n",
       "\n",
       "            features       history  \n",
       "0          {p, u, V}        [A, x]  \n",
       "1       {Z, r, V, R}     [c, b, a]  \n",
       "2    {N, n, F, r, K}     [A, A, A]  \n",
       "3       {l, M, b, Y}     [a, b, c]  \n",
       "4          {a, C, U}  [A, C, C, B]  \n",
       "..               ...           ...  \n",
       "995        {E, L, Q}     [A, B, C]  \n",
       "996        {t, Z, K}     [a, b, c]  \n",
       "997           {r, 4}  [b, b, a, b]  \n",
       "998  {N, v, V, d, s}     [A, A, A]  \n",
       "999        {3, M, R}  [A, C, C, B]  \n",
       "\n",
       "[1000 rows x 8 columns]"
      ]
     },
     "execution_count": 3,
     "metadata": {},
     "output_type": "execute_result"
    },
    {
     "name": "stdout",
     "output_type": "stream",
     "text": [
      "time: 167 ms\n"
     ]
    }
   ],
   "source": [
    "# Test data\n",
    "df = pak.people(1000)\n",
    "df"
   ]
  },
  {
   "cell_type": "markdown",
   "metadata": {},
   "source": [
    "## === Row Indexes ==="
   ]
  },
  {
   "cell_type": "markdown",
   "metadata": {
    "tags": []
   },
   "source": [
    "### rename_index()"
   ]
  },
  {
   "cell_type": "code",
   "execution_count": 4,
   "metadata": {},
   "outputs": [
    {
     "data": {
      "text/html": [
       "<div>\n",
       "<style scoped>\n",
       "    .dataframe tbody tr th:only-of-type {\n",
       "        vertical-align: middle;\n",
       "    }\n",
       "\n",
       "    .dataframe tbody tr th {\n",
       "        vertical-align: top;\n",
       "    }\n",
       "\n",
       "    .dataframe thead th {\n",
       "        text-align: right;\n",
       "    }\n",
       "</style>\n",
       "<table border=\"1\" class=\"dataframe\">\n",
       "  <thead>\n",
       "    <tr style=\"text-align: right;\">\n",
       "      <th></th>\n",
       "      <th>first_name</th>\n",
       "      <th>age</th>\n",
       "      <th>age_class</th>\n",
       "      <th>postal_code</th>\n",
       "      <th>birthplace</th>\n",
       "      <th>secret</th>\n",
       "      <th>features</th>\n",
       "      <th>history</th>\n",
       "    </tr>\n",
       "    <tr>\n",
       "      <th>rnd_string</th>\n",
       "      <th></th>\n",
       "      <th></th>\n",
       "      <th></th>\n",
       "      <th></th>\n",
       "      <th></th>\n",
       "      <th></th>\n",
       "      <th></th>\n",
       "      <th></th>\n",
       "    </tr>\n",
       "  </thead>\n",
       "  <tbody>\n",
       "    <tr>\n",
       "      <th>Y4B</th>\n",
       "      <td>Tina</td>\n",
       "      <td>39</td>\n",
       "      <td>30</td>\n",
       "      <td>11064</td>\n",
       "      <td>&lt;NA&gt;</td>\n",
       "      <td>sÜdoA</td>\n",
       "      <td>{p, u, V}</td>\n",
       "      <td>[A, x]</td>\n",
       "    </tr>\n",
       "    <tr>\n",
       "      <th>7fo</th>\n",
       "      <td>Ralf</td>\n",
       "      <td>42</td>\n",
       "      <td>40</td>\n",
       "      <td>57102</td>\n",
       "      <td>Berlin</td>\n",
       "      <td>7g0TiBoPzG</td>\n",
       "      <td>{Z, r, V, R}</td>\n",
       "      <td>[c, b, a]</td>\n",
       "    </tr>\n",
       "    <tr>\n",
       "      <th>mK2</th>\n",
       "      <td>Carla</td>\n",
       "      <td>30</td>\n",
       "      <td>30</td>\n",
       "      <td>28521</td>\n",
       "      <td>&lt;NA&gt;</td>\n",
       "      <td>e3ScsL7wX</td>\n",
       "      <td>{N, n, F, r, K}</td>\n",
       "      <td>[A, A, A]</td>\n",
       "    </tr>\n",
       "    <tr>\n",
       "      <th>4Ul</th>\n",
       "      <td>Max</td>\n",
       "      <td>26</td>\n",
       "      <td>20</td>\n",
       "      <td>22004</td>\n",
       "      <td>Berlin</td>\n",
       "      <td>meQh2pV47</td>\n",
       "      <td>{l, M, b, Y}</td>\n",
       "      <td>[a, b, c]</td>\n",
       "    </tr>\n",
       "    <tr>\n",
       "      <th>koÖ</th>\n",
       "      <td>Manuel</td>\n",
       "      <td>36</td>\n",
       "      <td>30</td>\n",
       "      <td>64309</td>\n",
       "      <td>Berlin</td>\n",
       "      <td>KEufM</td>\n",
       "      <td>{a, C, U}</td>\n",
       "      <td>[A, C, C, B]</td>\n",
       "    </tr>\n",
       "    <tr>\n",
       "      <th>...</th>\n",
       "      <td>...</td>\n",
       "      <td>...</td>\n",
       "      <td>...</td>\n",
       "      <td>...</td>\n",
       "      <td>...</td>\n",
       "      <td>...</td>\n",
       "      <td>...</td>\n",
       "      <td>...</td>\n",
       "    </tr>\n",
       "    <tr>\n",
       "      <th>BDx</th>\n",
       "      <td>Zoe</td>\n",
       "      <td>31</td>\n",
       "      <td>30</td>\n",
       "      <td>32490</td>\n",
       "      <td>Berlin</td>\n",
       "      <td>fLEwuT</td>\n",
       "      <td>{E, L, Q}</td>\n",
       "      <td>[A, B, C]</td>\n",
       "    </tr>\n",
       "    <tr>\n",
       "      <th>muf</th>\n",
       "      <td>Helmut</td>\n",
       "      <td>30</td>\n",
       "      <td>30</td>\n",
       "      <td>78962</td>\n",
       "      <td>Bremen</td>\n",
       "      <td>M4qPB89</td>\n",
       "      <td>{t, Z, K}</td>\n",
       "      <td>[a, b, c]</td>\n",
       "    </tr>\n",
       "    <tr>\n",
       "      <th>ZTS</th>\n",
       "      <td>Leo</td>\n",
       "      <td>29</td>\n",
       "      <td>20</td>\n",
       "      <td>31000</td>\n",
       "      <td>&lt;NA&gt;</td>\n",
       "      <td>8L0uEM1M</td>\n",
       "      <td>{r, 4}</td>\n",
       "      <td>[b, b, a, b]</td>\n",
       "    </tr>\n",
       "    <tr>\n",
       "      <th>Öu9</th>\n",
       "      <td>Pauline</td>\n",
       "      <td>20</td>\n",
       "      <td>20</td>\n",
       "      <td>51043</td>\n",
       "      <td>Bremen</td>\n",
       "      <td>vkPineÜÜ</td>\n",
       "      <td>{N, v, V, d, s}</td>\n",
       "      <td>[A, A, A]</td>\n",
       "    </tr>\n",
       "    <tr>\n",
       "      <th>osc</th>\n",
       "      <td>Jannick</td>\n",
       "      <td>36</td>\n",
       "      <td>30</td>\n",
       "      <td>65600</td>\n",
       "      <td>Bremen</td>\n",
       "      <td>0iQinFdOt</td>\n",
       "      <td>{3, M, R}</td>\n",
       "      <td>[A, C, C, B]</td>\n",
       "    </tr>\n",
       "  </tbody>\n",
       "</table>\n",
       "<p>1000 rows × 8 columns</p>\n",
       "</div>"
      ],
      "text/plain": [
       "           first_name  age  age_class  postal_code birthplace      secret  \\\n",
       "rnd_string                                                                  \n",
       "Y4B              Tina   39         30        11064       <NA>       sÜdoA   \n",
       "7fo              Ralf   42         40        57102     Berlin  7g0TiBoPzG   \n",
       "mK2             Carla   30         30        28521       <NA>   e3ScsL7wX   \n",
       "4Ul               Max   26         20        22004     Berlin   meQh2pV47   \n",
       "koÖ            Manuel   36         30        64309     Berlin       KEufM   \n",
       "...               ...  ...        ...          ...        ...         ...   \n",
       "BDx               Zoe   31         30        32490     Berlin      fLEwuT   \n",
       "muf            Helmut   30         30        78962     Bremen     M4qPB89   \n",
       "ZTS               Leo   29         20        31000       <NA>    8L0uEM1M   \n",
       "Öu9           Pauline   20         20        51043     Bremen    vkPineÜÜ   \n",
       "osc           Jannick   36         30        65600     Bremen   0iQinFdOt   \n",
       "\n",
       "                   features       history  \n",
       "rnd_string                                 \n",
       "Y4B               {p, u, V}        [A, x]  \n",
       "7fo            {Z, r, V, R}     [c, b, a]  \n",
       "mK2         {N, n, F, r, K}     [A, A, A]  \n",
       "4Ul            {l, M, b, Y}     [a, b, c]  \n",
       "koÖ               {a, C, U}  [A, C, C, B]  \n",
       "...                     ...           ...  \n",
       "BDx               {E, L, Q}     [A, B, C]  \n",
       "muf               {t, Z, K}     [a, b, c]  \n",
       "ZTS                  {r, 4}  [b, b, a, b]  \n",
       "Öu9         {N, v, V, d, s}     [A, A, A]  \n",
       "osc               {3, M, R}  [A, C, C, B]  \n",
       "\n",
       "[1000 rows x 8 columns]"
      ]
     },
     "execution_count": 4,
     "metadata": {},
     "output_type": "execute_result"
    },
    {
     "name": "stdout",
     "output_type": "stream",
     "text": [
      "time: 66 ms\n"
     ]
    }
   ],
   "source": [
    "# set a trashy index\n",
    "df.index = pak.random_series(df.shape[0], 'string', len_min=3, len_max=3, p_dup=0)\n",
    "df"
   ]
  },
  {
   "cell_type": "code",
   "execution_count": 5,
   "metadata": {},
   "outputs": [
    {
     "data": {
      "text/html": [
       "<div>\n",
       "<style scoped>\n",
       "    .dataframe tbody tr th:only-of-type {\n",
       "        vertical-align: middle;\n",
       "    }\n",
       "\n",
       "    .dataframe tbody tr th {\n",
       "        vertical-align: top;\n",
       "    }\n",
       "\n",
       "    .dataframe thead th {\n",
       "        text-align: right;\n",
       "    }\n",
       "</style>\n",
       "<table border=\"1\" class=\"dataframe\">\n",
       "  <thead>\n",
       "    <tr style=\"text-align: right;\">\n",
       "      <th></th>\n",
       "      <th>first_name</th>\n",
       "      <th>age</th>\n",
       "      <th>age_class</th>\n",
       "      <th>postal_code</th>\n",
       "      <th>birthplace</th>\n",
       "      <th>secret</th>\n",
       "      <th>features</th>\n",
       "      <th>history</th>\n",
       "    </tr>\n",
       "    <tr>\n",
       "      <th>index_new</th>\n",
       "      <th></th>\n",
       "      <th></th>\n",
       "      <th></th>\n",
       "      <th></th>\n",
       "      <th></th>\n",
       "      <th></th>\n",
       "      <th></th>\n",
       "      <th></th>\n",
       "    </tr>\n",
       "  </thead>\n",
       "  <tbody>\n",
       "    <tr>\n",
       "      <th>Y4B</th>\n",
       "      <td>Tina</td>\n",
       "      <td>39</td>\n",
       "      <td>30</td>\n",
       "      <td>11064</td>\n",
       "      <td>&lt;NA&gt;</td>\n",
       "      <td>sÜdoA</td>\n",
       "      <td>{p, u, V}</td>\n",
       "      <td>[A, x]</td>\n",
       "    </tr>\n",
       "    <tr>\n",
       "      <th>7fo</th>\n",
       "      <td>Ralf</td>\n",
       "      <td>42</td>\n",
       "      <td>40</td>\n",
       "      <td>57102</td>\n",
       "      <td>Berlin</td>\n",
       "      <td>7g0TiBoPzG</td>\n",
       "      <td>{Z, r, V, R}</td>\n",
       "      <td>[c, b, a]</td>\n",
       "    </tr>\n",
       "    <tr>\n",
       "      <th>mK2</th>\n",
       "      <td>Carla</td>\n",
       "      <td>30</td>\n",
       "      <td>30</td>\n",
       "      <td>28521</td>\n",
       "      <td>&lt;NA&gt;</td>\n",
       "      <td>e3ScsL7wX</td>\n",
       "      <td>{N, n, F, r, K}</td>\n",
       "      <td>[A, A, A]</td>\n",
       "    </tr>\n",
       "    <tr>\n",
       "      <th>4Ul</th>\n",
       "      <td>Max</td>\n",
       "      <td>26</td>\n",
       "      <td>20</td>\n",
       "      <td>22004</td>\n",
       "      <td>Berlin</td>\n",
       "      <td>meQh2pV47</td>\n",
       "      <td>{l, M, b, Y}</td>\n",
       "      <td>[a, b, c]</td>\n",
       "    </tr>\n",
       "    <tr>\n",
       "      <th>koÖ</th>\n",
       "      <td>Manuel</td>\n",
       "      <td>36</td>\n",
       "      <td>30</td>\n",
       "      <td>64309</td>\n",
       "      <td>Berlin</td>\n",
       "      <td>KEufM</td>\n",
       "      <td>{a, C, U}</td>\n",
       "      <td>[A, C, C, B]</td>\n",
       "    </tr>\n",
       "    <tr>\n",
       "      <th>...</th>\n",
       "      <td>...</td>\n",
       "      <td>...</td>\n",
       "      <td>...</td>\n",
       "      <td>...</td>\n",
       "      <td>...</td>\n",
       "      <td>...</td>\n",
       "      <td>...</td>\n",
       "      <td>...</td>\n",
       "    </tr>\n",
       "    <tr>\n",
       "      <th>BDx</th>\n",
       "      <td>Zoe</td>\n",
       "      <td>31</td>\n",
       "      <td>30</td>\n",
       "      <td>32490</td>\n",
       "      <td>Berlin</td>\n",
       "      <td>fLEwuT</td>\n",
       "      <td>{E, L, Q}</td>\n",
       "      <td>[A, B, C]</td>\n",
       "    </tr>\n",
       "    <tr>\n",
       "      <th>muf</th>\n",
       "      <td>Helmut</td>\n",
       "      <td>30</td>\n",
       "      <td>30</td>\n",
       "      <td>78962</td>\n",
       "      <td>Bremen</td>\n",
       "      <td>M4qPB89</td>\n",
       "      <td>{t, Z, K}</td>\n",
       "      <td>[a, b, c]</td>\n",
       "    </tr>\n",
       "    <tr>\n",
       "      <th>ZTS</th>\n",
       "      <td>Leo</td>\n",
       "      <td>29</td>\n",
       "      <td>20</td>\n",
       "      <td>31000</td>\n",
       "      <td>&lt;NA&gt;</td>\n",
       "      <td>8L0uEM1M</td>\n",
       "      <td>{r, 4}</td>\n",
       "      <td>[b, b, a, b]</td>\n",
       "    </tr>\n",
       "    <tr>\n",
       "      <th>Öu9</th>\n",
       "      <td>Pauline</td>\n",
       "      <td>20</td>\n",
       "      <td>20</td>\n",
       "      <td>51043</td>\n",
       "      <td>Bremen</td>\n",
       "      <td>vkPineÜÜ</td>\n",
       "      <td>{N, v, V, d, s}</td>\n",
       "      <td>[A, A, A]</td>\n",
       "    </tr>\n",
       "    <tr>\n",
       "      <th>osc</th>\n",
       "      <td>Jannick</td>\n",
       "      <td>36</td>\n",
       "      <td>30</td>\n",
       "      <td>65600</td>\n",
       "      <td>Bremen</td>\n",
       "      <td>0iQinFdOt</td>\n",
       "      <td>{3, M, R}</td>\n",
       "      <td>[A, C, C, B]</td>\n",
       "    </tr>\n",
       "  </tbody>\n",
       "</table>\n",
       "<p>1000 rows × 8 columns</p>\n",
       "</div>"
      ],
      "text/plain": [
       "          first_name  age  age_class  postal_code birthplace      secret  \\\n",
       "index_new                                                                  \n",
       "Y4B             Tina   39         30        11064       <NA>       sÜdoA   \n",
       "7fo             Ralf   42         40        57102     Berlin  7g0TiBoPzG   \n",
       "mK2            Carla   30         30        28521       <NA>   e3ScsL7wX   \n",
       "4Ul              Max   26         20        22004     Berlin   meQh2pV47   \n",
       "koÖ           Manuel   36         30        64309     Berlin       KEufM   \n",
       "...              ...  ...        ...          ...        ...         ...   \n",
       "BDx              Zoe   31         30        32490     Berlin      fLEwuT   \n",
       "muf           Helmut   30         30        78962     Bremen     M4qPB89   \n",
       "ZTS              Leo   29         20        31000       <NA>    8L0uEM1M   \n",
       "Öu9          Pauline   20         20        51043     Bremen    vkPineÜÜ   \n",
       "osc          Jannick   36         30        65600     Bremen   0iQinFdOt   \n",
       "\n",
       "                  features       history  \n",
       "index_new                                 \n",
       "Y4B              {p, u, V}        [A, x]  \n",
       "7fo           {Z, r, V, R}     [c, b, a]  \n",
       "mK2        {N, n, F, r, K}     [A, A, A]  \n",
       "4Ul           {l, M, b, Y}     [a, b, c]  \n",
       "koÖ              {a, C, U}  [A, C, C, B]  \n",
       "...                    ...           ...  \n",
       "BDx              {E, L, Q}     [A, B, C]  \n",
       "muf              {t, Z, K}     [a, b, c]  \n",
       "ZTS                 {r, 4}  [b, b, a, b]  \n",
       "Öu9        {N, v, V, d, s}     [A, A, A]  \n",
       "osc              {3, M, R}  [A, C, C, B]  \n",
       "\n",
       "[1000 rows x 8 columns]"
      ]
     },
     "execution_count": 5,
     "metadata": {},
     "output_type": "execute_result"
    },
    {
     "name": "stdout",
     "output_type": "stream",
     "text": [
      "time: 42.1 ms\n"
     ]
    }
   ],
   "source": [
    "df = pak.rename_index(df,'index_new')\n",
    "df"
   ]
  },
  {
   "cell_type": "markdown",
   "metadata": {},
   "source": [
    "### reset_index()"
   ]
  },
  {
   "cell_type": "code",
   "execution_count": 6,
   "metadata": {
    "tags": []
   },
   "outputs": [
    {
     "name": "stdout",
     "output_type": "stream",
     "text": [
      "time: 73.1 ms\n"
     ]
    },
    {
     "data": {
      "text/plain": [
       "\u001b[0;31mSignature:\u001b[0m \u001b[0mpak\u001b[0m\u001b[0;34m.\u001b[0m\u001b[0mreset_index\u001b[0m\u001b[0;34m(\u001b[0m\u001b[0mdf\u001b[0m\u001b[0;34m,\u001b[0m \u001b[0mkeep_as\u001b[0m\u001b[0;34m=\u001b[0m\u001b[0;32mNone\u001b[0m\u001b[0;34m)\u001b[0m\u001b[0;34m\u001b[0m\u001b[0;34m\u001b[0m\u001b[0m\n",
       "\u001b[0;31mDocstring:\u001b[0m\n",
       "Creates a new, unnamed index.\n",
       "* keep_as: If keep_as is given, the old index is preserved as a row with this name.\n",
       "Otherwise the old index is dropped.\n",
       "\u001b[0;31mFile:\u001b[0m      ~/Data_Linux/Dropbox/31_Projekte/01_Python/git/pandasklar/src/pandasklar/pandas.py\n",
       "\u001b[0;31mType:\u001b[0m      function\n"
      ]
     },
     "metadata": {},
     "output_type": "display_data"
    }
   ],
   "source": [
    "?pak.reset_index"
   ]
  },
  {
   "cell_type": "code",
   "execution_count": 7,
   "metadata": {},
   "outputs": [
    {
     "data": {
      "text/html": [
       "<div>\n",
       "<style scoped>\n",
       "    .dataframe tbody tr th:only-of-type {\n",
       "        vertical-align: middle;\n",
       "    }\n",
       "\n",
       "    .dataframe tbody tr th {\n",
       "        vertical-align: top;\n",
       "    }\n",
       "\n",
       "    .dataframe thead th {\n",
       "        text-align: right;\n",
       "    }\n",
       "</style>\n",
       "<table border=\"1\" class=\"dataframe\">\n",
       "  <thead>\n",
       "    <tr style=\"text-align: right;\">\n",
       "      <th></th>\n",
       "      <th>first_name</th>\n",
       "      <th>age</th>\n",
       "      <th>age_class</th>\n",
       "      <th>postal_code</th>\n",
       "      <th>birthplace</th>\n",
       "      <th>secret</th>\n",
       "      <th>features</th>\n",
       "      <th>history</th>\n",
       "    </tr>\n",
       "  </thead>\n",
       "  <tbody>\n",
       "    <tr>\n",
       "      <th>0</th>\n",
       "      <td>Tina</td>\n",
       "      <td>39</td>\n",
       "      <td>30</td>\n",
       "      <td>11064</td>\n",
       "      <td>&lt;NA&gt;</td>\n",
       "      <td>sÜdoA</td>\n",
       "      <td>{p, u, V}</td>\n",
       "      <td>[A, x]</td>\n",
       "    </tr>\n",
       "    <tr>\n",
       "      <th>1</th>\n",
       "      <td>Ralf</td>\n",
       "      <td>42</td>\n",
       "      <td>40</td>\n",
       "      <td>57102</td>\n",
       "      <td>Berlin</td>\n",
       "      <td>7g0TiBoPzG</td>\n",
       "      <td>{Z, r, V, R}</td>\n",
       "      <td>[c, b, a]</td>\n",
       "    </tr>\n",
       "    <tr>\n",
       "      <th>2</th>\n",
       "      <td>Carla</td>\n",
       "      <td>30</td>\n",
       "      <td>30</td>\n",
       "      <td>28521</td>\n",
       "      <td>&lt;NA&gt;</td>\n",
       "      <td>e3ScsL7wX</td>\n",
       "      <td>{N, n, F, r, K}</td>\n",
       "      <td>[A, A, A]</td>\n",
       "    </tr>\n",
       "    <tr>\n",
       "      <th>3</th>\n",
       "      <td>Max</td>\n",
       "      <td>26</td>\n",
       "      <td>20</td>\n",
       "      <td>22004</td>\n",
       "      <td>Berlin</td>\n",
       "      <td>meQh2pV47</td>\n",
       "      <td>{l, M, b, Y}</td>\n",
       "      <td>[a, b, c]</td>\n",
       "    </tr>\n",
       "    <tr>\n",
       "      <th>4</th>\n",
       "      <td>Manuel</td>\n",
       "      <td>36</td>\n",
       "      <td>30</td>\n",
       "      <td>64309</td>\n",
       "      <td>Berlin</td>\n",
       "      <td>KEufM</td>\n",
       "      <td>{a, C, U}</td>\n",
       "      <td>[A, C, C, B]</td>\n",
       "    </tr>\n",
       "    <tr>\n",
       "      <th>...</th>\n",
       "      <td>...</td>\n",
       "      <td>...</td>\n",
       "      <td>...</td>\n",
       "      <td>...</td>\n",
       "      <td>...</td>\n",
       "      <td>...</td>\n",
       "      <td>...</td>\n",
       "      <td>...</td>\n",
       "    </tr>\n",
       "    <tr>\n",
       "      <th>995</th>\n",
       "      <td>Zoe</td>\n",
       "      <td>31</td>\n",
       "      <td>30</td>\n",
       "      <td>32490</td>\n",
       "      <td>Berlin</td>\n",
       "      <td>fLEwuT</td>\n",
       "      <td>{E, L, Q}</td>\n",
       "      <td>[A, B, C]</td>\n",
       "    </tr>\n",
       "    <tr>\n",
       "      <th>996</th>\n",
       "      <td>Helmut</td>\n",
       "      <td>30</td>\n",
       "      <td>30</td>\n",
       "      <td>78962</td>\n",
       "      <td>Bremen</td>\n",
       "      <td>M4qPB89</td>\n",
       "      <td>{t, Z, K}</td>\n",
       "      <td>[a, b, c]</td>\n",
       "    </tr>\n",
       "    <tr>\n",
       "      <th>997</th>\n",
       "      <td>Leo</td>\n",
       "      <td>29</td>\n",
       "      <td>20</td>\n",
       "      <td>31000</td>\n",
       "      <td>&lt;NA&gt;</td>\n",
       "      <td>8L0uEM1M</td>\n",
       "      <td>{r, 4}</td>\n",
       "      <td>[b, b, a, b]</td>\n",
       "    </tr>\n",
       "    <tr>\n",
       "      <th>998</th>\n",
       "      <td>Pauline</td>\n",
       "      <td>20</td>\n",
       "      <td>20</td>\n",
       "      <td>51043</td>\n",
       "      <td>Bremen</td>\n",
       "      <td>vkPineÜÜ</td>\n",
       "      <td>{N, v, V, d, s}</td>\n",
       "      <td>[A, A, A]</td>\n",
       "    </tr>\n",
       "    <tr>\n",
       "      <th>999</th>\n",
       "      <td>Jannick</td>\n",
       "      <td>36</td>\n",
       "      <td>30</td>\n",
       "      <td>65600</td>\n",
       "      <td>Bremen</td>\n",
       "      <td>0iQinFdOt</td>\n",
       "      <td>{3, M, R}</td>\n",
       "      <td>[A, C, C, B]</td>\n",
       "    </tr>\n",
       "  </tbody>\n",
       "</table>\n",
       "<p>1000 rows × 8 columns</p>\n",
       "</div>"
      ],
      "text/plain": [
       "    first_name  age  age_class  postal_code birthplace      secret  \\\n",
       "0         Tina   39         30        11064       <NA>       sÜdoA   \n",
       "1         Ralf   42         40        57102     Berlin  7g0TiBoPzG   \n",
       "2        Carla   30         30        28521       <NA>   e3ScsL7wX   \n",
       "3          Max   26         20        22004     Berlin   meQh2pV47   \n",
       "4       Manuel   36         30        64309     Berlin       KEufM   \n",
       "..         ...  ...        ...          ...        ...         ...   \n",
       "995        Zoe   31         30        32490     Berlin      fLEwuT   \n",
       "996     Helmut   30         30        78962     Bremen     M4qPB89   \n",
       "997        Leo   29         20        31000       <NA>    8L0uEM1M   \n",
       "998    Pauline   20         20        51043     Bremen    vkPineÜÜ   \n",
       "999    Jannick   36         30        65600     Bremen   0iQinFdOt   \n",
       "\n",
       "            features       history  \n",
       "0          {p, u, V}        [A, x]  \n",
       "1       {Z, r, V, R}     [c, b, a]  \n",
       "2    {N, n, F, r, K}     [A, A, A]  \n",
       "3       {l, M, b, Y}     [a, b, c]  \n",
       "4          {a, C, U}  [A, C, C, B]  \n",
       "..               ...           ...  \n",
       "995        {E, L, Q}     [A, B, C]  \n",
       "996        {t, Z, K}     [a, b, c]  \n",
       "997           {r, 4}  [b, b, a, b]  \n",
       "998  {N, v, V, d, s}     [A, A, A]  \n",
       "999        {3, M, R}  [A, C, C, B]  \n",
       "\n",
       "[1000 rows x 8 columns]"
      ]
     },
     "execution_count": 7,
     "metadata": {},
     "output_type": "execute_result"
    },
    {
     "name": "stdout",
     "output_type": "stream",
     "text": [
      "time: 51.6 ms\n"
     ]
    }
   ],
   "source": [
    "df = pak.reset_index(df)\n",
    "df"
   ]
  },
  {
   "cell_type": "markdown",
   "metadata": {},
   "source": [
    "### drop_multiindex()"
   ]
  },
  {
   "cell_type": "code",
   "execution_count": 8,
   "metadata": {
    "tags": []
   },
   "outputs": [
    {
     "name": "stdout",
     "output_type": "stream",
     "text": [
      "time: 13.9 ms\n"
     ]
    },
    {
     "data": {
      "text/plain": [
       "\u001b[0;31mSignature:\u001b[0m \u001b[0mpak\u001b[0m\u001b[0;34m.\u001b[0m\u001b[0mdrop_multiindex\u001b[0m\u001b[0;34m(\u001b[0m\u001b[0mdf\u001b[0m\u001b[0;34m,\u001b[0m \u001b[0mverbose\u001b[0m\u001b[0;34m=\u001b[0m\u001b[0;32mNone\u001b[0m\u001b[0;34m)\u001b[0m\u001b[0;34m\u001b[0m\u001b[0;34m\u001b[0m\u001b[0m\n",
       "\u001b[0;31mDocstring:\u001b[0m\n",
       "Converts any MultiIndex to normal columns and resets the index. \n",
       "Works with MultiIndex in Series or DataFrames, in rows and in columns.\n",
       "\u001b[0;31mFile:\u001b[0m      ~/Data_Linux/Dropbox/31_Projekte/01_Python/git/pandasklar/src/pandasklar/pandas.py\n",
       "\u001b[0;31mType:\u001b[0m      function\n"
      ]
     },
     "metadata": {},
     "output_type": "display_data"
    }
   ],
   "source": [
    "?pak.drop_multiindex"
   ]
  },
  {
   "cell_type": "markdown",
   "metadata": {},
   "source": [
    "## === Rows ==="
   ]
  },
  {
   "cell_type": "markdown",
   "metadata": {},
   "source": [
    "### drop_rows()"
   ]
  },
  {
   "cell_type": "code",
   "execution_count": 9,
   "metadata": {},
   "outputs": [
    {
     "name": "stdout",
     "output_type": "stream",
     "text": [
      "time: 12 ms\n"
     ]
    },
    {
     "data": {
      "text/plain": [
       "\u001b[0;31mSignature:\u001b[0m \u001b[0mpak\u001b[0m\u001b[0;34m.\u001b[0m\u001b[0mdrop_rows\u001b[0m\u001b[0;34m(\u001b[0m\u001b[0mdf\u001b[0m\u001b[0;34m,\u001b[0m \u001b[0mmask\u001b[0m\u001b[0;34m,\u001b[0m \u001b[0mverbose\u001b[0m\u001b[0;34m=\u001b[0m\u001b[0;32mNone\u001b[0m\u001b[0;34m)\u001b[0m\u001b[0;34m\u001b[0m\u001b[0;34m\u001b[0m\u001b[0m\n",
       "\u001b[0;31mDocstring:\u001b[0m\n",
       "Drops rows identified by a binary mask.\n",
       "* verbose: True if you want to print how many rows are droped.\n",
       "(If you want to delete the rows to a trash, use move_rows.)\n",
       "\u001b[0;31mFile:\u001b[0m      ~/Data_Linux/Dropbox/31_Projekte/01_Python/git/pandasklar/src/pandasklar/pandas.py\n",
       "\u001b[0;31mType:\u001b[0m      function\n"
      ]
     },
     "metadata": {},
     "output_type": "display_data"
    }
   ],
   "source": [
    "?pak.drop_rows"
   ]
  },
  {
   "cell_type": "code",
   "execution_count": 10,
   "metadata": {},
   "outputs": [
    {
     "data": {
      "text/html": [
       "<div>\n",
       "<style scoped>\n",
       "    .dataframe tbody tr th:only-of-type {\n",
       "        vertical-align: middle;\n",
       "    }\n",
       "\n",
       "    .dataframe tbody tr th {\n",
       "        vertical-align: top;\n",
       "    }\n",
       "\n",
       "    .dataframe thead th {\n",
       "        text-align: right;\n",
       "    }\n",
       "</style>\n",
       "<table border=\"1\" class=\"dataframe\">\n",
       "  <thead>\n",
       "    <tr style=\"text-align: right;\">\n",
       "      <th></th>\n",
       "      <th>first_name</th>\n",
       "      <th>age</th>\n",
       "      <th>age_class</th>\n",
       "      <th>postal_code</th>\n",
       "      <th>birthplace</th>\n",
       "      <th>secret</th>\n",
       "      <th>features</th>\n",
       "      <th>history</th>\n",
       "    </tr>\n",
       "  </thead>\n",
       "  <tbody>\n",
       "    <tr>\n",
       "      <th>268</th>\n",
       "      <td>Eva</td>\n",
       "      <td>29</td>\n",
       "      <td>20</td>\n",
       "      <td>43052</td>\n",
       "      <td>Berlin</td>\n",
       "      <td>FüHaFCxoä</td>\n",
       "      <td>{l, D, S, 1}</td>\n",
       "      <td>[A, A, A]</td>\n",
       "    </tr>\n",
       "    <tr>\n",
       "      <th>469</th>\n",
       "      <td>Eva</td>\n",
       "      <td>25</td>\n",
       "      <td>20</td>\n",
       "      <td>67271</td>\n",
       "      <td>&lt;NA&gt;</td>\n",
       "      <td>eeAsaL</td>\n",
       "      <td>{a, Z, S, B, Q}</td>\n",
       "      <td>[A, B, C]</td>\n",
       "    </tr>\n",
       "    <tr>\n",
       "      <th>520</th>\n",
       "      <td>Eva</td>\n",
       "      <td>29</td>\n",
       "      <td>20</td>\n",
       "      <td>52664</td>\n",
       "      <td>Bremen</td>\n",
       "      <td>THPIZ</td>\n",
       "      <td>{A, p, G}</td>\n",
       "      <td>[A, C, C, B]</td>\n",
       "    </tr>\n",
       "    <tr>\n",
       "      <th>562</th>\n",
       "      <td>Eva</td>\n",
       "      <td>38</td>\n",
       "      <td>30</td>\n",
       "      <td>39068</td>\n",
       "      <td>&lt;NA&gt;</td>\n",
       "      <td>eYxpea</td>\n",
       "      <td>{i, T, O}</td>\n",
       "      <td>[A, B, C]</td>\n",
       "    </tr>\n",
       "    <tr>\n",
       "      <th>570</th>\n",
       "      <td>Eva</td>\n",
       "      <td>33</td>\n",
       "      <td>30</td>\n",
       "      <td>55530</td>\n",
       "      <td>Bremen</td>\n",
       "      <td>R4xanoPHD</td>\n",
       "      <td>{P, A, m}</td>\n",
       "      <td>[A, A, A]</td>\n",
       "    </tr>\n",
       "    <tr>\n",
       "      <th>902</th>\n",
       "      <td>Eva</td>\n",
       "      <td>30</td>\n",
       "      <td>30</td>\n",
       "      <td>70148</td>\n",
       "      <td>&lt;NA&gt;</td>\n",
       "      <td>m3jY3NhHaa</td>\n",
       "      <td>{s, M, T}</td>\n",
       "      <td>[A, B, C, C]</td>\n",
       "    </tr>\n",
       "  </tbody>\n",
       "</table>\n",
       "</div>"
      ],
      "text/plain": [
       "    first_name  age  age_class  postal_code birthplace      secret  \\\n",
       "268        Eva   29         20        43052     Berlin   FüHaFCxoä   \n",
       "469        Eva   25         20        67271       <NA>      eeAsaL   \n",
       "520        Eva   29         20        52664     Bremen       THPIZ   \n",
       "562        Eva   38         30        39068       <NA>      eYxpea   \n",
       "570        Eva   33         30        55530     Bremen   R4xanoPHD   \n",
       "902        Eva   30         30        70148       <NA>  m3jY3NhHaa   \n",
       "\n",
       "            features       history  \n",
       "268     {l, D, S, 1}     [A, A, A]  \n",
       "469  {a, Z, S, B, Q}     [A, B, C]  \n",
       "520        {A, p, G}  [A, C, C, B]  \n",
       "562        {i, T, O}     [A, B, C]  \n",
       "570        {P, A, m}     [A, A, A]  \n",
       "902        {s, M, T}  [A, B, C, C]  "
      ]
     },
     "execution_count": 10,
     "metadata": {},
     "output_type": "execute_result"
    },
    {
     "name": "stdout",
     "output_type": "stream",
     "text": [
      "time: 29.7 ms\n"
     ]
    }
   ],
   "source": [
    "# create mask: most frequent first_name\n",
    "mask = df.first_name == pak.most_freq_elt(df.first_name)\n",
    "df[mask]"
   ]
  },
  {
   "cell_type": "code",
   "execution_count": 11,
   "metadata": {},
   "outputs": [
    {
     "name": "stdout",
     "output_type": "stream",
     "text": [
      "Delete 6 rows from 1000\n",
      "time: 18.9 ms\n"
     ]
    }
   ],
   "source": [
    "# just delete them\n",
    "df = pak.drop_rows(df,mask)"
   ]
  },
  {
   "cell_type": "markdown",
   "metadata": {},
   "source": [
    "### move_rows()"
   ]
  },
  {
   "cell_type": "code",
   "execution_count": 12,
   "metadata": {},
   "outputs": [
    {
     "name": "stdout",
     "output_type": "stream",
     "text": [
      "time: 24.6 ms\n"
     ]
    },
    {
     "data": {
      "text/plain": [
       "\u001b[0;31mSignature:\u001b[0m\n",
       "\u001b[0mpak\u001b[0m\u001b[0;34m.\u001b[0m\u001b[0mmove_rows\u001b[0m\u001b[0;34m(\u001b[0m\u001b[0;34m\u001b[0m\n",
       "\u001b[0;34m\u001b[0m    \u001b[0mdf_from\u001b[0m\u001b[0;34m,\u001b[0m\u001b[0;34m\u001b[0m\n",
       "\u001b[0;34m\u001b[0m    \u001b[0mdf_to\u001b[0m\u001b[0;34m=\u001b[0m\u001b[0;32mNone\u001b[0m\u001b[0;34m,\u001b[0m\u001b[0;34m\u001b[0m\n",
       "\u001b[0;34m\u001b[0m    \u001b[0mmask\u001b[0m\u001b[0;34m=\u001b[0m\u001b[0;32mNone\u001b[0m\u001b[0;34m,\u001b[0m\u001b[0;34m\u001b[0m\n",
       "\u001b[0;34m\u001b[0m    \u001b[0mmsg\u001b[0m\u001b[0;34m=\u001b[0m\u001b[0;34m''\u001b[0m\u001b[0;34m,\u001b[0m\u001b[0;34m\u001b[0m\n",
       "\u001b[0;34m\u001b[0m    \u001b[0mmsgcol\u001b[0m\u001b[0;34m=\u001b[0m\u001b[0;34m'msg'\u001b[0m\u001b[0;34m,\u001b[0m\u001b[0;34m\u001b[0m\n",
       "\u001b[0;34m\u001b[0m    \u001b[0mverbose\u001b[0m\u001b[0;34m=\u001b[0m\u001b[0;32mNone\u001b[0m\u001b[0;34m,\u001b[0m\u001b[0;34m\u001b[0m\n",
       "\u001b[0;34m\u001b[0m    \u001b[0mzähler\u001b[0m\u001b[0;34m=\u001b[0m\u001b[0;34m[\u001b[0m\u001b[0;36m0\u001b[0m\u001b[0;34m]\u001b[0m\u001b[0;34m,\u001b[0m\u001b[0;34m\u001b[0m\n",
       "\u001b[0;34m\u001b[0m\u001b[0;34m)\u001b[0m\u001b[0;34m\u001b[0m\u001b[0;34m\u001b[0m\u001b[0m\n",
       "\u001b[0;31mDocstring:\u001b[0m\n",
       "Moves rows identified by a binary mask from one dataframe to another (e.g. into a trash).\n",
       "Returns two DataFrames.\n",
       "The target dataframe gets an additional message column by standard (to identify why the rows were moved).\n",
       "If you don't give a message, move_rows will generate one: just the count of usage of the function.\n",
       " \n",
       "* df_from:   Origin DataFrame\n",
       "* df_to:     Target DataFrame or None\n",
       "* mask:      Binary mask, identifies the rows to be deleted\n",
       "* msg:       All moved rows are marked with this message, it's written in the message column of the target dataframe\n",
       "* msgcol:    Name of the message column. Set msg or msgcol to None if no message wanted.\n",
       "* verbose:   True if you want to print how many rows are moved.\n",
       "\n",
       "Examples:\n",
       "df, df_trash = move_rows( df, mask )           # move rows away (and create a new trash). \n",
       "                                               # The second argument is detected as mask, not as df_to.\n",
       "df, df_trash = move_rows( df, df_trash, mask ) # move rows away (into the existing trash)   \n",
       "\u001b[0;31mFile:\u001b[0m      ~/Data_Linux/Dropbox/31_Projekte/01_Python/git/pandasklar/src/pandasklar/pandas.py\n",
       "\u001b[0;31mType:\u001b[0m      function\n"
      ]
     },
     "metadata": {},
     "output_type": "display_data"
    }
   ],
   "source": [
    "?pak.move_rows"
   ]
  },
  {
   "cell_type": "code",
   "execution_count": 13,
   "metadata": {},
   "outputs": [
    {
     "data": {
      "text/html": [
       "<div>\n",
       "<style scoped>\n",
       "    .dataframe tbody tr th:only-of-type {\n",
       "        vertical-align: middle;\n",
       "    }\n",
       "\n",
       "    .dataframe tbody tr th {\n",
       "        vertical-align: top;\n",
       "    }\n",
       "\n",
       "    .dataframe thead th {\n",
       "        text-align: right;\n",
       "    }\n",
       "</style>\n",
       "<table border=\"1\" class=\"dataframe\">\n",
       "  <thead>\n",
       "    <tr style=\"text-align: right;\">\n",
       "      <th></th>\n",
       "      <th>first_name</th>\n",
       "      <th>age</th>\n",
       "      <th>secret</th>\n",
       "    </tr>\n",
       "  </thead>\n",
       "  <tbody>\n",
       "    <tr>\n",
       "      <th>0</th>\n",
       "      <td>Bianca</td>\n",
       "      <td>39</td>\n",
       "      <td>YefLü</td>\n",
       "    </tr>\n",
       "    <tr>\n",
       "      <th>1</th>\n",
       "      <td>Kurt</td>\n",
       "      <td>29</td>\n",
       "      <td>eCAUeaQaJz</td>\n",
       "    </tr>\n",
       "    <tr>\n",
       "      <th>2</th>\n",
       "      <td>Rainer</td>\n",
       "      <td>23</td>\n",
       "      <td>eBXKZMHy</td>\n",
       "    </tr>\n",
       "  </tbody>\n",
       "</table>\n",
       "</div>"
      ],
      "text/plain": [
       "  first_name  age      secret\n",
       "0     Bianca   39       YefLü\n",
       "1       Kurt   29  eCAUeaQaJz\n",
       "2     Rainer   23    eBXKZMHy"
      ]
     },
     "execution_count": 13,
     "metadata": {},
     "output_type": "execute_result"
    },
    {
     "name": "stdout",
     "output_type": "stream",
     "text": [
      "time: 189 ms\n"
     ]
    }
   ],
   "source": [
    "# New test data\n",
    "df = pak.people(1000)\n",
    "df = pak.drop_cols(df,['age_class','postal_code','birthplace','features','history'])\n",
    "df['first_name'] = pak.change_datatype(df.first_name,'object', verbose=False)\n",
    "df['age']        = pak.change_datatype(df.age,       'int64',  verbose=False)\n",
    "df_orig = df.copy()\n",
    "df.head(3)"
   ]
  },
  {
   "cell_type": "code",
   "execution_count": 14,
   "metadata": {},
   "outputs": [
    {
     "data": {
      "text/html": [
       "<div>\n",
       "<style scoped>\n",
       "    .dataframe tbody tr th:only-of-type {\n",
       "        vertical-align: middle;\n",
       "    }\n",
       "\n",
       "    .dataframe tbody tr th {\n",
       "        vertical-align: top;\n",
       "    }\n",
       "\n",
       "    .dataframe thead th {\n",
       "        text-align: right;\n",
       "    }\n",
       "</style>\n",
       "<table border=\"1\" class=\"dataframe\">\n",
       "  <thead>\n",
       "    <tr style=\"text-align: right;\">\n",
       "      <th></th>\n",
       "      <th>first_name</th>\n",
       "      <th>age</th>\n",
       "      <th>secret</th>\n",
       "    </tr>\n",
       "  </thead>\n",
       "  <tbody>\n",
       "    <tr>\n",
       "      <th>195</th>\n",
       "      <td>Annica</td>\n",
       "      <td>37</td>\n",
       "      <td>Ä2öS1eho</td>\n",
       "    </tr>\n",
       "    <tr>\n",
       "      <th>545</th>\n",
       "      <td>Annica</td>\n",
       "      <td>30</td>\n",
       "      <td>ÜUTS1y2öX</td>\n",
       "    </tr>\n",
       "    <tr>\n",
       "      <th>684</th>\n",
       "      <td>Annica</td>\n",
       "      <td>31</td>\n",
       "      <td>BÖoÖrh</td>\n",
       "    </tr>\n",
       "    <tr>\n",
       "      <th>690</th>\n",
       "      <td>Annica</td>\n",
       "      <td>34</td>\n",
       "      <td>9FLiUT64OV</td>\n",
       "    </tr>\n",
       "    <tr>\n",
       "      <th>722</th>\n",
       "      <td>Annica</td>\n",
       "      <td>21</td>\n",
       "      <td>F1O0öAÖa</td>\n",
       "    </tr>\n",
       "    <tr>\n",
       "      <th>762</th>\n",
       "      <td>Annica</td>\n",
       "      <td>36</td>\n",
       "      <td>zwY8Jf</td>\n",
       "    </tr>\n",
       "  </tbody>\n",
       "</table>\n",
       "</div>"
      ],
      "text/plain": [
       "    first_name  age      secret\n",
       "195     Annica   37    Ä2öS1eho\n",
       "545     Annica   30   ÜUTS1y2öX\n",
       "684     Annica   31      BÖoÖrh\n",
       "690     Annica   34  9FLiUT64OV\n",
       "722     Annica   21    F1O0öAÖa\n",
       "762     Annica   36      zwY8Jf"
      ]
     },
     "execution_count": 14,
     "metadata": {},
     "output_type": "execute_result"
    },
    {
     "name": "stdout",
     "output_type": "stream",
     "text": [
      "time: 24.2 ms\n"
     ]
    }
   ],
   "source": [
    "# create mask: most frequent first_name\n",
    "mask = df.first_name == pak.most_freq_elt(df.first_name)\n",
    "df[mask]"
   ]
  },
  {
   "cell_type": "code",
   "execution_count": 15,
   "metadata": {},
   "outputs": [
    {
     "name": "stdout",
     "output_type": "stream",
     "text": [
      "Move 6 rows from 1000\n",
      "time: 24.6 ms\n"
     ]
    }
   ],
   "source": [
    "# move them away (and create a new trash)\n",
    "df, df_trash = pak.move_rows( df, mask)"
   ]
  },
  {
   "cell_type": "code",
   "execution_count": 16,
   "metadata": {},
   "outputs": [
    {
     "name": "stdout",
     "output_type": "stream",
     "text": [
      "count rows: 994  +  6\n",
      "time: 16 ms\n"
     ]
    }
   ],
   "source": [
    "print('count rows:', df.shape[0], ' + ', df_trash.shape[0])"
   ]
  },
  {
   "cell_type": "code",
   "execution_count": 17,
   "metadata": {
    "tags": []
   },
   "outputs": [
    {
     "data": {
      "text/html": [
       "<div>\n",
       "<style scoped>\n",
       "    .dataframe tbody tr th:only-of-type {\n",
       "        vertical-align: middle;\n",
       "    }\n",
       "\n",
       "    .dataframe tbody tr th {\n",
       "        vertical-align: top;\n",
       "    }\n",
       "\n",
       "    .dataframe thead th {\n",
       "        text-align: right;\n",
       "    }\n",
       "</style>\n",
       "<table border=\"1\" class=\"dataframe\">\n",
       "  <thead>\n",
       "    <tr style=\"text-align: right;\">\n",
       "      <th></th>\n",
       "      <th>first_name</th>\n",
       "      <th>age</th>\n",
       "      <th>secret</th>\n",
       "      <th>msg</th>\n",
       "    </tr>\n",
       "  </thead>\n",
       "  <tbody>\n",
       "    <tr>\n",
       "      <th>195</th>\n",
       "      <td>Annica</td>\n",
       "      <td>37</td>\n",
       "      <td>Ä2öS1eho</td>\n",
       "      <td>0</td>\n",
       "    </tr>\n",
       "    <tr>\n",
       "      <th>545</th>\n",
       "      <td>Annica</td>\n",
       "      <td>30</td>\n",
       "      <td>ÜUTS1y2öX</td>\n",
       "      <td>0</td>\n",
       "    </tr>\n",
       "    <tr>\n",
       "      <th>684</th>\n",
       "      <td>Annica</td>\n",
       "      <td>31</td>\n",
       "      <td>BÖoÖrh</td>\n",
       "      <td>0</td>\n",
       "    </tr>\n",
       "    <tr>\n",
       "      <th>690</th>\n",
       "      <td>Annica</td>\n",
       "      <td>34</td>\n",
       "      <td>9FLiUT64OV</td>\n",
       "      <td>0</td>\n",
       "    </tr>\n",
       "    <tr>\n",
       "      <th>722</th>\n",
       "      <td>Annica</td>\n",
       "      <td>21</td>\n",
       "      <td>F1O0öAÖa</td>\n",
       "      <td>0</td>\n",
       "    </tr>\n",
       "    <tr>\n",
       "      <th>762</th>\n",
       "      <td>Annica</td>\n",
       "      <td>36</td>\n",
       "      <td>zwY8Jf</td>\n",
       "      <td>0</td>\n",
       "    </tr>\n",
       "  </tbody>\n",
       "</table>\n",
       "</div>"
      ],
      "text/plain": [
       "    first_name  age      secret msg\n",
       "195     Annica   37    Ä2öS1eho   0\n",
       "545     Annica   30   ÜUTS1y2öX   0\n",
       "684     Annica   31      BÖoÖrh   0\n",
       "690     Annica   34  9FLiUT64OV   0\n",
       "722     Annica   21    F1O0öAÖa   0\n",
       "762     Annica   36      zwY8Jf   0"
      ]
     },
     "execution_count": 17,
     "metadata": {},
     "output_type": "execute_result"
    },
    {
     "name": "stdout",
     "output_type": "stream",
     "text": [
      "time: 22.4 ms\n"
     ]
    }
   ],
   "source": [
    "#df\n",
    "df_trash"
   ]
  },
  {
   "cell_type": "code",
   "execution_count": 18,
   "metadata": {},
   "outputs": [
    {
     "data": {
      "text/html": [
       "<div>\n",
       "<style scoped>\n",
       "    .dataframe tbody tr th:only-of-type {\n",
       "        vertical-align: middle;\n",
       "    }\n",
       "\n",
       "    .dataframe tbody tr th {\n",
       "        vertical-align: top;\n",
       "    }\n",
       "\n",
       "    .dataframe thead th {\n",
       "        text-align: right;\n",
       "    }\n",
       "</style>\n",
       "<table border=\"1\" class=\"dataframe\">\n",
       "  <thead>\n",
       "    <tr style=\"text-align: right;\">\n",
       "      <th></th>\n",
       "      <th>first_name</th>\n",
       "      <th>age</th>\n",
       "      <th>secret</th>\n",
       "    </tr>\n",
       "  </thead>\n",
       "  <tbody>\n",
       "    <tr>\n",
       "      <th>139</th>\n",
       "      <td>Cornelia</td>\n",
       "      <td>29</td>\n",
       "      <td>äüFYuVa</td>\n",
       "    </tr>\n",
       "    <tr>\n",
       "      <th>494</th>\n",
       "      <td>Cornelia</td>\n",
       "      <td>30</td>\n",
       "      <td>JBO4K2XmC7</td>\n",
       "    </tr>\n",
       "    <tr>\n",
       "      <th>504</th>\n",
       "      <td>Cornelia</td>\n",
       "      <td>38</td>\n",
       "      <td>362Öve</td>\n",
       "    </tr>\n",
       "    <tr>\n",
       "      <th>853</th>\n",
       "      <td>Cornelia</td>\n",
       "      <td>39</td>\n",
       "      <td>9sÜwLow4</td>\n",
       "    </tr>\n",
       "    <tr>\n",
       "      <th>908</th>\n",
       "      <td>Cornelia</td>\n",
       "      <td>28</td>\n",
       "      <td>g6F2fä</td>\n",
       "    </tr>\n",
       "    <tr>\n",
       "      <th>971</th>\n",
       "      <td>Cornelia</td>\n",
       "      <td>28</td>\n",
       "      <td>ÜWdiRk</td>\n",
       "    </tr>\n",
       "  </tbody>\n",
       "</table>\n",
       "</div>"
      ],
      "text/plain": [
       "    first_name  age      secret\n",
       "139   Cornelia   29     äüFYuVa\n",
       "494   Cornelia   30  JBO4K2XmC7\n",
       "504   Cornelia   38      362Öve\n",
       "853   Cornelia   39    9sÜwLow4\n",
       "908   Cornelia   28      g6F2fä\n",
       "971   Cornelia   28      ÜWdiRk"
      ]
     },
     "execution_count": 18,
     "metadata": {},
     "output_type": "execute_result"
    },
    {
     "name": "stdout",
     "output_type": "stream",
     "text": [
      "time: 39.6 ms\n"
     ]
    }
   ],
   "source": [
    "# create mask: (second) most frequent first_name\n",
    "mask = df.first_name == pak.most_freq_elt(df.first_name)\n",
    "df[mask]"
   ]
  },
  {
   "cell_type": "code",
   "execution_count": 19,
   "metadata": {},
   "outputs": [
    {
     "name": "stdout",
     "output_type": "stream",
     "text": [
      "Move 6 rows from 994\n",
      "time: 34.8 ms\n"
     ]
    }
   ],
   "source": [
    "# move them away (into the existing trash)\n",
    "df, df_trash = pak.move_rows( df, df_trash, mask)"
   ]
  },
  {
   "cell_type": "code",
   "execution_count": 20,
   "metadata": {},
   "outputs": [
    {
     "name": "stdout",
     "output_type": "stream",
     "text": [
      "count rows: 988  +  12\n",
      "time: 21 ms\n"
     ]
    }
   ],
   "source": [
    "print('count rows:', df.shape[0], ' + ', df_trash.shape[0])"
   ]
  },
  {
   "cell_type": "code",
   "execution_count": 21,
   "metadata": {
    "tags": []
   },
   "outputs": [
    {
     "data": {
      "text/html": [
       "<div>\n",
       "<style scoped>\n",
       "    .dataframe tbody tr th:only-of-type {\n",
       "        vertical-align: middle;\n",
       "    }\n",
       "\n",
       "    .dataframe tbody tr th {\n",
       "        vertical-align: top;\n",
       "    }\n",
       "\n",
       "    .dataframe thead th {\n",
       "        text-align: right;\n",
       "    }\n",
       "</style>\n",
       "<table border=\"1\" class=\"dataframe\">\n",
       "  <thead>\n",
       "    <tr style=\"text-align: right;\">\n",
       "      <th></th>\n",
       "      <th>first_name</th>\n",
       "      <th>age</th>\n",
       "      <th>secret</th>\n",
       "      <th>msg</th>\n",
       "    </tr>\n",
       "  </thead>\n",
       "  <tbody>\n",
       "    <tr>\n",
       "      <th>195</th>\n",
       "      <td>Annica</td>\n",
       "      <td>37</td>\n",
       "      <td>Ä2öS1eho</td>\n",
       "      <td>0</td>\n",
       "    </tr>\n",
       "    <tr>\n",
       "      <th>545</th>\n",
       "      <td>Annica</td>\n",
       "      <td>30</td>\n",
       "      <td>ÜUTS1y2öX</td>\n",
       "      <td>0</td>\n",
       "    </tr>\n",
       "    <tr>\n",
       "      <th>684</th>\n",
       "      <td>Annica</td>\n",
       "      <td>31</td>\n",
       "      <td>BÖoÖrh</td>\n",
       "      <td>0</td>\n",
       "    </tr>\n",
       "    <tr>\n",
       "      <th>690</th>\n",
       "      <td>Annica</td>\n",
       "      <td>34</td>\n",
       "      <td>9FLiUT64OV</td>\n",
       "      <td>0</td>\n",
       "    </tr>\n",
       "    <tr>\n",
       "      <th>722</th>\n",
       "      <td>Annica</td>\n",
       "      <td>21</td>\n",
       "      <td>F1O0öAÖa</td>\n",
       "      <td>0</td>\n",
       "    </tr>\n",
       "    <tr>\n",
       "      <th>762</th>\n",
       "      <td>Annica</td>\n",
       "      <td>36</td>\n",
       "      <td>zwY8Jf</td>\n",
       "      <td>0</td>\n",
       "    </tr>\n",
       "    <tr>\n",
       "      <th>139</th>\n",
       "      <td>Cornelia</td>\n",
       "      <td>29</td>\n",
       "      <td>äüFYuVa</td>\n",
       "      <td>1</td>\n",
       "    </tr>\n",
       "    <tr>\n",
       "      <th>494</th>\n",
       "      <td>Cornelia</td>\n",
       "      <td>30</td>\n",
       "      <td>JBO4K2XmC7</td>\n",
       "      <td>1</td>\n",
       "    </tr>\n",
       "    <tr>\n",
       "      <th>504</th>\n",
       "      <td>Cornelia</td>\n",
       "      <td>38</td>\n",
       "      <td>362Öve</td>\n",
       "      <td>1</td>\n",
       "    </tr>\n",
       "    <tr>\n",
       "      <th>853</th>\n",
       "      <td>Cornelia</td>\n",
       "      <td>39</td>\n",
       "      <td>9sÜwLow4</td>\n",
       "      <td>1</td>\n",
       "    </tr>\n",
       "    <tr>\n",
       "      <th>908</th>\n",
       "      <td>Cornelia</td>\n",
       "      <td>28</td>\n",
       "      <td>g6F2fä</td>\n",
       "      <td>1</td>\n",
       "    </tr>\n",
       "    <tr>\n",
       "      <th>971</th>\n",
       "      <td>Cornelia</td>\n",
       "      <td>28</td>\n",
       "      <td>ÜWdiRk</td>\n",
       "      <td>1</td>\n",
       "    </tr>\n",
       "  </tbody>\n",
       "</table>\n",
       "</div>"
      ],
      "text/plain": [
       "    first_name  age      secret msg\n",
       "195     Annica   37    Ä2öS1eho   0\n",
       "545     Annica   30   ÜUTS1y2öX   0\n",
       "684     Annica   31      BÖoÖrh   0\n",
       "690     Annica   34  9FLiUT64OV   0\n",
       "722     Annica   21    F1O0öAÖa   0\n",
       "762     Annica   36      zwY8Jf   0\n",
       "139   Cornelia   29     äüFYuVa   1\n",
       "494   Cornelia   30  JBO4K2XmC7   1\n",
       "504   Cornelia   38      362Öve   1\n",
       "853   Cornelia   39    9sÜwLow4   1\n",
       "908   Cornelia   28      g6F2fä   1\n",
       "971   Cornelia   28      ÜWdiRk   1"
      ]
     },
     "execution_count": 21,
     "metadata": {},
     "output_type": "execute_result"
    },
    {
     "name": "stdout",
     "output_type": "stream",
     "text": [
      "time: 25.7 ms\n"
     ]
    }
   ],
   "source": [
    "df_trash"
   ]
  },
  {
   "cell_type": "markdown",
   "metadata": {},
   "source": [
    "### add_rows()"
   ]
  },
  {
   "cell_type": "code",
   "execution_count": 22,
   "metadata": {},
   "outputs": [
    {
     "name": "stdout",
     "output_type": "stream",
     "text": [
      "time: 24.2 ms\n"
     ]
    },
    {
     "data": {
      "text/plain": [
       "\u001b[0;31mSignature:\u001b[0m\n",
       "\u001b[0mpak\u001b[0m\u001b[0;34m.\u001b[0m\u001b[0madd_rows\u001b[0m\u001b[0;34m(\u001b[0m\u001b[0;34m\u001b[0m\n",
       "\u001b[0;34m\u001b[0m    \u001b[0mdf_main\u001b[0m\u001b[0;34m,\u001b[0m\u001b[0;34m\u001b[0m\n",
       "\u001b[0;34m\u001b[0m    \u001b[0mdf_add\u001b[0m\u001b[0;34m,\u001b[0m\u001b[0;34m\u001b[0m\n",
       "\u001b[0;34m\u001b[0m    \u001b[0monly_new\u001b[0m\u001b[0;34m=\u001b[0m\u001b[0;32mNone\u001b[0m\u001b[0;34m,\u001b[0m\u001b[0;34m\u001b[0m\n",
       "\u001b[0;34m\u001b[0m    \u001b[0mreindex\u001b[0m\u001b[0;34m=\u001b[0m\u001b[0;32mTrue\u001b[0m\u001b[0;34m,\u001b[0m\u001b[0;34m\u001b[0m\n",
       "\u001b[0;34m\u001b[0m    \u001b[0massert_subset\u001b[0m\u001b[0;34m=\u001b[0m\u001b[0;32mFalse\u001b[0m\u001b[0;34m,\u001b[0m\u001b[0;34m\u001b[0m\n",
       "\u001b[0;34m\u001b[0m    \u001b[0mverbose\u001b[0m\u001b[0;34m=\u001b[0m\u001b[0;32mNone\u001b[0m\u001b[0;34m,\u001b[0m\u001b[0;34m\u001b[0m\n",
       "\u001b[0;34m\u001b[0m\u001b[0;34m)\u001b[0m\u001b[0;34m\u001b[0m\u001b[0;34m\u001b[0m\u001b[0m\n",
       "\u001b[0;31mDocstring:\u001b[0m\n",
       "Like concat, with additional features only_new and verbose.\n",
       "* df_main:       The new rows are added to the end of this dataframe.\n",
       "* df_add:        Rows to add. The dtypes are adapted to those of df_main.\n",
       "                 Series or list are also accepted for appending.\n",
       "* only_new:      Avoid duplicates by setting this to a list of column names.\n",
       "                 This combination must contain new content.\n",
       "                 A single column name as string works the same way.\n",
       "                 Or set only_new=True, this will avoid duplicate row indexes.\n",
       "* reindex:       Will the result get a fresh index without dups?\n",
       "* assert_subset: Check if all columns in df_add exist in df_main already?\n",
       "* verbose:       Print status messages how many rows affected\n",
       "\u001b[0;31mFile:\u001b[0m      ~/Data_Linux/Dropbox/31_Projekte/01_Python/git/pandasklar/src/pandasklar/pandas.py\n",
       "\u001b[0;31mType:\u001b[0m      function\n"
      ]
     },
     "metadata": {},
     "output_type": "display_data"
    }
   ],
   "source": [
    "?pak.add_rows"
   ]
  },
  {
   "cell_type": "code",
   "execution_count": 23,
   "metadata": {},
   "outputs": [
    {
     "name": "stdout",
     "output_type": "stream",
     "text": [
      "change_datatype \n",
      "first_name           --> pd.string \n",
      "age                  --> pd.Int8   \n",
      "change_datatype before: 146.3 KB after: 140.5 KB\n",
      "\n",
      "time: 25.9 ms\n"
     ]
    }
   ],
   "source": [
    "# We will concat df and df_trash again and compare it with df_orig, the backup of df\n",
    "\n",
    "# get rid of the msg column\n",
    "df_trash     = pak.drop_cols(df_trash,'msg')       \n",
    "\n",
    "# optimize df, but not df_trash. \n",
    "# So the dtypes are different now\n",
    "df = pak.change_datatype(df)"
   ]
  },
  {
   "cell_type": "code",
   "execution_count": 24,
   "metadata": {},
   "outputs": [
    {
     "name": "stdout",
     "output_type": "stream",
     "text": [
      "12 rows added, now a total of 1000\n",
      "time: 24.1 ms\n"
     ]
    }
   ],
   "source": [
    "# recover to the state before move_rows\n",
    "df_recovered = pak.add_rows(df, df_trash)"
   ]
  },
  {
   "cell_type": "code",
   "execution_count": 25,
   "metadata": {},
   "outputs": [
    {
     "name": "stdout",
     "output_type": "stream",
     "text": [
      "time: 17.2 ms\n"
     ]
    }
   ],
   "source": [
    "#df_recovered"
   ]
  },
  {
   "cell_type": "code",
   "execution_count": 26,
   "metadata": {},
   "outputs": [
    {
     "name": "stdout",
     "output_type": "stream",
     "text": [
      "time: 20.8 ms\n"
     ]
    }
   ],
   "source": [
    "# check the datatypes \n",
    "#pak.analyse_cols(df_recovered)"
   ]
  },
  {
   "cell_type": "code",
   "execution_count": 27,
   "metadata": {},
   "outputs": [
    {
     "data": {
      "text/html": [
       "<div>\n",
       "<style scoped>\n",
       "    .dataframe tbody tr th:only-of-type {\n",
       "        vertical-align: middle;\n",
       "    }\n",
       "\n",
       "    .dataframe tbody tr th {\n",
       "        vertical-align: top;\n",
       "    }\n",
       "\n",
       "    .dataframe thead th {\n",
       "        text-align: right;\n",
       "    }\n",
       "</style>\n",
       "<table border=\"1\" class=\"dataframe\">\n",
       "  <thead>\n",
       "    <tr style=\"text-align: right;\">\n",
       "      <th></th>\n",
       "      <th>name</th>\n",
       "      <th>dtype</th>\n",
       "      <th>nnan</th>\n",
       "      <th>content</th>\n",
       "      <th>sort</th>\n",
       "      <th>eq</th>\n",
       "    </tr>\n",
       "  </thead>\n",
       "  <tbody>\n",
       "    <tr>\n",
       "      <th>first_name</th>\n",
       "      <td>True</td>\n",
       "      <td>False</td>\n",
       "      <td>True</td>\n",
       "      <td>True</td>\n",
       "      <td>False</td>\n",
       "      <td>False</td>\n",
       "    </tr>\n",
       "    <tr>\n",
       "      <th>age</th>\n",
       "      <td>True</td>\n",
       "      <td>False</td>\n",
       "      <td>True</td>\n",
       "      <td>True</td>\n",
       "      <td>False</td>\n",
       "      <td>False</td>\n",
       "    </tr>\n",
       "    <tr>\n",
       "      <th>secret</th>\n",
       "      <td>True</td>\n",
       "      <td>True</td>\n",
       "      <td>True</td>\n",
       "      <td>True</td>\n",
       "      <td>False</td>\n",
       "      <td>False</td>\n",
       "    </tr>\n",
       "    <tr>\n",
       "      <th>(Total)</th>\n",
       "      <td>True</td>\n",
       "      <td>False</td>\n",
       "      <td>True</td>\n",
       "      <td>True</td>\n",
       "      <td>False</td>\n",
       "      <td>False</td>\n",
       "    </tr>\n",
       "  </tbody>\n",
       "</table>\n",
       "</div>"
      ],
      "text/plain": [
       "            name  dtype  nnan content   sort     eq\n",
       "first_name  True  False  True    True  False  False\n",
       "age         True  False  True    True  False  False\n",
       "secret      True   True  True    True  False  False\n",
       "(Total)     True  False  True    True  False  False"
      ]
     },
     "execution_count": 27,
     "metadata": {},
     "output_type": "execute_result"
    },
    {
     "name": "stdout",
     "output_type": "stream",
     "text": [
      "time: 55.1 ms\n"
     ]
    }
   ],
   "source": [
    "# The dataframes are equal, but sorted different\n",
    "# (see row: Total, cols: sort and eq)\n",
    "pak.compare_dataframes(df_orig, df_recovered)"
   ]
  },
  {
   "cell_type": "code",
   "execution_count": 28,
   "metadata": {},
   "outputs": [
    {
     "name": "stdout",
     "output_type": "stream",
     "text": [
      "12 rows added, now a total of 1000\n"
     ]
    },
    {
     "data": {
      "text/html": [
       "<div>\n",
       "<style scoped>\n",
       "    .dataframe tbody tr th:only-of-type {\n",
       "        vertical-align: middle;\n",
       "    }\n",
       "\n",
       "    .dataframe tbody tr th {\n",
       "        vertical-align: top;\n",
       "    }\n",
       "\n",
       "    .dataframe thead th {\n",
       "        text-align: right;\n",
       "    }\n",
       "</style>\n",
       "<table border=\"1\" class=\"dataframe\">\n",
       "  <thead>\n",
       "    <tr style=\"text-align: right;\">\n",
       "      <th></th>\n",
       "      <th>name</th>\n",
       "      <th>dtype</th>\n",
       "      <th>nnan</th>\n",
       "      <th>content</th>\n",
       "      <th>sort</th>\n",
       "      <th>eq</th>\n",
       "    </tr>\n",
       "  </thead>\n",
       "  <tbody>\n",
       "    <tr>\n",
       "      <th>first_name</th>\n",
       "      <td>True</td>\n",
       "      <td>False</td>\n",
       "      <td>True</td>\n",
       "      <td>True</td>\n",
       "      <td>False</td>\n",
       "      <td>False</td>\n",
       "    </tr>\n",
       "    <tr>\n",
       "      <th>age</th>\n",
       "      <td>True</td>\n",
       "      <td>False</td>\n",
       "      <td>True</td>\n",
       "      <td>True</td>\n",
       "      <td>False</td>\n",
       "      <td>False</td>\n",
       "    </tr>\n",
       "    <tr>\n",
       "      <th>secret</th>\n",
       "      <td>True</td>\n",
       "      <td>True</td>\n",
       "      <td>True</td>\n",
       "      <td>True</td>\n",
       "      <td>False</td>\n",
       "      <td>False</td>\n",
       "    </tr>\n",
       "    <tr>\n",
       "      <th>(Total)</th>\n",
       "      <td>True</td>\n",
       "      <td>False</td>\n",
       "      <td>True</td>\n",
       "      <td>True</td>\n",
       "      <td>False</td>\n",
       "      <td>False</td>\n",
       "    </tr>\n",
       "  </tbody>\n",
       "</table>\n",
       "</div>"
      ],
      "text/plain": [
       "            name  dtype  nnan content   sort     eq\n",
       "first_name  True  False  True    True  False  False\n",
       "age         True  False  True    True  False  False\n",
       "secret      True   True  True    True  False  False\n",
       "(Total)     True  False  True    True  False  False"
      ]
     },
     "execution_count": 28,
     "metadata": {},
     "output_type": "execute_result"
    },
    {
     "name": "stdout",
     "output_type": "stream",
     "text": [
      "time: 39.5 ms\n"
     ]
    }
   ],
   "source": [
    "# if we do this with reindex=True, \n",
    "# the content keeps equal, \n",
    "# but the dataframes are not equal\n",
    "# (see row: Total, cols: content and eq)\n",
    "df_recovered = pak.add_rows(df, df_trash, reindex=True)\n",
    "pak.compare_dataframes(df_orig, df_recovered)"
   ]
  },
  {
   "cell_type": "markdown",
   "metadata": {},
   "source": [
    "#### add_rows() with only_new=[col1, col2]"
   ]
  },
  {
   "cell_type": "code",
   "execution_count": 29,
   "metadata": {},
   "outputs": [
    {
     "name": "stdout",
     "output_type": "stream",
     "text": [
      "count rows: 988  +  12\n",
      "time: 19 ms\n"
     ]
    }
   ],
   "source": [
    "# we go back to df and df_trash\n",
    "print('count rows:', df.shape[0], ' + ', df_trash.shape[0])"
   ]
  },
  {
   "cell_type": "code",
   "execution_count": 30,
   "metadata": {},
   "outputs": [
    {
     "name": "stdout",
     "output_type": "stream",
     "text": [
      "12 rows added, now a total of 1000\n",
      "time: 23.4 ms\n"
     ]
    }
   ],
   "source": [
    "# recover to the state before move_rows\n",
    "df_recovered = pak.add_rows(df, df_trash)"
   ]
  },
  {
   "cell_type": "code",
   "execution_count": 31,
   "metadata": {},
   "outputs": [
    {
     "name": "stdout",
     "output_type": "stream",
     "text": [
      "12 rows added, now a total of 1012\n",
      "time: 25.1 ms\n"
     ]
    }
   ],
   "source": [
    "# add the same rows again >> now we have some duplicates\n",
    "df_with_dups = pak.add_rows(df_recovered, df_trash)"
   ]
  },
  {
   "cell_type": "code",
   "execution_count": 32,
   "metadata": {},
   "outputs": [
    {
     "name": "stdout",
     "output_type": "stream",
     "text": [
      "12 rows not attached\n",
      "0 rows added, now a total of 1000\n",
      "time: 50.8 ms\n"
     ]
    }
   ],
   "source": [
    "# you can avoid that by setting only_new to a column name combination that must contain new content\n",
    "# run this cell multible times\n",
    "df_recovered = pak.add_rows(df_recovered, df_trash, only_new = ['secret','age'])"
   ]
  },
  {
   "cell_type": "markdown",
   "metadata": {},
   "source": [
    "#### add_rows() with only_new=True"
   ]
  },
  {
   "cell_type": "code",
   "execution_count": 33,
   "metadata": {},
   "outputs": [
    {
     "name": "stdout",
     "output_type": "stream",
     "text": [
      "count rows: 988  +  12\n",
      "time: 46.8 ms\n"
     ]
    }
   ],
   "source": [
    "# we go back to df and df_trash\n",
    "# but we give them a random index\n",
    "df.index       = pak.random_series(df.shape[0],       'string', len_min=3, len_max=3, p_dup=0)\n",
    "df_trash.index = pak.random_series(df_trash.shape[0], 'string', len_min=3, len_max=3, p_dup=0)\n",
    "print('count rows:', df.shape[0], ' + ', df_trash.shape[0])"
   ]
  },
  {
   "cell_type": "code",
   "execution_count": 34,
   "metadata": {},
   "outputs": [
    {
     "name": "stdout",
     "output_type": "stream",
     "text": [
      "0 rows not attached\n",
      "12 rows added, now a total of 1000\n"
     ]
    },
    {
     "data": {
      "text/html": [
       "<div>\n",
       "<style scoped>\n",
       "    .dataframe tbody tr th:only-of-type {\n",
       "        vertical-align: middle;\n",
       "    }\n",
       "\n",
       "    .dataframe tbody tr th {\n",
       "        vertical-align: top;\n",
       "    }\n",
       "\n",
       "    .dataframe thead th {\n",
       "        text-align: right;\n",
       "    }\n",
       "</style>\n",
       "<table border=\"1\" class=\"dataframe\">\n",
       "  <thead>\n",
       "    <tr style=\"text-align: right;\">\n",
       "      <th></th>\n",
       "      <th>first_name</th>\n",
       "      <th>age</th>\n",
       "      <th>secret</th>\n",
       "    </tr>\n",
       "  </thead>\n",
       "  <tbody>\n",
       "    <tr>\n",
       "      <th>0</th>\n",
       "      <td>Bianca</td>\n",
       "      <td>39</td>\n",
       "      <td>YefLü</td>\n",
       "    </tr>\n",
       "    <tr>\n",
       "      <th>1</th>\n",
       "      <td>Kurt</td>\n",
       "      <td>29</td>\n",
       "      <td>eCAUeaQaJz</td>\n",
       "    </tr>\n",
       "    <tr>\n",
       "      <th>2</th>\n",
       "      <td>Rainer</td>\n",
       "      <td>23</td>\n",
       "      <td>eBXKZMHy</td>\n",
       "    </tr>\n",
       "    <tr>\n",
       "      <th>3</th>\n",
       "      <td>Ulrike</td>\n",
       "      <td>31</td>\n",
       "      <td>äeODÖzYeA7</td>\n",
       "    </tr>\n",
       "    <tr>\n",
       "      <th>4</th>\n",
       "      <td>Michaela</td>\n",
       "      <td>28</td>\n",
       "      <td>OytfzKW0yä</td>\n",
       "    </tr>\n",
       "    <tr>\n",
       "      <th>...</th>\n",
       "      <td>...</td>\n",
       "      <td>...</td>\n",
       "      <td>...</td>\n",
       "    </tr>\n",
       "    <tr>\n",
       "      <th>995</th>\n",
       "      <td>Cornelia</td>\n",
       "      <td>30</td>\n",
       "      <td>JBO4K2XmC7</td>\n",
       "    </tr>\n",
       "    <tr>\n",
       "      <th>996</th>\n",
       "      <td>Cornelia</td>\n",
       "      <td>38</td>\n",
       "      <td>362Öve</td>\n",
       "    </tr>\n",
       "    <tr>\n",
       "      <th>997</th>\n",
       "      <td>Cornelia</td>\n",
       "      <td>39</td>\n",
       "      <td>9sÜwLow4</td>\n",
       "    </tr>\n",
       "    <tr>\n",
       "      <th>998</th>\n",
       "      <td>Cornelia</td>\n",
       "      <td>28</td>\n",
       "      <td>g6F2fä</td>\n",
       "    </tr>\n",
       "    <tr>\n",
       "      <th>999</th>\n",
       "      <td>Cornelia</td>\n",
       "      <td>28</td>\n",
       "      <td>ÜWdiRk</td>\n",
       "    </tr>\n",
       "  </tbody>\n",
       "</table>\n",
       "<p>1000 rows × 3 columns</p>\n",
       "</div>"
      ],
      "text/plain": [
       "    first_name  age      secret\n",
       "0       Bianca   39       YefLü\n",
       "1         Kurt   29  eCAUeaQaJz\n",
       "2       Rainer   23    eBXKZMHy\n",
       "3       Ulrike   31  äeODÖzYeA7\n",
       "4     Michaela   28  OytfzKW0yä\n",
       "..         ...  ...         ...\n",
       "995   Cornelia   30  JBO4K2XmC7\n",
       "996   Cornelia   38      362Öve\n",
       "997   Cornelia   39    9sÜwLow4\n",
       "998   Cornelia   28      g6F2fä\n",
       "999   Cornelia   28      ÜWdiRk\n",
       "\n",
       "[1000 rows x 3 columns]"
      ]
     },
     "execution_count": 34,
     "metadata": {},
     "output_type": "execute_result"
    },
    {
     "name": "stdout",
     "output_type": "stream",
     "text": [
      "time: 27.9 ms\n"
     ]
    }
   ],
   "source": [
    "# recover with only_new=True to avoid duplicate row indexes\n",
    "df_recovered = pak.add_rows(df, df_trash, only_new=True)\n",
    "df_recovered"
   ]
  },
  {
   "cell_type": "code",
   "execution_count": 35,
   "metadata": {},
   "outputs": [
    {
     "name": "stdout",
     "output_type": "stream",
     "text": [
      "0 rows not attached\n",
      "12 rows added, now a total of 1012\n",
      "time: 15.9 ms\n"
     ]
    }
   ],
   "source": [
    "# add the same rows again >> no rows added\n",
    "df_recovered = pak.add_rows(df_recovered, df_trash, only_new=True)\n",
    "#df_recovered"
   ]
  },
  {
   "cell_type": "code",
   "execution_count": 36,
   "metadata": {},
   "outputs": [
    {
     "name": "stdout",
     "output_type": "stream",
     "text": [
      "time: 21.5 ms\n"
     ]
    }
   ],
   "source": [
    "#search_notebooks('add_rows', radius=3, exclude='nb_out', suffix='py')"
   ]
  },
  {
   "cell_type": "code",
   "execution_count": null,
   "metadata": {},
   "outputs": [],
   "source": []
  }
 ],
 "metadata": {
  "kernelspec": {
   "display_name": "Python 3 (ipykernel)",
   "language": "python",
   "name": "python3"
  },
  "language_info": {
   "codemirror_mode": {
    "name": "ipython",
    "version": 3
   },
   "file_extension": ".py",
   "mimetype": "text/x-python",
   "name": "python",
   "nbconvert_exporter": "python",
   "pygments_lexer": "ipython3",
   "version": "3.9.13"
  }
 },
 "nbformat": 4,
 "nbformat_minor": 4
}
