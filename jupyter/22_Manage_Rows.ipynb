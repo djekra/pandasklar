{
 "cells": [
  {
   "cell_type": "markdown",
   "metadata": {},
   "source": [
    "__[Open and try this file online (Colab)](https://colab.research.google.com/github/djekra/pandasklar/blob/master/jupyter/22_Manage_Rows.ipynb)__"
   ]
  },
  {
   "cell_type": "markdown",
   "metadata": {},
   "source": [
    "# Manage rows\n",
    "* `drop_multiindex`: Converts any MultiIndex to normal columns and resets the index. Works with MultiIndex in Series or DataFrames, in rows and in columns.\n",
    "* `reset_index`: Creates a new, unnamed index. If keep_as is given, the old index is preserved as a row with this name. Otherwise the old index is dropped.\n",
    "* `rename_index`: Renames the index.\n",
    "* `drop_rows`: Drops rows identified by a binary mask, verbose if wanted.\n",
    "* `move_rows`: Moves rows identified by a binary mask from one dataframe to another (e.g. into a trash).<br>\n",
    "   The target dataframe gets an additional message column by standard (to identify why the rows were moved). Verbose if wanted. \n",
    "* `add_rows`: Like concat, with additional features only_new and verbose."
   ]
  },
  {
   "cell_type": "code",
   "execution_count": 1,
   "metadata": {
    "execution": {
     "iopub.execute_input": "2023-04-10T19:43:00.685044Z",
     "iopub.status.busy": "2023-04-10T19:43:00.684103Z",
     "iopub.status.idle": "2023-04-10T19:43:01.489241Z",
     "shell.execute_reply": "2023-04-10T19:43:01.488547Z",
     "shell.execute_reply.started": "2023-04-10T19:43:00.684987Z"
    }
   },
   "outputs": [
    {
     "name": "stdout",
     "output_type": "stream",
     "text": [
      "blab init\n",
      "environment['in_colab']     = False\n",
      "environment['dropbox_path'] = /home/me/Data_Linux/Dropbox\n",
      "environment['lib_path']     = /home/me/Data_Linux/Dropbox/31_Projekte/01_Python/libs\n",
      "Start Time: 21:43:00\n"
     ]
    },
    {
     "data": {
      "text/html": [
       "<img src onerror=\"var cell = this.closest('.jp-CodeCell');var editor = cell.querySelector('.jp-Editor');editor.style.background='Beige';this.parentNode.removeChild(this)\">"
      ],
      "text/plain": [
       "<IPython.core.display.HTML object>"
      ]
     },
     "metadata": {},
     "output_type": "display_data"
    }
   ],
   "source": [
    "# blab init\n",
    "try:\n",
    "    import blab\n",
    "except ImportError as e:\n",
    "    !pip install blab\n",
    "    import blab    \n",
    "startup_notebook = blab.blab_startup()\n",
    "%run $startup_notebook "
   ]
  },
  {
   "cell_type": "code",
   "execution_count": 2,
   "metadata": {
    "execution": {
     "iopub.execute_input": "2023-04-10T19:43:01.493940Z",
     "iopub.status.busy": "2023-04-10T19:43:01.491303Z",
     "iopub.status.idle": "2023-04-10T19:43:03.006698Z",
     "shell.execute_reply": "2023-04-10T19:43:03.005889Z",
     "shell.execute_reply.started": "2023-04-10T19:43:01.493895Z"
    }
   },
   "outputs": [
    {
     "name": "stdout",
     "output_type": "stream",
     "text": [
      "VERBOSE = True\n",
      "--> setting verbose=True as default for all pandasklar functions\n",
      "\n"
     ]
    }
   ],
   "source": [
    "import pandas     as pd \n",
    "import bpyth      as bpy\n",
    "\n",
    "# pandasklar\n",
    "try:\n",
    "    import pandasklar as pak \n",
    "except ImportError as e:\n",
    "    !pip install pandasklar\n",
    "    import pandasklar as pak   \n",
    "    \n",
    "# verbose\n",
    "pak.Config.set('VERBOSE', True)\n",
    "\n",
    "# copy_on_write\n",
    "pd.set_option(\"mode.copy_on_write\", True)"
   ]
  },
  {
   "cell_type": "code",
   "execution_count": 3,
   "metadata": {
    "execution": {
     "iopub.execute_input": "2023-04-10T19:43:03.008783Z",
     "iopub.status.busy": "2023-04-10T19:43:03.007418Z",
     "iopub.status.idle": "2023-04-10T19:43:03.303729Z",
     "shell.execute_reply": "2023-04-10T19:43:03.303000Z",
     "shell.execute_reply.started": "2023-04-10T19:43:03.008746Z"
    }
   },
   "outputs": [
    {
     "data": {
      "text/html": [
       "<div>\n",
       "<style scoped>\n",
       "    .dataframe tbody tr th:only-of-type {\n",
       "        vertical-align: middle;\n",
       "    }\n",
       "\n",
       "    .dataframe tbody tr th {\n",
       "        vertical-align: top;\n",
       "    }\n",
       "\n",
       "    .dataframe thead th {\n",
       "        text-align: right;\n",
       "    }\n",
       "</style>\n",
       "<table border=\"1\" class=\"dataframe\">\n",
       "  <thead>\n",
       "    <tr style=\"text-align: right;\">\n",
       "      <th></th>\n",
       "      <th>first_name</th>\n",
       "      <th>age</th>\n",
       "      <th>age_class</th>\n",
       "      <th>postal_code</th>\n",
       "      <th>birthplace</th>\n",
       "      <th>secret</th>\n",
       "      <th>features</th>\n",
       "      <th>history</th>\n",
       "    </tr>\n",
       "  </thead>\n",
       "  <tbody>\n",
       "    <tr>\n",
       "      <th>0</th>\n",
       "      <td>Elisabeth</td>\n",
       "      <td>29</td>\n",
       "      <td>20</td>\n",
       "      <td>16124</td>\n",
       "      <td>Bremen</td>\n",
       "      <td>Ai1au</td>\n",
       "      <td>{e, s, m, o, t}</td>\n",
       "      <td>[A, C, C, B]</td>\n",
       "    </tr>\n",
       "    <tr>\n",
       "      <th>1</th>\n",
       "      <td>Kira</td>\n",
       "      <td>28</td>\n",
       "      <td>20</td>\n",
       "      <td>78792</td>\n",
       "      <td>Berlin</td>\n",
       "      <td>oCoiw2or</td>\n",
       "      <td>{b, C, P}</td>\n",
       "      <td>[A, A, A]</td>\n",
       "    </tr>\n",
       "    <tr>\n",
       "      <th>2</th>\n",
       "      <td>Tanja</td>\n",
       "      <td>28</td>\n",
       "      <td>20</td>\n",
       "      <td>14686</td>\n",
       "      <td>Bremen</td>\n",
       "      <td>ighxfpNOR6</td>\n",
       "      <td>{U, u, z}</td>\n",
       "      <td>[]</td>\n",
       "    </tr>\n",
       "    <tr>\n",
       "      <th>3</th>\n",
       "      <td>Marko</td>\n",
       "      <td>34</td>\n",
       "      <td>30</td>\n",
       "      <td>83425</td>\n",
       "      <td>&lt;NA&gt;</td>\n",
       "      <td>DAVXiÜOYVs</td>\n",
       "      <td>{V, N, k, z}</td>\n",
       "      <td>[A, B, C]</td>\n",
       "    </tr>\n",
       "    <tr>\n",
       "      <th>4</th>\n",
       "      <td>Elli</td>\n",
       "      <td>28</td>\n",
       "      <td>20</td>\n",
       "      <td>37741</td>\n",
       "      <td>Berlin</td>\n",
       "      <td>GlrdjitN</td>\n",
       "      <td>{m, h}</td>\n",
       "      <td>[b, b, a, b]</td>\n",
       "    </tr>\n",
       "    <tr>\n",
       "      <th>...</th>\n",
       "      <td>...</td>\n",
       "      <td>...</td>\n",
       "      <td>...</td>\n",
       "      <td>...</td>\n",
       "      <td>...</td>\n",
       "      <td>...</td>\n",
       "      <td>...</td>\n",
       "      <td>...</td>\n",
       "    </tr>\n",
       "    <tr>\n",
       "      <th>995</th>\n",
       "      <td>Christina</td>\n",
       "      <td>41</td>\n",
       "      <td>40</td>\n",
       "      <td>54858</td>\n",
       "      <td>Bremen</td>\n",
       "      <td>xXpe1FwE</td>\n",
       "      <td>{L, F, D, C, T}</td>\n",
       "      <td>[A, A, A]</td>\n",
       "    </tr>\n",
       "    <tr>\n",
       "      <th>996</th>\n",
       "      <td>Walter</td>\n",
       "      <td>33</td>\n",
       "      <td>30</td>\n",
       "      <td>27094</td>\n",
       "      <td>Bremen</td>\n",
       "      <td>4BlOVSzG</td>\n",
       "      <td>{Q, W}</td>\n",
       "      <td>[A, B, C, C]</td>\n",
       "    </tr>\n",
       "    <tr>\n",
       "      <th>997</th>\n",
       "      <td>Elena</td>\n",
       "      <td>30</td>\n",
       "      <td>30</td>\n",
       "      <td>65212</td>\n",
       "      <td>&lt;NA&gt;</td>\n",
       "      <td>vnaÜN</td>\n",
       "      <td>{v, N, s, D}</td>\n",
       "      <td>[A, B, C]</td>\n",
       "    </tr>\n",
       "    <tr>\n",
       "      <th>998</th>\n",
       "      <td>Helene</td>\n",
       "      <td>24</td>\n",
       "      <td>20</td>\n",
       "      <td>&lt;NA&gt;</td>\n",
       "      <td>Berlin</td>\n",
       "      <td>tIuToS</td>\n",
       "      <td>{3, u}</td>\n",
       "      <td>[A, C, C, B]</td>\n",
       "    </tr>\n",
       "    <tr>\n",
       "      <th>999</th>\n",
       "      <td>Emily</td>\n",
       "      <td>33</td>\n",
       "      <td>30</td>\n",
       "      <td>99158</td>\n",
       "      <td>Berlin</td>\n",
       "      <td>9eaPSP6</td>\n",
       "      <td>{Q, f}</td>\n",
       "      <td>[c, b, a]</td>\n",
       "    </tr>\n",
       "  </tbody>\n",
       "</table>\n",
       "<p>1000 rows × 8 columns</p>\n",
       "</div>"
      ],
      "text/plain": [
       "    first_name  age  age_class  postal_code birthplace      secret   \n",
       "0    Elisabeth   29         20        16124     Bremen       Ai1au  \\\n",
       "1         Kira   28         20        78792     Berlin    oCoiw2or   \n",
       "2        Tanja   28         20        14686     Bremen  ighxfpNOR6   \n",
       "3        Marko   34         30        83425       <NA>  DAVXiÜOYVs   \n",
       "4         Elli   28         20        37741     Berlin    GlrdjitN   \n",
       "..         ...  ...        ...          ...        ...         ...   \n",
       "995  Christina   41         40        54858     Bremen    xXpe1FwE   \n",
       "996     Walter   33         30        27094     Bremen    4BlOVSzG   \n",
       "997      Elena   30         30        65212       <NA>       vnaÜN   \n",
       "998     Helene   24         20         <NA>     Berlin      tIuToS   \n",
       "999      Emily   33         30        99158     Berlin     9eaPSP6   \n",
       "\n",
       "            features       history  \n",
       "0    {e, s, m, o, t}  [A, C, C, B]  \n",
       "1          {b, C, P}     [A, A, A]  \n",
       "2          {U, u, z}            []  \n",
       "3       {V, N, k, z}     [A, B, C]  \n",
       "4             {m, h}  [b, b, a, b]  \n",
       "..               ...           ...  \n",
       "995  {L, F, D, C, T}     [A, A, A]  \n",
       "996           {Q, W}  [A, B, C, C]  \n",
       "997     {v, N, s, D}     [A, B, C]  \n",
       "998           {3, u}  [A, C, C, B]  \n",
       "999           {Q, f}     [c, b, a]  \n",
       "\n",
       "[1000 rows x 8 columns]"
      ]
     },
     "execution_count": 3,
     "metadata": {},
     "output_type": "execute_result"
    }
   ],
   "source": [
    "# Test data\n",
    "df = pak.people(1000)\n",
    "df"
   ]
  },
  {
   "cell_type": "markdown",
   "metadata": {},
   "source": [
    "## === Row Indexes ==="
   ]
  },
  {
   "cell_type": "markdown",
   "metadata": {
    "tags": []
   },
   "source": [
    "### rename_index()"
   ]
  },
  {
   "cell_type": "code",
   "execution_count": 4,
   "metadata": {
    "execution": {
     "iopub.execute_input": "2023-04-10T19:43:03.305617Z",
     "iopub.status.busy": "2023-04-10T19:43:03.305196Z",
     "iopub.status.idle": "2023-04-10T19:43:03.399425Z",
     "shell.execute_reply": "2023-04-10T19:43:03.398526Z",
     "shell.execute_reply.started": "2023-04-10T19:43:03.305592Z"
    }
   },
   "outputs": [
    {
     "data": {
      "text/html": [
       "<div>\n",
       "<style scoped>\n",
       "    .dataframe tbody tr th:only-of-type {\n",
       "        vertical-align: middle;\n",
       "    }\n",
       "\n",
       "    .dataframe tbody tr th {\n",
       "        vertical-align: top;\n",
       "    }\n",
       "\n",
       "    .dataframe thead th {\n",
       "        text-align: right;\n",
       "    }\n",
       "</style>\n",
       "<table border=\"1\" class=\"dataframe\">\n",
       "  <thead>\n",
       "    <tr style=\"text-align: right;\">\n",
       "      <th></th>\n",
       "      <th>first_name</th>\n",
       "      <th>age</th>\n",
       "      <th>age_class</th>\n",
       "      <th>postal_code</th>\n",
       "      <th>birthplace</th>\n",
       "      <th>secret</th>\n",
       "      <th>features</th>\n",
       "      <th>history</th>\n",
       "    </tr>\n",
       "    <tr>\n",
       "      <th>rnd_string</th>\n",
       "      <th></th>\n",
       "      <th></th>\n",
       "      <th></th>\n",
       "      <th></th>\n",
       "      <th></th>\n",
       "      <th></th>\n",
       "      <th></th>\n",
       "      <th></th>\n",
       "    </tr>\n",
       "  </thead>\n",
       "  <tbody>\n",
       "    <tr>\n",
       "      <th>SÄa</th>\n",
       "      <td>Elisabeth</td>\n",
       "      <td>29</td>\n",
       "      <td>20</td>\n",
       "      <td>16124</td>\n",
       "      <td>Bremen</td>\n",
       "      <td>Ai1au</td>\n",
       "      <td>{e, s, m, o, t}</td>\n",
       "      <td>[A, C, C, B]</td>\n",
       "    </tr>\n",
       "    <tr>\n",
       "      <th>äQR</th>\n",
       "      <td>Kira</td>\n",
       "      <td>28</td>\n",
       "      <td>20</td>\n",
       "      <td>78792</td>\n",
       "      <td>Berlin</td>\n",
       "      <td>oCoiw2or</td>\n",
       "      <td>{b, C, P}</td>\n",
       "      <td>[A, A, A]</td>\n",
       "    </tr>\n",
       "    <tr>\n",
       "      <th>4yA</th>\n",
       "      <td>Tanja</td>\n",
       "      <td>28</td>\n",
       "      <td>20</td>\n",
       "      <td>14686</td>\n",
       "      <td>Bremen</td>\n",
       "      <td>ighxfpNOR6</td>\n",
       "      <td>{U, u, z}</td>\n",
       "      <td>[]</td>\n",
       "    </tr>\n",
       "    <tr>\n",
       "      <th>Dvn</th>\n",
       "      <td>Marko</td>\n",
       "      <td>34</td>\n",
       "      <td>30</td>\n",
       "      <td>83425</td>\n",
       "      <td>&lt;NA&gt;</td>\n",
       "      <td>DAVXiÜOYVs</td>\n",
       "      <td>{V, N, k, z}</td>\n",
       "      <td>[A, B, C]</td>\n",
       "    </tr>\n",
       "    <tr>\n",
       "      <th>Xat</th>\n",
       "      <td>Elli</td>\n",
       "      <td>28</td>\n",
       "      <td>20</td>\n",
       "      <td>37741</td>\n",
       "      <td>Berlin</td>\n",
       "      <td>GlrdjitN</td>\n",
       "      <td>{m, h}</td>\n",
       "      <td>[b, b, a, b]</td>\n",
       "    </tr>\n",
       "    <tr>\n",
       "      <th>...</th>\n",
       "      <td>...</td>\n",
       "      <td>...</td>\n",
       "      <td>...</td>\n",
       "      <td>...</td>\n",
       "      <td>...</td>\n",
       "      <td>...</td>\n",
       "      <td>...</td>\n",
       "      <td>...</td>\n",
       "    </tr>\n",
       "    <tr>\n",
       "      <th>Ü7R</th>\n",
       "      <td>Christina</td>\n",
       "      <td>41</td>\n",
       "      <td>40</td>\n",
       "      <td>54858</td>\n",
       "      <td>Bremen</td>\n",
       "      <td>xXpe1FwE</td>\n",
       "      <td>{L, F, D, C, T}</td>\n",
       "      <td>[A, A, A]</td>\n",
       "    </tr>\n",
       "    <tr>\n",
       "      <th>d0ö</th>\n",
       "      <td>Walter</td>\n",
       "      <td>33</td>\n",
       "      <td>30</td>\n",
       "      <td>27094</td>\n",
       "      <td>Bremen</td>\n",
       "      <td>4BlOVSzG</td>\n",
       "      <td>{Q, W}</td>\n",
       "      <td>[A, B, C, C]</td>\n",
       "    </tr>\n",
       "    <tr>\n",
       "      <th>out</th>\n",
       "      <td>Elena</td>\n",
       "      <td>30</td>\n",
       "      <td>30</td>\n",
       "      <td>65212</td>\n",
       "      <td>&lt;NA&gt;</td>\n",
       "      <td>vnaÜN</td>\n",
       "      <td>{v, N, s, D}</td>\n",
       "      <td>[A, B, C]</td>\n",
       "    </tr>\n",
       "    <tr>\n",
       "      <th>eYr</th>\n",
       "      <td>Helene</td>\n",
       "      <td>24</td>\n",
       "      <td>20</td>\n",
       "      <td>&lt;NA&gt;</td>\n",
       "      <td>Berlin</td>\n",
       "      <td>tIuToS</td>\n",
       "      <td>{3, u}</td>\n",
       "      <td>[A, C, C, B]</td>\n",
       "    </tr>\n",
       "    <tr>\n",
       "      <th>N3P</th>\n",
       "      <td>Emily</td>\n",
       "      <td>33</td>\n",
       "      <td>30</td>\n",
       "      <td>99158</td>\n",
       "      <td>Berlin</td>\n",
       "      <td>9eaPSP6</td>\n",
       "      <td>{Q, f}</td>\n",
       "      <td>[c, b, a]</td>\n",
       "    </tr>\n",
       "  </tbody>\n",
       "</table>\n",
       "<p>1000 rows × 8 columns</p>\n",
       "</div>"
      ],
      "text/plain": [
       "           first_name  age  age_class  postal_code birthplace      secret   \n",
       "rnd_string                                                                  \n",
       "SÄa         Elisabeth   29         20        16124     Bremen       Ai1au  \\\n",
       "äQR              Kira   28         20        78792     Berlin    oCoiw2or   \n",
       "4yA             Tanja   28         20        14686     Bremen  ighxfpNOR6   \n",
       "Dvn             Marko   34         30        83425       <NA>  DAVXiÜOYVs   \n",
       "Xat              Elli   28         20        37741     Berlin    GlrdjitN   \n",
       "...               ...  ...        ...          ...        ...         ...   \n",
       "Ü7R         Christina   41         40        54858     Bremen    xXpe1FwE   \n",
       "d0ö            Walter   33         30        27094     Bremen    4BlOVSzG   \n",
       "out             Elena   30         30        65212       <NA>       vnaÜN   \n",
       "eYr            Helene   24         20         <NA>     Berlin      tIuToS   \n",
       "N3P             Emily   33         30        99158     Berlin     9eaPSP6   \n",
       "\n",
       "                   features       history  \n",
       "rnd_string                                 \n",
       "SÄa         {e, s, m, o, t}  [A, C, C, B]  \n",
       "äQR               {b, C, P}     [A, A, A]  \n",
       "4yA               {U, u, z}            []  \n",
       "Dvn            {V, N, k, z}     [A, B, C]  \n",
       "Xat                  {m, h}  [b, b, a, b]  \n",
       "...                     ...           ...  \n",
       "Ü7R         {L, F, D, C, T}     [A, A, A]  \n",
       "d0ö                  {Q, W}  [A, B, C, C]  \n",
       "out            {v, N, s, D}     [A, B, C]  \n",
       "eYr                  {3, u}  [A, C, C, B]  \n",
       "N3P                  {Q, f}     [c, b, a]  \n",
       "\n",
       "[1000 rows x 8 columns]"
      ]
     },
     "execution_count": 4,
     "metadata": {},
     "output_type": "execute_result"
    }
   ],
   "source": [
    "# set a trashy index\n",
    "df.index = pak.random_series(df.shape[0], 'string', len_min=3, len_max=3, p_dup=0)\n",
    "df"
   ]
  },
  {
   "cell_type": "code",
   "execution_count": 5,
   "metadata": {
    "execution": {
     "iopub.execute_input": "2023-04-10T19:43:03.404955Z",
     "iopub.status.busy": "2023-04-10T19:43:03.403819Z",
     "iopub.status.idle": "2023-04-10T19:43:03.468188Z",
     "shell.execute_reply": "2023-04-10T19:43:03.466551Z",
     "shell.execute_reply.started": "2023-04-10T19:43:03.404898Z"
    }
   },
   "outputs": [
    {
     "data": {
      "text/html": [
       "<div>\n",
       "<style scoped>\n",
       "    .dataframe tbody tr th:only-of-type {\n",
       "        vertical-align: middle;\n",
       "    }\n",
       "\n",
       "    .dataframe tbody tr th {\n",
       "        vertical-align: top;\n",
       "    }\n",
       "\n",
       "    .dataframe thead th {\n",
       "        text-align: right;\n",
       "    }\n",
       "</style>\n",
       "<table border=\"1\" class=\"dataframe\">\n",
       "  <thead>\n",
       "    <tr style=\"text-align: right;\">\n",
       "      <th></th>\n",
       "      <th>first_name</th>\n",
       "      <th>age</th>\n",
       "      <th>age_class</th>\n",
       "      <th>postal_code</th>\n",
       "      <th>birthplace</th>\n",
       "      <th>secret</th>\n",
       "      <th>features</th>\n",
       "      <th>history</th>\n",
       "    </tr>\n",
       "    <tr>\n",
       "      <th>index_new</th>\n",
       "      <th></th>\n",
       "      <th></th>\n",
       "      <th></th>\n",
       "      <th></th>\n",
       "      <th></th>\n",
       "      <th></th>\n",
       "      <th></th>\n",
       "      <th></th>\n",
       "    </tr>\n",
       "  </thead>\n",
       "  <tbody>\n",
       "    <tr>\n",
       "      <th>SÄa</th>\n",
       "      <td>Elisabeth</td>\n",
       "      <td>29</td>\n",
       "      <td>20</td>\n",
       "      <td>16124</td>\n",
       "      <td>Bremen</td>\n",
       "      <td>Ai1au</td>\n",
       "      <td>{e, s, m, o, t}</td>\n",
       "      <td>[A, C, C, B]</td>\n",
       "    </tr>\n",
       "    <tr>\n",
       "      <th>äQR</th>\n",
       "      <td>Kira</td>\n",
       "      <td>28</td>\n",
       "      <td>20</td>\n",
       "      <td>78792</td>\n",
       "      <td>Berlin</td>\n",
       "      <td>oCoiw2or</td>\n",
       "      <td>{b, C, P}</td>\n",
       "      <td>[A, A, A]</td>\n",
       "    </tr>\n",
       "    <tr>\n",
       "      <th>4yA</th>\n",
       "      <td>Tanja</td>\n",
       "      <td>28</td>\n",
       "      <td>20</td>\n",
       "      <td>14686</td>\n",
       "      <td>Bremen</td>\n",
       "      <td>ighxfpNOR6</td>\n",
       "      <td>{U, u, z}</td>\n",
       "      <td>[]</td>\n",
       "    </tr>\n",
       "    <tr>\n",
       "      <th>Dvn</th>\n",
       "      <td>Marko</td>\n",
       "      <td>34</td>\n",
       "      <td>30</td>\n",
       "      <td>83425</td>\n",
       "      <td>&lt;NA&gt;</td>\n",
       "      <td>DAVXiÜOYVs</td>\n",
       "      <td>{V, N, k, z}</td>\n",
       "      <td>[A, B, C]</td>\n",
       "    </tr>\n",
       "    <tr>\n",
       "      <th>Xat</th>\n",
       "      <td>Elli</td>\n",
       "      <td>28</td>\n",
       "      <td>20</td>\n",
       "      <td>37741</td>\n",
       "      <td>Berlin</td>\n",
       "      <td>GlrdjitN</td>\n",
       "      <td>{m, h}</td>\n",
       "      <td>[b, b, a, b]</td>\n",
       "    </tr>\n",
       "    <tr>\n",
       "      <th>...</th>\n",
       "      <td>...</td>\n",
       "      <td>...</td>\n",
       "      <td>...</td>\n",
       "      <td>...</td>\n",
       "      <td>...</td>\n",
       "      <td>...</td>\n",
       "      <td>...</td>\n",
       "      <td>...</td>\n",
       "    </tr>\n",
       "    <tr>\n",
       "      <th>Ü7R</th>\n",
       "      <td>Christina</td>\n",
       "      <td>41</td>\n",
       "      <td>40</td>\n",
       "      <td>54858</td>\n",
       "      <td>Bremen</td>\n",
       "      <td>xXpe1FwE</td>\n",
       "      <td>{L, F, D, C, T}</td>\n",
       "      <td>[A, A, A]</td>\n",
       "    </tr>\n",
       "    <tr>\n",
       "      <th>d0ö</th>\n",
       "      <td>Walter</td>\n",
       "      <td>33</td>\n",
       "      <td>30</td>\n",
       "      <td>27094</td>\n",
       "      <td>Bremen</td>\n",
       "      <td>4BlOVSzG</td>\n",
       "      <td>{Q, W}</td>\n",
       "      <td>[A, B, C, C]</td>\n",
       "    </tr>\n",
       "    <tr>\n",
       "      <th>out</th>\n",
       "      <td>Elena</td>\n",
       "      <td>30</td>\n",
       "      <td>30</td>\n",
       "      <td>65212</td>\n",
       "      <td>&lt;NA&gt;</td>\n",
       "      <td>vnaÜN</td>\n",
       "      <td>{v, N, s, D}</td>\n",
       "      <td>[A, B, C]</td>\n",
       "    </tr>\n",
       "    <tr>\n",
       "      <th>eYr</th>\n",
       "      <td>Helene</td>\n",
       "      <td>24</td>\n",
       "      <td>20</td>\n",
       "      <td>&lt;NA&gt;</td>\n",
       "      <td>Berlin</td>\n",
       "      <td>tIuToS</td>\n",
       "      <td>{3, u}</td>\n",
       "      <td>[A, C, C, B]</td>\n",
       "    </tr>\n",
       "    <tr>\n",
       "      <th>N3P</th>\n",
       "      <td>Emily</td>\n",
       "      <td>33</td>\n",
       "      <td>30</td>\n",
       "      <td>99158</td>\n",
       "      <td>Berlin</td>\n",
       "      <td>9eaPSP6</td>\n",
       "      <td>{Q, f}</td>\n",
       "      <td>[c, b, a]</td>\n",
       "    </tr>\n",
       "  </tbody>\n",
       "</table>\n",
       "<p>1000 rows × 8 columns</p>\n",
       "</div>"
      ],
      "text/plain": [
       "          first_name  age  age_class  postal_code birthplace      secret   \n",
       "index_new                                                                  \n",
       "SÄa        Elisabeth   29         20        16124     Bremen       Ai1au  \\\n",
       "äQR             Kira   28         20        78792     Berlin    oCoiw2or   \n",
       "4yA            Tanja   28         20        14686     Bremen  ighxfpNOR6   \n",
       "Dvn            Marko   34         30        83425       <NA>  DAVXiÜOYVs   \n",
       "Xat             Elli   28         20        37741     Berlin    GlrdjitN   \n",
       "...              ...  ...        ...          ...        ...         ...   \n",
       "Ü7R        Christina   41         40        54858     Bremen    xXpe1FwE   \n",
       "d0ö           Walter   33         30        27094     Bremen    4BlOVSzG   \n",
       "out            Elena   30         30        65212       <NA>       vnaÜN   \n",
       "eYr           Helene   24         20         <NA>     Berlin      tIuToS   \n",
       "N3P            Emily   33         30        99158     Berlin     9eaPSP6   \n",
       "\n",
       "                  features       history  \n",
       "index_new                                 \n",
       "SÄa        {e, s, m, o, t}  [A, C, C, B]  \n",
       "äQR              {b, C, P}     [A, A, A]  \n",
       "4yA              {U, u, z}            []  \n",
       "Dvn           {V, N, k, z}     [A, B, C]  \n",
       "Xat                 {m, h}  [b, b, a, b]  \n",
       "...                    ...           ...  \n",
       "Ü7R        {L, F, D, C, T}     [A, A, A]  \n",
       "d0ö                 {Q, W}  [A, B, C, C]  \n",
       "out           {v, N, s, D}     [A, B, C]  \n",
       "eYr                 {3, u}  [A, C, C, B]  \n",
       "N3P                 {Q, f}     [c, b, a]  \n",
       "\n",
       "[1000 rows x 8 columns]"
      ]
     },
     "execution_count": 5,
     "metadata": {},
     "output_type": "execute_result"
    }
   ],
   "source": [
    "df = pak.rename_index(df,'index_new')\n",
    "df"
   ]
  },
  {
   "cell_type": "markdown",
   "metadata": {},
   "source": [
    "### reset_index()"
   ]
  },
  {
   "cell_type": "code",
   "execution_count": 6,
   "metadata": {
    "execution": {
     "iopub.execute_input": "2023-04-10T19:43:03.475369Z",
     "iopub.status.busy": "2023-04-10T19:43:03.470555Z",
     "iopub.status.idle": "2023-04-10T19:43:03.573625Z",
     "shell.execute_reply": "2023-04-10T19:43:03.571423Z",
     "shell.execute_reply.started": "2023-04-10T19:43:03.475291Z"
    },
    "tags": []
   },
   "outputs": [
    {
     "data": {
      "text/plain": [
       "\u001b[0;31mSignature:\u001b[0m \u001b[0mpak\u001b[0m\u001b[0;34m.\u001b[0m\u001b[0mreset_index\u001b[0m\u001b[0;34m(\u001b[0m\u001b[0mdf\u001b[0m\u001b[0;34m,\u001b[0m \u001b[0mkeep_as\u001b[0m\u001b[0;34m=\u001b[0m\u001b[0;32mNone\u001b[0m\u001b[0;34m)\u001b[0m\u001b[0;34m\u001b[0m\u001b[0;34m\u001b[0m\u001b[0m\n",
       "\u001b[0;31mDocstring:\u001b[0m\n",
       "Creates a new, unnamed index.\n",
       "* keep_as: If keep_as is given, the old index is preserved as a row with this name.\n",
       "Otherwise the old index is dropped.\n",
       "\u001b[0;31mFile:\u001b[0m      ~/Data_Linux/Dropbox/31_Projekte/01_Python/git/pandasklar/src/pandasklar/pandas.py\n",
       "\u001b[0;31mType:\u001b[0m      function\n"
      ]
     },
     "metadata": {},
     "output_type": "display_data"
    }
   ],
   "source": [
    "?pak.reset_index"
   ]
  },
  {
   "cell_type": "code",
   "execution_count": 7,
   "metadata": {
    "execution": {
     "iopub.execute_input": "2023-04-10T19:43:03.582329Z",
     "iopub.status.busy": "2023-04-10T19:43:03.581683Z",
     "iopub.status.idle": "2023-04-10T19:43:03.648975Z",
     "shell.execute_reply": "2023-04-10T19:43:03.648326Z",
     "shell.execute_reply.started": "2023-04-10T19:43:03.582266Z"
    }
   },
   "outputs": [
    {
     "data": {
      "text/html": [
       "<div>\n",
       "<style scoped>\n",
       "    .dataframe tbody tr th:only-of-type {\n",
       "        vertical-align: middle;\n",
       "    }\n",
       "\n",
       "    .dataframe tbody tr th {\n",
       "        vertical-align: top;\n",
       "    }\n",
       "\n",
       "    .dataframe thead th {\n",
       "        text-align: right;\n",
       "    }\n",
       "</style>\n",
       "<table border=\"1\" class=\"dataframe\">\n",
       "  <thead>\n",
       "    <tr style=\"text-align: right;\">\n",
       "      <th></th>\n",
       "      <th>first_name</th>\n",
       "      <th>age</th>\n",
       "      <th>age_class</th>\n",
       "      <th>postal_code</th>\n",
       "      <th>birthplace</th>\n",
       "      <th>secret</th>\n",
       "      <th>features</th>\n",
       "      <th>history</th>\n",
       "    </tr>\n",
       "  </thead>\n",
       "  <tbody>\n",
       "    <tr>\n",
       "      <th>0</th>\n",
       "      <td>Elisabeth</td>\n",
       "      <td>29</td>\n",
       "      <td>20</td>\n",
       "      <td>16124</td>\n",
       "      <td>Bremen</td>\n",
       "      <td>Ai1au</td>\n",
       "      <td>{e, s, m, o, t}</td>\n",
       "      <td>[A, C, C, B]</td>\n",
       "    </tr>\n",
       "    <tr>\n",
       "      <th>1</th>\n",
       "      <td>Kira</td>\n",
       "      <td>28</td>\n",
       "      <td>20</td>\n",
       "      <td>78792</td>\n",
       "      <td>Berlin</td>\n",
       "      <td>oCoiw2or</td>\n",
       "      <td>{b, C, P}</td>\n",
       "      <td>[A, A, A]</td>\n",
       "    </tr>\n",
       "    <tr>\n",
       "      <th>2</th>\n",
       "      <td>Tanja</td>\n",
       "      <td>28</td>\n",
       "      <td>20</td>\n",
       "      <td>14686</td>\n",
       "      <td>Bremen</td>\n",
       "      <td>ighxfpNOR6</td>\n",
       "      <td>{U, u, z}</td>\n",
       "      <td>[]</td>\n",
       "    </tr>\n",
       "    <tr>\n",
       "      <th>3</th>\n",
       "      <td>Marko</td>\n",
       "      <td>34</td>\n",
       "      <td>30</td>\n",
       "      <td>83425</td>\n",
       "      <td>&lt;NA&gt;</td>\n",
       "      <td>DAVXiÜOYVs</td>\n",
       "      <td>{V, N, k, z}</td>\n",
       "      <td>[A, B, C]</td>\n",
       "    </tr>\n",
       "    <tr>\n",
       "      <th>4</th>\n",
       "      <td>Elli</td>\n",
       "      <td>28</td>\n",
       "      <td>20</td>\n",
       "      <td>37741</td>\n",
       "      <td>Berlin</td>\n",
       "      <td>GlrdjitN</td>\n",
       "      <td>{m, h}</td>\n",
       "      <td>[b, b, a, b]</td>\n",
       "    </tr>\n",
       "    <tr>\n",
       "      <th>...</th>\n",
       "      <td>...</td>\n",
       "      <td>...</td>\n",
       "      <td>...</td>\n",
       "      <td>...</td>\n",
       "      <td>...</td>\n",
       "      <td>...</td>\n",
       "      <td>...</td>\n",
       "      <td>...</td>\n",
       "    </tr>\n",
       "    <tr>\n",
       "      <th>995</th>\n",
       "      <td>Christina</td>\n",
       "      <td>41</td>\n",
       "      <td>40</td>\n",
       "      <td>54858</td>\n",
       "      <td>Bremen</td>\n",
       "      <td>xXpe1FwE</td>\n",
       "      <td>{L, F, D, C, T}</td>\n",
       "      <td>[A, A, A]</td>\n",
       "    </tr>\n",
       "    <tr>\n",
       "      <th>996</th>\n",
       "      <td>Walter</td>\n",
       "      <td>33</td>\n",
       "      <td>30</td>\n",
       "      <td>27094</td>\n",
       "      <td>Bremen</td>\n",
       "      <td>4BlOVSzG</td>\n",
       "      <td>{Q, W}</td>\n",
       "      <td>[A, B, C, C]</td>\n",
       "    </tr>\n",
       "    <tr>\n",
       "      <th>997</th>\n",
       "      <td>Elena</td>\n",
       "      <td>30</td>\n",
       "      <td>30</td>\n",
       "      <td>65212</td>\n",
       "      <td>&lt;NA&gt;</td>\n",
       "      <td>vnaÜN</td>\n",
       "      <td>{v, N, s, D}</td>\n",
       "      <td>[A, B, C]</td>\n",
       "    </tr>\n",
       "    <tr>\n",
       "      <th>998</th>\n",
       "      <td>Helene</td>\n",
       "      <td>24</td>\n",
       "      <td>20</td>\n",
       "      <td>&lt;NA&gt;</td>\n",
       "      <td>Berlin</td>\n",
       "      <td>tIuToS</td>\n",
       "      <td>{3, u}</td>\n",
       "      <td>[A, C, C, B]</td>\n",
       "    </tr>\n",
       "    <tr>\n",
       "      <th>999</th>\n",
       "      <td>Emily</td>\n",
       "      <td>33</td>\n",
       "      <td>30</td>\n",
       "      <td>99158</td>\n",
       "      <td>Berlin</td>\n",
       "      <td>9eaPSP6</td>\n",
       "      <td>{Q, f}</td>\n",
       "      <td>[c, b, a]</td>\n",
       "    </tr>\n",
       "  </tbody>\n",
       "</table>\n",
       "<p>1000 rows × 8 columns</p>\n",
       "</div>"
      ],
      "text/plain": [
       "    first_name  age  age_class  postal_code birthplace      secret   \n",
       "0    Elisabeth   29         20        16124     Bremen       Ai1au  \\\n",
       "1         Kira   28         20        78792     Berlin    oCoiw2or   \n",
       "2        Tanja   28         20        14686     Bremen  ighxfpNOR6   \n",
       "3        Marko   34         30        83425       <NA>  DAVXiÜOYVs   \n",
       "4         Elli   28         20        37741     Berlin    GlrdjitN   \n",
       "..         ...  ...        ...          ...        ...         ...   \n",
       "995  Christina   41         40        54858     Bremen    xXpe1FwE   \n",
       "996     Walter   33         30        27094     Bremen    4BlOVSzG   \n",
       "997      Elena   30         30        65212       <NA>       vnaÜN   \n",
       "998     Helene   24         20         <NA>     Berlin      tIuToS   \n",
       "999      Emily   33         30        99158     Berlin     9eaPSP6   \n",
       "\n",
       "            features       history  \n",
       "0    {e, s, m, o, t}  [A, C, C, B]  \n",
       "1          {b, C, P}     [A, A, A]  \n",
       "2          {U, u, z}            []  \n",
       "3       {V, N, k, z}     [A, B, C]  \n",
       "4             {m, h}  [b, b, a, b]  \n",
       "..               ...           ...  \n",
       "995  {L, F, D, C, T}     [A, A, A]  \n",
       "996           {Q, W}  [A, B, C, C]  \n",
       "997     {v, N, s, D}     [A, B, C]  \n",
       "998           {3, u}  [A, C, C, B]  \n",
       "999           {Q, f}     [c, b, a]  \n",
       "\n",
       "[1000 rows x 8 columns]"
      ]
     },
     "execution_count": 7,
     "metadata": {},
     "output_type": "execute_result"
    }
   ],
   "source": [
    "df = pak.reset_index(df)\n",
    "df"
   ]
  },
  {
   "cell_type": "markdown",
   "metadata": {},
   "source": [
    "### drop_multiindex()"
   ]
  },
  {
   "cell_type": "code",
   "execution_count": 8,
   "metadata": {
    "execution": {
     "iopub.execute_input": "2023-04-10T19:43:03.652888Z",
     "iopub.status.busy": "2023-04-10T19:43:03.651942Z",
     "iopub.status.idle": "2023-04-10T19:43:03.689866Z",
     "shell.execute_reply": "2023-04-10T19:43:03.687723Z",
     "shell.execute_reply.started": "2023-04-10T19:43:03.652853Z"
    },
    "tags": []
   },
   "outputs": [
    {
     "data": {
      "text/plain": [
       "\u001b[0;31mSignature:\u001b[0m \u001b[0mpak\u001b[0m\u001b[0;34m.\u001b[0m\u001b[0mdrop_multiindex\u001b[0m\u001b[0;34m(\u001b[0m\u001b[0mdf\u001b[0m\u001b[0;34m,\u001b[0m \u001b[0mverbose\u001b[0m\u001b[0;34m=\u001b[0m\u001b[0;32mNone\u001b[0m\u001b[0;34m)\u001b[0m\u001b[0;34m\u001b[0m\u001b[0;34m\u001b[0m\u001b[0m\n",
       "\u001b[0;31mDocstring:\u001b[0m\n",
       "Converts any MultiIndex to normal columns and resets the index. \n",
       "Works with MultiIndex in Series or DataFrames, in rows and in columns.\n",
       "\u001b[0;31mFile:\u001b[0m      ~/Data_Linux/Dropbox/31_Projekte/01_Python/git/pandasklar/src/pandasklar/pandas.py\n",
       "\u001b[0;31mType:\u001b[0m      function\n"
      ]
     },
     "metadata": {},
     "output_type": "display_data"
    }
   ],
   "source": [
    "?pak.drop_multiindex"
   ]
  },
  {
   "cell_type": "markdown",
   "metadata": {},
   "source": [
    "## === Rows ==="
   ]
  },
  {
   "cell_type": "markdown",
   "metadata": {},
   "source": [
    "### drop_rows()"
   ]
  },
  {
   "cell_type": "code",
   "execution_count": 9,
   "metadata": {
    "execution": {
     "iopub.execute_input": "2023-04-10T19:43:03.698259Z",
     "iopub.status.busy": "2023-04-10T19:43:03.695037Z",
     "iopub.status.idle": "2023-04-10T19:43:03.734830Z",
     "shell.execute_reply": "2023-04-10T19:43:03.734081Z",
     "shell.execute_reply.started": "2023-04-10T19:43:03.698219Z"
    }
   },
   "outputs": [
    {
     "data": {
      "text/plain": [
       "\u001b[0;31mSignature:\u001b[0m \u001b[0mpak\u001b[0m\u001b[0;34m.\u001b[0m\u001b[0mdrop_rows\u001b[0m\u001b[0;34m(\u001b[0m\u001b[0mdf\u001b[0m\u001b[0;34m,\u001b[0m \u001b[0mmask\u001b[0m\u001b[0;34m,\u001b[0m \u001b[0mverbose\u001b[0m\u001b[0;34m=\u001b[0m\u001b[0;32mNone\u001b[0m\u001b[0;34m)\u001b[0m\u001b[0;34m\u001b[0m\u001b[0;34m\u001b[0m\u001b[0m\n",
       "\u001b[0;31mDocstring:\u001b[0m\n",
       "Drops rows identified by a binary mask.\n",
       "* verbose: True if you want to print how many rows are droped.\n",
       "(If you want to delete the rows to a trash, use move_rows.)\n",
       "\u001b[0;31mFile:\u001b[0m      ~/Data_Linux/Dropbox/31_Projekte/01_Python/git/pandasklar/src/pandasklar/pandas.py\n",
       "\u001b[0;31mType:\u001b[0m      function\n"
      ]
     },
     "metadata": {},
     "output_type": "display_data"
    }
   ],
   "source": [
    "?pak.drop_rows"
   ]
  },
  {
   "cell_type": "code",
   "execution_count": 10,
   "metadata": {
    "execution": {
     "iopub.execute_input": "2023-04-10T19:43:03.739636Z",
     "iopub.status.busy": "2023-04-10T19:43:03.739319Z",
     "iopub.status.idle": "2023-04-10T19:43:03.808885Z",
     "shell.execute_reply": "2023-04-10T19:43:03.807433Z",
     "shell.execute_reply.started": "2023-04-10T19:43:03.739607Z"
    }
   },
   "outputs": [
    {
     "data": {
      "text/html": [
       "<div>\n",
       "<style scoped>\n",
       "    .dataframe tbody tr th:only-of-type {\n",
       "        vertical-align: middle;\n",
       "    }\n",
       "\n",
       "    .dataframe tbody tr th {\n",
       "        vertical-align: top;\n",
       "    }\n",
       "\n",
       "    .dataframe thead th {\n",
       "        text-align: right;\n",
       "    }\n",
       "</style>\n",
       "<table border=\"1\" class=\"dataframe\">\n",
       "  <thead>\n",
       "    <tr style=\"text-align: right;\">\n",
       "      <th></th>\n",
       "      <th>first_name</th>\n",
       "      <th>age</th>\n",
       "      <th>age_class</th>\n",
       "      <th>postal_code</th>\n",
       "      <th>birthplace</th>\n",
       "      <th>secret</th>\n",
       "      <th>features</th>\n",
       "      <th>history</th>\n",
       "    </tr>\n",
       "  </thead>\n",
       "  <tbody>\n",
       "    <tr>\n",
       "      <th>407</th>\n",
       "      <td>Anja</td>\n",
       "      <td>23</td>\n",
       "      <td>20</td>\n",
       "      <td>27989</td>\n",
       "      <td>&lt;NA&gt;</td>\n",
       "      <td>3A75fe9</td>\n",
       "      <td>{c, 1}</td>\n",
       "      <td>[b, b, a, b]</td>\n",
       "    </tr>\n",
       "    <tr>\n",
       "      <th>455</th>\n",
       "      <td>Anja</td>\n",
       "      <td>38</td>\n",
       "      <td>30</td>\n",
       "      <td>96842</td>\n",
       "      <td>Berlin</td>\n",
       "      <td>CnOaYuüJh</td>\n",
       "      <td>{D, d, a}</td>\n",
       "      <td>[]</td>\n",
       "    </tr>\n",
       "    <tr>\n",
       "      <th>634</th>\n",
       "      <td>Anja</td>\n",
       "      <td>24</td>\n",
       "      <td>20</td>\n",
       "      <td>13510</td>\n",
       "      <td>Berlin</td>\n",
       "      <td>OadVql3Ur</td>\n",
       "      <td>{e, V, D}</td>\n",
       "      <td>[]</td>\n",
       "    </tr>\n",
       "    <tr>\n",
       "      <th>764</th>\n",
       "      <td>Anja</td>\n",
       "      <td>25</td>\n",
       "      <td>20</td>\n",
       "      <td>37536</td>\n",
       "      <td>Berlin</td>\n",
       "      <td>aF9Ä6cJe</td>\n",
       "      <td>{g, 5, i, V, j}</td>\n",
       "      <td>[A, B, C]</td>\n",
       "    </tr>\n",
       "    <tr>\n",
       "      <th>810</th>\n",
       "      <td>Anja</td>\n",
       "      <td>35</td>\n",
       "      <td>30</td>\n",
       "      <td>21075</td>\n",
       "      <td>Berlin</td>\n",
       "      <td>ewraxBSf89</td>\n",
       "      <td>{g, U}</td>\n",
       "      <td>[c, b, a]</td>\n",
       "    </tr>\n",
       "    <tr>\n",
       "      <th>989</th>\n",
       "      <td>Anja</td>\n",
       "      <td>37</td>\n",
       "      <td>30</td>\n",
       "      <td>98954</td>\n",
       "      <td>Berlin</td>\n",
       "      <td>5IFGg</td>\n",
       "      <td>{r}</td>\n",
       "      <td>[]</td>\n",
       "    </tr>\n",
       "  </tbody>\n",
       "</table>\n",
       "</div>"
      ],
      "text/plain": [
       "    first_name  age  age_class  postal_code birthplace      secret   \n",
       "407       Anja   23         20        27989       <NA>     3A75fe9  \\\n",
       "455       Anja   38         30        96842     Berlin   CnOaYuüJh   \n",
       "634       Anja   24         20        13510     Berlin   OadVql3Ur   \n",
       "764       Anja   25         20        37536     Berlin    aF9Ä6cJe   \n",
       "810       Anja   35         30        21075     Berlin  ewraxBSf89   \n",
       "989       Anja   37         30        98954     Berlin       5IFGg   \n",
       "\n",
       "            features       history  \n",
       "407           {c, 1}  [b, b, a, b]  \n",
       "455        {D, d, a}            []  \n",
       "634        {e, V, D}            []  \n",
       "764  {g, 5, i, V, j}     [A, B, C]  \n",
       "810           {g, U}     [c, b, a]  \n",
       "989              {r}            []  "
      ]
     },
     "execution_count": 10,
     "metadata": {},
     "output_type": "execute_result"
    }
   ],
   "source": [
    "# create mask: most frequent first_name\n",
    "mask = df.first_name == pak.most_freq_elt(df.first_name)\n",
    "df[mask]"
   ]
  },
  {
   "cell_type": "code",
   "execution_count": 11,
   "metadata": {
    "execution": {
     "iopub.execute_input": "2023-04-10T19:43:03.814982Z",
     "iopub.status.busy": "2023-04-10T19:43:03.814509Z",
     "iopub.status.idle": "2023-04-10T19:43:03.870074Z",
     "shell.execute_reply": "2023-04-10T19:43:03.869330Z",
     "shell.execute_reply.started": "2023-04-10T19:43:03.814952Z"
    }
   },
   "outputs": [
    {
     "name": "stdout",
     "output_type": "stream",
     "text": [
      "Delete 6 rows from 1000\n"
     ]
    }
   ],
   "source": [
    "# just delete them\n",
    "df = pak.drop_rows(df,mask)"
   ]
  },
  {
   "cell_type": "markdown",
   "metadata": {},
   "source": [
    "### move_rows()"
   ]
  },
  {
   "cell_type": "code",
   "execution_count": 12,
   "metadata": {
    "execution": {
     "iopub.execute_input": "2023-04-10T19:43:03.871364Z",
     "iopub.status.busy": "2023-04-10T19:43:03.870979Z",
     "iopub.status.idle": "2023-04-10T19:43:03.918229Z",
     "shell.execute_reply": "2023-04-10T19:43:03.917218Z",
     "shell.execute_reply.started": "2023-04-10T19:43:03.871340Z"
    }
   },
   "outputs": [
    {
     "data": {
      "text/plain": [
       "\u001b[0;31mSignature:\u001b[0m\n",
       "\u001b[0mpak\u001b[0m\u001b[0;34m.\u001b[0m\u001b[0mmove_rows\u001b[0m\u001b[0;34m(\u001b[0m\u001b[0;34m\u001b[0m\n",
       "\u001b[0;34m\u001b[0m    \u001b[0mdf_from\u001b[0m\u001b[0;34m,\u001b[0m\u001b[0;34m\u001b[0m\n",
       "\u001b[0;34m\u001b[0m    \u001b[0mdf_to\u001b[0m\u001b[0;34m=\u001b[0m\u001b[0;32mNone\u001b[0m\u001b[0;34m,\u001b[0m\u001b[0;34m\u001b[0m\n",
       "\u001b[0;34m\u001b[0m    \u001b[0mmask\u001b[0m\u001b[0;34m=\u001b[0m\u001b[0;32mNone\u001b[0m\u001b[0;34m,\u001b[0m\u001b[0;34m\u001b[0m\n",
       "\u001b[0;34m\u001b[0m    \u001b[0mmsg\u001b[0m\u001b[0;34m=\u001b[0m\u001b[0;32mNone\u001b[0m\u001b[0;34m,\u001b[0m\u001b[0;34m\u001b[0m\n",
       "\u001b[0;34m\u001b[0m    \u001b[0mmsgcol\u001b[0m\u001b[0;34m=\u001b[0m\u001b[0;34m'msg'\u001b[0m\u001b[0;34m,\u001b[0m\u001b[0;34m\u001b[0m\n",
       "\u001b[0;34m\u001b[0m    \u001b[0mverbose\u001b[0m\u001b[0;34m=\u001b[0m\u001b[0;32mNone\u001b[0m\u001b[0;34m,\u001b[0m\u001b[0;34m\u001b[0m\n",
       "\u001b[0;34m\u001b[0m    \u001b[0mzähler\u001b[0m\u001b[0;34m=\u001b[0m\u001b[0;34m[\u001b[0m\u001b[0;36m0\u001b[0m\u001b[0;34m]\u001b[0m\u001b[0;34m,\u001b[0m\u001b[0;34m\u001b[0m\n",
       "\u001b[0;34m\u001b[0m\u001b[0;34m)\u001b[0m\u001b[0;34m\u001b[0m\u001b[0;34m\u001b[0m\u001b[0m\n",
       "\u001b[0;31mDocstring:\u001b[0m\n",
       "Moves rows identified by a binary mask from one dataframe to another (e.g. into a trash).\n",
       "Returns two DataFrames.\n",
       "The target dataframe gets an additional message column by standard (to identify why the rows were moved).\n",
       "If you don't give a message, move_rows will generate one: just the count of usage of the function.\n",
       " \n",
       "* df_from:   Origin DataFrame\n",
       "* df_to:     Target DataFrame or None\n",
       "* mask:      Binary mask, identifies the rows to be deleted\n",
       "* msg:       All moved rows are marked with this message, it's written in the message column of the target dataframe.\n",
       "             msg='' creates a autogenerated message.\n",
       "* msgcol:    Name of the message column. Set msg or msgcol to None if no message wanted.\n",
       "* verbose:   True if you want to print how many rows are moved.\n",
       "\n",
       "Examples:\n",
       "df, df_trash = move_rows( df, mask )           # move rows away (and create a new trash). \n",
       "                                               # The second argument is detected as mask, not as df_to.\n",
       "df, df_trash = move_rows( df, df_trash, mask ) # move rows away (into the existing trash)   \n",
       "\u001b[0;31mFile:\u001b[0m      ~/Data_Linux/Dropbox/31_Projekte/01_Python/git/pandasklar/src/pandasklar/pandas.py\n",
       "\u001b[0;31mType:\u001b[0m      function\n"
      ]
     },
     "metadata": {},
     "output_type": "display_data"
    }
   ],
   "source": [
    "?pak.move_rows"
   ]
  },
  {
   "cell_type": "code",
   "execution_count": 13,
   "metadata": {
    "execution": {
     "iopub.execute_input": "2023-04-10T19:43:03.919968Z",
     "iopub.status.busy": "2023-04-10T19:43:03.919559Z",
     "iopub.status.idle": "2023-04-10T19:43:04.200488Z",
     "shell.execute_reply": "2023-04-10T19:43:04.199451Z",
     "shell.execute_reply.started": "2023-04-10T19:43:03.919927Z"
    },
    "tags": []
   },
   "outputs": [
    {
     "data": {
      "text/html": [
       "<div>\n",
       "<style scoped>\n",
       "    .dataframe tbody tr th:only-of-type {\n",
       "        vertical-align: middle;\n",
       "    }\n",
       "\n",
       "    .dataframe tbody tr th {\n",
       "        vertical-align: top;\n",
       "    }\n",
       "\n",
       "    .dataframe thead th {\n",
       "        text-align: right;\n",
       "    }\n",
       "</style>\n",
       "<table border=\"1\" class=\"dataframe\">\n",
       "  <thead>\n",
       "    <tr style=\"text-align: right;\">\n",
       "      <th></th>\n",
       "      <th>first_name</th>\n",
       "      <th>age</th>\n",
       "      <th>secret</th>\n",
       "    </tr>\n",
       "  </thead>\n",
       "  <tbody>\n",
       "    <tr>\n",
       "      <th>0</th>\n",
       "      <td>Tom</td>\n",
       "      <td>32</td>\n",
       "      <td>AÄQmFJe</td>\n",
       "    </tr>\n",
       "    <tr>\n",
       "      <th>18</th>\n",
       "      <td>Erika</td>\n",
       "      <td>24</td>\n",
       "      <td>üÄOWü</td>\n",
       "    </tr>\n",
       "    <tr>\n",
       "      <th>23</th>\n",
       "      <td>Karl</td>\n",
       "      <td>42</td>\n",
       "      <td>nTrZo</td>\n",
       "    </tr>\n",
       "    <tr>\n",
       "      <th>26</th>\n",
       "      <td>Melanie</td>\n",
       "      <td>34</td>\n",
       "      <td>pjFoüövmHx</td>\n",
       "    </tr>\n",
       "    <tr>\n",
       "      <th>105</th>\n",
       "      <td>Jessica</td>\n",
       "      <td>20</td>\n",
       "      <td>ENQP0b</td>\n",
       "    </tr>\n",
       "    <tr>\n",
       "      <th>237</th>\n",
       "      <td>Ingrid</td>\n",
       "      <td>40</td>\n",
       "      <td>GL2obu3</td>\n",
       "    </tr>\n",
       "    <tr>\n",
       "      <th>957</th>\n",
       "      <td>Andreas</td>\n",
       "      <td>26</td>\n",
       "      <td>0Goq5anne</td>\n",
       "    </tr>\n",
       "    <tr>\n",
       "      <th>999</th>\n",
       "      <td>Malte</td>\n",
       "      <td>27</td>\n",
       "      <td>6Äap8Ku</td>\n",
       "    </tr>\n",
       "  </tbody>\n",
       "</table>\n",
       "</div>"
      ],
      "text/plain": [
       "    first_name  age      secret\n",
       "0          Tom   32     AÄQmFJe\n",
       "18       Erika   24       üÄOWü\n",
       "23        Karl   42       nTrZo\n",
       "26     Melanie   34  pjFoüövmHx\n",
       "105    Jessica   20      ENQP0b\n",
       "237     Ingrid   40     GL2obu3\n",
       "957    Andreas   26   0Goq5anne\n",
       "999      Malte   27     6Äap8Ku"
      ]
     },
     "execution_count": 13,
     "metadata": {},
     "output_type": "execute_result"
    }
   ],
   "source": [
    "# New test data\n",
    "df = pak.people(1000)\n",
    "df = pak.drop_cols(df,['age_class','postal_code','birthplace','features','history'])\n",
    "df['first_name'] = pak.change_datatype(df.first_name,'object', verbose=False)\n",
    "df['age']        = pak.change_datatype(df.age,       'int64',  verbose=False)\n",
    "df_orig = df.copy()\n",
    "pak.sample(df)"
   ]
  },
  {
   "cell_type": "code",
   "execution_count": 14,
   "metadata": {
    "execution": {
     "iopub.execute_input": "2023-04-10T19:43:04.202037Z",
     "iopub.status.busy": "2023-04-10T19:43:04.201784Z",
     "iopub.status.idle": "2023-04-10T19:43:04.246558Z",
     "shell.execute_reply": "2023-04-10T19:43:04.245367Z",
     "shell.execute_reply.started": "2023-04-10T19:43:04.202016Z"
    },
    "tags": []
   },
   "outputs": [
    {
     "data": {
      "text/html": [
       "<div>\n",
       "<style scoped>\n",
       "    .dataframe tbody tr th:only-of-type {\n",
       "        vertical-align: middle;\n",
       "    }\n",
       "\n",
       "    .dataframe tbody tr th {\n",
       "        vertical-align: top;\n",
       "    }\n",
       "\n",
       "    .dataframe thead th {\n",
       "        text-align: right;\n",
       "    }\n",
       "</style>\n",
       "<table border=\"1\" class=\"dataframe\">\n",
       "  <thead>\n",
       "    <tr style=\"text-align: right;\">\n",
       "      <th></th>\n",
       "      <th>first_name</th>\n",
       "      <th>age</th>\n",
       "      <th>secret</th>\n",
       "    </tr>\n",
       "  </thead>\n",
       "  <tbody>\n",
       "    <tr>\n",
       "      <th>237</th>\n",
       "      <td>Ingrid</td>\n",
       "      <td>40</td>\n",
       "      <td>GL2obu3</td>\n",
       "    </tr>\n",
       "    <tr>\n",
       "      <th>620</th>\n",
       "      <td>Ingrid</td>\n",
       "      <td>41</td>\n",
       "      <td>W42ZuhavÄ</td>\n",
       "    </tr>\n",
       "    <tr>\n",
       "      <th>675</th>\n",
       "      <td>Ingrid</td>\n",
       "      <td>24</td>\n",
       "      <td>BZÜGxvLmX</td>\n",
       "    </tr>\n",
       "    <tr>\n",
       "      <th>708</th>\n",
       "      <td>Ingrid</td>\n",
       "      <td>38</td>\n",
       "      <td>9Ow6mw4iu</td>\n",
       "    </tr>\n",
       "    <tr>\n",
       "      <th>720</th>\n",
       "      <td>Ingrid</td>\n",
       "      <td>35</td>\n",
       "      <td>oCNdNKOaP</td>\n",
       "    </tr>\n",
       "    <tr>\n",
       "      <th>773</th>\n",
       "      <td>Ingrid</td>\n",
       "      <td>25</td>\n",
       "      <td>vaZPXÜGh</td>\n",
       "    </tr>\n",
       "  </tbody>\n",
       "</table>\n",
       "</div>"
      ],
      "text/plain": [
       "    first_name  age     secret\n",
       "237     Ingrid   40    GL2obu3\n",
       "620     Ingrid   41  W42ZuhavÄ\n",
       "675     Ingrid   24  BZÜGxvLmX\n",
       "708     Ingrid   38  9Ow6mw4iu\n",
       "720     Ingrid   35  oCNdNKOaP\n",
       "773     Ingrid   25   vaZPXÜGh"
      ]
     },
     "execution_count": 14,
     "metadata": {},
     "output_type": "execute_result"
    }
   ],
   "source": [
    "# create mask: most frequent first_name\n",
    "mask = df.first_name == pak.most_freq_elt(df.first_name)\n",
    "df[mask]"
   ]
  },
  {
   "cell_type": "code",
   "execution_count": 15,
   "metadata": {
    "execution": {
     "iopub.execute_input": "2023-04-10T19:43:04.248513Z",
     "iopub.status.busy": "2023-04-10T19:43:04.247964Z",
     "iopub.status.idle": "2023-04-10T19:43:04.285715Z",
     "shell.execute_reply": "2023-04-10T19:43:04.285090Z",
     "shell.execute_reply.started": "2023-04-10T19:43:04.248484Z"
    },
    "tags": []
   },
   "outputs": [
    {
     "name": "stdout",
     "output_type": "stream",
     "text": [
      "Move 6 rows from 1000\n"
     ]
    }
   ],
   "source": [
    "# move them away (and create a new trash)\n",
    "df, df_trash = pak.move_rows( df, mask)"
   ]
  },
  {
   "cell_type": "code",
   "execution_count": 16,
   "metadata": {
    "execution": {
     "iopub.execute_input": "2023-04-10T19:43:04.289125Z",
     "iopub.status.busy": "2023-04-10T19:43:04.288782Z",
     "iopub.status.idle": "2023-04-10T19:43:04.324231Z",
     "shell.execute_reply": "2023-04-10T19:43:04.323522Z",
     "shell.execute_reply.started": "2023-04-10T19:43:04.289102Z"
    },
    "tags": []
   },
   "outputs": [
    {
     "name": "stdout",
     "output_type": "stream",
     "text": [
      "count rows: 994  +  6\n"
     ]
    }
   ],
   "source": [
    "print('count rows:', df.shape[0], ' + ', df_trash.shape[0])"
   ]
  },
  {
   "cell_type": "code",
   "execution_count": 17,
   "metadata": {
    "execution": {
     "iopub.execute_input": "2023-04-10T19:43:04.332205Z",
     "iopub.status.busy": "2023-04-10T19:43:04.328684Z",
     "iopub.status.idle": "2023-04-10T19:43:04.366380Z",
     "shell.execute_reply": "2023-04-10T19:43:04.365781Z",
     "shell.execute_reply.started": "2023-04-10T19:43:04.332148Z"
    },
    "tags": []
   },
   "outputs": [
    {
     "data": {
      "text/html": [
       "<div>\n",
       "<style scoped>\n",
       "    .dataframe tbody tr th:only-of-type {\n",
       "        vertical-align: middle;\n",
       "    }\n",
       "\n",
       "    .dataframe tbody tr th {\n",
       "        vertical-align: top;\n",
       "    }\n",
       "\n",
       "    .dataframe thead th {\n",
       "        text-align: right;\n",
       "    }\n",
       "</style>\n",
       "<table border=\"1\" class=\"dataframe\">\n",
       "  <thead>\n",
       "    <tr style=\"text-align: right;\">\n",
       "      <th></th>\n",
       "      <th>first_name</th>\n",
       "      <th>age</th>\n",
       "      <th>secret</th>\n",
       "    </tr>\n",
       "  </thead>\n",
       "  <tbody>\n",
       "    <tr>\n",
       "      <th>237</th>\n",
       "      <td>Ingrid</td>\n",
       "      <td>40</td>\n",
       "      <td>GL2obu3</td>\n",
       "    </tr>\n",
       "    <tr>\n",
       "      <th>620</th>\n",
       "      <td>Ingrid</td>\n",
       "      <td>41</td>\n",
       "      <td>W42ZuhavÄ</td>\n",
       "    </tr>\n",
       "    <tr>\n",
       "      <th>675</th>\n",
       "      <td>Ingrid</td>\n",
       "      <td>24</td>\n",
       "      <td>BZÜGxvLmX</td>\n",
       "    </tr>\n",
       "    <tr>\n",
       "      <th>708</th>\n",
       "      <td>Ingrid</td>\n",
       "      <td>38</td>\n",
       "      <td>9Ow6mw4iu</td>\n",
       "    </tr>\n",
       "    <tr>\n",
       "      <th>720</th>\n",
       "      <td>Ingrid</td>\n",
       "      <td>35</td>\n",
       "      <td>oCNdNKOaP</td>\n",
       "    </tr>\n",
       "    <tr>\n",
       "      <th>773</th>\n",
       "      <td>Ingrid</td>\n",
       "      <td>25</td>\n",
       "      <td>vaZPXÜGh</td>\n",
       "    </tr>\n",
       "  </tbody>\n",
       "</table>\n",
       "</div>"
      ],
      "text/plain": [
       "    first_name  age     secret\n",
       "237     Ingrid   40    GL2obu3\n",
       "620     Ingrid   41  W42ZuhavÄ\n",
       "675     Ingrid   24  BZÜGxvLmX\n",
       "708     Ingrid   38  9Ow6mw4iu\n",
       "720     Ingrid   35  oCNdNKOaP\n",
       "773     Ingrid   25   vaZPXÜGh"
      ]
     },
     "execution_count": 17,
     "metadata": {},
     "output_type": "execute_result"
    }
   ],
   "source": [
    "#df\n",
    "df_trash"
   ]
  },
  {
   "cell_type": "markdown",
   "metadata": {},
   "source": [
    "### add_rows()"
   ]
  },
  {
   "cell_type": "code",
   "execution_count": 18,
   "metadata": {
    "execution": {
     "iopub.execute_input": "2023-04-10T19:43:04.371896Z",
     "iopub.status.busy": "2023-04-10T19:43:04.369513Z",
     "iopub.status.idle": "2023-04-10T19:43:04.401250Z",
     "shell.execute_reply": "2023-04-10T19:43:04.399616Z",
     "shell.execute_reply.started": "2023-04-10T19:43:04.371858Z"
    }
   },
   "outputs": [
    {
     "data": {
      "text/plain": [
       "\u001b[0;31mSignature:\u001b[0m\n",
       "\u001b[0mpak\u001b[0m\u001b[0;34m.\u001b[0m\u001b[0madd_rows\u001b[0m\u001b[0;34m(\u001b[0m\u001b[0;34m\u001b[0m\n",
       "\u001b[0;34m\u001b[0m    \u001b[0mdf_main\u001b[0m\u001b[0;34m,\u001b[0m\u001b[0;34m\u001b[0m\n",
       "\u001b[0;34m\u001b[0m    \u001b[0mdf_add\u001b[0m\u001b[0;34m,\u001b[0m\u001b[0;34m\u001b[0m\n",
       "\u001b[0;34m\u001b[0m    \u001b[0monly_new\u001b[0m\u001b[0;34m=\u001b[0m\u001b[0;32mNone\u001b[0m\u001b[0;34m,\u001b[0m\u001b[0;34m\u001b[0m\n",
       "\u001b[0;34m\u001b[0m    \u001b[0mreindex\u001b[0m\u001b[0;34m=\u001b[0m\u001b[0;32mTrue\u001b[0m\u001b[0;34m,\u001b[0m\u001b[0;34m\u001b[0m\n",
       "\u001b[0;34m\u001b[0m    \u001b[0massert_subset\u001b[0m\u001b[0;34m=\u001b[0m\u001b[0;32mFalse\u001b[0m\u001b[0;34m,\u001b[0m\u001b[0;34m\u001b[0m\n",
       "\u001b[0;34m\u001b[0m    \u001b[0mverbose\u001b[0m\u001b[0;34m=\u001b[0m\u001b[0;32mNone\u001b[0m\u001b[0;34m,\u001b[0m\u001b[0;34m\u001b[0m\n",
       "\u001b[0;34m\u001b[0m\u001b[0;34m)\u001b[0m\u001b[0;34m\u001b[0m\u001b[0;34m\u001b[0m\u001b[0m\n",
       "\u001b[0;31mDocstring:\u001b[0m\n",
       "Like concat, with additional features only_new and verbose.\n",
       "* df_main:       The new rows are added to the end of this dataframe.\n",
       "* df_add:        Rows to add. The dtypes are adapted to those of df_main.\n",
       "                 Series or list are also accepted for appending.\n",
       "* only_new:      Avoid duplicates by setting this to a list of column names.\n",
       "                 This combination must contain new content.\n",
       "                 A single column name as string works the same way.\n",
       "                 Or set only_new=True, this will avoid duplicate row indexes.\n",
       "* reindex:       Will the result get a fresh index without dups?\n",
       "* assert_subset: Check if all columns in df_add exist in df_main already?\n",
       "* verbose:       Print status messages how many rows affected\n",
       "\u001b[0;31mFile:\u001b[0m      ~/Data_Linux/Dropbox/31_Projekte/01_Python/git/pandasklar/src/pandasklar/pandas.py\n",
       "\u001b[0;31mType:\u001b[0m      function\n"
      ]
     },
     "metadata": {},
     "output_type": "display_data"
    }
   ],
   "source": [
    "?pak.add_rows"
   ]
  },
  {
   "cell_type": "code",
   "execution_count": 19,
   "metadata": {
    "execution": {
     "iopub.execute_input": "2023-04-10T19:43:04.403394Z",
     "iopub.status.busy": "2023-04-10T19:43:04.402924Z",
     "iopub.status.idle": "2023-04-10T19:43:04.460235Z",
     "shell.execute_reply": "2023-04-10T19:43:04.458476Z",
     "shell.execute_reply.started": "2023-04-10T19:43:04.403364Z"
    }
   },
   "outputs": [
    {
     "name": "stdout",
     "output_type": "stream",
     "text": [
      "change_datatype \n",
      "first_name           --> pd.string \n",
      "age                  --> pd.Int8   \n",
      "change_datatype before: 147.8 KB after: 141.9 KB\n",
      "\n"
     ]
    }
   ],
   "source": [
    "# We will concat df and df_trash again and compare it with df_orig, the backup of df\n",
    "\n",
    "# get rid of the msg column\n",
    "df_trash     = pak.drop_cols(df_trash,'msg')       \n",
    "\n",
    "# optimize df, but not df_trash. \n",
    "# So the dtypes are different now\n",
    "df = pak.change_datatype(df)"
   ]
  },
  {
   "cell_type": "code",
   "execution_count": 20,
   "metadata": {
    "execution": {
     "iopub.execute_input": "2023-04-10T19:43:04.461430Z",
     "iopub.status.busy": "2023-04-10T19:43:04.461139Z",
     "iopub.status.idle": "2023-04-10T19:43:04.521480Z",
     "shell.execute_reply": "2023-04-10T19:43:04.519149Z",
     "shell.execute_reply.started": "2023-04-10T19:43:04.461402Z"
    }
   },
   "outputs": [
    {
     "name": "stdout",
     "output_type": "stream",
     "text": [
      "6 rows added, now a total of 1000\n"
     ]
    }
   ],
   "source": [
    "# recover to the state before move_rows\n",
    "df_recovered = pak.add_rows(df, df_trash)"
   ]
  },
  {
   "cell_type": "code",
   "execution_count": 21,
   "metadata": {
    "execution": {
     "iopub.execute_input": "2023-04-10T19:43:04.522567Z",
     "iopub.status.busy": "2023-04-10T19:43:04.522325Z",
     "iopub.status.idle": "2023-04-10T19:43:04.568669Z",
     "shell.execute_reply": "2023-04-10T19:43:04.567733Z",
     "shell.execute_reply.started": "2023-04-10T19:43:04.522547Z"
    }
   },
   "outputs": [],
   "source": [
    "#df_recovered"
   ]
  },
  {
   "cell_type": "code",
   "execution_count": 22,
   "metadata": {
    "execution": {
     "iopub.execute_input": "2023-04-10T19:43:04.569744Z",
     "iopub.status.busy": "2023-04-10T19:43:04.569483Z",
     "iopub.status.idle": "2023-04-10T19:43:04.616146Z",
     "shell.execute_reply": "2023-04-10T19:43:04.613074Z",
     "shell.execute_reply.started": "2023-04-10T19:43:04.569720Z"
    }
   },
   "outputs": [],
   "source": [
    "# check the datatypes \n",
    "#pak.analyse_cols(df_recovered)"
   ]
  },
  {
   "cell_type": "code",
   "execution_count": 23,
   "metadata": {
    "execution": {
     "iopub.execute_input": "2023-04-10T19:43:04.617797Z",
     "iopub.status.busy": "2023-04-10T19:43:04.617498Z",
     "iopub.status.idle": "2023-04-10T19:43:04.696300Z",
     "shell.execute_reply": "2023-04-10T19:43:04.695510Z",
     "shell.execute_reply.started": "2023-04-10T19:43:04.617769Z"
    }
   },
   "outputs": [
    {
     "data": {
      "text/html": [
       "<div>\n",
       "<style scoped>\n",
       "    .dataframe tbody tr th:only-of-type {\n",
       "        vertical-align: middle;\n",
       "    }\n",
       "\n",
       "    .dataframe tbody tr th {\n",
       "        vertical-align: top;\n",
       "    }\n",
       "\n",
       "    .dataframe thead th {\n",
       "        text-align: right;\n",
       "    }\n",
       "</style>\n",
       "<table border=\"1\" class=\"dataframe\">\n",
       "  <thead>\n",
       "    <tr style=\"text-align: right;\">\n",
       "      <th></th>\n",
       "      <th>name</th>\n",
       "      <th>dtype</th>\n",
       "      <th>nnan</th>\n",
       "      <th>content</th>\n",
       "      <th>sort</th>\n",
       "      <th>eq</th>\n",
       "    </tr>\n",
       "  </thead>\n",
       "  <tbody>\n",
       "    <tr>\n",
       "      <th>first_name</th>\n",
       "      <td>True</td>\n",
       "      <td>False</td>\n",
       "      <td>True</td>\n",
       "      <td>True</td>\n",
       "      <td>False</td>\n",
       "      <td>False</td>\n",
       "    </tr>\n",
       "    <tr>\n",
       "      <th>age</th>\n",
       "      <td>True</td>\n",
       "      <td>False</td>\n",
       "      <td>True</td>\n",
       "      <td>True</td>\n",
       "      <td>False</td>\n",
       "      <td>False</td>\n",
       "    </tr>\n",
       "    <tr>\n",
       "      <th>secret</th>\n",
       "      <td>True</td>\n",
       "      <td>True</td>\n",
       "      <td>True</td>\n",
       "      <td>True</td>\n",
       "      <td>False</td>\n",
       "      <td>False</td>\n",
       "    </tr>\n",
       "    <tr>\n",
       "      <th>(Total)</th>\n",
       "      <td>True</td>\n",
       "      <td>False</td>\n",
       "      <td>True</td>\n",
       "      <td>True</td>\n",
       "      <td>False</td>\n",
       "      <td>False</td>\n",
       "    </tr>\n",
       "  </tbody>\n",
       "</table>\n",
       "</div>"
      ],
      "text/plain": [
       "            name  dtype  nnan content   sort     eq\n",
       "first_name  True  False  True    True  False  False\n",
       "age         True  False  True    True  False  False\n",
       "secret      True   True  True    True  False  False\n",
       "(Total)     True  False  True    True  False  False"
      ]
     },
     "execution_count": 23,
     "metadata": {},
     "output_type": "execute_result"
    }
   ],
   "source": [
    "# The dataframes are equal, but sorted different\n",
    "# (see row: Total, cols: sort and eq)\n",
    "pak.compare_dataframes(df_orig, df_recovered)"
   ]
  },
  {
   "cell_type": "code",
   "execution_count": 24,
   "metadata": {
    "execution": {
     "iopub.execute_input": "2023-04-10T19:43:04.697389Z",
     "iopub.status.busy": "2023-04-10T19:43:04.697145Z",
     "iopub.status.idle": "2023-04-10T19:43:04.759197Z",
     "shell.execute_reply": "2023-04-10T19:43:04.758229Z",
     "shell.execute_reply.started": "2023-04-10T19:43:04.697365Z"
    }
   },
   "outputs": [
    {
     "name": "stdout",
     "output_type": "stream",
     "text": [
      "6 rows added, now a total of 1000\n"
     ]
    },
    {
     "data": {
      "text/html": [
       "<div>\n",
       "<style scoped>\n",
       "    .dataframe tbody tr th:only-of-type {\n",
       "        vertical-align: middle;\n",
       "    }\n",
       "\n",
       "    .dataframe tbody tr th {\n",
       "        vertical-align: top;\n",
       "    }\n",
       "\n",
       "    .dataframe thead th {\n",
       "        text-align: right;\n",
       "    }\n",
       "</style>\n",
       "<table border=\"1\" class=\"dataframe\">\n",
       "  <thead>\n",
       "    <tr style=\"text-align: right;\">\n",
       "      <th></th>\n",
       "      <th>name</th>\n",
       "      <th>dtype</th>\n",
       "      <th>nnan</th>\n",
       "      <th>content</th>\n",
       "      <th>sort</th>\n",
       "      <th>eq</th>\n",
       "    </tr>\n",
       "  </thead>\n",
       "  <tbody>\n",
       "    <tr>\n",
       "      <th>first_name</th>\n",
       "      <td>True</td>\n",
       "      <td>False</td>\n",
       "      <td>True</td>\n",
       "      <td>True</td>\n",
       "      <td>False</td>\n",
       "      <td>False</td>\n",
       "    </tr>\n",
       "    <tr>\n",
       "      <th>age</th>\n",
       "      <td>True</td>\n",
       "      <td>False</td>\n",
       "      <td>True</td>\n",
       "      <td>True</td>\n",
       "      <td>False</td>\n",
       "      <td>False</td>\n",
       "    </tr>\n",
       "    <tr>\n",
       "      <th>secret</th>\n",
       "      <td>True</td>\n",
       "      <td>True</td>\n",
       "      <td>True</td>\n",
       "      <td>True</td>\n",
       "      <td>False</td>\n",
       "      <td>False</td>\n",
       "    </tr>\n",
       "    <tr>\n",
       "      <th>(Total)</th>\n",
       "      <td>True</td>\n",
       "      <td>False</td>\n",
       "      <td>True</td>\n",
       "      <td>True</td>\n",
       "      <td>False</td>\n",
       "      <td>False</td>\n",
       "    </tr>\n",
       "  </tbody>\n",
       "</table>\n",
       "</div>"
      ],
      "text/plain": [
       "            name  dtype  nnan content   sort     eq\n",
       "first_name  True  False  True    True  False  False\n",
       "age         True  False  True    True  False  False\n",
       "secret      True   True  True    True  False  False\n",
       "(Total)     True  False  True    True  False  False"
      ]
     },
     "execution_count": 24,
     "metadata": {},
     "output_type": "execute_result"
    }
   ],
   "source": [
    "# if we do this with reindex=True, \n",
    "# the content keeps equal, \n",
    "# but the dataframes are not equal\n",
    "# (see row: Total, cols: content and eq)\n",
    "df_recovered = pak.add_rows(df, df_trash, reindex=True)\n",
    "pak.compare_dataframes(df_orig, df_recovered)"
   ]
  },
  {
   "cell_type": "markdown",
   "metadata": {},
   "source": [
    "#### add_rows() with only_new=[col1, col2]"
   ]
  },
  {
   "cell_type": "code",
   "execution_count": 25,
   "metadata": {
    "execution": {
     "iopub.execute_input": "2023-04-10T19:43:04.760844Z",
     "iopub.status.busy": "2023-04-10T19:43:04.760363Z",
     "iopub.status.idle": "2023-04-10T19:43:04.798622Z",
     "shell.execute_reply": "2023-04-10T19:43:04.797494Z",
     "shell.execute_reply.started": "2023-04-10T19:43:04.760813Z"
    }
   },
   "outputs": [
    {
     "name": "stdout",
     "output_type": "stream",
     "text": [
      "count rows: 994  +  6\n"
     ]
    }
   ],
   "source": [
    "# we go back to df and df_trash\n",
    "print('count rows:', df.shape[0], ' + ', df_trash.shape[0])"
   ]
  },
  {
   "cell_type": "code",
   "execution_count": 26,
   "metadata": {
    "execution": {
     "iopub.execute_input": "2023-04-10T19:43:04.800681Z",
     "iopub.status.busy": "2023-04-10T19:43:04.800363Z",
     "iopub.status.idle": "2023-04-10T19:43:04.836006Z",
     "shell.execute_reply": "2023-04-10T19:43:04.835392Z",
     "shell.execute_reply.started": "2023-04-10T19:43:04.800654Z"
    }
   },
   "outputs": [
    {
     "name": "stdout",
     "output_type": "stream",
     "text": [
      "6 rows added, now a total of 1000\n"
     ]
    }
   ],
   "source": [
    "# recover to the state before move_rows\n",
    "df_recovered = pak.add_rows(df, df_trash)"
   ]
  },
  {
   "cell_type": "code",
   "execution_count": 27,
   "metadata": {
    "execution": {
     "iopub.execute_input": "2023-04-10T19:43:04.837499Z",
     "iopub.status.busy": "2023-04-10T19:43:04.837070Z",
     "iopub.status.idle": "2023-04-10T19:43:04.874128Z",
     "shell.execute_reply": "2023-04-10T19:43:04.873192Z",
     "shell.execute_reply.started": "2023-04-10T19:43:04.837474Z"
    }
   },
   "outputs": [
    {
     "name": "stdout",
     "output_type": "stream",
     "text": [
      "6 rows added, now a total of 1006\n"
     ]
    }
   ],
   "source": [
    "# add the same rows again >> now we have some duplicates\n",
    "df_with_dups = pak.add_rows(df_recovered, df_trash)"
   ]
  },
  {
   "cell_type": "code",
   "execution_count": 28,
   "metadata": {
    "execution": {
     "iopub.execute_input": "2023-04-10T19:43:04.882373Z",
     "iopub.status.busy": "2023-04-10T19:43:04.879711Z",
     "iopub.status.idle": "2023-04-10T19:43:04.933500Z",
     "shell.execute_reply": "2023-04-10T19:43:04.932469Z",
     "shell.execute_reply.started": "2023-04-10T19:43:04.882335Z"
    }
   },
   "outputs": [
    {
     "name": "stdout",
     "output_type": "stream",
     "text": [
      "6 rows not attached\n",
      "0 rows added, now a total of 1000\n"
     ]
    }
   ],
   "source": [
    "# you can avoid that by setting only_new to a column name combination that must contain new content\n",
    "# run this cell multible times\n",
    "df_recovered = pak.add_rows(df_recovered, df_trash, only_new = ['secret','age'])"
   ]
  },
  {
   "cell_type": "markdown",
   "metadata": {},
   "source": [
    "#### add_rows() with only_new=True"
   ]
  },
  {
   "cell_type": "code",
   "execution_count": 29,
   "metadata": {
    "execution": {
     "iopub.execute_input": "2023-04-10T19:43:04.937806Z",
     "iopub.status.busy": "2023-04-10T19:43:04.934504Z",
     "iopub.status.idle": "2023-04-10T19:43:05.016276Z",
     "shell.execute_reply": "2023-04-10T19:43:05.015382Z",
     "shell.execute_reply.started": "2023-04-10T19:43:04.937763Z"
    }
   },
   "outputs": [
    {
     "name": "stdout",
     "output_type": "stream",
     "text": [
      "count rows: 994  +  6\n"
     ]
    }
   ],
   "source": [
    "# we go back to df and df_trash\n",
    "# but we give them a random index\n",
    "df.index       = pak.random_series(df.shape[0],       'string', len_min=3, len_max=3, p_dup=0)\n",
    "df_trash.index = pak.random_series(df_trash.shape[0], 'string', len_min=3, len_max=3, p_dup=0)\n",
    "print('count rows:', df.shape[0], ' + ', df_trash.shape[0])"
   ]
  },
  {
   "cell_type": "code",
   "execution_count": 30,
   "metadata": {
    "execution": {
     "iopub.execute_input": "2023-04-10T19:43:05.017772Z",
     "iopub.status.busy": "2023-04-10T19:43:05.017481Z",
     "iopub.status.idle": "2023-04-10T19:43:05.071011Z",
     "shell.execute_reply": "2023-04-10T19:43:05.069961Z",
     "shell.execute_reply.started": "2023-04-10T19:43:05.017745Z"
    }
   },
   "outputs": [
    {
     "name": "stdout",
     "output_type": "stream",
     "text": [
      "0 rows not attached\n",
      "6 rows added, now a total of 1000\n"
     ]
    },
    {
     "data": {
      "text/html": [
       "<div>\n",
       "<style scoped>\n",
       "    .dataframe tbody tr th:only-of-type {\n",
       "        vertical-align: middle;\n",
       "    }\n",
       "\n",
       "    .dataframe tbody tr th {\n",
       "        vertical-align: top;\n",
       "    }\n",
       "\n",
       "    .dataframe thead th {\n",
       "        text-align: right;\n",
       "    }\n",
       "</style>\n",
       "<table border=\"1\" class=\"dataframe\">\n",
       "  <thead>\n",
       "    <tr style=\"text-align: right;\">\n",
       "      <th></th>\n",
       "      <th>first_name</th>\n",
       "      <th>age</th>\n",
       "      <th>secret</th>\n",
       "    </tr>\n",
       "  </thead>\n",
       "  <tbody>\n",
       "    <tr>\n",
       "      <th>0</th>\n",
       "      <td>Tom</td>\n",
       "      <td>32</td>\n",
       "      <td>AÄQmFJe</td>\n",
       "    </tr>\n",
       "    <tr>\n",
       "      <th>1</th>\n",
       "      <td>Kim</td>\n",
       "      <td>32</td>\n",
       "      <td>üurfMäMöD</td>\n",
       "    </tr>\n",
       "    <tr>\n",
       "      <th>2</th>\n",
       "      <td>Josephine</td>\n",
       "      <td>21</td>\n",
       "      <td>eFihw8d</td>\n",
       "    </tr>\n",
       "    <tr>\n",
       "      <th>3</th>\n",
       "      <td>Caroline</td>\n",
       "      <td>37</td>\n",
       "      <td>CpmUzpd</td>\n",
       "    </tr>\n",
       "    <tr>\n",
       "      <th>4</th>\n",
       "      <td>Inge</td>\n",
       "      <td>26</td>\n",
       "      <td>zOhCV3ä</td>\n",
       "    </tr>\n",
       "    <tr>\n",
       "      <th>...</th>\n",
       "      <td>...</td>\n",
       "      <td>...</td>\n",
       "      <td>...</td>\n",
       "    </tr>\n",
       "    <tr>\n",
       "      <th>995</th>\n",
       "      <td>Ingrid</td>\n",
       "      <td>41</td>\n",
       "      <td>W42ZuhavÄ</td>\n",
       "    </tr>\n",
       "    <tr>\n",
       "      <th>996</th>\n",
       "      <td>Ingrid</td>\n",
       "      <td>24</td>\n",
       "      <td>BZÜGxvLmX</td>\n",
       "    </tr>\n",
       "    <tr>\n",
       "      <th>997</th>\n",
       "      <td>Ingrid</td>\n",
       "      <td>38</td>\n",
       "      <td>9Ow6mw4iu</td>\n",
       "    </tr>\n",
       "    <tr>\n",
       "      <th>998</th>\n",
       "      <td>Ingrid</td>\n",
       "      <td>35</td>\n",
       "      <td>oCNdNKOaP</td>\n",
       "    </tr>\n",
       "    <tr>\n",
       "      <th>999</th>\n",
       "      <td>Ingrid</td>\n",
       "      <td>25</td>\n",
       "      <td>vaZPXÜGh</td>\n",
       "    </tr>\n",
       "  </tbody>\n",
       "</table>\n",
       "<p>1000 rows × 3 columns</p>\n",
       "</div>"
      ],
      "text/plain": [
       "    first_name  age     secret\n",
       "0          Tom   32    AÄQmFJe\n",
       "1          Kim   32  üurfMäMöD\n",
       "2    Josephine   21    eFihw8d\n",
       "3     Caroline   37    CpmUzpd\n",
       "4         Inge   26    zOhCV3ä\n",
       "..         ...  ...        ...\n",
       "995     Ingrid   41  W42ZuhavÄ\n",
       "996     Ingrid   24  BZÜGxvLmX\n",
       "997     Ingrid   38  9Ow6mw4iu\n",
       "998     Ingrid   35  oCNdNKOaP\n",
       "999     Ingrid   25   vaZPXÜGh\n",
       "\n",
       "[1000 rows x 3 columns]"
      ]
     },
     "execution_count": 30,
     "metadata": {},
     "output_type": "execute_result"
    }
   ],
   "source": [
    "# recover with only_new=True to avoid duplicate row indexes\n",
    "df_recovered = pak.add_rows(df, df_trash, only_new=True)\n",
    "df_recovered"
   ]
  },
  {
   "cell_type": "code",
   "execution_count": 31,
   "metadata": {
    "execution": {
     "iopub.execute_input": "2023-04-10T19:43:05.075960Z",
     "iopub.status.busy": "2023-04-10T19:43:05.073207Z",
     "iopub.status.idle": "2023-04-10T19:43:05.120212Z",
     "shell.execute_reply": "2023-04-10T19:43:05.119383Z",
     "shell.execute_reply.started": "2023-04-10T19:43:05.075918Z"
    }
   },
   "outputs": [
    {
     "name": "stdout",
     "output_type": "stream",
     "text": [
      "0 rows not attached\n",
      "6 rows added, now a total of 1006\n"
     ]
    }
   ],
   "source": [
    "# add the same rows again >> no rows added\n",
    "df_recovered = pak.add_rows(df_recovered, df_trash, only_new=True)\n",
    "#df_recovered"
   ]
  },
  {
   "cell_type": "code",
   "execution_count": 32,
   "metadata": {
    "execution": {
     "iopub.execute_input": "2023-04-10T19:43:05.126316Z",
     "iopub.status.busy": "2023-04-10T19:43:05.125335Z",
     "iopub.status.idle": "2023-04-10T19:43:05.164675Z",
     "shell.execute_reply": "2023-04-10T19:43:05.163791Z",
     "shell.execute_reply.started": "2023-04-10T19:43:05.126250Z"
    }
   },
   "outputs": [],
   "source": [
    "#search_notebooks('add_rows', radius=3, exclude='nb_out', suffix='py')"
   ]
  },
  {
   "cell_type": "code",
   "execution_count": null,
   "metadata": {},
   "outputs": [],
   "source": []
  }
 ],
 "metadata": {
  "kernelspec": {
   "display_name": "Python 3 (ipykernel)",
   "language": "python",
   "name": "python3"
  },
  "language_info": {
   "codemirror_mode": {
    "name": "ipython",
    "version": 3
   },
   "file_extension": ".py",
   "mimetype": "text/x-python",
   "name": "python",
   "nbconvert_exporter": "python",
   "pygments_lexer": "ipython3",
   "version": "3.9.13"
  }
 },
 "nbformat": 4,
 "nbformat_minor": 4
}
