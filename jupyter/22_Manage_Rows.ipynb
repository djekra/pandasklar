{
 "cells": [
  {
   "cell_type": "markdown",
   "metadata": {},
   "source": [
    "__[Open and try this file online (Colab)](https://colab.research.google.com/github/djekra/pandasklar/blob/master/jupyter/22_Manage_Rows.ipynb)__"
   ]
  },
  {
   "cell_type": "markdown",
   "metadata": {},
   "source": [
    "# Manage rows\n",
    "* `drop_multiindex`: Converts any MultiIndex to normal columns and resets the index. Works with MultiIndex in Series or DataFrames, in rows and in columns.\n",
    "* `reset_index`: Creates a new, unnamed index. If keep_as is given, the old index is preserved as a row with this name. Otherwise the old index is dropped.\n",
    "* `rename_index`: Renames the index.\n",
    "* `drop_rows`: Drops rows identified by a binary mask, verbose if wanted.\n",
    "* `move_rows`: Moves rows identified by a binary mask from one dataframe to another (e.g. into a trash).<br>\n",
    "   The target dataframe gets an additional message column by standard (to identify why the rows were moved). Verbose if wanted. \n",
    "* `add_rows`: Like concat, with additional features only_new and verbose."
   ]
  },
  {
   "cell_type": "code",
   "execution_count": 1,
   "metadata": {
    "execution": {
     "iopub.execute_input": "2023-03-15T08:40:27.170785Z",
     "iopub.status.busy": "2023-03-15T08:40:27.170052Z",
     "iopub.status.idle": "2023-03-15T08:40:28.254373Z",
     "shell.execute_reply": "2023-03-15T08:40:28.253715Z",
     "shell.execute_reply.started": "2023-03-15T08:40:27.170640Z"
    }
   },
   "outputs": [
    {
     "name": "stdout",
     "output_type": "stream",
     "text": [
      "blab init\n",
      "environment['in_colab']     = False\n",
      "environment['dropbox_path'] = /home/me/Data_Linux/Dropbox\n",
      "environment['lib_path']     = /home/me/Data_Linux/Dropbox/31_Projekte/01_Python/libs\n",
      "Start Time: 09:40:27\n"
     ]
    },
    {
     "data": {
      "text/html": [
       "<img src onerror=\"var cell = this.closest('.jp-CodeCell');var editor = cell.querySelector('.jp-Editor');editor.style.background='Beige';this.parentNode.removeChild(this)\">"
      ],
      "text/plain": [
       "<IPython.core.display.HTML object>"
      ]
     },
     "metadata": {},
     "output_type": "display_data"
    }
   ],
   "source": [
    "# blab init\n",
    "try:\n",
    "    import blab\n",
    "except ImportError as e:\n",
    "    !pip install blab\n",
    "    import blab    \n",
    "startup_notebook = blab.blab_startup()\n",
    "%run $startup_notebook "
   ]
  },
  {
   "cell_type": "code",
   "execution_count": 2,
   "metadata": {
    "execution": {
     "iopub.execute_input": "2023-03-15T08:40:28.255935Z",
     "iopub.status.busy": "2023-03-15T08:40:28.255627Z",
     "iopub.status.idle": "2023-03-15T08:40:31.354914Z",
     "shell.execute_reply": "2023-03-15T08:40:31.341130Z",
     "shell.execute_reply.started": "2023-03-15T08:40:28.255913Z"
    }
   },
   "outputs": [
    {
     "name": "stdout",
     "output_type": "stream",
     "text": [
      "VERBOSE = True\n",
      "--> setting verbose=True as default for all pandasklar functions\n",
      "\n"
     ]
    }
   ],
   "source": [
    "import pandas     as pd \n",
    "import bpyth      as bpy\n",
    "\n",
    "# pandasklar\n",
    "try:\n",
    "    import pandasklar as pak \n",
    "except ImportError as e:\n",
    "    !pip install pandasklar\n",
    "    import pandasklar as pak   \n",
    "    \n",
    "# verbose\n",
    "pak.Config.set('VERBOSE', True)"
   ]
  },
  {
   "cell_type": "code",
   "execution_count": 3,
   "metadata": {
    "execution": {
     "iopub.execute_input": "2023-03-15T08:40:31.356992Z",
     "iopub.status.busy": "2023-03-15T08:40:31.356342Z",
     "iopub.status.idle": "2023-03-15T08:40:31.579554Z",
     "shell.execute_reply": "2023-03-15T08:40:31.578817Z",
     "shell.execute_reply.started": "2023-03-15T08:40:31.356959Z"
    }
   },
   "outputs": [
    {
     "data": {
      "text/html": [
       "<div>\n",
       "<style scoped>\n",
       "    .dataframe tbody tr th:only-of-type {\n",
       "        vertical-align: middle;\n",
       "    }\n",
       "\n",
       "    .dataframe tbody tr th {\n",
       "        vertical-align: top;\n",
       "    }\n",
       "\n",
       "    .dataframe thead th {\n",
       "        text-align: right;\n",
       "    }\n",
       "</style>\n",
       "<table border=\"1\" class=\"dataframe\">\n",
       "  <thead>\n",
       "    <tr style=\"text-align: right;\">\n",
       "      <th></th>\n",
       "      <th>first_name</th>\n",
       "      <th>age</th>\n",
       "      <th>age_class</th>\n",
       "      <th>postal_code</th>\n",
       "      <th>birthplace</th>\n",
       "      <th>secret</th>\n",
       "      <th>features</th>\n",
       "      <th>history</th>\n",
       "    </tr>\n",
       "  </thead>\n",
       "  <tbody>\n",
       "    <tr>\n",
       "      <th>0</th>\n",
       "      <td>Hendrik</td>\n",
       "      <td>39</td>\n",
       "      <td>30</td>\n",
       "      <td>80728</td>\n",
       "      <td>&lt;NA&gt;</td>\n",
       "      <td>fBu95oSX</td>\n",
       "      <td>{u, Q, z}</td>\n",
       "      <td>[A, B, C]</td>\n",
       "    </tr>\n",
       "    <tr>\n",
       "      <th>1</th>\n",
       "      <td>Rudolph</td>\n",
       "      <td>28</td>\n",
       "      <td>20</td>\n",
       "      <td>33277</td>\n",
       "      <td>Bremen</td>\n",
       "      <td>HQfRäE</td>\n",
       "      <td>{0, 2, R, g}</td>\n",
       "      <td>[b, b, a, b]</td>\n",
       "    </tr>\n",
       "    <tr>\n",
       "      <th>2</th>\n",
       "      <td>Christa</td>\n",
       "      <td>36</td>\n",
       "      <td>30</td>\n",
       "      <td>45479</td>\n",
       "      <td>Berlin</td>\n",
       "      <td>wp5FTgpöij</td>\n",
       "      <td>{T, N, 0}</td>\n",
       "      <td>[c, b, a]</td>\n",
       "    </tr>\n",
       "    <tr>\n",
       "      <th>3</th>\n",
       "      <td>Martin</td>\n",
       "      <td>39</td>\n",
       "      <td>30</td>\n",
       "      <td>36226</td>\n",
       "      <td>Berlin</td>\n",
       "      <td>kVrqjE</td>\n",
       "      <td>{T, r, W, z, K}</td>\n",
       "      <td>[A, x]</td>\n",
       "    </tr>\n",
       "    <tr>\n",
       "      <th>4</th>\n",
       "      <td>Christoph</td>\n",
       "      <td>25</td>\n",
       "      <td>20</td>\n",
       "      <td>75762</td>\n",
       "      <td>Bremen</td>\n",
       "      <td>KmiÄiPLeG</td>\n",
       "      <td>{4, q, f, B, 1}</td>\n",
       "      <td>[A, A, A]</td>\n",
       "    </tr>\n",
       "    <tr>\n",
       "      <th>...</th>\n",
       "      <td>...</td>\n",
       "      <td>...</td>\n",
       "      <td>...</td>\n",
       "      <td>...</td>\n",
       "      <td>...</td>\n",
       "      <td>...</td>\n",
       "      <td>...</td>\n",
       "      <td>...</td>\n",
       "    </tr>\n",
       "    <tr>\n",
       "      <th>995</th>\n",
       "      <td>Kurt</td>\n",
       "      <td>31</td>\n",
       "      <td>30</td>\n",
       "      <td>48548</td>\n",
       "      <td>Bremen</td>\n",
       "      <td>9äöXFUaZ4b</td>\n",
       "      <td>{a, 4, o, 5, V}</td>\n",
       "      <td>[A, C, C, B]</td>\n",
       "    </tr>\n",
       "    <tr>\n",
       "      <th>996</th>\n",
       "      <td>Steffen</td>\n",
       "      <td>22</td>\n",
       "      <td>20</td>\n",
       "      <td>37342</td>\n",
       "      <td>Berlin</td>\n",
       "      <td>6s3taajN</td>\n",
       "      <td>{N, H, 1, X}</td>\n",
       "      <td>[a, b, c]</td>\n",
       "    </tr>\n",
       "    <tr>\n",
       "      <th>997</th>\n",
       "      <td>Marius</td>\n",
       "      <td>27</td>\n",
       "      <td>20</td>\n",
       "      <td>38585</td>\n",
       "      <td>Berlin</td>\n",
       "      <td>eÖOqd</td>\n",
       "      <td>{f}</td>\n",
       "      <td>[a, b, c]</td>\n",
       "    </tr>\n",
       "    <tr>\n",
       "      <th>998</th>\n",
       "      <td>David</td>\n",
       "      <td>22</td>\n",
       "      <td>20</td>\n",
       "      <td>63612</td>\n",
       "      <td>&lt;NA&gt;</td>\n",
       "      <td>znqir</td>\n",
       "      <td>{I, b, p}</td>\n",
       "      <td>[A, C, C, B]</td>\n",
       "    </tr>\n",
       "    <tr>\n",
       "      <th>999</th>\n",
       "      <td>Kurt</td>\n",
       "      <td>28</td>\n",
       "      <td>20</td>\n",
       "      <td>52839</td>\n",
       "      <td>Berlin</td>\n",
       "      <td>OwulpÜPBnI</td>\n",
       "      <td>{5}</td>\n",
       "      <td>[a, b, c]</td>\n",
       "    </tr>\n",
       "  </tbody>\n",
       "</table>\n",
       "<p>1000 rows × 8 columns</p>\n",
       "</div>"
      ],
      "text/plain": [
       "    first_name  age  age_class  postal_code birthplace      secret  \\\n",
       "0      Hendrik   39         30        80728       <NA>    fBu95oSX   \n",
       "1      Rudolph   28         20        33277     Bremen      HQfRäE   \n",
       "2      Christa   36         30        45479     Berlin  wp5FTgpöij   \n",
       "3       Martin   39         30        36226     Berlin      kVrqjE   \n",
       "4    Christoph   25         20        75762     Bremen   KmiÄiPLeG   \n",
       "..         ...  ...        ...          ...        ...         ...   \n",
       "995       Kurt   31         30        48548     Bremen  9äöXFUaZ4b   \n",
       "996    Steffen   22         20        37342     Berlin    6s3taajN   \n",
       "997     Marius   27         20        38585     Berlin       eÖOqd   \n",
       "998      David   22         20        63612       <NA>       znqir   \n",
       "999       Kurt   28         20        52839     Berlin  OwulpÜPBnI   \n",
       "\n",
       "            features       history  \n",
       "0          {u, Q, z}     [A, B, C]  \n",
       "1       {0, 2, R, g}  [b, b, a, b]  \n",
       "2          {T, N, 0}     [c, b, a]  \n",
       "3    {T, r, W, z, K}        [A, x]  \n",
       "4    {4, q, f, B, 1}     [A, A, A]  \n",
       "..               ...           ...  \n",
       "995  {a, 4, o, 5, V}  [A, C, C, B]  \n",
       "996     {N, H, 1, X}     [a, b, c]  \n",
       "997              {f}     [a, b, c]  \n",
       "998        {I, b, p}  [A, C, C, B]  \n",
       "999              {5}     [a, b, c]  \n",
       "\n",
       "[1000 rows x 8 columns]"
      ]
     },
     "execution_count": 3,
     "metadata": {},
     "output_type": "execute_result"
    }
   ],
   "source": [
    "# Test data\n",
    "df = pak.people(1000)\n",
    "df"
   ]
  },
  {
   "cell_type": "markdown",
   "metadata": {},
   "source": [
    "## === Row Indexes ==="
   ]
  },
  {
   "cell_type": "markdown",
   "metadata": {
    "tags": []
   },
   "source": [
    "### rename_index()"
   ]
  },
  {
   "cell_type": "code",
   "execution_count": 4,
   "metadata": {
    "execution": {
     "iopub.execute_input": "2023-03-15T08:40:31.581396Z",
     "iopub.status.busy": "2023-03-15T08:40:31.581128Z",
     "iopub.status.idle": "2023-03-15T08:40:31.665757Z",
     "shell.execute_reply": "2023-03-15T08:40:31.664134Z",
     "shell.execute_reply.started": "2023-03-15T08:40:31.581374Z"
    }
   },
   "outputs": [
    {
     "data": {
      "text/html": [
       "<div>\n",
       "<style scoped>\n",
       "    .dataframe tbody tr th:only-of-type {\n",
       "        vertical-align: middle;\n",
       "    }\n",
       "\n",
       "    .dataframe tbody tr th {\n",
       "        vertical-align: top;\n",
       "    }\n",
       "\n",
       "    .dataframe thead th {\n",
       "        text-align: right;\n",
       "    }\n",
       "</style>\n",
       "<table border=\"1\" class=\"dataframe\">\n",
       "  <thead>\n",
       "    <tr style=\"text-align: right;\">\n",
       "      <th></th>\n",
       "      <th>first_name</th>\n",
       "      <th>age</th>\n",
       "      <th>age_class</th>\n",
       "      <th>postal_code</th>\n",
       "      <th>birthplace</th>\n",
       "      <th>secret</th>\n",
       "      <th>features</th>\n",
       "      <th>history</th>\n",
       "    </tr>\n",
       "    <tr>\n",
       "      <th>rnd_string</th>\n",
       "      <th></th>\n",
       "      <th></th>\n",
       "      <th></th>\n",
       "      <th></th>\n",
       "      <th></th>\n",
       "      <th></th>\n",
       "      <th></th>\n",
       "      <th></th>\n",
       "    </tr>\n",
       "  </thead>\n",
       "  <tbody>\n",
       "    <tr>\n",
       "      <th>3M4</th>\n",
       "      <td>Hendrik</td>\n",
       "      <td>39</td>\n",
       "      <td>30</td>\n",
       "      <td>80728</td>\n",
       "      <td>&lt;NA&gt;</td>\n",
       "      <td>fBu95oSX</td>\n",
       "      <td>{u, Q, z}</td>\n",
       "      <td>[A, B, C]</td>\n",
       "    </tr>\n",
       "    <tr>\n",
       "      <th>PÖy</th>\n",
       "      <td>Rudolph</td>\n",
       "      <td>28</td>\n",
       "      <td>20</td>\n",
       "      <td>33277</td>\n",
       "      <td>Bremen</td>\n",
       "      <td>HQfRäE</td>\n",
       "      <td>{0, 2, R, g}</td>\n",
       "      <td>[b, b, a, b]</td>\n",
       "    </tr>\n",
       "    <tr>\n",
       "      <th>0iW</th>\n",
       "      <td>Christa</td>\n",
       "      <td>36</td>\n",
       "      <td>30</td>\n",
       "      <td>45479</td>\n",
       "      <td>Berlin</td>\n",
       "      <td>wp5FTgpöij</td>\n",
       "      <td>{T, N, 0}</td>\n",
       "      <td>[c, b, a]</td>\n",
       "    </tr>\n",
       "    <tr>\n",
       "      <th>e4a</th>\n",
       "      <td>Martin</td>\n",
       "      <td>39</td>\n",
       "      <td>30</td>\n",
       "      <td>36226</td>\n",
       "      <td>Berlin</td>\n",
       "      <td>kVrqjE</td>\n",
       "      <td>{T, r, W, z, K}</td>\n",
       "      <td>[A, x]</td>\n",
       "    </tr>\n",
       "    <tr>\n",
       "      <th>5k8</th>\n",
       "      <td>Christoph</td>\n",
       "      <td>25</td>\n",
       "      <td>20</td>\n",
       "      <td>75762</td>\n",
       "      <td>Bremen</td>\n",
       "      <td>KmiÄiPLeG</td>\n",
       "      <td>{4, q, f, B, 1}</td>\n",
       "      <td>[A, A, A]</td>\n",
       "    </tr>\n",
       "    <tr>\n",
       "      <th>...</th>\n",
       "      <td>...</td>\n",
       "      <td>...</td>\n",
       "      <td>...</td>\n",
       "      <td>...</td>\n",
       "      <td>...</td>\n",
       "      <td>...</td>\n",
       "      <td>...</td>\n",
       "      <td>...</td>\n",
       "    </tr>\n",
       "    <tr>\n",
       "      <th>U0I</th>\n",
       "      <td>Kurt</td>\n",
       "      <td>31</td>\n",
       "      <td>30</td>\n",
       "      <td>48548</td>\n",
       "      <td>Bremen</td>\n",
       "      <td>9äöXFUaZ4b</td>\n",
       "      <td>{a, 4, o, 5, V}</td>\n",
       "      <td>[A, C, C, B]</td>\n",
       "    </tr>\n",
       "    <tr>\n",
       "      <th>AK7</th>\n",
       "      <td>Steffen</td>\n",
       "      <td>22</td>\n",
       "      <td>20</td>\n",
       "      <td>37342</td>\n",
       "      <td>Berlin</td>\n",
       "      <td>6s3taajN</td>\n",
       "      <td>{N, H, 1, X}</td>\n",
       "      <td>[a, b, c]</td>\n",
       "    </tr>\n",
       "    <tr>\n",
       "      <th>MDy</th>\n",
       "      <td>Marius</td>\n",
       "      <td>27</td>\n",
       "      <td>20</td>\n",
       "      <td>38585</td>\n",
       "      <td>Berlin</td>\n",
       "      <td>eÖOqd</td>\n",
       "      <td>{f}</td>\n",
       "      <td>[a, b, c]</td>\n",
       "    </tr>\n",
       "    <tr>\n",
       "      <th>7Ik</th>\n",
       "      <td>David</td>\n",
       "      <td>22</td>\n",
       "      <td>20</td>\n",
       "      <td>63612</td>\n",
       "      <td>&lt;NA&gt;</td>\n",
       "      <td>znqir</td>\n",
       "      <td>{I, b, p}</td>\n",
       "      <td>[A, C, C, B]</td>\n",
       "    </tr>\n",
       "    <tr>\n",
       "      <th>yAm</th>\n",
       "      <td>Kurt</td>\n",
       "      <td>28</td>\n",
       "      <td>20</td>\n",
       "      <td>52839</td>\n",
       "      <td>Berlin</td>\n",
       "      <td>OwulpÜPBnI</td>\n",
       "      <td>{5}</td>\n",
       "      <td>[a, b, c]</td>\n",
       "    </tr>\n",
       "  </tbody>\n",
       "</table>\n",
       "<p>1000 rows × 8 columns</p>\n",
       "</div>"
      ],
      "text/plain": [
       "           first_name  age  age_class  postal_code birthplace      secret  \\\n",
       "rnd_string                                                                  \n",
       "3M4           Hendrik   39         30        80728       <NA>    fBu95oSX   \n",
       "PÖy           Rudolph   28         20        33277     Bremen      HQfRäE   \n",
       "0iW           Christa   36         30        45479     Berlin  wp5FTgpöij   \n",
       "e4a            Martin   39         30        36226     Berlin      kVrqjE   \n",
       "5k8         Christoph   25         20        75762     Bremen   KmiÄiPLeG   \n",
       "...               ...  ...        ...          ...        ...         ...   \n",
       "U0I              Kurt   31         30        48548     Bremen  9äöXFUaZ4b   \n",
       "AK7           Steffen   22         20        37342     Berlin    6s3taajN   \n",
       "MDy            Marius   27         20        38585     Berlin       eÖOqd   \n",
       "7Ik             David   22         20        63612       <NA>       znqir   \n",
       "yAm              Kurt   28         20        52839     Berlin  OwulpÜPBnI   \n",
       "\n",
       "                   features       history  \n",
       "rnd_string                                 \n",
       "3M4               {u, Q, z}     [A, B, C]  \n",
       "PÖy            {0, 2, R, g}  [b, b, a, b]  \n",
       "0iW               {T, N, 0}     [c, b, a]  \n",
       "e4a         {T, r, W, z, K}        [A, x]  \n",
       "5k8         {4, q, f, B, 1}     [A, A, A]  \n",
       "...                     ...           ...  \n",
       "U0I         {a, 4, o, 5, V}  [A, C, C, B]  \n",
       "AK7            {N, H, 1, X}     [a, b, c]  \n",
       "MDy                     {f}     [a, b, c]  \n",
       "7Ik               {I, b, p}  [A, C, C, B]  \n",
       "yAm                     {5}     [a, b, c]  \n",
       "\n",
       "[1000 rows x 8 columns]"
      ]
     },
     "execution_count": 4,
     "metadata": {},
     "output_type": "execute_result"
    }
   ],
   "source": [
    "# set a trashy index\n",
    "df.index = pak.random_series(df.shape[0], 'string', len_min=3, len_max=3, p_dup=0)\n",
    "df"
   ]
  },
  {
   "cell_type": "code",
   "execution_count": 5,
   "metadata": {
    "execution": {
     "iopub.execute_input": "2023-03-15T08:40:31.667564Z",
     "iopub.status.busy": "2023-03-15T08:40:31.667240Z",
     "iopub.status.idle": "2023-03-15T08:40:31.721235Z",
     "shell.execute_reply": "2023-03-15T08:40:31.720647Z",
     "shell.execute_reply.started": "2023-03-15T08:40:31.667535Z"
    }
   },
   "outputs": [
    {
     "data": {
      "text/html": [
       "<div>\n",
       "<style scoped>\n",
       "    .dataframe tbody tr th:only-of-type {\n",
       "        vertical-align: middle;\n",
       "    }\n",
       "\n",
       "    .dataframe tbody tr th {\n",
       "        vertical-align: top;\n",
       "    }\n",
       "\n",
       "    .dataframe thead th {\n",
       "        text-align: right;\n",
       "    }\n",
       "</style>\n",
       "<table border=\"1\" class=\"dataframe\">\n",
       "  <thead>\n",
       "    <tr style=\"text-align: right;\">\n",
       "      <th></th>\n",
       "      <th>first_name</th>\n",
       "      <th>age</th>\n",
       "      <th>age_class</th>\n",
       "      <th>postal_code</th>\n",
       "      <th>birthplace</th>\n",
       "      <th>secret</th>\n",
       "      <th>features</th>\n",
       "      <th>history</th>\n",
       "    </tr>\n",
       "    <tr>\n",
       "      <th>index_new</th>\n",
       "      <th></th>\n",
       "      <th></th>\n",
       "      <th></th>\n",
       "      <th></th>\n",
       "      <th></th>\n",
       "      <th></th>\n",
       "      <th></th>\n",
       "      <th></th>\n",
       "    </tr>\n",
       "  </thead>\n",
       "  <tbody>\n",
       "    <tr>\n",
       "      <th>3M4</th>\n",
       "      <td>Hendrik</td>\n",
       "      <td>39</td>\n",
       "      <td>30</td>\n",
       "      <td>80728</td>\n",
       "      <td>&lt;NA&gt;</td>\n",
       "      <td>fBu95oSX</td>\n",
       "      <td>{u, Q, z}</td>\n",
       "      <td>[A, B, C]</td>\n",
       "    </tr>\n",
       "    <tr>\n",
       "      <th>PÖy</th>\n",
       "      <td>Rudolph</td>\n",
       "      <td>28</td>\n",
       "      <td>20</td>\n",
       "      <td>33277</td>\n",
       "      <td>Bremen</td>\n",
       "      <td>HQfRäE</td>\n",
       "      <td>{0, 2, R, g}</td>\n",
       "      <td>[b, b, a, b]</td>\n",
       "    </tr>\n",
       "    <tr>\n",
       "      <th>0iW</th>\n",
       "      <td>Christa</td>\n",
       "      <td>36</td>\n",
       "      <td>30</td>\n",
       "      <td>45479</td>\n",
       "      <td>Berlin</td>\n",
       "      <td>wp5FTgpöij</td>\n",
       "      <td>{T, N, 0}</td>\n",
       "      <td>[c, b, a]</td>\n",
       "    </tr>\n",
       "    <tr>\n",
       "      <th>e4a</th>\n",
       "      <td>Martin</td>\n",
       "      <td>39</td>\n",
       "      <td>30</td>\n",
       "      <td>36226</td>\n",
       "      <td>Berlin</td>\n",
       "      <td>kVrqjE</td>\n",
       "      <td>{T, r, W, z, K}</td>\n",
       "      <td>[A, x]</td>\n",
       "    </tr>\n",
       "    <tr>\n",
       "      <th>5k8</th>\n",
       "      <td>Christoph</td>\n",
       "      <td>25</td>\n",
       "      <td>20</td>\n",
       "      <td>75762</td>\n",
       "      <td>Bremen</td>\n",
       "      <td>KmiÄiPLeG</td>\n",
       "      <td>{4, q, f, B, 1}</td>\n",
       "      <td>[A, A, A]</td>\n",
       "    </tr>\n",
       "    <tr>\n",
       "      <th>...</th>\n",
       "      <td>...</td>\n",
       "      <td>...</td>\n",
       "      <td>...</td>\n",
       "      <td>...</td>\n",
       "      <td>...</td>\n",
       "      <td>...</td>\n",
       "      <td>...</td>\n",
       "      <td>...</td>\n",
       "    </tr>\n",
       "    <tr>\n",
       "      <th>U0I</th>\n",
       "      <td>Kurt</td>\n",
       "      <td>31</td>\n",
       "      <td>30</td>\n",
       "      <td>48548</td>\n",
       "      <td>Bremen</td>\n",
       "      <td>9äöXFUaZ4b</td>\n",
       "      <td>{a, 4, o, 5, V}</td>\n",
       "      <td>[A, C, C, B]</td>\n",
       "    </tr>\n",
       "    <tr>\n",
       "      <th>AK7</th>\n",
       "      <td>Steffen</td>\n",
       "      <td>22</td>\n",
       "      <td>20</td>\n",
       "      <td>37342</td>\n",
       "      <td>Berlin</td>\n",
       "      <td>6s3taajN</td>\n",
       "      <td>{N, H, 1, X}</td>\n",
       "      <td>[a, b, c]</td>\n",
       "    </tr>\n",
       "    <tr>\n",
       "      <th>MDy</th>\n",
       "      <td>Marius</td>\n",
       "      <td>27</td>\n",
       "      <td>20</td>\n",
       "      <td>38585</td>\n",
       "      <td>Berlin</td>\n",
       "      <td>eÖOqd</td>\n",
       "      <td>{f}</td>\n",
       "      <td>[a, b, c]</td>\n",
       "    </tr>\n",
       "    <tr>\n",
       "      <th>7Ik</th>\n",
       "      <td>David</td>\n",
       "      <td>22</td>\n",
       "      <td>20</td>\n",
       "      <td>63612</td>\n",
       "      <td>&lt;NA&gt;</td>\n",
       "      <td>znqir</td>\n",
       "      <td>{I, b, p}</td>\n",
       "      <td>[A, C, C, B]</td>\n",
       "    </tr>\n",
       "    <tr>\n",
       "      <th>yAm</th>\n",
       "      <td>Kurt</td>\n",
       "      <td>28</td>\n",
       "      <td>20</td>\n",
       "      <td>52839</td>\n",
       "      <td>Berlin</td>\n",
       "      <td>OwulpÜPBnI</td>\n",
       "      <td>{5}</td>\n",
       "      <td>[a, b, c]</td>\n",
       "    </tr>\n",
       "  </tbody>\n",
       "</table>\n",
       "<p>1000 rows × 8 columns</p>\n",
       "</div>"
      ],
      "text/plain": [
       "          first_name  age  age_class  postal_code birthplace      secret  \\\n",
       "index_new                                                                  \n",
       "3M4          Hendrik   39         30        80728       <NA>    fBu95oSX   \n",
       "PÖy          Rudolph   28         20        33277     Bremen      HQfRäE   \n",
       "0iW          Christa   36         30        45479     Berlin  wp5FTgpöij   \n",
       "e4a           Martin   39         30        36226     Berlin      kVrqjE   \n",
       "5k8        Christoph   25         20        75762     Bremen   KmiÄiPLeG   \n",
       "...              ...  ...        ...          ...        ...         ...   \n",
       "U0I             Kurt   31         30        48548     Bremen  9äöXFUaZ4b   \n",
       "AK7          Steffen   22         20        37342     Berlin    6s3taajN   \n",
       "MDy           Marius   27         20        38585     Berlin       eÖOqd   \n",
       "7Ik            David   22         20        63612       <NA>       znqir   \n",
       "yAm             Kurt   28         20        52839     Berlin  OwulpÜPBnI   \n",
       "\n",
       "                  features       history  \n",
       "index_new                                 \n",
       "3M4              {u, Q, z}     [A, B, C]  \n",
       "PÖy           {0, 2, R, g}  [b, b, a, b]  \n",
       "0iW              {T, N, 0}     [c, b, a]  \n",
       "e4a        {T, r, W, z, K}        [A, x]  \n",
       "5k8        {4, q, f, B, 1}     [A, A, A]  \n",
       "...                    ...           ...  \n",
       "U0I        {a, 4, o, 5, V}  [A, C, C, B]  \n",
       "AK7           {N, H, 1, X}     [a, b, c]  \n",
       "MDy                    {f}     [a, b, c]  \n",
       "7Ik              {I, b, p}  [A, C, C, B]  \n",
       "yAm                    {5}     [a, b, c]  \n",
       "\n",
       "[1000 rows x 8 columns]"
      ]
     },
     "execution_count": 5,
     "metadata": {},
     "output_type": "execute_result"
    }
   ],
   "source": [
    "df = pak.rename_index(df,'index_new')\n",
    "df"
   ]
  },
  {
   "cell_type": "markdown",
   "metadata": {},
   "source": [
    "### reset_index()"
   ]
  },
  {
   "cell_type": "code",
   "execution_count": 6,
   "metadata": {
    "execution": {
     "iopub.execute_input": "2023-03-15T08:40:31.722378Z",
     "iopub.status.busy": "2023-03-15T08:40:31.722111Z",
     "iopub.status.idle": "2023-03-15T08:40:31.812912Z",
     "shell.execute_reply": "2023-03-15T08:40:31.812248Z",
     "shell.execute_reply.started": "2023-03-15T08:40:31.722357Z"
    },
    "tags": []
   },
   "outputs": [
    {
     "data": {
      "text/plain": [
       "\u001b[0;31mSignature:\u001b[0m \u001b[0mpak\u001b[0m\u001b[0;34m.\u001b[0m\u001b[0mreset_index\u001b[0m\u001b[0;34m(\u001b[0m\u001b[0mdf\u001b[0m\u001b[0;34m,\u001b[0m \u001b[0mkeep_as\u001b[0m\u001b[0;34m=\u001b[0m\u001b[0;32mNone\u001b[0m\u001b[0;34m)\u001b[0m\u001b[0;34m\u001b[0m\u001b[0;34m\u001b[0m\u001b[0m\n",
       "\u001b[0;31mDocstring:\u001b[0m\n",
       "Creates a new, unnamed index.\n",
       "* keep_as: If keep_as is given, the old index is preserved as a row with this name.\n",
       "Otherwise the old index is dropped.\n",
       "\u001b[0;31mFile:\u001b[0m      ~/Data_Linux/Dropbox/31_Projekte/01_Python/git/pandasklar/src/pandasklar/pandas.py\n",
       "\u001b[0;31mType:\u001b[0m      function\n"
      ]
     },
     "metadata": {},
     "output_type": "display_data"
    }
   ],
   "source": [
    "?pak.reset_index"
   ]
  },
  {
   "cell_type": "code",
   "execution_count": 7,
   "metadata": {
    "execution": {
     "iopub.execute_input": "2023-03-15T08:40:31.814027Z",
     "iopub.status.busy": "2023-03-15T08:40:31.813790Z",
     "iopub.status.idle": "2023-03-15T08:40:31.876954Z",
     "shell.execute_reply": "2023-03-15T08:40:31.876092Z",
     "shell.execute_reply.started": "2023-03-15T08:40:31.814006Z"
    }
   },
   "outputs": [
    {
     "data": {
      "text/html": [
       "<div>\n",
       "<style scoped>\n",
       "    .dataframe tbody tr th:only-of-type {\n",
       "        vertical-align: middle;\n",
       "    }\n",
       "\n",
       "    .dataframe tbody tr th {\n",
       "        vertical-align: top;\n",
       "    }\n",
       "\n",
       "    .dataframe thead th {\n",
       "        text-align: right;\n",
       "    }\n",
       "</style>\n",
       "<table border=\"1\" class=\"dataframe\">\n",
       "  <thead>\n",
       "    <tr style=\"text-align: right;\">\n",
       "      <th></th>\n",
       "      <th>first_name</th>\n",
       "      <th>age</th>\n",
       "      <th>age_class</th>\n",
       "      <th>postal_code</th>\n",
       "      <th>birthplace</th>\n",
       "      <th>secret</th>\n",
       "      <th>features</th>\n",
       "      <th>history</th>\n",
       "    </tr>\n",
       "  </thead>\n",
       "  <tbody>\n",
       "    <tr>\n",
       "      <th>0</th>\n",
       "      <td>Hendrik</td>\n",
       "      <td>39</td>\n",
       "      <td>30</td>\n",
       "      <td>80728</td>\n",
       "      <td>&lt;NA&gt;</td>\n",
       "      <td>fBu95oSX</td>\n",
       "      <td>{u, Q, z}</td>\n",
       "      <td>[A, B, C]</td>\n",
       "    </tr>\n",
       "    <tr>\n",
       "      <th>1</th>\n",
       "      <td>Rudolph</td>\n",
       "      <td>28</td>\n",
       "      <td>20</td>\n",
       "      <td>33277</td>\n",
       "      <td>Bremen</td>\n",
       "      <td>HQfRäE</td>\n",
       "      <td>{0, 2, R, g}</td>\n",
       "      <td>[b, b, a, b]</td>\n",
       "    </tr>\n",
       "    <tr>\n",
       "      <th>2</th>\n",
       "      <td>Christa</td>\n",
       "      <td>36</td>\n",
       "      <td>30</td>\n",
       "      <td>45479</td>\n",
       "      <td>Berlin</td>\n",
       "      <td>wp5FTgpöij</td>\n",
       "      <td>{T, N, 0}</td>\n",
       "      <td>[c, b, a]</td>\n",
       "    </tr>\n",
       "    <tr>\n",
       "      <th>3</th>\n",
       "      <td>Martin</td>\n",
       "      <td>39</td>\n",
       "      <td>30</td>\n",
       "      <td>36226</td>\n",
       "      <td>Berlin</td>\n",
       "      <td>kVrqjE</td>\n",
       "      <td>{T, r, W, z, K}</td>\n",
       "      <td>[A, x]</td>\n",
       "    </tr>\n",
       "    <tr>\n",
       "      <th>4</th>\n",
       "      <td>Christoph</td>\n",
       "      <td>25</td>\n",
       "      <td>20</td>\n",
       "      <td>75762</td>\n",
       "      <td>Bremen</td>\n",
       "      <td>KmiÄiPLeG</td>\n",
       "      <td>{4, q, f, B, 1}</td>\n",
       "      <td>[A, A, A]</td>\n",
       "    </tr>\n",
       "    <tr>\n",
       "      <th>...</th>\n",
       "      <td>...</td>\n",
       "      <td>...</td>\n",
       "      <td>...</td>\n",
       "      <td>...</td>\n",
       "      <td>...</td>\n",
       "      <td>...</td>\n",
       "      <td>...</td>\n",
       "      <td>...</td>\n",
       "    </tr>\n",
       "    <tr>\n",
       "      <th>995</th>\n",
       "      <td>Kurt</td>\n",
       "      <td>31</td>\n",
       "      <td>30</td>\n",
       "      <td>48548</td>\n",
       "      <td>Bremen</td>\n",
       "      <td>9äöXFUaZ4b</td>\n",
       "      <td>{a, 4, o, 5, V}</td>\n",
       "      <td>[A, C, C, B]</td>\n",
       "    </tr>\n",
       "    <tr>\n",
       "      <th>996</th>\n",
       "      <td>Steffen</td>\n",
       "      <td>22</td>\n",
       "      <td>20</td>\n",
       "      <td>37342</td>\n",
       "      <td>Berlin</td>\n",
       "      <td>6s3taajN</td>\n",
       "      <td>{N, H, 1, X}</td>\n",
       "      <td>[a, b, c]</td>\n",
       "    </tr>\n",
       "    <tr>\n",
       "      <th>997</th>\n",
       "      <td>Marius</td>\n",
       "      <td>27</td>\n",
       "      <td>20</td>\n",
       "      <td>38585</td>\n",
       "      <td>Berlin</td>\n",
       "      <td>eÖOqd</td>\n",
       "      <td>{f}</td>\n",
       "      <td>[a, b, c]</td>\n",
       "    </tr>\n",
       "    <tr>\n",
       "      <th>998</th>\n",
       "      <td>David</td>\n",
       "      <td>22</td>\n",
       "      <td>20</td>\n",
       "      <td>63612</td>\n",
       "      <td>&lt;NA&gt;</td>\n",
       "      <td>znqir</td>\n",
       "      <td>{I, b, p}</td>\n",
       "      <td>[A, C, C, B]</td>\n",
       "    </tr>\n",
       "    <tr>\n",
       "      <th>999</th>\n",
       "      <td>Kurt</td>\n",
       "      <td>28</td>\n",
       "      <td>20</td>\n",
       "      <td>52839</td>\n",
       "      <td>Berlin</td>\n",
       "      <td>OwulpÜPBnI</td>\n",
       "      <td>{5}</td>\n",
       "      <td>[a, b, c]</td>\n",
       "    </tr>\n",
       "  </tbody>\n",
       "</table>\n",
       "<p>1000 rows × 8 columns</p>\n",
       "</div>"
      ],
      "text/plain": [
       "    first_name  age  age_class  postal_code birthplace      secret  \\\n",
       "0      Hendrik   39         30        80728       <NA>    fBu95oSX   \n",
       "1      Rudolph   28         20        33277     Bremen      HQfRäE   \n",
       "2      Christa   36         30        45479     Berlin  wp5FTgpöij   \n",
       "3       Martin   39         30        36226     Berlin      kVrqjE   \n",
       "4    Christoph   25         20        75762     Bremen   KmiÄiPLeG   \n",
       "..         ...  ...        ...          ...        ...         ...   \n",
       "995       Kurt   31         30        48548     Bremen  9äöXFUaZ4b   \n",
       "996    Steffen   22         20        37342     Berlin    6s3taajN   \n",
       "997     Marius   27         20        38585     Berlin       eÖOqd   \n",
       "998      David   22         20        63612       <NA>       znqir   \n",
       "999       Kurt   28         20        52839     Berlin  OwulpÜPBnI   \n",
       "\n",
       "            features       history  \n",
       "0          {u, Q, z}     [A, B, C]  \n",
       "1       {0, 2, R, g}  [b, b, a, b]  \n",
       "2          {T, N, 0}     [c, b, a]  \n",
       "3    {T, r, W, z, K}        [A, x]  \n",
       "4    {4, q, f, B, 1}     [A, A, A]  \n",
       "..               ...           ...  \n",
       "995  {a, 4, o, 5, V}  [A, C, C, B]  \n",
       "996     {N, H, 1, X}     [a, b, c]  \n",
       "997              {f}     [a, b, c]  \n",
       "998        {I, b, p}  [A, C, C, B]  \n",
       "999              {5}     [a, b, c]  \n",
       "\n",
       "[1000 rows x 8 columns]"
      ]
     },
     "execution_count": 7,
     "metadata": {},
     "output_type": "execute_result"
    }
   ],
   "source": [
    "df = pak.reset_index(df)\n",
    "df"
   ]
  },
  {
   "cell_type": "markdown",
   "metadata": {},
   "source": [
    "### drop_multiindex()"
   ]
  },
  {
   "cell_type": "code",
   "execution_count": 8,
   "metadata": {
    "execution": {
     "iopub.execute_input": "2023-03-15T08:40:31.878138Z",
     "iopub.status.busy": "2023-03-15T08:40:31.877889Z",
     "iopub.status.idle": "2023-03-15T08:40:31.905500Z",
     "shell.execute_reply": "2023-03-15T08:40:31.904822Z",
     "shell.execute_reply.started": "2023-03-15T08:40:31.878116Z"
    },
    "tags": []
   },
   "outputs": [
    {
     "data": {
      "text/plain": [
       "\u001b[0;31mSignature:\u001b[0m \u001b[0mpak\u001b[0m\u001b[0;34m.\u001b[0m\u001b[0mdrop_multiindex\u001b[0m\u001b[0;34m(\u001b[0m\u001b[0mdf\u001b[0m\u001b[0;34m,\u001b[0m \u001b[0mverbose\u001b[0m\u001b[0;34m=\u001b[0m\u001b[0;32mNone\u001b[0m\u001b[0;34m)\u001b[0m\u001b[0;34m\u001b[0m\u001b[0;34m\u001b[0m\u001b[0m\n",
       "\u001b[0;31mDocstring:\u001b[0m\n",
       "Converts any MultiIndex to normal columns and resets the index. \n",
       "Works with MultiIndex in Series or DataFrames, in rows and in columns.\n",
       "\u001b[0;31mFile:\u001b[0m      ~/Data_Linux/Dropbox/31_Projekte/01_Python/git/pandasklar/src/pandasklar/pandas.py\n",
       "\u001b[0;31mType:\u001b[0m      function\n"
      ]
     },
     "metadata": {},
     "output_type": "display_data"
    }
   ],
   "source": [
    "?pak.drop_multiindex"
   ]
  },
  {
   "cell_type": "markdown",
   "metadata": {},
   "source": [
    "## === Rows ==="
   ]
  },
  {
   "cell_type": "markdown",
   "metadata": {},
   "source": [
    "### drop_rows()"
   ]
  },
  {
   "cell_type": "code",
   "execution_count": 9,
   "metadata": {
    "execution": {
     "iopub.execute_input": "2023-03-15T08:40:31.906783Z",
     "iopub.status.busy": "2023-03-15T08:40:31.906512Z",
     "iopub.status.idle": "2023-03-15T08:40:31.942037Z",
     "shell.execute_reply": "2023-03-15T08:40:31.941410Z",
     "shell.execute_reply.started": "2023-03-15T08:40:31.906760Z"
    }
   },
   "outputs": [
    {
     "data": {
      "text/plain": [
       "\u001b[0;31mSignature:\u001b[0m \u001b[0mpak\u001b[0m\u001b[0;34m.\u001b[0m\u001b[0mdrop_rows\u001b[0m\u001b[0;34m(\u001b[0m\u001b[0mdf\u001b[0m\u001b[0;34m,\u001b[0m \u001b[0mmask\u001b[0m\u001b[0;34m,\u001b[0m \u001b[0mverbose\u001b[0m\u001b[0;34m=\u001b[0m\u001b[0;32mNone\u001b[0m\u001b[0;34m)\u001b[0m\u001b[0;34m\u001b[0m\u001b[0;34m\u001b[0m\u001b[0m\n",
       "\u001b[0;31mDocstring:\u001b[0m\n",
       "Drops rows identified by a binary mask.\n",
       "* verbose: True if you want to print how many rows are droped.\n",
       "(If you want to delete the rows to a trash, use move_rows.)\n",
       "\u001b[0;31mFile:\u001b[0m      ~/Data_Linux/Dropbox/31_Projekte/01_Python/git/pandasklar/src/pandasklar/pandas.py\n",
       "\u001b[0;31mType:\u001b[0m      function\n"
      ]
     },
     "metadata": {},
     "output_type": "display_data"
    }
   ],
   "source": [
    "?pak.drop_rows"
   ]
  },
  {
   "cell_type": "code",
   "execution_count": 10,
   "metadata": {
    "execution": {
     "iopub.execute_input": "2023-03-15T08:40:31.958158Z",
     "iopub.status.busy": "2023-03-15T08:40:31.953316Z",
     "iopub.status.idle": "2023-03-15T08:40:32.023178Z",
     "shell.execute_reply": "2023-03-15T08:40:32.022409Z",
     "shell.execute_reply.started": "2023-03-15T08:40:31.958111Z"
    }
   },
   "outputs": [
    {
     "data": {
      "text/html": [
       "<div>\n",
       "<style scoped>\n",
       "    .dataframe tbody tr th:only-of-type {\n",
       "        vertical-align: middle;\n",
       "    }\n",
       "\n",
       "    .dataframe tbody tr th {\n",
       "        vertical-align: top;\n",
       "    }\n",
       "\n",
       "    .dataframe thead th {\n",
       "        text-align: right;\n",
       "    }\n",
       "</style>\n",
       "<table border=\"1\" class=\"dataframe\">\n",
       "  <thead>\n",
       "    <tr style=\"text-align: right;\">\n",
       "      <th></th>\n",
       "      <th>first_name</th>\n",
       "      <th>age</th>\n",
       "      <th>age_class</th>\n",
       "      <th>postal_code</th>\n",
       "      <th>birthplace</th>\n",
       "      <th>secret</th>\n",
       "      <th>features</th>\n",
       "      <th>history</th>\n",
       "    </tr>\n",
       "  </thead>\n",
       "  <tbody>\n",
       "    <tr>\n",
       "      <th>152</th>\n",
       "      <td>Carl</td>\n",
       "      <td>33</td>\n",
       "      <td>30</td>\n",
       "      <td>78354</td>\n",
       "      <td>Bremen</td>\n",
       "      <td>GWkä2iBQmt</td>\n",
       "      <td>{A, M}</td>\n",
       "      <td>[A, C, C, B]</td>\n",
       "    </tr>\n",
       "    <tr>\n",
       "      <th>435</th>\n",
       "      <td>Carl</td>\n",
       "      <td>35</td>\n",
       "      <td>30</td>\n",
       "      <td>78831</td>\n",
       "      <td>Bremen</td>\n",
       "      <td>wuDtGeoh</td>\n",
       "      <td>{2, O}</td>\n",
       "      <td>[A, B, C]</td>\n",
       "    </tr>\n",
       "    <tr>\n",
       "      <th>569</th>\n",
       "      <td>Carl</td>\n",
       "      <td>34</td>\n",
       "      <td>30</td>\n",
       "      <td>41873</td>\n",
       "      <td>&lt;NA&gt;</td>\n",
       "      <td>YgirT</td>\n",
       "      <td>{u, U}</td>\n",
       "      <td>[a, b, c]</td>\n",
       "    </tr>\n",
       "    <tr>\n",
       "      <th>637</th>\n",
       "      <td>Carl</td>\n",
       "      <td>29</td>\n",
       "      <td>20</td>\n",
       "      <td>61857</td>\n",
       "      <td>&lt;NA&gt;</td>\n",
       "      <td>J0Cfg</td>\n",
       "      <td>{T, U, V}</td>\n",
       "      <td>[a, b, c]</td>\n",
       "    </tr>\n",
       "    <tr>\n",
       "      <th>790</th>\n",
       "      <td>Carl</td>\n",
       "      <td>23</td>\n",
       "      <td>20</td>\n",
       "      <td>74935</td>\n",
       "      <td>Berlin</td>\n",
       "      <td>KMDAa0</td>\n",
       "      <td>{5, X}</td>\n",
       "      <td>[A, C, C, B]</td>\n",
       "    </tr>\n",
       "    <tr>\n",
       "      <th>866</th>\n",
       "      <td>Carl</td>\n",
       "      <td>26</td>\n",
       "      <td>20</td>\n",
       "      <td>70292</td>\n",
       "      <td>Bremen</td>\n",
       "      <td>BV32bvÜ</td>\n",
       "      <td>{U}</td>\n",
       "      <td>[A, A, A]</td>\n",
       "    </tr>\n",
       "  </tbody>\n",
       "</table>\n",
       "</div>"
      ],
      "text/plain": [
       "    first_name  age  age_class  postal_code birthplace      secret   features  \\\n",
       "152       Carl   33         30        78354     Bremen  GWkä2iBQmt     {A, M}   \n",
       "435       Carl   35         30        78831     Bremen    wuDtGeoh     {2, O}   \n",
       "569       Carl   34         30        41873       <NA>       YgirT     {u, U}   \n",
       "637       Carl   29         20        61857       <NA>       J0Cfg  {T, U, V}   \n",
       "790       Carl   23         20        74935     Berlin      KMDAa0     {5, X}   \n",
       "866       Carl   26         20        70292     Bremen     BV32bvÜ        {U}   \n",
       "\n",
       "          history  \n",
       "152  [A, C, C, B]  \n",
       "435     [A, B, C]  \n",
       "569     [a, b, c]  \n",
       "637     [a, b, c]  \n",
       "790  [A, C, C, B]  \n",
       "866     [A, A, A]  "
      ]
     },
     "execution_count": 10,
     "metadata": {},
     "output_type": "execute_result"
    }
   ],
   "source": [
    "# create mask: most frequent first_name\n",
    "mask = df.first_name == pak.most_freq_elt(df.first_name)\n",
    "df[mask]"
   ]
  },
  {
   "cell_type": "code",
   "execution_count": 11,
   "metadata": {
    "execution": {
     "iopub.execute_input": "2023-03-15T08:40:32.029804Z",
     "iopub.status.busy": "2023-03-15T08:40:32.029428Z",
     "iopub.status.idle": "2023-03-15T08:40:32.093129Z",
     "shell.execute_reply": "2023-03-15T08:40:32.092066Z",
     "shell.execute_reply.started": "2023-03-15T08:40:32.029764Z"
    }
   },
   "outputs": [
    {
     "name": "stdout",
     "output_type": "stream",
     "text": [
      "Delete 6 rows from 1000\n"
     ]
    }
   ],
   "source": [
    "# just delete them\n",
    "df = pak.drop_rows(df,mask)"
   ]
  },
  {
   "cell_type": "markdown",
   "metadata": {},
   "source": [
    "### move_rows()"
   ]
  },
  {
   "cell_type": "code",
   "execution_count": 12,
   "metadata": {
    "execution": {
     "iopub.execute_input": "2023-03-15T08:40:32.094271Z",
     "iopub.status.busy": "2023-03-15T08:40:32.094015Z",
     "iopub.status.idle": "2023-03-15T08:40:32.125725Z",
     "shell.execute_reply": "2023-03-15T08:40:32.125008Z",
     "shell.execute_reply.started": "2023-03-15T08:40:32.094249Z"
    }
   },
   "outputs": [
    {
     "data": {
      "text/plain": [
       "\u001b[0;31mSignature:\u001b[0m\n",
       "\u001b[0mpak\u001b[0m\u001b[0;34m.\u001b[0m\u001b[0mmove_rows\u001b[0m\u001b[0;34m(\u001b[0m\u001b[0;34m\u001b[0m\n",
       "\u001b[0;34m\u001b[0m    \u001b[0mdf_from\u001b[0m\u001b[0;34m,\u001b[0m\u001b[0;34m\u001b[0m\n",
       "\u001b[0;34m\u001b[0m    \u001b[0mdf_to\u001b[0m\u001b[0;34m=\u001b[0m\u001b[0;32mNone\u001b[0m\u001b[0;34m,\u001b[0m\u001b[0;34m\u001b[0m\n",
       "\u001b[0;34m\u001b[0m    \u001b[0mmask\u001b[0m\u001b[0;34m=\u001b[0m\u001b[0;32mNone\u001b[0m\u001b[0;34m,\u001b[0m\u001b[0;34m\u001b[0m\n",
       "\u001b[0;34m\u001b[0m    \u001b[0mmsg\u001b[0m\u001b[0;34m=\u001b[0m\u001b[0;32mNone\u001b[0m\u001b[0;34m,\u001b[0m\u001b[0;34m\u001b[0m\n",
       "\u001b[0;34m\u001b[0m    \u001b[0mmsgcol\u001b[0m\u001b[0;34m=\u001b[0m\u001b[0;34m'msg'\u001b[0m\u001b[0;34m,\u001b[0m\u001b[0;34m\u001b[0m\n",
       "\u001b[0;34m\u001b[0m    \u001b[0mverbose\u001b[0m\u001b[0;34m=\u001b[0m\u001b[0;32mNone\u001b[0m\u001b[0;34m,\u001b[0m\u001b[0;34m\u001b[0m\n",
       "\u001b[0;34m\u001b[0m    \u001b[0mzähler\u001b[0m\u001b[0;34m=\u001b[0m\u001b[0;34m[\u001b[0m\u001b[0;36m0\u001b[0m\u001b[0;34m]\u001b[0m\u001b[0;34m,\u001b[0m\u001b[0;34m\u001b[0m\n",
       "\u001b[0;34m\u001b[0m\u001b[0;34m)\u001b[0m\u001b[0;34m\u001b[0m\u001b[0;34m\u001b[0m\u001b[0m\n",
       "\u001b[0;31mDocstring:\u001b[0m\n",
       "Moves rows identified by a binary mask from one dataframe to another (e.g. into a trash).\n",
       "Returns two DataFrames.\n",
       "The target dataframe gets an additional message column by standard (to identify why the rows were moved).\n",
       "If you don't give a message, move_rows will generate one: just the count of usage of the function.\n",
       " \n",
       "* df_from:   Origin DataFrame\n",
       "* df_to:     Target DataFrame or None\n",
       "* mask:      Binary mask, identifies the rows to be deleted\n",
       "* msg:       All moved rows are marked with this message, it's written in the message column of the target dataframe.\n",
       "             msg='' creates a autogenerated message.\n",
       "* msgcol:    Name of the message column. Set msg or msgcol to None if no message wanted.\n",
       "* verbose:   True if you want to print how many rows are moved.\n",
       "\n",
       "Examples:\n",
       "df, df_trash = move_rows( df, mask )           # move rows away (and create a new trash). \n",
       "                                               # The second argument is detected as mask, not as df_to.\n",
       "df, df_trash = move_rows( df, df_trash, mask ) # move rows away (into the existing trash)   \n",
       "\u001b[0;31mFile:\u001b[0m      ~/Data_Linux/Dropbox/31_Projekte/01_Python/git/pandasklar/src/pandasklar/pandas.py\n",
       "\u001b[0;31mType:\u001b[0m      function\n"
      ]
     },
     "metadata": {},
     "output_type": "display_data"
    }
   ],
   "source": [
    "?pak.move_rows"
   ]
  },
  {
   "cell_type": "code",
   "execution_count": 37,
   "metadata": {
    "execution": {
     "iopub.execute_input": "2023-03-15T08:41:26.166080Z",
     "iopub.status.busy": "2023-03-15T08:41:26.165636Z",
     "iopub.status.idle": "2023-03-15T08:41:26.543916Z",
     "shell.execute_reply": "2023-03-15T08:41:26.543198Z",
     "shell.execute_reply.started": "2023-03-15T08:41:26.166051Z"
    },
    "tags": []
   },
   "outputs": [
    {
     "data": {
      "text/html": [
       "<div>\n",
       "<style scoped>\n",
       "    .dataframe tbody tr th:only-of-type {\n",
       "        vertical-align: middle;\n",
       "    }\n",
       "\n",
       "    .dataframe tbody tr th {\n",
       "        vertical-align: top;\n",
       "    }\n",
       "\n",
       "    .dataframe thead th {\n",
       "        text-align: right;\n",
       "    }\n",
       "</style>\n",
       "<table border=\"1\" class=\"dataframe\">\n",
       "  <thead>\n",
       "    <tr style=\"text-align: right;\">\n",
       "      <th></th>\n",
       "      <th>first_name</th>\n",
       "      <th>age</th>\n",
       "      <th>secret</th>\n",
       "    </tr>\n",
       "  </thead>\n",
       "  <tbody>\n",
       "    <tr>\n",
       "      <th>0</th>\n",
       "      <td>Hildegard</td>\n",
       "      <td>34</td>\n",
       "      <td>hUEuhGOäv</td>\n",
       "    </tr>\n",
       "    <tr>\n",
       "      <th>3</th>\n",
       "      <td>Frida</td>\n",
       "      <td>29</td>\n",
       "      <td>üsqH1lpe</td>\n",
       "    </tr>\n",
       "    <tr>\n",
       "      <th>5</th>\n",
       "      <td>Pauline</td>\n",
       "      <td>30</td>\n",
       "      <td>4Fdop8T</td>\n",
       "    </tr>\n",
       "    <tr>\n",
       "      <th>27</th>\n",
       "      <td>Anton</td>\n",
       "      <td>20</td>\n",
       "      <td>q2UoW</td>\n",
       "    </tr>\n",
       "    <tr>\n",
       "      <th>228</th>\n",
       "      <td>Mika</td>\n",
       "      <td>31</td>\n",
       "      <td>07MWlByMVE</td>\n",
       "    </tr>\n",
       "    <tr>\n",
       "      <th>413</th>\n",
       "      <td>Marcel</td>\n",
       "      <td>27</td>\n",
       "      <td>I3DxDlyÄm</td>\n",
       "    </tr>\n",
       "    <tr>\n",
       "      <th>465</th>\n",
       "      <td>Sophie</td>\n",
       "      <td>42</td>\n",
       "      <td>MRe6pCG</td>\n",
       "    </tr>\n",
       "    <tr>\n",
       "      <th>999</th>\n",
       "      <td>Markus</td>\n",
       "      <td>32</td>\n",
       "      <td>aVOmA8yJxT</td>\n",
       "    </tr>\n",
       "  </tbody>\n",
       "</table>\n",
       "</div>"
      ],
      "text/plain": [
       "    first_name  age      secret\n",
       "0    Hildegard   34   hUEuhGOäv\n",
       "3        Frida   29    üsqH1lpe\n",
       "5      Pauline   30     4Fdop8T\n",
       "27       Anton   20       q2UoW\n",
       "228       Mika   31  07MWlByMVE\n",
       "413     Marcel   27   I3DxDlyÄm\n",
       "465     Sophie   42     MRe6pCG\n",
       "999     Markus   32  aVOmA8yJxT"
      ]
     },
     "execution_count": 37,
     "metadata": {},
     "output_type": "execute_result"
    }
   ],
   "source": [
    "# New test data\n",
    "df = pak.people(1000)\n",
    "df = pak.drop_cols(df,['age_class','postal_code','birthplace','features','history'])\n",
    "df['first_name'] = pak.change_datatype(df.first_name,'object', verbose=False)\n",
    "df['age']        = pak.change_datatype(df.age,       'int64',  verbose=False)\n",
    "df_orig = df.copy()\n",
    "pak.sample(df)"
   ]
  },
  {
   "cell_type": "code",
   "execution_count": 38,
   "metadata": {
    "execution": {
     "iopub.execute_input": "2023-03-15T08:41:51.775976Z",
     "iopub.status.busy": "2023-03-15T08:41:51.775545Z",
     "iopub.status.idle": "2023-03-15T08:41:51.820678Z",
     "shell.execute_reply": "2023-03-15T08:41:51.819797Z",
     "shell.execute_reply.started": "2023-03-15T08:41:51.775946Z"
    },
    "tags": []
   },
   "outputs": [
    {
     "data": {
      "text/html": [
       "<div>\n",
       "<style scoped>\n",
       "    .dataframe tbody tr th:only-of-type {\n",
       "        vertical-align: middle;\n",
       "    }\n",
       "\n",
       "    .dataframe tbody tr th {\n",
       "        vertical-align: top;\n",
       "    }\n",
       "\n",
       "    .dataframe thead th {\n",
       "        text-align: right;\n",
       "    }\n",
       "</style>\n",
       "<table border=\"1\" class=\"dataframe\">\n",
       "  <thead>\n",
       "    <tr style=\"text-align: right;\">\n",
       "      <th></th>\n",
       "      <th>first_name</th>\n",
       "      <th>age</th>\n",
       "      <th>secret</th>\n",
       "    </tr>\n",
       "  </thead>\n",
       "  <tbody>\n",
       "    <tr>\n",
       "      <th>413</th>\n",
       "      <td>Marcel</td>\n",
       "      <td>27</td>\n",
       "      <td>I3DxDlyÄm</td>\n",
       "    </tr>\n",
       "    <tr>\n",
       "      <th>446</th>\n",
       "      <td>Marcel</td>\n",
       "      <td>23</td>\n",
       "      <td>liIAcNANuÄ</td>\n",
       "    </tr>\n",
       "    <tr>\n",
       "      <th>486</th>\n",
       "      <td>Marcel</td>\n",
       "      <td>36</td>\n",
       "      <td>MBeJSBYjx</td>\n",
       "    </tr>\n",
       "    <tr>\n",
       "      <th>504</th>\n",
       "      <td>Marcel</td>\n",
       "      <td>20</td>\n",
       "      <td>iriua</td>\n",
       "    </tr>\n",
       "    <tr>\n",
       "      <th>541</th>\n",
       "      <td>Marcel</td>\n",
       "      <td>29</td>\n",
       "      <td>vmneNRüF</td>\n",
       "    </tr>\n",
       "    <tr>\n",
       "      <th>735</th>\n",
       "      <td>Marcel</td>\n",
       "      <td>35</td>\n",
       "      <td>kNxjEwRQ</td>\n",
       "    </tr>\n",
       "    <tr>\n",
       "      <th>911</th>\n",
       "      <td>Marcel</td>\n",
       "      <td>37</td>\n",
       "      <td>16r3PÜw</td>\n",
       "    </tr>\n",
       "  </tbody>\n",
       "</table>\n",
       "</div>"
      ],
      "text/plain": [
       "    first_name  age      secret\n",
       "413     Marcel   27   I3DxDlyÄm\n",
       "446     Marcel   23  liIAcNANuÄ\n",
       "486     Marcel   36   MBeJSBYjx\n",
       "504     Marcel   20       iriua\n",
       "541     Marcel   29    vmneNRüF\n",
       "735     Marcel   35    kNxjEwRQ\n",
       "911     Marcel   37     16r3PÜw"
      ]
     },
     "execution_count": 38,
     "metadata": {},
     "output_type": "execute_result"
    }
   ],
   "source": [
    "# create mask: most frequent first_name\n",
    "mask = df.first_name == pak.most_freq_elt(df.first_name)\n",
    "df[mask]"
   ]
  },
  {
   "cell_type": "code",
   "execution_count": 39,
   "metadata": {
    "execution": {
     "iopub.execute_input": "2023-03-15T08:42:03.945338Z",
     "iopub.status.busy": "2023-03-15T08:42:03.945056Z",
     "iopub.status.idle": "2023-03-15T08:42:03.976796Z",
     "shell.execute_reply": "2023-03-15T08:42:03.976063Z",
     "shell.execute_reply.started": "2023-03-15T08:42:03.945315Z"
    },
    "tags": []
   },
   "outputs": [
    {
     "name": "stdout",
     "output_type": "stream",
     "text": [
      "Move 7 rows from 1000\n"
     ]
    }
   ],
   "source": [
    "# move them away (and create a new trash)\n",
    "df, df_trash = pak.move_rows( df, mask)"
   ]
  },
  {
   "cell_type": "code",
   "execution_count": 40,
   "metadata": {
    "execution": {
     "iopub.execute_input": "2023-03-15T08:42:08.057649Z",
     "iopub.status.busy": "2023-03-15T08:42:08.056721Z",
     "iopub.status.idle": "2023-03-15T08:42:08.106383Z",
     "shell.execute_reply": "2023-03-15T08:42:08.105117Z",
     "shell.execute_reply.started": "2023-03-15T08:42:08.057609Z"
    },
    "tags": []
   },
   "outputs": [
    {
     "name": "stdout",
     "output_type": "stream",
     "text": [
      "count rows: 993  +  7\n"
     ]
    }
   ],
   "source": [
    "print('count rows:', df.shape[0], ' + ', df_trash.shape[0])"
   ]
  },
  {
   "cell_type": "code",
   "execution_count": 41,
   "metadata": {
    "execution": {
     "iopub.execute_input": "2023-03-15T08:42:10.879846Z",
     "iopub.status.busy": "2023-03-15T08:42:10.879560Z",
     "iopub.status.idle": "2023-03-15T08:42:10.922699Z",
     "shell.execute_reply": "2023-03-15T08:42:10.921729Z",
     "shell.execute_reply.started": "2023-03-15T08:42:10.879823Z"
    },
    "tags": []
   },
   "outputs": [
    {
     "data": {
      "text/html": [
       "<div>\n",
       "<style scoped>\n",
       "    .dataframe tbody tr th:only-of-type {\n",
       "        vertical-align: middle;\n",
       "    }\n",
       "\n",
       "    .dataframe tbody tr th {\n",
       "        vertical-align: top;\n",
       "    }\n",
       "\n",
       "    .dataframe thead th {\n",
       "        text-align: right;\n",
       "    }\n",
       "</style>\n",
       "<table border=\"1\" class=\"dataframe\">\n",
       "  <thead>\n",
       "    <tr style=\"text-align: right;\">\n",
       "      <th></th>\n",
       "      <th>first_name</th>\n",
       "      <th>age</th>\n",
       "      <th>secret</th>\n",
       "    </tr>\n",
       "  </thead>\n",
       "  <tbody>\n",
       "    <tr>\n",
       "      <th>413</th>\n",
       "      <td>Marcel</td>\n",
       "      <td>27</td>\n",
       "      <td>I3DxDlyÄm</td>\n",
       "    </tr>\n",
       "    <tr>\n",
       "      <th>446</th>\n",
       "      <td>Marcel</td>\n",
       "      <td>23</td>\n",
       "      <td>liIAcNANuÄ</td>\n",
       "    </tr>\n",
       "    <tr>\n",
       "      <th>486</th>\n",
       "      <td>Marcel</td>\n",
       "      <td>36</td>\n",
       "      <td>MBeJSBYjx</td>\n",
       "    </tr>\n",
       "    <tr>\n",
       "      <th>504</th>\n",
       "      <td>Marcel</td>\n",
       "      <td>20</td>\n",
       "      <td>iriua</td>\n",
       "    </tr>\n",
       "    <tr>\n",
       "      <th>541</th>\n",
       "      <td>Marcel</td>\n",
       "      <td>29</td>\n",
       "      <td>vmneNRüF</td>\n",
       "    </tr>\n",
       "    <tr>\n",
       "      <th>735</th>\n",
       "      <td>Marcel</td>\n",
       "      <td>35</td>\n",
       "      <td>kNxjEwRQ</td>\n",
       "    </tr>\n",
       "    <tr>\n",
       "      <th>911</th>\n",
       "      <td>Marcel</td>\n",
       "      <td>37</td>\n",
       "      <td>16r3PÜw</td>\n",
       "    </tr>\n",
       "  </tbody>\n",
       "</table>\n",
       "</div>"
      ],
      "text/plain": [
       "    first_name  age      secret\n",
       "413     Marcel   27   I3DxDlyÄm\n",
       "446     Marcel   23  liIAcNANuÄ\n",
       "486     Marcel   36   MBeJSBYjx\n",
       "504     Marcel   20       iriua\n",
       "541     Marcel   29    vmneNRüF\n",
       "735     Marcel   35    kNxjEwRQ\n",
       "911     Marcel   37     16r3PÜw"
      ]
     },
     "execution_count": 41,
     "metadata": {},
     "output_type": "execute_result"
    }
   ],
   "source": [
    "#df\n",
    "df_trash"
   ]
  },
  {
   "cell_type": "markdown",
   "metadata": {},
   "source": [
    "### add_rows()"
   ]
  },
  {
   "cell_type": "code",
   "execution_count": 22,
   "metadata": {
    "execution": {
     "iopub.execute_input": "2023-03-15T08:40:32.875009Z",
     "iopub.status.busy": "2023-03-15T08:40:32.874078Z",
     "iopub.status.idle": "2023-03-15T08:40:32.932898Z",
     "shell.execute_reply": "2023-03-15T08:40:32.931504Z",
     "shell.execute_reply.started": "2023-03-15T08:40:32.874932Z"
    }
   },
   "outputs": [
    {
     "data": {
      "text/plain": [
       "\u001b[0;31mSignature:\u001b[0m\n",
       "\u001b[0mpak\u001b[0m\u001b[0;34m.\u001b[0m\u001b[0madd_rows\u001b[0m\u001b[0;34m(\u001b[0m\u001b[0;34m\u001b[0m\n",
       "\u001b[0;34m\u001b[0m    \u001b[0mdf_main\u001b[0m\u001b[0;34m,\u001b[0m\u001b[0;34m\u001b[0m\n",
       "\u001b[0;34m\u001b[0m    \u001b[0mdf_add\u001b[0m\u001b[0;34m,\u001b[0m\u001b[0;34m\u001b[0m\n",
       "\u001b[0;34m\u001b[0m    \u001b[0monly_new\u001b[0m\u001b[0;34m=\u001b[0m\u001b[0;32mNone\u001b[0m\u001b[0;34m,\u001b[0m\u001b[0;34m\u001b[0m\n",
       "\u001b[0;34m\u001b[0m    \u001b[0mreindex\u001b[0m\u001b[0;34m=\u001b[0m\u001b[0;32mTrue\u001b[0m\u001b[0;34m,\u001b[0m\u001b[0;34m\u001b[0m\n",
       "\u001b[0;34m\u001b[0m    \u001b[0massert_subset\u001b[0m\u001b[0;34m=\u001b[0m\u001b[0;32mFalse\u001b[0m\u001b[0;34m,\u001b[0m\u001b[0;34m\u001b[0m\n",
       "\u001b[0;34m\u001b[0m    \u001b[0mverbose\u001b[0m\u001b[0;34m=\u001b[0m\u001b[0;32mNone\u001b[0m\u001b[0;34m,\u001b[0m\u001b[0;34m\u001b[0m\n",
       "\u001b[0;34m\u001b[0m\u001b[0;34m)\u001b[0m\u001b[0;34m\u001b[0m\u001b[0;34m\u001b[0m\u001b[0m\n",
       "\u001b[0;31mDocstring:\u001b[0m\n",
       "Like concat, with additional features only_new and verbose.\n",
       "* df_main:       The new rows are added to the end of this dataframe.\n",
       "* df_add:        Rows to add. The dtypes are adapted to those of df_main.\n",
       "                 Series or list are also accepted for appending.\n",
       "* only_new:      Avoid duplicates by setting this to a list of column names.\n",
       "                 This combination must contain new content.\n",
       "                 A single column name as string works the same way.\n",
       "                 Or set only_new=True, this will avoid duplicate row indexes.\n",
       "* reindex:       Will the result get a fresh index without dups?\n",
       "* assert_subset: Check if all columns in df_add exist in df_main already?\n",
       "* verbose:       Print status messages how many rows affected\n",
       "\u001b[0;31mFile:\u001b[0m      ~/Data_Linux/Dropbox/31_Projekte/01_Python/git/pandasklar/src/pandasklar/pandas.py\n",
       "\u001b[0;31mType:\u001b[0m      function\n"
      ]
     },
     "metadata": {},
     "output_type": "display_data"
    }
   ],
   "source": [
    "?pak.add_rows"
   ]
  },
  {
   "cell_type": "code",
   "execution_count": 23,
   "metadata": {
    "execution": {
     "iopub.execute_input": "2023-03-15T08:40:32.937849Z",
     "iopub.status.busy": "2023-03-15T08:40:32.934157Z",
     "iopub.status.idle": "2023-03-15T08:40:33.001122Z",
     "shell.execute_reply": "2023-03-15T08:40:33.000001Z",
     "shell.execute_reply.started": "2023-03-15T08:40:32.937764Z"
    }
   },
   "outputs": [
    {
     "name": "stdout",
     "output_type": "stream",
     "text": [
      "change_datatype \n",
      "first_name           --> pd.string \n",
      "age                  --> pd.Int8   \n",
      "change_datatype before: 146.3 KB after: 140.6 KB\n",
      "\n"
     ]
    }
   ],
   "source": [
    "# We will concat df and df_trash again and compare it with df_orig, the backup of df\n",
    "\n",
    "# get rid of the msg column\n",
    "df_trash     = pak.drop_cols(df_trash,'msg')       \n",
    "\n",
    "# optimize df, but not df_trash. \n",
    "# So the dtypes are different now\n",
    "df = pak.change_datatype(df)"
   ]
  },
  {
   "cell_type": "code",
   "execution_count": 24,
   "metadata": {
    "execution": {
     "iopub.execute_input": "2023-03-15T08:40:33.003270Z",
     "iopub.status.busy": "2023-03-15T08:40:33.002749Z",
     "iopub.status.idle": "2023-03-15T08:40:33.053978Z",
     "shell.execute_reply": "2023-03-15T08:40:33.052827Z",
     "shell.execute_reply.started": "2023-03-15T08:40:33.003223Z"
    }
   },
   "outputs": [
    {
     "name": "stdout",
     "output_type": "stream",
     "text": [
      "13 rows added, now a total of 1000\n"
     ]
    }
   ],
   "source": [
    "# recover to the state before move_rows\n",
    "df_recovered = pak.add_rows(df, df_trash)"
   ]
  },
  {
   "cell_type": "code",
   "execution_count": 25,
   "metadata": {
    "execution": {
     "iopub.execute_input": "2023-03-15T08:40:33.055847Z",
     "iopub.status.busy": "2023-03-15T08:40:33.055474Z",
     "iopub.status.idle": "2023-03-15T08:40:33.093244Z",
     "shell.execute_reply": "2023-03-15T08:40:33.092510Z",
     "shell.execute_reply.started": "2023-03-15T08:40:33.055817Z"
    }
   },
   "outputs": [],
   "source": [
    "#df_recovered"
   ]
  },
  {
   "cell_type": "code",
   "execution_count": 26,
   "metadata": {
    "execution": {
     "iopub.execute_input": "2023-03-15T08:40:33.094736Z",
     "iopub.status.busy": "2023-03-15T08:40:33.094473Z",
     "iopub.status.idle": "2023-03-15T08:40:33.147800Z",
     "shell.execute_reply": "2023-03-15T08:40:33.143694Z",
     "shell.execute_reply.started": "2023-03-15T08:40:33.094715Z"
    }
   },
   "outputs": [],
   "source": [
    "# check the datatypes \n",
    "#pak.analyse_cols(df_recovered)"
   ]
  },
  {
   "cell_type": "code",
   "execution_count": 27,
   "metadata": {
    "execution": {
     "iopub.execute_input": "2023-03-15T08:40:33.148776Z",
     "iopub.status.busy": "2023-03-15T08:40:33.148524Z",
     "iopub.status.idle": "2023-03-15T08:40:33.223764Z",
     "shell.execute_reply": "2023-03-15T08:40:33.222905Z",
     "shell.execute_reply.started": "2023-03-15T08:40:33.148755Z"
    }
   },
   "outputs": [
    {
     "data": {
      "text/html": [
       "<div>\n",
       "<style scoped>\n",
       "    .dataframe tbody tr th:only-of-type {\n",
       "        vertical-align: middle;\n",
       "    }\n",
       "\n",
       "    .dataframe tbody tr th {\n",
       "        vertical-align: top;\n",
       "    }\n",
       "\n",
       "    .dataframe thead th {\n",
       "        text-align: right;\n",
       "    }\n",
       "</style>\n",
       "<table border=\"1\" class=\"dataframe\">\n",
       "  <thead>\n",
       "    <tr style=\"text-align: right;\">\n",
       "      <th></th>\n",
       "      <th>name</th>\n",
       "      <th>dtype</th>\n",
       "      <th>nnan</th>\n",
       "      <th>content</th>\n",
       "      <th>sort</th>\n",
       "      <th>eq</th>\n",
       "    </tr>\n",
       "  </thead>\n",
       "  <tbody>\n",
       "    <tr>\n",
       "      <th>first_name</th>\n",
       "      <td>True</td>\n",
       "      <td>False</td>\n",
       "      <td>True</td>\n",
       "      <td>True</td>\n",
       "      <td>False</td>\n",
       "      <td>False</td>\n",
       "    </tr>\n",
       "    <tr>\n",
       "      <th>age</th>\n",
       "      <td>True</td>\n",
       "      <td>False</td>\n",
       "      <td>True</td>\n",
       "      <td>True</td>\n",
       "      <td>False</td>\n",
       "      <td>False</td>\n",
       "    </tr>\n",
       "    <tr>\n",
       "      <th>secret</th>\n",
       "      <td>True</td>\n",
       "      <td>True</td>\n",
       "      <td>True</td>\n",
       "      <td>True</td>\n",
       "      <td>False</td>\n",
       "      <td>False</td>\n",
       "    </tr>\n",
       "    <tr>\n",
       "      <th>(Total)</th>\n",
       "      <td>True</td>\n",
       "      <td>False</td>\n",
       "      <td>True</td>\n",
       "      <td>True</td>\n",
       "      <td>False</td>\n",
       "      <td>False</td>\n",
       "    </tr>\n",
       "  </tbody>\n",
       "</table>\n",
       "</div>"
      ],
      "text/plain": [
       "            name  dtype  nnan content   sort     eq\n",
       "first_name  True  False  True    True  False  False\n",
       "age         True  False  True    True  False  False\n",
       "secret      True   True  True    True  False  False\n",
       "(Total)     True  False  True    True  False  False"
      ]
     },
     "execution_count": 27,
     "metadata": {},
     "output_type": "execute_result"
    }
   ],
   "source": [
    "# The dataframes are equal, but sorted different\n",
    "# (see row: Total, cols: sort and eq)\n",
    "pak.compare_dataframes(df_orig, df_recovered)"
   ]
  },
  {
   "cell_type": "code",
   "execution_count": 28,
   "metadata": {
    "execution": {
     "iopub.execute_input": "2023-03-15T08:40:33.227671Z",
     "iopub.status.busy": "2023-03-15T08:40:33.226787Z",
     "iopub.status.idle": "2023-03-15T08:40:33.279487Z",
     "shell.execute_reply": "2023-03-15T08:40:33.278705Z",
     "shell.execute_reply.started": "2023-03-15T08:40:33.227642Z"
    }
   },
   "outputs": [
    {
     "name": "stdout",
     "output_type": "stream",
     "text": [
      "13 rows added, now a total of 1000\n"
     ]
    },
    {
     "data": {
      "text/html": [
       "<div>\n",
       "<style scoped>\n",
       "    .dataframe tbody tr th:only-of-type {\n",
       "        vertical-align: middle;\n",
       "    }\n",
       "\n",
       "    .dataframe tbody tr th {\n",
       "        vertical-align: top;\n",
       "    }\n",
       "\n",
       "    .dataframe thead th {\n",
       "        text-align: right;\n",
       "    }\n",
       "</style>\n",
       "<table border=\"1\" class=\"dataframe\">\n",
       "  <thead>\n",
       "    <tr style=\"text-align: right;\">\n",
       "      <th></th>\n",
       "      <th>name</th>\n",
       "      <th>dtype</th>\n",
       "      <th>nnan</th>\n",
       "      <th>content</th>\n",
       "      <th>sort</th>\n",
       "      <th>eq</th>\n",
       "    </tr>\n",
       "  </thead>\n",
       "  <tbody>\n",
       "    <tr>\n",
       "      <th>first_name</th>\n",
       "      <td>True</td>\n",
       "      <td>False</td>\n",
       "      <td>True</td>\n",
       "      <td>True</td>\n",
       "      <td>False</td>\n",
       "      <td>False</td>\n",
       "    </tr>\n",
       "    <tr>\n",
       "      <th>age</th>\n",
       "      <td>True</td>\n",
       "      <td>False</td>\n",
       "      <td>True</td>\n",
       "      <td>True</td>\n",
       "      <td>False</td>\n",
       "      <td>False</td>\n",
       "    </tr>\n",
       "    <tr>\n",
       "      <th>secret</th>\n",
       "      <td>True</td>\n",
       "      <td>True</td>\n",
       "      <td>True</td>\n",
       "      <td>True</td>\n",
       "      <td>False</td>\n",
       "      <td>False</td>\n",
       "    </tr>\n",
       "    <tr>\n",
       "      <th>(Total)</th>\n",
       "      <td>True</td>\n",
       "      <td>False</td>\n",
       "      <td>True</td>\n",
       "      <td>True</td>\n",
       "      <td>False</td>\n",
       "      <td>False</td>\n",
       "    </tr>\n",
       "  </tbody>\n",
       "</table>\n",
       "</div>"
      ],
      "text/plain": [
       "            name  dtype  nnan content   sort     eq\n",
       "first_name  True  False  True    True  False  False\n",
       "age         True  False  True    True  False  False\n",
       "secret      True   True  True    True  False  False\n",
       "(Total)     True  False  True    True  False  False"
      ]
     },
     "execution_count": 28,
     "metadata": {},
     "output_type": "execute_result"
    }
   ],
   "source": [
    "# if we do this with reindex=True, \n",
    "# the content keeps equal, \n",
    "# but the dataframes are not equal\n",
    "# (see row: Total, cols: content and eq)\n",
    "df_recovered = pak.add_rows(df, df_trash, reindex=True)\n",
    "pak.compare_dataframes(df_orig, df_recovered)"
   ]
  },
  {
   "cell_type": "markdown",
   "metadata": {},
   "source": [
    "#### add_rows() with only_new=[col1, col2]"
   ]
  },
  {
   "cell_type": "code",
   "execution_count": 29,
   "metadata": {
    "execution": {
     "iopub.execute_input": "2023-03-15T08:40:33.280633Z",
     "iopub.status.busy": "2023-03-15T08:40:33.280175Z",
     "iopub.status.idle": "2023-03-15T08:40:33.308895Z",
     "shell.execute_reply": "2023-03-15T08:40:33.307619Z",
     "shell.execute_reply.started": "2023-03-15T08:40:33.280608Z"
    }
   },
   "outputs": [
    {
     "name": "stdout",
     "output_type": "stream",
     "text": [
      "count rows: 987  +  13\n"
     ]
    }
   ],
   "source": [
    "# we go back to df and df_trash\n",
    "print('count rows:', df.shape[0], ' + ', df_trash.shape[0])"
   ]
  },
  {
   "cell_type": "code",
   "execution_count": 30,
   "metadata": {
    "execution": {
     "iopub.execute_input": "2023-03-15T08:40:33.310114Z",
     "iopub.status.busy": "2023-03-15T08:40:33.309858Z",
     "iopub.status.idle": "2023-03-15T08:40:33.344037Z",
     "shell.execute_reply": "2023-03-15T08:40:33.343243Z",
     "shell.execute_reply.started": "2023-03-15T08:40:33.310093Z"
    }
   },
   "outputs": [
    {
     "name": "stdout",
     "output_type": "stream",
     "text": [
      "13 rows added, now a total of 1000\n"
     ]
    }
   ],
   "source": [
    "# recover to the state before move_rows\n",
    "df_recovered = pak.add_rows(df, df_trash)"
   ]
  },
  {
   "cell_type": "code",
   "execution_count": 31,
   "metadata": {
    "execution": {
     "iopub.execute_input": "2023-03-15T08:40:33.345175Z",
     "iopub.status.busy": "2023-03-15T08:40:33.344846Z",
     "iopub.status.idle": "2023-03-15T08:40:33.396051Z",
     "shell.execute_reply": "2023-03-15T08:40:33.395034Z",
     "shell.execute_reply.started": "2023-03-15T08:40:33.345145Z"
    }
   },
   "outputs": [
    {
     "name": "stdout",
     "output_type": "stream",
     "text": [
      "13 rows added, now a total of 1013\n"
     ]
    }
   ],
   "source": [
    "# add the same rows again >> now we have some duplicates\n",
    "df_with_dups = pak.add_rows(df_recovered, df_trash)"
   ]
  },
  {
   "cell_type": "code",
   "execution_count": 32,
   "metadata": {
    "execution": {
     "iopub.execute_input": "2023-03-15T08:40:33.397435Z",
     "iopub.status.busy": "2023-03-15T08:40:33.397038Z",
     "iopub.status.idle": "2023-03-15T08:40:33.468222Z",
     "shell.execute_reply": "2023-03-15T08:40:33.465836Z",
     "shell.execute_reply.started": "2023-03-15T08:40:33.397397Z"
    }
   },
   "outputs": [
    {
     "name": "stdout",
     "output_type": "stream",
     "text": [
      "13 rows not attached\n",
      "0 rows added, now a total of 1000\n"
     ]
    }
   ],
   "source": [
    "# you can avoid that by setting only_new to a column name combination that must contain new content\n",
    "# run this cell multible times\n",
    "df_recovered = pak.add_rows(df_recovered, df_trash, only_new = ['secret','age'])"
   ]
  },
  {
   "cell_type": "markdown",
   "metadata": {},
   "source": [
    "#### add_rows() with only_new=True"
   ]
  },
  {
   "cell_type": "code",
   "execution_count": 33,
   "metadata": {
    "execution": {
     "iopub.execute_input": "2023-03-15T08:40:33.469261Z",
     "iopub.status.busy": "2023-03-15T08:40:33.469019Z",
     "iopub.status.idle": "2023-03-15T08:40:33.554504Z",
     "shell.execute_reply": "2023-03-15T08:40:33.551379Z",
     "shell.execute_reply.started": "2023-03-15T08:40:33.469238Z"
    }
   },
   "outputs": [
    {
     "name": "stdout",
     "output_type": "stream",
     "text": [
      "count rows: 987  +  13\n"
     ]
    }
   ],
   "source": [
    "# we go back to df and df_trash\n",
    "# but we give them a random index\n",
    "df.index       = pak.random_series(df.shape[0],       'string', len_min=3, len_max=3, p_dup=0)\n",
    "df_trash.index = pak.random_series(df_trash.shape[0], 'string', len_min=3, len_max=3, p_dup=0)\n",
    "print('count rows:', df.shape[0], ' + ', df_trash.shape[0])"
   ]
  },
  {
   "cell_type": "code",
   "execution_count": 34,
   "metadata": {
    "execution": {
     "iopub.execute_input": "2023-03-15T08:40:33.557021Z",
     "iopub.status.busy": "2023-03-15T08:40:33.556306Z",
     "iopub.status.idle": "2023-03-15T08:40:33.615733Z",
     "shell.execute_reply": "2023-03-15T08:40:33.610175Z",
     "shell.execute_reply.started": "2023-03-15T08:40:33.556952Z"
    }
   },
   "outputs": [
    {
     "name": "stdout",
     "output_type": "stream",
     "text": [
      "0 rows not attached\n",
      "13 rows added, now a total of 1000\n"
     ]
    },
    {
     "data": {
      "text/html": [
       "<div>\n",
       "<style scoped>\n",
       "    .dataframe tbody tr th:only-of-type {\n",
       "        vertical-align: middle;\n",
       "    }\n",
       "\n",
       "    .dataframe tbody tr th {\n",
       "        vertical-align: top;\n",
       "    }\n",
       "\n",
       "    .dataframe thead th {\n",
       "        text-align: right;\n",
       "    }\n",
       "</style>\n",
       "<table border=\"1\" class=\"dataframe\">\n",
       "  <thead>\n",
       "    <tr style=\"text-align: right;\">\n",
       "      <th></th>\n",
       "      <th>first_name</th>\n",
       "      <th>age</th>\n",
       "      <th>secret</th>\n",
       "    </tr>\n",
       "  </thead>\n",
       "  <tbody>\n",
       "    <tr>\n",
       "      <th>0</th>\n",
       "      <td>Anke</td>\n",
       "      <td>25</td>\n",
       "      <td>ü06Xu64x8</td>\n",
       "    </tr>\n",
       "    <tr>\n",
       "      <th>1</th>\n",
       "      <td>Brigitte</td>\n",
       "      <td>30</td>\n",
       "      <td>CV8JuCLmQ</td>\n",
       "    </tr>\n",
       "    <tr>\n",
       "      <th>2</th>\n",
       "      <td>Evelyn</td>\n",
       "      <td>29</td>\n",
       "      <td>rÜüzo</td>\n",
       "    </tr>\n",
       "    <tr>\n",
       "      <th>3</th>\n",
       "      <td>Yasmin</td>\n",
       "      <td>32</td>\n",
       "      <td>2SFaütKk</td>\n",
       "    </tr>\n",
       "    <tr>\n",
       "      <th>4</th>\n",
       "      <td>Stephanie</td>\n",
       "      <td>31</td>\n",
       "      <td>qZS7SkJlS</td>\n",
       "    </tr>\n",
       "    <tr>\n",
       "      <th>...</th>\n",
       "      <td>...</td>\n",
       "      <td>...</td>\n",
       "      <td>...</td>\n",
       "    </tr>\n",
       "    <tr>\n",
       "      <th>995</th>\n",
       "      <td>Emily</td>\n",
       "      <td>32</td>\n",
       "      <td>azÖUymf</td>\n",
       "    </tr>\n",
       "    <tr>\n",
       "      <th>996</th>\n",
       "      <td>Emily</td>\n",
       "      <td>35</td>\n",
       "      <td>mCLj900eh</td>\n",
       "    </tr>\n",
       "    <tr>\n",
       "      <th>997</th>\n",
       "      <td>Emily</td>\n",
       "      <td>32</td>\n",
       "      <td>DA9JkbWj2E</td>\n",
       "    </tr>\n",
       "    <tr>\n",
       "      <th>998</th>\n",
       "      <td>Emily</td>\n",
       "      <td>23</td>\n",
       "      <td>üFFIe5K</td>\n",
       "    </tr>\n",
       "    <tr>\n",
       "      <th>999</th>\n",
       "      <td>Emily</td>\n",
       "      <td>37</td>\n",
       "      <td>sbeonT</td>\n",
       "    </tr>\n",
       "  </tbody>\n",
       "</table>\n",
       "<p>1000 rows × 3 columns</p>\n",
       "</div>"
      ],
      "text/plain": [
       "    first_name  age      secret\n",
       "0         Anke   25   ü06Xu64x8\n",
       "1     Brigitte   30   CV8JuCLmQ\n",
       "2       Evelyn   29       rÜüzo\n",
       "3       Yasmin   32    2SFaütKk\n",
       "4    Stephanie   31   qZS7SkJlS\n",
       "..         ...  ...         ...\n",
       "995      Emily   32     azÖUymf\n",
       "996      Emily   35   mCLj900eh\n",
       "997      Emily   32  DA9JkbWj2E\n",
       "998      Emily   23     üFFIe5K\n",
       "999      Emily   37      sbeonT\n",
       "\n",
       "[1000 rows x 3 columns]"
      ]
     },
     "execution_count": 34,
     "metadata": {},
     "output_type": "execute_result"
    }
   ],
   "source": [
    "# recover with only_new=True to avoid duplicate row indexes\n",
    "df_recovered = pak.add_rows(df, df_trash, only_new=True)\n",
    "df_recovered"
   ]
  },
  {
   "cell_type": "code",
   "execution_count": 35,
   "metadata": {
    "execution": {
     "iopub.execute_input": "2023-03-15T08:40:33.619121Z",
     "iopub.status.busy": "2023-03-15T08:40:33.618227Z",
     "iopub.status.idle": "2023-03-15T08:40:33.679326Z",
     "shell.execute_reply": "2023-03-15T08:40:33.676730Z",
     "shell.execute_reply.started": "2023-03-15T08:40:33.619017Z"
    }
   },
   "outputs": [
    {
     "name": "stdout",
     "output_type": "stream",
     "text": [
      "0 rows not attached\n",
      "13 rows added, now a total of 1013\n"
     ]
    }
   ],
   "source": [
    "# add the same rows again >> no rows added\n",
    "df_recovered = pak.add_rows(df_recovered, df_trash, only_new=True)\n",
    "#df_recovered"
   ]
  },
  {
   "cell_type": "code",
   "execution_count": 36,
   "metadata": {
    "execution": {
     "iopub.execute_input": "2023-03-15T08:40:33.680448Z",
     "iopub.status.busy": "2023-03-15T08:40:33.680046Z",
     "iopub.status.idle": "2023-03-15T08:40:33.723578Z",
     "shell.execute_reply": "2023-03-15T08:40:33.718965Z",
     "shell.execute_reply.started": "2023-03-15T08:40:33.680390Z"
    }
   },
   "outputs": [],
   "source": [
    "#search_notebooks('add_rows', radius=3, exclude='nb_out', suffix='py')"
   ]
  },
  {
   "cell_type": "code",
   "execution_count": null,
   "metadata": {},
   "outputs": [],
   "source": []
  }
 ],
 "metadata": {
  "kernelspec": {
   "display_name": "Python 3 (ipykernel)",
   "language": "python",
   "name": "python3"
  },
  "language_info": {
   "codemirror_mode": {
    "name": "ipython",
    "version": 3
   },
   "file_extension": ".py",
   "mimetype": "text/x-python",
   "name": "python",
   "nbconvert_exporter": "python",
   "pygments_lexer": "ipython3",
   "version": "3.9.13"
  }
 },
 "nbformat": 4,
 "nbformat_minor": 4
}
