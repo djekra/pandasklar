{
 "cells": [
  {
   "cell_type": "code",
   "execution_count": 1,
   "metadata": {},
   "outputs": [
    {
     "name": "stdout",
     "output_type": "stream",
     "text": [
      "blab init\n",
      "blab found local libs at D:\\Dropbox\\31_Projekte\\01_Python\\libs\n",
      "Start Time: 20:36:16\n"
     ]
    },
    {
     "data": {
      "text/html": [
       "<img src onerror=\"var cell = this.closest('.jp-CodeCell');var editor = cell.querySelector('.jp-Editor');editor.style.background='Beige';this.parentNode.removeChild(this)\">"
      ],
      "text/plain": [
       "<IPython.core.display.HTML object>"
      ]
     },
     "metadata": {},
     "output_type": "display_data"
    },
    {
     "name": "stdout",
     "output_type": "stream",
     "text": [
      "time: 455 ms\n"
     ]
    }
   ],
   "source": [
    "# blab init\n",
    "import blab\n",
    "startup_notebook = blab.blab_startup()\n",
    "%run $startup_notebook"
   ]
  },
  {
   "cell_type": "markdown",
   "metadata": {},
   "source": [
    "# Manage rows\n",
    "* `drop_multiindex`: Converts any MultiIndex to normal columns and resets the index. Works with MultiIndex in Series or DataFrames, in rows and in columns.\n",
    "* `reset_index`: Creates a new, unnamed index. If keep_as is given, the old index is preserved as a row with this name. Otherwise the old index is dropped.\n",
    "* `rename_index`: Renames the index.\n",
    "* `drop_rows`: Drops rows identified by a binary mask, verbose if wanted.\n",
    "* `move_rows`: Moves rows identified by a binary mask from one dataframe to another (e.g. into a trash).<br>\n",
    "   The target dataframe gets an additional message column by standard (to identify why the rows were moved). Verbose if wanted. \n",
    "* `add_rows`: Like concat, with additional features only_new and verbose."
   ]
  },
  {
   "cell_type": "code",
   "execution_count": 2,
   "metadata": {},
   "outputs": [
    {
     "name": "stdout",
     "output_type": "stream",
     "text": [
      "VERBOSE = True\n",
      "--> setting verbose=True as default for all pandasklar functions\n",
      "\n",
      "time: 2.01 s\n"
     ]
    }
   ],
   "source": [
    "import pandas     as pd \n",
    "import bpyth      as bpy\n",
    "import pandasklar as pak \n",
    "pak.Config.set('VERBOSE', True)"
   ]
  },
  {
   "cell_type": "code",
   "execution_count": 3,
   "metadata": {},
   "outputs": [
    {
     "data": {
      "text/html": [
       "<div>\n",
       "<style scoped>\n",
       "    .dataframe tbody tr th:only-of-type {\n",
       "        vertical-align: middle;\n",
       "    }\n",
       "\n",
       "    .dataframe tbody tr th {\n",
       "        vertical-align: top;\n",
       "    }\n",
       "\n",
       "    .dataframe thead th {\n",
       "        text-align: right;\n",
       "    }\n",
       "</style>\n",
       "<table border=\"1\" class=\"dataframe\">\n",
       "  <thead>\n",
       "    <tr style=\"text-align: right;\">\n",
       "      <th></th>\n",
       "      <th>first_name</th>\n",
       "      <th>age</th>\n",
       "      <th>age_class</th>\n",
       "      <th>postal_code</th>\n",
       "      <th>birthplace</th>\n",
       "      <th>secret</th>\n",
       "      <th>features</th>\n",
       "      <th>history</th>\n",
       "    </tr>\n",
       "  </thead>\n",
       "  <tbody>\n",
       "    <tr>\n",
       "      <th>0</th>\n",
       "      <td>Lucy</td>\n",
       "      <td>25</td>\n",
       "      <td>20</td>\n",
       "      <td>29204</td>\n",
       "      <td>&lt;NA&gt;</td>\n",
       "      <td>oFÜObp5Tr</td>\n",
       "      <td>{C, k}</td>\n",
       "      <td>[A, C, C, B]</td>\n",
       "    </tr>\n",
       "    <tr>\n",
       "      <th>1</th>\n",
       "      <td>Carla</td>\n",
       "      <td>30</td>\n",
       "      <td>30</td>\n",
       "      <td>39807</td>\n",
       "      <td>&lt;NA&gt;</td>\n",
       "      <td>lräd8Äl1</td>\n",
       "      <td>{H, X, v, f}</td>\n",
       "      <td>[a, b, c]</td>\n",
       "    </tr>\n",
       "    <tr>\n",
       "      <th>2</th>\n",
       "      <td>Alina</td>\n",
       "      <td>38</td>\n",
       "      <td>30</td>\n",
       "      <td>88726</td>\n",
       "      <td>Berlin</td>\n",
       "      <td>1iyHus</td>\n",
       "      <td>{J, e}</td>\n",
       "      <td>[A, B, C, C]</td>\n",
       "    </tr>\n",
       "    <tr>\n",
       "      <th>3</th>\n",
       "      <td>David</td>\n",
       "      <td>30</td>\n",
       "      <td>30</td>\n",
       "      <td>28160</td>\n",
       "      <td>Bremen</td>\n",
       "      <td>8UFAÜ</td>\n",
       "      <td>{n, r, b, v}</td>\n",
       "      <td>[A, A, A]</td>\n",
       "    </tr>\n",
       "    <tr>\n",
       "      <th>4</th>\n",
       "      <td>Ernst</td>\n",
       "      <td>31</td>\n",
       "      <td>30</td>\n",
       "      <td>70795</td>\n",
       "      <td>Bremen</td>\n",
       "      <td>O7dZZM</td>\n",
       "      <td>{L, B}</td>\n",
       "      <td>[A, B, C]</td>\n",
       "    </tr>\n",
       "    <tr>\n",
       "      <th>...</th>\n",
       "      <td>...</td>\n",
       "      <td>...</td>\n",
       "      <td>...</td>\n",
       "      <td>...</td>\n",
       "      <td>...</td>\n",
       "      <td>...</td>\n",
       "      <td>...</td>\n",
       "      <td>...</td>\n",
       "    </tr>\n",
       "    <tr>\n",
       "      <th>995</th>\n",
       "      <td>Lea</td>\n",
       "      <td>31</td>\n",
       "      <td>30</td>\n",
       "      <td>66893</td>\n",
       "      <td>Berlin</td>\n",
       "      <td>äfVNRoicq</td>\n",
       "      <td>{O, Z, A, e}</td>\n",
       "      <td>[A, x]</td>\n",
       "    </tr>\n",
       "    <tr>\n",
       "      <th>996</th>\n",
       "      <td>Christina</td>\n",
       "      <td>25</td>\n",
       "      <td>20</td>\n",
       "      <td>24375</td>\n",
       "      <td>Bremen</td>\n",
       "      <td>gLehAWXb</td>\n",
       "      <td>{Y, i, H}</td>\n",
       "      <td>[A, x]</td>\n",
       "    </tr>\n",
       "    <tr>\n",
       "      <th>997</th>\n",
       "      <td>Lea</td>\n",
       "      <td>31</td>\n",
       "      <td>30</td>\n",
       "      <td>23065</td>\n",
       "      <td>Berlin</td>\n",
       "      <td>MXIfE</td>\n",
       "      <td>{X, C, w, P, p}</td>\n",
       "      <td>[A, A, A]</td>\n",
       "    </tr>\n",
       "    <tr>\n",
       "      <th>998</th>\n",
       "      <td>Luis</td>\n",
       "      <td>29</td>\n",
       "      <td>20</td>\n",
       "      <td>22689</td>\n",
       "      <td>&lt;NA&gt;</td>\n",
       "      <td>4PPdTE</td>\n",
       "      <td>{c, w, v, B}</td>\n",
       "      <td>[c, b, a]</td>\n",
       "    </tr>\n",
       "    <tr>\n",
       "      <th>999</th>\n",
       "      <td>Bruno</td>\n",
       "      <td>32</td>\n",
       "      <td>30</td>\n",
       "      <td>61490</td>\n",
       "      <td>Berlin</td>\n",
       "      <td>fQiökO</td>\n",
       "      <td>{J, M, L, 3}</td>\n",
       "      <td>[A, B, C, C]</td>\n",
       "    </tr>\n",
       "  </tbody>\n",
       "</table>\n",
       "<p>1000 rows × 8 columns</p>\n",
       "</div>"
      ],
      "text/plain": [
       "    first_name  age  age_class  postal_code birthplace     secret  \\\n",
       "0         Lucy   25         20        29204       <NA>  oFÜObp5Tr   \n",
       "1        Carla   30         30        39807       <NA>   lräd8Äl1   \n",
       "2        Alina   38         30        88726     Berlin     1iyHus   \n",
       "3        David   30         30        28160     Bremen      8UFAÜ   \n",
       "4        Ernst   31         30        70795     Bremen     O7dZZM   \n",
       "..         ...  ...        ...          ...        ...        ...   \n",
       "995        Lea   31         30        66893     Berlin  äfVNRoicq   \n",
       "996  Christina   25         20        24375     Bremen   gLehAWXb   \n",
       "997        Lea   31         30        23065     Berlin      MXIfE   \n",
       "998       Luis   29         20        22689       <NA>     4PPdTE   \n",
       "999      Bruno   32         30        61490     Berlin     fQiökO   \n",
       "\n",
       "            features       history  \n",
       "0             {C, k}  [A, C, C, B]  \n",
       "1       {H, X, v, f}     [a, b, c]  \n",
       "2             {J, e}  [A, B, C, C]  \n",
       "3       {n, r, b, v}     [A, A, A]  \n",
       "4             {L, B}     [A, B, C]  \n",
       "..               ...           ...  \n",
       "995     {O, Z, A, e}        [A, x]  \n",
       "996        {Y, i, H}        [A, x]  \n",
       "997  {X, C, w, P, p}     [A, A, A]  \n",
       "998     {c, w, v, B}     [c, b, a]  \n",
       "999     {J, M, L, 3}  [A, B, C, C]  \n",
       "\n",
       "[1000 rows x 8 columns]"
      ]
     },
     "execution_count": 3,
     "metadata": {},
     "output_type": "execute_result"
    },
    {
     "name": "stdout",
     "output_type": "stream",
     "text": [
      "time: 231 ms\n"
     ]
    }
   ],
   "source": [
    "# Test data\n",
    "df = pak.people(1000)\n",
    "df"
   ]
  },
  {
   "cell_type": "markdown",
   "metadata": {},
   "source": [
    "## === Row Indexes ==="
   ]
  },
  {
   "cell_type": "markdown",
   "metadata": {
    "tags": []
   },
   "source": [
    "### rename_index()"
   ]
  },
  {
   "cell_type": "code",
   "execution_count": 5,
   "metadata": {},
   "outputs": [
    {
     "data": {
      "text/html": [
       "<div>\n",
       "<style scoped>\n",
       "    .dataframe tbody tr th:only-of-type {\n",
       "        vertical-align: middle;\n",
       "    }\n",
       "\n",
       "    .dataframe tbody tr th {\n",
       "        vertical-align: top;\n",
       "    }\n",
       "\n",
       "    .dataframe thead th {\n",
       "        text-align: right;\n",
       "    }\n",
       "</style>\n",
       "<table border=\"1\" class=\"dataframe\">\n",
       "  <thead>\n",
       "    <tr style=\"text-align: right;\">\n",
       "      <th></th>\n",
       "      <th>first_name</th>\n",
       "      <th>age</th>\n",
       "      <th>age_class</th>\n",
       "      <th>postal_code</th>\n",
       "      <th>birthplace</th>\n",
       "      <th>secret</th>\n",
       "      <th>features</th>\n",
       "      <th>history</th>\n",
       "    </tr>\n",
       "    <tr>\n",
       "      <th>rnd_string</th>\n",
       "      <th></th>\n",
       "      <th></th>\n",
       "      <th></th>\n",
       "      <th></th>\n",
       "      <th></th>\n",
       "      <th></th>\n",
       "      <th></th>\n",
       "      <th></th>\n",
       "    </tr>\n",
       "  </thead>\n",
       "  <tbody>\n",
       "    <tr>\n",
       "      <th>kEP</th>\n",
       "      <td>Lucy</td>\n",
       "      <td>25</td>\n",
       "      <td>20</td>\n",
       "      <td>29204</td>\n",
       "      <td>&lt;NA&gt;</td>\n",
       "      <td>oFÜObp5Tr</td>\n",
       "      <td>{C, k}</td>\n",
       "      <td>[A, C, C, B]</td>\n",
       "    </tr>\n",
       "    <tr>\n",
       "      <th>gTp</th>\n",
       "      <td>Carla</td>\n",
       "      <td>30</td>\n",
       "      <td>30</td>\n",
       "      <td>39807</td>\n",
       "      <td>&lt;NA&gt;</td>\n",
       "      <td>lräd8Äl1</td>\n",
       "      <td>{H, X, v, f}</td>\n",
       "      <td>[a, b, c]</td>\n",
       "    </tr>\n",
       "    <tr>\n",
       "      <th>2dI</th>\n",
       "      <td>Alina</td>\n",
       "      <td>38</td>\n",
       "      <td>30</td>\n",
       "      <td>88726</td>\n",
       "      <td>Berlin</td>\n",
       "      <td>1iyHus</td>\n",
       "      <td>{J, e}</td>\n",
       "      <td>[A, B, C, C]</td>\n",
       "    </tr>\n",
       "    <tr>\n",
       "      <th>EI6</th>\n",
       "      <td>David</td>\n",
       "      <td>30</td>\n",
       "      <td>30</td>\n",
       "      <td>28160</td>\n",
       "      <td>Bremen</td>\n",
       "      <td>8UFAÜ</td>\n",
       "      <td>{n, r, b, v}</td>\n",
       "      <td>[A, A, A]</td>\n",
       "    </tr>\n",
       "    <tr>\n",
       "      <th>KGc</th>\n",
       "      <td>Ernst</td>\n",
       "      <td>31</td>\n",
       "      <td>30</td>\n",
       "      <td>70795</td>\n",
       "      <td>Bremen</td>\n",
       "      <td>O7dZZM</td>\n",
       "      <td>{L, B}</td>\n",
       "      <td>[A, B, C]</td>\n",
       "    </tr>\n",
       "    <tr>\n",
       "      <th>...</th>\n",
       "      <td>...</td>\n",
       "      <td>...</td>\n",
       "      <td>...</td>\n",
       "      <td>...</td>\n",
       "      <td>...</td>\n",
       "      <td>...</td>\n",
       "      <td>...</td>\n",
       "      <td>...</td>\n",
       "    </tr>\n",
       "    <tr>\n",
       "      <th>Dqh</th>\n",
       "      <td>Lea</td>\n",
       "      <td>31</td>\n",
       "      <td>30</td>\n",
       "      <td>66893</td>\n",
       "      <td>Berlin</td>\n",
       "      <td>äfVNRoicq</td>\n",
       "      <td>{O, Z, A, e}</td>\n",
       "      <td>[A, x]</td>\n",
       "    </tr>\n",
       "    <tr>\n",
       "      <th>oWu</th>\n",
       "      <td>Christina</td>\n",
       "      <td>25</td>\n",
       "      <td>20</td>\n",
       "      <td>24375</td>\n",
       "      <td>Bremen</td>\n",
       "      <td>gLehAWXb</td>\n",
       "      <td>{Y, i, H}</td>\n",
       "      <td>[A, x]</td>\n",
       "    </tr>\n",
       "    <tr>\n",
       "      <th>äxR</th>\n",
       "      <td>Lea</td>\n",
       "      <td>31</td>\n",
       "      <td>30</td>\n",
       "      <td>23065</td>\n",
       "      <td>Berlin</td>\n",
       "      <td>MXIfE</td>\n",
       "      <td>{X, C, w, P, p}</td>\n",
       "      <td>[A, A, A]</td>\n",
       "    </tr>\n",
       "    <tr>\n",
       "      <th>Xuv</th>\n",
       "      <td>Luis</td>\n",
       "      <td>29</td>\n",
       "      <td>20</td>\n",
       "      <td>22689</td>\n",
       "      <td>&lt;NA&gt;</td>\n",
       "      <td>4PPdTE</td>\n",
       "      <td>{c, w, v, B}</td>\n",
       "      <td>[c, b, a]</td>\n",
       "    </tr>\n",
       "    <tr>\n",
       "      <th>6Üa</th>\n",
       "      <td>Bruno</td>\n",
       "      <td>32</td>\n",
       "      <td>30</td>\n",
       "      <td>61490</td>\n",
       "      <td>Berlin</td>\n",
       "      <td>fQiökO</td>\n",
       "      <td>{J, M, L, 3}</td>\n",
       "      <td>[A, B, C, C]</td>\n",
       "    </tr>\n",
       "  </tbody>\n",
       "</table>\n",
       "<p>1000 rows × 8 columns</p>\n",
       "</div>"
      ],
      "text/plain": [
       "           first_name  age  age_class  postal_code birthplace     secret  \\\n",
       "rnd_string                                                                 \n",
       "kEP              Lucy   25         20        29204       <NA>  oFÜObp5Tr   \n",
       "gTp             Carla   30         30        39807       <NA>   lräd8Äl1   \n",
       "2dI             Alina   38         30        88726     Berlin     1iyHus   \n",
       "EI6             David   30         30        28160     Bremen      8UFAÜ   \n",
       "KGc             Ernst   31         30        70795     Bremen     O7dZZM   \n",
       "...               ...  ...        ...          ...        ...        ...   \n",
       "Dqh               Lea   31         30        66893     Berlin  äfVNRoicq   \n",
       "oWu         Christina   25         20        24375     Bremen   gLehAWXb   \n",
       "äxR               Lea   31         30        23065     Berlin      MXIfE   \n",
       "Xuv              Luis   29         20        22689       <NA>     4PPdTE   \n",
       "6Üa             Bruno   32         30        61490     Berlin     fQiökO   \n",
       "\n",
       "                   features       history  \n",
       "rnd_string                                 \n",
       "kEP                  {C, k}  [A, C, C, B]  \n",
       "gTp            {H, X, v, f}     [a, b, c]  \n",
       "2dI                  {J, e}  [A, B, C, C]  \n",
       "EI6            {n, r, b, v}     [A, A, A]  \n",
       "KGc                  {L, B}     [A, B, C]  \n",
       "...                     ...           ...  \n",
       "Dqh            {O, Z, A, e}        [A, x]  \n",
       "oWu               {Y, i, H}        [A, x]  \n",
       "äxR         {X, C, w, P, p}     [A, A, A]  \n",
       "Xuv            {c, w, v, B}     [c, b, a]  \n",
       "6Üa            {J, M, L, 3}  [A, B, C, C]  \n",
       "\n",
       "[1000 rows x 8 columns]"
      ]
     },
     "execution_count": 5,
     "metadata": {},
     "output_type": "execute_result"
    },
    {
     "name": "stdout",
     "output_type": "stream",
     "text": [
      "time: 146 ms\n"
     ]
    }
   ],
   "source": [
    "# set a trashy index\n",
    "df.index = pak.random_series(df.shape[0], 'string', len_min=3, len_max=3, p_dup=0)\n",
    "df"
   ]
  },
  {
   "cell_type": "code",
   "execution_count": 6,
   "metadata": {},
   "outputs": [
    {
     "data": {
      "text/html": [
       "<div>\n",
       "<style scoped>\n",
       "    .dataframe tbody tr th:only-of-type {\n",
       "        vertical-align: middle;\n",
       "    }\n",
       "\n",
       "    .dataframe tbody tr th {\n",
       "        vertical-align: top;\n",
       "    }\n",
       "\n",
       "    .dataframe thead th {\n",
       "        text-align: right;\n",
       "    }\n",
       "</style>\n",
       "<table border=\"1\" class=\"dataframe\">\n",
       "  <thead>\n",
       "    <tr style=\"text-align: right;\">\n",
       "      <th></th>\n",
       "      <th>first_name</th>\n",
       "      <th>age</th>\n",
       "      <th>age_class</th>\n",
       "      <th>postal_code</th>\n",
       "      <th>birthplace</th>\n",
       "      <th>secret</th>\n",
       "      <th>features</th>\n",
       "      <th>history</th>\n",
       "    </tr>\n",
       "    <tr>\n",
       "      <th>index_new</th>\n",
       "      <th></th>\n",
       "      <th></th>\n",
       "      <th></th>\n",
       "      <th></th>\n",
       "      <th></th>\n",
       "      <th></th>\n",
       "      <th></th>\n",
       "      <th></th>\n",
       "    </tr>\n",
       "  </thead>\n",
       "  <tbody>\n",
       "    <tr>\n",
       "      <th>kEP</th>\n",
       "      <td>Lucy</td>\n",
       "      <td>25</td>\n",
       "      <td>20</td>\n",
       "      <td>29204</td>\n",
       "      <td>&lt;NA&gt;</td>\n",
       "      <td>oFÜObp5Tr</td>\n",
       "      <td>{C, k}</td>\n",
       "      <td>[A, C, C, B]</td>\n",
       "    </tr>\n",
       "    <tr>\n",
       "      <th>gTp</th>\n",
       "      <td>Carla</td>\n",
       "      <td>30</td>\n",
       "      <td>30</td>\n",
       "      <td>39807</td>\n",
       "      <td>&lt;NA&gt;</td>\n",
       "      <td>lräd8Äl1</td>\n",
       "      <td>{H, X, v, f}</td>\n",
       "      <td>[a, b, c]</td>\n",
       "    </tr>\n",
       "    <tr>\n",
       "      <th>2dI</th>\n",
       "      <td>Alina</td>\n",
       "      <td>38</td>\n",
       "      <td>30</td>\n",
       "      <td>88726</td>\n",
       "      <td>Berlin</td>\n",
       "      <td>1iyHus</td>\n",
       "      <td>{J, e}</td>\n",
       "      <td>[A, B, C, C]</td>\n",
       "    </tr>\n",
       "    <tr>\n",
       "      <th>EI6</th>\n",
       "      <td>David</td>\n",
       "      <td>30</td>\n",
       "      <td>30</td>\n",
       "      <td>28160</td>\n",
       "      <td>Bremen</td>\n",
       "      <td>8UFAÜ</td>\n",
       "      <td>{n, r, b, v}</td>\n",
       "      <td>[A, A, A]</td>\n",
       "    </tr>\n",
       "    <tr>\n",
       "      <th>KGc</th>\n",
       "      <td>Ernst</td>\n",
       "      <td>31</td>\n",
       "      <td>30</td>\n",
       "      <td>70795</td>\n",
       "      <td>Bremen</td>\n",
       "      <td>O7dZZM</td>\n",
       "      <td>{L, B}</td>\n",
       "      <td>[A, B, C]</td>\n",
       "    </tr>\n",
       "    <tr>\n",
       "      <th>...</th>\n",
       "      <td>...</td>\n",
       "      <td>...</td>\n",
       "      <td>...</td>\n",
       "      <td>...</td>\n",
       "      <td>...</td>\n",
       "      <td>...</td>\n",
       "      <td>...</td>\n",
       "      <td>...</td>\n",
       "    </tr>\n",
       "    <tr>\n",
       "      <th>Dqh</th>\n",
       "      <td>Lea</td>\n",
       "      <td>31</td>\n",
       "      <td>30</td>\n",
       "      <td>66893</td>\n",
       "      <td>Berlin</td>\n",
       "      <td>äfVNRoicq</td>\n",
       "      <td>{O, Z, A, e}</td>\n",
       "      <td>[A, x]</td>\n",
       "    </tr>\n",
       "    <tr>\n",
       "      <th>oWu</th>\n",
       "      <td>Christina</td>\n",
       "      <td>25</td>\n",
       "      <td>20</td>\n",
       "      <td>24375</td>\n",
       "      <td>Bremen</td>\n",
       "      <td>gLehAWXb</td>\n",
       "      <td>{Y, i, H}</td>\n",
       "      <td>[A, x]</td>\n",
       "    </tr>\n",
       "    <tr>\n",
       "      <th>äxR</th>\n",
       "      <td>Lea</td>\n",
       "      <td>31</td>\n",
       "      <td>30</td>\n",
       "      <td>23065</td>\n",
       "      <td>Berlin</td>\n",
       "      <td>MXIfE</td>\n",
       "      <td>{X, C, w, P, p}</td>\n",
       "      <td>[A, A, A]</td>\n",
       "    </tr>\n",
       "    <tr>\n",
       "      <th>Xuv</th>\n",
       "      <td>Luis</td>\n",
       "      <td>29</td>\n",
       "      <td>20</td>\n",
       "      <td>22689</td>\n",
       "      <td>&lt;NA&gt;</td>\n",
       "      <td>4PPdTE</td>\n",
       "      <td>{c, w, v, B}</td>\n",
       "      <td>[c, b, a]</td>\n",
       "    </tr>\n",
       "    <tr>\n",
       "      <th>6Üa</th>\n",
       "      <td>Bruno</td>\n",
       "      <td>32</td>\n",
       "      <td>30</td>\n",
       "      <td>61490</td>\n",
       "      <td>Berlin</td>\n",
       "      <td>fQiökO</td>\n",
       "      <td>{J, M, L, 3}</td>\n",
       "      <td>[A, B, C, C]</td>\n",
       "    </tr>\n",
       "  </tbody>\n",
       "</table>\n",
       "<p>1000 rows × 8 columns</p>\n",
       "</div>"
      ],
      "text/plain": [
       "          first_name  age  age_class  postal_code birthplace     secret  \\\n",
       "index_new                                                                 \n",
       "kEP             Lucy   25         20        29204       <NA>  oFÜObp5Tr   \n",
       "gTp            Carla   30         30        39807       <NA>   lräd8Äl1   \n",
       "2dI            Alina   38         30        88726     Berlin     1iyHus   \n",
       "EI6            David   30         30        28160     Bremen      8UFAÜ   \n",
       "KGc            Ernst   31         30        70795     Bremen     O7dZZM   \n",
       "...              ...  ...        ...          ...        ...        ...   \n",
       "Dqh              Lea   31         30        66893     Berlin  äfVNRoicq   \n",
       "oWu        Christina   25         20        24375     Bremen   gLehAWXb   \n",
       "äxR              Lea   31         30        23065     Berlin      MXIfE   \n",
       "Xuv             Luis   29         20        22689       <NA>     4PPdTE   \n",
       "6Üa            Bruno   32         30        61490     Berlin     fQiökO   \n",
       "\n",
       "                  features       history  \n",
       "index_new                                 \n",
       "kEP                 {C, k}  [A, C, C, B]  \n",
       "gTp           {H, X, v, f}     [a, b, c]  \n",
       "2dI                 {J, e}  [A, B, C, C]  \n",
       "EI6           {n, r, b, v}     [A, A, A]  \n",
       "KGc                 {L, B}     [A, B, C]  \n",
       "...                    ...           ...  \n",
       "Dqh           {O, Z, A, e}        [A, x]  \n",
       "oWu              {Y, i, H}        [A, x]  \n",
       "äxR        {X, C, w, P, p}     [A, A, A]  \n",
       "Xuv           {c, w, v, B}     [c, b, a]  \n",
       "6Üa           {J, M, L, 3}  [A, B, C, C]  \n",
       "\n",
       "[1000 rows x 8 columns]"
      ]
     },
     "execution_count": 6,
     "metadata": {},
     "output_type": "execute_result"
    },
    {
     "name": "stdout",
     "output_type": "stream",
     "text": [
      "time: 125 ms\n"
     ]
    }
   ],
   "source": [
    "df = pak.rename_index(df,'index_new')\n",
    "df"
   ]
  },
  {
   "cell_type": "markdown",
   "metadata": {},
   "source": [
    "### reset_index()"
   ]
  },
  {
   "cell_type": "code",
   "execution_count": 7,
   "metadata": {
    "tags": []
   },
   "outputs": [
    {
     "name": "stdout",
     "output_type": "stream",
     "text": [
      "time: 115 ms\n"
     ]
    },
    {
     "data": {
      "text/plain": [
       "\u001b[1;31mSignature:\u001b[0m \u001b[0mpak\u001b[0m\u001b[1;33m.\u001b[0m\u001b[0mreset_index\u001b[0m\u001b[1;33m(\u001b[0m\u001b[0mdf\u001b[0m\u001b[1;33m,\u001b[0m \u001b[0mkeep_as\u001b[0m\u001b[1;33m=\u001b[0m\u001b[1;32mNone\u001b[0m\u001b[1;33m)\u001b[0m\u001b[1;33m\u001b[0m\u001b[1;33m\u001b[0m\u001b[0m\n",
       "\u001b[1;31mDocstring:\u001b[0m\n",
       "Creates a new, unnamed index.\n",
       "If keep_as is given, the old index is preserved as a row with this name.\n",
       "Otherwise the old index is dropped.\n",
       "\u001b[1;31mFile:\u001b[0m      d:\\dropbox\\31_projekte\\01_python\\git\\pandasklar\\src\\pandasklar\\pandas.py\n",
       "\u001b[1;31mType:\u001b[0m      function\n"
      ]
     },
     "metadata": {},
     "output_type": "display_data"
    }
   ],
   "source": [
    "?pak.reset_index"
   ]
  },
  {
   "cell_type": "code",
   "execution_count": 8,
   "metadata": {},
   "outputs": [
    {
     "data": {
      "text/html": [
       "<div>\n",
       "<style scoped>\n",
       "    .dataframe tbody tr th:only-of-type {\n",
       "        vertical-align: middle;\n",
       "    }\n",
       "\n",
       "    .dataframe tbody tr th {\n",
       "        vertical-align: top;\n",
       "    }\n",
       "\n",
       "    .dataframe thead th {\n",
       "        text-align: right;\n",
       "    }\n",
       "</style>\n",
       "<table border=\"1\" class=\"dataframe\">\n",
       "  <thead>\n",
       "    <tr style=\"text-align: right;\">\n",
       "      <th></th>\n",
       "      <th>first_name</th>\n",
       "      <th>age</th>\n",
       "      <th>age_class</th>\n",
       "      <th>postal_code</th>\n",
       "      <th>birthplace</th>\n",
       "      <th>secret</th>\n",
       "      <th>features</th>\n",
       "      <th>history</th>\n",
       "    </tr>\n",
       "  </thead>\n",
       "  <tbody>\n",
       "    <tr>\n",
       "      <th>0</th>\n",
       "      <td>Lucy</td>\n",
       "      <td>25</td>\n",
       "      <td>20</td>\n",
       "      <td>29204</td>\n",
       "      <td>&lt;NA&gt;</td>\n",
       "      <td>oFÜObp5Tr</td>\n",
       "      <td>{C, k}</td>\n",
       "      <td>[A, C, C, B]</td>\n",
       "    </tr>\n",
       "    <tr>\n",
       "      <th>1</th>\n",
       "      <td>Carla</td>\n",
       "      <td>30</td>\n",
       "      <td>30</td>\n",
       "      <td>39807</td>\n",
       "      <td>&lt;NA&gt;</td>\n",
       "      <td>lräd8Äl1</td>\n",
       "      <td>{H, X, v, f}</td>\n",
       "      <td>[a, b, c]</td>\n",
       "    </tr>\n",
       "    <tr>\n",
       "      <th>2</th>\n",
       "      <td>Alina</td>\n",
       "      <td>38</td>\n",
       "      <td>30</td>\n",
       "      <td>88726</td>\n",
       "      <td>Berlin</td>\n",
       "      <td>1iyHus</td>\n",
       "      <td>{J, e}</td>\n",
       "      <td>[A, B, C, C]</td>\n",
       "    </tr>\n",
       "    <tr>\n",
       "      <th>3</th>\n",
       "      <td>David</td>\n",
       "      <td>30</td>\n",
       "      <td>30</td>\n",
       "      <td>28160</td>\n",
       "      <td>Bremen</td>\n",
       "      <td>8UFAÜ</td>\n",
       "      <td>{n, r, b, v}</td>\n",
       "      <td>[A, A, A]</td>\n",
       "    </tr>\n",
       "    <tr>\n",
       "      <th>4</th>\n",
       "      <td>Ernst</td>\n",
       "      <td>31</td>\n",
       "      <td>30</td>\n",
       "      <td>70795</td>\n",
       "      <td>Bremen</td>\n",
       "      <td>O7dZZM</td>\n",
       "      <td>{L, B}</td>\n",
       "      <td>[A, B, C]</td>\n",
       "    </tr>\n",
       "    <tr>\n",
       "      <th>...</th>\n",
       "      <td>...</td>\n",
       "      <td>...</td>\n",
       "      <td>...</td>\n",
       "      <td>...</td>\n",
       "      <td>...</td>\n",
       "      <td>...</td>\n",
       "      <td>...</td>\n",
       "      <td>...</td>\n",
       "    </tr>\n",
       "    <tr>\n",
       "      <th>995</th>\n",
       "      <td>Lea</td>\n",
       "      <td>31</td>\n",
       "      <td>30</td>\n",
       "      <td>66893</td>\n",
       "      <td>Berlin</td>\n",
       "      <td>äfVNRoicq</td>\n",
       "      <td>{O, Z, A, e}</td>\n",
       "      <td>[A, x]</td>\n",
       "    </tr>\n",
       "    <tr>\n",
       "      <th>996</th>\n",
       "      <td>Christina</td>\n",
       "      <td>25</td>\n",
       "      <td>20</td>\n",
       "      <td>24375</td>\n",
       "      <td>Bremen</td>\n",
       "      <td>gLehAWXb</td>\n",
       "      <td>{Y, i, H}</td>\n",
       "      <td>[A, x]</td>\n",
       "    </tr>\n",
       "    <tr>\n",
       "      <th>997</th>\n",
       "      <td>Lea</td>\n",
       "      <td>31</td>\n",
       "      <td>30</td>\n",
       "      <td>23065</td>\n",
       "      <td>Berlin</td>\n",
       "      <td>MXIfE</td>\n",
       "      <td>{X, C, w, P, p}</td>\n",
       "      <td>[A, A, A]</td>\n",
       "    </tr>\n",
       "    <tr>\n",
       "      <th>998</th>\n",
       "      <td>Luis</td>\n",
       "      <td>29</td>\n",
       "      <td>20</td>\n",
       "      <td>22689</td>\n",
       "      <td>&lt;NA&gt;</td>\n",
       "      <td>4PPdTE</td>\n",
       "      <td>{c, w, v, B}</td>\n",
       "      <td>[c, b, a]</td>\n",
       "    </tr>\n",
       "    <tr>\n",
       "      <th>999</th>\n",
       "      <td>Bruno</td>\n",
       "      <td>32</td>\n",
       "      <td>30</td>\n",
       "      <td>61490</td>\n",
       "      <td>Berlin</td>\n",
       "      <td>fQiökO</td>\n",
       "      <td>{J, M, L, 3}</td>\n",
       "      <td>[A, B, C, C]</td>\n",
       "    </tr>\n",
       "  </tbody>\n",
       "</table>\n",
       "<p>1000 rows × 8 columns</p>\n",
       "</div>"
      ],
      "text/plain": [
       "    first_name  age  age_class  postal_code birthplace     secret  \\\n",
       "0         Lucy   25         20        29204       <NA>  oFÜObp5Tr   \n",
       "1        Carla   30         30        39807       <NA>   lräd8Äl1   \n",
       "2        Alina   38         30        88726     Berlin     1iyHus   \n",
       "3        David   30         30        28160     Bremen      8UFAÜ   \n",
       "4        Ernst   31         30        70795     Bremen     O7dZZM   \n",
       "..         ...  ...        ...          ...        ...        ...   \n",
       "995        Lea   31         30        66893     Berlin  äfVNRoicq   \n",
       "996  Christina   25         20        24375     Bremen   gLehAWXb   \n",
       "997        Lea   31         30        23065     Berlin      MXIfE   \n",
       "998       Luis   29         20        22689       <NA>     4PPdTE   \n",
       "999      Bruno   32         30        61490     Berlin     fQiökO   \n",
       "\n",
       "            features       history  \n",
       "0             {C, k}  [A, C, C, B]  \n",
       "1       {H, X, v, f}     [a, b, c]  \n",
       "2             {J, e}  [A, B, C, C]  \n",
       "3       {n, r, b, v}     [A, A, A]  \n",
       "4             {L, B}     [A, B, C]  \n",
       "..               ...           ...  \n",
       "995     {O, Z, A, e}        [A, x]  \n",
       "996        {Y, i, H}        [A, x]  \n",
       "997  {X, C, w, P, p}     [A, A, A]  \n",
       "998     {c, w, v, B}     [c, b, a]  \n",
       "999     {J, M, L, 3}  [A, B, C, C]  \n",
       "\n",
       "[1000 rows x 8 columns]"
      ]
     },
     "execution_count": 8,
     "metadata": {},
     "output_type": "execute_result"
    },
    {
     "name": "stdout",
     "output_type": "stream",
     "text": [
      "time: 125 ms\n"
     ]
    }
   ],
   "source": [
    "df = pak.reset_index(df)\n",
    "df"
   ]
  },
  {
   "cell_type": "markdown",
   "metadata": {},
   "source": [
    "### drop_multiindex()"
   ]
  },
  {
   "cell_type": "code",
   "execution_count": 39,
   "metadata": {
    "tags": []
   },
   "outputs": [
    {
     "name": "stdout",
     "output_type": "stream",
     "text": [
      "time: 126 ms\n"
     ]
    },
    {
     "data": {
      "text/plain": [
       "\u001b[1;31mSignature:\u001b[0m \u001b[0mpak\u001b[0m\u001b[1;33m.\u001b[0m\u001b[0mdrop_multiindex\u001b[0m\u001b[1;33m(\u001b[0m\u001b[0mdf\u001b[0m\u001b[1;33m,\u001b[0m \u001b[0mverbose\u001b[0m\u001b[1;33m=\u001b[0m\u001b[1;32mNone\u001b[0m\u001b[1;33m)\u001b[0m\u001b[1;33m\u001b[0m\u001b[1;33m\u001b[0m\u001b[0m\n",
       "\u001b[1;31mDocstring:\u001b[0m\n",
       "Converts any MultiIndex to normal columns and resets the index. \n",
       "Works with MultiIndex in Series or DataFrames, in rows and in columns.\n",
       "\u001b[1;31mFile:\u001b[0m      d:\\dropbox\\31_projekte\\01_python\\git\\pandasklar\\src\\pandasklar\\pandas.py\n",
       "\u001b[1;31mType:\u001b[0m      function\n"
      ]
     },
     "metadata": {},
     "output_type": "display_data"
    }
   ],
   "source": [
    "?pak.drop_multiindex"
   ]
  },
  {
   "cell_type": "markdown",
   "metadata": {},
   "source": [
    "## === Rows ==="
   ]
  },
  {
   "cell_type": "markdown",
   "metadata": {},
   "source": [
    "### drop_rows()"
   ]
  },
  {
   "cell_type": "code",
   "execution_count": 10,
   "metadata": {},
   "outputs": [
    {
     "name": "stdout",
     "output_type": "stream",
     "text": [
      "time: 114 ms\n"
     ]
    },
    {
     "data": {
      "text/plain": [
       "\u001b[1;31mSignature:\u001b[0m \u001b[0mpak\u001b[0m\u001b[1;33m.\u001b[0m\u001b[0mdrop_rows\u001b[0m\u001b[1;33m(\u001b[0m\u001b[0mdf\u001b[0m\u001b[1;33m,\u001b[0m \u001b[0mmask\u001b[0m\u001b[1;33m,\u001b[0m \u001b[0mverbose\u001b[0m\u001b[1;33m=\u001b[0m\u001b[1;32mNone\u001b[0m\u001b[1;33m)\u001b[0m\u001b[1;33m\u001b[0m\u001b[1;33m\u001b[0m\u001b[0m\n",
       "\u001b[1;31mDocstring:\u001b[0m Drops rows identified by a binary mask.\n",
       "\u001b[1;31mFile:\u001b[0m      d:\\dropbox\\31_projekte\\01_python\\git\\pandasklar\\src\\pandasklar\\pandas.py\n",
       "\u001b[1;31mType:\u001b[0m      function\n"
      ]
     },
     "metadata": {},
     "output_type": "display_data"
    }
   ],
   "source": [
    "?pak.drop_rows"
   ]
  },
  {
   "cell_type": "code",
   "execution_count": 11,
   "metadata": {},
   "outputs": [
    {
     "data": {
      "text/html": [
       "<div>\n",
       "<style scoped>\n",
       "    .dataframe tbody tr th:only-of-type {\n",
       "        vertical-align: middle;\n",
       "    }\n",
       "\n",
       "    .dataframe tbody tr th {\n",
       "        vertical-align: top;\n",
       "    }\n",
       "\n",
       "    .dataframe thead th {\n",
       "        text-align: right;\n",
       "    }\n",
       "</style>\n",
       "<table border=\"1\" class=\"dataframe\">\n",
       "  <thead>\n",
       "    <tr style=\"text-align: right;\">\n",
       "      <th></th>\n",
       "      <th>first_name</th>\n",
       "      <th>age</th>\n",
       "      <th>age_class</th>\n",
       "      <th>postal_code</th>\n",
       "      <th>birthplace</th>\n",
       "      <th>secret</th>\n",
       "      <th>features</th>\n",
       "      <th>history</th>\n",
       "    </tr>\n",
       "  </thead>\n",
       "  <tbody>\n",
       "    <tr>\n",
       "      <th>329</th>\n",
       "      <td>Antonia</td>\n",
       "      <td>33</td>\n",
       "      <td>30</td>\n",
       "      <td>90074</td>\n",
       "      <td>Bremen</td>\n",
       "      <td>GcxuJÜ</td>\n",
       "      <td>{C, y}</td>\n",
       "      <td>[A, A, A]</td>\n",
       "    </tr>\n",
       "    <tr>\n",
       "      <th>659</th>\n",
       "      <td>Antonia</td>\n",
       "      <td>30</td>\n",
       "      <td>30</td>\n",
       "      <td>&lt;NA&gt;</td>\n",
       "      <td>&lt;NA&gt;</td>\n",
       "      <td>1mAFLZIrNQ</td>\n",
       "      <td>{U, w, e, P, B}</td>\n",
       "      <td>[a, b, c]</td>\n",
       "    </tr>\n",
       "    <tr>\n",
       "      <th>668</th>\n",
       "      <td>Antonia</td>\n",
       "      <td>32</td>\n",
       "      <td>30</td>\n",
       "      <td>41990</td>\n",
       "      <td>Berlin</td>\n",
       "      <td>CtQUÜ</td>\n",
       "      <td>{x, 0, e}</td>\n",
       "      <td>[b, b, a, b]</td>\n",
       "    </tr>\n",
       "    <tr>\n",
       "      <th>672</th>\n",
       "      <td>Antonia</td>\n",
       "      <td>39</td>\n",
       "      <td>30</td>\n",
       "      <td>28461</td>\n",
       "      <td>Berlin</td>\n",
       "      <td>WOägwhUdiq</td>\n",
       "      <td>{j, N, a, P, F}</td>\n",
       "      <td>[A, A, A]</td>\n",
       "    </tr>\n",
       "    <tr>\n",
       "      <th>748</th>\n",
       "      <td>Antonia</td>\n",
       "      <td>36</td>\n",
       "      <td>30</td>\n",
       "      <td>50615</td>\n",
       "      <td>Berlin</td>\n",
       "      <td>1lpbmN6</td>\n",
       "      <td>{U, M}</td>\n",
       "      <td>[A, x]</td>\n",
       "    </tr>\n",
       "    <tr>\n",
       "      <th>814</th>\n",
       "      <td>Antonia</td>\n",
       "      <td>36</td>\n",
       "      <td>30</td>\n",
       "      <td>28596</td>\n",
       "      <td>&lt;NA&gt;</td>\n",
       "      <td>5dulcg5z0</td>\n",
       "      <td>{L, D}</td>\n",
       "      <td>[A, x]</td>\n",
       "    </tr>\n",
       "  </tbody>\n",
       "</table>\n",
       "</div>"
      ],
      "text/plain": [
       "    first_name  age  age_class  postal_code birthplace      secret  \\\n",
       "329    Antonia   33         30        90074     Bremen      GcxuJÜ   \n",
       "659    Antonia   30         30         <NA>       <NA>  1mAFLZIrNQ   \n",
       "668    Antonia   32         30        41990     Berlin       CtQUÜ   \n",
       "672    Antonia   39         30        28461     Berlin  WOägwhUdiq   \n",
       "748    Antonia   36         30        50615     Berlin     1lpbmN6   \n",
       "814    Antonia   36         30        28596       <NA>   5dulcg5z0   \n",
       "\n",
       "            features       history  \n",
       "329           {C, y}     [A, A, A]  \n",
       "659  {U, w, e, P, B}     [a, b, c]  \n",
       "668        {x, 0, e}  [b, b, a, b]  \n",
       "672  {j, N, a, P, F}     [A, A, A]  \n",
       "748           {U, M}        [A, x]  \n",
       "814           {L, D}        [A, x]  "
      ]
     },
     "execution_count": 11,
     "metadata": {},
     "output_type": "execute_result"
    },
    {
     "name": "stdout",
     "output_type": "stream",
     "text": [
      "time: 126 ms\n"
     ]
    }
   ],
   "source": [
    "# create mask: most frequent first_name\n",
    "mask = df.first_name == pak.most_freq_elt(df.first_name)\n",
    "df[mask]"
   ]
  },
  {
   "cell_type": "code",
   "execution_count": 12,
   "metadata": {},
   "outputs": [
    {
     "name": "stdout",
     "output_type": "stream",
     "text": [
      "Delete 6 rows from 1000\n",
      "time: 117 ms\n"
     ]
    }
   ],
   "source": [
    "# just delete them\n",
    "df = pak.drop_rows(df,mask)"
   ]
  },
  {
   "cell_type": "markdown",
   "metadata": {},
   "source": [
    "### move_rows()"
   ]
  },
  {
   "cell_type": "code",
   "execution_count": 40,
   "metadata": {},
   "outputs": [
    {
     "name": "stdout",
     "output_type": "stream",
     "text": [
      "time: 126 ms\n"
     ]
    },
    {
     "data": {
      "text/plain": [
       "\u001b[1;31mSignature:\u001b[0m\n",
       "\u001b[0mpak\u001b[0m\u001b[1;33m.\u001b[0m\u001b[0mmove_rows\u001b[0m\u001b[1;33m(\u001b[0m\u001b[1;33m\n",
       "\u001b[0m    \u001b[0mdf_from\u001b[0m\u001b[1;33m,\u001b[0m\u001b[1;33m\n",
       "\u001b[0m    \u001b[0mdf_to\u001b[0m\u001b[1;33m=\u001b[0m\u001b[1;32mNone\u001b[0m\u001b[1;33m,\u001b[0m\u001b[1;33m\n",
       "\u001b[0m    \u001b[0mmask\u001b[0m\u001b[1;33m=\u001b[0m\u001b[1;32mNone\u001b[0m\u001b[1;33m,\u001b[0m\u001b[1;33m\n",
       "\u001b[0m    \u001b[0mmsg\u001b[0m\u001b[1;33m=\u001b[0m\u001b[1;34m''\u001b[0m\u001b[1;33m,\u001b[0m\u001b[1;33m\n",
       "\u001b[0m    \u001b[0mmsgcol\u001b[0m\u001b[1;33m=\u001b[0m\u001b[1;34m'msg'\u001b[0m\u001b[1;33m,\u001b[0m\u001b[1;33m\n",
       "\u001b[0m    \u001b[0mverbose\u001b[0m\u001b[1;33m=\u001b[0m\u001b[1;32mNone\u001b[0m\u001b[1;33m,\u001b[0m\u001b[1;33m\n",
       "\u001b[0m    \u001b[0mzähler\u001b[0m\u001b[1;33m=\u001b[0m\u001b[1;33m[\u001b[0m\u001b[1;36m0\u001b[0m\u001b[1;33m]\u001b[0m\u001b[1;33m,\u001b[0m\u001b[1;33m\n",
       "\u001b[0m\u001b[1;33m)\u001b[0m\u001b[1;33m\u001b[0m\u001b[1;33m\u001b[0m\u001b[0m\n",
       "\u001b[1;31mDocstring:\u001b[0m\n",
       "Moves rows identified by a binary mask from one dataframe to another (e.g. into a trash).\n",
       "Returns two DataFrames.\n",
       "The target dataframe gets an additional message column by standard (to identify why the rows were moved).\n",
       "If you don't give a message, move_rows will generate one: just the count of usage of the function.\n",
       " \n",
       "* df_from:   Origin DataFrame\n",
       "* df_to:     Target DataFrame or None\n",
       "* mask:      Binary mask, identifies the rows to be deleted\n",
       "* msg:       All moved rows are marked with this message, it's written in the message column of the target dataframe\n",
       "* msgcol:    Name of the message column. Set msg or msgcol to None if no message wanted.\n",
       "* verbose:   True if you want to print how many rows are moved.\n",
       "\n",
       "Examples:\n",
       "df, df_trash = move_rows( df, mask )           # move rows away (and create a new trash). \n",
       "                                               # The second argument is detected as mask, not as df_to.\n",
       "df, df_trash = move_rows( df, df_trash, mask ) # move rows away (into the existing trash)   \n",
       "\u001b[1;31mFile:\u001b[0m      d:\\dropbox\\31_projekte\\01_python\\git\\pandasklar\\src\\pandasklar\\pandas.py\n",
       "\u001b[1;31mType:\u001b[0m      function\n"
      ]
     },
     "metadata": {},
     "output_type": "display_data"
    }
   ],
   "source": [
    "?pak.move_rows"
   ]
  },
  {
   "cell_type": "code",
   "execution_count": 14,
   "metadata": {},
   "outputs": [
    {
     "data": {
      "text/html": [
       "<div>\n",
       "<style scoped>\n",
       "    .dataframe tbody tr th:only-of-type {\n",
       "        vertical-align: middle;\n",
       "    }\n",
       "\n",
       "    .dataframe tbody tr th {\n",
       "        vertical-align: top;\n",
       "    }\n",
       "\n",
       "    .dataframe thead th {\n",
       "        text-align: right;\n",
       "    }\n",
       "</style>\n",
       "<table border=\"1\" class=\"dataframe\">\n",
       "  <thead>\n",
       "    <tr style=\"text-align: right;\">\n",
       "      <th></th>\n",
       "      <th>first_name</th>\n",
       "      <th>age</th>\n",
       "      <th>secret</th>\n",
       "    </tr>\n",
       "  </thead>\n",
       "  <tbody>\n",
       "    <tr>\n",
       "      <th>0</th>\n",
       "      <td>Friedrich</td>\n",
       "      <td>31</td>\n",
       "      <td>xnL6y</td>\n",
       "    </tr>\n",
       "    <tr>\n",
       "      <th>1</th>\n",
       "      <td>Christoph</td>\n",
       "      <td>34</td>\n",
       "      <td>ÖoVQua7</td>\n",
       "    </tr>\n",
       "    <tr>\n",
       "      <th>2</th>\n",
       "      <td>Jutta</td>\n",
       "      <td>31</td>\n",
       "      <td>8QLgS</td>\n",
       "    </tr>\n",
       "  </tbody>\n",
       "</table>\n",
       "</div>"
      ],
      "text/plain": [
       "  first_name  age   secret\n",
       "0  Friedrich   31    xnL6y\n",
       "1  Christoph   34  ÖoVQua7\n",
       "2      Jutta   31    8QLgS"
      ]
     },
     "execution_count": 14,
     "metadata": {},
     "output_type": "execute_result"
    },
    {
     "name": "stdout",
     "output_type": "stream",
     "text": [
      "time: 221 ms\n"
     ]
    }
   ],
   "source": [
    "# New test data\n",
    "df = pak.people(1000)\n",
    "df = pak.drop_cols(df,['age_class','postal_code','birthplace','features','history'])\n",
    "df['first_name'] = pak.change_datatype(df.first_name,'object', verbose=False)\n",
    "df['age']        = pak.change_datatype(df.age,       'int64',  verbose=False)\n",
    "df_orig = df.copy()\n",
    "df.head(3)"
   ]
  },
  {
   "cell_type": "code",
   "execution_count": 15,
   "metadata": {},
   "outputs": [
    {
     "data": {
      "text/html": [
       "<div>\n",
       "<style scoped>\n",
       "    .dataframe tbody tr th:only-of-type {\n",
       "        vertical-align: middle;\n",
       "    }\n",
       "\n",
       "    .dataframe tbody tr th {\n",
       "        vertical-align: top;\n",
       "    }\n",
       "\n",
       "    .dataframe thead th {\n",
       "        text-align: right;\n",
       "    }\n",
       "</style>\n",
       "<table border=\"1\" class=\"dataframe\">\n",
       "  <thead>\n",
       "    <tr style=\"text-align: right;\">\n",
       "      <th></th>\n",
       "      <th>first_name</th>\n",
       "      <th>age</th>\n",
       "      <th>secret</th>\n",
       "    </tr>\n",
       "  </thead>\n",
       "  <tbody>\n",
       "    <tr>\n",
       "      <th>101</th>\n",
       "      <td>Viktoria</td>\n",
       "      <td>32</td>\n",
       "      <td>g1HÖk2üH</td>\n",
       "    </tr>\n",
       "    <tr>\n",
       "      <th>478</th>\n",
       "      <td>Viktoria</td>\n",
       "      <td>24</td>\n",
       "      <td>fäWiÜd</td>\n",
       "    </tr>\n",
       "    <tr>\n",
       "      <th>765</th>\n",
       "      <td>Viktoria</td>\n",
       "      <td>34</td>\n",
       "      <td>uDbx8q</td>\n",
       "    </tr>\n",
       "    <tr>\n",
       "      <th>820</th>\n",
       "      <td>Viktoria</td>\n",
       "      <td>28</td>\n",
       "      <td>0a5ef6</td>\n",
       "    </tr>\n",
       "    <tr>\n",
       "      <th>944</th>\n",
       "      <td>Viktoria</td>\n",
       "      <td>29</td>\n",
       "      <td>8typUe</td>\n",
       "    </tr>\n",
       "    <tr>\n",
       "      <th>975</th>\n",
       "      <td>Viktoria</td>\n",
       "      <td>32</td>\n",
       "      <td>kjBlqkZ</td>\n",
       "    </tr>\n",
       "    <tr>\n",
       "      <th>982</th>\n",
       "      <td>Viktoria</td>\n",
       "      <td>32</td>\n",
       "      <td>4e3IiLJrgt</td>\n",
       "    </tr>\n",
       "  </tbody>\n",
       "</table>\n",
       "</div>"
      ],
      "text/plain": [
       "    first_name  age      secret\n",
       "101   Viktoria   32    g1HÖk2üH\n",
       "478   Viktoria   24      fäWiÜd\n",
       "765   Viktoria   34      uDbx8q\n",
       "820   Viktoria   28      0a5ef6\n",
       "944   Viktoria   29      8typUe\n",
       "975   Viktoria   32     kjBlqkZ\n",
       "982   Viktoria   32  4e3IiLJrgt"
      ]
     },
     "execution_count": 15,
     "metadata": {},
     "output_type": "execute_result"
    },
    {
     "name": "stdout",
     "output_type": "stream",
     "text": [
      "time: 118 ms\n"
     ]
    }
   ],
   "source": [
    "# create mask: most frequent first_name\n",
    "mask = df.first_name == pak.most_freq_elt(df.first_name)\n",
    "df[mask]"
   ]
  },
  {
   "cell_type": "code",
   "execution_count": 16,
   "metadata": {},
   "outputs": [
    {
     "name": "stdout",
     "output_type": "stream",
     "text": [
      "Move 7 rows from 1000\n",
      "time: 115 ms\n"
     ]
    }
   ],
   "source": [
    "# move them away (and create a new trash)\n",
    "df, df_trash = pak.move_rows( df, mask)"
   ]
  },
  {
   "cell_type": "code",
   "execution_count": 17,
   "metadata": {},
   "outputs": [
    {
     "name": "stdout",
     "output_type": "stream",
     "text": [
      "count rows: 993  +  7\n",
      "time: 113 ms\n"
     ]
    }
   ],
   "source": [
    "print('count rows:', df.shape[0], ' + ', df_trash.shape[0])"
   ]
  },
  {
   "cell_type": "code",
   "execution_count": 18,
   "metadata": {
    "tags": []
   },
   "outputs": [
    {
     "data": {
      "text/html": [
       "<div>\n",
       "<style scoped>\n",
       "    .dataframe tbody tr th:only-of-type {\n",
       "        vertical-align: middle;\n",
       "    }\n",
       "\n",
       "    .dataframe tbody tr th {\n",
       "        vertical-align: top;\n",
       "    }\n",
       "\n",
       "    .dataframe thead th {\n",
       "        text-align: right;\n",
       "    }\n",
       "</style>\n",
       "<table border=\"1\" class=\"dataframe\">\n",
       "  <thead>\n",
       "    <tr style=\"text-align: right;\">\n",
       "      <th></th>\n",
       "      <th>first_name</th>\n",
       "      <th>age</th>\n",
       "      <th>secret</th>\n",
       "      <th>msg</th>\n",
       "    </tr>\n",
       "  </thead>\n",
       "  <tbody>\n",
       "    <tr>\n",
       "      <th>101</th>\n",
       "      <td>Viktoria</td>\n",
       "      <td>32</td>\n",
       "      <td>g1HÖk2üH</td>\n",
       "      <td>0</td>\n",
       "    </tr>\n",
       "    <tr>\n",
       "      <th>478</th>\n",
       "      <td>Viktoria</td>\n",
       "      <td>24</td>\n",
       "      <td>fäWiÜd</td>\n",
       "      <td>0</td>\n",
       "    </tr>\n",
       "    <tr>\n",
       "      <th>765</th>\n",
       "      <td>Viktoria</td>\n",
       "      <td>34</td>\n",
       "      <td>uDbx8q</td>\n",
       "      <td>0</td>\n",
       "    </tr>\n",
       "    <tr>\n",
       "      <th>820</th>\n",
       "      <td>Viktoria</td>\n",
       "      <td>28</td>\n",
       "      <td>0a5ef6</td>\n",
       "      <td>0</td>\n",
       "    </tr>\n",
       "    <tr>\n",
       "      <th>944</th>\n",
       "      <td>Viktoria</td>\n",
       "      <td>29</td>\n",
       "      <td>8typUe</td>\n",
       "      <td>0</td>\n",
       "    </tr>\n",
       "    <tr>\n",
       "      <th>975</th>\n",
       "      <td>Viktoria</td>\n",
       "      <td>32</td>\n",
       "      <td>kjBlqkZ</td>\n",
       "      <td>0</td>\n",
       "    </tr>\n",
       "    <tr>\n",
       "      <th>982</th>\n",
       "      <td>Viktoria</td>\n",
       "      <td>32</td>\n",
       "      <td>4e3IiLJrgt</td>\n",
       "      <td>0</td>\n",
       "    </tr>\n",
       "  </tbody>\n",
       "</table>\n",
       "</div>"
      ],
      "text/plain": [
       "    first_name  age      secret  msg\n",
       "101   Viktoria   32    g1HÖk2üH    0\n",
       "478   Viktoria   24      fäWiÜd    0\n",
       "765   Viktoria   34      uDbx8q    0\n",
       "820   Viktoria   28      0a5ef6    0\n",
       "944   Viktoria   29      8typUe    0\n",
       "975   Viktoria   32     kjBlqkZ    0\n",
       "982   Viktoria   32  4e3IiLJrgt    0"
      ]
     },
     "execution_count": 18,
     "metadata": {},
     "output_type": "execute_result"
    },
    {
     "name": "stdout",
     "output_type": "stream",
     "text": [
      "time: 117 ms\n"
     ]
    }
   ],
   "source": [
    "#df\n",
    "df_trash"
   ]
  },
  {
   "cell_type": "code",
   "execution_count": 19,
   "metadata": {},
   "outputs": [
    {
     "data": {
      "text/html": [
       "<div>\n",
       "<style scoped>\n",
       "    .dataframe tbody tr th:only-of-type {\n",
       "        vertical-align: middle;\n",
       "    }\n",
       "\n",
       "    .dataframe tbody tr th {\n",
       "        vertical-align: top;\n",
       "    }\n",
       "\n",
       "    .dataframe thead th {\n",
       "        text-align: right;\n",
       "    }\n",
       "</style>\n",
       "<table border=\"1\" class=\"dataframe\">\n",
       "  <thead>\n",
       "    <tr style=\"text-align: right;\">\n",
       "      <th></th>\n",
       "      <th>first_name</th>\n",
       "      <th>age</th>\n",
       "      <th>secret</th>\n",
       "    </tr>\n",
       "  </thead>\n",
       "  <tbody>\n",
       "    <tr>\n",
       "      <th>389</th>\n",
       "      <td>Franziska</td>\n",
       "      <td>25</td>\n",
       "      <td>2458hCooo</td>\n",
       "    </tr>\n",
       "    <tr>\n",
       "      <th>453</th>\n",
       "      <td>Franziska</td>\n",
       "      <td>34</td>\n",
       "      <td>iCkümI</td>\n",
       "    </tr>\n",
       "    <tr>\n",
       "      <th>595</th>\n",
       "      <td>Franziska</td>\n",
       "      <td>36</td>\n",
       "      <td>H2iL7ag</td>\n",
       "    </tr>\n",
       "    <tr>\n",
       "      <th>720</th>\n",
       "      <td>Franziska</td>\n",
       "      <td>37</td>\n",
       "      <td>pxYqAxü</td>\n",
       "    </tr>\n",
       "    <tr>\n",
       "      <th>787</th>\n",
       "      <td>Franziska</td>\n",
       "      <td>26</td>\n",
       "      <td>o0Lrt5i1</td>\n",
       "    </tr>\n",
       "    <tr>\n",
       "      <th>969</th>\n",
       "      <td>Franziska</td>\n",
       "      <td>28</td>\n",
       "      <td>nM2IÄhKZ</td>\n",
       "    </tr>\n",
       "  </tbody>\n",
       "</table>\n",
       "</div>"
      ],
      "text/plain": [
       "    first_name  age     secret\n",
       "389  Franziska   25  2458hCooo\n",
       "453  Franziska   34     iCkümI\n",
       "595  Franziska   36    H2iL7ag\n",
       "720  Franziska   37    pxYqAxü\n",
       "787  Franziska   26   o0Lrt5i1\n",
       "969  Franziska   28   nM2IÄhKZ"
      ]
     },
     "execution_count": 19,
     "metadata": {},
     "output_type": "execute_result"
    },
    {
     "name": "stdout",
     "output_type": "stream",
     "text": [
      "time: 117 ms\n"
     ]
    }
   ],
   "source": [
    "# create mask: (second) most frequent first_name\n",
    "mask = df.first_name == pak.most_freq_elt(df.first_name)\n",
    "df[mask]"
   ]
  },
  {
   "cell_type": "code",
   "execution_count": 20,
   "metadata": {},
   "outputs": [
    {
     "name": "stdout",
     "output_type": "stream",
     "text": [
      "Move 6 rows from 993\n",
      "time: 117 ms\n"
     ]
    }
   ],
   "source": [
    "# move them away (into the existing trash)\n",
    "df, df_trash = pak.move_rows( df, df_trash, mask)"
   ]
  },
  {
   "cell_type": "code",
   "execution_count": 21,
   "metadata": {},
   "outputs": [
    {
     "name": "stdout",
     "output_type": "stream",
     "text": [
      "count rows: 987  +  13\n",
      "time: 113 ms\n"
     ]
    }
   ],
   "source": [
    "print('count rows:', df.shape[0], ' + ', df_trash.shape[0])"
   ]
  },
  {
   "cell_type": "code",
   "execution_count": 22,
   "metadata": {
    "tags": []
   },
   "outputs": [
    {
     "data": {
      "text/html": [
       "<div>\n",
       "<style scoped>\n",
       "    .dataframe tbody tr th:only-of-type {\n",
       "        vertical-align: middle;\n",
       "    }\n",
       "\n",
       "    .dataframe tbody tr th {\n",
       "        vertical-align: top;\n",
       "    }\n",
       "\n",
       "    .dataframe thead th {\n",
       "        text-align: right;\n",
       "    }\n",
       "</style>\n",
       "<table border=\"1\" class=\"dataframe\">\n",
       "  <thead>\n",
       "    <tr style=\"text-align: right;\">\n",
       "      <th></th>\n",
       "      <th>first_name</th>\n",
       "      <th>age</th>\n",
       "      <th>secret</th>\n",
       "      <th>msg</th>\n",
       "    </tr>\n",
       "  </thead>\n",
       "  <tbody>\n",
       "    <tr>\n",
       "      <th>101</th>\n",
       "      <td>Viktoria</td>\n",
       "      <td>32</td>\n",
       "      <td>g1HÖk2üH</td>\n",
       "      <td>0</td>\n",
       "    </tr>\n",
       "    <tr>\n",
       "      <th>478</th>\n",
       "      <td>Viktoria</td>\n",
       "      <td>24</td>\n",
       "      <td>fäWiÜd</td>\n",
       "      <td>0</td>\n",
       "    </tr>\n",
       "    <tr>\n",
       "      <th>765</th>\n",
       "      <td>Viktoria</td>\n",
       "      <td>34</td>\n",
       "      <td>uDbx8q</td>\n",
       "      <td>0</td>\n",
       "    </tr>\n",
       "    <tr>\n",
       "      <th>820</th>\n",
       "      <td>Viktoria</td>\n",
       "      <td>28</td>\n",
       "      <td>0a5ef6</td>\n",
       "      <td>0</td>\n",
       "    </tr>\n",
       "    <tr>\n",
       "      <th>944</th>\n",
       "      <td>Viktoria</td>\n",
       "      <td>29</td>\n",
       "      <td>8typUe</td>\n",
       "      <td>0</td>\n",
       "    </tr>\n",
       "    <tr>\n",
       "      <th>975</th>\n",
       "      <td>Viktoria</td>\n",
       "      <td>32</td>\n",
       "      <td>kjBlqkZ</td>\n",
       "      <td>0</td>\n",
       "    </tr>\n",
       "    <tr>\n",
       "      <th>982</th>\n",
       "      <td>Viktoria</td>\n",
       "      <td>32</td>\n",
       "      <td>4e3IiLJrgt</td>\n",
       "      <td>0</td>\n",
       "    </tr>\n",
       "    <tr>\n",
       "      <th>389</th>\n",
       "      <td>Franziska</td>\n",
       "      <td>25</td>\n",
       "      <td>2458hCooo</td>\n",
       "      <td>1</td>\n",
       "    </tr>\n",
       "    <tr>\n",
       "      <th>453</th>\n",
       "      <td>Franziska</td>\n",
       "      <td>34</td>\n",
       "      <td>iCkümI</td>\n",
       "      <td>1</td>\n",
       "    </tr>\n",
       "    <tr>\n",
       "      <th>595</th>\n",
       "      <td>Franziska</td>\n",
       "      <td>36</td>\n",
       "      <td>H2iL7ag</td>\n",
       "      <td>1</td>\n",
       "    </tr>\n",
       "    <tr>\n",
       "      <th>720</th>\n",
       "      <td>Franziska</td>\n",
       "      <td>37</td>\n",
       "      <td>pxYqAxü</td>\n",
       "      <td>1</td>\n",
       "    </tr>\n",
       "    <tr>\n",
       "      <th>787</th>\n",
       "      <td>Franziska</td>\n",
       "      <td>26</td>\n",
       "      <td>o0Lrt5i1</td>\n",
       "      <td>1</td>\n",
       "    </tr>\n",
       "    <tr>\n",
       "      <th>969</th>\n",
       "      <td>Franziska</td>\n",
       "      <td>28</td>\n",
       "      <td>nM2IÄhKZ</td>\n",
       "      <td>1</td>\n",
       "    </tr>\n",
       "  </tbody>\n",
       "</table>\n",
       "</div>"
      ],
      "text/plain": [
       "    first_name  age      secret  msg\n",
       "101   Viktoria   32    g1HÖk2üH    0\n",
       "478   Viktoria   24      fäWiÜd    0\n",
       "765   Viktoria   34      uDbx8q    0\n",
       "820   Viktoria   28      0a5ef6    0\n",
       "944   Viktoria   29      8typUe    0\n",
       "975   Viktoria   32     kjBlqkZ    0\n",
       "982   Viktoria   32  4e3IiLJrgt    0\n",
       "389  Franziska   25   2458hCooo    1\n",
       "453  Franziska   34      iCkümI    1\n",
       "595  Franziska   36     H2iL7ag    1\n",
       "720  Franziska   37     pxYqAxü    1\n",
       "787  Franziska   26    o0Lrt5i1    1\n",
       "969  Franziska   28    nM2IÄhKZ    1"
      ]
     },
     "execution_count": 22,
     "metadata": {},
     "output_type": "execute_result"
    },
    {
     "name": "stdout",
     "output_type": "stream",
     "text": [
      "time: 120 ms\n"
     ]
    }
   ],
   "source": [
    "df_trash"
   ]
  },
  {
   "cell_type": "markdown",
   "metadata": {},
   "source": [
    "### add_rows()"
   ]
  },
  {
   "cell_type": "code",
   "execution_count": 41,
   "metadata": {},
   "outputs": [
    {
     "name": "stdout",
     "output_type": "stream",
     "text": [
      "time: 124 ms\n"
     ]
    },
    {
     "data": {
      "text/plain": [
       "\u001b[1;31mSignature:\u001b[0m \u001b[0mpak\u001b[0m\u001b[1;33m.\u001b[0m\u001b[0madd_rows\u001b[0m\u001b[1;33m(\u001b[0m\u001b[0mdf_main\u001b[0m\u001b[1;33m,\u001b[0m \u001b[0mdf_add\u001b[0m\u001b[1;33m,\u001b[0m \u001b[0monly_new\u001b[0m\u001b[1;33m=\u001b[0m\u001b[1;32mNone\u001b[0m\u001b[1;33m,\u001b[0m \u001b[0mreindex\u001b[0m\u001b[1;33m=\u001b[0m\u001b[1;32mFalse\u001b[0m\u001b[1;33m,\u001b[0m \u001b[0mverbose\u001b[0m\u001b[1;33m=\u001b[0m\u001b[1;32mNone\u001b[0m\u001b[1;33m)\u001b[0m\u001b[1;33m\u001b[0m\u001b[1;33m\u001b[0m\u001b[0m\n",
       "\u001b[1;31mDocstring:\u001b[0m\n",
       "Like concat, with additional features.\n",
       "* df_main:  The new rows are added to the end of this dataframe.\n",
       "* df_add:   Rows to add. The dtypes are adapted to those of df_main.\n",
       "            Series or list are also accepted for appending.\n",
       "* only_new: Avoid duplicates by setting this to a list of column names.\n",
       "            This combination must contain new content.\n",
       "            A single column name as string works the same way.\n",
       "            Or set only_new=True, this will avoid duplicate row indexes.\n",
       "* reindex:  Will the result get a fresh index without dups?\n",
       "* verbose:  Print status messages how many rows affected\n",
       "\u001b[1;31mFile:\u001b[0m      d:\\dropbox\\31_projekte\\01_python\\git\\pandasklar\\src\\pandasklar\\pandas.py\n",
       "\u001b[1;31mType:\u001b[0m      function\n"
      ]
     },
     "metadata": {},
     "output_type": "display_data"
    }
   ],
   "source": [
    "?pak.add_rows"
   ]
  },
  {
   "cell_type": "code",
   "execution_count": 24,
   "metadata": {},
   "outputs": [
    {
     "name": "stdout",
     "output_type": "stream",
     "text": [
      "change_datatype \n",
      "first_name           --> pd.string \n",
      "age                  --> pd.Int8   \n",
      "change_datatype before: 145.4 KB after: 139.6 KB\n",
      "\n",
      "time: 134 ms\n"
     ]
    }
   ],
   "source": [
    "# We will concat df and df_trash again and compare it with df_orig, the backup of df\n",
    "\n",
    "# get rid of the msg column\n",
    "df_trash     = pak.drop_cols(df_trash,'msg')       \n",
    "\n",
    "# optimize df, but not df_trash. \n",
    "# So the dtypes are different now\n",
    "df = pak.change_datatype(df)"
   ]
  },
  {
   "cell_type": "code",
   "execution_count": 25,
   "metadata": {},
   "outputs": [
    {
     "name": "stdout",
     "output_type": "stream",
     "text": [
      "13 rows added, now a total of 1000\n",
      "time: 115 ms\n"
     ]
    }
   ],
   "source": [
    "# recover to the state before move_rows\n",
    "df_recovered = pak.add_rows(df, df_trash)"
   ]
  },
  {
   "cell_type": "code",
   "execution_count": 26,
   "metadata": {},
   "outputs": [
    {
     "name": "stdout",
     "output_type": "stream",
     "text": [
      "time: 113 ms\n"
     ]
    }
   ],
   "source": [
    "#df_recovered"
   ]
  },
  {
   "cell_type": "code",
   "execution_count": 27,
   "metadata": {},
   "outputs": [
    {
     "name": "stdout",
     "output_type": "stream",
     "text": [
      "time: 113 ms\n"
     ]
    }
   ],
   "source": [
    "# check the datatypes \n",
    "#pak.analyse_cols(df_recovered)"
   ]
  },
  {
   "cell_type": "code",
   "execution_count": 28,
   "metadata": {},
   "outputs": [
    {
     "data": {
      "text/html": [
       "<div>\n",
       "<style scoped>\n",
       "    .dataframe tbody tr th:only-of-type {\n",
       "        vertical-align: middle;\n",
       "    }\n",
       "\n",
       "    .dataframe tbody tr th {\n",
       "        vertical-align: top;\n",
       "    }\n",
       "\n",
       "    .dataframe thead th {\n",
       "        text-align: right;\n",
       "    }\n",
       "</style>\n",
       "<table border=\"1\" class=\"dataframe\">\n",
       "  <thead>\n",
       "    <tr style=\"text-align: right;\">\n",
       "      <th></th>\n",
       "      <th>name</th>\n",
       "      <th>dtype</th>\n",
       "      <th>nnan</th>\n",
       "      <th>content</th>\n",
       "      <th>sort</th>\n",
       "      <th>eq</th>\n",
       "    </tr>\n",
       "  </thead>\n",
       "  <tbody>\n",
       "    <tr>\n",
       "      <th>first_name</th>\n",
       "      <td>True</td>\n",
       "      <td>False</td>\n",
       "      <td>True</td>\n",
       "      <td>True</td>\n",
       "      <td>False</td>\n",
       "      <td>True</td>\n",
       "    </tr>\n",
       "    <tr>\n",
       "      <th>age</th>\n",
       "      <td>True</td>\n",
       "      <td>False</td>\n",
       "      <td>True</td>\n",
       "      <td>True</td>\n",
       "      <td>False</td>\n",
       "      <td>True</td>\n",
       "    </tr>\n",
       "    <tr>\n",
       "      <th>secret</th>\n",
       "      <td>True</td>\n",
       "      <td>True</td>\n",
       "      <td>True</td>\n",
       "      <td>True</td>\n",
       "      <td>False</td>\n",
       "      <td>True</td>\n",
       "    </tr>\n",
       "    <tr>\n",
       "      <th>(Total)</th>\n",
       "      <td>True</td>\n",
       "      <td>False</td>\n",
       "      <td>True</td>\n",
       "      <td>True</td>\n",
       "      <td>False</td>\n",
       "      <td>True</td>\n",
       "    </tr>\n",
       "  </tbody>\n",
       "</table>\n",
       "</div>"
      ],
      "text/plain": [
       "            name  dtype  nnan content   sort    eq\n",
       "first_name  True  False  True    True  False  True\n",
       "age         True  False  True    True  False  True\n",
       "secret      True   True  True    True  False  True\n",
       "(Total)     True  False  True    True  False  True"
      ]
     },
     "execution_count": 28,
     "metadata": {},
     "output_type": "execute_result"
    },
    {
     "name": "stdout",
     "output_type": "stream",
     "text": [
      "time: 131 ms\n"
     ]
    }
   ],
   "source": [
    "# The dataframes are equal, but sorted different\n",
    "# (see row: Total, cols: sort and eq)\n",
    "pak.compare_dataframes(df_orig, df_recovered)"
   ]
  },
  {
   "cell_type": "code",
   "execution_count": 29,
   "metadata": {},
   "outputs": [
    {
     "name": "stdout",
     "output_type": "stream",
     "text": [
      "13 rows added, now a total of 1000\n"
     ]
    },
    {
     "data": {
      "text/html": [
       "<div>\n",
       "<style scoped>\n",
       "    .dataframe tbody tr th:only-of-type {\n",
       "        vertical-align: middle;\n",
       "    }\n",
       "\n",
       "    .dataframe tbody tr th {\n",
       "        vertical-align: top;\n",
       "    }\n",
       "\n",
       "    .dataframe thead th {\n",
       "        text-align: right;\n",
       "    }\n",
       "</style>\n",
       "<table border=\"1\" class=\"dataframe\">\n",
       "  <thead>\n",
       "    <tr style=\"text-align: right;\">\n",
       "      <th></th>\n",
       "      <th>name</th>\n",
       "      <th>dtype</th>\n",
       "      <th>nnan</th>\n",
       "      <th>content</th>\n",
       "      <th>sort</th>\n",
       "      <th>eq</th>\n",
       "    </tr>\n",
       "  </thead>\n",
       "  <tbody>\n",
       "    <tr>\n",
       "      <th>first_name</th>\n",
       "      <td>True</td>\n",
       "      <td>False</td>\n",
       "      <td>True</td>\n",
       "      <td>True</td>\n",
       "      <td>False</td>\n",
       "      <td>False</td>\n",
       "    </tr>\n",
       "    <tr>\n",
       "      <th>age</th>\n",
       "      <td>True</td>\n",
       "      <td>False</td>\n",
       "      <td>True</td>\n",
       "      <td>True</td>\n",
       "      <td>False</td>\n",
       "      <td>False</td>\n",
       "    </tr>\n",
       "    <tr>\n",
       "      <th>secret</th>\n",
       "      <td>True</td>\n",
       "      <td>True</td>\n",
       "      <td>True</td>\n",
       "      <td>True</td>\n",
       "      <td>False</td>\n",
       "      <td>False</td>\n",
       "    </tr>\n",
       "    <tr>\n",
       "      <th>(Total)</th>\n",
       "      <td>True</td>\n",
       "      <td>False</td>\n",
       "      <td>True</td>\n",
       "      <td>True</td>\n",
       "      <td>False</td>\n",
       "      <td>False</td>\n",
       "    </tr>\n",
       "  </tbody>\n",
       "</table>\n",
       "</div>"
      ],
      "text/plain": [
       "            name  dtype  nnan content   sort     eq\n",
       "first_name  True  False  True    True  False  False\n",
       "age         True  False  True    True  False  False\n",
       "secret      True   True  True    True  False  False\n",
       "(Total)     True  False  True    True  False  False"
      ]
     },
     "execution_count": 29,
     "metadata": {},
     "output_type": "execute_result"
    },
    {
     "name": "stdout",
     "output_type": "stream",
     "text": [
      "time: 136 ms\n"
     ]
    }
   ],
   "source": [
    "# if we do this with reindex=True, \n",
    "# the content keeps equal, \n",
    "# but the dataframes are not equal\n",
    "# (see row: Total, cols: content and eq)\n",
    "df_recovered = pak.add_rows(df, df_trash, reindex=True)\n",
    "pak.compare_dataframes(df_orig, df_recovered)"
   ]
  },
  {
   "cell_type": "markdown",
   "metadata": {},
   "source": [
    "#### add_rows() with only_new=[col1, col2]"
   ]
  },
  {
   "cell_type": "code",
   "execution_count": 30,
   "metadata": {},
   "outputs": [
    {
     "name": "stdout",
     "output_type": "stream",
     "text": [
      "count rows: 987  +  13\n",
      "time: 115 ms\n"
     ]
    }
   ],
   "source": [
    "# we go back to df and df_trash\n",
    "print('count rows:', df.shape[0], ' + ', df_trash.shape[0])"
   ]
  },
  {
   "cell_type": "code",
   "execution_count": 31,
   "metadata": {},
   "outputs": [
    {
     "name": "stdout",
     "output_type": "stream",
     "text": [
      "13 rows added, now a total of 1000\n",
      "time: 118 ms\n"
     ]
    }
   ],
   "source": [
    "# recover to the state before move_rows\n",
    "df_recovered = pak.add_rows(df, df_trash)"
   ]
  },
  {
   "cell_type": "code",
   "execution_count": 32,
   "metadata": {},
   "outputs": [
    {
     "name": "stdout",
     "output_type": "stream",
     "text": [
      "13 rows added, now a total of 1013\n",
      "time: 118 ms\n"
     ]
    }
   ],
   "source": [
    "# add the same rows again >> now we have some duplicates\n",
    "df_with_dups = pak.add_rows(df_recovered, df_trash)"
   ]
  },
  {
   "cell_type": "code",
   "execution_count": 33,
   "metadata": {},
   "outputs": [
    {
     "name": "stdout",
     "output_type": "stream",
     "text": [
      "13 rows not attached\n",
      "0 rows added, now a total of 1000\n",
      "time: 125 ms\n"
     ]
    }
   ],
   "source": [
    "# you can avoid that by setting only_new to a column name combination that must contain new content\n",
    "# run this cell multible times\n",
    "df_recovered = pak.add_rows(df_recovered, df_trash, only_new = ['secret','age'])"
   ]
  },
  {
   "cell_type": "markdown",
   "metadata": {},
   "source": [
    "#### add_rows() with only_new=True"
   ]
  },
  {
   "cell_type": "code",
   "execution_count": 34,
   "metadata": {},
   "outputs": [
    {
     "name": "stdout",
     "output_type": "stream",
     "text": [
      "count rows: 987  +  13\n",
      "time: 136 ms\n"
     ]
    }
   ],
   "source": [
    "# we go back to df and df_trash\n",
    "# but we give them a random index\n",
    "df.index       = pak.random_series(df.shape[0],       'string', len_min=3, len_max=3, p_dup=0)\n",
    "df_trash.index = pak.random_series(df_trash.shape[0], 'string', len_min=3, len_max=3, p_dup=0)\n",
    "print('count rows:', df.shape[0], ' + ', df_trash.shape[0])"
   ]
  },
  {
   "cell_type": "code",
   "execution_count": 35,
   "metadata": {},
   "outputs": [
    {
     "name": "stdout",
     "output_type": "stream",
     "text": [
      "0 rows not attached\n",
      "13 rows added, now a total of 1000\n"
     ]
    },
    {
     "data": {
      "text/html": [
       "<div>\n",
       "<style scoped>\n",
       "    .dataframe tbody tr th:only-of-type {\n",
       "        vertical-align: middle;\n",
       "    }\n",
       "\n",
       "    .dataframe tbody tr th {\n",
       "        vertical-align: top;\n",
       "    }\n",
       "\n",
       "    .dataframe thead th {\n",
       "        text-align: right;\n",
       "    }\n",
       "</style>\n",
       "<table border=\"1\" class=\"dataframe\">\n",
       "  <thead>\n",
       "    <tr style=\"text-align: right;\">\n",
       "      <th></th>\n",
       "      <th>first_name</th>\n",
       "      <th>age</th>\n",
       "      <th>secret</th>\n",
       "    </tr>\n",
       "    <tr>\n",
       "      <th>rnd_string</th>\n",
       "      <th></th>\n",
       "      <th></th>\n",
       "      <th></th>\n",
       "    </tr>\n",
       "  </thead>\n",
       "  <tbody>\n",
       "    <tr>\n",
       "      <th>gG9</th>\n",
       "      <td>Friedrich</td>\n",
       "      <td>31</td>\n",
       "      <td>xnL6y</td>\n",
       "    </tr>\n",
       "    <tr>\n",
       "      <th>WcF</th>\n",
       "      <td>Christoph</td>\n",
       "      <td>34</td>\n",
       "      <td>ÖoVQua7</td>\n",
       "    </tr>\n",
       "    <tr>\n",
       "      <th>5ax</th>\n",
       "      <td>Jutta</td>\n",
       "      <td>31</td>\n",
       "      <td>8QLgS</td>\n",
       "    </tr>\n",
       "    <tr>\n",
       "      <th>U2C</th>\n",
       "      <td>Günter</td>\n",
       "      <td>27</td>\n",
       "      <td>QgKeoäFÜ5H</td>\n",
       "    </tr>\n",
       "    <tr>\n",
       "      <th>äöz</th>\n",
       "      <td>Carla</td>\n",
       "      <td>28</td>\n",
       "      <td>pHiPkaE</td>\n",
       "    </tr>\n",
       "    <tr>\n",
       "      <th>...</th>\n",
       "      <td>...</td>\n",
       "      <td>...</td>\n",
       "      <td>...</td>\n",
       "    </tr>\n",
       "    <tr>\n",
       "      <th>hö3</th>\n",
       "      <td>Franziska</td>\n",
       "      <td>34</td>\n",
       "      <td>iCkümI</td>\n",
       "    </tr>\n",
       "    <tr>\n",
       "      <th>S0I</th>\n",
       "      <td>Franziska</td>\n",
       "      <td>36</td>\n",
       "      <td>H2iL7ag</td>\n",
       "    </tr>\n",
       "    <tr>\n",
       "      <th>at1</th>\n",
       "      <td>Franziska</td>\n",
       "      <td>37</td>\n",
       "      <td>pxYqAxü</td>\n",
       "    </tr>\n",
       "    <tr>\n",
       "      <th>Odä</th>\n",
       "      <td>Franziska</td>\n",
       "      <td>26</td>\n",
       "      <td>o0Lrt5i1</td>\n",
       "    </tr>\n",
       "    <tr>\n",
       "      <th>HÖh</th>\n",
       "      <td>Franziska</td>\n",
       "      <td>28</td>\n",
       "      <td>nM2IÄhKZ</td>\n",
       "    </tr>\n",
       "  </tbody>\n",
       "</table>\n",
       "<p>1000 rows × 3 columns</p>\n",
       "</div>"
      ],
      "text/plain": [
       "           first_name  age      secret\n",
       "rnd_string                            \n",
       "gG9         Friedrich   31       xnL6y\n",
       "WcF         Christoph   34     ÖoVQua7\n",
       "5ax             Jutta   31       8QLgS\n",
       "U2C            Günter   27  QgKeoäFÜ5H\n",
       "äöz             Carla   28     pHiPkaE\n",
       "...               ...  ...         ...\n",
       "hö3         Franziska   34      iCkümI\n",
       "S0I         Franziska   36     H2iL7ag\n",
       "at1         Franziska   37     pxYqAxü\n",
       "Odä         Franziska   26    o0Lrt5i1\n",
       "HÖh         Franziska   28    nM2IÄhKZ\n",
       "\n",
       "[1000 rows x 3 columns]"
      ]
     },
     "execution_count": 35,
     "metadata": {},
     "output_type": "execute_result"
    },
    {
     "name": "stdout",
     "output_type": "stream",
     "text": [
      "time: 124 ms\n"
     ]
    }
   ],
   "source": [
    "# recover with only_new=True to avoid duplicate row indexes\n",
    "df_recovered = pak.add_rows(df, df_trash, only_new=True)\n",
    "df_recovered"
   ]
  },
  {
   "cell_type": "code",
   "execution_count": 36,
   "metadata": {},
   "outputs": [
    {
     "name": "stdout",
     "output_type": "stream",
     "text": [
      "13 rows not attached\n",
      "0 rows added, now a total of 1000\n",
      "time: 125 ms\n"
     ]
    }
   ],
   "source": [
    "# add the same rows again >> no rows added\n",
    "df_recovered = pak.add_rows(df_recovered, df_trash, only_new=True)\n",
    "#df_recovered"
   ]
  },
  {
   "cell_type": "code",
   "execution_count": 37,
   "metadata": {},
   "outputs": [
    {
     "name": "stdout",
     "output_type": "stream",
     "text": [
      "time: 116 ms\n"
     ]
    }
   ],
   "source": [
    "#search_notebooks('add_rows', radius=3, exclude='nb_out', suffix='py')"
   ]
  },
  {
   "cell_type": "code",
   "execution_count": null,
   "metadata": {},
   "outputs": [],
   "source": []
  }
 ],
 "metadata": {
  "kernelspec": {
   "display_name": "Python 3 (ipykernel)",
   "language": "python",
   "name": "python3"
  },
  "language_info": {
   "codemirror_mode": {
    "name": "ipython",
    "version": 3
   },
   "file_extension": ".py",
   "mimetype": "text/x-python",
   "name": "python",
   "nbconvert_exporter": "python",
   "pygments_lexer": "ipython3",
   "version": "3.9.13"
  }
 },
 "nbformat": 4,
 "nbformat_minor": 4
}
