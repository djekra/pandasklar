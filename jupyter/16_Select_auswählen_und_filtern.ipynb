{
 "cells": [
  {
   "cell_type": "markdown",
   "metadata": {},
   "source": [
    "# Select"
   ]
  },
  {
   "cell_type": "code",
   "execution_count": 7,
   "metadata": {},
   "outputs": [
    {
     "name": "stdout",
     "output_type": "stream",
     "text": [
      "dropbox_path = /Data/Dropbox\n"
     ]
    },
    {
     "data": {
      "text/html": [
       "<img src onerror=\"var cell = this.closest('.jp-CodeCell');var editor = cell.querySelector('.jp-Editor');editor.style.background='DarkGray';this.parentNode.removeChild(this)\">"
      ],
      "text/plain": [
       "<IPython.core.display.HTML object>"
      ]
     },
     "metadata": {},
     "output_type": "display_data"
    },
    {
     "name": "stdout",
     "output_type": "stream",
     "text": [
      "time: 4.98 ms (started: 2022-02-14 07:51:57 +00:00)\n"
     ]
    }
   ],
   "source": [
    "# blab init\n",
    "import blab\n",
    "startup_notebook = blab.blab_startup()\n",
    "%run $startup_notebook"
   ]
  },
  {
   "cell_type": "code",
   "execution_count": 8,
   "metadata": {},
   "outputs": [
    {
     "name": "stdout",
     "output_type": "stream",
     "text": [
      "time: 549 µs (started: 2022-02-14 07:51:57 +00:00)\n"
     ]
    }
   ],
   "source": [
    "import numpy      as np\n",
    "import pandas     as pd \n",
    "import bpyth      as bpy\n",
    "import pandasklar as pak "
   ]
  },
  {
   "cell_type": "code",
   "execution_count": 9,
   "metadata": {},
   "outputs": [
    {
     "data": {
      "text/html": [
       "<div>\n",
       "<style scoped>\n",
       "    .dataframe tbody tr th:only-of-type {\n",
       "        vertical-align: middle;\n",
       "    }\n",
       "\n",
       "    .dataframe tbody tr th {\n",
       "        vertical-align: top;\n",
       "    }\n",
       "\n",
       "    .dataframe thead th {\n",
       "        text-align: right;\n",
       "    }\n",
       "</style>\n",
       "<table border=\"1\" class=\"dataframe\">\n",
       "  <thead>\n",
       "    <tr style=\"text-align: right;\">\n",
       "      <th></th>\n",
       "      <th>vorname</th>\n",
       "      <th>alter</th>\n",
       "      <th>altersklasse</th>\n",
       "      <th>plz</th>\n",
       "      <th>geburtsstadt</th>\n",
       "      <th>passwort</th>\n",
       "      <th>merkmale</th>\n",
       "      <th>history</th>\n",
       "    </tr>\n",
       "    <tr>\n",
       "      <th>index</th>\n",
       "      <th></th>\n",
       "      <th></th>\n",
       "      <th></th>\n",
       "      <th></th>\n",
       "      <th></th>\n",
       "      <th></th>\n",
       "      <th></th>\n",
       "      <th></th>\n",
       "    </tr>\n",
       "  </thead>\n",
       "  <tbody>\n",
       "    <tr>\n",
       "      <th>L</th>\n",
       "      <td>Peter</td>\n",
       "      <td>28</td>\n",
       "      <td>20</td>\n",
       "      <td>93109</td>\n",
       "      <td>Berlin</td>\n",
       "      <td>OMxPW</td>\n",
       "      <td>{o}</td>\n",
       "      <td>[c, b, a]</td>\n",
       "    </tr>\n",
       "    <tr>\n",
       "      <th>G</th>\n",
       "      <td>Anja</td>\n",
       "      <td>30</td>\n",
       "      <td>30</td>\n",
       "      <td>40727</td>\n",
       "      <td>&lt;NA&gt;</td>\n",
       "      <td>QÜXGXöFKC</td>\n",
       "      <td>{g, C, f, 5, G}</td>\n",
       "      <td>[b, b, a, b]</td>\n",
       "    </tr>\n",
       "    <tr>\n",
       "      <th>V</th>\n",
       "      <td>Jacqueline</td>\n",
       "      <td>35</td>\n",
       "      <td>30</td>\n",
       "      <td>65882</td>\n",
       "      <td>Berlin</td>\n",
       "      <td>au0thÖ</td>\n",
       "      <td>{h}</td>\n",
       "      <td>[A, B, C]</td>\n",
       "    </tr>\n",
       "    <tr>\n",
       "      <th>u</th>\n",
       "      <td>Jakob</td>\n",
       "      <td>32</td>\n",
       "      <td>30</td>\n",
       "      <td>71091</td>\n",
       "      <td>&lt;NA&gt;</td>\n",
       "      <td>üZgÜvaPC</td>\n",
       "      <td>{3, i, s}</td>\n",
       "      <td>[]</td>\n",
       "    </tr>\n",
       "    <tr>\n",
       "      <th>b</th>\n",
       "      <td>Kira</td>\n",
       "      <td>35</td>\n",
       "      <td>30</td>\n",
       "      <td>32581</td>\n",
       "      <td>&lt;NA&gt;</td>\n",
       "      <td>5H72sihC3</td>\n",
       "      <td>{e, o}</td>\n",
       "      <td>[a, b, c]</td>\n",
       "    </tr>\n",
       "    <tr>\n",
       "      <th>...</th>\n",
       "      <td>...</td>\n",
       "      <td>...</td>\n",
       "      <td>...</td>\n",
       "      <td>...</td>\n",
       "      <td>...</td>\n",
       "      <td>...</td>\n",
       "      <td>...</td>\n",
       "      <td>...</td>\n",
       "    </tr>\n",
       "    <tr>\n",
       "      <th>B</th>\n",
       "      <td>Elfriede</td>\n",
       "      <td>28</td>\n",
       "      <td>20</td>\n",
       "      <td>44268</td>\n",
       "      <td>Bremen</td>\n",
       "      <td>osn5cVa0</td>\n",
       "      <td>{0}</td>\n",
       "      <td>[A, B, C, C]</td>\n",
       "    </tr>\n",
       "    <tr>\n",
       "      <th>z</th>\n",
       "      <td>Tobias</td>\n",
       "      <td>28</td>\n",
       "      <td>20</td>\n",
       "      <td>66717</td>\n",
       "      <td>Bremen</td>\n",
       "      <td>hpbüeFV</td>\n",
       "      <td>{e, c, l, v}</td>\n",
       "      <td>[A, x]</td>\n",
       "    </tr>\n",
       "    <tr>\n",
       "      <th>q</th>\n",
       "      <td>Yasmin</td>\n",
       "      <td>33</td>\n",
       "      <td>30</td>\n",
       "      <td>89437</td>\n",
       "      <td>Bremen</td>\n",
       "      <td>7AUg0äüoj</td>\n",
       "      <td>{L, K, 4, g}</td>\n",
       "      <td>[c, b, a]</td>\n",
       "    </tr>\n",
       "    <tr>\n",
       "      <th>W</th>\n",
       "      <td>Angela</td>\n",
       "      <td>25</td>\n",
       "      <td>20</td>\n",
       "      <td>11201</td>\n",
       "      <td>Bremen</td>\n",
       "      <td>üLtÜ56Ku</td>\n",
       "      <td>{O, x}</td>\n",
       "      <td>[c, b, a]</td>\n",
       "    </tr>\n",
       "    <tr>\n",
       "      <th>M</th>\n",
       "      <td>Carsten</td>\n",
       "      <td>28</td>\n",
       "      <td>20</td>\n",
       "      <td>16936</td>\n",
       "      <td>&lt;NA&gt;</td>\n",
       "      <td>PdYq3</td>\n",
       "      <td>{n, c, C, z, 0}</td>\n",
       "      <td>[b, b, a, b]</td>\n",
       "    </tr>\n",
       "  </tbody>\n",
       "</table>\n",
       "<p>100 rows × 8 columns</p>\n",
       "</div>"
      ],
      "text/plain": [
       "          vorname  alter  altersklasse    plz geburtsstadt   passwort  \\\n",
       "index                                                                   \n",
       "L           Peter     28            20  93109       Berlin      OMxPW   \n",
       "G            Anja     30            30  40727         <NA>  QÜXGXöFKC   \n",
       "V      Jacqueline     35            30  65882       Berlin     au0thÖ   \n",
       "u           Jakob     32            30  71091         <NA>   üZgÜvaPC   \n",
       "b            Kira     35            30  32581         <NA>  5H72sihC3   \n",
       "...           ...    ...           ...    ...          ...        ...   \n",
       "B        Elfriede     28            20  44268       Bremen   osn5cVa0   \n",
       "z          Tobias     28            20  66717       Bremen    hpbüeFV   \n",
       "q          Yasmin     33            30  89437       Bremen  7AUg0äüoj   \n",
       "W          Angela     25            20  11201       Bremen   üLtÜ56Ku   \n",
       "M         Carsten     28            20  16936         <NA>      PdYq3   \n",
       "\n",
       "              merkmale       history  \n",
       "index                                 \n",
       "L                  {o}     [c, b, a]  \n",
       "G      {g, C, f, 5, G}  [b, b, a, b]  \n",
       "V                  {h}     [A, B, C]  \n",
       "u            {3, i, s}            []  \n",
       "b               {e, o}     [a, b, c]  \n",
       "...                ...           ...  \n",
       "B                  {0}  [A, B, C, C]  \n",
       "z         {e, c, l, v}        [A, x]  \n",
       "q         {L, K, 4, g}     [c, b, a]  \n",
       "W               {O, x}     [c, b, a]  \n",
       "M      {n, c, C, z, 0}  [b, b, a, b]  \n",
       "\n",
       "[100 rows x 8 columns]"
      ]
     },
     "execution_count": 9,
     "metadata": {},
     "output_type": "execute_result"
    },
    {
     "name": "stdout",
     "output_type": "stream",
     "text": [
      "time: 61.1 ms (started: 2022-02-14 07:51:57 +00:00)\n"
     ]
    }
   ],
   "source": [
    "# Testdaten\n",
    "df = pak.leute()\n",
    "neuer_index = pak.random_series(df.shape[0], 'string', len_min=1, len_max=1, p_dup=0.3, name='index')\n",
    "df.index = neuer_index\n",
    "df"
   ]
  },
  {
   "cell_type": "markdown",
   "metadata": {},
   "source": [
    "## Spalten wählen"
   ]
  },
  {
   "cell_type": "code",
   "execution_count": 10,
   "metadata": {},
   "outputs": [
    {
     "name": "stdout",
     "output_type": "stream",
     "text": [
      "<class 'pandas.core.series.Series'>\n"
     ]
    },
    {
     "data": {
      "text/plain": [
       "index\n",
       "L         Peter\n",
       "G          Anja\n",
       "V    Jacqueline\n",
       "Name: vorname, dtype: string"
      ]
     },
     "execution_count": 10,
     "metadata": {},
     "output_type": "execute_result"
    },
    {
     "name": "stdout",
     "output_type": "stream",
     "text": [
      "time: 2.95 ms (started: 2022-02-14 07:51:57 +00:00)\n"
     ]
    }
   ],
   "source": [
    "# Einzelne Spalte nach Label wählen\n",
    "result = df['vorname']\n",
    "print(type(result))\n",
    "result.head(3)"
   ]
  },
  {
   "cell_type": "code",
   "execution_count": 11,
   "metadata": {},
   "outputs": [
    {
     "data": {
      "text/html": [
       "<div>\n",
       "<style scoped>\n",
       "    .dataframe tbody tr th:only-of-type {\n",
       "        vertical-align: middle;\n",
       "    }\n",
       "\n",
       "    .dataframe tbody tr th {\n",
       "        vertical-align: top;\n",
       "    }\n",
       "\n",
       "    .dataframe thead th {\n",
       "        text-align: right;\n",
       "    }\n",
       "</style>\n",
       "<table border=\"1\" class=\"dataframe\">\n",
       "  <thead>\n",
       "    <tr style=\"text-align: right;\">\n",
       "      <th></th>\n",
       "      <th>vorname</th>\n",
       "      <th>alter</th>\n",
       "    </tr>\n",
       "    <tr>\n",
       "      <th>index</th>\n",
       "      <th></th>\n",
       "      <th></th>\n",
       "    </tr>\n",
       "  </thead>\n",
       "  <tbody>\n",
       "    <tr>\n",
       "      <th>L</th>\n",
       "      <td>Peter</td>\n",
       "      <td>28</td>\n",
       "    </tr>\n",
       "    <tr>\n",
       "      <th>G</th>\n",
       "      <td>Anja</td>\n",
       "      <td>30</td>\n",
       "    </tr>\n",
       "    <tr>\n",
       "      <th>V</th>\n",
       "      <td>Jacqueline</td>\n",
       "      <td>35</td>\n",
       "    </tr>\n",
       "  </tbody>\n",
       "</table>\n",
       "</div>"
      ],
      "text/plain": [
       "          vorname  alter\n",
       "index                   \n",
       "L           Peter     28\n",
       "G            Anja     30\n",
       "V      Jacqueline     35"
      ]
     },
     "execution_count": 11,
     "metadata": {},
     "output_type": "execute_result"
    },
    {
     "name": "stdout",
     "output_type": "stream",
     "text": [
      "time: 4.7 ms (started: 2022-02-14 07:51:57 +00:00)\n"
     ]
    }
   ],
   "source": [
    "# Mehrere Spalte nach Label wählen\n",
    "spalten = ['vorname', 'alter']\n",
    "result = df[spalten]\n",
    "result.head(3)"
   ]
  },
  {
   "cell_type": "code",
   "execution_count": 12,
   "metadata": {},
   "outputs": [
    {
     "data": {
      "text/plain": [
       "['vorname', 'geburtsstadt', 'passwort']"
      ]
     },
     "execution_count": 12,
     "metadata": {},
     "output_type": "execute_result"
    },
    {
     "name": "stdout",
     "output_type": "stream",
     "text": [
      "time: 7.98 ms (started: 2022-02-14 07:51:57 +00:00)\n"
     ]
    }
   ],
   "source": [
    "# Spalten nach Datentyp auswählen\n",
    "pak.col_names(df, only='str')"
   ]
  },
  {
   "cell_type": "code",
   "execution_count": 13,
   "metadata": {},
   "outputs": [
    {
     "name": "stdout",
     "output_type": "stream",
     "text": [
      "time: 45.2 ms (started: 2022-02-14 07:51:57 +00:00)\n"
     ]
    },
    {
     "data": {
      "text/plain": [
       "\u001b[0;31mSignature:\u001b[0m\n",
       "\u001b[0mpak\u001b[0m\u001b[0;34m.\u001b[0m\u001b[0mcol_names\u001b[0m\u001b[0;34m(\u001b[0m\u001b[0;34m\u001b[0m\n",
       "\u001b[0;34m\u001b[0m    \u001b[0mdf\u001b[0m\u001b[0;34m,\u001b[0m\u001b[0;34m\u001b[0m\n",
       "\u001b[0;34m\u001b[0m    \u001b[0monly\u001b[0m\u001b[0;34m=\u001b[0m\u001b[0;34m''\u001b[0m\u001b[0;34m,\u001b[0m\u001b[0;34m\u001b[0m\n",
       "\u001b[0;34m\u001b[0m    \u001b[0mwithout\u001b[0m\u001b[0;34m=\u001b[0m\u001b[0;34m'XXXXXX'\u001b[0m\u001b[0;34m,\u001b[0m\u001b[0;34m\u001b[0m\n",
       "\u001b[0;34m\u001b[0m    \u001b[0mas_list\u001b[0m\u001b[0;34m=\u001b[0m\u001b[0;32mTrue\u001b[0m\u001b[0;34m,\u001b[0m\u001b[0;34m\u001b[0m\n",
       "\u001b[0;34m\u001b[0m    \u001b[0mquery\u001b[0m\u001b[0;34m=\u001b[0m\u001b[0;32mNone\u001b[0m\u001b[0;34m,\u001b[0m\u001b[0;34m\u001b[0m\n",
       "\u001b[0;34m\u001b[0m    \u001b[0msort\u001b[0m\u001b[0;34m=\u001b[0m\u001b[0;32mFalse\u001b[0m\u001b[0;34m,\u001b[0m\u001b[0;34m\u001b[0m\n",
       "\u001b[0;34m\u001b[0m\u001b[0;34m)\u001b[0m\u001b[0;34m\u001b[0m\u001b[0;34m\u001b[0m\u001b[0m\n",
       "\u001b[0;31mDocstring:\u001b[0m\n",
       "selektiert Spaltennamen auf Basis von analyse_cols. Sinnvoll um eine Methode auf bestimmte Spalten eines DataFrame anzuwenden.\n",
       "* only:     Nur Spaltennamen, deren datatype so beginnt\n",
       "* without:  Ohne Spaltennamen, deren datatype so beginnt\n",
       "* as_list:  Ergebnis als Liste ausgeben (sonst als DataFrame, sinnvoll zur Entwicklung und Kontrolle)\n",
       "* sort: nach nunique sortiert\n",
       "datatypes werden aus analyse_datatypes, Feld datatype_short oder datatype_instance entnommen.\n",
       "\n",
       "Beispiel: Alle str-Spalten mit fillna behandeln\n",
       "cols = col_names(df, only='str', query='nnan > 0')\n",
       "df[cols] = df[cols].fillna('')\n",
       "\u001b[0;31mFile:\u001b[0m      /Data/Dropbox/31_Projekte/01_Python/90 libs/pandasklar/analyse.py\n",
       "\u001b[0;31mType:\u001b[0m      function\n"
      ]
     },
     "metadata": {},
     "output_type": "display_data"
    }
   ],
   "source": [
    "?pak.col_names"
   ]
  },
  {
   "cell_type": "markdown",
   "metadata": {},
   "source": [
    "## Zeilen wählen"
   ]
  },
  {
   "cell_type": "code",
   "execution_count": 14,
   "metadata": {},
   "outputs": [
    {
     "name": "stdout",
     "output_type": "stream",
     "text": [
      "<class 'pandas.core.frame.DataFrame'>\n"
     ]
    },
    {
     "data": {
      "text/html": [
       "<div>\n",
       "<style scoped>\n",
       "    .dataframe tbody tr th:only-of-type {\n",
       "        vertical-align: middle;\n",
       "    }\n",
       "\n",
       "    .dataframe tbody tr th {\n",
       "        vertical-align: top;\n",
       "    }\n",
       "\n",
       "    .dataframe thead th {\n",
       "        text-align: right;\n",
       "    }\n",
       "</style>\n",
       "<table border=\"1\" class=\"dataframe\">\n",
       "  <thead>\n",
       "    <tr style=\"text-align: right;\">\n",
       "      <th></th>\n",
       "      <th>vorname</th>\n",
       "      <th>alter</th>\n",
       "      <th>altersklasse</th>\n",
       "      <th>plz</th>\n",
       "      <th>geburtsstadt</th>\n",
       "      <th>passwort</th>\n",
       "      <th>merkmale</th>\n",
       "      <th>history</th>\n",
       "    </tr>\n",
       "    <tr>\n",
       "      <th>index</th>\n",
       "      <th></th>\n",
       "      <th></th>\n",
       "      <th></th>\n",
       "      <th></th>\n",
       "      <th></th>\n",
       "      <th></th>\n",
       "      <th></th>\n",
       "      <th></th>\n",
       "    </tr>\n",
       "  </thead>\n",
       "  <tbody>\n",
       "    <tr>\n",
       "      <th>e</th>\n",
       "      <td>Lara</td>\n",
       "      <td>32</td>\n",
       "      <td>30</td>\n",
       "      <td>29320</td>\n",
       "      <td>Berlin</td>\n",
       "      <td>zeeszeÄic</td>\n",
       "      <td>{L, K, 4, g}</td>\n",
       "      <td>[A, C, C, B]</td>\n",
       "    </tr>\n",
       "    <tr>\n",
       "      <th>e</th>\n",
       "      <td>Alexandra</td>\n",
       "      <td>33</td>\n",
       "      <td>30</td>\n",
       "      <td>&lt;NA&gt;</td>\n",
       "      <td>Berlin</td>\n",
       "      <td>qÖüazFJiIe</td>\n",
       "      <td>{4, F, J}</td>\n",
       "      <td>[a, b, c]</td>\n",
       "    </tr>\n",
       "  </tbody>\n",
       "</table>\n",
       "</div>"
      ],
      "text/plain": [
       "         vorname  alter  altersklasse    plz geburtsstadt    passwort  \\\n",
       "index                                                                   \n",
       "e           Lara     32            30  29320       Berlin   zeeszeÄic   \n",
       "e      Alexandra     33            30   <NA>       Berlin  qÖüazFJiIe   \n",
       "\n",
       "           merkmale       history  \n",
       "index                              \n",
       "e      {L, K, 4, g}  [A, C, C, B]  \n",
       "e         {4, F, J}     [a, b, c]  "
      ]
     },
     "execution_count": 14,
     "metadata": {},
     "output_type": "execute_result"
    },
    {
     "name": "stdout",
     "output_type": "stream",
     "text": [
      "time: 9.57 ms (started: 2022-02-14 07:51:57 +00:00)\n"
     ]
    }
   ],
   "source": [
    "# Eine oder mehrere Zeilen nach Index\n",
    "result = df.loc['e']\n",
    "print(type(result)) # Series, wenn nur eine Zeile. Dataframe, wenn mehrere Zeilen.\n",
    "result"
   ]
  },
  {
   "cell_type": "code",
   "execution_count": 15,
   "metadata": {},
   "outputs": [
    {
     "name": "stdout",
     "output_type": "stream",
     "text": [
      "<class 'pandas.core.series.Series'>\n"
     ]
    },
    {
     "data": {
      "text/plain": [
       "vorname                    Anja\n",
       "alter                        30\n",
       "altersklasse                 30\n",
       "plz                       40727\n",
       "geburtsstadt               <NA>\n",
       "passwort              QÜXGXöFKC\n",
       "merkmale        {g, C, f, 5, G}\n",
       "history            [b, b, a, b]\n",
       "Name: G, dtype: object"
      ]
     },
     "execution_count": 15,
     "metadata": {},
     "output_type": "execute_result"
    },
    {
     "name": "stdout",
     "output_type": "stream",
     "text": [
      "time: 3.01 ms (started: 2022-02-14 07:51:57 +00:00)\n"
     ]
    }
   ],
   "source": [
    "# Einzelne Zeile nach Position\n",
    "result = df.iloc[1]\n",
    "print(type(result))\n",
    "result"
   ]
  },
  {
   "cell_type": "code",
   "execution_count": 16,
   "metadata": {},
   "outputs": [
    {
     "name": "stdout",
     "output_type": "stream",
     "text": [
      "<class 'pandas.core.frame.DataFrame'>\n"
     ]
    },
    {
     "data": {
      "text/html": [
       "<div>\n",
       "<style scoped>\n",
       "    .dataframe tbody tr th:only-of-type {\n",
       "        vertical-align: middle;\n",
       "    }\n",
       "\n",
       "    .dataframe tbody tr th {\n",
       "        vertical-align: top;\n",
       "    }\n",
       "\n",
       "    .dataframe thead th {\n",
       "        text-align: right;\n",
       "    }\n",
       "</style>\n",
       "<table border=\"1\" class=\"dataframe\">\n",
       "  <thead>\n",
       "    <tr style=\"text-align: right;\">\n",
       "      <th></th>\n",
       "      <th>vorname</th>\n",
       "      <th>alter</th>\n",
       "      <th>altersklasse</th>\n",
       "      <th>plz</th>\n",
       "      <th>geburtsstadt</th>\n",
       "      <th>passwort</th>\n",
       "      <th>merkmale</th>\n",
       "      <th>history</th>\n",
       "    </tr>\n",
       "    <tr>\n",
       "      <th>index</th>\n",
       "      <th></th>\n",
       "      <th></th>\n",
       "      <th></th>\n",
       "      <th></th>\n",
       "      <th></th>\n",
       "      <th></th>\n",
       "      <th></th>\n",
       "      <th></th>\n",
       "    </tr>\n",
       "  </thead>\n",
       "  <tbody>\n",
       "    <tr>\n",
       "      <th>V</th>\n",
       "      <td>Jacqueline</td>\n",
       "      <td>35</td>\n",
       "      <td>30</td>\n",
       "      <td>65882</td>\n",
       "      <td>Berlin</td>\n",
       "      <td>au0thÖ</td>\n",
       "      <td>{h}</td>\n",
       "      <td>[A, B, C]</td>\n",
       "    </tr>\n",
       "    <tr>\n",
       "      <th>u</th>\n",
       "      <td>Jakob</td>\n",
       "      <td>32</td>\n",
       "      <td>30</td>\n",
       "      <td>71091</td>\n",
       "      <td>&lt;NA&gt;</td>\n",
       "      <td>üZgÜvaPC</td>\n",
       "      <td>{3, i, s}</td>\n",
       "      <td>[]</td>\n",
       "    </tr>\n",
       "  </tbody>\n",
       "</table>\n",
       "</div>"
      ],
      "text/plain": [
       "          vorname  alter  altersklasse    plz geburtsstadt  passwort  \\\n",
       "index                                                                  \n",
       "V      Jacqueline     35            30  65882       Berlin    au0thÖ   \n",
       "u           Jakob     32            30  71091         <NA>  üZgÜvaPC   \n",
       "\n",
       "        merkmale    history  \n",
       "index                        \n",
       "V            {h}  [A, B, C]  \n",
       "u      {3, i, s}         []  "
      ]
     },
     "execution_count": 16,
     "metadata": {},
     "output_type": "execute_result"
    },
    {
     "name": "stdout",
     "output_type": "stream",
     "text": [
      "time: 9.16 ms (started: 2022-02-14 07:51:57 +00:00)\n"
     ]
    }
   ],
   "source": [
    "# Ausschnitt von Zeilen nach Position \n",
    "result = df[2:4]\n",
    "print(type(result))\n",
    "result"
   ]
  },
  {
   "cell_type": "markdown",
   "metadata": {},
   "source": [
    "## Boolean Indexing"
   ]
  },
  {
   "cell_type": "code",
   "execution_count": 17,
   "metadata": {},
   "outputs": [
    {
     "data": {
      "text/html": [
       "<div>\n",
       "<style scoped>\n",
       "    .dataframe tbody tr th:only-of-type {\n",
       "        vertical-align: middle;\n",
       "    }\n",
       "\n",
       "    .dataframe tbody tr th {\n",
       "        vertical-align: top;\n",
       "    }\n",
       "\n",
       "    .dataframe thead th {\n",
       "        text-align: right;\n",
       "    }\n",
       "</style>\n",
       "<table border=\"1\" class=\"dataframe\">\n",
       "  <thead>\n",
       "    <tr style=\"text-align: right;\">\n",
       "      <th></th>\n",
       "      <th>vorname</th>\n",
       "      <th>alter</th>\n",
       "      <th>altersklasse</th>\n",
       "      <th>plz</th>\n",
       "      <th>geburtsstadt</th>\n",
       "      <th>passwort</th>\n",
       "      <th>merkmale</th>\n",
       "      <th>history</th>\n",
       "    </tr>\n",
       "    <tr>\n",
       "      <th>index</th>\n",
       "      <th></th>\n",
       "      <th></th>\n",
       "      <th></th>\n",
       "      <th></th>\n",
       "      <th></th>\n",
       "      <th></th>\n",
       "      <th></th>\n",
       "      <th></th>\n",
       "    </tr>\n",
       "  </thead>\n",
       "  <tbody>\n",
       "    <tr>\n",
       "      <th>l</th>\n",
       "      <td>Eileen</td>\n",
       "      <td>30</td>\n",
       "      <td>30</td>\n",
       "      <td>97622</td>\n",
       "      <td>Bremen</td>\n",
       "      <td>y80üDÜvo</td>\n",
       "      <td>{p, z, F, s, B}</td>\n",
       "      <td>[]</td>\n",
       "    </tr>\n",
       "    <tr>\n",
       "      <th>j</th>\n",
       "      <td>Karoline</td>\n",
       "      <td>30</td>\n",
       "      <td>30</td>\n",
       "      <td>68658</td>\n",
       "      <td>Bremen</td>\n",
       "      <td>uceFd</td>\n",
       "      <td>{R, i, I, m}</td>\n",
       "      <td>[]</td>\n",
       "    </tr>\n",
       "  </tbody>\n",
       "</table>\n",
       "</div>"
      ],
      "text/plain": [
       "        vorname  alter  altersklasse    plz geburtsstadt  passwort  \\\n",
       "index                                                                \n",
       "l        Eileen     30            30  97622       Bremen  y80üDÜvo   \n",
       "j      Karoline     30            30  68658       Bremen     uceFd   \n",
       "\n",
       "              merkmale history  \n",
       "index                           \n",
       "l      {p, z, F, s, B}      []  \n",
       "j         {R, i, I, m}      []  "
      ]
     },
     "execution_count": 17,
     "metadata": {},
     "output_type": "execute_result"
    },
    {
     "name": "stdout",
     "output_type": "stream",
     "text": [
      "time: 9.34 ms (started: 2022-02-14 07:51:57 +00:00)\n"
     ]
    }
   ],
   "source": [
    "mask = (df['alter'] == 30)  &  (df.geburtsstadt == 'Bremen')\n",
    "df[mask]"
   ]
  },
  {
   "cell_type": "markdown",
   "metadata": {},
   "source": [
    "## Sortierung"
   ]
  },
  {
   "cell_type": "code",
   "execution_count": 18,
   "metadata": {},
   "outputs": [
    {
     "data": {
      "text/html": [
       "<div>\n",
       "<style scoped>\n",
       "    .dataframe tbody tr th:only-of-type {\n",
       "        vertical-align: middle;\n",
       "    }\n",
       "\n",
       "    .dataframe tbody tr th {\n",
       "        vertical-align: top;\n",
       "    }\n",
       "\n",
       "    .dataframe thead th {\n",
       "        text-align: right;\n",
       "    }\n",
       "</style>\n",
       "<table border=\"1\" class=\"dataframe\">\n",
       "  <thead>\n",
       "    <tr style=\"text-align: right;\">\n",
       "      <th></th>\n",
       "      <th>vorname</th>\n",
       "      <th>alter</th>\n",
       "      <th>altersklasse</th>\n",
       "      <th>plz</th>\n",
       "      <th>geburtsstadt</th>\n",
       "      <th>passwort</th>\n",
       "      <th>merkmale</th>\n",
       "      <th>history</th>\n",
       "    </tr>\n",
       "    <tr>\n",
       "      <th>index</th>\n",
       "      <th></th>\n",
       "      <th></th>\n",
       "      <th></th>\n",
       "      <th></th>\n",
       "      <th></th>\n",
       "      <th></th>\n",
       "      <th></th>\n",
       "      <th></th>\n",
       "    </tr>\n",
       "  </thead>\n",
       "  <tbody>\n",
       "    <tr>\n",
       "      <th>L</th>\n",
       "      <td>Yasmin</td>\n",
       "      <td>40</td>\n",
       "      <td>40</td>\n",
       "      <td>60451</td>\n",
       "      <td>&lt;NA&gt;</td>\n",
       "      <td>osBozdCosR</td>\n",
       "      <td>{5, x}</td>\n",
       "      <td>[b, b, a, b]</td>\n",
       "    </tr>\n",
       "    <tr>\n",
       "      <th>q</th>\n",
       "      <td>Yasmin</td>\n",
       "      <td>33</td>\n",
       "      <td>30</td>\n",
       "      <td>89437</td>\n",
       "      <td>Bremen</td>\n",
       "      <td>7AUg0äüoj</td>\n",
       "      <td>{L, K, 4, g}</td>\n",
       "      <td>[c, b, a]</td>\n",
       "    </tr>\n",
       "    <tr>\n",
       "      <th>D</th>\n",
       "      <td>Victoria</td>\n",
       "      <td>28</td>\n",
       "      <td>20</td>\n",
       "      <td>81869</td>\n",
       "      <td>Berlin</td>\n",
       "      <td>müDI0Di</td>\n",
       "      <td>{K}</td>\n",
       "      <td>[a, b, c]</td>\n",
       "    </tr>\n",
       "    <tr>\n",
       "      <th>J</th>\n",
       "      <td>Toni</td>\n",
       "      <td>27</td>\n",
       "      <td>20</td>\n",
       "      <td>63847</td>\n",
       "      <td>Bremen</td>\n",
       "      <td>39nnYZu</td>\n",
       "      <td>{G, M}</td>\n",
       "      <td>[A, A, A]</td>\n",
       "    </tr>\n",
       "    <tr>\n",
       "      <th>I</th>\n",
       "      <td>Tom</td>\n",
       "      <td>29</td>\n",
       "      <td>20</td>\n",
       "      <td>17005</td>\n",
       "      <td>Berlin</td>\n",
       "      <td>oüBXCcÄs</td>\n",
       "      <td>{n, c, C, z, 0}</td>\n",
       "      <td>[A, C, C, B]</td>\n",
       "    </tr>\n",
       "    <tr>\n",
       "      <th>...</th>\n",
       "      <td>...</td>\n",
       "      <td>...</td>\n",
       "      <td>...</td>\n",
       "      <td>...</td>\n",
       "      <td>...</td>\n",
       "      <td>...</td>\n",
       "      <td>...</td>\n",
       "      <td>...</td>\n",
       "    </tr>\n",
       "    <tr>\n",
       "      <th>W</th>\n",
       "      <td>Angela</td>\n",
       "      <td>25</td>\n",
       "      <td>20</td>\n",
       "      <td>11201</td>\n",
       "      <td>Bremen</td>\n",
       "      <td>üLtÜ56Ku</td>\n",
       "      <td>{O, x}</td>\n",
       "      <td>[c, b, a]</td>\n",
       "    </tr>\n",
       "    <tr>\n",
       "      <th>R</th>\n",
       "      <td>Ali</td>\n",
       "      <td>35</td>\n",
       "      <td>30</td>\n",
       "      <td>56774</td>\n",
       "      <td>&lt;NA&gt;</td>\n",
       "      <td>j0CzcKWCG</td>\n",
       "      <td>{V}</td>\n",
       "      <td>[c, b, a]</td>\n",
       "    </tr>\n",
       "    <tr>\n",
       "      <th>X</th>\n",
       "      <td>Ali</td>\n",
       "      <td>31</td>\n",
       "      <td>30</td>\n",
       "      <td>79894</td>\n",
       "      <td>Bremen</td>\n",
       "      <td>j5oövavl1</td>\n",
       "      <td>{H}</td>\n",
       "      <td>[A, B, C, C]</td>\n",
       "    </tr>\n",
       "    <tr>\n",
       "      <th>e</th>\n",
       "      <td>Alexandra</td>\n",
       "      <td>33</td>\n",
       "      <td>30</td>\n",
       "      <td>&lt;NA&gt;</td>\n",
       "      <td>Berlin</td>\n",
       "      <td>qÖüazFJiIe</td>\n",
       "      <td>{4, F, J}</td>\n",
       "      <td>[a, b, c]</td>\n",
       "    </tr>\n",
       "    <tr>\n",
       "      <th>Q</th>\n",
       "      <td>Alexandra</td>\n",
       "      <td>22</td>\n",
       "      <td>20</td>\n",
       "      <td>&lt;NA&gt;</td>\n",
       "      <td>Bremen</td>\n",
       "      <td>kDqeh</td>\n",
       "      <td>{b, h, 5, 3, B}</td>\n",
       "      <td>[A, B, C, C]</td>\n",
       "    </tr>\n",
       "  </tbody>\n",
       "</table>\n",
       "<p>100 rows × 8 columns</p>\n",
       "</div>"
      ],
      "text/plain": [
       "         vorname  alter  altersklasse    plz geburtsstadt    passwort  \\\n",
       "index                                                                   \n",
       "L         Yasmin     40            40  60451         <NA>  osBozdCosR   \n",
       "q         Yasmin     33            30  89437       Bremen   7AUg0äüoj   \n",
       "D       Victoria     28            20  81869       Berlin     müDI0Di   \n",
       "J           Toni     27            20  63847       Bremen     39nnYZu   \n",
       "I            Tom     29            20  17005       Berlin    oüBXCcÄs   \n",
       "...          ...    ...           ...    ...          ...         ...   \n",
       "W         Angela     25            20  11201       Bremen    üLtÜ56Ku   \n",
       "R            Ali     35            30  56774         <NA>   j0CzcKWCG   \n",
       "X            Ali     31            30  79894       Bremen   j5oövavl1   \n",
       "e      Alexandra     33            30   <NA>       Berlin  qÖüazFJiIe   \n",
       "Q      Alexandra     22            20   <NA>       Bremen       kDqeh   \n",
       "\n",
       "              merkmale       history  \n",
       "index                                 \n",
       "L               {5, x}  [b, b, a, b]  \n",
       "q         {L, K, 4, g}     [c, b, a]  \n",
       "D                  {K}     [a, b, c]  \n",
       "J               {G, M}     [A, A, A]  \n",
       "I      {n, c, C, z, 0}  [A, C, C, B]  \n",
       "...                ...           ...  \n",
       "W               {O, x}     [c, b, a]  \n",
       "R                  {V}     [c, b, a]  \n",
       "X                  {H}  [A, B, C, C]  \n",
       "e            {4, F, J}     [a, b, c]  \n",
       "Q      {b, h, 5, 3, B}  [A, B, C, C]  \n",
       "\n",
       "[100 rows x 8 columns]"
      ]
     },
     "execution_count": 18,
     "metadata": {},
     "output_type": "execute_result"
    },
    {
     "name": "stdout",
     "output_type": "stream",
     "text": [
      "time: 18.3 ms (started: 2022-02-14 07:51:57 +00:00)\n"
     ]
    }
   ],
   "source": [
    "df = df.sort_values( by=['vorname', 'alter'], ascending=[False, False])\n",
    "df"
   ]
  },
  {
   "cell_type": "code",
   "execution_count": null,
   "metadata": {},
   "outputs": [],
   "source": []
  }
 ],
 "metadata": {
  "kernelspec": {
   "display_name": "Python 3 (ipykernel)",
   "language": "python",
   "name": "python3"
  },
  "language_info": {
   "codemirror_mode": {
    "name": "ipython",
    "version": 3
   },
   "file_extension": ".py",
   "mimetype": "text/x-python",
   "name": "python",
   "nbconvert_exporter": "python",
   "pygments_lexer": "ipython3",
   "version": "3.8.12"
  }
 },
 "nbformat": 4,
 "nbformat_minor": 4
}
