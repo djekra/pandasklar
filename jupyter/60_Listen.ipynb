{
 "cells": [
  {
   "cell_type": "markdown",
   "metadata": {},
   "source": [
    "# Listen"
   ]
  },
  {
   "cell_type": "code",
   "execution_count": 4,
   "metadata": {},
   "outputs": [
    {
     "name": "stdout",
     "output_type": "stream",
     "text": [
      "dropbox_path = /Data/Dropbox\n"
     ]
    },
    {
     "data": {
      "text/html": [
       "<img src onerror=\"var cell = this.closest('.jp-CodeCell');var editor = cell.querySelector('.jp-Editor');editor.style.background='DarkGray';this.parentNode.removeChild(this)\">"
      ],
      "text/plain": [
       "<IPython.core.display.HTML object>"
      ]
     },
     "metadata": {},
     "output_type": "display_data"
    },
    {
     "name": "stdout",
     "output_type": "stream",
     "text": [
      "time: 4.54 ms (started: 2022-02-14 21:31:48 +00:00)\n"
     ]
    }
   ],
   "source": [
    "# blab init\n",
    "import blab\n",
    "startup_notebook = blab.blab_startup()\n",
    "%run $startup_notebook"
   ]
  },
  {
   "cell_type": "code",
   "execution_count": 5,
   "metadata": {},
   "outputs": [
    {
     "name": "stdout",
     "output_type": "stream",
     "text": [
      "time: 500 ms (started: 2022-02-14 21:31:48 +00:00)\n"
     ]
    }
   ],
   "source": [
    "import numpy      as np\n",
    "import pandas     as pd \n",
    "import bpyth      as bpy\n",
    "import pandasklar as pak \n",
    "\n",
    "grid = pak.grid"
   ]
  },
  {
   "cell_type": "code",
   "execution_count": 6,
   "metadata": {},
   "outputs": [
    {
     "name": "stdout",
     "output_type": "stream",
     "text": [
      "time: 775 ms (started: 2022-02-14 21:31:49 +00:00)\n"
     ]
    }
   ],
   "source": [
    "# Zufallsdaten\n",
    "anz = 1000\n",
    "v = pak.random_series( anz, 'name',                  p_nan=0   )\n",
    "w = v.str[:1]\n",
    "s = pak.random_series( anz, 'string',                p_nan=0   )\n",
    "t = pak.random_series( anz, 'string',                p_nan=0.1 )\n",
    "p = pak.random_series( anz, 'list',     len_max=5,   p_nan=0.1 )\n",
    "q = pak.random_series( anz, 'list',     len_max=5              ).str.join(' ')\n",
    "df = pak.dataframe( [w, t, p, q] )\n",
    "df.columns = ['Anfangsbuchstabe','string_nan','list_nan','Wortliste']"
   ]
  },
  {
   "cell_type": "code",
   "execution_count": 7,
   "metadata": {},
   "outputs": [
    {
     "name": "stdout",
     "output_type": "stream",
     "text": [
      "1000 Datensätze\n"
     ]
    },
    {
     "data": {
      "application/vnd.jupyter.widget-view+json": {
       "model_id": "4ac3efacfba448c4a95cba25ce105b46",
       "version_major": 2,
       "version_minor": 0
      },
      "text/plain": [
       "QgridWidget(grid_options={'fullWidthRows': True, 'syncColumnCellResize': True, 'forceFitColumns': False, 'defa…"
      ]
     },
     "metadata": {},
     "output_type": "display_data"
    },
    {
     "name": "stdout",
     "output_type": "stream",
     "text": [
      "time: 18 ms (started: 2022-02-14 21:31:56 +00:00)\n"
     ]
    }
   ],
   "source": [
    "grid(df)"
   ]
  },
  {
   "cell_type": "code",
   "execution_count": null,
   "metadata": {},
   "outputs": [],
   "source": []
  },
  {
   "cell_type": "markdown",
   "metadata": {},
   "source": [
    "## find_in_list"
   ]
  },
  {
   "cell_type": "code",
   "execution_count": 8,
   "metadata": {},
   "outputs": [
    {
     "name": "stdout",
     "output_type": "stream",
     "text": [
      "time: 44.2 ms (started: 2022-02-14 21:32:10 +00:00)\n"
     ]
    },
    {
     "data": {
      "text/plain": [
       "\u001b[0;31mSignature:\u001b[0m \u001b[0mpak\u001b[0m\u001b[0;34m.\u001b[0m\u001b[0mfind_in_list\u001b[0m\u001b[0;34m(\u001b[0m\u001b[0mdf\u001b[0m\u001b[0;34m,\u001b[0m \u001b[0msuchspalte\u001b[0m\u001b[0;34m,\u001b[0m \u001b[0msuchstring\u001b[0m\u001b[0;34m)\u001b[0m\u001b[0;34m\u001b[0m\u001b[0;34m\u001b[0m\u001b[0m\n",
       "\u001b[0;31mDocstring:\u001b[0m\n",
       "Wenn eine Spalte eine Liste von Strings enthält,\n",
       "kann man mit dieser Funktion die Datensätze herausfiltern,\n",
       "in deren Liste ein bestimmter Suchstring enthalten ist.\n",
       "Geliefert wird eine Maske!    \n",
       "\u001b[0;31mFile:\u001b[0m      /Data/Dropbox/31_Projekte/01_Python/90 libs/pandasklar/pandas.py\n",
       "\u001b[0;31mType:\u001b[0m      function\n"
      ]
     },
     "metadata": {},
     "output_type": "display_data"
    }
   ],
   "source": [
    "?pak.find_in_list"
   ]
  },
  {
   "cell_type": "code",
   "execution_count": 9,
   "metadata": {},
   "outputs": [
    {
     "name": "stdout",
     "output_type": "stream",
     "text": [
      "5 Datensätze von 1000\n"
     ]
    },
    {
     "data": {
      "application/vnd.jupyter.widget-view+json": {
       "model_id": "ca93c1d384a9487a8c4b635a94fffd68",
       "version_major": 2,
       "version_minor": 0
      },
      "text/plain": [
       "QgridWidget(grid_options={'fullWidthRows': True, 'syncColumnCellResize': True, 'forceFitColumns': False, 'defa…"
      ]
     },
     "metadata": {},
     "output_type": "display_data"
    },
    {
     "name": "stdout",
     "output_type": "stream",
     "text": [
      "time: 15.2 ms (started: 2022-02-14 21:32:11 +00:00)\n"
     ]
    }
   ],
   "source": [
    "mask = pak.find_in_list( df, 'list_nan', 'Stephanie' )\n",
    "grid(df, mask)"
   ]
  },
  {
   "cell_type": "markdown",
   "metadata": {},
   "source": [
    "## top_values: Liste häufiger Elemente\n",
    "siehe auch nlargest https://stackoverflow.com/questions/35364601/group-by-and-find-top-n-value-counts-pandas"
   ]
  },
  {
   "cell_type": "code",
   "execution_count": 10,
   "metadata": {},
   "outputs": [
    {
     "name": "stdout",
     "output_type": "stream",
     "text": [
      "time: 701 µs (started: 2022-02-14 21:32:12 +00:00)\n"
     ]
    }
   ],
   "source": [
    "# grouped-Objekt erzeugen\n",
    "grouped_ab = df.groupby('Anfangsbuchstabe')"
   ]
  },
  {
   "cell_type": "code",
   "execution_count": 12,
   "metadata": {},
   "outputs": [
    {
     "data": {
      "text/plain": [
       "Anfangsbuchstabe\n",
       "A        [<NA>, cw6c60t, aöAAC]\n",
       "B    [uvÖFej, nHPzj0b, JNmN2TJ]\n",
       "C        [<NA>, zy739, qpersHj]\n",
       "D           [Y5ka, GsmÄx, cÄMf]\n",
       "E       [<NA>, zFMXge, ZNJ21jy]\n",
       "F           [<NA>, uäWdX, H9jÜ]\n",
       "G        [<NA>, EsUH3, iJÜeaIy]\n",
       "H           [<NA>, JkIR, oJmaD]\n",
       "I          [<NA>, üTDxoo, bPW5]\n",
       "J        [<NA>, eyMRN, fIsqxä4]\n",
       "K         [<NA>, FNWHäAv, r7jy]\n",
       "L        [<NA>, Gü126ay, WBZxM]\n",
       "M            [<NA>, ByUj, w6wP]\n",
       "N        [<NA>, TmSKSJ, 9vXärf]\n",
       "O       [BWXFNM, izsGV, MFÄÄRL]\n",
       "P         [ot5n, BTüt6, tyäeiü]\n",
       "R        [<NA>, eSLpew, uFaznu]\n",
       "S         [<NA>, Üa0DS6X, ngCc]\n",
       "T         [<NA>, ÖXdZöKU, QLAY]\n",
       "U        [fUKHsi, lQYn2V, VGiE]\n",
       "V       [saYiFp, G9c5JüJ, <NA>]\n",
       "W       [IXIF4, L07LTD, L8IIuö]\n",
       "Y      [9äÄFLi, leBMklF, dDÜQx]\n",
       "Z                       lAiu28x\n",
       "Name: string_nan, dtype: object"
      ]
     },
     "execution_count": 12,
     "metadata": {},
     "output_type": "execute_result"
    },
    {
     "name": "stdout",
     "output_type": "stream",
     "text": [
      "time: 9.74 ms (started: 2022-02-14 21:32:21 +00:00)\n"
     ]
    }
   ],
   "source": [
    "grouped_ab['string_nan'].apply( pak.top_values )"
   ]
  },
  {
   "cell_type": "code",
   "execution_count": 13,
   "metadata": {},
   "outputs": [
    {
     "data": {
      "text/plain": [
       "Anfangsbuchstabe\n",
       "A      [<NA>, cw6c60t]\n",
       "B    [uvÖFej, nHPzj0b]\n",
       "C        [<NA>, zy739]\n",
       "D        [Y5ka, GsmÄx]\n",
       "E       [<NA>, zFMXge]\n",
       "F        [<NA>, uäWdX]\n",
       "G        [<NA>, EsUH3]\n",
       "H         [<NA>, JkIR]\n",
       "I       [<NA>, üTDxoo]\n",
       "J        [<NA>, eyMRN]\n",
       "K      [<NA>, FNWHäAv]\n",
       "L      [<NA>, Gü126ay]\n",
       "M         [<NA>, ByUj]\n",
       "N       [<NA>, TmSKSJ]\n",
       "O      [BWXFNM, izsGV]\n",
       "P        [ot5n, BTüt6]\n",
       "R       [<NA>, eSLpew]\n",
       "S      [<NA>, Üa0DS6X]\n",
       "T      [<NA>, ÖXdZöKU]\n",
       "U     [fUKHsi, lQYn2V]\n",
       "V    [saYiFp, G9c5JüJ]\n",
       "W      [IXIF4, L07LTD]\n",
       "Y    [9äÄFLi, leBMklF]\n",
       "Z              lAiu28x\n",
       "Name: string_nan, dtype: object"
      ]
     },
     "execution_count": 13,
     "metadata": {},
     "output_type": "execute_result"
    },
    {
     "name": "stdout",
     "output_type": "stream",
     "text": [
      "time: 8.29 ms (started: 2022-02-14 21:32:27 +00:00)\n"
     ]
    }
   ],
   "source": [
    "grouped_ab['string_nan'].apply( pak.top_values,2)"
   ]
  },
  {
   "cell_type": "code",
   "execution_count": 15,
   "metadata": {},
   "outputs": [
    {
     "name": "stdout",
     "output_type": "stream",
     "text": [
      "24 Datensätze\n"
     ]
    },
    {
     "data": {
      "application/vnd.jupyter.widget-view+json": {
       "model_id": "da4b2a708e714060b22018ffaa6088b9",
       "version_major": 2,
       "version_minor": 0
      },
      "text/plain": [
       "QgridWidget(grid_options={'fullWidthRows': True, 'syncColumnCellResize': True, 'forceFitColumns': False, 'defa…"
      ]
     },
     "metadata": {},
     "output_type": "display_data"
    },
    {
     "name": "stdout",
     "output_type": "stream",
     "text": [
      "time: 19.1 ms (started: 2022-02-14 21:32:39 +00:00)\n"
     ]
    }
   ],
   "source": [
    "# Listen werden auseinandergeflückt!\n",
    "grid(grouped_ab['list_nan'].apply( pak.top_values,14))"
   ]
  },
  {
   "cell_type": "markdown",
   "metadata": {},
   "source": [
    "## Liste aller Elemente"
   ]
  },
  {
   "cell_type": "code",
   "execution_count": 16,
   "metadata": {},
   "outputs": [
    {
     "data": {
      "text/plain": [
       "Anfangsbuchstabe\n",
       "A    [cw6c60t, aöAAC, N0BCcd, 4üch, opNFWh, vöfT, S...\n",
       "B    [uvÖFej, nHPzj0b, JNmN2TJ, E3SDK, 4I8ü, b9O4x,...\n",
       "C    [<NA>, zy739, qpersHj, b4zE, KIp3F, tyn4hÖ2, W...\n",
       "D    [Y5ka, GsmÄx, cÄMf, wWTJöa, ARtr, ö5PpF9o, ÖRH...\n",
       "E    [zFMXge, ZNJ21jy, 52Do, NfXo, q5oke39, ZÜxIhl,...\n",
       "F    [uäWdX, <NA>, H9jÜ, VGYYDöz, IrxFdQa, IEFÄCü7,...\n",
       "G    [EsUH3, iJÜeaIy, vxFY4, XhzDYka, saDa, ShfdmhÄ...\n",
       "H    [<NA>, JkIR, oJmaD, KSbQtdA, qÖÖR, vgpO, ZvLax...\n",
       "I    [üTDxoo, bPW5, ÄUFva, ugOwqu, doXP, <NA>, eCng...\n",
       "J    [<NA>, eyMRN, fIsqxä4, Mmjükx, iGoüOx, qFJXm, ...\n",
       "K    [FNWHäAv, r7jy, <NA>, t0isRE, acSt4, Tj4E, ohm...\n",
       "L    [Gü126ay, WBZxM, cyf5, Q0uy, FGE6O9, üMI0, ynT...\n",
       "M    [ByUj, w6wP, 6iJirwj, jgL0, <NA>, kfCma, 4eYa8...\n",
       "N    [<NA>, TmSKSJ, 9vXärf, F2HIDl, sFucuan, jyQKvP...\n",
       "O    [BWXFNM, izsGV, MFÄÄRL, gMT7N, 0wFna, jZJTev, ...\n",
       "P    [ot5n, BTüt6, tyäeiü, ueSc, äGÖd, 1aeF, KSPX, ...\n",
       "R    [eSLpew, uFaznu, r6BjI, MjH2Ja, 9ixaÜ, u1Ey1Ks...\n",
       "S    [Üa0DS6X, ngCc, vuzPäl, 8PBv, pZsqlf8, M9flWYs...\n",
       "T    [ÖXdZöKU, QLAY, FD4xqtt, Vscx4wÜ, NUFmBl, H9Oa...\n",
       "U    [fUKHsi, lQYn2V, VGiE, rgZor, E27lbA, 5eHxNö, ...\n",
       "V    [saYiFp, G9c5JüJ, <NA>, DVG0NZS, gUinaöt, 8gGö...\n",
       "W    [IXIF4, L07LTD, L8IIuö, Ej0Sl, 6ugffEq, 0ovs, ...\n",
       "Y    [9äÄFLi, leBMklF, dDÜQx, OgNy23T, gEuI8, Q4NF2...\n",
       "Z                                            [lAiu28x]\n",
       "Name: string_nan, dtype: object"
      ]
     },
     "execution_count": 16,
     "metadata": {},
     "output_type": "execute_result"
    },
    {
     "name": "stdout",
     "output_type": "stream",
     "text": [
      "time: 11.2 ms (started: 2022-02-14 21:32:45 +00:00)\n"
     ]
    }
   ],
   "source": [
    "grouped_ab['string_nan'].unique()"
   ]
  },
  {
   "cell_type": "code",
   "execution_count": null,
   "metadata": {},
   "outputs": [],
   "source": []
  },
  {
   "cell_type": "code",
   "execution_count": null,
   "metadata": {},
   "outputs": [],
   "source": []
  }
 ],
 "metadata": {
  "kernelspec": {
   "display_name": "Python 3 (ipykernel)",
   "language": "python",
   "name": "python3"
  },
  "language_info": {
   "codemirror_mode": {
    "name": "ipython",
    "version": 3
   },
   "file_extension": ".py",
   "mimetype": "text/x-python",
   "name": "python",
   "nbconvert_exporter": "python",
   "pygments_lexer": "ipython3",
   "version": "3.8.12"
  }
 },
 "nbformat": 4,
 "nbformat_minor": 4
}
