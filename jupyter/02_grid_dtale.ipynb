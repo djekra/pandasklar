{
 "cells": [
  {
   "cell_type": "code",
   "execution_count": 1,
   "id": "3996fe80-149f-4b26-808d-f8f2dc912c8c",
   "metadata": {},
   "outputs": [],
   "source": [
    "# https://github.com/ResidentMario/missingno\n",
    "# https://pypi.org/project/ppscore/\n",
    "# https://pypi.org/project/strsimpy/\n",
    "# https://tenacity.readthedocs.io/en/latest/"
   ]
  },
  {
   "cell_type": "markdown",
   "id": "b7688157",
   "metadata": {},
   "source": [
    "# grid und dtale"
   ]
  },
  {
   "cell_type": "code",
   "execution_count": 2,
   "id": "61e55565",
   "metadata": {},
   "outputs": [
    {
     "name": "stdout",
     "output_type": "stream",
     "text": [
      "JupyterLab Tools Version 0.21\n",
      "found local libs at /Data_lab/libs\n",
      "Start Time: 06:03:06\n"
     ]
    },
    {
     "data": {
      "text/html": [
       "<img src onerror=\"var cell = this.closest('.jp-CodeCell');var editor = cell.querySelector('.jp-Editor');editor.style.background='DarkGray';this.parentNode.removeChild(this)\">"
      ],
      "text/plain": [
       "<IPython.core.display.HTML object>"
      ]
     },
     "metadata": {},
     "output_type": "display_data"
    },
    {
     "name": "stdout",
     "output_type": "stream",
     "text": [
      "time: 297 ms (started: 2022-04-20 06:03:06 +00:00)\n"
     ]
    }
   ],
   "source": [
    "# blab init\n",
    "import blab\n",
    "startup_notebook = blab.blab_startup()\n",
    "%run $startup_notebook"
   ]
  },
  {
   "cell_type": "code",
   "execution_count": 3,
   "id": "d02a78c4-6bf6-4bb9-94b7-82bfafe30319",
   "metadata": {},
   "outputs": [
    {
     "name": "stdout",
     "output_type": "stream",
     "text": [
      "time: 1.4 s (started: 2022-04-20 06:03:06 +00:00)\n"
     ]
    }
   ],
   "source": [
    "import numpy      as np\n",
    "import pandas     as pd \n",
    "import bpyth      as bpy\n",
    "import pandasklar as pak \n",
    "\n",
    "grid = pak.grid"
   ]
  },
  {
   "cell_type": "code",
   "execution_count": 4,
   "id": "aed46905",
   "metadata": {},
   "outputs": [
    {
     "name": "stdout",
     "output_type": "stream",
     "text": [
      "time: 38.7 ms (started: 2022-04-20 06:03:07 +00:00)\n"
     ]
    }
   ],
   "source": [
    "df = pak.leute()"
   ]
  },
  {
   "cell_type": "markdown",
   "id": "ad85fd8e-0d8e-4eb7-9a8d-086e46563195",
   "metadata": {},
   "source": [
    "Options siehe https://github.com/man-group/dtale#instance-settings"
   ]
  },
  {
   "cell_type": "code",
   "execution_count": 5,
   "id": "afb14de4-e5ba-48a8-8615-4c9fdb617535",
   "metadata": {},
   "outputs": [
    {
     "name": "stdout",
     "output_type": "stream",
     "text": [
      "85 Datensätze von 100\n"
     ]
    },
    {
     "data": {
      "text/html": [
       "\n",
       "        <iframe\n",
       "            width=\"100%\"\n",
       "            height=\"475\"\n",
       "            src=\"http://me-Mint:40000/dtale/iframe/1\"\n",
       "            frameborder=\"0\"\n",
       "            allowfullscreen\n",
       "            \n",
       "        ></iframe>\n",
       "        "
      ],
      "text/plain": [
       "<IPython.lib.display.IFrame at 0x7f644d26d970>"
      ]
     },
     "metadata": {},
     "output_type": "display_data"
    },
    {
     "data": {
      "text/plain": []
     },
     "execution_count": 5,
     "metadata": {},
     "output_type": "execute_result"
    },
    {
     "name": "stdout",
     "output_type": "stream",
     "text": [
      "time: 181 ms (started: 2022-04-20 06:03:08 +00:00)\n"
     ]
    }
   ],
   "source": [
    "mask = df.alter > 25\n",
    "grid(df, mask, sort=[('vorname','ASC')], background_mode='heatmap-col-alter', min_column_width = 100)\n",
    "#grid(df, mask, drop_index=True,)"
   ]
  },
  {
   "cell_type": "code",
   "execution_count": null,
   "id": "a4135b95-3c28-4f55-8ff7-d7f39e25ea39",
   "metadata": {},
   "outputs": [],
   "source": []
  }
 ],
 "metadata": {
  "kernelspec": {
   "display_name": "Python 3 (ipykernel)",
   "language": "python",
   "name": "python3"
  },
  "language_info": {
   "codemirror_mode": {
    "name": "ipython",
    "version": 3
   },
   "file_extension": ".py",
   "mimetype": "text/x-python",
   "name": "python",
   "nbconvert_exporter": "python",
   "pygments_lexer": "ipython3",
   "version": "3.8.12"
  }
 },
 "nbformat": 4,
 "nbformat_minor": 5
}
