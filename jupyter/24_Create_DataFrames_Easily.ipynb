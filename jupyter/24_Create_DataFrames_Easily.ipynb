{
 "cells": [
  {
   "cell_type": "markdown",
   "metadata": {},
   "source": [
    "__[Open and try this file online (Colab)](https://colab.research.google.com/github/djekra/pandasklar/blob/master/jupyter/24_Create_DataFrames_Easily.ipynb)__"
   ]
  },
  {
   "cell_type": "markdown",
   "metadata": {},
   "source": [
    "# Create DataFrames Easily\n",
    "* `dataframe`: Converts multidimensional objects into dataframes. Dictionaries and Tuples are interpreted column-wise, Lists and Counters by rows."
   ]
  },
  {
   "cell_type": "code",
   "execution_count": 1,
   "metadata": {
    "execution": {
     "iopub.execute_input": "2023-04-10T19:43:52.204990Z",
     "iopub.status.busy": "2023-04-10T19:43:52.202109Z",
     "iopub.status.idle": "2023-04-10T19:43:52.976696Z",
     "shell.execute_reply": "2023-04-10T19:43:52.976048Z",
     "shell.execute_reply.started": "2023-04-10T19:43:52.204921Z"
    }
   },
   "outputs": [
    {
     "name": "stdout",
     "output_type": "stream",
     "text": [
      "blab init\n",
      "environment['in_colab']     = False\n",
      "environment['dropbox_path'] = /home/me/Data_Linux/Dropbox\n",
      "environment['lib_path']     = /home/me/Data_Linux/Dropbox/31_Projekte/01_Python/libs\n",
      "Start Time: 21:43:52\n"
     ]
    },
    {
     "data": {
      "text/html": [
       "<img src onerror=\"var cell = this.closest('.jp-CodeCell');var editor = cell.querySelector('.jp-Editor');editor.style.background='Beige';this.parentNode.removeChild(this)\">"
      ],
      "text/plain": [
       "<IPython.core.display.HTML object>"
      ]
     },
     "metadata": {},
     "output_type": "display_data"
    }
   ],
   "source": [
    "# blab init\n",
    "try:\n",
    "    import blab\n",
    "except ImportError as e:\n",
    "    !pip install blab\n",
    "    import blab    \n",
    "startup_notebook = blab.blab_startup()\n",
    "%run $startup_notebook "
   ]
  },
  {
   "cell_type": "code",
   "execution_count": 2,
   "metadata": {
    "execution": {
     "iopub.execute_input": "2023-04-10T19:43:52.978504Z",
     "iopub.status.busy": "2023-04-10T19:43:52.977984Z",
     "iopub.status.idle": "2023-04-10T19:43:54.531461Z",
     "shell.execute_reply": "2023-04-10T19:43:54.530851Z",
     "shell.execute_reply.started": "2023-04-10T19:43:52.978479Z"
    }
   },
   "outputs": [
    {
     "name": "stdout",
     "output_type": "stream",
     "text": [
      "VERBOSE = True\n",
      "--> setting verbose=True as default for all pandasklar functions\n",
      "\n"
     ]
    }
   ],
   "source": [
    "import numpy      as np\n",
    "import pandas     as pd \n",
    "import bpyth      as bpy\n",
    "\n",
    "# pandasklar\n",
    "try:\n",
    "    import pandasklar as pak \n",
    "except ImportError as e:\n",
    "    !pip install pandasklar\n",
    "    import pandasklar as pak   \n",
    "    \n",
    "# verbose\n",
    "pak.Config.set('VERBOSE', True)\n",
    "\n",
    "# copy_on_write\n",
    "pd.set_option(\"mode.copy_on_write\", True)"
   ]
  },
  {
   "cell_type": "markdown",
   "metadata": {},
   "source": [
    "## dataframe()"
   ]
  },
  {
   "cell_type": "code",
   "execution_count": 3,
   "metadata": {
    "execution": {
     "iopub.execute_input": "2023-04-10T19:43:54.533332Z",
     "iopub.status.busy": "2023-04-10T19:43:54.532503Z",
     "iopub.status.idle": "2023-04-10T19:43:54.596394Z",
     "shell.execute_reply": "2023-04-10T19:43:54.595699Z",
     "shell.execute_reply.started": "2023-04-10T19:43:54.533304Z"
    }
   },
   "outputs": [
    {
     "data": {
      "text/plain": [
       "\u001b[0;31mSignature:\u001b[0m \u001b[0mpak\u001b[0m\u001b[0;34m.\u001b[0m\u001b[0mdataframe\u001b[0m\u001b[0;34m(\u001b[0m\u001b[0minp\u001b[0m\u001b[0;34m,\u001b[0m \u001b[0mtest\u001b[0m\u001b[0;34m=\u001b[0m\u001b[0;32mFalse\u001b[0m\u001b[0;34m,\u001b[0m \u001b[0mautotranspose\u001b[0m\u001b[0;34m=\u001b[0m\u001b[0;32mFalse\u001b[0m\u001b[0;34m,\u001b[0m \u001b[0mverbose\u001b[0m\u001b[0;34m=\u001b[0m\u001b[0;32mNone\u001b[0m\u001b[0;34m)\u001b[0m\u001b[0;34m\u001b[0m\u001b[0;34m\u001b[0m\u001b[0m\n",
       "\u001b[0;31mDocstring:\u001b[0m\n",
       "Converts multidimensional objects into dataframes.\n",
       "Dictionaries and Tuples are interpreted column-wise, Lists and Counters by rows.\n",
       "(Exception: A list of Series is also interpreted column-wise, like a tuple of Series.)\n",
       "* test:           Do additional test if the shape is ok\n",
       "* autotranspose:  False => no autotranspose\n",
       "                  n     => If the result is n times wider than long, it is transposed.  \n",
       "\u001b[0;31mFile:\u001b[0m      ~/Data_Linux/Dropbox/31_Projekte/01_Python/git/pandasklar/src/pandasklar/pandas.py\n",
       "\u001b[0;31mType:\u001b[0m      function\n"
      ]
     },
     "metadata": {},
     "output_type": "display_data"
    }
   ],
   "source": [
    "?pak.dataframe"
   ]
  },
  {
   "cell_type": "markdown",
   "metadata": {},
   "source": [
    "### Rowwise"
   ]
  },
  {
   "cell_type": "code",
   "execution_count": 4,
   "metadata": {
    "execution": {
     "iopub.execute_input": "2023-04-10T19:43:54.598613Z",
     "iopub.status.busy": "2023-04-10T19:43:54.598135Z",
     "iopub.status.idle": "2023-04-10T19:43:54.638627Z",
     "shell.execute_reply": "2023-04-10T19:43:54.637189Z",
     "shell.execute_reply.started": "2023-04-10T19:43:54.598585Z"
    }
   },
   "outputs": [
    {
     "name": "stdout",
     "output_type": "stream",
     "text": [
      "Input rtype=('list', 'list', 'str') shape=(4, 5)\n",
      "rotated=False Output rtype=('DataFrame', 'Series') shape=(4, 5)\n"
     ]
    },
    {
     "data": {
      "text/html": [
       "<div>\n",
       "<style scoped>\n",
       "    .dataframe tbody tr th:only-of-type {\n",
       "        vertical-align: middle;\n",
       "    }\n",
       "\n",
       "    .dataframe tbody tr th {\n",
       "        vertical-align: top;\n",
       "    }\n",
       "\n",
       "    .dataframe thead th {\n",
       "        text-align: right;\n",
       "    }\n",
       "</style>\n",
       "<table border=\"1\" class=\"dataframe\">\n",
       "  <thead>\n",
       "    <tr style=\"text-align: right;\">\n",
       "      <th></th>\n",
       "      <th>A</th>\n",
       "      <th>B</th>\n",
       "      <th>C</th>\n",
       "      <th>D</th>\n",
       "      <th>E</th>\n",
       "    </tr>\n",
       "  </thead>\n",
       "  <tbody>\n",
       "    <tr>\n",
       "      <th>0</th>\n",
       "      <td>H</td>\n",
       "      <td>a</td>\n",
       "      <td>l</td>\n",
       "      <td>l</td>\n",
       "      <td>o</td>\n",
       "    </tr>\n",
       "    <tr>\n",
       "      <th>1</th>\n",
       "      <td>W</td>\n",
       "      <td>e</td>\n",
       "      <td>l</td>\n",
       "      <td>t</td>\n",
       "      <td>!</td>\n",
       "    </tr>\n",
       "    <tr>\n",
       "      <th>2</th>\n",
       "      <td>C</td>\n",
       "      <td>o</td>\n",
       "      <td>o</td>\n",
       "      <td>l</td>\n",
       "      <td>e</td>\n",
       "    </tr>\n",
       "    <tr>\n",
       "      <th>3</th>\n",
       "      <td>S</td>\n",
       "      <td>a</td>\n",
       "      <td>c</td>\n",
       "      <td>h</td>\n",
       "      <td>e</td>\n",
       "    </tr>\n",
       "  </tbody>\n",
       "</table>\n",
       "</div>"
      ],
      "text/plain": [
       "   A  B  C  D  E\n",
       "0  H  a  l  l  o\n",
       "1  W  e  l  t  !\n",
       "2  C  o  o  l  e\n",
       "3  S  a  c  h  e"
      ]
     },
     "execution_count": 4,
     "metadata": {},
     "output_type": "execute_result"
    }
   ],
   "source": [
    "# 2 dimensions \n",
    "inp = [ list('Hallo'), \n",
    "        list('Welt!'), \n",
    "        list('Coole'),  \n",
    "        list('Sache'),        \n",
    "      ]\n",
    "out = pak.dataframe(inp, test=True)\n",
    "out"
   ]
  },
  {
   "cell_type": "code",
   "execution_count": 5,
   "metadata": {
    "execution": {
     "iopub.execute_input": "2023-04-10T19:43:54.643981Z",
     "iopub.status.busy": "2023-04-10T19:43:54.641639Z",
     "iopub.status.idle": "2023-04-10T19:43:54.692040Z",
     "shell.execute_reply": "2023-04-10T19:43:54.690753Z",
     "shell.execute_reply.started": "2023-04-10T19:43:54.643938Z"
    }
   },
   "outputs": [
    {
     "name": "stdout",
     "output_type": "stream",
     "text": [
      "Input rtype=('list', 'list', 'int') shape=(4, 3)\n",
      "rotated=False Output rtype=('DataFrame', 'Series') shape=(4, 3)\n"
     ]
    },
    {
     "data": {
      "text/html": [
       "<div>\n",
       "<style scoped>\n",
       "    .dataframe tbody tr th:only-of-type {\n",
       "        vertical-align: middle;\n",
       "    }\n",
       "\n",
       "    .dataframe tbody tr th {\n",
       "        vertical-align: top;\n",
       "    }\n",
       "\n",
       "    .dataframe thead th {\n",
       "        text-align: right;\n",
       "    }\n",
       "</style>\n",
       "<table border=\"1\" class=\"dataframe\">\n",
       "  <thead>\n",
       "    <tr style=\"text-align: right;\">\n",
       "      <th></th>\n",
       "      <th>A</th>\n",
       "      <th>B</th>\n",
       "      <th>C</th>\n",
       "    </tr>\n",
       "  </thead>\n",
       "  <tbody>\n",
       "    <tr>\n",
       "      <th>0</th>\n",
       "      <td>1</td>\n",
       "      <td>2</td>\n",
       "      <td>3</td>\n",
       "    </tr>\n",
       "    <tr>\n",
       "      <th>1</th>\n",
       "      <td>4</td>\n",
       "      <td>5</td>\n",
       "      <td>6</td>\n",
       "    </tr>\n",
       "    <tr>\n",
       "      <th>2</th>\n",
       "      <td>7</td>\n",
       "      <td>8</td>\n",
       "      <td>9</td>\n",
       "    </tr>\n",
       "    <tr>\n",
       "      <th>3</th>\n",
       "      <td>10</td>\n",
       "      <td>11</td>\n",
       "      <td>12</td>\n",
       "    </tr>\n",
       "  </tbody>\n",
       "</table>\n",
       "</div>"
      ],
      "text/plain": [
       "    A   B   C\n",
       "0   1   2   3\n",
       "1   4   5   6\n",
       "2   7   8   9\n",
       "3  10  11  12"
      ]
     },
     "execution_count": 5,
     "metadata": {},
     "output_type": "execute_result"
    }
   ],
   "source": [
    "# 2 dimensions\n",
    "inp = [[1,2,3],[4,5,6], [7, 8, 9], [10, 11, 12]]\n",
    "out = pak.dataframe(inp, test=True)\n",
    "out"
   ]
  },
  {
   "cell_type": "code",
   "execution_count": 6,
   "metadata": {
    "execution": {
     "iopub.execute_input": "2023-04-10T19:43:54.703573Z",
     "iopub.status.busy": "2023-04-10T19:43:54.700615Z",
     "iopub.status.idle": "2023-04-10T19:43:54.771186Z",
     "shell.execute_reply": "2023-04-10T19:43:54.770196Z",
     "shell.execute_reply.started": "2023-04-10T19:43:54.703504Z"
    }
   },
   "outputs": [
    {
     "name": "stdout",
     "output_type": "stream",
     "text": [
      "Input rtype=('list', 'list', 'list', 'int') shape=(5, 3, 3)\n",
      "rotated=False Output rtype=('DataFrame', 'Series') shape=(5, 3)\n"
     ]
    },
    {
     "data": {
      "text/html": [
       "<div>\n",
       "<style scoped>\n",
       "    .dataframe tbody tr th:only-of-type {\n",
       "        vertical-align: middle;\n",
       "    }\n",
       "\n",
       "    .dataframe tbody tr th {\n",
       "        vertical-align: top;\n",
       "    }\n",
       "\n",
       "    .dataframe thead th {\n",
       "        text-align: right;\n",
       "    }\n",
       "</style>\n",
       "<table border=\"1\" class=\"dataframe\">\n",
       "  <thead>\n",
       "    <tr style=\"text-align: right;\">\n",
       "      <th></th>\n",
       "      <th>A</th>\n",
       "      <th>B</th>\n",
       "      <th>C</th>\n",
       "    </tr>\n",
       "  </thead>\n",
       "  <tbody>\n",
       "    <tr>\n",
       "      <th>0</th>\n",
       "      <td>[0, 0, 0]</td>\n",
       "      <td>[1, 1, 1]</td>\n",
       "      <td>[2, 2, 2]</td>\n",
       "    </tr>\n",
       "    <tr>\n",
       "      <th>1</th>\n",
       "      <td>[0, 0, 0]</td>\n",
       "      <td>[1, 1, 1]</td>\n",
       "      <td>[2, 2, 2]</td>\n",
       "    </tr>\n",
       "    <tr>\n",
       "      <th>2</th>\n",
       "      <td>[0, 0, 0]</td>\n",
       "      <td>[1, 1, 1]</td>\n",
       "      <td>[2, 2, 2]</td>\n",
       "    </tr>\n",
       "    <tr>\n",
       "      <th>3</th>\n",
       "      <td>[0, 0, 0]</td>\n",
       "      <td>[1, 1, 1]</td>\n",
       "      <td>[2, 2, 2]</td>\n",
       "    </tr>\n",
       "    <tr>\n",
       "      <th>4</th>\n",
       "      <td>[0, 0, 0]</td>\n",
       "      <td>[1, 1, 1]</td>\n",
       "      <td>[2, 2, 2]</td>\n",
       "    </tr>\n",
       "  </tbody>\n",
       "</table>\n",
       "</div>"
      ],
      "text/plain": [
       "           A          B          C\n",
       "0  [0, 0, 0]  [1, 1, 1]  [2, 2, 2]\n",
       "1  [0, 0, 0]  [1, 1, 1]  [2, 2, 2]\n",
       "2  [0, 0, 0]  [1, 1, 1]  [2, 2, 2]\n",
       "3  [0, 0, 0]  [1, 1, 1]  [2, 2, 2]\n",
       "4  [0, 0, 0]  [1, 1, 1]  [2, 2, 2]"
      ]
     },
     "execution_count": 6,
     "metadata": {},
     "output_type": "execute_result"
    }
   ],
   "source": [
    "# 3 dimensions\n",
    "inp = [\n",
    "    [[0, 0, 0], [1, 1, 1], [2, 2, 2]],\n",
    "    [[0, 0, 0], [1, 1, 1], [2, 2, 2]],\n",
    "    [[0, 0, 0], [1, 1, 1], [2, 2, 2]],\n",
    "    [[0, 0, 0], [1, 1, 1], [2, 2, 2]],\n",
    "    [[0, 0, 0], [1, 1, 1], [2, 2, 2]],\n",
    "]\n",
    "out = pak.dataframe(inp, test=True)\n",
    "out"
   ]
  },
  {
   "cell_type": "code",
   "execution_count": 7,
   "metadata": {
    "execution": {
     "iopub.execute_input": "2023-04-10T19:43:54.772689Z",
     "iopub.status.busy": "2023-04-10T19:43:54.772166Z",
     "iopub.status.idle": "2023-04-10T19:43:54.847478Z",
     "shell.execute_reply": "2023-04-10T19:43:54.845733Z",
     "shell.execute_reply.started": "2023-04-10T19:43:54.772572Z"
    }
   },
   "outputs": [
    {
     "name": "stdout",
     "output_type": "stream",
     "text": [
      "Input rtype=('list', 'list', 'list') shape=(5, 3)\n",
      "rotated=False Output rtype=('DataFrame', 'Series') shape=(5, 3)\n"
     ]
    },
    {
     "data": {
      "text/html": [
       "<div>\n",
       "<style scoped>\n",
       "    .dataframe tbody tr th:only-of-type {\n",
       "        vertical-align: middle;\n",
       "    }\n",
       "\n",
       "    .dataframe tbody tr th {\n",
       "        vertical-align: top;\n",
       "    }\n",
       "\n",
       "    .dataframe thead th {\n",
       "        text-align: right;\n",
       "    }\n",
       "</style>\n",
       "<table border=\"1\" class=\"dataframe\">\n",
       "  <thead>\n",
       "    <tr style=\"text-align: right;\">\n",
       "      <th></th>\n",
       "      <th>A</th>\n",
       "      <th>B</th>\n",
       "      <th>C</th>\n",
       "    </tr>\n",
       "  </thead>\n",
       "  <tbody>\n",
       "    <tr>\n",
       "      <th>0</th>\n",
       "      <td>[]</td>\n",
       "      <td>[]</td>\n",
       "      <td>[]</td>\n",
       "    </tr>\n",
       "    <tr>\n",
       "      <th>1</th>\n",
       "      <td>[]</td>\n",
       "      <td>[]</td>\n",
       "      <td>[]</td>\n",
       "    </tr>\n",
       "    <tr>\n",
       "      <th>2</th>\n",
       "      <td>[]</td>\n",
       "      <td>[]</td>\n",
       "      <td>[]</td>\n",
       "    </tr>\n",
       "    <tr>\n",
       "      <th>3</th>\n",
       "      <td>[]</td>\n",
       "      <td>[]</td>\n",
       "      <td>[]</td>\n",
       "    </tr>\n",
       "    <tr>\n",
       "      <th>4</th>\n",
       "      <td>[]</td>\n",
       "      <td>[]</td>\n",
       "      <td>[]</td>\n",
       "    </tr>\n",
       "  </tbody>\n",
       "</table>\n",
       "</div>"
      ],
      "text/plain": [
       "    A   B   C\n",
       "0  []  []  []\n",
       "1  []  []  []\n",
       "2  []  []  []\n",
       "3  []  []  []\n",
       "4  []  []  []"
      ]
     },
     "execution_count": 7,
     "metadata": {},
     "output_type": "execute_result"
    }
   ],
   "source": [
    "# 2 dimensions with empty lists\n",
    "inp = [\n",
    "    [[], [], []],\n",
    "    [[], [], []],\n",
    "    [[], [], []],\n",
    "    [[], [], []],\n",
    "    [[], [], []],\n",
    "]\n",
    "out = pak.dataframe(inp, test=True)\n",
    "out"
   ]
  },
  {
   "cell_type": "markdown",
   "metadata": {},
   "source": [
    "### Columnwise"
   ]
  },
  {
   "cell_type": "code",
   "execution_count": 8,
   "metadata": {
    "execution": {
     "iopub.execute_input": "2023-04-10T19:43:54.852715Z",
     "iopub.status.busy": "2023-04-10T19:43:54.852430Z",
     "iopub.status.idle": "2023-04-10T19:43:54.916965Z",
     "shell.execute_reply": "2023-04-10T19:43:54.913290Z",
     "shell.execute_reply.started": "2023-04-10T19:43:54.852694Z"
    }
   },
   "outputs": [
    {
     "name": "stdout",
     "output_type": "stream",
     "text": [
      "Input rtype=('tuple', 'list', 'int') shape=(4, 5)\n",
      "rotated=True Output rtype=('DataFrame', 'Series') shape=(5, 4)\n"
     ]
    },
    {
     "data": {
      "text/html": [
       "<div>\n",
       "<style scoped>\n",
       "    .dataframe tbody tr th:only-of-type {\n",
       "        vertical-align: middle;\n",
       "    }\n",
       "\n",
       "    .dataframe tbody tr th {\n",
       "        vertical-align: top;\n",
       "    }\n",
       "\n",
       "    .dataframe thead th {\n",
       "        text-align: right;\n",
       "    }\n",
       "</style>\n",
       "<table border=\"1\" class=\"dataframe\">\n",
       "  <thead>\n",
       "    <tr style=\"text-align: right;\">\n",
       "      <th></th>\n",
       "      <th>A</th>\n",
       "      <th>B</th>\n",
       "      <th>C</th>\n",
       "      <th>D</th>\n",
       "    </tr>\n",
       "  </thead>\n",
       "  <tbody>\n",
       "    <tr>\n",
       "      <th>0</th>\n",
       "      <td>1</td>\n",
       "      <td>a</td>\n",
       "      <td>100</td>\n",
       "      <td>18%</td>\n",
       "    </tr>\n",
       "    <tr>\n",
       "      <th>1</th>\n",
       "      <td>2</td>\n",
       "      <td>v</td>\n",
       "      <td>55</td>\n",
       "      <td>105%</td>\n",
       "    </tr>\n",
       "    <tr>\n",
       "      <th>2</th>\n",
       "      <td>3</td>\n",
       "      <td>vvvv</td>\n",
       "      <td>315</td>\n",
       "      <td>56%</td>\n",
       "    </tr>\n",
       "    <tr>\n",
       "      <th>3</th>\n",
       "      <td>4</td>\n",
       "      <td>e</td>\n",
       "      <td>68</td>\n",
       "      <td>12%</td>\n",
       "    </tr>\n",
       "    <tr>\n",
       "      <th>4</th>\n",
       "      <td>6</td>\n",
       "      <td>Q</td>\n",
       "      <td>23</td>\n",
       "      <td>4%</td>\n",
       "    </tr>\n",
       "  </tbody>\n",
       "</table>\n",
       "</div>"
      ],
      "text/plain": [
       "   A     B    C     D\n",
       "0  1     a  100   18%\n",
       "1  2     v   55  105%\n",
       "2  3  vvvv  315   56%\n",
       "3  4     e   68   12%\n",
       "4  6     Q   23    4%"
      ]
     },
     "execution_count": 8,
     "metadata": {},
     "output_type": "execute_result"
    }
   ],
   "source": [
    "# Tuple contain columns\n",
    "Number = [1,2,3,4,6]\n",
    "L1     = ['a','v','vvvv','e','Q']\n",
    "L2     = [100, 55, 315, 68, 23]\n",
    "L3     = ['18%','105%','56%','12%','4%']\n",
    "inp = (Number, L1, L2, L3)\n",
    "\n",
    "df = pak.dataframe(inp, test=True)\n",
    "df"
   ]
  },
  {
   "cell_type": "code",
   "execution_count": 9,
   "metadata": {
    "execution": {
     "iopub.execute_input": "2023-04-10T19:43:54.918740Z",
     "iopub.status.busy": "2023-04-10T19:43:54.918125Z",
     "iopub.status.idle": "2023-04-10T19:43:54.966180Z",
     "shell.execute_reply": "2023-04-10T19:43:54.964704Z",
     "shell.execute_reply.started": "2023-04-10T19:43:54.918697Z"
    }
   },
   "outputs": [
    {
     "name": "stdout",
     "output_type": "stream",
     "text": [
      "Input rtype=('dict', 'list', 'int') shape=(5, 4)\n",
      "rotated=True Output rtype=('DataFrame', 'Series') shape=(4, 5)\n"
     ]
    },
    {
     "data": {
      "text/html": [
       "<div>\n",
       "<style scoped>\n",
       "    .dataframe tbody tr th:only-of-type {\n",
       "        vertical-align: middle;\n",
       "    }\n",
       "\n",
       "    .dataframe tbody tr th {\n",
       "        vertical-align: top;\n",
       "    }\n",
       "\n",
       "    .dataframe thead th {\n",
       "        text-align: right;\n",
       "    }\n",
       "</style>\n",
       "<table border=\"1\" class=\"dataframe\">\n",
       "  <thead>\n",
       "    <tr style=\"text-align: right;\">\n",
       "      <th></th>\n",
       "      <th>AA</th>\n",
       "      <th>BB</th>\n",
       "      <th>CC</th>\n",
       "      <th>DD</th>\n",
       "      <th>EE</th>\n",
       "    </tr>\n",
       "  </thead>\n",
       "  <tbody>\n",
       "    <tr>\n",
       "      <th>0</th>\n",
       "      <td>1</td>\n",
       "      <td>2</td>\n",
       "      <td>3</td>\n",
       "      <td>4</td>\n",
       "      <td>5</td>\n",
       "    </tr>\n",
       "    <tr>\n",
       "      <th>1</th>\n",
       "      <td>1</td>\n",
       "      <td>4</td>\n",
       "      <td>6</td>\n",
       "      <td>4</td>\n",
       "      <td>10</td>\n",
       "    </tr>\n",
       "    <tr>\n",
       "      <th>2</th>\n",
       "      <td>1</td>\n",
       "      <td>8</td>\n",
       "      <td>9</td>\n",
       "      <td>4</td>\n",
       "      <td>15</td>\n",
       "    </tr>\n",
       "    <tr>\n",
       "      <th>3</th>\n",
       "      <td>1</td>\n",
       "      <td>16</td>\n",
       "      <td>12</td>\n",
       "      <td>4</td>\n",
       "      <td>20</td>\n",
       "    </tr>\n",
       "  </tbody>\n",
       "</table>\n",
       "</div>"
      ],
      "text/plain": [
       "   AA  BB  CC  DD  EE\n",
       "0   1   2   3   4   5\n",
       "1   1   4   6   4  10\n",
       "2   1   8   9   4  15\n",
       "3   1  16  12   4  20"
      ]
     },
     "execution_count": 9,
     "metadata": {},
     "output_type": "execute_result"
    }
   ],
   "source": [
    "# dict of lists\n",
    "inp = {'AA': [1,1,1,1],\n",
    "       'BB': [2,4,8,16],\n",
    "       'CC': [3,6,9,12],\n",
    "       'DD': [4,4,4,4],\n",
    "       'EE': [5,10,15,20],                \n",
    "               }\n",
    "out = pak.dataframe(inp, test=True)\n",
    "out"
   ]
  },
  {
   "cell_type": "code",
   "execution_count": 10,
   "metadata": {
    "execution": {
     "iopub.execute_input": "2023-04-10T19:43:54.973464Z",
     "iopub.status.busy": "2023-04-10T19:43:54.971711Z",
     "iopub.status.idle": "2023-04-10T19:43:55.027623Z",
     "shell.execute_reply": "2023-04-10T19:43:55.026742Z",
     "shell.execute_reply.started": "2023-04-10T19:43:54.973427Z"
    }
   },
   "outputs": [
    {
     "name": "stdout",
     "output_type": "stream",
     "text": [
      "Input rtype=('dict', 'tuple', 'int') shape=(5, 4)\n",
      "rotated=True Output rtype=('DataFrame', 'Series') shape=(4, 5)\n"
     ]
    },
    {
     "data": {
      "text/html": [
       "<div>\n",
       "<style scoped>\n",
       "    .dataframe tbody tr th:only-of-type {\n",
       "        vertical-align: middle;\n",
       "    }\n",
       "\n",
       "    .dataframe tbody tr th {\n",
       "        vertical-align: top;\n",
       "    }\n",
       "\n",
       "    .dataframe thead th {\n",
       "        text-align: right;\n",
       "    }\n",
       "</style>\n",
       "<table border=\"1\" class=\"dataframe\">\n",
       "  <thead>\n",
       "    <tr style=\"text-align: right;\">\n",
       "      <th></th>\n",
       "      <th>AA</th>\n",
       "      <th>BB</th>\n",
       "      <th>CC</th>\n",
       "      <th>DD</th>\n",
       "      <th>EE</th>\n",
       "    </tr>\n",
       "  </thead>\n",
       "  <tbody>\n",
       "    <tr>\n",
       "      <th>0</th>\n",
       "      <td>1</td>\n",
       "      <td>2</td>\n",
       "      <td>3</td>\n",
       "      <td>4</td>\n",
       "      <td>5</td>\n",
       "    </tr>\n",
       "    <tr>\n",
       "      <th>1</th>\n",
       "      <td>1</td>\n",
       "      <td>4</td>\n",
       "      <td>6</td>\n",
       "      <td>4</td>\n",
       "      <td>10</td>\n",
       "    </tr>\n",
       "    <tr>\n",
       "      <th>2</th>\n",
       "      <td>1</td>\n",
       "      <td>8</td>\n",
       "      <td>9</td>\n",
       "      <td>4</td>\n",
       "      <td>15</td>\n",
       "    </tr>\n",
       "    <tr>\n",
       "      <th>3</th>\n",
       "      <td>1</td>\n",
       "      <td>16</td>\n",
       "      <td>12</td>\n",
       "      <td>4</td>\n",
       "      <td>20</td>\n",
       "    </tr>\n",
       "  </tbody>\n",
       "</table>\n",
       "</div>"
      ],
      "text/plain": [
       "   AA  BB  CC  DD  EE\n",
       "0   1   2   3   4   5\n",
       "1   1   4   6   4  10\n",
       "2   1   8   9   4  15\n",
       "3   1  16  12   4  20"
      ]
     },
     "execution_count": 10,
     "metadata": {},
     "output_type": "execute_result"
    }
   ],
   "source": [
    "# dict of tuples\n",
    "inp = {'AA': (1,1,1,1   ),\n",
    "       'BB': (2,4,8,16  ),\n",
    "       'CC': (3,6,9,12  ),\n",
    "       'DD': (4,4,4,4   ),\n",
    "       'EE': (5,10,15,20),                \n",
    "               }\n",
    "out = pak.dataframe(inp, test=True)\n",
    "out"
   ]
  },
  {
   "cell_type": "code",
   "execution_count": 11,
   "metadata": {
    "execution": {
     "iopub.execute_input": "2023-04-10T19:43:55.028750Z",
     "iopub.status.busy": "2023-04-10T19:43:55.028417Z",
     "iopub.status.idle": "2023-04-10T19:43:55.075145Z",
     "shell.execute_reply": "2023-04-10T19:43:55.074288Z",
     "shell.execute_reply.started": "2023-04-10T19:43:55.028721Z"
    }
   },
   "outputs": [
    {
     "name": "stdout",
     "output_type": "stream",
     "text": [
      "Input rtype=('list', 'dict', 'int') shape=(3, 3)\n",
      "rotated=False Output rtype=('DataFrame', 'Series') shape=(3, 3)\n"
     ]
    },
    {
     "data": {
      "text/html": [
       "<div>\n",
       "<style scoped>\n",
       "    .dataframe tbody tr th:only-of-type {\n",
       "        vertical-align: middle;\n",
       "    }\n",
       "\n",
       "    .dataframe tbody tr th {\n",
       "        vertical-align: top;\n",
       "    }\n",
       "\n",
       "    .dataframe thead th {\n",
       "        text-align: right;\n",
       "    }\n",
       "</style>\n",
       "<table border=\"1\" class=\"dataframe\">\n",
       "  <thead>\n",
       "    <tr style=\"text-align: right;\">\n",
       "      <th></th>\n",
       "      <th>AA</th>\n",
       "      <th>BB</th>\n",
       "      <th>CC</th>\n",
       "    </tr>\n",
       "  </thead>\n",
       "  <tbody>\n",
       "    <tr>\n",
       "      <th>0</th>\n",
       "      <td>1</td>\n",
       "      <td>2</td>\n",
       "      <td>3</td>\n",
       "    </tr>\n",
       "    <tr>\n",
       "      <th>1</th>\n",
       "      <td>1</td>\n",
       "      <td>4</td>\n",
       "      <td>9</td>\n",
       "    </tr>\n",
       "    <tr>\n",
       "      <th>2</th>\n",
       "      <td>1</td>\n",
       "      <td>16</td>\n",
       "      <td>81</td>\n",
       "    </tr>\n",
       "  </tbody>\n",
       "</table>\n",
       "</div>"
      ],
      "text/plain": [
       "   AA  BB  CC\n",
       "0   1   2   3\n",
       "1   1   4   9\n",
       "2   1  16  81"
      ]
     },
     "execution_count": 11,
     "metadata": {},
     "output_type": "execute_result"
    }
   ],
   "source": [
    "# list of dicts\n",
    "inp = [ {'AA': 1, 'BB': 2,  'CC': 3, },\n",
    "        {'AA': 1, 'BB': 4,  'CC': 9, },\n",
    "        {'AA': 1, 'BB': 16, 'CC': 81, } ]    \n",
    "out = pak.dataframe(inp, test=True)\n",
    "out"
   ]
  },
  {
   "cell_type": "code",
   "execution_count": 12,
   "metadata": {
    "execution": {
     "iopub.execute_input": "2023-04-10T19:43:55.089642Z",
     "iopub.status.busy": "2023-04-10T19:43:55.086427Z",
     "iopub.status.idle": "2023-04-10T19:43:55.152093Z",
     "shell.execute_reply": "2023-04-10T19:43:55.150726Z",
     "shell.execute_reply.started": "2023-04-10T19:43:55.089599Z"
    }
   },
   "outputs": [
    {
     "name": "stdout",
     "output_type": "stream",
     "text": [
      "Input rtype=('dict', 'dict', 'int') shape=(3, 4)\n",
      "rotated=True Output rtype=('DataFrame', 'Series') shape=(4, 3)\n"
     ]
    },
    {
     "data": {
      "text/html": [
       "<div>\n",
       "<style scoped>\n",
       "    .dataframe tbody tr th:only-of-type {\n",
       "        vertical-align: middle;\n",
       "    }\n",
       "\n",
       "    .dataframe tbody tr th {\n",
       "        vertical-align: top;\n",
       "    }\n",
       "\n",
       "    .dataframe thead th {\n",
       "        text-align: right;\n",
       "    }\n",
       "</style>\n",
       "<table border=\"1\" class=\"dataframe\">\n",
       "  <thead>\n",
       "    <tr style=\"text-align: right;\">\n",
       "      <th></th>\n",
       "      <th>0</th>\n",
       "      <th>1</th>\n",
       "      <th>2</th>\n",
       "    </tr>\n",
       "  </thead>\n",
       "  <tbody>\n",
       "    <tr>\n",
       "      <th>AA</th>\n",
       "      <td>5</td>\n",
       "      <td>10</td>\n",
       "      <td>15</td>\n",
       "    </tr>\n",
       "    <tr>\n",
       "      <th>BB</th>\n",
       "      <td>0</td>\n",
       "      <td>0</td>\n",
       "      <td>0</td>\n",
       "    </tr>\n",
       "    <tr>\n",
       "      <th>CC</th>\n",
       "      <td>3</td>\n",
       "      <td>3</td>\n",
       "      <td>7</td>\n",
       "    </tr>\n",
       "    <tr>\n",
       "      <th>DD</th>\n",
       "      <td>3</td>\n",
       "      <td>5</td>\n",
       "      <td>6</td>\n",
       "    </tr>\n",
       "  </tbody>\n",
       "</table>\n",
       "</div>"
      ],
      "text/plain": [
       "    0   1   2\n",
       "AA  5  10  15\n",
       "BB  0   0   0\n",
       "CC  3   3   7\n",
       "DD  3   5   6"
      ]
     },
     "execution_count": 12,
     "metadata": {},
     "output_type": "execute_result"
    }
   ],
   "source": [
    "# dict of dicts\n",
    "inp ={\n",
    " 0: {'AA':  5, 'BB': 0, 'CC': 3, 'DD': 3},\n",
    " 1: {'AA': 10, 'BB': 0, 'CC': 3, 'DD': 5},\n",
    " 2: {'AA': 15, 'BB': 0, 'CC': 7, 'DD': 6}}\n",
    "out = pak.dataframe(inp, test=True)\n",
    "out"
   ]
  },
  {
   "cell_type": "code",
   "execution_count": 13,
   "metadata": {
    "execution": {
     "iopub.execute_input": "2023-04-10T19:43:55.164476Z",
     "iopub.status.busy": "2023-04-10T19:43:55.157653Z",
     "iopub.status.idle": "2023-04-10T19:43:55.224951Z",
     "shell.execute_reply": "2023-04-10T19:43:55.224046Z",
     "shell.execute_reply.started": "2023-04-10T19:43:55.164381Z"
    }
   },
   "outputs": [
    {
     "name": "stdout",
     "output_type": "stream",
     "text": [
      "Input rtype=('dict', 'ndarray', 'int32') shape=(-77, -77)\n",
      "rotated=True Output rtype=('DataFrame', 'Series') shape=(4, 4)\n"
     ]
    },
    {
     "data": {
      "text/html": [
       "<div>\n",
       "<style scoped>\n",
       "    .dataframe tbody tr th:only-of-type {\n",
       "        vertical-align: middle;\n",
       "    }\n",
       "\n",
       "    .dataframe tbody tr th {\n",
       "        vertical-align: top;\n",
       "    }\n",
       "\n",
       "    .dataframe thead th {\n",
       "        text-align: right;\n",
       "    }\n",
       "</style>\n",
       "<table border=\"1\" class=\"dataframe\">\n",
       "  <thead>\n",
       "    <tr style=\"text-align: right;\">\n",
       "      <th></th>\n",
       "      <th>AA</th>\n",
       "      <th>BB</th>\n",
       "      <th>CC</th>\n",
       "      <th>DD</th>\n",
       "    </tr>\n",
       "  </thead>\n",
       "  <tbody>\n",
       "    <tr>\n",
       "      <th>0</th>\n",
       "      <td>-77</td>\n",
       "      <td>test</td>\n",
       "      <td>1.0</td>\n",
       "      <td>foo</td>\n",
       "    </tr>\n",
       "    <tr>\n",
       "      <th>1</th>\n",
       "      <td>-77</td>\n",
       "      <td>train</td>\n",
       "      <td>1.0</td>\n",
       "      <td>foo</td>\n",
       "    </tr>\n",
       "    <tr>\n",
       "      <th>2</th>\n",
       "      <td>-77</td>\n",
       "      <td>test</td>\n",
       "      <td>1.0</td>\n",
       "      <td>foo</td>\n",
       "    </tr>\n",
       "    <tr>\n",
       "      <th>3</th>\n",
       "      <td>-77</td>\n",
       "      <td>train</td>\n",
       "      <td>1.0</td>\n",
       "      <td>foo</td>\n",
       "    </tr>\n",
       "  </tbody>\n",
       "</table>\n",
       "</div>"
      ],
      "text/plain": [
       "   AA     BB   CC   DD\n",
       "0 -77   test  1.0  foo\n",
       "1 -77  train  1.0  foo\n",
       "2 -77   test  1.0  foo\n",
       "3 -77  train  1.0  foo"
      ]
     },
     "execution_count": 13,
     "metadata": {},
     "output_type": "execute_result"
    }
   ],
   "source": [
    "# dict of mix\n",
    "inp = { 'AA': np.array([-77] * 4, dtype='int32'),\n",
    "        'BB': pd.Categorical([\"test\", \"train\", \"test\", \"train\"]),\n",
    "        'CC': pd.Series(1, index=list(range(4)), dtype='float32'),\n",
    "        'DD': 'foo', # test=False !!\n",
    "      }\n",
    "out = pak.dataframe(inp, test=False)\n",
    "out"
   ]
  },
  {
   "cell_type": "code",
   "execution_count": 14,
   "metadata": {
    "execution": {
     "iopub.execute_input": "2023-04-10T19:43:55.237495Z",
     "iopub.status.busy": "2023-04-10T19:43:55.231586Z",
     "iopub.status.idle": "2023-04-10T19:43:55.290687Z",
     "shell.execute_reply": "2023-04-10T19:43:55.290083Z",
     "shell.execute_reply.started": "2023-04-10T19:43:55.237433Z"
    }
   },
   "outputs": [
    {
     "name": "stdout",
     "output_type": "stream",
     "text": [
      "Input rtype=('dict', 'ndarray', 'float64') shape=(2, 50)\n",
      "rotated=True Output rtype=('DataFrame', 'Series') shape=(50, 2)\n"
     ]
    },
    {
     "data": {
      "text/html": [
       "<div>\n",
       "<style scoped>\n",
       "    .dataframe tbody tr th:only-of-type {\n",
       "        vertical-align: middle;\n",
       "    }\n",
       "\n",
       "    .dataframe tbody tr th {\n",
       "        vertical-align: top;\n",
       "    }\n",
       "\n",
       "    .dataframe thead th {\n",
       "        text-align: right;\n",
       "    }\n",
       "</style>\n",
       "<table border=\"1\" class=\"dataframe\">\n",
       "  <thead>\n",
       "    <tr style=\"text-align: right;\">\n",
       "      <th></th>\n",
       "      <th>AA</th>\n",
       "      <th>BB</th>\n",
       "    </tr>\n",
       "  </thead>\n",
       "  <tbody>\n",
       "    <tr>\n",
       "      <th>0</th>\n",
       "      <td>0.000000</td>\n",
       "      <td>-10.000000</td>\n",
       "    </tr>\n",
       "    <tr>\n",
       "      <th>1</th>\n",
       "      <td>0.204082</td>\n",
       "      <td>-9.795918</td>\n",
       "    </tr>\n",
       "    <tr>\n",
       "      <th>2</th>\n",
       "      <td>0.408163</td>\n",
       "      <td>-9.591837</td>\n",
       "    </tr>\n",
       "    <tr>\n",
       "      <th>3</th>\n",
       "      <td>0.612245</td>\n",
       "      <td>-9.387755</td>\n",
       "    </tr>\n",
       "  </tbody>\n",
       "</table>\n",
       "</div>"
      ],
      "text/plain": [
       "         AA         BB\n",
       "0  0.000000 -10.000000\n",
       "1  0.204082  -9.795918\n",
       "2  0.408163  -9.591837\n",
       "3  0.612245  -9.387755"
      ]
     },
     "execution_count": 14,
     "metadata": {},
     "output_type": "execute_result"
    }
   ],
   "source": [
    "# Linear Series\n",
    "inp = {'AA': np.linspace(0, 10), \n",
    "       'BB': np.linspace(-10, 0) }\n",
    "out = pak.dataframe(inp, test=True)\n",
    "out.head(4)"
   ]
  },
  {
   "cell_type": "markdown",
   "metadata": {},
   "source": [
    "### Columnwise: list or tuple of Series"
   ]
  },
  {
   "cell_type": "code",
   "execution_count": 15,
   "metadata": {
    "execution": {
     "iopub.execute_input": "2023-04-10T19:43:55.299543Z",
     "iopub.status.busy": "2023-04-10T19:43:55.296296Z",
     "iopub.status.idle": "2023-04-10T19:43:55.331456Z",
     "shell.execute_reply": "2023-04-10T19:43:55.330584Z",
     "shell.execute_reply.started": "2023-04-10T19:43:55.299484Z"
    }
   },
   "outputs": [
    {
     "data": {
      "text/plain": [
       "\u001b[0;31mSignature:\u001b[0m \u001b[0mpak\u001b[0m\u001b[0;34m.\u001b[0m\u001b[0mrandom_series\u001b[0m\u001b[0;34m(\u001b[0m\u001b[0msize\u001b[0m\u001b[0;34m,\u001b[0m \u001b[0mtyp\u001b[0m\u001b[0;34m,\u001b[0m \u001b[0;34m**\u001b[0m\u001b[0mkwargs\u001b[0m\u001b[0;34m)\u001b[0m\u001b[0;34m\u001b[0m\u001b[0;34m\u001b[0m\u001b[0m\n",
       "\u001b[0;31mDocstring:\u001b[0m\n",
       "Returns a series of random data. \n",
       "* size\n",
       "* typ: 'int', 'float', 'string', 'name', 'choice', 'list', 'mix',\n",
       "       'ascending', 'descending', 'perlin' or 'errorprone'. Or the first letter of this.\n",
       "       'name' generates random first names, 'list' generates lists of random first names.\n",
       "       'mix' generates mixed datatypes. \n",
       "       'ascending', 'descending' and 'perlin' generates ordered random sequences.\n",
       "       'errorprone' generates sequences of NaNs, 0, 1 with similar index. Useful for testing. \n",
       "\n",
       "The other arguments are passed to the appropriate functions for the type of random data.\n",
       "General arguments are:\n",
       "* name\n",
       "* p_nan: value 0..1 specifies  how many NaNs are interspersed\n",
       "* p_dup: value 0..1 determines how many Dups are included.\n",
       "\n",
       "There are extra parameters for some types of random data:\n",
       "- int:    min, max: closed interval, min and max are both possible values in the generated data\n",
       "- float:  decimals: how many decimal places\n",
       "- string: len_min, len_max: controls the length of the generated character sequence\n",
       "          mix: Explicit specification of the available character set. Overwrites p_dup. \n",
       "               Example: mix='ABCabc'\n",
       "- list:   len_min, len_max: controls the length of the generated lists.                   \n",
       "- choice: choice: List or Series of elements to choose\n",
       "- perlin: freq: List of up to frequencies, see random_perlin for more details\n",
       "          op: 'add' or 'mult', how the frequencies are linked together\n",
       "          sc: scaling, default is 'max_abs', this scales -1..1, see function scale\n",
       "\n",
       "Examples:    \n",
       "=========\n",
       "random_series( 10, 'int')\n",
       "random_series( 10, 'string', len_min=1, len_max=2)\n",
       "\u001b[0;31mFile:\u001b[0m      ~/Data_Linux/Dropbox/31_Projekte/01_Python/git/pandasklar/src/pandasklar/content.py\n",
       "\u001b[0;31mType:\u001b[0m      function\n"
      ]
     },
     "metadata": {},
     "output_type": "display_data"
    }
   ],
   "source": [
    "?pak.random_series"
   ]
  },
  {
   "cell_type": "code",
   "execution_count": 16,
   "metadata": {
    "execution": {
     "iopub.execute_input": "2023-04-10T19:43:55.337496Z",
     "iopub.status.busy": "2023-04-10T19:43:55.335398Z",
     "iopub.status.idle": "2023-04-10T19:43:55.375620Z",
     "shell.execute_reply": "2023-04-10T19:43:55.374773Z",
     "shell.execute_reply.started": "2023-04-10T19:43:55.337462Z"
    }
   },
   "outputs": [
    {
     "data": {
      "text/plain": [
       "0    435\n",
       "1    971\n",
       "2    985\n",
       "3    245\n",
       "4    906\n",
       "5    696\n",
       "6    952\n",
       "7    625\n",
       "8    494\n",
       "9    442\n",
       "Name: rnd_int, dtype: int64"
      ]
     },
     "execution_count": 16,
     "metadata": {},
     "output_type": "execute_result"
    }
   ],
   "source": [
    "# Try\n",
    "pak.random_series( 10, 'int')"
   ]
  },
  {
   "cell_type": "code",
   "execution_count": 17,
   "metadata": {
    "execution": {
     "iopub.execute_input": "2023-04-10T19:43:55.381108Z",
     "iopub.status.busy": "2023-04-10T19:43:55.380543Z",
     "iopub.status.idle": "2023-04-10T19:43:55.475273Z",
     "shell.execute_reply": "2023-04-10T19:43:55.474207Z",
     "shell.execute_reply.started": "2023-04-10T19:43:55.381082Z"
    }
   },
   "outputs": [
    {
     "name": "stdout",
     "output_type": "stream",
     "text": [
      "Input rtype=('list', 'Series', 'str') shape=(-77, -77)\n",
      "rotated=True Output rtype=('DataFrame', 'Series') shape=(10, 7)\n"
     ]
    },
    {
     "data": {
      "text/html": [
       "<div>\n",
       "<style scoped>\n",
       "    .dataframe tbody tr th:only-of-type {\n",
       "        vertical-align: middle;\n",
       "    }\n",
       "\n",
       "    .dataframe tbody tr th {\n",
       "        vertical-align: top;\n",
       "    }\n",
       "\n",
       "    .dataframe thead th {\n",
       "        text-align: right;\n",
       "    }\n",
       "</style>\n",
       "<table border=\"1\" class=\"dataframe\">\n",
       "  <thead>\n",
       "    <tr style=\"text-align: right;\">\n",
       "      <th></th>\n",
       "      <th>first_name</th>\n",
       "      <th>age</th>\n",
       "      <th>birtplace</th>\n",
       "      <th>zip</th>\n",
       "      <th>secret</th>\n",
       "      <th>features</th>\n",
       "      <th>history</th>\n",
       "    </tr>\n",
       "  </thead>\n",
       "  <tbody>\n",
       "    <tr>\n",
       "      <th>0</th>\n",
       "      <td>Tom</td>\n",
       "      <td>37</td>\n",
       "      <td>Berlin</td>\n",
       "      <td>10761</td>\n",
       "      <td>ru7TDVQMAÄ</td>\n",
       "      <td>{Q, u}</td>\n",
       "      <td>[A, A, A]</td>\n",
       "    </tr>\n",
       "    <tr>\n",
       "      <th>1</th>\n",
       "      <td>Erich</td>\n",
       "      <td>29</td>\n",
       "      <td>Bremen</td>\n",
       "      <td>46917</td>\n",
       "      <td>qwH5H</td>\n",
       "      <td>{i}</td>\n",
       "      <td>[c, b, a]</td>\n",
       "    </tr>\n",
       "    <tr>\n",
       "      <th>2</th>\n",
       "      <td>Torsten</td>\n",
       "      <td>26</td>\n",
       "      <td>Bremen</td>\n",
       "      <td>66722</td>\n",
       "      <td>wG5VLtj</td>\n",
       "      <td>{}</td>\n",
       "      <td>[b, b, a, b]</td>\n",
       "    </tr>\n",
       "    <tr>\n",
       "      <th>3</th>\n",
       "      <td>Tanja</td>\n",
       "      <td>32</td>\n",
       "      <td>Berlin</td>\n",
       "      <td>14182</td>\n",
       "      <td>eNa68äE</td>\n",
       "      <td>{p, s, j, w, g}</td>\n",
       "      <td>[A, B, C, C]</td>\n",
       "    </tr>\n",
       "    <tr>\n",
       "      <th>4</th>\n",
       "      <td>Lukas</td>\n",
       "      <td>33</td>\n",
       "      <td>Bremen</td>\n",
       "      <td>35851</td>\n",
       "      <td>HöOjiN4</td>\n",
       "      <td>{b, X, T, 5, j}</td>\n",
       "      <td>[a, b, c]</td>\n",
       "    </tr>\n",
       "    <tr>\n",
       "      <th>5</th>\n",
       "      <td>Benedikt</td>\n",
       "      <td>22</td>\n",
       "      <td>Berlin</td>\n",
       "      <td>14517</td>\n",
       "      <td>MHIükyKNl</td>\n",
       "      <td>{Y, j, m, q}</td>\n",
       "      <td>[A, C, C, B]</td>\n",
       "    </tr>\n",
       "    <tr>\n",
       "      <th>6</th>\n",
       "      <td>Stephan</td>\n",
       "      <td>24</td>\n",
       "      <td>NaN</td>\n",
       "      <td>33011</td>\n",
       "      <td>oLnvWdÖ</td>\n",
       "      <td>{c, D, W, s, L}</td>\n",
       "      <td>[]</td>\n",
       "    </tr>\n",
       "    <tr>\n",
       "      <th>7</th>\n",
       "      <td>Phil</td>\n",
       "      <td>32</td>\n",
       "      <td>Berlin</td>\n",
       "      <td>33011</td>\n",
       "      <td>LFGBaA</td>\n",
       "      <td>{Y, J}</td>\n",
       "      <td>[A, x]</td>\n",
       "    </tr>\n",
       "    <tr>\n",
       "      <th>8</th>\n",
       "      <td>Sven</td>\n",
       "      <td>33</td>\n",
       "      <td>Bremen</td>\n",
       "      <td>14182</td>\n",
       "      <td>UzebyN5</td>\n",
       "      <td>{Y, J}</td>\n",
       "      <td>[A, B, C]</td>\n",
       "    </tr>\n",
       "    <tr>\n",
       "      <th>9</th>\n",
       "      <td>Hugo</td>\n",
       "      <td>37</td>\n",
       "      <td>Bremen</td>\n",
       "      <td>14517</td>\n",
       "      <td>jAypqgow</td>\n",
       "      <td>{p, s, j, w, g}</td>\n",
       "      <td>[A, B, C]</td>\n",
       "    </tr>\n",
       "  </tbody>\n",
       "</table>\n",
       "</div>"
      ],
      "text/plain": [
       "  first_name  age birtplace    zip      secret         features       history\n",
       "0        Tom   37    Berlin  10761  ru7TDVQMAÄ           {Q, u}     [A, A, A]\n",
       "1      Erich   29    Bremen  46917       qwH5H              {i}     [c, b, a]\n",
       "2    Torsten   26    Bremen  66722     wG5VLtj               {}  [b, b, a, b]\n",
       "3      Tanja   32    Berlin  14182     eNa68äE  {p, s, j, w, g}  [A, B, C, C]\n",
       "4      Lukas   33    Bremen  35851     HöOjiN4  {b, X, T, 5, j}     [a, b, c]\n",
       "5   Benedikt   22    Berlin  14517   MHIükyKNl     {Y, j, m, q}  [A, C, C, B]\n",
       "6    Stephan   24       NaN  33011     oLnvWdÖ  {c, D, W, s, L}            []\n",
       "7       Phil   32    Berlin  33011      LFGBaA           {Y, J}        [A, x]\n",
       "8       Sven   33    Bremen  14182     UzebyN5           {Y, J}     [A, B, C]\n",
       "9       Hugo   37    Bremen  14517    jAypqgow  {p, s, j, w, g}     [A, B, C]"
      ]
     },
     "execution_count": 17,
     "metadata": {},
     "output_type": "execute_result"
    }
   ],
   "source": [
    "# \n",
    "anz = 10\n",
    "a = pak.random_series( anz, 'name',                                                             name='first_name' )\n",
    "b = pak.random_series( anz, 'int',    min=20, max=30) + pak.random_series( anz, 'int', min=0, max=12) \n",
    "b.name = 'age'\n",
    "c = pak.random_series( anz, 'choice', choice=['Bremen','Berlin'],      p_nan=0.3,   p_dup=0,    name='birtplace')\n",
    "d = pak.random_series( anz, 'int',    min=10000, max=99999,            p_nan=0.02,  p_dup=0.3,  name='zip')\n",
    "e = pak.random_series( anz, 'string', len_min=5, len_max=10,           p_nan=0,     p_dup=0,    name='secret')\n",
    "f = pak.random_series( anz, 'string', len_min=0, len_max=5,            p_nan=0,     p_dup=0.2,  name='features').apply(set)    \n",
    "g = pak.random_series( anz, 'choice', choice=['ABC','ABCC','','abc','cba','Ax','AAA','ACCB','bbab'],  name='history').apply(list)    \n",
    "inp = [a,b,c,d,e,f,g]\n",
    "pak.dataframe(inp)"
   ]
  },
  {
   "cell_type": "code",
   "execution_count": 18,
   "metadata": {
    "execution": {
     "iopub.execute_input": "2023-04-10T19:43:55.477207Z",
     "iopub.status.busy": "2023-04-10T19:43:55.476109Z",
     "iopub.status.idle": "2023-04-10T19:43:55.518665Z",
     "shell.execute_reply": "2023-04-10T19:43:55.515988Z",
     "shell.execute_reply.started": "2023-04-10T19:43:55.477171Z"
    }
   },
   "outputs": [],
   "source": [
    "#inp = (a,b,c,d,e,f,g)\n",
    "#pak.dataframe(inp)"
   ]
  },
  {
   "cell_type": "markdown",
   "metadata": {},
   "source": [
    "### 0 and 1 dimensions"
   ]
  },
  {
   "cell_type": "code",
   "execution_count": 19,
   "metadata": {
    "execution": {
     "iopub.execute_input": "2023-04-10T19:43:55.521335Z",
     "iopub.status.busy": "2023-04-10T19:43:55.521052Z",
     "iopub.status.idle": "2023-04-10T19:43:55.718728Z",
     "shell.execute_reply": "2023-04-10T19:43:55.718019Z",
     "shell.execute_reply.started": "2023-04-10T19:43:55.521314Z"
    }
   },
   "outputs": [
    {
     "name": "stdout",
     "output_type": "stream",
     "text": [
      "Input rtype=('str',) shape=()\n",
      "rotated=False Output rtype=('DataFrame',) shape=()\n",
      "Input rtype=('NoneType',) shape=()\n",
      "rotated=False Output rtype=('DataFrame',) shape=()\n",
      "Input rtype=('list',) shape=()\n",
      "rotated=False Output rtype=('DataFrame',) shape=()\n",
      "Input rtype=('list', 'list', 'int') shape=(1, 1)\n",
      "rotated=False Output rtype=('DataFrame', 'Series', 'int64') shape=(1, 1)\n",
      "Input rtype=('ndarray',) shape=()\n",
      "rotated=False Output rtype=('DataFrame',) shape=()\n",
      "Input rtype=('DataFrame',) shape=()\n",
      "rotated=False Output rtype=('DataFrame',) shape=()\n"
     ]
    }
   ],
   "source": [
    "# 0 dimensions\n",
    "a = pak.dataframe('jjj', test=True) \n",
    "assert bpy.rtype(a) == ('DataFrame',)\n",
    "\n",
    "a = pak.dataframe(None,  test=True) \n",
    "assert bpy.rtype(a) == ('DataFrame',)\n",
    "\n",
    "a = pak.dataframe([],    test=True) \n",
    "assert bpy.rtype(a) == ('DataFrame',)\n",
    "\n",
    "a = pak.dataframe([[1]], test=True) \n",
    "assert bpy.rtype(a) == ('DataFrame','Series', 'int64')\n",
    "\n",
    "a = pak.dataframe( np.array([]), test=True) \n",
    "assert bpy.rtype(a) == ('DataFrame',)\n",
    "\n",
    "a = pak.dataframe( pd.DataFrame(), test=True) \n",
    "assert bpy.rtype(a) == ('DataFrame',)\n",
    "\n",
    "a = pak.dataframe( pd.Series(dtype='float64'), test=True) \n",
    "assert bpy.rtype(a) == ('DataFrame',)"
   ]
  },
  {
   "cell_type": "code",
   "execution_count": 20,
   "metadata": {
    "execution": {
     "iopub.execute_input": "2023-04-10T19:43:55.720516Z",
     "iopub.status.busy": "2023-04-10T19:43:55.720036Z",
     "iopub.status.idle": "2023-04-10T19:43:55.772442Z",
     "shell.execute_reply": "2023-04-10T19:43:55.771355Z",
     "shell.execute_reply.started": "2023-04-10T19:43:55.720493Z"
    }
   },
   "outputs": [
    {
     "name": "stdout",
     "output_type": "stream",
     "text": [
      "Input rtype=('list', 'str') shape=(4,)\n",
      "rotated=False Output rtype=('DataFrame', 'Series') shape=(1, 4)\n"
     ]
    },
    {
     "data": {
      "text/html": [
       "<div>\n",
       "<style scoped>\n",
       "    .dataframe tbody tr th:only-of-type {\n",
       "        vertical-align: middle;\n",
       "    }\n",
       "\n",
       "    .dataframe tbody tr th {\n",
       "        vertical-align: top;\n",
       "    }\n",
       "\n",
       "    .dataframe thead th {\n",
       "        text-align: right;\n",
       "    }\n",
       "</style>\n",
       "<table border=\"1\" class=\"dataframe\">\n",
       "  <thead>\n",
       "    <tr style=\"text-align: right;\">\n",
       "      <th></th>\n",
       "      <th>A</th>\n",
       "      <th>B</th>\n",
       "      <th>C</th>\n",
       "      <th>D</th>\n",
       "    </tr>\n",
       "  </thead>\n",
       "  <tbody>\n",
       "    <tr>\n",
       "      <th>0</th>\n",
       "      <td>abcde</td>\n",
       "      <td>grfer</td>\n",
       "      <td>btjqw</td>\n",
       "      <td>bqwer</td>\n",
       "    </tr>\n",
       "  </tbody>\n",
       "</table>\n",
       "</div>"
      ],
      "text/plain": [
       "       A      B      C      D\n",
       "0  abcde  grfer  btjqw  bqwer"
      ]
     },
     "execution_count": 20,
     "metadata": {},
     "output_type": "execute_result"
    }
   ],
   "source": [
    "# 1 dimension: 1 row\n",
    "inp = [ 'abcde', 'grfer', 'btjqw', 'bqwer' ]\n",
    "out = pak.dataframe(inp, test=True) \n",
    "out"
   ]
  },
  {
   "cell_type": "code",
   "execution_count": 21,
   "metadata": {
    "execution": {
     "iopub.execute_input": "2023-04-10T19:43:55.774199Z",
     "iopub.status.busy": "2023-04-10T19:43:55.773586Z",
     "iopub.status.idle": "2023-04-10T19:43:55.850672Z",
     "shell.execute_reply": "2023-04-10T19:43:55.849979Z",
     "shell.execute_reply.started": "2023-04-10T19:43:55.774174Z"
    }
   },
   "outputs": [
    {
     "name": "stdout",
     "output_type": "stream",
     "text": [
      "Input rtype=('tuple', 'str') shape=(4,)\n",
      "rotated=True Output rtype=('DataFrame', 'Series') shape=(1, 4)\n"
     ]
    },
    {
     "data": {
      "text/html": [
       "<div>\n",
       "<style scoped>\n",
       "    .dataframe tbody tr th:only-of-type {\n",
       "        vertical-align: middle;\n",
       "    }\n",
       "\n",
       "    .dataframe tbody tr th {\n",
       "        vertical-align: top;\n",
       "    }\n",
       "\n",
       "    .dataframe thead th {\n",
       "        text-align: right;\n",
       "    }\n",
       "</style>\n",
       "<table border=\"1\" class=\"dataframe\">\n",
       "  <thead>\n",
       "    <tr style=\"text-align: right;\">\n",
       "      <th></th>\n",
       "      <th>A</th>\n",
       "      <th>B</th>\n",
       "      <th>C</th>\n",
       "      <th>D</th>\n",
       "    </tr>\n",
       "  </thead>\n",
       "  <tbody>\n",
       "    <tr>\n",
       "      <th>0</th>\n",
       "      <td>abcde</td>\n",
       "      <td>grfer</td>\n",
       "      <td>btjqw</td>\n",
       "      <td>bqwer</td>\n",
       "    </tr>\n",
       "  </tbody>\n",
       "</table>\n",
       "</div>"
      ],
      "text/plain": [
       "       A      B      C      D\n",
       "0  abcde  grfer  btjqw  bqwer"
      ]
     },
     "execution_count": 21,
     "metadata": {},
     "output_type": "execute_result"
    }
   ],
   "source": [
    "# 1 dimension: 1 row\n",
    "inp = ( 'abcde', 'grfer', 'btjqw', 'bqwer' )\n",
    "out = pak.dataframe(inp, test=True) \n",
    "out"
   ]
  },
  {
   "cell_type": "code",
   "execution_count": 22,
   "metadata": {
    "execution": {
     "iopub.execute_input": "2023-04-10T19:43:55.853576Z",
     "iopub.status.busy": "2023-04-10T19:43:55.852688Z",
     "iopub.status.idle": "2023-04-10T19:43:55.902672Z",
     "shell.execute_reply": "2023-04-10T19:43:55.901969Z",
     "shell.execute_reply.started": "2023-04-10T19:43:55.853546Z"
    }
   },
   "outputs": [
    {
     "name": "stdout",
     "output_type": "stream",
     "text": [
      "Input rtype=('dict', 'int') shape=(3,)\n",
      "rotated=True Output rtype=('DataFrame', 'Series') shape=(1, 3)\n"
     ]
    },
    {
     "data": {
      "text/html": [
       "<div>\n",
       "<style scoped>\n",
       "    .dataframe tbody tr th:only-of-type {\n",
       "        vertical-align: middle;\n",
       "    }\n",
       "\n",
       "    .dataframe tbody tr th {\n",
       "        vertical-align: top;\n",
       "    }\n",
       "\n",
       "    .dataframe thead th {\n",
       "        text-align: right;\n",
       "    }\n",
       "</style>\n",
       "<table border=\"1\" class=\"dataframe\">\n",
       "  <thead>\n",
       "    <tr style=\"text-align: right;\">\n",
       "      <th></th>\n",
       "      <th>AA</th>\n",
       "      <th>BB</th>\n",
       "      <th>CC</th>\n",
       "    </tr>\n",
       "  </thead>\n",
       "  <tbody>\n",
       "    <tr>\n",
       "      <th>0</th>\n",
       "      <td>1</td>\n",
       "      <td>2</td>\n",
       "      <td>3</td>\n",
       "    </tr>\n",
       "  </tbody>\n",
       "</table>\n",
       "</div>"
      ],
      "text/plain": [
       "   AA  BB  CC\n",
       "0   1   2   3"
      ]
     },
     "execution_count": 22,
     "metadata": {},
     "output_type": "execute_result"
    }
   ],
   "source": [
    "# 1 dimension: 1 row\n",
    "inp = {'AA': 1,\n",
    "       'BB': 2,\n",
    "       'CC': 3, }\n",
    "\n",
    "out = pak.dataframe(inp, test=True)\n",
    "out"
   ]
  },
  {
   "cell_type": "markdown",
   "metadata": {},
   "source": [
    "### autotranspose"
   ]
  },
  {
   "cell_type": "code",
   "execution_count": 23,
   "metadata": {
    "execution": {
     "iopub.execute_input": "2023-04-10T19:43:55.904240Z",
     "iopub.status.busy": "2023-04-10T19:43:55.903716Z",
     "iopub.status.idle": "2023-04-10T19:43:55.966053Z",
     "shell.execute_reply": "2023-04-10T19:43:55.964807Z",
     "shell.execute_reply.started": "2023-04-10T19:43:55.904216Z"
    }
   },
   "outputs": [
    {
     "data": {
      "text/html": [
       "<div>\n",
       "<style scoped>\n",
       "    .dataframe tbody tr th:only-of-type {\n",
       "        vertical-align: middle;\n",
       "    }\n",
       "\n",
       "    .dataframe tbody tr th {\n",
       "        vertical-align: top;\n",
       "    }\n",
       "\n",
       "    .dataframe thead th {\n",
       "        text-align: right;\n",
       "    }\n",
       "</style>\n",
       "<table border=\"1\" class=\"dataframe\">\n",
       "  <thead>\n",
       "    <tr style=\"text-align: right;\">\n",
       "      <th></th>\n",
       "      <th>0</th>\n",
       "    </tr>\n",
       "  </thead>\n",
       "  <tbody>\n",
       "    <tr>\n",
       "      <th>0</th>\n",
       "      <td>0</td>\n",
       "    </tr>\n",
       "    <tr>\n",
       "      <th>1</th>\n",
       "      <td>1</td>\n",
       "    </tr>\n",
       "    <tr>\n",
       "      <th>2</th>\n",
       "      <td>2</td>\n",
       "    </tr>\n",
       "    <tr>\n",
       "      <th>3</th>\n",
       "      <td>3</td>\n",
       "    </tr>\n",
       "    <tr>\n",
       "      <th>4</th>\n",
       "      <td>4</td>\n",
       "    </tr>\n",
       "    <tr>\n",
       "      <th>...</th>\n",
       "      <td>...</td>\n",
       "    </tr>\n",
       "    <tr>\n",
       "      <th>95</th>\n",
       "      <td>95</td>\n",
       "    </tr>\n",
       "    <tr>\n",
       "      <th>96</th>\n",
       "      <td>96</td>\n",
       "    </tr>\n",
       "    <tr>\n",
       "      <th>97</th>\n",
       "      <td>97</td>\n",
       "    </tr>\n",
       "    <tr>\n",
       "      <th>98</th>\n",
       "      <td>98</td>\n",
       "    </tr>\n",
       "    <tr>\n",
       "      <th>99</th>\n",
       "      <td>99</td>\n",
       "    </tr>\n",
       "  </tbody>\n",
       "</table>\n",
       "<p>100 rows × 1 columns</p>\n",
       "</div>"
      ],
      "text/plain": [
       "     0\n",
       "0    0\n",
       "1    1\n",
       "2    2\n",
       "3    3\n",
       "4    4\n",
       "..  ..\n",
       "95  95\n",
       "96  96\n",
       "97  97\n",
       "98  98\n",
       "99  99\n",
       "\n",
       "[100 rows x 1 columns]"
      ]
     },
     "execution_count": 23,
     "metadata": {},
     "output_type": "execute_result"
    }
   ],
   "source": [
    "# autotranspose=False: A long list becomes one broad row\n",
    "inp = pd.Series(range(100))\n",
    "out = pak.dataframe(inp, test=True)\n",
    "out"
   ]
  },
  {
   "cell_type": "code",
   "execution_count": 24,
   "metadata": {
    "execution": {
     "iopub.execute_input": "2023-04-10T19:43:55.970769Z",
     "iopub.status.busy": "2023-04-10T19:43:55.970070Z",
     "iopub.status.idle": "2023-04-10T19:43:56.009296Z",
     "shell.execute_reply": "2023-04-10T19:43:56.008533Z",
     "shell.execute_reply.started": "2023-04-10T19:43:55.970709Z"
    }
   },
   "outputs": [
    {
     "data": {
      "text/html": [
       "<div>\n",
       "<style scoped>\n",
       "    .dataframe tbody tr th:only-of-type {\n",
       "        vertical-align: middle;\n",
       "    }\n",
       "\n",
       "    .dataframe tbody tr th {\n",
       "        vertical-align: top;\n",
       "    }\n",
       "\n",
       "    .dataframe thead th {\n",
       "        text-align: right;\n",
       "    }\n",
       "</style>\n",
       "<table border=\"1\" class=\"dataframe\">\n",
       "  <thead>\n",
       "    <tr style=\"text-align: right;\">\n",
       "      <th></th>\n",
       "      <th>0</th>\n",
       "    </tr>\n",
       "  </thead>\n",
       "  <tbody>\n",
       "    <tr>\n",
       "      <th>0</th>\n",
       "      <td>0</td>\n",
       "    </tr>\n",
       "    <tr>\n",
       "      <th>1</th>\n",
       "      <td>1</td>\n",
       "    </tr>\n",
       "    <tr>\n",
       "      <th>2</th>\n",
       "      <td>2</td>\n",
       "    </tr>\n",
       "    <tr>\n",
       "      <th>3</th>\n",
       "      <td>3</td>\n",
       "    </tr>\n",
       "    <tr>\n",
       "      <th>4</th>\n",
       "      <td>4</td>\n",
       "    </tr>\n",
       "    <tr>\n",
       "      <th>...</th>\n",
       "      <td>...</td>\n",
       "    </tr>\n",
       "    <tr>\n",
       "      <th>95</th>\n",
       "      <td>95</td>\n",
       "    </tr>\n",
       "    <tr>\n",
       "      <th>96</th>\n",
       "      <td>96</td>\n",
       "    </tr>\n",
       "    <tr>\n",
       "      <th>97</th>\n",
       "      <td>97</td>\n",
       "    </tr>\n",
       "    <tr>\n",
       "      <th>98</th>\n",
       "      <td>98</td>\n",
       "    </tr>\n",
       "    <tr>\n",
       "      <th>99</th>\n",
       "      <td>99</td>\n",
       "    </tr>\n",
       "  </tbody>\n",
       "</table>\n",
       "<p>100 rows × 1 columns</p>\n",
       "</div>"
      ],
      "text/plain": [
       "     0\n",
       "0    0\n",
       "1    1\n",
       "2    2\n",
       "3    3\n",
       "4    4\n",
       "..  ..\n",
       "95  95\n",
       "96  96\n",
       "97  97\n",
       "98  98\n",
       "99  99\n",
       "\n",
       "[100 rows x 1 columns]"
      ]
     },
     "execution_count": 24,
     "metadata": {},
     "output_type": "execute_result"
    }
   ],
   "source": [
    "# autotranspose=2: If the result is 2 times wider than long, it is transposed.\n",
    "inp = pd.Series(range(100))\n",
    "out = pak.dataframe(inp, test=True, autotranspose=2)\n",
    "out"
   ]
  },
  {
   "cell_type": "markdown",
   "metadata": {},
   "source": [
    "### Create DataFrame from Counter"
   ]
  },
  {
   "cell_type": "code",
   "execution_count": 25,
   "metadata": {
    "execution": {
     "iopub.execute_input": "2023-04-10T19:43:56.014942Z",
     "iopub.status.busy": "2023-04-10T19:43:56.012815Z",
     "iopub.status.idle": "2023-04-10T19:43:56.051537Z",
     "shell.execute_reply": "2023-04-10T19:43:56.050511Z",
     "shell.execute_reply.started": "2023-04-10T19:43:56.014903Z"
    }
   },
   "outputs": [
    {
     "data": {
      "text/plain": [
       "[('e', 71),\n",
       " (' ', 68),\n",
       " ('t', 32),\n",
       " ('n', 31),\n",
       " ('i', 25),\n",
       " ('r', 22),\n",
       " ('h', 19),\n",
       " ('s', 19),\n",
       " ('d', 17),\n",
       " ('a', 14),\n",
       " ('l', 13),\n",
       " ('u', 13),\n",
       " ('c', 10),\n",
       " ('b', 10),\n",
       " ('o', 8),\n",
       " ('m', 7),\n",
       " ('g', 7),\n",
       " ('w', 5),\n",
       " (',', 4),\n",
       " ('z', 4),\n",
       " ('G', 3),\n",
       " ('ü', 3),\n",
       " ('.', 2),\n",
       " ('D', 2),\n",
       " ('f', 2),\n",
       " ('H', 2),\n",
       " ('v', 2),\n",
       " ('?', 2),\n",
       " ('E', 1),\n",
       " ('ö', 1),\n",
       " ('S', 1),\n",
       " ('W', 1),\n",
       " ('p', 1),\n",
       " ('ä', 1),\n",
       " ('N', 1),\n",
       " ('j', 1),\n",
       " ('L', 1),\n",
       " ('B', 1),\n",
       " ('!', 1),\n",
       " ('K', 1),\n",
       " ('I', 1),\n",
       " ('F', 1),\n",
       " ('A', 1)]"
      ]
     },
     "execution_count": 25,
     "metadata": {},
     "output_type": "execute_result"
    }
   ],
   "source": [
    "from collections import Counter\n",
    "glob_counter = Counter()\n",
    "text = 'Er hörte leise Schritte hinter sich. Das bedeutete nichts Gutes. Wer würde ihm schon folgen, spät in der Nacht und dazu noch in dieser engen Gasse mitten im übel beleumundeten Hafenviertel? Gerade jetzt, wo er das Ding seines Lebens gedreht hatte und mit der Beute verschwinden wollte! Hatte einer seiner zahllosen Kollegen dieselbe Idee gehabt, ihn beobachtet und abgewartet, um ihn nun um die Früchte seiner Arbeit zu erleichtern?'\n",
    "counts=Counter(text) # \n",
    "glob_counter.update(counts)   \n",
    "glob_counter.most_common()"
   ]
  },
  {
   "cell_type": "code",
   "execution_count": 26,
   "metadata": {
    "execution": {
     "iopub.execute_input": "2023-04-10T19:43:56.060390Z",
     "iopub.status.busy": "2023-04-10T19:43:56.056858Z",
     "iopub.status.idle": "2023-04-10T19:43:56.096159Z",
     "shell.execute_reply": "2023-04-10T19:43:56.095483Z",
     "shell.execute_reply.started": "2023-04-10T19:43:56.060352Z"
    }
   },
   "outputs": [
    {
     "name": "stdout",
     "output_type": "stream",
     "text": [
      "Input rtype=('list', 'tuple', 'str') shape=(43, 2)\n",
      "rotated=False Output rtype=('DataFrame', 'Series') shape=(43, 2)\n"
     ]
    },
    {
     "data": {
      "text/html": [
       "<div>\n",
       "<style scoped>\n",
       "    .dataframe tbody tr th:only-of-type {\n",
       "        vertical-align: middle;\n",
       "    }\n",
       "\n",
       "    .dataframe tbody tr th {\n",
       "        vertical-align: top;\n",
       "    }\n",
       "\n",
       "    .dataframe thead th {\n",
       "        text-align: right;\n",
       "    }\n",
       "</style>\n",
       "<table border=\"1\" class=\"dataframe\">\n",
       "  <thead>\n",
       "    <tr style=\"text-align: right;\">\n",
       "      <th></th>\n",
       "      <th>A</th>\n",
       "      <th>B</th>\n",
       "    </tr>\n",
       "  </thead>\n",
       "  <tbody>\n",
       "    <tr>\n",
       "      <th>0</th>\n",
       "      <td>e</td>\n",
       "      <td>71</td>\n",
       "    </tr>\n",
       "    <tr>\n",
       "      <th>1</th>\n",
       "      <td></td>\n",
       "      <td>68</td>\n",
       "    </tr>\n",
       "    <tr>\n",
       "      <th>2</th>\n",
       "      <td>t</td>\n",
       "      <td>32</td>\n",
       "    </tr>\n",
       "    <tr>\n",
       "      <th>3</th>\n",
       "      <td>n</td>\n",
       "      <td>31</td>\n",
       "    </tr>\n",
       "    <tr>\n",
       "      <th>4</th>\n",
       "      <td>i</td>\n",
       "      <td>25</td>\n",
       "    </tr>\n",
       "    <tr>\n",
       "      <th>5</th>\n",
       "      <td>r</td>\n",
       "      <td>22</td>\n",
       "    </tr>\n",
       "    <tr>\n",
       "      <th>6</th>\n",
       "      <td>h</td>\n",
       "      <td>19</td>\n",
       "    </tr>\n",
       "    <tr>\n",
       "      <th>7</th>\n",
       "      <td>s</td>\n",
       "      <td>19</td>\n",
       "    </tr>\n",
       "    <tr>\n",
       "      <th>8</th>\n",
       "      <td>d</td>\n",
       "      <td>17</td>\n",
       "    </tr>\n",
       "    <tr>\n",
       "      <th>9</th>\n",
       "      <td>a</td>\n",
       "      <td>14</td>\n",
       "    </tr>\n",
       "    <tr>\n",
       "      <th>10</th>\n",
       "      <td>l</td>\n",
       "      <td>13</td>\n",
       "    </tr>\n",
       "    <tr>\n",
       "      <th>11</th>\n",
       "      <td>u</td>\n",
       "      <td>13</td>\n",
       "    </tr>\n",
       "    <tr>\n",
       "      <th>12</th>\n",
       "      <td>c</td>\n",
       "      <td>10</td>\n",
       "    </tr>\n",
       "    <tr>\n",
       "      <th>13</th>\n",
       "      <td>b</td>\n",
       "      <td>10</td>\n",
       "    </tr>\n",
       "    <tr>\n",
       "      <th>14</th>\n",
       "      <td>o</td>\n",
       "      <td>8</td>\n",
       "    </tr>\n",
       "    <tr>\n",
       "      <th>15</th>\n",
       "      <td>m</td>\n",
       "      <td>7</td>\n",
       "    </tr>\n",
       "    <tr>\n",
       "      <th>16</th>\n",
       "      <td>g</td>\n",
       "      <td>7</td>\n",
       "    </tr>\n",
       "    <tr>\n",
       "      <th>17</th>\n",
       "      <td>w</td>\n",
       "      <td>5</td>\n",
       "    </tr>\n",
       "    <tr>\n",
       "      <th>18</th>\n",
       "      <td>,</td>\n",
       "      <td>4</td>\n",
       "    </tr>\n",
       "    <tr>\n",
       "      <th>19</th>\n",
       "      <td>z</td>\n",
       "      <td>4</td>\n",
       "    </tr>\n",
       "    <tr>\n",
       "      <th>20</th>\n",
       "      <td>G</td>\n",
       "      <td>3</td>\n",
       "    </tr>\n",
       "    <tr>\n",
       "      <th>21</th>\n",
       "      <td>ü</td>\n",
       "      <td>3</td>\n",
       "    </tr>\n",
       "    <tr>\n",
       "      <th>22</th>\n",
       "      <td>.</td>\n",
       "      <td>2</td>\n",
       "    </tr>\n",
       "    <tr>\n",
       "      <th>23</th>\n",
       "      <td>D</td>\n",
       "      <td>2</td>\n",
       "    </tr>\n",
       "    <tr>\n",
       "      <th>24</th>\n",
       "      <td>f</td>\n",
       "      <td>2</td>\n",
       "    </tr>\n",
       "    <tr>\n",
       "      <th>25</th>\n",
       "      <td>H</td>\n",
       "      <td>2</td>\n",
       "    </tr>\n",
       "    <tr>\n",
       "      <th>26</th>\n",
       "      <td>v</td>\n",
       "      <td>2</td>\n",
       "    </tr>\n",
       "    <tr>\n",
       "      <th>27</th>\n",
       "      <td>?</td>\n",
       "      <td>2</td>\n",
       "    </tr>\n",
       "    <tr>\n",
       "      <th>28</th>\n",
       "      <td>E</td>\n",
       "      <td>1</td>\n",
       "    </tr>\n",
       "    <tr>\n",
       "      <th>29</th>\n",
       "      <td>ö</td>\n",
       "      <td>1</td>\n",
       "    </tr>\n",
       "    <tr>\n",
       "      <th>30</th>\n",
       "      <td>S</td>\n",
       "      <td>1</td>\n",
       "    </tr>\n",
       "    <tr>\n",
       "      <th>31</th>\n",
       "      <td>W</td>\n",
       "      <td>1</td>\n",
       "    </tr>\n",
       "    <tr>\n",
       "      <th>32</th>\n",
       "      <td>p</td>\n",
       "      <td>1</td>\n",
       "    </tr>\n",
       "    <tr>\n",
       "      <th>33</th>\n",
       "      <td>ä</td>\n",
       "      <td>1</td>\n",
       "    </tr>\n",
       "    <tr>\n",
       "      <th>34</th>\n",
       "      <td>N</td>\n",
       "      <td>1</td>\n",
       "    </tr>\n",
       "    <tr>\n",
       "      <th>35</th>\n",
       "      <td>j</td>\n",
       "      <td>1</td>\n",
       "    </tr>\n",
       "    <tr>\n",
       "      <th>36</th>\n",
       "      <td>L</td>\n",
       "      <td>1</td>\n",
       "    </tr>\n",
       "    <tr>\n",
       "      <th>37</th>\n",
       "      <td>B</td>\n",
       "      <td>1</td>\n",
       "    </tr>\n",
       "    <tr>\n",
       "      <th>38</th>\n",
       "      <td>!</td>\n",
       "      <td>1</td>\n",
       "    </tr>\n",
       "    <tr>\n",
       "      <th>39</th>\n",
       "      <td>K</td>\n",
       "      <td>1</td>\n",
       "    </tr>\n",
       "    <tr>\n",
       "      <th>40</th>\n",
       "      <td>I</td>\n",
       "      <td>1</td>\n",
       "    </tr>\n",
       "    <tr>\n",
       "      <th>41</th>\n",
       "      <td>F</td>\n",
       "      <td>1</td>\n",
       "    </tr>\n",
       "    <tr>\n",
       "      <th>42</th>\n",
       "      <td>A</td>\n",
       "      <td>1</td>\n",
       "    </tr>\n",
       "  </tbody>\n",
       "</table>\n",
       "</div>"
      ],
      "text/plain": [
       "    A   B\n",
       "0   e  71\n",
       "1      68\n",
       "2   t  32\n",
       "3   n  31\n",
       "4   i  25\n",
       "5   r  22\n",
       "6   h  19\n",
       "7   s  19\n",
       "8   d  17\n",
       "9   a  14\n",
       "10  l  13\n",
       "11  u  13\n",
       "12  c  10\n",
       "13  b  10\n",
       "14  o   8\n",
       "15  m   7\n",
       "16  g   7\n",
       "17  w   5\n",
       "18  ,   4\n",
       "19  z   4\n",
       "20  G   3\n",
       "21  ü   3\n",
       "22  .   2\n",
       "23  D   2\n",
       "24  f   2\n",
       "25  H   2\n",
       "26  v   2\n",
       "27  ?   2\n",
       "28  E   1\n",
       "29  ö   1\n",
       "30  S   1\n",
       "31  W   1\n",
       "32  p   1\n",
       "33  ä   1\n",
       "34  N   1\n",
       "35  j   1\n",
       "36  L   1\n",
       "37  B   1\n",
       "38  !   1\n",
       "39  K   1\n",
       "40  I   1\n",
       "41  F   1\n",
       "42  A   1"
      ]
     },
     "execution_count": 26,
     "metadata": {},
     "output_type": "execute_result"
    }
   ],
   "source": [
    "pak.dataframe(glob_counter.most_common())"
   ]
  },
  {
   "cell_type": "code",
   "execution_count": null,
   "metadata": {},
   "outputs": [],
   "source": []
  }
 ],
 "metadata": {
  "kernelspec": {
   "display_name": "Python 3 (ipykernel)",
   "language": "python",
   "name": "python3"
  },
  "language_info": {
   "codemirror_mode": {
    "name": "ipython",
    "version": 3
   },
   "file_extension": ".py",
   "mimetype": "text/x-python",
   "name": "python",
   "nbconvert_exporter": "python",
   "pygments_lexer": "ipython3",
   "version": "3.9.13"
  }
 },
 "nbformat": 4,
 "nbformat_minor": 4
}
