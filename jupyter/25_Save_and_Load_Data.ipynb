{
 "cells": [
  {
   "cell_type": "markdown",
   "metadata": {},
   "source": [
    "__[Open and try this file online (Colab)](https://colab.research.google.com/github/djekra/pandasklar/blob/master/jupyter/25_Save_and_Load_Data.ipynb)__"
   ]
  },
  {
   "cell_type": "markdown",
   "metadata": {},
   "source": [
    "# Save and load data\n",
    "* `dump_pickle`: Convenient function to save a DataFrame to a pickle file. Optional optimisation of datatypes. Verbose if wanted.\n",
    "* `load_pickle`: Convenient function to load a DataFrame from pickle file. Optional optimisation of datatypes. Verbose if wanted.\n",
    "* `dump_excel`: Writes a dataframe into an xlsx file for Excel or Calc.<br>\n",
    "   The tabcol-feature groups by a specific column and creates a tab for every group.\n",
    "* `load_excel`: Loads a dataframe from an xlsx file (Excel or Calc).<br>\n",
    "   The tabcol-feature writes all tabs in a column of the result."
   ]
  },
  {
   "cell_type": "code",
   "execution_count": 1,
   "metadata": {
    "execution": {
     "iopub.execute_input": "2023-04-10T19:44:20.923692Z",
     "iopub.status.busy": "2023-04-10T19:44:20.916004Z",
     "iopub.status.idle": "2023-04-10T19:44:21.815546Z",
     "shell.execute_reply": "2023-04-10T19:44:21.814921Z",
     "shell.execute_reply.started": "2023-04-10T19:44:20.923589Z"
    }
   },
   "outputs": [
    {
     "name": "stdout",
     "output_type": "stream",
     "text": [
      "blab init\n",
      "environment['in_colab']     = False\n",
      "environment['dropbox_path'] = /home/me/Data_Linux/Dropbox\n",
      "environment['lib_path']     = /home/me/Data_Linux/Dropbox/31_Projekte/01_Python/libs\n",
      "Start Time: 21:44:21\n"
     ]
    },
    {
     "data": {
      "text/html": [
       "<img src onerror=\"var cell = this.closest('.jp-CodeCell');var editor = cell.querySelector('.jp-Editor');editor.style.background='Beige';this.parentNode.removeChild(this)\">"
      ],
      "text/plain": [
       "<IPython.core.display.HTML object>"
      ]
     },
     "metadata": {},
     "output_type": "display_data"
    }
   ],
   "source": [
    "# blab init\n",
    "try:\n",
    "    import blab\n",
    "except ImportError as e:\n",
    "    !pip install blab\n",
    "    import blab    \n",
    "startup_notebook = blab.blab_startup()\n",
    "%run $startup_notebook "
   ]
  },
  {
   "cell_type": "code",
   "execution_count": 2,
   "metadata": {
    "execution": {
     "iopub.execute_input": "2023-04-10T19:44:21.817458Z",
     "iopub.status.busy": "2023-04-10T19:44:21.817096Z",
     "iopub.status.idle": "2023-04-10T19:44:23.407810Z",
     "shell.execute_reply": "2023-04-10T19:44:23.406918Z",
     "shell.execute_reply.started": "2023-04-10T19:44:21.817430Z"
    }
   },
   "outputs": [
    {
     "name": "stdout",
     "output_type": "stream",
     "text": [
      "VERBOSE = True\n",
      "--> setting verbose=True as default for all pandasklar functions\n",
      "\n"
     ]
    }
   ],
   "source": [
    "import pandas     as pd \n",
    "import bpyth      as bpy\n",
    "\n",
    "# pandasklar\n",
    "try:\n",
    "    import pandasklar as pak \n",
    "except ImportError as e:\n",
    "    !pip install pandasklar\n",
    "    import pandasklar as pak   \n",
    "    \n",
    "# verbose\n",
    "pak.Config.set('VERBOSE', True)\n",
    "\n",
    "# copy_on_write\n",
    "pd.set_option(\"mode.copy_on_write\", True)"
   ]
  },
  {
   "cell_type": "code",
   "execution_count": 3,
   "metadata": {
    "execution": {
     "iopub.execute_input": "2023-04-10T19:44:23.412787Z",
     "iopub.status.busy": "2023-04-10T19:44:23.412141Z",
     "iopub.status.idle": "2023-04-10T19:44:23.455180Z",
     "shell.execute_reply": "2023-04-10T19:44:23.454137Z",
     "shell.execute_reply.started": "2023-04-10T19:44:23.412755Z"
    }
   },
   "outputs": [],
   "source": [
    "# download directory 'data' if neccessary\n",
    "import os\n",
    "if not os.path.exists('data'):\n",
    "   !git clone https://github.com/djekra/pandasklar.git\n",
    "   !cp -r pandasklar/jupyter/data data\n",
    "   !rm -r pandasklar"
   ]
  },
  {
   "cell_type": "markdown",
   "metadata": {},
   "source": [
    "## bpyths dump_pickle() and load_pickle()"
   ]
  },
  {
   "cell_type": "code",
   "execution_count": 4,
   "metadata": {
    "execution": {
     "iopub.execute_input": "2023-04-10T19:44:23.461379Z",
     "iopub.status.busy": "2023-04-10T19:44:23.460482Z",
     "iopub.status.idle": "2023-04-10T19:44:23.556314Z",
     "shell.execute_reply": "2023-04-10T19:44:23.555472Z",
     "shell.execute_reply.started": "2023-04-10T19:44:23.461317Z"
    }
   },
   "outputs": [],
   "source": [
    "# Create test data\n",
    "df0 = pak.people()\n",
    "df0['age']        = df0['age'].astype('int64')\n",
    "df0['first_name'] = df0['first_name'].astype('object')\n",
    "#df0"
   ]
  },
  {
   "cell_type": "code",
   "execution_count": 5,
   "metadata": {
    "execution": {
     "iopub.execute_input": "2023-04-10T19:44:23.558713Z",
     "iopub.status.busy": "2023-04-10T19:44:23.557952Z",
     "iopub.status.idle": "2023-04-10T19:44:23.608407Z",
     "shell.execute_reply": "2023-04-10T19:44:23.607817Z",
     "shell.execute_reply.started": "2023-04-10T19:44:23.558681Z"
    }
   },
   "outputs": [],
   "source": [
    "# write test data to disk\n",
    "bpy.dump_pickle(df0,'data/df0.pickle')"
   ]
  },
  {
   "cell_type": "code",
   "execution_count": 6,
   "metadata": {
    "execution": {
     "iopub.execute_input": "2023-04-10T19:44:23.610390Z",
     "iopub.status.busy": "2023-04-10T19:44:23.610117Z",
     "iopub.status.idle": "2023-04-10T19:44:23.642286Z",
     "shell.execute_reply": "2023-04-10T19:44:23.641269Z",
     "shell.execute_reply.started": "2023-04-10T19:44:23.610364Z"
    }
   },
   "outputs": [],
   "source": [
    "# load again\n",
    "df1 = bpy.load_pickle('data/df0.pickle')"
   ]
  },
  {
   "cell_type": "code",
   "execution_count": 7,
   "metadata": {
    "execution": {
     "iopub.execute_input": "2023-04-10T19:44:23.645387Z",
     "iopub.status.busy": "2023-04-10T19:44:23.643807Z",
     "iopub.status.idle": "2023-04-10T19:44:23.727166Z",
     "shell.execute_reply": "2023-04-10T19:44:23.726375Z",
     "shell.execute_reply.started": "2023-04-10T19:44:23.645328Z"
    }
   },
   "outputs": [
    {
     "data": {
      "text/html": [
       "<div>\n",
       "<style scoped>\n",
       "    .dataframe tbody tr th:only-of-type {\n",
       "        vertical-align: middle;\n",
       "    }\n",
       "\n",
       "    .dataframe tbody tr th {\n",
       "        vertical-align: top;\n",
       "    }\n",
       "\n",
       "    .dataframe thead th {\n",
       "        text-align: right;\n",
       "    }\n",
       "</style>\n",
       "<table border=\"1\" class=\"dataframe\">\n",
       "  <thead>\n",
       "    <tr style=\"text-align: right;\">\n",
       "      <th></th>\n",
       "      <th>name</th>\n",
       "      <th>dtype</th>\n",
       "      <th>nnan</th>\n",
       "      <th>content</th>\n",
       "      <th>sort</th>\n",
       "      <th>eq</th>\n",
       "    </tr>\n",
       "  </thead>\n",
       "  <tbody>\n",
       "    <tr>\n",
       "      <th>first_name</th>\n",
       "      <td>True</td>\n",
       "      <td>True</td>\n",
       "      <td>True</td>\n",
       "      <td>True</td>\n",
       "      <td>True</td>\n",
       "      <td>True</td>\n",
       "    </tr>\n",
       "    <tr>\n",
       "      <th>age</th>\n",
       "      <td>True</td>\n",
       "      <td>True</td>\n",
       "      <td>True</td>\n",
       "      <td>True</td>\n",
       "      <td>True</td>\n",
       "      <td>True</td>\n",
       "    </tr>\n",
       "    <tr>\n",
       "      <th>age_class</th>\n",
       "      <td>True</td>\n",
       "      <td>True</td>\n",
       "      <td>True</td>\n",
       "      <td>True</td>\n",
       "      <td>True</td>\n",
       "      <td>True</td>\n",
       "    </tr>\n",
       "    <tr>\n",
       "      <th>postal_code</th>\n",
       "      <td>True</td>\n",
       "      <td>True</td>\n",
       "      <td>True</td>\n",
       "      <td>True</td>\n",
       "      <td>True</td>\n",
       "      <td>True</td>\n",
       "    </tr>\n",
       "    <tr>\n",
       "      <th>birthplace</th>\n",
       "      <td>True</td>\n",
       "      <td>True</td>\n",
       "      <td>True</td>\n",
       "      <td>True</td>\n",
       "      <td>True</td>\n",
       "      <td>True</td>\n",
       "    </tr>\n",
       "    <tr>\n",
       "      <th>secret</th>\n",
       "      <td>True</td>\n",
       "      <td>True</td>\n",
       "      <td>True</td>\n",
       "      <td>True</td>\n",
       "      <td>True</td>\n",
       "      <td>True</td>\n",
       "    </tr>\n",
       "    <tr>\n",
       "      <th>features</th>\n",
       "      <td>True</td>\n",
       "      <td>True</td>\n",
       "      <td>True</td>\n",
       "      <td>True</td>\n",
       "      <td>True</td>\n",
       "      <td>True</td>\n",
       "    </tr>\n",
       "    <tr>\n",
       "      <th>history</th>\n",
       "      <td>True</td>\n",
       "      <td>True</td>\n",
       "      <td>True</td>\n",
       "      <td>True</td>\n",
       "      <td>True</td>\n",
       "      <td>True</td>\n",
       "    </tr>\n",
       "    <tr>\n",
       "      <th>(Total)</th>\n",
       "      <td>True</td>\n",
       "      <td>True</td>\n",
       "      <td>True</td>\n",
       "      <td>True</td>\n",
       "      <td>True</td>\n",
       "      <td>True</td>\n",
       "    </tr>\n",
       "  </tbody>\n",
       "</table>\n",
       "</div>"
      ],
      "text/plain": [
       "             name dtype  nnan content  sort    eq\n",
       "first_name   True  True  True    True  True  True\n",
       "age          True  True  True    True  True  True\n",
       "age_class    True  True  True    True  True  True\n",
       "postal_code  True  True  True    True  True  True\n",
       "birthplace   True  True  True    True  True  True\n",
       "secret       True  True  True    True  True  True\n",
       "features     True  True  True    True  True  True\n",
       "history      True  True  True    True  True  True\n",
       "(Total)      True  True  True    True  True  True"
      ]
     },
     "execution_count": 7,
     "metadata": {},
     "output_type": "execute_result"
    }
   ],
   "source": [
    "# compare: It's identical\n",
    "pak.compare_dataframes(df0, df1)"
   ]
  },
  {
   "cell_type": "markdown",
   "metadata": {},
   "source": [
    "## pandasklars dump_pickle() and load_pickle()"
   ]
  },
  {
   "cell_type": "code",
   "execution_count": 8,
   "metadata": {
    "execution": {
     "iopub.execute_input": "2023-04-10T19:44:23.728632Z",
     "iopub.status.busy": "2023-04-10T19:44:23.728192Z",
     "iopub.status.idle": "2023-04-10T19:44:23.820138Z",
     "shell.execute_reply": "2023-04-10T19:44:23.819024Z",
     "shell.execute_reply.started": "2023-04-10T19:44:23.728608Z"
    }
   },
   "outputs": [
    {
     "data": {
      "text/plain": [
       "\u001b[0;31mSignature:\u001b[0m\n",
       "\u001b[0mpak\u001b[0m\u001b[0;34m.\u001b[0m\u001b[0mload_pickle\u001b[0m\u001b[0;34m(\u001b[0m\u001b[0;34m\u001b[0m\n",
       "\u001b[0;34m\u001b[0m    \u001b[0mfilename\u001b[0m\u001b[0;34m,\u001b[0m\u001b[0;34m\u001b[0m\n",
       "\u001b[0;34m\u001b[0m    \u001b[0mresetindex\u001b[0m\u001b[0;34m=\u001b[0m\u001b[0;34m'AUTO'\u001b[0m\u001b[0;34m,\u001b[0m\u001b[0;34m\u001b[0m\n",
       "\u001b[0;34m\u001b[0m    \u001b[0mchangedatatype\u001b[0m\u001b[0;34m=\u001b[0m\u001b[0;32mFalse\u001b[0m\u001b[0;34m,\u001b[0m\u001b[0;34m\u001b[0m\n",
       "\u001b[0;34m\u001b[0m    \u001b[0mverbose\u001b[0m\u001b[0;34m=\u001b[0m\u001b[0;32mNone\u001b[0m\u001b[0;34m,\u001b[0m\u001b[0;34m\u001b[0m\n",
       "\u001b[0;34m\u001b[0m\u001b[0;34m)\u001b[0m\u001b[0;34m\u001b[0m\u001b[0;34m\u001b[0m\u001b[0m\n",
       "\u001b[0;31mDocstring:\u001b[0m\n",
       "Convenient function to load a DataFrame from pickle file.\n",
       "Optional optimisation of datatypes. Verbose if wanted.\n",
       "resetindex = True:    Force reset_index\n",
       "resetindex = False:   No reset_index    \n",
       "resetindex = 'Auto':  (Standard) Automatic     \n",
       "changedatatype:       Should the datatypes get optimized?\n",
       "verbose:              True if messages are wanted.\n",
       "\u001b[0;31mFile:\u001b[0m      ~/Data_Linux/Dropbox/31_Projekte/01_Python/git/pandasklar/src/pandasklar/analyse.py\n",
       "\u001b[0;31mType:\u001b[0m      function\n"
      ]
     },
     "metadata": {},
     "output_type": "display_data"
    }
   ],
   "source": [
    "?pak.load_pickle"
   ]
  },
  {
   "cell_type": "code",
   "execution_count": 9,
   "metadata": {
    "execution": {
     "iopub.execute_input": "2023-04-10T19:44:23.822149Z",
     "iopub.status.busy": "2023-04-10T19:44:23.821622Z",
     "iopub.status.idle": "2023-04-10T19:44:23.933816Z",
     "shell.execute_reply": "2023-04-10T19:44:23.932979Z",
     "shell.execute_reply.started": "2023-04-10T19:44:23.822124Z"
    }
   },
   "outputs": [],
   "source": [
    "# Create test data\n",
    "df0 = pak.people()\n",
    "df0['age']        = df0['age'].astype('int64')\n",
    "df0['first_name'] = df0['first_name'].astype('object')\n",
    "#df0"
   ]
  },
  {
   "cell_type": "code",
   "execution_count": 10,
   "metadata": {
    "execution": {
     "iopub.execute_input": "2023-04-10T19:44:23.938262Z",
     "iopub.status.busy": "2023-04-10T19:44:23.937531Z",
     "iopub.status.idle": "2023-04-10T19:44:23.994839Z",
     "shell.execute_reply": "2023-04-10T19:44:23.993935Z",
     "shell.execute_reply.started": "2023-04-10T19:44:23.938226Z"
    }
   },
   "outputs": [],
   "source": [
    "# write test data to disk\n",
    "pak.dump_pickle(df0,'data/df0.pickle')"
   ]
  },
  {
   "cell_type": "code",
   "execution_count": 11,
   "metadata": {
    "execution": {
     "iopub.execute_input": "2023-04-10T19:44:23.996491Z",
     "iopub.status.busy": "2023-04-10T19:44:23.996022Z",
     "iopub.status.idle": "2023-04-10T19:44:24.188997Z",
     "shell.execute_reply": "2023-04-10T19:44:24.188046Z",
     "shell.execute_reply.started": "2023-04-10T19:44:23.996468Z"
    }
   },
   "outputs": [
    {
     "name": "stdout",
     "output_type": "stream",
     "text": [
      "100 rows loaded\n"
     ]
    }
   ],
   "source": [
    "# load again\n",
    "df1 = pak.load_pickle('data/df0.pickle')"
   ]
  },
  {
   "cell_type": "code",
   "execution_count": 12,
   "metadata": {
    "execution": {
     "iopub.execute_input": "2023-04-10T19:44:24.193044Z",
     "iopub.status.busy": "2023-04-10T19:44:24.192715Z",
     "iopub.status.idle": "2023-04-10T19:44:24.260536Z",
     "shell.execute_reply": "2023-04-10T19:44:24.259887Z",
     "shell.execute_reply.started": "2023-04-10T19:44:24.193014Z"
    }
   },
   "outputs": [
    {
     "data": {
      "text/html": [
       "<div>\n",
       "<style scoped>\n",
       "    .dataframe tbody tr th:only-of-type {\n",
       "        vertical-align: middle;\n",
       "    }\n",
       "\n",
       "    .dataframe tbody tr th {\n",
       "        vertical-align: top;\n",
       "    }\n",
       "\n",
       "    .dataframe thead th {\n",
       "        text-align: right;\n",
       "    }\n",
       "</style>\n",
       "<table border=\"1\" class=\"dataframe\">\n",
       "  <thead>\n",
       "    <tr style=\"text-align: right;\">\n",
       "      <th></th>\n",
       "      <th>name</th>\n",
       "      <th>dtype</th>\n",
       "      <th>nnan</th>\n",
       "      <th>content</th>\n",
       "      <th>sort</th>\n",
       "      <th>eq</th>\n",
       "    </tr>\n",
       "  </thead>\n",
       "  <tbody>\n",
       "    <tr>\n",
       "      <th>first_name</th>\n",
       "      <td>True</td>\n",
       "      <td>False</td>\n",
       "      <td>True</td>\n",
       "      <td>True</td>\n",
       "      <td>True</td>\n",
       "      <td>True</td>\n",
       "    </tr>\n",
       "    <tr>\n",
       "      <th>age</th>\n",
       "      <td>True</td>\n",
       "      <td>False</td>\n",
       "      <td>True</td>\n",
       "      <td>True</td>\n",
       "      <td>True</td>\n",
       "      <td>True</td>\n",
       "    </tr>\n",
       "    <tr>\n",
       "      <th>age_class</th>\n",
       "      <td>True</td>\n",
       "      <td>True</td>\n",
       "      <td>True</td>\n",
       "      <td>True</td>\n",
       "      <td>True</td>\n",
       "      <td>True</td>\n",
       "    </tr>\n",
       "    <tr>\n",
       "      <th>postal_code</th>\n",
       "      <td>True</td>\n",
       "      <td>True</td>\n",
       "      <td>True</td>\n",
       "      <td>True</td>\n",
       "      <td>True</td>\n",
       "      <td>True</td>\n",
       "    </tr>\n",
       "    <tr>\n",
       "      <th>birthplace</th>\n",
       "      <td>True</td>\n",
       "      <td>True</td>\n",
       "      <td>True</td>\n",
       "      <td>True</td>\n",
       "      <td>True</td>\n",
       "      <td>True</td>\n",
       "    </tr>\n",
       "    <tr>\n",
       "      <th>secret</th>\n",
       "      <td>True</td>\n",
       "      <td>True</td>\n",
       "      <td>True</td>\n",
       "      <td>True</td>\n",
       "      <td>True</td>\n",
       "      <td>True</td>\n",
       "    </tr>\n",
       "    <tr>\n",
       "      <th>features</th>\n",
       "      <td>True</td>\n",
       "      <td>True</td>\n",
       "      <td>True</td>\n",
       "      <td>True</td>\n",
       "      <td>True</td>\n",
       "      <td>True</td>\n",
       "    </tr>\n",
       "    <tr>\n",
       "      <th>history</th>\n",
       "      <td>True</td>\n",
       "      <td>True</td>\n",
       "      <td>True</td>\n",
       "      <td>True</td>\n",
       "      <td>True</td>\n",
       "      <td>True</td>\n",
       "    </tr>\n",
       "    <tr>\n",
       "      <th>(Total)</th>\n",
       "      <td>True</td>\n",
       "      <td>False</td>\n",
       "      <td>True</td>\n",
       "      <td>True</td>\n",
       "      <td>True</td>\n",
       "      <td>True</td>\n",
       "    </tr>\n",
       "  </tbody>\n",
       "</table>\n",
       "</div>"
      ],
      "text/plain": [
       "             name  dtype  nnan content  sort    eq\n",
       "first_name   True  False  True    True  True  True\n",
       "age          True  False  True    True  True  True\n",
       "age_class    True   True  True    True  True  True\n",
       "postal_code  True   True  True    True  True  True\n",
       "birthplace   True   True  True    True  True  True\n",
       "secret       True   True  True    True  True  True\n",
       "features     True   True  True    True  True  True\n",
       "history      True   True  True    True  True  True\n",
       "(Total)      True  False  True    True  True  True"
      ]
     },
     "execution_count": 12,
     "metadata": {},
     "output_type": "execute_result"
    }
   ],
   "source": [
    "# compare: It's identical\n",
    "# but dtypes are different\n",
    "pak.compare_dataframes(df0, df1)"
   ]
  },
  {
   "cell_type": "markdown",
   "metadata": {},
   "source": [
    "## Excel"
   ]
  },
  {
   "cell_type": "code",
   "execution_count": 13,
   "metadata": {
    "execution": {
     "iopub.execute_input": "2023-04-10T19:44:24.261479Z",
     "iopub.status.busy": "2023-04-10T19:44:24.261214Z",
     "iopub.status.idle": "2023-04-10T19:44:24.298899Z",
     "shell.execute_reply": "2023-04-10T19:44:24.297946Z",
     "shell.execute_reply.started": "2023-04-10T19:44:24.261454Z"
    }
   },
   "outputs": [
    {
     "data": {
      "text/plain": [
       "\u001b[0;31mSignature:\u001b[0m\n",
       "\u001b[0mpak\u001b[0m\u001b[0;34m.\u001b[0m\u001b[0mdump_excel\u001b[0m\u001b[0;34m(\u001b[0m\u001b[0;34m\u001b[0m\n",
       "\u001b[0;34m\u001b[0m    \u001b[0mdf\u001b[0m\u001b[0;34m,\u001b[0m\u001b[0;34m\u001b[0m\n",
       "\u001b[0;34m\u001b[0m    \u001b[0mfilename\u001b[0m\u001b[0;34m,\u001b[0m\u001b[0;34m\u001b[0m\n",
       "\u001b[0;34m\u001b[0m    \u001b[0mfiletype\u001b[0m\u001b[0;34m=\u001b[0m\u001b[0;34m'xlsx'\u001b[0m\u001b[0;34m,\u001b[0m\u001b[0;34m\u001b[0m\n",
       "\u001b[0;34m\u001b[0m    \u001b[0mtabcol\u001b[0m\u001b[0;34m=\u001b[0m\u001b[0;34m''\u001b[0m\u001b[0;34m,\u001b[0m\u001b[0;34m\u001b[0m\n",
       "\u001b[0;34m\u001b[0m    \u001b[0mindex\u001b[0m\u001b[0;34m=\u001b[0m\u001b[0;32mFalse\u001b[0m\u001b[0;34m,\u001b[0m\u001b[0;34m\u001b[0m\n",
       "\u001b[0;34m\u001b[0m    \u001b[0mchangedatatype\u001b[0m\u001b[0;34m=\u001b[0m\u001b[0;32mTrue\u001b[0m\u001b[0;34m,\u001b[0m\u001b[0;34m\u001b[0m\n",
       "\u001b[0;34m\u001b[0m    \u001b[0mcheck\u001b[0m\u001b[0;34m=\u001b[0m\u001b[0;32mTrue\u001b[0m\u001b[0;34m,\u001b[0m\u001b[0;34m\u001b[0m\n",
       "\u001b[0;34m\u001b[0m    \u001b[0mverbose\u001b[0m\u001b[0;34m=\u001b[0m\u001b[0;32mNone\u001b[0m\u001b[0;34m,\u001b[0m\u001b[0;34m\u001b[0m\n",
       "\u001b[0;34m\u001b[0m\u001b[0;34m)\u001b[0m\u001b[0;34m\u001b[0m\u001b[0;34m\u001b[0m\u001b[0m\n",
       "\u001b[0;31mDocstring:\u001b[0m\n",
       "Writes a dataframe into an xlsx file for Excel or Calc.\n",
       "* tabcol:         Should the data get split into different Excel tabs using this column?\n",
       "* check:          Should the file be read in again and the result checked for identity?\n",
       "* changedatatype: Should the datatypes get adjusted automaticly?\n",
       "\u001b[0;31mFile:\u001b[0m      ~/Data_Linux/Dropbox/31_Projekte/01_Python/git/pandasklar/src/pandasklar/content.py\n",
       "\u001b[0;31mType:\u001b[0m      function\n"
      ]
     },
     "metadata": {},
     "output_type": "display_data"
    }
   ],
   "source": [
    "?pak.dump_excel"
   ]
  },
  {
   "cell_type": "code",
   "execution_count": 14,
   "metadata": {
    "execution": {
     "iopub.execute_input": "2023-04-10T19:44:24.300408Z",
     "iopub.status.busy": "2023-04-10T19:44:24.299827Z",
     "iopub.status.idle": "2023-04-10T19:44:24.409620Z",
     "shell.execute_reply": "2023-04-10T19:44:24.408693Z",
     "shell.execute_reply.started": "2023-04-10T19:44:24.300376Z"
    }
   },
   "outputs": [],
   "source": [
    "# Create test data\n",
    "df0 = pak.people()\n",
    "df0 = pak.drop_cols(df0, ['features','history'])\n",
    "df0['birthplace']  = df0.birthplace.fillna('Wien')\n",
    "df0['postal_code'] = df0.postal_code.fillna(0)\n",
    "df0['age']         = df0['age'].astype('int64')\n",
    "df0['static']     = 1\n",
    "#df0"
   ]
  },
  {
   "cell_type": "code",
   "execution_count": 15,
   "metadata": {
    "execution": {
     "iopub.execute_input": "2023-04-10T19:44:24.411383Z",
     "iopub.status.busy": "2023-04-10T19:44:24.410890Z",
     "iopub.status.idle": "2023-04-10T19:44:24.740638Z",
     "shell.execute_reply": "2023-04-10T19:44:24.739764Z",
     "shell.execute_reply.started": "2023-04-10T19:44:24.411355Z"
    }
   },
   "outputs": [
    {
     "name": "stdout",
     "output_type": "stream",
     "text": [
      "100 rows loaded\n"
     ]
    }
   ],
   "source": [
    "# write test data to disk\n",
    "pak.dump_excel(df0,'data/df0')"
   ]
  },
  {
   "cell_type": "code",
   "execution_count": 16,
   "metadata": {
    "execution": {
     "iopub.execute_input": "2023-04-10T19:44:24.742643Z",
     "iopub.status.busy": "2023-04-10T19:44:24.742320Z",
     "iopub.status.idle": "2023-04-10T19:44:24.833688Z",
     "shell.execute_reply": "2023-04-10T19:44:24.832855Z",
     "shell.execute_reply.started": "2023-04-10T19:44:24.742613Z"
    }
   },
   "outputs": [
    {
     "name": "stdout",
     "output_type": "stream",
     "text": [
      "100 rows loaded\n"
     ]
    }
   ],
   "source": [
    "# load again\n",
    "df1 = pak.load_excel('data/df0')"
   ]
  },
  {
   "cell_type": "code",
   "execution_count": 17,
   "metadata": {
    "execution": {
     "iopub.execute_input": "2023-04-10T19:44:24.840404Z",
     "iopub.status.busy": "2023-04-10T19:44:24.837936Z",
     "iopub.status.idle": "2023-04-10T19:44:24.903240Z",
     "shell.execute_reply": "2023-04-10T19:44:24.902346Z",
     "shell.execute_reply.started": "2023-04-10T19:44:24.840361Z"
    }
   },
   "outputs": [
    {
     "data": {
      "text/html": [
       "<div>\n",
       "<style scoped>\n",
       "    .dataframe tbody tr th:only-of-type {\n",
       "        vertical-align: middle;\n",
       "    }\n",
       "\n",
       "    .dataframe tbody tr th {\n",
       "        vertical-align: top;\n",
       "    }\n",
       "\n",
       "    .dataframe thead th {\n",
       "        text-align: right;\n",
       "    }\n",
       "</style>\n",
       "<table border=\"1\" class=\"dataframe\">\n",
       "  <thead>\n",
       "    <tr style=\"text-align: right;\">\n",
       "      <th></th>\n",
       "      <th>name</th>\n",
       "      <th>dtype</th>\n",
       "      <th>nnan</th>\n",
       "      <th>content</th>\n",
       "      <th>sort</th>\n",
       "      <th>eq</th>\n",
       "    </tr>\n",
       "  </thead>\n",
       "  <tbody>\n",
       "    <tr>\n",
       "      <th>first_name</th>\n",
       "      <td>True</td>\n",
       "      <td>True</td>\n",
       "      <td>True</td>\n",
       "      <td>True</td>\n",
       "      <td>True</td>\n",
       "      <td>True</td>\n",
       "    </tr>\n",
       "    <tr>\n",
       "      <th>age</th>\n",
       "      <td>True</td>\n",
       "      <td>False</td>\n",
       "      <td>True</td>\n",
       "      <td>True</td>\n",
       "      <td>True</td>\n",
       "      <td>True</td>\n",
       "    </tr>\n",
       "    <tr>\n",
       "      <th>age_class</th>\n",
       "      <td>True</td>\n",
       "      <td>True</td>\n",
       "      <td>True</td>\n",
       "      <td>True</td>\n",
       "      <td>True</td>\n",
       "      <td>True</td>\n",
       "    </tr>\n",
       "    <tr>\n",
       "      <th>postal_code</th>\n",
       "      <td>True</td>\n",
       "      <td>True</td>\n",
       "      <td>True</td>\n",
       "      <td>True</td>\n",
       "      <td>True</td>\n",
       "      <td>True</td>\n",
       "    </tr>\n",
       "    <tr>\n",
       "      <th>birthplace</th>\n",
       "      <td>True</td>\n",
       "      <td>True</td>\n",
       "      <td>True</td>\n",
       "      <td>True</td>\n",
       "      <td>True</td>\n",
       "      <td>True</td>\n",
       "    </tr>\n",
       "    <tr>\n",
       "      <th>secret</th>\n",
       "      <td>True</td>\n",
       "      <td>True</td>\n",
       "      <td>True</td>\n",
       "      <td>True</td>\n",
       "      <td>True</td>\n",
       "      <td>True</td>\n",
       "    </tr>\n",
       "    <tr>\n",
       "      <th>static</th>\n",
       "      <td>True</td>\n",
       "      <td>False</td>\n",
       "      <td>True</td>\n",
       "      <td>True</td>\n",
       "      <td>True</td>\n",
       "      <td>True</td>\n",
       "    </tr>\n",
       "    <tr>\n",
       "      <th>(Total)</th>\n",
       "      <td>True</td>\n",
       "      <td>False</td>\n",
       "      <td>True</td>\n",
       "      <td>True</td>\n",
       "      <td>True</td>\n",
       "      <td>True</td>\n",
       "    </tr>\n",
       "  </tbody>\n",
       "</table>\n",
       "</div>"
      ],
      "text/plain": [
       "             name  dtype  nnan content  sort    eq\n",
       "first_name   True   True  True    True  True  True\n",
       "age          True  False  True    True  True  True\n",
       "age_class    True   True  True    True  True  True\n",
       "postal_code  True   True  True    True  True  True\n",
       "birthplace   True   True  True    True  True  True\n",
       "secret       True   True  True    True  True  True\n",
       "static       True  False  True    True  True  True\n",
       "(Total)      True  False  True    True  True  True"
      ]
     },
     "execution_count": 17,
     "metadata": {},
     "output_type": "execute_result"
    }
   ],
   "source": [
    "# compare: It's identical\n",
    "# but dtypes are different\n",
    "pak.compare_dataframes(df0, df1)"
   ]
  },
  {
   "cell_type": "code",
   "execution_count": 18,
   "metadata": {
    "execution": {
     "iopub.execute_input": "2023-04-10T19:44:24.911971Z",
     "iopub.status.busy": "2023-04-10T19:44:24.909870Z",
     "iopub.status.idle": "2023-04-10T19:44:24.957783Z",
     "shell.execute_reply": "2023-04-10T19:44:24.957003Z",
     "shell.execute_reply.started": "2023-04-10T19:44:24.911932Z"
    }
   },
   "outputs": [],
   "source": [
    "assert pak.check_equal(df0,df1)"
   ]
  },
  {
   "cell_type": "markdown",
   "metadata": {},
   "source": [
    "## Excel with tabcol"
   ]
  },
  {
   "cell_type": "code",
   "execution_count": 19,
   "metadata": {
    "execution": {
     "iopub.execute_input": "2023-04-10T19:44:24.962996Z",
     "iopub.status.busy": "2023-04-10T19:44:24.962711Z",
     "iopub.status.idle": "2023-04-10T19:44:25.153715Z",
     "shell.execute_reply": "2023-04-10T19:44:25.153035Z",
     "shell.execute_reply.started": "2023-04-10T19:44:24.962972Z"
    }
   },
   "outputs": [
    {
     "name": "stdout",
     "output_type": "stream",
     "text": [
      "100 rows loaded\n"
     ]
    }
   ],
   "source": [
    "# write test data to disk\n",
    "pak.dump_excel(df0,'data/df0', tabcol='birthplace')"
   ]
  },
  {
   "cell_type": "code",
   "execution_count": 20,
   "metadata": {
    "execution": {
     "iopub.execute_input": "2023-04-10T19:44:25.155925Z",
     "iopub.status.busy": "2023-04-10T19:44:25.154452Z",
     "iopub.status.idle": "2023-04-10T19:44:25.281383Z",
     "shell.execute_reply": "2023-04-10T19:44:25.280695Z",
     "shell.execute_reply.started": "2023-04-10T19:44:25.155889Z"
    }
   },
   "outputs": [
    {
     "name": "stdout",
     "output_type": "stream",
     "text": [
      "100 rows loaded\n"
     ]
    }
   ],
   "source": [
    "# load again\n",
    "df1 = pak.load_excel('data/df0',tabcol='birthplace')"
   ]
  },
  {
   "cell_type": "code",
   "execution_count": 21,
   "metadata": {
    "execution": {
     "iopub.execute_input": "2023-04-10T19:44:25.282770Z",
     "iopub.status.busy": "2023-04-10T19:44:25.282202Z",
     "iopub.status.idle": "2023-04-10T19:44:25.365162Z",
     "shell.execute_reply": "2023-04-10T19:44:25.364375Z",
     "shell.execute_reply.started": "2023-04-10T19:44:25.282743Z"
    }
   },
   "outputs": [
    {
     "data": {
      "text/html": [
       "<div>\n",
       "<style scoped>\n",
       "    .dataframe tbody tr th:only-of-type {\n",
       "        vertical-align: middle;\n",
       "    }\n",
       "\n",
       "    .dataframe tbody tr th {\n",
       "        vertical-align: top;\n",
       "    }\n",
       "\n",
       "    .dataframe thead th {\n",
       "        text-align: right;\n",
       "    }\n",
       "</style>\n",
       "<table border=\"1\" class=\"dataframe\">\n",
       "  <thead>\n",
       "    <tr style=\"text-align: right;\">\n",
       "      <th></th>\n",
       "      <th>name</th>\n",
       "      <th>dtype</th>\n",
       "      <th>nnan</th>\n",
       "      <th>content</th>\n",
       "      <th>sort</th>\n",
       "      <th>eq</th>\n",
       "    </tr>\n",
       "  </thead>\n",
       "  <tbody>\n",
       "    <tr>\n",
       "      <th>first_name</th>\n",
       "      <td>True</td>\n",
       "      <td>True</td>\n",
       "      <td>True</td>\n",
       "      <td>True</td>\n",
       "      <td>None</td>\n",
       "      <td>True</td>\n",
       "    </tr>\n",
       "    <tr>\n",
       "      <th>age</th>\n",
       "      <td>True</td>\n",
       "      <td>False</td>\n",
       "      <td>True</td>\n",
       "      <td>True</td>\n",
       "      <td>None</td>\n",
       "      <td>True</td>\n",
       "    </tr>\n",
       "    <tr>\n",
       "      <th>age_class</th>\n",
       "      <td>True</td>\n",
       "      <td>True</td>\n",
       "      <td>True</td>\n",
       "      <td>True</td>\n",
       "      <td>None</td>\n",
       "      <td>True</td>\n",
       "    </tr>\n",
       "    <tr>\n",
       "      <th>postal_code</th>\n",
       "      <td>True</td>\n",
       "      <td>True</td>\n",
       "      <td>True</td>\n",
       "      <td>True</td>\n",
       "      <td>None</td>\n",
       "      <td>True</td>\n",
       "    </tr>\n",
       "    <tr>\n",
       "      <th>secret</th>\n",
       "      <td>True</td>\n",
       "      <td>True</td>\n",
       "      <td>True</td>\n",
       "      <td>True</td>\n",
       "      <td>None</td>\n",
       "      <td>True</td>\n",
       "    </tr>\n",
       "    <tr>\n",
       "      <th>static</th>\n",
       "      <td>True</td>\n",
       "      <td>False</td>\n",
       "      <td>True</td>\n",
       "      <td>True</td>\n",
       "      <td>None</td>\n",
       "      <td>True</td>\n",
       "    </tr>\n",
       "    <tr>\n",
       "      <th>birthplace</th>\n",
       "      <td>True</td>\n",
       "      <td>True</td>\n",
       "      <td>True</td>\n",
       "      <td>True</td>\n",
       "      <td>None</td>\n",
       "      <td>True</td>\n",
       "    </tr>\n",
       "    <tr>\n",
       "      <th>(Total)</th>\n",
       "      <td>True</td>\n",
       "      <td>False</td>\n",
       "      <td>True</td>\n",
       "      <td>True</td>\n",
       "      <td>False</td>\n",
       "      <td>True</td>\n",
       "    </tr>\n",
       "  </tbody>\n",
       "</table>\n",
       "</div>"
      ],
      "text/plain": [
       "             name  dtype  nnan content   sort    eq\n",
       "first_name   True   True  True    True   None  True\n",
       "age          True  False  True    True   None  True\n",
       "age_class    True   True  True    True   None  True\n",
       "postal_code  True   True  True    True   None  True\n",
       "secret       True   True  True    True   None  True\n",
       "static       True  False  True    True   None  True\n",
       "birthplace   True   True  True    True   None  True\n",
       "(Total)      True  False  True    True  False  True"
      ]
     },
     "execution_count": 21,
     "metadata": {},
     "output_type": "execute_result"
    }
   ],
   "source": [
    "# compare: It's identical\n",
    "# but sort order is very different\n",
    "# and index is lost\n",
    "# and dtypes are different\n",
    "pak.compare_dataframes(df0, df1, reset_index=True)"
   ]
  },
  {
   "cell_type": "code",
   "execution_count": 22,
   "metadata": {
    "execution": {
     "iopub.execute_input": "2023-04-10T19:44:25.374475Z",
     "iopub.status.busy": "2023-04-10T19:44:25.371847Z",
     "iopub.status.idle": "2023-04-10T19:44:25.451016Z",
     "shell.execute_reply": "2023-04-10T19:44:25.449792Z",
     "shell.execute_reply.started": "2023-04-10T19:44:25.374430Z"
    }
   },
   "outputs": [],
   "source": [
    "assert pak.check_equal(df0,df1, reset_index=True)"
   ]
  },
  {
   "cell_type": "code",
   "execution_count": null,
   "metadata": {},
   "outputs": [],
   "source": []
  }
 ],
 "metadata": {
  "kernelspec": {
   "display_name": "Python 3 (ipykernel)",
   "language": "python",
   "name": "python3"
  },
  "language_info": {
   "codemirror_mode": {
    "name": "ipython",
    "version": 3
   },
   "file_extension": ".py",
   "mimetype": "text/x-python",
   "name": "python",
   "nbconvert_exporter": "python",
   "pygments_lexer": "ipython3",
   "version": "3.9.13"
  }
 },
 "nbformat": 4,
 "nbformat_minor": 4
}
