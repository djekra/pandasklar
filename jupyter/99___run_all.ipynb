{
 "cells": [
  {
   "cell_type": "markdown",
   "id": "8e69225b",
   "metadata": {},
   "source": [
    "# Run all notebooks in this folder"
   ]
  },
  {
   "cell_type": "code",
   "execution_count": 6,
   "id": "fb545c1a-c45f-4ce4-8b40-27a7170679df",
   "metadata": {},
   "outputs": [
    {
     "name": "stdout",
     "output_type": "stream",
     "text": [
      "blab init\n",
      "blab found local libs at /mnt/DATA/Dropbox/31_Projekte/01_Python/libs\n",
      "Start Time: 17:26:27\n"
     ]
    },
    {
     "data": {
      "text/html": [
       "<img src onerror=\"var cell = this.closest('.jp-CodeCell');var editor = cell.querySelector('.jp-Editor');editor.style.background='Beige';this.parentNode.removeChild(this)\">"
      ],
      "text/plain": [
       "<IPython.core.display.HTML object>"
      ]
     },
     "metadata": {},
     "output_type": "display_data"
    },
    {
     "name": "stdout",
     "output_type": "stream",
     "text": [
      "time: 18.4 ms (started: 2022-09-13 17:26:27 +02:00)\n"
     ]
    }
   ],
   "source": [
    "# blab init\n",
    "import blab\n",
    "startup_notebook = blab.blab_startup()\n",
    "%run $startup_notebook"
   ]
  },
  {
   "cell_type": "code",
   "execution_count": 7,
   "id": "10e73dfb-d6ed-429e-9a8c-eab2b239bf56",
   "metadata": {},
   "outputs": [
    {
     "name": "stdout",
     "output_type": "stream",
     "text": [
      "Nothing found\n",
      "time: 22.4 ms (started: 2022-09-13 17:26:27 +02:00)\n"
     ]
    }
   ],
   "source": [
    "# search for 'raise Stop'\n",
    "search_notebooks('raise Stop', radius=0, exclude=['--','98','99',])"
   ]
  },
  {
   "cell_type": "code",
   "execution_count": 8,
   "id": "5e342761-9970-4dc8-9a11-fcdd28723947",
   "metadata": {},
   "outputs": [
    {
     "name": "stdout",
     "output_type": "stream",
     "text": [
      "time: 84.4 ms (started: 2022-09-13 17:26:27 +02:00)\n"
     ]
    },
    {
     "data": {
      "text/plain": [
       "\u001b[0;31mSignature:\u001b[0m\n",
       "\u001b[0mrun_notebooks\u001b[0m\u001b[0;34m(\u001b[0m\u001b[0;34m\u001b[0m\n",
       "\u001b[0;34m\u001b[0m    \u001b[0mexclude\u001b[0m\u001b[0;34m=\u001b[0m\u001b[0;34m[\u001b[0m\u001b[0;34m]\u001b[0m\u001b[0;34m,\u001b[0m\u001b[0;34m\u001b[0m\n",
       "\u001b[0;34m\u001b[0m    \u001b[0mout_dir\u001b[0m\u001b[0;34m=\u001b[0m\u001b[0;34m'nb_out/'\u001b[0m\u001b[0;34m,\u001b[0m\u001b[0;34m\u001b[0m\n",
       "\u001b[0;34m\u001b[0m    \u001b[0mmode\u001b[0m\u001b[0;34m=\u001b[0m\u001b[0;34m'list'\u001b[0m\u001b[0;34m,\u001b[0m\u001b[0;34m\u001b[0m\n",
       "\u001b[0;34m\u001b[0m    \u001b[0mcell_timeout\u001b[0m\u001b[0;34m=\u001b[0m\u001b[0;32mNone\u001b[0m\u001b[0;34m,\u001b[0m\u001b[0;34m\u001b[0m\n",
       "\u001b[0;34m\u001b[0m\u001b[0;34m)\u001b[0m\u001b[0;34m\u001b[0m\u001b[0;34m\u001b[0m\u001b[0m\n",
       "\u001b[0;31mDocstring:\u001b[0m\n",
       "Uses nbconvert to starts all notebooks in the directory in alphabetical order.\n",
       "* exclude: Strings that must not appear in the file name\n",
       "* out_dir: Output-directory\n",
       "* mode:    'list'  list only the files to run\n",
       "           'run'   run the files and stop on error\n",
       "           'force' run the files, ignoring errors\n",
       "* cell_timeout: None or seconds\n",
       "\u001b[0;31mFile:\u001b[0m      /mnt/DATA/Dropbox/31_Projekte/01_Python/git/blab/src/blab/blab_tools.py\n",
       "\u001b[0;31mType:\u001b[0m      function\n"
      ]
     },
     "metadata": {},
     "output_type": "display_data"
    }
   ],
   "source": [
    "# show doc\n",
    "?run_notebooks"
   ]
  },
  {
   "cell_type": "code",
   "execution_count": 9,
   "id": "771cc4dd",
   "metadata": {},
   "outputs": [
    {
     "name": "stdout",
     "output_type": "stream",
     "text": [
      "Trying to run this 4 notebooks:\n",
      "         00_Test_blab.ipynb                      \n",
      "         10_dummy_notebook_one.ipynb             \n",
      "         20_dummy_notebook_two.ipynb             \n",
      "         30_Search_in_all_notebooks.ipynb        \n",
      "\n",
      "Running: 00_Test_blab.ipynb                          4 secs\n",
      "Running: 10_dummy_notebook_one.ipynb                 1 secs\n",
      "Running: 20_dummy_notebook_two.ipynb                 1 secs\n",
      "Running: 30_Search_in_all_notebooks.ipynb            2 secs\n",
      "============================================================ \n",
      "\n",
      "\n",
      "time: 9.9 s (started: 2022-09-13 17:26:27 +02:00)\n"
     ]
    }
   ],
   "source": [
    "# run all notebooks, except this one\n",
    "run_notebooks( exclude=['99',], mode='force' )"
   ]
  },
  {
   "cell_type": "code",
   "execution_count": null,
   "id": "c9082d5a-3d68-4f71-9750-0265241bf187",
   "metadata": {},
   "outputs": [],
   "source": []
  }
 ],
 "metadata": {
  "kernelspec": {
   "display_name": "Python 3 (ipykernel)",
   "language": "python",
   "name": "python3"
  },
  "language_info": {
   "codemirror_mode": {
    "name": "ipython",
    "version": 3
   },
   "file_extension": ".py",
   "mimetype": "text/x-python",
   "name": "python",
   "nbconvert_exporter": "python",
   "pygments_lexer": "ipython3",
   "version": "3.8.12"
  }
 },
 "nbformat": 4,
 "nbformat_minor": 5
}
