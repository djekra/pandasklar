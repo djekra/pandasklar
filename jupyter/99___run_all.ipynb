{
 "cells": [
  {
   "cell_type": "markdown",
   "id": "8e69225b",
   "metadata": {},
   "source": [
    "# Run all notebooks in this folder"
   ]
  },
  {
   "cell_type": "code",
   "execution_count": 1,
   "id": "fb545c1a-c45f-4ce4-8b40-27a7170679df",
   "metadata": {},
   "outputs": [
    {
     "name": "stdout",
     "output_type": "stream",
     "text": [
      "blab init\n",
      "blab found local libs at /media/me/DATA/Dropbox/31_Projekte/01_Python/libs\n",
      "Start Time: 21:35:17\n"
     ]
    },
    {
     "data": {
      "text/html": [
       "<img src onerror=\"var cell = this.closest('.jp-CodeCell');var editor = cell.querySelector('.jp-Editor');editor.style.background='Beige';this.parentNode.removeChild(this)\">"
      ],
      "text/plain": [
       "<IPython.core.display.HTML object>"
      ]
     },
     "metadata": {},
     "output_type": "display_data"
    },
    {
     "name": "stdout",
     "output_type": "stream",
     "text": [
      "time: 414 ms\n"
     ]
    }
   ],
   "source": [
    "# blab init\n",
    "import blab\n",
    "startup_notebook = blab.blab_startup()\n",
    "%run $startup_notebook"
   ]
  },
  {
   "cell_type": "code",
   "execution_count": 1,
   "id": "fae3bee9-0988-4dcb-93de-61d756f71ce5",
   "metadata": {},
   "outputs": [
    {
     "name": "stdout",
     "output_type": "stream",
     "text": [
      "Name: pandasklar\n",
      "Version: 0.1.2\n",
      "Summary: Various Pandas Tools\n",
      "Home-page: \n",
      "Author: \n",
      "Author-email: djekra <hopsalla@gmail.com>\n",
      "License: MIT\n",
      "Location: /home/me/mambaforge/envs/python_06/lib/python3.9/site-packages\n",
      "Requires: blab, bpyth, dtale, numpy, pandas, perlin-noise, seaborn\n",
      "Required-by: \n"
     ]
    }
   ],
   "source": [
    "# show version\n",
    "!pip show pandasklar"
   ]
  },
  {
   "cell_type": "code",
   "execution_count": 2,
   "id": "88e3e3ef-983c-408b-92fc-a6a3872ccee8",
   "metadata": {},
   "outputs": [
    {
     "name": "stdout",
     "output_type": "stream",
     "text": [
      "time: 12.8 ms\n"
     ]
    }
   ],
   "source": [
    "#search_notebooks('update_col')"
   ]
  },
  {
   "cell_type": "code",
   "execution_count": 3,
   "id": "10e73dfb-d6ed-429e-9a8c-eab2b239bf56",
   "metadata": {},
   "outputs": [
    {
     "name": "stdout",
     "output_type": "stream",
     "text": [
      "Nothing found\n",
      "time: 34.2 ms\n"
     ]
    }
   ],
   "source": [
    "# search for 'raise Stop'\n",
    "search_notebooks('raise Stop', radius=0, exclude=['--','98','99','##'])"
   ]
  },
  {
   "cell_type": "code",
   "execution_count": 4,
   "id": "5e342761-9970-4dc8-9a11-fcdd28723947",
   "metadata": {},
   "outputs": [
    {
     "name": "stdout",
     "output_type": "stream",
     "text": [
      "time: 151 ms\n"
     ]
    },
    {
     "data": {
      "text/plain": [
       "\u001b[0;31mSignature:\u001b[0m\n",
       "\u001b[0mrun_notebooks\u001b[0m\u001b[0;34m(\u001b[0m\u001b[0;34m\u001b[0m\n",
       "\u001b[0;34m\u001b[0m    \u001b[0mexclude\u001b[0m\u001b[0;34m=\u001b[0m\u001b[0;34m[\u001b[0m\u001b[0;34m]\u001b[0m\u001b[0;34m,\u001b[0m\u001b[0;34m\u001b[0m\n",
       "\u001b[0;34m\u001b[0m    \u001b[0mout_dir\u001b[0m\u001b[0;34m=\u001b[0m\u001b[0;34m'nb_out/'\u001b[0m\u001b[0;34m,\u001b[0m\u001b[0;34m\u001b[0m\n",
       "\u001b[0;34m\u001b[0m    \u001b[0mmode\u001b[0m\u001b[0;34m=\u001b[0m\u001b[0;34m'list'\u001b[0m\u001b[0;34m,\u001b[0m\u001b[0;34m\u001b[0m\n",
       "\u001b[0;34m\u001b[0m    \u001b[0mcell_timeout\u001b[0m\u001b[0;34m=\u001b[0m\u001b[0;32mNone\u001b[0m\u001b[0;34m,\u001b[0m\u001b[0;34m\u001b[0m\n",
       "\u001b[0;34m\u001b[0m\u001b[0;34m)\u001b[0m\u001b[0;34m\u001b[0m\u001b[0;34m\u001b[0m\u001b[0m\n",
       "\u001b[0;31mDocstring:\u001b[0m\n",
       "Uses nbconvert to starts all notebooks in the directory in alphabetical order.\n",
       "* exclude: Strings that must not appear in the file name\n",
       "* out_dir: Output-directory\n",
       "* mode:    'list'  list only the files to run\n",
       "           'run'   run the files and stop on error\n",
       "           'force' run the files, ignoring errors\n",
       "* cell_timeout: None or seconds\n",
       "\u001b[0;31mFile:\u001b[0m      ~/mambaforge/envs/python_06/lib/python3.9/site-packages/blab/blab_tools.py\n",
       "\u001b[0;31mType:\u001b[0m      function\n"
      ]
     },
     "metadata": {},
     "output_type": "display_data"
    }
   ],
   "source": [
    "# show doc\n",
    "?run_notebooks"
   ]
  },
  {
   "cell_type": "code",
   "execution_count": 5,
   "id": "771cc4dd",
   "metadata": {},
   "outputs": [
    {
     "name": "stdout",
     "output_type": "stream",
     "text": [
      "Trying to run this 19 notebooks:\n",
      "         10_Create_Random_Data.ipynb             \n",
      "         13_Analyse_Datatypes.ipynb              \n",
      "         14_Analyse_Frequencies.ipynb            \n",
      "         15_Analyse_Redundancy.ipynb             \n",
      "         16_Compare_Series_and_DataFrames.ipynb  \n",
      "         21_Manage_Columns.ipynb                 \n",
      "         22_Manage_Rows.ipynb                    \n",
      "         23_Let_DataFrames_Interact.ipynb        \n",
      "         24_Create_DataFrames_Easily.ipynb       \n",
      "         25_Save_and_Load_Data.ipynb             \n",
      "         31_Work_with_NaN.ipynb                  \n",
      "         35_Scale_Numbers.ipynb                  \n",
      "         36_Cleanup_Strings.ipynb                \n",
      "         37_Slice_Strings_Variably.ipynb         \n",
      "         38_Search_Strings_Fast.ipynb            \n",
      "         39_Work_with_Lists.ipynb                \n",
      "         52_Rank_Rows.ipynb                      \n",
      "         55_Aggregate_Rows.ipynb                 \n",
      "         56_Explode_and_Implode_Dictionaries.ipynb\n",
      "\n",
      "Running: 10_Create_Random_Data.ipynb                 12 secs\n",
      "Running: 13_Analyse_Datatypes.ipynb                  10 secs\n",
      "Running: 14_Analyse_Frequencies.ipynb                5 secs\n",
      "Running: 15_Analyse_Redundancy.ipynb                 7 secs\n",
      "Running: 16_Compare_Series_and_DataFrames.ipynb      4 secs\n",
      "Running: 21_Manage_Columns.ipynb                     4 secs\n",
      "Running: 22_Manage_Rows.ipynb                        5 secs\n",
      "Running: 23_Let_DataFrames_Interact.ipynb            4 secs\n",
      "Running: 24_Create_DataFrames_Easily.ipynb           4 secs\n",
      "Running: 25_Save_and_Load_Data.ipynb                 5 secs\n",
      "Running: 31_Work_with_NaN.ipynb                      3 secs\n",
      "Running: 35_Scale_Numbers.ipynb                      10 secs\n",
      "Running: 36_Cleanup_Strings.ipynb                    19 secs\n",
      "Running: 37_Slice_Strings_Variably.ipynb             5 secs\n",
      "Running: 38_Search_Strings_Fast.ipynb                1 min, 5 secs\n",
      "Running: 39_Work_with_Lists.ipynb                    4 secs\n",
      "Running: 52_Rank_Rows.ipynb                          18 secs\n",
      "Running: 55_Aggregate_Rows.ipynb                     5 secs\n",
      "Running: 56_Explode_and_Implode_Dictionaries.ipynb    4 secs\n",
      "============================================================ \n",
      "\n",
      "\n",
      "time: 3min 21s\n"
     ]
    }
   ],
   "source": [
    "# run all notebooks, except this one\n",
    "run_notebooks( exclude=['98','99','==','##','12'], mode='force' )"
   ]
  }
 ],
 "metadata": {
  "kernelspec": {
   "display_name": "Python 3 (ipykernel)",
   "language": "python",
   "name": "python3"
  },
  "language_info": {
   "codemirror_mode": {
    "name": "ipython",
    "version": 3
   },
   "file_extension": ".py",
   "mimetype": "text/x-python",
   "name": "python",
   "nbconvert_exporter": "python",
   "pygments_lexer": "ipython3",
   "version": "3.9.13"
  }
 },
 "nbformat": 4,
 "nbformat_minor": 5
}
