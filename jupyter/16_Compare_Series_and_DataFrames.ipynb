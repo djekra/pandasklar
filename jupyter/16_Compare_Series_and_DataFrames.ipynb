{
 "cells": [
  {
   "cell_type": "markdown",
   "id": "eb75d3e7-8b0d-43f0-8c76-4b884bc4e524",
   "metadata": {},
   "source": [
    "__[Open and try this file online (Colab)](https://colab.research.google.com/github/djekra/pandasklar/blob/master/jupyter/16_Compare_Series_and_DataFrames.ipynb)__"
   ]
  },
  {
   "cell_type": "markdown",
   "id": "c90c26b4-2c91-4f00-8fc4-f0f173a97d58",
   "metadata": {},
   "source": [
    "# Compare Series and DataFrames\n",
    "* `compare_series`: Compares the content of two Series.\n",
    "    Returns several indicators of equality.\n",
    "* `compare_dataframes`: Compares the content of two DataFrames column by column. Returns several indicators of equality.\n",
    "* `check_equal`: Compares the content of two DataFrames column by column.\n",
    "* `compare_col_dtype`: Returns the column names of two DataFrames whose dtype differs\n",
    "* `get_different_rows`: Returns the rows of two DataFrames that differ"
   ]
  },
  {
   "cell_type": "code",
   "execution_count": 1,
   "id": "f435b5c7-96a2-4e48-bece-110bbeb16dbc",
   "metadata": {},
   "outputs": [
    {
     "name": "stdout",
     "output_type": "stream",
     "text": [
      "blab init\n",
      "environment['dropbox_path'] = /home/me/Data_Linux/Dropbox\n",
      "environment['lib_path']     = /home/me/Data_Linux/Dropbox/31_Projekte/01_Python/libs\n",
      "Start Time: 21:38:50\n"
     ]
    },
    {
     "data": {
      "text/html": [
       "<img src onerror=\"var cell = this.closest('.jp-CodeCell');var editor = cell.querySelector('.jp-Editor');editor.style.background='Beige';this.parentNode.removeChild(this)\">"
      ],
      "text/plain": [
       "<IPython.core.display.HTML object>"
      ]
     },
     "metadata": {},
     "output_type": "display_data"
    },
    {
     "name": "stdout",
     "output_type": "stream",
     "text": [
      "time: 393 ms\n"
     ]
    }
   ],
   "source": [
    "# blab init\n",
    "try:\n",
    "    import blab\n",
    "except ImportError as e:\n",
    "    !pip install blab\n",
    "    import blab    \n",
    "startup_notebook = blab.blab_startup()\n",
    "%run $startup_notebook "
   ]
  },
  {
   "cell_type": "code",
   "execution_count": 2,
   "id": "49542b65-cc39-4879-b394-0d63b334e334",
   "metadata": {},
   "outputs": [
    {
     "name": "stdout",
     "output_type": "stream",
     "text": [
      "VERBOSE = True\n",
      "--> setting verbose=True as default for all pandasklar functions\n",
      "\n",
      "time: 303 ms\n"
     ]
    }
   ],
   "source": [
    "import pandas     as pd \n",
    "import bpyth      as bpy\n",
    "\n",
    "# pandasklar\n",
    "try:\n",
    "    import pandasklar as pak \n",
    "except ImportError as e:\n",
    "    !pip install pandasklar\n",
    "    import pandasklar as pak   \n",
    "    \n",
    "# verbose\n",
    "pak.Config.set('VERBOSE', True)"
   ]
  },
  {
   "cell_type": "markdown",
   "id": "6c6d7d57-c8d8-4d6e-8f43-6717458a6b1b",
   "metadata": {},
   "source": [
    "## compare_series()"
   ]
  },
  {
   "cell_type": "code",
   "execution_count": 3,
   "id": "f0f54a71-6b03-4538-8021-b5b5abd0597c",
   "metadata": {},
   "outputs": [
    {
     "name": "stdout",
     "output_type": "stream",
     "text": [
      "time: 71.3 ms\n"
     ]
    },
    {
     "data": {
      "text/plain": [
       "\u001b[0;31mSignature:\u001b[0m \u001b[0mpak\u001b[0m\u001b[0;34m.\u001b[0m\u001b[0mcompare_series\u001b[0m\u001b[0;34m(\u001b[0m\u001b[0ms\u001b[0m\u001b[0;34m,\u001b[0m \u001b[0mt\u001b[0m\u001b[0;34m,\u001b[0m \u001b[0mformat\u001b[0m\u001b[0;34m=\u001b[0m\u001b[0;34m'dict'\u001b[0m\u001b[0;34m)\u001b[0m\u001b[0;34m\u001b[0m\u001b[0;34m\u001b[0m\u001b[0m\n",
       "\u001b[0;31mDocstring:\u001b[0m\n",
       "Compares the content of two Series.\n",
       "Returns several indicators of equality as dict or DataFrame:\n",
       "    name:    same name    \n",
       "    dtype:   nearly same dtype (Float32 == Float64)\n",
       "    len:     same shape        \n",
       "    nnan:    same number of NaNs   \n",
       "    content: same content, ignoring index and sort\n",
       "    sort:    same sort order, ignoring index\n",
       "    eq:      same relations index->data, ignoring sort\n",
       "    \n",
       "\u001b[0;31mFile:\u001b[0m      ~/Data_Linux/Dropbox/31_Projekte/01_Python/git/pandasklar/src/pandasklar/compare.py\n",
       "\u001b[0;31mType:\u001b[0m      function\n"
      ]
     },
     "metadata": {},
     "output_type": "display_data"
    }
   ],
   "source": [
    "?pak.compare_series"
   ]
  },
  {
   "cell_type": "code",
   "execution_count": 4,
   "id": "67e6b526-5345-4e5a-8b58-b76d59ee39f7",
   "metadata": {},
   "outputs": [
    {
     "data": {
      "text/plain": [
       "0        0hkQ\n",
       "1         NaN\n",
       "2       iu3bK\n",
       "3       m6LoM\n",
       "4     KähnCÜo\n",
       "       ...   \n",
       "95    37c5avP\n",
       "96     4aiy3b\n",
       "97     iNwÖUö\n",
       "98    JwZ8gu8\n",
       "99      EcI1a\n",
       "Name: rnd_string, Length: 100, dtype: object"
      ]
     },
     "execution_count": 4,
     "metadata": {},
     "output_type": "execute_result"
    },
    {
     "name": "stdout",
     "output_type": "stream",
     "text": [
      "time: 37.4 ms\n"
     ]
    }
   ],
   "source": [
    "# Generate test data\n",
    "s = pak.random_series( 100, 's')\n",
    "s = s.apply(pak.decorate, p=0.1) # nan\n",
    "s"
   ]
  },
  {
   "cell_type": "code",
   "execution_count": 5,
   "id": "b0b4ac08-ed19-443e-ac37-9f7f57e95515",
   "metadata": {},
   "outputs": [
    {
     "name": "stdout",
     "output_type": "stream",
     "text": [
      "time: 16.4 ms\n"
     ]
    }
   ],
   "source": [
    "# Generate compare data\n",
    "# Play with it!\n",
    "\n",
    "t = s.copy()\n",
    "# t.name = 's' # name\n",
    "# t = t[:99] # len\n",
    "# t = t.apply(pak.decorate, p=0.5) # nan\n",
    "#t = t.astype('object') # dtype\n",
    "\n",
    "t[0], t[1] = t[1], t[0] \n",
    "#t = t.sort_values()\n",
    "\n"
   ]
  },
  {
   "cell_type": "code",
   "execution_count": 6,
   "id": "f5aa31bb-46c1-45b9-833c-827310a26114",
   "metadata": {},
   "outputs": [
    {
     "data": {
      "text/html": [
       "<div>\n",
       "<style scoped>\n",
       "    .dataframe tbody tr th:only-of-type {\n",
       "        vertical-align: middle;\n",
       "    }\n",
       "\n",
       "    .dataframe tbody tr th {\n",
       "        vertical-align: top;\n",
       "    }\n",
       "\n",
       "    .dataframe thead th {\n",
       "        text-align: right;\n",
       "    }\n",
       "</style>\n",
       "<table border=\"1\" class=\"dataframe\">\n",
       "  <thead>\n",
       "    <tr style=\"text-align: right;\">\n",
       "      <th></th>\n",
       "      <th>rnd_string</th>\n",
       "    </tr>\n",
       "  </thead>\n",
       "  <tbody>\n",
       "    <tr>\n",
       "      <th>name</th>\n",
       "      <td>True</td>\n",
       "    </tr>\n",
       "    <tr>\n",
       "      <th>dtype</th>\n",
       "      <td>True</td>\n",
       "    </tr>\n",
       "    <tr>\n",
       "      <th>len</th>\n",
       "      <td>True</td>\n",
       "    </tr>\n",
       "    <tr>\n",
       "      <th>nnan</th>\n",
       "      <td>True</td>\n",
       "    </tr>\n",
       "    <tr>\n",
       "      <th>content</th>\n",
       "      <td>True</td>\n",
       "    </tr>\n",
       "    <tr>\n",
       "      <th>sort</th>\n",
       "      <td>False</td>\n",
       "    </tr>\n",
       "    <tr>\n",
       "      <th>eq</th>\n",
       "      <td>False</td>\n",
       "    </tr>\n",
       "  </tbody>\n",
       "</table>\n",
       "</div>"
      ],
      "text/plain": [
       "         rnd_string\n",
       "name           True\n",
       "dtype          True\n",
       "len            True\n",
       "nnan           True\n",
       "content        True\n",
       "sort          False\n",
       "eq            False"
      ]
     },
     "execution_count": 6,
     "metadata": {},
     "output_type": "execute_result"
    },
    {
     "name": "stdout",
     "output_type": "stream",
     "text": [
      "time: 21.6 ms\n"
     ]
    }
   ],
   "source": [
    "r = pak.compare_series(s,t, format='df')\n",
    "r"
   ]
  },
  {
   "cell_type": "markdown",
   "id": "1354e081-8c4f-4856-845e-05ddc659ae37",
   "metadata": {},
   "source": [
    "## compare_dataframes()"
   ]
  },
  {
   "cell_type": "code",
   "execution_count": 7,
   "id": "b26da1ba-21c0-4fdc-8c9f-08a3e3b8ddf6",
   "metadata": {},
   "outputs": [
    {
     "name": "stdout",
     "output_type": "stream",
     "text": [
      "time: 14.4 ms\n"
     ]
    },
    {
     "data": {
      "text/plain": [
       "\u001b[0;31mSignature:\u001b[0m \u001b[0mpak\u001b[0m\u001b[0;34m.\u001b[0m\u001b[0mcompare_dataframes\u001b[0m\u001b[0;34m(\u001b[0m\u001b[0mdf1\u001b[0m\u001b[0;34m,\u001b[0m \u001b[0mdf2\u001b[0m\u001b[0;34m,\u001b[0m \u001b[0mreset_index\u001b[0m\u001b[0;34m=\u001b[0m\u001b[0;32mFalse\u001b[0m\u001b[0;34m,\u001b[0m \u001b[0mformat\u001b[0m\u001b[0;34m=\u001b[0m\u001b[0;34m'df'\u001b[0m\u001b[0;34m)\u001b[0m\u001b[0;34m\u001b[0m\u001b[0;34m\u001b[0m\u001b[0m\n",
       "\u001b[0;31mDocstring:\u001b[0m\n",
       "Compares the content of two DataFrames column by column.\n",
       "Returns several indicators of equality:\n",
       "    name:    True, left_only or right_only. True means the column exists in both DataFrames.     \n",
       "    dtype:   columns have same dtype     \n",
       "    nnan:    columns have same number of NaNs   \n",
       "    content: columns have same content, ignoring index and sort\n",
       "    sort:    columns have same sort order, ignoring index\n",
       "    eq:      columns have same relations index->data, ignoring sort    \n",
       "\n",
       "* reset_index: Set True to ignore index and sort order or the rows.    \n",
       "* format:      'DataFrame', 'Series', 'dict' or 'bool' (or abbreviations of this):\n",
       "               Output format. format='DataFrame' will return detailed information.\n",
       "               format='Series', 'dict' or 'bool' will return a summary.\n",
       "\u001b[0;31mFile:\u001b[0m      ~/Data_Linux/Dropbox/31_Projekte/01_Python/git/pandasklar/src/pandasklar/compare.py\n",
       "\u001b[0;31mType:\u001b[0m      function\n"
      ]
     },
     "metadata": {},
     "output_type": "display_data"
    }
   ],
   "source": [
    "?pak.compare_dataframes"
   ]
  },
  {
   "cell_type": "code",
   "execution_count": 8,
   "id": "3510f8f7-5936-46a8-9dcb-51851995472f",
   "metadata": {},
   "outputs": [
    {
     "data": {
      "text/html": [
       "<div>\n",
       "<style scoped>\n",
       "    .dataframe tbody tr th:only-of-type {\n",
       "        vertical-align: middle;\n",
       "    }\n",
       "\n",
       "    .dataframe tbody tr th {\n",
       "        vertical-align: top;\n",
       "    }\n",
       "\n",
       "    .dataframe thead th {\n",
       "        text-align: right;\n",
       "    }\n",
       "</style>\n",
       "<table border=\"1\" class=\"dataframe\">\n",
       "  <thead>\n",
       "    <tr style=\"text-align: right;\">\n",
       "      <th></th>\n",
       "      <th>first_name</th>\n",
       "      <th>age</th>\n",
       "      <th>age_class</th>\n",
       "      <th>postal_code</th>\n",
       "      <th>birthplace</th>\n",
       "      <th>secret</th>\n",
       "      <th>features</th>\n",
       "      <th>history</th>\n",
       "    </tr>\n",
       "  </thead>\n",
       "  <tbody>\n",
       "    <tr>\n",
       "      <th>0</th>\n",
       "      <td>Pascal</td>\n",
       "      <td>33</td>\n",
       "      <td>30</td>\n",
       "      <td>64441</td>\n",
       "      <td>&lt;NA&gt;</td>\n",
       "      <td>vPNBWzZKe</td>\n",
       "      <td>{Z, U, x}</td>\n",
       "      <td>[c, b, a]</td>\n",
       "    </tr>\n",
       "    <tr>\n",
       "      <th>1</th>\n",
       "      <td>Phil</td>\n",
       "      <td>28</td>\n",
       "      <td>20</td>\n",
       "      <td>83200</td>\n",
       "      <td>Berlin</td>\n",
       "      <td>tu1keenPÜ</td>\n",
       "      <td>{X, S, Q, 0, 5}</td>\n",
       "      <td>[A, B, C]</td>\n",
       "    </tr>\n",
       "    <tr>\n",
       "      <th>2</th>\n",
       "      <td>Stephanie</td>\n",
       "      <td>27</td>\n",
       "      <td>20</td>\n",
       "      <td>79254</td>\n",
       "      <td>&lt;NA&gt;</td>\n",
       "      <td>OcyR1vtajd</td>\n",
       "      <td>{r, x}</td>\n",
       "      <td>[a, b, c]</td>\n",
       "    </tr>\n",
       "    <tr>\n",
       "      <th>3</th>\n",
       "      <td>Denis</td>\n",
       "      <td>32</td>\n",
       "      <td>30</td>\n",
       "      <td>60877</td>\n",
       "      <td>Berlin</td>\n",
       "      <td>AÜVu8kuWB</td>\n",
       "      <td>{r}</td>\n",
       "      <td>[]</td>\n",
       "    </tr>\n",
       "    <tr>\n",
       "      <th>4</th>\n",
       "      <td>Annette</td>\n",
       "      <td>32</td>\n",
       "      <td>30</td>\n",
       "      <td>17713</td>\n",
       "      <td>Bremen</td>\n",
       "      <td>m9SeNjQWä</td>\n",
       "      <td>{q, c}</td>\n",
       "      <td>[b, b, a, b]</td>\n",
       "    </tr>\n",
       "    <tr>\n",
       "      <th>...</th>\n",
       "      <td>...</td>\n",
       "      <td>...</td>\n",
       "      <td>...</td>\n",
       "      <td>...</td>\n",
       "      <td>...</td>\n",
       "      <td>...</td>\n",
       "      <td>...</td>\n",
       "      <td>...</td>\n",
       "    </tr>\n",
       "    <tr>\n",
       "      <th>95</th>\n",
       "      <td>Beate</td>\n",
       "      <td>35</td>\n",
       "      <td>30</td>\n",
       "      <td>80018</td>\n",
       "      <td>&lt;NA&gt;</td>\n",
       "      <td>8pÄHzm</td>\n",
       "      <td>{N, t, 0, w}</td>\n",
       "      <td>[A, x]</td>\n",
       "    </tr>\n",
       "    <tr>\n",
       "      <th>96</th>\n",
       "      <td>Erika</td>\n",
       "      <td>36</td>\n",
       "      <td>30</td>\n",
       "      <td>63425</td>\n",
       "      <td>Bremen</td>\n",
       "      <td>nÜbC0</td>\n",
       "      <td>{q, f, o, N, V}</td>\n",
       "      <td>[b, b, a, b]</td>\n",
       "    </tr>\n",
       "    <tr>\n",
       "      <th>97</th>\n",
       "      <td>Karsten</td>\n",
       "      <td>35</td>\n",
       "      <td>30</td>\n",
       "      <td>57200</td>\n",
       "      <td>Berlin</td>\n",
       "      <td>ä3Kw5c</td>\n",
       "      <td>{T}</td>\n",
       "      <td>[]</td>\n",
       "    </tr>\n",
       "    <tr>\n",
       "      <th>98</th>\n",
       "      <td>Anja</td>\n",
       "      <td>39</td>\n",
       "      <td>30</td>\n",
       "      <td>&lt;NA&gt;</td>\n",
       "      <td>Bremen</td>\n",
       "      <td>NV5FXxueQ</td>\n",
       "      <td>{X, m, N, c}</td>\n",
       "      <td>[]</td>\n",
       "    </tr>\n",
       "    <tr>\n",
       "      <th>99</th>\n",
       "      <td>Bärbel</td>\n",
       "      <td>29</td>\n",
       "      <td>20</td>\n",
       "      <td>57296</td>\n",
       "      <td>Berlin</td>\n",
       "      <td>vyzSE</td>\n",
       "      <td>{o}</td>\n",
       "      <td>[A, A, A]</td>\n",
       "    </tr>\n",
       "  </tbody>\n",
       "</table>\n",
       "<p>100 rows × 8 columns</p>\n",
       "</div>"
      ],
      "text/plain": [
       "   first_name  age  age_class  postal_code birthplace      secret  \\\n",
       "0      Pascal   33         30        64441       <NA>   vPNBWzZKe   \n",
       "1        Phil   28         20        83200     Berlin   tu1keenPÜ   \n",
       "2   Stephanie   27         20        79254       <NA>  OcyR1vtajd   \n",
       "3       Denis   32         30        60877     Berlin   AÜVu8kuWB   \n",
       "4     Annette   32         30        17713     Bremen   m9SeNjQWä   \n",
       "..        ...  ...        ...          ...        ...         ...   \n",
       "95      Beate   35         30        80018       <NA>      8pÄHzm   \n",
       "96      Erika   36         30        63425     Bremen       nÜbC0   \n",
       "97    Karsten   35         30        57200     Berlin      ä3Kw5c   \n",
       "98       Anja   39         30         <NA>     Bremen   NV5FXxueQ   \n",
       "99     Bärbel   29         20        57296     Berlin       vyzSE   \n",
       "\n",
       "           features       history  \n",
       "0         {Z, U, x}     [c, b, a]  \n",
       "1   {X, S, Q, 0, 5}     [A, B, C]  \n",
       "2            {r, x}     [a, b, c]  \n",
       "3               {r}            []  \n",
       "4            {q, c}  [b, b, a, b]  \n",
       "..              ...           ...  \n",
       "95     {N, t, 0, w}        [A, x]  \n",
       "96  {q, f, o, N, V}  [b, b, a, b]  \n",
       "97              {T}            []  \n",
       "98     {X, m, N, c}            []  \n",
       "99              {o}     [A, A, A]  \n",
       "\n",
       "[100 rows x 8 columns]"
      ]
     },
     "execution_count": 8,
     "metadata": {},
     "output_type": "execute_result"
    },
    {
     "name": "stdout",
     "output_type": "stream",
     "text": [
      "time: 114 ms\n"
     ]
    }
   ],
   "source": [
    "# Generate test data\n",
    "s = pak.people()\n",
    "s"
   ]
  },
  {
   "cell_type": "code",
   "execution_count": 9,
   "id": "1dfb4fa9-22e4-450f-b82e-765bb28f6b28",
   "metadata": {},
   "outputs": [
    {
     "data": {
      "text/html": [
       "<div>\n",
       "<style scoped>\n",
       "    .dataframe tbody tr th:only-of-type {\n",
       "        vertical-align: middle;\n",
       "    }\n",
       "\n",
       "    .dataframe tbody tr th {\n",
       "        vertical-align: top;\n",
       "    }\n",
       "\n",
       "    .dataframe thead th {\n",
       "        text-align: right;\n",
       "    }\n",
       "</style>\n",
       "<table border=\"1\" class=\"dataframe\">\n",
       "  <thead>\n",
       "    <tr style=\"text-align: right;\">\n",
       "      <th></th>\n",
       "      <th>first_name</th>\n",
       "      <th>age_class</th>\n",
       "      <th>postal_code</th>\n",
       "      <th>birthplace</th>\n",
       "      <th>secret</th>\n",
       "      <th>features</th>\n",
       "      <th>history</th>\n",
       "      <th>AAGE</th>\n",
       "      <th>age</th>\n",
       "    </tr>\n",
       "  </thead>\n",
       "  <tbody>\n",
       "    <tr>\n",
       "      <th>0</th>\n",
       "      <td>Pascal</td>\n",
       "      <td>30</td>\n",
       "      <td>64441</td>\n",
       "      <td>&lt;NA&gt;</td>\n",
       "      <td>vPNBWzZKe</td>\n",
       "      <td>{Z, U, x}</td>\n",
       "      <td>[c, b, a]</td>\n",
       "      <td>0</td>\n",
       "      <td>33.0</td>\n",
       "    </tr>\n",
       "    <tr>\n",
       "      <th>1</th>\n",
       "      <td>Phil</td>\n",
       "      <td>20</td>\n",
       "      <td>83200</td>\n",
       "      <td>Berlin</td>\n",
       "      <td>tu1keenPÜ</td>\n",
       "      <td>{X, S, Q, 0, 5}</td>\n",
       "      <td>[A, B, C]</td>\n",
       "      <td>0</td>\n",
       "      <td>28.0</td>\n",
       "    </tr>\n",
       "    <tr>\n",
       "      <th>2</th>\n",
       "      <td>Stephanie</td>\n",
       "      <td>20</td>\n",
       "      <td>79254</td>\n",
       "      <td>&lt;NA&gt;</td>\n",
       "      <td>OcyR1vtajd</td>\n",
       "      <td>{r, x}</td>\n",
       "      <td>[a, b, c]</td>\n",
       "      <td>0</td>\n",
       "      <td>27.0</td>\n",
       "    </tr>\n",
       "    <tr>\n",
       "      <th>3</th>\n",
       "      <td>Denis</td>\n",
       "      <td>30</td>\n",
       "      <td>60877</td>\n",
       "      <td>Berlin</td>\n",
       "      <td>AÜVu8kuWB</td>\n",
       "      <td>{r}</td>\n",
       "      <td>[]</td>\n",
       "      <td>0</td>\n",
       "      <td>32.0</td>\n",
       "    </tr>\n",
       "    <tr>\n",
       "      <th>4</th>\n",
       "      <td>Annette</td>\n",
       "      <td>30</td>\n",
       "      <td>17713</td>\n",
       "      <td>Bremen</td>\n",
       "      <td>m9SeNjQWä</td>\n",
       "      <td>{q, c}</td>\n",
       "      <td>[b, b, a, b]</td>\n",
       "      <td>0</td>\n",
       "      <td>32.0</td>\n",
       "    </tr>\n",
       "    <tr>\n",
       "      <th>...</th>\n",
       "      <td>...</td>\n",
       "      <td>...</td>\n",
       "      <td>...</td>\n",
       "      <td>...</td>\n",
       "      <td>...</td>\n",
       "      <td>...</td>\n",
       "      <td>...</td>\n",
       "      <td>...</td>\n",
       "      <td>...</td>\n",
       "    </tr>\n",
       "    <tr>\n",
       "      <th>95</th>\n",
       "      <td>Beate</td>\n",
       "      <td>30</td>\n",
       "      <td>80018</td>\n",
       "      <td>&lt;NA&gt;</td>\n",
       "      <td>8pÄHzm</td>\n",
       "      <td>{N, t, 0, w}</td>\n",
       "      <td>[A, x]</td>\n",
       "      <td>0</td>\n",
       "      <td>35.0</td>\n",
       "    </tr>\n",
       "    <tr>\n",
       "      <th>96</th>\n",
       "      <td>Erika</td>\n",
       "      <td>30</td>\n",
       "      <td>63425</td>\n",
       "      <td>Bremen</td>\n",
       "      <td>nÜbC0</td>\n",
       "      <td>{q, f, o, N, V}</td>\n",
       "      <td>[b, b, a, b]</td>\n",
       "      <td>0</td>\n",
       "      <td>36.0</td>\n",
       "    </tr>\n",
       "    <tr>\n",
       "      <th>97</th>\n",
       "      <td>Karsten</td>\n",
       "      <td>30</td>\n",
       "      <td>57200</td>\n",
       "      <td>Berlin</td>\n",
       "      <td>ä3Kw5c</td>\n",
       "      <td>{T}</td>\n",
       "      <td>[]</td>\n",
       "      <td>0</td>\n",
       "      <td>35.0</td>\n",
       "    </tr>\n",
       "    <tr>\n",
       "      <th>98</th>\n",
       "      <td>Anja</td>\n",
       "      <td>30</td>\n",
       "      <td>&lt;NA&gt;</td>\n",
       "      <td>Bremen</td>\n",
       "      <td>NV5FXxueQ</td>\n",
       "      <td>{X, m, N, c}</td>\n",
       "      <td>[]</td>\n",
       "      <td>0</td>\n",
       "      <td>39.0</td>\n",
       "    </tr>\n",
       "    <tr>\n",
       "      <th>99</th>\n",
       "      <td>Bärbel</td>\n",
       "      <td>20</td>\n",
       "      <td>57296</td>\n",
       "      <td>Berlin</td>\n",
       "      <td>vyzSE</td>\n",
       "      <td>{o}</td>\n",
       "      <td>[A, A, A]</td>\n",
       "      <td>0</td>\n",
       "      <td>29.0</td>\n",
       "    </tr>\n",
       "  </tbody>\n",
       "</table>\n",
       "<p>100 rows × 9 columns</p>\n",
       "</div>"
      ],
      "text/plain": [
       "   first_name  age_class  postal_code birthplace      secret         features  \\\n",
       "0      Pascal         30        64441       <NA>   vPNBWzZKe        {Z, U, x}   \n",
       "1        Phil         20        83200     Berlin   tu1keenPÜ  {X, S, Q, 0, 5}   \n",
       "2   Stephanie         20        79254       <NA>  OcyR1vtajd           {r, x}   \n",
       "3       Denis         30        60877     Berlin   AÜVu8kuWB              {r}   \n",
       "4     Annette         30        17713     Bremen   m9SeNjQWä           {q, c}   \n",
       "..        ...        ...          ...        ...         ...              ...   \n",
       "95      Beate         30        80018       <NA>      8pÄHzm     {N, t, 0, w}   \n",
       "96      Erika         30        63425     Bremen       nÜbC0  {q, f, o, N, V}   \n",
       "97    Karsten         30        57200     Berlin      ä3Kw5c              {T}   \n",
       "98       Anja         30         <NA>     Bremen   NV5FXxueQ     {X, m, N, c}   \n",
       "99     Bärbel         20        57296     Berlin       vyzSE              {o}   \n",
       "\n",
       "         history  AAGE   age  \n",
       "0      [c, b, a]     0  33.0  \n",
       "1      [A, B, C]     0  28.0  \n",
       "2      [a, b, c]     0  27.0  \n",
       "3             []     0  32.0  \n",
       "4   [b, b, a, b]     0  32.0  \n",
       "..           ...   ...   ...  \n",
       "95        [A, x]     0  35.0  \n",
       "96  [b, b, a, b]     0  36.0  \n",
       "97            []     0  35.0  \n",
       "98            []     0  39.0  \n",
       "99     [A, A, A]     0  29.0  \n",
       "\n",
       "[100 rows x 9 columns]"
      ]
     },
     "execution_count": 9,
     "metadata": {},
     "output_type": "execute_result"
    },
    {
     "name": "stdout",
     "output_type": "stream",
     "text": [
      "time: 49.9 ms\n"
     ]
    }
   ],
   "source": [
    "# Generate compare data\n",
    "# Play with it!\n",
    "\n",
    "t = s.copy()\n",
    "# t.name = 's' # name\n",
    "# t = t[:99] # len\n",
    "# t = t.apply(pak.decorate, p=0.5) # nan\n",
    "t['age'] = t.age.astype('float') # dtype\n",
    "\n",
    "#t = t.sort_values()\n",
    "#t = pak.drop_cols(t, 'age')\n",
    "t['AAGE'] = 0\n",
    "#t = t.sort_values(['first_name'])\n",
    "#t.loc[0,'age'] = None\n",
    "#t = t.head(50)\n",
    "t= pak.move_cols(t,'age',-1)\n",
    "t\n",
    "\n"
   ]
  },
  {
   "cell_type": "code",
   "execution_count": 10,
   "id": "3cf708b9-e924-4018-abb8-b5cc8f94f6e8",
   "metadata": {},
   "outputs": [
    {
     "data": {
      "text/html": [
       "<div>\n",
       "<style scoped>\n",
       "    .dataframe tbody tr th:only-of-type {\n",
       "        vertical-align: middle;\n",
       "    }\n",
       "\n",
       "    .dataframe tbody tr th {\n",
       "        vertical-align: top;\n",
       "    }\n",
       "\n",
       "    .dataframe thead th {\n",
       "        text-align: right;\n",
       "    }\n",
       "</style>\n",
       "<table border=\"1\" class=\"dataframe\">\n",
       "  <thead>\n",
       "    <tr style=\"text-align: right;\">\n",
       "      <th></th>\n",
       "      <th>name</th>\n",
       "      <th>dtype</th>\n",
       "      <th>nnan</th>\n",
       "      <th>content</th>\n",
       "      <th>sort</th>\n",
       "      <th>eq</th>\n",
       "    </tr>\n",
       "  </thead>\n",
       "  <tbody>\n",
       "    <tr>\n",
       "      <th>first_name</th>\n",
       "      <td>True</td>\n",
       "      <td>True</td>\n",
       "      <td>True</td>\n",
       "      <td>True</td>\n",
       "      <td>True</td>\n",
       "      <td>True</td>\n",
       "    </tr>\n",
       "    <tr>\n",
       "      <th>age_class</th>\n",
       "      <td>True</td>\n",
       "      <td>True</td>\n",
       "      <td>True</td>\n",
       "      <td>True</td>\n",
       "      <td>True</td>\n",
       "      <td>True</td>\n",
       "    </tr>\n",
       "    <tr>\n",
       "      <th>postal_code</th>\n",
       "      <td>True</td>\n",
       "      <td>True</td>\n",
       "      <td>True</td>\n",
       "      <td>True</td>\n",
       "      <td>True</td>\n",
       "      <td>True</td>\n",
       "    </tr>\n",
       "    <tr>\n",
       "      <th>birthplace</th>\n",
       "      <td>True</td>\n",
       "      <td>True</td>\n",
       "      <td>True</td>\n",
       "      <td>True</td>\n",
       "      <td>True</td>\n",
       "      <td>True</td>\n",
       "    </tr>\n",
       "    <tr>\n",
       "      <th>secret</th>\n",
       "      <td>True</td>\n",
       "      <td>True</td>\n",
       "      <td>True</td>\n",
       "      <td>True</td>\n",
       "      <td>True</td>\n",
       "      <td>True</td>\n",
       "    </tr>\n",
       "    <tr>\n",
       "      <th>features</th>\n",
       "      <td>True</td>\n",
       "      <td>True</td>\n",
       "      <td>True</td>\n",
       "      <td>True</td>\n",
       "      <td>True</td>\n",
       "      <td>True</td>\n",
       "    </tr>\n",
       "    <tr>\n",
       "      <th>history</th>\n",
       "      <td>True</td>\n",
       "      <td>True</td>\n",
       "      <td>True</td>\n",
       "      <td>True</td>\n",
       "      <td>True</td>\n",
       "      <td>True</td>\n",
       "    </tr>\n",
       "    <tr>\n",
       "      <th>age</th>\n",
       "      <td>True</td>\n",
       "      <td>False</td>\n",
       "      <td>True</td>\n",
       "      <td>True</td>\n",
       "      <td>True</td>\n",
       "      <td>True</td>\n",
       "    </tr>\n",
       "    <tr>\n",
       "      <th>AAGE</th>\n",
       "      <td>right_only</td>\n",
       "      <td>None</td>\n",
       "      <td>None</td>\n",
       "      <td>False</td>\n",
       "      <td>None</td>\n",
       "      <td>False</td>\n",
       "    </tr>\n",
       "    <tr>\n",
       "      <th>(Total)</th>\n",
       "      <td>False</td>\n",
       "      <td>False</td>\n",
       "      <td>False</td>\n",
       "      <td>False</td>\n",
       "      <td>False</td>\n",
       "      <td>False</td>\n",
       "    </tr>\n",
       "  </tbody>\n",
       "</table>\n",
       "</div>"
      ],
      "text/plain": [
       "                   name  dtype   nnan content   sort     eq\n",
       "first_name         True   True   True    True   True   True\n",
       "age_class          True   True   True    True   True   True\n",
       "postal_code        True   True   True    True   True   True\n",
       "birthplace         True   True   True    True   True   True\n",
       "secret             True   True   True    True   True   True\n",
       "features           True   True   True    True   True   True\n",
       "history            True   True   True    True   True   True\n",
       "age                True  False   True    True   True   True\n",
       "AAGE         right_only   None   None   False   None  False\n",
       "(Total)           False  False  False   False  False  False"
      ]
     },
     "execution_count": 10,
     "metadata": {},
     "output_type": "execute_result"
    },
    {
     "name": "stdout",
     "output_type": "stream",
     "text": [
      "time: 44.6 ms\n"
     ]
    }
   ],
   "source": [
    "# Output as DataFrame\n",
    "pak.compare_dataframes(s,t)"
   ]
  },
  {
   "cell_type": "code",
   "execution_count": 11,
   "id": "40c69016-27b9-401d-ac92-d4d440f0dcb3",
   "metadata": {},
   "outputs": [
    {
     "data": {
      "text/plain": [
       "{'name': False,\n",
       " 'dtype': False,\n",
       " 'nnan': False,\n",
       " 'content': False,\n",
       " 'sort': False,\n",
       " 'eq': False}"
      ]
     },
     "execution_count": 11,
     "metadata": {},
     "output_type": "execute_result"
    },
    {
     "name": "stdout",
     "output_type": "stream",
     "text": [
      "time: 47.2 ms\n"
     ]
    }
   ],
   "source": [
    "# Output as dict\n",
    "pak.compare_dataframes(s,t, format='dict')"
   ]
  },
  {
   "cell_type": "code",
   "execution_count": 12,
   "id": "ba5185b9-c46d-4156-aa08-cc48d5bd8eac",
   "metadata": {},
   "outputs": [
    {
     "data": {
      "text/plain": [
       "False"
      ]
     },
     "execution_count": 12,
     "metadata": {},
     "output_type": "execute_result"
    },
    {
     "name": "stdout",
     "output_type": "stream",
     "text": [
      "time: 61.1 ms\n"
     ]
    }
   ],
   "source": [
    "# Output as bool\n",
    "pak.compare_dataframes(s,t, format='bool')"
   ]
  },
  {
   "cell_type": "code",
   "execution_count": 13,
   "id": "2e00595b-cd5a-4320-9bed-e2068814ebc2",
   "metadata": {},
   "outputs": [
    {
     "data": {
      "text/plain": [
       "False"
      ]
     },
     "execution_count": 13,
     "metadata": {},
     "output_type": "execute_result"
    },
    {
     "name": "stdout",
     "output_type": "stream",
     "text": [
      "time: 28.4 ms\n"
     ]
    }
   ],
   "source": [
    "# This ist the same as check_equal\n",
    "pak.check_equal(s,t)"
   ]
  },
  {
   "cell_type": "markdown",
   "id": "b64996f2-3732-4fed-8115-c567b117e32e",
   "metadata": {},
   "source": [
    "## check_equal()"
   ]
  },
  {
   "cell_type": "code",
   "execution_count": 14,
   "id": "d8dc1d2a-d12c-4c2b-9f3b-ee0c70e06c96",
   "metadata": {},
   "outputs": [
    {
     "name": "stdout",
     "output_type": "stream",
     "text": [
      "time: 18.3 ms\n"
     ]
    },
    {
     "data": {
      "text/plain": [
       "\u001b[0;31mSignature:\u001b[0m \u001b[0mpak\u001b[0m\u001b[0;34m.\u001b[0m\u001b[0mcheck_equal\u001b[0m\u001b[0;34m(\u001b[0m\u001b[0mobj1\u001b[0m\u001b[0;34m,\u001b[0m \u001b[0mobj2\u001b[0m\u001b[0;34m,\u001b[0m \u001b[0mreset_index\u001b[0m\u001b[0;34m=\u001b[0m\u001b[0;32mFalse\u001b[0m\u001b[0;34m)\u001b[0m\u001b[0;34m\u001b[0m\u001b[0;34m\u001b[0m\u001b[0m\n",
       "\u001b[0;31mDocstring:\u001b[0m\n",
       "Compares the content of two DataFrames column by column.\n",
       "Two DataFrames are equal, if \n",
       "* they have the same shape\n",
       "* they have the same column names\n",
       "* and compare_dataframes(format='bool') is True\n",
       "\u001b[0;31mFile:\u001b[0m      ~/Data_Linux/Dropbox/31_Projekte/01_Python/git/pandasklar/src/pandasklar/compare.py\n",
       "\u001b[0;31mType:\u001b[0m      function\n"
      ]
     },
     "metadata": {},
     "output_type": "display_data"
    }
   ],
   "source": [
    "?pak.check_equal"
   ]
  },
  {
   "cell_type": "code",
   "execution_count": 15,
   "id": "02668d91-2f40-4201-a3e2-8060d5214429",
   "metadata": {},
   "outputs": [
    {
     "name": "stdout",
     "output_type": "stream",
     "text": [
      "Input rtype=('list', 'list', 'str') shape=(8, 8)\n",
      "rotated=False Output rtype=('DataFrame', 'Series') shape=(8, 8)\n",
      "Input rtype=('list', 'list', 'str') shape=(8, 8)\n",
      "rotated=False Output rtype=('DataFrame', 'Series') shape=(8, 8)\n"
     ]
    },
    {
     "data": {
      "text/html": [
       "<div>\n",
       "<style scoped>\n",
       "    .dataframe tbody tr th:only-of-type {\n",
       "        vertical-align: middle;\n",
       "    }\n",
       "\n",
       "    .dataframe tbody tr th {\n",
       "        vertical-align: top;\n",
       "    }\n",
       "\n",
       "    .dataframe thead th {\n",
       "        text-align: right;\n",
       "    }\n",
       "</style>\n",
       "<table border=\"1\" class=\"dataframe\">\n",
       "  <thead>\n",
       "    <tr style=\"text-align: right;\">\n",
       "      <th></th>\n",
       "      <th>A</th>\n",
       "      <th>B</th>\n",
       "      <th>C</th>\n",
       "      <th>D</th>\n",
       "      <th>E</th>\n",
       "      <th>F</th>\n",
       "      <th>G</th>\n",
       "      <th>H</th>\n",
       "    </tr>\n",
       "  </thead>\n",
       "  <tbody>\n",
       "    <tr>\n",
       "      <th>0</th>\n",
       "      <td>B</td>\n",
       "      <td>a</td>\n",
       "      <td>b</td>\n",
       "      <td>y</td>\n",
       "      <td>k</td>\n",
       "      <td>o</td>\n",
       "      <td>r</td>\n",
       "      <td>b</td>\n",
       "    </tr>\n",
       "    <tr>\n",
       "      <th>1</th>\n",
       "      <td>a</td>\n",
       "      <td>b</td>\n",
       "      <td>f</td>\n",
       "      <td>ä</td>\n",
       "      <td>l</td>\n",
       "      <td>l</td>\n",
       "      <td>i</td>\n",
       "      <td>g</td>\n",
       "    </tr>\n",
       "    <tr>\n",
       "      <th>2</th>\n",
       "      <td>A</td>\n",
       "      <td>b</td>\n",
       "      <td>g</td>\n",
       "      <td>r</td>\n",
       "      <td>ü</td>\n",
       "      <td>n</td>\n",
       "      <td>d</td>\n",
       "      <td>e</td>\n",
       "    </tr>\n",
       "    <tr>\n",
       "      <th>3</th>\n",
       "      <td>K</td>\n",
       "      <td>ä</td>\n",
       "      <td>t</td>\n",
       "      <td>z</td>\n",
       "      <td>c</td>\n",
       "      <td>h</td>\n",
       "      <td>e</td>\n",
       "      <td>n</td>\n",
       "    </tr>\n",
       "    <tr>\n",
       "      <th>4</th>\n",
       "      <td>L</td>\n",
       "      <td>a</td>\n",
       "      <td>n</td>\n",
       "      <td>d</td>\n",
       "      <td>w</td>\n",
       "      <td>i</td>\n",
       "      <td>r</td>\n",
       "      <td>t</td>\n",
       "    </tr>\n",
       "    <tr>\n",
       "      <th>5</th>\n",
       "      <td>l</td>\n",
       "      <td>e</td>\n",
       "      <td>b</td>\n",
       "      <td>e</td>\n",
       "      <td>n</td>\n",
       "      <td>d</td>\n",
       "      <td>i</td>\n",
       "      <td>g</td>\n",
       "    </tr>\n",
       "    <tr>\n",
       "      <th>6</th>\n",
       "      <td>S</td>\n",
       "      <td>a</td>\n",
       "      <td>u</td>\n",
       "      <td>g</td>\n",
       "      <td>r</td>\n",
       "      <td>o</td>\n",
       "      <td>h</td>\n",
       "      <td>r</td>\n",
       "    </tr>\n",
       "    <tr>\n",
       "      <th>7</th>\n",
       "      <td>T</td>\n",
       "      <td>r</td>\n",
       "      <td>u</td>\n",
       "      <td>g</td>\n",
       "      <td>b</td>\n",
       "      <td>i</td>\n",
       "      <td>l</td>\n",
       "      <td>d</td>\n",
       "    </tr>\n",
       "  </tbody>\n",
       "</table>\n",
       "</div>"
      ],
      "text/plain": [
       "   A  B  C  D  E  F  G  H\n",
       "0  B  a  b  y  k  o  r  b\n",
       "1  a  b  f  ä  l  l  i  g\n",
       "2  A  b  g  r  ü  n  d  e\n",
       "3  K  ä  t  z  c  h  e  n\n",
       "4  L  a  n  d  w  i  r  t\n",
       "5  l  e  b  e  n  d  i  g\n",
       "6  S  a  u  g  r  o  h  r\n",
       "7  T  r  u  g  b  i  l  d"
      ]
     },
     "execution_count": 15,
     "metadata": {},
     "output_type": "execute_result"
    },
    {
     "name": "stdout",
     "output_type": "stream",
     "text": [
      "time: 30.6 ms\n"
     ]
    }
   ],
   "source": [
    "df1 = pak.dataframe( [ list('Babykorb'), \n",
    "                       list('abfällig'), \n",
    "                       list('Abgründe'), \n",
    "                       list('Kätzchen'), \n",
    "                       list('Landwirt'), \n",
    "                       list('lebendig'), \n",
    "                       list('Saugrohr'),       \n",
    "                       list('Trugbild'),                     \n",
    "                ] )\n",
    "\n",
    "df2 = pak.dataframe( [ list('Babykorb'), \n",
    "                       list('abfällig'), \n",
    "                       list('Abgründe'), \n",
    "                       list('Kätzchen'), \n",
    "                       list('Landwirt'), \n",
    "                       list('lebendig'), \n",
    "                       list('Saugrohr'),       \n",
    "                       list('Trugbild'),                     \n",
    "                ] )\n",
    "\n",
    "df1"
   ]
  },
  {
   "cell_type": "code",
   "execution_count": 16,
   "id": "bd066fea-d338-4ed4-ae96-93b3e05abc32",
   "metadata": {},
   "outputs": [
    {
     "name": "stdout",
     "output_type": "stream",
     "text": [
      "time: 43.5 ms\n"
     ]
    }
   ],
   "source": [
    "# Initially the DataFrames are equal\n",
    "assert pak.check_equal(df1, df2)"
   ]
  },
  {
   "cell_type": "code",
   "execution_count": 17,
   "id": "6f14ae02-1f1f-4cfa-9611-6e9450e654a3",
   "metadata": {},
   "outputs": [
    {
     "name": "stdout",
     "output_type": "stream",
     "text": [
      "time: 37.6 ms\n"
     ]
    }
   ],
   "source": [
    "# One change >> not equal\n",
    "mask = df2['A'] == 'L'\n",
    "df2.loc[mask,'A'] = 'R'\n",
    "assert not pak.check_equal(df1, df2)"
   ]
  },
  {
   "cell_type": "code",
   "execution_count": 18,
   "id": "6cab2c1d-90df-48bc-b492-788fc1db5515",
   "metadata": {},
   "outputs": [
    {
     "name": "stdout",
     "output_type": "stream",
     "text": [
      "time: 45.7 ms\n"
     ]
    }
   ],
   "source": [
    "# Change back >> equal again\n",
    "mask = df2['A'] == 'R'\n",
    "df2.loc[mask,'A'] = 'L'\n",
    "assert pak.check_equal(df1, df2)"
   ]
  },
  {
   "cell_type": "code",
   "execution_count": 19,
   "id": "707c5b17-6889-4fcb-b655-a2eeaa724507",
   "metadata": {},
   "outputs": [
    {
     "data": {
      "text/html": [
       "<div>\n",
       "<style scoped>\n",
       "    .dataframe tbody tr th:only-of-type {\n",
       "        vertical-align: middle;\n",
       "    }\n",
       "\n",
       "    .dataframe tbody tr th {\n",
       "        vertical-align: top;\n",
       "    }\n",
       "\n",
       "    .dataframe thead th {\n",
       "        text-align: right;\n",
       "    }\n",
       "</style>\n",
       "<table border=\"1\" class=\"dataframe\">\n",
       "  <thead>\n",
       "    <tr style=\"text-align: right;\">\n",
       "      <th></th>\n",
       "      <th>D</th>\n",
       "      <th>A</th>\n",
       "      <th>B</th>\n",
       "      <th>C</th>\n",
       "      <th>E</th>\n",
       "      <th>F</th>\n",
       "      <th>G</th>\n",
       "      <th>H</th>\n",
       "    </tr>\n",
       "  </thead>\n",
       "  <tbody>\n",
       "    <tr>\n",
       "      <th>4</th>\n",
       "      <td>d</td>\n",
       "      <td>L</td>\n",
       "      <td>a</td>\n",
       "      <td>n</td>\n",
       "      <td>w</td>\n",
       "      <td>i</td>\n",
       "      <td>r</td>\n",
       "      <td>t</td>\n",
       "    </tr>\n",
       "    <tr>\n",
       "      <th>5</th>\n",
       "      <td>e</td>\n",
       "      <td>l</td>\n",
       "      <td>e</td>\n",
       "      <td>b</td>\n",
       "      <td>n</td>\n",
       "      <td>d</td>\n",
       "      <td>i</td>\n",
       "      <td>g</td>\n",
       "    </tr>\n",
       "    <tr>\n",
       "      <th>6</th>\n",
       "      <td>g</td>\n",
       "      <td>S</td>\n",
       "      <td>a</td>\n",
       "      <td>u</td>\n",
       "      <td>r</td>\n",
       "      <td>o</td>\n",
       "      <td>h</td>\n",
       "      <td>r</td>\n",
       "    </tr>\n",
       "    <tr>\n",
       "      <th>7</th>\n",
       "      <td>g</td>\n",
       "      <td>T</td>\n",
       "      <td>r</td>\n",
       "      <td>u</td>\n",
       "      <td>b</td>\n",
       "      <td>i</td>\n",
       "      <td>l</td>\n",
       "      <td>d</td>\n",
       "    </tr>\n",
       "    <tr>\n",
       "      <th>2</th>\n",
       "      <td>r</td>\n",
       "      <td>A</td>\n",
       "      <td>b</td>\n",
       "      <td>g</td>\n",
       "      <td>ü</td>\n",
       "      <td>n</td>\n",
       "      <td>d</td>\n",
       "      <td>e</td>\n",
       "    </tr>\n",
       "    <tr>\n",
       "      <th>0</th>\n",
       "      <td>y</td>\n",
       "      <td>B</td>\n",
       "      <td>a</td>\n",
       "      <td>b</td>\n",
       "      <td>k</td>\n",
       "      <td>o</td>\n",
       "      <td>r</td>\n",
       "      <td>b</td>\n",
       "    </tr>\n",
       "    <tr>\n",
       "      <th>3</th>\n",
       "      <td>z</td>\n",
       "      <td>K</td>\n",
       "      <td>ä</td>\n",
       "      <td>t</td>\n",
       "      <td>c</td>\n",
       "      <td>h</td>\n",
       "      <td>e</td>\n",
       "      <td>n</td>\n",
       "    </tr>\n",
       "    <tr>\n",
       "      <th>1</th>\n",
       "      <td>ä</td>\n",
       "      <td>a</td>\n",
       "      <td>b</td>\n",
       "      <td>f</td>\n",
       "      <td>l</td>\n",
       "      <td>l</td>\n",
       "      <td>i</td>\n",
       "      <td>g</td>\n",
       "    </tr>\n",
       "  </tbody>\n",
       "</table>\n",
       "</div>"
      ],
      "text/plain": [
       "   D  A  B  C  E  F  G  H\n",
       "4  d  L  a  n  w  i  r  t\n",
       "5  e  l  e  b  n  d  i  g\n",
       "6  g  S  a  u  r  o  h  r\n",
       "7  g  T  r  u  b  i  l  d\n",
       "2  r  A  b  g  ü  n  d  e\n",
       "0  y  B  a  b  k  o  r  b\n",
       "3  z  K  ä  t  c  h  e  n\n",
       "1  ä  a  b  f  l  l  i  g"
      ]
     },
     "execution_count": 19,
     "metadata": {},
     "output_type": "execute_result"
    },
    {
     "name": "stdout",
     "output_type": "stream",
     "text": [
      "time: 22 ms\n"
     ]
    }
   ],
   "source": [
    "# change column order and row order \n",
    "df2 = pak.move_cols(df2,'D').sort_values('D')\n",
    "df2"
   ]
  },
  {
   "cell_type": "code",
   "execution_count": 20,
   "id": "6ebeb2a4-e2ab-471a-8faa-a48f94175903",
   "metadata": {},
   "outputs": [
    {
     "name": "stdout",
     "output_type": "stream",
     "text": [
      "time: 37.1 ms\n"
     ]
    }
   ],
   "source": [
    "# still equal\n",
    "assert pak.check_equal(df1, df2)"
   ]
  },
  {
   "cell_type": "markdown",
   "id": "4f34c45c-0a45-42db-b019-6d1eacb776ab",
   "metadata": {},
   "source": [
    "## compare_col_dtype()"
   ]
  },
  {
   "cell_type": "code",
   "execution_count": 21,
   "id": "90892cbd-7da9-4a44-aa9a-16695e892b6f",
   "metadata": {},
   "outputs": [
    {
     "name": "stdout",
     "output_type": "stream",
     "text": [
      "time: 20.9 ms\n"
     ]
    },
    {
     "data": {
      "text/plain": [
       "\u001b[0;31mSignature:\u001b[0m \u001b[0mpak\u001b[0m\u001b[0;34m.\u001b[0m\u001b[0mcompare_col_dtype\u001b[0m\u001b[0;34m(\u001b[0m\u001b[0mdf1\u001b[0m\u001b[0;34m,\u001b[0m \u001b[0mdf2\u001b[0m\u001b[0;34m)\u001b[0m\u001b[0;34m\u001b[0m\u001b[0;34m\u001b[0m\u001b[0m\n",
       "\u001b[0;31mDocstring:\u001b[0m Returns the column names of two DataFrames whose dtype differs.\n",
       "\u001b[0;31mFile:\u001b[0m      ~/Data_Linux/Dropbox/31_Projekte/01_Python/git/pandasklar/src/pandasklar/compare.py\n",
       "\u001b[0;31mType:\u001b[0m      function\n"
      ]
     },
     "metadata": {},
     "output_type": "display_data"
    }
   ],
   "source": [
    "?pak.compare_col_dtype"
   ]
  },
  {
   "cell_type": "code",
   "execution_count": 22,
   "id": "9cf65e06-c4cd-46e4-9559-a3de1a25a6c3",
   "metadata": {},
   "outputs": [
    {
     "data": {
      "text/plain": [
       "['age']"
      ]
     },
     "execution_count": 22,
     "metadata": {},
     "output_type": "execute_result"
    },
    {
     "name": "stdout",
     "output_type": "stream",
     "text": [
      "time: 23.5 ms\n"
     ]
    }
   ],
   "source": [
    "pak.compare_col_dtype(s, t)"
   ]
  },
  {
   "cell_type": "markdown",
   "id": "76ef00e2-a18f-4c8b-be2d-2ebd329e1c63",
   "metadata": {},
   "source": [
    "## get_different_rows()"
   ]
  },
  {
   "cell_type": "code",
   "execution_count": 23,
   "id": "eeca4418-f901-4882-a737-52674785d1af",
   "metadata": {},
   "outputs": [
    {
     "name": "stdout",
     "output_type": "stream",
     "text": [
      "time: 19.2 ms\n"
     ]
    },
    {
     "data": {
      "text/plain": [
       "\u001b[0;31mSignature:\u001b[0m \u001b[0mpak\u001b[0m\u001b[0;34m.\u001b[0m\u001b[0mget_different_rows\u001b[0m\u001b[0;34m(\u001b[0m\u001b[0mdf1\u001b[0m\u001b[0;34m,\u001b[0m \u001b[0mdf2\u001b[0m\u001b[0;34m,\u001b[0m \u001b[0mindicator\u001b[0m\u001b[0;34m=\u001b[0m\u001b[0;32mTrue\u001b[0m\u001b[0;34m)\u001b[0m\u001b[0;34m\u001b[0m\u001b[0;34m\u001b[0m\u001b[0m\n",
       "\u001b[0;31mDocstring:\u001b[0m\n",
       "Returns the rows of two DataFrames that differ. \n",
       "Additional or missing columns are ignored.\n",
       "Float columns may cause mistakes.\n",
       "\u001b[0;31mFile:\u001b[0m      ~/Data_Linux/Dropbox/31_Projekte/01_Python/git/pandasklar/src/pandasklar/compare.py\n",
       "\u001b[0;31mType:\u001b[0m      function\n"
      ]
     },
     "metadata": {},
     "output_type": "display_data"
    }
   ],
   "source": [
    "?pak.get_different_rows"
   ]
  },
  {
   "cell_type": "code",
   "execution_count": 24,
   "id": "4bc32f8e-a7de-4d12-ae07-fb2447a532aa",
   "metadata": {},
   "outputs": [
    {
     "data": {
      "text/html": [
       "<div>\n",
       "<style scoped>\n",
       "    .dataframe tbody tr th:only-of-type {\n",
       "        vertical-align: middle;\n",
       "    }\n",
       "\n",
       "    .dataframe tbody tr th {\n",
       "        vertical-align: top;\n",
       "    }\n",
       "\n",
       "    .dataframe thead th {\n",
       "        text-align: right;\n",
       "    }\n",
       "</style>\n",
       "<table border=\"1\" class=\"dataframe\">\n",
       "  <thead>\n",
       "    <tr style=\"text-align: right;\">\n",
       "      <th></th>\n",
       "      <th>first_name</th>\n",
       "      <th>age_class</th>\n",
       "      <th>postal_code</th>\n",
       "      <th>birthplace</th>\n",
       "      <th>features</th>\n",
       "      <th>history</th>\n",
       "      <th>age</th>\n",
       "      <th>AAGE</th>\n",
       "    </tr>\n",
       "  </thead>\n",
       "  <tbody>\n",
       "    <tr>\n",
       "      <th>61</th>\n",
       "      <td>Ali</td>\n",
       "      <td>30</td>\n",
       "      <td>89670</td>\n",
       "      <td>Berlin</td>\n",
       "      <td>{n, O, j, 1, H}</td>\n",
       "      <td>[a, b, c]</td>\n",
       "      <td>30</td>\n",
       "      <td>0</td>\n",
       "    </tr>\n",
       "    <tr>\n",
       "      <th>31</th>\n",
       "      <td>Amelie</td>\n",
       "      <td>30</td>\n",
       "      <td>59633</td>\n",
       "      <td>Berlin</td>\n",
       "      <td>{p, U}</td>\n",
       "      <td>[A, x]</td>\n",
       "      <td>30</td>\n",
       "      <td>0</td>\n",
       "    </tr>\n",
       "    <tr>\n",
       "      <th>74</th>\n",
       "      <td>Amelie</td>\n",
       "      <td>20</td>\n",
       "      <td>68741</td>\n",
       "      <td>Berlin</td>\n",
       "      <td>{o, V}</td>\n",
       "      <td>[b, b, a, b]</td>\n",
       "      <td>24</td>\n",
       "      <td>0</td>\n",
       "    </tr>\n",
       "    <tr>\n",
       "      <th>10</th>\n",
       "      <td>Anja</td>\n",
       "      <td>30</td>\n",
       "      <td>38889</td>\n",
       "      <td>Berlin</td>\n",
       "      <td>{k, H}</td>\n",
       "      <td>[a, b, c]</td>\n",
       "      <td>34</td>\n",
       "      <td>0</td>\n",
       "    </tr>\n",
       "    <tr>\n",
       "      <th>98</th>\n",
       "      <td>Anja</td>\n",
       "      <td>30</td>\n",
       "      <td>&lt;NA&gt;</td>\n",
       "      <td>Bremen</td>\n",
       "      <td>{X, m, N, c}</td>\n",
       "      <td>[]</td>\n",
       "      <td>39</td>\n",
       "      <td>0</td>\n",
       "    </tr>\n",
       "    <tr>\n",
       "      <th>...</th>\n",
       "      <td>...</td>\n",
       "      <td>...</td>\n",
       "      <td>...</td>\n",
       "      <td>...</td>\n",
       "      <td>...</td>\n",
       "      <td>...</td>\n",
       "      <td>...</td>\n",
       "      <td>...</td>\n",
       "    </tr>\n",
       "    <tr>\n",
       "      <th>37</th>\n",
       "      <td>Wilhelm</td>\n",
       "      <td>30</td>\n",
       "      <td>46248</td>\n",
       "      <td>Bremen</td>\n",
       "      <td>{d, 3, T, m, u}</td>\n",
       "      <td>[A, B, C, C]</td>\n",
       "      <td>36</td>\n",
       "      <td>0</td>\n",
       "    </tr>\n",
       "    <tr>\n",
       "      <th>78</th>\n",
       "      <td>Wolfgang</td>\n",
       "      <td>30</td>\n",
       "      <td>46248</td>\n",
       "      <td>&lt;NA&gt;</td>\n",
       "      <td>{f}</td>\n",
       "      <td>[a, b, c]</td>\n",
       "      <td>32</td>\n",
       "      <td>0</td>\n",
       "    </tr>\n",
       "    <tr>\n",
       "      <th>16</th>\n",
       "      <td>Wolfgang</td>\n",
       "      <td>20</td>\n",
       "      <td>91513</td>\n",
       "      <td>&lt;NA&gt;</td>\n",
       "      <td>{d, n, x, p, k}</td>\n",
       "      <td>[b, b, a, b]</td>\n",
       "      <td>26</td>\n",
       "      <td>0</td>\n",
       "    </tr>\n",
       "    <tr>\n",
       "      <th>58</th>\n",
       "      <td>Yannick</td>\n",
       "      <td>30</td>\n",
       "      <td>87853</td>\n",
       "      <td>Berlin</td>\n",
       "      <td>{R, 2}</td>\n",
       "      <td>[a, b, c]</td>\n",
       "      <td>34</td>\n",
       "      <td>0</td>\n",
       "    </tr>\n",
       "    <tr>\n",
       "      <th>59</th>\n",
       "      <td>Yvonne</td>\n",
       "      <td>30</td>\n",
       "      <td>11028</td>\n",
       "      <td>Berlin</td>\n",
       "      <td>{d, q, t, S, h}</td>\n",
       "      <td>[]</td>\n",
       "      <td>32</td>\n",
       "      <td>0</td>\n",
       "    </tr>\n",
       "  </tbody>\n",
       "</table>\n",
       "<p>100 rows × 8 columns</p>\n",
       "</div>"
      ],
      "text/plain": [
       "   first_name  age_class  postal_code birthplace         features  \\\n",
       "61        Ali         30        89670     Berlin  {n, O, j, 1, H}   \n",
       "31     Amelie         30        59633     Berlin           {p, U}   \n",
       "74     Amelie         20        68741     Berlin           {o, V}   \n",
       "10       Anja         30        38889     Berlin           {k, H}   \n",
       "98       Anja         30         <NA>     Bremen     {X, m, N, c}   \n",
       "..        ...        ...          ...        ...              ...   \n",
       "37    Wilhelm         30        46248     Bremen  {d, 3, T, m, u}   \n",
       "78   Wolfgang         30        46248       <NA>              {f}   \n",
       "16   Wolfgang         20        91513       <NA>  {d, n, x, p, k}   \n",
       "58    Yannick         30        87853     Berlin           {R, 2}   \n",
       "59     Yvonne         30        11028     Berlin  {d, q, t, S, h}   \n",
       "\n",
       "         history  age  AAGE  \n",
       "61     [a, b, c]   30     0  \n",
       "31        [A, x]   30     0  \n",
       "74  [b, b, a, b]   24     0  \n",
       "10     [a, b, c]   34     0  \n",
       "98            []   39     0  \n",
       "..           ...  ...   ...  \n",
       "37  [A, B, C, C]   36     0  \n",
       "78     [a, b, c]   32     0  \n",
       "16  [b, b, a, b]   26     0  \n",
       "58     [a, b, c]   34     0  \n",
       "59            []   32     0  \n",
       "\n",
       "[100 rows x 8 columns]"
      ]
     },
     "execution_count": 24,
     "metadata": {},
     "output_type": "execute_result"
    },
    {
     "name": "stdout",
     "output_type": "stream",
     "text": [
      "time: 53.5 ms\n"
     ]
    }
   ],
   "source": [
    "# Generate compare data\n",
    "# Play with it!\n",
    "\n",
    "t = s.copy()\n",
    "\n",
    "# change one value\n",
    "t.loc[0,'age'] = -1\n",
    "\n",
    "# change order\n",
    "t = t.sort_values(['first_name'])\n",
    "t= pak.move_cols(t,'age',-1)\n",
    "\n",
    "# additional or missing columns are ignored\n",
    "t['AAGE'] = 0\n",
    "t = pak.drop_cols(t, 'secret')\n",
    "\n",
    "t"
   ]
  },
  {
   "cell_type": "code",
   "execution_count": 25,
   "id": "72840bc1-dfc4-44ab-9e8f-42afbdc8f402",
   "metadata": {},
   "outputs": [
    {
     "data": {
      "text/html": [
       "<div>\n",
       "<style scoped>\n",
       "    .dataframe tbody tr th:only-of-type {\n",
       "        vertical-align: middle;\n",
       "    }\n",
       "\n",
       "    .dataframe tbody tr th {\n",
       "        vertical-align: top;\n",
       "    }\n",
       "\n",
       "    .dataframe thead th {\n",
       "        text-align: right;\n",
       "    }\n",
       "</style>\n",
       "<table border=\"1\" class=\"dataframe\">\n",
       "  <thead>\n",
       "    <tr style=\"text-align: right;\">\n",
       "      <th></th>\n",
       "      <th>first_name</th>\n",
       "      <th>age</th>\n",
       "      <th>age_class</th>\n",
       "      <th>postal_code</th>\n",
       "      <th>birthplace</th>\n",
       "      <th>secret</th>\n",
       "      <th>features</th>\n",
       "      <th>history</th>\n",
       "      <th>AAGE</th>\n",
       "      <th>_merge</th>\n",
       "    </tr>\n",
       "  </thead>\n",
       "  <tbody>\n",
       "    <tr>\n",
       "      <th>0</th>\n",
       "      <td>Ali</td>\n",
       "      <td>30</td>\n",
       "      <td>30</td>\n",
       "      <td>89670</td>\n",
       "      <td>Berlin</td>\n",
       "      <td>5üFgÄö</td>\n",
       "      <td>0           {Z, U, x}\\n1     {X, S, Q, 0, 5}\\n...</td>\n",
       "      <td>0        [c, b, a]\\n1        [A, B, C]\\n2     ...</td>\n",
       "      <td>NaN</td>\n",
       "      <td>left_only</td>\n",
       "    </tr>\n",
       "    <tr>\n",
       "      <th>1</th>\n",
       "      <td>Amelie</td>\n",
       "      <td>24</td>\n",
       "      <td>20</td>\n",
       "      <td>68741</td>\n",
       "      <td>Berlin</td>\n",
       "      <td>Pmzsb</td>\n",
       "      <td>0           {Z, U, x}\\n1     {X, S, Q, 0, 5}\\n...</td>\n",
       "      <td>0        [c, b, a]\\n1        [A, B, C]\\n2     ...</td>\n",
       "      <td>NaN</td>\n",
       "      <td>left_only</td>\n",
       "    </tr>\n",
       "    <tr>\n",
       "      <th>2</th>\n",
       "      <td>Amelie</td>\n",
       "      <td>30</td>\n",
       "      <td>30</td>\n",
       "      <td>59633</td>\n",
       "      <td>Berlin</td>\n",
       "      <td>brwd7dS</td>\n",
       "      <td>0           {Z, U, x}\\n1     {X, S, Q, 0, 5}\\n...</td>\n",
       "      <td>0        [c, b, a]\\n1        [A, B, C]\\n2     ...</td>\n",
       "      <td>NaN</td>\n",
       "      <td>left_only</td>\n",
       "    </tr>\n",
       "    <tr>\n",
       "      <th>3</th>\n",
       "      <td>Anja</td>\n",
       "      <td>21</td>\n",
       "      <td>20</td>\n",
       "      <td>54029</td>\n",
       "      <td>&lt;NA&gt;</td>\n",
       "      <td>ÖFmwIIeo</td>\n",
       "      <td>0           {Z, U, x}\\n1     {X, S, Q, 0, 5}\\n...</td>\n",
       "      <td>0        [c, b, a]\\n1        [A, B, C]\\n2     ...</td>\n",
       "      <td>NaN</td>\n",
       "      <td>left_only</td>\n",
       "    </tr>\n",
       "    <tr>\n",
       "      <th>4</th>\n",
       "      <td>Anja</td>\n",
       "      <td>34</td>\n",
       "      <td>30</td>\n",
       "      <td>38889</td>\n",
       "      <td>Berlin</td>\n",
       "      <td>3wGfmXLdJ1</td>\n",
       "      <td>0           {Z, U, x}\\n1     {X, S, Q, 0, 5}\\n...</td>\n",
       "      <td>0        [c, b, a]\\n1        [A, B, C]\\n2     ...</td>\n",
       "      <td>NaN</td>\n",
       "      <td>left_only</td>\n",
       "    </tr>\n",
       "    <tr>\n",
       "      <th>...</th>\n",
       "      <td>...</td>\n",
       "      <td>...</td>\n",
       "      <td>...</td>\n",
       "      <td>...</td>\n",
       "      <td>...</td>\n",
       "      <td>...</td>\n",
       "      <td>...</td>\n",
       "      <td>...</td>\n",
       "      <td>...</td>\n",
       "      <td>...</td>\n",
       "    </tr>\n",
       "    <tr>\n",
       "      <th>195</th>\n",
       "      <td>Wilhelm</td>\n",
       "      <td>36</td>\n",
       "      <td>30</td>\n",
       "      <td>46248</td>\n",
       "      <td>Bremen</td>\n",
       "      <td>&lt;NA&gt;</td>\n",
       "      <td>61    {n, O, j, 1, H}\\n31             {p, U}\\n...</td>\n",
       "      <td>61       [a, b, c]\\n31          [A, x]\\n74    ...</td>\n",
       "      <td>0.0</td>\n",
       "      <td>right_only</td>\n",
       "    </tr>\n",
       "    <tr>\n",
       "      <th>196</th>\n",
       "      <td>Wolfgang</td>\n",
       "      <td>26</td>\n",
       "      <td>20</td>\n",
       "      <td>91513</td>\n",
       "      <td>&lt;NA&gt;</td>\n",
       "      <td>&lt;NA&gt;</td>\n",
       "      <td>61    {n, O, j, 1, H}\\n31             {p, U}\\n...</td>\n",
       "      <td>61       [a, b, c]\\n31          [A, x]\\n74    ...</td>\n",
       "      <td>0.0</td>\n",
       "      <td>right_only</td>\n",
       "    </tr>\n",
       "    <tr>\n",
       "      <th>197</th>\n",
       "      <td>Wolfgang</td>\n",
       "      <td>32</td>\n",
       "      <td>30</td>\n",
       "      <td>46248</td>\n",
       "      <td>&lt;NA&gt;</td>\n",
       "      <td>&lt;NA&gt;</td>\n",
       "      <td>61    {n, O, j, 1, H}\\n31             {p, U}\\n...</td>\n",
       "      <td>61       [a, b, c]\\n31          [A, x]\\n74    ...</td>\n",
       "      <td>0.0</td>\n",
       "      <td>right_only</td>\n",
       "    </tr>\n",
       "    <tr>\n",
       "      <th>198</th>\n",
       "      <td>Yannick</td>\n",
       "      <td>34</td>\n",
       "      <td>30</td>\n",
       "      <td>87853</td>\n",
       "      <td>Berlin</td>\n",
       "      <td>&lt;NA&gt;</td>\n",
       "      <td>61    {n, O, j, 1, H}\\n31             {p, U}\\n...</td>\n",
       "      <td>61       [a, b, c]\\n31          [A, x]\\n74    ...</td>\n",
       "      <td>0.0</td>\n",
       "      <td>right_only</td>\n",
       "    </tr>\n",
       "    <tr>\n",
       "      <th>199</th>\n",
       "      <td>Yvonne</td>\n",
       "      <td>32</td>\n",
       "      <td>30</td>\n",
       "      <td>11028</td>\n",
       "      <td>Berlin</td>\n",
       "      <td>&lt;NA&gt;</td>\n",
       "      <td>61    {n, O, j, 1, H}\\n31             {p, U}\\n...</td>\n",
       "      <td>61       [a, b, c]\\n31          [A, x]\\n74    ...</td>\n",
       "      <td>0.0</td>\n",
       "      <td>right_only</td>\n",
       "    </tr>\n",
       "  </tbody>\n",
       "</table>\n",
       "<p>200 rows × 10 columns</p>\n",
       "</div>"
      ],
      "text/plain": [
       "    first_name  age  age_class  postal_code birthplace      secret  \\\n",
       "0          Ali   30         30        89670     Berlin      5üFgÄö   \n",
       "1       Amelie   24         20        68741     Berlin       Pmzsb   \n",
       "2       Amelie   30         30        59633     Berlin     brwd7dS   \n",
       "3         Anja   21         20        54029       <NA>    ÖFmwIIeo   \n",
       "4         Anja   34         30        38889     Berlin  3wGfmXLdJ1   \n",
       "..         ...  ...        ...          ...        ...         ...   \n",
       "195    Wilhelm   36         30        46248     Bremen        <NA>   \n",
       "196   Wolfgang   26         20        91513       <NA>        <NA>   \n",
       "197   Wolfgang   32         30        46248       <NA>        <NA>   \n",
       "198    Yannick   34         30        87853     Berlin        <NA>   \n",
       "199     Yvonne   32         30        11028     Berlin        <NA>   \n",
       "\n",
       "                                              features  \\\n",
       "0    0           {Z, U, x}\\n1     {X, S, Q, 0, 5}\\n...   \n",
       "1    0           {Z, U, x}\\n1     {X, S, Q, 0, 5}\\n...   \n",
       "2    0           {Z, U, x}\\n1     {X, S, Q, 0, 5}\\n...   \n",
       "3    0           {Z, U, x}\\n1     {X, S, Q, 0, 5}\\n...   \n",
       "4    0           {Z, U, x}\\n1     {X, S, Q, 0, 5}\\n...   \n",
       "..                                                 ...   \n",
       "195  61    {n, O, j, 1, H}\\n31             {p, U}\\n...   \n",
       "196  61    {n, O, j, 1, H}\\n31             {p, U}\\n...   \n",
       "197  61    {n, O, j, 1, H}\\n31             {p, U}\\n...   \n",
       "198  61    {n, O, j, 1, H}\\n31             {p, U}\\n...   \n",
       "199  61    {n, O, j, 1, H}\\n31             {p, U}\\n...   \n",
       "\n",
       "                                               history  AAGE      _merge  \n",
       "0    0        [c, b, a]\\n1        [A, B, C]\\n2     ...   NaN   left_only  \n",
       "1    0        [c, b, a]\\n1        [A, B, C]\\n2     ...   NaN   left_only  \n",
       "2    0        [c, b, a]\\n1        [A, B, C]\\n2     ...   NaN   left_only  \n",
       "3    0        [c, b, a]\\n1        [A, B, C]\\n2     ...   NaN   left_only  \n",
       "4    0        [c, b, a]\\n1        [A, B, C]\\n2     ...   NaN   left_only  \n",
       "..                                                 ...   ...         ...  \n",
       "195  61       [a, b, c]\\n31          [A, x]\\n74    ...   0.0  right_only  \n",
       "196  61       [a, b, c]\\n31          [A, x]\\n74    ...   0.0  right_only  \n",
       "197  61       [a, b, c]\\n31          [A, x]\\n74    ...   0.0  right_only  \n",
       "198  61       [a, b, c]\\n31          [A, x]\\n74    ...   0.0  right_only  \n",
       "199  61       [a, b, c]\\n31          [A, x]\\n74    ...   0.0  right_only  \n",
       "\n",
       "[200 rows x 10 columns]"
      ]
     },
     "execution_count": 25,
     "metadata": {},
     "output_type": "execute_result"
    },
    {
     "name": "stdout",
     "output_type": "stream",
     "text": [
      "time: 170 ms\n"
     ]
    }
   ],
   "source": [
    "pak.get_different_rows(s, t)"
   ]
  },
  {
   "cell_type": "code",
   "execution_count": 26,
   "id": "0ab9cfcc-0c69-4819-b286-ce5456a2d16c",
   "metadata": {},
   "outputs": [
    {
     "name": "stdout",
     "output_type": "stream",
     "text": [
      "time: 11.8 ms\n"
     ]
    }
   ],
   "source": [
    "# does not work\n",
    "#s.compare(t, align_axis=1,keep_shape=False)"
   ]
  },
  {
   "cell_type": "code",
   "execution_count": null,
   "id": "0dd3e55a-c250-4566-80d8-f9e280818bef",
   "metadata": {},
   "outputs": [],
   "source": []
  }
 ],
 "metadata": {
  "kernelspec": {
   "display_name": "Python 3 (ipykernel)",
   "language": "python",
   "name": "python3"
  },
  "language_info": {
   "codemirror_mode": {
    "name": "ipython",
    "version": 3
   },
   "file_extension": ".py",
   "mimetype": "text/x-python",
   "name": "python",
   "nbconvert_exporter": "python",
   "pygments_lexer": "ipython3",
   "version": "3.9.13"
  }
 },
 "nbformat": 4,
 "nbformat_minor": 5
}
