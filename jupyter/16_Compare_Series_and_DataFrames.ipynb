{
 "cells": [
  {
   "cell_type": "markdown",
   "id": "eb75d3e7-8b0d-43f0-8c76-4b884bc4e524",
   "metadata": {},
   "source": [
    "__[Open and try this file online (Colab)](https://colab.research.google.com/github/djekra/pandasklar/blob/master/jupyter/16_Compare_Series_and_DataFrames.ipynb)__"
   ]
  },
  {
   "cell_type": "markdown",
   "id": "c90c26b4-2c91-4f00-8fc4-f0f173a97d58",
   "metadata": {},
   "source": [
    "# Compare Series and DataFrames\n",
    "* `compare_series`: Compares the content of two Series.\n",
    "    Returns several indicators of equality.\n",
    "* `compare_dataframes`: Compares the content of two DataFrames column by column. Returns several indicators of equality.\n",
    "* `check_equal`: Compares the content of two DataFrames column by column.\n",
    "* `compare_col_dtype`: Returns the column names of two DataFrames whose dtype differs\n",
    "* `get_different_rows`: Returns the rows of two DataFrames that differ"
   ]
  },
  {
   "cell_type": "code",
   "execution_count": 1,
   "id": "f435b5c7-96a2-4e48-bece-110bbeb16dbc",
   "metadata": {
    "execution": {
     "iopub.execute_input": "2025-03-26T20:36:19.582589Z",
     "iopub.status.busy": "2025-03-26T20:36:19.582589Z",
     "iopub.status.idle": "2025-03-26T20:36:21.396167Z",
     "shell.execute_reply": "2025-03-26T20:36:21.396167Z",
     "shell.execute_reply.started": "2025-03-26T20:36:19.582589Z"
    }
   },
   "outputs": [
    {
     "name": "stdout",
     "output_type": "stream",
     "text": [
      "blab init\n",
      "environment['in_colab']     = False\n",
      "environment['dropbox_path'] = D:\\Dropbox\n",
      "environment['lib_path']     = D:\\Dropbox\\31_Projekte\\01_Python\\libs\n",
      "Start Time: 21:36:20\n"
     ]
    },
    {
     "data": {
      "text/html": [
       "<img src onerror=\"var cell = this.closest('.jp-CodeCell');var editor = cell.querySelector('.jp-Editor');editor.style.background='Beige';this.parentNode.removeChild(this)\">"
      ],
      "text/plain": [
       "<IPython.core.display.HTML object>"
      ]
     },
     "metadata": {},
     "output_type": "display_data"
    }
   ],
   "source": [
    "# blab init\n",
    "try:\n",
    "    import blab\n",
    "except ImportError as e:\n",
    "    !pip install blab\n",
    "    import blab    \n",
    "startup_notebook = blab.blab_startup()\n",
    "%run $startup_notebook "
   ]
  },
  {
   "cell_type": "code",
   "execution_count": 2,
   "id": "49542b65-cc39-4879-b394-0d63b334e334",
   "metadata": {
    "execution": {
     "iopub.execute_input": "2025-03-26T20:36:21.397204Z",
     "iopub.status.busy": "2025-03-26T20:36:21.397204Z",
     "iopub.status.idle": "2025-03-26T20:36:24.842308Z",
     "shell.execute_reply": "2025-03-26T20:36:24.842308Z",
     "shell.execute_reply.started": "2025-03-26T20:36:21.397204Z"
    }
   },
   "outputs": [
    {
     "name": "stdout",
     "output_type": "stream",
     "text": [
      "VERBOSE = True\n",
      "--> setting verbose=True as default for all pandasklar functions\n",
      "\n"
     ]
    }
   ],
   "source": [
    "import pandas     as pd \n",
    "import bpyth      as bpy\n",
    "\n",
    "# pandasklar\n",
    "try:\n",
    "    import pandasklar as pak \n",
    "except ImportError as e:\n",
    "    !pip install pandasklar\n",
    "    import pandasklar as pak   \n",
    "    \n",
    "# verbose\n",
    "pak.Config.set('VERBOSE', True)\n",
    "\n",
    "# copy_on_write\n",
    "pd.set_option(\"mode.copy_on_write\", True)"
   ]
  },
  {
   "cell_type": "markdown",
   "id": "6c6d7d57-c8d8-4d6e-8f43-6717458a6b1b",
   "metadata": {},
   "source": [
    "## compare_series()"
   ]
  },
  {
   "cell_type": "code",
   "execution_count": 3,
   "id": "f0f54a71-6b03-4538-8021-b5b5abd0597c",
   "metadata": {
    "execution": {
     "iopub.execute_input": "2025-03-26T20:36:24.844313Z",
     "iopub.status.busy": "2025-03-26T20:36:24.844313Z",
     "iopub.status.idle": "2025-03-26T20:36:25.199316Z",
     "shell.execute_reply": "2025-03-26T20:36:25.199316Z",
     "shell.execute_reply.started": "2025-03-26T20:36:24.844313Z"
    }
   },
   "outputs": [
    {
     "name": "stdout",
     "output_type": "stream",
     "text": [
      "<class 'IPython.core.display.Markdown'>\n"
     ]
    },
    {
     "data": {
      "text/markdown": [
       "<span style=\"font-size:larger;\">compare_series(s, t, format='dict', decimals=None):</span>\n",
       "\n",
       "**Compares two Pandas Series and returns indicators of equality.**\n",
       "\n",
       "This function compares two Pandas Series and provides detailed information about their similarities and differences.\n",
       "It checks for equality in various aspects, including name, data type, length, number of NaNs, content, sort order, and index-data relations.\n",
       "\n",
       "**Args:**\n",
       "- `s` (`pd.Series`): The first Pandas Series.\n",
       "- `t` (`pd.Series`): The second Pandas Series.\n",
       "- `format` (`str`, optional): Output format for the comparison results.\n",
       "  - `'dict'` or `'d'`: Returns a dictionary.\n",
       "  - `'series'` or `'Series'` or `'s'`: Returns a Pandas Series.\n",
       "  - `'dataframe'` or `'DataFrame'` or `'Dataframe'` or `'df'`: Returns a Pandas DataFrame.\n",
       "  Defaults to `'dict'`.\n",
       "- `decimals` (`int`, optional): The number of decimal places to round to when comparing numeric values.\n",
       "  If `None`, no rounding is performed. Defaults to `None`.\n",
       "\n",
       "**Returns:**\n",
       "`dict`, `pd.Series`, or `pd.DataFrame`: Comparison results, depending on the `'format'` parameter.\n",
       "The output contains the following keys/indices:\n",
       "- `'name'`: `True` if the series have the same name\n",
       "- `'dtype'`: `True` if the series have the same dtype (or both are `float32`/`float64`), `False` otherwise.\n",
       "- `'len'`: `True` if the series have the same length, `False` otherwise.\n",
       "- `'nnan'`: `True` if the series have the same number of NaNs, `False` otherwise.\n",
       "- `'nan_pat'`: `True` if the series have the same pattern of NaNs, `False` otherwise.\n",
       "- `'content'`: `True` if the series have the same content (ignoring index, sort and NaNs), `False` otherwise.\n",
       "  - For numeric series: If `decimals` is not `None`, values are rounded before comparison.\n",
       "- `'sort'`: `True` if the series have the same sort order (ignoring index), `False` otherwise.\n",
       "- `'eq'`: `True` if the series have the same index-data relations (ignoring sort), `False` otherwise.\n",
       "\n",
       "**Examples:**\n",
       "```python\n",
       ">>> s1 = pd.Series([1, 2, 3], name='numbers')\n",
       ">>> s2 = pd.Series([1, 2, 3], name='numbers')\n",
       ">>> compare_series(s1, s2, format='dict')\n",
       "{'name': True, 'dtype': True, 'len': True, 'nnan': True, 'nan_pat': True, 'content': True, 'sort': True, 'eq': True}\n",
       "\n",
       ">>> s3 = pd.Series([1.1, 2.2, np.nan], name='floats')\n",
       ">>> s4 = pd.Series([1.1, 2.2, np.nan], name='floats')\n",
       ">>> compare_series(s3, s4, format='series', decimals=1)\n",
       "name        True\n",
       "dtype       True\n",
       "len         True\n",
       "nnan        True\n",
       "nan_pat     True\n",
       "content     True\n",
       "sort        True\n",
       "eq          True\n",
       "Name: floats, dtype: object\n",
       "\n",
       ">>> s5 = pd.Series([1, 2, 3], name='numbers')\n",
       ">>> s6 = pd.Series([3, 2, 1], name='numbers')\n",
       ">>> compare_series(s5, s6, format='df')\n",
       "         name  dtype   len  nnan  nan_pat content   sort     eq\n",
       "numbers  True   True  True  True  True    True  False   True\n",
       "    "
      ],
      "text/plain": [
       "<IPython.core.display.Markdown object>"
      ]
     },
     "metadata": {},
     "output_type": "display_data"
    }
   ],
   "source": [
    "help(pak.compare_series)"
   ]
  },
  {
   "cell_type": "code",
   "execution_count": 4,
   "id": "67e6b526-5345-4e5a-8b58-b76d59ee39f7",
   "metadata": {
    "execution": {
     "iopub.execute_input": "2025-03-26T20:36:25.200701Z",
     "iopub.status.busy": "2025-03-26T20:36:25.200701Z",
     "iopub.status.idle": "2025-03-26T20:36:25.545142Z",
     "shell.execute_reply": "2025-03-26T20:36:25.545142Z",
     "shell.execute_reply.started": "2025-03-26T20:36:25.200701Z"
    }
   },
   "outputs": [
    {
     "data": {
      "text/plain": [
       "0       9O8Q6\n",
       "1     7mgGj8p\n",
       "2       8U321\n",
       "3        eIu7\n",
       "4     a9uZND2\n",
       "       ...   \n",
       "95       llvi\n",
       "96      ÄFmX3\n",
       "97    eIvyHQw\n",
       "98    ÄfANvGR\n",
       "99      pYTX9\n",
       "Name: rnd_string, Length: 100, dtype: object"
      ]
     },
     "execution_count": 4,
     "metadata": {},
     "output_type": "execute_result"
    }
   ],
   "source": [
    "# Generate test data\n",
    "s = pak.random_series( 100, 's')\n",
    "s = s.apply(pak.decorate, p=0.1) # nan\n",
    "s"
   ]
  },
  {
   "cell_type": "code",
   "execution_count": 5,
   "id": "b0b4ac08-ed19-443e-ac37-9f7f57e95515",
   "metadata": {
    "execution": {
     "iopub.execute_input": "2025-03-26T20:36:25.546246Z",
     "iopub.status.busy": "2025-03-26T20:36:25.546246Z",
     "iopub.status.idle": "2025-03-26T20:36:25.888502Z",
     "shell.execute_reply": "2025-03-26T20:36:25.887467Z",
     "shell.execute_reply.started": "2025-03-26T20:36:25.546246Z"
    }
   },
   "outputs": [],
   "source": [
    "# Generate compare data\n",
    "# Play with it!\n",
    "\n",
    "t = s.copy()\n",
    "# t.name = 's' # name\n",
    "# t = t[:99] # len\n",
    "# t = t.apply(pak.decorate, p=0.5) # nan\n",
    "#t = t.astype('object') # dtype\n",
    "\n",
    "t[0], t[1] = t[1], t[0] \n",
    "#t = t.sort_values()\n",
    "\n"
   ]
  },
  {
   "cell_type": "code",
   "execution_count": 6,
   "id": "f5aa31bb-46c1-45b9-833c-827310a26114",
   "metadata": {
    "execution": {
     "iopub.execute_input": "2025-03-26T20:36:25.888502Z",
     "iopub.status.busy": "2025-03-26T20:36:25.888502Z",
     "iopub.status.idle": "2025-03-26T20:36:26.241942Z",
     "shell.execute_reply": "2025-03-26T20:36:26.241942Z",
     "shell.execute_reply.started": "2025-03-26T20:36:25.888502Z"
    }
   },
   "outputs": [
    {
     "data": {
      "text/html": [
       "<div>\n",
       "<style scoped>\n",
       "    .dataframe tbody tr th:only-of-type {\n",
       "        vertical-align: middle;\n",
       "    }\n",
       "\n",
       "    .dataframe tbody tr th {\n",
       "        vertical-align: top;\n",
       "    }\n",
       "\n",
       "    .dataframe thead th {\n",
       "        text-align: right;\n",
       "    }\n",
       "</style>\n",
       "<table border=\"1\" class=\"dataframe\">\n",
       "  <thead>\n",
       "    <tr style=\"text-align: right;\">\n",
       "      <th></th>\n",
       "      <th>rnd_string</th>\n",
       "    </tr>\n",
       "  </thead>\n",
       "  <tbody>\n",
       "    <tr>\n",
       "      <th>name</th>\n",
       "      <td>True</td>\n",
       "    </tr>\n",
       "    <tr>\n",
       "      <th>dtype</th>\n",
       "      <td>True</td>\n",
       "    </tr>\n",
       "    <tr>\n",
       "      <th>len</th>\n",
       "      <td>True</td>\n",
       "    </tr>\n",
       "    <tr>\n",
       "      <th>nnan</th>\n",
       "      <td>True</td>\n",
       "    </tr>\n",
       "    <tr>\n",
       "      <th>nan_pat</th>\n",
       "      <td>True</td>\n",
       "    </tr>\n",
       "    <tr>\n",
       "      <th>content</th>\n",
       "      <td>True</td>\n",
       "    </tr>\n",
       "    <tr>\n",
       "      <th>sort</th>\n",
       "      <td>False</td>\n",
       "    </tr>\n",
       "    <tr>\n",
       "      <th>eq</th>\n",
       "      <td>False</td>\n",
       "    </tr>\n",
       "  </tbody>\n",
       "</table>\n",
       "</div>"
      ],
      "text/plain": [
       "         rnd_string\n",
       "name           True\n",
       "dtype          True\n",
       "len            True\n",
       "nnan           True\n",
       "nan_pat        True\n",
       "content        True\n",
       "sort          False\n",
       "eq            False"
      ]
     },
     "execution_count": 6,
     "metadata": {},
     "output_type": "execute_result"
    }
   ],
   "source": [
    "r = pak.compare_series(s,t, format='df')\n",
    "r"
   ]
  },
  {
   "cell_type": "markdown",
   "id": "1354e081-8c4f-4856-845e-05ddc659ae37",
   "metadata": {},
   "source": [
    "## compare_dataframes()"
   ]
  },
  {
   "cell_type": "code",
   "execution_count": 7,
   "id": "b26da1ba-21c0-4fdc-8c9f-08a3e3b8ddf6",
   "metadata": {
    "execution": {
     "iopub.execute_input": "2025-03-26T20:36:26.242965Z",
     "iopub.status.busy": "2025-03-26T20:36:26.242965Z",
     "iopub.status.idle": "2025-03-26T20:36:26.579948Z",
     "shell.execute_reply": "2025-03-26T20:36:26.579948Z",
     "shell.execute_reply.started": "2025-03-26T20:36:26.242965Z"
    }
   },
   "outputs": [
    {
     "name": "stdout",
     "output_type": "stream",
     "text": [
      "<class 'IPython.core.display.Markdown'>\n"
     ]
    },
    {
     "data": {
      "text/markdown": [
       "<span style=\"font-size:larger;\">compare_dataframes(df1, df2, format='df', decimals=None):</span>\n",
       "\n",
       "**Compares two DataFrames column by column and returns indicators of equality.**\n",
       "\n",
       "This function compares two Pandas DataFrames and provides detailed information about their similarities and differences.\n",
       "It checks for equality in various aspects for each column, including name, data type, number of NaNs, content, sort order, and index-data relations.\n",
       "It also provides a summary row (`'(Total)'`) indicating the overall equality of the DataFrames.\n",
       "\n",
       "**Args:**\n",
       "- `df1` (`pd.DataFrame`): The first DataFrame.\n",
       "- `df2` (`pd.DataFrame`): The second DataFrame.\n",
       "- `format` (`str`, optional): Output format for the comparison results.\n",
       "  - `'dataframe'` or `'DataFrame'` or `'Dataframe'` or `'df'`: Returns a Pandas DataFrame.\n",
       "  - `'series'` or `'Series'` or `'s'`: Returns a Pandas Series (only the `'(Total)'` row).\n",
       "  - `'dict'` or `'d'`: Returns a dictionary (only the `'(Total)'` row).\n",
       "  - `'bool'` or `'b'`: Returns a boolean (only the `'eq'` value of the `'(Total)'` row).\n",
       "  Defaults to `'df'`.\n",
       "- `decimals` (`int`, optional): The number of decimal places to round to when comparing numeric values.\n",
       "  If `None`, no rounding is performed. Defaults to `None`.\n",
       "\n",
       "**Returns:**\n",
       "`pd.DataFrame`, `pd.Series`, `dict`, or `bool`: Comparison results, depending on the `'format'` parameter.\n",
       "The output contains the following columns/keys:\n",
       "- `'name'`: `True` if columns exist in both DataFrames, `'left_only'` if the column is only in `df1`, `'right_only'` if the column is only in `df2`.\n",
       "- `'dtype'`: `True` if columns have the same dtype (or both are `float32`/`float64`), `False` otherwise.\n",
       "- `'nnan'`: `True` if columns have the same number of NaNs, `False` otherwise.\n",
       "- `'nan_pat'`: `True` if the columns have the same pattern of NaNs, `False` otherwise.\n",
       "- `'content'`: `True` if columns have the same content (ignoring index and sort), `False` otherwise.\n",
       "  - For numeric columns: If `decimals` is not `None`, values are rounded before comparison.\n",
       "- `'sort'`: `True` if columns have the same sort order (ignoring index), `False` otherwise.\n",
       "- `'eq'`: `True` if columns have the same index-data relations (ignoring sort), `False` otherwise.\n",
       "- `'(Total)'`: A summary row indicating the overall equality of the DataFrames.\n",
       "\n",
       "**Examples:**\n",
       "```python\n",
       ">>> df1 = pd.DataFrame({'A': [1, 2, 3], 'B': ['a', 'b', 'c']})\n",
       ">>> df2 = pd.DataFrame({'A': [1, 2, 3], 'B': ['a', 'b', 'c']})\n",
       ">>> compare_dataframes(df1, df2, format='df')\n",
       "         name  dtype  nnan  nan_pat content  sort    eq\n",
       "A        True   True  True  True    True  True  True\n",
       "B        True   True  True  True    True  True  True\n",
       "(Total)  True   True  True  True    True  True  True"
      ],
      "text/plain": [
       "<IPython.core.display.Markdown object>"
      ]
     },
     "metadata": {},
     "output_type": "display_data"
    }
   ],
   "source": [
    "help(pak.compare_dataframes)"
   ]
  },
  {
   "cell_type": "code",
   "execution_count": 8,
   "id": "3510f8f7-5936-46a8-9dcb-51851995472f",
   "metadata": {
    "execution": {
     "iopub.execute_input": "2025-03-26T20:36:26.582031Z",
     "iopub.status.busy": "2025-03-26T20:36:26.581067Z",
     "iopub.status.idle": "2025-03-26T20:36:26.972110Z",
     "shell.execute_reply": "2025-03-26T20:36:26.972110Z",
     "shell.execute_reply.started": "2025-03-26T20:36:26.581067Z"
    }
   },
   "outputs": [
    {
     "data": {
      "text/html": [
       "<div>\n",
       "<style scoped>\n",
       "    .dataframe tbody tr th:only-of-type {\n",
       "        vertical-align: middle;\n",
       "    }\n",
       "\n",
       "    .dataframe tbody tr th {\n",
       "        vertical-align: top;\n",
       "    }\n",
       "\n",
       "    .dataframe thead th {\n",
       "        text-align: right;\n",
       "    }\n",
       "</style>\n",
       "<table border=\"1\" class=\"dataframe\">\n",
       "  <thead>\n",
       "    <tr style=\"text-align: right;\">\n",
       "      <th></th>\n",
       "      <th>first_name</th>\n",
       "      <th>age</th>\n",
       "      <th>age_class</th>\n",
       "      <th>postal_code</th>\n",
       "      <th>birthplace</th>\n",
       "      <th>secret</th>\n",
       "      <th>features</th>\n",
       "      <th>history</th>\n",
       "    </tr>\n",
       "  </thead>\n",
       "  <tbody>\n",
       "    <tr>\n",
       "      <th>0</th>\n",
       "      <td>Linda</td>\n",
       "      <td>20</td>\n",
       "      <td>20</td>\n",
       "      <td>83692</td>\n",
       "      <td>Bremen</td>\n",
       "      <td>vGAcÖ</td>\n",
       "      <td>{r, Q, u, F}</td>\n",
       "      <td>[c, b, a]</td>\n",
       "    </tr>\n",
       "    <tr>\n",
       "      <th>1</th>\n",
       "      <td>Manfred</td>\n",
       "      <td>36</td>\n",
       "      <td>30</td>\n",
       "      <td>64354</td>\n",
       "      <td>Berlin</td>\n",
       "      <td>Kwo4Xwb0Ol</td>\n",
       "      <td>{T, o}</td>\n",
       "      <td>[a, b, c]</td>\n",
       "    </tr>\n",
       "    <tr>\n",
       "      <th>2</th>\n",
       "      <td>Helga</td>\n",
       "      <td>30</td>\n",
       "      <td>30</td>\n",
       "      <td>59344</td>\n",
       "      <td>Bremen</td>\n",
       "      <td>tQClma</td>\n",
       "      <td>{}</td>\n",
       "      <td>[A, x]</td>\n",
       "    </tr>\n",
       "    <tr>\n",
       "      <th>3</th>\n",
       "      <td>Yannik</td>\n",
       "      <td>39</td>\n",
       "      <td>30</td>\n",
       "      <td>44111</td>\n",
       "      <td>Berlin</td>\n",
       "      <td>ÜkTC88W</td>\n",
       "      <td>{g, i, S, n}</td>\n",
       "      <td>[A, A, A]</td>\n",
       "    </tr>\n",
       "    <tr>\n",
       "      <th>4</th>\n",
       "      <td>Lucas</td>\n",
       "      <td>25</td>\n",
       "      <td>20</td>\n",
       "      <td>79960</td>\n",
       "      <td>Bremen</td>\n",
       "      <td>GeQÜuwq</td>\n",
       "      <td>{s}</td>\n",
       "      <td>[A, B, C]</td>\n",
       "    </tr>\n",
       "    <tr>\n",
       "      <th>5</th>\n",
       "      <td>Rita</td>\n",
       "      <td>34</td>\n",
       "      <td>30</td>\n",
       "      <td>78442</td>\n",
       "      <td>Berlin</td>\n",
       "      <td>NW7N1xKxz</td>\n",
       "      <td>{p, n, L}</td>\n",
       "      <td>[A, B, C, C]</td>\n",
       "    </tr>\n",
       "    <tr>\n",
       "      <th>6</th>\n",
       "      <td>Hannes</td>\n",
       "      <td>32</td>\n",
       "      <td>30</td>\n",
       "      <td>95604</td>\n",
       "      <td>Bremen</td>\n",
       "      <td>üSVCMY</td>\n",
       "      <td>{I, 0}</td>\n",
       "      <td>[A, C, C, B]</td>\n",
       "    </tr>\n",
       "    <tr>\n",
       "      <th>7</th>\n",
       "      <td>Linda</td>\n",
       "      <td>26</td>\n",
       "      <td>20</td>\n",
       "      <td>64354</td>\n",
       "      <td>Bremen</td>\n",
       "      <td>Hr2TFBbC</td>\n",
       "      <td>{m}</td>\n",
       "      <td>[]</td>\n",
       "    </tr>\n",
       "    <tr>\n",
       "      <th>8</th>\n",
       "      <td>Lucas</td>\n",
       "      <td>40</td>\n",
       "      <td>40</td>\n",
       "      <td>78442</td>\n",
       "      <td>Bremen</td>\n",
       "      <td>uqSeH3</td>\n",
       "      <td>{T, o}</td>\n",
       "      <td>[b, b, a, b]</td>\n",
       "    </tr>\n",
       "    <tr>\n",
       "      <th>9</th>\n",
       "      <td>Lucas</td>\n",
       "      <td>27</td>\n",
       "      <td>20</td>\n",
       "      <td>83692</td>\n",
       "      <td>Bremen</td>\n",
       "      <td>nüpo5IÖ</td>\n",
       "      <td>{}</td>\n",
       "      <td>[A, x]</td>\n",
       "    </tr>\n",
       "  </tbody>\n",
       "</table>\n",
       "</div>"
      ],
      "text/plain": [
       "  first_name  age  age_class  postal_code birthplace      secret  \\\n",
       "0      Linda   20         20        83692     Bremen       vGAcÖ   \n",
       "1    Manfred   36         30        64354     Berlin  Kwo4Xwb0Ol   \n",
       "2      Helga   30         30        59344     Bremen      tQClma   \n",
       "3     Yannik   39         30        44111     Berlin     ÜkTC88W   \n",
       "4      Lucas   25         20        79960     Bremen     GeQÜuwq   \n",
       "5       Rita   34         30        78442     Berlin   NW7N1xKxz   \n",
       "6     Hannes   32         30        95604     Bremen      üSVCMY   \n",
       "7      Linda   26         20        64354     Bremen    Hr2TFBbC   \n",
       "8      Lucas   40         40        78442     Bremen      uqSeH3   \n",
       "9      Lucas   27         20        83692     Bremen     nüpo5IÖ   \n",
       "\n",
       "       features       history  \n",
       "0  {r, Q, u, F}     [c, b, a]  \n",
       "1        {T, o}     [a, b, c]  \n",
       "2            {}        [A, x]  \n",
       "3  {g, i, S, n}     [A, A, A]  \n",
       "4           {s}     [A, B, C]  \n",
       "5     {p, n, L}  [A, B, C, C]  \n",
       "6        {I, 0}  [A, C, C, B]  \n",
       "7           {m}            []  \n",
       "8        {T, o}  [b, b, a, b]  \n",
       "9            {}        [A, x]  "
      ]
     },
     "execution_count": 8,
     "metadata": {},
     "output_type": "execute_result"
    }
   ],
   "source": [
    "# Generate test data\n",
    "s = pak.people(10)\n",
    "s"
   ]
  },
  {
   "cell_type": "code",
   "execution_count": 9,
   "id": "1dfb4fa9-22e4-450f-b82e-765bb28f6b28",
   "metadata": {
    "execution": {
     "iopub.execute_input": "2025-03-26T20:36:26.973150Z",
     "iopub.status.busy": "2025-03-26T20:36:26.973150Z",
     "iopub.status.idle": "2025-03-26T20:36:27.328120Z",
     "shell.execute_reply": "2025-03-26T20:36:27.328120Z",
     "shell.execute_reply.started": "2025-03-26T20:36:26.973150Z"
    }
   },
   "outputs": [
    {
     "data": {
      "text/html": [
       "<div>\n",
       "<style scoped>\n",
       "    .dataframe tbody tr th:only-of-type {\n",
       "        vertical-align: middle;\n",
       "    }\n",
       "\n",
       "    .dataframe tbody tr th {\n",
       "        vertical-align: top;\n",
       "    }\n",
       "\n",
       "    .dataframe thead th {\n",
       "        text-align: right;\n",
       "    }\n",
       "</style>\n",
       "<table border=\"1\" class=\"dataframe\">\n",
       "  <thead>\n",
       "    <tr style=\"text-align: right;\">\n",
       "      <th></th>\n",
       "      <th>first_name</th>\n",
       "      <th>age_class</th>\n",
       "      <th>postal_code</th>\n",
       "      <th>birthplace</th>\n",
       "      <th>secret</th>\n",
       "      <th>features</th>\n",
       "      <th>history</th>\n",
       "      <th>AAGE</th>\n",
       "      <th>age</th>\n",
       "    </tr>\n",
       "  </thead>\n",
       "  <tbody>\n",
       "    <tr>\n",
       "      <th>0</th>\n",
       "      <td>Linda</td>\n",
       "      <td>20</td>\n",
       "      <td>83692</td>\n",
       "      <td>Bremen</td>\n",
       "      <td>vGAcÖ</td>\n",
       "      <td>{r, Q, u, F}</td>\n",
       "      <td>[c, b, a]</td>\n",
       "      <td>0</td>\n",
       "      <td>20.0</td>\n",
       "    </tr>\n",
       "    <tr>\n",
       "      <th>1</th>\n",
       "      <td>Manfred</td>\n",
       "      <td>30</td>\n",
       "      <td>64354</td>\n",
       "      <td>Berlin</td>\n",
       "      <td>Kwo4Xwb0Ol</td>\n",
       "      <td>{T, o}</td>\n",
       "      <td>[a, b, c]</td>\n",
       "      <td>0</td>\n",
       "      <td>36.0</td>\n",
       "    </tr>\n",
       "    <tr>\n",
       "      <th>2</th>\n",
       "      <td>Helga</td>\n",
       "      <td>30</td>\n",
       "      <td>59344</td>\n",
       "      <td>Bremen</td>\n",
       "      <td>tQClma</td>\n",
       "      <td>{}</td>\n",
       "      <td>[A, x]</td>\n",
       "      <td>0</td>\n",
       "      <td>30.0</td>\n",
       "    </tr>\n",
       "    <tr>\n",
       "      <th>3</th>\n",
       "      <td>Yannik</td>\n",
       "      <td>30</td>\n",
       "      <td>44111</td>\n",
       "      <td>Berlin</td>\n",
       "      <td>ÜkTC88W</td>\n",
       "      <td>{g, i, S, n}</td>\n",
       "      <td>[A, A, A]</td>\n",
       "      <td>0</td>\n",
       "      <td>39.0</td>\n",
       "    </tr>\n",
       "    <tr>\n",
       "      <th>4</th>\n",
       "      <td>Lucas</td>\n",
       "      <td>20</td>\n",
       "      <td>79960</td>\n",
       "      <td>Bremen</td>\n",
       "      <td>GeQÜuwq</td>\n",
       "      <td>{s}</td>\n",
       "      <td>[A, B, C]</td>\n",
       "      <td>0</td>\n",
       "      <td>25.0</td>\n",
       "    </tr>\n",
       "    <tr>\n",
       "      <th>5</th>\n",
       "      <td>Rita</td>\n",
       "      <td>30</td>\n",
       "      <td>78442</td>\n",
       "      <td>Berlin</td>\n",
       "      <td>NW7N1xKxz</td>\n",
       "      <td>{p, n, L}</td>\n",
       "      <td>[A, B, C, C]</td>\n",
       "      <td>0</td>\n",
       "      <td>34.0</td>\n",
       "    </tr>\n",
       "    <tr>\n",
       "      <th>6</th>\n",
       "      <td>Hannes</td>\n",
       "      <td>30</td>\n",
       "      <td>95604</td>\n",
       "      <td>Bremen</td>\n",
       "      <td>üSVCMY</td>\n",
       "      <td>{I, 0}</td>\n",
       "      <td>[A, C, C, B]</td>\n",
       "      <td>0</td>\n",
       "      <td>32.0</td>\n",
       "    </tr>\n",
       "    <tr>\n",
       "      <th>7</th>\n",
       "      <td>Linda</td>\n",
       "      <td>20</td>\n",
       "      <td>64354</td>\n",
       "      <td>Bremen</td>\n",
       "      <td>Hr2TFBbC</td>\n",
       "      <td>{m}</td>\n",
       "      <td>[]</td>\n",
       "      <td>0</td>\n",
       "      <td>26.0</td>\n",
       "    </tr>\n",
       "    <tr>\n",
       "      <th>8</th>\n",
       "      <td>Lucas</td>\n",
       "      <td>40</td>\n",
       "      <td>78442</td>\n",
       "      <td>Bremen</td>\n",
       "      <td>uqSeH3</td>\n",
       "      <td>{T, o}</td>\n",
       "      <td>[b, b, a, b]</td>\n",
       "      <td>0</td>\n",
       "      <td>40.0</td>\n",
       "    </tr>\n",
       "    <tr>\n",
       "      <th>9</th>\n",
       "      <td>Lucas</td>\n",
       "      <td>20</td>\n",
       "      <td>83692</td>\n",
       "      <td>Bremen</td>\n",
       "      <td>nüpo5IÖ</td>\n",
       "      <td>{}</td>\n",
       "      <td>[A, x]</td>\n",
       "      <td>0</td>\n",
       "      <td>27.0</td>\n",
       "    </tr>\n",
       "  </tbody>\n",
       "</table>\n",
       "</div>"
      ],
      "text/plain": [
       "  first_name  age_class  postal_code birthplace      secret      features  \\\n",
       "0      Linda         20        83692     Bremen       vGAcÖ  {r, Q, u, F}   \n",
       "1    Manfred         30        64354     Berlin  Kwo4Xwb0Ol        {T, o}   \n",
       "2      Helga         30        59344     Bremen      tQClma            {}   \n",
       "3     Yannik         30        44111     Berlin     ÜkTC88W  {g, i, S, n}   \n",
       "4      Lucas         20        79960     Bremen     GeQÜuwq           {s}   \n",
       "5       Rita         30        78442     Berlin   NW7N1xKxz     {p, n, L}   \n",
       "6     Hannes         30        95604     Bremen      üSVCMY        {I, 0}   \n",
       "7      Linda         20        64354     Bremen    Hr2TFBbC           {m}   \n",
       "8      Lucas         40        78442     Bremen      uqSeH3        {T, o}   \n",
       "9      Lucas         20        83692     Bremen     nüpo5IÖ            {}   \n",
       "\n",
       "        history  AAGE   age  \n",
       "0     [c, b, a]     0  20.0  \n",
       "1     [a, b, c]     0  36.0  \n",
       "2        [A, x]     0  30.0  \n",
       "3     [A, A, A]     0  39.0  \n",
       "4     [A, B, C]     0  25.0  \n",
       "5  [A, B, C, C]     0  34.0  \n",
       "6  [A, C, C, B]     0  32.0  \n",
       "7            []     0  26.0  \n",
       "8  [b, b, a, b]     0  40.0  \n",
       "9        [A, x]     0  27.0  "
      ]
     },
     "execution_count": 9,
     "metadata": {},
     "output_type": "execute_result"
    }
   ],
   "source": [
    "# Generate compare data\n",
    "# Play with it!\n",
    "\n",
    "t = s.copy()\n",
    "# t.name = 's' # name\n",
    "# t = t[:99] # len\n",
    "# t = t.apply(pak.decorate, p=0.5) # nan\n",
    "t['age'] = t.age.astype('float') # dtype\n",
    "\n",
    "#t = t.sort_values()\n",
    "#t = pak.drop_cols(t, 'age')\n",
    "t['AAGE'] = 0\n",
    "#t = t.sort_values(['first_name'])\n",
    "#t.loc[0,'age'] = None\n",
    "#t = t.head(50)\n",
    "t= pak.move_cols(t,'age',-1)\n",
    "t\n",
    "\n"
   ]
  },
  {
   "cell_type": "code",
   "execution_count": 10,
   "id": "3cf708b9-e924-4018-abb8-b5cc8f94f6e8",
   "metadata": {
    "execution": {
     "iopub.execute_input": "2025-03-26T20:36:27.328120Z",
     "iopub.status.busy": "2025-03-26T20:36:27.328120Z",
     "iopub.status.idle": "2025-03-26T20:36:27.682337Z",
     "shell.execute_reply": "2025-03-26T20:36:27.682337Z",
     "shell.execute_reply.started": "2025-03-26T20:36:27.328120Z"
    }
   },
   "outputs": [
    {
     "data": {
      "text/html": [
       "<div>\n",
       "<style scoped>\n",
       "    .dataframe tbody tr th:only-of-type {\n",
       "        vertical-align: middle;\n",
       "    }\n",
       "\n",
       "    .dataframe tbody tr th {\n",
       "        vertical-align: top;\n",
       "    }\n",
       "\n",
       "    .dataframe thead th {\n",
       "        text-align: right;\n",
       "    }\n",
       "</style>\n",
       "<table border=\"1\" class=\"dataframe\">\n",
       "  <thead>\n",
       "    <tr style=\"text-align: right;\">\n",
       "      <th></th>\n",
       "      <th>name</th>\n",
       "      <th>dtype</th>\n",
       "      <th>nnan</th>\n",
       "      <th>nan_pat</th>\n",
       "      <th>content</th>\n",
       "      <th>sort</th>\n",
       "      <th>eq</th>\n",
       "    </tr>\n",
       "  </thead>\n",
       "  <tbody>\n",
       "    <tr>\n",
       "      <th>first_name</th>\n",
       "      <td>True</td>\n",
       "      <td>True</td>\n",
       "      <td>True</td>\n",
       "      <td>True</td>\n",
       "      <td>True</td>\n",
       "      <td>True</td>\n",
       "      <td>True</td>\n",
       "    </tr>\n",
       "    <tr>\n",
       "      <th>age_class</th>\n",
       "      <td>True</td>\n",
       "      <td>True</td>\n",
       "      <td>True</td>\n",
       "      <td>True</td>\n",
       "      <td>True</td>\n",
       "      <td>True</td>\n",
       "      <td>True</td>\n",
       "    </tr>\n",
       "    <tr>\n",
       "      <th>postal_code</th>\n",
       "      <td>True</td>\n",
       "      <td>True</td>\n",
       "      <td>True</td>\n",
       "      <td>True</td>\n",
       "      <td>True</td>\n",
       "      <td>True</td>\n",
       "      <td>True</td>\n",
       "    </tr>\n",
       "    <tr>\n",
       "      <th>birthplace</th>\n",
       "      <td>True</td>\n",
       "      <td>True</td>\n",
       "      <td>True</td>\n",
       "      <td>True</td>\n",
       "      <td>True</td>\n",
       "      <td>True</td>\n",
       "      <td>True</td>\n",
       "    </tr>\n",
       "    <tr>\n",
       "      <th>secret</th>\n",
       "      <td>True</td>\n",
       "      <td>True</td>\n",
       "      <td>True</td>\n",
       "      <td>True</td>\n",
       "      <td>True</td>\n",
       "      <td>True</td>\n",
       "      <td>True</td>\n",
       "    </tr>\n",
       "    <tr>\n",
       "      <th>features</th>\n",
       "      <td>True</td>\n",
       "      <td>True</td>\n",
       "      <td>True</td>\n",
       "      <td>True</td>\n",
       "      <td>True</td>\n",
       "      <td>True</td>\n",
       "      <td>True</td>\n",
       "    </tr>\n",
       "    <tr>\n",
       "      <th>history</th>\n",
       "      <td>True</td>\n",
       "      <td>True</td>\n",
       "      <td>True</td>\n",
       "      <td>True</td>\n",
       "      <td>True</td>\n",
       "      <td>True</td>\n",
       "      <td>True</td>\n",
       "    </tr>\n",
       "    <tr>\n",
       "      <th>age</th>\n",
       "      <td>True</td>\n",
       "      <td>False</td>\n",
       "      <td>True</td>\n",
       "      <td>True</td>\n",
       "      <td>True</td>\n",
       "      <td>True</td>\n",
       "      <td>True</td>\n",
       "    </tr>\n",
       "    <tr>\n",
       "      <th>AAGE</th>\n",
       "      <td>right_only</td>\n",
       "      <td>None</td>\n",
       "      <td>None</td>\n",
       "      <td>None</td>\n",
       "      <td>False</td>\n",
       "      <td>None</td>\n",
       "      <td>False</td>\n",
       "    </tr>\n",
       "    <tr>\n",
       "      <th>(Total)</th>\n",
       "      <td>False</td>\n",
       "      <td>False</td>\n",
       "      <td>False</td>\n",
       "      <td>False</td>\n",
       "      <td>False</td>\n",
       "      <td>False</td>\n",
       "      <td>False</td>\n",
       "    </tr>\n",
       "  </tbody>\n",
       "</table>\n",
       "</div>"
      ],
      "text/plain": [
       "                   name  dtype   nnan nan_pat content   sort     eq\n",
       "first_name         True   True   True    True    True   True   True\n",
       "age_class          True   True   True    True    True   True   True\n",
       "postal_code        True   True   True    True    True   True   True\n",
       "birthplace         True   True   True    True    True   True   True\n",
       "secret             True   True   True    True    True   True   True\n",
       "features           True   True   True    True    True   True   True\n",
       "history            True   True   True    True    True   True   True\n",
       "age                True  False   True    True    True   True   True\n",
       "AAGE         right_only   None   None    None   False   None  False\n",
       "(Total)           False  False  False   False   False  False  False"
      ]
     },
     "execution_count": 10,
     "metadata": {},
     "output_type": "execute_result"
    }
   ],
   "source": [
    "# Output as DataFrame\n",
    "pak.compare_dataframes(s,t)"
   ]
  },
  {
   "cell_type": "code",
   "execution_count": 11,
   "id": "40c69016-27b9-401d-ac92-d4d440f0dcb3",
   "metadata": {
    "execution": {
     "iopub.execute_input": "2025-03-26T20:36:27.683348Z",
     "iopub.status.busy": "2025-03-26T20:36:27.683348Z",
     "iopub.status.idle": "2025-03-26T20:36:28.036442Z",
     "shell.execute_reply": "2025-03-26T20:36:28.036442Z",
     "shell.execute_reply.started": "2025-03-26T20:36:27.683348Z"
    }
   },
   "outputs": [
    {
     "data": {
      "text/plain": [
       "{'name': False,\n",
       " 'dtype': np.False_,\n",
       " 'nnan': np.False_,\n",
       " 'nan_pat': np.False_,\n",
       " 'content': np.False_,\n",
       " 'sort': np.False_,\n",
       " 'eq': np.False_}"
      ]
     },
     "execution_count": 11,
     "metadata": {},
     "output_type": "execute_result"
    }
   ],
   "source": [
    "# Output as dict\n",
    "pak.compare_dataframes(s,t, format='dict')"
   ]
  },
  {
   "cell_type": "code",
   "execution_count": 12,
   "id": "ba5185b9-c46d-4156-aa08-cc48d5bd8eac",
   "metadata": {
    "execution": {
     "iopub.execute_input": "2025-03-26T20:36:28.039449Z",
     "iopub.status.busy": "2025-03-26T20:36:28.038449Z",
     "iopub.status.idle": "2025-03-26T20:36:28.402000Z",
     "shell.execute_reply": "2025-03-26T20:36:28.402000Z",
     "shell.execute_reply.started": "2025-03-26T20:36:28.039449Z"
    }
   },
   "outputs": [
    {
     "data": {
      "text/plain": [
       "np.False_"
      ]
     },
     "execution_count": 12,
     "metadata": {},
     "output_type": "execute_result"
    }
   ],
   "source": [
    "# Output as bool\n",
    "pak.compare_dataframes(s,t, format='bool')"
   ]
  },
  {
   "cell_type": "code",
   "execution_count": 13,
   "id": "2e00595b-cd5a-4320-9bed-e2068814ebc2",
   "metadata": {
    "execution": {
     "iopub.execute_input": "2025-03-26T20:36:28.403239Z",
     "iopub.status.busy": "2025-03-26T20:36:28.403239Z",
     "iopub.status.idle": "2025-03-26T20:36:28.743240Z",
     "shell.execute_reply": "2025-03-26T20:36:28.743240Z",
     "shell.execute_reply.started": "2025-03-26T20:36:28.403239Z"
    }
   },
   "outputs": [
    {
     "data": {
      "text/plain": [
       "False"
      ]
     },
     "execution_count": 13,
     "metadata": {},
     "output_type": "execute_result"
    }
   ],
   "source": [
    "# This ist the same as check_equal\n",
    "pak.check_equal(s,t)"
   ]
  },
  {
   "cell_type": "markdown",
   "id": "b64996f2-3732-4fed-8115-c567b117e32e",
   "metadata": {},
   "source": [
    "## check_equal()"
   ]
  },
  {
   "cell_type": "code",
   "execution_count": 14,
   "id": "d8dc1d2a-d12c-4c2b-9f3b-ee0c70e06c96",
   "metadata": {
    "execution": {
     "iopub.execute_input": "2025-03-26T20:36:28.744267Z",
     "iopub.status.busy": "2025-03-26T20:36:28.744267Z",
     "iopub.status.idle": "2025-03-26T20:36:29.130520Z",
     "shell.execute_reply": "2025-03-26T20:36:29.129920Z",
     "shell.execute_reply.started": "2025-03-26T20:36:28.744267Z"
    }
   },
   "outputs": [
    {
     "data": {
      "text/plain": [
       "\u001b[31mSignature:\u001b[39m pak.check_equal(obj1, obj2)\n",
       "\u001b[31mDocstring:\u001b[39m\n",
       "Compares the content of two DataFrames column by column.\n",
       "Two DataFrames are equal, if \n",
       "* they have the same shape\n",
       "* they have the same column names\n",
       "* and compare_dataframes(format='bool') is True\n",
       "\u001b[31mFile:\u001b[39m      d:\\dropbox\\31_projekte\\01_python\\88_pycharm\\pandasklar\\src\\pandasklar\\compare.py\n",
       "\u001b[31mType:\u001b[39m      function"
      ]
     },
     "metadata": {},
     "output_type": "display_data"
    }
   ],
   "source": [
    "?pak.check_equal"
   ]
  },
  {
   "cell_type": "code",
   "execution_count": 15,
   "id": "02668d91-2f40-4201-a3e2-8060d5214429",
   "metadata": {
    "execution": {
     "iopub.execute_input": "2025-03-26T20:36:29.131531Z",
     "iopub.status.busy": "2025-03-26T20:36:29.130520Z",
     "iopub.status.idle": "2025-03-26T20:36:29.488097Z",
     "shell.execute_reply": "2025-03-26T20:36:29.487544Z",
     "shell.execute_reply.started": "2025-03-26T20:36:29.131531Z"
    }
   },
   "outputs": [
    {
     "name": "stdout",
     "output_type": "stream",
     "text": [
      "Input rtype=('list', 'list', 'str') shape=(8, 8)\n",
      "rotated=False Output rtype=('DataFrame', 'Series', 'str') shape=(8, 8)\n",
      "Input rtype=('list', 'list', 'str') shape=(8, 8)\n",
      "rotated=False Output rtype=('DataFrame', 'Series', 'str') shape=(8, 8)\n"
     ]
    },
    {
     "data": {
      "text/html": [
       "<div>\n",
       "<style scoped>\n",
       "    .dataframe tbody tr th:only-of-type {\n",
       "        vertical-align: middle;\n",
       "    }\n",
       "\n",
       "    .dataframe tbody tr th {\n",
       "        vertical-align: top;\n",
       "    }\n",
       "\n",
       "    .dataframe thead th {\n",
       "        text-align: right;\n",
       "    }\n",
       "</style>\n",
       "<table border=\"1\" class=\"dataframe\">\n",
       "  <thead>\n",
       "    <tr style=\"text-align: right;\">\n",
       "      <th></th>\n",
       "      <th>A</th>\n",
       "      <th>B</th>\n",
       "      <th>C</th>\n",
       "      <th>D</th>\n",
       "      <th>E</th>\n",
       "      <th>F</th>\n",
       "      <th>G</th>\n",
       "      <th>H</th>\n",
       "    </tr>\n",
       "  </thead>\n",
       "  <tbody>\n",
       "    <tr>\n",
       "      <th>0</th>\n",
       "      <td>B</td>\n",
       "      <td>a</td>\n",
       "      <td>b</td>\n",
       "      <td>y</td>\n",
       "      <td>k</td>\n",
       "      <td>o</td>\n",
       "      <td>r</td>\n",
       "      <td>b</td>\n",
       "    </tr>\n",
       "    <tr>\n",
       "      <th>1</th>\n",
       "      <td>a</td>\n",
       "      <td>b</td>\n",
       "      <td>f</td>\n",
       "      <td>ä</td>\n",
       "      <td>l</td>\n",
       "      <td>l</td>\n",
       "      <td>i</td>\n",
       "      <td>g</td>\n",
       "    </tr>\n",
       "    <tr>\n",
       "      <th>2</th>\n",
       "      <td>A</td>\n",
       "      <td>b</td>\n",
       "      <td>g</td>\n",
       "      <td>r</td>\n",
       "      <td>ü</td>\n",
       "      <td>n</td>\n",
       "      <td>d</td>\n",
       "      <td>e</td>\n",
       "    </tr>\n",
       "    <tr>\n",
       "      <th>3</th>\n",
       "      <td>K</td>\n",
       "      <td>ä</td>\n",
       "      <td>t</td>\n",
       "      <td>z</td>\n",
       "      <td>c</td>\n",
       "      <td>h</td>\n",
       "      <td>e</td>\n",
       "      <td>n</td>\n",
       "    </tr>\n",
       "    <tr>\n",
       "      <th>4</th>\n",
       "      <td>L</td>\n",
       "      <td>a</td>\n",
       "      <td>n</td>\n",
       "      <td>d</td>\n",
       "      <td>w</td>\n",
       "      <td>i</td>\n",
       "      <td>r</td>\n",
       "      <td>t</td>\n",
       "    </tr>\n",
       "    <tr>\n",
       "      <th>5</th>\n",
       "      <td>l</td>\n",
       "      <td>e</td>\n",
       "      <td>b</td>\n",
       "      <td>e</td>\n",
       "      <td>n</td>\n",
       "      <td>d</td>\n",
       "      <td>i</td>\n",
       "      <td>g</td>\n",
       "    </tr>\n",
       "    <tr>\n",
       "      <th>6</th>\n",
       "      <td>S</td>\n",
       "      <td>a</td>\n",
       "      <td>u</td>\n",
       "      <td>g</td>\n",
       "      <td>r</td>\n",
       "      <td>o</td>\n",
       "      <td>h</td>\n",
       "      <td>r</td>\n",
       "    </tr>\n",
       "    <tr>\n",
       "      <th>7</th>\n",
       "      <td>T</td>\n",
       "      <td>r</td>\n",
       "      <td>u</td>\n",
       "      <td>g</td>\n",
       "      <td>b</td>\n",
       "      <td>i</td>\n",
       "      <td>l</td>\n",
       "      <td>d</td>\n",
       "    </tr>\n",
       "  </tbody>\n",
       "</table>\n",
       "</div>"
      ],
      "text/plain": [
       "   A  B  C  D  E  F  G  H\n",
       "0  B  a  b  y  k  o  r  b\n",
       "1  a  b  f  ä  l  l  i  g\n",
       "2  A  b  g  r  ü  n  d  e\n",
       "3  K  ä  t  z  c  h  e  n\n",
       "4  L  a  n  d  w  i  r  t\n",
       "5  l  e  b  e  n  d  i  g\n",
       "6  S  a  u  g  r  o  h  r\n",
       "7  T  r  u  g  b  i  l  d"
      ]
     },
     "execution_count": 15,
     "metadata": {},
     "output_type": "execute_result"
    }
   ],
   "source": [
    "df1 = pak.dataframe( [ list('Babykorb'), \n",
    "                       list('abfällig'), \n",
    "                       list('Abgründe'), \n",
    "                       list('Kätzchen'), \n",
    "                       list('Landwirt'), \n",
    "                       list('lebendig'), \n",
    "                       list('Saugrohr'),       \n",
    "                       list('Trugbild'),                     \n",
    "                ] )\n",
    "\n",
    "df2 = pak.dataframe( [ list('Babykorb'), \n",
    "                       list('abfällig'), \n",
    "                       list('Abgründe'), \n",
    "                       list('Kätzchen'), \n",
    "                       list('Landwirt'), \n",
    "                       list('lebendig'), \n",
    "                       list('Saugrohr'),       \n",
    "                       list('Trugbild'),                     \n",
    "                ] )\n",
    "\n",
    "df1"
   ]
  },
  {
   "cell_type": "code",
   "execution_count": 16,
   "id": "bd066fea-d338-4ed4-ae96-93b3e05abc32",
   "metadata": {
    "execution": {
     "iopub.execute_input": "2025-03-26T20:36:29.488097Z",
     "iopub.status.busy": "2025-03-26T20:36:29.488097Z",
     "iopub.status.idle": "2025-03-26T20:36:29.846616Z",
     "shell.execute_reply": "2025-03-26T20:36:29.846616Z",
     "shell.execute_reply.started": "2025-03-26T20:36:29.488097Z"
    }
   },
   "outputs": [],
   "source": [
    "# Initially the DataFrames are equal\n",
    "assert pak.check_equal(df1, df2)"
   ]
  },
  {
   "cell_type": "code",
   "execution_count": 17,
   "id": "6f14ae02-1f1f-4cfa-9611-6e9450e654a3",
   "metadata": {
    "execution": {
     "iopub.execute_input": "2025-03-26T20:36:29.847622Z",
     "iopub.status.busy": "2025-03-26T20:36:29.847622Z",
     "iopub.status.idle": "2025-03-26T20:36:30.200525Z",
     "shell.execute_reply": "2025-03-26T20:36:30.200525Z",
     "shell.execute_reply.started": "2025-03-26T20:36:29.847622Z"
    }
   },
   "outputs": [],
   "source": [
    "# One change >> not equal\n",
    "mask = df2['A'] == 'L'\n",
    "df2.loc[mask,'A'] = 'R'\n",
    "assert not pak.check_equal(df1, df2)"
   ]
  },
  {
   "cell_type": "code",
   "execution_count": 18,
   "id": "6cab2c1d-90df-48bc-b492-788fc1db5515",
   "metadata": {
    "execution": {
     "iopub.execute_input": "2025-03-26T20:36:30.201533Z",
     "iopub.status.busy": "2025-03-26T20:36:30.201533Z",
     "iopub.status.idle": "2025-03-26T20:36:30.556747Z",
     "shell.execute_reply": "2025-03-26T20:36:30.556747Z",
     "shell.execute_reply.started": "2025-03-26T20:36:30.201533Z"
    }
   },
   "outputs": [],
   "source": [
    "# Change back >> equal again\n",
    "mask = df2['A'] == 'R'\n",
    "df2.loc[mask,'A'] = 'L'\n",
    "assert pak.check_equal(df1, df2)"
   ]
  },
  {
   "cell_type": "code",
   "execution_count": 19,
   "id": "707c5b17-6889-4fcb-b655-a2eeaa724507",
   "metadata": {
    "execution": {
     "iopub.execute_input": "2025-03-26T20:36:30.557753Z",
     "iopub.status.busy": "2025-03-26T20:36:30.557753Z",
     "iopub.status.idle": "2025-03-26T20:36:30.904534Z",
     "shell.execute_reply": "2025-03-26T20:36:30.904534Z",
     "shell.execute_reply.started": "2025-03-26T20:36:30.557753Z"
    }
   },
   "outputs": [
    {
     "data": {
      "text/html": [
       "<div>\n",
       "<style scoped>\n",
       "    .dataframe tbody tr th:only-of-type {\n",
       "        vertical-align: middle;\n",
       "    }\n",
       "\n",
       "    .dataframe tbody tr th {\n",
       "        vertical-align: top;\n",
       "    }\n",
       "\n",
       "    .dataframe thead th {\n",
       "        text-align: right;\n",
       "    }\n",
       "</style>\n",
       "<table border=\"1\" class=\"dataframe\">\n",
       "  <thead>\n",
       "    <tr style=\"text-align: right;\">\n",
       "      <th></th>\n",
       "      <th>D</th>\n",
       "      <th>A</th>\n",
       "      <th>B</th>\n",
       "      <th>C</th>\n",
       "      <th>E</th>\n",
       "      <th>F</th>\n",
       "      <th>G</th>\n",
       "      <th>H</th>\n",
       "    </tr>\n",
       "  </thead>\n",
       "  <tbody>\n",
       "    <tr>\n",
       "      <th>4</th>\n",
       "      <td>d</td>\n",
       "      <td>L</td>\n",
       "      <td>a</td>\n",
       "      <td>n</td>\n",
       "      <td>w</td>\n",
       "      <td>i</td>\n",
       "      <td>r</td>\n",
       "      <td>t</td>\n",
       "    </tr>\n",
       "    <tr>\n",
       "      <th>5</th>\n",
       "      <td>e</td>\n",
       "      <td>l</td>\n",
       "      <td>e</td>\n",
       "      <td>b</td>\n",
       "      <td>n</td>\n",
       "      <td>d</td>\n",
       "      <td>i</td>\n",
       "      <td>g</td>\n",
       "    </tr>\n",
       "    <tr>\n",
       "      <th>6</th>\n",
       "      <td>g</td>\n",
       "      <td>S</td>\n",
       "      <td>a</td>\n",
       "      <td>u</td>\n",
       "      <td>r</td>\n",
       "      <td>o</td>\n",
       "      <td>h</td>\n",
       "      <td>r</td>\n",
       "    </tr>\n",
       "    <tr>\n",
       "      <th>7</th>\n",
       "      <td>g</td>\n",
       "      <td>T</td>\n",
       "      <td>r</td>\n",
       "      <td>u</td>\n",
       "      <td>b</td>\n",
       "      <td>i</td>\n",
       "      <td>l</td>\n",
       "      <td>d</td>\n",
       "    </tr>\n",
       "    <tr>\n",
       "      <th>2</th>\n",
       "      <td>r</td>\n",
       "      <td>A</td>\n",
       "      <td>b</td>\n",
       "      <td>g</td>\n",
       "      <td>ü</td>\n",
       "      <td>n</td>\n",
       "      <td>d</td>\n",
       "      <td>e</td>\n",
       "    </tr>\n",
       "    <tr>\n",
       "      <th>0</th>\n",
       "      <td>y</td>\n",
       "      <td>B</td>\n",
       "      <td>a</td>\n",
       "      <td>b</td>\n",
       "      <td>k</td>\n",
       "      <td>o</td>\n",
       "      <td>r</td>\n",
       "      <td>b</td>\n",
       "    </tr>\n",
       "    <tr>\n",
       "      <th>3</th>\n",
       "      <td>z</td>\n",
       "      <td>K</td>\n",
       "      <td>ä</td>\n",
       "      <td>t</td>\n",
       "      <td>c</td>\n",
       "      <td>h</td>\n",
       "      <td>e</td>\n",
       "      <td>n</td>\n",
       "    </tr>\n",
       "    <tr>\n",
       "      <th>1</th>\n",
       "      <td>ä</td>\n",
       "      <td>a</td>\n",
       "      <td>b</td>\n",
       "      <td>f</td>\n",
       "      <td>l</td>\n",
       "      <td>l</td>\n",
       "      <td>i</td>\n",
       "      <td>g</td>\n",
       "    </tr>\n",
       "  </tbody>\n",
       "</table>\n",
       "</div>"
      ],
      "text/plain": [
       "   D  A  B  C  E  F  G  H\n",
       "4  d  L  a  n  w  i  r  t\n",
       "5  e  l  e  b  n  d  i  g\n",
       "6  g  S  a  u  r  o  h  r\n",
       "7  g  T  r  u  b  i  l  d\n",
       "2  r  A  b  g  ü  n  d  e\n",
       "0  y  B  a  b  k  o  r  b\n",
       "3  z  K  ä  t  c  h  e  n\n",
       "1  ä  a  b  f  l  l  i  g"
      ]
     },
     "execution_count": 19,
     "metadata": {},
     "output_type": "execute_result"
    }
   ],
   "source": [
    "# change column order and row order \n",
    "df2 = pak.move_cols(df2,'D').sort_values('D')\n",
    "df2"
   ]
  },
  {
   "cell_type": "code",
   "execution_count": 20,
   "id": "6ebeb2a4-e2ab-471a-8faa-a48f94175903",
   "metadata": {
    "execution": {
     "iopub.execute_input": "2025-03-26T20:36:30.905540Z",
     "iopub.status.busy": "2025-03-26T20:36:30.905540Z",
     "iopub.status.idle": "2025-03-26T20:36:31.266451Z",
     "shell.execute_reply": "2025-03-26T20:36:31.266451Z",
     "shell.execute_reply.started": "2025-03-26T20:36:30.905540Z"
    }
   },
   "outputs": [],
   "source": [
    "# still equal\n",
    "assert pak.check_equal(df1, df2)"
   ]
  },
  {
   "cell_type": "markdown",
   "id": "4f34c45c-0a45-42db-b019-6d1eacb776ab",
   "metadata": {},
   "source": [
    "## compare_col_dtype()"
   ]
  },
  {
   "cell_type": "code",
   "execution_count": 21,
   "id": "90892cbd-7da9-4a44-aa9a-16695e892b6f",
   "metadata": {
    "execution": {
     "iopub.execute_input": "2025-03-26T20:36:31.267480Z",
     "iopub.status.busy": "2025-03-26T20:36:31.267480Z",
     "iopub.status.idle": "2025-03-26T20:36:31.628643Z",
     "shell.execute_reply": "2025-03-26T20:36:31.628643Z",
     "shell.execute_reply.started": "2025-03-26T20:36:31.267480Z"
    }
   },
   "outputs": [
    {
     "data": {
      "text/plain": [
       "\u001b[31mSignature:\u001b[39m pak.compare_col_dtype(df1, df2)\n",
       "\u001b[31mDocstring:\u001b[39m Returns the column names of two DataFrames whose dtype differs.\n",
       "\u001b[31mFile:\u001b[39m      d:\\dropbox\\31_projekte\\01_python\\88_pycharm\\pandasklar\\src\\pandasklar\\compare.py\n",
       "\u001b[31mType:\u001b[39m      function"
      ]
     },
     "metadata": {},
     "output_type": "display_data"
    }
   ],
   "source": [
    "?pak.compare_col_dtype"
   ]
  },
  {
   "cell_type": "code",
   "execution_count": 22,
   "id": "9cf65e06-c4cd-46e4-9559-a3de1a25a6c3",
   "metadata": {
    "execution": {
     "iopub.execute_input": "2025-03-26T20:36:31.629654Z",
     "iopub.status.busy": "2025-03-26T20:36:31.629654Z",
     "iopub.status.idle": "2025-03-26T20:36:31.968969Z",
     "shell.execute_reply": "2025-03-26T20:36:31.968969Z",
     "shell.execute_reply.started": "2025-03-26T20:36:31.629654Z"
    }
   },
   "outputs": [
    {
     "data": {
      "text/plain": [
       "['age']"
      ]
     },
     "execution_count": 22,
     "metadata": {},
     "output_type": "execute_result"
    }
   ],
   "source": [
    "pak.compare_col_dtype(s, t)"
   ]
  },
  {
   "cell_type": "markdown",
   "id": "76ef00e2-a18f-4c8b-be2d-2ebd329e1c63",
   "metadata": {},
   "source": [
    "## get_different_rows()"
   ]
  },
  {
   "cell_type": "code",
   "execution_count": 23,
   "id": "eeca4418-f901-4882-a737-52674785d1af",
   "metadata": {
    "execution": {
     "iopub.execute_input": "2025-03-26T20:36:31.969977Z",
     "iopub.status.busy": "2025-03-26T20:36:31.969977Z",
     "iopub.status.idle": "2025-03-26T20:36:32.343009Z",
     "shell.execute_reply": "2025-03-26T20:36:32.343009Z",
     "shell.execute_reply.started": "2025-03-26T20:36:31.969977Z"
    }
   },
   "outputs": [
    {
     "data": {
      "text/plain": [
       "\u001b[31mSignature:\u001b[39m pak.get_different_rows(df1, df2, use_index=\u001b[38;5;28;01mTrue\u001b[39;00m, indicator=\u001b[38;5;28;01mTrue\u001b[39;00m)\n",
       "\u001b[31mDocstring:\u001b[39m\n",
       "Returns the rows of two DataFrames that differ.\n",
       "\n",
       "This function compares two DataFrames and returns the rows that are different.\n",
       "It offers two modes of comparison, controlled by the `use_index` parameter:\n",
       "\n",
       "- **`use_index=True` (Index-based comparison):**\n",
       "  The DataFrames are compared row by row, based on their index.\n",
       "  Rows with the same index but different content are returned.\n",
       "  Rows that exist only in one DataFrame are also returned.\n",
       "\n",
       "- **`use_index=False` (Content-based comparison):**\n",
       "  The indexes of the DataFrames are completely ignored.\n",
       "  Rows are compared based solely on their content (based on the hashable columns).\n",
       "  Rows that exist in one DataFrame but not in the other (regardless of index) are returned.\n",
       "  Duplicate rows are considered as one.\n",
       "\n",
       "Additional or missing columns are ignored.\n",
       "Float columns may cause mistakes due to floating-point precision issues.\n",
       "\n",
       "Args:\n",
       "    df1 (pd.DataFrame): The first DataFrame.\n",
       "    df2 (pd.DataFrame): The second DataFrame.\n",
       "    use_index (bool, optional): Determines the comparison mode.\n",
       "        If True, compares rows based on index.\n",
       "        If False, compares rows based on content, ignoring index.\n",
       "        Defaults to True.\n",
       "    indicator (bool, optional): If True, adds a '_merge' column to the result\n",
       "        indicating whether a row is 'left_only', 'right_only', or 'both'.\n",
       "        Defaults to True.\n",
       "\n",
       "Returns:\n",
       "    pd.DataFrame: A DataFrame containing the different rows.\n",
       "        If `indicator=True`, the result has a '_merge' column.\n",
       "        If no differences are found, an empty DataFrame is returned.\n",
       "\u001b[31mFile:\u001b[39m      d:\\dropbox\\31_projekte\\01_python\\88_pycharm\\pandasklar\\src\\pandasklar\\compare.py\n",
       "\u001b[31mType:\u001b[39m      function"
      ]
     },
     "metadata": {},
     "output_type": "display_data"
    }
   ],
   "source": [
    "?pak.get_different_rows"
   ]
  },
  {
   "cell_type": "code",
   "execution_count": 24,
   "id": "4bc32f8e-a7de-4d12-ae07-fb2447a532aa",
   "metadata": {
    "execution": {
     "iopub.execute_input": "2025-03-26T20:36:32.344021Z",
     "iopub.status.busy": "2025-03-26T20:36:32.344021Z",
     "iopub.status.idle": "2025-03-26T20:36:32.738705Z",
     "shell.execute_reply": "2025-03-26T20:36:32.738160Z",
     "shell.execute_reply.started": "2025-03-26T20:36:32.344021Z"
    }
   },
   "outputs": [],
   "source": [
    "df1 = pak.people(size=10, seed=84)\n",
    "df2 = pak.people(size=10, seed=84).sort_values('secret')\n",
    "df2.loc[3, 'first_name'] = 'Test'"
   ]
  },
  {
   "cell_type": "code",
   "execution_count": 25,
   "id": "72840bc1-dfc4-44ab-9e8f-42afbdc8f402",
   "metadata": {
    "execution": {
     "iopub.execute_input": "2025-03-26T20:36:32.739712Z",
     "iopub.status.busy": "2025-03-26T20:36:32.739712Z",
     "iopub.status.idle": "2025-03-26T20:36:33.256271Z",
     "shell.execute_reply": "2025-03-26T20:36:33.256271Z",
     "shell.execute_reply.started": "2025-03-26T20:36:32.739712Z"
    }
   },
   "outputs": [
    {
     "data": {
      "text/html": [
       "<div>\n",
       "<style scoped>\n",
       "    .dataframe tbody tr th:only-of-type {\n",
       "        vertical-align: middle;\n",
       "    }\n",
       "\n",
       "    .dataframe tbody tr th {\n",
       "        vertical-align: top;\n",
       "    }\n",
       "\n",
       "    .dataframe thead th {\n",
       "        text-align: right;\n",
       "    }\n",
       "</style>\n",
       "<table border=\"1\" class=\"dataframe\">\n",
       "  <thead>\n",
       "    <tr style=\"text-align: right;\">\n",
       "      <th></th>\n",
       "      <th>first_name</th>\n",
       "      <th>age</th>\n",
       "      <th>age_class</th>\n",
       "      <th>postal_code</th>\n",
       "      <th>birthplace</th>\n",
       "      <th>secret</th>\n",
       "      <th>_merge</th>\n",
       "    </tr>\n",
       "  </thead>\n",
       "  <tbody>\n",
       "    <tr>\n",
       "      <th>3</th>\n",
       "      <td>Lothar</td>\n",
       "      <td>22</td>\n",
       "      <td>20</td>\n",
       "      <td>&lt;NA&gt;</td>\n",
       "      <td>Bremen</td>\n",
       "      <td>Gls3üXXIT</td>\n",
       "      <td>left_only</td>\n",
       "    </tr>\n",
       "    <tr>\n",
       "      <th>3</th>\n",
       "      <td>Test</td>\n",
       "      <td>22</td>\n",
       "      <td>20</td>\n",
       "      <td>&lt;NA&gt;</td>\n",
       "      <td>Bremen</td>\n",
       "      <td>Gls3üXXIT</td>\n",
       "      <td>right_only</td>\n",
       "    </tr>\n",
       "  </tbody>\n",
       "</table>\n",
       "</div>"
      ],
      "text/plain": [
       "  first_name  age  age_class  postal_code birthplace     secret      _merge\n",
       "3     Lothar   22         20         <NA>     Bremen  Gls3üXXIT   left_only\n",
       "3       Test   22         20         <NA>     Bremen  Gls3üXXIT  right_only"
      ]
     },
     "execution_count": 25,
     "metadata": {},
     "output_type": "execute_result"
    }
   ],
   "source": [
    "pak.get_different_rows(df1, df2)"
   ]
  },
  {
   "cell_type": "markdown",
   "id": "e9dcfaac-1fdf-4ca8-be00-9379c5b0203e",
   "metadata": {},
   "source": [
    "# Spielwiese"
   ]
  }
 ],
 "metadata": {
  "kernelspec": {
   "display_name": "Python 3 (ipykernel)",
   "language": "python",
   "name": "python3"
  },
  "language_info": {
   "codemirror_mode": {
    "name": "ipython",
    "version": 3
   },
   "file_extension": ".py",
   "mimetype": "text/x-python",
   "name": "python",
   "nbconvert_exporter": "python",
   "pygments_lexer": "ipython3",
   "version": "3.12.9"
  }
 },
 "nbformat": 4,
 "nbformat_minor": 5
}
