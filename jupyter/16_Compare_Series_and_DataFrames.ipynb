{
 "cells": [
  {
   "cell_type": "code",
   "execution_count": 1,
   "id": "7963dc28-6c4d-431f-80e7-52759f140aaa",
   "metadata": {},
   "outputs": [
    {
     "name": "stdout",
     "output_type": "stream",
     "text": [
      "blab init\n",
      "blab found local libs at /media/me/DATA/Dropbox/31_Projekte/01_Python/libs\n",
      "Start Time: 19:15:50\n"
     ]
    },
    {
     "data": {
      "text/html": [
       "<img src onerror=\"var cell = this.closest('.jp-CodeCell');var editor = cell.querySelector('.jp-Editor');editor.style.background='Beige';this.parentNode.removeChild(this)\">"
      ],
      "text/plain": [
       "<IPython.core.display.HTML object>"
      ]
     },
     "metadata": {},
     "output_type": "display_data"
    },
    {
     "name": "stdout",
     "output_type": "stream",
     "text": [
      "time: 787 ms\n"
     ]
    }
   ],
   "source": [
    "# blab init\n",
    "import blab\n",
    "startup_notebook = blab.blab_startup()\n",
    "%run $startup_notebook"
   ]
  },
  {
   "cell_type": "markdown",
   "id": "c90c26b4-2c91-4f00-8fc4-f0f173a97d58",
   "metadata": {},
   "source": [
    "# Compare Series and DataFrames\n",
    "* `compare_series`: Compares the content of two Series.\n",
    "    Returns several indicators of equality.\n",
    "* `compare_dataframes`: Compares the content of two DataFrames column by column. Returns several indicators of equality.\n",
    "* `check_equal`: Compares the content of two DataFrames column by column.\n",
    "* `compare_col_dtype`: Returns the column names of two DataFrames whose dtype differs\n",
    "* `get_different_rows`: Returns the rows of two DataFrames that differ"
   ]
  },
  {
   "cell_type": "code",
   "execution_count": 2,
   "id": "1d88d3fb-bd1c-4fbe-962c-d07c8b576785",
   "metadata": {},
   "outputs": [
    {
     "name": "stdout",
     "output_type": "stream",
     "text": [
      "time: 1.49 s\n"
     ]
    }
   ],
   "source": [
    "import pandas     as pd \n",
    "import bpyth      as bpy\n",
    "import pandasklar as pak \n",
    "pak.Config.set('VERBOSE', False)"
   ]
  },
  {
   "cell_type": "markdown",
   "id": "6c6d7d57-c8d8-4d6e-8f43-6717458a6b1b",
   "metadata": {},
   "source": [
    "## compare_series()"
   ]
  },
  {
   "cell_type": "code",
   "execution_count": 3,
   "id": "f0f54a71-6b03-4538-8021-b5b5abd0597c",
   "metadata": {},
   "outputs": [
    {
     "name": "stdout",
     "output_type": "stream",
     "text": [
      "time: 67 ms\n"
     ]
    },
    {
     "data": {
      "text/plain": [
       "\u001b[0;31mSignature:\u001b[0m \u001b[0mpak\u001b[0m\u001b[0;34m.\u001b[0m\u001b[0mcompare_series\u001b[0m\u001b[0;34m(\u001b[0m\u001b[0ms\u001b[0m\u001b[0;34m,\u001b[0m \u001b[0mt\u001b[0m\u001b[0;34m,\u001b[0m \u001b[0mformat\u001b[0m\u001b[0;34m=\u001b[0m\u001b[0;34m'dict'\u001b[0m\u001b[0;34m)\u001b[0m\u001b[0;34m\u001b[0m\u001b[0;34m\u001b[0m\u001b[0m\n",
       "\u001b[0;31mDocstring:\u001b[0m\n",
       "Compares the content of two Series.\n",
       "Returns a dict or DataFrame \n",
       "with info about the Series:\n",
       "    name:    same name    \n",
       "    dtype:   same dtype\n",
       "    len:     same shape        \n",
       "    nnan:    same number of NaNs   \n",
       "    content: same content, ignoring index and sort\n",
       "    sort:    same sort order, ignoring index\n",
       "    eq:      same relations index->data, ignoring sort\n",
       "    \n",
       "\u001b[0;31mFile:\u001b[0m      /media/me/DATA/Dropbox/31_Projekte/01_Python/git/pandasklar/src/pandasklar/compare.py\n",
       "\u001b[0;31mType:\u001b[0m      function\n"
      ]
     },
     "metadata": {},
     "output_type": "display_data"
    }
   ],
   "source": [
    "?pak.compare_series"
   ]
  },
  {
   "cell_type": "code",
   "execution_count": 4,
   "id": "67e6b526-5345-4e5a-8b58-b76d59ee39f7",
   "metadata": {},
   "outputs": [
    {
     "data": {
      "text/plain": [
       "0         NaN\n",
       "1        iutx\n",
       "2        yz1m\n",
       "3         NaN\n",
       "4     XoLYdÜn\n",
       "       ...   \n",
       "95      öj0Wf\n",
       "96       4u7r\n",
       "97    TgDUNm2\n",
       "98    QC7JkÖx\n",
       "99     sf0M3e\n",
       "Name: rnd_string, Length: 100, dtype: object"
      ]
     },
     "execution_count": 4,
     "metadata": {},
     "output_type": "execute_result"
    },
    {
     "name": "stdout",
     "output_type": "stream",
     "text": [
      "time: 68.6 ms\n"
     ]
    }
   ],
   "source": [
    "# Generate test data\n",
    "s = pak.random_series( 100, 's')\n",
    "s = s.apply(pak.decorate, p=0.1) # nan\n",
    "s"
   ]
  },
  {
   "cell_type": "code",
   "execution_count": 5,
   "id": "b0b4ac08-ed19-443e-ac37-9f7f57e95515",
   "metadata": {},
   "outputs": [
    {
     "name": "stdout",
     "output_type": "stream",
     "text": [
      "time: 72.6 ms\n"
     ]
    }
   ],
   "source": [
    "# Generate compare data\n",
    "# Play with it!\n",
    "\n",
    "t = s.copy()\n",
    "# t.name = 's' # name\n",
    "# t = t[:99] # len\n",
    "# t = t.apply(pak.decorate, p=0.5) # nan\n",
    "#t = t.astype('object') # dtype\n",
    "\n",
    "t[0], t[1] = t[1], t[0] \n",
    "#t = t.sort_values()\n",
    "\n"
   ]
  },
  {
   "cell_type": "code",
   "execution_count": 6,
   "id": "f5aa31bb-46c1-45b9-833c-827310a26114",
   "metadata": {},
   "outputs": [
    {
     "data": {
      "text/html": [
       "<div>\n",
       "<style scoped>\n",
       "    .dataframe tbody tr th:only-of-type {\n",
       "        vertical-align: middle;\n",
       "    }\n",
       "\n",
       "    .dataframe tbody tr th {\n",
       "        vertical-align: top;\n",
       "    }\n",
       "\n",
       "    .dataframe thead th {\n",
       "        text-align: right;\n",
       "    }\n",
       "</style>\n",
       "<table border=\"1\" class=\"dataframe\">\n",
       "  <thead>\n",
       "    <tr style=\"text-align: right;\">\n",
       "      <th></th>\n",
       "      <th>rnd_string</th>\n",
       "    </tr>\n",
       "  </thead>\n",
       "  <tbody>\n",
       "    <tr>\n",
       "      <th>name</th>\n",
       "      <td>True</td>\n",
       "    </tr>\n",
       "    <tr>\n",
       "      <th>dtype</th>\n",
       "      <td>True</td>\n",
       "    </tr>\n",
       "    <tr>\n",
       "      <th>len</th>\n",
       "      <td>True</td>\n",
       "    </tr>\n",
       "    <tr>\n",
       "      <th>nnan</th>\n",
       "      <td>True</td>\n",
       "    </tr>\n",
       "    <tr>\n",
       "      <th>content</th>\n",
       "      <td>True</td>\n",
       "    </tr>\n",
       "    <tr>\n",
       "      <th>sort</th>\n",
       "      <td>False</td>\n",
       "    </tr>\n",
       "    <tr>\n",
       "      <th>eq</th>\n",
       "      <td>False</td>\n",
       "    </tr>\n",
       "  </tbody>\n",
       "</table>\n",
       "</div>"
      ],
      "text/plain": [
       "         rnd_string\n",
       "name           True\n",
       "dtype          True\n",
       "len            True\n",
       "nnan           True\n",
       "content        True\n",
       "sort          False\n",
       "eq            False"
      ]
     },
     "execution_count": 6,
     "metadata": {},
     "output_type": "execute_result"
    },
    {
     "name": "stdout",
     "output_type": "stream",
     "text": [
      "time: 80.8 ms\n"
     ]
    }
   ],
   "source": [
    "r = pak.compare_series(s,t, format='df')\n",
    "r"
   ]
  },
  {
   "cell_type": "markdown",
   "id": "1354e081-8c4f-4856-845e-05ddc659ae37",
   "metadata": {},
   "source": [
    "## compare_dataframes()"
   ]
  },
  {
   "cell_type": "code",
   "execution_count": 27,
   "id": "b26da1ba-21c0-4fdc-8c9f-08a3e3b8ddf6",
   "metadata": {},
   "outputs": [
    {
     "name": "stdout",
     "output_type": "stream",
     "text": [
      "time: 54.2 ms\n"
     ]
    },
    {
     "data": {
      "text/plain": [
       "\u001b[0;31mSignature:\u001b[0m \u001b[0mpak\u001b[0m\u001b[0;34m.\u001b[0m\u001b[0mcompare_dataframes\u001b[0m\u001b[0;34m(\u001b[0m\u001b[0mdf1\u001b[0m\u001b[0;34m,\u001b[0m \u001b[0mdf2\u001b[0m\u001b[0;34m,\u001b[0m \u001b[0mreset_index\u001b[0m\u001b[0;34m=\u001b[0m\u001b[0;32mFalse\u001b[0m\u001b[0;34m,\u001b[0m \u001b[0mformat\u001b[0m\u001b[0;34m=\u001b[0m\u001b[0;34m'df'\u001b[0m\u001b[0;34m)\u001b[0m\u001b[0;34m\u001b[0m\u001b[0;34m\u001b[0m\u001b[0m\n",
       "\u001b[0;31mDocstring:\u001b[0m\n",
       "Compares the content of two DataFrames column by column.\n",
       "Returns several indicators of equality:\n",
       "    name:    True, left_only or right_only. True means the column exists in both DataFrames.     \n",
       "    dtype:   columns have same dtype     \n",
       "    nnan:    columns have same number of NaNs   \n",
       "    content: columns have same content, ignoring index and sort\n",
       "    sort:    columns have same sort order, ignoring index\n",
       "    eq:      columns have same relations index->data, ignoring sort    \n",
       "\n",
       "* reset_index: Set True to ignore index and sort order or the rows.    \n",
       "* format:      'DataFrame', 'Series', 'dict' or 'bool' (or abbreviations of this):\n",
       "               Output format. format='DataFrame' will return detailed information.\n",
       "               format='Series', 'dict' or 'bool' will return a summary.\n",
       "\u001b[0;31mFile:\u001b[0m      /media/me/DATA/Dropbox/31_Projekte/01_Python/git/pandasklar/src/pandasklar/compare.py\n",
       "\u001b[0;31mType:\u001b[0m      function\n"
      ]
     },
     "metadata": {},
     "output_type": "display_data"
    }
   ],
   "source": [
    "?pak.compare_dataframes"
   ]
  },
  {
   "cell_type": "code",
   "execution_count": 8,
   "id": "3510f8f7-5936-46a8-9dcb-51851995472f",
   "metadata": {},
   "outputs": [
    {
     "data": {
      "text/html": [
       "<div>\n",
       "<style scoped>\n",
       "    .dataframe tbody tr th:only-of-type {\n",
       "        vertical-align: middle;\n",
       "    }\n",
       "\n",
       "    .dataframe tbody tr th {\n",
       "        vertical-align: top;\n",
       "    }\n",
       "\n",
       "    .dataframe thead th {\n",
       "        text-align: right;\n",
       "    }\n",
       "</style>\n",
       "<table border=\"1\" class=\"dataframe\">\n",
       "  <thead>\n",
       "    <tr style=\"text-align: right;\">\n",
       "      <th></th>\n",
       "      <th>first_name</th>\n",
       "      <th>age</th>\n",
       "      <th>age_class</th>\n",
       "      <th>postal_code</th>\n",
       "      <th>birthplace</th>\n",
       "      <th>secret</th>\n",
       "      <th>features</th>\n",
       "      <th>history</th>\n",
       "    </tr>\n",
       "  </thead>\n",
       "  <tbody>\n",
       "    <tr>\n",
       "      <th>0</th>\n",
       "      <td>Stephanie</td>\n",
       "      <td>33</td>\n",
       "      <td>30</td>\n",
       "      <td>56664</td>\n",
       "      <td>Bremen</td>\n",
       "      <td>EzUpc5</td>\n",
       "      <td>{j, Y, s, z}</td>\n",
       "      <td>[A, x]</td>\n",
       "    </tr>\n",
       "    <tr>\n",
       "      <th>1</th>\n",
       "      <td>Niklas</td>\n",
       "      <td>30</td>\n",
       "      <td>30</td>\n",
       "      <td>45612</td>\n",
       "      <td>Berlin</td>\n",
       "      <td>eU6uItzwV</td>\n",
       "      <td>{T, X}</td>\n",
       "      <td>[A, A, A]</td>\n",
       "    </tr>\n",
       "    <tr>\n",
       "      <th>2</th>\n",
       "      <td>Eileen</td>\n",
       "      <td>26</td>\n",
       "      <td>20</td>\n",
       "      <td>19042</td>\n",
       "      <td>&lt;NA&gt;</td>\n",
       "      <td>OükUSü</td>\n",
       "      <td>{H, U, Q}</td>\n",
       "      <td>[A, B, C, C]</td>\n",
       "    </tr>\n",
       "    <tr>\n",
       "      <th>3</th>\n",
       "      <td>Ella</td>\n",
       "      <td>37</td>\n",
       "      <td>30</td>\n",
       "      <td>96095</td>\n",
       "      <td>&lt;NA&gt;</td>\n",
       "      <td>0AIaAKawv</td>\n",
       "      <td>{N, 1}</td>\n",
       "      <td>[b, b, a, b]</td>\n",
       "    </tr>\n",
       "    <tr>\n",
       "      <th>4</th>\n",
       "      <td>David</td>\n",
       "      <td>32</td>\n",
       "      <td>30</td>\n",
       "      <td>&lt;NA&gt;</td>\n",
       "      <td>Bremen</td>\n",
       "      <td>DILwpDSkY</td>\n",
       "      <td>{d, k, V}</td>\n",
       "      <td>[c, b, a]</td>\n",
       "    </tr>\n",
       "    <tr>\n",
       "      <th>...</th>\n",
       "      <td>...</td>\n",
       "      <td>...</td>\n",
       "      <td>...</td>\n",
       "      <td>...</td>\n",
       "      <td>...</td>\n",
       "      <td>...</td>\n",
       "      <td>...</td>\n",
       "      <td>...</td>\n",
       "    </tr>\n",
       "    <tr>\n",
       "      <th>95</th>\n",
       "      <td>Lilli</td>\n",
       "      <td>36</td>\n",
       "      <td>30</td>\n",
       "      <td>57143</td>\n",
       "      <td>Bremen</td>\n",
       "      <td>8Qx8ZsPÖGx</td>\n",
       "      <td>{M, F}</td>\n",
       "      <td>[]</td>\n",
       "    </tr>\n",
       "    <tr>\n",
       "      <th>96</th>\n",
       "      <td>Hans</td>\n",
       "      <td>34</td>\n",
       "      <td>30</td>\n",
       "      <td>68389</td>\n",
       "      <td>Berlin</td>\n",
       "      <td>uÖYBdFkB</td>\n",
       "      <td>{5, 3, p, D, t}</td>\n",
       "      <td>[A, C, C, B]</td>\n",
       "    </tr>\n",
       "    <tr>\n",
       "      <th>97</th>\n",
       "      <td>Andre</td>\n",
       "      <td>24</td>\n",
       "      <td>20</td>\n",
       "      <td>63104</td>\n",
       "      <td>&lt;NA&gt;</td>\n",
       "      <td>B4n5McSW</td>\n",
       "      <td>{C, K, L}</td>\n",
       "      <td>[a, b, c]</td>\n",
       "    </tr>\n",
       "    <tr>\n",
       "      <th>98</th>\n",
       "      <td>Heinz</td>\n",
       "      <td>35</td>\n",
       "      <td>30</td>\n",
       "      <td>80438</td>\n",
       "      <td>&lt;NA&gt;</td>\n",
       "      <td>y79xOLg</td>\n",
       "      <td>{C, h, A}</td>\n",
       "      <td>[A, C, C, B]</td>\n",
       "    </tr>\n",
       "    <tr>\n",
       "      <th>99</th>\n",
       "      <td>Rosemarie</td>\n",
       "      <td>30</td>\n",
       "      <td>30</td>\n",
       "      <td>79075</td>\n",
       "      <td>&lt;NA&gt;</td>\n",
       "      <td>ogBBe</td>\n",
       "      <td>{E, Y, 5, M}</td>\n",
       "      <td>[A, B, C, C]</td>\n",
       "    </tr>\n",
       "  </tbody>\n",
       "</table>\n",
       "<p>100 rows × 8 columns</p>\n",
       "</div>"
      ],
      "text/plain": [
       "   first_name  age  age_class  postal_code birthplace      secret  \\\n",
       "0   Stephanie   33         30        56664     Bremen      EzUpc5   \n",
       "1      Niklas   30         30        45612     Berlin   eU6uItzwV   \n",
       "2      Eileen   26         20        19042       <NA>      OükUSü   \n",
       "3        Ella   37         30        96095       <NA>   0AIaAKawv   \n",
       "4       David   32         30         <NA>     Bremen   DILwpDSkY   \n",
       "..        ...  ...        ...          ...        ...         ...   \n",
       "95      Lilli   36         30        57143     Bremen  8Qx8ZsPÖGx   \n",
       "96       Hans   34         30        68389     Berlin    uÖYBdFkB   \n",
       "97      Andre   24         20        63104       <NA>    B4n5McSW   \n",
       "98      Heinz   35         30        80438       <NA>     y79xOLg   \n",
       "99  Rosemarie   30         30        79075       <NA>       ogBBe   \n",
       "\n",
       "           features       history  \n",
       "0      {j, Y, s, z}        [A, x]  \n",
       "1            {T, X}     [A, A, A]  \n",
       "2         {H, U, Q}  [A, B, C, C]  \n",
       "3            {N, 1}  [b, b, a, b]  \n",
       "4         {d, k, V}     [c, b, a]  \n",
       "..              ...           ...  \n",
       "95           {M, F}            []  \n",
       "96  {5, 3, p, D, t}  [A, C, C, B]  \n",
       "97        {C, K, L}     [a, b, c]  \n",
       "98        {C, h, A}  [A, C, C, B]  \n",
       "99     {E, Y, 5, M}  [A, B, C, C]  \n",
       "\n",
       "[100 rows x 8 columns]"
      ]
     },
     "execution_count": 8,
     "metadata": {},
     "output_type": "execute_result"
    },
    {
     "name": "stdout",
     "output_type": "stream",
     "text": [
      "time: 166 ms\n"
     ]
    }
   ],
   "source": [
    "# Generate test data\n",
    "s = pak.people()\n",
    "s"
   ]
  },
  {
   "cell_type": "code",
   "execution_count": 9,
   "id": "1dfb4fa9-22e4-450f-b82e-765bb28f6b28",
   "metadata": {},
   "outputs": [
    {
     "data": {
      "text/html": [
       "<div>\n",
       "<style scoped>\n",
       "    .dataframe tbody tr th:only-of-type {\n",
       "        vertical-align: middle;\n",
       "    }\n",
       "\n",
       "    .dataframe tbody tr th {\n",
       "        vertical-align: top;\n",
       "    }\n",
       "\n",
       "    .dataframe thead th {\n",
       "        text-align: right;\n",
       "    }\n",
       "</style>\n",
       "<table border=\"1\" class=\"dataframe\">\n",
       "  <thead>\n",
       "    <tr style=\"text-align: right;\">\n",
       "      <th></th>\n",
       "      <th>first_name</th>\n",
       "      <th>age_class</th>\n",
       "      <th>postal_code</th>\n",
       "      <th>birthplace</th>\n",
       "      <th>secret</th>\n",
       "      <th>features</th>\n",
       "      <th>history</th>\n",
       "      <th>AAGE</th>\n",
       "      <th>age</th>\n",
       "    </tr>\n",
       "  </thead>\n",
       "  <tbody>\n",
       "    <tr>\n",
       "      <th>0</th>\n",
       "      <td>Stephanie</td>\n",
       "      <td>30</td>\n",
       "      <td>56664</td>\n",
       "      <td>Bremen</td>\n",
       "      <td>EzUpc5</td>\n",
       "      <td>{j, Y, s, z}</td>\n",
       "      <td>[A, x]</td>\n",
       "      <td>0</td>\n",
       "      <td>33.0</td>\n",
       "    </tr>\n",
       "    <tr>\n",
       "      <th>1</th>\n",
       "      <td>Niklas</td>\n",
       "      <td>30</td>\n",
       "      <td>45612</td>\n",
       "      <td>Berlin</td>\n",
       "      <td>eU6uItzwV</td>\n",
       "      <td>{T, X}</td>\n",
       "      <td>[A, A, A]</td>\n",
       "      <td>0</td>\n",
       "      <td>30.0</td>\n",
       "    </tr>\n",
       "    <tr>\n",
       "      <th>2</th>\n",
       "      <td>Eileen</td>\n",
       "      <td>20</td>\n",
       "      <td>19042</td>\n",
       "      <td>&lt;NA&gt;</td>\n",
       "      <td>OükUSü</td>\n",
       "      <td>{H, U, Q}</td>\n",
       "      <td>[A, B, C, C]</td>\n",
       "      <td>0</td>\n",
       "      <td>26.0</td>\n",
       "    </tr>\n",
       "    <tr>\n",
       "      <th>3</th>\n",
       "      <td>Ella</td>\n",
       "      <td>30</td>\n",
       "      <td>96095</td>\n",
       "      <td>&lt;NA&gt;</td>\n",
       "      <td>0AIaAKawv</td>\n",
       "      <td>{N, 1}</td>\n",
       "      <td>[b, b, a, b]</td>\n",
       "      <td>0</td>\n",
       "      <td>37.0</td>\n",
       "    </tr>\n",
       "    <tr>\n",
       "      <th>4</th>\n",
       "      <td>David</td>\n",
       "      <td>30</td>\n",
       "      <td>&lt;NA&gt;</td>\n",
       "      <td>Bremen</td>\n",
       "      <td>DILwpDSkY</td>\n",
       "      <td>{d, k, V}</td>\n",
       "      <td>[c, b, a]</td>\n",
       "      <td>0</td>\n",
       "      <td>32.0</td>\n",
       "    </tr>\n",
       "    <tr>\n",
       "      <th>...</th>\n",
       "      <td>...</td>\n",
       "      <td>...</td>\n",
       "      <td>...</td>\n",
       "      <td>...</td>\n",
       "      <td>...</td>\n",
       "      <td>...</td>\n",
       "      <td>...</td>\n",
       "      <td>...</td>\n",
       "      <td>...</td>\n",
       "    </tr>\n",
       "    <tr>\n",
       "      <th>95</th>\n",
       "      <td>Lilli</td>\n",
       "      <td>30</td>\n",
       "      <td>57143</td>\n",
       "      <td>Bremen</td>\n",
       "      <td>8Qx8ZsPÖGx</td>\n",
       "      <td>{M, F}</td>\n",
       "      <td>[]</td>\n",
       "      <td>0</td>\n",
       "      <td>36.0</td>\n",
       "    </tr>\n",
       "    <tr>\n",
       "      <th>96</th>\n",
       "      <td>Hans</td>\n",
       "      <td>30</td>\n",
       "      <td>68389</td>\n",
       "      <td>Berlin</td>\n",
       "      <td>uÖYBdFkB</td>\n",
       "      <td>{5, 3, p, D, t}</td>\n",
       "      <td>[A, C, C, B]</td>\n",
       "      <td>0</td>\n",
       "      <td>34.0</td>\n",
       "    </tr>\n",
       "    <tr>\n",
       "      <th>97</th>\n",
       "      <td>Andre</td>\n",
       "      <td>20</td>\n",
       "      <td>63104</td>\n",
       "      <td>&lt;NA&gt;</td>\n",
       "      <td>B4n5McSW</td>\n",
       "      <td>{C, K, L}</td>\n",
       "      <td>[a, b, c]</td>\n",
       "      <td>0</td>\n",
       "      <td>24.0</td>\n",
       "    </tr>\n",
       "    <tr>\n",
       "      <th>98</th>\n",
       "      <td>Heinz</td>\n",
       "      <td>30</td>\n",
       "      <td>80438</td>\n",
       "      <td>&lt;NA&gt;</td>\n",
       "      <td>y79xOLg</td>\n",
       "      <td>{C, h, A}</td>\n",
       "      <td>[A, C, C, B]</td>\n",
       "      <td>0</td>\n",
       "      <td>35.0</td>\n",
       "    </tr>\n",
       "    <tr>\n",
       "      <th>99</th>\n",
       "      <td>Rosemarie</td>\n",
       "      <td>30</td>\n",
       "      <td>79075</td>\n",
       "      <td>&lt;NA&gt;</td>\n",
       "      <td>ogBBe</td>\n",
       "      <td>{E, Y, 5, M}</td>\n",
       "      <td>[A, B, C, C]</td>\n",
       "      <td>0</td>\n",
       "      <td>30.0</td>\n",
       "    </tr>\n",
       "  </tbody>\n",
       "</table>\n",
       "<p>100 rows × 9 columns</p>\n",
       "</div>"
      ],
      "text/plain": [
       "   first_name  age_class  postal_code birthplace      secret         features  \\\n",
       "0   Stephanie         30        56664     Bremen      EzUpc5     {j, Y, s, z}   \n",
       "1      Niklas         30        45612     Berlin   eU6uItzwV           {T, X}   \n",
       "2      Eileen         20        19042       <NA>      OükUSü        {H, U, Q}   \n",
       "3        Ella         30        96095       <NA>   0AIaAKawv           {N, 1}   \n",
       "4       David         30         <NA>     Bremen   DILwpDSkY        {d, k, V}   \n",
       "..        ...        ...          ...        ...         ...              ...   \n",
       "95      Lilli         30        57143     Bremen  8Qx8ZsPÖGx           {M, F}   \n",
       "96       Hans         30        68389     Berlin    uÖYBdFkB  {5, 3, p, D, t}   \n",
       "97      Andre         20        63104       <NA>    B4n5McSW        {C, K, L}   \n",
       "98      Heinz         30        80438       <NA>     y79xOLg        {C, h, A}   \n",
       "99  Rosemarie         30        79075       <NA>       ogBBe     {E, Y, 5, M}   \n",
       "\n",
       "         history  AAGE   age  \n",
       "0         [A, x]     0  33.0  \n",
       "1      [A, A, A]     0  30.0  \n",
       "2   [A, B, C, C]     0  26.0  \n",
       "3   [b, b, a, b]     0  37.0  \n",
       "4      [c, b, a]     0  32.0  \n",
       "..           ...   ...   ...  \n",
       "95            []     0  36.0  \n",
       "96  [A, C, C, B]     0  34.0  \n",
       "97     [a, b, c]     0  24.0  \n",
       "98  [A, C, C, B]     0  35.0  \n",
       "99  [A, B, C, C]     0  30.0  \n",
       "\n",
       "[100 rows x 9 columns]"
      ]
     },
     "execution_count": 9,
     "metadata": {},
     "output_type": "execute_result"
    },
    {
     "name": "stdout",
     "output_type": "stream",
     "text": [
      "time: 49.8 ms\n"
     ]
    }
   ],
   "source": [
    "# Generate compare data\n",
    "# Play with it!\n",
    "\n",
    "t = s.copy()\n",
    "# t.name = 's' # name\n",
    "# t = t[:99] # len\n",
    "# t = t.apply(pak.decorate, p=0.5) # nan\n",
    "t['age'] = t.age.astype('float') # dtype\n",
    "\n",
    "#t = t.sort_values()\n",
    "#t = pak.drop_cols(t, 'age')\n",
    "t['AAGE'] = 0\n",
    "#t = t.sort_values(['first_name'])\n",
    "#t.loc[0,'age'] = None\n",
    "#t = t.head(50)\n",
    "t= pak.move_cols(t,'age',-1)\n",
    "t\n",
    "\n"
   ]
  },
  {
   "cell_type": "code",
   "execution_count": 10,
   "id": "3cf708b9-e924-4018-abb8-b5cc8f94f6e8",
   "metadata": {},
   "outputs": [
    {
     "data": {
      "text/html": [
       "<div>\n",
       "<style scoped>\n",
       "    .dataframe tbody tr th:only-of-type {\n",
       "        vertical-align: middle;\n",
       "    }\n",
       "\n",
       "    .dataframe tbody tr th {\n",
       "        vertical-align: top;\n",
       "    }\n",
       "\n",
       "    .dataframe thead th {\n",
       "        text-align: right;\n",
       "    }\n",
       "</style>\n",
       "<table border=\"1\" class=\"dataframe\">\n",
       "  <thead>\n",
       "    <tr style=\"text-align: right;\">\n",
       "      <th></th>\n",
       "      <th>name</th>\n",
       "      <th>dtype</th>\n",
       "      <th>nnan</th>\n",
       "      <th>content</th>\n",
       "      <th>sort</th>\n",
       "      <th>eq</th>\n",
       "    </tr>\n",
       "  </thead>\n",
       "  <tbody>\n",
       "    <tr>\n",
       "      <th>first_name</th>\n",
       "      <td>True</td>\n",
       "      <td>True</td>\n",
       "      <td>True</td>\n",
       "      <td>True</td>\n",
       "      <td>True</td>\n",
       "      <td>True</td>\n",
       "    </tr>\n",
       "    <tr>\n",
       "      <th>age_class</th>\n",
       "      <td>True</td>\n",
       "      <td>True</td>\n",
       "      <td>True</td>\n",
       "      <td>True</td>\n",
       "      <td>True</td>\n",
       "      <td>True</td>\n",
       "    </tr>\n",
       "    <tr>\n",
       "      <th>postal_code</th>\n",
       "      <td>True</td>\n",
       "      <td>True</td>\n",
       "      <td>True</td>\n",
       "      <td>True</td>\n",
       "      <td>True</td>\n",
       "      <td>True</td>\n",
       "    </tr>\n",
       "    <tr>\n",
       "      <th>birthplace</th>\n",
       "      <td>True</td>\n",
       "      <td>True</td>\n",
       "      <td>True</td>\n",
       "      <td>True</td>\n",
       "      <td>True</td>\n",
       "      <td>True</td>\n",
       "    </tr>\n",
       "    <tr>\n",
       "      <th>secret</th>\n",
       "      <td>True</td>\n",
       "      <td>True</td>\n",
       "      <td>True</td>\n",
       "      <td>True</td>\n",
       "      <td>True</td>\n",
       "      <td>True</td>\n",
       "    </tr>\n",
       "    <tr>\n",
       "      <th>features</th>\n",
       "      <td>True</td>\n",
       "      <td>True</td>\n",
       "      <td>True</td>\n",
       "      <td>True</td>\n",
       "      <td>True</td>\n",
       "      <td>True</td>\n",
       "    </tr>\n",
       "    <tr>\n",
       "      <th>history</th>\n",
       "      <td>True</td>\n",
       "      <td>True</td>\n",
       "      <td>True</td>\n",
       "      <td>True</td>\n",
       "      <td>True</td>\n",
       "      <td>True</td>\n",
       "    </tr>\n",
       "    <tr>\n",
       "      <th>age</th>\n",
       "      <td>True</td>\n",
       "      <td>False</td>\n",
       "      <td>True</td>\n",
       "      <td>True</td>\n",
       "      <td>True</td>\n",
       "      <td>True</td>\n",
       "    </tr>\n",
       "    <tr>\n",
       "      <th>AAGE</th>\n",
       "      <td>right_only</td>\n",
       "      <td>None</td>\n",
       "      <td>None</td>\n",
       "      <td>False</td>\n",
       "      <td>None</td>\n",
       "      <td>False</td>\n",
       "    </tr>\n",
       "    <tr>\n",
       "      <th>(Total)</th>\n",
       "      <td>False</td>\n",
       "      <td>False</td>\n",
       "      <td>False</td>\n",
       "      <td>False</td>\n",
       "      <td>False</td>\n",
       "      <td>False</td>\n",
       "    </tr>\n",
       "  </tbody>\n",
       "</table>\n",
       "</div>"
      ],
      "text/plain": [
       "                   name  dtype   nnan content   sort     eq\n",
       "first_name         True   True   True    True   True   True\n",
       "age_class          True   True   True    True   True   True\n",
       "postal_code        True   True   True    True   True   True\n",
       "birthplace         True   True   True    True   True   True\n",
       "secret             True   True   True    True   True   True\n",
       "features           True   True   True    True   True   True\n",
       "history            True   True   True    True   True   True\n",
       "age                True  False   True    True   True   True\n",
       "AAGE         right_only   None   None   False   None  False\n",
       "(Total)           False  False  False   False  False  False"
      ]
     },
     "execution_count": 10,
     "metadata": {},
     "output_type": "execute_result"
    },
    {
     "name": "stdout",
     "output_type": "stream",
     "text": [
      "time: 141 ms\n"
     ]
    }
   ],
   "source": [
    "# Output as DataFrame\n",
    "pak.compare_dataframes(s,t)"
   ]
  },
  {
   "cell_type": "code",
   "execution_count": 11,
   "id": "40c69016-27b9-401d-ac92-d4d440f0dcb3",
   "metadata": {},
   "outputs": [
    {
     "data": {
      "text/plain": [
       "{'name': False,\n",
       " 'dtype': False,\n",
       " 'nnan': False,\n",
       " 'content': False,\n",
       " 'sort': False,\n",
       " 'eq': False}"
      ]
     },
     "execution_count": 11,
     "metadata": {},
     "output_type": "execute_result"
    },
    {
     "name": "stdout",
     "output_type": "stream",
     "text": [
      "time: 101 ms\n"
     ]
    }
   ],
   "source": [
    "# Output as dict\n",
    "pak.compare_dataframes(s,t, format='dict')"
   ]
  },
  {
   "cell_type": "code",
   "execution_count": 12,
   "id": "ba5185b9-c46d-4156-aa08-cc48d5bd8eac",
   "metadata": {},
   "outputs": [
    {
     "data": {
      "text/plain": [
       "False"
      ]
     },
     "execution_count": 12,
     "metadata": {},
     "output_type": "execute_result"
    },
    {
     "name": "stdout",
     "output_type": "stream",
     "text": [
      "time: 82 ms\n"
     ]
    }
   ],
   "source": [
    "# Output as bool\n",
    "pak.compare_dataframes(s,t, format='bool')"
   ]
  },
  {
   "cell_type": "code",
   "execution_count": 13,
   "id": "2e00595b-cd5a-4320-9bed-e2068814ebc2",
   "metadata": {},
   "outputs": [
    {
     "data": {
      "text/plain": [
       "False"
      ]
     },
     "execution_count": 13,
     "metadata": {},
     "output_type": "execute_result"
    },
    {
     "name": "stdout",
     "output_type": "stream",
     "text": [
      "time: 105 ms\n"
     ]
    }
   ],
   "source": [
    "# This ist the same as check_equal\n",
    "pak.check_equal(s,t)"
   ]
  },
  {
   "cell_type": "markdown",
   "id": "b64996f2-3732-4fed-8115-c567b117e32e",
   "metadata": {},
   "source": [
    "## check_equal()"
   ]
  },
  {
   "cell_type": "code",
   "execution_count": 14,
   "id": "d8dc1d2a-d12c-4c2b-9f3b-ee0c70e06c96",
   "metadata": {},
   "outputs": [
    {
     "name": "stdout",
     "output_type": "stream",
     "text": [
      "time: 77.2 ms\n"
     ]
    },
    {
     "data": {
      "text/plain": [
       "\u001b[0;31mSignature:\u001b[0m \u001b[0mpak\u001b[0m\u001b[0;34m.\u001b[0m\u001b[0mcheck_equal\u001b[0m\u001b[0;34m(\u001b[0m\u001b[0mobj1\u001b[0m\u001b[0;34m,\u001b[0m \u001b[0mobj2\u001b[0m\u001b[0;34m,\u001b[0m \u001b[0mreset_index\u001b[0m\u001b[0;34m=\u001b[0m\u001b[0;32mFalse\u001b[0m\u001b[0;34m)\u001b[0m\u001b[0;34m\u001b[0m\u001b[0;34m\u001b[0m\u001b[0m\n",
       "\u001b[0;31mDocstring:\u001b[0m\n",
       "Compare the content of two DataFrames column by column.\n",
       "Two DataFrames are equal, if \n",
       "* they have the same shape\n",
       "* they have the same column names\n",
       "* and compare_dataframes(format='bool') is True\n",
       "\u001b[0;31mFile:\u001b[0m      /media/me/DATA/Dropbox/31_Projekte/01_Python/git/pandasklar/src/pandasklar/compare.py\n",
       "\u001b[0;31mType:\u001b[0m      function\n"
      ]
     },
     "metadata": {},
     "output_type": "display_data"
    }
   ],
   "source": [
    "?pak.check_equal"
   ]
  },
  {
   "cell_type": "code",
   "execution_count": 15,
   "id": "02668d91-2f40-4201-a3e2-8060d5214429",
   "metadata": {},
   "outputs": [
    {
     "data": {
      "text/html": [
       "<div>\n",
       "<style scoped>\n",
       "    .dataframe tbody tr th:only-of-type {\n",
       "        vertical-align: middle;\n",
       "    }\n",
       "\n",
       "    .dataframe tbody tr th {\n",
       "        vertical-align: top;\n",
       "    }\n",
       "\n",
       "    .dataframe thead th {\n",
       "        text-align: right;\n",
       "    }\n",
       "</style>\n",
       "<table border=\"1\" class=\"dataframe\">\n",
       "  <thead>\n",
       "    <tr style=\"text-align: right;\">\n",
       "      <th></th>\n",
       "      <th>A</th>\n",
       "      <th>B</th>\n",
       "      <th>C</th>\n",
       "      <th>D</th>\n",
       "      <th>E</th>\n",
       "      <th>F</th>\n",
       "      <th>G</th>\n",
       "      <th>H</th>\n",
       "    </tr>\n",
       "  </thead>\n",
       "  <tbody>\n",
       "    <tr>\n",
       "      <th>0</th>\n",
       "      <td>B</td>\n",
       "      <td>a</td>\n",
       "      <td>b</td>\n",
       "      <td>y</td>\n",
       "      <td>k</td>\n",
       "      <td>o</td>\n",
       "      <td>r</td>\n",
       "      <td>b</td>\n",
       "    </tr>\n",
       "    <tr>\n",
       "      <th>1</th>\n",
       "      <td>a</td>\n",
       "      <td>b</td>\n",
       "      <td>f</td>\n",
       "      <td>ä</td>\n",
       "      <td>l</td>\n",
       "      <td>l</td>\n",
       "      <td>i</td>\n",
       "      <td>g</td>\n",
       "    </tr>\n",
       "    <tr>\n",
       "      <th>2</th>\n",
       "      <td>A</td>\n",
       "      <td>b</td>\n",
       "      <td>g</td>\n",
       "      <td>r</td>\n",
       "      <td>ü</td>\n",
       "      <td>n</td>\n",
       "      <td>d</td>\n",
       "      <td>e</td>\n",
       "    </tr>\n",
       "    <tr>\n",
       "      <th>3</th>\n",
       "      <td>K</td>\n",
       "      <td>ä</td>\n",
       "      <td>t</td>\n",
       "      <td>z</td>\n",
       "      <td>c</td>\n",
       "      <td>h</td>\n",
       "      <td>e</td>\n",
       "      <td>n</td>\n",
       "    </tr>\n",
       "    <tr>\n",
       "      <th>4</th>\n",
       "      <td>L</td>\n",
       "      <td>a</td>\n",
       "      <td>n</td>\n",
       "      <td>d</td>\n",
       "      <td>w</td>\n",
       "      <td>i</td>\n",
       "      <td>r</td>\n",
       "      <td>t</td>\n",
       "    </tr>\n",
       "    <tr>\n",
       "      <th>5</th>\n",
       "      <td>l</td>\n",
       "      <td>e</td>\n",
       "      <td>b</td>\n",
       "      <td>e</td>\n",
       "      <td>n</td>\n",
       "      <td>d</td>\n",
       "      <td>i</td>\n",
       "      <td>g</td>\n",
       "    </tr>\n",
       "    <tr>\n",
       "      <th>6</th>\n",
       "      <td>S</td>\n",
       "      <td>a</td>\n",
       "      <td>u</td>\n",
       "      <td>g</td>\n",
       "      <td>r</td>\n",
       "      <td>o</td>\n",
       "      <td>h</td>\n",
       "      <td>r</td>\n",
       "    </tr>\n",
       "    <tr>\n",
       "      <th>7</th>\n",
       "      <td>T</td>\n",
       "      <td>r</td>\n",
       "      <td>u</td>\n",
       "      <td>g</td>\n",
       "      <td>b</td>\n",
       "      <td>i</td>\n",
       "      <td>l</td>\n",
       "      <td>d</td>\n",
       "    </tr>\n",
       "  </tbody>\n",
       "</table>\n",
       "</div>"
      ],
      "text/plain": [
       "   A  B  C  D  E  F  G  H\n",
       "0  B  a  b  y  k  o  r  b\n",
       "1  a  b  f  ä  l  l  i  g\n",
       "2  A  b  g  r  ü  n  d  e\n",
       "3  K  ä  t  z  c  h  e  n\n",
       "4  L  a  n  d  w  i  r  t\n",
       "5  l  e  b  e  n  d  i  g\n",
       "6  S  a  u  g  r  o  h  r\n",
       "7  T  r  u  g  b  i  l  d"
      ]
     },
     "execution_count": 15,
     "metadata": {},
     "output_type": "execute_result"
    },
    {
     "name": "stdout",
     "output_type": "stream",
     "text": [
      "time: 195 ms\n"
     ]
    }
   ],
   "source": [
    "df1 = pak.dataframe( [ list('Babykorb'), \n",
    "                       list('abfällig'), \n",
    "                       list('Abgründe'), \n",
    "                       list('Kätzchen'), \n",
    "                       list('Landwirt'), \n",
    "                       list('lebendig'), \n",
    "                       list('Saugrohr'),       \n",
    "                       list('Trugbild'),                     \n",
    "                ] )\n",
    "\n",
    "df2 = pak.dataframe( [ list('Babykorb'), \n",
    "                       list('abfällig'), \n",
    "                       list('Abgründe'), \n",
    "                       list('Kätzchen'), \n",
    "                       list('Landwirt'), \n",
    "                       list('lebendig'), \n",
    "                       list('Saugrohr'),       \n",
    "                       list('Trugbild'),                     \n",
    "                ] )\n",
    "\n",
    "df1"
   ]
  },
  {
   "cell_type": "code",
   "execution_count": 16,
   "id": "bd066fea-d338-4ed4-ae96-93b3e05abc32",
   "metadata": {},
   "outputs": [
    {
     "name": "stdout",
     "output_type": "stream",
     "text": [
      "time: 162 ms\n"
     ]
    }
   ],
   "source": [
    "# Initially the DataFrames are equal\n",
    "assert pak.check_equal(df1, df2)"
   ]
  },
  {
   "cell_type": "code",
   "execution_count": 17,
   "id": "6f14ae02-1f1f-4cfa-9611-6e9450e654a3",
   "metadata": {},
   "outputs": [
    {
     "name": "stdout",
     "output_type": "stream",
     "text": [
      "time: 96 ms\n"
     ]
    }
   ],
   "source": [
    "# One change >> not equal\n",
    "mask = df2['A'] == 'L'\n",
    "df2.loc[mask,'A'] = 'R'\n",
    "assert not pak.check_equal(df1, df2)"
   ]
  },
  {
   "cell_type": "code",
   "execution_count": 18,
   "id": "6cab2c1d-90df-48bc-b492-788fc1db5515",
   "metadata": {},
   "outputs": [
    {
     "name": "stdout",
     "output_type": "stream",
     "text": [
      "time: 58.8 ms\n"
     ]
    }
   ],
   "source": [
    "# Change back >> equal again\n",
    "mask = df2['A'] == 'R'\n",
    "df2.loc[mask,'A'] = 'L'\n",
    "assert pak.check_equal(df1, df2)"
   ]
  },
  {
   "cell_type": "code",
   "execution_count": 19,
   "id": "707c5b17-6889-4fcb-b655-a2eeaa724507",
   "metadata": {},
   "outputs": [
    {
     "data": {
      "text/html": [
       "<div>\n",
       "<style scoped>\n",
       "    .dataframe tbody tr th:only-of-type {\n",
       "        vertical-align: middle;\n",
       "    }\n",
       "\n",
       "    .dataframe tbody tr th {\n",
       "        vertical-align: top;\n",
       "    }\n",
       "\n",
       "    .dataframe thead th {\n",
       "        text-align: right;\n",
       "    }\n",
       "</style>\n",
       "<table border=\"1\" class=\"dataframe\">\n",
       "  <thead>\n",
       "    <tr style=\"text-align: right;\">\n",
       "      <th></th>\n",
       "      <th>D</th>\n",
       "      <th>A</th>\n",
       "      <th>B</th>\n",
       "      <th>C</th>\n",
       "      <th>E</th>\n",
       "      <th>F</th>\n",
       "      <th>G</th>\n",
       "      <th>H</th>\n",
       "    </tr>\n",
       "  </thead>\n",
       "  <tbody>\n",
       "    <tr>\n",
       "      <th>4</th>\n",
       "      <td>d</td>\n",
       "      <td>L</td>\n",
       "      <td>a</td>\n",
       "      <td>n</td>\n",
       "      <td>w</td>\n",
       "      <td>i</td>\n",
       "      <td>r</td>\n",
       "      <td>t</td>\n",
       "    </tr>\n",
       "    <tr>\n",
       "      <th>5</th>\n",
       "      <td>e</td>\n",
       "      <td>l</td>\n",
       "      <td>e</td>\n",
       "      <td>b</td>\n",
       "      <td>n</td>\n",
       "      <td>d</td>\n",
       "      <td>i</td>\n",
       "      <td>g</td>\n",
       "    </tr>\n",
       "    <tr>\n",
       "      <th>6</th>\n",
       "      <td>g</td>\n",
       "      <td>S</td>\n",
       "      <td>a</td>\n",
       "      <td>u</td>\n",
       "      <td>r</td>\n",
       "      <td>o</td>\n",
       "      <td>h</td>\n",
       "      <td>r</td>\n",
       "    </tr>\n",
       "    <tr>\n",
       "      <th>7</th>\n",
       "      <td>g</td>\n",
       "      <td>T</td>\n",
       "      <td>r</td>\n",
       "      <td>u</td>\n",
       "      <td>b</td>\n",
       "      <td>i</td>\n",
       "      <td>l</td>\n",
       "      <td>d</td>\n",
       "    </tr>\n",
       "    <tr>\n",
       "      <th>2</th>\n",
       "      <td>r</td>\n",
       "      <td>A</td>\n",
       "      <td>b</td>\n",
       "      <td>g</td>\n",
       "      <td>ü</td>\n",
       "      <td>n</td>\n",
       "      <td>d</td>\n",
       "      <td>e</td>\n",
       "    </tr>\n",
       "    <tr>\n",
       "      <th>0</th>\n",
       "      <td>y</td>\n",
       "      <td>B</td>\n",
       "      <td>a</td>\n",
       "      <td>b</td>\n",
       "      <td>k</td>\n",
       "      <td>o</td>\n",
       "      <td>r</td>\n",
       "      <td>b</td>\n",
       "    </tr>\n",
       "    <tr>\n",
       "      <th>3</th>\n",
       "      <td>z</td>\n",
       "      <td>K</td>\n",
       "      <td>ä</td>\n",
       "      <td>t</td>\n",
       "      <td>c</td>\n",
       "      <td>h</td>\n",
       "      <td>e</td>\n",
       "      <td>n</td>\n",
       "    </tr>\n",
       "    <tr>\n",
       "      <th>1</th>\n",
       "      <td>ä</td>\n",
       "      <td>a</td>\n",
       "      <td>b</td>\n",
       "      <td>f</td>\n",
       "      <td>l</td>\n",
       "      <td>l</td>\n",
       "      <td>i</td>\n",
       "      <td>g</td>\n",
       "    </tr>\n",
       "  </tbody>\n",
       "</table>\n",
       "</div>"
      ],
      "text/plain": [
       "   D  A  B  C  E  F  G  H\n",
       "4  d  L  a  n  w  i  r  t\n",
       "5  e  l  e  b  n  d  i  g\n",
       "6  g  S  a  u  r  o  h  r\n",
       "7  g  T  r  u  b  i  l  d\n",
       "2  r  A  b  g  ü  n  d  e\n",
       "0  y  B  a  b  k  o  r  b\n",
       "3  z  K  ä  t  c  h  e  n\n",
       "1  ä  a  b  f  l  l  i  g"
      ]
     },
     "execution_count": 19,
     "metadata": {},
     "output_type": "execute_result"
    },
    {
     "name": "stdout",
     "output_type": "stream",
     "text": [
      "time: 65.9 ms\n"
     ]
    }
   ],
   "source": [
    "# change column order and row order \n",
    "df2 = pak.move_cols(df2,'D').sort_values('D')\n",
    "df2"
   ]
  },
  {
   "cell_type": "code",
   "execution_count": 20,
   "id": "6ebeb2a4-e2ab-471a-8faa-a48f94175903",
   "metadata": {},
   "outputs": [
    {
     "name": "stdout",
     "output_type": "stream",
     "text": [
      "time: 109 ms\n"
     ]
    }
   ],
   "source": [
    "# still equal\n",
    "assert pak.check_equal(df1, df2)"
   ]
  },
  {
   "cell_type": "markdown",
   "id": "4f34c45c-0a45-42db-b019-6d1eacb776ab",
   "metadata": {},
   "source": [
    "## compare_col_dtype()"
   ]
  },
  {
   "cell_type": "code",
   "execution_count": 21,
   "id": "90892cbd-7da9-4a44-aa9a-16695e892b6f",
   "metadata": {},
   "outputs": [
    {
     "name": "stdout",
     "output_type": "stream",
     "text": [
      "time: 51 ms\n"
     ]
    },
    {
     "data": {
      "text/plain": [
       "\u001b[0;31mSignature:\u001b[0m \u001b[0mpak\u001b[0m\u001b[0;34m.\u001b[0m\u001b[0mcompare_col_dtype\u001b[0m\u001b[0;34m(\u001b[0m\u001b[0mdf1\u001b[0m\u001b[0;34m,\u001b[0m \u001b[0mdf2\u001b[0m\u001b[0;34m)\u001b[0m\u001b[0;34m\u001b[0m\u001b[0;34m\u001b[0m\u001b[0m\n",
       "\u001b[0;31mDocstring:\u001b[0m Returns the column names of two DataFrames whose dtype differs.\n",
       "\u001b[0;31mFile:\u001b[0m      /media/me/DATA/Dropbox/31_Projekte/01_Python/git/pandasklar/src/pandasklar/compare.py\n",
       "\u001b[0;31mType:\u001b[0m      function\n"
      ]
     },
     "metadata": {},
     "output_type": "display_data"
    }
   ],
   "source": [
    "?pak.compare_col_dtype"
   ]
  },
  {
   "cell_type": "code",
   "execution_count": 22,
   "id": "9cf65e06-c4cd-46e4-9559-a3de1a25a6c3",
   "metadata": {},
   "outputs": [
    {
     "data": {
      "text/plain": [
       "['age']"
      ]
     },
     "execution_count": 22,
     "metadata": {},
     "output_type": "execute_result"
    },
    {
     "name": "stdout",
     "output_type": "stream",
     "text": [
      "time: 94.3 ms\n"
     ]
    }
   ],
   "source": [
    "pak.compare_col_dtype(s, t)"
   ]
  },
  {
   "cell_type": "markdown",
   "id": "76ef00e2-a18f-4c8b-be2d-2ebd329e1c63",
   "metadata": {},
   "source": [
    "## get_different_rows()"
   ]
  },
  {
   "cell_type": "code",
   "execution_count": 23,
   "id": "eeca4418-f901-4882-a737-52674785d1af",
   "metadata": {},
   "outputs": [
    {
     "name": "stdout",
     "output_type": "stream",
     "text": [
      "time: 79.8 ms\n"
     ]
    },
    {
     "data": {
      "text/plain": [
       "\u001b[0;31mSignature:\u001b[0m \u001b[0mpak\u001b[0m\u001b[0;34m.\u001b[0m\u001b[0mget_different_rows\u001b[0m\u001b[0;34m(\u001b[0m\u001b[0mdf1\u001b[0m\u001b[0;34m,\u001b[0m \u001b[0mdf2\u001b[0m\u001b[0;34m,\u001b[0m \u001b[0mindicator\u001b[0m\u001b[0;34m=\u001b[0m\u001b[0;32mTrue\u001b[0m\u001b[0;34m)\u001b[0m\u001b[0;34m\u001b[0m\u001b[0;34m\u001b[0m\u001b[0m\n",
       "\u001b[0;31mDocstring:\u001b[0m\n",
       "Returns the rows of two DataFrames that differ. \n",
       "Useful for control purposes.\n",
       "Errors can occur with float.\n",
       "* additional or missing columns are ignored\n",
       "\u001b[0;31mFile:\u001b[0m      /media/me/DATA/Dropbox/31_Projekte/01_Python/git/pandasklar/src/pandasklar/compare.py\n",
       "\u001b[0;31mType:\u001b[0m      function\n"
      ]
     },
     "metadata": {},
     "output_type": "display_data"
    }
   ],
   "source": [
    "?pak.get_different_rows"
   ]
  },
  {
   "cell_type": "code",
   "execution_count": 24,
   "id": "4bc32f8e-a7de-4d12-ae07-fb2447a532aa",
   "metadata": {},
   "outputs": [
    {
     "data": {
      "text/html": [
       "<div>\n",
       "<style scoped>\n",
       "    .dataframe tbody tr th:only-of-type {\n",
       "        vertical-align: middle;\n",
       "    }\n",
       "\n",
       "    .dataframe tbody tr th {\n",
       "        vertical-align: top;\n",
       "    }\n",
       "\n",
       "    .dataframe thead th {\n",
       "        text-align: right;\n",
       "    }\n",
       "</style>\n",
       "<table border=\"1\" class=\"dataframe\">\n",
       "  <thead>\n",
       "    <tr style=\"text-align: right;\">\n",
       "      <th></th>\n",
       "      <th>first_name</th>\n",
       "      <th>age_class</th>\n",
       "      <th>postal_code</th>\n",
       "      <th>birthplace</th>\n",
       "      <th>features</th>\n",
       "      <th>history</th>\n",
       "      <th>age</th>\n",
       "      <th>AAGE</th>\n",
       "    </tr>\n",
       "  </thead>\n",
       "  <tbody>\n",
       "    <tr>\n",
       "      <th>19</th>\n",
       "      <td>Andre</td>\n",
       "      <td>20</td>\n",
       "      <td>42195</td>\n",
       "      <td>&lt;NA&gt;</td>\n",
       "      <td>{b, P, v, R}</td>\n",
       "      <td>[b, b, a, b]</td>\n",
       "      <td>25</td>\n",
       "      <td>0</td>\n",
       "    </tr>\n",
       "    <tr>\n",
       "      <th>97</th>\n",
       "      <td>Andre</td>\n",
       "      <td>20</td>\n",
       "      <td>63104</td>\n",
       "      <td>&lt;NA&gt;</td>\n",
       "      <td>{C, K, L}</td>\n",
       "      <td>[a, b, c]</td>\n",
       "      <td>24</td>\n",
       "      <td>0</td>\n",
       "    </tr>\n",
       "    <tr>\n",
       "      <th>56</th>\n",
       "      <td>Anja</td>\n",
       "      <td>30</td>\n",
       "      <td>39709</td>\n",
       "      <td>Bremen</td>\n",
       "      <td>{C, h, A}</td>\n",
       "      <td>[A, B, C, C]</td>\n",
       "      <td>30</td>\n",
       "      <td>0</td>\n",
       "    </tr>\n",
       "    <tr>\n",
       "      <th>28</th>\n",
       "      <td>Anna</td>\n",
       "      <td>20</td>\n",
       "      <td>52968</td>\n",
       "      <td>&lt;NA&gt;</td>\n",
       "      <td>{B, m}</td>\n",
       "      <td>[]</td>\n",
       "      <td>28</td>\n",
       "      <td>0</td>\n",
       "    </tr>\n",
       "    <tr>\n",
       "      <th>82</th>\n",
       "      <td>Annette</td>\n",
       "      <td>30</td>\n",
       "      <td>74514</td>\n",
       "      <td>Bremen</td>\n",
       "      <td>{c}</td>\n",
       "      <td>[c, b, a]</td>\n",
       "      <td>35</td>\n",
       "      <td>0</td>\n",
       "    </tr>\n",
       "    <tr>\n",
       "      <th>...</th>\n",
       "      <td>...</td>\n",
       "      <td>...</td>\n",
       "      <td>...</td>\n",
       "      <td>...</td>\n",
       "      <td>...</td>\n",
       "      <td>...</td>\n",
       "      <td>...</td>\n",
       "      <td>...</td>\n",
       "    </tr>\n",
       "    <tr>\n",
       "      <th>93</th>\n",
       "      <td>Vivien</td>\n",
       "      <td>20</td>\n",
       "      <td>97002</td>\n",
       "      <td>Bremen</td>\n",
       "      <td>{T, X}</td>\n",
       "      <td>[b, b, a, b]</td>\n",
       "      <td>28</td>\n",
       "      <td>0</td>\n",
       "    </tr>\n",
       "    <tr>\n",
       "      <th>6</th>\n",
       "      <td>Vivien</td>\n",
       "      <td>20</td>\n",
       "      <td>65252</td>\n",
       "      <td>Bremen</td>\n",
       "      <td>{T, p, m, V}</td>\n",
       "      <td>[]</td>\n",
       "      <td>22</td>\n",
       "      <td>0</td>\n",
       "    </tr>\n",
       "    <tr>\n",
       "      <th>51</th>\n",
       "      <td>Volker</td>\n",
       "      <td>20</td>\n",
       "      <td>90432</td>\n",
       "      <td>Berlin</td>\n",
       "      <td>{I, O}</td>\n",
       "      <td>[A, x]</td>\n",
       "      <td>22</td>\n",
       "      <td>0</td>\n",
       "    </tr>\n",
       "    <tr>\n",
       "      <th>72</th>\n",
       "      <td>Wilhelm</td>\n",
       "      <td>30</td>\n",
       "      <td>26820</td>\n",
       "      <td>Berlin</td>\n",
       "      <td>{c}</td>\n",
       "      <td>[A, C, C, B]</td>\n",
       "      <td>32</td>\n",
       "      <td>0</td>\n",
       "    </tr>\n",
       "    <tr>\n",
       "      <th>11</th>\n",
       "      <td>Wilhelm</td>\n",
       "      <td>30</td>\n",
       "      <td>73218</td>\n",
       "      <td>Bremen</td>\n",
       "      <td>{a, y}</td>\n",
       "      <td>[A, B, C]</td>\n",
       "      <td>36</td>\n",
       "      <td>0</td>\n",
       "    </tr>\n",
       "  </tbody>\n",
       "</table>\n",
       "<p>100 rows × 8 columns</p>\n",
       "</div>"
      ],
      "text/plain": [
       "   first_name  age_class  postal_code birthplace      features       history  \\\n",
       "19      Andre         20        42195       <NA>  {b, P, v, R}  [b, b, a, b]   \n",
       "97      Andre         20        63104       <NA>     {C, K, L}     [a, b, c]   \n",
       "56       Anja         30        39709     Bremen     {C, h, A}  [A, B, C, C]   \n",
       "28       Anna         20        52968       <NA>        {B, m}            []   \n",
       "82    Annette         30        74514     Bremen           {c}     [c, b, a]   \n",
       "..        ...        ...          ...        ...           ...           ...   \n",
       "93     Vivien         20        97002     Bremen        {T, X}  [b, b, a, b]   \n",
       "6      Vivien         20        65252     Bremen  {T, p, m, V}            []   \n",
       "51     Volker         20        90432     Berlin        {I, O}        [A, x]   \n",
       "72    Wilhelm         30        26820     Berlin           {c}  [A, C, C, B]   \n",
       "11    Wilhelm         30        73218     Bremen        {a, y}     [A, B, C]   \n",
       "\n",
       "    age  AAGE  \n",
       "19   25     0  \n",
       "97   24     0  \n",
       "56   30     0  \n",
       "28   28     0  \n",
       "82   35     0  \n",
       "..  ...   ...  \n",
       "93   28     0  \n",
       "6    22     0  \n",
       "51   22     0  \n",
       "72   32     0  \n",
       "11   36     0  \n",
       "\n",
       "[100 rows x 8 columns]"
      ]
     },
     "execution_count": 24,
     "metadata": {},
     "output_type": "execute_result"
    },
    {
     "name": "stdout",
     "output_type": "stream",
     "text": [
      "time: 102 ms\n"
     ]
    }
   ],
   "source": [
    "# Generate compare data\n",
    "# Play with it!\n",
    "\n",
    "t = s.copy()\n",
    "\n",
    "# change one value\n",
    "t.loc[0,'age'] = -1\n",
    "\n",
    "# change order\n",
    "t = t.sort_values(['first_name'])\n",
    "t= pak.move_cols(t,'age',-1)\n",
    "\n",
    "# additional or missing columns are ignored\n",
    "t['AAGE'] = 0\n",
    "t = pak.drop_cols(t, 'secret')\n",
    "\n",
    "t"
   ]
  },
  {
   "cell_type": "code",
   "execution_count": 25,
   "id": "72840bc1-dfc4-44ab-9e8f-42afbdc8f402",
   "metadata": {},
   "outputs": [
    {
     "data": {
      "text/html": [
       "<div>\n",
       "<style scoped>\n",
       "    .dataframe tbody tr th:only-of-type {\n",
       "        vertical-align: middle;\n",
       "    }\n",
       "\n",
       "    .dataframe tbody tr th {\n",
       "        vertical-align: top;\n",
       "    }\n",
       "\n",
       "    .dataframe thead th {\n",
       "        text-align: right;\n",
       "    }\n",
       "</style>\n",
       "<table border=\"1\" class=\"dataframe\">\n",
       "  <thead>\n",
       "    <tr style=\"text-align: right;\">\n",
       "      <th></th>\n",
       "      <th>first_name</th>\n",
       "      <th>age</th>\n",
       "      <th>age_class</th>\n",
       "      <th>postal_code</th>\n",
       "      <th>birthplace</th>\n",
       "      <th>secret</th>\n",
       "      <th>features</th>\n",
       "      <th>history</th>\n",
       "      <th>AAGE</th>\n",
       "      <th>_merge</th>\n",
       "    </tr>\n",
       "  </thead>\n",
       "  <tbody>\n",
       "    <tr>\n",
       "      <th>0</th>\n",
       "      <td>Andre</td>\n",
       "      <td>24</td>\n",
       "      <td>20</td>\n",
       "      <td>63104</td>\n",
       "      <td>&lt;NA&gt;</td>\n",
       "      <td>B4n5McSW</td>\n",
       "      <td>0        {j, Y, s, z}\\n1              {T, X}\\n...</td>\n",
       "      <td>0           [A, x]\\n1        [A, A, A]\\n2     ...</td>\n",
       "      <td>NaN</td>\n",
       "      <td>left_only</td>\n",
       "    </tr>\n",
       "    <tr>\n",
       "      <th>1</th>\n",
       "      <td>Andre</td>\n",
       "      <td>25</td>\n",
       "      <td>20</td>\n",
       "      <td>42195</td>\n",
       "      <td>&lt;NA&gt;</td>\n",
       "      <td>ILÄzOC</td>\n",
       "      <td>0        {j, Y, s, z}\\n1              {T, X}\\n...</td>\n",
       "      <td>0           [A, x]\\n1        [A, A, A]\\n2     ...</td>\n",
       "      <td>NaN</td>\n",
       "      <td>left_only</td>\n",
       "    </tr>\n",
       "    <tr>\n",
       "      <th>2</th>\n",
       "      <td>Anja</td>\n",
       "      <td>30</td>\n",
       "      <td>30</td>\n",
       "      <td>39709</td>\n",
       "      <td>Bremen</td>\n",
       "      <td>H3scÜSZg0u</td>\n",
       "      <td>0        {j, Y, s, z}\\n1              {T, X}\\n...</td>\n",
       "      <td>0           [A, x]\\n1        [A, A, A]\\n2     ...</td>\n",
       "      <td>NaN</td>\n",
       "      <td>left_only</td>\n",
       "    </tr>\n",
       "    <tr>\n",
       "      <th>3</th>\n",
       "      <td>Anna</td>\n",
       "      <td>28</td>\n",
       "      <td>20</td>\n",
       "      <td>52968</td>\n",
       "      <td>&lt;NA&gt;</td>\n",
       "      <td>JOÜQÖ</td>\n",
       "      <td>0        {j, Y, s, z}\\n1              {T, X}\\n...</td>\n",
       "      <td>0           [A, x]\\n1        [A, A, A]\\n2     ...</td>\n",
       "      <td>NaN</td>\n",
       "      <td>left_only</td>\n",
       "    </tr>\n",
       "    <tr>\n",
       "      <th>4</th>\n",
       "      <td>Annette</td>\n",
       "      <td>32</td>\n",
       "      <td>30</td>\n",
       "      <td>40872</td>\n",
       "      <td>Berlin</td>\n",
       "      <td>QLeütf</td>\n",
       "      <td>0        {j, Y, s, z}\\n1              {T, X}\\n...</td>\n",
       "      <td>0           [A, x]\\n1        [A, A, A]\\n2     ...</td>\n",
       "      <td>NaN</td>\n",
       "      <td>left_only</td>\n",
       "    </tr>\n",
       "    <tr>\n",
       "      <th>...</th>\n",
       "      <td>...</td>\n",
       "      <td>...</td>\n",
       "      <td>...</td>\n",
       "      <td>...</td>\n",
       "      <td>...</td>\n",
       "      <td>...</td>\n",
       "      <td>...</td>\n",
       "      <td>...</td>\n",
       "      <td>...</td>\n",
       "      <td>...</td>\n",
       "    </tr>\n",
       "    <tr>\n",
       "      <th>195</th>\n",
       "      <td>Vivien</td>\n",
       "      <td>29</td>\n",
       "      <td>20</td>\n",
       "      <td>68389</td>\n",
       "      <td>Bremen</td>\n",
       "      <td>&lt;NA&gt;</td>\n",
       "      <td>19    {b, P, v, R}\\n97       {C, K, L}\\n56    ...</td>\n",
       "      <td>19    [b, b, a, b]\\n97       [a, b, c]\\n56    ...</td>\n",
       "      <td>0.0</td>\n",
       "      <td>right_only</td>\n",
       "    </tr>\n",
       "    <tr>\n",
       "      <th>196</th>\n",
       "      <td>Vivien</td>\n",
       "      <td>28</td>\n",
       "      <td>20</td>\n",
       "      <td>97002</td>\n",
       "      <td>Bremen</td>\n",
       "      <td>&lt;NA&gt;</td>\n",
       "      <td>19    {b, P, v, R}\\n97       {C, K, L}\\n56    ...</td>\n",
       "      <td>19    [b, b, a, b]\\n97       [a, b, c]\\n56    ...</td>\n",
       "      <td>0.0</td>\n",
       "      <td>right_only</td>\n",
       "    </tr>\n",
       "    <tr>\n",
       "      <th>197</th>\n",
       "      <td>Volker</td>\n",
       "      <td>22</td>\n",
       "      <td>20</td>\n",
       "      <td>90432</td>\n",
       "      <td>Berlin</td>\n",
       "      <td>&lt;NA&gt;</td>\n",
       "      <td>19    {b, P, v, R}\\n97       {C, K, L}\\n56    ...</td>\n",
       "      <td>19    [b, b, a, b]\\n97       [a, b, c]\\n56    ...</td>\n",
       "      <td>0.0</td>\n",
       "      <td>right_only</td>\n",
       "    </tr>\n",
       "    <tr>\n",
       "      <th>198</th>\n",
       "      <td>Wilhelm</td>\n",
       "      <td>32</td>\n",
       "      <td>30</td>\n",
       "      <td>26820</td>\n",
       "      <td>Berlin</td>\n",
       "      <td>&lt;NA&gt;</td>\n",
       "      <td>19    {b, P, v, R}\\n97       {C, K, L}\\n56    ...</td>\n",
       "      <td>19    [b, b, a, b]\\n97       [a, b, c]\\n56    ...</td>\n",
       "      <td>0.0</td>\n",
       "      <td>right_only</td>\n",
       "    </tr>\n",
       "    <tr>\n",
       "      <th>199</th>\n",
       "      <td>Wilhelm</td>\n",
       "      <td>36</td>\n",
       "      <td>30</td>\n",
       "      <td>73218</td>\n",
       "      <td>Bremen</td>\n",
       "      <td>&lt;NA&gt;</td>\n",
       "      <td>19    {b, P, v, R}\\n97       {C, K, L}\\n56    ...</td>\n",
       "      <td>19    [b, b, a, b]\\n97       [a, b, c]\\n56    ...</td>\n",
       "      <td>0.0</td>\n",
       "      <td>right_only</td>\n",
       "    </tr>\n",
       "  </tbody>\n",
       "</table>\n",
       "<p>200 rows × 10 columns</p>\n",
       "</div>"
      ],
      "text/plain": [
       "    first_name  age  age_class  postal_code birthplace      secret  \\\n",
       "0        Andre   24         20        63104       <NA>    B4n5McSW   \n",
       "1        Andre   25         20        42195       <NA>      ILÄzOC   \n",
       "2         Anja   30         30        39709     Bremen  H3scÜSZg0u   \n",
       "3         Anna   28         20        52968       <NA>       JOÜQÖ   \n",
       "4      Annette   32         30        40872     Berlin      QLeütf   \n",
       "..         ...  ...        ...          ...        ...         ...   \n",
       "195     Vivien   29         20        68389     Bremen        <NA>   \n",
       "196     Vivien   28         20        97002     Bremen        <NA>   \n",
       "197     Volker   22         20        90432     Berlin        <NA>   \n",
       "198    Wilhelm   32         30        26820     Berlin        <NA>   \n",
       "199    Wilhelm   36         30        73218     Bremen        <NA>   \n",
       "\n",
       "                                              features  \\\n",
       "0    0        {j, Y, s, z}\\n1              {T, X}\\n...   \n",
       "1    0        {j, Y, s, z}\\n1              {T, X}\\n...   \n",
       "2    0        {j, Y, s, z}\\n1              {T, X}\\n...   \n",
       "3    0        {j, Y, s, z}\\n1              {T, X}\\n...   \n",
       "4    0        {j, Y, s, z}\\n1              {T, X}\\n...   \n",
       "..                                                 ...   \n",
       "195  19    {b, P, v, R}\\n97       {C, K, L}\\n56    ...   \n",
       "196  19    {b, P, v, R}\\n97       {C, K, L}\\n56    ...   \n",
       "197  19    {b, P, v, R}\\n97       {C, K, L}\\n56    ...   \n",
       "198  19    {b, P, v, R}\\n97       {C, K, L}\\n56    ...   \n",
       "199  19    {b, P, v, R}\\n97       {C, K, L}\\n56    ...   \n",
       "\n",
       "                                               history  AAGE      _merge  \n",
       "0    0           [A, x]\\n1        [A, A, A]\\n2     ...   NaN   left_only  \n",
       "1    0           [A, x]\\n1        [A, A, A]\\n2     ...   NaN   left_only  \n",
       "2    0           [A, x]\\n1        [A, A, A]\\n2     ...   NaN   left_only  \n",
       "3    0           [A, x]\\n1        [A, A, A]\\n2     ...   NaN   left_only  \n",
       "4    0           [A, x]\\n1        [A, A, A]\\n2     ...   NaN   left_only  \n",
       "..                                                 ...   ...         ...  \n",
       "195  19    [b, b, a, b]\\n97       [a, b, c]\\n56    ...   0.0  right_only  \n",
       "196  19    [b, b, a, b]\\n97       [a, b, c]\\n56    ...   0.0  right_only  \n",
       "197  19    [b, b, a, b]\\n97       [a, b, c]\\n56    ...   0.0  right_only  \n",
       "198  19    [b, b, a, b]\\n97       [a, b, c]\\n56    ...   0.0  right_only  \n",
       "199  19    [b, b, a, b]\\n97       [a, b, c]\\n56    ...   0.0  right_only  \n",
       "\n",
       "[200 rows x 10 columns]"
      ]
     },
     "execution_count": 25,
     "metadata": {},
     "output_type": "execute_result"
    },
    {
     "name": "stdout",
     "output_type": "stream",
     "text": [
      "time: 218 ms\n"
     ]
    }
   ],
   "source": [
    "pak.get_different_rows(s, t)"
   ]
  },
  {
   "cell_type": "code",
   "execution_count": 26,
   "id": "0ab9cfcc-0c69-4819-b286-ce5456a2d16c",
   "metadata": {},
   "outputs": [
    {
     "name": "stdout",
     "output_type": "stream",
     "text": [
      "time: 24.9 ms\n"
     ]
    }
   ],
   "source": [
    "# does not work\n",
    "#s.compare(t, align_axis=1,keep_shape=False)"
   ]
  },
  {
   "cell_type": "code",
   "execution_count": null,
   "id": "0dd3e55a-c250-4566-80d8-f9e280818bef",
   "metadata": {},
   "outputs": [],
   "source": []
  }
 ],
 "metadata": {
  "kernelspec": {
   "display_name": "Python 3 (ipykernel)",
   "language": "python",
   "name": "python3"
  },
  "language_info": {
   "codemirror_mode": {
    "name": "ipython",
    "version": 3
   },
   "file_extension": ".py",
   "mimetype": "text/x-python",
   "name": "python",
   "nbconvert_exporter": "python",
   "pygments_lexer": "ipython3",
   "version": "3.9.13"
  }
 },
 "nbformat": 4,
 "nbformat_minor": 5
}
