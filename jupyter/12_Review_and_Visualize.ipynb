{
 "cells": [
  {
   "cell_type": "code",
   "execution_count": 1,
   "id": "61e55565",
   "metadata": {},
   "outputs": [
    {
     "name": "stdout",
     "output_type": "stream",
     "text": [
      "blab init\n",
      "blab found local libs at /media/me/DATA/Dropbox/31_Projekte/01_Python/libs\n",
      "Start Time: 22:31:24\n"
     ]
    },
    {
     "data": {
      "text/html": [
       "<img src onerror=\"var cell = this.closest('.jp-CodeCell');var editor = cell.querySelector('.jp-Editor');editor.style.background='Beige';this.parentNode.removeChild(this)\">"
      ],
      "text/plain": [
       "<IPython.core.display.HTML object>"
      ]
     },
     "metadata": {},
     "output_type": "display_data"
    },
    {
     "name": "stdout",
     "output_type": "stream",
     "text": [
      "time: 581 ms\n"
     ]
    }
   ],
   "source": [
    "# blab init\n",
    "import blab\n",
    "startup_notebook = blab.blab_startup()\n",
    "%run $startup_notebook"
   ]
  },
  {
   "cell_type": "markdown",
   "id": "d18ad909-2564-4262-bdcd-2eb7400759b0",
   "metadata": {},
   "source": [
    "# Review and visualize\n",
    "Review and visualize data that meets your criteria. <br>\n",
    "This notebook raises errors for demonstration purpose.\n",
    "* `plot`: Plot with seaborn without configuration.\n",
    "* `check_mask`: Count rows filtered by a binary mask. Raises an error, if the number is unexpected.\n",
    "* `specials`: Returns rows representing all special values per column.\n",
    "* `sample`: Returns some sample rows: beginning + end + specials + random rows.\n",
    "* `search_str`: Searches all str columns of a dataframe. Useful for development and debugging.\n",
    "* `grid`: Visualize with dtale.\n",
    "* `memory_consumption`: Returns the memory consumption of Python objects."
   ]
  },
  {
   "cell_type": "code",
   "execution_count": 2,
   "id": "d02a78c4-6bf6-4bb9-94b7-82bfafe30319",
   "metadata": {},
   "outputs": [
    {
     "name": "stdout",
     "output_type": "stream",
     "text": [
      "time: 2.08 s\n"
     ]
    }
   ],
   "source": [
    "import numpy      as np\n",
    "import pandas     as pd \n",
    "#import bpyth      as bpy\n",
    "import pandasklar as pak \n",
    "\n",
    "grid = pak.grid"
   ]
  },
  {
   "cell_type": "markdown",
   "id": "231eb1e2-6ab3-414c-b258-532a1641b9d2",
   "metadata": {},
   "source": [
    "## plot(): Plot with seaborn without configuration"
   ]
  },
  {
   "cell_type": "code",
   "execution_count": 3,
   "id": "c8db5b4d-d6a0-48a2-8bda-cdff9c2b6995",
   "metadata": {},
   "outputs": [
    {
     "name": "stdout",
     "output_type": "stream",
     "text": [
      "time: 84.5 ms\n"
     ]
    },
    {
     "data": {
      "text/plain": [
       "\u001b[0;31mSignature:\u001b[0m\n",
       "\u001b[0mpak\u001b[0m\u001b[0;34m.\u001b[0m\u001b[0mplot\u001b[0m\u001b[0;34m(\u001b[0m\u001b[0;34m\u001b[0m\n",
       "\u001b[0;34m\u001b[0m    \u001b[0mdf1\u001b[0m\u001b[0;34m,\u001b[0m\u001b[0;34m\u001b[0m\n",
       "\u001b[0;34m\u001b[0m    \u001b[0mdf2\u001b[0m\u001b[0;34m=\u001b[0m\u001b[0;32mNone\u001b[0m\u001b[0;34m,\u001b[0m\u001b[0;34m\u001b[0m\n",
       "\u001b[0;34m\u001b[0m    \u001b[0mx\u001b[0m\u001b[0;34m=\u001b[0m\u001b[0;34m'--'\u001b[0m\u001b[0;34m,\u001b[0m\u001b[0;34m\u001b[0m\n",
       "\u001b[0;34m\u001b[0m    \u001b[0msize\u001b[0m\u001b[0;34m=\u001b[0m\u001b[0;34m(\u001b[0m\u001b[0;36m16\u001b[0m\u001b[0;34m,\u001b[0m \u001b[0;36m4\u001b[0m\u001b[0;34m)\u001b[0m\u001b[0;34m,\u001b[0m\u001b[0;34m\u001b[0m\n",
       "\u001b[0;34m\u001b[0m    \u001b[0mpalette\u001b[0m\u001b[0;34m=\u001b[0m\u001b[0;34m(\u001b[0m\u001b[0;34m'rainbow'\u001b[0m\u001b[0;34m,\u001b[0m \u001b[0;34m'tab10'\u001b[0m\u001b[0;34m)\u001b[0m\u001b[0;34m,\u001b[0m\u001b[0;34m\u001b[0m\n",
       "\u001b[0;34m\u001b[0m    \u001b[0mline\u001b[0m\u001b[0;34m=\u001b[0m\u001b[0;34m(\u001b[0m\u001b[0;36m1\u001b[0m\u001b[0;34m,\u001b[0m \u001b[0;36m1\u001b[0m\u001b[0;34m)\u001b[0m\u001b[0;34m,\u001b[0m\u001b[0;34m\u001b[0m\n",
       "\u001b[0;34m\u001b[0m    \u001b[0minaccurate_limit\u001b[0m\u001b[0;34m=\u001b[0m\u001b[0;36m10000\u001b[0m\u001b[0;34m,\u001b[0m\u001b[0;34m\u001b[0m\n",
       "\u001b[0;34m\u001b[0m\u001b[0;34m)\u001b[0m\u001b[0;34m\u001b[0m\u001b[0;34m\u001b[0m\u001b[0m\n",
       "\u001b[0;31mDocstring:\u001b[0m\n",
       "Plots DataFrames or Series.\n",
       "* df1, df2:         The first two parameters are DataFrames or Series. \n",
       "                    If there are two, they get separate y-axes.\n",
       "* x:                Which column contains the x-axis? \n",
       "                    x=='index' -> The index is used as x.    \n",
       "                    If no x is given, x is tried to be guessed. \n",
       "                    If no suitable column is found, the index is used as x.\n",
       "                    A column is considered suitable if it is called 'x', 'X' or 'index'.\n",
       "* size:             Width and height of the plot as tuples\n",
       "* palette:          The two palettes as tuple or sting\n",
       "* line:             The line thickness as tuple or number    \n",
       "* inaccurate_limit: From what size should the data be thinned randomly.\n",
       "                    Uses pandasklars sample function, so minimums and maximums are kept. \n",
       "\u001b[0;31mFile:\u001b[0m      /media/me/DATA/Dropbox/31_Projekte/01_Python/git/pandasklar/src/pandasklar/plot.py\n",
       "\u001b[0;31mType:\u001b[0m      function\n"
      ]
     },
     "metadata": {},
     "output_type": "display_data"
    }
   ],
   "source": [
    "?pak.plot"
   ]
  },
  {
   "cell_type": "code",
   "execution_count": 4,
   "id": "b442d125-0fc0-425d-935c-96ced9682a0a",
   "metadata": {},
   "outputs": [
    {
     "data": {
      "text/html": [
       "<div>\n",
       "<style scoped>\n",
       "    .dataframe tbody tr th:only-of-type {\n",
       "        vertical-align: middle;\n",
       "    }\n",
       "\n",
       "    .dataframe tbody tr th {\n",
       "        vertical-align: top;\n",
       "    }\n",
       "\n",
       "    .dataframe thead th {\n",
       "        text-align: right;\n",
       "    }\n",
       "</style>\n",
       "<table border=\"1\" class=\"dataframe\">\n",
       "  <thead>\n",
       "    <tr style=\"text-align: right;\">\n",
       "      <th></th>\n",
       "      <th>A</th>\n",
       "      <th>B</th>\n",
       "      <th>C</th>\n",
       "      <th>D</th>\n",
       "      <th>E</th>\n",
       "      <th>F</th>\n",
       "      <th>G</th>\n",
       "    </tr>\n",
       "  </thead>\n",
       "  <tbody>\n",
       "    <tr>\n",
       "      <th>0</th>\n",
       "      <td>0.000000</td>\n",
       "      <td>0.000000</td>\n",
       "      <td>1.000000</td>\n",
       "      <td>0</td>\n",
       "      <td>0.000000</td>\n",
       "      <td>0.000000</td>\n",
       "      <td>0.000000</td>\n",
       "    </tr>\n",
       "    <tr>\n",
       "      <th>35</th>\n",
       "      <td>0.537300</td>\n",
       "      <td>0.585147</td>\n",
       "      <td>0.705427</td>\n",
       "      <td>0</td>\n",
       "      <td>-1.000000</td>\n",
       "      <td>0.272142</td>\n",
       "      <td>0.746648</td>\n",
       "    </tr>\n",
       "    <tr>\n",
       "      <th>41</th>\n",
       "      <td>0.539266</td>\n",
       "      <td>0.663165</td>\n",
       "      <td>0.704922</td>\n",
       "      <td>0</td>\n",
       "      <td>-0.924138</td>\n",
       "      <td>1.000000</td>\n",
       "      <td>0.794289</td>\n",
       "    </tr>\n",
       "    <tr>\n",
       "      <th>66</th>\n",
       "      <td>0.555836</td>\n",
       "      <td>0.730128</td>\n",
       "      <td>0.682392</td>\n",
       "      <td>0</td>\n",
       "      <td>-0.348200</td>\n",
       "      <td>0.437518</td>\n",
       "      <td>1.000000</td>\n",
       "    </tr>\n",
       "    <tr>\n",
       "      <th>72</th>\n",
       "      <td>0.575683</td>\n",
       "      <td>0.731516</td>\n",
       "      <td>0.678107</td>\n",
       "      <td>0</td>\n",
       "      <td>-0.526704</td>\n",
       "      <td>-0.827861</td>\n",
       "      <td>0.462180</td>\n",
       "    </tr>\n",
       "    <tr>\n",
       "      <th>88</th>\n",
       "      <td>0.736814</td>\n",
       "      <td>0.828204</td>\n",
       "      <td>0.266720</td>\n",
       "      <td>0</td>\n",
       "      <td>-0.682953</td>\n",
       "      <td>0.183649</td>\n",
       "      <td>-0.875939</td>\n",
       "    </tr>\n",
       "    <tr>\n",
       "      <th>99</th>\n",
       "      <td>1.000000</td>\n",
       "      <td>1.000000</td>\n",
       "      <td>0.000000</td>\n",
       "      <td>0</td>\n",
       "      <td>-0.072650</td>\n",
       "      <td>-0.190556</td>\n",
       "      <td>0.014762</td>\n",
       "    </tr>\n",
       "  </tbody>\n",
       "</table>\n",
       "</div>"
      ],
      "text/plain": [
       "           A         B         C  D         E         F         G\n",
       "0   0.000000  0.000000  1.000000  0  0.000000  0.000000  0.000000\n",
       "35  0.537300  0.585147  0.705427  0 -1.000000  0.272142  0.746648\n",
       "41  0.539266  0.663165  0.704922  0 -0.924138  1.000000  0.794289\n",
       "66  0.555836  0.730128  0.682392  0 -0.348200  0.437518  1.000000\n",
       "72  0.575683  0.731516  0.678107  0 -0.526704 -0.827861  0.462180\n",
       "88  0.736814  0.828204  0.266720  0 -0.682953  0.183649 -0.875939\n",
       "99  1.000000  1.000000  0.000000  0 -0.072650 -0.190556  0.014762"
      ]
     },
     "execution_count": 4,
     "metadata": {},
     "output_type": "execute_result"
    },
    {
     "name": "stdout",
     "output_type": "stream",
     "text": [
      "time: 249 ms\n"
     ]
    }
   ],
   "source": [
    "# Several types of random numbers, with parameters\n",
    "size = 100\n",
    "a = pak.random_series( size, 'ascending'                    )\n",
    "b = pak.random_series( size, 'ascending'                    )\n",
    "c = pak.random_series( size, 'descending'                   )\n",
    "d = pak.random_series( size, 'descending'                   )\n",
    "e = pak.random_series( size, 'perlin',     freq=2           )\n",
    "f = pak.random_series( size, 'perlin',     freq=[16,1,8,1]  )\n",
    "g = pak.random_series( size, 'perlin',     freq=[4,1,8,128] )\n",
    "\n",
    "df = pak.dataframe( (a,b,c,d,e,f,g) )\n",
    "pak.sample(df)"
   ]
  },
  {
   "cell_type": "code",
   "execution_count": 8,
   "id": "a937d047-3b63-4091-9fef-a6ba38b04f20",
   "metadata": {},
   "outputs": [
    {
     "data": {
      "image/png": "[encoded data removed]",
      "text/plain": [
       "<Figure size 1600x400 with 1 Axes>"
      ]
     },
     "metadata": {},
     "output_type": "display_data"
    },
    {
     "name": "stdout",
     "output_type": "stream",
     "text": [
      "time: 939 ms\n"
     ]
    }
   ],
   "source": [
    "# just plot all together\n",
    "%matplotlib inline\n",
    "pak.plot(df)"
   ]
  },
  {
   "cell_type": "code",
   "execution_count": 9,
   "id": "f4f33ae6-f4cf-4a76-a7b9-7607ac9e06ab",
   "metadata": {},
   "outputs": [
    {
     "data": {
      "image/png": "[encoded data removed]",
      "text/plain": [
       "<Figure size 1600x400 with 2 Axes>"
      ]
     },
     "metadata": {},
     "output_type": "display_data"
    },
    {
     "name": "stdout",
     "output_type": "stream",
     "text": [
      "time: 599 ms\n"
     ]
    }
   ],
   "source": [
    "# plot 2 Series, use different y-axis\n",
    "%matplotlib inline\n",
    "pak.plot(df.A, df.G)"
   ]
  },
  {
   "cell_type": "code",
   "execution_count": 10,
   "id": "f5f91497-c0c3-446e-a5ca-3e56a4b2b286",
   "metadata": {},
   "outputs": [
    {
     "data": {
      "image/png": "[encoded data removed]",
      "text/plain": [
       "<Figure size 1600x400 with 2 Axes>"
      ]
     },
     "metadata": {},
     "output_type": "display_data"
    },
    {
     "name": "stdout",
     "output_type": "stream",
     "text": [
      "time: 657 ms\n"
     ]
    }
   ],
   "source": [
    "# plot DataFrame + Series, use different line thickness\n",
    "%matplotlib inline \n",
    "pak.plot(df[list('BCD')], df.A, line=(1,5))"
   ]
  },
  {
   "cell_type": "code",
   "execution_count": 11,
   "id": "2b80b619-f306-41d8-b545-3728c559e602",
   "metadata": {},
   "outputs": [
    {
     "data": {
      "image/png": "[encoded data removed]",
      "text/plain": [
       "<Figure size 1600x400 with 1 Axes>"
      ]
     },
     "metadata": {},
     "output_type": "display_data"
    },
    {
     "name": "stdout",
     "output_type": "stream",
     "text": [
      "time: 706 ms\n"
     ]
    }
   ],
   "source": [
    "# plot E (Perlin) and A (ascending)\n",
    "%matplotlib inline \n",
    "pak.plot(df[list('AE')])"
   ]
  },
  {
   "cell_type": "code",
   "execution_count": 12,
   "id": "2530f3a8-ffd2-429f-975c-b9e7622b1d4e",
   "metadata": {},
   "outputs": [
    {
     "data": {
      "image/png": "[encoded data removed]",
      "text/plain": [
       "<Figure size 1600x400 with 1 Axes>"
      ]
     },
     "metadata": {},
     "output_type": "display_data"
    },
    {
     "name": "stdout",
     "output_type": "stream",
     "text": [
      "time: 332 ms\n"
     ]
    }
   ],
   "source": [
    "# plot E using A as x-Axis\n",
    "%matplotlib inline \n",
    "pak.plot(df[list('AE')], x='A')"
   ]
  },
  {
   "cell_type": "markdown",
   "id": "0dab7d17-79d0-445a-aae1-bd9589423675",
   "metadata": {},
   "source": [
    "## specials(): Rows representing all special values per column"
   ]
  },
  {
   "cell_type": "code",
   "execution_count": 13,
   "id": "95583a9e-f176-41c8-a69b-ff9c943d9f23",
   "metadata": {},
   "outputs": [
    {
     "name": "stdout",
     "output_type": "stream",
     "text": [
      "time: 48.8 ms\n"
     ]
    },
    {
     "data": {
      "text/plain": [
       "\u001b[0;31mSignature:\u001b[0m\n",
       "\u001b[0mpak\u001b[0m\u001b[0;34m.\u001b[0m\u001b[0mspecials\u001b[0m\u001b[0;34m(\u001b[0m\u001b[0;34m\u001b[0m\n",
       "\u001b[0;34m\u001b[0m    \u001b[0mdf\u001b[0m\u001b[0;34m,\u001b[0m\u001b[0;34m\u001b[0m\n",
       "\u001b[0;34m\u001b[0m    \u001b[0mfind\u001b[0m\u001b[0;34m=\u001b[0m\u001b[0;34m[\u001b[0m\u001b[0;34m'head'\u001b[0m\u001b[0;34m,\u001b[0m \u001b[0;34m'first'\u001b[0m\u001b[0;34m,\u001b[0m \u001b[0;34m'min'\u001b[0m\u001b[0;34m,\u001b[0m \u001b[0;34m'most'\u001b[0m\u001b[0;34m,\u001b[0m \u001b[0;34m'max'\u001b[0m\u001b[0;34m,\u001b[0m \u001b[0;34m'nan'\u001b[0m\u001b[0;34m,\u001b[0m \u001b[0;34m'last'\u001b[0m\u001b[0;34m,\u001b[0m \u001b[0;34m'tail'\u001b[0m\u001b[0;34m]\u001b[0m\u001b[0;34m,\u001b[0m\u001b[0;34m\u001b[0m\n",
       "\u001b[0;34m\u001b[0m    \u001b[0mindicator\u001b[0m\u001b[0;34m=\u001b[0m\u001b[0;32mNone\u001b[0m\u001b[0;34m,\u001b[0m\u001b[0;34m\u001b[0m\n",
       "\u001b[0;34m\u001b[0m    \u001b[0msort\u001b[0m\u001b[0;34m=\u001b[0m\u001b[0;34m'index'\u001b[0m\u001b[0;34m,\u001b[0m\u001b[0;34m\u001b[0m\n",
       "\u001b[0;34m\u001b[0m\u001b[0;34m)\u001b[0m\u001b[0;34m\u001b[0m\u001b[0;34m\u001b[0m\u001b[0m\n",
       "\u001b[0;31mDocstring:\u001b[0m\n",
       "Returns rows representing all special values per column.\n",
       "The resulting dataframe has the same minimums and maximums per column as the input dataframe, \n",
       "and if a column in the input contains NaNs the result will contain NaNs as well.\n",
       "* find: List of what values are searched. \n",
       "  Possible values: 'head','first','min','most','max','nan','last','tail'\n",
       "* indicator: Show additional column with a note, why the row is in the result\n",
       "\u001b[0;31mFile:\u001b[0m      /media/me/DATA/Dropbox/31_Projekte/01_Python/git/pandasklar/src/pandasklar/subsets.py\n",
       "\u001b[0;31mType:\u001b[0m      function\n"
      ]
     },
     "metadata": {},
     "output_type": "display_data"
    }
   ],
   "source": [
    "?pak.specials"
   ]
  },
  {
   "cell_type": "code",
   "execution_count": 14,
   "id": "89b18ca9-1a49-49c8-826c-81b092c625cb",
   "metadata": {},
   "outputs": [
    {
     "name": "stdout",
     "output_type": "stream",
     "text": [
      "time: 1.04 s\n"
     ]
    }
   ],
   "source": [
    "# create test data\n",
    "\n",
    "size = 10000 #00\n",
    "df6 = pak.people(size)\n",
    "df5 = df6.head(int(size/10))\n",
    "df4 = df6.head(int(size/100))\n",
    "df3 = df6.head(int(size/1000))"
   ]
  },
  {
   "cell_type": "code",
   "execution_count": 15,
   "id": "8726a053-9824-495e-9c64-ec0f467fd20d",
   "metadata": {},
   "outputs": [
    {
     "data": {
      "text/html": [
       "<div>\n",
       "<style scoped>\n",
       "    .dataframe tbody tr th:only-of-type {\n",
       "        vertical-align: middle;\n",
       "    }\n",
       "\n",
       "    .dataframe tbody tr th {\n",
       "        vertical-align: top;\n",
       "    }\n",
       "\n",
       "    .dataframe thead th {\n",
       "        text-align: right;\n",
       "    }\n",
       "</style>\n",
       "<table border=\"1\" class=\"dataframe\">\n",
       "  <thead>\n",
       "    <tr style=\"text-align: right;\">\n",
       "      <th></th>\n",
       "      <th>first_name</th>\n",
       "      <th>age</th>\n",
       "      <th>age_class</th>\n",
       "      <th>postal_code</th>\n",
       "      <th>birthplace</th>\n",
       "      <th>secret</th>\n",
       "      <th>features</th>\n",
       "      <th>history</th>\n",
       "      <th>n</th>\n",
       "    </tr>\n",
       "  </thead>\n",
       "  <tbody>\n",
       "    <tr>\n",
       "      <th>0</th>\n",
       "      <td>Mara</td>\n",
       "      <td>36</td>\n",
       "      <td>30</td>\n",
       "      <td>84842</td>\n",
       "      <td>&lt;NA&gt;</td>\n",
       "      <td>Ysqzu1uQK</td>\n",
       "      <td>{n, u, D, l, C}</td>\n",
       "      <td>[A, C, C, B]</td>\n",
       "      <td>head secret_first postal_code_first first_name...</td>\n",
       "    </tr>\n",
       "    <tr>\n",
       "      <th>102</th>\n",
       "      <td>Adolf</td>\n",
       "      <td>32</td>\n",
       "      <td>30</td>\n",
       "      <td>&lt;NA&gt;</td>\n",
       "      <td>&lt;NA&gt;</td>\n",
       "      <td>fZQ9w</td>\n",
       "      <td>{B, x, R, m}</td>\n",
       "      <td>[A, x]</td>\n",
       "      <td>postal_code_nan first_name_min age_class_first...</td>\n",
       "    </tr>\n",
       "    <tr>\n",
       "      <th>119</th>\n",
       "      <td>Astrid</td>\n",
       "      <td>20</td>\n",
       "      <td>20</td>\n",
       "      <td>45530</td>\n",
       "      <td>Berlin</td>\n",
       "      <td>eN37nw</td>\n",
       "      <td>{2, 5, G, w, e}</td>\n",
       "      <td>[c, b, a]</td>\n",
       "      <td>age_min age_class_min age_class_last birthplac...</td>\n",
       "    </tr>\n",
       "    <tr>\n",
       "      <th>142</th>\n",
       "      <td>Zoe</td>\n",
       "      <td>25</td>\n",
       "      <td>20</td>\n",
       "      <td>31542</td>\n",
       "      <td>&lt;NA&gt;</td>\n",
       "      <td>vnSlJjB</td>\n",
       "      <td>{S, 2, l, m}</td>\n",
       "      <td>[A, A, A]</td>\n",
       "      <td>first_name_max age_class_min age_class_last bi...</td>\n",
       "    </tr>\n",
       "    <tr>\n",
       "      <th>199</th>\n",
       "      <td>Meike</td>\n",
       "      <td>33</td>\n",
       "      <td>30</td>\n",
       "      <td>71471</td>\n",
       "      <td>&lt;NA&gt;</td>\n",
       "      <td>UqAYJa</td>\n",
       "      <td>{o, 5, m, D, c}</td>\n",
       "      <td>[b, b, a, b]</td>\n",
       "      <td>first_name_most age_class_first age_class_most...</td>\n",
       "    </tr>\n",
       "    <tr>\n",
       "      <th>301</th>\n",
       "      <td>Gerhard</td>\n",
       "      <td>42</td>\n",
       "      <td>40</td>\n",
       "      <td>76157</td>\n",
       "      <td>Bremen</td>\n",
       "      <td>GO821P</td>\n",
       "      <td>{R, 2, j, v}</td>\n",
       "      <td>[c, b, a]</td>\n",
       "      <td>age_max age_class_max birthplace_max</td>\n",
       "    </tr>\n",
       "    <tr>\n",
       "      <th>1923</th>\n",
       "      <td>Michaela</td>\n",
       "      <td>32</td>\n",
       "      <td>30</td>\n",
       "      <td>45127</td>\n",
       "      <td>Bremen</td>\n",
       "      <td>Eiqöuwc</td>\n",
       "      <td>{x, M, o, 5}</td>\n",
       "      <td>[]</td>\n",
       "      <td>postal_code_most age_class_first age_class_mos...</td>\n",
       "    </tr>\n",
       "    <tr>\n",
       "      <th>2212</th>\n",
       "      <td>Niclas</td>\n",
       "      <td>34</td>\n",
       "      <td>30</td>\n",
       "      <td>99997</td>\n",
       "      <td>Bremen</td>\n",
       "      <td>aX4byOk</td>\n",
       "      <td>{u, 1, E}</td>\n",
       "      <td>[c, b, a]</td>\n",
       "      <td>postal_code_max age_class_first age_class_most...</td>\n",
       "    </tr>\n",
       "    <tr>\n",
       "      <th>3219</th>\n",
       "      <td>Ruth</td>\n",
       "      <td>34</td>\n",
       "      <td>30</td>\n",
       "      <td>10002</td>\n",
       "      <td>Bremen</td>\n",
       "      <td>pexrO</td>\n",
       "      <td>{A}</td>\n",
       "      <td>[A, x]</td>\n",
       "      <td>postal_code_min age_class_first age_class_most...</td>\n",
       "    </tr>\n",
       "    <tr>\n",
       "      <th>6783</th>\n",
       "      <td>Günter</td>\n",
       "      <td>34</td>\n",
       "      <td>30</td>\n",
       "      <td>42216</td>\n",
       "      <td>Bremen</td>\n",
       "      <td>kmetxÜ8eA</td>\n",
       "      <td>{f, v}</td>\n",
       "      <td>[]</td>\n",
       "      <td>features_most</td>\n",
       "    </tr>\n",
       "    <tr>\n",
       "      <th>7554</th>\n",
       "      <td>Bruno</td>\n",
       "      <td>31</td>\n",
       "      <td>30</td>\n",
       "      <td>94385</td>\n",
       "      <td>Bremen</td>\n",
       "      <td>üüoUipÜ5I</td>\n",
       "      <td>{J, n, f, e, s}</td>\n",
       "      <td>[A, A, A]</td>\n",
       "      <td>secret_max age_most age_class_first age_class_...</td>\n",
       "    </tr>\n",
       "    <tr>\n",
       "      <th>8264</th>\n",
       "      <td>Melina</td>\n",
       "      <td>41</td>\n",
       "      <td>40</td>\n",
       "      <td>56393</td>\n",
       "      <td>&lt;NA&gt;</td>\n",
       "      <td>00hBDS</td>\n",
       "      <td>{x, R, M, T, Q}</td>\n",
       "      <td>[A, C, C, B]</td>\n",
       "      <td>secret_min secret_most age_class_max birthplac...</td>\n",
       "    </tr>\n",
       "    <tr>\n",
       "      <th>9999</th>\n",
       "      <td>Jacob</td>\n",
       "      <td>28</td>\n",
       "      <td>20</td>\n",
       "      <td>16351</td>\n",
       "      <td>Berlin</td>\n",
       "      <td>P6coKxzYU</td>\n",
       "      <td>{1, l}</td>\n",
       "      <td>[b, b, a, b]</td>\n",
       "      <td>secret_last postal_code_last first_name_last a...</td>\n",
       "    </tr>\n",
       "  </tbody>\n",
       "</table>\n",
       "</div>"
      ],
      "text/plain": [
       "     first_name  age  age_class  postal_code birthplace     secret  \\\n",
       "0          Mara   36         30        84842       <NA>  Ysqzu1uQK   \n",
       "102       Adolf   32         30         <NA>       <NA>      fZQ9w   \n",
       "119      Astrid   20         20        45530     Berlin     eN37nw   \n",
       "142         Zoe   25         20        31542       <NA>    vnSlJjB   \n",
       "199       Meike   33         30        71471       <NA>     UqAYJa   \n",
       "301     Gerhard   42         40        76157     Bremen     GO821P   \n",
       "1923   Michaela   32         30        45127     Bremen    Eiqöuwc   \n",
       "2212     Niclas   34         30        99997     Bremen    aX4byOk   \n",
       "3219       Ruth   34         30        10002     Bremen      pexrO   \n",
       "6783     Günter   34         30        42216     Bremen  kmetxÜ8eA   \n",
       "7554      Bruno   31         30        94385     Bremen  üüoUipÜ5I   \n",
       "8264     Melina   41         40        56393       <NA>     00hBDS   \n",
       "9999      Jacob   28         20        16351     Berlin  P6coKxzYU   \n",
       "\n",
       "             features       history  \\\n",
       "0     {n, u, D, l, C}  [A, C, C, B]   \n",
       "102      {B, x, R, m}        [A, x]   \n",
       "119   {2, 5, G, w, e}     [c, b, a]   \n",
       "142      {S, 2, l, m}     [A, A, A]   \n",
       "199   {o, 5, m, D, c}  [b, b, a, b]   \n",
       "301      {R, 2, j, v}     [c, b, a]   \n",
       "1923     {x, M, o, 5}            []   \n",
       "2212        {u, 1, E}     [c, b, a]   \n",
       "3219              {A}        [A, x]   \n",
       "6783           {f, v}            []   \n",
       "7554  {J, n, f, e, s}     [A, A, A]   \n",
       "8264  {x, R, M, T, Q}  [A, C, C, B]   \n",
       "9999           {1, l}  [b, b, a, b]   \n",
       "\n",
       "                                                      n  \n",
       "0     head secret_first postal_code_first first_name...  \n",
       "102   postal_code_nan first_name_min age_class_first...  \n",
       "119   age_min age_class_min age_class_last birthplac...  \n",
       "142   first_name_max age_class_min age_class_last bi...  \n",
       "199   first_name_most age_class_first age_class_most...  \n",
       "301                age_max age_class_max birthplace_max  \n",
       "1923  postal_code_most age_class_first age_class_mos...  \n",
       "2212  postal_code_max age_class_first age_class_most...  \n",
       "3219  postal_code_min age_class_first age_class_most...  \n",
       "6783                                      features_most  \n",
       "7554  secret_max age_most age_class_first age_class_...  \n",
       "8264  secret_min secret_most age_class_max birthplac...  \n",
       "9999  secret_last postal_code_last first_name_last a...  "
      ]
     },
     "execution_count": 15,
     "metadata": {},
     "output_type": "execute_result"
    },
    {
     "name": "stdout",
     "output_type": "stream",
     "text": [
      "time: 290 ms\n"
     ]
    }
   ],
   "source": [
    "a = pak.specials(df6, indicator='n')\n",
    "a"
   ]
  },
  {
   "cell_type": "markdown",
   "id": "2bfe90f4-2248-435d-9360-0838e82e722d",
   "metadata": {},
   "source": [
    "## sample(): Returns some sample rows"
   ]
  },
  {
   "cell_type": "code",
   "execution_count": 16,
   "id": "7c9db8af-51b5-4e92-ba45-5870ae41d094",
   "metadata": {},
   "outputs": [
    {
     "name": "stdout",
     "output_type": "stream",
     "text": [
      "time: 30.4 ms\n"
     ]
    },
    {
     "data": {
      "text/plain": [
       "\u001b[0;31mSignature:\u001b[0m \u001b[0mpak\u001b[0m\u001b[0;34m.\u001b[0m\u001b[0msample\u001b[0m\u001b[0;34m(\u001b[0m\u001b[0mdf\u001b[0m\u001b[0;34m,\u001b[0m \u001b[0msize\u001b[0m\u001b[0;34m=\u001b[0m\u001b[0;32mNone\u001b[0m\u001b[0;34m)\u001b[0m\u001b[0;34m\u001b[0m\u001b[0;34m\u001b[0m\u001b[0m\n",
       "\u001b[0;31mDocstring:\u001b[0m\n",
       "Returns some sample rows.\n",
       "Always the beginning and the end, \n",
       "plus the other specials() --see there--,\n",
       "plus some random rows.\n",
       "* size: Number of rows to return. If size=None, all specials() are returned.\n",
       "\u001b[0;31mFile:\u001b[0m      /media/me/DATA/Dropbox/31_Projekte/01_Python/git/pandasklar/src/pandasklar/subsets.py\n",
       "\u001b[0;31mType:\u001b[0m      function\n"
      ]
     },
     "metadata": {},
     "output_type": "display_data"
    }
   ],
   "source": [
    "?pak.sample"
   ]
  },
  {
   "cell_type": "code",
   "execution_count": 22,
   "id": "aeae0828-5ee5-4502-8891-b317c58e4d19",
   "metadata": {},
   "outputs": [
    {
     "name": "stdout",
     "output_type": "stream",
     "text": [
      "time: 972 ms\n"
     ]
    }
   ],
   "source": [
    "# create test data\n",
    "\n",
    "size = 10000 #00\n",
    "df6 = pak.people(size)\n",
    "df5 = df6.head(int(size/10))\n",
    "df4 = df6.head(int(size/100))\n",
    "df3 = df6.head(int(size/1000))\n",
    "df = df4"
   ]
  },
  {
   "cell_type": "code",
   "execution_count": 18,
   "id": "f6b68492-3c87-48d2-aefb-403fefee4b41",
   "metadata": {},
   "outputs": [
    {
     "data": {
      "text/html": [
       "<div>\n",
       "<style scoped>\n",
       "    .dataframe tbody tr th:only-of-type {\n",
       "        vertical-align: middle;\n",
       "    }\n",
       "\n",
       "    .dataframe tbody tr th {\n",
       "        vertical-align: top;\n",
       "    }\n",
       "\n",
       "    .dataframe thead th {\n",
       "        text-align: right;\n",
       "    }\n",
       "</style>\n",
       "<table border=\"1\" class=\"dataframe\">\n",
       "  <thead>\n",
       "    <tr style=\"text-align: right;\">\n",
       "      <th></th>\n",
       "      <th>first_name</th>\n",
       "      <th>age</th>\n",
       "      <th>age_class</th>\n",
       "      <th>postal_code</th>\n",
       "      <th>birthplace</th>\n",
       "      <th>secret</th>\n",
       "      <th>features</th>\n",
       "      <th>history</th>\n",
       "    </tr>\n",
       "  </thead>\n",
       "  <tbody>\n",
       "    <tr>\n",
       "      <th>0</th>\n",
       "      <td>Stephanie</td>\n",
       "      <td>21</td>\n",
       "      <td>20</td>\n",
       "      <td>&lt;NA&gt;</td>\n",
       "      <td>&lt;NA&gt;</td>\n",
       "      <td>TJahöÖgGu</td>\n",
       "      <td>{Y, N}</td>\n",
       "      <td>[A, x]</td>\n",
       "    </tr>\n",
       "    <tr>\n",
       "      <th>1</th>\n",
       "      <td>Christoph</td>\n",
       "      <td>35</td>\n",
       "      <td>30</td>\n",
       "      <td>30644</td>\n",
       "      <td>Berlin</td>\n",
       "      <td>nZkyI</td>\n",
       "      <td>{m, y, u, d, O}</td>\n",
       "      <td>[c, b, a]</td>\n",
       "    </tr>\n",
       "    <tr>\n",
       "      <th>130</th>\n",
       "      <td>Lucas</td>\n",
       "      <td>42</td>\n",
       "      <td>40</td>\n",
       "      <td>23149</td>\n",
       "      <td>&lt;NA&gt;</td>\n",
       "      <td>aZhxyPwQaY</td>\n",
       "      <td>{B, F, S, p, J}</td>\n",
       "      <td>[]</td>\n",
       "    </tr>\n",
       "    <tr>\n",
       "      <th>166</th>\n",
       "      <td>Johann</td>\n",
       "      <td>20</td>\n",
       "      <td>20</td>\n",
       "      <td>47056</td>\n",
       "      <td>Bremen</td>\n",
       "      <td>vluifcQ4m</td>\n",
       "      <td>{x, i, K}</td>\n",
       "      <td>[A, A, A]</td>\n",
       "    </tr>\n",
       "    <tr>\n",
       "      <th>211</th>\n",
       "      <td>Zoe</td>\n",
       "      <td>30</td>\n",
       "      <td>30</td>\n",
       "      <td>43533</td>\n",
       "      <td>Berlin</td>\n",
       "      <td>ZMhrü</td>\n",
       "      <td>{x, O, i, Q, N}</td>\n",
       "      <td>[A, B, C, C]</td>\n",
       "    </tr>\n",
       "    <tr>\n",
       "      <th>416</th>\n",
       "      <td>Adolf</td>\n",
       "      <td>35</td>\n",
       "      <td>30</td>\n",
       "      <td>52007</td>\n",
       "      <td>&lt;NA&gt;</td>\n",
       "      <td>wwRVr2NRPG</td>\n",
       "      <td>{O, f, e}</td>\n",
       "      <td>[A, B, C]</td>\n",
       "    </tr>\n",
       "    <tr>\n",
       "      <th>420</th>\n",
       "      <td>Bettina</td>\n",
       "      <td>33</td>\n",
       "      <td>30</td>\n",
       "      <td>54114</td>\n",
       "      <td>Bremen</td>\n",
       "      <td>JrAZ86ayV</td>\n",
       "      <td>{f, s, N}</td>\n",
       "      <td>[A, x]</td>\n",
       "    </tr>\n",
       "    <tr>\n",
       "      <th>578</th>\n",
       "      <td>Anette</td>\n",
       "      <td>28</td>\n",
       "      <td>20</td>\n",
       "      <td>91641</td>\n",
       "      <td>Bremen</td>\n",
       "      <td>9Zaidio</td>\n",
       "      <td>{I, y, o, g}</td>\n",
       "      <td>[A, A, A]</td>\n",
       "    </tr>\n",
       "    <tr>\n",
       "      <th>2481</th>\n",
       "      <td>Jonas</td>\n",
       "      <td>29</td>\n",
       "      <td>20</td>\n",
       "      <td>29359</td>\n",
       "      <td>Bremen</td>\n",
       "      <td>Rpkk4</td>\n",
       "      <td>{x, 0, X, V}</td>\n",
       "      <td>[c, b, a]</td>\n",
       "    </tr>\n",
       "    <tr>\n",
       "      <th>4226</th>\n",
       "      <td>Marcus</td>\n",
       "      <td>29</td>\n",
       "      <td>20</td>\n",
       "      <td>10014</td>\n",
       "      <td>Berlin</td>\n",
       "      <td>S5axcuPZFY</td>\n",
       "      <td>{k, l}</td>\n",
       "      <td>[A, B, C]</td>\n",
       "    </tr>\n",
       "    <tr>\n",
       "      <th>4258</th>\n",
       "      <td>Georg</td>\n",
       "      <td>27</td>\n",
       "      <td>20</td>\n",
       "      <td>58748</td>\n",
       "      <td>Bremen</td>\n",
       "      <td>üüqÄmGVV</td>\n",
       "      <td>{S, z, k, e}</td>\n",
       "      <td>[A, A, A]</td>\n",
       "    </tr>\n",
       "    <tr>\n",
       "      <th>5335</th>\n",
       "      <td>Gisela</td>\n",
       "      <td>36</td>\n",
       "      <td>30</td>\n",
       "      <td>78777</td>\n",
       "      <td>&lt;NA&gt;</td>\n",
       "      <td>00YXnXjU2F</td>\n",
       "      <td>{K, 1}</td>\n",
       "      <td>[]</td>\n",
       "    </tr>\n",
       "    <tr>\n",
       "      <th>6027</th>\n",
       "      <td>Sabine</td>\n",
       "      <td>33</td>\n",
       "      <td>30</td>\n",
       "      <td>90852</td>\n",
       "      <td>Bremen</td>\n",
       "      <td>XipV0fNpk</td>\n",
       "      <td>{L, 5, G, K, s}</td>\n",
       "      <td>[A, x]</td>\n",
       "    </tr>\n",
       "    <tr>\n",
       "      <th>9321</th>\n",
       "      <td>Stephanie</td>\n",
       "      <td>32</td>\n",
       "      <td>30</td>\n",
       "      <td>99972</td>\n",
       "      <td>Berlin</td>\n",
       "      <td>eodGCva1Ü</td>\n",
       "      <td>{2, o, W}</td>\n",
       "      <td>[A, C, C, B]</td>\n",
       "    </tr>\n",
       "    <tr>\n",
       "      <th>9999</th>\n",
       "      <td>Berndt</td>\n",
       "      <td>24</td>\n",
       "      <td>20</td>\n",
       "      <td>59661</td>\n",
       "      <td>&lt;NA&gt;</td>\n",
       "      <td>1ÖEXMq</td>\n",
       "      <td>{r, e, J, E}</td>\n",
       "      <td>[A, B, C]</td>\n",
       "    </tr>\n",
       "  </tbody>\n",
       "</table>\n",
       "</div>"
      ],
      "text/plain": [
       "     first_name  age  age_class  postal_code birthplace      secret  \\\n",
       "0     Stephanie   21         20         <NA>       <NA>   TJahöÖgGu   \n",
       "1     Christoph   35         30        30644     Berlin       nZkyI   \n",
       "130       Lucas   42         40        23149       <NA>  aZhxyPwQaY   \n",
       "166      Johann   20         20        47056     Bremen   vluifcQ4m   \n",
       "211         Zoe   30         30        43533     Berlin       ZMhrü   \n",
       "416       Adolf   35         30        52007       <NA>  wwRVr2NRPG   \n",
       "420     Bettina   33         30        54114     Bremen   JrAZ86ayV   \n",
       "578      Anette   28         20        91641     Bremen     9Zaidio   \n",
       "2481      Jonas   29         20        29359     Bremen       Rpkk4   \n",
       "4226     Marcus   29         20        10014     Berlin  S5axcuPZFY   \n",
       "4258      Georg   27         20        58748     Bremen    üüqÄmGVV   \n",
       "5335     Gisela   36         30        78777       <NA>  00YXnXjU2F   \n",
       "6027     Sabine   33         30        90852     Bremen   XipV0fNpk   \n",
       "9321  Stephanie   32         30        99972     Berlin   eodGCva1Ü   \n",
       "9999     Berndt   24         20        59661       <NA>      1ÖEXMq   \n",
       "\n",
       "             features       history  \n",
       "0              {Y, N}        [A, x]  \n",
       "1     {m, y, u, d, O}     [c, b, a]  \n",
       "130   {B, F, S, p, J}            []  \n",
       "166         {x, i, K}     [A, A, A]  \n",
       "211   {x, O, i, Q, N}  [A, B, C, C]  \n",
       "416         {O, f, e}     [A, B, C]  \n",
       "420         {f, s, N}        [A, x]  \n",
       "578      {I, y, o, g}     [A, A, A]  \n",
       "2481     {x, 0, X, V}     [c, b, a]  \n",
       "4226           {k, l}     [A, B, C]  \n",
       "4258     {S, z, k, e}     [A, A, A]  \n",
       "5335           {K, 1}            []  \n",
       "6027  {L, 5, G, K, s}        [A, x]  \n",
       "9321        {2, o, W}  [A, C, C, B]  \n",
       "9999     {r, e, J, E}     [A, B, C]  "
      ]
     },
     "execution_count": 18,
     "metadata": {},
     "output_type": "execute_result"
    },
    {
     "name": "stdout",
     "output_type": "stream",
     "text": [
      "time: 459 ms\n"
     ]
    }
   ],
   "source": [
    "pak.sample(df6,15)"
   ]
  },
  {
   "cell_type": "code",
   "execution_count": 19,
   "id": "ac4607a1-25cc-48c2-bb15-9be343357436",
   "metadata": {},
   "outputs": [
    {
     "data": {
      "text/html": [
       "<div>\n",
       "<style scoped>\n",
       "    .dataframe tbody tr th:only-of-type {\n",
       "        vertical-align: middle;\n",
       "    }\n",
       "\n",
       "    .dataframe tbody tr th {\n",
       "        vertical-align: top;\n",
       "    }\n",
       "\n",
       "    .dataframe thead th {\n",
       "        text-align: right;\n",
       "    }\n",
       "</style>\n",
       "<table border=\"1\" class=\"dataframe\">\n",
       "  <thead>\n",
       "    <tr style=\"text-align: right;\">\n",
       "      <th></th>\n",
       "      <th>first_name</th>\n",
       "      <th>age</th>\n",
       "      <th>age_class</th>\n",
       "      <th>postal_code</th>\n",
       "      <th>birthplace</th>\n",
       "      <th>secret</th>\n",
       "      <th>features</th>\n",
       "      <th>history</th>\n",
       "    </tr>\n",
       "  </thead>\n",
       "  <tbody>\n",
       "    <tr>\n",
       "      <th>0</th>\n",
       "      <td>Stephanie</td>\n",
       "      <td>21</td>\n",
       "      <td>20</td>\n",
       "      <td>&lt;NA&gt;</td>\n",
       "      <td>&lt;NA&gt;</td>\n",
       "      <td>TJahöÖgGu</td>\n",
       "      <td>{Y, N}</td>\n",
       "      <td>[A, x]</td>\n",
       "    </tr>\n",
       "    <tr>\n",
       "      <th>1</th>\n",
       "      <td>Christoph</td>\n",
       "      <td>35</td>\n",
       "      <td>30</td>\n",
       "      <td>30644</td>\n",
       "      <td>Berlin</td>\n",
       "      <td>nZkyI</td>\n",
       "      <td>{m, y, u, d, O}</td>\n",
       "      <td>[c, b, a]</td>\n",
       "    </tr>\n",
       "    <tr>\n",
       "      <th>2</th>\n",
       "      <td>Fabian</td>\n",
       "      <td>30</td>\n",
       "      <td>30</td>\n",
       "      <td>96305</td>\n",
       "      <td>&lt;NA&gt;</td>\n",
       "      <td>OoaeWöysIQ</td>\n",
       "      <td>{K, f, 1, v}</td>\n",
       "      <td>[a, b, c]</td>\n",
       "    </tr>\n",
       "    <tr>\n",
       "      <th>3</th>\n",
       "      <td>Leoni</td>\n",
       "      <td>41</td>\n",
       "      <td>40</td>\n",
       "      <td>82620</td>\n",
       "      <td>&lt;NA&gt;</td>\n",
       "      <td>Su5LsÜÄ</td>\n",
       "      <td>{k, Y, e}</td>\n",
       "      <td>[A, A, A]</td>\n",
       "    </tr>\n",
       "    <tr>\n",
       "      <th>4</th>\n",
       "      <td>Helene</td>\n",
       "      <td>36</td>\n",
       "      <td>30</td>\n",
       "      <td>65951</td>\n",
       "      <td>Bremen</td>\n",
       "      <td>IbrJ2L</td>\n",
       "      <td>{2, o}</td>\n",
       "      <td>[b, b, a, b]</td>\n",
       "    </tr>\n",
       "    <tr>\n",
       "      <th>5</th>\n",
       "      <td>Luis</td>\n",
       "      <td>30</td>\n",
       "      <td>30</td>\n",
       "      <td>63955</td>\n",
       "      <td>Berlin</td>\n",
       "      <td>xShXnRL</td>\n",
       "      <td>{4, V}</td>\n",
       "      <td>[A, C, C, B]</td>\n",
       "    </tr>\n",
       "    <tr>\n",
       "      <th>6</th>\n",
       "      <td>Michaela</td>\n",
       "      <td>29</td>\n",
       "      <td>20</td>\n",
       "      <td>74730</td>\n",
       "      <td>Bremen</td>\n",
       "      <td>oznöatüDvC</td>\n",
       "      <td>{H, z, 1}</td>\n",
       "      <td>[A, B, C]</td>\n",
       "    </tr>\n",
       "    <tr>\n",
       "      <th>7</th>\n",
       "      <td>Martha</td>\n",
       "      <td>25</td>\n",
       "      <td>20</td>\n",
       "      <td>53157</td>\n",
       "      <td>Bremen</td>\n",
       "      <td>hUakcbV5äs</td>\n",
       "      <td>{s, Q, E}</td>\n",
       "      <td>[]</td>\n",
       "    </tr>\n",
       "    <tr>\n",
       "      <th>8</th>\n",
       "      <td>Henry</td>\n",
       "      <td>34</td>\n",
       "      <td>30</td>\n",
       "      <td>64661</td>\n",
       "      <td>Berlin</td>\n",
       "      <td>tGSqLH1mo2</td>\n",
       "      <td>{m, X, 3, D, 1}</td>\n",
       "      <td>[A, B, C, C]</td>\n",
       "    </tr>\n",
       "    <tr>\n",
       "      <th>9</th>\n",
       "      <td>Carla</td>\n",
       "      <td>28</td>\n",
       "      <td>20</td>\n",
       "      <td>51679</td>\n",
       "      <td>Bremen</td>\n",
       "      <td>aJhqT</td>\n",
       "      <td>{n, K, 1, g}</td>\n",
       "      <td>[c, b, a]</td>\n",
       "    </tr>\n",
       "  </tbody>\n",
       "</table>\n",
       "</div>"
      ],
      "text/plain": [
       "  first_name  age  age_class  postal_code birthplace      secret  \\\n",
       "0  Stephanie   21         20         <NA>       <NA>   TJahöÖgGu   \n",
       "1  Christoph   35         30        30644     Berlin       nZkyI   \n",
       "2     Fabian   30         30        96305       <NA>  OoaeWöysIQ   \n",
       "3      Leoni   41         40        82620       <NA>     Su5LsÜÄ   \n",
       "4     Helene   36         30        65951     Bremen      IbrJ2L   \n",
       "5       Luis   30         30        63955     Berlin     xShXnRL   \n",
       "6   Michaela   29         20        74730     Bremen  oznöatüDvC   \n",
       "7     Martha   25         20        53157     Bremen  hUakcbV5äs   \n",
       "8      Henry   34         30        64661     Berlin  tGSqLH1mo2   \n",
       "9      Carla   28         20        51679     Bremen       aJhqT   \n",
       "\n",
       "          features       history  \n",
       "0           {Y, N}        [A, x]  \n",
       "1  {m, y, u, d, O}     [c, b, a]  \n",
       "2     {K, f, 1, v}     [a, b, c]  \n",
       "3        {k, Y, e}     [A, A, A]  \n",
       "4           {2, o}  [b, b, a, b]  \n",
       "5           {4, V}  [A, C, C, B]  \n",
       "6        {H, z, 1}     [A, B, C]  \n",
       "7        {s, Q, E}            []  \n",
       "8  {m, X, 3, D, 1}  [A, B, C, C]  \n",
       "9     {n, K, 1, g}     [c, b, a]  "
      ]
     },
     "execution_count": 19,
     "metadata": {},
     "output_type": "execute_result"
    },
    {
     "name": "stdout",
     "output_type": "stream",
     "text": [
      "time: 48.1 ms\n"
     ]
    }
   ],
   "source": [
    "pak.sample(df3,1005)"
   ]
  },
  {
   "cell_type": "markdown",
   "id": "f040f24c-3987-475a-b82b-17580ba69824",
   "metadata": {},
   "source": [
    "## search_str(): Searches all str columns of a dataframe"
   ]
  },
  {
   "cell_type": "code",
   "execution_count": 20,
   "id": "fdb683bd-684b-45c2-95a0-d624eba48b00",
   "metadata": {},
   "outputs": [
    {
     "name": "stdout",
     "output_type": "stream",
     "text": [
      "time: 56.5 ms\n"
     ]
    },
    {
     "data": {
      "text/plain": [
       "\u001b[0;31mSignature:\u001b[0m \u001b[0mpak\u001b[0m\u001b[0;34m.\u001b[0m\u001b[0msearch_str\u001b[0m\u001b[0;34m(\u001b[0m\u001b[0mdf\u001b[0m\u001b[0;34m,\u001b[0m \u001b[0mfind\u001b[0m\u001b[0;34m,\u001b[0m \u001b[0mwithout\u001b[0m\u001b[0;34m=\u001b[0m\u001b[0;34m[\u001b[0m\u001b[0;34m]\u001b[0m\u001b[0;34m)\u001b[0m\u001b[0;34m\u001b[0m\u001b[0;34m\u001b[0m\u001b[0m\n",
       "\u001b[0;31mDocstring:\u001b[0m\n",
       "Searches all str columns of a dataframe.\n",
       "Useful for development and debugging.\n",
       "* find:    What is to be found?                  String or list of strings.\n",
       "* without: Which columns should not be searched? String or list of strings.    \n",
       "\u001b[0;31mFile:\u001b[0m      /media/me/DATA/Dropbox/31_Projekte/01_Python/git/pandasklar/src/pandasklar/develop.py\n",
       "\u001b[0;31mType:\u001b[0m      function\n"
      ]
     },
     "metadata": {},
     "output_type": "display_data"
    }
   ],
   "source": [
    "?pak.search_str"
   ]
  },
  {
   "cell_type": "code",
   "execution_count": 23,
   "id": "d9b1c748-51ef-4dc2-b9fe-20e46ef48c16",
   "metadata": {},
   "outputs": [
    {
     "name": "stdout",
     "output_type": "stream",
     "text": [
      "search for ['Hamburg', 'Adolf']\n",
      "time: 37.1 ms\n"
     ]
    }
   ],
   "source": [
    "# create mask: most frequent first_name\n",
    "find = ['Hamburg', pak.most_freq_elt(df.first_name)]\n",
    "print('search for',find)"
   ]
  },
  {
   "cell_type": "code",
   "execution_count": 24,
   "id": "264cbe92-9224-4014-bfbc-a5fd24fe9444",
   "metadata": {
    "tags": []
   },
   "outputs": [
    {
     "data": {
      "text/html": [
       "<div>\n",
       "<style scoped>\n",
       "    .dataframe tbody tr th:only-of-type {\n",
       "        vertical-align: middle;\n",
       "    }\n",
       "\n",
       "    .dataframe tbody tr th {\n",
       "        vertical-align: top;\n",
       "    }\n",
       "\n",
       "    .dataframe thead th {\n",
       "        text-align: right;\n",
       "    }\n",
       "</style>\n",
       "<table border=\"1\" class=\"dataframe\">\n",
       "  <thead>\n",
       "    <tr style=\"text-align: right;\">\n",
       "      <th></th>\n",
       "      <th>first_name</th>\n",
       "      <th>age</th>\n",
       "      <th>age_class</th>\n",
       "      <th>postal_code</th>\n",
       "      <th>birthplace</th>\n",
       "      <th>secret</th>\n",
       "      <th>features</th>\n",
       "      <th>history</th>\n",
       "    </tr>\n",
       "  </thead>\n",
       "  <tbody>\n",
       "    <tr>\n",
       "      <th>89</th>\n",
       "      <td>Adolf</td>\n",
       "      <td>36</td>\n",
       "      <td>30</td>\n",
       "      <td>87139</td>\n",
       "      <td>Berlin</td>\n",
       "      <td>uxJsdZ</td>\n",
       "      <td>{R, n, K, S}</td>\n",
       "      <td>[A, A, A]</td>\n",
       "    </tr>\n",
       "  </tbody>\n",
       "</table>\n",
       "</div>"
      ],
      "text/plain": [
       "   first_name  age  age_class  postal_code birthplace  secret      features  \\\n",
       "89      Adolf   36         30        87139     Berlin  uxJsdZ  {R, n, K, S}   \n",
       "\n",
       "      history  \n",
       "89  [A, A, A]  "
      ]
     },
     "execution_count": 24,
     "metadata": {},
     "output_type": "execute_result"
    },
    {
     "name": "stdout",
     "output_type": "stream",
     "text": [
      "time: 44.4 ms\n"
     ]
    }
   ],
   "source": [
    "pak.search_str(df, find)"
   ]
  },
  {
   "cell_type": "markdown",
   "id": "fa5d1418-e8c2-4708-8068-ac6b08686af2",
   "metadata": {},
   "source": [
    "## check_mask(): Count rows filtered by a binary mask"
   ]
  },
  {
   "cell_type": "code",
   "execution_count": 25,
   "id": "f73b996b-70f7-4d47-a5c2-448d339f28ec",
   "metadata": {},
   "outputs": [
    {
     "name": "stdout",
     "output_type": "stream",
     "text": [
      "time: 39.9 ms\n"
     ]
    },
    {
     "data": {
      "text/plain": [
       "\u001b[0;31mSignature:\u001b[0m\n",
       "\u001b[0mpak\u001b[0m\u001b[0;34m.\u001b[0m\u001b[0mcheck_mask\u001b[0m\u001b[0;34m(\u001b[0m\u001b[0;34m\u001b[0m\n",
       "\u001b[0;34m\u001b[0m    \u001b[0mdf\u001b[0m\u001b[0;34m,\u001b[0m\u001b[0;34m\u001b[0m\n",
       "\u001b[0;34m\u001b[0m    \u001b[0mmask\u001b[0m\u001b[0;34m,\u001b[0m\u001b[0;34m\u001b[0m\n",
       "\u001b[0;34m\u001b[0m    \u001b[0mexpectation_min\u001b[0m\u001b[0;34m=\u001b[0m\u001b[0;32mNone\u001b[0m\u001b[0;34m,\u001b[0m\u001b[0;34m\u001b[0m\n",
       "\u001b[0;34m\u001b[0m    \u001b[0mexpectation_max\u001b[0m\u001b[0;34m=\u001b[0m\u001b[0;32mNone\u001b[0m\u001b[0;34m,\u001b[0m\u001b[0;34m\u001b[0m\n",
       "\u001b[0;34m\u001b[0m    \u001b[0mmsg\u001b[0m\u001b[0;34m=\u001b[0m\u001b[0;34m''\u001b[0m\u001b[0;34m,\u001b[0m\u001b[0;34m\u001b[0m\n",
       "\u001b[0;34m\u001b[0m    \u001b[0mstop\u001b[0m\u001b[0;34m=\u001b[0m\u001b[0;32mTrue\u001b[0m\u001b[0;34m,\u001b[0m\u001b[0;34m\u001b[0m\n",
       "\u001b[0;34m\u001b[0m    \u001b[0mverbose\u001b[0m\u001b[0;34m=\u001b[0m\u001b[0;32mNone\u001b[0m\u001b[0;34m,\u001b[0m\u001b[0;34m\u001b[0m\n",
       "\u001b[0;34m\u001b[0m\u001b[0;34m)\u001b[0m\u001b[0;34m\u001b[0m\u001b[0;34m\u001b[0m\u001b[0m\n",
       "\u001b[0;31mDocstring:\u001b[0m\n",
       "Count rows filtered by a binary mask.\n",
       "Raises an error, if the number is unexpected.\n",
       "\n",
       "Examples:\n",
       "==========\n",
       "check_mask( df, mask )         # just show the number of rows   \n",
       "check_mask( df, mask, 2000 )   # checks for about 2000 rows (if not 0: not more than double, not less than half)\n",
       "check_mask( df, mask, 0 )      # checks for exactly 0 rows    \n",
       "check_mask( df, mask, 10, 50)  # checks for 10..50 rows\n",
       "\n",
       "Example with later raise:\n",
       "=========================\n",
       "error = check_mask(df, mask, 214, stop=False)        \n",
       "grid(df, mask, error)        \n",
       "bpy.raise_if(error)\n",
       "\u001b[0;31mFile:\u001b[0m      /media/me/DATA/Dropbox/31_Projekte/01_Python/git/pandasklar/src/pandasklar/develop.py\n",
       "\u001b[0;31mType:\u001b[0m      function\n"
      ]
     },
     "metadata": {},
     "output_type": "display_data"
    }
   ],
   "source": [
    "?pak.check_mask"
   ]
  },
  {
   "cell_type": "code",
   "execution_count": 26,
   "id": "4b47a9d4-233e-4d1f-88e0-d10621612f8b",
   "metadata": {},
   "outputs": [
    {
     "name": "stdout",
     "output_type": "stream",
     "text": [
      "time: 34.6 ms\n"
     ]
    }
   ],
   "source": [
    "# define mask\n",
    "mask = (df.age >= 30)  &  (df.age < 40) \n",
    "#df[mask]"
   ]
  },
  {
   "cell_type": "code",
   "execution_count": 27,
   "id": "a85e05a5-1a4c-4aa7-8182-f843ec7a9324",
   "metadata": {},
   "outputs": [
    {
     "name": "stdout",
     "output_type": "stream",
     "text": [
      " 48 rows\n",
      "time: 57.3 ms\n"
     ]
    }
   ],
   "source": [
    "# just show the number of rows\n",
    "pak.check_mask(df, mask)"
   ]
  },
  {
   "cell_type": "code",
   "execution_count": 28,
   "id": "e4514535-4bbf-422c-b8a9-a1e90c3cd016",
   "metadata": {},
   "outputs": [
    {
     "name": "stdout",
     "output_type": "stream",
     "text": [
      "time: 50 ms\n"
     ]
    }
   ],
   "source": [
    "# checks for about 50 rows\n",
    "pak.check_mask(df, mask, 50)"
   ]
  },
  {
   "cell_type": "code",
   "execution_count": 29,
   "id": "d8ff4ab8-331c-4778-b9c2-a8033775373e",
   "metadata": {},
   "outputs": [
    {
     "name": "stdout",
     "output_type": "stream",
     "text": [
      " 48 rows\n",
      "time: 38 ms\n"
     ]
    }
   ],
   "source": [
    "# checks for about 50 rows\n",
    "pak.check_mask(df, mask, 50, verbose=True)"
   ]
  },
  {
   "cell_type": "code",
   "execution_count": 30,
   "id": "9cfe4010-bda6-4f23-a0d6-79cb22b4251c",
   "metadata": {},
   "outputs": [
    {
     "name": "stdout",
     "output_type": "stream",
     "text": [
      "time: 39.7 ms\n"
     ]
    }
   ],
   "source": [
    "# checks for 0..100 rows\n",
    "pak.check_mask(df, mask, 0, 100)"
   ]
  },
  {
   "cell_type": "markdown",
   "id": "b7688157",
   "metadata": {},
   "source": [
    "## grid(): Visualize with dtale"
   ]
  },
  {
   "cell_type": "code",
   "execution_count": 31,
   "id": "6be4b7ef-6225-4f2a-b214-a792ecbbc4a1",
   "metadata": {},
   "outputs": [
    {
     "name": "stdout",
     "output_type": "stream",
     "text": [
      "time: 39.4 ms\n"
     ]
    },
    {
     "data": {
      "text/plain": [
       "\u001b[0;31mSignature:\u001b[0m \u001b[0mgrid\u001b[0m\u001b[0;34m(\u001b[0m\u001b[0mdf\u001b[0m\u001b[0;34m,\u001b[0m \u001b[0mmask\u001b[0m\u001b[0;34m=\u001b[0m\u001b[0;32mNone\u001b[0m\u001b[0;34m,\u001b[0m \u001b[0merror\u001b[0m\u001b[0;34m=\u001b[0m\u001b[0;34m'€€€'\u001b[0m\u001b[0;34m,\u001b[0m \u001b[0mcolor\u001b[0m\u001b[0;34m=\u001b[0m\u001b[0;34m'blue'\u001b[0m\u001b[0;34m,\u001b[0m \u001b[0;34m**\u001b[0m\u001b[0mkwargs\u001b[0m\u001b[0;34m)\u001b[0m\u001b[0;34m\u001b[0m\u001b[0;34m\u001b[0m\u001b[0m\n",
       "\u001b[0;31mDocstring:\u001b[0m\n",
       "Visualization of a DataFrame using dtale.\n",
       "* df:     DataFrame to show\n",
       "* mask:   Binary mask of function to reduce the number of rows\n",
       "* error:  Error message\n",
       "* color:  Color of the error message.\n",
       "* kwargs: Options for dtale. See https://github.com/man-group/dtale#instance-settings\n",
       "          Caution: This will affect all grids in this notebook...\n",
       "dtale may not work in a multiscreen setting on windows.\n",
       "\n",
       "=== Examples ===\n",
       "grid(df)                        # show all rows\n",
       "grid(df,mask)                   # show with binary mask    \n",
       "grid(df,sample)                 # show with functionally mask\n",
       "\n",
       "=== For error indication after check_mask ===\n",
       "error = check_mask(df, mask, 900, stop=False)\n",
       "grid(df, mask, error) \n",
       "and later: raise_if(error)\n",
       "\u001b[0;31mFile:\u001b[0m      /media/me/DATA/Dropbox/31_Projekte/01_Python/git/pandasklar/src/pandasklar/develop.py\n",
       "\u001b[0;31mType:\u001b[0m      function\n"
      ]
     },
     "metadata": {},
     "output_type": "display_data"
    }
   ],
   "source": [
    "?grid"
   ]
  },
  {
   "cell_type": "code",
   "execution_count": 32,
   "id": "c6cb3af4-4aa1-47fa-8a47-1fad8ee88e32",
   "metadata": {},
   "outputs": [
    {
     "name": "stdout",
     "output_type": "stream",
     "text": [
      "100 rows\n"
     ]
    },
    {
     "data": {
      "text/html": [
       "\n",
       "        <iframe\n",
       "            width=\"100%\"\n",
       "            height=\"475\"\n",
       "            src=\"http://pop-os:40006/dtale/iframe/1\"\n",
       "            frameborder=\"0\"\n",
       "            allowfullscreen\n",
       "            \n",
       "        ></iframe>\n",
       "        "
      ],
      "text/plain": [
       "<IPython.lib.display.IFrame at 0x7f715af01820>"
      ]
     },
     "metadata": {},
     "output_type": "display_data"
    },
    {
     "data": {
      "text/plain": []
     },
     "execution_count": 32,
     "metadata": {},
     "output_type": "execute_result"
    },
    {
     "name": "stdout",
     "output_type": "stream",
     "text": [
      "time: 522 ms\n"
     ]
    }
   ],
   "source": [
    "# show\n",
    "grid(df)"
   ]
  },
  {
   "cell_type": "markdown",
   "id": "245132da-e234-45a7-a548-1a6393b1e9c8",
   "metadata": {},
   "source": [
    "### grid(): Use mask"
   ]
  },
  {
   "cell_type": "code",
   "execution_count": 33,
   "id": "0bd9d46f-f5bb-4469-9286-a446ccbb39dd",
   "metadata": {},
   "outputs": [
    {
     "name": "stdout",
     "output_type": "stream",
     "text": [
      "12 rows out of 100\n"
     ]
    },
    {
     "data": {
      "text/html": [
       "\n",
       "        <iframe\n",
       "            width=\"100%\"\n",
       "            height=\"475\"\n",
       "            src=\"http://pop-os:40006/dtale/iframe/2\"\n",
       "            frameborder=\"0\"\n",
       "            allowfullscreen\n",
       "            \n",
       "        ></iframe>\n",
       "        "
      ],
      "text/plain": [
       "<IPython.lib.display.IFrame at 0x7f715adf9e50>"
      ]
     },
     "metadata": {},
     "output_type": "display_data"
    },
    {
     "data": {
      "text/plain": []
     },
     "execution_count": 33,
     "metadata": {},
     "output_type": "execute_result"
    },
    {
     "name": "stdout",
     "output_type": "stream",
     "text": [
      "time: 421 ms\n"
     ]
    }
   ],
   "source": [
    "# Function as mask\n",
    "grid(df, pak.sample)"
   ]
  },
  {
   "cell_type": "code",
   "execution_count": 34,
   "id": "0b171cd5-4a69-4d31-8c5f-cc5f34e6858f",
   "metadata": {},
   "outputs": [
    {
     "name": "stdout",
     "output_type": "stream",
     "text": [
      "77 rows out of 100\n"
     ]
    },
    {
     "data": {
      "text/html": [
       "\n",
       "        <iframe\n",
       "            width=\"100%\"\n",
       "            height=\"475\"\n",
       "            src=\"http://pop-os:40006/dtale/iframe/3\"\n",
       "            frameborder=\"0\"\n",
       "            allowfullscreen\n",
       "            \n",
       "        ></iframe>\n",
       "        "
      ],
      "text/plain": [
       "<IPython.lib.display.IFrame at 0x7f71618b15e0>"
      ]
     },
     "metadata": {},
     "output_type": "display_data"
    },
    {
     "data": {
      "text/plain": []
     },
     "execution_count": 34,
     "metadata": {},
     "output_type": "execute_result"
    },
    {
     "name": "stdout",
     "output_type": "stream",
     "text": [
      "time: 182 ms\n"
     ]
    }
   ],
   "source": [
    "# Binary mask\n",
    "mask = df.age > 25\n",
    "grid(df, mask)"
   ]
  },
  {
   "cell_type": "markdown",
   "id": "a964fe1a-7ce2-4db5-aa90-07cd6553ad49",
   "metadata": {},
   "source": [
    "### grid() options\n",
    "Some grid options are global, e.g. max_column_width. If you set this option to a value later in your notebook, all grids in the notebook are rendered with this column_width. If you find a way to change this, send me a message."
   ]
  },
  {
   "cell_type": "code",
   "execution_count": 35,
   "id": "4f86a672-eb7a-4c56-9aa3-db24c758aca6",
   "metadata": {},
   "outputs": [
    {
     "name": "stdout",
     "output_type": "stream",
     "text": [
      "time: 33 ms\n"
     ]
    }
   ],
   "source": [
    "# global Settings\n",
    "pak.set_grid(max_column_width=200)"
   ]
  },
  {
   "cell_type": "code",
   "execution_count": 36,
   "id": "2a395033-f941-4ea4-bd9f-d99e1d3c0872",
   "metadata": {},
   "outputs": [
    {
     "name": "stdout",
     "output_type": "stream",
     "text": [
      "100 rows\n"
     ]
    },
    {
     "data": {
      "text/html": [
       "\n",
       "        <iframe\n",
       "            width=\"100%\"\n",
       "            height=\"475\"\n",
       "            src=\"http://pop-os:40006/dtale/iframe/4\"\n",
       "            frameborder=\"0\"\n",
       "            allowfullscreen\n",
       "            \n",
       "        ></iframe>\n",
       "        "
      ],
      "text/plain": [
       "<IPython.lib.display.IFrame at 0x7f715b1da940>"
      ]
     },
     "metadata": {},
     "output_type": "display_data"
    },
    {
     "data": {
      "text/plain": []
     },
     "execution_count": 36,
     "metadata": {},
     "output_type": "execute_result"
    },
    {
     "name": "stdout",
     "output_type": "stream",
     "text": [
      "time: 125 ms\n"
     ]
    }
   ],
   "source": [
    "# show \n",
    "grid(df)"
   ]
  },
  {
   "cell_type": "markdown",
   "id": "be02d79a-8dd7-4e54-8fe9-b89046e2022e",
   "metadata": {},
   "source": [
    "### grid(): Advanced Formating\n",
    "See options on https://github.com/man-group/dtale#instance-settings"
   ]
  },
  {
   "cell_type": "code",
   "execution_count": 37,
   "id": "afb14de4-e5ba-48a8-8615-4c9fdb617535",
   "metadata": {},
   "outputs": [
    {
     "name": "stdout",
     "output_type": "stream",
     "text": [
      "77 rows out of 100\n"
     ]
    },
    {
     "data": {
      "text/html": [
       "\n",
       "        <iframe\n",
       "            width=\"100%\"\n",
       "            height=\"475\"\n",
       "            src=\"http://pop-os:40006/dtale/iframe/5\"\n",
       "            frameborder=\"0\"\n",
       "            allowfullscreen\n",
       "            \n",
       "        ></iframe>\n",
       "        "
      ],
      "text/plain": [
       "<IPython.lib.display.IFrame at 0x7f715ae28f40>"
      ]
     },
     "metadata": {},
     "output_type": "display_data"
    },
    {
     "data": {
      "text/plain": []
     },
     "execution_count": 37,
     "metadata": {},
     "output_type": "execute_result"
    },
    {
     "name": "stdout",
     "output_type": "stream",
     "text": [
      "time: 111 ms\n"
     ]
    }
   ],
   "source": [
    "mask = df.age > 25\n",
    "grid(df, mask, sort=[('first_name','ASC')], background_mode='heatmap-col-age')\n",
    "#grid(df, mask, drop_index=True,)"
   ]
  },
  {
   "cell_type": "markdown",
   "id": "03d54916-78f9-4da1-ae3d-4acecfedb9f6",
   "metadata": {},
   "source": [
    "### grid(): Special cases"
   ]
  },
  {
   "cell_type": "code",
   "execution_count": 38,
   "id": "bf26d5b2-c670-4fe4-aed7-9d6a5231c96c",
   "metadata": {},
   "outputs": [
    {
     "name": "stdout",
     "output_type": "stream",
     "text": [
      "\u001b[1m\u001b[7m\u001b[31mNothing to show\u001b[0m\n",
      "time: 37.8 ms\n"
     ]
    }
   ],
   "source": [
    "# No DataFrame\n",
    "grid(None)"
   ]
  },
  {
   "cell_type": "code",
   "execution_count": 39,
   "id": "7225ca3d-6e57-4d44-b0bc-0f2cdb985d55",
   "metadata": {},
   "outputs": [
    {
     "name": "stdout",
     "output_type": "stream",
     "text": [
      "\u001b[1m\u001b[7m\u001b[34mNo rows\u001b[0m\n",
      "time: 41.7 ms\n"
     ]
    }
   ],
   "source": [
    "# Empty DataFrame\n",
    "d = pd.DataFrame()\n",
    "grid(d)"
   ]
  },
  {
   "cell_type": "code",
   "execution_count": 40,
   "id": "b2019ec2-84c5-4fa0-b764-faa01ec92447",
   "metadata": {},
   "outputs": [
    {
     "name": "stdout",
     "output_type": "stream",
     "text": [
      "\u001b[1m\u001b[7m\u001b[34mNo rows, mask filters them all away\u001b[0m\n",
      "time: 45.8 ms\n"
     ]
    }
   ],
   "source": [
    "# 100% filtered \n",
    "mask = df.age > 1000\n",
    "grid(df,mask)"
   ]
  },
  {
   "cell_type": "code",
   "execution_count": 41,
   "id": "37d339e7-164b-43c3-8cff-5b9183afad87",
   "metadata": {},
   "outputs": [
    {
     "name": "stdout",
     "output_type": "stream",
     "text": [
      "\u001b[1m\u001b[7m\u001b[32mNo rows, mask filters them all away\u001b[0m\n",
      "time: 51 ms\n"
     ]
    }
   ],
   "source": [
    "# 100% filtered, and this is good\n",
    "mask = df.age > 1000\n",
    "grid(df,mask, color='green')"
   ]
  },
  {
   "cell_type": "code",
   "execution_count": 42,
   "id": "94fabd0f-d568-48bd-a9f0-ace60646ab68",
   "metadata": {},
   "outputs": [
    {
     "name": "stdout",
     "output_type": "stream",
     "text": [
      "\u001b[1m\u001b[7m\u001b[31mNo rows, mask filters them all away\u001b[0m\n",
      "time: 42.4 ms\n"
     ]
    }
   ],
   "source": [
    "# 100% filtered, and this is bad\n",
    "mask = df.age > 1000\n",
    "grid(df,mask, color='red')"
   ]
  },
  {
   "cell_type": "markdown",
   "id": "1067b294-87f2-43d2-8c8f-a5542ef1629c",
   "metadata": {},
   "source": [
    "### grid() & check_mask(): Show error rows and raise later"
   ]
  },
  {
   "cell_type": "code",
   "execution_count": 43,
   "id": "af8fa7b9-06cd-477a-9d61-c00396c2659f",
   "metadata": {},
   "outputs": [
    {
     "name": "stdout",
     "output_type": "stream",
     "text": [
      " 0 rows\n",
      "time: 34.8 ms\n"
     ]
    }
   ],
   "source": [
    "# define a mask that contains errors\n",
    "# say our error is df.birthplace == 'Hamburg',\n",
    "# we don't want that to happen,\n",
    "# but if it happens we would like to see the rows\n",
    "mask = df.birthplace == 'Hamburg'\n",
    "pak.check_mask(df,mask)"
   ]
  },
  {
   "cell_type": "code",
   "execution_count": 44,
   "id": "70ac89d9-b0d9-4a62-abcd-11925fecd2e1",
   "metadata": {},
   "outputs": [
    {
     "name": "stdout",
     "output_type": "stream",
     "text": [
      "time: 44.7 ms\n"
     ]
    }
   ],
   "source": [
    "# checking for 0 raises an error, as we want.\n",
    "# But we don't see the rows affected\n",
    "pak.check_mask(df,mask, 0)"
   ]
  },
  {
   "cell_type": "code",
   "execution_count": 45,
   "id": "14fdc7e8-cd11-4a4c-a2f7-12673a19c562",
   "metadata": {},
   "outputs": [
    {
     "name": "stdout",
     "output_type": "stream",
     "text": [
      "\u001b[1m\u001b[7m\u001b[34mNo rows, mask filters them all away\u001b[0m\n",
      "time: 35.4 ms\n"
     ]
    }
   ],
   "source": [
    "# so we use this to show the error rows first\n",
    "error = pak.check_mask(df,mask, 0, stop=False)\n",
    "grid(df, mask, error) "
   ]
  },
  {
   "cell_type": "code",
   "execution_count": 46,
   "id": "90e49181-c1c9-4c78-97c3-c3271321ba64",
   "metadata": {},
   "outputs": [
    {
     "name": "stdout",
     "output_type": "stream",
     "text": [
      "time: 45.6 ms\n"
     ]
    }
   ],
   "source": [
    "# and raise later\n",
    "bpy.raise_if(error)"
   ]
  },
  {
   "cell_type": "markdown",
   "id": "3f8b99de-87a4-42b8-9748-63dd2a45f76e",
   "metadata": {},
   "source": [
    "## memory_consumption"
   ]
  },
  {
   "cell_type": "code",
   "execution_count": 47,
   "id": "40eda3d2-885c-4ffb-afe5-8ca32f6e7361",
   "metadata": {},
   "outputs": [
    {
     "name": "stdout",
     "output_type": "stream",
     "text": [
      "time: 42 ms\n"
     ]
    },
    {
     "data": {
      "text/plain": [
       "\u001b[0;31mSignature:\u001b[0m \u001b[0mpak\u001b[0m\u001b[0;34m.\u001b[0m\u001b[0mmemory_consumption\u001b[0m\u001b[0;34m(\u001b[0m\u001b[0miteration_of_objects\u001b[0m\u001b[0;34m,\u001b[0m \u001b[0mlimit\u001b[0m\u001b[0;34m=\u001b[0m\u001b[0;36m10\u001b[0m\u001b[0;34m,\u001b[0m \u001b[0muse_rtype\u001b[0m\u001b[0;34m=\u001b[0m\u001b[0;32mTrue\u001b[0m\u001b[0;34m)\u001b[0m\u001b[0;34m\u001b[0m\u001b[0;34m\u001b[0m\u001b[0m\n",
       "\u001b[0;31mDocstring:\u001b[0m\n",
       "Returns the memory consumption of Python objects.\n",
       "* iteration_of_objects: can be e.g. a DataFrame or just locals()\n",
       "* limit: Limits the output size\n",
       "* use_rtype: Use rtype instead of type?\n",
       "\n",
       "For the memory consumption of the biggest 10 local variables call:\n",
       "bpy.memory_consumption( locals() )\n",
       "\u001b[0;31mFile:\u001b[0m      /media/me/DATA/Dropbox/31_Projekte/01_Python/git/pandasklar/src/pandasklar/analyse.py\n",
       "\u001b[0;31mType:\u001b[0m      function\n"
      ]
     },
     "metadata": {},
     "output_type": "display_data"
    }
   ],
   "source": [
    "?pak.memory_consumption"
   ]
  },
  {
   "cell_type": "code",
   "execution_count": 48,
   "id": "68f45c73-37bc-43df-82db-78ad2c73022b",
   "metadata": {},
   "outputs": [
    {
     "data": {
      "text/html": [
       "<div>\n",
       "<style scoped>\n",
       "    .dataframe tbody tr th:only-of-type {\n",
       "        vertical-align: middle;\n",
       "    }\n",
       "\n",
       "    .dataframe tbody tr th {\n",
       "        vertical-align: top;\n",
       "    }\n",
       "\n",
       "    .dataframe thead th {\n",
       "        text-align: right;\n",
       "    }\n",
       "</style>\n",
       "<table border=\"1\" class=\"dataframe\">\n",
       "  <thead>\n",
       "    <tr style=\"text-align: right;\">\n",
       "      <th></th>\n",
       "      <th>name</th>\n",
       "      <th>rtype</th>\n",
       "      <th>size</th>\n",
       "    </tr>\n",
       "  </thead>\n",
       "  <tbody>\n",
       "    <tr>\n",
       "      <th>0</th>\n",
       "      <td>df6</td>\n",
       "      <td>(DataFrame, Series)</td>\n",
       "      <td>5.7 MB</td>\n",
       "    </tr>\n",
       "    <tr>\n",
       "      <th>1</th>\n",
       "      <td>df5</td>\n",
       "      <td>(DataFrame, Series)</td>\n",
       "      <td>580.2 KB</td>\n",
       "    </tr>\n",
       "    <tr>\n",
       "      <th>2</th>\n",
       "      <td>df</td>\n",
       "      <td>(DataFrame, Series)</td>\n",
       "      <td>57.8 KB</td>\n",
       "    </tr>\n",
       "    <tr>\n",
       "      <th>3</th>\n",
       "      <td>df4</td>\n",
       "      <td>(DataFrame, Series)</td>\n",
       "      <td>57.8 KB</td>\n",
       "    </tr>\n",
       "    <tr>\n",
       "      <th>4</th>\n",
       "      <td>a</td>\n",
       "      <td>(DataFrame, Series)</td>\n",
       "      <td>10.3 KB</td>\n",
       "    </tr>\n",
       "    <tr>\n",
       "      <th>5</th>\n",
       "      <td>_15</td>\n",
       "      <td>(DataFrame, Series)</td>\n",
       "      <td>10.3 KB</td>\n",
       "    </tr>\n",
       "    <tr>\n",
       "      <th>6</th>\n",
       "      <td>_18</td>\n",
       "      <td>(DataFrame, Series)</td>\n",
       "      <td>9.2 KB</td>\n",
       "    </tr>\n",
       "    <tr>\n",
       "      <th>7</th>\n",
       "      <td>_19</td>\n",
       "      <td>(DataFrame, Series)</td>\n",
       "      <td>5.9 KB</td>\n",
       "    </tr>\n",
       "    <tr>\n",
       "      <th>8</th>\n",
       "      <td>df3</td>\n",
       "      <td>(DataFrame, Series)</td>\n",
       "      <td>5.9 KB</td>\n",
       "    </tr>\n",
       "    <tr>\n",
       "      <th>9</th>\n",
       "      <td>Stop</td>\n",
       "      <td>(type,)</td>\n",
       "      <td>1.0 KB</td>\n",
       "    </tr>\n",
       "  </tbody>\n",
       "</table>\n",
       "</div>"
      ],
      "text/plain": [
       "   name                rtype      size\n",
       "0   df6  (DataFrame, Series)    5.7 MB\n",
       "1   df5  (DataFrame, Series)  580.2 KB\n",
       "2    df  (DataFrame, Series)   57.8 KB\n",
       "3   df4  (DataFrame, Series)   57.8 KB\n",
       "4     a  (DataFrame, Series)   10.3 KB\n",
       "5   _15  (DataFrame, Series)   10.3 KB\n",
       "6   _18  (DataFrame, Series)    9.2 KB\n",
       "7   _19  (DataFrame, Series)    5.9 KB\n",
       "8   df3  (DataFrame, Series)    5.9 KB\n",
       "9  Stop              (type,)    1.0 KB"
      ]
     },
     "execution_count": 48,
     "metadata": {},
     "output_type": "execute_result"
    },
    {
     "name": "stdout",
     "output_type": "stream",
     "text": [
      "time: 98.6 ms\n"
     ]
    }
   ],
   "source": [
    "# All local variables\n",
    "r = pak.memory_consumption( locals() )\n",
    "r"
   ]
  },
  {
   "cell_type": "code",
   "execution_count": 49,
   "id": "6fa802c7-a86b-4569-8343-835c414209d0",
   "metadata": {},
   "outputs": [
    {
     "data": {
      "text/html": [
       "<div>\n",
       "<style scoped>\n",
       "    .dataframe tbody tr th:only-of-type {\n",
       "        vertical-align: middle;\n",
       "    }\n",
       "\n",
       "    .dataframe tbody tr th {\n",
       "        vertical-align: top;\n",
       "    }\n",
       "\n",
       "    .dataframe thead th {\n",
       "        text-align: right;\n",
       "    }\n",
       "</style>\n",
       "<table border=\"1\" class=\"dataframe\">\n",
       "  <thead>\n",
       "    <tr style=\"text-align: right;\">\n",
       "      <th></th>\n",
       "      <th>name</th>\n",
       "      <th>rtype</th>\n",
       "      <th>size</th>\n",
       "    </tr>\n",
       "  </thead>\n",
       "  <tbody>\n",
       "    <tr>\n",
       "      <th>0</th>\n",
       "      <td>features</td>\n",
       "      <td>(Series, set, str)</td>\n",
       "      <td>30.5 KB</td>\n",
       "    </tr>\n",
       "    <tr>\n",
       "      <th>1</th>\n",
       "      <td>secret</td>\n",
       "      <td>(Series, str)</td>\n",
       "      <td>7.8 KB</td>\n",
       "    </tr>\n",
       "    <tr>\n",
       "      <th>2</th>\n",
       "      <td>history</td>\n",
       "      <td>(Series, list, str)</td>\n",
       "      <td>7.2 KB</td>\n",
       "    </tr>\n",
       "    <tr>\n",
       "      <th>3</th>\n",
       "      <td>first_name</td>\n",
       "      <td>(Series, str)</td>\n",
       "      <td>6.3 KB</td>\n",
       "    </tr>\n",
       "    <tr>\n",
       "      <th>4</th>\n",
       "      <td>birthplace</td>\n",
       "      <td>(Series, str)</td>\n",
       "      <td>5.7 KB</td>\n",
       "    </tr>\n",
       "    <tr>\n",
       "      <th>5</th>\n",
       "      <td>postal_code</td>\n",
       "      <td>(Series, int32)</td>\n",
       "      <td>644.0 B</td>\n",
       "    </tr>\n",
       "    <tr>\n",
       "      <th>6</th>\n",
       "      <td>age</td>\n",
       "      <td>(Series, int8)</td>\n",
       "      <td>344.0 B</td>\n",
       "    </tr>\n",
       "    <tr>\n",
       "      <th>7</th>\n",
       "      <td>age_class</td>\n",
       "      <td>(Series, int8)</td>\n",
       "      <td>344.0 B</td>\n",
       "    </tr>\n",
       "  </tbody>\n",
       "</table>\n",
       "</div>"
      ],
      "text/plain": [
       "          name                rtype     size\n",
       "0     features   (Series, set, str)  30.5 KB\n",
       "1       secret        (Series, str)   7.8 KB\n",
       "2      history  (Series, list, str)   7.2 KB\n",
       "3   first_name        (Series, str)   6.3 KB\n",
       "4   birthplace        (Series, str)   5.7 KB\n",
       "5  postal_code      (Series, int32)  644.0 B\n",
       "6          age       (Series, int8)  344.0 B\n",
       "7    age_class       (Series, int8)  344.0 B"
      ]
     },
     "execution_count": 49,
     "metadata": {},
     "output_type": "execute_result"
    },
    {
     "name": "stdout",
     "output_type": "stream",
     "text": [
      "time: 57 ms\n"
     ]
    }
   ],
   "source": [
    "# If you give a DataFrame, it will return the column sizes\n",
    "pak.memory_consumption( df )"
   ]
  },
  {
   "cell_type": "code",
   "execution_count": null,
   "id": "c374094a-f236-4da1-bd4a-ebaf0f50652e",
   "metadata": {},
   "outputs": [],
   "source": []
  }
 ],
 "metadata": {
  "kernelspec": {
   "display_name": "Python 3 (ipykernel)",
   "language": "python",
   "name": "python3"
  },
  "language_info": {
   "codemirror_mode": {
    "name": "ipython",
    "version": 3
   },
   "file_extension": ".py",
   "mimetype": "text/x-python",
   "name": "python",
   "nbconvert_exporter": "python",
   "pygments_lexer": "ipython3",
   "version": "3.9.13"
  }
 },
 "nbformat": 4,
 "nbformat_minor": 5
}
