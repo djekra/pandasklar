{
 "cells": [
  {
   "cell_type": "markdown",
   "id": "c7e3c6d1-83ae-4244-b0f0-b454ef69ab6a",
   "metadata": {},
   "source": [
    "__[Open and try this file online (Colab)](https://colab.research.google.com/github/djekra/pandasklar/blob/master/jupyter/12_Review_and_Visualize.ipynb)__"
   ]
  },
  {
   "cell_type": "markdown",
   "id": "d18ad909-2564-4262-bdcd-2eb7400759b0",
   "metadata": {},
   "source": [
    "# Review and visualize\n",
    "Review and visualize data that meets your criteria. <br>\n",
    "This notebook raises errors for demonstration purpose.\n",
    "* `plot`: Easier plot\n",
    "* `check_mask`: Count rows filtered by a binary mask. Raises an error, if the number is unexpected.\n",
    "* `specials`: Returns rows representing all special values per column.\n",
    "* `sample`: Returns some sample rows: beginning + end + specials + random rows.\n",
    "* `search_str`: Searches all str columns of a dataframe. Useful for development and debugging.\n",
    "* `grid`: Visualize with dtale.\n",
    "* `memory_consumption`: Returns the memory consumption of Python objects."
   ]
  },
  {
   "cell_type": "code",
   "execution_count": 1,
   "id": "773dd654-0638-4337-b8ff-3f82d2e02965",
   "metadata": {
    "execution": {
     "iopub.execute_input": "2025-03-20T22:10:40.856891Z",
     "iopub.status.busy": "2025-03-20T22:10:40.856437Z",
     "iopub.status.idle": "2025-03-20T22:10:44.644401Z",
     "shell.execute_reply": "2025-03-20T22:10:44.644401Z",
     "shell.execute_reply.started": "2025-03-20T22:10:40.856437Z"
    }
   },
   "outputs": [
    {
     "name": "stdout",
     "output_type": "stream",
     "text": [
      "blab init\n",
      "environment['in_colab']     = False\n",
      "environment['dropbox_path'] = D:\\Dropbox\n",
      "environment['lib_path']     = D:\\Dropbox\\31_Projekte\\01_Python\\libs\n",
      "Start Time: 23:10:41\n"
     ]
    },
    {
     "data": {
      "text/html": [
       "<img src onerror=\"var cell = this.closest('.jp-CodeCell');var editor = cell.querySelector('.jp-Editor');editor.style.background='Beige';this.parentNode.removeChild(this)\">"
      ],
      "text/plain": [
       "<IPython.core.display.HTML object>"
      ]
     },
     "metadata": {},
     "output_type": "display_data"
    }
   ],
   "source": [
    "# blab init\n",
    "try:\n",
    "    import blab\n",
    "except ImportError as e:\n",
    "    !pip install blab\n",
    "    import blab    \n",
    "startup_notebook = blab.blab_startup()\n",
    "%run $startup_notebook "
   ]
  },
  {
   "cell_type": "code",
   "execution_count": 2,
   "id": "e673e212-8641-4846-9aa0-3c50199c3df0",
   "metadata": {
    "execution": {
     "iopub.execute_input": "2025-03-20T22:10:44.644401Z",
     "iopub.status.busy": "2025-03-20T22:10:44.644401Z",
     "iopub.status.idle": "2025-03-20T22:10:54.618247Z",
     "shell.execute_reply": "2025-03-20T22:10:54.618247Z",
     "shell.execute_reply.started": "2025-03-20T22:10:44.644401Z"
    }
   },
   "outputs": [
    {
     "name": "stdout",
     "output_type": "stream",
     "text": [
      "VERBOSE = True\n",
      "--> setting verbose=True as default for all pandasklar functions\n",
      "\n"
     ]
    }
   ],
   "source": [
    "import numpy      as np\n",
    "import pandas     as pd \n",
    "#import bpyth      as bpy\n",
    "\n",
    "# pandasklar\n",
    "try:\n",
    "    import pandasklar as pak \n",
    "except ImportError as e:\n",
    "    !pip install pandasklar\n",
    "    import pandasklar as pak   \n",
    "    \n",
    "# verbose\n",
    "pak.Config.set('VERBOSE', True)\n",
    "\n",
    "grid = pak.grid\n",
    "\n",
    "# copy_on_write\n",
    "pd.set_option(\"mode.copy_on_write\", True)"
   ]
  },
  {
   "cell_type": "markdown",
   "id": "231eb1e2-6ab3-414c-b258-532a1641b9d2",
   "metadata": {},
   "source": [
    "## plot(): Easier plot"
   ]
  },
  {
   "cell_type": "code",
   "execution_count": 3,
   "id": "c8db5b4d-d6a0-48a2-8bda-cdff9c2b6995",
   "metadata": {
    "execution": {
     "iopub.execute_input": "2025-03-20T22:10:54.619257Z",
     "iopub.status.busy": "2025-03-20T22:10:54.619257Z",
     "iopub.status.idle": "2025-03-20T22:10:55.314547Z",
     "shell.execute_reply": "2025-03-20T22:10:55.314409Z",
     "shell.execute_reply.started": "2025-03-20T22:10:54.619257Z"
    }
   },
   "outputs": [
    {
     "name": "stdout",
     "output_type": "stream",
     "text": [
      "<class 'IPython.core.display.Markdown'>\n"
     ]
    },
    {
     "data": {
      "text/markdown": [
       "<span style=\"font-size:larger;\">plot(data, x=None, secondary_y=False, ylabel=None, subplots=False, figsize=None, inaccurate_limit=10000, **kwargs):</span>\n",
       "\n",
       "Plots data. All parameters are passed to pandas.DataFrame.plot, but \n",
       "* data:             The data to plot. DataFrame, or list of Series, or any other data \n",
       "                    which can be converted to DataFrame by the pandasklar dataframe function.\n",
       "                    Non-numeric columns are ignored (even for column positions). \n",
       "* x:                Which column to be used as x-axis. Column name or column position.\n",
       "                    x=None -> The index is used as x.   \n",
       "* secondary_y:      Which columns to plot on the secondary y-axis. \n",
       "                    Column name, column position or list of column names.\n",
       "* figsize:          Size of a figure object. Default is (16,3) or (16,4), depending on the data.\n",
       "* inaccurate_limit: From what size should the data be thinned randomly.\n",
       "                    Uses pandasklars sample function, so minimums and maximums are kept.     "
      ],
      "text/plain": [
       "<IPython.core.display.Markdown object>"
      ]
     },
     "metadata": {},
     "output_type": "display_data"
    }
   ],
   "source": [
    "blab.help(pak.plot)"
   ]
  },
  {
   "cell_type": "code",
   "execution_count": 4,
   "id": "b442d125-0fc0-425d-935c-96ced9682a0a",
   "metadata": {
    "execution": {
     "iopub.execute_input": "2025-03-20T22:10:55.315976Z",
     "iopub.status.busy": "2025-03-20T22:10:55.315976Z",
     "iopub.status.idle": "2025-03-20T22:10:55.796380Z",
     "shell.execute_reply": "2025-03-20T22:10:55.796380Z",
     "shell.execute_reply.started": "2025-03-20T22:10:55.315976Z"
    }
   },
   "outputs": [
    {
     "data": {
      "text/html": [
       "<div>\n",
       "<style scoped>\n",
       "    .dataframe tbody tr th:only-of-type {\n",
       "        vertical-align: middle;\n",
       "    }\n",
       "\n",
       "    .dataframe tbody tr th {\n",
       "        vertical-align: top;\n",
       "    }\n",
       "\n",
       "    .dataframe thead th {\n",
       "        text-align: right;\n",
       "    }\n",
       "</style>\n",
       "<table border=\"1\" class=\"dataframe\">\n",
       "  <thead>\n",
       "    <tr style=\"text-align: right;\">\n",
       "      <th></th>\n",
       "      <th>A</th>\n",
       "      <th>B</th>\n",
       "      <th>C</th>\n",
       "      <th>D</th>\n",
       "      <th>E</th>\n",
       "      <th>F</th>\n",
       "      <th>G</th>\n",
       "    </tr>\n",
       "  </thead>\n",
       "  <tbody>\n",
       "    <tr>\n",
       "      <th>0</th>\n",
       "      <td>0.000000</td>\n",
       "      <td>0.000000</td>\n",
       "      <td>1.000000</td>\n",
       "      <td>1.000000</td>\n",
       "      <td>0.000000</td>\n",
       "      <td>0.000000</td>\n",
       "      <td>0.000000</td>\n",
       "    </tr>\n",
       "    <tr>\n",
       "      <th>9</th>\n",
       "      <td>0.115096</td>\n",
       "      <td>0.170817</td>\n",
       "      <td>0.861395</td>\n",
       "      <td>0.899277</td>\n",
       "      <td>-0.076104</td>\n",
       "      <td>-0.391541</td>\n",
       "      <td>-1.000000</td>\n",
       "    </tr>\n",
       "    <tr>\n",
       "      <th>34</th>\n",
       "      <td>0.303236</td>\n",
       "      <td>0.288229</td>\n",
       "      <td>0.742700</td>\n",
       "      <td>0.447769</td>\n",
       "      <td>-1.000000</td>\n",
       "      <td>0.084370</td>\n",
       "      <td>-0.351684</td>\n",
       "    </tr>\n",
       "    <tr>\n",
       "      <th>66</th>\n",
       "      <td>0.361196</td>\n",
       "      <td>0.416059</td>\n",
       "      <td>0.721489</td>\n",
       "      <td>0.425136</td>\n",
       "      <td>0.100814</td>\n",
       "      <td>-0.849220</td>\n",
       "      <td>-0.200265</td>\n",
       "    </tr>\n",
       "    <tr>\n",
       "      <th>78</th>\n",
       "      <td>0.457680</td>\n",
       "      <td>0.548463</td>\n",
       "      <td>0.620521</td>\n",
       "      <td>0.355806</td>\n",
       "      <td>-0.149105</td>\n",
       "      <td>-1.000000</td>\n",
       "      <td>-0.277826</td>\n",
       "    </tr>\n",
       "    <tr>\n",
       "      <th>85</th>\n",
       "      <td>0.684388</td>\n",
       "      <td>0.620823</td>\n",
       "      <td>0.369244</td>\n",
       "      <td>0.281547</td>\n",
       "      <td>-0.305687</td>\n",
       "      <td>0.286514</td>\n",
       "      <td>0.087515</td>\n",
       "    </tr>\n",
       "    <tr>\n",
       "      <th>91</th>\n",
       "      <td>0.880775</td>\n",
       "      <td>0.837138</td>\n",
       "      <td>0.154007</td>\n",
       "      <td>0.098993</td>\n",
       "      <td>-0.299165</td>\n",
       "      <td>-0.331579</td>\n",
       "      <td>0.592416</td>\n",
       "    </tr>\n",
       "    <tr>\n",
       "      <th>99</th>\n",
       "      <td>1.000000</td>\n",
       "      <td>1.000000</td>\n",
       "      <td>0.000000</td>\n",
       "      <td>0.000000</td>\n",
       "      <td>-0.043929</td>\n",
       "      <td>0.031206</td>\n",
       "      <td>0.075385</td>\n",
       "    </tr>\n",
       "  </tbody>\n",
       "</table>\n",
       "</div>"
      ],
      "text/plain": [
       "           A         B         C         D         E         F         G\n",
       "0   0.000000  0.000000  1.000000  1.000000  0.000000  0.000000  0.000000\n",
       "9   0.115096  0.170817  0.861395  0.899277 -0.076104 -0.391541 -1.000000\n",
       "34  0.303236  0.288229  0.742700  0.447769 -1.000000  0.084370 -0.351684\n",
       "66  0.361196  0.416059  0.721489  0.425136  0.100814 -0.849220 -0.200265\n",
       "78  0.457680  0.548463  0.620521  0.355806 -0.149105 -1.000000 -0.277826\n",
       "85  0.684388  0.620823  0.369244  0.281547 -0.305687  0.286514  0.087515\n",
       "91  0.880775  0.837138  0.154007  0.098993 -0.299165 -0.331579  0.592416\n",
       "99  1.000000  1.000000  0.000000  0.000000 -0.043929  0.031206  0.075385"
      ]
     },
     "execution_count": 4,
     "metadata": {},
     "output_type": "execute_result"
    }
   ],
   "source": [
    "# Several types of random numbers, with parameters\n",
    "size = 100\n",
    "a = pak.random_series( size, 'ascending'                    )\n",
    "b = pak.random_series( size, 'ascending'                    )\n",
    "c = pak.random_series( size, 'descending'                   )\n",
    "d = pak.random_series( size, 'descending'                   )\n",
    "e = pak.random_series( size, 'perlin',     freq=2           )\n",
    "f = pak.random_series( size, 'perlin',     freq=[16,1,8,1]  )\n",
    "g = pak.random_series( size, 'perlin',     freq=[4,1,8,128] )\n",
    "\n",
    "df = pak.dataframe( (a,b,c,d,e,f,g), verbose=False )\n",
    "pak.sample(df)"
   ]
  },
  {
   "cell_type": "code",
   "execution_count": 5,
   "id": "a937d047-3b63-4091-9fef-a6ba38b04f20",
   "metadata": {
    "execution": {
     "iopub.execute_input": "2025-03-20T22:10:55.797386Z",
     "iopub.status.busy": "2025-03-20T22:10:55.797386Z",
     "iopub.status.idle": "2025-03-20T22:10:56.430730Z",
     "shell.execute_reply": "2025-03-20T22:10:56.430730Z",
     "shell.execute_reply.started": "2025-03-20T22:10:55.797386Z"
    }
   },
   "outputs": [
    {
     "data": {
      "text/plain": [
       "<Axes: >"
      ]
     },
     "execution_count": 5,
     "metadata": {},
     "output_type": "execute_result"
    },
    {
     "data": {
      "image/png": "[encoded data removed]",
      "text/plain": [
       "<Figure size 1600x400 with 1 Axes>"
      ]
     },
     "metadata": {},
     "output_type": "display_data"
    }
   ],
   "source": [
    "# just plot all together\n",
    "%matplotlib inline\n",
    "pak.plot(df)"
   ]
  },
  {
   "cell_type": "code",
   "execution_count": 6,
   "id": "f4f33ae6-f4cf-4a76-a7b9-7607ac9e06ab",
   "metadata": {
    "execution": {
     "iopub.execute_input": "2025-03-20T22:10:56.431736Z",
     "iopub.status.busy": "2025-03-20T22:10:56.431736Z",
     "iopub.status.idle": "2025-03-20T22:10:56.908921Z",
     "shell.execute_reply": "2025-03-20T22:10:56.908921Z",
     "shell.execute_reply.started": "2025-03-20T22:10:56.431736Z"
    }
   },
   "outputs": [
    {
     "data": {
      "text/plain": [
       "<Axes: xlabel='G'>"
      ]
     },
     "execution_count": 6,
     "metadata": {},
     "output_type": "execute_result"
    },
    {
     "data": {
      "image/png": "[encoded data removed]",
      "text/plain": [
       "<Figure size 1600x300 with 1 Axes>"
      ]
     },
     "metadata": {},
     "output_type": "display_data"
    }
   ],
   "source": [
    "# plot 2 Series, use different y-axis\n",
    "%matplotlib inline\n",
    "pak.plot(df.A, df.G)"
   ]
  },
  {
   "cell_type": "code",
   "execution_count": 7,
   "id": "2b80b619-f306-41d8-b545-3728c559e602",
   "metadata": {
    "execution": {
     "iopub.execute_input": "2025-03-20T22:10:56.909929Z",
     "iopub.status.busy": "2025-03-20T22:10:56.909929Z",
     "iopub.status.idle": "2025-03-20T22:10:57.385913Z",
     "shell.execute_reply": "2025-03-20T22:10:57.385913Z",
     "shell.execute_reply.started": "2025-03-20T22:10:56.909929Z"
    }
   },
   "outputs": [
    {
     "data": {
      "text/plain": [
       "<Axes: >"
      ]
     },
     "execution_count": 7,
     "metadata": {},
     "output_type": "execute_result"
    },
    {
     "data": {
      "image/png": "[encoded data removed]",
      "text/plain": [
       "<Figure size 1600x300 with 1 Axes>"
      ]
     },
     "metadata": {},
     "output_type": "display_data"
    }
   ],
   "source": [
    "# plot E (Perlin) and A (ascending)\n",
    "%matplotlib inline \n",
    "pak.plot(df[list('AE')])"
   ]
  },
  {
   "cell_type": "code",
   "execution_count": 8,
   "id": "2530f3a8-ffd2-429f-975c-b9e7622b1d4e",
   "metadata": {
    "execution": {
     "iopub.execute_input": "2025-03-20T22:10:57.387392Z",
     "iopub.status.busy": "2025-03-20T22:10:57.386919Z",
     "iopub.status.idle": "2025-03-20T22:10:57.850532Z",
     "shell.execute_reply": "2025-03-20T22:10:57.850532Z",
     "shell.execute_reply.started": "2025-03-20T22:10:57.387392Z"
    }
   },
   "outputs": [
    {
     "data": {
      "text/plain": [
       "<Axes: xlabel='A'>"
      ]
     },
     "execution_count": 8,
     "metadata": {},
     "output_type": "execute_result"
    },
    {
     "data": {
      "image/png": "[encoded data removed]",
      "text/plain": [
       "<Figure size 1600x300 with 1 Axes>"
      ]
     },
     "metadata": {},
     "output_type": "display_data"
    }
   ],
   "source": [
    "# plot E using A as x-Axis\n",
    "%matplotlib inline \n",
    "pak.plot(df[list('AE')], x='A')"
   ]
  },
  {
   "cell_type": "markdown",
   "id": "0dab7d17-79d0-445a-aae1-bd9589423675",
   "metadata": {},
   "source": [
    "## specials(): Rows representing all special values per column"
   ]
  },
  {
   "cell_type": "code",
   "execution_count": 9,
   "id": "95583a9e-f176-41c8-a69b-ff9c943d9f23",
   "metadata": {
    "execution": {
     "iopub.execute_input": "2025-03-20T22:10:57.850532Z",
     "iopub.status.busy": "2025-03-20T22:10:57.850532Z",
     "iopub.status.idle": "2025-03-20T22:10:58.309197Z",
     "shell.execute_reply": "2025-03-20T22:10:58.309197Z",
     "shell.execute_reply.started": "2025-03-20T22:10:57.850532Z"
    }
   },
   "outputs": [
    {
     "data": {
      "text/plain": [
       "\u001b[31mSignature:\u001b[39m\n",
       "pak.specials(\n",
       "    df,\n",
       "    find=[\u001b[33m'head'\u001b[39m, \u001b[33m'first'\u001b[39m, \u001b[33m'min'\u001b[39m, \u001b[33m'most'\u001b[39m, \u001b[33m'max'\u001b[39m, \u001b[33m'nan'\u001b[39m, \u001b[33m'last'\u001b[39m, \u001b[33m'tail'\u001b[39m],\n",
       "    indicator=\u001b[38;5;28;01mNone\u001b[39;00m,\n",
       "    sort=\u001b[33m'index'\u001b[39m,\n",
       ")\n",
       "\u001b[31mDocstring:\u001b[39m\n",
       "Returns rows representing all special values per column.\n",
       "The resulting dataframe has the same minimums and maximums per column as the input dataframe, \n",
       "and if a column in the input contains NaNs the result will contain NaNs as well.\n",
       "* find: List of what values are searched. \n",
       "  Possible values: 'head','first','min','most','max','nan','last','tail'\n",
       "* indicator: Show additional column with a note, why the row is in the result\n",
       "\u001b[31mFile:\u001b[39m      d:\\dropbox\\31_projekte\\01_python\\88_pycharm\\pandasklar\\src\\pandasklar\\subsets.py\n",
       "\u001b[31mType:\u001b[39m      function"
      ]
     },
     "metadata": {},
     "output_type": "display_data"
    }
   ],
   "source": [
    "?pak.specials"
   ]
  },
  {
   "cell_type": "code",
   "execution_count": 10,
   "id": "89b18ca9-1a49-49c8-826c-81b092c625cb",
   "metadata": {
    "execution": {
     "iopub.execute_input": "2025-03-20T22:10:58.309197Z",
     "iopub.status.busy": "2025-03-20T22:10:58.309197Z",
     "iopub.status.idle": "2025-03-20T22:11:00.178588Z",
     "shell.execute_reply": "2025-03-20T22:11:00.178588Z",
     "shell.execute_reply.started": "2025-03-20T22:10:58.309197Z"
    }
   },
   "outputs": [],
   "source": [
    "# create test data\n",
    "\n",
    "size = 10000 #00\n",
    "df6 = pak.people(size)\n",
    "df5 = df6.head(int(size/10))\n",
    "df4 = df6.head(int(size/100))\n",
    "df3 = df6.head(int(size/1000))"
   ]
  },
  {
   "cell_type": "code",
   "execution_count": 11,
   "id": "8726a053-9824-495e-9c64-ec0f467fd20d",
   "metadata": {
    "execution": {
     "iopub.execute_input": "2025-03-20T22:11:00.178588Z",
     "iopub.status.busy": "2025-03-20T22:11:00.178588Z",
     "iopub.status.idle": "2025-03-20T22:11:00.682599Z",
     "shell.execute_reply": "2025-03-20T22:11:00.682599Z",
     "shell.execute_reply.started": "2025-03-20T22:11:00.178588Z"
    }
   },
   "outputs": [
    {
     "data": {
      "text/html": [
       "<div>\n",
       "<style scoped>\n",
       "    .dataframe tbody tr th:only-of-type {\n",
       "        vertical-align: middle;\n",
       "    }\n",
       "\n",
       "    .dataframe tbody tr th {\n",
       "        vertical-align: top;\n",
       "    }\n",
       "\n",
       "    .dataframe thead th {\n",
       "        text-align: right;\n",
       "    }\n",
       "</style>\n",
       "<table border=\"1\" class=\"dataframe\">\n",
       "  <thead>\n",
       "    <tr style=\"text-align: right;\">\n",
       "      <th></th>\n",
       "      <th>first_name</th>\n",
       "      <th>age</th>\n",
       "      <th>age_class</th>\n",
       "      <th>postal_code</th>\n",
       "      <th>birthplace</th>\n",
       "      <th>secret</th>\n",
       "      <th>features</th>\n",
       "      <th>history</th>\n",
       "      <th>n</th>\n",
       "    </tr>\n",
       "  </thead>\n",
       "  <tbody>\n",
       "    <tr>\n",
       "      <th>0</th>\n",
       "      <td>Christina</td>\n",
       "      <td>30</td>\n",
       "      <td>30</td>\n",
       "      <td>66312</td>\n",
       "      <td>Bremen</td>\n",
       "      <td>TaJoYO</td>\n",
       "      <td>{r, v}</td>\n",
       "      <td>[c, b, a]</td>\n",
       "      <td>head secret_first postal_code_first first_name...</td>\n",
       "    </tr>\n",
       "    <tr>\n",
       "      <th>25</th>\n",
       "      <td>Sigrid</td>\n",
       "      <td>20</td>\n",
       "      <td>20</td>\n",
       "      <td>&lt;NA&gt;</td>\n",
       "      <td>Bremen</td>\n",
       "      <td>0NC9o54i15</td>\n",
       "      <td>{A, g, k}</td>\n",
       "      <td>[]</td>\n",
       "      <td>postal_code_nan age_min age_class_min age_clas...</td>\n",
       "    </tr>\n",
       "    <tr>\n",
       "      <th>29</th>\n",
       "      <td>Angelika</td>\n",
       "      <td>42</td>\n",
       "      <td>40</td>\n",
       "      <td>77129</td>\n",
       "      <td>Berlin</td>\n",
       "      <td>uBWÄw</td>\n",
       "      <td>{A, N, R, B, K}</td>\n",
       "      <td>[b, b, a, b]</td>\n",
       "      <td>age_max age_class_max birthplace_min birthplac...</td>\n",
       "    </tr>\n",
       "    <tr>\n",
       "      <th>122</th>\n",
       "      <td>Tim</td>\n",
       "      <td>33</td>\n",
       "      <td>30</td>\n",
       "      <td>57076</td>\n",
       "      <td>Berlin</td>\n",
       "      <td>qNwEW</td>\n",
       "      <td>{2, F, Z, Q}</td>\n",
       "      <td>[c, b, a]</td>\n",
       "      <td>first_name_most age_class_first age_class_most...</td>\n",
       "    </tr>\n",
       "    <tr>\n",
       "      <th>244</th>\n",
       "      <td>Adolf</td>\n",
       "      <td>29</td>\n",
       "      <td>20</td>\n",
       "      <td>19023</td>\n",
       "      <td>Bremen</td>\n",
       "      <td>yÄS1UnB</td>\n",
       "      <td>{p, o, V, q}</td>\n",
       "      <td>[A, x]</td>\n",
       "      <td>first_name_min age_class_min age_class_last bi...</td>\n",
       "    </tr>\n",
       "    <tr>\n",
       "      <th>293</th>\n",
       "      <td>Zoe</td>\n",
       "      <td>28</td>\n",
       "      <td>20</td>\n",
       "      <td>22810</td>\n",
       "      <td>Bremen</td>\n",
       "      <td>BYHurI</td>\n",
       "      <td>{E, c, a}</td>\n",
       "      <td>[A, x]</td>\n",
       "      <td>first_name_max age_class_min age_class_last bi...</td>\n",
       "    </tr>\n",
       "    <tr>\n",
       "      <th>1142</th>\n",
       "      <td>Mika</td>\n",
       "      <td>27</td>\n",
       "      <td>20</td>\n",
       "      <td>54068</td>\n",
       "      <td>&lt;NA&gt;</td>\n",
       "      <td>jh1Öhg</td>\n",
       "      <td>{2, E}</td>\n",
       "      <td>[a, b, c]</td>\n",
       "      <td>postal_code_most age_class_min age_class_last ...</td>\n",
       "    </tr>\n",
       "    <tr>\n",
       "      <th>1192</th>\n",
       "      <td>Lilli</td>\n",
       "      <td>37</td>\n",
       "      <td>30</td>\n",
       "      <td>99930</td>\n",
       "      <td>&lt;NA&gt;</td>\n",
       "      <td>iXibIXEn</td>\n",
       "      <td>{y, g, k, Y}</td>\n",
       "      <td>[A, B, C, C]</td>\n",
       "      <td>postal_code_max age_class_first age_class_most...</td>\n",
       "    </tr>\n",
       "    <tr>\n",
       "      <th>1540</th>\n",
       "      <td>Jutta</td>\n",
       "      <td>31</td>\n",
       "      <td>30</td>\n",
       "      <td>28278</td>\n",
       "      <td>Bremen</td>\n",
       "      <td>9xs8i8uH</td>\n",
       "      <td>{}</td>\n",
       "      <td>[a, b, c]</td>\n",
       "      <td>features_min</td>\n",
       "    </tr>\n",
       "    <tr>\n",
       "      <th>1990</th>\n",
       "      <td>Tim</td>\n",
       "      <td>41</td>\n",
       "      <td>40</td>\n",
       "      <td>49695</td>\n",
       "      <td>Berlin</td>\n",
       "      <td>eVü3äjGJ7</td>\n",
       "      <td>{p, h}</td>\n",
       "      <td>[A, B, C]</td>\n",
       "      <td>features_most</td>\n",
       "    </tr>\n",
       "    <tr>\n",
       "      <th>6599</th>\n",
       "      <td>Louis</td>\n",
       "      <td>25</td>\n",
       "      <td>20</td>\n",
       "      <td>10011</td>\n",
       "      <td>Berlin</td>\n",
       "      <td>LLEwYMi</td>\n",
       "      <td>{U, K}</td>\n",
       "      <td>[b, b, a, b]</td>\n",
       "      <td>postal_code_min age_class_min age_class_last b...</td>\n",
       "    </tr>\n",
       "    <tr>\n",
       "      <th>6645</th>\n",
       "      <td>Ulrich</td>\n",
       "      <td>35</td>\n",
       "      <td>30</td>\n",
       "      <td>62365</td>\n",
       "      <td>Berlin</td>\n",
       "      <td>00eWZ</td>\n",
       "      <td>{T, M, K}</td>\n",
       "      <td>[A, x]</td>\n",
       "      <td>secret_min secret_most age_class_first age_cla...</td>\n",
       "    </tr>\n",
       "    <tr>\n",
       "      <th>8281</th>\n",
       "      <td>Heike</td>\n",
       "      <td>28</td>\n",
       "      <td>20</td>\n",
       "      <td>38871</td>\n",
       "      <td>Berlin</td>\n",
       "      <td>üüÖAozE</td>\n",
       "      <td>{1, Z, R, O, P}</td>\n",
       "      <td>[A, B, C]</td>\n",
       "      <td>secret_max age_class_min age_class_last birthp...</td>\n",
       "    </tr>\n",
       "    <tr>\n",
       "      <th>9999</th>\n",
       "      <td>Maike</td>\n",
       "      <td>22</td>\n",
       "      <td>20</td>\n",
       "      <td>12738</td>\n",
       "      <td>&lt;NA&gt;</td>\n",
       "      <td>qUäRIoVE</td>\n",
       "      <td>{F, g, b}</td>\n",
       "      <td>[A, x]</td>\n",
       "      <td>secret_last postal_code_last first_name_last a...</td>\n",
       "    </tr>\n",
       "  </tbody>\n",
       "</table>\n",
       "</div>"
      ],
      "text/plain": [
       "     first_name  age  age_class  postal_code birthplace      secret  \\\n",
       "0     Christina   30         30        66312     Bremen      TaJoYO   \n",
       "25       Sigrid   20         20         <NA>     Bremen  0NC9o54i15   \n",
       "29     Angelika   42         40        77129     Berlin       uBWÄw   \n",
       "122         Tim   33         30        57076     Berlin       qNwEW   \n",
       "244       Adolf   29         20        19023     Bremen     yÄS1UnB   \n",
       "293         Zoe   28         20        22810     Bremen      BYHurI   \n",
       "1142       Mika   27         20        54068       <NA>      jh1Öhg   \n",
       "1192      Lilli   37         30        99930       <NA>    iXibIXEn   \n",
       "1540      Jutta   31         30        28278     Bremen    9xs8i8uH   \n",
       "1990        Tim   41         40        49695     Berlin   eVü3äjGJ7   \n",
       "6599      Louis   25         20        10011     Berlin     LLEwYMi   \n",
       "6645     Ulrich   35         30        62365     Berlin       00eWZ   \n",
       "8281      Heike   28         20        38871     Berlin     üüÖAozE   \n",
       "9999      Maike   22         20        12738       <NA>    qUäRIoVE   \n",
       "\n",
       "             features       history  \\\n",
       "0              {r, v}     [c, b, a]   \n",
       "25          {A, g, k}            []   \n",
       "29    {A, N, R, B, K}  [b, b, a, b]   \n",
       "122      {2, F, Z, Q}     [c, b, a]   \n",
       "244      {p, o, V, q}        [A, x]   \n",
       "293         {E, c, a}        [A, x]   \n",
       "1142           {2, E}     [a, b, c]   \n",
       "1192     {y, g, k, Y}  [A, B, C, C]   \n",
       "1540               {}     [a, b, c]   \n",
       "1990           {p, h}     [A, B, C]   \n",
       "6599           {U, K}  [b, b, a, b]   \n",
       "6645        {T, M, K}        [A, x]   \n",
       "8281  {1, Z, R, O, P}     [A, B, C]   \n",
       "9999        {F, g, b}        [A, x]   \n",
       "\n",
       "                                                      n  \n",
       "0     head secret_first postal_code_first first_name...  \n",
       "25    postal_code_nan age_min age_class_min age_clas...  \n",
       "29    age_max age_class_max birthplace_min birthplac...  \n",
       "122   first_name_most age_class_first age_class_most...  \n",
       "244   first_name_min age_class_min age_class_last bi...  \n",
       "293   first_name_max age_class_min age_class_last bi...  \n",
       "1142  postal_code_most age_class_min age_class_last ...  \n",
       "1192  postal_code_max age_class_first age_class_most...  \n",
       "1540                                       features_min  \n",
       "1990                                      features_most  \n",
       "6599  postal_code_min age_class_min age_class_last b...  \n",
       "6645  secret_min secret_most age_class_first age_cla...  \n",
       "8281  secret_max age_class_min age_class_last birthp...  \n",
       "9999  secret_last postal_code_last first_name_last a...  "
      ]
     },
     "execution_count": 11,
     "metadata": {},
     "output_type": "execute_result"
    }
   ],
   "source": [
    "a = pak.specials(df6, indicator='n')\n",
    "a"
   ]
  },
  {
   "cell_type": "markdown",
   "id": "2bfe90f4-2248-435d-9360-0838e82e722d",
   "metadata": {},
   "source": [
    "## sample(): Returns some sample rows"
   ]
  },
  {
   "cell_type": "code",
   "execution_count": 12,
   "id": "7c9db8af-51b5-4e92-ba45-5870ae41d094",
   "metadata": {
    "execution": {
     "iopub.execute_input": "2025-03-20T22:11:00.682599Z",
     "iopub.status.busy": "2025-03-20T22:11:00.682599Z",
     "iopub.status.idle": "2025-03-20T22:11:01.065903Z",
     "shell.execute_reply": "2025-03-20T22:11:01.065903Z",
     "shell.execute_reply.started": "2025-03-20T22:11:00.682599Z"
    }
   },
   "outputs": [
    {
     "data": {
      "text/plain": [
       "\u001b[31mSignature:\u001b[39m pak.sample(df, size=\u001b[38;5;28;01mNone\u001b[39;00m)\n",
       "\u001b[31mDocstring:\u001b[39m\n",
       "Returns some sample rows.\n",
       "Always the beginning and the end, \n",
       "plus the other specials() --see there--,\n",
       "plus some random rows.\n",
       "* size: Number of rows to return. If size=None, all specials() are returned.\n",
       "\u001b[31mFile:\u001b[39m      d:\\dropbox\\31_projekte\\01_python\\88_pycharm\\pandasklar\\src\\pandasklar\\subsets.py\n",
       "\u001b[31mType:\u001b[39m      function"
      ]
     },
     "metadata": {},
     "output_type": "display_data"
    }
   ],
   "source": [
    "?pak.sample"
   ]
  },
  {
   "cell_type": "code",
   "execution_count": 13,
   "id": "aeae0828-5ee5-4502-8891-b317c58e4d19",
   "metadata": {
    "execution": {
     "iopub.execute_input": "2025-03-20T22:11:01.065903Z",
     "iopub.status.busy": "2025-03-20T22:11:01.065903Z",
     "iopub.status.idle": "2025-03-20T22:11:02.826278Z",
     "shell.execute_reply": "2025-03-20T22:11:02.826278Z",
     "shell.execute_reply.started": "2025-03-20T22:11:01.065903Z"
    }
   },
   "outputs": [],
   "source": [
    "# create test data\n",
    "\n",
    "size = 10000 #00\n",
    "df6 = pak.people(size)\n",
    "df5 = df6.head(int(size/10))\n",
    "df4 = df6.head(int(size/100))\n",
    "df3 = df6.head(int(size/1000))\n",
    "df = df4"
   ]
  },
  {
   "cell_type": "code",
   "execution_count": 14,
   "id": "f6b68492-3c87-48d2-aefb-403fefee4b41",
   "metadata": {
    "execution": {
     "iopub.execute_input": "2025-03-20T22:11:02.826278Z",
     "iopub.status.busy": "2025-03-20T22:11:02.826278Z",
     "iopub.status.idle": "2025-03-20T22:11:03.331643Z",
     "shell.execute_reply": "2025-03-20T22:11:03.331643Z",
     "shell.execute_reply.started": "2025-03-20T22:11:02.826278Z"
    }
   },
   "outputs": [
    {
     "data": {
      "text/html": [
       "<div>\n",
       "<style scoped>\n",
       "    .dataframe tbody tr th:only-of-type {\n",
       "        vertical-align: middle;\n",
       "    }\n",
       "\n",
       "    .dataframe tbody tr th {\n",
       "        vertical-align: top;\n",
       "    }\n",
       "\n",
       "    .dataframe thead th {\n",
       "        text-align: right;\n",
       "    }\n",
       "</style>\n",
       "<table border=\"1\" class=\"dataframe\">\n",
       "  <thead>\n",
       "    <tr style=\"text-align: right;\">\n",
       "      <th></th>\n",
       "      <th>first_name</th>\n",
       "      <th>age</th>\n",
       "      <th>age_class</th>\n",
       "      <th>postal_code</th>\n",
       "      <th>birthplace</th>\n",
       "      <th>secret</th>\n",
       "      <th>features</th>\n",
       "      <th>history</th>\n",
       "    </tr>\n",
       "  </thead>\n",
       "  <tbody>\n",
       "    <tr>\n",
       "      <th>0</th>\n",
       "      <td>Ernst</td>\n",
       "      <td>36</td>\n",
       "      <td>30</td>\n",
       "      <td>71236</td>\n",
       "      <td>&lt;NA&gt;</td>\n",
       "      <td>IäsNdr</td>\n",
       "      <td>{f, m, P, v}</td>\n",
       "      <td>[A, A, A]</td>\n",
       "    </tr>\n",
       "    <tr>\n",
       "      <th>1</th>\n",
       "      <td>Annette</td>\n",
       "      <td>23</td>\n",
       "      <td>20</td>\n",
       "      <td>52287</td>\n",
       "      <td>Berlin</td>\n",
       "      <td>nMJv7</td>\n",
       "      <td>{G, e, p, U, f}</td>\n",
       "      <td>[A, C, C, B]</td>\n",
       "    </tr>\n",
       "    <tr>\n",
       "      <th>20</th>\n",
       "      <td>Berndt</td>\n",
       "      <td>30</td>\n",
       "      <td>30</td>\n",
       "      <td>&lt;NA&gt;</td>\n",
       "      <td>Bremen</td>\n",
       "      <td>IeNqASDi</td>\n",
       "      <td>{T, R, P, x, J}</td>\n",
       "      <td>[]</td>\n",
       "    </tr>\n",
       "    <tr>\n",
       "      <th>44</th>\n",
       "      <td>Janina</td>\n",
       "      <td>20</td>\n",
       "      <td>20</td>\n",
       "      <td>94630</td>\n",
       "      <td>Bremen</td>\n",
       "      <td>iI5cJmE</td>\n",
       "      <td>{p, e}</td>\n",
       "      <td>[A, C, C, B]</td>\n",
       "    </tr>\n",
       "    <tr>\n",
       "      <th>64</th>\n",
       "      <td>Adolf</td>\n",
       "      <td>32</td>\n",
       "      <td>30</td>\n",
       "      <td>37970</td>\n",
       "      <td>Bremen</td>\n",
       "      <td>USök1uA</td>\n",
       "      <td>{d, Q, 5, r}</td>\n",
       "      <td>[c, b, a]</td>\n",
       "    </tr>\n",
       "    <tr>\n",
       "      <th>79</th>\n",
       "      <td>Claus</td>\n",
       "      <td>42</td>\n",
       "      <td>40</td>\n",
       "      <td>71950</td>\n",
       "      <td>Bremen</td>\n",
       "      <td>CaFr6YzzWa</td>\n",
       "      <td>{X, a}</td>\n",
       "      <td>[A, B, C]</td>\n",
       "    </tr>\n",
       "    <tr>\n",
       "      <th>143</th>\n",
       "      <td>Zoe</td>\n",
       "      <td>23</td>\n",
       "      <td>20</td>\n",
       "      <td>17949</td>\n",
       "      <td>Bremen</td>\n",
       "      <td>ü5FüzPXzfZ</td>\n",
       "      <td>{I, f, o, x}</td>\n",
       "      <td>[A, B, C, C]</td>\n",
       "    </tr>\n",
       "    <tr>\n",
       "      <th>335</th>\n",
       "      <td>Jana</td>\n",
       "      <td>27</td>\n",
       "      <td>20</td>\n",
       "      <td>85967</td>\n",
       "      <td>&lt;NA&gt;</td>\n",
       "      <td>8RSQou5</td>\n",
       "      <td>{N, L, V, c, x}</td>\n",
       "      <td>[c, b, a]</td>\n",
       "    </tr>\n",
       "    <tr>\n",
       "      <th>492</th>\n",
       "      <td>Rudolf</td>\n",
       "      <td>29</td>\n",
       "      <td>20</td>\n",
       "      <td>31776</td>\n",
       "      <td>&lt;NA&gt;</td>\n",
       "      <td>Vn1xVu</td>\n",
       "      <td>{}</td>\n",
       "      <td>[b, b, a, b]</td>\n",
       "    </tr>\n",
       "    <tr>\n",
       "      <th>1438</th>\n",
       "      <td>Stephan</td>\n",
       "      <td>34</td>\n",
       "      <td>30</td>\n",
       "      <td>82372</td>\n",
       "      <td>&lt;NA&gt;</td>\n",
       "      <td>jälNwi</td>\n",
       "      <td>{T, l}</td>\n",
       "      <td>[A, B, C]</td>\n",
       "    </tr>\n",
       "    <tr>\n",
       "      <th>2219</th>\n",
       "      <td>Miriam</td>\n",
       "      <td>21</td>\n",
       "      <td>20</td>\n",
       "      <td>43588</td>\n",
       "      <td>Bremen</td>\n",
       "      <td>üüioDd</td>\n",
       "      <td>{F, l}</td>\n",
       "      <td>[b, b, a, b]</td>\n",
       "    </tr>\n",
       "    <tr>\n",
       "      <th>2530</th>\n",
       "      <td>Willi</td>\n",
       "      <td>31</td>\n",
       "      <td>30</td>\n",
       "      <td>99990</td>\n",
       "      <td>&lt;NA&gt;</td>\n",
       "      <td>08PB1äQ</td>\n",
       "      <td>{m, d, k}</td>\n",
       "      <td>[A, A, A]</td>\n",
       "    </tr>\n",
       "    <tr>\n",
       "      <th>5444</th>\n",
       "      <td>Nathalie</td>\n",
       "      <td>36</td>\n",
       "      <td>30</td>\n",
       "      <td>10024</td>\n",
       "      <td>Bremen</td>\n",
       "      <td>äLIvI</td>\n",
       "      <td>{C, U, 3, v, z}</td>\n",
       "      <td>[A, A, A]</td>\n",
       "    </tr>\n",
       "    <tr>\n",
       "      <th>8271</th>\n",
       "      <td>Jannis</td>\n",
       "      <td>28</td>\n",
       "      <td>20</td>\n",
       "      <td>16548</td>\n",
       "      <td>&lt;NA&gt;</td>\n",
       "      <td>00RH4Tiuul</td>\n",
       "      <td>{u, w, 4, v}</td>\n",
       "      <td>[]</td>\n",
       "    </tr>\n",
       "    <tr>\n",
       "      <th>9999</th>\n",
       "      <td>Anja</td>\n",
       "      <td>34</td>\n",
       "      <td>30</td>\n",
       "      <td>80478</td>\n",
       "      <td>&lt;NA&gt;</td>\n",
       "      <td>7UUsSaTU</td>\n",
       "      <td>{B, 1, v}</td>\n",
       "      <td>[A, B, C, C]</td>\n",
       "    </tr>\n",
       "  </tbody>\n",
       "</table>\n",
       "</div>"
      ],
      "text/plain": [
       "     first_name  age  age_class  postal_code birthplace      secret  \\\n",
       "0         Ernst   36         30        71236       <NA>      IäsNdr   \n",
       "1       Annette   23         20        52287     Berlin       nMJv7   \n",
       "20       Berndt   30         30         <NA>     Bremen    IeNqASDi   \n",
       "44       Janina   20         20        94630     Bremen     iI5cJmE   \n",
       "64        Adolf   32         30        37970     Bremen     USök1uA   \n",
       "79        Claus   42         40        71950     Bremen  CaFr6YzzWa   \n",
       "143         Zoe   23         20        17949     Bremen  ü5FüzPXzfZ   \n",
       "335        Jana   27         20        85967       <NA>     8RSQou5   \n",
       "492      Rudolf   29         20        31776       <NA>      Vn1xVu   \n",
       "1438    Stephan   34         30        82372       <NA>      jälNwi   \n",
       "2219     Miriam   21         20        43588     Bremen      üüioDd   \n",
       "2530      Willi   31         30        99990       <NA>     08PB1äQ   \n",
       "5444   Nathalie   36         30        10024     Bremen       äLIvI   \n",
       "8271     Jannis   28         20        16548       <NA>  00RH4Tiuul   \n",
       "9999       Anja   34         30        80478       <NA>    7UUsSaTU   \n",
       "\n",
       "             features       history  \n",
       "0        {f, m, P, v}     [A, A, A]  \n",
       "1     {G, e, p, U, f}  [A, C, C, B]  \n",
       "20    {T, R, P, x, J}            []  \n",
       "44             {p, e}  [A, C, C, B]  \n",
       "64       {d, Q, 5, r}     [c, b, a]  \n",
       "79             {X, a}     [A, B, C]  \n",
       "143      {I, f, o, x}  [A, B, C, C]  \n",
       "335   {N, L, V, c, x}     [c, b, a]  \n",
       "492                {}  [b, b, a, b]  \n",
       "1438           {T, l}     [A, B, C]  \n",
       "2219           {F, l}  [b, b, a, b]  \n",
       "2530        {m, d, k}     [A, A, A]  \n",
       "5444  {C, U, 3, v, z}     [A, A, A]  \n",
       "8271     {u, w, 4, v}            []  \n",
       "9999        {B, 1, v}  [A, B, C, C]  "
      ]
     },
     "execution_count": 14,
     "metadata": {},
     "output_type": "execute_result"
    }
   ],
   "source": [
    "pak.sample(df6,15)"
   ]
  },
  {
   "cell_type": "code",
   "execution_count": 15,
   "id": "ac4607a1-25cc-48c2-bb15-9be343357436",
   "metadata": {
    "execution": {
     "iopub.execute_input": "2025-03-20T22:11:03.331643Z",
     "iopub.status.busy": "2025-03-20T22:11:03.331643Z",
     "iopub.status.idle": "2025-03-20T22:11:03.685694Z",
     "shell.execute_reply": "2025-03-20T22:11:03.685694Z",
     "shell.execute_reply.started": "2025-03-20T22:11:03.331643Z"
    }
   },
   "outputs": [
    {
     "data": {
      "text/html": [
       "<div>\n",
       "<style scoped>\n",
       "    .dataframe tbody tr th:only-of-type {\n",
       "        vertical-align: middle;\n",
       "    }\n",
       "\n",
       "    .dataframe tbody tr th {\n",
       "        vertical-align: top;\n",
       "    }\n",
       "\n",
       "    .dataframe thead th {\n",
       "        text-align: right;\n",
       "    }\n",
       "</style>\n",
       "<table border=\"1\" class=\"dataframe\">\n",
       "  <thead>\n",
       "    <tr style=\"text-align: right;\">\n",
       "      <th></th>\n",
       "      <th>first_name</th>\n",
       "      <th>age</th>\n",
       "      <th>age_class</th>\n",
       "      <th>postal_code</th>\n",
       "      <th>birthplace</th>\n",
       "      <th>secret</th>\n",
       "      <th>features</th>\n",
       "      <th>history</th>\n",
       "    </tr>\n",
       "  </thead>\n",
       "  <tbody>\n",
       "    <tr>\n",
       "      <th>0</th>\n",
       "      <td>Ernst</td>\n",
       "      <td>36</td>\n",
       "      <td>30</td>\n",
       "      <td>71236</td>\n",
       "      <td>&lt;NA&gt;</td>\n",
       "      <td>IäsNdr</td>\n",
       "      <td>{f, m, P, v}</td>\n",
       "      <td>[A, A, A]</td>\n",
       "    </tr>\n",
       "    <tr>\n",
       "      <th>1</th>\n",
       "      <td>Annette</td>\n",
       "      <td>23</td>\n",
       "      <td>20</td>\n",
       "      <td>52287</td>\n",
       "      <td>Berlin</td>\n",
       "      <td>nMJv7</td>\n",
       "      <td>{G, e, p, U, f}</td>\n",
       "      <td>[A, C, C, B]</td>\n",
       "    </tr>\n",
       "    <tr>\n",
       "      <th>2</th>\n",
       "      <td>Anna</td>\n",
       "      <td>30</td>\n",
       "      <td>30</td>\n",
       "      <td>12106</td>\n",
       "      <td>&lt;NA&gt;</td>\n",
       "      <td>VüL7sÄüDiP</td>\n",
       "      <td>{G, n, 3, F, E}</td>\n",
       "      <td>[]</td>\n",
       "    </tr>\n",
       "    <tr>\n",
       "      <th>3</th>\n",
       "      <td>Heinz</td>\n",
       "      <td>30</td>\n",
       "      <td>30</td>\n",
       "      <td>84999</td>\n",
       "      <td>Berlin</td>\n",
       "      <td>iaOCXZ2Öe</td>\n",
       "      <td>{y, R, v}</td>\n",
       "      <td>[c, b, a]</td>\n",
       "    </tr>\n",
       "    <tr>\n",
       "      <th>4</th>\n",
       "      <td>Meik</td>\n",
       "      <td>29</td>\n",
       "      <td>20</td>\n",
       "      <td>48702</td>\n",
       "      <td>&lt;NA&gt;</td>\n",
       "      <td>o4üB5älw</td>\n",
       "      <td>{i, z, K}</td>\n",
       "      <td>[A, B, C, C]</td>\n",
       "    </tr>\n",
       "    <tr>\n",
       "      <th>5</th>\n",
       "      <td>Vivien</td>\n",
       "      <td>34</td>\n",
       "      <td>30</td>\n",
       "      <td>53757</td>\n",
       "      <td>Berlin</td>\n",
       "      <td>bbÜadz4</td>\n",
       "      <td>{L, k, l, d, U}</td>\n",
       "      <td>[A, B, C]</td>\n",
       "    </tr>\n",
       "    <tr>\n",
       "      <th>6</th>\n",
       "      <td>Edith</td>\n",
       "      <td>35</td>\n",
       "      <td>30</td>\n",
       "      <td>99722</td>\n",
       "      <td>&lt;NA&gt;</td>\n",
       "      <td>özUZ7v</td>\n",
       "      <td>{R, H, G}</td>\n",
       "      <td>[A, x]</td>\n",
       "    </tr>\n",
       "    <tr>\n",
       "      <th>7</th>\n",
       "      <td>Celine</td>\n",
       "      <td>27</td>\n",
       "      <td>20</td>\n",
       "      <td>47104</td>\n",
       "      <td>Bremen</td>\n",
       "      <td>öo43röP</td>\n",
       "      <td>{V, Z, w, a, f}</td>\n",
       "      <td>[a, b, c]</td>\n",
       "    </tr>\n",
       "    <tr>\n",
       "      <th>8</th>\n",
       "      <td>Sophie</td>\n",
       "      <td>30</td>\n",
       "      <td>30</td>\n",
       "      <td>94574</td>\n",
       "      <td>Bremen</td>\n",
       "      <td>xYh9Bo</td>\n",
       "      <td>{Q, 5, Y}</td>\n",
       "      <td>[b, b, a, b]</td>\n",
       "    </tr>\n",
       "    <tr>\n",
       "      <th>9</th>\n",
       "      <td>Heidi</td>\n",
       "      <td>35</td>\n",
       "      <td>30</td>\n",
       "      <td>70290</td>\n",
       "      <td>Berlin</td>\n",
       "      <td>HZamIj</td>\n",
       "      <td>{z, Z, s, G}</td>\n",
       "      <td>[A, A, A]</td>\n",
       "    </tr>\n",
       "  </tbody>\n",
       "</table>\n",
       "</div>"
      ],
      "text/plain": [
       "  first_name  age  age_class  postal_code birthplace      secret  \\\n",
       "0      Ernst   36         30        71236       <NA>      IäsNdr   \n",
       "1    Annette   23         20        52287     Berlin       nMJv7   \n",
       "2       Anna   30         30        12106       <NA>  VüL7sÄüDiP   \n",
       "3      Heinz   30         30        84999     Berlin   iaOCXZ2Öe   \n",
       "4       Meik   29         20        48702       <NA>    o4üB5älw   \n",
       "5     Vivien   34         30        53757     Berlin     bbÜadz4   \n",
       "6      Edith   35         30        99722       <NA>      özUZ7v   \n",
       "7     Celine   27         20        47104     Bremen     öo43röP   \n",
       "8     Sophie   30         30        94574     Bremen      xYh9Bo   \n",
       "9      Heidi   35         30        70290     Berlin      HZamIj   \n",
       "\n",
       "          features       history  \n",
       "0     {f, m, P, v}     [A, A, A]  \n",
       "1  {G, e, p, U, f}  [A, C, C, B]  \n",
       "2  {G, n, 3, F, E}            []  \n",
       "3        {y, R, v}     [c, b, a]  \n",
       "4        {i, z, K}  [A, B, C, C]  \n",
       "5  {L, k, l, d, U}     [A, B, C]  \n",
       "6        {R, H, G}        [A, x]  \n",
       "7  {V, Z, w, a, f}     [a, b, c]  \n",
       "8        {Q, 5, Y}  [b, b, a, b]  \n",
       "9     {z, Z, s, G}     [A, A, A]  "
      ]
     },
     "execution_count": 15,
     "metadata": {},
     "output_type": "execute_result"
    }
   ],
   "source": [
    "pak.sample(df3,1005)"
   ]
  },
  {
   "cell_type": "markdown",
   "id": "f040f24c-3987-475a-b82b-17580ba69824",
   "metadata": {},
   "source": [
    "## search_str(): Searches all str columns of a dataframe"
   ]
  },
  {
   "cell_type": "code",
   "execution_count": 16,
   "id": "fdb683bd-684b-45c2-95a0-d624eba48b00",
   "metadata": {
    "execution": {
     "iopub.execute_input": "2025-03-20T22:11:03.685694Z",
     "iopub.status.busy": "2025-03-20T22:11:03.685694Z",
     "iopub.status.idle": "2025-03-20T22:11:04.065075Z",
     "shell.execute_reply": "2025-03-20T22:11:04.065075Z",
     "shell.execute_reply.started": "2025-03-20T22:11:03.685694Z"
    }
   },
   "outputs": [
    {
     "data": {
      "text/plain": [
       "\u001b[31mSignature:\u001b[39m pak.search_str(df, find, without=[])\n",
       "\u001b[31mDocstring:\u001b[39m\n",
       "Searches all str columns of a dataframe.\n",
       "Useful for development and debugging.\n",
       "* find:    What is to be found?                  String or list of strings.\n",
       "* without: Which columns should not be searched? String or list of strings.    \n",
       "\u001b[31mFile:\u001b[39m      d:\\dropbox\\31_projekte\\01_python\\88_pycharm\\pandasklar\\src\\pandasklar\\develop.py\n",
       "\u001b[31mType:\u001b[39m      function"
      ]
     },
     "metadata": {},
     "output_type": "display_data"
    }
   ],
   "source": [
    "?pak.search_str"
   ]
  },
  {
   "cell_type": "code",
   "execution_count": 17,
   "id": "d9b1c748-51ef-4dc2-b9fe-20e46ef48c16",
   "metadata": {
    "execution": {
     "iopub.execute_input": "2025-03-20T22:11:04.066081Z",
     "iopub.status.busy": "2025-03-20T22:11:04.066081Z",
     "iopub.status.idle": "2025-03-20T22:11:04.428172Z",
     "shell.execute_reply": "2025-03-20T22:11:04.428172Z",
     "shell.execute_reply.started": "2025-03-20T22:11:04.066081Z"
    }
   },
   "outputs": [
    {
     "name": "stdout",
     "output_type": "stream",
     "text": [
      "search for ['Hamburg', 'Adolf']\n"
     ]
    }
   ],
   "source": [
    "# create mask: most frequent first_name\n",
    "find = ['Hamburg', pak.most_freq_elt(df.first_name)]\n",
    "print('search for',find)"
   ]
  },
  {
   "cell_type": "code",
   "execution_count": 18,
   "id": "264cbe92-9224-4014-bfbc-a5fd24fe9444",
   "metadata": {
    "execution": {
     "iopub.execute_input": "2025-03-20T22:11:04.428172Z",
     "iopub.status.busy": "2025-03-20T22:11:04.428172Z",
     "iopub.status.idle": "2025-03-20T22:11:04.791333Z",
     "shell.execute_reply": "2025-03-20T22:11:04.791333Z",
     "shell.execute_reply.started": "2025-03-20T22:11:04.428172Z"
    },
    "tags": []
   },
   "outputs": [
    {
     "data": {
      "text/html": [
       "<div>\n",
       "<style scoped>\n",
       "    .dataframe tbody tr th:only-of-type {\n",
       "        vertical-align: middle;\n",
       "    }\n",
       "\n",
       "    .dataframe tbody tr th {\n",
       "        vertical-align: top;\n",
       "    }\n",
       "\n",
       "    .dataframe thead th {\n",
       "        text-align: right;\n",
       "    }\n",
       "</style>\n",
       "<table border=\"1\" class=\"dataframe\">\n",
       "  <thead>\n",
       "    <tr style=\"text-align: right;\">\n",
       "      <th></th>\n",
       "      <th>first_name</th>\n",
       "      <th>age</th>\n",
       "      <th>age_class</th>\n",
       "      <th>postal_code</th>\n",
       "      <th>birthplace</th>\n",
       "      <th>secret</th>\n",
       "      <th>features</th>\n",
       "      <th>history</th>\n",
       "    </tr>\n",
       "  </thead>\n",
       "  <tbody>\n",
       "    <tr>\n",
       "      <th>64</th>\n",
       "      <td>Adolf</td>\n",
       "      <td>32</td>\n",
       "      <td>30</td>\n",
       "      <td>37970</td>\n",
       "      <td>Bremen</td>\n",
       "      <td>USök1uA</td>\n",
       "      <td>{d, Q, 5, r}</td>\n",
       "      <td>[c, b, a]</td>\n",
       "    </tr>\n",
       "  </tbody>\n",
       "</table>\n",
       "</div>"
      ],
      "text/plain": [
       "   first_name  age  age_class  postal_code birthplace   secret      features  \\\n",
       "64      Adolf   32         30        37970     Bremen  USök1uA  {d, Q, 5, r}   \n",
       "\n",
       "      history  \n",
       "64  [c, b, a]  "
      ]
     },
     "execution_count": 18,
     "metadata": {},
     "output_type": "execute_result"
    }
   ],
   "source": [
    "pak.search_str(df, find)"
   ]
  },
  {
   "cell_type": "markdown",
   "id": "fa5d1418-e8c2-4708-8068-ac6b08686af2",
   "metadata": {},
   "source": [
    "## check_mask(): Count rows filtered by a binary mask"
   ]
  },
  {
   "cell_type": "code",
   "execution_count": 19,
   "id": "f73b996b-70f7-4d47-a5c2-448d339f28ec",
   "metadata": {
    "execution": {
     "iopub.execute_input": "2025-03-20T22:11:04.791333Z",
     "iopub.status.busy": "2025-03-20T22:11:04.791333Z",
     "iopub.status.idle": "2025-03-20T22:11:05.204149Z",
     "shell.execute_reply": "2025-03-20T22:11:05.204149Z",
     "shell.execute_reply.started": "2025-03-20T22:11:04.791333Z"
    }
   },
   "outputs": [
    {
     "data": {
      "text/plain": [
       "\u001b[31mSignature:\u001b[39m\n",
       "pak.check_mask(\n",
       "    df,\n",
       "    mask,\n",
       "    expectation_min=\u001b[38;5;28;01mNone\u001b[39;00m,\n",
       "    expectation_max=\u001b[38;5;28;01mNone\u001b[39;00m,\n",
       "    msg=\u001b[33m''\u001b[39m,\n",
       "    stop=\u001b[38;5;28;01mTrue\u001b[39;00m,\n",
       "    manually=\u001b[38;5;28;01mFalse\u001b[39;00m,\n",
       "    verbose=\u001b[38;5;28;01mNone\u001b[39;00m,\n",
       ")\n",
       "\u001b[31mDocstring:\u001b[39m\n",
       "Count rows filtered by a binary mask.\n",
       "Raises an error, if the number is unexpected.\n",
       "* manually:    For debugging: If you just want to see the effect of a mask, without raising anything, add manually=True.\n",
       "\n",
       "Examples:\n",
       "==========\n",
       "check_mask( df, mask )         # just show the number of rows   \n",
       "check_mask( df, mask, 2000 )   # checks for about 2000 rows (if not 0: not more than double, not less than half)\n",
       "check_mask( df, mask, 0 )      # checks for exactly 0 rows    \n",
       "check_mask( df, mask, 10, 50)  # checks for 10..50 rows\n",
       "\n",
       "Example with later raise:\n",
       "=========================\n",
       "error = check_mask(df, mask, 214, stop=False)        \n",
       "grid(df, mask, error)        \n",
       "bpy.raise_if(error)\n",
       "\u001b[31mFile:\u001b[39m      d:\\dropbox\\31_projekte\\01_python\\88_pycharm\\pandasklar\\src\\pandasklar\\develop.py\n",
       "\u001b[31mType:\u001b[39m      function"
      ]
     },
     "metadata": {},
     "output_type": "display_data"
    }
   ],
   "source": [
    "?pak.check_mask"
   ]
  },
  {
   "cell_type": "code",
   "execution_count": 20,
   "id": "4b47a9d4-233e-4d1f-88e0-d10621612f8b",
   "metadata": {
    "execution": {
     "iopub.execute_input": "2025-03-20T22:11:05.204149Z",
     "iopub.status.busy": "2025-03-20T22:11:05.204149Z",
     "iopub.status.idle": "2025-03-20T22:11:05.561182Z",
     "shell.execute_reply": "2025-03-20T22:11:05.561182Z",
     "shell.execute_reply.started": "2025-03-20T22:11:05.204149Z"
    }
   },
   "outputs": [],
   "source": [
    "# define mask\n",
    "mask = (df.age >= 30)  &  (df.age < 40) \n",
    "#df[mask]"
   ]
  },
  {
   "cell_type": "code",
   "execution_count": 21,
   "id": "a85e05a5-1a4c-4aa7-8182-f843ec7a9324",
   "metadata": {
    "execution": {
     "iopub.execute_input": "2025-03-20T22:11:05.561182Z",
     "iopub.status.busy": "2025-03-20T22:11:05.561182Z",
     "iopub.status.idle": "2025-03-20T22:11:05.917269Z",
     "shell.execute_reply": "2025-03-20T22:11:05.917269Z",
     "shell.execute_reply.started": "2025-03-20T22:11:05.561182Z"
    }
   },
   "outputs": [
    {
     "name": "stdout",
     "output_type": "stream",
     "text": [
      "check_mask:  51 rows\n"
     ]
    }
   ],
   "source": [
    "# just show the number of rows\n",
    "pak.check_mask(df, mask)"
   ]
  },
  {
   "cell_type": "code",
   "execution_count": 22,
   "id": "e4514535-4bbf-422c-b8a9-a1e90c3cd016",
   "metadata": {
    "execution": {
     "iopub.execute_input": "2025-03-20T22:11:05.917269Z",
     "iopub.status.busy": "2025-03-20T22:11:05.917269Z",
     "iopub.status.idle": "2025-03-20T22:11:06.268778Z",
     "shell.execute_reply": "2025-03-20T22:11:06.268778Z",
     "shell.execute_reply.started": "2025-03-20T22:11:05.917269Z"
    }
   },
   "outputs": [
    {
     "name": "stdout",
     "output_type": "stream",
     "text": [
      "check_mask:  51 rows\n"
     ]
    }
   ],
   "source": [
    "# checks for about 50 rows\n",
    "pak.check_mask(df, mask, 50)"
   ]
  },
  {
   "cell_type": "code",
   "execution_count": 23,
   "id": "d8ff4ab8-331c-4778-b9c2-a8033775373e",
   "metadata": {
    "execution": {
     "iopub.execute_input": "2025-03-20T22:11:06.268778Z",
     "iopub.status.busy": "2025-03-20T22:11:06.268778Z",
     "iopub.status.idle": "2025-03-20T22:11:06.624308Z",
     "shell.execute_reply": "2025-03-20T22:11:06.624308Z",
     "shell.execute_reply.started": "2025-03-20T22:11:06.268778Z"
    }
   },
   "outputs": [
    {
     "name": "stdout",
     "output_type": "stream",
     "text": [
      "check_mask:  51 rows\n"
     ]
    }
   ],
   "source": [
    "# checks for about 50 rows\n",
    "pak.check_mask(df, mask, 50, verbose=True)"
   ]
  },
  {
   "cell_type": "code",
   "execution_count": 24,
   "id": "9cfe4010-bda6-4f23-a0d6-79cb22b4251c",
   "metadata": {
    "execution": {
     "iopub.execute_input": "2025-03-20T22:11:06.624308Z",
     "iopub.status.busy": "2025-03-20T22:11:06.624308Z",
     "iopub.status.idle": "2025-03-20T22:11:06.980507Z",
     "shell.execute_reply": "2025-03-20T22:11:06.980507Z",
     "shell.execute_reply.started": "2025-03-20T22:11:06.624308Z"
    }
   },
   "outputs": [
    {
     "name": "stdout",
     "output_type": "stream",
     "text": [
      "check_mask:  51 rows\n"
     ]
    }
   ],
   "source": [
    "# checks for 0..100 rows\n",
    "pak.check_mask(df, mask, 0, 100)"
   ]
  },
  {
   "cell_type": "markdown",
   "id": "b7688157",
   "metadata": {},
   "source": [
    "## grid(): Visualize with dtale"
   ]
  },
  {
   "cell_type": "code",
   "execution_count": 25,
   "id": "6be4b7ef-6225-4f2a-b214-a792ecbbc4a1",
   "metadata": {
    "execution": {
     "iopub.execute_input": "2025-03-20T22:11:06.980507Z",
     "iopub.status.busy": "2025-03-20T22:11:06.980507Z",
     "iopub.status.idle": "2025-03-20T22:11:07.390237Z",
     "shell.execute_reply": "2025-03-20T22:11:07.390237Z",
     "shell.execute_reply.started": "2025-03-20T22:11:06.980507Z"
    }
   },
   "outputs": [
    {
     "data": {
      "text/plain": [
       "\u001b[31mSignature:\u001b[39m\n",
       "grid(\n",
       "    df,\n",
       "    mask=\u001b[38;5;28;01mNone\u001b[39;00m,\n",
       "    error=\u001b[33m'€€€'\u001b[39m,\n",
       "    color=\u001b[33m'blue'\u001b[39m,\n",
       "    backend=\u001b[38;5;28;01mNone\u001b[39;00m,\n",
       "    without=\u001b[38;5;28;01mNone\u001b[39;00m,\n",
       "    **kwargs,\n",
       ")\n",
       "\u001b[31mDocstring:\u001b[39m\n",
       "Visualization of a DataFrame using dtale.\n",
       "* df:       DataFrame to show\n",
       "* mask:     Binary mask, function or Searchstring to reduce the number of rows\n",
       "* error:    Error message\n",
       "* color:    Color of the error message.\n",
       "* backend:  'dtale' or None for dTale\n",
       "* without:  Columns to ignore\n",
       "* kwargs: Options for dtale. See https://github.com/man-group/dtale#instance-settings\n",
       "          Caution: This will affect all grids in this notebook...\n",
       "dtale may not work in a multiscreen setting on windows.\n",
       "\n",
       "=== Examples ===\n",
       "grid(df)                        # show all rows\n",
       "grid(df,mask)                   # show with binary mask    \n",
       "grid(df,sample)                 # show with functionally mask\n",
       "\n",
       "=== For error indication after check_mask ===\n",
       "error = check_mask(df, mask, 900, stop=False)\n",
       "grid(df, mask, error) \n",
       "and later: raise_if(error)\n",
       "\u001b[31mFile:\u001b[39m      d:\\dropbox\\31_projekte\\01_python\\88_pycharm\\pandasklar\\src\\pandasklar\\develop.py\n",
       "\u001b[31mType:\u001b[39m      function"
      ]
     },
     "metadata": {},
     "output_type": "display_data"
    }
   ],
   "source": [
    "?grid"
   ]
  },
  {
   "cell_type": "code",
   "execution_count": 26,
   "id": "c6cb3af4-4aa1-47fa-8a47-1fad8ee88e32",
   "metadata": {
    "execution": {
     "iopub.execute_input": "2025-03-20T22:11:07.390237Z",
     "iopub.status.busy": "2025-03-20T22:11:07.390237Z",
     "iopub.status.idle": "2025-03-20T22:11:07.746994Z",
     "shell.execute_reply": "2025-03-20T22:11:07.746994Z",
     "shell.execute_reply.started": "2025-03-20T22:11:07.390237Z"
    }
   },
   "outputs": [
    {
     "name": "stdout",
     "output_type": "stream",
     "text": [
      "100 rows\n"
     ]
    },
    {
     "data": {
      "text/html": [
       "<div>\n",
       "<style scoped>\n",
       "    .dataframe tbody tr th:only-of-type {\n",
       "        vertical-align: middle;\n",
       "    }\n",
       "\n",
       "    .dataframe tbody tr th {\n",
       "        vertical-align: top;\n",
       "    }\n",
       "\n",
       "    .dataframe thead th {\n",
       "        text-align: right;\n",
       "    }\n",
       "</style>\n",
       "<table border=\"1\" class=\"dataframe\">\n",
       "  <thead>\n",
       "    <tr style=\"text-align: right;\">\n",
       "      <th></th>\n",
       "      <th>first_name</th>\n",
       "      <th>age</th>\n",
       "      <th>age_class</th>\n",
       "      <th>postal_code</th>\n",
       "      <th>birthplace</th>\n",
       "      <th>secret</th>\n",
       "      <th>features</th>\n",
       "      <th>history</th>\n",
       "    </tr>\n",
       "  </thead>\n",
       "  <tbody>\n",
       "    <tr>\n",
       "      <th>0</th>\n",
       "      <td>Ernst</td>\n",
       "      <td>36</td>\n",
       "      <td>30</td>\n",
       "      <td>71236</td>\n",
       "      <td>&lt;NA&gt;</td>\n",
       "      <td>IäsNdr</td>\n",
       "      <td>{f, m, P, v}</td>\n",
       "      <td>[A, A, A]</td>\n",
       "    </tr>\n",
       "    <tr>\n",
       "      <th>1</th>\n",
       "      <td>Annette</td>\n",
       "      <td>23</td>\n",
       "      <td>20</td>\n",
       "      <td>52287</td>\n",
       "      <td>Berlin</td>\n",
       "      <td>nMJv7</td>\n",
       "      <td>{G, e, p, U, f}</td>\n",
       "      <td>[A, C, C, B]</td>\n",
       "    </tr>\n",
       "    <tr>\n",
       "      <th>2</th>\n",
       "      <td>Anna</td>\n",
       "      <td>30</td>\n",
       "      <td>30</td>\n",
       "      <td>12106</td>\n",
       "      <td>&lt;NA&gt;</td>\n",
       "      <td>VüL7sÄüDiP</td>\n",
       "      <td>{G, n, 3, F, E}</td>\n",
       "      <td>[]</td>\n",
       "    </tr>\n",
       "    <tr>\n",
       "      <th>3</th>\n",
       "      <td>Heinz</td>\n",
       "      <td>30</td>\n",
       "      <td>30</td>\n",
       "      <td>84999</td>\n",
       "      <td>Berlin</td>\n",
       "      <td>iaOCXZ2Öe</td>\n",
       "      <td>{y, R, v}</td>\n",
       "      <td>[c, b, a]</td>\n",
       "    </tr>\n",
       "    <tr>\n",
       "      <th>4</th>\n",
       "      <td>Meik</td>\n",
       "      <td>29</td>\n",
       "      <td>20</td>\n",
       "      <td>48702</td>\n",
       "      <td>&lt;NA&gt;</td>\n",
       "      <td>o4üB5älw</td>\n",
       "      <td>{i, z, K}</td>\n",
       "      <td>[A, B, C, C]</td>\n",
       "    </tr>\n",
       "    <tr>\n",
       "      <th>...</th>\n",
       "      <td>...</td>\n",
       "      <td>...</td>\n",
       "      <td>...</td>\n",
       "      <td>...</td>\n",
       "      <td>...</td>\n",
       "      <td>...</td>\n",
       "      <td>...</td>\n",
       "      <td>...</td>\n",
       "    </tr>\n",
       "    <tr>\n",
       "      <th>95</th>\n",
       "      <td>Paul</td>\n",
       "      <td>27</td>\n",
       "      <td>20</td>\n",
       "      <td>32691</td>\n",
       "      <td>Bremen</td>\n",
       "      <td>ÖK4ACwEöAA</td>\n",
       "      <td>{b, F, P, v}</td>\n",
       "      <td>[]</td>\n",
       "    </tr>\n",
       "    <tr>\n",
       "      <th>96</th>\n",
       "      <td>Eileen</td>\n",
       "      <td>34</td>\n",
       "      <td>30</td>\n",
       "      <td>48687</td>\n",
       "      <td>Berlin</td>\n",
       "      <td>ÖRÄiIuVrcK</td>\n",
       "      <td>{M, s}</td>\n",
       "      <td>[A, C, C, B]</td>\n",
       "    </tr>\n",
       "    <tr>\n",
       "      <th>97</th>\n",
       "      <td>Kim</td>\n",
       "      <td>31</td>\n",
       "      <td>30</td>\n",
       "      <td>99487</td>\n",
       "      <td>&lt;NA&gt;</td>\n",
       "      <td>LnIEm</td>\n",
       "      <td>{z, K}</td>\n",
       "      <td>[]</td>\n",
       "    </tr>\n",
       "    <tr>\n",
       "      <th>98</th>\n",
       "      <td>Julian</td>\n",
       "      <td>26</td>\n",
       "      <td>20</td>\n",
       "      <td>50861</td>\n",
       "      <td>Bremen</td>\n",
       "      <td>tMöWd</td>\n",
       "      <td>{V, B, s, 5}</td>\n",
       "      <td>[a, b, c]</td>\n",
       "    </tr>\n",
       "    <tr>\n",
       "      <th>99</th>\n",
       "      <td>Mika</td>\n",
       "      <td>40</td>\n",
       "      <td>40</td>\n",
       "      <td>21597</td>\n",
       "      <td>Bremen</td>\n",
       "      <td>ÜZ6oÄCToRe</td>\n",
       "      <td>{i, U, b, F}</td>\n",
       "      <td>[A, B, C]</td>\n",
       "    </tr>\n",
       "  </tbody>\n",
       "</table>\n",
       "<p>100 rows × 8 columns</p>\n",
       "</div>"
      ],
      "text/plain": [
       "   first_name  age  age_class  postal_code birthplace      secret  \\\n",
       "0       Ernst   36         30        71236       <NA>      IäsNdr   \n",
       "1     Annette   23         20        52287     Berlin       nMJv7   \n",
       "2        Anna   30         30        12106       <NA>  VüL7sÄüDiP   \n",
       "3       Heinz   30         30        84999     Berlin   iaOCXZ2Öe   \n",
       "4        Meik   29         20        48702       <NA>    o4üB5älw   \n",
       "..        ...  ...        ...          ...        ...         ...   \n",
       "95       Paul   27         20        32691     Bremen  ÖK4ACwEöAA   \n",
       "96     Eileen   34         30        48687     Berlin  ÖRÄiIuVrcK   \n",
       "97        Kim   31         30        99487       <NA>       LnIEm   \n",
       "98     Julian   26         20        50861     Bremen       tMöWd   \n",
       "99       Mika   40         40        21597     Bremen  ÜZ6oÄCToRe   \n",
       "\n",
       "           features       history  \n",
       "0      {f, m, P, v}     [A, A, A]  \n",
       "1   {G, e, p, U, f}  [A, C, C, B]  \n",
       "2   {G, n, 3, F, E}            []  \n",
       "3         {y, R, v}     [c, b, a]  \n",
       "4         {i, z, K}  [A, B, C, C]  \n",
       "..              ...           ...  \n",
       "95     {b, F, P, v}            []  \n",
       "96           {M, s}  [A, C, C, B]  \n",
       "97           {z, K}            []  \n",
       "98     {V, B, s, 5}     [a, b, c]  \n",
       "99     {i, U, b, F}     [A, B, C]  \n",
       "\n",
       "[100 rows x 8 columns]"
      ]
     },
     "execution_count": 26,
     "metadata": {},
     "output_type": "execute_result"
    }
   ],
   "source": [
    "# show\n",
    "grid(df)"
   ]
  },
  {
   "cell_type": "markdown",
   "id": "245132da-e234-45a7-a548-1a6393b1e9c8",
   "metadata": {},
   "source": [
    "### grid(): Use mask"
   ]
  },
  {
   "cell_type": "code",
   "execution_count": 27,
   "id": "0bd9d46f-f5bb-4469-9286-a446ccbb39dd",
   "metadata": {
    "execution": {
     "iopub.execute_input": "2025-03-20T22:11:07.746994Z",
     "iopub.status.busy": "2025-03-20T22:11:07.746994Z",
     "iopub.status.idle": "2025-03-20T22:11:08.178686Z",
     "shell.execute_reply": "2025-03-20T22:11:08.178686Z",
     "shell.execute_reply.started": "2025-03-20T22:11:07.746994Z"
    }
   },
   "outputs": [
    {
     "name": "stdout",
     "output_type": "stream",
     "text": [
      "11 rows out of 100\n"
     ]
    },
    {
     "data": {
      "text/html": [
       "<div>\n",
       "<style scoped>\n",
       "    .dataframe tbody tr th:only-of-type {\n",
       "        vertical-align: middle;\n",
       "    }\n",
       "\n",
       "    .dataframe tbody tr th {\n",
       "        vertical-align: top;\n",
       "    }\n",
       "\n",
       "    .dataframe thead th {\n",
       "        text-align: right;\n",
       "    }\n",
       "</style>\n",
       "<table border=\"1\" class=\"dataframe\">\n",
       "  <thead>\n",
       "    <tr style=\"text-align: right;\">\n",
       "      <th></th>\n",
       "      <th>first_name</th>\n",
       "      <th>age</th>\n",
       "      <th>age_class</th>\n",
       "      <th>postal_code</th>\n",
       "      <th>birthplace</th>\n",
       "      <th>secret</th>\n",
       "      <th>features</th>\n",
       "      <th>history</th>\n",
       "    </tr>\n",
       "  </thead>\n",
       "  <tbody>\n",
       "    <tr>\n",
       "      <th>0</th>\n",
       "      <td>Ernst</td>\n",
       "      <td>36</td>\n",
       "      <td>30</td>\n",
       "      <td>71236</td>\n",
       "      <td>&lt;NA&gt;</td>\n",
       "      <td>IäsNdr</td>\n",
       "      <td>{f, m, P, v}</td>\n",
       "      <td>[A, A, A]</td>\n",
       "    </tr>\n",
       "    <tr>\n",
       "      <th>2</th>\n",
       "      <td>Anna</td>\n",
       "      <td>30</td>\n",
       "      <td>30</td>\n",
       "      <td>12106</td>\n",
       "      <td>&lt;NA&gt;</td>\n",
       "      <td>VüL7sÄüDiP</td>\n",
       "      <td>{G, n, 3, F, E}</td>\n",
       "      <td>[]</td>\n",
       "    </tr>\n",
       "    <tr>\n",
       "      <th>6</th>\n",
       "      <td>Edith</td>\n",
       "      <td>35</td>\n",
       "      <td>30</td>\n",
       "      <td>99722</td>\n",
       "      <td>&lt;NA&gt;</td>\n",
       "      <td>özUZ7v</td>\n",
       "      <td>{R, H, G}</td>\n",
       "      <td>[A, x]</td>\n",
       "    </tr>\n",
       "    <tr>\n",
       "      <th>20</th>\n",
       "      <td>Berndt</td>\n",
       "      <td>30</td>\n",
       "      <td>30</td>\n",
       "      <td>&lt;NA&gt;</td>\n",
       "      <td>Bremen</td>\n",
       "      <td>IeNqASDi</td>\n",
       "      <td>{T, R, P, x, J}</td>\n",
       "      <td>[]</td>\n",
       "    </tr>\n",
       "    <tr>\n",
       "      <th>30</th>\n",
       "      <td>Yvonne</td>\n",
       "      <td>36</td>\n",
       "      <td>30</td>\n",
       "      <td>30835</td>\n",
       "      <td>&lt;NA&gt;</td>\n",
       "      <td>öÜ4A2d</td>\n",
       "      <td>{S, 1, 5}</td>\n",
       "      <td>[A, B, C, C]</td>\n",
       "    </tr>\n",
       "    <tr>\n",
       "      <th>44</th>\n",
       "      <td>Janina</td>\n",
       "      <td>20</td>\n",
       "      <td>20</td>\n",
       "      <td>94630</td>\n",
       "      <td>Bremen</td>\n",
       "      <td>iI5cJmE</td>\n",
       "      <td>{p, e}</td>\n",
       "      <td>[A, C, C, B]</td>\n",
       "    </tr>\n",
       "    <tr>\n",
       "      <th>64</th>\n",
       "      <td>Adolf</td>\n",
       "      <td>32</td>\n",
       "      <td>30</td>\n",
       "      <td>37970</td>\n",
       "      <td>Bremen</td>\n",
       "      <td>USök1uA</td>\n",
       "      <td>{d, Q, 5, r}</td>\n",
       "      <td>[c, b, a]</td>\n",
       "    </tr>\n",
       "    <tr>\n",
       "      <th>68</th>\n",
       "      <td>Nicolas</td>\n",
       "      <td>25</td>\n",
       "      <td>20</td>\n",
       "      <td>44017</td>\n",
       "      <td>Bremen</td>\n",
       "      <td>üzrQ3iJ</td>\n",
       "      <td>{Z, Q, t, o}</td>\n",
       "      <td>[A, B, C]</td>\n",
       "    </tr>\n",
       "    <tr>\n",
       "      <th>71</th>\n",
       "      <td>Ursula</td>\n",
       "      <td>29</td>\n",
       "      <td>20</td>\n",
       "      <td>90947</td>\n",
       "      <td>Berlin</td>\n",
       "      <td>0m8ruPPDW</td>\n",
       "      <td>{o, f, c, n}</td>\n",
       "      <td>[A, A, A]</td>\n",
       "    </tr>\n",
       "    <tr>\n",
       "      <th>79</th>\n",
       "      <td>Claus</td>\n",
       "      <td>42</td>\n",
       "      <td>40</td>\n",
       "      <td>71950</td>\n",
       "      <td>Bremen</td>\n",
       "      <td>CaFr6YzzWa</td>\n",
       "      <td>{X, a}</td>\n",
       "      <td>[A, B, C]</td>\n",
       "    </tr>\n",
       "    <tr>\n",
       "      <th>99</th>\n",
       "      <td>Mika</td>\n",
       "      <td>40</td>\n",
       "      <td>40</td>\n",
       "      <td>21597</td>\n",
       "      <td>Bremen</td>\n",
       "      <td>ÜZ6oÄCToRe</td>\n",
       "      <td>{i, U, b, F}</td>\n",
       "      <td>[A, B, C]</td>\n",
       "    </tr>\n",
       "  </tbody>\n",
       "</table>\n",
       "</div>"
      ],
      "text/plain": [
       "   first_name  age  age_class  postal_code birthplace      secret  \\\n",
       "0       Ernst   36         30        71236       <NA>      IäsNdr   \n",
       "2        Anna   30         30        12106       <NA>  VüL7sÄüDiP   \n",
       "6       Edith   35         30        99722       <NA>      özUZ7v   \n",
       "20     Berndt   30         30         <NA>     Bremen    IeNqASDi   \n",
       "30     Yvonne   36         30        30835       <NA>      öÜ4A2d   \n",
       "44     Janina   20         20        94630     Bremen     iI5cJmE   \n",
       "64      Adolf   32         30        37970     Bremen     USök1uA   \n",
       "68    Nicolas   25         20        44017     Bremen     üzrQ3iJ   \n",
       "71     Ursula   29         20        90947     Berlin   0m8ruPPDW   \n",
       "79      Claus   42         40        71950     Bremen  CaFr6YzzWa   \n",
       "99       Mika   40         40        21597     Bremen  ÜZ6oÄCToRe   \n",
       "\n",
       "           features       history  \n",
       "0      {f, m, P, v}     [A, A, A]  \n",
       "2   {G, n, 3, F, E}            []  \n",
       "6         {R, H, G}        [A, x]  \n",
       "20  {T, R, P, x, J}            []  \n",
       "30        {S, 1, 5}  [A, B, C, C]  \n",
       "44           {p, e}  [A, C, C, B]  \n",
       "64     {d, Q, 5, r}     [c, b, a]  \n",
       "68     {Z, Q, t, o}     [A, B, C]  \n",
       "71     {o, f, c, n}     [A, A, A]  \n",
       "79           {X, a}     [A, B, C]  \n",
       "99     {i, U, b, F}     [A, B, C]  "
      ]
     },
     "execution_count": 27,
     "metadata": {},
     "output_type": "execute_result"
    }
   ],
   "source": [
    "# Function as mask\n",
    "grid(df, pak.sample)"
   ]
  },
  {
   "cell_type": "code",
   "execution_count": 28,
   "id": "0b171cd5-4a69-4d31-8c5f-cc5f34e6858f",
   "metadata": {
    "execution": {
     "iopub.execute_input": "2025-03-20T22:11:08.180238Z",
     "iopub.status.busy": "2025-03-20T22:11:08.180238Z",
     "iopub.status.idle": "2025-03-20T22:11:08.553036Z",
     "shell.execute_reply": "2025-03-20T22:11:08.552952Z",
     "shell.execute_reply.started": "2025-03-20T22:11:08.180238Z"
    }
   },
   "outputs": [
    {
     "name": "stdout",
     "output_type": "stream",
     "text": [
      "89 rows out of 100\n"
     ]
    },
    {
     "data": {
      "text/html": [
       "<div>\n",
       "<style scoped>\n",
       "    .dataframe tbody tr th:only-of-type {\n",
       "        vertical-align: middle;\n",
       "    }\n",
       "\n",
       "    .dataframe tbody tr th {\n",
       "        vertical-align: top;\n",
       "    }\n",
       "\n",
       "    .dataframe thead th {\n",
       "        text-align: right;\n",
       "    }\n",
       "</style>\n",
       "<table border=\"1\" class=\"dataframe\">\n",
       "  <thead>\n",
       "    <tr style=\"text-align: right;\">\n",
       "      <th></th>\n",
       "      <th>first_name</th>\n",
       "      <th>age</th>\n",
       "      <th>age_class</th>\n",
       "      <th>postal_code</th>\n",
       "      <th>birthplace</th>\n",
       "      <th>secret</th>\n",
       "      <th>features</th>\n",
       "      <th>history</th>\n",
       "    </tr>\n",
       "  </thead>\n",
       "  <tbody>\n",
       "    <tr>\n",
       "      <th>0</th>\n",
       "      <td>Ernst</td>\n",
       "      <td>36</td>\n",
       "      <td>30</td>\n",
       "      <td>71236</td>\n",
       "      <td>&lt;NA&gt;</td>\n",
       "      <td>IäsNdr</td>\n",
       "      <td>{f, m, P, v}</td>\n",
       "      <td>[A, A, A]</td>\n",
       "    </tr>\n",
       "    <tr>\n",
       "      <th>2</th>\n",
       "      <td>Anna</td>\n",
       "      <td>30</td>\n",
       "      <td>30</td>\n",
       "      <td>12106</td>\n",
       "      <td>&lt;NA&gt;</td>\n",
       "      <td>VüL7sÄüDiP</td>\n",
       "      <td>{G, n, 3, F, E}</td>\n",
       "      <td>[]</td>\n",
       "    </tr>\n",
       "    <tr>\n",
       "      <th>3</th>\n",
       "      <td>Heinz</td>\n",
       "      <td>30</td>\n",
       "      <td>30</td>\n",
       "      <td>84999</td>\n",
       "      <td>Berlin</td>\n",
       "      <td>iaOCXZ2Öe</td>\n",
       "      <td>{y, R, v}</td>\n",
       "      <td>[c, b, a]</td>\n",
       "    </tr>\n",
       "    <tr>\n",
       "      <th>4</th>\n",
       "      <td>Meik</td>\n",
       "      <td>29</td>\n",
       "      <td>20</td>\n",
       "      <td>48702</td>\n",
       "      <td>&lt;NA&gt;</td>\n",
       "      <td>o4üB5älw</td>\n",
       "      <td>{i, z, K}</td>\n",
       "      <td>[A, B, C, C]</td>\n",
       "    </tr>\n",
       "    <tr>\n",
       "      <th>5</th>\n",
       "      <td>Vivien</td>\n",
       "      <td>34</td>\n",
       "      <td>30</td>\n",
       "      <td>53757</td>\n",
       "      <td>Berlin</td>\n",
       "      <td>bbÜadz4</td>\n",
       "      <td>{L, k, l, d, U}</td>\n",
       "      <td>[A, B, C]</td>\n",
       "    </tr>\n",
       "    <tr>\n",
       "      <th>...</th>\n",
       "      <td>...</td>\n",
       "      <td>...</td>\n",
       "      <td>...</td>\n",
       "      <td>...</td>\n",
       "      <td>...</td>\n",
       "      <td>...</td>\n",
       "      <td>...</td>\n",
       "      <td>...</td>\n",
       "    </tr>\n",
       "    <tr>\n",
       "      <th>95</th>\n",
       "      <td>Paul</td>\n",
       "      <td>27</td>\n",
       "      <td>20</td>\n",
       "      <td>32691</td>\n",
       "      <td>Bremen</td>\n",
       "      <td>ÖK4ACwEöAA</td>\n",
       "      <td>{b, F, P, v}</td>\n",
       "      <td>[]</td>\n",
       "    </tr>\n",
       "    <tr>\n",
       "      <th>96</th>\n",
       "      <td>Eileen</td>\n",
       "      <td>34</td>\n",
       "      <td>30</td>\n",
       "      <td>48687</td>\n",
       "      <td>Berlin</td>\n",
       "      <td>ÖRÄiIuVrcK</td>\n",
       "      <td>{M, s}</td>\n",
       "      <td>[A, C, C, B]</td>\n",
       "    </tr>\n",
       "    <tr>\n",
       "      <th>97</th>\n",
       "      <td>Kim</td>\n",
       "      <td>31</td>\n",
       "      <td>30</td>\n",
       "      <td>99487</td>\n",
       "      <td>&lt;NA&gt;</td>\n",
       "      <td>LnIEm</td>\n",
       "      <td>{z, K}</td>\n",
       "      <td>[]</td>\n",
       "    </tr>\n",
       "    <tr>\n",
       "      <th>98</th>\n",
       "      <td>Julian</td>\n",
       "      <td>26</td>\n",
       "      <td>20</td>\n",
       "      <td>50861</td>\n",
       "      <td>Bremen</td>\n",
       "      <td>tMöWd</td>\n",
       "      <td>{V, B, s, 5}</td>\n",
       "      <td>[a, b, c]</td>\n",
       "    </tr>\n",
       "    <tr>\n",
       "      <th>99</th>\n",
       "      <td>Mika</td>\n",
       "      <td>40</td>\n",
       "      <td>40</td>\n",
       "      <td>21597</td>\n",
       "      <td>Bremen</td>\n",
       "      <td>ÜZ6oÄCToRe</td>\n",
       "      <td>{i, U, b, F}</td>\n",
       "      <td>[A, B, C]</td>\n",
       "    </tr>\n",
       "  </tbody>\n",
       "</table>\n",
       "<p>89 rows × 8 columns</p>\n",
       "</div>"
      ],
      "text/plain": [
       "   first_name  age  age_class  postal_code birthplace      secret  \\\n",
       "0       Ernst   36         30        71236       <NA>      IäsNdr   \n",
       "2        Anna   30         30        12106       <NA>  VüL7sÄüDiP   \n",
       "3       Heinz   30         30        84999     Berlin   iaOCXZ2Öe   \n",
       "4        Meik   29         20        48702       <NA>    o4üB5älw   \n",
       "5      Vivien   34         30        53757     Berlin     bbÜadz4   \n",
       "..        ...  ...        ...          ...        ...         ...   \n",
       "95       Paul   27         20        32691     Bremen  ÖK4ACwEöAA   \n",
       "96     Eileen   34         30        48687     Berlin  ÖRÄiIuVrcK   \n",
       "97        Kim   31         30        99487       <NA>       LnIEm   \n",
       "98     Julian   26         20        50861     Bremen       tMöWd   \n",
       "99       Mika   40         40        21597     Bremen  ÜZ6oÄCToRe   \n",
       "\n",
       "           features       history  \n",
       "0      {f, m, P, v}     [A, A, A]  \n",
       "2   {G, n, 3, F, E}            []  \n",
       "3         {y, R, v}     [c, b, a]  \n",
       "4         {i, z, K}  [A, B, C, C]  \n",
       "5   {L, k, l, d, U}     [A, B, C]  \n",
       "..              ...           ...  \n",
       "95     {b, F, P, v}            []  \n",
       "96           {M, s}  [A, C, C, B]  \n",
       "97           {z, K}            []  \n",
       "98     {V, B, s, 5}     [a, b, c]  \n",
       "99     {i, U, b, F}     [A, B, C]  \n",
       "\n",
       "[89 rows x 8 columns]"
      ]
     },
     "execution_count": 28,
     "metadata": {},
     "output_type": "execute_result"
    }
   ],
   "source": [
    "# Binary mask\n",
    "mask = df.age > 25\n",
    "grid(df, mask)"
   ]
  },
  {
   "cell_type": "markdown",
   "id": "a964fe1a-7ce2-4db5-aa90-07cd6553ad49",
   "metadata": {},
   "source": [
    "### grid() options\n",
    "Some grid options are global, e.g. max_column_width. If you set this option to a value later in your notebook, all grids in the notebook are rendered with this column_width. If you find a way to change this, send me a message."
   ]
  },
  {
   "cell_type": "code",
   "execution_count": 29,
   "id": "4f86a672-eb7a-4c56-9aa3-db24c758aca6",
   "metadata": {
    "execution": {
     "iopub.execute_input": "2025-03-20T22:11:08.554065Z",
     "iopub.status.busy": "2025-03-20T22:11:08.554065Z",
     "iopub.status.idle": "2025-03-20T22:11:08.908685Z",
     "shell.execute_reply": "2025-03-20T22:11:08.908685Z",
     "shell.execute_reply.started": "2025-03-20T22:11:08.554065Z"
    }
   },
   "outputs": [],
   "source": [
    "# global Settings\n",
    "pak.set_grid(max_column_width=200)"
   ]
  },
  {
   "cell_type": "code",
   "execution_count": 30,
   "id": "2a395033-f941-4ea4-bd9f-d99e1d3c0872",
   "metadata": {
    "execution": {
     "iopub.execute_input": "2025-03-20T22:11:08.908685Z",
     "iopub.status.busy": "2025-03-20T22:11:08.908685Z",
     "iopub.status.idle": "2025-03-20T22:11:09.274886Z",
     "shell.execute_reply": "2025-03-20T22:11:09.274886Z",
     "shell.execute_reply.started": "2025-03-20T22:11:08.908685Z"
    }
   },
   "outputs": [
    {
     "name": "stdout",
     "output_type": "stream",
     "text": [
      "100 rows\n"
     ]
    },
    {
     "data": {
      "text/html": [
       "<div>\n",
       "<style scoped>\n",
       "    .dataframe tbody tr th:only-of-type {\n",
       "        vertical-align: middle;\n",
       "    }\n",
       "\n",
       "    .dataframe tbody tr th {\n",
       "        vertical-align: top;\n",
       "    }\n",
       "\n",
       "    .dataframe thead th {\n",
       "        text-align: right;\n",
       "    }\n",
       "</style>\n",
       "<table border=\"1\" class=\"dataframe\">\n",
       "  <thead>\n",
       "    <tr style=\"text-align: right;\">\n",
       "      <th></th>\n",
       "      <th>first_name</th>\n",
       "      <th>age</th>\n",
       "      <th>age_class</th>\n",
       "      <th>postal_code</th>\n",
       "      <th>birthplace</th>\n",
       "      <th>secret</th>\n",
       "      <th>features</th>\n",
       "      <th>history</th>\n",
       "    </tr>\n",
       "  </thead>\n",
       "  <tbody>\n",
       "    <tr>\n",
       "      <th>0</th>\n",
       "      <td>Ernst</td>\n",
       "      <td>36</td>\n",
       "      <td>30</td>\n",
       "      <td>71236</td>\n",
       "      <td>&lt;NA&gt;</td>\n",
       "      <td>IäsNdr</td>\n",
       "      <td>{f, m, P, v}</td>\n",
       "      <td>[A, A, A]</td>\n",
       "    </tr>\n",
       "    <tr>\n",
       "      <th>1</th>\n",
       "      <td>Annette</td>\n",
       "      <td>23</td>\n",
       "      <td>20</td>\n",
       "      <td>52287</td>\n",
       "      <td>Berlin</td>\n",
       "      <td>nMJv7</td>\n",
       "      <td>{G, e, p, U, f}</td>\n",
       "      <td>[A, C, C, B]</td>\n",
       "    </tr>\n",
       "    <tr>\n",
       "      <th>2</th>\n",
       "      <td>Anna</td>\n",
       "      <td>30</td>\n",
       "      <td>30</td>\n",
       "      <td>12106</td>\n",
       "      <td>&lt;NA&gt;</td>\n",
       "      <td>VüL7sÄüDiP</td>\n",
       "      <td>{G, n, 3, F, E}</td>\n",
       "      <td>[]</td>\n",
       "    </tr>\n",
       "    <tr>\n",
       "      <th>3</th>\n",
       "      <td>Heinz</td>\n",
       "      <td>30</td>\n",
       "      <td>30</td>\n",
       "      <td>84999</td>\n",
       "      <td>Berlin</td>\n",
       "      <td>iaOCXZ2Öe</td>\n",
       "      <td>{y, R, v}</td>\n",
       "      <td>[c, b, a]</td>\n",
       "    </tr>\n",
       "    <tr>\n",
       "      <th>4</th>\n",
       "      <td>Meik</td>\n",
       "      <td>29</td>\n",
       "      <td>20</td>\n",
       "      <td>48702</td>\n",
       "      <td>&lt;NA&gt;</td>\n",
       "      <td>o4üB5älw</td>\n",
       "      <td>{i, z, K}</td>\n",
       "      <td>[A, B, C, C]</td>\n",
       "    </tr>\n",
       "    <tr>\n",
       "      <th>...</th>\n",
       "      <td>...</td>\n",
       "      <td>...</td>\n",
       "      <td>...</td>\n",
       "      <td>...</td>\n",
       "      <td>...</td>\n",
       "      <td>...</td>\n",
       "      <td>...</td>\n",
       "      <td>...</td>\n",
       "    </tr>\n",
       "    <tr>\n",
       "      <th>95</th>\n",
       "      <td>Paul</td>\n",
       "      <td>27</td>\n",
       "      <td>20</td>\n",
       "      <td>32691</td>\n",
       "      <td>Bremen</td>\n",
       "      <td>ÖK4ACwEöAA</td>\n",
       "      <td>{b, F, P, v}</td>\n",
       "      <td>[]</td>\n",
       "    </tr>\n",
       "    <tr>\n",
       "      <th>96</th>\n",
       "      <td>Eileen</td>\n",
       "      <td>34</td>\n",
       "      <td>30</td>\n",
       "      <td>48687</td>\n",
       "      <td>Berlin</td>\n",
       "      <td>ÖRÄiIuVrcK</td>\n",
       "      <td>{M, s}</td>\n",
       "      <td>[A, C, C, B]</td>\n",
       "    </tr>\n",
       "    <tr>\n",
       "      <th>97</th>\n",
       "      <td>Kim</td>\n",
       "      <td>31</td>\n",
       "      <td>30</td>\n",
       "      <td>99487</td>\n",
       "      <td>&lt;NA&gt;</td>\n",
       "      <td>LnIEm</td>\n",
       "      <td>{z, K}</td>\n",
       "      <td>[]</td>\n",
       "    </tr>\n",
       "    <tr>\n",
       "      <th>98</th>\n",
       "      <td>Julian</td>\n",
       "      <td>26</td>\n",
       "      <td>20</td>\n",
       "      <td>50861</td>\n",
       "      <td>Bremen</td>\n",
       "      <td>tMöWd</td>\n",
       "      <td>{V, B, s, 5}</td>\n",
       "      <td>[a, b, c]</td>\n",
       "    </tr>\n",
       "    <tr>\n",
       "      <th>99</th>\n",
       "      <td>Mika</td>\n",
       "      <td>40</td>\n",
       "      <td>40</td>\n",
       "      <td>21597</td>\n",
       "      <td>Bremen</td>\n",
       "      <td>ÜZ6oÄCToRe</td>\n",
       "      <td>{i, U, b, F}</td>\n",
       "      <td>[A, B, C]</td>\n",
       "    </tr>\n",
       "  </tbody>\n",
       "</table>\n",
       "<p>100 rows × 8 columns</p>\n",
       "</div>"
      ],
      "text/plain": [
       "   first_name  age  age_class  postal_code birthplace      secret  \\\n",
       "0       Ernst   36         30        71236       <NA>      IäsNdr   \n",
       "1     Annette   23         20        52287     Berlin       nMJv7   \n",
       "2        Anna   30         30        12106       <NA>  VüL7sÄüDiP   \n",
       "3       Heinz   30         30        84999     Berlin   iaOCXZ2Öe   \n",
       "4        Meik   29         20        48702       <NA>    o4üB5älw   \n",
       "..        ...  ...        ...          ...        ...         ...   \n",
       "95       Paul   27         20        32691     Bremen  ÖK4ACwEöAA   \n",
       "96     Eileen   34         30        48687     Berlin  ÖRÄiIuVrcK   \n",
       "97        Kim   31         30        99487       <NA>       LnIEm   \n",
       "98     Julian   26         20        50861     Bremen       tMöWd   \n",
       "99       Mika   40         40        21597     Bremen  ÜZ6oÄCToRe   \n",
       "\n",
       "           features       history  \n",
       "0      {f, m, P, v}     [A, A, A]  \n",
       "1   {G, e, p, U, f}  [A, C, C, B]  \n",
       "2   {G, n, 3, F, E}            []  \n",
       "3         {y, R, v}     [c, b, a]  \n",
       "4         {i, z, K}  [A, B, C, C]  \n",
       "..              ...           ...  \n",
       "95     {b, F, P, v}            []  \n",
       "96           {M, s}  [A, C, C, B]  \n",
       "97           {z, K}            []  \n",
       "98     {V, B, s, 5}     [a, b, c]  \n",
       "99     {i, U, b, F}     [A, B, C]  \n",
       "\n",
       "[100 rows x 8 columns]"
      ]
     },
     "execution_count": 30,
     "metadata": {},
     "output_type": "execute_result"
    }
   ],
   "source": [
    "# show \n",
    "grid(df)"
   ]
  },
  {
   "cell_type": "markdown",
   "id": "be02d79a-8dd7-4e54-8fe9-b89046e2022e",
   "metadata": {},
   "source": [
    "### grid(): Advanced Formating\n",
    "See options on https://github.com/man-group/dtale#instance-settings"
   ]
  },
  {
   "cell_type": "code",
   "execution_count": 31,
   "id": "afb14de4-e5ba-48a8-8615-4c9fdb617535",
   "metadata": {
    "execution": {
     "iopub.execute_input": "2025-03-20T22:11:09.275895Z",
     "iopub.status.busy": "2025-03-20T22:11:09.275895Z",
     "iopub.status.idle": "2025-03-20T22:11:09.640899Z",
     "shell.execute_reply": "2025-03-20T22:11:09.640899Z",
     "shell.execute_reply.started": "2025-03-20T22:11:09.275895Z"
    }
   },
   "outputs": [
    {
     "name": "stdout",
     "output_type": "stream",
     "text": [
      "89 rows out of 100\n"
     ]
    },
    {
     "data": {
      "text/html": [
       "<div>\n",
       "<style scoped>\n",
       "    .dataframe tbody tr th:only-of-type {\n",
       "        vertical-align: middle;\n",
       "    }\n",
       "\n",
       "    .dataframe tbody tr th {\n",
       "        vertical-align: top;\n",
       "    }\n",
       "\n",
       "    .dataframe thead th {\n",
       "        text-align: right;\n",
       "    }\n",
       "</style>\n",
       "<table border=\"1\" class=\"dataframe\">\n",
       "  <thead>\n",
       "    <tr style=\"text-align: right;\">\n",
       "      <th></th>\n",
       "      <th>first_name</th>\n",
       "      <th>age</th>\n",
       "      <th>age_class</th>\n",
       "      <th>postal_code</th>\n",
       "      <th>birthplace</th>\n",
       "      <th>secret</th>\n",
       "      <th>features</th>\n",
       "      <th>history</th>\n",
       "    </tr>\n",
       "  </thead>\n",
       "  <tbody>\n",
       "    <tr>\n",
       "      <th>0</th>\n",
       "      <td>Ernst</td>\n",
       "      <td>36</td>\n",
       "      <td>30</td>\n",
       "      <td>71236</td>\n",
       "      <td>&lt;NA&gt;</td>\n",
       "      <td>IäsNdr</td>\n",
       "      <td>{f, m, P, v}</td>\n",
       "      <td>[A, A, A]</td>\n",
       "    </tr>\n",
       "    <tr>\n",
       "      <th>2</th>\n",
       "      <td>Anna</td>\n",
       "      <td>30</td>\n",
       "      <td>30</td>\n",
       "      <td>12106</td>\n",
       "      <td>&lt;NA&gt;</td>\n",
       "      <td>VüL7sÄüDiP</td>\n",
       "      <td>{G, n, 3, F, E}</td>\n",
       "      <td>[]</td>\n",
       "    </tr>\n",
       "    <tr>\n",
       "      <th>3</th>\n",
       "      <td>Heinz</td>\n",
       "      <td>30</td>\n",
       "      <td>30</td>\n",
       "      <td>84999</td>\n",
       "      <td>Berlin</td>\n",
       "      <td>iaOCXZ2Öe</td>\n",
       "      <td>{y, R, v}</td>\n",
       "      <td>[c, b, a]</td>\n",
       "    </tr>\n",
       "    <tr>\n",
       "      <th>4</th>\n",
       "      <td>Meik</td>\n",
       "      <td>29</td>\n",
       "      <td>20</td>\n",
       "      <td>48702</td>\n",
       "      <td>&lt;NA&gt;</td>\n",
       "      <td>o4üB5älw</td>\n",
       "      <td>{i, z, K}</td>\n",
       "      <td>[A, B, C, C]</td>\n",
       "    </tr>\n",
       "    <tr>\n",
       "      <th>5</th>\n",
       "      <td>Vivien</td>\n",
       "      <td>34</td>\n",
       "      <td>30</td>\n",
       "      <td>53757</td>\n",
       "      <td>Berlin</td>\n",
       "      <td>bbÜadz4</td>\n",
       "      <td>{L, k, l, d, U}</td>\n",
       "      <td>[A, B, C]</td>\n",
       "    </tr>\n",
       "    <tr>\n",
       "      <th>...</th>\n",
       "      <td>...</td>\n",
       "      <td>...</td>\n",
       "      <td>...</td>\n",
       "      <td>...</td>\n",
       "      <td>...</td>\n",
       "      <td>...</td>\n",
       "      <td>...</td>\n",
       "      <td>...</td>\n",
       "    </tr>\n",
       "    <tr>\n",
       "      <th>95</th>\n",
       "      <td>Paul</td>\n",
       "      <td>27</td>\n",
       "      <td>20</td>\n",
       "      <td>32691</td>\n",
       "      <td>Bremen</td>\n",
       "      <td>ÖK4ACwEöAA</td>\n",
       "      <td>{b, F, P, v}</td>\n",
       "      <td>[]</td>\n",
       "    </tr>\n",
       "    <tr>\n",
       "      <th>96</th>\n",
       "      <td>Eileen</td>\n",
       "      <td>34</td>\n",
       "      <td>30</td>\n",
       "      <td>48687</td>\n",
       "      <td>Berlin</td>\n",
       "      <td>ÖRÄiIuVrcK</td>\n",
       "      <td>{M, s}</td>\n",
       "      <td>[A, C, C, B]</td>\n",
       "    </tr>\n",
       "    <tr>\n",
       "      <th>97</th>\n",
       "      <td>Kim</td>\n",
       "      <td>31</td>\n",
       "      <td>30</td>\n",
       "      <td>99487</td>\n",
       "      <td>&lt;NA&gt;</td>\n",
       "      <td>LnIEm</td>\n",
       "      <td>{z, K}</td>\n",
       "      <td>[]</td>\n",
       "    </tr>\n",
       "    <tr>\n",
       "      <th>98</th>\n",
       "      <td>Julian</td>\n",
       "      <td>26</td>\n",
       "      <td>20</td>\n",
       "      <td>50861</td>\n",
       "      <td>Bremen</td>\n",
       "      <td>tMöWd</td>\n",
       "      <td>{V, B, s, 5}</td>\n",
       "      <td>[a, b, c]</td>\n",
       "    </tr>\n",
       "    <tr>\n",
       "      <th>99</th>\n",
       "      <td>Mika</td>\n",
       "      <td>40</td>\n",
       "      <td>40</td>\n",
       "      <td>21597</td>\n",
       "      <td>Bremen</td>\n",
       "      <td>ÜZ6oÄCToRe</td>\n",
       "      <td>{i, U, b, F}</td>\n",
       "      <td>[A, B, C]</td>\n",
       "    </tr>\n",
       "  </tbody>\n",
       "</table>\n",
       "<p>89 rows × 8 columns</p>\n",
       "</div>"
      ],
      "text/plain": [
       "   first_name  age  age_class  postal_code birthplace      secret  \\\n",
       "0       Ernst   36         30        71236       <NA>      IäsNdr   \n",
       "2        Anna   30         30        12106       <NA>  VüL7sÄüDiP   \n",
       "3       Heinz   30         30        84999     Berlin   iaOCXZ2Öe   \n",
       "4        Meik   29         20        48702       <NA>    o4üB5älw   \n",
       "5      Vivien   34         30        53757     Berlin     bbÜadz4   \n",
       "..        ...  ...        ...          ...        ...         ...   \n",
       "95       Paul   27         20        32691     Bremen  ÖK4ACwEöAA   \n",
       "96     Eileen   34         30        48687     Berlin  ÖRÄiIuVrcK   \n",
       "97        Kim   31         30        99487       <NA>       LnIEm   \n",
       "98     Julian   26         20        50861     Bremen       tMöWd   \n",
       "99       Mika   40         40        21597     Bremen  ÜZ6oÄCToRe   \n",
       "\n",
       "           features       history  \n",
       "0      {f, m, P, v}     [A, A, A]  \n",
       "2   {G, n, 3, F, E}            []  \n",
       "3         {y, R, v}     [c, b, a]  \n",
       "4         {i, z, K}  [A, B, C, C]  \n",
       "5   {L, k, l, d, U}     [A, B, C]  \n",
       "..              ...           ...  \n",
       "95     {b, F, P, v}            []  \n",
       "96           {M, s}  [A, C, C, B]  \n",
       "97           {z, K}            []  \n",
       "98     {V, B, s, 5}     [a, b, c]  \n",
       "99     {i, U, b, F}     [A, B, C]  \n",
       "\n",
       "[89 rows x 8 columns]"
      ]
     },
     "execution_count": 31,
     "metadata": {},
     "output_type": "execute_result"
    }
   ],
   "source": [
    "mask = df.age > 25\n",
    "grid(df, mask, sort=[('first_name','ASC')], background_mode='heatmap-col-age')\n",
    "#grid(df, mask, drop_index=True,)"
   ]
  },
  {
   "cell_type": "markdown",
   "id": "03d54916-78f9-4da1-ae3d-4acecfedb9f6",
   "metadata": {},
   "source": [
    "### grid(): Special cases"
   ]
  },
  {
   "cell_type": "code",
   "execution_count": 32,
   "id": "bf26d5b2-c670-4fe4-aed7-9d6a5231c96c",
   "metadata": {
    "execution": {
     "iopub.execute_input": "2025-03-20T22:11:09.640899Z",
     "iopub.status.busy": "2025-03-20T22:11:09.640899Z",
     "iopub.status.idle": "2025-03-20T22:11:10.003942Z",
     "shell.execute_reply": "2025-03-20T22:11:10.003942Z",
     "shell.execute_reply.started": "2025-03-20T22:11:09.640899Z"
    }
   },
   "outputs": [
    {
     "name": "stdout",
     "output_type": "stream",
     "text": [
      "\u001b[1m\u001b[7m\u001b[31mNothing to show\u001b[0m\n"
     ]
    }
   ],
   "source": [
    "# No DataFrame\n",
    "grid(None)"
   ]
  },
  {
   "cell_type": "code",
   "execution_count": 33,
   "id": "7225ca3d-6e57-4d44-b0bc-0f2cdb985d55",
   "metadata": {
    "execution": {
     "iopub.execute_input": "2025-03-20T22:11:10.004948Z",
     "iopub.status.busy": "2025-03-20T22:11:10.004948Z",
     "iopub.status.idle": "2025-03-20T22:11:10.364196Z",
     "shell.execute_reply": "2025-03-20T22:11:10.364196Z",
     "shell.execute_reply.started": "2025-03-20T22:11:10.004948Z"
    }
   },
   "outputs": [
    {
     "name": "stdout",
     "output_type": "stream",
     "text": [
      "\u001b[1m\u001b[7m\u001b[34mNo rows\u001b[0m\n"
     ]
    }
   ],
   "source": [
    "# Empty DataFrame\n",
    "d = pd.DataFrame()\n",
    "grid(d)"
   ]
  },
  {
   "cell_type": "code",
   "execution_count": 34,
   "id": "b2019ec2-84c5-4fa0-b764-faa01ec92447",
   "metadata": {
    "execution": {
     "iopub.execute_input": "2025-03-20T22:11:10.365201Z",
     "iopub.status.busy": "2025-03-20T22:11:10.365201Z",
     "iopub.status.idle": "2025-03-20T22:11:10.721687Z",
     "shell.execute_reply": "2025-03-20T22:11:10.721687Z",
     "shell.execute_reply.started": "2025-03-20T22:11:10.365201Z"
    }
   },
   "outputs": [
    {
     "name": "stdout",
     "output_type": "stream",
     "text": [
      "\u001b[1m\u001b[7m\u001b[34mNo rows, mask filters them all away\u001b[0m\n"
     ]
    }
   ],
   "source": [
    "# 100% filtered \n",
    "mask = df.age > 1000\n",
    "grid(df,mask)"
   ]
  },
  {
   "cell_type": "code",
   "execution_count": 35,
   "id": "37d339e7-164b-43c3-8cff-5b9183afad87",
   "metadata": {
    "execution": {
     "iopub.execute_input": "2025-03-20T22:11:10.721687Z",
     "iopub.status.busy": "2025-03-20T22:11:10.721687Z",
     "iopub.status.idle": "2025-03-20T22:11:11.081725Z",
     "shell.execute_reply": "2025-03-20T22:11:11.081725Z",
     "shell.execute_reply.started": "2025-03-20T22:11:10.721687Z"
    }
   },
   "outputs": [
    {
     "name": "stdout",
     "output_type": "stream",
     "text": [
      "\u001b[1m\u001b[7m\u001b[32mNo rows, mask filters them all away\u001b[0m\n"
     ]
    }
   ],
   "source": [
    "# 100% filtered, and this is good\n",
    "mask = df.age > 1000\n",
    "grid(df,mask, color='green')"
   ]
  },
  {
   "cell_type": "code",
   "execution_count": 36,
   "id": "94fabd0f-d568-48bd-a9f0-ace60646ab68",
   "metadata": {
    "execution": {
     "iopub.execute_input": "2025-03-20T22:11:11.082730Z",
     "iopub.status.busy": "2025-03-20T22:11:11.082730Z",
     "iopub.status.idle": "2025-03-20T22:11:11.438546Z",
     "shell.execute_reply": "2025-03-20T22:11:11.438546Z",
     "shell.execute_reply.started": "2025-03-20T22:11:11.082730Z"
    }
   },
   "outputs": [
    {
     "name": "stdout",
     "output_type": "stream",
     "text": [
      "\u001b[1m\u001b[7m\u001b[31mNo rows, mask filters them all away\u001b[0m\n"
     ]
    }
   ],
   "source": [
    "# 100% filtered, and this is bad\n",
    "mask = df.age > 1000\n",
    "grid(df,mask, color='red')"
   ]
  },
  {
   "cell_type": "markdown",
   "id": "1067b294-87f2-43d2-8c8f-a5542ef1629c",
   "metadata": {},
   "source": [
    "### grid() & check_mask(): Show error rows and raise later"
   ]
  },
  {
   "cell_type": "code",
   "execution_count": 37,
   "id": "af8fa7b9-06cd-477a-9d61-c00396c2659f",
   "metadata": {
    "execution": {
     "iopub.execute_input": "2025-03-20T22:11:11.439551Z",
     "iopub.status.busy": "2025-03-20T22:11:11.439551Z",
     "iopub.status.idle": "2025-03-20T22:11:13.514685Z",
     "shell.execute_reply": "2025-03-20T22:11:13.514685Z",
     "shell.execute_reply.started": "2025-03-20T22:11:11.439551Z"
    }
   },
   "outputs": [
    {
     "ename": "ValueError",
     "evalue": "Cannot mask with non-boolean array containing NA / NaN values",
     "output_type": "error",
     "traceback": [
      "\u001b[31m---------------------------------------------------------------------------\u001b[39m",
      "\u001b[31mValueError\u001b[39m                                Traceback (most recent call last)",
      "\u001b[36mCell\u001b[39m\u001b[36m \u001b[39m\u001b[32mIn[37]\u001b[39m\u001b[32m, line 6\u001b[39m\n\u001b[32m      1\u001b[39m \u001b[38;5;66;03m# define a mask that contains errors\u001b[39;00m\n\u001b[32m      2\u001b[39m \u001b[38;5;66;03m# say our error is df.birthplace == 'Hamburg',\u001b[39;00m\n\u001b[32m      3\u001b[39m \u001b[38;5;66;03m# we don't want that to happen,\u001b[39;00m\n\u001b[32m      4\u001b[39m \u001b[38;5;66;03m# but if it happens we would like to see the rows\u001b[39;00m\n\u001b[32m      5\u001b[39m mask = df.birthplace == \u001b[33m'\u001b[39m\u001b[33mHamburg\u001b[39m\u001b[33m'\u001b[39m\n\u001b[32m----> \u001b[39m\u001b[32m6\u001b[39m \u001b[43mpak\u001b[49m\u001b[43m.\u001b[49m\u001b[43mcheck_mask\u001b[49m\u001b[43m(\u001b[49m\u001b[43mdf\u001b[49m\u001b[43m,\u001b[49m\u001b[43mmask\u001b[49m\u001b[43m)\u001b[49m\n",
      "\u001b[36mFile \u001b[39m\u001b[32mD:\\Dropbox\\31_Projekte\\01_Python\\88_PyCharm\\pandasklar\\src\\pandasklar\\develop.py:243\u001b[39m, in \u001b[36mcheck_mask\u001b[39m\u001b[34m(df, mask, expectation_min, expectation_max, msg, stop, manually, verbose)\u001b[39m\n\u001b[32m    241\u001b[39m     anz_ds = \u001b[32m0\u001b[39m\n\u001b[32m    242\u001b[39m \u001b[38;5;28;01melse\u001b[39;00m:\n\u001b[32m--> \u001b[39m\u001b[32m243\u001b[39m     anz_ds = \u001b[43mdf\u001b[49m\u001b[43m[\u001b[49m\u001b[43mmask\u001b[49m\u001b[43m]\u001b[49m.shape[\u001b[32m0\u001b[39m]\n\u001b[32m    245\u001b[39m \u001b[38;5;66;03m# expectation_min fehlt\u001b[39;00m\n\u001b[32m    246\u001b[39m \u001b[38;5;28;01mif\u001b[39;00m expectation_min \u001b[38;5;129;01mis\u001b[39;00m \u001b[38;5;28;01mNone\u001b[39;00m:     \n",
      "\u001b[36mFile \u001b[39m\u001b[32m~\\AppData\\Local\\pypoetry\\Cache\\virtualenvs\\bpyth-61eGJPcZ-py3.12\\Lib\\site-packages\\pandas\\core\\frame.py:4092\u001b[39m, in \u001b[36mDataFrame.__getitem__\u001b[39m\u001b[34m(self, key)\u001b[39m\n\u001b[32m   4089\u001b[39m     \u001b[38;5;28;01mreturn\u001b[39;00m \u001b[38;5;28mself\u001b[39m.where(key)\n\u001b[32m   4091\u001b[39m \u001b[38;5;66;03m# Do we have a (boolean) 1d indexer?\u001b[39;00m\n\u001b[32m-> \u001b[39m\u001b[32m4092\u001b[39m \u001b[38;5;28;01mif\u001b[39;00m \u001b[43mcom\u001b[49m\u001b[43m.\u001b[49m\u001b[43mis_bool_indexer\u001b[49m\u001b[43m(\u001b[49m\u001b[43mkey\u001b[49m\u001b[43m)\u001b[49m:\n\u001b[32m   4093\u001b[39m     \u001b[38;5;28;01mreturn\u001b[39;00m \u001b[38;5;28mself\u001b[39m._getitem_bool_array(key)\n\u001b[32m   4095\u001b[39m \u001b[38;5;66;03m# We are left with two options: a single key, and a collection of keys,\u001b[39;00m\n\u001b[32m   4096\u001b[39m \u001b[38;5;66;03m# We interpret tuples as collections only for non-MultiIndex\u001b[39;00m\n",
      "\u001b[36mFile \u001b[39m\u001b[32m~\\AppData\\Local\\pypoetry\\Cache\\virtualenvs\\bpyth-61eGJPcZ-py3.12\\Lib\\site-packages\\pandas\\core\\common.py:136\u001b[39m, in \u001b[36mis_bool_indexer\u001b[39m\u001b[34m(key)\u001b[39m\n\u001b[32m    132\u001b[39m     na_msg = \u001b[33m\"\u001b[39m\u001b[33mCannot mask with non-boolean array containing NA / NaN values\u001b[39m\u001b[33m\"\u001b[39m\n\u001b[32m    133\u001b[39m     \u001b[38;5;28;01mif\u001b[39;00m lib.is_bool_array(key_array, skipna=\u001b[38;5;28;01mTrue\u001b[39;00m):\n\u001b[32m    134\u001b[39m         \u001b[38;5;66;03m# Don't raise on e.g. [\"A\", \"B\", np.nan], see\u001b[39;00m\n\u001b[32m    135\u001b[39m         \u001b[38;5;66;03m#  test_loc_getitem_list_of_labels_categoricalindex_with_na\u001b[39;00m\n\u001b[32m--> \u001b[39m\u001b[32m136\u001b[39m         \u001b[38;5;28;01mraise\u001b[39;00m \u001b[38;5;167;01mValueError\u001b[39;00m(na_msg)\n\u001b[32m    137\u001b[39m     \u001b[38;5;28;01mreturn\u001b[39;00m \u001b[38;5;28;01mFalse\u001b[39;00m\n\u001b[32m    138\u001b[39m \u001b[38;5;28;01mreturn\u001b[39;00m \u001b[38;5;28;01mTrue\u001b[39;00m\n",
      "\u001b[31mValueError\u001b[39m: Cannot mask with non-boolean array containing NA / NaN values"
     ]
    }
   ],
   "source": [
    "# define a mask that contains errors\n",
    "# say our error is df.birthplace == 'Hamburg',\n",
    "# we don't want that to happen,\n",
    "# but if it happens we would like to see the rows\n",
    "mask = df.birthplace == 'Hamburg'\n",
    "pak.check_mask(df,mask)"
   ]
  },
  {
   "cell_type": "code",
   "execution_count": null,
   "id": "70ac89d9-b0d9-4a62-abcd-11925fecd2e1",
   "metadata": {
    "execution": {
     "iopub.status.busy": "2025-03-20T22:11:13.514685Z",
     "iopub.status.idle": "2025-03-20T22:11:13.514685Z",
     "shell.execute_reply": "2025-03-20T22:11:13.514685Z",
     "shell.execute_reply.started": "2025-03-20T22:11:13.514685Z"
    }
   },
   "outputs": [],
   "source": [
    "# checking for 0 raises an error, as we want.\n",
    "# But we don't see the rows affected\n",
    "pak.check_mask(df,mask, 0)"
   ]
  },
  {
   "cell_type": "code",
   "execution_count": null,
   "id": "14fdc7e8-cd11-4a4c-a2f7-12673a19c562",
   "metadata": {
    "execution": {
     "iopub.status.busy": "2025-03-20T22:11:13.514685Z",
     "iopub.status.idle": "2025-03-20T22:11:13.514685Z",
     "shell.execute_reply": "2025-03-20T22:11:13.514685Z",
     "shell.execute_reply.started": "2025-03-20T22:11:13.514685Z"
    }
   },
   "outputs": [],
   "source": [
    "# so we use this to show the error rows first\n",
    "error = pak.check_mask(df,mask, 0, stop=False)\n",
    "grid(df, mask, error) "
   ]
  },
  {
   "cell_type": "code",
   "execution_count": null,
   "id": "90e49181-c1c9-4c78-97c3-c3271321ba64",
   "metadata": {
    "execution": {
     "iopub.status.busy": "2025-03-20T22:11:13.514685Z",
     "iopub.status.idle": "2025-03-20T22:11:13.514685Z",
     "shell.execute_reply": "2025-03-20T22:11:13.514685Z",
     "shell.execute_reply.started": "2025-03-20T22:11:13.514685Z"
    }
   },
   "outputs": [],
   "source": [
    "# and raise later\n",
    "bpy.raise_if(error)"
   ]
  },
  {
   "cell_type": "markdown",
   "id": "3f8b99de-87a4-42b8-9748-63dd2a45f76e",
   "metadata": {},
   "source": [
    "## memory_consumption"
   ]
  },
  {
   "cell_type": "code",
   "execution_count": null,
   "id": "40eda3d2-885c-4ffb-afe5-8ca32f6e7361",
   "metadata": {
    "execution": {
     "iopub.status.busy": "2025-03-20T22:11:13.514685Z",
     "iopub.status.idle": "2025-03-20T22:11:13.514685Z",
     "shell.execute_reply": "2025-03-20T22:11:13.514685Z",
     "shell.execute_reply.started": "2025-03-20T22:11:13.514685Z"
    }
   },
   "outputs": [],
   "source": [
    "?pak.memory_consumption"
   ]
  },
  {
   "cell_type": "code",
   "execution_count": null,
   "id": "68f45c73-37bc-43df-82db-78ad2c73022b",
   "metadata": {
    "execution": {
     "iopub.status.busy": "2025-03-20T22:11:13.514685Z",
     "iopub.status.idle": "2025-03-20T22:11:13.514685Z",
     "shell.execute_reply": "2025-03-20T22:11:13.514685Z",
     "shell.execute_reply.started": "2025-03-20T22:11:13.514685Z"
    }
   },
   "outputs": [],
   "source": [
    "# All local variables\n",
    "r = pak.memory_consumption( locals() )\n",
    "r"
   ]
  },
  {
   "cell_type": "code",
   "execution_count": null,
   "id": "6fa802c7-a86b-4569-8343-835c414209d0",
   "metadata": {
    "execution": {
     "iopub.status.busy": "2025-03-20T22:11:13.514685Z",
     "iopub.status.idle": "2025-03-20T22:11:13.514685Z",
     "shell.execute_reply": "2025-03-20T22:11:13.514685Z",
     "shell.execute_reply.started": "2025-03-20T22:11:13.514685Z"
    }
   },
   "outputs": [],
   "source": [
    "# If you give a DataFrame, it will return the column sizes\n",
    "pak.memory_consumption( df )"
   ]
  },
  {
   "cell_type": "markdown",
   "id": "b2c335c9-258d-4c4a-af56-4adacd0978e3",
   "metadata": {},
   "source": [
    "# Spielwiese"
   ]
  },
  {
   "cell_type": "code",
   "execution_count": 38,
   "id": "eac4e2f6-53aa-4c96-a24b-e5bcb4388d82",
   "metadata": {
    "execution": {
     "iopub.execute_input": "2025-03-20T22:11:56.795216Z",
     "iopub.status.busy": "2025-03-20T22:11:56.795216Z",
     "iopub.status.idle": "2025-03-20T22:11:57.170713Z",
     "shell.execute_reply": "2025-03-20T22:11:57.170713Z",
     "shell.execute_reply.started": "2025-03-20T22:11:56.795216Z"
    }
   },
   "outputs": [
    {
     "data": {
      "text/html": [
       "<div>\n",
       "<style scoped>\n",
       "    .dataframe tbody tr th:only-of-type {\n",
       "        vertical-align: middle;\n",
       "    }\n",
       "\n",
       "    .dataframe tbody tr th {\n",
       "        vertical-align: top;\n",
       "    }\n",
       "\n",
       "    .dataframe thead th {\n",
       "        text-align: right;\n",
       "    }\n",
       "</style>\n",
       "<table border=\"1\" class=\"dataframe\">\n",
       "  <thead>\n",
       "    <tr style=\"text-align: right;\">\n",
       "      <th></th>\n",
       "      <th>first_name</th>\n",
       "      <th>age</th>\n",
       "      <th>age_class</th>\n",
       "      <th>postal_code</th>\n",
       "      <th>birthplace</th>\n",
       "      <th>secret</th>\n",
       "      <th>features</th>\n",
       "      <th>history</th>\n",
       "    </tr>\n",
       "  </thead>\n",
       "  <tbody>\n",
       "    <tr>\n",
       "      <th>0</th>\n",
       "      <td>Ernst</td>\n",
       "      <td>36</td>\n",
       "      <td>30</td>\n",
       "      <td>71236</td>\n",
       "      <td>&lt;NA&gt;</td>\n",
       "      <td>IäsNdr</td>\n",
       "      <td>{f, m, P, v}</td>\n",
       "      <td>[A, A, A]</td>\n",
       "    </tr>\n",
       "    <tr>\n",
       "      <th>1</th>\n",
       "      <td>Annette</td>\n",
       "      <td>23</td>\n",
       "      <td>20</td>\n",
       "      <td>52287</td>\n",
       "      <td>Berlin</td>\n",
       "      <td>nMJv7</td>\n",
       "      <td>{G, e, p, U, f}</td>\n",
       "      <td>[A, C, C, B]</td>\n",
       "    </tr>\n",
       "    <tr>\n",
       "      <th>2</th>\n",
       "      <td>Anna</td>\n",
       "      <td>30</td>\n",
       "      <td>30</td>\n",
       "      <td>12106</td>\n",
       "      <td>&lt;NA&gt;</td>\n",
       "      <td>VüL7sÄüDiP</td>\n",
       "      <td>{G, n, 3, F, E}</td>\n",
       "      <td>[]</td>\n",
       "    </tr>\n",
       "    <tr>\n",
       "      <th>3</th>\n",
       "      <td>Heinz</td>\n",
       "      <td>30</td>\n",
       "      <td>30</td>\n",
       "      <td>84999</td>\n",
       "      <td>Berlin</td>\n",
       "      <td>iaOCXZ2Öe</td>\n",
       "      <td>{y, R, v}</td>\n",
       "      <td>[c, b, a]</td>\n",
       "    </tr>\n",
       "    <tr>\n",
       "      <th>4</th>\n",
       "      <td>Meik</td>\n",
       "      <td>29</td>\n",
       "      <td>20</td>\n",
       "      <td>48702</td>\n",
       "      <td>&lt;NA&gt;</td>\n",
       "      <td>o4üB5älw</td>\n",
       "      <td>{i, z, K}</td>\n",
       "      <td>[A, B, C, C]</td>\n",
       "    </tr>\n",
       "    <tr>\n",
       "      <th>...</th>\n",
       "      <td>...</td>\n",
       "      <td>...</td>\n",
       "      <td>...</td>\n",
       "      <td>...</td>\n",
       "      <td>...</td>\n",
       "      <td>...</td>\n",
       "      <td>...</td>\n",
       "      <td>...</td>\n",
       "    </tr>\n",
       "    <tr>\n",
       "      <th>95</th>\n",
       "      <td>Paul</td>\n",
       "      <td>27</td>\n",
       "      <td>20</td>\n",
       "      <td>32691</td>\n",
       "      <td>Bremen</td>\n",
       "      <td>ÖK4ACwEöAA</td>\n",
       "      <td>{b, F, P, v}</td>\n",
       "      <td>[]</td>\n",
       "    </tr>\n",
       "    <tr>\n",
       "      <th>96</th>\n",
       "      <td>Eileen</td>\n",
       "      <td>34</td>\n",
       "      <td>30</td>\n",
       "      <td>48687</td>\n",
       "      <td>Berlin</td>\n",
       "      <td>ÖRÄiIuVrcK</td>\n",
       "      <td>{M, s}</td>\n",
       "      <td>[A, C, C, B]</td>\n",
       "    </tr>\n",
       "    <tr>\n",
       "      <th>97</th>\n",
       "      <td>Kim</td>\n",
       "      <td>31</td>\n",
       "      <td>30</td>\n",
       "      <td>99487</td>\n",
       "      <td>&lt;NA&gt;</td>\n",
       "      <td>LnIEm</td>\n",
       "      <td>{z, K}</td>\n",
       "      <td>[]</td>\n",
       "    </tr>\n",
       "    <tr>\n",
       "      <th>98</th>\n",
       "      <td>Julian</td>\n",
       "      <td>26</td>\n",
       "      <td>20</td>\n",
       "      <td>50861</td>\n",
       "      <td>Bremen</td>\n",
       "      <td>tMöWd</td>\n",
       "      <td>{V, B, s, 5}</td>\n",
       "      <td>[a, b, c]</td>\n",
       "    </tr>\n",
       "    <tr>\n",
       "      <th>99</th>\n",
       "      <td>Mika</td>\n",
       "      <td>40</td>\n",
       "      <td>40</td>\n",
       "      <td>21597</td>\n",
       "      <td>Bremen</td>\n",
       "      <td>ÜZ6oÄCToRe</td>\n",
       "      <td>{i, U, b, F}</td>\n",
       "      <td>[A, B, C]</td>\n",
       "    </tr>\n",
       "  </tbody>\n",
       "</table>\n",
       "<p>100 rows × 8 columns</p>\n",
       "</div>"
      ],
      "text/plain": [
       "   first_name  age  age_class  postal_code birthplace      secret  \\\n",
       "0       Ernst   36         30        71236       <NA>      IäsNdr   \n",
       "1     Annette   23         20        52287     Berlin       nMJv7   \n",
       "2        Anna   30         30        12106       <NA>  VüL7sÄüDiP   \n",
       "3       Heinz   30         30        84999     Berlin   iaOCXZ2Öe   \n",
       "4        Meik   29         20        48702       <NA>    o4üB5älw   \n",
       "..        ...  ...        ...          ...        ...         ...   \n",
       "95       Paul   27         20        32691     Bremen  ÖK4ACwEöAA   \n",
       "96     Eileen   34         30        48687     Berlin  ÖRÄiIuVrcK   \n",
       "97        Kim   31         30        99487       <NA>       LnIEm   \n",
       "98     Julian   26         20        50861     Bremen       tMöWd   \n",
       "99       Mika   40         40        21597     Bremen  ÜZ6oÄCToRe   \n",
       "\n",
       "           features       history  \n",
       "0      {f, m, P, v}     [A, A, A]  \n",
       "1   {G, e, p, U, f}  [A, C, C, B]  \n",
       "2   {G, n, 3, F, E}            []  \n",
       "3         {y, R, v}     [c, b, a]  \n",
       "4         {i, z, K}  [A, B, C, C]  \n",
       "..              ...           ...  \n",
       "95     {b, F, P, v}            []  \n",
       "96           {M, s}  [A, C, C, B]  \n",
       "97           {z, K}            []  \n",
       "98     {V, B, s, 5}     [a, b, c]  \n",
       "99     {i, U, b, F}     [A, B, C]  \n",
       "\n",
       "[100 rows x 8 columns]"
      ]
     },
     "execution_count": 38,
     "metadata": {},
     "output_type": "execute_result"
    }
   ],
   "source": [
    "df"
   ]
  },
  {
   "cell_type": "code",
   "execution_count": 46,
   "id": "5de1ec99-9b23-4f32-9372-f93c11c241f1",
   "metadata": {
    "execution": {
     "iopub.execute_input": "2025-03-20T22:25:06.095229Z",
     "iopub.status.busy": "2025-03-20T22:25:06.095229Z",
     "iopub.status.idle": "2025-03-20T22:25:10.595295Z",
     "shell.execute_reply": "2025-03-20T22:25:10.595295Z",
     "shell.execute_reply.started": "2025-03-20T22:25:06.095229Z"
    }
   },
   "outputs": [],
   "source": [
    "import dtale\n",
    "d = dtale.show(df)"
   ]
  },
  {
   "cell_type": "code",
   "execution_count": 47,
   "id": "9a6da933-a7d5-4a58-a944-0e53c2b77388",
   "metadata": {
    "execution": {
     "iopub.execute_input": "2025-03-20T22:25:15.111241Z",
     "iopub.status.busy": "2025-03-20T22:25:15.111241Z",
     "iopub.status.idle": "2025-03-20T22:25:15.495178Z",
     "shell.execute_reply": "2025-03-20T22:25:15.495178Z",
     "shell.execute_reply.started": "2025-03-20T22:25:15.111241Z"
    }
   },
   "outputs": [],
   "source": [
    "d.open_browser()"
   ]
  },
  {
   "cell_type": "code",
   "execution_count": null,
   "id": "4723bace-1396-4224-8304-bc15de0e9400",
   "metadata": {},
   "outputs": [],
   "source": []
  }
 ],
 "metadata": {
  "kernelspec": {
   "display_name": "Python 3 (ipykernel)",
   "language": "python",
   "name": "python3"
  },
  "language_info": {
   "codemirror_mode": {
    "name": "ipython",
    "version": 3
   },
   "file_extension": ".py",
   "mimetype": "text/x-python",
   "name": "python",
   "nbconvert_exporter": "python",
   "pygments_lexer": "ipython3",
   "version": "3.12.9"
  }
 },
 "nbformat": 4,
 "nbformat_minor": 5
}
