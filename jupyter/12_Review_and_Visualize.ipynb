{
 "cells": [
  {
   "cell_type": "markdown",
   "id": "c7e3c6d1-83ae-4244-b0f0-b454ef69ab6a",
   "metadata": {},
   "source": [
    "__[Open and try this file online (Colab)](https://colab.research.google.com/github/djekra/pandasklar/blob/master/jupyter/12_Review_and_Visualize.ipynb)__"
   ]
  },
  {
   "cell_type": "markdown",
   "id": "d18ad909-2564-4262-bdcd-2eb7400759b0",
   "metadata": {},
   "source": [
    "# Review and visualize\n",
    "Review and visualize data that meets your criteria. <br>\n",
    "This notebook raises errors for demonstration purpose.\n",
    "* `plot`: Easier plot\n",
    "* `check_mask`: Count rows filtered by a binary mask. Raises an error, if the number is unexpected.\n",
    "* `specials`: Returns rows representing all special values per column.\n",
    "* `sample`: Returns some sample rows: beginning + end + specials + random rows.\n",
    "* `search_str`: Searches all str columns of a dataframe. Useful for development and debugging.\n",
    "* `grid`: Visualize with dtale.\n",
    "* `memory_consumption`: Returns the memory consumption of Python objects."
   ]
  },
  {
   "cell_type": "code",
   "execution_count": 1,
   "id": "773dd654-0638-4337-b8ff-3f82d2e02965",
   "metadata": {},
   "outputs": [
    {
     "name": "stdout",
     "output_type": "stream",
     "text": [
      "blab init\n",
      "environment['dropbox_path'] = /home/me/Data_Linux/Dropbox\n",
      "environment['lib_path']     = /home/me/Data_Linux/Dropbox/31_Projekte/01_Python/libs\n",
      "Start Time: 22:48:17\n"
     ]
    },
    {
     "data": {
      "text/html": [
       "<img src onerror=\"var cell = this.closest('.jp-CodeCell');var editor = cell.querySelector('.jp-Editor');editor.style.background='Beige';this.parentNode.removeChild(this)\">"
      ],
      "text/plain": [
       "<IPython.core.display.HTML object>"
      ]
     },
     "metadata": {},
     "output_type": "display_data"
    },
    {
     "name": "stdout",
     "output_type": "stream",
     "text": [
      "time: 375 ms\n"
     ]
    }
   ],
   "source": [
    "# blab init\n",
    "try:\n",
    "    import blab\n",
    "except ImportError as e:\n",
    "    !pip install blab\n",
    "    import blab    \n",
    "startup_notebook = blab.blab_startup()\n",
    "%run $startup_notebook "
   ]
  },
  {
   "cell_type": "code",
   "execution_count": 2,
   "id": "e673e212-8641-4846-9aa0-3c50199c3df0",
   "metadata": {},
   "outputs": [
    {
     "name": "stdout",
     "output_type": "stream",
     "text": [
      "VERBOSE = True\n",
      "--> setting verbose=True as default for all pandasklar functions\n",
      "\n",
      "time: 1.42 s\n"
     ]
    }
   ],
   "source": [
    "import numpy      as np\n",
    "import pandas     as pd \n",
    "#import bpyth      as bpy\n",
    "\n",
    "# pandasklar\n",
    "try:\n",
    "    import pandasklar as pak \n",
    "except ImportError as e:\n",
    "    !pip install pandasklar\n",
    "    import pandasklar as pak   \n",
    "    \n",
    "# verbose\n",
    "pak.Config.set('VERBOSE', True)\n",
    "\n",
    "grid = pak.grid"
   ]
  },
  {
   "cell_type": "markdown",
   "id": "231eb1e2-6ab3-414c-b258-532a1641b9d2",
   "metadata": {},
   "source": [
    "## plot(): Easier plot"
   ]
  },
  {
   "cell_type": "code",
   "execution_count": 3,
   "id": "c8db5b4d-d6a0-48a2-8bda-cdff9c2b6995",
   "metadata": {},
   "outputs": [
    {
     "data": {
      "text/markdown": [
       "<span style=\"font-size:larger;\">plot(data, x=None, secondary_y=False, ylabel=None, subplots=False, figsize=None, inaccurate_limit=10000, **kwargs):</span>\n",
       "\n",
       "Plots data. All parameters are passed to pandas.DataFrame.plot, but \n",
       "* data:             The data to plot. DataFrame, or list of Series, or any other data \n",
       "                    which can be converted to DataFrame by the pandasklar dataframe function.\n",
       "                    Non-numeric columns are ignored (even for column positions). \n",
       "* x:                Which column to be used as x-axis. Column name or column position.\n",
       "                    x=None -> The index is used as x.   \n",
       "* secondary_y:      Which columns to plot on the secondary y-axis. \n",
       "                    Column name, column position or list of column names.\n",
       "* figsize:          Size of a figure object. Default is (16,3) or (16,4), depending on the data.\n",
       "* inaccurate_limit: From what size should the data be thinned randomly.\n",
       "                    Uses pandasklars sample function, so minimums and maximums are kept.     "
      ],
      "text/plain": [
       "<IPython.core.display.Markdown object>"
      ]
     },
     "metadata": {},
     "output_type": "display_data"
    },
    {
     "name": "stdout",
     "output_type": "stream",
     "text": [
      "time: 34.6 ms\n"
     ]
    }
   ],
   "source": [
    "blab.help(pak.plot)"
   ]
  },
  {
   "cell_type": "code",
   "execution_count": 4,
   "id": "b442d125-0fc0-425d-935c-96ced9682a0a",
   "metadata": {},
   "outputs": [
    {
     "data": {
      "text/html": [
       "<div>\n",
       "<style scoped>\n",
       "    .dataframe tbody tr th:only-of-type {\n",
       "        vertical-align: middle;\n",
       "    }\n",
       "\n",
       "    .dataframe tbody tr th {\n",
       "        vertical-align: top;\n",
       "    }\n",
       "\n",
       "    .dataframe thead th {\n",
       "        text-align: right;\n",
       "    }\n",
       "</style>\n",
       "<table border=\"1\" class=\"dataframe\">\n",
       "  <thead>\n",
       "    <tr style=\"text-align: right;\">\n",
       "      <th></th>\n",
       "      <th>A</th>\n",
       "      <th>B</th>\n",
       "      <th>C</th>\n",
       "      <th>D</th>\n",
       "      <th>E</th>\n",
       "      <th>F</th>\n",
       "      <th>G</th>\n",
       "    </tr>\n",
       "  </thead>\n",
       "  <tbody>\n",
       "    <tr>\n",
       "      <th>0</th>\n",
       "      <td>0.000000</td>\n",
       "      <td>0.000000</td>\n",
       "      <td>1.000000</td>\n",
       "      <td>1.000000</td>\n",
       "      <td>0.000000</td>\n",
       "      <td>0.000000</td>\n",
       "      <td>0.000000</td>\n",
       "    </tr>\n",
       "    <tr>\n",
       "      <th>32</th>\n",
       "      <td>0.375178</td>\n",
       "      <td>0.258461</td>\n",
       "      <td>0.876060</td>\n",
       "      <td>0.399516</td>\n",
       "      <td>0.856328</td>\n",
       "      <td>-0.099293</td>\n",
       "      <td>0.340932</td>\n",
       "    </tr>\n",
       "    <tr>\n",
       "      <th>61</th>\n",
       "      <td>0.436575</td>\n",
       "      <td>0.375498</td>\n",
       "      <td>0.471113</td>\n",
       "      <td>0.071900</td>\n",
       "      <td>-0.535243</td>\n",
       "      <td>-0.624693</td>\n",
       "      <td>1.000000</td>\n",
       "    </tr>\n",
       "    <tr>\n",
       "      <th>74</th>\n",
       "      <td>0.589512</td>\n",
       "      <td>0.501727</td>\n",
       "      <td>0.270542</td>\n",
       "      <td>0.065675</td>\n",
       "      <td>-1.000000</td>\n",
       "      <td>-0.434243</td>\n",
       "      <td>0.232805</td>\n",
       "    </tr>\n",
       "    <tr>\n",
       "      <th>84</th>\n",
       "      <td>0.684056</td>\n",
       "      <td>0.692456</td>\n",
       "      <td>0.153754</td>\n",
       "      <td>0.054401</td>\n",
       "      <td>-0.717108</td>\n",
       "      <td>0.601643</td>\n",
       "      <td>-0.232669</td>\n",
       "    </tr>\n",
       "    <tr>\n",
       "      <th>89</th>\n",
       "      <td>0.840410</td>\n",
       "      <td>0.826786</td>\n",
       "      <td>0.129995</td>\n",
       "      <td>0.037349</td>\n",
       "      <td>-0.455870</td>\n",
       "      <td>-0.008152</td>\n",
       "      <td>-0.350431</td>\n",
       "    </tr>\n",
       "    <tr>\n",
       "      <th>97</th>\n",
       "      <td>0.988164</td>\n",
       "      <td>0.989392</td>\n",
       "      <td>0.012542</td>\n",
       "      <td>0.001913</td>\n",
       "      <td>-0.096608</td>\n",
       "      <td>-1.000000</td>\n",
       "      <td>-0.070501</td>\n",
       "    </tr>\n",
       "    <tr>\n",
       "      <th>99</th>\n",
       "      <td>1.000000</td>\n",
       "      <td>1.000000</td>\n",
       "      <td>0.000000</td>\n",
       "      <td>0.000000</td>\n",
       "      <td>-0.030933</td>\n",
       "      <td>-0.374591</td>\n",
       "      <td>-0.018577</td>\n",
       "    </tr>\n",
       "  </tbody>\n",
       "</table>\n",
       "</div>"
      ],
      "text/plain": [
       "           A         B         C         D         E         F         G\n",
       "0   0.000000  0.000000  1.000000  1.000000  0.000000  0.000000  0.000000\n",
       "32  0.375178  0.258461  0.876060  0.399516  0.856328 -0.099293  0.340932\n",
       "61  0.436575  0.375498  0.471113  0.071900 -0.535243 -0.624693  1.000000\n",
       "74  0.589512  0.501727  0.270542  0.065675 -1.000000 -0.434243  0.232805\n",
       "84  0.684056  0.692456  0.153754  0.054401 -0.717108  0.601643 -0.232669\n",
       "89  0.840410  0.826786  0.129995  0.037349 -0.455870 -0.008152 -0.350431\n",
       "97  0.988164  0.989392  0.012542  0.001913 -0.096608 -1.000000 -0.070501\n",
       "99  1.000000  1.000000  0.000000  0.000000 -0.030933 -0.374591 -0.018577"
      ]
     },
     "execution_count": 4,
     "metadata": {},
     "output_type": "execute_result"
    },
    {
     "name": "stdout",
     "output_type": "stream",
     "text": [
      "time: 229 ms\n"
     ]
    }
   ],
   "source": [
    "# Several types of random numbers, with parameters\n",
    "size = 100\n",
    "a = pak.random_series( size, 'ascending'                    )\n",
    "b = pak.random_series( size, 'ascending'                    )\n",
    "c = pak.random_series( size, 'descending'                   )\n",
    "d = pak.random_series( size, 'descending'                   )\n",
    "e = pak.random_series( size, 'perlin',     freq=2           )\n",
    "f = pak.random_series( size, 'perlin',     freq=[16,1,8,1]  )\n",
    "g = pak.random_series( size, 'perlin',     freq=[4,1,8,128] )\n",
    "\n",
    "df = pak.dataframe( (a,b,c,d,e,f,g), verbose=False )\n",
    "pak.sample(df)"
   ]
  },
  {
   "cell_type": "code",
   "execution_count": 5,
   "id": "a937d047-3b63-4091-9fef-a6ba38b04f20",
   "metadata": {},
   "outputs": [
    {
     "data": {
      "text/plain": [
       "<AxesSubplot: >"
      ]
     },
     "execution_count": 5,
     "metadata": {},
     "output_type": "execute_result"
    },
    {
     "data": {
      "image/png": "[encoded data removed]",
      "text/plain": [
       "<Figure size 1600x400 with 1 Axes>"
      ]
     },
     "metadata": {},
     "output_type": "display_data"
    },
    {
     "name": "stdout",
     "output_type": "stream",
     "text": [
      "time: 400 ms\n"
     ]
    }
   ],
   "source": [
    "# just plot all together\n",
    "%matplotlib inline\n",
    "pak.plot(df)"
   ]
  },
  {
   "cell_type": "code",
   "execution_count": 6,
   "id": "f4f33ae6-f4cf-4a76-a7b9-7607ac9e06ab",
   "metadata": {},
   "outputs": [
    {
     "data": {
      "text/plain": [
       "<AxesSubplot: xlabel='G'>"
      ]
     },
     "execution_count": 6,
     "metadata": {},
     "output_type": "execute_result"
    },
    {
     "data": {
      "image/png": "[encoded data removed]",
      "text/plain": [
       "<Figure size 1600x300 with 1 Axes>"
      ]
     },
     "metadata": {},
     "output_type": "display_data"
    },
    {
     "name": "stdout",
     "output_type": "stream",
     "text": [
      "time: 331 ms\n"
     ]
    }
   ],
   "source": [
    "# plot 2 Series, use different y-axis\n",
    "%matplotlib inline\n",
    "pak.plot(df.A, df.G)"
   ]
  },
  {
   "cell_type": "code",
   "execution_count": 7,
   "id": "2b80b619-f306-41d8-b545-3728c559e602",
   "metadata": {},
   "outputs": [
    {
     "data": {
      "text/plain": [
       "<AxesSubplot: >"
      ]
     },
     "execution_count": 7,
     "metadata": {},
     "output_type": "execute_result"
    },
    {
     "data": {
      "image/png": "[encoded data removed]",
      "text/plain": [
       "<Figure size 1600x300 with 1 Axes>"
      ]
     },
     "metadata": {},
     "output_type": "display_data"
    },
    {
     "name": "stdout",
     "output_type": "stream",
     "text": [
      "time: 379 ms\n"
     ]
    }
   ],
   "source": [
    "# plot E (Perlin) and A (ascending)\n",
    "%matplotlib inline \n",
    "pak.plot(df[list('AE')])"
   ]
  },
  {
   "cell_type": "code",
   "execution_count": 8,
   "id": "2530f3a8-ffd2-429f-975c-b9e7622b1d4e",
   "metadata": {},
   "outputs": [
    {
     "data": {
      "text/plain": [
       "<AxesSubplot: xlabel='A'>"
      ]
     },
     "execution_count": 8,
     "metadata": {},
     "output_type": "execute_result"
    },
    {
     "data": {
      "image/png": "[encoded data removed]",
      "text/plain": [
       "<Figure size 1600x300 with 1 Axes>"
      ]
     },
     "metadata": {},
     "output_type": "display_data"
    },
    {
     "name": "stdout",
     "output_type": "stream",
     "text": [
      "time: 289 ms\n"
     ]
    }
   ],
   "source": [
    "# plot E using A as x-Axis\n",
    "%matplotlib inline \n",
    "pak.plot(df[list('AE')], x='A')"
   ]
  },
  {
   "cell_type": "markdown",
   "id": "0dab7d17-79d0-445a-aae1-bd9589423675",
   "metadata": {},
   "source": [
    "## specials(): Rows representing all special values per column"
   ]
  },
  {
   "cell_type": "code",
   "execution_count": 9,
   "id": "95583a9e-f176-41c8-a69b-ff9c943d9f23",
   "metadata": {},
   "outputs": [
    {
     "name": "stdout",
     "output_type": "stream",
     "text": [
      "time: 84.1 ms\n"
     ]
    },
    {
     "data": {
      "text/plain": [
       "\u001b[0;31mSignature:\u001b[0m\n",
       "\u001b[0mpak\u001b[0m\u001b[0;34m.\u001b[0m\u001b[0mspecials\u001b[0m\u001b[0;34m(\u001b[0m\u001b[0;34m\u001b[0m\n",
       "\u001b[0;34m\u001b[0m    \u001b[0mdf\u001b[0m\u001b[0;34m,\u001b[0m\u001b[0;34m\u001b[0m\n",
       "\u001b[0;34m\u001b[0m    \u001b[0mfind\u001b[0m\u001b[0;34m=\u001b[0m\u001b[0;34m[\u001b[0m\u001b[0;34m'head'\u001b[0m\u001b[0;34m,\u001b[0m \u001b[0;34m'first'\u001b[0m\u001b[0;34m,\u001b[0m \u001b[0;34m'min'\u001b[0m\u001b[0;34m,\u001b[0m \u001b[0;34m'most'\u001b[0m\u001b[0;34m,\u001b[0m \u001b[0;34m'max'\u001b[0m\u001b[0;34m,\u001b[0m \u001b[0;34m'nan'\u001b[0m\u001b[0;34m,\u001b[0m \u001b[0;34m'last'\u001b[0m\u001b[0;34m,\u001b[0m \u001b[0;34m'tail'\u001b[0m\u001b[0;34m]\u001b[0m\u001b[0;34m,\u001b[0m\u001b[0;34m\u001b[0m\n",
       "\u001b[0;34m\u001b[0m    \u001b[0mindicator\u001b[0m\u001b[0;34m=\u001b[0m\u001b[0;32mNone\u001b[0m\u001b[0;34m,\u001b[0m\u001b[0;34m\u001b[0m\n",
       "\u001b[0;34m\u001b[0m    \u001b[0msort\u001b[0m\u001b[0;34m=\u001b[0m\u001b[0;34m'index'\u001b[0m\u001b[0;34m,\u001b[0m\u001b[0;34m\u001b[0m\n",
       "\u001b[0;34m\u001b[0m\u001b[0;34m)\u001b[0m\u001b[0;34m\u001b[0m\u001b[0;34m\u001b[0m\u001b[0m\n",
       "\u001b[0;31mDocstring:\u001b[0m\n",
       "Returns rows representing all special values per column.\n",
       "The resulting dataframe has the same minimums and maximums per column as the input dataframe, \n",
       "and if a column in the input contains NaNs the result will contain NaNs as well.\n",
       "* find: List of what values are searched. \n",
       "  Possible values: 'head','first','min','most','max','nan','last','tail'\n",
       "* indicator: Show additional column with a note, why the row is in the result\n",
       "\u001b[0;31mFile:\u001b[0m      ~/Data_Linux/Dropbox/31_Projekte/01_Python/git/pandasklar/src/pandasklar/subsets.py\n",
       "\u001b[0;31mType:\u001b[0m      function\n"
      ]
     },
     "metadata": {},
     "output_type": "display_data"
    }
   ],
   "source": [
    "?pak.specials"
   ]
  },
  {
   "cell_type": "code",
   "execution_count": 10,
   "id": "89b18ca9-1a49-49c8-826c-81b092c625cb",
   "metadata": {},
   "outputs": [
    {
     "name": "stdout",
     "output_type": "stream",
     "text": [
      "time: 1.09 s\n"
     ]
    }
   ],
   "source": [
    "# create test data\n",
    "\n",
    "size = 10000 #00\n",
    "df6 = pak.people(size)\n",
    "df5 = df6.head(int(size/10))\n",
    "df4 = df6.head(int(size/100))\n",
    "df3 = df6.head(int(size/1000))"
   ]
  },
  {
   "cell_type": "code",
   "execution_count": 11,
   "id": "8726a053-9824-495e-9c64-ec0f467fd20d",
   "metadata": {},
   "outputs": [
    {
     "data": {
      "text/html": [
       "<div>\n",
       "<style scoped>\n",
       "    .dataframe tbody tr th:only-of-type {\n",
       "        vertical-align: middle;\n",
       "    }\n",
       "\n",
       "    .dataframe tbody tr th {\n",
       "        vertical-align: top;\n",
       "    }\n",
       "\n",
       "    .dataframe thead th {\n",
       "        text-align: right;\n",
       "    }\n",
       "</style>\n",
       "<table border=\"1\" class=\"dataframe\">\n",
       "  <thead>\n",
       "    <tr style=\"text-align: right;\">\n",
       "      <th></th>\n",
       "      <th>first_name</th>\n",
       "      <th>age</th>\n",
       "      <th>age_class</th>\n",
       "      <th>postal_code</th>\n",
       "      <th>birthplace</th>\n",
       "      <th>secret</th>\n",
       "      <th>features</th>\n",
       "      <th>history</th>\n",
       "      <th>n</th>\n",
       "    </tr>\n",
       "  </thead>\n",
       "  <tbody>\n",
       "    <tr>\n",
       "      <th>0</th>\n",
       "      <td>Rudolph</td>\n",
       "      <td>37</td>\n",
       "      <td>30</td>\n",
       "      <td>24092</td>\n",
       "      <td>Berlin</td>\n",
       "      <td>suuADK</td>\n",
       "      <td>{W, 0, L, I}</td>\n",
       "      <td>[b, b, a, b]</td>\n",
       "      <td>head secret_first postal_code_first first_name...</td>\n",
       "    </tr>\n",
       "    <tr>\n",
       "      <th>25</th>\n",
       "      <td>Erich</td>\n",
       "      <td>20</td>\n",
       "      <td>20</td>\n",
       "      <td>46273</td>\n",
       "      <td>&lt;NA&gt;</td>\n",
       "      <td>oEäPycB3uM</td>\n",
       "      <td>{E, d, J, X}</td>\n",
       "      <td>[A, A, A]</td>\n",
       "      <td>age_min age_class_min age_class_last birthplac...</td>\n",
       "    </tr>\n",
       "    <tr>\n",
       "      <th>28</th>\n",
       "      <td>Detlef</td>\n",
       "      <td>39</td>\n",
       "      <td>30</td>\n",
       "      <td>64269</td>\n",
       "      <td>&lt;NA&gt;</td>\n",
       "      <td>uyEBKÄ</td>\n",
       "      <td>{U, R, y, 2}</td>\n",
       "      <td>[]</td>\n",
       "      <td>first_name_most age_class_first age_class_most...</td>\n",
       "    </tr>\n",
       "    <tr>\n",
       "      <th>34</th>\n",
       "      <td>Maike</td>\n",
       "      <td>33</td>\n",
       "      <td>30</td>\n",
       "      <td>&lt;NA&gt;</td>\n",
       "      <td>Bremen</td>\n",
       "      <td>cmÖmH7</td>\n",
       "      <td>{B, R, s}</td>\n",
       "      <td>[A, C, C, B]</td>\n",
       "      <td>postal_code_nan age_class_first age_class_most...</td>\n",
       "    </tr>\n",
       "    <tr>\n",
       "      <th>57</th>\n",
       "      <td>Moritz</td>\n",
       "      <td>31</td>\n",
       "      <td>30</td>\n",
       "      <td>99994</td>\n",
       "      <td>Berlin</td>\n",
       "      <td>o35F4</td>\n",
       "      <td>{b, F, U, L}</td>\n",
       "      <td>[A, C, C, B]</td>\n",
       "      <td>postal_code_max age_most age_class_first age_c...</td>\n",
       "    </tr>\n",
       "    <tr>\n",
       "      <th>109</th>\n",
       "      <td>Niclas</td>\n",
       "      <td>42</td>\n",
       "      <td>40</td>\n",
       "      <td>85277</td>\n",
       "      <td>&lt;NA&gt;</td>\n",
       "      <td>Jiss4qf</td>\n",
       "      <td>{h, k, y, X}</td>\n",
       "      <td>[c, b, a]</td>\n",
       "      <td>age_max age_class_max birthplace_nan</td>\n",
       "    </tr>\n",
       "    <tr>\n",
       "      <th>189</th>\n",
       "      <td>Zoe</td>\n",
       "      <td>34</td>\n",
       "      <td>30</td>\n",
       "      <td>28634</td>\n",
       "      <td>Berlin</td>\n",
       "      <td>MCNA6N5öq2</td>\n",
       "      <td>{h, q, f, a}</td>\n",
       "      <td>[a, b, c]</td>\n",
       "      <td>first_name_max age_class_first age_class_most ...</td>\n",
       "    </tr>\n",
       "    <tr>\n",
       "      <th>292</th>\n",
       "      <td>Adolf</td>\n",
       "      <td>29</td>\n",
       "      <td>20</td>\n",
       "      <td>37722</td>\n",
       "      <td>Bremen</td>\n",
       "      <td>ha5ziPUäOU</td>\n",
       "      <td>{B, q}</td>\n",
       "      <td>[A, B, C]</td>\n",
       "      <td>first_name_min age_class_min age_class_last bi...</td>\n",
       "    </tr>\n",
       "    <tr>\n",
       "      <th>2080</th>\n",
       "      <td>Neele</td>\n",
       "      <td>32</td>\n",
       "      <td>30</td>\n",
       "      <td>13629</td>\n",
       "      <td>Berlin</td>\n",
       "      <td>AEu3Gj</td>\n",
       "      <td>{b, m}</td>\n",
       "      <td>[A, B, C]</td>\n",
       "      <td>features_most</td>\n",
       "    </tr>\n",
       "    <tr>\n",
       "      <th>2568</th>\n",
       "      <td>Josephine</td>\n",
       "      <td>38</td>\n",
       "      <td>30</td>\n",
       "      <td>10035</td>\n",
       "      <td>Berlin</td>\n",
       "      <td>0HMDGOj</td>\n",
       "      <td>{F, C, Q, M}</td>\n",
       "      <td>[c, b, a]</td>\n",
       "      <td>postal_code_min age_class_first age_class_most...</td>\n",
       "    </tr>\n",
       "    <tr>\n",
       "      <th>6815</th>\n",
       "      <td>Fabian</td>\n",
       "      <td>31</td>\n",
       "      <td>30</td>\n",
       "      <td>20229</td>\n",
       "      <td>Bremen</td>\n",
       "      <td>00SGaRXf</td>\n",
       "      <td>{n, T}</td>\n",
       "      <td>[b, b, a, b]</td>\n",
       "      <td>postal_code_most age_most age_class_first age_...</td>\n",
       "    </tr>\n",
       "    <tr>\n",
       "      <th>7534</th>\n",
       "      <td>Elisabeth</td>\n",
       "      <td>26</td>\n",
       "      <td>20</td>\n",
       "      <td>60341</td>\n",
       "      <td>Berlin</td>\n",
       "      <td>üülusIw</td>\n",
       "      <td>{l, 1, m}</td>\n",
       "      <td>[A, x]</td>\n",
       "      <td>secret_max age_last age_class_min age_class_la...</td>\n",
       "    </tr>\n",
       "    <tr>\n",
       "      <th>8533</th>\n",
       "      <td>Mia</td>\n",
       "      <td>32</td>\n",
       "      <td>30</td>\n",
       "      <td>27406</td>\n",
       "      <td>&lt;NA&gt;</td>\n",
       "      <td>00HfgÜSu8Y</td>\n",
       "      <td>{w, P}</td>\n",
       "      <td>[a, b, c]</td>\n",
       "      <td>secret_min secret_most age_class_first age_cla...</td>\n",
       "    </tr>\n",
       "    <tr>\n",
       "      <th>9999</th>\n",
       "      <td>Stefan</td>\n",
       "      <td>26</td>\n",
       "      <td>20</td>\n",
       "      <td>88616</td>\n",
       "      <td>&lt;NA&gt;</td>\n",
       "      <td>NneBI4jt</td>\n",
       "      <td>{t, r, e}</td>\n",
       "      <td>[A, B, C]</td>\n",
       "      <td>secret_last postal_code_last first_name_last a...</td>\n",
       "    </tr>\n",
       "  </tbody>\n",
       "</table>\n",
       "</div>"
      ],
      "text/plain": [
       "     first_name  age  age_class  postal_code birthplace      secret  \\\n",
       "0       Rudolph   37         30        24092     Berlin      suuADK   \n",
       "25        Erich   20         20        46273       <NA>  oEäPycB3uM   \n",
       "28       Detlef   39         30        64269       <NA>      uyEBKÄ   \n",
       "34        Maike   33         30         <NA>     Bremen      cmÖmH7   \n",
       "57       Moritz   31         30        99994     Berlin       o35F4   \n",
       "109      Niclas   42         40        85277       <NA>     Jiss4qf   \n",
       "189         Zoe   34         30        28634     Berlin  MCNA6N5öq2   \n",
       "292       Adolf   29         20        37722     Bremen  ha5ziPUäOU   \n",
       "2080      Neele   32         30        13629     Berlin      AEu3Gj   \n",
       "2568  Josephine   38         30        10035     Berlin     0HMDGOj   \n",
       "6815     Fabian   31         30        20229     Bremen    00SGaRXf   \n",
       "7534  Elisabeth   26         20        60341     Berlin     üülusIw   \n",
       "8533        Mia   32         30        27406       <NA>  00HfgÜSu8Y   \n",
       "9999     Stefan   26         20        88616       <NA>    NneBI4jt   \n",
       "\n",
       "          features       history  \\\n",
       "0     {W, 0, L, I}  [b, b, a, b]   \n",
       "25    {E, d, J, X}     [A, A, A]   \n",
       "28    {U, R, y, 2}            []   \n",
       "34       {B, R, s}  [A, C, C, B]   \n",
       "57    {b, F, U, L}  [A, C, C, B]   \n",
       "109   {h, k, y, X}     [c, b, a]   \n",
       "189   {h, q, f, a}     [a, b, c]   \n",
       "292         {B, q}     [A, B, C]   \n",
       "2080        {b, m}     [A, B, C]   \n",
       "2568  {F, C, Q, M}     [c, b, a]   \n",
       "6815        {n, T}  [b, b, a, b]   \n",
       "7534     {l, 1, m}        [A, x]   \n",
       "8533        {w, P}     [a, b, c]   \n",
       "9999     {t, r, e}     [A, B, C]   \n",
       "\n",
       "                                                      n  \n",
       "0     head secret_first postal_code_first first_name...  \n",
       "25    age_min age_class_min age_class_last birthplac...  \n",
       "28    first_name_most age_class_first age_class_most...  \n",
       "34    postal_code_nan age_class_first age_class_most...  \n",
       "57    postal_code_max age_most age_class_first age_c...  \n",
       "109                age_max age_class_max birthplace_nan  \n",
       "189   first_name_max age_class_first age_class_most ...  \n",
       "292   first_name_min age_class_min age_class_last bi...  \n",
       "2080                                      features_most  \n",
       "2568  postal_code_min age_class_first age_class_most...  \n",
       "6815  postal_code_most age_most age_class_first age_...  \n",
       "7534  secret_max age_last age_class_min age_class_la...  \n",
       "8533  secret_min secret_most age_class_first age_cla...  \n",
       "9999  secret_last postal_code_last first_name_last a...  "
      ]
     },
     "execution_count": 11,
     "metadata": {},
     "output_type": "execute_result"
    },
    {
     "name": "stdout",
     "output_type": "stream",
     "text": [
      "time: 294 ms\n"
     ]
    }
   ],
   "source": [
    "a = pak.specials(df6, indicator='n')\n",
    "a"
   ]
  },
  {
   "cell_type": "markdown",
   "id": "2bfe90f4-2248-435d-9360-0838e82e722d",
   "metadata": {},
   "source": [
    "## sample(): Returns some sample rows"
   ]
  },
  {
   "cell_type": "code",
   "execution_count": 12,
   "id": "7c9db8af-51b5-4e92-ba45-5870ae41d094",
   "metadata": {},
   "outputs": [
    {
     "name": "stdout",
     "output_type": "stream",
     "text": [
      "time: 29.7 ms\n"
     ]
    },
    {
     "data": {
      "text/plain": [
       "\u001b[0;31mSignature:\u001b[0m \u001b[0mpak\u001b[0m\u001b[0;34m.\u001b[0m\u001b[0msample\u001b[0m\u001b[0;34m(\u001b[0m\u001b[0mdf\u001b[0m\u001b[0;34m,\u001b[0m \u001b[0msize\u001b[0m\u001b[0;34m=\u001b[0m\u001b[0;32mNone\u001b[0m\u001b[0;34m)\u001b[0m\u001b[0;34m\u001b[0m\u001b[0;34m\u001b[0m\u001b[0m\n",
       "\u001b[0;31mDocstring:\u001b[0m\n",
       "Returns some sample rows.\n",
       "Always the beginning and the end, \n",
       "plus the other specials() --see there--,\n",
       "plus some random rows.\n",
       "* size: Number of rows to return. If size=None, all specials() are returned.\n",
       "\u001b[0;31mFile:\u001b[0m      ~/Data_Linux/Dropbox/31_Projekte/01_Python/git/pandasklar/src/pandasklar/subsets.py\n",
       "\u001b[0;31mType:\u001b[0m      function\n"
      ]
     },
     "metadata": {},
     "output_type": "display_data"
    }
   ],
   "source": [
    "?pak.sample"
   ]
  },
  {
   "cell_type": "code",
   "execution_count": 13,
   "id": "aeae0828-5ee5-4502-8891-b317c58e4d19",
   "metadata": {},
   "outputs": [
    {
     "name": "stdout",
     "output_type": "stream",
     "text": [
      "time: 960 ms\n"
     ]
    }
   ],
   "source": [
    "# create test data\n",
    "\n",
    "size = 10000 #00\n",
    "df6 = pak.people(size)\n",
    "df5 = df6.head(int(size/10))\n",
    "df4 = df6.head(int(size/100))\n",
    "df3 = df6.head(int(size/1000))\n",
    "df = df4"
   ]
  },
  {
   "cell_type": "code",
   "execution_count": 14,
   "id": "f6b68492-3c87-48d2-aefb-403fefee4b41",
   "metadata": {},
   "outputs": [
    {
     "data": {
      "text/html": [
       "<div>\n",
       "<style scoped>\n",
       "    .dataframe tbody tr th:only-of-type {\n",
       "        vertical-align: middle;\n",
       "    }\n",
       "\n",
       "    .dataframe tbody tr th {\n",
       "        vertical-align: top;\n",
       "    }\n",
       "\n",
       "    .dataframe thead th {\n",
       "        text-align: right;\n",
       "    }\n",
       "</style>\n",
       "<table border=\"1\" class=\"dataframe\">\n",
       "  <thead>\n",
       "    <tr style=\"text-align: right;\">\n",
       "      <th></th>\n",
       "      <th>first_name</th>\n",
       "      <th>age</th>\n",
       "      <th>age_class</th>\n",
       "      <th>postal_code</th>\n",
       "      <th>birthplace</th>\n",
       "      <th>secret</th>\n",
       "      <th>features</th>\n",
       "      <th>history</th>\n",
       "    </tr>\n",
       "  </thead>\n",
       "  <tbody>\n",
       "    <tr>\n",
       "      <th>0</th>\n",
       "      <td>Noah</td>\n",
       "      <td>32</td>\n",
       "      <td>30</td>\n",
       "      <td>20251</td>\n",
       "      <td>&lt;NA&gt;</td>\n",
       "      <td>V1DquUxT</td>\n",
       "      <td>{T, K, X, z}</td>\n",
       "      <td>[a, b, c]</td>\n",
       "    </tr>\n",
       "    <tr>\n",
       "      <th>11</th>\n",
       "      <td>Willi</td>\n",
       "      <td>29</td>\n",
       "      <td>20</td>\n",
       "      <td>&lt;NA&gt;</td>\n",
       "      <td>Bremen</td>\n",
       "      <td>WGT7Ä</td>\n",
       "      <td>{O, G, r, s}</td>\n",
       "      <td>[a, b, c]</td>\n",
       "    </tr>\n",
       "    <tr>\n",
       "      <th>50</th>\n",
       "      <td>Denis</td>\n",
       "      <td>42</td>\n",
       "      <td>40</td>\n",
       "      <td>60880</td>\n",
       "      <td>&lt;NA&gt;</td>\n",
       "      <td>0wsöA1jkÄ</td>\n",
       "      <td>{c, E, 4}</td>\n",
       "      <td>[c, b, a]</td>\n",
       "    </tr>\n",
       "    <tr>\n",
       "      <th>54</th>\n",
       "      <td>Zoe</td>\n",
       "      <td>37</td>\n",
       "      <td>30</td>\n",
       "      <td>22948</td>\n",
       "      <td>Bremen</td>\n",
       "      <td>SlH3snOg</td>\n",
       "      <td>{2, q, a, I}</td>\n",
       "      <td>[A, B, C]</td>\n",
       "    </tr>\n",
       "    <tr>\n",
       "      <th>102</th>\n",
       "      <td>Ingeborg</td>\n",
       "      <td>20</td>\n",
       "      <td>20</td>\n",
       "      <td>23891</td>\n",
       "      <td>&lt;NA&gt;</td>\n",
       "      <td>DwS59g</td>\n",
       "      <td>{r, S, y, X, t}</td>\n",
       "      <td>[b, b, a, b]</td>\n",
       "    </tr>\n",
       "    <tr>\n",
       "      <th>160</th>\n",
       "      <td>Adolf</td>\n",
       "      <td>32</td>\n",
       "      <td>30</td>\n",
       "      <td>18489</td>\n",
       "      <td>Berlin</td>\n",
       "      <td>goimC1äDQD</td>\n",
       "      <td>{H, i, q, h}</td>\n",
       "      <td>[A, B, C, C]</td>\n",
       "    </tr>\n",
       "    <tr>\n",
       "      <th>326</th>\n",
       "      <td>Frieda</td>\n",
       "      <td>40</td>\n",
       "      <td>40</td>\n",
       "      <td>39922</td>\n",
       "      <td>&lt;NA&gt;</td>\n",
       "      <td>tOkaiÄZLäS</td>\n",
       "      <td>{z, Q, 2, S, h}</td>\n",
       "      <td>[c, b, a]</td>\n",
       "    </tr>\n",
       "    <tr>\n",
       "      <th>404</th>\n",
       "      <td>Detlef</td>\n",
       "      <td>31</td>\n",
       "      <td>30</td>\n",
       "      <td>99979</td>\n",
       "      <td>Bremen</td>\n",
       "      <td>ü0iUjB3F</td>\n",
       "      <td>{b, 5, R, W}</td>\n",
       "      <td>[A, B, C]</td>\n",
       "    </tr>\n",
       "    <tr>\n",
       "      <th>1273</th>\n",
       "      <td>Anton</td>\n",
       "      <td>38</td>\n",
       "      <td>30</td>\n",
       "      <td>10000</td>\n",
       "      <td>Bremen</td>\n",
       "      <td>aFHä3jU</td>\n",
       "      <td>{h, A, S}</td>\n",
       "      <td>[A, B, C, C]</td>\n",
       "    </tr>\n",
       "    <tr>\n",
       "      <th>1683</th>\n",
       "      <td>Marina</td>\n",
       "      <td>28</td>\n",
       "      <td>20</td>\n",
       "      <td>56824</td>\n",
       "      <td>Berlin</td>\n",
       "      <td>üüaD4IH</td>\n",
       "      <td>{R, L, P, O, k}</td>\n",
       "      <td>[c, b, a]</td>\n",
       "    </tr>\n",
       "    <tr>\n",
       "      <th>2187</th>\n",
       "      <td>Pauline</td>\n",
       "      <td>35</td>\n",
       "      <td>30</td>\n",
       "      <td>29087</td>\n",
       "      <td>Bremen</td>\n",
       "      <td>00BTöp</td>\n",
       "      <td>{D, v}</td>\n",
       "      <td>[A, x]</td>\n",
       "    </tr>\n",
       "    <tr>\n",
       "      <th>4748</th>\n",
       "      <td>Bastian</td>\n",
       "      <td>37</td>\n",
       "      <td>30</td>\n",
       "      <td>96867</td>\n",
       "      <td>Bremen</td>\n",
       "      <td>Ü3ukRrksE</td>\n",
       "      <td>{1, q, z}</td>\n",
       "      <td>[A, B, C]</td>\n",
       "    </tr>\n",
       "    <tr>\n",
       "      <th>6219</th>\n",
       "      <td>Ingrid</td>\n",
       "      <td>30</td>\n",
       "      <td>30</td>\n",
       "      <td>57133</td>\n",
       "      <td>&lt;NA&gt;</td>\n",
       "      <td>U6WmpqOXÄ</td>\n",
       "      <td>{b, i, v}</td>\n",
       "      <td>[A, x]</td>\n",
       "    </tr>\n",
       "    <tr>\n",
       "      <th>7396</th>\n",
       "      <td>Stella</td>\n",
       "      <td>28</td>\n",
       "      <td>20</td>\n",
       "      <td>55323</td>\n",
       "      <td>Berlin</td>\n",
       "      <td>ÄvNüuTIm</td>\n",
       "      <td>{w, 0, T, G}</td>\n",
       "      <td>[A, B, C, C]</td>\n",
       "    </tr>\n",
       "    <tr>\n",
       "      <th>9999</th>\n",
       "      <td>Isabel</td>\n",
       "      <td>24</td>\n",
       "      <td>20</td>\n",
       "      <td>35094</td>\n",
       "      <td>&lt;NA&gt;</td>\n",
       "      <td>ur0hd</td>\n",
       "      <td>{c, T, l}</td>\n",
       "      <td>[A, B, C]</td>\n",
       "    </tr>\n",
       "  </tbody>\n",
       "</table>\n",
       "</div>"
      ],
      "text/plain": [
       "     first_name  age  age_class  postal_code birthplace      secret  \\\n",
       "0          Noah   32         30        20251       <NA>    V1DquUxT   \n",
       "11        Willi   29         20         <NA>     Bremen       WGT7Ä   \n",
       "50        Denis   42         40        60880       <NA>   0wsöA1jkÄ   \n",
       "54          Zoe   37         30        22948     Bremen    SlH3snOg   \n",
       "102    Ingeborg   20         20        23891       <NA>      DwS59g   \n",
       "160       Adolf   32         30        18489     Berlin  goimC1äDQD   \n",
       "326      Frieda   40         40        39922       <NA>  tOkaiÄZLäS   \n",
       "404      Detlef   31         30        99979     Bremen    ü0iUjB3F   \n",
       "1273      Anton   38         30        10000     Bremen     aFHä3jU   \n",
       "1683     Marina   28         20        56824     Berlin     üüaD4IH   \n",
       "2187    Pauline   35         30        29087     Bremen      00BTöp   \n",
       "4748    Bastian   37         30        96867     Bremen   Ü3ukRrksE   \n",
       "6219     Ingrid   30         30        57133       <NA>   U6WmpqOXÄ   \n",
       "7396     Stella   28         20        55323     Berlin    ÄvNüuTIm   \n",
       "9999     Isabel   24         20        35094       <NA>       ur0hd   \n",
       "\n",
       "             features       history  \n",
       "0        {T, K, X, z}     [a, b, c]  \n",
       "11       {O, G, r, s}     [a, b, c]  \n",
       "50          {c, E, 4}     [c, b, a]  \n",
       "54       {2, q, a, I}     [A, B, C]  \n",
       "102   {r, S, y, X, t}  [b, b, a, b]  \n",
       "160      {H, i, q, h}  [A, B, C, C]  \n",
       "326   {z, Q, 2, S, h}     [c, b, a]  \n",
       "404      {b, 5, R, W}     [A, B, C]  \n",
       "1273        {h, A, S}  [A, B, C, C]  \n",
       "1683  {R, L, P, O, k}     [c, b, a]  \n",
       "2187           {D, v}        [A, x]  \n",
       "4748        {1, q, z}     [A, B, C]  \n",
       "6219        {b, i, v}        [A, x]  \n",
       "7396     {w, 0, T, G}  [A, B, C, C]  \n",
       "9999        {c, T, l}     [A, B, C]  "
      ]
     },
     "execution_count": 14,
     "metadata": {},
     "output_type": "execute_result"
    },
    {
     "name": "stdout",
     "output_type": "stream",
     "text": [
      "time: 289 ms\n"
     ]
    }
   ],
   "source": [
    "pak.sample(df6,15)"
   ]
  },
  {
   "cell_type": "code",
   "execution_count": 15,
   "id": "ac4607a1-25cc-48c2-bb15-9be343357436",
   "metadata": {},
   "outputs": [
    {
     "data": {
      "text/html": [
       "<div>\n",
       "<style scoped>\n",
       "    .dataframe tbody tr th:only-of-type {\n",
       "        vertical-align: middle;\n",
       "    }\n",
       "\n",
       "    .dataframe tbody tr th {\n",
       "        vertical-align: top;\n",
       "    }\n",
       "\n",
       "    .dataframe thead th {\n",
       "        text-align: right;\n",
       "    }\n",
       "</style>\n",
       "<table border=\"1\" class=\"dataframe\">\n",
       "  <thead>\n",
       "    <tr style=\"text-align: right;\">\n",
       "      <th></th>\n",
       "      <th>first_name</th>\n",
       "      <th>age</th>\n",
       "      <th>age_class</th>\n",
       "      <th>postal_code</th>\n",
       "      <th>birthplace</th>\n",
       "      <th>secret</th>\n",
       "      <th>features</th>\n",
       "      <th>history</th>\n",
       "    </tr>\n",
       "  </thead>\n",
       "  <tbody>\n",
       "    <tr>\n",
       "      <th>0</th>\n",
       "      <td>Noah</td>\n",
       "      <td>32</td>\n",
       "      <td>30</td>\n",
       "      <td>20251</td>\n",
       "      <td>&lt;NA&gt;</td>\n",
       "      <td>V1DquUxT</td>\n",
       "      <td>{T, K, X, z}</td>\n",
       "      <td>[a, b, c]</td>\n",
       "    </tr>\n",
       "    <tr>\n",
       "      <th>1</th>\n",
       "      <td>Karin</td>\n",
       "      <td>26</td>\n",
       "      <td>20</td>\n",
       "      <td>31953</td>\n",
       "      <td>Bremen</td>\n",
       "      <td>3RohyÖJäf</td>\n",
       "      <td>{V, B, K, m}</td>\n",
       "      <td>[A, x]</td>\n",
       "    </tr>\n",
       "    <tr>\n",
       "      <th>2</th>\n",
       "      <td>Finn</td>\n",
       "      <td>34</td>\n",
       "      <td>30</td>\n",
       "      <td>95813</td>\n",
       "      <td>Berlin</td>\n",
       "      <td>uqdgJhseJ</td>\n",
       "      <td>{M, T, Y, L}</td>\n",
       "      <td>[b, b, a, b]</td>\n",
       "    </tr>\n",
       "    <tr>\n",
       "      <th>3</th>\n",
       "      <td>Hildegard</td>\n",
       "      <td>31</td>\n",
       "      <td>30</td>\n",
       "      <td>68816</td>\n",
       "      <td>Bremen</td>\n",
       "      <td>S4x6QVdzöN</td>\n",
       "      <td>{k, 0, e, g}</td>\n",
       "      <td>[A, C, C, B]</td>\n",
       "    </tr>\n",
       "    <tr>\n",
       "      <th>4</th>\n",
       "      <td>Sandra</td>\n",
       "      <td>31</td>\n",
       "      <td>30</td>\n",
       "      <td>49242</td>\n",
       "      <td>Bremen</td>\n",
       "      <td>1e1cLSRa</td>\n",
       "      <td>{C, j, 0}</td>\n",
       "      <td>[c, b, a]</td>\n",
       "    </tr>\n",
       "    <tr>\n",
       "      <th>5</th>\n",
       "      <td>Thorsten</td>\n",
       "      <td>27</td>\n",
       "      <td>20</td>\n",
       "      <td>94505</td>\n",
       "      <td>Berlin</td>\n",
       "      <td>jäjjXnm</td>\n",
       "      <td>{U, G, O, y, E}</td>\n",
       "      <td>[A, B, C]</td>\n",
       "    </tr>\n",
       "    <tr>\n",
       "      <th>6</th>\n",
       "      <td>Louise</td>\n",
       "      <td>34</td>\n",
       "      <td>30</td>\n",
       "      <td>31005</td>\n",
       "      <td>&lt;NA&gt;</td>\n",
       "      <td>us30d</td>\n",
       "      <td>{i, q}</td>\n",
       "      <td>[]</td>\n",
       "    </tr>\n",
       "    <tr>\n",
       "      <th>7</th>\n",
       "      <td>Anke</td>\n",
       "      <td>33</td>\n",
       "      <td>30</td>\n",
       "      <td>88351</td>\n",
       "      <td>Berlin</td>\n",
       "      <td>v0PÖDYj</td>\n",
       "      <td>{H, u}</td>\n",
       "      <td>[A, A, A]</td>\n",
       "    </tr>\n",
       "    <tr>\n",
       "      <th>8</th>\n",
       "      <td>Sascha</td>\n",
       "      <td>35</td>\n",
       "      <td>30</td>\n",
       "      <td>50897</td>\n",
       "      <td>Bremen</td>\n",
       "      <td>VJpuK2aäÖw</td>\n",
       "      <td>{j, T, o, U}</td>\n",
       "      <td>[A, B, C, C]</td>\n",
       "    </tr>\n",
       "    <tr>\n",
       "      <th>9</th>\n",
       "      <td>Christiane</td>\n",
       "      <td>30</td>\n",
       "      <td>30</td>\n",
       "      <td>92675</td>\n",
       "      <td>Berlin</td>\n",
       "      <td>hSBtuuÜYWi</td>\n",
       "      <td>{Z, g}</td>\n",
       "      <td>[A, A, A]</td>\n",
       "    </tr>\n",
       "  </tbody>\n",
       "</table>\n",
       "</div>"
      ],
      "text/plain": [
       "   first_name  age  age_class  postal_code birthplace      secret  \\\n",
       "0        Noah   32         30        20251       <NA>    V1DquUxT   \n",
       "1       Karin   26         20        31953     Bremen   3RohyÖJäf   \n",
       "2        Finn   34         30        95813     Berlin   uqdgJhseJ   \n",
       "3   Hildegard   31         30        68816     Bremen  S4x6QVdzöN   \n",
       "4      Sandra   31         30        49242     Bremen    1e1cLSRa   \n",
       "5    Thorsten   27         20        94505     Berlin     jäjjXnm   \n",
       "6      Louise   34         30        31005       <NA>       us30d   \n",
       "7        Anke   33         30        88351     Berlin     v0PÖDYj   \n",
       "8      Sascha   35         30        50897     Bremen  VJpuK2aäÖw   \n",
       "9  Christiane   30         30        92675     Berlin  hSBtuuÜYWi   \n",
       "\n",
       "          features       history  \n",
       "0     {T, K, X, z}     [a, b, c]  \n",
       "1     {V, B, K, m}        [A, x]  \n",
       "2     {M, T, Y, L}  [b, b, a, b]  \n",
       "3     {k, 0, e, g}  [A, C, C, B]  \n",
       "4        {C, j, 0}     [c, b, a]  \n",
       "5  {U, G, O, y, E}     [A, B, C]  \n",
       "6           {i, q}            []  \n",
       "7           {H, u}     [A, A, A]  \n",
       "8     {j, T, o, U}  [A, B, C, C]  \n",
       "9           {Z, g}     [A, A, A]  "
      ]
     },
     "execution_count": 15,
     "metadata": {},
     "output_type": "execute_result"
    },
    {
     "name": "stdout",
     "output_type": "stream",
     "text": [
      "time: 56 ms\n"
     ]
    }
   ],
   "source": [
    "pak.sample(df3,1005)"
   ]
  },
  {
   "cell_type": "markdown",
   "id": "f040f24c-3987-475a-b82b-17580ba69824",
   "metadata": {},
   "source": [
    "## search_str(): Searches all str columns of a dataframe"
   ]
  },
  {
   "cell_type": "code",
   "execution_count": 16,
   "id": "fdb683bd-684b-45c2-95a0-d624eba48b00",
   "metadata": {},
   "outputs": [
    {
     "name": "stdout",
     "output_type": "stream",
     "text": [
      "time: 31.4 ms\n"
     ]
    },
    {
     "data": {
      "text/plain": [
       "\u001b[0;31mSignature:\u001b[0m \u001b[0mpak\u001b[0m\u001b[0;34m.\u001b[0m\u001b[0msearch_str\u001b[0m\u001b[0;34m(\u001b[0m\u001b[0mdf\u001b[0m\u001b[0;34m,\u001b[0m \u001b[0mfind\u001b[0m\u001b[0;34m,\u001b[0m \u001b[0mwithout\u001b[0m\u001b[0;34m=\u001b[0m\u001b[0;34m[\u001b[0m\u001b[0;34m]\u001b[0m\u001b[0;34m)\u001b[0m\u001b[0;34m\u001b[0m\u001b[0;34m\u001b[0m\u001b[0m\n",
       "\u001b[0;31mDocstring:\u001b[0m\n",
       "Searches all str columns of a dataframe.\n",
       "Useful for development and debugging.\n",
       "* find:    What is to be found?                  String or list of strings.\n",
       "* without: Which columns should not be searched? String or list of strings.    \n",
       "\u001b[0;31mFile:\u001b[0m      ~/Data_Linux/Dropbox/31_Projekte/01_Python/git/pandasklar/src/pandasklar/develop.py\n",
       "\u001b[0;31mType:\u001b[0m      function\n"
      ]
     },
     "metadata": {},
     "output_type": "display_data"
    }
   ],
   "source": [
    "?pak.search_str"
   ]
  },
  {
   "cell_type": "code",
   "execution_count": 17,
   "id": "d9b1c748-51ef-4dc2-b9fe-20e46ef48c16",
   "metadata": {},
   "outputs": [
    {
     "name": "stdout",
     "output_type": "stream",
     "text": [
      "search for ['Hamburg', 'Alexander']\n",
      "time: 39.9 ms\n"
     ]
    }
   ],
   "source": [
    "# create mask: most frequent first_name\n",
    "find = ['Hamburg', pak.most_freq_elt(df.first_name)]\n",
    "print('search for',find)"
   ]
  },
  {
   "cell_type": "code",
   "execution_count": 18,
   "id": "264cbe92-9224-4014-bfbc-a5fd24fe9444",
   "metadata": {
    "tags": []
   },
   "outputs": [
    {
     "data": {
      "text/html": [
       "<div>\n",
       "<style scoped>\n",
       "    .dataframe tbody tr th:only-of-type {\n",
       "        vertical-align: middle;\n",
       "    }\n",
       "\n",
       "    .dataframe tbody tr th {\n",
       "        vertical-align: top;\n",
       "    }\n",
       "\n",
       "    .dataframe thead th {\n",
       "        text-align: right;\n",
       "    }\n",
       "</style>\n",
       "<table border=\"1\" class=\"dataframe\">\n",
       "  <thead>\n",
       "    <tr style=\"text-align: right;\">\n",
       "      <th></th>\n",
       "      <th>first_name</th>\n",
       "      <th>age</th>\n",
       "      <th>age_class</th>\n",
       "      <th>postal_code</th>\n",
       "      <th>birthplace</th>\n",
       "      <th>secret</th>\n",
       "      <th>features</th>\n",
       "      <th>history</th>\n",
       "    </tr>\n",
       "  </thead>\n",
       "  <tbody>\n",
       "    <tr>\n",
       "      <th>34</th>\n",
       "      <td>Alexander</td>\n",
       "      <td>35</td>\n",
       "      <td>30</td>\n",
       "      <td>19892</td>\n",
       "      <td>&lt;NA&gt;</td>\n",
       "      <td>tlzuPT</td>\n",
       "      <td>{c, M, N, G}</td>\n",
       "      <td>[b, b, a, b]</td>\n",
       "    </tr>\n",
       "  </tbody>\n",
       "</table>\n",
       "</div>"
      ],
      "text/plain": [
       "   first_name  age  age_class  postal_code birthplace  secret      features  \\\n",
       "34  Alexander   35         30        19892       <NA>  tlzuPT  {c, M, N, G}   \n",
       "\n",
       "         history  \n",
       "34  [b, b, a, b]  "
      ]
     },
     "execution_count": 18,
     "metadata": {},
     "output_type": "execute_result"
    },
    {
     "name": "stdout",
     "output_type": "stream",
     "text": [
      "time: 79.3 ms\n"
     ]
    }
   ],
   "source": [
    "pak.search_str(df, find)"
   ]
  },
  {
   "cell_type": "markdown",
   "id": "fa5d1418-e8c2-4708-8068-ac6b08686af2",
   "metadata": {},
   "source": [
    "## check_mask(): Count rows filtered by a binary mask"
   ]
  },
  {
   "cell_type": "code",
   "execution_count": 19,
   "id": "f73b996b-70f7-4d47-a5c2-448d339f28ec",
   "metadata": {},
   "outputs": [
    {
     "name": "stdout",
     "output_type": "stream",
     "text": [
      "time: 30.4 ms\n"
     ]
    },
    {
     "data": {
      "text/plain": [
       "\u001b[0;31mSignature:\u001b[0m\n",
       "\u001b[0mpak\u001b[0m\u001b[0;34m.\u001b[0m\u001b[0mcheck_mask\u001b[0m\u001b[0;34m(\u001b[0m\u001b[0;34m\u001b[0m\n",
       "\u001b[0;34m\u001b[0m    \u001b[0mdf\u001b[0m\u001b[0;34m,\u001b[0m\u001b[0;34m\u001b[0m\n",
       "\u001b[0;34m\u001b[0m    \u001b[0mmask\u001b[0m\u001b[0;34m,\u001b[0m\u001b[0;34m\u001b[0m\n",
       "\u001b[0;34m\u001b[0m    \u001b[0mexpectation_min\u001b[0m\u001b[0;34m=\u001b[0m\u001b[0;32mNone\u001b[0m\u001b[0;34m,\u001b[0m\u001b[0;34m\u001b[0m\n",
       "\u001b[0;34m\u001b[0m    \u001b[0mexpectation_max\u001b[0m\u001b[0;34m=\u001b[0m\u001b[0;32mNone\u001b[0m\u001b[0;34m,\u001b[0m\u001b[0;34m\u001b[0m\n",
       "\u001b[0;34m\u001b[0m    \u001b[0mmsg\u001b[0m\u001b[0;34m=\u001b[0m\u001b[0;34m''\u001b[0m\u001b[0;34m,\u001b[0m\u001b[0;34m\u001b[0m\n",
       "\u001b[0;34m\u001b[0m    \u001b[0mstop\u001b[0m\u001b[0;34m=\u001b[0m\u001b[0;32mTrue\u001b[0m\u001b[0;34m,\u001b[0m\u001b[0;34m\u001b[0m\n",
       "\u001b[0;34m\u001b[0m    \u001b[0mverbose\u001b[0m\u001b[0;34m=\u001b[0m\u001b[0;32mNone\u001b[0m\u001b[0;34m,\u001b[0m\u001b[0;34m\u001b[0m\n",
       "\u001b[0;34m\u001b[0m\u001b[0;34m)\u001b[0m\u001b[0;34m\u001b[0m\u001b[0;34m\u001b[0m\u001b[0m\n",
       "\u001b[0;31mDocstring:\u001b[0m\n",
       "Count rows filtered by a binary mask.\n",
       "Raises an error, if the number is unexpected.\n",
       "\n",
       "Examples:\n",
       "==========\n",
       "check_mask( df, mask )         # just show the number of rows   \n",
       "check_mask( df, mask, 2000 )   # checks for about 2000 rows (if not 0: not more than double, not less than half)\n",
       "check_mask( df, mask, 0 )      # checks for exactly 0 rows    \n",
       "check_mask( df, mask, 10, 50)  # checks for 10..50 rows\n",
       "\n",
       "Example with later raise:\n",
       "=========================\n",
       "error = check_mask(df, mask, 214, stop=False)        \n",
       "grid(df, mask, error)        \n",
       "bpy.raise_if(error)\n",
       "\u001b[0;31mFile:\u001b[0m      ~/Data_Linux/Dropbox/31_Projekte/01_Python/git/pandasklar/src/pandasklar/develop.py\n",
       "\u001b[0;31mType:\u001b[0m      function\n"
      ]
     },
     "metadata": {},
     "output_type": "display_data"
    }
   ],
   "source": [
    "?pak.check_mask"
   ]
  },
  {
   "cell_type": "code",
   "execution_count": 20,
   "id": "4b47a9d4-233e-4d1f-88e0-d10621612f8b",
   "metadata": {},
   "outputs": [
    {
     "name": "stdout",
     "output_type": "stream",
     "text": [
      "time: 55.7 ms\n"
     ]
    }
   ],
   "source": [
    "# define mask\n",
    "mask = (df.age >= 30)  &  (df.age < 40) \n",
    "#df[mask]"
   ]
  },
  {
   "cell_type": "code",
   "execution_count": 21,
   "id": "a85e05a5-1a4c-4aa7-8182-f843ec7a9324",
   "metadata": {},
   "outputs": [
    {
     "name": "stdout",
     "output_type": "stream",
     "text": [
      "check_mask:  63 rows\n",
      "time: 35.6 ms\n"
     ]
    }
   ],
   "source": [
    "# just show the number of rows\n",
    "pak.check_mask(df, mask)"
   ]
  },
  {
   "cell_type": "code",
   "execution_count": 22,
   "id": "e4514535-4bbf-422c-b8a9-a1e90c3cd016",
   "metadata": {},
   "outputs": [
    {
     "name": "stdout",
     "output_type": "stream",
     "text": [
      "check_mask:  63 rows\n",
      "time: 32.2 ms\n"
     ]
    }
   ],
   "source": [
    "# checks for about 50 rows\n",
    "pak.check_mask(df, mask, 50)"
   ]
  },
  {
   "cell_type": "code",
   "execution_count": 23,
   "id": "d8ff4ab8-331c-4778-b9c2-a8033775373e",
   "metadata": {},
   "outputs": [
    {
     "name": "stdout",
     "output_type": "stream",
     "text": [
      "check_mask:  63 rows\n",
      "time: 35.4 ms\n"
     ]
    }
   ],
   "source": [
    "# checks for about 50 rows\n",
    "pak.check_mask(df, mask, 50, verbose=True)"
   ]
  },
  {
   "cell_type": "code",
   "execution_count": 24,
   "id": "9cfe4010-bda6-4f23-a0d6-79cb22b4251c",
   "metadata": {},
   "outputs": [
    {
     "name": "stdout",
     "output_type": "stream",
     "text": [
      "check_mask:  63 rows\n",
      "time: 35.8 ms\n"
     ]
    }
   ],
   "source": [
    "# checks for 0..100 rows\n",
    "pak.check_mask(df, mask, 0, 100)"
   ]
  },
  {
   "cell_type": "markdown",
   "id": "b7688157",
   "metadata": {},
   "source": [
    "## grid(): Visualize with dtale"
   ]
  },
  {
   "cell_type": "code",
   "execution_count": 25,
   "id": "6be4b7ef-6225-4f2a-b214-a792ecbbc4a1",
   "metadata": {},
   "outputs": [
    {
     "name": "stdout",
     "output_type": "stream",
     "text": [
      "time: 46.5 ms\n"
     ]
    },
    {
     "data": {
      "text/plain": [
       "\u001b[0;31mSignature:\u001b[0m \u001b[0mgrid\u001b[0m\u001b[0;34m(\u001b[0m\u001b[0mdf\u001b[0m\u001b[0;34m,\u001b[0m \u001b[0mmask\u001b[0m\u001b[0;34m=\u001b[0m\u001b[0;32mNone\u001b[0m\u001b[0;34m,\u001b[0m \u001b[0merror\u001b[0m\u001b[0;34m=\u001b[0m\u001b[0;34m'€€€'\u001b[0m\u001b[0;34m,\u001b[0m \u001b[0mcolor\u001b[0m\u001b[0;34m=\u001b[0m\u001b[0;34m'blue'\u001b[0m\u001b[0;34m,\u001b[0m \u001b[0;34m**\u001b[0m\u001b[0mkwargs\u001b[0m\u001b[0;34m)\u001b[0m\u001b[0;34m\u001b[0m\u001b[0;34m\u001b[0m\u001b[0m\n",
       "\u001b[0;31mDocstring:\u001b[0m\n",
       "Visualization of a DataFrame using dtale.\n",
       "* df:     DataFrame to show\n",
       "* mask:   Binary mask, function or Searchstring to reduce the number of rows\n",
       "* error:  Error message\n",
       "* color:  Color of the error message.\n",
       "* kwargs: Options for dtale. See https://github.com/man-group/dtale#instance-settings\n",
       "          Caution: This will affect all grids in this notebook...\n",
       "dtale may not work in a multiscreen setting on windows.\n",
       "\n",
       "=== Examples ===\n",
       "grid(df)                        # show all rows\n",
       "grid(df,mask)                   # show with binary mask    \n",
       "grid(df,sample)                 # show with functionally mask\n",
       "\n",
       "=== For error indication after check_mask ===\n",
       "error = check_mask(df, mask, 900, stop=False)\n",
       "grid(df, mask, error) \n",
       "and later: raise_if(error)\n",
       "\u001b[0;31mFile:\u001b[0m      ~/Data_Linux/Dropbox/31_Projekte/01_Python/git/pandasklar/src/pandasklar/develop.py\n",
       "\u001b[0;31mType:\u001b[0m      function\n"
      ]
     },
     "metadata": {},
     "output_type": "display_data"
    }
   ],
   "source": [
    "?grid"
   ]
  },
  {
   "cell_type": "code",
   "execution_count": 26,
   "id": "c6cb3af4-4aa1-47fa-8a47-1fad8ee88e32",
   "metadata": {},
   "outputs": [
    {
     "name": "stdout",
     "output_type": "stream",
     "text": [
      "100 rows\n"
     ]
    },
    {
     "data": {
      "text/html": [
       "\n",
       "        <iframe\n",
       "            width=\"100%\"\n",
       "            height=\"475\"\n",
       "            src=\"http://pop-os:40000/dtale/iframe/1\"\n",
       "            frameborder=\"0\"\n",
       "            allowfullscreen\n",
       "            \n",
       "        ></iframe>\n",
       "        "
      ],
      "text/plain": [
       "<IPython.lib.display.IFrame at 0x7fc33ff65550>"
      ]
     },
     "metadata": {},
     "output_type": "display_data"
    },
    {
     "data": {
      "text/plain": []
     },
     "execution_count": 26,
     "metadata": {},
     "output_type": "execute_result"
    },
    {
     "name": "stdout",
     "output_type": "stream",
     "text": [
      "time: 214 ms\n"
     ]
    }
   ],
   "source": [
    "# show\n",
    "grid(df)"
   ]
  },
  {
   "cell_type": "markdown",
   "id": "245132da-e234-45a7-a548-1a6393b1e9c8",
   "metadata": {},
   "source": [
    "### grid(): Use mask"
   ]
  },
  {
   "cell_type": "code",
   "execution_count": 27,
   "id": "0bd9d46f-f5bb-4469-9286-a446ccbb39dd",
   "metadata": {},
   "outputs": [
    {
     "name": "stdout",
     "output_type": "stream",
     "text": [
      "11 rows out of 100\n"
     ]
    },
    {
     "data": {
      "text/html": [
       "\n",
       "        <iframe\n",
       "            width=\"100%\"\n",
       "            height=\"475\"\n",
       "            src=\"http://pop-os:40000/dtale/iframe/2\"\n",
       "            frameborder=\"0\"\n",
       "            allowfullscreen\n",
       "            \n",
       "        ></iframe>\n",
       "        "
      ],
      "text/plain": [
       "<IPython.lib.display.IFrame at 0x7fc3884e05b0>"
      ]
     },
     "metadata": {},
     "output_type": "display_data"
    },
    {
     "data": {
      "text/plain": []
     },
     "execution_count": 27,
     "metadata": {},
     "output_type": "execute_result"
    },
    {
     "name": "stdout",
     "output_type": "stream",
     "text": [
      "time: 406 ms\n"
     ]
    }
   ],
   "source": [
    "# Function as mask\n",
    "grid(df, pak.sample)"
   ]
  },
  {
   "cell_type": "code",
   "execution_count": 28,
   "id": "0b171cd5-4a69-4d31-8c5f-cc5f34e6858f",
   "metadata": {},
   "outputs": [
    {
     "name": "stdout",
     "output_type": "stream",
     "text": [
      "91 rows out of 100\n"
     ]
    },
    {
     "data": {
      "text/html": [
       "\n",
       "        <iframe\n",
       "            width=\"100%\"\n",
       "            height=\"475\"\n",
       "            src=\"http://pop-os:40000/dtale/iframe/3\"\n",
       "            frameborder=\"0\"\n",
       "            allowfullscreen\n",
       "            \n",
       "        ></iframe>\n",
       "        "
      ],
      "text/plain": [
       "<IPython.lib.display.IFrame at 0x7fc344c47ca0>"
      ]
     },
     "metadata": {},
     "output_type": "display_data"
    },
    {
     "data": {
      "text/plain": []
     },
     "execution_count": 28,
     "metadata": {},
     "output_type": "execute_result"
    },
    {
     "name": "stdout",
     "output_type": "stream",
     "text": [
      "time: 168 ms\n"
     ]
    }
   ],
   "source": [
    "# Binary mask\n",
    "mask = df.age > 25\n",
    "grid(df, mask)"
   ]
  },
  {
   "cell_type": "markdown",
   "id": "a964fe1a-7ce2-4db5-aa90-07cd6553ad49",
   "metadata": {},
   "source": [
    "### grid() options\n",
    "Some grid options are global, e.g. max_column_width. If you set this option to a value later in your notebook, all grids in the notebook are rendered with this column_width. If you find a way to change this, send me a message."
   ]
  },
  {
   "cell_type": "code",
   "execution_count": 29,
   "id": "4f86a672-eb7a-4c56-9aa3-db24c758aca6",
   "metadata": {},
   "outputs": [
    {
     "name": "stdout",
     "output_type": "stream",
     "text": [
      "time: 32.8 ms\n"
     ]
    }
   ],
   "source": [
    "# global Settings\n",
    "pak.set_grid(max_column_width=200)"
   ]
  },
  {
   "cell_type": "code",
   "execution_count": 30,
   "id": "2a395033-f941-4ea4-bd9f-d99e1d3c0872",
   "metadata": {},
   "outputs": [
    {
     "name": "stdout",
     "output_type": "stream",
     "text": [
      "100 rows\n"
     ]
    },
    {
     "data": {
      "text/html": [
       "\n",
       "        <iframe\n",
       "            width=\"100%\"\n",
       "            height=\"475\"\n",
       "            src=\"http://pop-os:40000/dtale/iframe/4\"\n",
       "            frameborder=\"0\"\n",
       "            allowfullscreen\n",
       "            \n",
       "        ></iframe>\n",
       "        "
      ],
      "text/plain": [
       "<IPython.lib.display.IFrame at 0x7fc3444e4c10>"
      ]
     },
     "metadata": {},
     "output_type": "display_data"
    },
    {
     "data": {
      "text/plain": []
     },
     "execution_count": 30,
     "metadata": {},
     "output_type": "execute_result"
    },
    {
     "name": "stdout",
     "output_type": "stream",
     "text": [
      "time: 149 ms\n"
     ]
    }
   ],
   "source": [
    "# show \n",
    "grid(df)"
   ]
  },
  {
   "cell_type": "markdown",
   "id": "be02d79a-8dd7-4e54-8fe9-b89046e2022e",
   "metadata": {},
   "source": [
    "### grid(): Advanced Formating\n",
    "See options on https://github.com/man-group/dtale#instance-settings"
   ]
  },
  {
   "cell_type": "code",
   "execution_count": 31,
   "id": "afb14de4-e5ba-48a8-8615-4c9fdb617535",
   "metadata": {},
   "outputs": [
    {
     "name": "stdout",
     "output_type": "stream",
     "text": [
      "91 rows out of 100\n"
     ]
    },
    {
     "data": {
      "text/html": [
       "\n",
       "        <iframe\n",
       "            width=\"100%\"\n",
       "            height=\"475\"\n",
       "            src=\"http://pop-os:40000/dtale/iframe/5\"\n",
       "            frameborder=\"0\"\n",
       "            allowfullscreen\n",
       "            \n",
       "        ></iframe>\n",
       "        "
      ],
      "text/plain": [
       "<IPython.lib.display.IFrame at 0x7fc34513b790>"
      ]
     },
     "metadata": {},
     "output_type": "display_data"
    },
    {
     "data": {
      "text/plain": []
     },
     "execution_count": 31,
     "metadata": {},
     "output_type": "execute_result"
    },
    {
     "name": "stdout",
     "output_type": "stream",
     "text": [
      "time: 147 ms\n"
     ]
    }
   ],
   "source": [
    "mask = df.age > 25\n",
    "grid(df, mask, sort=[('first_name','ASC')], background_mode='heatmap-col-age')\n",
    "#grid(df, mask, drop_index=True,)"
   ]
  },
  {
   "cell_type": "markdown",
   "id": "03d54916-78f9-4da1-ae3d-4acecfedb9f6",
   "metadata": {},
   "source": [
    "### grid(): Special cases"
   ]
  },
  {
   "cell_type": "code",
   "execution_count": 32,
   "id": "bf26d5b2-c670-4fe4-aed7-9d6a5231c96c",
   "metadata": {},
   "outputs": [
    {
     "name": "stdout",
     "output_type": "stream",
     "text": [
      "\u001b[1m\u001b[7m\u001b[31mNothing to show\u001b[0m\n",
      "time: 44.9 ms\n"
     ]
    }
   ],
   "source": [
    "# No DataFrame\n",
    "grid(None)"
   ]
  },
  {
   "cell_type": "code",
   "execution_count": 33,
   "id": "7225ca3d-6e57-4d44-b0bc-0f2cdb985d55",
   "metadata": {},
   "outputs": [
    {
     "name": "stdout",
     "output_type": "stream",
     "text": [
      "\u001b[1m\u001b[7m\u001b[34mNo rows\u001b[0m\n",
      "time: 43.1 ms\n"
     ]
    }
   ],
   "source": [
    "# Empty DataFrame\n",
    "d = pd.DataFrame()\n",
    "grid(d)"
   ]
  },
  {
   "cell_type": "code",
   "execution_count": 34,
   "id": "b2019ec2-84c5-4fa0-b764-faa01ec92447",
   "metadata": {},
   "outputs": [
    {
     "name": "stdout",
     "output_type": "stream",
     "text": [
      "\u001b[1m\u001b[7m\u001b[34mNo rows, mask filters them all away\u001b[0m\n",
      "time: 34.9 ms\n"
     ]
    }
   ],
   "source": [
    "# 100% filtered \n",
    "mask = df.age > 1000\n",
    "grid(df,mask)"
   ]
  },
  {
   "cell_type": "code",
   "execution_count": 35,
   "id": "37d339e7-164b-43c3-8cff-5b9183afad87",
   "metadata": {},
   "outputs": [
    {
     "name": "stdout",
     "output_type": "stream",
     "text": [
      "\u001b[1m\u001b[7m\u001b[32mNo rows, mask filters them all away\u001b[0m\n",
      "time: 40 ms\n"
     ]
    }
   ],
   "source": [
    "# 100% filtered, and this is good\n",
    "mask = df.age > 1000\n",
    "grid(df,mask, color='green')"
   ]
  },
  {
   "cell_type": "code",
   "execution_count": 36,
   "id": "94fabd0f-d568-48bd-a9f0-ace60646ab68",
   "metadata": {},
   "outputs": [
    {
     "name": "stdout",
     "output_type": "stream",
     "text": [
      "\u001b[1m\u001b[7m\u001b[31mNo rows, mask filters them all away\u001b[0m\n",
      "time: 34.1 ms\n"
     ]
    }
   ],
   "source": [
    "# 100% filtered, and this is bad\n",
    "mask = df.age > 1000\n",
    "grid(df,mask, color='red')"
   ]
  },
  {
   "cell_type": "markdown",
   "id": "1067b294-87f2-43d2-8c8f-a5542ef1629c",
   "metadata": {},
   "source": [
    "### grid() & check_mask(): Show error rows and raise later"
   ]
  },
  {
   "cell_type": "code",
   "execution_count": 37,
   "id": "af8fa7b9-06cd-477a-9d61-c00396c2659f",
   "metadata": {},
   "outputs": [
    {
     "name": "stdout",
     "output_type": "stream",
     "text": [
      "check_mask:  0 rows\n",
      "time: 39 ms\n"
     ]
    }
   ],
   "source": [
    "# define a mask that contains errors\n",
    "# say our error is df.birthplace == 'Hamburg',\n",
    "# we don't want that to happen,\n",
    "# but if it happens we would like to see the rows\n",
    "mask = df.birthplace == 'Hamburg'\n",
    "pak.check_mask(df,mask)"
   ]
  },
  {
   "cell_type": "code",
   "execution_count": 38,
   "id": "70ac89d9-b0d9-4a62-abcd-11925fecd2e1",
   "metadata": {},
   "outputs": [
    {
     "name": "stdout",
     "output_type": "stream",
     "text": [
      "check_mask:  0 rows\n",
      "time: 38 ms\n"
     ]
    }
   ],
   "source": [
    "# checking for 0 raises an error, as we want.\n",
    "# But we don't see the rows affected\n",
    "pak.check_mask(df,mask, 0)"
   ]
  },
  {
   "cell_type": "code",
   "execution_count": 39,
   "id": "14fdc7e8-cd11-4a4c-a2f7-12673a19c562",
   "metadata": {},
   "outputs": [
    {
     "name": "stdout",
     "output_type": "stream",
     "text": [
      "check_mask:  0 rows\n",
      "\u001b[1m\u001b[7m\u001b[34mNo rows, mask filters them all away\u001b[0m\n",
      "time: 38.1 ms\n"
     ]
    }
   ],
   "source": [
    "# so we use this to show the error rows first\n",
    "error = pak.check_mask(df,mask, 0, stop=False)\n",
    "grid(df, mask, error) "
   ]
  },
  {
   "cell_type": "code",
   "execution_count": 40,
   "id": "90e49181-c1c9-4c78-97c3-c3271321ba64",
   "metadata": {},
   "outputs": [
    {
     "name": "stdout",
     "output_type": "stream",
     "text": [
      "time: 39.7 ms\n"
     ]
    }
   ],
   "source": [
    "# and raise later\n",
    "bpy.raise_if(error)"
   ]
  },
  {
   "cell_type": "markdown",
   "id": "3f8b99de-87a4-42b8-9748-63dd2a45f76e",
   "metadata": {},
   "source": [
    "## memory_consumption"
   ]
  },
  {
   "cell_type": "code",
   "execution_count": 41,
   "id": "40eda3d2-885c-4ffb-afe5-8ca32f6e7361",
   "metadata": {},
   "outputs": [
    {
     "name": "stdout",
     "output_type": "stream",
     "text": [
      "time: 32.3 ms\n"
     ]
    },
    {
     "data": {
      "text/plain": [
       "\u001b[0;31mSignature:\u001b[0m \u001b[0mpak\u001b[0m\u001b[0;34m.\u001b[0m\u001b[0mmemory_consumption\u001b[0m\u001b[0;34m(\u001b[0m\u001b[0miteration_of_objects\u001b[0m\u001b[0;34m,\u001b[0m \u001b[0mlimit\u001b[0m\u001b[0;34m=\u001b[0m\u001b[0;36m10\u001b[0m\u001b[0;34m,\u001b[0m \u001b[0muse_rtype\u001b[0m\u001b[0;34m=\u001b[0m\u001b[0;32mTrue\u001b[0m\u001b[0;34m)\u001b[0m\u001b[0;34m\u001b[0m\u001b[0;34m\u001b[0m\u001b[0m\n",
       "\u001b[0;31mDocstring:\u001b[0m\n",
       "Returns the memory consumption of Python objects.\n",
       "* iteration_of_objects: can be e.g. a DataFrame or just locals()\n",
       "* limit: Limits the output size\n",
       "* use_rtype: Use rtype instead of type?\n",
       "\n",
       "For the memory consumption of the biggest 10 local variables call:\n",
       "bpy.memory_consumption( locals() )\n",
       "\u001b[0;31mFile:\u001b[0m      ~/Data_Linux/Dropbox/31_Projekte/01_Python/git/pandasklar/src/pandasklar/analyse.py\n",
       "\u001b[0;31mType:\u001b[0m      function\n"
      ]
     },
     "metadata": {},
     "output_type": "display_data"
    }
   ],
   "source": [
    "?pak.memory_consumption"
   ]
  },
  {
   "cell_type": "code",
   "execution_count": 42,
   "id": "68f45c73-37bc-43df-82db-78ad2c73022b",
   "metadata": {},
   "outputs": [
    {
     "data": {
      "text/html": [
       "<div>\n",
       "<style scoped>\n",
       "    .dataframe tbody tr th:only-of-type {\n",
       "        vertical-align: middle;\n",
       "    }\n",
       "\n",
       "    .dataframe tbody tr th {\n",
       "        vertical-align: top;\n",
       "    }\n",
       "\n",
       "    .dataframe thead th {\n",
       "        text-align: right;\n",
       "    }\n",
       "</style>\n",
       "<table border=\"1\" class=\"dataframe\">\n",
       "  <thead>\n",
       "    <tr style=\"text-align: right;\">\n",
       "      <th></th>\n",
       "      <th>name</th>\n",
       "      <th>rtype</th>\n",
       "      <th>size</th>\n",
       "    </tr>\n",
       "  </thead>\n",
       "  <tbody>\n",
       "    <tr>\n",
       "      <th>0</th>\n",
       "      <td>df6</td>\n",
       "      <td>(DataFrame, Series)</td>\n",
       "      <td>5.7 MB</td>\n",
       "    </tr>\n",
       "    <tr>\n",
       "      <th>1</th>\n",
       "      <td>df5</td>\n",
       "      <td>(DataFrame, Series)</td>\n",
       "      <td>585.2 KB</td>\n",
       "    </tr>\n",
       "    <tr>\n",
       "      <th>2</th>\n",
       "      <td>df</td>\n",
       "      <td>(DataFrame, Series)</td>\n",
       "      <td>58.1 KB</td>\n",
       "    </tr>\n",
       "    <tr>\n",
       "      <th>3</th>\n",
       "      <td>df4</td>\n",
       "      <td>(DataFrame, Series)</td>\n",
       "      <td>58.1 KB</td>\n",
       "    </tr>\n",
       "    <tr>\n",
       "      <th>4</th>\n",
       "      <td>_14</td>\n",
       "      <td>(DataFrame, Series)</td>\n",
       "      <td>8.9 KB</td>\n",
       "    </tr>\n",
       "    <tr>\n",
       "      <th>5</th>\n",
       "      <td>a</td>\n",
       "      <td>(DataFrame, Series)</td>\n",
       "      <td>8.7 KB</td>\n",
       "    </tr>\n",
       "    <tr>\n",
       "      <th>6</th>\n",
       "      <td>_11</td>\n",
       "      <td>(DataFrame, Series)</td>\n",
       "      <td>8.7 KB</td>\n",
       "    </tr>\n",
       "    <tr>\n",
       "      <th>7</th>\n",
       "      <td>df3</td>\n",
       "      <td>(DataFrame, Series)</td>\n",
       "      <td>5.5 KB</td>\n",
       "    </tr>\n",
       "    <tr>\n",
       "      <th>8</th>\n",
       "      <td>_15</td>\n",
       "      <td>(DataFrame, Series)</td>\n",
       "      <td>5.5 KB</td>\n",
       "    </tr>\n",
       "    <tr>\n",
       "      <th>9</th>\n",
       "      <td>Stop</td>\n",
       "      <td>(type,)</td>\n",
       "      <td>1.0 KB</td>\n",
       "    </tr>\n",
       "  </tbody>\n",
       "</table>\n",
       "</div>"
      ],
      "text/plain": [
       "   name                rtype      size\n",
       "0   df6  (DataFrame, Series)    5.7 MB\n",
       "1   df5  (DataFrame, Series)  585.2 KB\n",
       "2    df  (DataFrame, Series)   58.1 KB\n",
       "3   df4  (DataFrame, Series)   58.1 KB\n",
       "4   _14  (DataFrame, Series)    8.9 KB\n",
       "5     a  (DataFrame, Series)    8.7 KB\n",
       "6   _11  (DataFrame, Series)    8.7 KB\n",
       "7   df3  (DataFrame, Series)    5.5 KB\n",
       "8   _15  (DataFrame, Series)    5.5 KB\n",
       "9  Stop              (type,)    1.0 KB"
      ]
     },
     "execution_count": 42,
     "metadata": {},
     "output_type": "execute_result"
    },
    {
     "name": "stdout",
     "output_type": "stream",
     "text": [
      "time: 76.6 ms\n"
     ]
    }
   ],
   "source": [
    "# All local variables\n",
    "r = pak.memory_consumption( locals() )\n",
    "r"
   ]
  },
  {
   "cell_type": "code",
   "execution_count": 43,
   "id": "6fa802c7-a86b-4569-8343-835c414209d0",
   "metadata": {},
   "outputs": [
    {
     "data": {
      "text/html": [
       "<div>\n",
       "<style scoped>\n",
       "    .dataframe tbody tr th:only-of-type {\n",
       "        vertical-align: middle;\n",
       "    }\n",
       "\n",
       "    .dataframe tbody tr th {\n",
       "        vertical-align: top;\n",
       "    }\n",
       "\n",
       "    .dataframe thead th {\n",
       "        text-align: right;\n",
       "    }\n",
       "</style>\n",
       "<table border=\"1\" class=\"dataframe\">\n",
       "  <thead>\n",
       "    <tr style=\"text-align: right;\">\n",
       "      <th></th>\n",
       "      <th>name</th>\n",
       "      <th>rtype</th>\n",
       "      <th>size</th>\n",
       "    </tr>\n",
       "  </thead>\n",
       "  <tbody>\n",
       "    <tr>\n",
       "      <th>0</th>\n",
       "      <td>features</td>\n",
       "      <td>(Series, set, str)</td>\n",
       "      <td>30.5 KB</td>\n",
       "    </tr>\n",
       "    <tr>\n",
       "      <th>1</th>\n",
       "      <td>secret</td>\n",
       "      <td>(Series, str)</td>\n",
       "      <td>8.4 KB</td>\n",
       "    </tr>\n",
       "    <tr>\n",
       "      <th>2</th>\n",
       "      <td>history</td>\n",
       "      <td>(Series, list, str)</td>\n",
       "      <td>7.1 KB</td>\n",
       "    </tr>\n",
       "    <tr>\n",
       "      <th>3</th>\n",
       "      <td>first_name</td>\n",
       "      <td>(Series, str)</td>\n",
       "      <td>6.3 KB</td>\n",
       "    </tr>\n",
       "    <tr>\n",
       "      <th>4</th>\n",
       "      <td>birthplace</td>\n",
       "      <td>(Series, NAType)</td>\n",
       "      <td>5.5 KB</td>\n",
       "    </tr>\n",
       "    <tr>\n",
       "      <th>5</th>\n",
       "      <td>postal_code</td>\n",
       "      <td>(Series, int32)</td>\n",
       "      <td>644.0 B</td>\n",
       "    </tr>\n",
       "    <tr>\n",
       "      <th>6</th>\n",
       "      <td>age</td>\n",
       "      <td>(Series, int8)</td>\n",
       "      <td>344.0 B</td>\n",
       "    </tr>\n",
       "    <tr>\n",
       "      <th>7</th>\n",
       "      <td>age_class</td>\n",
       "      <td>(Series, int8)</td>\n",
       "      <td>344.0 B</td>\n",
       "    </tr>\n",
       "  </tbody>\n",
       "</table>\n",
       "</div>"
      ],
      "text/plain": [
       "          name                rtype     size\n",
       "0     features   (Series, set, str)  30.5 KB\n",
       "1       secret        (Series, str)   8.4 KB\n",
       "2      history  (Series, list, str)   7.1 KB\n",
       "3   first_name        (Series, str)   6.3 KB\n",
       "4   birthplace     (Series, NAType)   5.5 KB\n",
       "5  postal_code      (Series, int32)  644.0 B\n",
       "6          age       (Series, int8)  344.0 B\n",
       "7    age_class       (Series, int8)  344.0 B"
      ]
     },
     "execution_count": 43,
     "metadata": {},
     "output_type": "execute_result"
    },
    {
     "name": "stdout",
     "output_type": "stream",
     "text": [
      "time: 37.8 ms\n"
     ]
    }
   ],
   "source": [
    "# If you give a DataFrame, it will return the column sizes\n",
    "pak.memory_consumption( df )"
   ]
  },
  {
   "cell_type": "code",
   "execution_count": null,
   "id": "c374094a-f236-4da1-bd4a-ebaf0f50652e",
   "metadata": {},
   "outputs": [],
   "source": []
  }
 ],
 "metadata": {
  "kernelspec": {
   "display_name": "Python 3 (ipykernel)",
   "language": "python",
   "name": "python3"
  },
  "language_info": {
   "codemirror_mode": {
    "name": "ipython",
    "version": 3
   },
   "file_extension": ".py",
   "mimetype": "text/x-python",
   "name": "python",
   "nbconvert_exporter": "python",
   "pygments_lexer": "ipython3",
   "version": "3.9.13"
  }
 },
 "nbformat": 4,
 "nbformat_minor": 5
}
