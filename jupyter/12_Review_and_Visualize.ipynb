{
 "cells": [
  {
   "cell_type": "code",
   "execution_count": 39,
   "id": "61e55565",
   "metadata": {},
   "outputs": [
    {
     "name": "stdout",
     "output_type": "stream",
     "text": [
      "blab init\n",
      "blab found local libs at /media/me/DATA/Dropbox/31_Projekte/01_Python/libs\n",
      "Start Time: 00:02:10\n"
     ]
    },
    {
     "data": {
      "text/html": [
       "<img src onerror=\"var cell = this.closest('.jp-CodeCell');var editor = cell.querySelector('.jp-Editor');editor.style.background='Beige';this.parentNode.removeChild(this)\">"
      ],
      "text/plain": [
       "<IPython.core.display.HTML object>"
      ]
     },
     "metadata": {},
     "output_type": "display_data"
    },
    {
     "name": "stdout",
     "output_type": "stream",
     "text": [
      "time: 41.8 ms\n"
     ]
    }
   ],
   "source": [
    "# blab init\n",
    "import blab\n",
    "startup_notebook = blab.blab_startup()\n",
    "%run $startup_notebook"
   ]
  },
  {
   "cell_type": "markdown",
   "id": "d18ad909-2564-4262-bdcd-2eb7400759b0",
   "metadata": {},
   "source": [
    "# Review and visualize\n",
    "Review and visualize data that meets your criteria. <br>\n",
    "This notebook raises errors for demonstration purpose.\n",
    "* `plot`: Plot with seaborn without configuration\n",
    "* `check_mask`: Count rows filtered by a binary mask. Raises an error, if the number is unexpected.\n",
    "* `sample`: Returns some sample rows: beginning + end + random rows in the middle, prefering rows without NaNs\n",
    "* `search_str`: Searches all str columns of a dataframe. Useful for development and debugging.\n",
    "* `grid`: Visualize with dtale"
   ]
  },
  {
   "cell_type": "code",
   "execution_count": 40,
   "id": "d02a78c4-6bf6-4bb9-94b7-82bfafe30319",
   "metadata": {},
   "outputs": [
    {
     "name": "stdout",
     "output_type": "stream",
     "text": [
      "time: 35.2 ms\n"
     ]
    }
   ],
   "source": [
    "import numpy      as np\n",
    "import pandas     as pd \n",
    "#import bpyth      as bpy\n",
    "import pandasklar as pak \n",
    "\n",
    "grid = pak.grid"
   ]
  },
  {
   "cell_type": "markdown",
   "id": "231eb1e2-6ab3-414c-b258-532a1641b9d2",
   "metadata": {},
   "source": [
    "## plot(): Plot with seaborn without configuration"
   ]
  },
  {
   "cell_type": "code",
   "execution_count": null,
   "id": "c8db5b4d-d6a0-48a2-8bda-cdff9c2b6995",
   "metadata": {},
   "outputs": [],
   "source": [
    "?pak.plot"
   ]
  },
  {
   "cell_type": "code",
   "execution_count": null,
   "id": "b442d125-0fc0-425d-935c-96ced9682a0a",
   "metadata": {},
   "outputs": [],
   "source": [
    "# Several types of random numbers, with parameters\n",
    "size = 100\n",
    "a = pak.random_series( size, 'ascending'                    )\n",
    "b = pak.random_series( size, 'ascending'                    )\n",
    "c = pak.random_series( size, 'descending'                   )\n",
    "d = pak.random_series( size, 'descending'                   )\n",
    "e = pak.random_series( size, 'perlin',     freq=2           )\n",
    "f = pak.random_series( size, 'perlin',     freq=[16,1,8,1]  )\n",
    "g = pak.random_series( size, 'perlin',     freq=[4,1,8,128] )\n",
    "\n",
    "df = pak.dataframe( (a,b,c,d,e,f,g) )\n",
    "pak.sample(df)"
   ]
  },
  {
   "cell_type": "code",
   "execution_count": null,
   "id": "a937d047-3b63-4091-9fef-a6ba38b04f20",
   "metadata": {},
   "outputs": [],
   "source": [
    "# just plot all together\n",
    "%matplotlib inline\n",
    "pak.plot(df)"
   ]
  },
  {
   "cell_type": "code",
   "execution_count": null,
   "id": "f4f33ae6-f4cf-4a76-a7b9-7607ac9e06ab",
   "metadata": {},
   "outputs": [],
   "source": [
    "# plot 2 Series, use different y-axis\n",
    "%matplotlib inline\n",
    "pak.plot(df.A, df.G)"
   ]
  },
  {
   "cell_type": "code",
   "execution_count": null,
   "id": "f5f91497-c0c3-446e-a5ca-3e56a4b2b286",
   "metadata": {},
   "outputs": [],
   "source": [
    "# plot DataFrame + Series, use different line thickness\n",
    "%matplotlib inline \n",
    "pak.plot(df[list('BCD')], df.A, line=(1,5))"
   ]
  },
  {
   "cell_type": "code",
   "execution_count": null,
   "id": "2b80b619-f306-41d8-b545-3728c559e602",
   "metadata": {},
   "outputs": [],
   "source": [
    "# plot E (Perlin) and A (ascending)\n",
    "%matplotlib inline \n",
    "pak.plot(df[list('AE')])"
   ]
  },
  {
   "cell_type": "code",
   "execution_count": null,
   "id": "2530f3a8-ffd2-429f-975c-b9e7622b1d4e",
   "metadata": {},
   "outputs": [],
   "source": [
    "# plot E using A as x-Axis\n",
    "%matplotlib inline \n",
    "pak.plot(df[list('AE')], x='A')"
   ]
  },
  {
   "cell_type": "code",
   "execution_count": null,
   "id": "570f271c-696a-4029-9a24-21302e34535a",
   "metadata": {},
   "outputs": [],
   "source": []
  },
  {
   "cell_type": "markdown",
   "id": "0dab7d17-79d0-445a-aae1-bd9589423675",
   "metadata": {},
   "source": [
    "## sample(): Returns some sample rows"
   ]
  },
  {
   "cell_type": "code",
   "execution_count": 42,
   "id": "7c9db8af-51b5-4e92-ba45-5870ae41d094",
   "metadata": {},
   "outputs": [
    {
     "name": "stdout",
     "output_type": "stream",
     "text": [
      "time: 25.8 ms\n"
     ]
    },
    {
     "data": {
      "text/plain": [
       "\u001b[0;31mSignature:\u001b[0m \u001b[0mpak\u001b[0m\u001b[0;34m.\u001b[0m\u001b[0msample\u001b[0m\u001b[0;34m(\u001b[0m\u001b[0mdf\u001b[0m\u001b[0;34m,\u001b[0m \u001b[0msize\u001b[0m\u001b[0;34m=\u001b[0m\u001b[0;36m7\u001b[0m\u001b[0;34m)\u001b[0m\u001b[0;34m\u001b[0m\u001b[0;34m\u001b[0m\u001b[0m\n",
       "\u001b[0;31mDocstring:\u001b[0m\n",
       "Returns some sample rows.\n",
       "Always the beginning and the end, \n",
       "plus some random rows in the middle, prefering rows without NaNs.\n",
       "* size: Number of rows returned\n",
       "\u001b[0;31mFile:\u001b[0m      /media/me/DATA/Dropbox/31_Projekte/01_Python/git/pandasklar/src/pandasklar/analyse.py\n",
       "\u001b[0;31mType:\u001b[0m      function\n"
      ]
     },
     "metadata": {},
     "output_type": "display_data"
    }
   ],
   "source": [
    "?pak.sample"
   ]
  },
  {
   "cell_type": "code",
   "execution_count": 41,
   "id": "aed46905",
   "metadata": {},
   "outputs": [
    {
     "data": {
      "text/html": [
       "<div>\n",
       "<style scoped>\n",
       "    .dataframe tbody tr th:only-of-type {\n",
       "        vertical-align: middle;\n",
       "    }\n",
       "\n",
       "    .dataframe tbody tr th {\n",
       "        vertical-align: top;\n",
       "    }\n",
       "\n",
       "    .dataframe thead th {\n",
       "        text-align: right;\n",
       "    }\n",
       "</style>\n",
       "<table border=\"1\" class=\"dataframe\">\n",
       "  <thead>\n",
       "    <tr style=\"text-align: right;\">\n",
       "      <th></th>\n",
       "      <th>first_name</th>\n",
       "      <th>age</th>\n",
       "      <th>age_class</th>\n",
       "      <th>postal_code</th>\n",
       "      <th>birthplace</th>\n",
       "      <th>secret</th>\n",
       "      <th>features</th>\n",
       "      <th>history</th>\n",
       "    </tr>\n",
       "  </thead>\n",
       "  <tbody>\n",
       "    <tr>\n",
       "      <th>0</th>\n",
       "      <td>Tanja</td>\n",
       "      <td>34</td>\n",
       "      <td>30</td>\n",
       "      <td>17550</td>\n",
       "      <td>Bremen</td>\n",
       "      <td>efuÄAÖZCyr</td>\n",
       "      <td>{0, V, n, 1}</td>\n",
       "      <td>[A, C, C, B]</td>\n",
       "    </tr>\n",
       "    <tr>\n",
       "      <th>1</th>\n",
       "      <td>Petra</td>\n",
       "      <td>31</td>\n",
       "      <td>30</td>\n",
       "      <td>52694</td>\n",
       "      <td>Berlin</td>\n",
       "      <td>02Öü9iÖxa</td>\n",
       "      <td>{K, h}</td>\n",
       "      <td>[A, A, A]</td>\n",
       "    </tr>\n",
       "    <tr>\n",
       "      <th>2</th>\n",
       "      <td>Merle</td>\n",
       "      <td>36</td>\n",
       "      <td>30</td>\n",
       "      <td>24390</td>\n",
       "      <td>Bremen</td>\n",
       "      <td>uÜTHJlKIh</td>\n",
       "      <td>{c, 0, d, K, i}</td>\n",
       "      <td>[A, x]</td>\n",
       "    </tr>\n",
       "    <tr>\n",
       "      <th>3</th>\n",
       "      <td>Kim</td>\n",
       "      <td>22</td>\n",
       "      <td>20</td>\n",
       "      <td>39888</td>\n",
       "      <td>Bremen</td>\n",
       "      <td>O0uixTf</td>\n",
       "      <td>{k, U}</td>\n",
       "      <td>[b, b, a, b]</td>\n",
       "    </tr>\n",
       "    <tr>\n",
       "      <th>4</th>\n",
       "      <td>Jana</td>\n",
       "      <td>24</td>\n",
       "      <td>20</td>\n",
       "      <td>57224</td>\n",
       "      <td>Bremen</td>\n",
       "      <td>jvxyDc</td>\n",
       "      <td>{B, u, 3, X}</td>\n",
       "      <td>[a, b, c]</td>\n",
       "    </tr>\n",
       "    <tr>\n",
       "      <th>...</th>\n",
       "      <td>...</td>\n",
       "      <td>...</td>\n",
       "      <td>...</td>\n",
       "      <td>...</td>\n",
       "      <td>...</td>\n",
       "      <td>...</td>\n",
       "      <td>...</td>\n",
       "      <td>...</td>\n",
       "    </tr>\n",
       "    <tr>\n",
       "      <th>95</th>\n",
       "      <td>Josephine</td>\n",
       "      <td>29</td>\n",
       "      <td>20</td>\n",
       "      <td>15088</td>\n",
       "      <td>Berlin</td>\n",
       "      <td>üh3Zq7D</td>\n",
       "      <td>{2, P, 4, K, H}</td>\n",
       "      <td>[b, b, a, b]</td>\n",
       "    </tr>\n",
       "    <tr>\n",
       "      <th>96</th>\n",
       "      <td>Jens</td>\n",
       "      <td>22</td>\n",
       "      <td>20</td>\n",
       "      <td>66667</td>\n",
       "      <td>Berlin</td>\n",
       "      <td>ZZlnVZoI</td>\n",
       "      <td>{M, g}</td>\n",
       "      <td>[a, b, c]</td>\n",
       "    </tr>\n",
       "    <tr>\n",
       "      <th>97</th>\n",
       "      <td>Bettina</td>\n",
       "      <td>29</td>\n",
       "      <td>20</td>\n",
       "      <td>78105</td>\n",
       "      <td>Bremen</td>\n",
       "      <td>1Gx0yWBJa</td>\n",
       "      <td>{f}</td>\n",
       "      <td>[b, b, a, b]</td>\n",
       "    </tr>\n",
       "    <tr>\n",
       "      <th>98</th>\n",
       "      <td>Jörg</td>\n",
       "      <td>33</td>\n",
       "      <td>30</td>\n",
       "      <td>44859</td>\n",
       "      <td>Bremen</td>\n",
       "      <td>eEp1t2WyE</td>\n",
       "      <td>{u, o, n, r, z}</td>\n",
       "      <td>[a, b, c]</td>\n",
       "    </tr>\n",
       "    <tr>\n",
       "      <th>99</th>\n",
       "      <td>Jana</td>\n",
       "      <td>39</td>\n",
       "      <td>30</td>\n",
       "      <td>50211</td>\n",
       "      <td>Hamburg</td>\n",
       "      <td>ÄaroHMnZ5b</td>\n",
       "      <td>{F, o, d}</td>\n",
       "      <td>[A, C, C, B]</td>\n",
       "    </tr>\n",
       "  </tbody>\n",
       "</table>\n",
       "<p>100 rows × 8 columns</p>\n",
       "</div>"
      ],
      "text/plain": [
       "   first_name  age  age_class  postal_code birthplace      secret  \\\n",
       "0       Tanja   34         30        17550     Bremen  efuÄAÖZCyr   \n",
       "1       Petra   31         30        52694     Berlin   02Öü9iÖxa   \n",
       "2       Merle   36         30        24390     Bremen   uÜTHJlKIh   \n",
       "3         Kim   22         20        39888     Bremen     O0uixTf   \n",
       "4        Jana   24         20        57224     Bremen      jvxyDc   \n",
       "..        ...  ...        ...          ...        ...         ...   \n",
       "95  Josephine   29         20        15088     Berlin     üh3Zq7D   \n",
       "96       Jens   22         20        66667     Berlin    ZZlnVZoI   \n",
       "97    Bettina   29         20        78105     Bremen   1Gx0yWBJa   \n",
       "98       Jörg   33         30        44859     Bremen   eEp1t2WyE   \n",
       "99       Jana   39         30        50211    Hamburg  ÄaroHMnZ5b   \n",
       "\n",
       "           features       history  \n",
       "0      {0, V, n, 1}  [A, C, C, B]  \n",
       "1            {K, h}     [A, A, A]  \n",
       "2   {c, 0, d, K, i}        [A, x]  \n",
       "3            {k, U}  [b, b, a, b]  \n",
       "4      {B, u, 3, X}     [a, b, c]  \n",
       "..              ...           ...  \n",
       "95  {2, P, 4, K, H}  [b, b, a, b]  \n",
       "96           {M, g}     [a, b, c]  \n",
       "97              {f}  [b, b, a, b]  \n",
       "98  {u, o, n, r, z}     [a, b, c]  \n",
       "99        {F, o, d}  [A, C, C, B]  \n",
       "\n",
       "[100 rows x 8 columns]"
      ]
     },
     "execution_count": 41,
     "metadata": {},
     "output_type": "execute_result"
    },
    {
     "name": "stdout",
     "output_type": "stream",
     "text": [
      "time: 121 ms\n"
     ]
    }
   ],
   "source": [
    "# create test data\n",
    "df = pak.people()\n",
    "df['birthplace'] = df.birthplace.fillna('Hamburg')\n",
    "df"
   ]
  },
  {
   "cell_type": "code",
   "execution_count": 43,
   "id": "8b558e7b-5a33-409d-8dc5-33d50ffab74b",
   "metadata": {},
   "outputs": [
    {
     "data": {
      "text/html": [
       "<div>\n",
       "<style scoped>\n",
       "    .dataframe tbody tr th:only-of-type {\n",
       "        vertical-align: middle;\n",
       "    }\n",
       "\n",
       "    .dataframe tbody tr th {\n",
       "        vertical-align: top;\n",
       "    }\n",
       "\n",
       "    .dataframe thead th {\n",
       "        text-align: right;\n",
       "    }\n",
       "</style>\n",
       "<table border=\"1\" class=\"dataframe\">\n",
       "  <thead>\n",
       "    <tr style=\"text-align: right;\">\n",
       "      <th></th>\n",
       "      <th>first_name</th>\n",
       "      <th>age</th>\n",
       "      <th>age_class</th>\n",
       "      <th>postal_code</th>\n",
       "      <th>birthplace</th>\n",
       "      <th>secret</th>\n",
       "      <th>features</th>\n",
       "      <th>history</th>\n",
       "    </tr>\n",
       "  </thead>\n",
       "  <tbody>\n",
       "    <tr>\n",
       "      <th>0</th>\n",
       "      <td>Tanja</td>\n",
       "      <td>34</td>\n",
       "      <td>30</td>\n",
       "      <td>17550</td>\n",
       "      <td>Bremen</td>\n",
       "      <td>efuÄAÖZCyr</td>\n",
       "      <td>{0, V, n, 1}</td>\n",
       "      <td>[A, C, C, B]</td>\n",
       "    </tr>\n",
       "    <tr>\n",
       "      <th>1</th>\n",
       "      <td>Petra</td>\n",
       "      <td>31</td>\n",
       "      <td>30</td>\n",
       "      <td>52694</td>\n",
       "      <td>Berlin</td>\n",
       "      <td>02Öü9iÖxa</td>\n",
       "      <td>{K, h}</td>\n",
       "      <td>[A, A, A]</td>\n",
       "    </tr>\n",
       "    <tr>\n",
       "      <th>25</th>\n",
       "      <td>Adrian</td>\n",
       "      <td>29</td>\n",
       "      <td>20</td>\n",
       "      <td>45803</td>\n",
       "      <td>Bremen</td>\n",
       "      <td>gaQ8ya1oV</td>\n",
       "      <td>{k, 4}</td>\n",
       "      <td>[A, B, C, C]</td>\n",
       "    </tr>\n",
       "    <tr>\n",
       "      <th>37</th>\n",
       "      <td>Richard</td>\n",
       "      <td>24</td>\n",
       "      <td>20</td>\n",
       "      <td>58615</td>\n",
       "      <td>Berlin</td>\n",
       "      <td>zQpZ0eR1M</td>\n",
       "      <td>{u, b, z}</td>\n",
       "      <td>[A, x]</td>\n",
       "    </tr>\n",
       "    <tr>\n",
       "      <th>59</th>\n",
       "      <td>Marianne</td>\n",
       "      <td>36</td>\n",
       "      <td>30</td>\n",
       "      <td>18177</td>\n",
       "      <td>Berlin</td>\n",
       "      <td>ti9AZqJuug</td>\n",
       "      <td>{U, c, l, H}</td>\n",
       "      <td>[a, b, c]</td>\n",
       "    </tr>\n",
       "    <tr>\n",
       "      <th>98</th>\n",
       "      <td>Jörg</td>\n",
       "      <td>33</td>\n",
       "      <td>30</td>\n",
       "      <td>44859</td>\n",
       "      <td>Bremen</td>\n",
       "      <td>eEp1t2WyE</td>\n",
       "      <td>{u, o, n, r, z}</td>\n",
       "      <td>[a, b, c]</td>\n",
       "    </tr>\n",
       "    <tr>\n",
       "      <th>99</th>\n",
       "      <td>Jana</td>\n",
       "      <td>39</td>\n",
       "      <td>30</td>\n",
       "      <td>50211</td>\n",
       "      <td>Hamburg</td>\n",
       "      <td>ÄaroHMnZ5b</td>\n",
       "      <td>{F, o, d}</td>\n",
       "      <td>[A, C, C, B]</td>\n",
       "    </tr>\n",
       "  </tbody>\n",
       "</table>\n",
       "</div>"
      ],
      "text/plain": [
       "   first_name  age  age_class  postal_code birthplace      secret  \\\n",
       "0       Tanja   34         30        17550     Bremen  efuÄAÖZCyr   \n",
       "1       Petra   31         30        52694     Berlin   02Öü9iÖxa   \n",
       "25     Adrian   29         20        45803     Bremen   gaQ8ya1oV   \n",
       "37    Richard   24         20        58615     Berlin   zQpZ0eR1M   \n",
       "59   Marianne   36         30        18177     Berlin  ti9AZqJuug   \n",
       "98       Jörg   33         30        44859     Bremen   eEp1t2WyE   \n",
       "99       Jana   39         30        50211    Hamburg  ÄaroHMnZ5b   \n",
       "\n",
       "           features       history  \n",
       "0      {0, V, n, 1}  [A, C, C, B]  \n",
       "1            {K, h}     [A, A, A]  \n",
       "25           {k, 4}  [A, B, C, C]  \n",
       "37        {u, b, z}        [A, x]  \n",
       "59     {U, c, l, H}     [a, b, c]  \n",
       "98  {u, o, n, r, z}     [a, b, c]  \n",
       "99        {F, o, d}  [A, C, C, B]  "
      ]
     },
     "execution_count": 43,
     "metadata": {},
     "output_type": "execute_result"
    },
    {
     "name": "stdout",
     "output_type": "stream",
     "text": [
      "time: 58.1 ms\n"
     ]
    }
   ],
   "source": [
    "pak.sample(df)"
   ]
  },
  {
   "cell_type": "markdown",
   "id": "f040f24c-3987-475a-b82b-17580ba69824",
   "metadata": {},
   "source": [
    "## search_str(): Searches all str columns of a dataframe"
   ]
  },
  {
   "cell_type": "code",
   "execution_count": 44,
   "id": "fdb683bd-684b-45c2-95a0-d624eba48b00",
   "metadata": {},
   "outputs": [
    {
     "name": "stdout",
     "output_type": "stream",
     "text": [
      "time: 26.7 ms\n"
     ]
    },
    {
     "data": {
      "text/plain": [
       "\u001b[0;31mSignature:\u001b[0m \u001b[0mpak\u001b[0m\u001b[0;34m.\u001b[0m\u001b[0msearch_str\u001b[0m\u001b[0;34m(\u001b[0m\u001b[0mdf\u001b[0m\u001b[0;34m,\u001b[0m \u001b[0mfind\u001b[0m\u001b[0;34m,\u001b[0m \u001b[0mwithout\u001b[0m\u001b[0;34m=\u001b[0m\u001b[0;34m[\u001b[0m\u001b[0;34m]\u001b[0m\u001b[0;34m)\u001b[0m\u001b[0;34m\u001b[0m\u001b[0;34m\u001b[0m\u001b[0m\n",
       "\u001b[0;31mDocstring:\u001b[0m\n",
       "Searches all str columns of a dataframe.\n",
       "Useful for development and debugging.\n",
       "* find:    What is to be found?                  String or list of strings.\n",
       "* without: Which columns should not be searched? String or list of strings.    \n",
       "\u001b[0;31mFile:\u001b[0m      /media/me/DATA/Dropbox/31_Projekte/01_Python/git/pandasklar/src/pandasklar/develop.py\n",
       "\u001b[0;31mType:\u001b[0m      function\n"
      ]
     },
     "metadata": {},
     "output_type": "display_data"
    }
   ],
   "source": [
    "?pak.search_str"
   ]
  },
  {
   "cell_type": "code",
   "execution_count": 45,
   "id": "d9b1c748-51ef-4dc2-b9fe-20e46ef48c16",
   "metadata": {},
   "outputs": [
    {
     "name": "stdout",
     "output_type": "stream",
     "text": [
      "search for ['Hamburg', 'Celina']\n",
      "time: 51.5 ms\n"
     ]
    }
   ],
   "source": [
    "# create mask: most frequent first_name\n",
    "find = ['Hamburg', pak.most_freq_elt(df.first_name)]\n",
    "print('search for',find)"
   ]
  },
  {
   "cell_type": "code",
   "execution_count": 46,
   "id": "264cbe92-9224-4014-bfbc-a5fd24fe9444",
   "metadata": {
    "tags": []
   },
   "outputs": [
    {
     "data": {
      "text/html": [
       "<div>\n",
       "<style scoped>\n",
       "    .dataframe tbody tr th:only-of-type {\n",
       "        vertical-align: middle;\n",
       "    }\n",
       "\n",
       "    .dataframe tbody tr th {\n",
       "        vertical-align: top;\n",
       "    }\n",
       "\n",
       "    .dataframe thead th {\n",
       "        text-align: right;\n",
       "    }\n",
       "</style>\n",
       "<table border=\"1\" class=\"dataframe\">\n",
       "  <thead>\n",
       "    <tr style=\"text-align: right;\">\n",
       "      <th></th>\n",
       "      <th>first_name</th>\n",
       "      <th>age</th>\n",
       "      <th>age_class</th>\n",
       "      <th>postal_code</th>\n",
       "      <th>birthplace</th>\n",
       "      <th>secret</th>\n",
       "      <th>features</th>\n",
       "      <th>history</th>\n",
       "    </tr>\n",
       "  </thead>\n",
       "  <tbody>\n",
       "    <tr>\n",
       "      <th>5</th>\n",
       "      <td>Claudia</td>\n",
       "      <td>33</td>\n",
       "      <td>30</td>\n",
       "      <td>78230</td>\n",
       "      <td>Hamburg</td>\n",
       "      <td>1irSuks</td>\n",
       "      <td>{j}</td>\n",
       "      <td>[A, B, C, C]</td>\n",
       "    </tr>\n",
       "    <tr>\n",
       "      <th>13</th>\n",
       "      <td>Maximilian</td>\n",
       "      <td>32</td>\n",
       "      <td>30</td>\n",
       "      <td>79193</td>\n",
       "      <td>Hamburg</td>\n",
       "      <td>iqYfoÖ54q</td>\n",
       "      <td>{U, M, d}</td>\n",
       "      <td>[A, C, C, B]</td>\n",
       "    </tr>\n",
       "    <tr>\n",
       "      <th>17</th>\n",
       "      <td>Angela</td>\n",
       "      <td>34</td>\n",
       "      <td>30</td>\n",
       "      <td>37944</td>\n",
       "      <td>Hamburg</td>\n",
       "      <td>TJWVUD</td>\n",
       "      <td>{E}</td>\n",
       "      <td>[a, b, c]</td>\n",
       "    </tr>\n",
       "    <tr>\n",
       "      <th>18</th>\n",
       "      <td>Celina</td>\n",
       "      <td>34</td>\n",
       "      <td>30</td>\n",
       "      <td>19624</td>\n",
       "      <td>Bremen</td>\n",
       "      <td>0shAÖÖhjej</td>\n",
       "      <td>{w, y}</td>\n",
       "      <td>[A, B, C]</td>\n",
       "    </tr>\n",
       "    <tr>\n",
       "      <th>19</th>\n",
       "      <td>Monika</td>\n",
       "      <td>27</td>\n",
       "      <td>20</td>\n",
       "      <td>31030</td>\n",
       "      <td>Hamburg</td>\n",
       "      <td>eÖvbY</td>\n",
       "      <td>{F}</td>\n",
       "      <td>[]</td>\n",
       "    </tr>\n",
       "    <tr>\n",
       "      <th>20</th>\n",
       "      <td>Lucas</td>\n",
       "      <td>37</td>\n",
       "      <td>30</td>\n",
       "      <td>&lt;NA&gt;</td>\n",
       "      <td>Hamburg</td>\n",
       "      <td>vmD9eg</td>\n",
       "      <td>{m, i, b}</td>\n",
       "      <td>[]</td>\n",
       "    </tr>\n",
       "    <tr>\n",
       "      <th>21</th>\n",
       "      <td>Zoe</td>\n",
       "      <td>36</td>\n",
       "      <td>30</td>\n",
       "      <td>23373</td>\n",
       "      <td>Hamburg</td>\n",
       "      <td>döNwÄLLz3o</td>\n",
       "      <td>{a, H}</td>\n",
       "      <td>[A, C, C, B]</td>\n",
       "    </tr>\n",
       "    <tr>\n",
       "      <th>23</th>\n",
       "      <td>Anja</td>\n",
       "      <td>29</td>\n",
       "      <td>20</td>\n",
       "      <td>44168</td>\n",
       "      <td>Hamburg</td>\n",
       "      <td>WEKäTaX</td>\n",
       "      <td>{T, C, n, E}</td>\n",
       "      <td>[A, B, C]</td>\n",
       "    </tr>\n",
       "    <tr>\n",
       "      <th>24</th>\n",
       "      <td>Niclas</td>\n",
       "      <td>40</td>\n",
       "      <td>40</td>\n",
       "      <td>44747</td>\n",
       "      <td>Hamburg</td>\n",
       "      <td>B7QVÖMevm</td>\n",
       "      <td>{W, n, K, V, 1}</td>\n",
       "      <td>[]</td>\n",
       "    </tr>\n",
       "    <tr>\n",
       "      <th>27</th>\n",
       "      <td>Leonie</td>\n",
       "      <td>35</td>\n",
       "      <td>30</td>\n",
       "      <td>99093</td>\n",
       "      <td>Hamburg</td>\n",
       "      <td>twRG1</td>\n",
       "      <td>{0, m, t, p, w}</td>\n",
       "      <td>[A, A, A]</td>\n",
       "    </tr>\n",
       "    <tr>\n",
       "      <th>30</th>\n",
       "      <td>Stella</td>\n",
       "      <td>31</td>\n",
       "      <td>30</td>\n",
       "      <td>44859</td>\n",
       "      <td>Hamburg</td>\n",
       "      <td>5pu6eR0</td>\n",
       "      <td>{L, E, Y, 3, a}</td>\n",
       "      <td>[a, b, c]</td>\n",
       "    </tr>\n",
       "    <tr>\n",
       "      <th>42</th>\n",
       "      <td>Georg</td>\n",
       "      <td>24</td>\n",
       "      <td>20</td>\n",
       "      <td>67309</td>\n",
       "      <td>Hamburg</td>\n",
       "      <td>rWbw71Yy</td>\n",
       "      <td>{m, t}</td>\n",
       "      <td>[A, B, C]</td>\n",
       "    </tr>\n",
       "    <tr>\n",
       "      <th>44</th>\n",
       "      <td>Christopher</td>\n",
       "      <td>24</td>\n",
       "      <td>20</td>\n",
       "      <td>69903</td>\n",
       "      <td>Hamburg</td>\n",
       "      <td>rFucJ</td>\n",
       "      <td>{3, o, P}</td>\n",
       "      <td>[A, B, C, C]</td>\n",
       "    </tr>\n",
       "    <tr>\n",
       "      <th>47</th>\n",
       "      <td>Carl</td>\n",
       "      <td>39</td>\n",
       "      <td>30</td>\n",
       "      <td>44591</td>\n",
       "      <td>Hamburg</td>\n",
       "      <td>ut5BLäÖmXc</td>\n",
       "      <td>{a, f}</td>\n",
       "      <td>[A, x]</td>\n",
       "    </tr>\n",
       "    <tr>\n",
       "      <th>49</th>\n",
       "      <td>Nele</td>\n",
       "      <td>37</td>\n",
       "      <td>30</td>\n",
       "      <td>69810</td>\n",
       "      <td>Hamburg</td>\n",
       "      <td>nsP7Ä</td>\n",
       "      <td>{i, w, d}</td>\n",
       "      <td>[A, B, C, C]</td>\n",
       "    </tr>\n",
       "    <tr>\n",
       "      <th>51</th>\n",
       "      <td>Michelle</td>\n",
       "      <td>39</td>\n",
       "      <td>30</td>\n",
       "      <td>86714</td>\n",
       "      <td>Hamburg</td>\n",
       "      <td>TW5ECcw</td>\n",
       "      <td>{V, s, o, I}</td>\n",
       "      <td>[A, A, A]</td>\n",
       "    </tr>\n",
       "    <tr>\n",
       "      <th>53</th>\n",
       "      <td>Aileen</td>\n",
       "      <td>20</td>\n",
       "      <td>20</td>\n",
       "      <td>69324</td>\n",
       "      <td>Hamburg</td>\n",
       "      <td>i1UM6</td>\n",
       "      <td>{O}</td>\n",
       "      <td>[A, x]</td>\n",
       "    </tr>\n",
       "    <tr>\n",
       "      <th>57</th>\n",
       "      <td>Else</td>\n",
       "      <td>23</td>\n",
       "      <td>20</td>\n",
       "      <td>99771</td>\n",
       "      <td>Hamburg</td>\n",
       "      <td>uH8IU8J</td>\n",
       "      <td>{D, H}</td>\n",
       "      <td>[A, A, A]</td>\n",
       "    </tr>\n",
       "    <tr>\n",
       "      <th>62</th>\n",
       "      <td>Sabine</td>\n",
       "      <td>31</td>\n",
       "      <td>30</td>\n",
       "      <td>31460</td>\n",
       "      <td>Hamburg</td>\n",
       "      <td>aJööYrDj3</td>\n",
       "      <td>{A, 1, e}</td>\n",
       "      <td>[A, B, C]</td>\n",
       "    </tr>\n",
       "    <tr>\n",
       "      <th>64</th>\n",
       "      <td>Carolin</td>\n",
       "      <td>35</td>\n",
       "      <td>30</td>\n",
       "      <td>82963</td>\n",
       "      <td>Hamburg</td>\n",
       "      <td>EAxZXeül</td>\n",
       "      <td>{A}</td>\n",
       "      <td>[A, A, A]</td>\n",
       "    </tr>\n",
       "    <tr>\n",
       "      <th>67</th>\n",
       "      <td>Dieter</td>\n",
       "      <td>24</td>\n",
       "      <td>20</td>\n",
       "      <td>40321</td>\n",
       "      <td>Hamburg</td>\n",
       "      <td>VTGY7r</td>\n",
       "      <td>{s, A}</td>\n",
       "      <td>[A, A, A]</td>\n",
       "    </tr>\n",
       "    <tr>\n",
       "      <th>71</th>\n",
       "      <td>Celina</td>\n",
       "      <td>32</td>\n",
       "      <td>30</td>\n",
       "      <td>45253</td>\n",
       "      <td>Hamburg</td>\n",
       "      <td>FäreÖ</td>\n",
       "      <td>{j, x, b, X}</td>\n",
       "      <td>[b, b, a, b]</td>\n",
       "    </tr>\n",
       "    <tr>\n",
       "      <th>73</th>\n",
       "      <td>Berndt</td>\n",
       "      <td>31</td>\n",
       "      <td>30</td>\n",
       "      <td>31460</td>\n",
       "      <td>Hamburg</td>\n",
       "      <td>mo2dagÖB</td>\n",
       "      <td>{L, o}</td>\n",
       "      <td>[b, b, a, b]</td>\n",
       "    </tr>\n",
       "    <tr>\n",
       "      <th>75</th>\n",
       "      <td>Celina</td>\n",
       "      <td>35</td>\n",
       "      <td>30</td>\n",
       "      <td>65141</td>\n",
       "      <td>Berlin</td>\n",
       "      <td>MSs75VNdoh</td>\n",
       "      <td>{3, w, Q}</td>\n",
       "      <td>[a, b, c]</td>\n",
       "    </tr>\n",
       "    <tr>\n",
       "      <th>79</th>\n",
       "      <td>Jonas</td>\n",
       "      <td>33</td>\n",
       "      <td>30</td>\n",
       "      <td>44469</td>\n",
       "      <td>Hamburg</td>\n",
       "      <td>xdKYn</td>\n",
       "      <td>{N, C, T, e}</td>\n",
       "      <td>[a, b, c]</td>\n",
       "    </tr>\n",
       "    <tr>\n",
       "      <th>80</th>\n",
       "      <td>Carolin</td>\n",
       "      <td>25</td>\n",
       "      <td>20</td>\n",
       "      <td>31460</td>\n",
       "      <td>Hamburg</td>\n",
       "      <td>TcJjJgWg4</td>\n",
       "      <td>{a, H}</td>\n",
       "      <td>[A, B, C]</td>\n",
       "    </tr>\n",
       "    <tr>\n",
       "      <th>85</th>\n",
       "      <td>Walter</td>\n",
       "      <td>38</td>\n",
       "      <td>30</td>\n",
       "      <td>99231</td>\n",
       "      <td>Hamburg</td>\n",
       "      <td>id64gvk</td>\n",
       "      <td>{u, o, n, r, z}</td>\n",
       "      <td>[]</td>\n",
       "    </tr>\n",
       "    <tr>\n",
       "      <th>86</th>\n",
       "      <td>Marianne</td>\n",
       "      <td>37</td>\n",
       "      <td>30</td>\n",
       "      <td>18122</td>\n",
       "      <td>Hamburg</td>\n",
       "      <td>saY9ev</td>\n",
       "      <td>{L, o}</td>\n",
       "      <td>[A, B, C]</td>\n",
       "    </tr>\n",
       "    <tr>\n",
       "      <th>89</th>\n",
       "      <td>Manuela</td>\n",
       "      <td>25</td>\n",
       "      <td>20</td>\n",
       "      <td>46716</td>\n",
       "      <td>Hamburg</td>\n",
       "      <td>üt6uiz308a</td>\n",
       "      <td>{N, C, T, e}</td>\n",
       "      <td>[]</td>\n",
       "    </tr>\n",
       "    <tr>\n",
       "      <th>99</th>\n",
       "      <td>Jana</td>\n",
       "      <td>39</td>\n",
       "      <td>30</td>\n",
       "      <td>50211</td>\n",
       "      <td>Hamburg</td>\n",
       "      <td>ÄaroHMnZ5b</td>\n",
       "      <td>{F, o, d}</td>\n",
       "      <td>[A, C, C, B]</td>\n",
       "    </tr>\n",
       "  </tbody>\n",
       "</table>\n",
       "</div>"
      ],
      "text/plain": [
       "     first_name  age  age_class  postal_code birthplace      secret  \\\n",
       "5       Claudia   33         30        78230    Hamburg     1irSuks   \n",
       "13   Maximilian   32         30        79193    Hamburg   iqYfoÖ54q   \n",
       "17       Angela   34         30        37944    Hamburg      TJWVUD   \n",
       "18       Celina   34         30        19624     Bremen  0shAÖÖhjej   \n",
       "19       Monika   27         20        31030    Hamburg       eÖvbY   \n",
       "20        Lucas   37         30         <NA>    Hamburg      vmD9eg   \n",
       "21          Zoe   36         30        23373    Hamburg  döNwÄLLz3o   \n",
       "23         Anja   29         20        44168    Hamburg     WEKäTaX   \n",
       "24       Niclas   40         40        44747    Hamburg   B7QVÖMevm   \n",
       "27       Leonie   35         30        99093    Hamburg       twRG1   \n",
       "30       Stella   31         30        44859    Hamburg     5pu6eR0   \n",
       "42        Georg   24         20        67309    Hamburg    rWbw71Yy   \n",
       "44  Christopher   24         20        69903    Hamburg       rFucJ   \n",
       "47         Carl   39         30        44591    Hamburg  ut5BLäÖmXc   \n",
       "49         Nele   37         30        69810    Hamburg       nsP7Ä   \n",
       "51     Michelle   39         30        86714    Hamburg     TW5ECcw   \n",
       "53       Aileen   20         20        69324    Hamburg       i1UM6   \n",
       "57         Else   23         20        99771    Hamburg     uH8IU8J   \n",
       "62       Sabine   31         30        31460    Hamburg   aJööYrDj3   \n",
       "64      Carolin   35         30        82963    Hamburg    EAxZXeül   \n",
       "67       Dieter   24         20        40321    Hamburg      VTGY7r   \n",
       "71       Celina   32         30        45253    Hamburg       FäreÖ   \n",
       "73       Berndt   31         30        31460    Hamburg    mo2dagÖB   \n",
       "75       Celina   35         30        65141     Berlin  MSs75VNdoh   \n",
       "79        Jonas   33         30        44469    Hamburg       xdKYn   \n",
       "80      Carolin   25         20        31460    Hamburg   TcJjJgWg4   \n",
       "85       Walter   38         30        99231    Hamburg     id64gvk   \n",
       "86     Marianne   37         30        18122    Hamburg      saY9ev   \n",
       "89      Manuela   25         20        46716    Hamburg  üt6uiz308a   \n",
       "99         Jana   39         30        50211    Hamburg  ÄaroHMnZ5b   \n",
       "\n",
       "           features       history  \n",
       "5               {j}  [A, B, C, C]  \n",
       "13        {U, M, d}  [A, C, C, B]  \n",
       "17              {E}     [a, b, c]  \n",
       "18           {w, y}     [A, B, C]  \n",
       "19              {F}            []  \n",
       "20        {m, i, b}            []  \n",
       "21           {a, H}  [A, C, C, B]  \n",
       "23     {T, C, n, E}     [A, B, C]  \n",
       "24  {W, n, K, V, 1}            []  \n",
       "27  {0, m, t, p, w}     [A, A, A]  \n",
       "30  {L, E, Y, 3, a}     [a, b, c]  \n",
       "42           {m, t}     [A, B, C]  \n",
       "44        {3, o, P}  [A, B, C, C]  \n",
       "47           {a, f}        [A, x]  \n",
       "49        {i, w, d}  [A, B, C, C]  \n",
       "51     {V, s, o, I}     [A, A, A]  \n",
       "53              {O}        [A, x]  \n",
       "57           {D, H}     [A, A, A]  \n",
       "62        {A, 1, e}     [A, B, C]  \n",
       "64              {A}     [A, A, A]  \n",
       "67           {s, A}     [A, A, A]  \n",
       "71     {j, x, b, X}  [b, b, a, b]  \n",
       "73           {L, o}  [b, b, a, b]  \n",
       "75        {3, w, Q}     [a, b, c]  \n",
       "79     {N, C, T, e}     [a, b, c]  \n",
       "80           {a, H}     [A, B, C]  \n",
       "85  {u, o, n, r, z}            []  \n",
       "86           {L, o}     [A, B, C]  \n",
       "89     {N, C, T, e}            []  \n",
       "99        {F, o, d}  [A, C, C, B]  "
      ]
     },
     "execution_count": 46,
     "metadata": {},
     "output_type": "execute_result"
    },
    {
     "name": "stdout",
     "output_type": "stream",
     "text": [
      "time: 80.3 ms\n"
     ]
    }
   ],
   "source": [
    "pak.search_str(df, find)"
   ]
  },
  {
   "cell_type": "markdown",
   "id": "fa5d1418-e8c2-4708-8068-ac6b08686af2",
   "metadata": {},
   "source": [
    "## check_mask(): Count rows filtered by a binary mask"
   ]
  },
  {
   "cell_type": "code",
   "execution_count": 47,
   "id": "f73b996b-70f7-4d47-a5c2-448d339f28ec",
   "metadata": {},
   "outputs": [
    {
     "name": "stdout",
     "output_type": "stream",
     "text": [
      "time: 38.7 ms\n"
     ]
    },
    {
     "data": {
      "text/plain": [
       "\u001b[0;31mSignature:\u001b[0m\n",
       "\u001b[0mpak\u001b[0m\u001b[0;34m.\u001b[0m\u001b[0mcheck_mask\u001b[0m\u001b[0;34m(\u001b[0m\u001b[0;34m\u001b[0m\n",
       "\u001b[0;34m\u001b[0m    \u001b[0mdf\u001b[0m\u001b[0;34m,\u001b[0m\u001b[0;34m\u001b[0m\n",
       "\u001b[0;34m\u001b[0m    \u001b[0mmask\u001b[0m\u001b[0;34m,\u001b[0m\u001b[0;34m\u001b[0m\n",
       "\u001b[0;34m\u001b[0m    \u001b[0mexpectation_min\u001b[0m\u001b[0;34m=\u001b[0m\u001b[0;32mNone\u001b[0m\u001b[0;34m,\u001b[0m\u001b[0;34m\u001b[0m\n",
       "\u001b[0;34m\u001b[0m    \u001b[0mexpectation_max\u001b[0m\u001b[0;34m=\u001b[0m\u001b[0;32mNone\u001b[0m\u001b[0;34m,\u001b[0m\u001b[0;34m\u001b[0m\n",
       "\u001b[0;34m\u001b[0m    \u001b[0mmsg\u001b[0m\u001b[0;34m=\u001b[0m\u001b[0;34m''\u001b[0m\u001b[0;34m,\u001b[0m\u001b[0;34m\u001b[0m\n",
       "\u001b[0;34m\u001b[0m    \u001b[0mstop\u001b[0m\u001b[0;34m=\u001b[0m\u001b[0;32mTrue\u001b[0m\u001b[0;34m,\u001b[0m\u001b[0;34m\u001b[0m\n",
       "\u001b[0;34m\u001b[0m    \u001b[0mverbose\u001b[0m\u001b[0;34m=\u001b[0m\u001b[0;32mNone\u001b[0m\u001b[0;34m,\u001b[0m\u001b[0;34m\u001b[0m\n",
       "\u001b[0;34m\u001b[0m\u001b[0;34m)\u001b[0m\u001b[0;34m\u001b[0m\u001b[0;34m\u001b[0m\u001b[0m\n",
       "\u001b[0;31mDocstring:\u001b[0m\n",
       "Count rows filtered by a binary mask.\n",
       "Raises an error, if the number is unexpected.\n",
       "\n",
       "Examples:\n",
       "==========\n",
       "check_mask( df, mask )         # just show the number of rows   \n",
       "check_mask( df, mask, 2000 )   # checks for about 2000 rows (if not 0: not more than double, not less than half)\n",
       "check_mask( df, mask, 0 )      # checks for exactly 0 rows    \n",
       "check_mask( df, mask, 10, 50)  # checks for 10..50 rows\n",
       "\n",
       "Example with later raise:\n",
       "=========================\n",
       "error = check_mask(df, mask, 214, stop=False)        \n",
       "grid(df, mask, error)        \n",
       "bpy.raise_if(error)\n",
       "\u001b[0;31mFile:\u001b[0m      /media/me/DATA/Dropbox/31_Projekte/01_Python/git/pandasklar/src/pandasklar/develop.py\n",
       "\u001b[0;31mType:\u001b[0m      function\n"
      ]
     },
     "metadata": {},
     "output_type": "display_data"
    }
   ],
   "source": [
    "?pak.check_mask"
   ]
  },
  {
   "cell_type": "code",
   "execution_count": 48,
   "id": "4b47a9d4-233e-4d1f-88e0-d10621612f8b",
   "metadata": {},
   "outputs": [
    {
     "name": "stdout",
     "output_type": "stream",
     "text": [
      "time: 35.3 ms\n"
     ]
    }
   ],
   "source": [
    "# define mask\n",
    "mask = (df.age >= 30)  &  (df.age < 40) \n",
    "#df[mask]"
   ]
  },
  {
   "cell_type": "code",
   "execution_count": 49,
   "id": "a85e05a5-1a4c-4aa7-8182-f843ec7a9324",
   "metadata": {},
   "outputs": [
    {
     "name": "stdout",
     "output_type": "stream",
     "text": [
      " 60 rows\n",
      "time: 26.7 ms\n"
     ]
    }
   ],
   "source": [
    "# just show the number of rows\n",
    "pak.check_mask(df, mask)"
   ]
  },
  {
   "cell_type": "code",
   "execution_count": 50,
   "id": "e4514535-4bbf-422c-b8a9-a1e90c3cd016",
   "metadata": {},
   "outputs": [
    {
     "name": "stdout",
     "output_type": "stream",
     "text": [
      "time: 29.4 ms\n"
     ]
    }
   ],
   "source": [
    "# checks for about 50 rows\n",
    "pak.check_mask(df, mask, 50)"
   ]
  },
  {
   "cell_type": "code",
   "execution_count": 51,
   "id": "d8ff4ab8-331c-4778-b9c2-a8033775373e",
   "metadata": {},
   "outputs": [
    {
     "name": "stdout",
     "output_type": "stream",
     "text": [
      " 60 rows\n",
      "time: 27.9 ms\n"
     ]
    }
   ],
   "source": [
    "# checks for about 50 rows\n",
    "pak.check_mask(df, mask, 50, verbose=True)"
   ]
  },
  {
   "cell_type": "code",
   "execution_count": 52,
   "id": "9cfe4010-bda6-4f23-a0d6-79cb22b4251c",
   "metadata": {},
   "outputs": [
    {
     "name": "stdout",
     "output_type": "stream",
     "text": [
      "time: 30 ms\n"
     ]
    }
   ],
   "source": [
    "# checks for 0..100 rows\n",
    "pak.check_mask(df, mask, 0, 100)"
   ]
  },
  {
   "cell_type": "markdown",
   "id": "b7688157",
   "metadata": {},
   "source": [
    "## grid(): Visualize with dtale"
   ]
  },
  {
   "cell_type": "code",
   "execution_count": 53,
   "id": "6be4b7ef-6225-4f2a-b214-a792ecbbc4a1",
   "metadata": {},
   "outputs": [
    {
     "name": "stdout",
     "output_type": "stream",
     "text": [
      "time: 32 ms\n"
     ]
    },
    {
     "data": {
      "text/plain": [
       "\u001b[0;31mSignature:\u001b[0m \u001b[0mgrid\u001b[0m\u001b[0;34m(\u001b[0m\u001b[0mdf\u001b[0m\u001b[0;34m,\u001b[0m \u001b[0mmask\u001b[0m\u001b[0;34m=\u001b[0m\u001b[0;32mNone\u001b[0m\u001b[0;34m,\u001b[0m \u001b[0merror\u001b[0m\u001b[0;34m=\u001b[0m\u001b[0;34m'€€€'\u001b[0m\u001b[0;34m,\u001b[0m \u001b[0mcolor\u001b[0m\u001b[0;34m=\u001b[0m\u001b[0;34m'blue'\u001b[0m\u001b[0;34m,\u001b[0m \u001b[0;34m**\u001b[0m\u001b[0mkwargs\u001b[0m\u001b[0;34m)\u001b[0m\u001b[0;34m\u001b[0m\u001b[0;34m\u001b[0m\u001b[0m\n",
       "\u001b[0;31mDocstring:\u001b[0m\n",
       "Visualization of a DataFrame using dtale.\n",
       "* df:     DataFrame to show\n",
       "* mask:   Binary mask of function to reduce the number of rows\n",
       "* error:  Error message\n",
       "* color:  Color of the error message.\n",
       "* kwargs: Options for dtale. See https://github.com/man-group/dtale#instance-settings\n",
       "          Caution: This will affect all grids in this notebook...\n",
       "dtale may not work in a multiscreen setting on windows.\n",
       "\n",
       "=== Examples ===\n",
       "grid(df)                        # show all rows\n",
       "grid(df,mask)                   # show with binary mask    \n",
       "grid(df,sample)                 # show with functionally mask\n",
       "\n",
       "=== For error indication after check_mask ===\n",
       "error = check_mask(df, mask, 900, stop=False)\n",
       "grid(df, mask, error) \n",
       "and later: raise_if(error)\n",
       "\u001b[0;31mFile:\u001b[0m      /media/me/DATA/Dropbox/31_Projekte/01_Python/git/pandasklar/src/pandasklar/develop.py\n",
       "\u001b[0;31mType:\u001b[0m      function\n"
      ]
     },
     "metadata": {},
     "output_type": "display_data"
    }
   ],
   "source": [
    "?grid"
   ]
  },
  {
   "cell_type": "code",
   "execution_count": 54,
   "id": "c6cb3af4-4aa1-47fa-8a47-1fad8ee88e32",
   "metadata": {},
   "outputs": [
    {
     "name": "stdout",
     "output_type": "stream",
     "text": [
      "100 rows\n"
     ]
    },
    {
     "data": {
      "text/html": [
       "\n",
       "        <iframe\n",
       "            width=\"100%\"\n",
       "            height=\"475\"\n",
       "            src=\"http://pop-os:40000/dtale/iframe/6\"\n",
       "            frameborder=\"0\"\n",
       "            allowfullscreen\n",
       "            \n",
       "        ></iframe>\n",
       "        "
      ],
      "text/plain": [
       "<IPython.lib.display.IFrame at 0x7f19ccaa0a00>"
      ]
     },
     "metadata": {},
     "output_type": "display_data"
    },
    {
     "data": {
      "text/plain": []
     },
     "execution_count": 54,
     "metadata": {},
     "output_type": "execute_result"
    },
    {
     "name": "stdout",
     "output_type": "stream",
     "text": [
      "time: 72.7 ms\n"
     ]
    }
   ],
   "source": [
    "# show\n",
    "grid(df)"
   ]
  },
  {
   "cell_type": "markdown",
   "id": "245132da-e234-45a7-a548-1a6393b1e9c8",
   "metadata": {},
   "source": [
    "### grid(): Use mask"
   ]
  },
  {
   "cell_type": "code",
   "execution_count": 55,
   "id": "0bd9d46f-f5bb-4469-9286-a446ccbb39dd",
   "metadata": {},
   "outputs": [
    {
     "name": "stdout",
     "output_type": "stream",
     "text": [
      "7 rows out of 100\n"
     ]
    },
    {
     "data": {
      "text/html": [
       "\n",
       "        <iframe\n",
       "            width=\"100%\"\n",
       "            height=\"475\"\n",
       "            src=\"http://pop-os:40000/dtale/iframe/7\"\n",
       "            frameborder=\"0\"\n",
       "            allowfullscreen\n",
       "            \n",
       "        ></iframe>\n",
       "        "
      ],
      "text/plain": [
       "<IPython.lib.display.IFrame at 0x7f19cc9c7e20>"
      ]
     },
     "metadata": {},
     "output_type": "display_data"
    },
    {
     "data": {
      "text/plain": []
     },
     "execution_count": 55,
     "metadata": {},
     "output_type": "execute_result"
    },
    {
     "name": "stdout",
     "output_type": "stream",
     "text": [
      "time: 130 ms\n"
     ]
    }
   ],
   "source": [
    "# Function as mask\n",
    "grid(df, pak.sample)"
   ]
  },
  {
   "cell_type": "code",
   "execution_count": 56,
   "id": "0b171cd5-4a69-4d31-8c5f-cc5f34e6858f",
   "metadata": {},
   "outputs": [
    {
     "name": "stdout",
     "output_type": "stream",
     "text": [
      "83 rows out of 100\n"
     ]
    },
    {
     "data": {
      "text/html": [
       "\n",
       "        <iframe\n",
       "            width=\"100%\"\n",
       "            height=\"475\"\n",
       "            src=\"http://pop-os:40000/dtale/iframe/8\"\n",
       "            frameborder=\"0\"\n",
       "            allowfullscreen\n",
       "            \n",
       "        ></iframe>\n",
       "        "
      ],
      "text/plain": [
       "<IPython.lib.display.IFrame at 0x7f19e5c68bb0>"
      ]
     },
     "metadata": {},
     "output_type": "display_data"
    },
    {
     "data": {
      "text/plain": []
     },
     "execution_count": 56,
     "metadata": {},
     "output_type": "execute_result"
    },
    {
     "name": "stdout",
     "output_type": "stream",
     "text": [
      "time: 145 ms\n"
     ]
    }
   ],
   "source": [
    "# Binary mask\n",
    "mask = df.age > 25\n",
    "grid(df, mask)"
   ]
  },
  {
   "cell_type": "markdown",
   "id": "a964fe1a-7ce2-4db5-aa90-07cd6553ad49",
   "metadata": {},
   "source": [
    "### grid() options\n",
    "Some grid options are global, e.g. max_column_width. If you set this option to a value later in your notebook, all grids in the notebook are rendered with this column_width. If you find a way to change this, send me a message."
   ]
  },
  {
   "cell_type": "code",
   "execution_count": 57,
   "id": "4f86a672-eb7a-4c56-9aa3-db24c758aca6",
   "metadata": {},
   "outputs": [
    {
     "name": "stdout",
     "output_type": "stream",
     "text": [
      "time: 37.3 ms\n"
     ]
    }
   ],
   "source": [
    "# global Settings\n",
    "pak.set_grid(max_column_width=200)"
   ]
  },
  {
   "cell_type": "code",
   "execution_count": 58,
   "id": "2a395033-f941-4ea4-bd9f-d99e1d3c0872",
   "metadata": {},
   "outputs": [
    {
     "name": "stdout",
     "output_type": "stream",
     "text": [
      "100 rows\n"
     ]
    },
    {
     "data": {
      "text/html": [
       "\n",
       "        <iframe\n",
       "            width=\"100%\"\n",
       "            height=\"475\"\n",
       "            src=\"http://pop-os:40000/dtale/iframe/9\"\n",
       "            frameborder=\"0\"\n",
       "            allowfullscreen\n",
       "            \n",
       "        ></iframe>\n",
       "        "
      ],
      "text/plain": [
       "<IPython.lib.display.IFrame at 0x7f19e4c5aeb0>"
      ]
     },
     "metadata": {},
     "output_type": "display_data"
    },
    {
     "data": {
      "text/plain": []
     },
     "execution_count": 58,
     "metadata": {},
     "output_type": "execute_result"
    },
    {
     "name": "stdout",
     "output_type": "stream",
     "text": [
      "time: 123 ms\n"
     ]
    }
   ],
   "source": [
    "# show \n",
    "grid(df)"
   ]
  },
  {
   "cell_type": "markdown",
   "id": "be02d79a-8dd7-4e54-8fe9-b89046e2022e",
   "metadata": {},
   "source": [
    "### grid(): Advanced Formating\n",
    "See options on https://github.com/man-group/dtale#instance-settings"
   ]
  },
  {
   "cell_type": "code",
   "execution_count": 59,
   "id": "afb14de4-e5ba-48a8-8615-4c9fdb617535",
   "metadata": {},
   "outputs": [
    {
     "name": "stdout",
     "output_type": "stream",
     "text": [
      "83 rows out of 100\n"
     ]
    },
    {
     "data": {
      "text/html": [
       "\n",
       "        <iframe\n",
       "            width=\"100%\"\n",
       "            height=\"475\"\n",
       "            src=\"http://pop-os:40000/dtale/iframe/10\"\n",
       "            frameborder=\"0\"\n",
       "            allowfullscreen\n",
       "            \n",
       "        ></iframe>\n",
       "        "
      ],
      "text/plain": [
       "<IPython.lib.display.IFrame at 0x7f19cc9c7df0>"
      ]
     },
     "metadata": {},
     "output_type": "display_data"
    },
    {
     "data": {
      "text/plain": []
     },
     "execution_count": 59,
     "metadata": {},
     "output_type": "execute_result"
    },
    {
     "name": "stdout",
     "output_type": "stream",
     "text": [
      "time: 149 ms\n"
     ]
    }
   ],
   "source": [
    "mask = df.age > 25\n",
    "grid(df, mask, sort=[('first_name','ASC')], background_mode='heatmap-col-age')\n",
    "#grid(df, mask, drop_index=True,)"
   ]
  },
  {
   "cell_type": "markdown",
   "id": "03d54916-78f9-4da1-ae3d-4acecfedb9f6",
   "metadata": {},
   "source": [
    "### grid(): Special cases"
   ]
  },
  {
   "cell_type": "code",
   "execution_count": 60,
   "id": "bf26d5b2-c670-4fe4-aed7-9d6a5231c96c",
   "metadata": {},
   "outputs": [
    {
     "name": "stdout",
     "output_type": "stream",
     "text": [
      "\u001b[1m\u001b[7m\u001b[31mNothing to show\u001b[0m\n",
      "time: 47.4 ms\n"
     ]
    }
   ],
   "source": [
    "# No DataFrame\n",
    "grid(None)"
   ]
  },
  {
   "cell_type": "code",
   "execution_count": 61,
   "id": "7225ca3d-6e57-4d44-b0bc-0f2cdb985d55",
   "metadata": {},
   "outputs": [
    {
     "name": "stdout",
     "output_type": "stream",
     "text": [
      "\u001b[1m\u001b[7m\u001b[34mNo rows\u001b[0m\n",
      "time: 36.9 ms\n"
     ]
    }
   ],
   "source": [
    "# Empty DataFrame\n",
    "d = pd.DataFrame()\n",
    "grid(d)"
   ]
  },
  {
   "cell_type": "code",
   "execution_count": 62,
   "id": "b2019ec2-84c5-4fa0-b764-faa01ec92447",
   "metadata": {},
   "outputs": [
    {
     "name": "stdout",
     "output_type": "stream",
     "text": [
      "\u001b[1m\u001b[7m\u001b[34mNo rows, mask filters them all away\u001b[0m\n",
      "time: 35.1 ms\n"
     ]
    }
   ],
   "source": [
    "# 100% filtered \n",
    "mask = df.age > 1000\n",
    "grid(df,mask)"
   ]
  },
  {
   "cell_type": "code",
   "execution_count": 63,
   "id": "37d339e7-164b-43c3-8cff-5b9183afad87",
   "metadata": {},
   "outputs": [
    {
     "name": "stdout",
     "output_type": "stream",
     "text": [
      "\u001b[1m\u001b[7m\u001b[32mNo rows, mask filters them all away\u001b[0m\n",
      "time: 36.8 ms\n"
     ]
    }
   ],
   "source": [
    "# 100% filtered, and this is good\n",
    "mask = df.age > 1000\n",
    "grid(df,mask, color='green')"
   ]
  },
  {
   "cell_type": "code",
   "execution_count": 64,
   "id": "94fabd0f-d568-48bd-a9f0-ace60646ab68",
   "metadata": {},
   "outputs": [
    {
     "name": "stdout",
     "output_type": "stream",
     "text": [
      "\u001b[1m\u001b[7m\u001b[31mNo rows, mask filters them all away\u001b[0m\n",
      "time: 26.9 ms\n"
     ]
    }
   ],
   "source": [
    "# 100% filtered, and this is bad\n",
    "mask = df.age > 1000\n",
    "grid(df,mask, color='red')"
   ]
  },
  {
   "cell_type": "markdown",
   "id": "1067b294-87f2-43d2-8c8f-a5542ef1629c",
   "metadata": {},
   "source": [
    "### grid() & check_mask(): Show error rows and raise later"
   ]
  },
  {
   "cell_type": "code",
   "execution_count": 65,
   "id": "af8fa7b9-06cd-477a-9d61-c00396c2659f",
   "metadata": {},
   "outputs": [
    {
     "name": "stdout",
     "output_type": "stream",
     "text": [
      " 28 rows\n",
      "time: 29.9 ms\n"
     ]
    }
   ],
   "source": [
    "# define a mask that contains errors\n",
    "# say our error is df.birthplace == 'Hamburg',\n",
    "# we don't want that to happen,\n",
    "# but if it happens we would like to see the rows\n",
    "mask = df.birthplace == 'Hamburg'\n",
    "pak.check_mask(df,mask)"
   ]
  },
  {
   "cell_type": "code",
   "execution_count": 66,
   "id": "70ac89d9-b0d9-4a62-abcd-11925fecd2e1",
   "metadata": {},
   "outputs": [
    {
     "ename": "Exception",
     "evalue": "ERROR: 28 rows, but it should be a maximum of 0",
     "output_type": "error",
     "traceback": [
      "\u001b[0;31m---------------------------------------------------------------------------\u001b[0m",
      "\u001b[0;31mException\u001b[0m                                 Traceback (most recent call last)",
      "Cell \u001b[0;32mIn [66], line 3\u001b[0m\n\u001b[1;32m      1\u001b[0m \u001b[38;5;66;03m# checking for 0 raises an error, as we want.\u001b[39;00m\n\u001b[1;32m      2\u001b[0m \u001b[38;5;66;03m# But we don't see the rows affected\u001b[39;00m\n\u001b[0;32m----> 3\u001b[0m \u001b[43mpak\u001b[49m\u001b[38;5;241;43m.\u001b[39;49m\u001b[43mcheck_mask\u001b[49m\u001b[43m(\u001b[49m\u001b[43mdf\u001b[49m\u001b[43m,\u001b[49m\u001b[43mmask\u001b[49m\u001b[43m,\u001b[49m\u001b[43m \u001b[49m\u001b[38;5;241;43m0\u001b[39;49m\u001b[43m)\u001b[49m\n",
      "File \u001b[0;32m/media/me/DATA/Dropbox/31_Projekte/01_Python/git/pandasklar/src/pandasklar/develop.py:90\u001b[0m, in \u001b[0;36mcheck_mask\u001b[0;34m(df, mask, expectation_min, expectation_max, msg, stop, verbose)\u001b[0m\n\u001b[1;32m     88\u001b[0m         e_min \u001b[38;5;241m=\u001b[39m \u001b[38;5;28mint\u001b[39m(expectation_min \u001b[38;5;241m*\u001b[39m \u001b[38;5;241m0.5\u001b[39m) \u001b[38;5;66;03m# Verdoppelung oder Halbierung wird toleriert\u001b[39;00m\n\u001b[1;32m     89\u001b[0m         e_max \u001b[38;5;241m=\u001b[39m \u001b[38;5;28mint\u001b[39m(expectation_min \u001b[38;5;241m*\u001b[39m \u001b[38;5;241m2.0\u001b[39m) \u001b[38;5;241m+\u001b[39m \u001b[38;5;241m1\u001b[39m        \n\u001b[0;32m---> 90\u001b[0m     \u001b[38;5;28;01mreturn\u001b[39;00m \u001b[43mcheck_mask\u001b[49m\u001b[43m(\u001b[49m\u001b[43mdf\u001b[49m\u001b[43m,\u001b[49m\u001b[43m \u001b[49m\u001b[43mmask\u001b[49m\u001b[43m,\u001b[49m\u001b[43m \u001b[49m\u001b[43me_min\u001b[49m\u001b[43m,\u001b[49m\u001b[43m \u001b[49m\u001b[43me_max\u001b[49m\u001b[43m,\u001b[49m\u001b[43m \u001b[49m\u001b[43mmsg\u001b[49m\u001b[38;5;241;43m=\u001b[39;49m\u001b[43mmsg\u001b[49m\u001b[43m,\u001b[49m\u001b[43m \u001b[49m\u001b[43mstop\u001b[49m\u001b[38;5;241;43m=\u001b[39;49m\u001b[43mstop\u001b[49m\u001b[43m,\u001b[49m\u001b[43m \u001b[49m\u001b[43mverbose\u001b[49m\u001b[38;5;241;43m=\u001b[39;49m\u001b[43mverbose\u001b[49m\u001b[43m)\u001b[49m \n\u001b[1;32m     92\u001b[0m \u001b[38;5;28;01mif\u001b[39;00m \u001b[38;5;28mtype\u001b[39m(mask) \u001b[38;5;241m==\u001b[39m pd\u001b[38;5;241m.\u001b[39mSeries   \u001b[38;5;129;01mor\u001b[39;00m   \u001b[38;5;28mtype\u001b[39m(mask) \u001b[38;5;241m==\u001b[39m np\u001b[38;5;241m.\u001b[39mndarray:\n\u001b[1;32m     93\u001b[0m     anz_ds \u001b[38;5;241m=\u001b[39m df[mask]\u001b[38;5;241m.\u001b[39mshape[\u001b[38;5;241m0\u001b[39m]\n",
      "File \u001b[0;32m/media/me/DATA/Dropbox/31_Projekte/01_Python/git/pandasklar/src/pandasklar/develop.py:118\u001b[0m, in \u001b[0;36mcheck_mask\u001b[0;34m(df, mask, expectation_min, expectation_max, msg, stop, verbose)\u001b[0m\n\u001b[1;32m    116\u001b[0m \u001b[38;5;28;01mif\u001b[39;00m (anz_ds \u001b[38;5;241m>\u001b[39m expectation_max)  \u001b[38;5;129;01mor\u001b[39;00m (anz_ds \u001b[38;5;241m<\u001b[39m expectation_min):\n\u001b[1;32m    117\u001b[0m     \u001b[38;5;28;01mif\u001b[39;00m stop:\n\u001b[0;32m--> 118\u001b[0m         \u001b[38;5;28;01mraise\u001b[39;00m \u001b[38;5;167;01mException\u001b[39;00m(  (msg \u001b[38;5;241m+\u001b[39m error)\u001b[38;5;241m.\u001b[39mstrip()  )\n\u001b[1;32m    120\u001b[0m     \u001b[38;5;28;01melse\u001b[39;00m:\n\u001b[1;32m    121\u001b[0m         print_red(   (msg \u001b[38;5;241m+\u001b[39m error)\u001b[38;5;241m.\u001b[39mstrip()  )\n",
      "\u001b[0;31mException\u001b[0m: ERROR: 28 rows, but it should be a maximum of 0"
     ]
    },
    {
     "name": "stdout",
     "output_type": "stream",
     "text": [
      "time: 126 ms\n"
     ]
    }
   ],
   "source": [
    "# checking for 0 raises an error, as we want.\n",
    "# But we don't see the rows affected\n",
    "pak.check_mask(df,mask, 0)"
   ]
  },
  {
   "cell_type": "code",
   "execution_count": 67,
   "id": "14fdc7e8-cd11-4a4c-a2f7-12673a19c562",
   "metadata": {},
   "outputs": [
    {
     "name": "stdout",
     "output_type": "stream",
     "text": [
      "\u001b[1m\u001b[7m\u001b[31mERROR: 28 rows, but it should be a maximum of 0\u001b[0m\n",
      "28 rows out of 100\n"
     ]
    },
    {
     "data": {
      "text/html": [
       "\n",
       "        <iframe\n",
       "            width=\"100%\"\n",
       "            height=\"475\"\n",
       "            src=\"http://pop-os:40000/dtale/iframe/11\"\n",
       "            frameborder=\"0\"\n",
       "            allowfullscreen\n",
       "            \n",
       "        ></iframe>\n",
       "        "
      ],
      "text/plain": [
       "<IPython.lib.display.IFrame at 0x7f19cc183d30>"
      ]
     },
     "metadata": {},
     "output_type": "display_data"
    },
    {
     "data": {
      "text/plain": []
     },
     "execution_count": 67,
     "metadata": {},
     "output_type": "execute_result"
    },
    {
     "name": "stdout",
     "output_type": "stream",
     "text": [
      "time: 97.6 ms\n"
     ]
    }
   ],
   "source": [
    "# so we use this to show the error rows first\n",
    "error = pak.check_mask(df,mask, 0, stop=False)\n",
    "grid(df, mask, error) "
   ]
  },
  {
   "cell_type": "code",
   "execution_count": 68,
   "id": "90e49181-c1c9-4c78-97c3-c3271321ba64",
   "metadata": {},
   "outputs": [
    {
     "ename": "Exception",
     "evalue": "ERROR: 28 rows, but it should be a maximum of 0",
     "output_type": "error",
     "traceback": [
      "\u001b[0;31m---------------------------------------------------------------------------\u001b[0m",
      "\u001b[0;31mException\u001b[0m                                 Traceback (most recent call last)",
      "Cell \u001b[0;32mIn [68], line 2\u001b[0m\n\u001b[1;32m      1\u001b[0m \u001b[38;5;66;03m# and raise later\u001b[39;00m\n\u001b[0;32m----> 2\u001b[0m \u001b[43mbpy\u001b[49m\u001b[38;5;241;43m.\u001b[39;49m\u001b[43mraise_if\u001b[49m\u001b[43m(\u001b[49m\u001b[43merror\u001b[49m\u001b[43m)\u001b[49m\n",
      "File \u001b[0;32m~/mambaforge/envs/python_06/lib/python3.9/site-packages/bpyth/bpyth_tools.py:41\u001b[0m, in \u001b[0;36mraise_if\u001b[0;34m(error)\u001b[0m\n\u001b[1;32m     38\u001b[0m \u001b[38;5;28;01mdef\u001b[39;00m \u001b[38;5;21mraise_if\u001b[39m(error):\n\u001b[1;32m     39\u001b[0m \u001b[38;5;66;03m# ---------------------------------------------------------------------------------------------       \u001b[39;00m\n\u001b[1;32m     40\u001b[0m     \u001b[38;5;28;01mif\u001b[39;00m error:\n\u001b[0;32m---> 41\u001b[0m         \u001b[38;5;28;01mraise\u001b[39;00m \u001b[38;5;167;01mException\u001b[39;00m(error)\n",
      "\u001b[0;31mException\u001b[0m: ERROR: 28 rows, but it should be a maximum of 0"
     ]
    },
    {
     "name": "stdout",
     "output_type": "stream",
     "text": [
      "time: 53.6 ms\n"
     ]
    }
   ],
   "source": [
    "# and raise later\n",
    "bpy.raise_if(error)"
   ]
  }
 ],
 "metadata": {
  "kernelspec": {
   "display_name": "Python 3 (ipykernel)",
   "language": "python",
   "name": "python3"
  },
  "language_info": {
   "codemirror_mode": {
    "name": "ipython",
    "version": 3
   },
   "file_extension": ".py",
   "mimetype": "text/x-python",
   "name": "python",
   "nbconvert_exporter": "python",
   "pygments_lexer": "ipython3",
   "version": "3.9.13"
  }
 },
 "nbformat": 4,
 "nbformat_minor": 5
}
