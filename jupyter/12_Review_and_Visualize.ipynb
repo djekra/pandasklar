{
 "cells": [
  {
   "cell_type": "code",
   "execution_count": 1,
   "id": "61e55565",
   "metadata": {},
   "outputs": [
    {
     "name": "stdout",
     "output_type": "stream",
     "text": [
      "blab init\n",
      "blab found local libs at /media/me/DATA/Dropbox/31_Projekte/01_Python/libs\n",
      "Start Time: 17:19:12\n"
     ]
    },
    {
     "data": {
      "text/html": [
       "<img src onerror=\"var cell = this.closest('.jp-CodeCell');var editor = cell.querySelector('.jp-Editor');editor.style.background='Beige';this.parentNode.removeChild(this)\">"
      ],
      "text/plain": [
       "<IPython.core.display.HTML object>"
      ]
     },
     "metadata": {},
     "output_type": "display_data"
    },
    {
     "name": "stdout",
     "output_type": "stream",
     "text": [
      "time: 389 ms\n"
     ]
    }
   ],
   "source": [
    "# blab init\n",
    "import blab\n",
    "startup_notebook = blab.blab_startup()\n",
    "%run $startup_notebook"
   ]
  },
  {
   "cell_type": "markdown",
   "id": "d18ad909-2564-4262-bdcd-2eb7400759b0",
   "metadata": {},
   "source": [
    "# Review and visualize\n",
    "Review and visualize data that meets your criteria. <br>\n",
    "This notebook raises errors for demonstration purpose.\n",
    "* `plot`: Plot with seaborn without configuration\n",
    "* `check_mask`: Count rows filtered by a binary mask. Raises an error, if the number is unexpected.\n",
    "* `sample`: Returns some sample rows: beginning + end + random rows in the middle, prefering rows without NaNs\n",
    "* `search_str`: Searches all str columns of a dataframe. Useful for development and debugging.\n",
    "* `grid`: Visualize with dtale\n",
    "* `memory_consumption`: Returns the memory consumption of Python objects"
   ]
  },
  {
   "cell_type": "code",
   "execution_count": 2,
   "id": "d02a78c4-6bf6-4bb9-94b7-82bfafe30319",
   "metadata": {},
   "outputs": [
    {
     "name": "stdout",
     "output_type": "stream",
     "text": [
      "time: 1.41 s\n"
     ]
    }
   ],
   "source": [
    "import numpy      as np\n",
    "import pandas     as pd \n",
    "#import bpyth      as bpy\n",
    "import pandasklar as pak \n",
    "\n",
    "grid = pak.grid"
   ]
  },
  {
   "cell_type": "markdown",
   "id": "231eb1e2-6ab3-414c-b258-532a1641b9d2",
   "metadata": {},
   "source": [
    "## plot(): Plot with seaborn without configuration"
   ]
  },
  {
   "cell_type": "code",
   "execution_count": 3,
   "id": "c8db5b4d-d6a0-48a2-8bda-cdff9c2b6995",
   "metadata": {},
   "outputs": [
    {
     "name": "stdout",
     "output_type": "stream",
     "text": [
      "time: 71.6 ms\n"
     ]
    },
    {
     "data": {
      "text/plain": [
       "\u001b[0;31mSignature:\u001b[0m\n",
       "\u001b[0mpak\u001b[0m\u001b[0;34m.\u001b[0m\u001b[0mplot\u001b[0m\u001b[0;34m(\u001b[0m\u001b[0;34m\u001b[0m\n",
       "\u001b[0;34m\u001b[0m    \u001b[0mdf1\u001b[0m\u001b[0;34m,\u001b[0m\u001b[0;34m\u001b[0m\n",
       "\u001b[0;34m\u001b[0m    \u001b[0mdf2\u001b[0m\u001b[0;34m=\u001b[0m\u001b[0;32mNone\u001b[0m\u001b[0;34m,\u001b[0m\u001b[0;34m\u001b[0m\n",
       "\u001b[0;34m\u001b[0m    \u001b[0mx\u001b[0m\u001b[0;34m=\u001b[0m\u001b[0;34m'--'\u001b[0m\u001b[0;34m,\u001b[0m\u001b[0;34m\u001b[0m\n",
       "\u001b[0;34m\u001b[0m    \u001b[0msize\u001b[0m\u001b[0;34m=\u001b[0m\u001b[0;34m(\u001b[0m\u001b[0;36m16\u001b[0m\u001b[0;34m,\u001b[0m \u001b[0;36m4\u001b[0m\u001b[0;34m)\u001b[0m\u001b[0;34m,\u001b[0m\u001b[0;34m\u001b[0m\n",
       "\u001b[0;34m\u001b[0m    \u001b[0mpalette\u001b[0m\u001b[0;34m=\u001b[0m\u001b[0;34m(\u001b[0m\u001b[0;34m'rainbow'\u001b[0m\u001b[0;34m,\u001b[0m \u001b[0;34m'tab10'\u001b[0m\u001b[0;34m)\u001b[0m\u001b[0;34m,\u001b[0m\u001b[0;34m\u001b[0m\n",
       "\u001b[0;34m\u001b[0m    \u001b[0mline\u001b[0m\u001b[0;34m=\u001b[0m\u001b[0;34m(\u001b[0m\u001b[0;36m1\u001b[0m\u001b[0;34m,\u001b[0m \u001b[0;36m1\u001b[0m\u001b[0;34m)\u001b[0m\u001b[0;34m,\u001b[0m\u001b[0;34m\u001b[0m\n",
       "\u001b[0;34m\u001b[0m\u001b[0;34m)\u001b[0m\u001b[0;34m\u001b[0m\u001b[0;34m\u001b[0m\u001b[0m\n",
       "\u001b[0;31mDocstring:\u001b[0m\n",
       "Plots DataFrames or Series.\n",
       "* df1, df2: The first two parameters are DataFrames or Series. \n",
       "            If there are two, they get separate y-axes.\n",
       "* x:        Which column contains the x-axis? \n",
       "            x=='index' -> The index is used as x.    \n",
       "            If no x is given, x is tried to be guessed. \n",
       "            If no suitable column is found, the index is used as x.\n",
       "            A column is considered suitable if it is called 'x', 'X' or 'index'.\n",
       "size:       Width and height of the plot as tuples\n",
       "palette:    The two palettes as tuple or sting\n",
       "line:       The line thickness as tuple or number    \n",
       "\u001b[0;31mFile:\u001b[0m      /media/me/DATA/Dropbox/31_Projekte/01_Python/git/pandasklar/src/pandasklar/plot.py\n",
       "\u001b[0;31mType:\u001b[0m      function\n"
      ]
     },
     "metadata": {},
     "output_type": "display_data"
    }
   ],
   "source": [
    "?pak.plot"
   ]
  },
  {
   "cell_type": "code",
   "execution_count": 4,
   "id": "b442d125-0fc0-425d-935c-96ced9682a0a",
   "metadata": {},
   "outputs": [
    {
     "data": {
      "text/html": [
       "<div>\n",
       "<style scoped>\n",
       "    .dataframe tbody tr th:only-of-type {\n",
       "        vertical-align: middle;\n",
       "    }\n",
       "\n",
       "    .dataframe tbody tr th {\n",
       "        vertical-align: top;\n",
       "    }\n",
       "\n",
       "    .dataframe thead th {\n",
       "        text-align: right;\n",
       "    }\n",
       "</style>\n",
       "<table border=\"1\" class=\"dataframe\">\n",
       "  <thead>\n",
       "    <tr style=\"text-align: right;\">\n",
       "      <th></th>\n",
       "      <th>A</th>\n",
       "      <th>B</th>\n",
       "      <th>C</th>\n",
       "      <th>D</th>\n",
       "      <th>E</th>\n",
       "      <th>F</th>\n",
       "      <th>G</th>\n",
       "    </tr>\n",
       "  </thead>\n",
       "  <tbody>\n",
       "    <tr>\n",
       "      <th>0</th>\n",
       "      <td>0</td>\n",
       "      <td>0.000000</td>\n",
       "      <td>1.000000</td>\n",
       "      <td>1.000000</td>\n",
       "      <td>0.000000</td>\n",
       "      <td>0.000000</td>\n",
       "      <td>0.000000</td>\n",
       "    </tr>\n",
       "    <tr>\n",
       "      <th>1</th>\n",
       "      <td>0</td>\n",
       "      <td>0.002093</td>\n",
       "      <td>0.995429</td>\n",
       "      <td>0.998362</td>\n",
       "      <td>-0.066956</td>\n",
       "      <td>0.283586</td>\n",
       "      <td>0.004649</td>\n",
       "    </tr>\n",
       "    <tr>\n",
       "      <th>33</th>\n",
       "      <td>0</td>\n",
       "      <td>0.215186</td>\n",
       "      <td>0.358721</td>\n",
       "      <td>0.404341</td>\n",
       "      <td>-0.058444</td>\n",
       "      <td>-0.107647</td>\n",
       "      <td>-0.034740</td>\n",
       "    </tr>\n",
       "    <tr>\n",
       "      <th>51</th>\n",
       "      <td>0</td>\n",
       "      <td>0.222754</td>\n",
       "      <td>0.253883</td>\n",
       "      <td>0.309249</td>\n",
       "      <td>-0.274096</td>\n",
       "      <td>-0.260045</td>\n",
       "      <td>0.170364</td>\n",
       "    </tr>\n",
       "    <tr>\n",
       "      <th>71</th>\n",
       "      <td>0</td>\n",
       "      <td>0.286602</td>\n",
       "      <td>0.237772</td>\n",
       "      <td>0.231615</td>\n",
       "      <td>-0.999035</td>\n",
       "      <td>-0.415467</td>\n",
       "      <td>0.329075</td>\n",
       "    </tr>\n",
       "    <tr>\n",
       "      <th>98</th>\n",
       "      <td>0</td>\n",
       "      <td>0.993966</td>\n",
       "      <td>0.007137</td>\n",
       "      <td>0.002219</td>\n",
       "      <td>-0.063106</td>\n",
       "      <td>-0.533040</td>\n",
       "      <td>0.102653</td>\n",
       "    </tr>\n",
       "    <tr>\n",
       "      <th>99</th>\n",
       "      <td>0</td>\n",
       "      <td>1.000000</td>\n",
       "      <td>0.000000</td>\n",
       "      <td>0.000000</td>\n",
       "      <td>-0.031177</td>\n",
       "      <td>-0.290211</td>\n",
       "      <td>0.102317</td>\n",
       "    </tr>\n",
       "  </tbody>\n",
       "</table>\n",
       "</div>"
      ],
      "text/plain": [
       "    A         B         C         D         E         F         G\n",
       "0   0  0.000000  1.000000  1.000000  0.000000  0.000000  0.000000\n",
       "1   0  0.002093  0.995429  0.998362 -0.066956  0.283586  0.004649\n",
       "33  0  0.215186  0.358721  0.404341 -0.058444 -0.107647 -0.034740\n",
       "51  0  0.222754  0.253883  0.309249 -0.274096 -0.260045  0.170364\n",
       "71  0  0.286602  0.237772  0.231615 -0.999035 -0.415467  0.329075\n",
       "98  0  0.993966  0.007137  0.002219 -0.063106 -0.533040  0.102653\n",
       "99  0  1.000000  0.000000  0.000000 -0.031177 -0.290211  0.102317"
      ]
     },
     "execution_count": 4,
     "metadata": {},
     "output_type": "execute_result"
    },
    {
     "name": "stdout",
     "output_type": "stream",
     "text": [
      "time: 163 ms\n"
     ]
    }
   ],
   "source": [
    "# Several types of random numbers, with parameters\n",
    "size = 100\n",
    "a = pak.random_series( size, 'ascending'                    )\n",
    "b = pak.random_series( size, 'ascending'                    )\n",
    "c = pak.random_series( size, 'descending'                   )\n",
    "d = pak.random_series( size, 'descending'                   )\n",
    "e = pak.random_series( size, 'perlin',     freq=2           )\n",
    "f = pak.random_series( size, 'perlin',     freq=[16,1,8,1]  )\n",
    "g = pak.random_series( size, 'perlin',     freq=[4,1,8,128] )\n",
    "\n",
    "df = pak.dataframe( (a,b,c,d,e,f,g) )\n",
    "pak.sample(df)"
   ]
  },
  {
   "cell_type": "code",
   "execution_count": 5,
   "id": "a937d047-3b63-4091-9fef-a6ba38b04f20",
   "metadata": {},
   "outputs": [
    {
     "data": {
      "image/png": "[encoded data removed]",
      "text/plain": [
       "<Figure size 1600x400 with 1 Axes>"
      ]
     },
     "metadata": {},
     "output_type": "display_data"
    },
    {
     "name": "stdout",
     "output_type": "stream",
     "text": [
      "time: 720 ms\n"
     ]
    }
   ],
   "source": [
    "# just plot all together\n",
    "%matplotlib inline\n",
    "pak.plot(df)"
   ]
  },
  {
   "cell_type": "code",
   "execution_count": 6,
   "id": "f4f33ae6-f4cf-4a76-a7b9-7607ac9e06ab",
   "metadata": {},
   "outputs": [
    {
     "data": {
      "image/png": "[encoded data removed]",
      "text/plain": [
       "<Figure size 1600x400 with 2 Axes>"
      ]
     },
     "metadata": {},
     "output_type": "display_data"
    },
    {
     "name": "stdout",
     "output_type": "stream",
     "text": [
      "time: 539 ms\n"
     ]
    }
   ],
   "source": [
    "# plot 2 Series, use different y-axis\n",
    "%matplotlib inline\n",
    "pak.plot(df.A, df.G)"
   ]
  },
  {
   "cell_type": "code",
   "execution_count": 7,
   "id": "f5f91497-c0c3-446e-a5ca-3e56a4b2b286",
   "metadata": {},
   "outputs": [
    {
     "data": {
      "image/png": "[encoded data removed]",
      "text/plain": [
       "<Figure size 1600x400 with 2 Axes>"
      ]
     },
     "metadata": {},
     "output_type": "display_data"
    },
    {
     "name": "stdout",
     "output_type": "stream",
     "text": [
      "time: 548 ms\n"
     ]
    }
   ],
   "source": [
    "# plot DataFrame + Series, use different line thickness\n",
    "%matplotlib inline \n",
    "pak.plot(df[list('BCD')], df.A, line=(1,5))"
   ]
  },
  {
   "cell_type": "code",
   "execution_count": 8,
   "id": "2b80b619-f306-41d8-b545-3728c559e602",
   "metadata": {},
   "outputs": [
    {
     "data": {
      "image/png": "[encoded data removed]",
      "text/plain": [
       "<Figure size 1600x400 with 1 Axes>"
      ]
     },
     "metadata": {},
     "output_type": "display_data"
    },
    {
     "name": "stdout",
     "output_type": "stream",
     "text": [
      "time: 356 ms\n"
     ]
    }
   ],
   "source": [
    "# plot E (Perlin) and A (ascending)\n",
    "%matplotlib inline \n",
    "pak.plot(df[list('AE')])"
   ]
  },
  {
   "cell_type": "code",
   "execution_count": 9,
   "id": "2530f3a8-ffd2-429f-975c-b9e7622b1d4e",
   "metadata": {},
   "outputs": [
    {
     "data": {
      "image/png": "[encoded data removed]",
      "text/plain": [
       "<Figure size 1600x400 with 1 Axes>"
      ]
     },
     "metadata": {},
     "output_type": "display_data"
    },
    {
     "name": "stdout",
     "output_type": "stream",
     "text": [
      "time: 266 ms\n"
     ]
    }
   ],
   "source": [
    "# plot E using A as x-Axis\n",
    "%matplotlib inline \n",
    "pak.plot(df[list('AE')], x='A')"
   ]
  },
  {
   "cell_type": "code",
   "execution_count": null,
   "id": "570f271c-696a-4029-9a24-21302e34535a",
   "metadata": {},
   "outputs": [],
   "source": []
  },
  {
   "cell_type": "markdown",
   "id": "0dab7d17-79d0-445a-aae1-bd9589423675",
   "metadata": {},
   "source": [
    "## sample(): Returns some sample rows"
   ]
  },
  {
   "cell_type": "code",
   "execution_count": 10,
   "id": "7c9db8af-51b5-4e92-ba45-5870ae41d094",
   "metadata": {},
   "outputs": [
    {
     "name": "stdout",
     "output_type": "stream",
     "text": [
      "time: 33.7 ms\n"
     ]
    },
    {
     "data": {
      "text/plain": [
       "\u001b[0;31mSignature:\u001b[0m \u001b[0mpak\u001b[0m\u001b[0;34m.\u001b[0m\u001b[0msample\u001b[0m\u001b[0;34m(\u001b[0m\u001b[0mdf\u001b[0m\u001b[0;34m,\u001b[0m \u001b[0msize\u001b[0m\u001b[0;34m=\u001b[0m\u001b[0;36m7\u001b[0m\u001b[0;34m)\u001b[0m\u001b[0;34m\u001b[0m\u001b[0;34m\u001b[0m\u001b[0m\n",
       "\u001b[0;31mDocstring:\u001b[0m\n",
       "Returns some sample rows.\n",
       "Always the beginning and the end, \n",
       "plus some random rows in the middle, prefering rows without NaNs.\n",
       "* size: Number of rows returned\n",
       "\u001b[0;31mFile:\u001b[0m      /media/me/DATA/Dropbox/31_Projekte/01_Python/git/pandasklar/src/pandasklar/analyse.py\n",
       "\u001b[0;31mType:\u001b[0m      function\n"
      ]
     },
     "metadata": {},
     "output_type": "display_data"
    }
   ],
   "source": [
    "?pak.sample"
   ]
  },
  {
   "cell_type": "code",
   "execution_count": 11,
   "id": "aed46905",
   "metadata": {},
   "outputs": [
    {
     "data": {
      "text/html": [
       "<div>\n",
       "<style scoped>\n",
       "    .dataframe tbody tr th:only-of-type {\n",
       "        vertical-align: middle;\n",
       "    }\n",
       "\n",
       "    .dataframe tbody tr th {\n",
       "        vertical-align: top;\n",
       "    }\n",
       "\n",
       "    .dataframe thead th {\n",
       "        text-align: right;\n",
       "    }\n",
       "</style>\n",
       "<table border=\"1\" class=\"dataframe\">\n",
       "  <thead>\n",
       "    <tr style=\"text-align: right;\">\n",
       "      <th></th>\n",
       "      <th>first_name</th>\n",
       "      <th>age</th>\n",
       "      <th>age_class</th>\n",
       "      <th>postal_code</th>\n",
       "      <th>birthplace</th>\n",
       "      <th>secret</th>\n",
       "      <th>features</th>\n",
       "      <th>history</th>\n",
       "    </tr>\n",
       "  </thead>\n",
       "  <tbody>\n",
       "    <tr>\n",
       "      <th>0</th>\n",
       "      <td>Reinhard</td>\n",
       "      <td>32</td>\n",
       "      <td>30</td>\n",
       "      <td>57570</td>\n",
       "      <td>Bremen</td>\n",
       "      <td>oh0ÖWTyB</td>\n",
       "      <td>{r, a, E}</td>\n",
       "      <td>[A, x]</td>\n",
       "    </tr>\n",
       "    <tr>\n",
       "      <th>1</th>\n",
       "      <td>Karina</td>\n",
       "      <td>34</td>\n",
       "      <td>30</td>\n",
       "      <td>52971</td>\n",
       "      <td>Hamburg</td>\n",
       "      <td>4ctäN3i</td>\n",
       "      <td>{H, w, 0, g, o}</td>\n",
       "      <td>[A, B, C]</td>\n",
       "    </tr>\n",
       "    <tr>\n",
       "      <th>2</th>\n",
       "      <td>Theresa</td>\n",
       "      <td>32</td>\n",
       "      <td>30</td>\n",
       "      <td>78538</td>\n",
       "      <td>Hamburg</td>\n",
       "      <td>ukRÄ6K</td>\n",
       "      <td>{v}</td>\n",
       "      <td>[A, A, A]</td>\n",
       "    </tr>\n",
       "    <tr>\n",
       "      <th>3</th>\n",
       "      <td>Lilli</td>\n",
       "      <td>35</td>\n",
       "      <td>30</td>\n",
       "      <td>52427</td>\n",
       "      <td>Hamburg</td>\n",
       "      <td>86h26</td>\n",
       "      <td>{X}</td>\n",
       "      <td>[A, C, C, B]</td>\n",
       "    </tr>\n",
       "    <tr>\n",
       "      <th>4</th>\n",
       "      <td>Max</td>\n",
       "      <td>41</td>\n",
       "      <td>40</td>\n",
       "      <td>&lt;NA&gt;</td>\n",
       "      <td>Berlin</td>\n",
       "      <td>oz83Akz</td>\n",
       "      <td>{X, j, Q, N}</td>\n",
       "      <td>[A, B, C, C]</td>\n",
       "    </tr>\n",
       "    <tr>\n",
       "      <th>...</th>\n",
       "      <td>...</td>\n",
       "      <td>...</td>\n",
       "      <td>...</td>\n",
       "      <td>...</td>\n",
       "      <td>...</td>\n",
       "      <td>...</td>\n",
       "      <td>...</td>\n",
       "      <td>...</td>\n",
       "    </tr>\n",
       "    <tr>\n",
       "      <th>95</th>\n",
       "      <td>Lukas</td>\n",
       "      <td>28</td>\n",
       "      <td>20</td>\n",
       "      <td>75491</td>\n",
       "      <td>Bremen</td>\n",
       "      <td>ä9d34Yüoqä</td>\n",
       "      <td>{l, 4, R, C}</td>\n",
       "      <td>[a, b, c]</td>\n",
       "    </tr>\n",
       "    <tr>\n",
       "      <th>96</th>\n",
       "      <td>Stefanie</td>\n",
       "      <td>35</td>\n",
       "      <td>30</td>\n",
       "      <td>82570</td>\n",
       "      <td>Bremen</td>\n",
       "      <td>rLb31BtrID</td>\n",
       "      <td>{b, d, C}</td>\n",
       "      <td>[A, x]</td>\n",
       "    </tr>\n",
       "    <tr>\n",
       "      <th>97</th>\n",
       "      <td>Nikolas</td>\n",
       "      <td>30</td>\n",
       "      <td>30</td>\n",
       "      <td>65493</td>\n",
       "      <td>Hamburg</td>\n",
       "      <td>WuHRQFCdoW</td>\n",
       "      <td>{4, E}</td>\n",
       "      <td>[b, b, a, b]</td>\n",
       "    </tr>\n",
       "    <tr>\n",
       "      <th>98</th>\n",
       "      <td>Heinrich</td>\n",
       "      <td>32</td>\n",
       "      <td>30</td>\n",
       "      <td>72380</td>\n",
       "      <td>Berlin</td>\n",
       "      <td>e8Gy7veÜ</td>\n",
       "      <td>{J}</td>\n",
       "      <td>[b, b, a, b]</td>\n",
       "    </tr>\n",
       "    <tr>\n",
       "      <th>99</th>\n",
       "      <td>Jennifer</td>\n",
       "      <td>36</td>\n",
       "      <td>30</td>\n",
       "      <td>23466</td>\n",
       "      <td>Bremen</td>\n",
       "      <td>jpTmtbsD7</td>\n",
       "      <td>{H, Y, J, n}</td>\n",
       "      <td>[A, C, C, B]</td>\n",
       "    </tr>\n",
       "  </tbody>\n",
       "</table>\n",
       "<p>100 rows × 8 columns</p>\n",
       "</div>"
      ],
      "text/plain": [
       "   first_name  age  age_class  postal_code birthplace      secret  \\\n",
       "0    Reinhard   32         30        57570     Bremen    oh0ÖWTyB   \n",
       "1      Karina   34         30        52971    Hamburg     4ctäN3i   \n",
       "2     Theresa   32         30        78538    Hamburg      ukRÄ6K   \n",
       "3       Lilli   35         30        52427    Hamburg       86h26   \n",
       "4         Max   41         40         <NA>     Berlin     oz83Akz   \n",
       "..        ...  ...        ...          ...        ...         ...   \n",
       "95      Lukas   28         20        75491     Bremen  ä9d34Yüoqä   \n",
       "96   Stefanie   35         30        82570     Bremen  rLb31BtrID   \n",
       "97    Nikolas   30         30        65493    Hamburg  WuHRQFCdoW   \n",
       "98   Heinrich   32         30        72380     Berlin    e8Gy7veÜ   \n",
       "99   Jennifer   36         30        23466     Bremen   jpTmtbsD7   \n",
       "\n",
       "           features       history  \n",
       "0         {r, a, E}        [A, x]  \n",
       "1   {H, w, 0, g, o}     [A, B, C]  \n",
       "2               {v}     [A, A, A]  \n",
       "3               {X}  [A, C, C, B]  \n",
       "4      {X, j, Q, N}  [A, B, C, C]  \n",
       "..              ...           ...  \n",
       "95     {l, 4, R, C}     [a, b, c]  \n",
       "96        {b, d, C}        [A, x]  \n",
       "97           {4, E}  [b, b, a, b]  \n",
       "98              {J}  [b, b, a, b]  \n",
       "99     {H, Y, J, n}  [A, C, C, B]  \n",
       "\n",
       "[100 rows x 8 columns]"
      ]
     },
     "execution_count": 11,
     "metadata": {},
     "output_type": "execute_result"
    },
    {
     "name": "stdout",
     "output_type": "stream",
     "text": [
      "time: 111 ms\n"
     ]
    }
   ],
   "source": [
    "# create test data\n",
    "df = pak.people()\n",
    "df['birthplace'] = df.birthplace.fillna('Hamburg')\n",
    "df"
   ]
  },
  {
   "cell_type": "code",
   "execution_count": 12,
   "id": "8b558e7b-5a33-409d-8dc5-33d50ffab74b",
   "metadata": {},
   "outputs": [
    {
     "data": {
      "text/html": [
       "<div>\n",
       "<style scoped>\n",
       "    .dataframe tbody tr th:only-of-type {\n",
       "        vertical-align: middle;\n",
       "    }\n",
       "\n",
       "    .dataframe tbody tr th {\n",
       "        vertical-align: top;\n",
       "    }\n",
       "\n",
       "    .dataframe thead th {\n",
       "        text-align: right;\n",
       "    }\n",
       "</style>\n",
       "<table border=\"1\" class=\"dataframe\">\n",
       "  <thead>\n",
       "    <tr style=\"text-align: right;\">\n",
       "      <th></th>\n",
       "      <th>first_name</th>\n",
       "      <th>age</th>\n",
       "      <th>age_class</th>\n",
       "      <th>postal_code</th>\n",
       "      <th>birthplace</th>\n",
       "      <th>secret</th>\n",
       "      <th>features</th>\n",
       "      <th>history</th>\n",
       "    </tr>\n",
       "  </thead>\n",
       "  <tbody>\n",
       "    <tr>\n",
       "      <th>0</th>\n",
       "      <td>Reinhard</td>\n",
       "      <td>32</td>\n",
       "      <td>30</td>\n",
       "      <td>57570</td>\n",
       "      <td>Bremen</td>\n",
       "      <td>oh0ÖWTyB</td>\n",
       "      <td>{r, a, E}</td>\n",
       "      <td>[A, x]</td>\n",
       "    </tr>\n",
       "    <tr>\n",
       "      <th>1</th>\n",
       "      <td>Karina</td>\n",
       "      <td>34</td>\n",
       "      <td>30</td>\n",
       "      <td>52971</td>\n",
       "      <td>Hamburg</td>\n",
       "      <td>4ctäN3i</td>\n",
       "      <td>{H, w, 0, g, o}</td>\n",
       "      <td>[A, B, C]</td>\n",
       "    </tr>\n",
       "    <tr>\n",
       "      <th>2</th>\n",
       "      <td>Theresa</td>\n",
       "      <td>32</td>\n",
       "      <td>30</td>\n",
       "      <td>78538</td>\n",
       "      <td>Hamburg</td>\n",
       "      <td>ukRÄ6K</td>\n",
       "      <td>{v}</td>\n",
       "      <td>[A, A, A]</td>\n",
       "    </tr>\n",
       "    <tr>\n",
       "      <th>15</th>\n",
       "      <td>Marianne</td>\n",
       "      <td>31</td>\n",
       "      <td>30</td>\n",
       "      <td>20782</td>\n",
       "      <td>Hamburg</td>\n",
       "      <td>JÜrMeYu</td>\n",
       "      <td>{4, E}</td>\n",
       "      <td>[A, B, C, C]</td>\n",
       "    </tr>\n",
       "    <tr>\n",
       "      <th>34</th>\n",
       "      <td>Emilie</td>\n",
       "      <td>22</td>\n",
       "      <td>20</td>\n",
       "      <td>28635</td>\n",
       "      <td>Bremen</td>\n",
       "      <td>ZörkoEr</td>\n",
       "      <td>{G, X}</td>\n",
       "      <td>[c, b, a]</td>\n",
       "    </tr>\n",
       "    <tr>\n",
       "      <th>98</th>\n",
       "      <td>Heinrich</td>\n",
       "      <td>32</td>\n",
       "      <td>30</td>\n",
       "      <td>72380</td>\n",
       "      <td>Berlin</td>\n",
       "      <td>e8Gy7veÜ</td>\n",
       "      <td>{J}</td>\n",
       "      <td>[b, b, a, b]</td>\n",
       "    </tr>\n",
       "    <tr>\n",
       "      <th>99</th>\n",
       "      <td>Jennifer</td>\n",
       "      <td>36</td>\n",
       "      <td>30</td>\n",
       "      <td>23466</td>\n",
       "      <td>Bremen</td>\n",
       "      <td>jpTmtbsD7</td>\n",
       "      <td>{H, Y, J, n}</td>\n",
       "      <td>[A, C, C, B]</td>\n",
       "    </tr>\n",
       "  </tbody>\n",
       "</table>\n",
       "</div>"
      ],
      "text/plain": [
       "   first_name  age  age_class  postal_code birthplace     secret  \\\n",
       "0    Reinhard   32         30        57570     Bremen   oh0ÖWTyB   \n",
       "1      Karina   34         30        52971    Hamburg    4ctäN3i   \n",
       "2     Theresa   32         30        78538    Hamburg     ukRÄ6K   \n",
       "15   Marianne   31         30        20782    Hamburg    JÜrMeYu   \n",
       "34     Emilie   22         20        28635     Bremen    ZörkoEr   \n",
       "98   Heinrich   32         30        72380     Berlin   e8Gy7veÜ   \n",
       "99   Jennifer   36         30        23466     Bremen  jpTmtbsD7   \n",
       "\n",
       "           features       history  \n",
       "0         {r, a, E}        [A, x]  \n",
       "1   {H, w, 0, g, o}     [A, B, C]  \n",
       "2               {v}     [A, A, A]  \n",
       "15           {4, E}  [A, B, C, C]  \n",
       "34           {G, X}     [c, b, a]  \n",
       "98              {J}  [b, b, a, b]  \n",
       "99     {H, Y, J, n}  [A, C, C, B]  "
      ]
     },
     "execution_count": 12,
     "metadata": {},
     "output_type": "execute_result"
    },
    {
     "name": "stdout",
     "output_type": "stream",
     "text": [
      "time: 58.4 ms\n"
     ]
    }
   ],
   "source": [
    "pak.sample(df)"
   ]
  },
  {
   "cell_type": "markdown",
   "id": "f040f24c-3987-475a-b82b-17580ba69824",
   "metadata": {},
   "source": [
    "## search_str(): Searches all str columns of a dataframe"
   ]
  },
  {
   "cell_type": "code",
   "execution_count": 13,
   "id": "fdb683bd-684b-45c2-95a0-d624eba48b00",
   "metadata": {},
   "outputs": [
    {
     "name": "stdout",
     "output_type": "stream",
     "text": [
      "time: 54.6 ms\n"
     ]
    },
    {
     "data": {
      "text/plain": [
       "\u001b[0;31mSignature:\u001b[0m \u001b[0mpak\u001b[0m\u001b[0;34m.\u001b[0m\u001b[0msearch_str\u001b[0m\u001b[0;34m(\u001b[0m\u001b[0mdf\u001b[0m\u001b[0;34m,\u001b[0m \u001b[0mfind\u001b[0m\u001b[0;34m,\u001b[0m \u001b[0mwithout\u001b[0m\u001b[0;34m=\u001b[0m\u001b[0;34m[\u001b[0m\u001b[0;34m]\u001b[0m\u001b[0;34m)\u001b[0m\u001b[0;34m\u001b[0m\u001b[0;34m\u001b[0m\u001b[0m\n",
       "\u001b[0;31mDocstring:\u001b[0m\n",
       "Searches all str columns of a dataframe.\n",
       "Useful for development and debugging.\n",
       "* find:    What is to be found?                  String or list of strings.\n",
       "* without: Which columns should not be searched? String or list of strings.    \n",
       "\u001b[0;31mFile:\u001b[0m      /media/me/DATA/Dropbox/31_Projekte/01_Python/git/pandasklar/src/pandasklar/develop.py\n",
       "\u001b[0;31mType:\u001b[0m      function\n"
      ]
     },
     "metadata": {},
     "output_type": "display_data"
    }
   ],
   "source": [
    "?pak.search_str"
   ]
  },
  {
   "cell_type": "code",
   "execution_count": 14,
   "id": "d9b1c748-51ef-4dc2-b9fe-20e46ef48c16",
   "metadata": {},
   "outputs": [
    {
     "name": "stdout",
     "output_type": "stream",
     "text": [
      "search for ['Hamburg', 'Anna']\n",
      "time: 40.3 ms\n"
     ]
    }
   ],
   "source": [
    "# create mask: most frequent first_name\n",
    "find = ['Hamburg', pak.most_freq_elt(df.first_name)]\n",
    "print('search for',find)"
   ]
  },
  {
   "cell_type": "code",
   "execution_count": 15,
   "id": "264cbe92-9224-4014-bfbc-a5fd24fe9444",
   "metadata": {
    "tags": []
   },
   "outputs": [
    {
     "data": {
      "text/html": [
       "<div>\n",
       "<style scoped>\n",
       "    .dataframe tbody tr th:only-of-type {\n",
       "        vertical-align: middle;\n",
       "    }\n",
       "\n",
       "    .dataframe tbody tr th {\n",
       "        vertical-align: top;\n",
       "    }\n",
       "\n",
       "    .dataframe thead th {\n",
       "        text-align: right;\n",
       "    }\n",
       "</style>\n",
       "<table border=\"1\" class=\"dataframe\">\n",
       "  <thead>\n",
       "    <tr style=\"text-align: right;\">\n",
       "      <th></th>\n",
       "      <th>first_name</th>\n",
       "      <th>age</th>\n",
       "      <th>age_class</th>\n",
       "      <th>postal_code</th>\n",
       "      <th>birthplace</th>\n",
       "      <th>secret</th>\n",
       "      <th>features</th>\n",
       "      <th>history</th>\n",
       "    </tr>\n",
       "  </thead>\n",
       "  <tbody>\n",
       "    <tr>\n",
       "      <th>1</th>\n",
       "      <td>Karina</td>\n",
       "      <td>34</td>\n",
       "      <td>30</td>\n",
       "      <td>52971</td>\n",
       "      <td>Hamburg</td>\n",
       "      <td>4ctäN3i</td>\n",
       "      <td>{H, w, 0, g, o}</td>\n",
       "      <td>[A, B, C]</td>\n",
       "    </tr>\n",
       "    <tr>\n",
       "      <th>2</th>\n",
       "      <td>Theresa</td>\n",
       "      <td>32</td>\n",
       "      <td>30</td>\n",
       "      <td>78538</td>\n",
       "      <td>Hamburg</td>\n",
       "      <td>ukRÄ6K</td>\n",
       "      <td>{v}</td>\n",
       "      <td>[A, A, A]</td>\n",
       "    </tr>\n",
       "    <tr>\n",
       "      <th>3</th>\n",
       "      <td>Lilli</td>\n",
       "      <td>35</td>\n",
       "      <td>30</td>\n",
       "      <td>52427</td>\n",
       "      <td>Hamburg</td>\n",
       "      <td>86h26</td>\n",
       "      <td>{X}</td>\n",
       "      <td>[A, C, C, B]</td>\n",
       "    </tr>\n",
       "    <tr>\n",
       "      <th>7</th>\n",
       "      <td>Beate</td>\n",
       "      <td>28</td>\n",
       "      <td>20</td>\n",
       "      <td>68992</td>\n",
       "      <td>Hamburg</td>\n",
       "      <td>WqwäSWä7lv</td>\n",
       "      <td>{O, t, o, M}</td>\n",
       "      <td>[a, b, c]</td>\n",
       "    </tr>\n",
       "    <tr>\n",
       "      <th>9</th>\n",
       "      <td>Paul</td>\n",
       "      <td>25</td>\n",
       "      <td>20</td>\n",
       "      <td>77799</td>\n",
       "      <td>Hamburg</td>\n",
       "      <td>OCÄBü</td>\n",
       "      <td>{k, L, 3, v, 0}</td>\n",
       "      <td>[c, b, a]</td>\n",
       "    </tr>\n",
       "    <tr>\n",
       "      <th>12</th>\n",
       "      <td>Philip</td>\n",
       "      <td>30</td>\n",
       "      <td>30</td>\n",
       "      <td>43882</td>\n",
       "      <td>Hamburg</td>\n",
       "      <td>dnWNo</td>\n",
       "      <td>{3, W, d}</td>\n",
       "      <td>[a, b, c]</td>\n",
       "    </tr>\n",
       "    <tr>\n",
       "      <th>14</th>\n",
       "      <td>Werner</td>\n",
       "      <td>27</td>\n",
       "      <td>20</td>\n",
       "      <td>46484</td>\n",
       "      <td>Hamburg</td>\n",
       "      <td>z1OlQaA</td>\n",
       "      <td>{F, b, Z, s, u}</td>\n",
       "      <td>[A, C, C, B]</td>\n",
       "    </tr>\n",
       "    <tr>\n",
       "      <th>15</th>\n",
       "      <td>Marianne</td>\n",
       "      <td>31</td>\n",
       "      <td>30</td>\n",
       "      <td>20782</td>\n",
       "      <td>Hamburg</td>\n",
       "      <td>JÜrMeYu</td>\n",
       "      <td>{4, E}</td>\n",
       "      <td>[A, B, C, C]</td>\n",
       "    </tr>\n",
       "    <tr>\n",
       "      <th>18</th>\n",
       "      <td>Bernhard</td>\n",
       "      <td>26</td>\n",
       "      <td>20</td>\n",
       "      <td>82570</td>\n",
       "      <td>Hamburg</td>\n",
       "      <td>0t5RR64Sad</td>\n",
       "      <td>{S, i, Y, K, M}</td>\n",
       "      <td>[A, x]</td>\n",
       "    </tr>\n",
       "    <tr>\n",
       "      <th>26</th>\n",
       "      <td>Käthe</td>\n",
       "      <td>34</td>\n",
       "      <td>30</td>\n",
       "      <td>85455</td>\n",
       "      <td>Hamburg</td>\n",
       "      <td>rZ1yaONgT</td>\n",
       "      <td>{U, s, R, m}</td>\n",
       "      <td>[c, b, a]</td>\n",
       "    </tr>\n",
       "    <tr>\n",
       "      <th>27</th>\n",
       "      <td>Sina</td>\n",
       "      <td>40</td>\n",
       "      <td>40</td>\n",
       "      <td>74010</td>\n",
       "      <td>Hamburg</td>\n",
       "      <td>o8sIS</td>\n",
       "      <td>{n}</td>\n",
       "      <td>[A, B, C, C]</td>\n",
       "    </tr>\n",
       "    <tr>\n",
       "      <th>30</th>\n",
       "      <td>Klaus</td>\n",
       "      <td>34</td>\n",
       "      <td>30</td>\n",
       "      <td>28109</td>\n",
       "      <td>Hamburg</td>\n",
       "      <td>S0iüJr30Ö</td>\n",
       "      <td>{H, o}</td>\n",
       "      <td>[A, B, C, C]</td>\n",
       "    </tr>\n",
       "    <tr>\n",
       "      <th>35</th>\n",
       "      <td>Heinrich</td>\n",
       "      <td>31</td>\n",
       "      <td>30</td>\n",
       "      <td>81936</td>\n",
       "      <td>Hamburg</td>\n",
       "      <td>ÜbcDt</td>\n",
       "      <td>{e, Z, Y, A, a}</td>\n",
       "      <td>[c, b, a]</td>\n",
       "    </tr>\n",
       "    <tr>\n",
       "      <th>39</th>\n",
       "      <td>Anna</td>\n",
       "      <td>32</td>\n",
       "      <td>30</td>\n",
       "      <td>31457</td>\n",
       "      <td>Berlin</td>\n",
       "      <td>nwZfGihUm</td>\n",
       "      <td>{J}</td>\n",
       "      <td>[A, x]</td>\n",
       "    </tr>\n",
       "    <tr>\n",
       "      <th>43</th>\n",
       "      <td>Lukas</td>\n",
       "      <td>37</td>\n",
       "      <td>30</td>\n",
       "      <td>92194</td>\n",
       "      <td>Hamburg</td>\n",
       "      <td>BüWopzJöW</td>\n",
       "      <td>{e, X}</td>\n",
       "      <td>[b, b, a, b]</td>\n",
       "    </tr>\n",
       "    <tr>\n",
       "      <th>44</th>\n",
       "      <td>Isabell</td>\n",
       "      <td>22</td>\n",
       "      <td>20</td>\n",
       "      <td>38365</td>\n",
       "      <td>Hamburg</td>\n",
       "      <td>Y76a8mVa</td>\n",
       "      <td>{H, b}</td>\n",
       "      <td>[a, b, c]</td>\n",
       "    </tr>\n",
       "    <tr>\n",
       "      <th>48</th>\n",
       "      <td>Susanne</td>\n",
       "      <td>31</td>\n",
       "      <td>30</td>\n",
       "      <td>81668</td>\n",
       "      <td>Hamburg</td>\n",
       "      <td>jYpEü0</td>\n",
       "      <td>{w}</td>\n",
       "      <td>[A, x]</td>\n",
       "    </tr>\n",
       "    <tr>\n",
       "      <th>53</th>\n",
       "      <td>Martin</td>\n",
       "      <td>31</td>\n",
       "      <td>30</td>\n",
       "      <td>84029</td>\n",
       "      <td>Hamburg</td>\n",
       "      <td>vKZadQp</td>\n",
       "      <td>{r, e, t, 2, E}</td>\n",
       "      <td>[b, b, a, b]</td>\n",
       "    </tr>\n",
       "    <tr>\n",
       "      <th>54</th>\n",
       "      <td>Britta</td>\n",
       "      <td>33</td>\n",
       "      <td>30</td>\n",
       "      <td>62617</td>\n",
       "      <td>Hamburg</td>\n",
       "      <td>qTDThrp</td>\n",
       "      <td>{3, 2, J, v}</td>\n",
       "      <td>[]</td>\n",
       "    </tr>\n",
       "    <tr>\n",
       "      <th>63</th>\n",
       "      <td>Oliver</td>\n",
       "      <td>31</td>\n",
       "      <td>30</td>\n",
       "      <td>25001</td>\n",
       "      <td>Hamburg</td>\n",
       "      <td>Asycc8h</td>\n",
       "      <td>{H, s, D, W}</td>\n",
       "      <td>[A, B, C, C]</td>\n",
       "    </tr>\n",
       "    <tr>\n",
       "      <th>65</th>\n",
       "      <td>Christina</td>\n",
       "      <td>34</td>\n",
       "      <td>30</td>\n",
       "      <td>55258</td>\n",
       "      <td>Hamburg</td>\n",
       "      <td>psDura</td>\n",
       "      <td>{k, 3, u, J}</td>\n",
       "      <td>[c, b, a]</td>\n",
       "    </tr>\n",
       "    <tr>\n",
       "      <th>70</th>\n",
       "      <td>Anna</td>\n",
       "      <td>26</td>\n",
       "      <td>20</td>\n",
       "      <td>32589</td>\n",
       "      <td>Hamburg</td>\n",
       "      <td>NzCb2AnHC</td>\n",
       "      <td>{H, Y, J, n}</td>\n",
       "      <td>[a, b, c]</td>\n",
       "    </tr>\n",
       "    <tr>\n",
       "      <th>73</th>\n",
       "      <td>Charlotte</td>\n",
       "      <td>30</td>\n",
       "      <td>30</td>\n",
       "      <td>68992</td>\n",
       "      <td>Hamburg</td>\n",
       "      <td>hLHexyevc</td>\n",
       "      <td>{a, j, u}</td>\n",
       "      <td>[c, b, a]</td>\n",
       "    </tr>\n",
       "    <tr>\n",
       "      <th>74</th>\n",
       "      <td>Karla</td>\n",
       "      <td>39</td>\n",
       "      <td>30</td>\n",
       "      <td>67654</td>\n",
       "      <td>Hamburg</td>\n",
       "      <td>BÜzkQSoXqW</td>\n",
       "      <td>{h, Z, G, 0}</td>\n",
       "      <td>[A, C, C, B]</td>\n",
       "    </tr>\n",
       "    <tr>\n",
       "      <th>75</th>\n",
       "      <td>Fabian</td>\n",
       "      <td>30</td>\n",
       "      <td>30</td>\n",
       "      <td>85066</td>\n",
       "      <td>Hamburg</td>\n",
       "      <td>hOpIl2GÄ</td>\n",
       "      <td>{u}</td>\n",
       "      <td>[]</td>\n",
       "    </tr>\n",
       "    <tr>\n",
       "      <th>76</th>\n",
       "      <td>Lennard</td>\n",
       "      <td>26</td>\n",
       "      <td>20</td>\n",
       "      <td>46484</td>\n",
       "      <td>Hamburg</td>\n",
       "      <td>aiEÄuiS</td>\n",
       "      <td>{T, L, i, k}</td>\n",
       "      <td>[b, b, a, b]</td>\n",
       "    </tr>\n",
       "    <tr>\n",
       "      <th>77</th>\n",
       "      <td>Frank</td>\n",
       "      <td>41</td>\n",
       "      <td>40</td>\n",
       "      <td>68992</td>\n",
       "      <td>Hamburg</td>\n",
       "      <td>ÜöoDCUy</td>\n",
       "      <td>{F, B, Y, D}</td>\n",
       "      <td>[b, b, a, b]</td>\n",
       "    </tr>\n",
       "    <tr>\n",
       "      <th>79</th>\n",
       "      <td>Klaus</td>\n",
       "      <td>25</td>\n",
       "      <td>20</td>\n",
       "      <td>85066</td>\n",
       "      <td>Hamburg</td>\n",
       "      <td>7oo2zY5bo</td>\n",
       "      <td>{O, t, 4, z}</td>\n",
       "      <td>[a, b, c]</td>\n",
       "    </tr>\n",
       "    <tr>\n",
       "      <th>80</th>\n",
       "      <td>Olaf</td>\n",
       "      <td>31</td>\n",
       "      <td>30</td>\n",
       "      <td>20782</td>\n",
       "      <td>Hamburg</td>\n",
       "      <td>omqiGrMt</td>\n",
       "      <td>{E, n}</td>\n",
       "      <td>[A, C, C, B]</td>\n",
       "    </tr>\n",
       "    <tr>\n",
       "      <th>90</th>\n",
       "      <td>Anna</td>\n",
       "      <td>24</td>\n",
       "      <td>20</td>\n",
       "      <td>82570</td>\n",
       "      <td>Berlin</td>\n",
       "      <td>K4MJp5R</td>\n",
       "      <td>{r, e, t, 2, E}</td>\n",
       "      <td>[a, b, c]</td>\n",
       "    </tr>\n",
       "    <tr>\n",
       "      <th>97</th>\n",
       "      <td>Nikolas</td>\n",
       "      <td>30</td>\n",
       "      <td>30</td>\n",
       "      <td>65493</td>\n",
       "      <td>Hamburg</td>\n",
       "      <td>WuHRQFCdoW</td>\n",
       "      <td>{4, E}</td>\n",
       "      <td>[b, b, a, b]</td>\n",
       "    </tr>\n",
       "  </tbody>\n",
       "</table>\n",
       "</div>"
      ],
      "text/plain": [
       "   first_name  age  age_class  postal_code birthplace      secret  \\\n",
       "1      Karina   34         30        52971    Hamburg     4ctäN3i   \n",
       "2     Theresa   32         30        78538    Hamburg      ukRÄ6K   \n",
       "3       Lilli   35         30        52427    Hamburg       86h26   \n",
       "7       Beate   28         20        68992    Hamburg  WqwäSWä7lv   \n",
       "9        Paul   25         20        77799    Hamburg       OCÄBü   \n",
       "12     Philip   30         30        43882    Hamburg       dnWNo   \n",
       "14     Werner   27         20        46484    Hamburg     z1OlQaA   \n",
       "15   Marianne   31         30        20782    Hamburg     JÜrMeYu   \n",
       "18   Bernhard   26         20        82570    Hamburg  0t5RR64Sad   \n",
       "26      Käthe   34         30        85455    Hamburg   rZ1yaONgT   \n",
       "27       Sina   40         40        74010    Hamburg       o8sIS   \n",
       "30      Klaus   34         30        28109    Hamburg   S0iüJr30Ö   \n",
       "35   Heinrich   31         30        81936    Hamburg       ÜbcDt   \n",
       "39       Anna   32         30        31457     Berlin   nwZfGihUm   \n",
       "43      Lukas   37         30        92194    Hamburg   BüWopzJöW   \n",
       "44    Isabell   22         20        38365    Hamburg    Y76a8mVa   \n",
       "48    Susanne   31         30        81668    Hamburg      jYpEü0   \n",
       "53     Martin   31         30        84029    Hamburg     vKZadQp   \n",
       "54     Britta   33         30        62617    Hamburg     qTDThrp   \n",
       "63     Oliver   31         30        25001    Hamburg     Asycc8h   \n",
       "65  Christina   34         30        55258    Hamburg      psDura   \n",
       "70       Anna   26         20        32589    Hamburg   NzCb2AnHC   \n",
       "73  Charlotte   30         30        68992    Hamburg   hLHexyevc   \n",
       "74      Karla   39         30        67654    Hamburg  BÜzkQSoXqW   \n",
       "75     Fabian   30         30        85066    Hamburg    hOpIl2GÄ   \n",
       "76    Lennard   26         20        46484    Hamburg     aiEÄuiS   \n",
       "77      Frank   41         40        68992    Hamburg     ÜöoDCUy   \n",
       "79      Klaus   25         20        85066    Hamburg   7oo2zY5bo   \n",
       "80       Olaf   31         30        20782    Hamburg    omqiGrMt   \n",
       "90       Anna   24         20        82570     Berlin     K4MJp5R   \n",
       "97    Nikolas   30         30        65493    Hamburg  WuHRQFCdoW   \n",
       "\n",
       "           features       history  \n",
       "1   {H, w, 0, g, o}     [A, B, C]  \n",
       "2               {v}     [A, A, A]  \n",
       "3               {X}  [A, C, C, B]  \n",
       "7      {O, t, o, M}     [a, b, c]  \n",
       "9   {k, L, 3, v, 0}     [c, b, a]  \n",
       "12        {3, W, d}     [a, b, c]  \n",
       "14  {F, b, Z, s, u}  [A, C, C, B]  \n",
       "15           {4, E}  [A, B, C, C]  \n",
       "18  {S, i, Y, K, M}        [A, x]  \n",
       "26     {U, s, R, m}     [c, b, a]  \n",
       "27              {n}  [A, B, C, C]  \n",
       "30           {H, o}  [A, B, C, C]  \n",
       "35  {e, Z, Y, A, a}     [c, b, a]  \n",
       "39              {J}        [A, x]  \n",
       "43           {e, X}  [b, b, a, b]  \n",
       "44           {H, b}     [a, b, c]  \n",
       "48              {w}        [A, x]  \n",
       "53  {r, e, t, 2, E}  [b, b, a, b]  \n",
       "54     {3, 2, J, v}            []  \n",
       "63     {H, s, D, W}  [A, B, C, C]  \n",
       "65     {k, 3, u, J}     [c, b, a]  \n",
       "70     {H, Y, J, n}     [a, b, c]  \n",
       "73        {a, j, u}     [c, b, a]  \n",
       "74     {h, Z, G, 0}  [A, C, C, B]  \n",
       "75              {u}            []  \n",
       "76     {T, L, i, k}  [b, b, a, b]  \n",
       "77     {F, B, Y, D}  [b, b, a, b]  \n",
       "79     {O, t, 4, z}     [a, b, c]  \n",
       "80           {E, n}  [A, C, C, B]  \n",
       "90  {r, e, t, 2, E}     [a, b, c]  \n",
       "97           {4, E}  [b, b, a, b]  "
      ]
     },
     "execution_count": 15,
     "metadata": {},
     "output_type": "execute_result"
    },
    {
     "name": "stdout",
     "output_type": "stream",
     "text": [
      "time: 124 ms\n"
     ]
    }
   ],
   "source": [
    "pak.search_str(df, find)"
   ]
  },
  {
   "cell_type": "markdown",
   "id": "fa5d1418-e8c2-4708-8068-ac6b08686af2",
   "metadata": {},
   "source": [
    "## check_mask(): Count rows filtered by a binary mask"
   ]
  },
  {
   "cell_type": "code",
   "execution_count": 16,
   "id": "f73b996b-70f7-4d47-a5c2-448d339f28ec",
   "metadata": {},
   "outputs": [
    {
     "name": "stdout",
     "output_type": "stream",
     "text": [
      "time: 47.8 ms\n"
     ]
    },
    {
     "data": {
      "text/plain": [
       "\u001b[0;31mSignature:\u001b[0m\n",
       "\u001b[0mpak\u001b[0m\u001b[0;34m.\u001b[0m\u001b[0mcheck_mask\u001b[0m\u001b[0;34m(\u001b[0m\u001b[0;34m\u001b[0m\n",
       "\u001b[0;34m\u001b[0m    \u001b[0mdf\u001b[0m\u001b[0;34m,\u001b[0m\u001b[0;34m\u001b[0m\n",
       "\u001b[0;34m\u001b[0m    \u001b[0mmask\u001b[0m\u001b[0;34m,\u001b[0m\u001b[0;34m\u001b[0m\n",
       "\u001b[0;34m\u001b[0m    \u001b[0mexpectation_min\u001b[0m\u001b[0;34m=\u001b[0m\u001b[0;32mNone\u001b[0m\u001b[0;34m,\u001b[0m\u001b[0;34m\u001b[0m\n",
       "\u001b[0;34m\u001b[0m    \u001b[0mexpectation_max\u001b[0m\u001b[0;34m=\u001b[0m\u001b[0;32mNone\u001b[0m\u001b[0;34m,\u001b[0m\u001b[0;34m\u001b[0m\n",
       "\u001b[0;34m\u001b[0m    \u001b[0mmsg\u001b[0m\u001b[0;34m=\u001b[0m\u001b[0;34m''\u001b[0m\u001b[0;34m,\u001b[0m\u001b[0;34m\u001b[0m\n",
       "\u001b[0;34m\u001b[0m    \u001b[0mstop\u001b[0m\u001b[0;34m=\u001b[0m\u001b[0;32mTrue\u001b[0m\u001b[0;34m,\u001b[0m\u001b[0;34m\u001b[0m\n",
       "\u001b[0;34m\u001b[0m    \u001b[0mverbose\u001b[0m\u001b[0;34m=\u001b[0m\u001b[0;32mNone\u001b[0m\u001b[0;34m,\u001b[0m\u001b[0;34m\u001b[0m\n",
       "\u001b[0;34m\u001b[0m\u001b[0;34m)\u001b[0m\u001b[0;34m\u001b[0m\u001b[0;34m\u001b[0m\u001b[0m\n",
       "\u001b[0;31mDocstring:\u001b[0m\n",
       "Count rows filtered by a binary mask.\n",
       "Raises an error, if the number is unexpected.\n",
       "\n",
       "Examples:\n",
       "==========\n",
       "check_mask( df, mask )         # just show the number of rows   \n",
       "check_mask( df, mask, 2000 )   # checks for about 2000 rows (if not 0: not more than double, not less than half)\n",
       "check_mask( df, mask, 0 )      # checks for exactly 0 rows    \n",
       "check_mask( df, mask, 10, 50)  # checks for 10..50 rows\n",
       "\n",
       "Example with later raise:\n",
       "=========================\n",
       "error = check_mask(df, mask, 214, stop=False)        \n",
       "grid(df, mask, error)        \n",
       "bpy.raise_if(error)\n",
       "\u001b[0;31mFile:\u001b[0m      /media/me/DATA/Dropbox/31_Projekte/01_Python/git/pandasklar/src/pandasklar/develop.py\n",
       "\u001b[0;31mType:\u001b[0m      function\n"
      ]
     },
     "metadata": {},
     "output_type": "display_data"
    }
   ],
   "source": [
    "?pak.check_mask"
   ]
  },
  {
   "cell_type": "code",
   "execution_count": 17,
   "id": "4b47a9d4-233e-4d1f-88e0-d10621612f8b",
   "metadata": {},
   "outputs": [
    {
     "name": "stdout",
     "output_type": "stream",
     "text": [
      "time: 33.2 ms\n"
     ]
    }
   ],
   "source": [
    "# define mask\n",
    "mask = (df.age >= 30)  &  (df.age < 40) \n",
    "#df[mask]"
   ]
  },
  {
   "cell_type": "code",
   "execution_count": 18,
   "id": "a85e05a5-1a4c-4aa7-8182-f843ec7a9324",
   "metadata": {},
   "outputs": [
    {
     "name": "stdout",
     "output_type": "stream",
     "text": [
      " 59 rows\n",
      "time: 51.7 ms\n"
     ]
    }
   ],
   "source": [
    "# just show the number of rows\n",
    "pak.check_mask(df, mask)"
   ]
  },
  {
   "cell_type": "code",
   "execution_count": 19,
   "id": "e4514535-4bbf-422c-b8a9-a1e90c3cd016",
   "metadata": {},
   "outputs": [
    {
     "name": "stdout",
     "output_type": "stream",
     "text": [
      "time: 33.8 ms\n"
     ]
    }
   ],
   "source": [
    "# checks for about 50 rows\n",
    "pak.check_mask(df, mask, 50)"
   ]
  },
  {
   "cell_type": "code",
   "execution_count": 20,
   "id": "d8ff4ab8-331c-4778-b9c2-a8033775373e",
   "metadata": {},
   "outputs": [
    {
     "name": "stdout",
     "output_type": "stream",
     "text": [
      " 59 rows\n",
      "time: 40.1 ms\n"
     ]
    }
   ],
   "source": [
    "# checks for about 50 rows\n",
    "pak.check_mask(df, mask, 50, verbose=True)"
   ]
  },
  {
   "cell_type": "code",
   "execution_count": 21,
   "id": "9cfe4010-bda6-4f23-a0d6-79cb22b4251c",
   "metadata": {},
   "outputs": [
    {
     "name": "stdout",
     "output_type": "stream",
     "text": [
      "time: 41.3 ms\n"
     ]
    }
   ],
   "source": [
    "# checks for 0..100 rows\n",
    "pak.check_mask(df, mask, 0, 100)"
   ]
  },
  {
   "cell_type": "markdown",
   "id": "b7688157",
   "metadata": {},
   "source": [
    "## grid(): Visualize with dtale"
   ]
  },
  {
   "cell_type": "code",
   "execution_count": 22,
   "id": "6be4b7ef-6225-4f2a-b214-a792ecbbc4a1",
   "metadata": {},
   "outputs": [
    {
     "name": "stdout",
     "output_type": "stream",
     "text": [
      "time: 29.9 ms\n"
     ]
    },
    {
     "data": {
      "text/plain": [
       "\u001b[0;31mSignature:\u001b[0m \u001b[0mgrid\u001b[0m\u001b[0;34m(\u001b[0m\u001b[0mdf\u001b[0m\u001b[0;34m,\u001b[0m \u001b[0mmask\u001b[0m\u001b[0;34m=\u001b[0m\u001b[0;32mNone\u001b[0m\u001b[0;34m,\u001b[0m \u001b[0merror\u001b[0m\u001b[0;34m=\u001b[0m\u001b[0;34m'€€€'\u001b[0m\u001b[0;34m,\u001b[0m \u001b[0mcolor\u001b[0m\u001b[0;34m=\u001b[0m\u001b[0;34m'blue'\u001b[0m\u001b[0;34m,\u001b[0m \u001b[0;34m**\u001b[0m\u001b[0mkwargs\u001b[0m\u001b[0;34m)\u001b[0m\u001b[0;34m\u001b[0m\u001b[0;34m\u001b[0m\u001b[0m\n",
       "\u001b[0;31mDocstring:\u001b[0m\n",
       "Visualization of a DataFrame using dtale.\n",
       "* df:     DataFrame to show\n",
       "* mask:   Binary mask of function to reduce the number of rows\n",
       "* error:  Error message\n",
       "* color:  Color of the error message.\n",
       "* kwargs: Options for dtale. See https://github.com/man-group/dtale#instance-settings\n",
       "          Caution: This will affect all grids in this notebook...\n",
       "dtale may not work in a multiscreen setting on windows.\n",
       "\n",
       "=== Examples ===\n",
       "grid(df)                        # show all rows\n",
       "grid(df,mask)                   # show with binary mask    \n",
       "grid(df,sample)                 # show with functionally mask\n",
       "\n",
       "=== For error indication after check_mask ===\n",
       "error = check_mask(df, mask, 900, stop=False)\n",
       "grid(df, mask, error) \n",
       "and later: raise_if(error)\n",
       "\u001b[0;31mFile:\u001b[0m      /media/me/DATA/Dropbox/31_Projekte/01_Python/git/pandasklar/src/pandasklar/develop.py\n",
       "\u001b[0;31mType:\u001b[0m      function\n"
      ]
     },
     "metadata": {},
     "output_type": "display_data"
    }
   ],
   "source": [
    "?grid"
   ]
  },
  {
   "cell_type": "code",
   "execution_count": 23,
   "id": "c6cb3af4-4aa1-47fa-8a47-1fad8ee88e32",
   "metadata": {},
   "outputs": [
    {
     "name": "stdout",
     "output_type": "stream",
     "text": [
      "100 rows\n"
     ]
    },
    {
     "data": {
      "text/html": [
       "\n",
       "        <iframe\n",
       "            width=\"100%\"\n",
       "            height=\"475\"\n",
       "            src=\"http://pop-os:40001/dtale/iframe/1\"\n",
       "            frameborder=\"0\"\n",
       "            allowfullscreen\n",
       "            \n",
       "        ></iframe>\n",
       "        "
      ],
      "text/plain": [
       "<IPython.lib.display.IFrame at 0x7f5f21b2dfa0>"
      ]
     },
     "metadata": {},
     "output_type": "display_data"
    },
    {
     "data": {
      "text/plain": []
     },
     "execution_count": 23,
     "metadata": {},
     "output_type": "execute_result"
    },
    {
     "name": "stdout",
     "output_type": "stream",
     "text": [
      "time: 251 ms\n"
     ]
    }
   ],
   "source": [
    "# show\n",
    "grid(df)"
   ]
  },
  {
   "cell_type": "markdown",
   "id": "245132da-e234-45a7-a548-1a6393b1e9c8",
   "metadata": {},
   "source": [
    "### grid(): Use mask"
   ]
  },
  {
   "cell_type": "code",
   "execution_count": 24,
   "id": "0bd9d46f-f5bb-4469-9286-a446ccbb39dd",
   "metadata": {},
   "outputs": [
    {
     "name": "stdout",
     "output_type": "stream",
     "text": [
      "7 rows out of 100\n"
     ]
    },
    {
     "data": {
      "text/html": [
       "\n",
       "        <iframe\n",
       "            width=\"100%\"\n",
       "            height=\"475\"\n",
       "            src=\"http://pop-os:40001/dtale/iframe/2\"\n",
       "            frameborder=\"0\"\n",
       "            allowfullscreen\n",
       "            \n",
       "        ></iframe>\n",
       "        "
      ],
      "text/plain": [
       "<IPython.lib.display.IFrame at 0x7f5f219ff640>"
      ]
     },
     "metadata": {},
     "output_type": "display_data"
    },
    {
     "data": {
      "text/plain": []
     },
     "execution_count": 24,
     "metadata": {},
     "output_type": "execute_result"
    },
    {
     "name": "stdout",
     "output_type": "stream",
     "text": [
      "time: 231 ms\n"
     ]
    }
   ],
   "source": [
    "# Function as mask\n",
    "grid(df, pak.sample)"
   ]
  },
  {
   "cell_type": "code",
   "execution_count": 25,
   "id": "0b171cd5-4a69-4d31-8c5f-cc5f34e6858f",
   "metadata": {},
   "outputs": [
    {
     "name": "stdout",
     "output_type": "stream",
     "text": [
      "86 rows out of 100\n"
     ]
    },
    {
     "data": {
      "text/html": [
       "\n",
       "        <iframe\n",
       "            width=\"100%\"\n",
       "            height=\"475\"\n",
       "            src=\"http://pop-os:40001/dtale/iframe/3\"\n",
       "            frameborder=\"0\"\n",
       "            allowfullscreen\n",
       "            \n",
       "        ></iframe>\n",
       "        "
      ],
      "text/plain": [
       "<IPython.lib.display.IFrame at 0x7f5f21b2d400>"
      ]
     },
     "metadata": {},
     "output_type": "display_data"
    },
    {
     "data": {
      "text/plain": []
     },
     "execution_count": 25,
     "metadata": {},
     "output_type": "execute_result"
    },
    {
     "name": "stdout",
     "output_type": "stream",
     "text": [
      "time: 166 ms\n"
     ]
    }
   ],
   "source": [
    "# Binary mask\n",
    "mask = df.age > 25\n",
    "grid(df, mask)"
   ]
  },
  {
   "cell_type": "markdown",
   "id": "a964fe1a-7ce2-4db5-aa90-07cd6553ad49",
   "metadata": {},
   "source": [
    "### grid() options\n",
    "Some grid options are global, e.g. max_column_width. If you set this option to a value later in your notebook, all grids in the notebook are rendered with this column_width. If you find a way to change this, send me a message."
   ]
  },
  {
   "cell_type": "code",
   "execution_count": 26,
   "id": "4f86a672-eb7a-4c56-9aa3-db24c758aca6",
   "metadata": {},
   "outputs": [
    {
     "name": "stdout",
     "output_type": "stream",
     "text": [
      "time: 63.3 ms\n"
     ]
    }
   ],
   "source": [
    "# global Settings\n",
    "pak.set_grid(max_column_width=200)"
   ]
  },
  {
   "cell_type": "code",
   "execution_count": 27,
   "id": "2a395033-f941-4ea4-bd9f-d99e1d3c0872",
   "metadata": {},
   "outputs": [
    {
     "name": "stdout",
     "output_type": "stream",
     "text": [
      "100 rows\n"
     ]
    },
    {
     "data": {
      "text/html": [
       "\n",
       "        <iframe\n",
       "            width=\"100%\"\n",
       "            height=\"475\"\n",
       "            src=\"http://pop-os:40001/dtale/iframe/4\"\n",
       "            frameborder=\"0\"\n",
       "            allowfullscreen\n",
       "            \n",
       "        ></iframe>\n",
       "        "
      ],
      "text/plain": [
       "<IPython.lib.display.IFrame at 0x7f5f2244f7c0>"
      ]
     },
     "metadata": {},
     "output_type": "display_data"
    },
    {
     "data": {
      "text/plain": []
     },
     "execution_count": 27,
     "metadata": {},
     "output_type": "execute_result"
    },
    {
     "name": "stdout",
     "output_type": "stream",
     "text": [
      "time: 161 ms\n"
     ]
    }
   ],
   "source": [
    "# show \n",
    "grid(df)"
   ]
  },
  {
   "cell_type": "markdown",
   "id": "be02d79a-8dd7-4e54-8fe9-b89046e2022e",
   "metadata": {},
   "source": [
    "### grid(): Advanced Formating\n",
    "See options on https://github.com/man-group/dtale#instance-settings"
   ]
  },
  {
   "cell_type": "code",
   "execution_count": 28,
   "id": "afb14de4-e5ba-48a8-8615-4c9fdb617535",
   "metadata": {},
   "outputs": [
    {
     "name": "stdout",
     "output_type": "stream",
     "text": [
      "86 rows out of 100\n"
     ]
    },
    {
     "data": {
      "text/html": [
       "\n",
       "        <iframe\n",
       "            width=\"100%\"\n",
       "            height=\"475\"\n",
       "            src=\"http://pop-os:40001/dtale/iframe/5\"\n",
       "            frameborder=\"0\"\n",
       "            allowfullscreen\n",
       "            \n",
       "        ></iframe>\n",
       "        "
      ],
      "text/plain": [
       "<IPython.lib.display.IFrame at 0x7f5f219efa30>"
      ]
     },
     "metadata": {},
     "output_type": "display_data"
    },
    {
     "data": {
      "text/plain": []
     },
     "execution_count": 28,
     "metadata": {},
     "output_type": "execute_result"
    },
    {
     "name": "stdout",
     "output_type": "stream",
     "text": [
      "time: 133 ms\n"
     ]
    }
   ],
   "source": [
    "mask = df.age > 25\n",
    "grid(df, mask, sort=[('first_name','ASC')], background_mode='heatmap-col-age')\n",
    "#grid(df, mask, drop_index=True,)"
   ]
  },
  {
   "cell_type": "markdown",
   "id": "03d54916-78f9-4da1-ae3d-4acecfedb9f6",
   "metadata": {},
   "source": [
    "### grid(): Special cases"
   ]
  },
  {
   "cell_type": "code",
   "execution_count": 29,
   "id": "bf26d5b2-c670-4fe4-aed7-9d6a5231c96c",
   "metadata": {},
   "outputs": [
    {
     "name": "stdout",
     "output_type": "stream",
     "text": [
      "\u001b[1m\u001b[7m\u001b[31mNothing to show\u001b[0m\n",
      "time: 47.8 ms\n"
     ]
    }
   ],
   "source": [
    "# No DataFrame\n",
    "grid(None)"
   ]
  },
  {
   "cell_type": "code",
   "execution_count": 30,
   "id": "7225ca3d-6e57-4d44-b0bc-0f2cdb985d55",
   "metadata": {},
   "outputs": [
    {
     "name": "stdout",
     "output_type": "stream",
     "text": [
      "\u001b[1m\u001b[7m\u001b[34mNo rows\u001b[0m\n",
      "time: 46.9 ms\n"
     ]
    }
   ],
   "source": [
    "# Empty DataFrame\n",
    "d = pd.DataFrame()\n",
    "grid(d)"
   ]
  },
  {
   "cell_type": "code",
   "execution_count": 31,
   "id": "b2019ec2-84c5-4fa0-b764-faa01ec92447",
   "metadata": {},
   "outputs": [
    {
     "name": "stdout",
     "output_type": "stream",
     "text": [
      "\u001b[1m\u001b[7m\u001b[34mNo rows, mask filters them all away\u001b[0m\n",
      "time: 51.2 ms\n"
     ]
    }
   ],
   "source": [
    "# 100% filtered \n",
    "mask = df.age > 1000\n",
    "grid(df,mask)"
   ]
  },
  {
   "cell_type": "code",
   "execution_count": 32,
   "id": "37d339e7-164b-43c3-8cff-5b9183afad87",
   "metadata": {},
   "outputs": [
    {
     "name": "stdout",
     "output_type": "stream",
     "text": [
      "\u001b[1m\u001b[7m\u001b[32mNo rows, mask filters them all away\u001b[0m\n",
      "time: 49.6 ms\n"
     ]
    }
   ],
   "source": [
    "# 100% filtered, and this is good\n",
    "mask = df.age > 1000\n",
    "grid(df,mask, color='green')"
   ]
  },
  {
   "cell_type": "code",
   "execution_count": 33,
   "id": "94fabd0f-d568-48bd-a9f0-ace60646ab68",
   "metadata": {},
   "outputs": [
    {
     "name": "stdout",
     "output_type": "stream",
     "text": [
      "\u001b[1m\u001b[7m\u001b[31mNo rows, mask filters them all away\u001b[0m\n",
      "time: 52.9 ms\n"
     ]
    }
   ],
   "source": [
    "# 100% filtered, and this is bad\n",
    "mask = df.age > 1000\n",
    "grid(df,mask, color='red')"
   ]
  },
  {
   "cell_type": "markdown",
   "id": "1067b294-87f2-43d2-8c8f-a5542ef1629c",
   "metadata": {},
   "source": [
    "### grid() & check_mask(): Show error rows and raise later"
   ]
  },
  {
   "cell_type": "code",
   "execution_count": 34,
   "id": "af8fa7b9-06cd-477a-9d61-c00396c2659f",
   "metadata": {},
   "outputs": [
    {
     "name": "stdout",
     "output_type": "stream",
     "text": [
      " 29 rows\n",
      "time: 45.8 ms\n"
     ]
    }
   ],
   "source": [
    "# define a mask that contains errors\n",
    "# say our error is df.birthplace == 'Hamburg',\n",
    "# we don't want that to happen,\n",
    "# but if it happens we would like to see the rows\n",
    "mask = df.birthplace == 'Hamburg'\n",
    "pak.check_mask(df,mask)"
   ]
  },
  {
   "cell_type": "code",
   "execution_count": 35,
   "id": "70ac89d9-b0d9-4a62-abcd-11925fecd2e1",
   "metadata": {},
   "outputs": [
    {
     "ename": "Exception",
     "evalue": "ERROR: 29 rows, but it should be a maximum of 0",
     "output_type": "error",
     "traceback": [
      "\u001b[0;31m---------------------------------------------------------------------------\u001b[0m",
      "\u001b[0;31mException\u001b[0m                                 Traceback (most recent call last)",
      "Cell \u001b[0;32mIn [35], line 3\u001b[0m\n\u001b[1;32m      1\u001b[0m \u001b[38;5;66;03m# checking for 0 raises an error, as we want.\u001b[39;00m\n\u001b[1;32m      2\u001b[0m \u001b[38;5;66;03m# But we don't see the rows affected\u001b[39;00m\n\u001b[0;32m----> 3\u001b[0m \u001b[43mpak\u001b[49m\u001b[38;5;241;43m.\u001b[39;49m\u001b[43mcheck_mask\u001b[49m\u001b[43m(\u001b[49m\u001b[43mdf\u001b[49m\u001b[43m,\u001b[49m\u001b[43mmask\u001b[49m\u001b[43m,\u001b[49m\u001b[43m \u001b[49m\u001b[38;5;241;43m0\u001b[39;49m\u001b[43m)\u001b[49m\n",
      "File \u001b[0;32m/media/me/DATA/Dropbox/31_Projekte/01_Python/git/pandasklar/src/pandasklar/develop.py:90\u001b[0m, in \u001b[0;36mcheck_mask\u001b[0;34m(df, mask, expectation_min, expectation_max, msg, stop, verbose)\u001b[0m\n\u001b[1;32m     88\u001b[0m         e_min \u001b[38;5;241m=\u001b[39m \u001b[38;5;28mint\u001b[39m(expectation_min \u001b[38;5;241m*\u001b[39m \u001b[38;5;241m0.5\u001b[39m) \u001b[38;5;66;03m# Verdoppelung oder Halbierung wird toleriert\u001b[39;00m\n\u001b[1;32m     89\u001b[0m         e_max \u001b[38;5;241m=\u001b[39m \u001b[38;5;28mint\u001b[39m(expectation_min \u001b[38;5;241m*\u001b[39m \u001b[38;5;241m2.0\u001b[39m) \u001b[38;5;241m+\u001b[39m \u001b[38;5;241m1\u001b[39m        \n\u001b[0;32m---> 90\u001b[0m     \u001b[38;5;28;01mreturn\u001b[39;00m \u001b[43mcheck_mask\u001b[49m\u001b[43m(\u001b[49m\u001b[43mdf\u001b[49m\u001b[43m,\u001b[49m\u001b[43m \u001b[49m\u001b[43mmask\u001b[49m\u001b[43m,\u001b[49m\u001b[43m \u001b[49m\u001b[43me_min\u001b[49m\u001b[43m,\u001b[49m\u001b[43m \u001b[49m\u001b[43me_max\u001b[49m\u001b[43m,\u001b[49m\u001b[43m \u001b[49m\u001b[43mmsg\u001b[49m\u001b[38;5;241;43m=\u001b[39;49m\u001b[43mmsg\u001b[49m\u001b[43m,\u001b[49m\u001b[43m \u001b[49m\u001b[43mstop\u001b[49m\u001b[38;5;241;43m=\u001b[39;49m\u001b[43mstop\u001b[49m\u001b[43m,\u001b[49m\u001b[43m \u001b[49m\u001b[43mverbose\u001b[49m\u001b[38;5;241;43m=\u001b[39;49m\u001b[43mverbose\u001b[49m\u001b[43m)\u001b[49m \n\u001b[1;32m     92\u001b[0m \u001b[38;5;28;01mif\u001b[39;00m \u001b[38;5;28mtype\u001b[39m(mask) \u001b[38;5;241m==\u001b[39m pd\u001b[38;5;241m.\u001b[39mSeries   \u001b[38;5;129;01mor\u001b[39;00m   \u001b[38;5;28mtype\u001b[39m(mask) \u001b[38;5;241m==\u001b[39m np\u001b[38;5;241m.\u001b[39mndarray:\n\u001b[1;32m     93\u001b[0m     anz_ds \u001b[38;5;241m=\u001b[39m df[mask]\u001b[38;5;241m.\u001b[39mshape[\u001b[38;5;241m0\u001b[39m]\n",
      "File \u001b[0;32m/media/me/DATA/Dropbox/31_Projekte/01_Python/git/pandasklar/src/pandasklar/develop.py:118\u001b[0m, in \u001b[0;36mcheck_mask\u001b[0;34m(df, mask, expectation_min, expectation_max, msg, stop, verbose)\u001b[0m\n\u001b[1;32m    116\u001b[0m \u001b[38;5;28;01mif\u001b[39;00m (anz_ds \u001b[38;5;241m>\u001b[39m expectation_max)  \u001b[38;5;129;01mor\u001b[39;00m (anz_ds \u001b[38;5;241m<\u001b[39m expectation_min):\n\u001b[1;32m    117\u001b[0m     \u001b[38;5;28;01mif\u001b[39;00m stop:\n\u001b[0;32m--> 118\u001b[0m         \u001b[38;5;28;01mraise\u001b[39;00m \u001b[38;5;167;01mException\u001b[39;00m(  (msg \u001b[38;5;241m+\u001b[39m error)\u001b[38;5;241m.\u001b[39mstrip()  )\n\u001b[1;32m    120\u001b[0m     \u001b[38;5;28;01melse\u001b[39;00m:\n\u001b[1;32m    121\u001b[0m         print_red(   (msg \u001b[38;5;241m+\u001b[39m error)\u001b[38;5;241m.\u001b[39mstrip()  )\n",
      "\u001b[0;31mException\u001b[0m: ERROR: 29 rows, but it should be a maximum of 0"
     ]
    },
    {
     "name": "stdout",
     "output_type": "stream",
     "text": [
      "time: 1.03 s\n"
     ]
    }
   ],
   "source": [
    "# checking for 0 raises an error, as we want.\n",
    "# But we don't see the rows affected\n",
    "pak.check_mask(df,mask, 0)"
   ]
  },
  {
   "cell_type": "code",
   "execution_count": 36,
   "id": "14fdc7e8-cd11-4a4c-a2f7-12673a19c562",
   "metadata": {},
   "outputs": [
    {
     "name": "stdout",
     "output_type": "stream",
     "text": [
      "\u001b[1m\u001b[7m\u001b[31mERROR: 29 rows, but it should be a maximum of 0\u001b[0m\n",
      "29 rows out of 100\n"
     ]
    },
    {
     "data": {
      "text/html": [
       "\n",
       "        <iframe\n",
       "            width=\"100%\"\n",
       "            height=\"475\"\n",
       "            src=\"http://pop-os:40001/dtale/iframe/6\"\n",
       "            frameborder=\"0\"\n",
       "            allowfullscreen\n",
       "            \n",
       "        ></iframe>\n",
       "        "
      ],
      "text/plain": [
       "<IPython.lib.display.IFrame at 0x7f5f317badf0>"
      ]
     },
     "metadata": {},
     "output_type": "display_data"
    },
    {
     "data": {
      "text/plain": []
     },
     "execution_count": 36,
     "metadata": {},
     "output_type": "execute_result"
    },
    {
     "name": "stdout",
     "output_type": "stream",
     "text": [
      "time: 111 ms\n"
     ]
    }
   ],
   "source": [
    "# so we use this to show the error rows first\n",
    "error = pak.check_mask(df,mask, 0, stop=False)\n",
    "grid(df, mask, error) "
   ]
  },
  {
   "cell_type": "code",
   "execution_count": 37,
   "id": "90e49181-c1c9-4c78-97c3-c3271321ba64",
   "metadata": {},
   "outputs": [
    {
     "ename": "Exception",
     "evalue": "ERROR: 29 rows, but it should be a maximum of 0",
     "output_type": "error",
     "traceback": [
      "\u001b[0;31m---------------------------------------------------------------------------\u001b[0m",
      "\u001b[0;31mException\u001b[0m                                 Traceback (most recent call last)",
      "Cell \u001b[0;32mIn [37], line 2\u001b[0m\n\u001b[1;32m      1\u001b[0m \u001b[38;5;66;03m# and raise later\u001b[39;00m\n\u001b[0;32m----> 2\u001b[0m \u001b[43mbpy\u001b[49m\u001b[38;5;241;43m.\u001b[39;49m\u001b[43mraise_if\u001b[49m\u001b[43m(\u001b[49m\u001b[43merror\u001b[49m\u001b[43m)\u001b[49m\n",
      "File \u001b[0;32m/media/me/DATA/Dropbox/31_Projekte/01_Python/git/bpyth/src/bpyth/bpyth_tools.py:42\u001b[0m, in \u001b[0;36mraise_if\u001b[0;34m(error)\u001b[0m\n\u001b[1;32m     39\u001b[0m \u001b[38;5;28;01mdef\u001b[39;00m \u001b[38;5;21mraise_if\u001b[39m(error):\n\u001b[1;32m     40\u001b[0m \u001b[38;5;66;03m# ---------------------------------------------------------------------------------------------       \u001b[39;00m\n\u001b[1;32m     41\u001b[0m     \u001b[38;5;28;01mif\u001b[39;00m error:\n\u001b[0;32m---> 42\u001b[0m         \u001b[38;5;28;01mraise\u001b[39;00m \u001b[38;5;167;01mException\u001b[39;00m(error)\n",
      "\u001b[0;31mException\u001b[0m: ERROR: 29 rows, but it should be a maximum of 0"
     ]
    },
    {
     "name": "stdout",
     "output_type": "stream",
     "text": [
      "time: 109 ms\n"
     ]
    }
   ],
   "source": [
    "# and raise later\n",
    "bpy.raise_if(error)"
   ]
  },
  {
   "cell_type": "markdown",
   "id": "3f8b99de-87a4-42b8-9748-63dd2a45f76e",
   "metadata": {},
   "source": [
    "## memory_consumption"
   ]
  },
  {
   "cell_type": "code",
   "execution_count": 38,
   "id": "40eda3d2-885c-4ffb-afe5-8ca32f6e7361",
   "metadata": {},
   "outputs": [
    {
     "name": "stdout",
     "output_type": "stream",
     "text": [
      "time: 50 ms\n"
     ]
    },
    {
     "data": {
      "text/plain": [
       "\u001b[0;31mSignature:\u001b[0m \u001b[0mpak\u001b[0m\u001b[0;34m.\u001b[0m\u001b[0mmemory_consumption\u001b[0m\u001b[0;34m(\u001b[0m\u001b[0miteration_of_objects\u001b[0m\u001b[0;34m,\u001b[0m \u001b[0mlimit\u001b[0m\u001b[0;34m=\u001b[0m\u001b[0;36m10\u001b[0m\u001b[0;34m,\u001b[0m \u001b[0muse_rtype\u001b[0m\u001b[0;34m=\u001b[0m\u001b[0;32mTrue\u001b[0m\u001b[0;34m)\u001b[0m\u001b[0;34m\u001b[0m\u001b[0;34m\u001b[0m\u001b[0m\n",
       "\u001b[0;31mDocstring:\u001b[0m\n",
       "Returns the memory consumption of Python objects.\n",
       "* iteration_of_objects: can be e.g. a DataFrame or just locals()\n",
       "* limit: Limits the output size\n",
       "* use_rtype: Use rtype instead of type?\n",
       "\n",
       "For the memory consumption of the biggest 10 local variables call:\n",
       "bpy.memory_consumption( locals() )\n",
       "\u001b[0;31mFile:\u001b[0m      /media/me/DATA/Dropbox/31_Projekte/01_Python/git/pandasklar/src/pandasklar/analyse.py\n",
       "\u001b[0;31mType:\u001b[0m      function\n"
      ]
     },
     "metadata": {},
     "output_type": "display_data"
    }
   ],
   "source": [
    "?pak.memory_consumption"
   ]
  },
  {
   "cell_type": "code",
   "execution_count": 39,
   "id": "68f45c73-37bc-43df-82db-78ad2c73022b",
   "metadata": {},
   "outputs": [
    {
     "data": {
      "text/html": [
       "<div>\n",
       "<style scoped>\n",
       "    .dataframe tbody tr th:only-of-type {\n",
       "        vertical-align: middle;\n",
       "    }\n",
       "\n",
       "    .dataframe tbody tr th {\n",
       "        vertical-align: top;\n",
       "    }\n",
       "\n",
       "    .dataframe thead th {\n",
       "        text-align: right;\n",
       "    }\n",
       "</style>\n",
       "<table border=\"1\" class=\"dataframe\">\n",
       "  <thead>\n",
       "    <tr style=\"text-align: right;\">\n",
       "      <th></th>\n",
       "      <th>name</th>\n",
       "      <th>rtype</th>\n",
       "      <th>size</th>\n",
       "    </tr>\n",
       "  </thead>\n",
       "  <tbody>\n",
       "    <tr>\n",
       "      <th>0</th>\n",
       "      <td>df</td>\n",
       "      <td>(DataFrame, Series)</td>\n",
       "      <td>58.7 KB</td>\n",
       "    </tr>\n",
       "    <tr>\n",
       "      <th>1</th>\n",
       "      <td>_11</td>\n",
       "      <td>(DataFrame, Series)</td>\n",
       "      <td>58.7 KB</td>\n",
       "    </tr>\n",
       "    <tr>\n",
       "      <th>2</th>\n",
       "      <td>_15</td>\n",
       "      <td>(DataFrame, Series)</td>\n",
       "      <td>18.8 KB</td>\n",
       "    </tr>\n",
       "    <tr>\n",
       "      <th>3</th>\n",
       "      <td>_12</td>\n",
       "      <td>(DataFrame, Series)</td>\n",
       "      <td>4.1 KB</td>\n",
       "    </tr>\n",
       "    <tr>\n",
       "      <th>4</th>\n",
       "      <td>Stop</td>\n",
       "      <td>(type,)</td>\n",
       "      <td>1.0 KB</td>\n",
       "    </tr>\n",
       "    <tr>\n",
       "      <th>5</th>\n",
       "      <td>Markdown</td>\n",
       "      <td>(type,)</td>\n",
       "      <td>1.0 KB</td>\n",
       "    </tr>\n",
       "    <tr>\n",
       "      <th>6</th>\n",
       "      <td>HTML</td>\n",
       "      <td>(type,)</td>\n",
       "      <td>1.0 KB</td>\n",
       "    </tr>\n",
       "    <tr>\n",
       "      <th>7</th>\n",
       "      <td>a</td>\n",
       "      <td>(Series, int)</td>\n",
       "      <td>944.0 B</td>\n",
       "    </tr>\n",
       "    <tr>\n",
       "      <th>8</th>\n",
       "      <td>b</td>\n",
       "      <td>(Series, float)</td>\n",
       "      <td>944.0 B</td>\n",
       "    </tr>\n",
       "    <tr>\n",
       "      <th>9</th>\n",
       "      <td>c</td>\n",
       "      <td>(Series, float)</td>\n",
       "      <td>944.0 B</td>\n",
       "    </tr>\n",
       "  </tbody>\n",
       "</table>\n",
       "</div>"
      ],
      "text/plain": [
       "       name                rtype     size\n",
       "0        df  (DataFrame, Series)  58.7 KB\n",
       "1       _11  (DataFrame, Series)  58.7 KB\n",
       "2       _15  (DataFrame, Series)  18.8 KB\n",
       "3       _12  (DataFrame, Series)   4.1 KB\n",
       "4      Stop              (type,)   1.0 KB\n",
       "5  Markdown              (type,)   1.0 KB\n",
       "6      HTML              (type,)   1.0 KB\n",
       "7         a        (Series, int)  944.0 B\n",
       "8         b      (Series, float)  944.0 B\n",
       "9         c      (Series, float)  944.0 B"
      ]
     },
     "execution_count": 39,
     "metadata": {},
     "output_type": "execute_result"
    },
    {
     "name": "stdout",
     "output_type": "stream",
     "text": [
      "time: 98.2 ms\n"
     ]
    }
   ],
   "source": [
    "# All local variables\n",
    "r = pak.memory_consumption( locals() )\n",
    "r"
   ]
  },
  {
   "cell_type": "code",
   "execution_count": 41,
   "id": "6fa802c7-a86b-4569-8343-835c414209d0",
   "metadata": {},
   "outputs": [
    {
     "data": {
      "text/html": [
       "<div>\n",
       "<style scoped>\n",
       "    .dataframe tbody tr th:only-of-type {\n",
       "        vertical-align: middle;\n",
       "    }\n",
       "\n",
       "    .dataframe tbody tr th {\n",
       "        vertical-align: top;\n",
       "    }\n",
       "\n",
       "    .dataframe thead th {\n",
       "        text-align: right;\n",
       "    }\n",
       "</style>\n",
       "<table border=\"1\" class=\"dataframe\">\n",
       "  <thead>\n",
       "    <tr style=\"text-align: right;\">\n",
       "      <th></th>\n",
       "      <th>name</th>\n",
       "      <th>rtype</th>\n",
       "      <th>size</th>\n",
       "    </tr>\n",
       "  </thead>\n",
       "  <tbody>\n",
       "    <tr>\n",
       "      <th>0</th>\n",
       "      <td>features</td>\n",
       "      <td>(Series, set, str)</td>\n",
       "      <td>30.5 KB</td>\n",
       "    </tr>\n",
       "    <tr>\n",
       "      <th>1</th>\n",
       "      <td>secret</td>\n",
       "      <td>(Series, str)</td>\n",
       "      <td>8.2 KB</td>\n",
       "    </tr>\n",
       "    <tr>\n",
       "      <th>2</th>\n",
       "      <td>history</td>\n",
       "      <td>(Series, list, str)</td>\n",
       "      <td>7.1 KB</td>\n",
       "    </tr>\n",
       "    <tr>\n",
       "      <th>3</th>\n",
       "      <td>birthplace</td>\n",
       "      <td>(Series, str)</td>\n",
       "      <td>6.3 KB</td>\n",
       "    </tr>\n",
       "    <tr>\n",
       "      <th>4</th>\n",
       "      <td>first_name</td>\n",
       "      <td>(Series, str)</td>\n",
       "      <td>6.3 KB</td>\n",
       "    </tr>\n",
       "    <tr>\n",
       "      <th>5</th>\n",
       "      <td>postal_code</td>\n",
       "      <td>(Series, int32)</td>\n",
       "      <td>644.0 B</td>\n",
       "    </tr>\n",
       "    <tr>\n",
       "      <th>6</th>\n",
       "      <td>age</td>\n",
       "      <td>(Series, int8)</td>\n",
       "      <td>344.0 B</td>\n",
       "    </tr>\n",
       "    <tr>\n",
       "      <th>7</th>\n",
       "      <td>age_class</td>\n",
       "      <td>(Series, int8)</td>\n",
       "      <td>344.0 B</td>\n",
       "    </tr>\n",
       "  </tbody>\n",
       "</table>\n",
       "</div>"
      ],
      "text/plain": [
       "          name                rtype     size\n",
       "0     features   (Series, set, str)  30.5 KB\n",
       "1       secret        (Series, str)   8.2 KB\n",
       "2      history  (Series, list, str)   7.1 KB\n",
       "3   birthplace        (Series, str)   6.3 KB\n",
       "4   first_name        (Series, str)   6.3 KB\n",
       "5  postal_code      (Series, int32)  644.0 B\n",
       "6          age       (Series, int8)  344.0 B\n",
       "7    age_class       (Series, int8)  344.0 B"
      ]
     },
     "execution_count": 41,
     "metadata": {},
     "output_type": "execute_result"
    },
    {
     "name": "stdout",
     "output_type": "stream",
     "text": [
      "time: 33.9 ms\n"
     ]
    }
   ],
   "source": [
    "# If you give a DataFrame, it will return the column sizes\n",
    "pak.memory_consumption( df )"
   ]
  },
  {
   "cell_type": "code",
   "execution_count": null,
   "id": "c374094a-f236-4da1-bd4a-ebaf0f50652e",
   "metadata": {},
   "outputs": [],
   "source": []
  }
 ],
 "metadata": {
  "kernelspec": {
   "display_name": "Python 3 (ipykernel)",
   "language": "python",
   "name": "python3"
  },
  "language_info": {
   "codemirror_mode": {
    "name": "ipython",
    "version": 3
   },
   "file_extension": ".py",
   "mimetype": "text/x-python",
   "name": "python",
   "nbconvert_exporter": "python",
   "pygments_lexer": "ipython3",
   "version": "3.9.13"
  }
 },
 "nbformat": 4,
 "nbformat_minor": 5
}
