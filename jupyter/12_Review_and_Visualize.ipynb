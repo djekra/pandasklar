{
 "cells": [
  {
   "cell_type": "code",
   "execution_count": 1,
   "id": "61e55565",
   "metadata": {},
   "outputs": [
    {
     "name": "stdout",
     "output_type": "stream",
     "text": [
      "blab init\n",
      "blab found local libs at /media/me/DATA/Dropbox/31_Projekte/01_Python/libs\n",
      "Start Time: 16:52:11\n"
     ]
    },
    {
     "data": {
      "text/html": [
       "<img src onerror=\"var cell = this.closest('.jp-CodeCell');var editor = cell.querySelector('.jp-Editor');editor.style.background='Beige';this.parentNode.removeChild(this)\">"
      ],
      "text/plain": [
       "<IPython.core.display.HTML object>"
      ]
     },
     "metadata": {},
     "output_type": "display_data"
    },
    {
     "name": "stdout",
     "output_type": "stream",
     "text": [
      "time: 432 ms (started: 2022-10-31 16:52:11 +01:00)\n"
     ]
    }
   ],
   "source": [
    "# blab init\n",
    "import blab\n",
    "startup_notebook = blab.blab_startup()\n",
    "%run $startup_notebook"
   ]
  },
  {
   "cell_type": "markdown",
   "id": "d18ad909-2564-4262-bdcd-2eb7400759b0",
   "metadata": {},
   "source": [
    "# Review and visualize\n",
    "Review and visualize data that meets your criteria. <br>\n",
    "This notebook raises errors for demonstration purpose.\n",
    "* `plot`: Plot with seaborn without configuration\n",
    "* `check_mask`: Count rows filtered by a binary mask. Raises an error, if the number is unexpected.\n",
    "* `sample`: Returns some sample rows: beginning + end + random rows in the middle, prefering rows without NaNs\n",
    "* `search_str`: Searches all str columns of a dataframe. Useful for development and debugging.\n",
    "* `grid`: Visualize with dtale"
   ]
  },
  {
   "cell_type": "code",
   "execution_count": 2,
   "id": "d02a78c4-6bf6-4bb9-94b7-82bfafe30319",
   "metadata": {},
   "outputs": [
    {
     "name": "stdout",
     "output_type": "stream",
     "text": [
      "time: 1.34 s (started: 2022-10-31 16:52:12 +01:00)\n"
     ]
    }
   ],
   "source": [
    "import numpy      as np\n",
    "import pandas     as pd \n",
    "#import bpyth      as bpy\n",
    "import pandasklar as pak \n",
    "\n",
    "grid = pak.grid"
   ]
  },
  {
   "cell_type": "markdown",
   "id": "231eb1e2-6ab3-414c-b258-532a1641b9d2",
   "metadata": {},
   "source": [
    "## plot(): Plot with seaborn without configuration"
   ]
  },
  {
   "cell_type": "code",
   "execution_count": 3,
   "id": "c8db5b4d-d6a0-48a2-8bda-cdff9c2b6995",
   "metadata": {},
   "outputs": [
    {
     "name": "stdout",
     "output_type": "stream",
     "text": [
      "time: 71.7 ms (started: 2022-10-31 16:52:13 +01:00)\n"
     ]
    },
    {
     "data": {
      "text/plain": [
       "\u001b[0;31mSignature:\u001b[0m\n",
       "\u001b[0mpak\u001b[0m\u001b[0;34m.\u001b[0m\u001b[0mplot\u001b[0m\u001b[0;34m(\u001b[0m\u001b[0;34m\u001b[0m\n",
       "\u001b[0;34m\u001b[0m    \u001b[0mdf1\u001b[0m\u001b[0;34m,\u001b[0m\u001b[0;34m\u001b[0m\n",
       "\u001b[0;34m\u001b[0m    \u001b[0mdf2\u001b[0m\u001b[0;34m=\u001b[0m\u001b[0;32mNone\u001b[0m\u001b[0;34m,\u001b[0m\u001b[0;34m\u001b[0m\n",
       "\u001b[0;34m\u001b[0m    \u001b[0mx\u001b[0m\u001b[0;34m=\u001b[0m\u001b[0;34m'--'\u001b[0m\u001b[0;34m,\u001b[0m\u001b[0;34m\u001b[0m\n",
       "\u001b[0;34m\u001b[0m    \u001b[0msize\u001b[0m\u001b[0;34m=\u001b[0m\u001b[0;34m(\u001b[0m\u001b[0;36m16\u001b[0m\u001b[0;34m,\u001b[0m \u001b[0;36m4\u001b[0m\u001b[0;34m)\u001b[0m\u001b[0;34m,\u001b[0m\u001b[0;34m\u001b[0m\n",
       "\u001b[0;34m\u001b[0m    \u001b[0mpalette\u001b[0m\u001b[0;34m=\u001b[0m\u001b[0;34m(\u001b[0m\u001b[0;34m'rainbow'\u001b[0m\u001b[0;34m,\u001b[0m \u001b[0;34m'tab10'\u001b[0m\u001b[0;34m)\u001b[0m\u001b[0;34m,\u001b[0m\u001b[0;34m\u001b[0m\n",
       "\u001b[0;34m\u001b[0m    \u001b[0mline\u001b[0m\u001b[0;34m=\u001b[0m\u001b[0;34m(\u001b[0m\u001b[0;36m1\u001b[0m\u001b[0;34m,\u001b[0m \u001b[0;36m1\u001b[0m\u001b[0;34m)\u001b[0m\u001b[0;34m,\u001b[0m\u001b[0;34m\u001b[0m\n",
       "\u001b[0;34m\u001b[0m\u001b[0;34m)\u001b[0m\u001b[0;34m\u001b[0m\u001b[0;34m\u001b[0m\u001b[0m\n",
       "\u001b[0;31mDocstring:\u001b[0m\n",
       "Plots DataFrames or Series.\n",
       "* df1, df2: The first two parameters are DataFrames or Series. \n",
       "            If there are two, they get separate y-axes.\n",
       "* x:        Which column contains the x-axis? \n",
       "            x=='index' -> The index is used as x.    \n",
       "            If no x is given, x is tried to be guessed. \n",
       "            If no suitable column is found, the index is used as x.\n",
       "            A column is considered suitable if it is called 'x', 'X' or 'index'.\n",
       "size:       Width and height of the plot as tuples\n",
       "palette:    The two palettes as tuple or sting\n",
       "line:       The line thickness as tuple or number    \n",
       "\u001b[0;31mFile:\u001b[0m      /media/me/DATA/Dropbox/31_Projekte/01_Python/git/pandasklar/src/pandasklar/plot.py\n",
       "\u001b[0;31mType:\u001b[0m      function\n"
      ]
     },
     "metadata": {},
     "output_type": "display_data"
    }
   ],
   "source": [
    "?pak.plot"
   ]
  },
  {
   "cell_type": "code",
   "execution_count": 4,
   "id": "b442d125-0fc0-425d-935c-96ced9682a0a",
   "metadata": {},
   "outputs": [
    {
     "data": {
      "text/html": [
       "<div>\n",
       "<style scoped>\n",
       "    .dataframe tbody tr th:only-of-type {\n",
       "        vertical-align: middle;\n",
       "    }\n",
       "\n",
       "    .dataframe tbody tr th {\n",
       "        vertical-align: top;\n",
       "    }\n",
       "\n",
       "    .dataframe thead th {\n",
       "        text-align: right;\n",
       "    }\n",
       "</style>\n",
       "<table border=\"1\" class=\"dataframe\">\n",
       "  <thead>\n",
       "    <tr style=\"text-align: right;\">\n",
       "      <th></th>\n",
       "      <th>A</th>\n",
       "      <th>B</th>\n",
       "      <th>C</th>\n",
       "      <th>D</th>\n",
       "      <th>E</th>\n",
       "      <th>F</th>\n",
       "      <th>G</th>\n",
       "    </tr>\n",
       "  </thead>\n",
       "  <tbody>\n",
       "    <tr>\n",
       "      <th>0</th>\n",
       "      <td>0</td>\n",
       "      <td>0.000000</td>\n",
       "      <td>1.000000</td>\n",
       "      <td>1.000000</td>\n",
       "      <td>0.000000</td>\n",
       "      <td>0.000000</td>\n",
       "      <td>0.000000</td>\n",
       "    </tr>\n",
       "    <tr>\n",
       "      <th>1</th>\n",
       "      <td>0</td>\n",
       "      <td>0.002598</td>\n",
       "      <td>0.998079</td>\n",
       "      <td>0.996711</td>\n",
       "      <td>-0.037540</td>\n",
       "      <td>-0.264866</td>\n",
       "      <td>0.045434</td>\n",
       "    </tr>\n",
       "    <tr>\n",
       "      <th>9</th>\n",
       "      <td>0</td>\n",
       "      <td>0.071590</td>\n",
       "      <td>0.905901</td>\n",
       "      <td>0.848071</td>\n",
       "      <td>-0.386442</td>\n",
       "      <td>-0.514265</td>\n",
       "      <td>0.511631</td>\n",
       "    </tr>\n",
       "    <tr>\n",
       "      <th>27</th>\n",
       "      <td>0</td>\n",
       "      <td>0.184817</td>\n",
       "      <td>0.426762</td>\n",
       "      <td>0.621079</td>\n",
       "      <td>-1.000000</td>\n",
       "      <td>0.508804</td>\n",
       "      <td>-0.278248</td>\n",
       "    </tr>\n",
       "    <tr>\n",
       "      <th>46</th>\n",
       "      <td>0</td>\n",
       "      <td>0.247130</td>\n",
       "      <td>0.124748</td>\n",
       "      <td>0.598096</td>\n",
       "      <td>-0.414985</td>\n",
       "      <td>0.613341</td>\n",
       "      <td>-0.512688</td>\n",
       "    </tr>\n",
       "    <tr>\n",
       "      <th>98</th>\n",
       "      <td>0</td>\n",
       "      <td>0.999392</td>\n",
       "      <td>0.000403</td>\n",
       "      <td>0.005080</td>\n",
       "      <td>0.078704</td>\n",
       "      <td>-0.251240</td>\n",
       "      <td>-0.042171</td>\n",
       "    </tr>\n",
       "    <tr>\n",
       "      <th>99</th>\n",
       "      <td>0</td>\n",
       "      <td>1.000000</td>\n",
       "      <td>0.000000</td>\n",
       "      <td>0.000000</td>\n",
       "      <td>0.039039</td>\n",
       "      <td>-0.215166</td>\n",
       "      <td>-0.026560</td>\n",
       "    </tr>\n",
       "  </tbody>\n",
       "</table>\n",
       "</div>"
      ],
      "text/plain": [
       "    A         B         C         D         E         F         G\n",
       "0   0  0.000000  1.000000  1.000000  0.000000  0.000000  0.000000\n",
       "1   0  0.002598  0.998079  0.996711 -0.037540 -0.264866  0.045434\n",
       "9   0  0.071590  0.905901  0.848071 -0.386442 -0.514265  0.511631\n",
       "27  0  0.184817  0.426762  0.621079 -1.000000  0.508804 -0.278248\n",
       "46  0  0.247130  0.124748  0.598096 -0.414985  0.613341 -0.512688\n",
       "98  0  0.999392  0.000403  0.005080  0.078704 -0.251240 -0.042171\n",
       "99  0  1.000000  0.000000  0.000000  0.039039 -0.215166 -0.026560"
      ]
     },
     "execution_count": 4,
     "metadata": {},
     "output_type": "execute_result"
    },
    {
     "name": "stdout",
     "output_type": "stream",
     "text": [
      "time: 140 ms (started: 2022-10-31 16:52:13 +01:00)\n"
     ]
    }
   ],
   "source": [
    "# Several types of random numbers, with parameters\n",
    "size = 100\n",
    "a = pak.random_series( size, 'ascending'                    )\n",
    "b = pak.random_series( size, 'ascending'                    )\n",
    "c = pak.random_series( size, 'descending'                   )\n",
    "d = pak.random_series( size, 'descending'                   )\n",
    "e = pak.random_series( size, 'perlin',     freq=2           )\n",
    "f = pak.random_series( size, 'perlin',     freq=[16,1,8,1]  )\n",
    "g = pak.random_series( size, 'perlin',     freq=[4,1,8,128] )\n",
    "\n",
    "df = pak.dataframe( (a,b,c,d,e,f,g) )\n",
    "pak.sample(df)"
   ]
  },
  {
   "cell_type": "code",
   "execution_count": 5,
   "id": "a937d047-3b63-4091-9fef-a6ba38b04f20",
   "metadata": {},
   "outputs": [
    {
     "data": {
      "image/png": "[encoded data removed]",
      "text/plain": [
       "<Figure size 1600x400 with 1 Axes>"
      ]
     },
     "metadata": {},
     "output_type": "display_data"
    },
    {
     "name": "stdout",
     "output_type": "stream",
     "text": [
      "time: 4.7 s (started: 2022-10-31 16:52:13 +01:00)\n"
     ]
    }
   ],
   "source": [
    "# just plot all together\n",
    "%matplotlib inline\n",
    "pak.plot(df)"
   ]
  },
  {
   "cell_type": "code",
   "execution_count": 6,
   "id": "f4f33ae6-f4cf-4a76-a7b9-7607ac9e06ab",
   "metadata": {},
   "outputs": [
    {
     "data": {
      "image/png": "[encoded data removed]",
      "text/plain": [
       "<Figure size 1600x400 with 2 Axes>"
      ]
     },
     "metadata": {},
     "output_type": "display_data"
    },
    {
     "name": "stdout",
     "output_type": "stream",
     "text": [
      "time: 3.27 s (started: 2022-10-31 16:52:18 +01:00)\n"
     ]
    }
   ],
   "source": [
    "# plot 2 Series, use different y-axis\n",
    "%matplotlib inline\n",
    "pak.plot(df.A, df.G)"
   ]
  },
  {
   "cell_type": "code",
   "execution_count": 7,
   "id": "f5f91497-c0c3-446e-a5ca-3e56a4b2b286",
   "metadata": {},
   "outputs": [
    {
     "data": {
      "image/png": "[encoded data removed]",
      "text/plain": [
       "<Figure size 1600x400 with 2 Axes>"
      ]
     },
     "metadata": {},
     "output_type": "display_data"
    },
    {
     "name": "stdout",
     "output_type": "stream",
     "text": [
      "time: 3.97 s (started: 2022-10-31 16:52:21 +01:00)\n"
     ]
    }
   ],
   "source": [
    "# plot DataFrame + Series, use different line thickness\n",
    "%matplotlib inline \n",
    "pak.plot(df[list('BCD')], df.A, line=(1,5))"
   ]
  },
  {
   "cell_type": "code",
   "execution_count": 8,
   "id": "2b80b619-f306-41d8-b545-3728c559e602",
   "metadata": {},
   "outputs": [
    {
     "data": {
      "image/png": "[encoded data removed]",
      "text/plain": [
       "<Figure size 1600x400 with 1 Axes>"
      ]
     },
     "metadata": {},
     "output_type": "display_data"
    },
    {
     "name": "stdout",
     "output_type": "stream",
     "text": [
      "time: 2.46 s (started: 2022-10-31 16:52:25 +01:00)\n"
     ]
    }
   ],
   "source": [
    "# plot E (Perlin) and A (ascending)\n",
    "%matplotlib inline \n",
    "pak.plot(df[list('AE')])"
   ]
  },
  {
   "cell_type": "code",
   "execution_count": 9,
   "id": "2530f3a8-ffd2-429f-975c-b9e7622b1d4e",
   "metadata": {},
   "outputs": [
    {
     "data": {
      "image/png": "[encoded data removed]",
      "text/plain": [
       "<Figure size 1600x400 with 1 Axes>"
      ]
     },
     "metadata": {},
     "output_type": "display_data"
    },
    {
     "name": "stdout",
     "output_type": "stream",
     "text": [
      "time: 1.69 s (started: 2022-10-31 16:52:28 +01:00)\n"
     ]
    }
   ],
   "source": [
    "# plot E using A as x-Axis\n",
    "%matplotlib inline \n",
    "pak.plot(df[list('AE')], x='A')"
   ]
  },
  {
   "cell_type": "code",
   "execution_count": null,
   "id": "570f271c-696a-4029-9a24-21302e34535a",
   "metadata": {},
   "outputs": [],
   "source": []
  },
  {
   "cell_type": "markdown",
   "id": "0dab7d17-79d0-445a-aae1-bd9589423675",
   "metadata": {},
   "source": [
    "## sample(): Returns some sample rows"
   ]
  },
  {
   "cell_type": "code",
   "execution_count": 10,
   "id": "7c9db8af-51b5-4e92-ba45-5870ae41d094",
   "metadata": {},
   "outputs": [
    {
     "name": "stdout",
     "output_type": "stream",
     "text": [
      "time: 42.6 ms (started: 2022-10-31 16:52:30 +01:00)\n"
     ]
    },
    {
     "data": {
      "text/plain": [
       "\u001b[0;31mSignature:\u001b[0m \u001b[0mpak\u001b[0m\u001b[0;34m.\u001b[0m\u001b[0msample\u001b[0m\u001b[0;34m(\u001b[0m\u001b[0mdf\u001b[0m\u001b[0;34m,\u001b[0m \u001b[0msize\u001b[0m\u001b[0;34m=\u001b[0m\u001b[0;36m7\u001b[0m\u001b[0;34m)\u001b[0m\u001b[0;34m\u001b[0m\u001b[0;34m\u001b[0m\u001b[0m\n",
       "\u001b[0;31mDocstring:\u001b[0m\n",
       "Returns some sample rows.\n",
       "Always the beginning and the end, \n",
       "plus some random rows in the middle, prefering rows without NaNs.\n",
       "* size: Number of rows returned\n",
       "\u001b[0;31mFile:\u001b[0m      /media/me/DATA/Dropbox/31_Projekte/01_Python/git/pandasklar/src/pandasklar/analyse.py\n",
       "\u001b[0;31mType:\u001b[0m      function\n"
      ]
     },
     "metadata": {},
     "output_type": "display_data"
    }
   ],
   "source": [
    "?pak.sample"
   ]
  },
  {
   "cell_type": "code",
   "execution_count": 11,
   "id": "aed46905",
   "metadata": {},
   "outputs": [
    {
     "data": {
      "text/html": [
       "<div>\n",
       "<style scoped>\n",
       "    .dataframe tbody tr th:only-of-type {\n",
       "        vertical-align: middle;\n",
       "    }\n",
       "\n",
       "    .dataframe tbody tr th {\n",
       "        vertical-align: top;\n",
       "    }\n",
       "\n",
       "    .dataframe thead th {\n",
       "        text-align: right;\n",
       "    }\n",
       "</style>\n",
       "<table border=\"1\" class=\"dataframe\">\n",
       "  <thead>\n",
       "    <tr style=\"text-align: right;\">\n",
       "      <th></th>\n",
       "      <th>first_name</th>\n",
       "      <th>age</th>\n",
       "      <th>age_class</th>\n",
       "      <th>postal_code</th>\n",
       "      <th>birthplace</th>\n",
       "      <th>secret</th>\n",
       "      <th>features</th>\n",
       "      <th>history</th>\n",
       "    </tr>\n",
       "  </thead>\n",
       "  <tbody>\n",
       "    <tr>\n",
       "      <th>0</th>\n",
       "      <td>Leah</td>\n",
       "      <td>37</td>\n",
       "      <td>30</td>\n",
       "      <td>98886</td>\n",
       "      <td>Berlin</td>\n",
       "      <td>3q0jäFY</td>\n",
       "      <td>{q, F, J, R}</td>\n",
       "      <td>[A, C, C, B]</td>\n",
       "    </tr>\n",
       "    <tr>\n",
       "      <th>1</th>\n",
       "      <td>Adolf</td>\n",
       "      <td>25</td>\n",
       "      <td>20</td>\n",
       "      <td>&lt;NA&gt;</td>\n",
       "      <td>Bremen</td>\n",
       "      <td>p5RjMJaT3</td>\n",
       "      <td>{B, l, v, I, b}</td>\n",
       "      <td>[c, b, a]</td>\n",
       "    </tr>\n",
       "    <tr>\n",
       "      <th>2</th>\n",
       "      <td>Astrid</td>\n",
       "      <td>26</td>\n",
       "      <td>20</td>\n",
       "      <td>37296</td>\n",
       "      <td>Berlin</td>\n",
       "      <td>pqKFaX</td>\n",
       "      <td>{z, Z}</td>\n",
       "      <td>[A, B, C]</td>\n",
       "    </tr>\n",
       "    <tr>\n",
       "      <th>3</th>\n",
       "      <td>Ute</td>\n",
       "      <td>24</td>\n",
       "      <td>20</td>\n",
       "      <td>77027</td>\n",
       "      <td>Hamburg</td>\n",
       "      <td>t9uHpCQjXy</td>\n",
       "      <td>{x, P, l}</td>\n",
       "      <td>[b, b, a, b]</td>\n",
       "    </tr>\n",
       "    <tr>\n",
       "      <th>4</th>\n",
       "      <td>Matthias</td>\n",
       "      <td>33</td>\n",
       "      <td>30</td>\n",
       "      <td>10434</td>\n",
       "      <td>Hamburg</td>\n",
       "      <td>bEÄFsöva2t</td>\n",
       "      <td>{E, A}</td>\n",
       "      <td>[a, b, c]</td>\n",
       "    </tr>\n",
       "    <tr>\n",
       "      <th>...</th>\n",
       "      <td>...</td>\n",
       "      <td>...</td>\n",
       "      <td>...</td>\n",
       "      <td>...</td>\n",
       "      <td>...</td>\n",
       "      <td>...</td>\n",
       "      <td>...</td>\n",
       "      <td>...</td>\n",
       "    </tr>\n",
       "    <tr>\n",
       "      <th>95</th>\n",
       "      <td>Lea</td>\n",
       "      <td>29</td>\n",
       "      <td>20</td>\n",
       "      <td>46682</td>\n",
       "      <td>Hamburg</td>\n",
       "      <td>s4vMfÜx</td>\n",
       "      <td>{x, 2, g, c, S}</td>\n",
       "      <td>[A, x]</td>\n",
       "    </tr>\n",
       "    <tr>\n",
       "      <th>96</th>\n",
       "      <td>Denis</td>\n",
       "      <td>37</td>\n",
       "      <td>30</td>\n",
       "      <td>&lt;NA&gt;</td>\n",
       "      <td>Hamburg</td>\n",
       "      <td>PTÖÜdGUe</td>\n",
       "      <td>{i, x, 0}</td>\n",
       "      <td>[A, B, C, C]</td>\n",
       "    </tr>\n",
       "    <tr>\n",
       "      <th>97</th>\n",
       "      <td>Jakob</td>\n",
       "      <td>35</td>\n",
       "      <td>30</td>\n",
       "      <td>60035</td>\n",
       "      <td>Bremen</td>\n",
       "      <td>uWXS56iO</td>\n",
       "      <td>{E, A}</td>\n",
       "      <td>[a, b, c]</td>\n",
       "    </tr>\n",
       "    <tr>\n",
       "      <th>98</th>\n",
       "      <td>Kirsten</td>\n",
       "      <td>30</td>\n",
       "      <td>30</td>\n",
       "      <td>32814</td>\n",
       "      <td>Bremen</td>\n",
       "      <td>bqhÄGKäOQY</td>\n",
       "      <td>{4, l, b}</td>\n",
       "      <td>[c, b, a]</td>\n",
       "    </tr>\n",
       "    <tr>\n",
       "      <th>99</th>\n",
       "      <td>Gerhard</td>\n",
       "      <td>30</td>\n",
       "      <td>30</td>\n",
       "      <td>34307</td>\n",
       "      <td>Berlin</td>\n",
       "      <td>B4OW9V</td>\n",
       "      <td>{2, i}</td>\n",
       "      <td>[c, b, a]</td>\n",
       "    </tr>\n",
       "  </tbody>\n",
       "</table>\n",
       "<p>100 rows × 8 columns</p>\n",
       "</div>"
      ],
      "text/plain": [
       "   first_name  age  age_class  postal_code birthplace      secret  \\\n",
       "0        Leah   37         30        98886     Berlin     3q0jäFY   \n",
       "1       Adolf   25         20         <NA>     Bremen   p5RjMJaT3   \n",
       "2      Astrid   26         20        37296     Berlin      pqKFaX   \n",
       "3         Ute   24         20        77027    Hamburg  t9uHpCQjXy   \n",
       "4    Matthias   33         30        10434    Hamburg  bEÄFsöva2t   \n",
       "..        ...  ...        ...          ...        ...         ...   \n",
       "95        Lea   29         20        46682    Hamburg     s4vMfÜx   \n",
       "96      Denis   37         30         <NA>    Hamburg    PTÖÜdGUe   \n",
       "97      Jakob   35         30        60035     Bremen    uWXS56iO   \n",
       "98    Kirsten   30         30        32814     Bremen  bqhÄGKäOQY   \n",
       "99    Gerhard   30         30        34307     Berlin      B4OW9V   \n",
       "\n",
       "           features       history  \n",
       "0      {q, F, J, R}  [A, C, C, B]  \n",
       "1   {B, l, v, I, b}     [c, b, a]  \n",
       "2            {z, Z}     [A, B, C]  \n",
       "3         {x, P, l}  [b, b, a, b]  \n",
       "4            {E, A}     [a, b, c]  \n",
       "..              ...           ...  \n",
       "95  {x, 2, g, c, S}        [A, x]  \n",
       "96        {i, x, 0}  [A, B, C, C]  \n",
       "97           {E, A}     [a, b, c]  \n",
       "98        {4, l, b}     [c, b, a]  \n",
       "99           {2, i}     [c, b, a]  \n",
       "\n",
       "[100 rows x 8 columns]"
      ]
     },
     "execution_count": 11,
     "metadata": {},
     "output_type": "execute_result"
    },
    {
     "name": "stdout",
     "output_type": "stream",
     "text": [
      "time: 142 ms (started: 2022-10-31 16:52:30 +01:00)\n"
     ]
    }
   ],
   "source": [
    "# create test data\n",
    "df = pak.people()\n",
    "df['birthplace'] = df.birthplace.fillna('Hamburg')\n",
    "df"
   ]
  },
  {
   "cell_type": "code",
   "execution_count": 12,
   "id": "8b558e7b-5a33-409d-8dc5-33d50ffab74b",
   "metadata": {},
   "outputs": [
    {
     "data": {
      "text/html": [
       "<div>\n",
       "<style scoped>\n",
       "    .dataframe tbody tr th:only-of-type {\n",
       "        vertical-align: middle;\n",
       "    }\n",
       "\n",
       "    .dataframe tbody tr th {\n",
       "        vertical-align: top;\n",
       "    }\n",
       "\n",
       "    .dataframe thead th {\n",
       "        text-align: right;\n",
       "    }\n",
       "</style>\n",
       "<table border=\"1\" class=\"dataframe\">\n",
       "  <thead>\n",
       "    <tr style=\"text-align: right;\">\n",
       "      <th></th>\n",
       "      <th>first_name</th>\n",
       "      <th>age</th>\n",
       "      <th>age_class</th>\n",
       "      <th>postal_code</th>\n",
       "      <th>birthplace</th>\n",
       "      <th>secret</th>\n",
       "      <th>features</th>\n",
       "      <th>history</th>\n",
       "    </tr>\n",
       "  </thead>\n",
       "  <tbody>\n",
       "    <tr>\n",
       "      <th>0</th>\n",
       "      <td>Leah</td>\n",
       "      <td>37</td>\n",
       "      <td>30</td>\n",
       "      <td>98886</td>\n",
       "      <td>Berlin</td>\n",
       "      <td>3q0jäFY</td>\n",
       "      <td>{q, F, J, R}</td>\n",
       "      <td>[A, C, C, B]</td>\n",
       "    </tr>\n",
       "    <tr>\n",
       "      <th>1</th>\n",
       "      <td>Adolf</td>\n",
       "      <td>25</td>\n",
       "      <td>20</td>\n",
       "      <td>&lt;NA&gt;</td>\n",
       "      <td>Bremen</td>\n",
       "      <td>p5RjMJaT3</td>\n",
       "      <td>{B, l, v, I, b}</td>\n",
       "      <td>[c, b, a]</td>\n",
       "    </tr>\n",
       "    <tr>\n",
       "      <th>4</th>\n",
       "      <td>Matthias</td>\n",
       "      <td>33</td>\n",
       "      <td>30</td>\n",
       "      <td>10434</td>\n",
       "      <td>Hamburg</td>\n",
       "      <td>bEÄFsöva2t</td>\n",
       "      <td>{E, A}</td>\n",
       "      <td>[a, b, c]</td>\n",
       "    </tr>\n",
       "    <tr>\n",
       "      <th>34</th>\n",
       "      <td>Tanja</td>\n",
       "      <td>34</td>\n",
       "      <td>30</td>\n",
       "      <td>43277</td>\n",
       "      <td>Bremen</td>\n",
       "      <td>8Oi2A</td>\n",
       "      <td>{O, 1, l, i}</td>\n",
       "      <td>[]</td>\n",
       "    </tr>\n",
       "    <tr>\n",
       "      <th>35</th>\n",
       "      <td>Sophia</td>\n",
       "      <td>27</td>\n",
       "      <td>20</td>\n",
       "      <td>73302</td>\n",
       "      <td>Hamburg</td>\n",
       "      <td>pPÖäSBQr6X</td>\n",
       "      <td>{h, 0}</td>\n",
       "      <td>[A, B, C, C]</td>\n",
       "    </tr>\n",
       "    <tr>\n",
       "      <th>98</th>\n",
       "      <td>Kirsten</td>\n",
       "      <td>30</td>\n",
       "      <td>30</td>\n",
       "      <td>32814</td>\n",
       "      <td>Bremen</td>\n",
       "      <td>bqhÄGKäOQY</td>\n",
       "      <td>{4, l, b}</td>\n",
       "      <td>[c, b, a]</td>\n",
       "    </tr>\n",
       "    <tr>\n",
       "      <th>99</th>\n",
       "      <td>Gerhard</td>\n",
       "      <td>30</td>\n",
       "      <td>30</td>\n",
       "      <td>34307</td>\n",
       "      <td>Berlin</td>\n",
       "      <td>B4OW9V</td>\n",
       "      <td>{2, i}</td>\n",
       "      <td>[c, b, a]</td>\n",
       "    </tr>\n",
       "  </tbody>\n",
       "</table>\n",
       "</div>"
      ],
      "text/plain": [
       "   first_name  age  age_class  postal_code birthplace      secret  \\\n",
       "0        Leah   37         30        98886     Berlin     3q0jäFY   \n",
       "1       Adolf   25         20         <NA>     Bremen   p5RjMJaT3   \n",
       "4    Matthias   33         30        10434    Hamburg  bEÄFsöva2t   \n",
       "34      Tanja   34         30        43277     Bremen       8Oi2A   \n",
       "35     Sophia   27         20        73302    Hamburg  pPÖäSBQr6X   \n",
       "98    Kirsten   30         30        32814     Bremen  bqhÄGKäOQY   \n",
       "99    Gerhard   30         30        34307     Berlin      B4OW9V   \n",
       "\n",
       "           features       history  \n",
       "0      {q, F, J, R}  [A, C, C, B]  \n",
       "1   {B, l, v, I, b}     [c, b, a]  \n",
       "4            {E, A}     [a, b, c]  \n",
       "34     {O, 1, l, i}            []  \n",
       "35           {h, 0}  [A, B, C, C]  \n",
       "98        {4, l, b}     [c, b, a]  \n",
       "99           {2, i}     [c, b, a]  "
      ]
     },
     "execution_count": 12,
     "metadata": {},
     "output_type": "execute_result"
    },
    {
     "name": "stdout",
     "output_type": "stream",
     "text": [
      "time: 60.8 ms (started: 2022-10-31 16:52:30 +01:00)\n"
     ]
    }
   ],
   "source": [
    "pak.sample(df)"
   ]
  },
  {
   "cell_type": "markdown",
   "id": "f040f24c-3987-475a-b82b-17580ba69824",
   "metadata": {},
   "source": [
    "## search_str(): Searches all str columns of a dataframe"
   ]
  },
  {
   "cell_type": "code",
   "execution_count": 13,
   "id": "fdb683bd-684b-45c2-95a0-d624eba48b00",
   "metadata": {},
   "outputs": [
    {
     "name": "stdout",
     "output_type": "stream",
     "text": [
      "time: 35.5 ms (started: 2022-10-31 16:52:30 +01:00)\n"
     ]
    },
    {
     "data": {
      "text/plain": [
       "\u001b[0;31mSignature:\u001b[0m \u001b[0mpak\u001b[0m\u001b[0;34m.\u001b[0m\u001b[0msearch_str\u001b[0m\u001b[0;34m(\u001b[0m\u001b[0mdf\u001b[0m\u001b[0;34m,\u001b[0m \u001b[0mfind\u001b[0m\u001b[0;34m,\u001b[0m \u001b[0mwithout\u001b[0m\u001b[0;34m=\u001b[0m\u001b[0;34m[\u001b[0m\u001b[0;34m]\u001b[0m\u001b[0;34m)\u001b[0m\u001b[0;34m\u001b[0m\u001b[0;34m\u001b[0m\u001b[0m\n",
       "\u001b[0;31mDocstring:\u001b[0m\n",
       "Searches all str columns of a dataframe.\n",
       "Useful for development and debugging.\n",
       "* find:    What is to be found?                  String or list of strings.\n",
       "* without: Which columns should not be searched? String or list of strings.    \n",
       "\u001b[0;31mFile:\u001b[0m      /media/me/DATA/Dropbox/31_Projekte/01_Python/git/pandasklar/src/pandasklar/develop.py\n",
       "\u001b[0;31mType:\u001b[0m      function\n"
      ]
     },
     "metadata": {},
     "output_type": "display_data"
    }
   ],
   "source": [
    "?pak.search_str"
   ]
  },
  {
   "cell_type": "code",
   "execution_count": 14,
   "id": "d9b1c748-51ef-4dc2-b9fe-20e46ef48c16",
   "metadata": {},
   "outputs": [
    {
     "name": "stdout",
     "output_type": "stream",
     "text": [
      "search for ['Hamburg', 'Lea']\n",
      "time: 32 ms (started: 2022-10-31 16:52:30 +01:00)\n"
     ]
    }
   ],
   "source": [
    "# create mask: most frequent first_name\n",
    "find = ['Hamburg', pak.most_freq_elt(df.first_name)]\n",
    "print('search for',find)"
   ]
  },
  {
   "cell_type": "code",
   "execution_count": 15,
   "id": "264cbe92-9224-4014-bfbc-a5fd24fe9444",
   "metadata": {
    "tags": []
   },
   "outputs": [
    {
     "data": {
      "text/html": [
       "<div>\n",
       "<style scoped>\n",
       "    .dataframe tbody tr th:only-of-type {\n",
       "        vertical-align: middle;\n",
       "    }\n",
       "\n",
       "    .dataframe tbody tr th {\n",
       "        vertical-align: top;\n",
       "    }\n",
       "\n",
       "    .dataframe thead th {\n",
       "        text-align: right;\n",
       "    }\n",
       "</style>\n",
       "<table border=\"1\" class=\"dataframe\">\n",
       "  <thead>\n",
       "    <tr style=\"text-align: right;\">\n",
       "      <th></th>\n",
       "      <th>first_name</th>\n",
       "      <th>age</th>\n",
       "      <th>age_class</th>\n",
       "      <th>postal_code</th>\n",
       "      <th>birthplace</th>\n",
       "      <th>secret</th>\n",
       "      <th>features</th>\n",
       "      <th>history</th>\n",
       "    </tr>\n",
       "  </thead>\n",
       "  <tbody>\n",
       "    <tr>\n",
       "      <th>3</th>\n",
       "      <td>Ute</td>\n",
       "      <td>24</td>\n",
       "      <td>20</td>\n",
       "      <td>77027</td>\n",
       "      <td>Hamburg</td>\n",
       "      <td>t9uHpCQjXy</td>\n",
       "      <td>{x, P, l}</td>\n",
       "      <td>[b, b, a, b]</td>\n",
       "    </tr>\n",
       "    <tr>\n",
       "      <th>4</th>\n",
       "      <td>Matthias</td>\n",
       "      <td>33</td>\n",
       "      <td>30</td>\n",
       "      <td>10434</td>\n",
       "      <td>Hamburg</td>\n",
       "      <td>bEÄFsöva2t</td>\n",
       "      <td>{E, A}</td>\n",
       "      <td>[a, b, c]</td>\n",
       "    </tr>\n",
       "    <tr>\n",
       "      <th>5</th>\n",
       "      <td>Mara</td>\n",
       "      <td>36</td>\n",
       "      <td>30</td>\n",
       "      <td>58479</td>\n",
       "      <td>Hamburg</td>\n",
       "      <td>ÜoyXxfLM</td>\n",
       "      <td>{N, y, e}</td>\n",
       "      <td>[A, B, C, C]</td>\n",
       "    </tr>\n",
       "    <tr>\n",
       "      <th>6</th>\n",
       "      <td>Martina</td>\n",
       "      <td>31</td>\n",
       "      <td>30</td>\n",
       "      <td>31744</td>\n",
       "      <td>Hamburg</td>\n",
       "      <td>NCoRl</td>\n",
       "      <td>{4, C, T, H}</td>\n",
       "      <td>[A, A, A]</td>\n",
       "    </tr>\n",
       "    <tr>\n",
       "      <th>7</th>\n",
       "      <td>Marius</td>\n",
       "      <td>31</td>\n",
       "      <td>30</td>\n",
       "      <td>50146</td>\n",
       "      <td>Hamburg</td>\n",
       "      <td>p9YzZiüv5N</td>\n",
       "      <td>{F, E, Y, J, b}</td>\n",
       "      <td>[]</td>\n",
       "    </tr>\n",
       "    <tr>\n",
       "      <th>9</th>\n",
       "      <td>Dagmar</td>\n",
       "      <td>23</td>\n",
       "      <td>20</td>\n",
       "      <td>22392</td>\n",
       "      <td>Hamburg</td>\n",
       "      <td>0OMXpDl</td>\n",
       "      <td>{B, c, F}</td>\n",
       "      <td>[a, b, c]</td>\n",
       "    </tr>\n",
       "    <tr>\n",
       "      <th>11</th>\n",
       "      <td>Jonathan</td>\n",
       "      <td>24</td>\n",
       "      <td>20</td>\n",
       "      <td>26080</td>\n",
       "      <td>Hamburg</td>\n",
       "      <td>dQGolc</td>\n",
       "      <td>{s, J, j}</td>\n",
       "      <td>[A, B, C, C]</td>\n",
       "    </tr>\n",
       "    <tr>\n",
       "      <th>15</th>\n",
       "      <td>Stella</td>\n",
       "      <td>33</td>\n",
       "      <td>30</td>\n",
       "      <td>71851</td>\n",
       "      <td>Hamburg</td>\n",
       "      <td>CÖeWxLötv</td>\n",
       "      <td>{g, H}</td>\n",
       "      <td>[A, A, A]</td>\n",
       "    </tr>\n",
       "    <tr>\n",
       "      <th>16</th>\n",
       "      <td>Maike</td>\n",
       "      <td>34</td>\n",
       "      <td>30</td>\n",
       "      <td>87132</td>\n",
       "      <td>Hamburg</td>\n",
       "      <td>eCuyaac</td>\n",
       "      <td>{4, Q, I, w}</td>\n",
       "      <td>[A, A, A]</td>\n",
       "    </tr>\n",
       "    <tr>\n",
       "      <th>17</th>\n",
       "      <td>Luka</td>\n",
       "      <td>36</td>\n",
       "      <td>30</td>\n",
       "      <td>58760</td>\n",
       "      <td>Hamburg</td>\n",
       "      <td>iÖüGR8YoLs</td>\n",
       "      <td>{s, W, 0}</td>\n",
       "      <td>[c, b, a]</td>\n",
       "    </tr>\n",
       "    <tr>\n",
       "      <th>18</th>\n",
       "      <td>Melanie</td>\n",
       "      <td>31</td>\n",
       "      <td>30</td>\n",
       "      <td>16210</td>\n",
       "      <td>Hamburg</td>\n",
       "      <td>r6lunY</td>\n",
       "      <td>{a, j, e, v}</td>\n",
       "      <td>[]</td>\n",
       "    </tr>\n",
       "    <tr>\n",
       "      <th>21</th>\n",
       "      <td>Lea</td>\n",
       "      <td>23</td>\n",
       "      <td>20</td>\n",
       "      <td>26753</td>\n",
       "      <td>Bremen</td>\n",
       "      <td>Okrh0ÖD</td>\n",
       "      <td>{W, Y, U, C, O}</td>\n",
       "      <td>[c, b, a]</td>\n",
       "    </tr>\n",
       "    <tr>\n",
       "      <th>22</th>\n",
       "      <td>Joachim</td>\n",
       "      <td>32</td>\n",
       "      <td>30</td>\n",
       "      <td>65470</td>\n",
       "      <td>Hamburg</td>\n",
       "      <td>ÖY6iSsi</td>\n",
       "      <td>{i}</td>\n",
       "      <td>[]</td>\n",
       "    </tr>\n",
       "    <tr>\n",
       "      <th>24</th>\n",
       "      <td>Bernhard</td>\n",
       "      <td>30</td>\n",
       "      <td>30</td>\n",
       "      <td>65882</td>\n",
       "      <td>Hamburg</td>\n",
       "      <td>ie4Wau6ÜEp</td>\n",
       "      <td>{t, h, k, S}</td>\n",
       "      <td>[A, x]</td>\n",
       "    </tr>\n",
       "    <tr>\n",
       "      <th>29</th>\n",
       "      <td>Joshua</td>\n",
       "      <td>34</td>\n",
       "      <td>30</td>\n",
       "      <td>32814</td>\n",
       "      <td>Hamburg</td>\n",
       "      <td>QR1HPex2</td>\n",
       "      <td>{W, J}</td>\n",
       "      <td>[]</td>\n",
       "    </tr>\n",
       "    <tr>\n",
       "      <th>30</th>\n",
       "      <td>Peter</td>\n",
       "      <td>35</td>\n",
       "      <td>30</td>\n",
       "      <td>45136</td>\n",
       "      <td>Hamburg</td>\n",
       "      <td>WÜ7SÜO</td>\n",
       "      <td>{m}</td>\n",
       "      <td>[b, b, a, b]</td>\n",
       "    </tr>\n",
       "    <tr>\n",
       "      <th>35</th>\n",
       "      <td>Sophia</td>\n",
       "      <td>27</td>\n",
       "      <td>20</td>\n",
       "      <td>73302</td>\n",
       "      <td>Hamburg</td>\n",
       "      <td>pPÖäSBQr6X</td>\n",
       "      <td>{h, 0}</td>\n",
       "      <td>[A, B, C, C]</td>\n",
       "    </tr>\n",
       "    <tr>\n",
       "      <th>38</th>\n",
       "      <td>Thorsten</td>\n",
       "      <td>25</td>\n",
       "      <td>20</td>\n",
       "      <td>13618</td>\n",
       "      <td>Hamburg</td>\n",
       "      <td>EF4iu</td>\n",
       "      <td>{E}</td>\n",
       "      <td>[A, A, A]</td>\n",
       "    </tr>\n",
       "    <tr>\n",
       "      <th>44</th>\n",
       "      <td>Kirsten</td>\n",
       "      <td>27</td>\n",
       "      <td>20</td>\n",
       "      <td>95691</td>\n",
       "      <td>Hamburg</td>\n",
       "      <td>2iEfZ1Kkqo</td>\n",
       "      <td>{y, h, 5}</td>\n",
       "      <td>[A, A, A]</td>\n",
       "    </tr>\n",
       "    <tr>\n",
       "      <th>46</th>\n",
       "      <td>Anja</td>\n",
       "      <td>33</td>\n",
       "      <td>30</td>\n",
       "      <td>90413</td>\n",
       "      <td>Hamburg</td>\n",
       "      <td>eupeK</td>\n",
       "      <td>{C}</td>\n",
       "      <td>[b, b, a, b]</td>\n",
       "    </tr>\n",
       "    <tr>\n",
       "      <th>55</th>\n",
       "      <td>Hans</td>\n",
       "      <td>34</td>\n",
       "      <td>30</td>\n",
       "      <td>28636</td>\n",
       "      <td>Hamburg</td>\n",
       "      <td>7g6ZoSWQq</td>\n",
       "      <td>{a, x, P, S}</td>\n",
       "      <td>[A, B, C, C]</td>\n",
       "    </tr>\n",
       "    <tr>\n",
       "      <th>60</th>\n",
       "      <td>Hildegard</td>\n",
       "      <td>37</td>\n",
       "      <td>30</td>\n",
       "      <td>78006</td>\n",
       "      <td>Hamburg</td>\n",
       "      <td>8esUpähT2g</td>\n",
       "      <td>{q, J, 5}</td>\n",
       "      <td>[A, B, C, C]</td>\n",
       "    </tr>\n",
       "    <tr>\n",
       "      <th>62</th>\n",
       "      <td>Jennifer</td>\n",
       "      <td>32</td>\n",
       "      <td>30</td>\n",
       "      <td>39310</td>\n",
       "      <td>Hamburg</td>\n",
       "      <td>cuXLs</td>\n",
       "      <td>{h, l, Z, v}</td>\n",
       "      <td>[]</td>\n",
       "    </tr>\n",
       "    <tr>\n",
       "      <th>64</th>\n",
       "      <td>Louise</td>\n",
       "      <td>30</td>\n",
       "      <td>30</td>\n",
       "      <td>78846</td>\n",
       "      <td>Hamburg</td>\n",
       "      <td>eÜpmi7ey</td>\n",
       "      <td>{B, q, Q, g}</td>\n",
       "      <td>[A, x]</td>\n",
       "    </tr>\n",
       "    <tr>\n",
       "      <th>66</th>\n",
       "      <td>Oskar</td>\n",
       "      <td>39</td>\n",
       "      <td>30</td>\n",
       "      <td>50559</td>\n",
       "      <td>Hamburg</td>\n",
       "      <td>ÖIfrraWk</td>\n",
       "      <td>{4, y, g}</td>\n",
       "      <td>[A, C, C, B]</td>\n",
       "    </tr>\n",
       "    <tr>\n",
       "      <th>67</th>\n",
       "      <td>Britta</td>\n",
       "      <td>37</td>\n",
       "      <td>30</td>\n",
       "      <td>80973</td>\n",
       "      <td>Hamburg</td>\n",
       "      <td>ZBi9MRIstT</td>\n",
       "      <td>{3, t, n, m}</td>\n",
       "      <td>[A, A, A]</td>\n",
       "    </tr>\n",
       "    <tr>\n",
       "      <th>73</th>\n",
       "      <td>Mara</td>\n",
       "      <td>30</td>\n",
       "      <td>30</td>\n",
       "      <td>98886</td>\n",
       "      <td>Hamburg</td>\n",
       "      <td>n7gKewmYMr</td>\n",
       "      <td>{d, a, z, K}</td>\n",
       "      <td>[c, b, a]</td>\n",
       "    </tr>\n",
       "    <tr>\n",
       "      <th>74</th>\n",
       "      <td>Astrid</td>\n",
       "      <td>37</td>\n",
       "      <td>30</td>\n",
       "      <td>75430</td>\n",
       "      <td>Hamburg</td>\n",
       "      <td>7LfK4</td>\n",
       "      <td>{c, X, k}</td>\n",
       "      <td>[A, B, C]</td>\n",
       "    </tr>\n",
       "    <tr>\n",
       "      <th>76</th>\n",
       "      <td>Sofia</td>\n",
       "      <td>35</td>\n",
       "      <td>30</td>\n",
       "      <td>87132</td>\n",
       "      <td>Hamburg</td>\n",
       "      <td>l6CDäcimW</td>\n",
       "      <td>{x, 2, g, c, S}</td>\n",
       "      <td>[A, C, C, B]</td>\n",
       "    </tr>\n",
       "    <tr>\n",
       "      <th>77</th>\n",
       "      <td>Jennifer</td>\n",
       "      <td>26</td>\n",
       "      <td>20</td>\n",
       "      <td>50146</td>\n",
       "      <td>Hamburg</td>\n",
       "      <td>TpdlorÄ0</td>\n",
       "      <td>{I, C, 2, 0}</td>\n",
       "      <td>[A, B, C, C]</td>\n",
       "    </tr>\n",
       "    <tr>\n",
       "      <th>80</th>\n",
       "      <td>Lea</td>\n",
       "      <td>28</td>\n",
       "      <td>20</td>\n",
       "      <td>86383</td>\n",
       "      <td>Hamburg</td>\n",
       "      <td>SJtwx</td>\n",
       "      <td>{P, i}</td>\n",
       "      <td>[c, b, a]</td>\n",
       "    </tr>\n",
       "    <tr>\n",
       "      <th>84</th>\n",
       "      <td>Oskar</td>\n",
       "      <td>32</td>\n",
       "      <td>30</td>\n",
       "      <td>69814</td>\n",
       "      <td>Hamburg</td>\n",
       "      <td>hUHVüD7</td>\n",
       "      <td>{s, J, j}</td>\n",
       "      <td>[c, b, a]</td>\n",
       "    </tr>\n",
       "    <tr>\n",
       "      <th>87</th>\n",
       "      <td>Nico</td>\n",
       "      <td>31</td>\n",
       "      <td>30</td>\n",
       "      <td>51126</td>\n",
       "      <td>Hamburg</td>\n",
       "      <td>LWüCzM</td>\n",
       "      <td>{x, V}</td>\n",
       "      <td>[A, B, C, C]</td>\n",
       "    </tr>\n",
       "    <tr>\n",
       "      <th>89</th>\n",
       "      <td>Christoph</td>\n",
       "      <td>36</td>\n",
       "      <td>30</td>\n",
       "      <td>24232</td>\n",
       "      <td>Hamburg</td>\n",
       "      <td>jpy5xiö</td>\n",
       "      <td>{z, y, Z, G}</td>\n",
       "      <td>[]</td>\n",
       "    </tr>\n",
       "    <tr>\n",
       "      <th>93</th>\n",
       "      <td>Maike</td>\n",
       "      <td>40</td>\n",
       "      <td>40</td>\n",
       "      <td>54627</td>\n",
       "      <td>Hamburg</td>\n",
       "      <td>7aDhEa</td>\n",
       "      <td>{p}</td>\n",
       "      <td>[A, A, A]</td>\n",
       "    </tr>\n",
       "    <tr>\n",
       "      <th>94</th>\n",
       "      <td>Peter</td>\n",
       "      <td>27</td>\n",
       "      <td>20</td>\n",
       "      <td>79656</td>\n",
       "      <td>Hamburg</td>\n",
       "      <td>zGejüvNMö</td>\n",
       "      <td>{e}</td>\n",
       "      <td>[]</td>\n",
       "    </tr>\n",
       "    <tr>\n",
       "      <th>95</th>\n",
       "      <td>Lea</td>\n",
       "      <td>29</td>\n",
       "      <td>20</td>\n",
       "      <td>46682</td>\n",
       "      <td>Hamburg</td>\n",
       "      <td>s4vMfÜx</td>\n",
       "      <td>{x, 2, g, c, S}</td>\n",
       "      <td>[A, x]</td>\n",
       "    </tr>\n",
       "    <tr>\n",
       "      <th>96</th>\n",
       "      <td>Denis</td>\n",
       "      <td>37</td>\n",
       "      <td>30</td>\n",
       "      <td>&lt;NA&gt;</td>\n",
       "      <td>Hamburg</td>\n",
       "      <td>PTÖÜdGUe</td>\n",
       "      <td>{i, x, 0}</td>\n",
       "      <td>[A, B, C, C]</td>\n",
       "    </tr>\n",
       "  </tbody>\n",
       "</table>\n",
       "</div>"
      ],
      "text/plain": [
       "   first_name  age  age_class  postal_code birthplace      secret  \\\n",
       "3         Ute   24         20        77027    Hamburg  t9uHpCQjXy   \n",
       "4    Matthias   33         30        10434    Hamburg  bEÄFsöva2t   \n",
       "5        Mara   36         30        58479    Hamburg    ÜoyXxfLM   \n",
       "6     Martina   31         30        31744    Hamburg       NCoRl   \n",
       "7      Marius   31         30        50146    Hamburg  p9YzZiüv5N   \n",
       "9      Dagmar   23         20        22392    Hamburg     0OMXpDl   \n",
       "11   Jonathan   24         20        26080    Hamburg      dQGolc   \n",
       "15     Stella   33         30        71851    Hamburg   CÖeWxLötv   \n",
       "16      Maike   34         30        87132    Hamburg     eCuyaac   \n",
       "17       Luka   36         30        58760    Hamburg  iÖüGR8YoLs   \n",
       "18    Melanie   31         30        16210    Hamburg      r6lunY   \n",
       "21        Lea   23         20        26753     Bremen     Okrh0ÖD   \n",
       "22    Joachim   32         30        65470    Hamburg     ÖY6iSsi   \n",
       "24   Bernhard   30         30        65882    Hamburg  ie4Wau6ÜEp   \n",
       "29     Joshua   34         30        32814    Hamburg    QR1HPex2   \n",
       "30      Peter   35         30        45136    Hamburg      WÜ7SÜO   \n",
       "35     Sophia   27         20        73302    Hamburg  pPÖäSBQr6X   \n",
       "38   Thorsten   25         20        13618    Hamburg       EF4iu   \n",
       "44    Kirsten   27         20        95691    Hamburg  2iEfZ1Kkqo   \n",
       "46       Anja   33         30        90413    Hamburg       eupeK   \n",
       "55       Hans   34         30        28636    Hamburg   7g6ZoSWQq   \n",
       "60  Hildegard   37         30        78006    Hamburg  8esUpähT2g   \n",
       "62   Jennifer   32         30        39310    Hamburg       cuXLs   \n",
       "64     Louise   30         30        78846    Hamburg    eÜpmi7ey   \n",
       "66      Oskar   39         30        50559    Hamburg    ÖIfrraWk   \n",
       "67     Britta   37         30        80973    Hamburg  ZBi9MRIstT   \n",
       "73       Mara   30         30        98886    Hamburg  n7gKewmYMr   \n",
       "74     Astrid   37         30        75430    Hamburg       7LfK4   \n",
       "76      Sofia   35         30        87132    Hamburg   l6CDäcimW   \n",
       "77   Jennifer   26         20        50146    Hamburg    TpdlorÄ0   \n",
       "80        Lea   28         20        86383    Hamburg       SJtwx   \n",
       "84      Oskar   32         30        69814    Hamburg     hUHVüD7   \n",
       "87       Nico   31         30        51126    Hamburg      LWüCzM   \n",
       "89  Christoph   36         30        24232    Hamburg     jpy5xiö   \n",
       "93      Maike   40         40        54627    Hamburg      7aDhEa   \n",
       "94      Peter   27         20        79656    Hamburg   zGejüvNMö   \n",
       "95        Lea   29         20        46682    Hamburg     s4vMfÜx   \n",
       "96      Denis   37         30         <NA>    Hamburg    PTÖÜdGUe   \n",
       "\n",
       "           features       history  \n",
       "3         {x, P, l}  [b, b, a, b]  \n",
       "4            {E, A}     [a, b, c]  \n",
       "5         {N, y, e}  [A, B, C, C]  \n",
       "6      {4, C, T, H}     [A, A, A]  \n",
       "7   {F, E, Y, J, b}            []  \n",
       "9         {B, c, F}     [a, b, c]  \n",
       "11        {s, J, j}  [A, B, C, C]  \n",
       "15           {g, H}     [A, A, A]  \n",
       "16     {4, Q, I, w}     [A, A, A]  \n",
       "17        {s, W, 0}     [c, b, a]  \n",
       "18     {a, j, e, v}            []  \n",
       "21  {W, Y, U, C, O}     [c, b, a]  \n",
       "22              {i}            []  \n",
       "24     {t, h, k, S}        [A, x]  \n",
       "29           {W, J}            []  \n",
       "30              {m}  [b, b, a, b]  \n",
       "35           {h, 0}  [A, B, C, C]  \n",
       "38              {E}     [A, A, A]  \n",
       "44        {y, h, 5}     [A, A, A]  \n",
       "46              {C}  [b, b, a, b]  \n",
       "55     {a, x, P, S}  [A, B, C, C]  \n",
       "60        {q, J, 5}  [A, B, C, C]  \n",
       "62     {h, l, Z, v}            []  \n",
       "64     {B, q, Q, g}        [A, x]  \n",
       "66        {4, y, g}  [A, C, C, B]  \n",
       "67     {3, t, n, m}     [A, A, A]  \n",
       "73     {d, a, z, K}     [c, b, a]  \n",
       "74        {c, X, k}     [A, B, C]  \n",
       "76  {x, 2, g, c, S}  [A, C, C, B]  \n",
       "77     {I, C, 2, 0}  [A, B, C, C]  \n",
       "80           {P, i}     [c, b, a]  \n",
       "84        {s, J, j}     [c, b, a]  \n",
       "87           {x, V}  [A, B, C, C]  \n",
       "89     {z, y, Z, G}            []  \n",
       "93              {p}     [A, A, A]  \n",
       "94              {e}            []  \n",
       "95  {x, 2, g, c, S}        [A, x]  \n",
       "96        {i, x, 0}  [A, B, C, C]  "
      ]
     },
     "execution_count": 15,
     "metadata": {},
     "output_type": "execute_result"
    },
    {
     "name": "stdout",
     "output_type": "stream",
     "text": [
      "time: 71.7 ms (started: 2022-10-31 16:52:30 +01:00)\n"
     ]
    }
   ],
   "source": [
    "pak.search_str(df, find)"
   ]
  },
  {
   "cell_type": "markdown",
   "id": "fa5d1418-e8c2-4708-8068-ac6b08686af2",
   "metadata": {},
   "source": [
    "## check_mask(): Count rows filtered by a binary mask"
   ]
  },
  {
   "cell_type": "code",
   "execution_count": 16,
   "id": "f73b996b-70f7-4d47-a5c2-448d339f28ec",
   "metadata": {},
   "outputs": [
    {
     "name": "stdout",
     "output_type": "stream",
     "text": [
      "time: 47.2 ms (started: 2022-10-31 16:52:30 +01:00)\n"
     ]
    },
    {
     "data": {
      "text/plain": [
       "\u001b[0;31mSignature:\u001b[0m\n",
       "\u001b[0mpak\u001b[0m\u001b[0;34m.\u001b[0m\u001b[0mcheck_mask\u001b[0m\u001b[0;34m(\u001b[0m\u001b[0;34m\u001b[0m\n",
       "\u001b[0;34m\u001b[0m    \u001b[0mdf\u001b[0m\u001b[0;34m,\u001b[0m\u001b[0;34m\u001b[0m\n",
       "\u001b[0;34m\u001b[0m    \u001b[0mmask\u001b[0m\u001b[0;34m,\u001b[0m\u001b[0;34m\u001b[0m\n",
       "\u001b[0;34m\u001b[0m    \u001b[0mexpectation_min\u001b[0m\u001b[0;34m=\u001b[0m\u001b[0;32mNone\u001b[0m\u001b[0;34m,\u001b[0m\u001b[0;34m\u001b[0m\n",
       "\u001b[0;34m\u001b[0m    \u001b[0mexpectation_max\u001b[0m\u001b[0;34m=\u001b[0m\u001b[0;32mNone\u001b[0m\u001b[0;34m,\u001b[0m\u001b[0;34m\u001b[0m\n",
       "\u001b[0;34m\u001b[0m    \u001b[0mmsg\u001b[0m\u001b[0;34m=\u001b[0m\u001b[0;34m''\u001b[0m\u001b[0;34m,\u001b[0m\u001b[0;34m\u001b[0m\n",
       "\u001b[0;34m\u001b[0m    \u001b[0mstop\u001b[0m\u001b[0;34m=\u001b[0m\u001b[0;32mTrue\u001b[0m\u001b[0;34m,\u001b[0m\u001b[0;34m\u001b[0m\n",
       "\u001b[0;34m\u001b[0m    \u001b[0mverbose\u001b[0m\u001b[0;34m=\u001b[0m\u001b[0;32mNone\u001b[0m\u001b[0;34m,\u001b[0m\u001b[0;34m\u001b[0m\n",
       "\u001b[0;34m\u001b[0m\u001b[0;34m)\u001b[0m\u001b[0;34m\u001b[0m\u001b[0;34m\u001b[0m\u001b[0m\n",
       "\u001b[0;31mDocstring:\u001b[0m\n",
       "Count rows filtered by a binary mask.\n",
       "Raises an error, if the number is unexpected.\n",
       "\n",
       "Examples:\n",
       "==========\n",
       "check_mask( df, mask )         # just show the number of rows   \n",
       "check_mask( df, mask, 2000 )   # checks for about 2000 rows (if not 0: not more than double, not less than half)\n",
       "check_mask( df, mask, 0 )      # checks for exactly 0 rows    \n",
       "check_mask( df, mask, 10, 50)  # checks for 10..50 rows\n",
       "\n",
       "Example with later raise:\n",
       "=========================\n",
       "error = check_mask(df, mask, 214, stop=False)        \n",
       "grid(df, mask, error)        \n",
       "bpy.raise_if(error)\n",
       "\u001b[0;31mFile:\u001b[0m      /media/me/DATA/Dropbox/31_Projekte/01_Python/git/pandasklar/src/pandasklar/develop.py\n",
       "\u001b[0;31mType:\u001b[0m      function\n"
      ]
     },
     "metadata": {},
     "output_type": "display_data"
    }
   ],
   "source": [
    "?pak.check_mask"
   ]
  },
  {
   "cell_type": "code",
   "execution_count": 17,
   "id": "4b47a9d4-233e-4d1f-88e0-d10621612f8b",
   "metadata": {},
   "outputs": [
    {
     "name": "stdout",
     "output_type": "stream",
     "text": [
      "time: 41.1 ms (started: 2022-10-31 16:52:30 +01:00)\n"
     ]
    }
   ],
   "source": [
    "# define mask\n",
    "mask = (df.age >= 30)  &  (df.age < 40) \n",
    "#df[mask]"
   ]
  },
  {
   "cell_type": "code",
   "execution_count": 18,
   "id": "a85e05a5-1a4c-4aa7-8182-f843ec7a9324",
   "metadata": {},
   "outputs": [
    {
     "name": "stdout",
     "output_type": "stream",
     "text": [
      " 64 rows\n",
      "time: 43.4 ms (started: 2022-10-31 16:52:30 +01:00)\n"
     ]
    }
   ],
   "source": [
    "# just show the number of rows\n",
    "pak.check_mask(df, mask)"
   ]
  },
  {
   "cell_type": "code",
   "execution_count": 19,
   "id": "e4514535-4bbf-422c-b8a9-a1e90c3cd016",
   "metadata": {},
   "outputs": [
    {
     "name": "stdout",
     "output_type": "stream",
     "text": [
      "time: 36.2 ms (started: 2022-10-31 16:52:30 +01:00)\n"
     ]
    }
   ],
   "source": [
    "# checks for about 50 rows\n",
    "pak.check_mask(df, mask, 50)"
   ]
  },
  {
   "cell_type": "code",
   "execution_count": 20,
   "id": "d8ff4ab8-331c-4778-b9c2-a8033775373e",
   "metadata": {},
   "outputs": [
    {
     "name": "stdout",
     "output_type": "stream",
     "text": [
      " 64 rows\n",
      "time: 41.5 ms (started: 2022-10-31 16:52:30 +01:00)\n"
     ]
    }
   ],
   "source": [
    "# checks for about 50 rows\n",
    "pak.check_mask(df, mask, 50, verbose=True)"
   ]
  },
  {
   "cell_type": "code",
   "execution_count": 21,
   "id": "9cfe4010-bda6-4f23-a0d6-79cb22b4251c",
   "metadata": {},
   "outputs": [
    {
     "name": "stdout",
     "output_type": "stream",
     "text": [
      "time: 40.9 ms (started: 2022-10-31 16:52:30 +01:00)\n"
     ]
    }
   ],
   "source": [
    "# checks for 0..100 rows\n",
    "pak.check_mask(df, mask, 0, 100)"
   ]
  },
  {
   "cell_type": "markdown",
   "id": "b7688157",
   "metadata": {},
   "source": [
    "## grid(): Visualize with dtale"
   ]
  },
  {
   "cell_type": "code",
   "execution_count": 22,
   "id": "6be4b7ef-6225-4f2a-b214-a792ecbbc4a1",
   "metadata": {},
   "outputs": [
    {
     "name": "stdout",
     "output_type": "stream",
     "text": [
      "time: 32.3 ms (started: 2022-10-31 16:52:30 +01:00)\n"
     ]
    },
    {
     "data": {
      "text/plain": [
       "\u001b[0;31mSignature:\u001b[0m \u001b[0mgrid\u001b[0m\u001b[0;34m(\u001b[0m\u001b[0mdf\u001b[0m\u001b[0;34m,\u001b[0m \u001b[0mmask\u001b[0m\u001b[0;34m=\u001b[0m\u001b[0;32mNone\u001b[0m\u001b[0;34m,\u001b[0m \u001b[0merror\u001b[0m\u001b[0;34m=\u001b[0m\u001b[0;34m'€€€'\u001b[0m\u001b[0;34m,\u001b[0m \u001b[0mcolor\u001b[0m\u001b[0;34m=\u001b[0m\u001b[0;34m'blue'\u001b[0m\u001b[0;34m,\u001b[0m \u001b[0;34m**\u001b[0m\u001b[0mkwargs\u001b[0m\u001b[0;34m)\u001b[0m\u001b[0;34m\u001b[0m\u001b[0;34m\u001b[0m\u001b[0m\n",
       "\u001b[0;31mDocstring:\u001b[0m\n",
       "Visualization of a DataFrame using dtale.\n",
       "* df:     DataFrame to show\n",
       "* mask:   Binary mask of function to reduce the number of rows\n",
       "* error:  Error message\n",
       "* color:  Color of the error message.\n",
       "* kwargs: Options for dtale. See https://github.com/man-group/dtale#instance-settings\n",
       "          Caution: This will affect all grids in this notebook...\n",
       "dtale may not work in a multiscreen setting on windows.\n",
       "\n",
       "=== Examples ===\n",
       "grid(df)                        # show all rows\n",
       "grid(df,mask)                   # show with binary mask    \n",
       "grid(df,sample)                 # show with functionally mask\n",
       "\n",
       "=== For error indication after check_mask ===\n",
       "error = check_mask(df, mask, 900, stop=False)\n",
       "grid(df, mask, error) \n",
       "and later: raise_if(error)\n",
       "\u001b[0;31mFile:\u001b[0m      /media/me/DATA/Dropbox/31_Projekte/01_Python/git/pandasklar/src/pandasklar/develop.py\n",
       "\u001b[0;31mType:\u001b[0m      function\n"
      ]
     },
     "metadata": {},
     "output_type": "display_data"
    }
   ],
   "source": [
    "?grid"
   ]
  },
  {
   "cell_type": "code",
   "execution_count": 23,
   "id": "c6cb3af4-4aa1-47fa-8a47-1fad8ee88e32",
   "metadata": {},
   "outputs": [
    {
     "name": "stdout",
     "output_type": "stream",
     "text": [
      "100 rows\n"
     ]
    },
    {
     "data": {
      "text/html": [
       "\n",
       "        <iframe\n",
       "            width=\"100%\"\n",
       "            height=\"475\"\n",
       "            src=\"http://pop-os:40000/dtale/iframe/1\"\n",
       "            frameborder=\"0\"\n",
       "            allowfullscreen\n",
       "            \n",
       "        ></iframe>\n",
       "        "
      ],
      "text/plain": [
       "<IPython.lib.display.IFrame at 0x7f40a45d4f70>"
      ]
     },
     "metadata": {},
     "output_type": "display_data"
    },
    {
     "data": {
      "text/plain": []
     },
     "execution_count": 23,
     "metadata": {},
     "output_type": "execute_result"
    },
    {
     "name": "stdout",
     "output_type": "stream",
     "text": [
      "time: 295 ms (started: 2022-10-31 16:52:30 +01:00)\n"
     ]
    }
   ],
   "source": [
    "# show\n",
    "grid(df)"
   ]
  },
  {
   "cell_type": "markdown",
   "id": "245132da-e234-45a7-a548-1a6393b1e9c8",
   "metadata": {},
   "source": [
    "### grid(): Use mask"
   ]
  },
  {
   "cell_type": "code",
   "execution_count": 24,
   "id": "0bd9d46f-f5bb-4469-9286-a446ccbb39dd",
   "metadata": {},
   "outputs": [
    {
     "name": "stdout",
     "output_type": "stream",
     "text": [
      "7 rows out of 100\n"
     ]
    },
    {
     "data": {
      "text/html": [
       "\n",
       "        <iframe\n",
       "            width=\"100%\"\n",
       "            height=\"475\"\n",
       "            src=\"http://pop-os:40000/dtale/iframe/2\"\n",
       "            frameborder=\"0\"\n",
       "            allowfullscreen\n",
       "            \n",
       "        ></iframe>\n",
       "        "
      ],
      "text/plain": [
       "<IPython.lib.display.IFrame at 0x7f40a44159a0>"
      ]
     },
     "metadata": {},
     "output_type": "display_data"
    },
    {
     "data": {
      "text/plain": []
     },
     "execution_count": 24,
     "metadata": {},
     "output_type": "execute_result"
    },
    {
     "name": "stdout",
     "output_type": "stream",
     "text": [
      "time: 234 ms (started: 2022-10-31 16:52:31 +01:00)\n"
     ]
    }
   ],
   "source": [
    "# Function as mask\n",
    "grid(df, pak.sample)"
   ]
  },
  {
   "cell_type": "code",
   "execution_count": 25,
   "id": "0b171cd5-4a69-4d31-8c5f-cc5f34e6858f",
   "metadata": {},
   "outputs": [
    {
     "name": "stdout",
     "output_type": "stream",
     "text": [
      "88 rows out of 100\n"
     ]
    },
    {
     "data": {
      "text/html": [
       "\n",
       "        <iframe\n",
       "            width=\"100%\"\n",
       "            height=\"475\"\n",
       "            src=\"http://pop-os:40000/dtale/iframe/3\"\n",
       "            frameborder=\"0\"\n",
       "            allowfullscreen\n",
       "            \n",
       "        ></iframe>\n",
       "        "
      ],
      "text/plain": [
       "<IPython.lib.display.IFrame at 0x7f40a60c4c40>"
      ]
     },
     "metadata": {},
     "output_type": "display_data"
    },
    {
     "data": {
      "text/plain": []
     },
     "execution_count": 25,
     "metadata": {},
     "output_type": "execute_result"
    },
    {
     "name": "stdout",
     "output_type": "stream",
     "text": [
      "time: 110 ms (started: 2022-10-31 16:52:31 +01:00)\n"
     ]
    }
   ],
   "source": [
    "# Binary mask\n",
    "mask = df.age > 25\n",
    "grid(df, mask)"
   ]
  },
  {
   "cell_type": "markdown",
   "id": "a964fe1a-7ce2-4db5-aa90-07cd6553ad49",
   "metadata": {},
   "source": [
    "### grid() options\n",
    "Some grid options are global, e.g. max_column_width. If you set this option to a value later in your notebook, all grids in the notebook are rendered with this column_width. If you find a way to change this, send me a message."
   ]
  },
  {
   "cell_type": "code",
   "execution_count": 26,
   "id": "4f86a672-eb7a-4c56-9aa3-db24c758aca6",
   "metadata": {},
   "outputs": [
    {
     "name": "stdout",
     "output_type": "stream",
     "text": [
      "time: 34.9 ms (started: 2022-10-31 16:52:31 +01:00)\n"
     ]
    }
   ],
   "source": [
    "# global Settings\n",
    "pak.set_grid(max_column_width=200)"
   ]
  },
  {
   "cell_type": "code",
   "execution_count": 27,
   "id": "2a395033-f941-4ea4-bd9f-d99e1d3c0872",
   "metadata": {},
   "outputs": [
    {
     "name": "stdout",
     "output_type": "stream",
     "text": [
      "100 rows\n"
     ]
    },
    {
     "data": {
      "text/html": [
       "\n",
       "        <iframe\n",
       "            width=\"100%\"\n",
       "            height=\"475\"\n",
       "            src=\"http://pop-os:40000/dtale/iframe/4\"\n",
       "            frameborder=\"0\"\n",
       "            allowfullscreen\n",
       "            \n",
       "        ></iframe>\n",
       "        "
      ],
      "text/plain": [
       "<IPython.lib.display.IFrame at 0x7f40a4415760>"
      ]
     },
     "metadata": {},
     "output_type": "display_data"
    },
    {
     "data": {
      "text/plain": []
     },
     "execution_count": 27,
     "metadata": {},
     "output_type": "execute_result"
    },
    {
     "name": "stdout",
     "output_type": "stream",
     "text": [
      "time: 126 ms (started: 2022-10-31 16:52:31 +01:00)\n"
     ]
    }
   ],
   "source": [
    "# show \n",
    "grid(df)"
   ]
  },
  {
   "cell_type": "markdown",
   "id": "be02d79a-8dd7-4e54-8fe9-b89046e2022e",
   "metadata": {},
   "source": [
    "### grid(): Advanced Formating\n",
    "See options on https://github.com/man-group/dtale#instance-settings"
   ]
  },
  {
   "cell_type": "code",
   "execution_count": 28,
   "id": "afb14de4-e5ba-48a8-8615-4c9fdb617535",
   "metadata": {},
   "outputs": [
    {
     "name": "stdout",
     "output_type": "stream",
     "text": [
      "88 rows out of 100\n"
     ]
    },
    {
     "data": {
      "text/html": [
       "\n",
       "        <iframe\n",
       "            width=\"100%\"\n",
       "            height=\"475\"\n",
       "            src=\"http://pop-os:40000/dtale/iframe/5\"\n",
       "            frameborder=\"0\"\n",
       "            allowfullscreen\n",
       "            \n",
       "        ></iframe>\n",
       "        "
      ],
      "text/plain": [
       "<IPython.lib.display.IFrame at 0x7f40a45818e0>"
      ]
     },
     "metadata": {},
     "output_type": "display_data"
    },
    {
     "data": {
      "text/plain": []
     },
     "execution_count": 28,
     "metadata": {},
     "output_type": "execute_result"
    },
    {
     "name": "stdout",
     "output_type": "stream",
     "text": [
      "time: 144 ms (started: 2022-10-31 16:52:31 +01:00)\n"
     ]
    }
   ],
   "source": [
    "mask = df.age > 25\n",
    "grid(df, mask, sort=[('first_name','ASC')], background_mode='heatmap-col-age')\n",
    "#grid(df, mask, drop_index=True,)"
   ]
  },
  {
   "cell_type": "markdown",
   "id": "03d54916-78f9-4da1-ae3d-4acecfedb9f6",
   "metadata": {},
   "source": [
    "### grid(): Special cases"
   ]
  },
  {
   "cell_type": "code",
   "execution_count": 29,
   "id": "bf26d5b2-c670-4fe4-aed7-9d6a5231c96c",
   "metadata": {},
   "outputs": [
    {
     "name": "stdout",
     "output_type": "stream",
     "text": [
      "Nothing to show\n",
      "time: 42.7 ms (started: 2022-10-31 16:52:31 +01:00)\n"
     ]
    }
   ],
   "source": [
    "# No DataFrame\n",
    "grid(None)"
   ]
  },
  {
   "cell_type": "code",
   "execution_count": 30,
   "id": "7225ca3d-6e57-4d44-b0bc-0f2cdb985d55",
   "metadata": {},
   "outputs": [
    {
     "name": "stdout",
     "output_type": "stream",
     "text": [
      "No rows\n",
      "time: 33.2 ms (started: 2022-10-31 16:52:31 +01:00)\n"
     ]
    }
   ],
   "source": [
    "# Empty DataFrame\n",
    "d = pd.DataFrame()\n",
    "grid(d)"
   ]
  },
  {
   "cell_type": "code",
   "execution_count": 31,
   "id": "b2019ec2-84c5-4fa0-b764-faa01ec92447",
   "metadata": {},
   "outputs": [
    {
     "name": "stdout",
     "output_type": "stream",
     "text": [
      "No rows, mask filters them all away\n",
      "time: 65.6 ms (started: 2022-10-31 16:52:32 +01:00)\n"
     ]
    }
   ],
   "source": [
    "# 100% filtered \n",
    "mask = df.age > 1000\n",
    "grid(df,mask)"
   ]
  },
  {
   "cell_type": "code",
   "execution_count": 32,
   "id": "37d339e7-164b-43c3-8cff-5b9183afad87",
   "metadata": {},
   "outputs": [
    {
     "name": "stdout",
     "output_type": "stream",
     "text": [
      "No rows, mask filters them all away\n",
      "time: 58.8 ms (started: 2022-10-31 16:52:32 +01:00)\n"
     ]
    }
   ],
   "source": [
    "# 100% filtered, and this is good\n",
    "mask = df.age > 1000\n",
    "grid(df,mask, color='green')"
   ]
  },
  {
   "cell_type": "code",
   "execution_count": 33,
   "id": "94fabd0f-d568-48bd-a9f0-ace60646ab68",
   "metadata": {},
   "outputs": [
    {
     "name": "stdout",
     "output_type": "stream",
     "text": [
      "No rows, mask filters them all away\n",
      "time: 83.2 ms (started: 2022-10-31 16:52:32 +01:00)\n"
     ]
    }
   ],
   "source": [
    "# 100% filtered, and this is bad\n",
    "mask = df.age > 1000\n",
    "grid(df,mask, color='red')"
   ]
  },
  {
   "cell_type": "markdown",
   "id": "1067b294-87f2-43d2-8c8f-a5542ef1629c",
   "metadata": {},
   "source": [
    "### grid() & check_mask(): Show error rows and raise later"
   ]
  },
  {
   "cell_type": "code",
   "execution_count": 34,
   "id": "af8fa7b9-06cd-477a-9d61-c00396c2659f",
   "metadata": {},
   "outputs": [
    {
     "name": "stdout",
     "output_type": "stream",
     "text": [
      " 37 rows\n",
      "time: 50.1 ms (started: 2022-10-31 16:52:32 +01:00)\n"
     ]
    }
   ],
   "source": [
    "# define a mask that contains errors\n",
    "# say our error is df.birthplace == 'Hamburg',\n",
    "# we don't want that to happen,\n",
    "# but if it happens we would like to see the rows\n",
    "mask = df.birthplace == 'Hamburg'\n",
    "pak.check_mask(df,mask)"
   ]
  },
  {
   "cell_type": "code",
   "execution_count": 35,
   "id": "70ac89d9-b0d9-4a62-abcd-11925fecd2e1",
   "metadata": {},
   "outputs": [
    {
     "ename": "Exception",
     "evalue": "ERROR: 37 rows, but it should be a maximum of 0",
     "output_type": "error",
     "traceback": [
      "\u001b[0;31m---------------------------------------------------------------------------\u001b[0m",
      "\u001b[0;31mException\u001b[0m                                 Traceback (most recent call last)",
      "Cell \u001b[0;32mIn [35], line 3\u001b[0m\n\u001b[1;32m      1\u001b[0m \u001b[38;5;66;03m# checking for 0 raises an error, as we want.\u001b[39;00m\n\u001b[1;32m      2\u001b[0m \u001b[38;5;66;03m# But we don't see the rows affected\u001b[39;00m\n\u001b[0;32m----> 3\u001b[0m \u001b[43mpak\u001b[49m\u001b[38;5;241;43m.\u001b[39;49m\u001b[43mcheck_mask\u001b[49m\u001b[43m(\u001b[49m\u001b[43mdf\u001b[49m\u001b[43m,\u001b[49m\u001b[43mmask\u001b[49m\u001b[43m,\u001b[49m\u001b[43m \u001b[49m\u001b[38;5;241;43m0\u001b[39;49m\u001b[43m)\u001b[49m\n",
      "File \u001b[0;32m/media/me/DATA/Dropbox/31_Projekte/01_Python/git/pandasklar/src/pandasklar/develop.py:90\u001b[0m, in \u001b[0;36mcheck_mask\u001b[0;34m(df, mask, expectation_min, expectation_max, msg, stop, verbose)\u001b[0m\n\u001b[1;32m     88\u001b[0m         e_min \u001b[38;5;241m=\u001b[39m \u001b[38;5;28mint\u001b[39m(expectation_min \u001b[38;5;241m*\u001b[39m \u001b[38;5;241m0.5\u001b[39m) \u001b[38;5;66;03m# Verdoppelung oder Halbierung wird toleriert\u001b[39;00m\n\u001b[1;32m     89\u001b[0m         e_max \u001b[38;5;241m=\u001b[39m \u001b[38;5;28mint\u001b[39m(expectation_min \u001b[38;5;241m*\u001b[39m \u001b[38;5;241m2.0\u001b[39m) \u001b[38;5;241m+\u001b[39m \u001b[38;5;241m1\u001b[39m        \n\u001b[0;32m---> 90\u001b[0m     \u001b[38;5;28;01mreturn\u001b[39;00m \u001b[43mcheck_mask\u001b[49m\u001b[43m(\u001b[49m\u001b[43mdf\u001b[49m\u001b[43m,\u001b[49m\u001b[43m \u001b[49m\u001b[43mmask\u001b[49m\u001b[43m,\u001b[49m\u001b[43m \u001b[49m\u001b[43me_min\u001b[49m\u001b[43m,\u001b[49m\u001b[43m \u001b[49m\u001b[43me_max\u001b[49m\u001b[43m,\u001b[49m\u001b[43m \u001b[49m\u001b[43mmsg\u001b[49m\u001b[38;5;241;43m=\u001b[39;49m\u001b[43mmsg\u001b[49m\u001b[43m,\u001b[49m\u001b[43m \u001b[49m\u001b[43mstop\u001b[49m\u001b[38;5;241;43m=\u001b[39;49m\u001b[43mstop\u001b[49m\u001b[43m,\u001b[49m\u001b[43m \u001b[49m\u001b[43mverbose\u001b[49m\u001b[38;5;241;43m=\u001b[39;49m\u001b[43mverbose\u001b[49m\u001b[43m)\u001b[49m \n\u001b[1;32m     92\u001b[0m \u001b[38;5;28;01mif\u001b[39;00m \u001b[38;5;28mtype\u001b[39m(mask) \u001b[38;5;241m==\u001b[39m pd\u001b[38;5;241m.\u001b[39mSeries   \u001b[38;5;129;01mor\u001b[39;00m   \u001b[38;5;28mtype\u001b[39m(mask) \u001b[38;5;241m==\u001b[39m np\u001b[38;5;241m.\u001b[39mndarray:\n\u001b[1;32m     93\u001b[0m     anz_ds \u001b[38;5;241m=\u001b[39m df[mask]\u001b[38;5;241m.\u001b[39mshape[\u001b[38;5;241m0\u001b[39m]\n",
      "File \u001b[0;32m/media/me/DATA/Dropbox/31_Projekte/01_Python/git/pandasklar/src/pandasklar/develop.py:118\u001b[0m, in \u001b[0;36mcheck_mask\u001b[0;34m(df, mask, expectation_min, expectation_max, msg, stop, verbose)\u001b[0m\n\u001b[1;32m    116\u001b[0m \u001b[38;5;28;01mif\u001b[39;00m (anz_ds \u001b[38;5;241m>\u001b[39m expectation_max)  \u001b[38;5;129;01mor\u001b[39;00m (anz_ds \u001b[38;5;241m<\u001b[39m expectation_min):\n\u001b[1;32m    117\u001b[0m     \u001b[38;5;28;01mif\u001b[39;00m stop:\n\u001b[0;32m--> 118\u001b[0m         \u001b[38;5;28;01mraise\u001b[39;00m \u001b[38;5;167;01mException\u001b[39;00m(  (msg \u001b[38;5;241m+\u001b[39m error)\u001b[38;5;241m.\u001b[39mstrip()  )\n\u001b[1;32m    120\u001b[0m     \u001b[38;5;28;01melse\u001b[39;00m:\n\u001b[1;32m    121\u001b[0m         print_red(   (msg \u001b[38;5;241m+\u001b[39m error)\u001b[38;5;241m.\u001b[39mstrip()  )\n",
      "\u001b[0;31mException\u001b[0m: ERROR: 37 rows, but it should be a maximum of 0"
     ]
    },
    {
     "name": "stdout",
     "output_type": "stream",
     "text": [
      "time: 730 ms (started: 2022-10-31 16:52:32 +01:00)\n"
     ]
    }
   ],
   "source": [
    "# checking for 0 raises an error, as we want.\n",
    "# But we don't see the rows affected\n",
    "pak.check_mask(df,mask, 0)"
   ]
  },
  {
   "cell_type": "code",
   "execution_count": 36,
   "id": "14fdc7e8-cd11-4a4c-a2f7-12673a19c562",
   "metadata": {},
   "outputs": [
    {
     "name": "stdout",
     "output_type": "stream",
     "text": [
      "ERROR: 37 rows, but it should be a maximum of 0\n",
      "37 rows out of 100\n"
     ]
    },
    {
     "data": {
      "text/html": [
       "\n",
       "        <iframe\n",
       "            width=\"100%\"\n",
       "            height=\"475\"\n",
       "            src=\"http://pop-os:40000/dtale/iframe/6\"\n",
       "            frameborder=\"0\"\n",
       "            allowfullscreen\n",
       "            \n",
       "        ></iframe>\n",
       "        "
      ],
      "text/plain": [
       "<IPython.lib.display.IFrame at 0x7f40a44135b0>"
      ]
     },
     "metadata": {},
     "output_type": "display_data"
    },
    {
     "data": {
      "text/plain": []
     },
     "execution_count": 36,
     "metadata": {},
     "output_type": "execute_result"
    },
    {
     "name": "stdout",
     "output_type": "stream",
     "text": [
      "time: 94.8 ms (started: 2022-10-31 16:53:23 +01:00)\n"
     ]
    }
   ],
   "source": [
    "# so we use this to show the error rows first\n",
    "error = pak.check_mask(df,mask, 0, stop=False)\n",
    "grid(df, mask, error) "
   ]
  },
  {
   "cell_type": "code",
   "execution_count": 37,
   "id": "90e49181-c1c9-4c78-97c3-c3271321ba64",
   "metadata": {},
   "outputs": [
    {
     "ename": "Exception",
     "evalue": "ERROR: 37 rows, but it should be a maximum of 0",
     "output_type": "error",
     "traceback": [
      "\u001b[0;31m---------------------------------------------------------------------------\u001b[0m",
      "\u001b[0;31mException\u001b[0m                                 Traceback (most recent call last)",
      "Cell \u001b[0;32mIn [37], line 2\u001b[0m\n\u001b[1;32m      1\u001b[0m \u001b[38;5;66;03m# and raise later\u001b[39;00m\n\u001b[0;32m----> 2\u001b[0m \u001b[43mbpy\u001b[49m\u001b[38;5;241;43m.\u001b[39;49m\u001b[43mraise_if\u001b[49m\u001b[43m(\u001b[49m\u001b[43merror\u001b[49m\u001b[43m)\u001b[49m\n",
      "File \u001b[0;32m/media/me/DATA/Dropbox/31_Projekte/01_Python/git/bpyth/src/bpyth/bpyth_tools.py:41\u001b[0m, in \u001b[0;36mraise_if\u001b[0;34m(error)\u001b[0m\n\u001b[1;32m     38\u001b[0m \u001b[38;5;28;01mdef\u001b[39;00m \u001b[38;5;21mraise_if\u001b[39m(error):\n\u001b[1;32m     39\u001b[0m \u001b[38;5;66;03m# ---------------------------------------------------------------------------------------------       \u001b[39;00m\n\u001b[1;32m     40\u001b[0m     \u001b[38;5;28;01mif\u001b[39;00m error:\n\u001b[0;32m---> 41\u001b[0m         \u001b[38;5;28;01mraise\u001b[39;00m \u001b[38;5;167;01mException\u001b[39;00m(error)\n",
      "\u001b[0;31mException\u001b[0m: ERROR: 37 rows, but it should be a maximum of 0"
     ]
    },
    {
     "name": "stdout",
     "output_type": "stream",
     "text": [
      "time: 102 ms (started: 2022-10-31 16:53:27 +01:00)\n",
      "Executing shutdown due to inactivity...\n"
     ]
    },
    {
     "name": "stderr",
     "output_type": "stream",
     "text": [
      "2022-10-31 17:53:24,356 - INFO     - Executing shutdown due to inactivity...\n"
     ]
    },
    {
     "name": "stdout",
     "output_type": "stream",
     "text": [
      "Executing shutdown...\n"
     ]
    },
    {
     "name": "stderr",
     "output_type": "stream",
     "text": [
      "2022-10-31 17:53:24,368 - INFO     - Executing shutdown...\n"
     ]
    },
    {
     "name": "stdout",
     "output_type": "stream",
     "text": [
      "Exception on /shutdown [GET]\n",
      "Traceback (most recent call last):\n",
      "  File \"/home/me/mambaforge/envs/plain_01/lib/python3.9/site-packages/flask/app.py\", line 2525, in wsgi_app\n",
      "    response = self.full_dispatch_request()\n",
      "  File \"/home/me/mambaforge/envs/plain_01/lib/python3.9/site-packages/flask/app.py\", line 1822, in full_dispatch_request\n",
      "    rv = self.handle_user_exception(e)\n",
      "  File \"/home/me/mambaforge/envs/plain_01/lib/python3.9/site-packages/flask/app.py\", line 1820, in full_dispatch_request\n",
      "    rv = self.dispatch_request()\n",
      "  File \"/home/me/mambaforge/envs/plain_01/lib/python3.9/site-packages/flask/app.py\", line 1796, in dispatch_request\n",
      "    return self.ensure_sync(self.view_functions[rule.endpoint])(**view_args)\n",
      "  File \"/home/me/mambaforge/envs/plain_01/lib/python3.9/site-packages/dtale/app.py\", line 435, in shutdown\n",
      "    shutdown_server()\n",
      "  File \"/home/me/mambaforge/envs/plain_01/lib/python3.9/site-packages/dtale/app.py\", line 421, in shutdown_server\n",
      "    raise RuntimeError(\"Not running with the Werkzeug Server\")\n",
      "RuntimeError: Not running with the Werkzeug Server\n"
     ]
    },
    {
     "name": "stderr",
     "output_type": "stream",
     "text": [
      "2022-10-31 17:53:24,372 - ERROR    - Exception on /shutdown [GET]\n",
      "Traceback (most recent call last):\n",
      "  File \"/home/me/mambaforge/envs/plain_01/lib/python3.9/site-packages/flask/app.py\", line 2525, in wsgi_app\n",
      "    response = self.full_dispatch_request()\n",
      "  File \"/home/me/mambaforge/envs/plain_01/lib/python3.9/site-packages/flask/app.py\", line 1822, in full_dispatch_request\n",
      "    rv = self.handle_user_exception(e)\n",
      "  File \"/home/me/mambaforge/envs/plain_01/lib/python3.9/site-packages/flask/app.py\", line 1820, in full_dispatch_request\n",
      "    rv = self.dispatch_request()\n",
      "  File \"/home/me/mambaforge/envs/plain_01/lib/python3.9/site-packages/flask/app.py\", line 1796, in dispatch_request\n",
      "    return self.ensure_sync(self.view_functions[rule.endpoint])(**view_args)\n",
      "  File \"/home/me/mambaforge/envs/plain_01/lib/python3.9/site-packages/dtale/app.py\", line 435, in shutdown\n",
      "    shutdown_server()\n",
      "  File \"/home/me/mambaforge/envs/plain_01/lib/python3.9/site-packages/dtale/app.py\", line 421, in shutdown_server\n",
      "    raise RuntimeError(\"Not running with the Werkzeug Server\")\n",
      "RuntimeError: Not running with the Werkzeug Server\n"
     ]
    }
   ],
   "source": [
    "# and raise later\n",
    "bpy.raise_if(error)"
   ]
  }
 ],
 "metadata": {
  "kernelspec": {
   "display_name": "Python 3 (ipykernel)",
   "language": "python",
   "name": "python3"
  },
  "language_info": {
   "codemirror_mode": {
    "name": "ipython",
    "version": 3
   },
   "file_extension": ".py",
   "mimetype": "text/x-python",
   "name": "python",
   "nbconvert_exporter": "python",
   "pygments_lexer": "ipython3",
   "version": "3.9.13"
  }
 },
 "nbformat": 4,
 "nbformat_minor": 5
}
