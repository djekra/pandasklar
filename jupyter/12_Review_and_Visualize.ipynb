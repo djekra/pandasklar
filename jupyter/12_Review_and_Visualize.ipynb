{
 "cells": [
  {
   "cell_type": "markdown",
   "id": "c7e3c6d1-83ae-4244-b0f0-b454ef69ab6a",
   "metadata": {},
   "source": [
    "__[Open and try this file online (Colab)](https://colab.research.google.com/github/djekra/pandasklar/blob/master/jupyter/12_Review_and_Visualize.ipynb)__"
   ]
  },
  {
   "cell_type": "markdown",
   "id": "d18ad909-2564-4262-bdcd-2eb7400759b0",
   "metadata": {},
   "source": [
    "# Review and visualize\n",
    "Review and visualize data that meets your criteria. <br>\n",
    "This notebook raises errors for demonstration purpose.\n",
    "* `plot`: Easier plot\n",
    "* `check_mask`: Count rows filtered by a binary mask. Raises an error, if the number is unexpected.\n",
    "* `specials`: Returns rows representing all special values per column.\n",
    "* `sample`: Returns some sample rows: beginning + end + specials + random rows.\n",
    "* `search_str`: Searches all str columns of a dataframe. Useful for development and debugging.\n",
    "* `grid`: Visualize with dtale.\n",
    "* `memory_consumption`: Returns the memory consumption of Python objects."
   ]
  },
  {
   "cell_type": "code",
   "execution_count": 1,
   "id": "773dd654-0638-4337-b8ff-3f82d2e02965",
   "metadata": {
    "execution": {
     "iopub.execute_input": "2023-04-10T19:39:15.034907Z",
     "iopub.status.busy": "2023-04-10T19:39:15.034108Z",
     "iopub.status.idle": "2023-04-10T19:39:15.820811Z",
     "shell.execute_reply": "2023-04-10T19:39:15.820183Z",
     "shell.execute_reply.started": "2023-04-10T19:39:15.034860Z"
    }
   },
   "outputs": [
    {
     "name": "stdout",
     "output_type": "stream",
     "text": [
      "blab init\n",
      "environment['in_colab']     = False\n",
      "environment['dropbox_path'] = /home/me/Data_Linux/Dropbox\n",
      "environment['lib_path']     = /home/me/Data_Linux/Dropbox/31_Projekte/01_Python/libs\n",
      "Start Time: 21:39:15\n"
     ]
    },
    {
     "data": {
      "text/html": [
       "<img src onerror=\"var cell = this.closest('.jp-CodeCell');var editor = cell.querySelector('.jp-Editor');editor.style.background='Beige';this.parentNode.removeChild(this)\">"
      ],
      "text/plain": [
       "<IPython.core.display.HTML object>"
      ]
     },
     "metadata": {},
     "output_type": "display_data"
    }
   ],
   "source": [
    "# blab init\n",
    "try:\n",
    "    import blab\n",
    "except ImportError as e:\n",
    "    !pip install blab\n",
    "    import blab    \n",
    "startup_notebook = blab.blab_startup()\n",
    "%run $startup_notebook "
   ]
  },
  {
   "cell_type": "code",
   "execution_count": 2,
   "id": "e673e212-8641-4846-9aa0-3c50199c3df0",
   "metadata": {
    "execution": {
     "iopub.execute_input": "2023-04-10T19:39:15.823961Z",
     "iopub.status.busy": "2023-04-10T19:39:15.823296Z",
     "iopub.status.idle": "2023-04-10T19:39:17.434078Z",
     "shell.execute_reply": "2023-04-10T19:39:17.433241Z",
     "shell.execute_reply.started": "2023-04-10T19:39:15.823926Z"
    }
   },
   "outputs": [
    {
     "name": "stdout",
     "output_type": "stream",
     "text": [
      "VERBOSE = True\n",
      "--> setting verbose=True as default for all pandasklar functions\n",
      "\n"
     ]
    }
   ],
   "source": [
    "import numpy      as np\n",
    "import pandas     as pd \n",
    "#import bpyth      as bpy\n",
    "\n",
    "# pandasklar\n",
    "try:\n",
    "    import pandasklar as pak \n",
    "except ImportError as e:\n",
    "    !pip install pandasklar\n",
    "    import pandasklar as pak   \n",
    "    \n",
    "# verbose\n",
    "pak.Config.set('VERBOSE', True)\n",
    "\n",
    "grid = pak.grid\n",
    "\n",
    "# copy_on_write\n",
    "pd.set_option(\"mode.copy_on_write\", True)"
   ]
  },
  {
   "cell_type": "markdown",
   "id": "231eb1e2-6ab3-414c-b258-532a1641b9d2",
   "metadata": {},
   "source": [
    "## plot(): Easier plot"
   ]
  },
  {
   "cell_type": "code",
   "execution_count": 3,
   "id": "c8db5b4d-d6a0-48a2-8bda-cdff9c2b6995",
   "metadata": {
    "execution": {
     "iopub.execute_input": "2023-04-10T19:39:17.435476Z",
     "iopub.status.busy": "2023-04-10T19:39:17.434849Z",
     "iopub.status.idle": "2023-04-10T19:39:17.483781Z",
     "shell.execute_reply": "2023-04-10T19:39:17.480835Z",
     "shell.execute_reply.started": "2023-04-10T19:39:17.435442Z"
    }
   },
   "outputs": [
    {
     "name": "stdout",
     "output_type": "stream",
     "text": [
      "<class 'IPython.core.display.Markdown'>\n"
     ]
    },
    {
     "data": {
      "text/markdown": [
       "<span style=\"font-size:larger;\">plot(data, x=None, secondary_y=False, ylabel=None, subplots=False, figsize=None, inaccurate_limit=10000, **kwargs):</span>\n",
       "\n",
       "Plots data. All parameters are passed to pandas.DataFrame.plot, but \n",
       "* data:             The data to plot. DataFrame, or list of Series, or any other data \n",
       "                    which can be converted to DataFrame by the pandasklar dataframe function.\n",
       "                    Non-numeric columns are ignored (even for column positions). \n",
       "* x:                Which column to be used as x-axis. Column name or column position.\n",
       "                    x=None -> The index is used as x.   \n",
       "* secondary_y:      Which columns to plot on the secondary y-axis. \n",
       "                    Column name, column position or list of column names.\n",
       "* figsize:          Size of a figure object. Default is (16,3) or (16,4), depending on the data.\n",
       "* inaccurate_limit: From what size should the data be thinned randomly.\n",
       "                    Uses pandasklars sample function, so minimums and maximums are kept.     "
      ],
      "text/plain": [
       "<IPython.core.display.Markdown object>"
      ]
     },
     "metadata": {},
     "output_type": "display_data"
    }
   ],
   "source": [
    "blab.help(pak.plot)"
   ]
  },
  {
   "cell_type": "code",
   "execution_count": 4,
   "id": "b442d125-0fc0-425d-935c-96ced9682a0a",
   "metadata": {
    "execution": {
     "iopub.execute_input": "2023-04-10T19:39:17.487539Z",
     "iopub.status.busy": "2023-04-10T19:39:17.487024Z",
     "iopub.status.idle": "2023-04-10T19:39:17.720399Z",
     "shell.execute_reply": "2023-04-10T19:39:17.719261Z",
     "shell.execute_reply.started": "2023-04-10T19:39:17.487509Z"
    }
   },
   "outputs": [
    {
     "data": {
      "text/html": [
       "<div>\n",
       "<style scoped>\n",
       "    .dataframe tbody tr th:only-of-type {\n",
       "        vertical-align: middle;\n",
       "    }\n",
       "\n",
       "    .dataframe tbody tr th {\n",
       "        vertical-align: top;\n",
       "    }\n",
       "\n",
       "    .dataframe thead th {\n",
       "        text-align: right;\n",
       "    }\n",
       "</style>\n",
       "<table border=\"1\" class=\"dataframe\">\n",
       "  <thead>\n",
       "    <tr style=\"text-align: right;\">\n",
       "      <th></th>\n",
       "      <th>A</th>\n",
       "      <th>B</th>\n",
       "      <th>C</th>\n",
       "      <th>D</th>\n",
       "      <th>E</th>\n",
       "      <th>F</th>\n",
       "      <th>G</th>\n",
       "    </tr>\n",
       "  </thead>\n",
       "  <tbody>\n",
       "    <tr>\n",
       "      <th>0</th>\n",
       "      <td>0.000000</td>\n",
       "      <td>0.000000</td>\n",
       "      <td>1.000000</td>\n",
       "      <td>1.000000</td>\n",
       "      <td>0.000000</td>\n",
       "      <td>0.000000</td>\n",
       "      <td>0.000000</td>\n",
       "    </tr>\n",
       "    <tr>\n",
       "      <th>21</th>\n",
       "      <td>0.590604</td>\n",
       "      <td>0.533595</td>\n",
       "      <td>0.651209</td>\n",
       "      <td>0.697705</td>\n",
       "      <td>1.000000</td>\n",
       "      <td>0.679380</td>\n",
       "      <td>-0.000095</td>\n",
       "    </tr>\n",
       "    <tr>\n",
       "      <th>56</th>\n",
       "      <td>0.752862</td>\n",
       "      <td>0.775496</td>\n",
       "      <td>0.381878</td>\n",
       "      <td>0.543148</td>\n",
       "      <td>-0.156283</td>\n",
       "      <td>-0.130866</td>\n",
       "      <td>-0.929099</td>\n",
       "    </tr>\n",
       "    <tr>\n",
       "      <th>59</th>\n",
       "      <td>0.752930</td>\n",
       "      <td>0.778161</td>\n",
       "      <td>0.364205</td>\n",
       "      <td>0.542662</td>\n",
       "      <td>-0.138628</td>\n",
       "      <td>0.218993</td>\n",
       "      <td>-1.000000</td>\n",
       "    </tr>\n",
       "    <tr>\n",
       "      <th>72</th>\n",
       "      <td>0.792855</td>\n",
       "      <td>0.779435</td>\n",
       "      <td>0.286938</td>\n",
       "      <td>0.532270</td>\n",
       "      <td>0.238913</td>\n",
       "      <td>1.000000</td>\n",
       "      <td>-0.402363</td>\n",
       "    </tr>\n",
       "    <tr>\n",
       "      <th>78</th>\n",
       "      <td>0.834260</td>\n",
       "      <td>0.804211</td>\n",
       "      <td>0.267676</td>\n",
       "      <td>0.526151</td>\n",
       "      <td>0.399166</td>\n",
       "      <td>-0.668263</td>\n",
       "      <td>-0.376844</td>\n",
       "    </tr>\n",
       "    <tr>\n",
       "      <th>94</th>\n",
       "      <td>0.964284</td>\n",
       "      <td>0.969231</td>\n",
       "      <td>0.070339</td>\n",
       "      <td>0.089953</td>\n",
       "      <td>0.223012</td>\n",
       "      <td>0.116285</td>\n",
       "      <td>0.523375</td>\n",
       "    </tr>\n",
       "    <tr>\n",
       "      <th>99</th>\n",
       "      <td>1.000000</td>\n",
       "      <td>1.000000</td>\n",
       "      <td>0.000000</td>\n",
       "      <td>0.000000</td>\n",
       "      <td>0.038391</td>\n",
       "      <td>0.148469</td>\n",
       "      <td>0.177321</td>\n",
       "    </tr>\n",
       "  </tbody>\n",
       "</table>\n",
       "</div>"
      ],
      "text/plain": [
       "           A         B         C         D         E         F         G\n",
       "0   0.000000  0.000000  1.000000  1.000000  0.000000  0.000000  0.000000\n",
       "21  0.590604  0.533595  0.651209  0.697705  1.000000  0.679380 -0.000095\n",
       "56  0.752862  0.775496  0.381878  0.543148 -0.156283 -0.130866 -0.929099\n",
       "59  0.752930  0.778161  0.364205  0.542662 -0.138628  0.218993 -1.000000\n",
       "72  0.792855  0.779435  0.286938  0.532270  0.238913  1.000000 -0.402363\n",
       "78  0.834260  0.804211  0.267676  0.526151  0.399166 -0.668263 -0.376844\n",
       "94  0.964284  0.969231  0.070339  0.089953  0.223012  0.116285  0.523375\n",
       "99  1.000000  1.000000  0.000000  0.000000  0.038391  0.148469  0.177321"
      ]
     },
     "execution_count": 4,
     "metadata": {},
     "output_type": "execute_result"
    }
   ],
   "source": [
    "# Several types of random numbers, with parameters\n",
    "size = 100\n",
    "a = pak.random_series( size, 'ascending'                    )\n",
    "b = pak.random_series( size, 'ascending'                    )\n",
    "c = pak.random_series( size, 'descending'                   )\n",
    "d = pak.random_series( size, 'descending'                   )\n",
    "e = pak.random_series( size, 'perlin',     freq=2           )\n",
    "f = pak.random_series( size, 'perlin',     freq=[16,1,8,1]  )\n",
    "g = pak.random_series( size, 'perlin',     freq=[4,1,8,128] )\n",
    "\n",
    "df = pak.dataframe( (a,b,c,d,e,f,g), verbose=False )\n",
    "pak.sample(df)"
   ]
  },
  {
   "cell_type": "code",
   "execution_count": 5,
   "id": "a937d047-3b63-4091-9fef-a6ba38b04f20",
   "metadata": {
    "execution": {
     "iopub.execute_input": "2023-04-10T19:39:17.725011Z",
     "iopub.status.busy": "2023-04-10T19:39:17.724529Z",
     "iopub.status.idle": "2023-04-10T19:39:18.393143Z",
     "shell.execute_reply": "2023-04-10T19:39:18.391934Z",
     "shell.execute_reply.started": "2023-04-10T19:39:17.724978Z"
    }
   },
   "outputs": [
    {
     "data": {
      "text/plain": [
       "<AxesSubplot: >"
      ]
     },
     "execution_count": 5,
     "metadata": {},
     "output_type": "execute_result"
    },
    {
     "data": {
      "image/png": "[encoded data removed]",
      "text/plain": [
       "<Figure size 1600x400 with 1 Axes>"
      ]
     },
     "metadata": {},
     "output_type": "display_data"
    }
   ],
   "source": [
    "# just plot all together\n",
    "%matplotlib inline\n",
    "pak.plot(df)"
   ]
  },
  {
   "cell_type": "code",
   "execution_count": 6,
   "id": "f4f33ae6-f4cf-4a76-a7b9-7607ac9e06ab",
   "metadata": {
    "execution": {
     "iopub.execute_input": "2023-04-10T19:39:18.396301Z",
     "iopub.status.busy": "2023-04-10T19:39:18.395127Z",
     "iopub.status.idle": "2023-04-10T19:39:18.701966Z",
     "shell.execute_reply": "2023-04-10T19:39:18.701396Z",
     "shell.execute_reply.started": "2023-04-10T19:39:18.396260Z"
    }
   },
   "outputs": [
    {
     "data": {
      "text/plain": [
       "<AxesSubplot: xlabel='G'>"
      ]
     },
     "execution_count": 6,
     "metadata": {},
     "output_type": "execute_result"
    },
    {
     "data": {
      "image/png": "[encoded data removed]",
      "text/plain": [
       "<Figure size 1600x300 with 1 Axes>"
      ]
     },
     "metadata": {},
     "output_type": "display_data"
    }
   ],
   "source": [
    "# plot 2 Series, use different y-axis\n",
    "%matplotlib inline\n",
    "pak.plot(df.A, df.G)"
   ]
  },
  {
   "cell_type": "code",
   "execution_count": 7,
   "id": "2b80b619-f306-41d8-b545-3728c559e602",
   "metadata": {
    "execution": {
     "iopub.execute_input": "2023-04-10T19:39:18.703449Z",
     "iopub.status.busy": "2023-04-10T19:39:18.703002Z",
     "iopub.status.idle": "2023-04-10T19:39:18.960877Z",
     "shell.execute_reply": "2023-04-10T19:39:18.960246Z",
     "shell.execute_reply.started": "2023-04-10T19:39:18.703425Z"
    }
   },
   "outputs": [
    {
     "data": {
      "text/plain": [
       "<AxesSubplot: >"
      ]
     },
     "execution_count": 7,
     "metadata": {},
     "output_type": "execute_result"
    },
    {
     "data": {
      "image/png": "[encoded data removed]",
      "text/plain": [
       "<Figure size 1600x300 with 1 Axes>"
      ]
     },
     "metadata": {},
     "output_type": "display_data"
    }
   ],
   "source": [
    "# plot E (Perlin) and A (ascending)\n",
    "%matplotlib inline \n",
    "pak.plot(df[list('AE')])"
   ]
  },
  {
   "cell_type": "code",
   "execution_count": 8,
   "id": "2530f3a8-ffd2-429f-975c-b9e7622b1d4e",
   "metadata": {
    "execution": {
     "iopub.execute_input": "2023-04-10T19:39:18.967176Z",
     "iopub.status.busy": "2023-04-10T19:39:18.964362Z",
     "iopub.status.idle": "2023-04-10T19:39:19.253732Z",
     "shell.execute_reply": "2023-04-10T19:39:19.252807Z",
     "shell.execute_reply.started": "2023-04-10T19:39:18.967129Z"
    }
   },
   "outputs": [
    {
     "data": {
      "text/plain": [
       "<AxesSubplot: xlabel='A'>"
      ]
     },
     "execution_count": 8,
     "metadata": {},
     "output_type": "execute_result"
    },
    {
     "data": {
      "image/png": "[encoded data removed]",
      "text/plain": [
       "<Figure size 1600x300 with 1 Axes>"
      ]
     },
     "metadata": {},
     "output_type": "display_data"
    }
   ],
   "source": [
    "# plot E using A as x-Axis\n",
    "%matplotlib inline \n",
    "pak.plot(df[list('AE')], x='A')"
   ]
  },
  {
   "cell_type": "markdown",
   "id": "0dab7d17-79d0-445a-aae1-bd9589423675",
   "metadata": {},
   "source": [
    "## specials(): Rows representing all special values per column"
   ]
  },
  {
   "cell_type": "code",
   "execution_count": 9,
   "id": "95583a9e-f176-41c8-a69b-ff9c943d9f23",
   "metadata": {
    "execution": {
     "iopub.execute_input": "2023-04-10T19:39:19.261336Z",
     "iopub.status.busy": "2023-04-10T19:39:19.258340Z",
     "iopub.status.idle": "2023-04-10T19:39:19.343104Z",
     "shell.execute_reply": "2023-04-10T19:39:19.342294Z",
     "shell.execute_reply.started": "2023-04-10T19:39:19.261284Z"
    }
   },
   "outputs": [
    {
     "data": {
      "text/plain": [
       "\u001b[0;31mSignature:\u001b[0m\n",
       "\u001b[0mpak\u001b[0m\u001b[0;34m.\u001b[0m\u001b[0mspecials\u001b[0m\u001b[0;34m(\u001b[0m\u001b[0;34m\u001b[0m\n",
       "\u001b[0;34m\u001b[0m    \u001b[0mdf\u001b[0m\u001b[0;34m,\u001b[0m\u001b[0;34m\u001b[0m\n",
       "\u001b[0;34m\u001b[0m    \u001b[0mfind\u001b[0m\u001b[0;34m=\u001b[0m\u001b[0;34m[\u001b[0m\u001b[0;34m'head'\u001b[0m\u001b[0;34m,\u001b[0m \u001b[0;34m'first'\u001b[0m\u001b[0;34m,\u001b[0m \u001b[0;34m'min'\u001b[0m\u001b[0;34m,\u001b[0m \u001b[0;34m'most'\u001b[0m\u001b[0;34m,\u001b[0m \u001b[0;34m'max'\u001b[0m\u001b[0;34m,\u001b[0m \u001b[0;34m'nan'\u001b[0m\u001b[0;34m,\u001b[0m \u001b[0;34m'last'\u001b[0m\u001b[0;34m,\u001b[0m \u001b[0;34m'tail'\u001b[0m\u001b[0;34m]\u001b[0m\u001b[0;34m,\u001b[0m\u001b[0;34m\u001b[0m\n",
       "\u001b[0;34m\u001b[0m    \u001b[0mindicator\u001b[0m\u001b[0;34m=\u001b[0m\u001b[0;32mNone\u001b[0m\u001b[0;34m,\u001b[0m\u001b[0;34m\u001b[0m\n",
       "\u001b[0;34m\u001b[0m    \u001b[0msort\u001b[0m\u001b[0;34m=\u001b[0m\u001b[0;34m'index'\u001b[0m\u001b[0;34m,\u001b[0m\u001b[0;34m\u001b[0m\n",
       "\u001b[0;34m\u001b[0m\u001b[0;34m)\u001b[0m\u001b[0;34m\u001b[0m\u001b[0;34m\u001b[0m\u001b[0m\n",
       "\u001b[0;31mDocstring:\u001b[0m\n",
       "Returns rows representing all special values per column.\n",
       "The resulting dataframe has the same minimums and maximums per column as the input dataframe, \n",
       "and if a column in the input contains NaNs the result will contain NaNs as well.\n",
       "* find: List of what values are searched. \n",
       "  Possible values: 'head','first','min','most','max','nan','last','tail'\n",
       "* indicator: Show additional column with a note, why the row is in the result\n",
       "\u001b[0;31mFile:\u001b[0m      ~/Data_Linux/Dropbox/31_Projekte/01_Python/git/pandasklar/src/pandasklar/subsets.py\n",
       "\u001b[0;31mType:\u001b[0m      function\n"
      ]
     },
     "metadata": {},
     "output_type": "display_data"
    }
   ],
   "source": [
    "?pak.specials"
   ]
  },
  {
   "cell_type": "code",
   "execution_count": 10,
   "id": "89b18ca9-1a49-49c8-826c-81b092c625cb",
   "metadata": {
    "execution": {
     "iopub.execute_input": "2023-04-10T19:39:19.350095Z",
     "iopub.status.busy": "2023-04-10T19:39:19.349761Z",
     "iopub.status.idle": "2023-04-10T19:39:20.475221Z",
     "shell.execute_reply": "2023-04-10T19:39:20.474469Z",
     "shell.execute_reply.started": "2023-04-10T19:39:19.350063Z"
    }
   },
   "outputs": [],
   "source": [
    "# create test data\n",
    "\n",
    "size = 10000 #00\n",
    "df6 = pak.people(size)\n",
    "df5 = df6.head(int(size/10))\n",
    "df4 = df6.head(int(size/100))\n",
    "df3 = df6.head(int(size/1000))"
   ]
  },
  {
   "cell_type": "code",
   "execution_count": 11,
   "id": "8726a053-9824-495e-9c64-ec0f467fd20d",
   "metadata": {
    "execution": {
     "iopub.execute_input": "2023-04-10T19:39:20.479745Z",
     "iopub.status.busy": "2023-04-10T19:39:20.479120Z",
     "iopub.status.idle": "2023-04-10T19:39:20.828054Z",
     "shell.execute_reply": "2023-04-10T19:39:20.827348Z",
     "shell.execute_reply.started": "2023-04-10T19:39:20.479710Z"
    }
   },
   "outputs": [
    {
     "data": {
      "text/html": [
       "<div>\n",
       "<style scoped>\n",
       "    .dataframe tbody tr th:only-of-type {\n",
       "        vertical-align: middle;\n",
       "    }\n",
       "\n",
       "    .dataframe tbody tr th {\n",
       "        vertical-align: top;\n",
       "    }\n",
       "\n",
       "    .dataframe thead th {\n",
       "        text-align: right;\n",
       "    }\n",
       "</style>\n",
       "<table border=\"1\" class=\"dataframe\">\n",
       "  <thead>\n",
       "    <tr style=\"text-align: right;\">\n",
       "      <th></th>\n",
       "      <th>first_name</th>\n",
       "      <th>age</th>\n",
       "      <th>age_class</th>\n",
       "      <th>postal_code</th>\n",
       "      <th>birthplace</th>\n",
       "      <th>secret</th>\n",
       "      <th>features</th>\n",
       "      <th>history</th>\n",
       "      <th>n</th>\n",
       "    </tr>\n",
       "  </thead>\n",
       "  <tbody>\n",
       "    <tr>\n",
       "      <th>0</th>\n",
       "      <td>Karina</td>\n",
       "      <td>28</td>\n",
       "      <td>20</td>\n",
       "      <td>19730</td>\n",
       "      <td>&lt;NA&gt;</td>\n",
       "      <td>vsuDCQe3R</td>\n",
       "      <td>{J, Q}</td>\n",
       "      <td>[]</td>\n",
       "      <td>head secret_first postal_code_first first_name...</td>\n",
       "    </tr>\n",
       "    <tr>\n",
       "      <th>1</th>\n",
       "      <td>Mathias</td>\n",
       "      <td>31</td>\n",
       "      <td>30</td>\n",
       "      <td>43425</td>\n",
       "      <td>Bremen</td>\n",
       "      <td>ceijwÖkfR</td>\n",
       "      <td>{m, w, V}</td>\n",
       "      <td>[a, b, c]</td>\n",
       "      <td>age_most age_class_most age_class_last birthpl...</td>\n",
       "    </tr>\n",
       "    <tr>\n",
       "      <th>5</th>\n",
       "      <td>Nele</td>\n",
       "      <td>28</td>\n",
       "      <td>20</td>\n",
       "      <td>&lt;NA&gt;</td>\n",
       "      <td>Bremen</td>\n",
       "      <td>iIdmGEZFäE</td>\n",
       "      <td>{4, 0}</td>\n",
       "      <td>[A, C, C, B]</td>\n",
       "      <td>postal_code_nan age_first age_class_first age_...</td>\n",
       "    </tr>\n",
       "    <tr>\n",
       "      <th>9</th>\n",
       "      <td>Emma</td>\n",
       "      <td>42</td>\n",
       "      <td>40</td>\n",
       "      <td>98454</td>\n",
       "      <td>Bremen</td>\n",
       "      <td>RiT7t</td>\n",
       "      <td>{Z, 5, c, e}</td>\n",
       "      <td>[a, b, c]</td>\n",
       "      <td>age_max age_class_max birthplace_first birthpl...</td>\n",
       "    </tr>\n",
       "    <tr>\n",
       "      <th>29</th>\n",
       "      <td>Luca</td>\n",
       "      <td>20</td>\n",
       "      <td>20</td>\n",
       "      <td>15466</td>\n",
       "      <td>Berlin</td>\n",
       "      <td>8unpäY2ejA</td>\n",
       "      <td>{k, G, 3}</td>\n",
       "      <td>[A, B, C, C]</td>\n",
       "      <td>age_min age_class_first age_class_min birthpla...</td>\n",
       "    </tr>\n",
       "    <tr>\n",
       "      <th>213</th>\n",
       "      <td>Adolf</td>\n",
       "      <td>35</td>\n",
       "      <td>30</td>\n",
       "      <td>23680</td>\n",
       "      <td>Berlin</td>\n",
       "      <td>an1ulw3</td>\n",
       "      <td>{B, D, 0, m}</td>\n",
       "      <td>[A, B, C, C]</td>\n",
       "      <td>first_name_min age_class_most age_class_last b...</td>\n",
       "    </tr>\n",
       "    <tr>\n",
       "      <th>274</th>\n",
       "      <td>Hans</td>\n",
       "      <td>28</td>\n",
       "      <td>20</td>\n",
       "      <td>31561</td>\n",
       "      <td>Berlin</td>\n",
       "      <td>faQ5R</td>\n",
       "      <td>{B, m, H, 1, q}</td>\n",
       "      <td>[A, B, C, C]</td>\n",
       "      <td>first_name_most age_first age_class_first age_...</td>\n",
       "    </tr>\n",
       "    <tr>\n",
       "      <th>281</th>\n",
       "      <td>Lennart</td>\n",
       "      <td>33</td>\n",
       "      <td>30</td>\n",
       "      <td>31077</td>\n",
       "      <td>Berlin</td>\n",
       "      <td>QX9rhr6</td>\n",
       "      <td>{p, j, 4, 3}</td>\n",
       "      <td>[]</td>\n",
       "      <td>postal_code_most age_class_most age_class_last...</td>\n",
       "    </tr>\n",
       "    <tr>\n",
       "      <th>358</th>\n",
       "      <td>Zoe</td>\n",
       "      <td>27</td>\n",
       "      <td>20</td>\n",
       "      <td>73059</td>\n",
       "      <td>Bremen</td>\n",
       "      <td>erIusvNo</td>\n",
       "      <td>{R, c, J, D, 0}</td>\n",
       "      <td>[c, b, a]</td>\n",
       "      <td>first_name_max age_class_first age_class_min b...</td>\n",
       "    </tr>\n",
       "    <tr>\n",
       "      <th>658</th>\n",
       "      <td>Rudolph</td>\n",
       "      <td>26</td>\n",
       "      <td>20</td>\n",
       "      <td>99968</td>\n",
       "      <td>Berlin</td>\n",
       "      <td>fw2fSÖZ7</td>\n",
       "      <td>{g, t, U, Y}</td>\n",
       "      <td>[A, x]</td>\n",
       "      <td>postal_code_max age_class_first age_class_min ...</td>\n",
       "    </tr>\n",
       "    <tr>\n",
       "      <th>1480</th>\n",
       "      <td>Christa</td>\n",
       "      <td>29</td>\n",
       "      <td>20</td>\n",
       "      <td>37529</td>\n",
       "      <td>Berlin</td>\n",
       "      <td>3zoKÄQNoH</td>\n",
       "      <td>{W, n, N}</td>\n",
       "      <td>[A, A, A]</td>\n",
       "      <td>features_most</td>\n",
       "    </tr>\n",
       "    <tr>\n",
       "      <th>3321</th>\n",
       "      <td>Franz</td>\n",
       "      <td>29</td>\n",
       "      <td>20</td>\n",
       "      <td>10007</td>\n",
       "      <td>Bremen</td>\n",
       "      <td>jYD32Ük</td>\n",
       "      <td>{j, I}</td>\n",
       "      <td>[b, b, a, b]</td>\n",
       "      <td>postal_code_min age_class_first age_class_min ...</td>\n",
       "    </tr>\n",
       "    <tr>\n",
       "      <th>4780</th>\n",
       "      <td>Olaf</td>\n",
       "      <td>30</td>\n",
       "      <td>30</td>\n",
       "      <td>77808</td>\n",
       "      <td>Berlin</td>\n",
       "      <td>üütUKlZoR</td>\n",
       "      <td>{1, f}</td>\n",
       "      <td>[c, b, a]</td>\n",
       "      <td>secret_max age_class_most age_class_last birth...</td>\n",
       "    </tr>\n",
       "    <tr>\n",
       "      <th>9519</th>\n",
       "      <td>Christian</td>\n",
       "      <td>30</td>\n",
       "      <td>30</td>\n",
       "      <td>65173</td>\n",
       "      <td>Berlin</td>\n",
       "      <td>00X8äai</td>\n",
       "      <td>{E, u, c}</td>\n",
       "      <td>[A, B, C]</td>\n",
       "      <td>secret_min secret_most age_class_most age_clas...</td>\n",
       "    </tr>\n",
       "    <tr>\n",
       "      <th>9999</th>\n",
       "      <td>Jana</td>\n",
       "      <td>37</td>\n",
       "      <td>30</td>\n",
       "      <td>59286</td>\n",
       "      <td>Berlin</td>\n",
       "      <td>GhFgaAQaV5</td>\n",
       "      <td>{B, J, H, I, M}</td>\n",
       "      <td>[A, B, C, C]</td>\n",
       "      <td>secret_last postal_code_last first_name_last a...</td>\n",
       "    </tr>\n",
       "  </tbody>\n",
       "</table>\n",
       "</div>"
      ],
      "text/plain": [
       "     first_name  age  age_class  postal_code birthplace      secret   \n",
       "0        Karina   28         20        19730       <NA>   vsuDCQe3R  \\\n",
       "1       Mathias   31         30        43425     Bremen   ceijwÖkfR   \n",
       "5          Nele   28         20         <NA>     Bremen  iIdmGEZFäE   \n",
       "9          Emma   42         40        98454     Bremen       RiT7t   \n",
       "29         Luca   20         20        15466     Berlin  8unpäY2ejA   \n",
       "213       Adolf   35         30        23680     Berlin     an1ulw3   \n",
       "274        Hans   28         20        31561     Berlin       faQ5R   \n",
       "281     Lennart   33         30        31077     Berlin     QX9rhr6   \n",
       "358         Zoe   27         20        73059     Bremen    erIusvNo   \n",
       "658     Rudolph   26         20        99968     Berlin    fw2fSÖZ7   \n",
       "1480    Christa   29         20        37529     Berlin   3zoKÄQNoH   \n",
       "3321      Franz   29         20        10007     Bremen     jYD32Ük   \n",
       "4780       Olaf   30         30        77808     Berlin   üütUKlZoR   \n",
       "9519  Christian   30         30        65173     Berlin     00X8äai   \n",
       "9999       Jana   37         30        59286     Berlin  GhFgaAQaV5   \n",
       "\n",
       "             features       history   \n",
       "0              {J, Q}            []  \\\n",
       "1           {m, w, V}     [a, b, c]   \n",
       "5              {4, 0}  [A, C, C, B]   \n",
       "9        {Z, 5, c, e}     [a, b, c]   \n",
       "29          {k, G, 3}  [A, B, C, C]   \n",
       "213      {B, D, 0, m}  [A, B, C, C]   \n",
       "274   {B, m, H, 1, q}  [A, B, C, C]   \n",
       "281      {p, j, 4, 3}            []   \n",
       "358   {R, c, J, D, 0}     [c, b, a]   \n",
       "658      {g, t, U, Y}        [A, x]   \n",
       "1480        {W, n, N}     [A, A, A]   \n",
       "3321           {j, I}  [b, b, a, b]   \n",
       "4780           {1, f}     [c, b, a]   \n",
       "9519        {E, u, c}     [A, B, C]   \n",
       "9999  {B, J, H, I, M}  [A, B, C, C]   \n",
       "\n",
       "                                                      n  \n",
       "0     head secret_first postal_code_first first_name...  \n",
       "1     age_most age_class_most age_class_last birthpl...  \n",
       "5     postal_code_nan age_first age_class_first age_...  \n",
       "9     age_max age_class_max birthplace_first birthpl...  \n",
       "29    age_min age_class_first age_class_min birthpla...  \n",
       "213   first_name_min age_class_most age_class_last b...  \n",
       "274   first_name_most age_first age_class_first age_...  \n",
       "281   postal_code_most age_class_most age_class_last...  \n",
       "358   first_name_max age_class_first age_class_min b...  \n",
       "658   postal_code_max age_class_first age_class_min ...  \n",
       "1480                                      features_most  \n",
       "3321  postal_code_min age_class_first age_class_min ...  \n",
       "4780  secret_max age_class_most age_class_last birth...  \n",
       "9519  secret_min secret_most age_class_most age_clas...  \n",
       "9999  secret_last postal_code_last first_name_last a...  "
      ]
     },
     "execution_count": 11,
     "metadata": {},
     "output_type": "execute_result"
    }
   ],
   "source": [
    "a = pak.specials(df6, indicator='n')\n",
    "a"
   ]
  },
  {
   "cell_type": "markdown",
   "id": "2bfe90f4-2248-435d-9360-0838e82e722d",
   "metadata": {},
   "source": [
    "## sample(): Returns some sample rows"
   ]
  },
  {
   "cell_type": "code",
   "execution_count": 12,
   "id": "7c9db8af-51b5-4e92-ba45-5870ae41d094",
   "metadata": {
    "execution": {
     "iopub.execute_input": "2023-04-10T19:39:20.829425Z",
     "iopub.status.busy": "2023-04-10T19:39:20.829000Z",
     "iopub.status.idle": "2023-04-10T19:39:20.870767Z",
     "shell.execute_reply": "2023-04-10T19:39:20.869745Z",
     "shell.execute_reply.started": "2023-04-10T19:39:20.829395Z"
    }
   },
   "outputs": [
    {
     "data": {
      "text/plain": [
       "\u001b[0;31mSignature:\u001b[0m \u001b[0mpak\u001b[0m\u001b[0;34m.\u001b[0m\u001b[0msample\u001b[0m\u001b[0;34m(\u001b[0m\u001b[0mdf\u001b[0m\u001b[0;34m,\u001b[0m \u001b[0msize\u001b[0m\u001b[0;34m=\u001b[0m\u001b[0;32mNone\u001b[0m\u001b[0;34m)\u001b[0m\u001b[0;34m\u001b[0m\u001b[0;34m\u001b[0m\u001b[0m\n",
       "\u001b[0;31mDocstring:\u001b[0m\n",
       "Returns some sample rows.\n",
       "Always the beginning and the end, \n",
       "plus the other specials() --see there--,\n",
       "plus some random rows.\n",
       "* size: Number of rows to return. If size=None, all specials() are returned.\n",
       "\u001b[0;31mFile:\u001b[0m      ~/Data_Linux/Dropbox/31_Projekte/01_Python/git/pandasklar/src/pandasklar/subsets.py\n",
       "\u001b[0;31mType:\u001b[0m      function\n"
      ]
     },
     "metadata": {},
     "output_type": "display_data"
    }
   ],
   "source": [
    "?pak.sample"
   ]
  },
  {
   "cell_type": "code",
   "execution_count": 13,
   "id": "aeae0828-5ee5-4502-8891-b317c58e4d19",
   "metadata": {
    "execution": {
     "iopub.execute_input": "2023-04-10T19:39:20.878324Z",
     "iopub.status.busy": "2023-04-10T19:39:20.875887Z",
     "iopub.status.idle": "2023-04-10T19:39:21.931062Z",
     "shell.execute_reply": "2023-04-10T19:39:21.930433Z",
     "shell.execute_reply.started": "2023-04-10T19:39:20.878266Z"
    }
   },
   "outputs": [],
   "source": [
    "# create test data\n",
    "\n",
    "size = 10000 #00\n",
    "df6 = pak.people(size)\n",
    "df5 = df6.head(int(size/10))\n",
    "df4 = df6.head(int(size/100))\n",
    "df3 = df6.head(int(size/1000))\n",
    "df = df4"
   ]
  },
  {
   "cell_type": "code",
   "execution_count": 14,
   "id": "f6b68492-3c87-48d2-aefb-403fefee4b41",
   "metadata": {
    "execution": {
     "iopub.execute_input": "2023-04-10T19:39:21.932302Z",
     "iopub.status.busy": "2023-04-10T19:39:21.931995Z",
     "iopub.status.idle": "2023-04-10T19:39:22.193454Z",
     "shell.execute_reply": "2023-04-10T19:39:22.192792Z",
     "shell.execute_reply.started": "2023-04-10T19:39:21.932279Z"
    }
   },
   "outputs": [
    {
     "data": {
      "text/html": [
       "<div>\n",
       "<style scoped>\n",
       "    .dataframe tbody tr th:only-of-type {\n",
       "        vertical-align: middle;\n",
       "    }\n",
       "\n",
       "    .dataframe tbody tr th {\n",
       "        vertical-align: top;\n",
       "    }\n",
       "\n",
       "    .dataframe thead th {\n",
       "        text-align: right;\n",
       "    }\n",
       "</style>\n",
       "<table border=\"1\" class=\"dataframe\">\n",
       "  <thead>\n",
       "    <tr style=\"text-align: right;\">\n",
       "      <th></th>\n",
       "      <th>first_name</th>\n",
       "      <th>age</th>\n",
       "      <th>age_class</th>\n",
       "      <th>postal_code</th>\n",
       "      <th>birthplace</th>\n",
       "      <th>secret</th>\n",
       "      <th>features</th>\n",
       "      <th>history</th>\n",
       "    </tr>\n",
       "  </thead>\n",
       "  <tbody>\n",
       "    <tr>\n",
       "      <th>0</th>\n",
       "      <td>Amelie</td>\n",
       "      <td>28</td>\n",
       "      <td>20</td>\n",
       "      <td>&lt;NA&gt;</td>\n",
       "      <td>Bremen</td>\n",
       "      <td>öMÄhzÖng</td>\n",
       "      <td>{g, D, s, 3}</td>\n",
       "      <td>[c, b, a]</td>\n",
       "    </tr>\n",
       "    <tr>\n",
       "      <th>1</th>\n",
       "      <td>Niklas</td>\n",
       "      <td>31</td>\n",
       "      <td>30</td>\n",
       "      <td>87210</td>\n",
       "      <td>Berlin</td>\n",
       "      <td>PqqC2iE0J</td>\n",
       "      <td>{j, n, M, s}</td>\n",
       "      <td>[A, x]</td>\n",
       "    </tr>\n",
       "    <tr>\n",
       "      <th>9</th>\n",
       "      <td>Adolf</td>\n",
       "      <td>23</td>\n",
       "      <td>20</td>\n",
       "      <td>57655</td>\n",
       "      <td>&lt;NA&gt;</td>\n",
       "      <td>xFjFRBOuo</td>\n",
       "      <td>{v, C, w, r}</td>\n",
       "      <td>[c, b, a]</td>\n",
       "    </tr>\n",
       "    <tr>\n",
       "      <th>41</th>\n",
       "      <td>Celina</td>\n",
       "      <td>20</td>\n",
       "      <td>20</td>\n",
       "      <td>20270</td>\n",
       "      <td>Bremen</td>\n",
       "      <td>VÄqtiI</td>\n",
       "      <td>{l, j, W, N}</td>\n",
       "      <td>[A, B, C, C]</td>\n",
       "    </tr>\n",
       "    <tr>\n",
       "      <th>60</th>\n",
       "      <td>Zoe</td>\n",
       "      <td>32</td>\n",
       "      <td>30</td>\n",
       "      <td>89694</td>\n",
       "      <td>&lt;NA&gt;</td>\n",
       "      <td>u8LXo</td>\n",
       "      <td>{o, k, G, 3}</td>\n",
       "      <td>[A, B, C, C]</td>\n",
       "    </tr>\n",
       "    <tr>\n",
       "      <th>117</th>\n",
       "      <td>Marie</td>\n",
       "      <td>42</td>\n",
       "      <td>40</td>\n",
       "      <td>96455</td>\n",
       "      <td>Berlin</td>\n",
       "      <td>bqsa1FuYU4</td>\n",
       "      <td>{y, N}</td>\n",
       "      <td>[A, B, C, C]</td>\n",
       "    </tr>\n",
       "    <tr>\n",
       "      <th>214</th>\n",
       "      <td>Phil</td>\n",
       "      <td>35</td>\n",
       "      <td>30</td>\n",
       "      <td>29720</td>\n",
       "      <td>Bremen</td>\n",
       "      <td>ixDXZVl</td>\n",
       "      <td>{p, Y, B, V}</td>\n",
       "      <td>[A, C, C, B]</td>\n",
       "    </tr>\n",
       "    <tr>\n",
       "      <th>311</th>\n",
       "      <td>Kay</td>\n",
       "      <td>23</td>\n",
       "      <td>20</td>\n",
       "      <td>98209</td>\n",
       "      <td>Bremen</td>\n",
       "      <td>CaFeXö2iH</td>\n",
       "      <td>{g, f, m, X, 1}</td>\n",
       "      <td>[A, B, C]</td>\n",
       "    </tr>\n",
       "    <tr>\n",
       "      <th>353</th>\n",
       "      <td>Renate</td>\n",
       "      <td>30</td>\n",
       "      <td>30</td>\n",
       "      <td>99999</td>\n",
       "      <td>Berlin</td>\n",
       "      <td>ypyqÜ5g</td>\n",
       "      <td>{B, k, l, N}</td>\n",
       "      <td>[b, b, a, b]</td>\n",
       "    </tr>\n",
       "    <tr>\n",
       "      <th>791</th>\n",
       "      <td>Niklas</td>\n",
       "      <td>35</td>\n",
       "      <td>30</td>\n",
       "      <td>73904</td>\n",
       "      <td>&lt;NA&gt;</td>\n",
       "      <td>00VÖohoKD</td>\n",
       "      <td>{H, n, P, 2}</td>\n",
       "      <td>[A, C, C, B]</td>\n",
       "    </tr>\n",
       "    <tr>\n",
       "      <th>921</th>\n",
       "      <td>Phillip</td>\n",
       "      <td>24</td>\n",
       "      <td>20</td>\n",
       "      <td>42042</td>\n",
       "      <td>Berlin</td>\n",
       "      <td>jcRth8qj</td>\n",
       "      <td>{G, j, R, x, 3}</td>\n",
       "      <td>[A, C, C, B]</td>\n",
       "    </tr>\n",
       "    <tr>\n",
       "      <th>1869</th>\n",
       "      <td>Hannelore</td>\n",
       "      <td>38</td>\n",
       "      <td>30</td>\n",
       "      <td>83230</td>\n",
       "      <td>Berlin</td>\n",
       "      <td>TäjÜYfKcw8</td>\n",
       "      <td>{W, R}</td>\n",
       "      <td>[A, A, A]</td>\n",
       "    </tr>\n",
       "    <tr>\n",
       "      <th>3475</th>\n",
       "      <td>Mika</td>\n",
       "      <td>34</td>\n",
       "      <td>30</td>\n",
       "      <td>10029</td>\n",
       "      <td>Berlin</td>\n",
       "      <td>MdÖ7yM</td>\n",
       "      <td>{B, T, Y, v, 1}</td>\n",
       "      <td>[A, B, C]</td>\n",
       "    </tr>\n",
       "    <tr>\n",
       "      <th>8391</th>\n",
       "      <td>Torsten</td>\n",
       "      <td>25</td>\n",
       "      <td>20</td>\n",
       "      <td>80238</td>\n",
       "      <td>Berlin</td>\n",
       "      <td>üöäI5ÜNR</td>\n",
       "      <td>{q, u, 2}</td>\n",
       "      <td>[]</td>\n",
       "    </tr>\n",
       "    <tr>\n",
       "      <th>9999</th>\n",
       "      <td>Elisabeth</td>\n",
       "      <td>24</td>\n",
       "      <td>20</td>\n",
       "      <td>13280</td>\n",
       "      <td>Berlin</td>\n",
       "      <td>üjc7Sf</td>\n",
       "      <td>{F, A, Q}</td>\n",
       "      <td>[b, b, a, b]</td>\n",
       "    </tr>\n",
       "  </tbody>\n",
       "</table>\n",
       "</div>"
      ],
      "text/plain": [
       "     first_name  age  age_class  postal_code birthplace      secret   \n",
       "0        Amelie   28         20         <NA>     Bremen    öMÄhzÖng  \\\n",
       "1        Niklas   31         30        87210     Berlin   PqqC2iE0J   \n",
       "9         Adolf   23         20        57655       <NA>   xFjFRBOuo   \n",
       "41       Celina   20         20        20270     Bremen      VÄqtiI   \n",
       "60          Zoe   32         30        89694       <NA>       u8LXo   \n",
       "117       Marie   42         40        96455     Berlin  bqsa1FuYU4   \n",
       "214        Phil   35         30        29720     Bremen     ixDXZVl   \n",
       "311         Kay   23         20        98209     Bremen   CaFeXö2iH   \n",
       "353      Renate   30         30        99999     Berlin     ypyqÜ5g   \n",
       "791      Niklas   35         30        73904       <NA>   00VÖohoKD   \n",
       "921     Phillip   24         20        42042     Berlin    jcRth8qj   \n",
       "1869  Hannelore   38         30        83230     Berlin  TäjÜYfKcw8   \n",
       "3475       Mika   34         30        10029     Berlin      MdÖ7yM   \n",
       "8391    Torsten   25         20        80238     Berlin    üöäI5ÜNR   \n",
       "9999  Elisabeth   24         20        13280     Berlin      üjc7Sf   \n",
       "\n",
       "             features       history  \n",
       "0        {g, D, s, 3}     [c, b, a]  \n",
       "1        {j, n, M, s}        [A, x]  \n",
       "9        {v, C, w, r}     [c, b, a]  \n",
       "41       {l, j, W, N}  [A, B, C, C]  \n",
       "60       {o, k, G, 3}  [A, B, C, C]  \n",
       "117            {y, N}  [A, B, C, C]  \n",
       "214      {p, Y, B, V}  [A, C, C, B]  \n",
       "311   {g, f, m, X, 1}     [A, B, C]  \n",
       "353      {B, k, l, N}  [b, b, a, b]  \n",
       "791      {H, n, P, 2}  [A, C, C, B]  \n",
       "921   {G, j, R, x, 3}  [A, C, C, B]  \n",
       "1869           {W, R}     [A, A, A]  \n",
       "3475  {B, T, Y, v, 1}     [A, B, C]  \n",
       "8391        {q, u, 2}            []  \n",
       "9999        {F, A, Q}  [b, b, a, b]  "
      ]
     },
     "execution_count": 14,
     "metadata": {},
     "output_type": "execute_result"
    }
   ],
   "source": [
    "pak.sample(df6,15)"
   ]
  },
  {
   "cell_type": "code",
   "execution_count": 15,
   "id": "ac4607a1-25cc-48c2-bb15-9be343357436",
   "metadata": {
    "execution": {
     "iopub.execute_input": "2023-04-10T19:39:22.194904Z",
     "iopub.status.busy": "2023-04-10T19:39:22.194336Z",
     "iopub.status.idle": "2023-04-10T19:39:22.248756Z",
     "shell.execute_reply": "2023-04-10T19:39:22.247992Z",
     "shell.execute_reply.started": "2023-04-10T19:39:22.194878Z"
    }
   },
   "outputs": [
    {
     "data": {
      "text/html": [
       "<div>\n",
       "<style scoped>\n",
       "    .dataframe tbody tr th:only-of-type {\n",
       "        vertical-align: middle;\n",
       "    }\n",
       "\n",
       "    .dataframe tbody tr th {\n",
       "        vertical-align: top;\n",
       "    }\n",
       "\n",
       "    .dataframe thead th {\n",
       "        text-align: right;\n",
       "    }\n",
       "</style>\n",
       "<table border=\"1\" class=\"dataframe\">\n",
       "  <thead>\n",
       "    <tr style=\"text-align: right;\">\n",
       "      <th></th>\n",
       "      <th>first_name</th>\n",
       "      <th>age</th>\n",
       "      <th>age_class</th>\n",
       "      <th>postal_code</th>\n",
       "      <th>birthplace</th>\n",
       "      <th>secret</th>\n",
       "      <th>features</th>\n",
       "      <th>history</th>\n",
       "    </tr>\n",
       "  </thead>\n",
       "  <tbody>\n",
       "    <tr>\n",
       "      <th>0</th>\n",
       "      <td>Amelie</td>\n",
       "      <td>28</td>\n",
       "      <td>20</td>\n",
       "      <td>&lt;NA&gt;</td>\n",
       "      <td>Bremen</td>\n",
       "      <td>öMÄhzÖng</td>\n",
       "      <td>{g, D, s, 3}</td>\n",
       "      <td>[c, b, a]</td>\n",
       "    </tr>\n",
       "    <tr>\n",
       "      <th>1</th>\n",
       "      <td>Niklas</td>\n",
       "      <td>31</td>\n",
       "      <td>30</td>\n",
       "      <td>87210</td>\n",
       "      <td>Berlin</td>\n",
       "      <td>PqqC2iE0J</td>\n",
       "      <td>{j, n, M, s}</td>\n",
       "      <td>[A, x]</td>\n",
       "    </tr>\n",
       "    <tr>\n",
       "      <th>2</th>\n",
       "      <td>Sina</td>\n",
       "      <td>35</td>\n",
       "      <td>30</td>\n",
       "      <td>45788</td>\n",
       "      <td>Bremen</td>\n",
       "      <td>aDüivv</td>\n",
       "      <td>{B, Y, o, Q, v}</td>\n",
       "      <td>[A, A, A]</td>\n",
       "    </tr>\n",
       "    <tr>\n",
       "      <th>3</th>\n",
       "      <td>Charlotte</td>\n",
       "      <td>32</td>\n",
       "      <td>30</td>\n",
       "      <td>19887</td>\n",
       "      <td>Berlin</td>\n",
       "      <td>üf5Öi</td>\n",
       "      <td>{T, h}</td>\n",
       "      <td>[A, C, C, B]</td>\n",
       "    </tr>\n",
       "    <tr>\n",
       "      <th>4</th>\n",
       "      <td>Linda</td>\n",
       "      <td>34</td>\n",
       "      <td>30</td>\n",
       "      <td>76399</td>\n",
       "      <td>Bremen</td>\n",
       "      <td>EqPGu6qe</td>\n",
       "      <td>{j, Z, T, V}</td>\n",
       "      <td>[b, b, a, b]</td>\n",
       "    </tr>\n",
       "    <tr>\n",
       "      <th>5</th>\n",
       "      <td>Herta</td>\n",
       "      <td>35</td>\n",
       "      <td>30</td>\n",
       "      <td>36784</td>\n",
       "      <td>&lt;NA&gt;</td>\n",
       "      <td>A8gfÜNmÄ58</td>\n",
       "      <td>{E, T, L, I, V}</td>\n",
       "      <td>[a, b, c]</td>\n",
       "    </tr>\n",
       "    <tr>\n",
       "      <th>6</th>\n",
       "      <td>Natalie</td>\n",
       "      <td>24</td>\n",
       "      <td>20</td>\n",
       "      <td>23947</td>\n",
       "      <td>Bremen</td>\n",
       "      <td>iu6vzVaö</td>\n",
       "      <td>{f, G}</td>\n",
       "      <td>[A, B, C, C]</td>\n",
       "    </tr>\n",
       "    <tr>\n",
       "      <th>7</th>\n",
       "      <td>Alina</td>\n",
       "      <td>29</td>\n",
       "      <td>20</td>\n",
       "      <td>10583</td>\n",
       "      <td>Bremen</td>\n",
       "      <td>rScx8Je</td>\n",
       "      <td>{G, r, z, 3}</td>\n",
       "      <td>[A, B, C]</td>\n",
       "    </tr>\n",
       "    <tr>\n",
       "      <th>8</th>\n",
       "      <td>Stephan</td>\n",
       "      <td>38</td>\n",
       "      <td>30</td>\n",
       "      <td>40904</td>\n",
       "      <td>Berlin</td>\n",
       "      <td>J0mnoBz</td>\n",
       "      <td>{H, S, O, G}</td>\n",
       "      <td>[]</td>\n",
       "    </tr>\n",
       "    <tr>\n",
       "      <th>9</th>\n",
       "      <td>Adolf</td>\n",
       "      <td>23</td>\n",
       "      <td>20</td>\n",
       "      <td>57655</td>\n",
       "      <td>&lt;NA&gt;</td>\n",
       "      <td>xFjFRBOuo</td>\n",
       "      <td>{v, C, w, r}</td>\n",
       "      <td>[c, b, a]</td>\n",
       "    </tr>\n",
       "  </tbody>\n",
       "</table>\n",
       "</div>"
      ],
      "text/plain": [
       "  first_name  age  age_class  postal_code birthplace      secret   \n",
       "0     Amelie   28         20         <NA>     Bremen    öMÄhzÖng  \\\n",
       "1     Niklas   31         30        87210     Berlin   PqqC2iE0J   \n",
       "2       Sina   35         30        45788     Bremen      aDüivv   \n",
       "3  Charlotte   32         30        19887     Berlin       üf5Öi   \n",
       "4      Linda   34         30        76399     Bremen    EqPGu6qe   \n",
       "5      Herta   35         30        36784       <NA>  A8gfÜNmÄ58   \n",
       "6    Natalie   24         20        23947     Bremen    iu6vzVaö   \n",
       "7      Alina   29         20        10583     Bremen     rScx8Je   \n",
       "8    Stephan   38         30        40904     Berlin     J0mnoBz   \n",
       "9      Adolf   23         20        57655       <NA>   xFjFRBOuo   \n",
       "\n",
       "          features       history  \n",
       "0     {g, D, s, 3}     [c, b, a]  \n",
       "1     {j, n, M, s}        [A, x]  \n",
       "2  {B, Y, o, Q, v}     [A, A, A]  \n",
       "3           {T, h}  [A, C, C, B]  \n",
       "4     {j, Z, T, V}  [b, b, a, b]  \n",
       "5  {E, T, L, I, V}     [a, b, c]  \n",
       "6           {f, G}  [A, B, C, C]  \n",
       "7     {G, r, z, 3}     [A, B, C]  \n",
       "8     {H, S, O, G}            []  \n",
       "9     {v, C, w, r}     [c, b, a]  "
      ]
     },
     "execution_count": 15,
     "metadata": {},
     "output_type": "execute_result"
    }
   ],
   "source": [
    "pak.sample(df3,1005)"
   ]
  },
  {
   "cell_type": "markdown",
   "id": "f040f24c-3987-475a-b82b-17580ba69824",
   "metadata": {},
   "source": [
    "## search_str(): Searches all str columns of a dataframe"
   ]
  },
  {
   "cell_type": "code",
   "execution_count": 16,
   "id": "fdb683bd-684b-45c2-95a0-d624eba48b00",
   "metadata": {
    "execution": {
     "iopub.execute_input": "2023-04-10T19:39:22.250188Z",
     "iopub.status.busy": "2023-04-10T19:39:22.249780Z",
     "iopub.status.idle": "2023-04-10T19:39:22.282481Z",
     "shell.execute_reply": "2023-04-10T19:39:22.281660Z",
     "shell.execute_reply.started": "2023-04-10T19:39:22.250161Z"
    }
   },
   "outputs": [
    {
     "data": {
      "text/plain": [
       "\u001b[0;31mSignature:\u001b[0m \u001b[0mpak\u001b[0m\u001b[0;34m.\u001b[0m\u001b[0msearch_str\u001b[0m\u001b[0;34m(\u001b[0m\u001b[0mdf\u001b[0m\u001b[0;34m,\u001b[0m \u001b[0mfind\u001b[0m\u001b[0;34m,\u001b[0m \u001b[0mwithout\u001b[0m\u001b[0;34m=\u001b[0m\u001b[0;34m[\u001b[0m\u001b[0;34m]\u001b[0m\u001b[0;34m)\u001b[0m\u001b[0;34m\u001b[0m\u001b[0;34m\u001b[0m\u001b[0m\n",
       "\u001b[0;31mDocstring:\u001b[0m\n",
       "Searches all str columns of a dataframe.\n",
       "Useful for development and debugging.\n",
       "* find:    What is to be found?                  String or list of strings.\n",
       "* without: Which columns should not be searched? String or list of strings.    \n",
       "\u001b[0;31mFile:\u001b[0m      ~/Data_Linux/Dropbox/31_Projekte/01_Python/git/pandasklar/src/pandasklar/develop.py\n",
       "\u001b[0;31mType:\u001b[0m      function\n"
      ]
     },
     "metadata": {},
     "output_type": "display_data"
    }
   ],
   "source": [
    "?pak.search_str"
   ]
  },
  {
   "cell_type": "code",
   "execution_count": 17,
   "id": "d9b1c748-51ef-4dc2-b9fe-20e46ef48c16",
   "metadata": {
    "execution": {
     "iopub.execute_input": "2023-04-10T19:39:22.284073Z",
     "iopub.status.busy": "2023-04-10T19:39:22.283681Z",
     "iopub.status.idle": "2023-04-10T19:39:22.314814Z",
     "shell.execute_reply": "2023-04-10T19:39:22.314020Z",
     "shell.execute_reply.started": "2023-04-10T19:39:22.284050Z"
    }
   },
   "outputs": [
    {
     "name": "stdout",
     "output_type": "stream",
     "text": [
      "search for ['Hamburg', 'Adolf']\n"
     ]
    }
   ],
   "source": [
    "# create mask: most frequent first_name\n",
    "find = ['Hamburg', pak.most_freq_elt(df.first_name)]\n",
    "print('search for',find)"
   ]
  },
  {
   "cell_type": "code",
   "execution_count": 18,
   "id": "264cbe92-9224-4014-bfbc-a5fd24fe9444",
   "metadata": {
    "execution": {
     "iopub.execute_input": "2023-04-10T19:39:22.317045Z",
     "iopub.status.busy": "2023-04-10T19:39:22.315751Z",
     "iopub.status.idle": "2023-04-10T19:39:22.384338Z",
     "shell.execute_reply": "2023-04-10T19:39:22.383494Z",
     "shell.execute_reply.started": "2023-04-10T19:39:22.317010Z"
    },
    "tags": []
   },
   "outputs": [
    {
     "data": {
      "text/html": [
       "<div>\n",
       "<style scoped>\n",
       "    .dataframe tbody tr th:only-of-type {\n",
       "        vertical-align: middle;\n",
       "    }\n",
       "\n",
       "    .dataframe tbody tr th {\n",
       "        vertical-align: top;\n",
       "    }\n",
       "\n",
       "    .dataframe thead th {\n",
       "        text-align: right;\n",
       "    }\n",
       "</style>\n",
       "<table border=\"1\" class=\"dataframe\">\n",
       "  <thead>\n",
       "    <tr style=\"text-align: right;\">\n",
       "      <th></th>\n",
       "      <th>first_name</th>\n",
       "      <th>age</th>\n",
       "      <th>age_class</th>\n",
       "      <th>postal_code</th>\n",
       "      <th>birthplace</th>\n",
       "      <th>secret</th>\n",
       "      <th>features</th>\n",
       "      <th>history</th>\n",
       "    </tr>\n",
       "  </thead>\n",
       "  <tbody>\n",
       "    <tr>\n",
       "      <th>9</th>\n",
       "      <td>Adolf</td>\n",
       "      <td>23</td>\n",
       "      <td>20</td>\n",
       "      <td>57655</td>\n",
       "      <td>&lt;NA&gt;</td>\n",
       "      <td>xFjFRBOuo</td>\n",
       "      <td>{v, C, w, r}</td>\n",
       "      <td>[c, b, a]</td>\n",
       "    </tr>\n",
       "  </tbody>\n",
       "</table>\n",
       "</div>"
      ],
      "text/plain": [
       "  first_name  age  age_class  postal_code birthplace     secret      features   \n",
       "9      Adolf   23         20        57655       <NA>  xFjFRBOuo  {v, C, w, r}  \\\n",
       "\n",
       "     history  \n",
       "9  [c, b, a]  "
      ]
     },
     "execution_count": 18,
     "metadata": {},
     "output_type": "execute_result"
    }
   ],
   "source": [
    "pak.search_str(df, find)"
   ]
  },
  {
   "cell_type": "markdown",
   "id": "fa5d1418-e8c2-4708-8068-ac6b08686af2",
   "metadata": {},
   "source": [
    "## check_mask(): Count rows filtered by a binary mask"
   ]
  },
  {
   "cell_type": "code",
   "execution_count": 19,
   "id": "f73b996b-70f7-4d47-a5c2-448d339f28ec",
   "metadata": {
    "execution": {
     "iopub.execute_input": "2023-04-10T19:39:22.385642Z",
     "iopub.status.busy": "2023-04-10T19:39:22.385378Z",
     "iopub.status.idle": "2023-04-10T19:39:22.429348Z",
     "shell.execute_reply": "2023-04-10T19:39:22.425790Z",
     "shell.execute_reply.started": "2023-04-10T19:39:22.385615Z"
    }
   },
   "outputs": [
    {
     "data": {
      "text/plain": [
       "\u001b[0;31mSignature:\u001b[0m\n",
       "\u001b[0mpak\u001b[0m\u001b[0;34m.\u001b[0m\u001b[0mcheck_mask\u001b[0m\u001b[0;34m(\u001b[0m\u001b[0;34m\u001b[0m\n",
       "\u001b[0;34m\u001b[0m    \u001b[0mdf\u001b[0m\u001b[0;34m,\u001b[0m\u001b[0;34m\u001b[0m\n",
       "\u001b[0;34m\u001b[0m    \u001b[0mmask\u001b[0m\u001b[0;34m,\u001b[0m\u001b[0;34m\u001b[0m\n",
       "\u001b[0;34m\u001b[0m    \u001b[0mexpectation_min\u001b[0m\u001b[0;34m=\u001b[0m\u001b[0;32mNone\u001b[0m\u001b[0;34m,\u001b[0m\u001b[0;34m\u001b[0m\n",
       "\u001b[0;34m\u001b[0m    \u001b[0mexpectation_max\u001b[0m\u001b[0;34m=\u001b[0m\u001b[0;32mNone\u001b[0m\u001b[0;34m,\u001b[0m\u001b[0;34m\u001b[0m\n",
       "\u001b[0;34m\u001b[0m    \u001b[0mmsg\u001b[0m\u001b[0;34m=\u001b[0m\u001b[0;34m''\u001b[0m\u001b[0;34m,\u001b[0m\u001b[0;34m\u001b[0m\n",
       "\u001b[0;34m\u001b[0m    \u001b[0mstop\u001b[0m\u001b[0;34m=\u001b[0m\u001b[0;32mTrue\u001b[0m\u001b[0;34m,\u001b[0m\u001b[0;34m\u001b[0m\n",
       "\u001b[0;34m\u001b[0m    \u001b[0mmanually\u001b[0m\u001b[0;34m=\u001b[0m\u001b[0;32mFalse\u001b[0m\u001b[0;34m,\u001b[0m\u001b[0;34m\u001b[0m\n",
       "\u001b[0;34m\u001b[0m    \u001b[0mverbose\u001b[0m\u001b[0;34m=\u001b[0m\u001b[0;32mNone\u001b[0m\u001b[0;34m,\u001b[0m\u001b[0;34m\u001b[0m\n",
       "\u001b[0;34m\u001b[0m\u001b[0;34m)\u001b[0m\u001b[0;34m\u001b[0m\u001b[0;34m\u001b[0m\u001b[0m\n",
       "\u001b[0;31mDocstring:\u001b[0m\n",
       "Count rows filtered by a binary mask.\n",
       "Raises an error, if the number is unexpected.\n",
       "* manually:    For debugging: If you just want to see the effect of a mask, without raising anything, add manually=True.\n",
       "\n",
       "Examples:\n",
       "==========\n",
       "check_mask( df, mask )         # just show the number of rows   \n",
       "check_mask( df, mask, 2000 )   # checks for about 2000 rows (if not 0: not more than double, not less than half)\n",
       "check_mask( df, mask, 0 )      # checks for exactly 0 rows    \n",
       "check_mask( df, mask, 10, 50)  # checks for 10..50 rows\n",
       "\n",
       "Example with later raise:\n",
       "=========================\n",
       "error = check_mask(df, mask, 214, stop=False)        \n",
       "grid(df, mask, error)        \n",
       "bpy.raise_if(error)\n",
       "\u001b[0;31mFile:\u001b[0m      ~/Data_Linux/Dropbox/31_Projekte/01_Python/git/pandasklar/src/pandasklar/develop.py\n",
       "\u001b[0;31mType:\u001b[0m      function\n"
      ]
     },
     "metadata": {},
     "output_type": "display_data"
    }
   ],
   "source": [
    "?pak.check_mask"
   ]
  },
  {
   "cell_type": "code",
   "execution_count": 20,
   "id": "4b47a9d4-233e-4d1f-88e0-d10621612f8b",
   "metadata": {
    "execution": {
     "iopub.execute_input": "2023-04-10T19:39:22.432685Z",
     "iopub.status.busy": "2023-04-10T19:39:22.432340Z",
     "iopub.status.idle": "2023-04-10T19:39:22.470280Z",
     "shell.execute_reply": "2023-04-10T19:39:22.469496Z",
     "shell.execute_reply.started": "2023-04-10T19:39:22.432654Z"
    }
   },
   "outputs": [],
   "source": [
    "# define mask\n",
    "mask = (df.age >= 30)  &  (df.age < 40) \n",
    "#df[mask]"
   ]
  },
  {
   "cell_type": "code",
   "execution_count": 21,
   "id": "a85e05a5-1a4c-4aa7-8182-f843ec7a9324",
   "metadata": {
    "execution": {
     "iopub.execute_input": "2023-04-10T19:39:22.472470Z",
     "iopub.status.busy": "2023-04-10T19:39:22.472213Z",
     "iopub.status.idle": "2023-04-10T19:39:22.520394Z",
     "shell.execute_reply": "2023-04-10T19:39:22.519472Z",
     "shell.execute_reply.started": "2023-04-10T19:39:22.472448Z"
    }
   },
   "outputs": [
    {
     "name": "stdout",
     "output_type": "stream",
     "text": [
      "check_mask:  62 rows\n"
     ]
    }
   ],
   "source": [
    "# just show the number of rows\n",
    "pak.check_mask(df, mask)"
   ]
  },
  {
   "cell_type": "code",
   "execution_count": 22,
   "id": "e4514535-4bbf-422c-b8a9-a1e90c3cd016",
   "metadata": {
    "execution": {
     "iopub.execute_input": "2023-04-10T19:39:22.526360Z",
     "iopub.status.busy": "2023-04-10T19:39:22.524873Z",
     "iopub.status.idle": "2023-04-10T19:39:22.564675Z",
     "shell.execute_reply": "2023-04-10T19:39:22.563928Z",
     "shell.execute_reply.started": "2023-04-10T19:39:22.526312Z"
    }
   },
   "outputs": [
    {
     "name": "stdout",
     "output_type": "stream",
     "text": [
      "check_mask:  62 rows\n"
     ]
    }
   ],
   "source": [
    "# checks for about 50 rows\n",
    "pak.check_mask(df, mask, 50)"
   ]
  },
  {
   "cell_type": "code",
   "execution_count": 23,
   "id": "d8ff4ab8-331c-4778-b9c2-a8033775373e",
   "metadata": {
    "execution": {
     "iopub.execute_input": "2023-04-10T19:39:22.565921Z",
     "iopub.status.busy": "2023-04-10T19:39:22.565652Z",
     "iopub.status.idle": "2023-04-10T19:39:22.599507Z",
     "shell.execute_reply": "2023-04-10T19:39:22.598690Z",
     "shell.execute_reply.started": "2023-04-10T19:39:22.565898Z"
    }
   },
   "outputs": [
    {
     "name": "stdout",
     "output_type": "stream",
     "text": [
      "check_mask:  62 rows\n"
     ]
    }
   ],
   "source": [
    "# checks for about 50 rows\n",
    "pak.check_mask(df, mask, 50, verbose=True)"
   ]
  },
  {
   "cell_type": "code",
   "execution_count": 24,
   "id": "9cfe4010-bda6-4f23-a0d6-79cb22b4251c",
   "metadata": {
    "execution": {
     "iopub.execute_input": "2023-04-10T19:39:22.601453Z",
     "iopub.status.busy": "2023-04-10T19:39:22.601140Z",
     "iopub.status.idle": "2023-04-10T19:39:22.631841Z",
     "shell.execute_reply": "2023-04-10T19:39:22.630689Z",
     "shell.execute_reply.started": "2023-04-10T19:39:22.601423Z"
    }
   },
   "outputs": [
    {
     "name": "stdout",
     "output_type": "stream",
     "text": [
      "check_mask:  62 rows\n"
     ]
    }
   ],
   "source": [
    "# checks for 0..100 rows\n",
    "pak.check_mask(df, mask, 0, 100)"
   ]
  },
  {
   "cell_type": "markdown",
   "id": "b7688157",
   "metadata": {},
   "source": [
    "## grid(): Visualize with dtale"
   ]
  },
  {
   "cell_type": "code",
   "execution_count": 25,
   "id": "6be4b7ef-6225-4f2a-b214-a792ecbbc4a1",
   "metadata": {
    "execution": {
     "iopub.execute_input": "2023-04-10T19:39:22.636688Z",
     "iopub.status.busy": "2023-04-10T19:39:22.633065Z",
     "iopub.status.idle": "2023-04-10T19:39:22.674072Z",
     "shell.execute_reply": "2023-04-10T19:39:22.672958Z",
     "shell.execute_reply.started": "2023-04-10T19:39:22.636563Z"
    }
   },
   "outputs": [
    {
     "data": {
      "text/plain": [
       "\u001b[0;31mSignature:\u001b[0m\n",
       "\u001b[0mgrid\u001b[0m\u001b[0;34m(\u001b[0m\u001b[0;34m\u001b[0m\n",
       "\u001b[0;34m\u001b[0m    \u001b[0mdf\u001b[0m\u001b[0;34m,\u001b[0m\u001b[0;34m\u001b[0m\n",
       "\u001b[0;34m\u001b[0m    \u001b[0mmask\u001b[0m\u001b[0;34m=\u001b[0m\u001b[0;32mNone\u001b[0m\u001b[0;34m,\u001b[0m\u001b[0;34m\u001b[0m\n",
       "\u001b[0;34m\u001b[0m    \u001b[0merror\u001b[0m\u001b[0;34m=\u001b[0m\u001b[0;34m'€€€'\u001b[0m\u001b[0;34m,\u001b[0m\u001b[0;34m\u001b[0m\n",
       "\u001b[0;34m\u001b[0m    \u001b[0mcolor\u001b[0m\u001b[0;34m=\u001b[0m\u001b[0;34m'blue'\u001b[0m\u001b[0;34m,\u001b[0m\u001b[0;34m\u001b[0m\n",
       "\u001b[0;34m\u001b[0m    \u001b[0mbackend\u001b[0m\u001b[0;34m=\u001b[0m\u001b[0;32mNone\u001b[0m\u001b[0;34m,\u001b[0m\u001b[0;34m\u001b[0m\n",
       "\u001b[0;34m\u001b[0m    \u001b[0mwithout\u001b[0m\u001b[0;34m=\u001b[0m\u001b[0;32mNone\u001b[0m\u001b[0;34m,\u001b[0m\u001b[0;34m\u001b[0m\n",
       "\u001b[0;34m\u001b[0m    \u001b[0;34m**\u001b[0m\u001b[0mkwargs\u001b[0m\u001b[0;34m,\u001b[0m\u001b[0;34m\u001b[0m\n",
       "\u001b[0;34m\u001b[0m\u001b[0;34m)\u001b[0m\u001b[0;34m\u001b[0m\u001b[0;34m\u001b[0m\u001b[0m\n",
       "\u001b[0;31mDocstring:\u001b[0m\n",
       "Visualization of a DataFrame using dtale.\n",
       "* df:       DataFrame to show\n",
       "* mask:     Binary mask, function or Searchstring to reduce the number of rows\n",
       "* error:    Error message\n",
       "* color:    Color of the error message.\n",
       "* backend:  'dtale' or None for dTale\n",
       "* without:  Columns to ignore\n",
       "* kwargs: Options for dtale. See https://github.com/man-group/dtale#instance-settings\n",
       "          Caution: This will affect all grids in this notebook...\n",
       "dtale may not work in a multiscreen setting on windows.\n",
       "\n",
       "=== Examples ===\n",
       "grid(df)                        # show all rows\n",
       "grid(df,mask)                   # show with binary mask    \n",
       "grid(df,sample)                 # show with functionally mask\n",
       "\n",
       "=== For error indication after check_mask ===\n",
       "error = check_mask(df, mask, 900, stop=False)\n",
       "grid(df, mask, error) \n",
       "and later: raise_if(error)\n",
       "\u001b[0;31mFile:\u001b[0m      ~/Data_Linux/Dropbox/31_Projekte/01_Python/git/pandasklar/src/pandasklar/develop.py\n",
       "\u001b[0;31mType:\u001b[0m      function\n"
      ]
     },
     "metadata": {},
     "output_type": "display_data"
    }
   ],
   "source": [
    "?grid"
   ]
  },
  {
   "cell_type": "code",
   "execution_count": 26,
   "id": "c6cb3af4-4aa1-47fa-8a47-1fad8ee88e32",
   "metadata": {
    "execution": {
     "iopub.execute_input": "2023-04-10T19:39:22.683887Z",
     "iopub.status.busy": "2023-04-10T19:39:22.680143Z",
     "iopub.status.idle": "2023-04-10T19:39:22.884708Z",
     "shell.execute_reply": "2023-04-10T19:39:22.883973Z",
     "shell.execute_reply.started": "2023-04-10T19:39:22.683799Z"
    }
   },
   "outputs": [
    {
     "name": "stdout",
     "output_type": "stream",
     "text": [
      "100 rows\n"
     ]
    },
    {
     "data": {
      "text/html": [
       "\n",
       "        <iframe\n",
       "            width=\"100%\"\n",
       "            height=\"475\"\n",
       "            src=\"http://pop-os:40000/dtale/iframe/1\"\n",
       "            frameborder=\"0\"\n",
       "            allowfullscreen\n",
       "            \n",
       "        ></iframe>\n",
       "        "
      ],
      "text/plain": [
       "<IPython.lib.display.IFrame at 0x7f4df9e8a070>"
      ]
     },
     "metadata": {},
     "output_type": "display_data"
    },
    {
     "data": {
      "text/plain": []
     },
     "execution_count": 26,
     "metadata": {},
     "output_type": "execute_result"
    }
   ],
   "source": [
    "# show\n",
    "grid(df)"
   ]
  },
  {
   "cell_type": "markdown",
   "id": "245132da-e234-45a7-a548-1a6393b1e9c8",
   "metadata": {},
   "source": [
    "### grid(): Use mask"
   ]
  },
  {
   "cell_type": "code",
   "execution_count": 27,
   "id": "0bd9d46f-f5bb-4469-9286-a446ccbb39dd",
   "metadata": {
    "execution": {
     "iopub.execute_input": "2023-04-10T19:39:22.889517Z",
     "iopub.status.busy": "2023-04-10T19:39:22.886814Z",
     "iopub.status.idle": "2023-04-10T19:39:23.208941Z",
     "shell.execute_reply": "2023-04-10T19:39:23.204844Z",
     "shell.execute_reply.started": "2023-04-10T19:39:22.889468Z"
    }
   },
   "outputs": [
    {
     "name": "stdout",
     "output_type": "stream",
     "text": [
      "11 rows out of 100\n"
     ]
    },
    {
     "data": {
      "text/html": [
       "\n",
       "        <iframe\n",
       "            width=\"100%\"\n",
       "            height=\"475\"\n",
       "            src=\"http://pop-os:40000/dtale/iframe/2\"\n",
       "            frameborder=\"0\"\n",
       "            allowfullscreen\n",
       "            \n",
       "        ></iframe>\n",
       "        "
      ],
      "text/plain": [
       "<IPython.lib.display.IFrame at 0x7f4dfa06f1f0>"
      ]
     },
     "metadata": {},
     "output_type": "display_data"
    },
    {
     "data": {
      "text/plain": []
     },
     "execution_count": 27,
     "metadata": {},
     "output_type": "execute_result"
    }
   ],
   "source": [
    "# Function as mask\n",
    "grid(df, pak.sample)"
   ]
  },
  {
   "cell_type": "code",
   "execution_count": 28,
   "id": "0b171cd5-4a69-4d31-8c5f-cc5f34e6858f",
   "metadata": {
    "execution": {
     "iopub.execute_input": "2023-04-10T19:39:23.213638Z",
     "iopub.status.busy": "2023-04-10T19:39:23.213238Z",
     "iopub.status.idle": "2023-04-10T19:39:23.340799Z",
     "shell.execute_reply": "2023-04-10T19:39:23.339249Z",
     "shell.execute_reply.started": "2023-04-10T19:39:23.213605Z"
    }
   },
   "outputs": [
    {
     "name": "stdout",
     "output_type": "stream",
     "text": [
      "89 rows out of 100\n"
     ]
    },
    {
     "data": {
      "text/html": [
       "\n",
       "        <iframe\n",
       "            width=\"100%\"\n",
       "            height=\"475\"\n",
       "            src=\"http://pop-os:40000/dtale/iframe/3\"\n",
       "            frameborder=\"0\"\n",
       "            allowfullscreen\n",
       "            \n",
       "        ></iframe>\n",
       "        "
      ],
      "text/plain": [
       "<IPython.lib.display.IFrame at 0x7f4df9ef9f10>"
      ]
     },
     "metadata": {},
     "output_type": "display_data"
    },
    {
     "data": {
      "text/plain": []
     },
     "execution_count": 28,
     "metadata": {},
     "output_type": "execute_result"
    }
   ],
   "source": [
    "# Binary mask\n",
    "mask = df.age > 25\n",
    "grid(df, mask)"
   ]
  },
  {
   "cell_type": "markdown",
   "id": "a964fe1a-7ce2-4db5-aa90-07cd6553ad49",
   "metadata": {},
   "source": [
    "### grid() options\n",
    "Some grid options are global, e.g. max_column_width. If you set this option to a value later in your notebook, all grids in the notebook are rendered with this column_width. If you find a way to change this, send me a message."
   ]
  },
  {
   "cell_type": "code",
   "execution_count": 29,
   "id": "4f86a672-eb7a-4c56-9aa3-db24c758aca6",
   "metadata": {
    "execution": {
     "iopub.execute_input": "2023-04-10T19:39:23.342499Z",
     "iopub.status.busy": "2023-04-10T19:39:23.342100Z",
     "iopub.status.idle": "2023-04-10T19:39:23.412667Z",
     "shell.execute_reply": "2023-04-10T19:39:23.402754Z",
     "shell.execute_reply.started": "2023-04-10T19:39:23.342465Z"
    }
   },
   "outputs": [],
   "source": [
    "# global Settings\n",
    "pak.set_grid(max_column_width=200)"
   ]
  },
  {
   "cell_type": "code",
   "execution_count": 30,
   "id": "2a395033-f941-4ea4-bd9f-d99e1d3c0872",
   "metadata": {
    "execution": {
     "iopub.execute_input": "2023-04-10T19:39:23.414207Z",
     "iopub.status.busy": "2023-04-10T19:39:23.413904Z",
     "iopub.status.idle": "2023-04-10T19:39:23.600123Z",
     "shell.execute_reply": "2023-04-10T19:39:23.598038Z",
     "shell.execute_reply.started": "2023-04-10T19:39:23.414177Z"
    }
   },
   "outputs": [
    {
     "name": "stdout",
     "output_type": "stream",
     "text": [
      "100 rows\n"
     ]
    },
    {
     "data": {
      "text/html": [
       "\n",
       "        <iframe\n",
       "            width=\"100%\"\n",
       "            height=\"475\"\n",
       "            src=\"http://pop-os:40000/dtale/iframe/4\"\n",
       "            frameborder=\"0\"\n",
       "            allowfullscreen\n",
       "            \n",
       "        ></iframe>\n",
       "        "
      ],
      "text/plain": [
       "<IPython.lib.display.IFrame at 0x7f4dfbb18ee0>"
      ]
     },
     "metadata": {},
     "output_type": "display_data"
    },
    {
     "data": {
      "text/plain": []
     },
     "execution_count": 30,
     "metadata": {},
     "output_type": "execute_result"
    }
   ],
   "source": [
    "# show \n",
    "grid(df)"
   ]
  },
  {
   "cell_type": "markdown",
   "id": "be02d79a-8dd7-4e54-8fe9-b89046e2022e",
   "metadata": {},
   "source": [
    "### grid(): Advanced Formating\n",
    "See options on https://github.com/man-group/dtale#instance-settings"
   ]
  },
  {
   "cell_type": "code",
   "execution_count": 31,
   "id": "afb14de4-e5ba-48a8-8615-4c9fdb617535",
   "metadata": {
    "execution": {
     "iopub.execute_input": "2023-04-10T19:39:23.601825Z",
     "iopub.status.busy": "2023-04-10T19:39:23.601352Z",
     "iopub.status.idle": "2023-04-10T19:39:23.786936Z",
     "shell.execute_reply": "2023-04-10T19:39:23.785984Z",
     "shell.execute_reply.started": "2023-04-10T19:39:23.601795Z"
    }
   },
   "outputs": [
    {
     "name": "stdout",
     "output_type": "stream",
     "text": [
      "89 rows out of 100\n"
     ]
    },
    {
     "data": {
      "text/html": [
       "\n",
       "        <iframe\n",
       "            width=\"100%\"\n",
       "            height=\"475\"\n",
       "            src=\"http://pop-os:40000/dtale/iframe/5\"\n",
       "            frameborder=\"0\"\n",
       "            allowfullscreen\n",
       "            \n",
       "        ></iframe>\n",
       "        "
      ],
      "text/plain": [
       "<IPython.lib.display.IFrame at 0x7f4df90c8d90>"
      ]
     },
     "metadata": {},
     "output_type": "display_data"
    },
    {
     "data": {
      "text/plain": []
     },
     "execution_count": 31,
     "metadata": {},
     "output_type": "execute_result"
    }
   ],
   "source": [
    "mask = df.age > 25\n",
    "grid(df, mask, sort=[('first_name','ASC')], background_mode='heatmap-col-age')\n",
    "#grid(df, mask, drop_index=True,)"
   ]
  },
  {
   "cell_type": "markdown",
   "id": "03d54916-78f9-4da1-ae3d-4acecfedb9f6",
   "metadata": {},
   "source": [
    "### grid(): Special cases"
   ]
  },
  {
   "cell_type": "code",
   "execution_count": 32,
   "id": "bf26d5b2-c670-4fe4-aed7-9d6a5231c96c",
   "metadata": {
    "execution": {
     "iopub.execute_input": "2023-04-10T19:39:23.787993Z",
     "iopub.status.busy": "2023-04-10T19:39:23.787715Z",
     "iopub.status.idle": "2023-04-10T19:39:23.853652Z",
     "shell.execute_reply": "2023-04-10T19:39:23.851644Z",
     "shell.execute_reply.started": "2023-04-10T19:39:23.787966Z"
    }
   },
   "outputs": [
    {
     "name": "stdout",
     "output_type": "stream",
     "text": [
      "\u001b[1m\u001b[7m\u001b[31mNothing to show\u001b[0m\n"
     ]
    }
   ],
   "source": [
    "# No DataFrame\n",
    "grid(None)"
   ]
  },
  {
   "cell_type": "code",
   "execution_count": 33,
   "id": "7225ca3d-6e57-4d44-b0bc-0f2cdb985d55",
   "metadata": {
    "execution": {
     "iopub.execute_input": "2023-04-10T19:39:23.854941Z",
     "iopub.status.busy": "2023-04-10T19:39:23.854625Z",
     "iopub.status.idle": "2023-04-10T19:39:23.912844Z",
     "shell.execute_reply": "2023-04-10T19:39:23.911835Z",
     "shell.execute_reply.started": "2023-04-10T19:39:23.854913Z"
    }
   },
   "outputs": [
    {
     "name": "stdout",
     "output_type": "stream",
     "text": [
      "\u001b[1m\u001b[7m\u001b[34mNo rows\u001b[0m\n"
     ]
    }
   ],
   "source": [
    "# Empty DataFrame\n",
    "d = pd.DataFrame()\n",
    "grid(d)"
   ]
  },
  {
   "cell_type": "code",
   "execution_count": 34,
   "id": "b2019ec2-84c5-4fa0-b764-faa01ec92447",
   "metadata": {
    "execution": {
     "iopub.execute_input": "2023-04-10T19:39:23.913889Z",
     "iopub.status.busy": "2023-04-10T19:39:23.913613Z",
     "iopub.status.idle": "2023-04-10T19:39:23.968236Z",
     "shell.execute_reply": "2023-04-10T19:39:23.967529Z",
     "shell.execute_reply.started": "2023-04-10T19:39:23.913861Z"
    }
   },
   "outputs": [
    {
     "name": "stdout",
     "output_type": "stream",
     "text": [
      "\u001b[1m\u001b[7m\u001b[34mNo rows, mask filters them all away\u001b[0m\n"
     ]
    }
   ],
   "source": [
    "# 100% filtered \n",
    "mask = df.age > 1000\n",
    "grid(df,mask)"
   ]
  },
  {
   "cell_type": "code",
   "execution_count": 35,
   "id": "37d339e7-164b-43c3-8cff-5b9183afad87",
   "metadata": {
    "execution": {
     "iopub.execute_input": "2023-04-10T19:39:23.969288Z",
     "iopub.status.busy": "2023-04-10T19:39:23.969004Z",
     "iopub.status.idle": "2023-04-10T19:39:24.031200Z",
     "shell.execute_reply": "2023-04-10T19:39:24.028649Z",
     "shell.execute_reply.started": "2023-04-10T19:39:23.969262Z"
    }
   },
   "outputs": [
    {
     "name": "stdout",
     "output_type": "stream",
     "text": [
      "\u001b[1m\u001b[7m\u001b[32mNo rows, mask filters them all away\u001b[0m\n"
     ]
    }
   ],
   "source": [
    "# 100% filtered, and this is good\n",
    "mask = df.age > 1000\n",
    "grid(df,mask, color='green')"
   ]
  },
  {
   "cell_type": "code",
   "execution_count": 36,
   "id": "94fabd0f-d568-48bd-a9f0-ace60646ab68",
   "metadata": {
    "execution": {
     "iopub.execute_input": "2023-04-10T19:39:24.032127Z",
     "iopub.status.busy": "2023-04-10T19:39:24.031891Z",
     "iopub.status.idle": "2023-04-10T19:39:24.092640Z",
     "shell.execute_reply": "2023-04-10T19:39:24.091839Z",
     "shell.execute_reply.started": "2023-04-10T19:39:24.032106Z"
    }
   },
   "outputs": [
    {
     "name": "stdout",
     "output_type": "stream",
     "text": [
      "\u001b[1m\u001b[7m\u001b[31mNo rows, mask filters them all away\u001b[0m\n"
     ]
    }
   ],
   "source": [
    "# 100% filtered, and this is bad\n",
    "mask = df.age > 1000\n",
    "grid(df,mask, color='red')"
   ]
  },
  {
   "cell_type": "markdown",
   "id": "1067b294-87f2-43d2-8c8f-a5542ef1629c",
   "metadata": {},
   "source": [
    "### grid() & check_mask(): Show error rows and raise later"
   ]
  },
  {
   "cell_type": "code",
   "execution_count": 37,
   "id": "af8fa7b9-06cd-477a-9d61-c00396c2659f",
   "metadata": {
    "execution": {
     "iopub.execute_input": "2023-04-10T19:39:24.093645Z",
     "iopub.status.busy": "2023-04-10T19:39:24.093376Z",
     "iopub.status.idle": "2023-04-10T19:39:24.137444Z",
     "shell.execute_reply": "2023-04-10T19:39:24.136608Z",
     "shell.execute_reply.started": "2023-04-10T19:39:24.093619Z"
    }
   },
   "outputs": [
    {
     "name": "stdout",
     "output_type": "stream",
     "text": [
      "check_mask:  0 rows\n"
     ]
    }
   ],
   "source": [
    "# define a mask that contains errors\n",
    "# say our error is df.birthplace == 'Hamburg',\n",
    "# we don't want that to happen,\n",
    "# but if it happens we would like to see the rows\n",
    "mask = df.birthplace == 'Hamburg'\n",
    "pak.check_mask(df,mask)"
   ]
  },
  {
   "cell_type": "code",
   "execution_count": 38,
   "id": "70ac89d9-b0d9-4a62-abcd-11925fecd2e1",
   "metadata": {
    "execution": {
     "iopub.execute_input": "2023-04-10T19:39:24.138482Z",
     "iopub.status.busy": "2023-04-10T19:39:24.138197Z",
     "iopub.status.idle": "2023-04-10T19:39:24.190232Z",
     "shell.execute_reply": "2023-04-10T19:39:24.188704Z",
     "shell.execute_reply.started": "2023-04-10T19:39:24.138454Z"
    }
   },
   "outputs": [
    {
     "name": "stdout",
     "output_type": "stream",
     "text": [
      "check_mask:  0 rows\n"
     ]
    }
   ],
   "source": [
    "# checking for 0 raises an error, as we want.\n",
    "# But we don't see the rows affected\n",
    "pak.check_mask(df,mask, 0)"
   ]
  },
  {
   "cell_type": "code",
   "execution_count": 39,
   "id": "14fdc7e8-cd11-4a4c-a2f7-12673a19c562",
   "metadata": {
    "execution": {
     "iopub.execute_input": "2023-04-10T19:39:24.192067Z",
     "iopub.status.busy": "2023-04-10T19:39:24.191552Z",
     "iopub.status.idle": "2023-04-10T19:39:24.248616Z",
     "shell.execute_reply": "2023-04-10T19:39:24.247932Z",
     "shell.execute_reply.started": "2023-04-10T19:39:24.192033Z"
    }
   },
   "outputs": [
    {
     "name": "stdout",
     "output_type": "stream",
     "text": [
      "check_mask:  0 rows\n",
      "\u001b[1m\u001b[7m\u001b[34mNo rows, mask filters them all away\u001b[0m\n"
     ]
    }
   ],
   "source": [
    "# so we use this to show the error rows first\n",
    "error = pak.check_mask(df,mask, 0, stop=False)\n",
    "grid(df, mask, error) "
   ]
  },
  {
   "cell_type": "code",
   "execution_count": 40,
   "id": "90e49181-c1c9-4c78-97c3-c3271321ba64",
   "metadata": {
    "execution": {
     "iopub.execute_input": "2023-04-10T19:39:24.249481Z",
     "iopub.status.busy": "2023-04-10T19:39:24.249254Z",
     "iopub.status.idle": "2023-04-10T19:39:24.308207Z",
     "shell.execute_reply": "2023-04-10T19:39:24.305337Z",
     "shell.execute_reply.started": "2023-04-10T19:39:24.249460Z"
    }
   },
   "outputs": [],
   "source": [
    "# and raise later\n",
    "bpy.raise_if(error)"
   ]
  },
  {
   "cell_type": "markdown",
   "id": "3f8b99de-87a4-42b8-9748-63dd2a45f76e",
   "metadata": {},
   "source": [
    "## memory_consumption"
   ]
  },
  {
   "cell_type": "code",
   "execution_count": 41,
   "id": "40eda3d2-885c-4ffb-afe5-8ca32f6e7361",
   "metadata": {
    "execution": {
     "iopub.execute_input": "2023-04-10T19:39:24.309624Z",
     "iopub.status.busy": "2023-04-10T19:39:24.309189Z",
     "iopub.status.idle": "2023-04-10T19:39:24.384501Z",
     "shell.execute_reply": "2023-04-10T19:39:24.383752Z",
     "shell.execute_reply.started": "2023-04-10T19:39:24.309595Z"
    }
   },
   "outputs": [
    {
     "data": {
      "text/plain": [
       "\u001b[0;31mSignature:\u001b[0m \u001b[0mpak\u001b[0m\u001b[0;34m.\u001b[0m\u001b[0mmemory_consumption\u001b[0m\u001b[0;34m(\u001b[0m\u001b[0miteration_of_objects\u001b[0m\u001b[0;34m,\u001b[0m \u001b[0mlimit\u001b[0m\u001b[0;34m=\u001b[0m\u001b[0;36m10\u001b[0m\u001b[0;34m,\u001b[0m \u001b[0muse_rtype\u001b[0m\u001b[0;34m=\u001b[0m\u001b[0;32mTrue\u001b[0m\u001b[0;34m)\u001b[0m\u001b[0;34m\u001b[0m\u001b[0;34m\u001b[0m\u001b[0m\n",
       "\u001b[0;31mDocstring:\u001b[0m\n",
       "Returns the memory consumption of Python objects.\n",
       "* iteration_of_objects: can be e.g. a DataFrame or just locals()\n",
       "* limit: Limits the output size\n",
       "* use_rtype: Use rtype instead of type?\n",
       "\n",
       "For the memory consumption of the biggest 10 local variables call:\n",
       "bpy.memory_consumption( locals() )\n",
       "\u001b[0;31mFile:\u001b[0m      ~/Data_Linux/Dropbox/31_Projekte/01_Python/git/pandasklar/src/pandasklar/analyse.py\n",
       "\u001b[0;31mType:\u001b[0m      function\n"
      ]
     },
     "metadata": {},
     "output_type": "display_data"
    }
   ],
   "source": [
    "?pak.memory_consumption"
   ]
  },
  {
   "cell_type": "code",
   "execution_count": 42,
   "id": "68f45c73-37bc-43df-82db-78ad2c73022b",
   "metadata": {
    "execution": {
     "iopub.execute_input": "2023-04-10T19:39:24.386545Z",
     "iopub.status.busy": "2023-04-10T19:39:24.385272Z",
     "iopub.status.idle": "2023-04-10T19:39:24.549324Z",
     "shell.execute_reply": "2023-04-10T19:39:24.547273Z",
     "shell.execute_reply.started": "2023-04-10T19:39:24.386509Z"
    }
   },
   "outputs": [
    {
     "data": {
      "text/html": [
       "<div>\n",
       "<style scoped>\n",
       "    .dataframe tbody tr th:only-of-type {\n",
       "        vertical-align: middle;\n",
       "    }\n",
       "\n",
       "    .dataframe tbody tr th {\n",
       "        vertical-align: top;\n",
       "    }\n",
       "\n",
       "    .dataframe thead th {\n",
       "        text-align: right;\n",
       "    }\n",
       "</style>\n",
       "<table border=\"1\" class=\"dataframe\">\n",
       "  <thead>\n",
       "    <tr style=\"text-align: right;\">\n",
       "      <th></th>\n",
       "      <th>name</th>\n",
       "      <th>rtype</th>\n",
       "      <th>size</th>\n",
       "    </tr>\n",
       "  </thead>\n",
       "  <tbody>\n",
       "    <tr>\n",
       "      <th>0</th>\n",
       "      <td>df6</td>\n",
       "      <td>(DataFrame, Series)</td>\n",
       "      <td>5.7 MB</td>\n",
       "    </tr>\n",
       "    <tr>\n",
       "      <th>1</th>\n",
       "      <td>df5</td>\n",
       "      <td>(DataFrame, Series)</td>\n",
       "      <td>590.2 KB</td>\n",
       "    </tr>\n",
       "    <tr>\n",
       "      <th>2</th>\n",
       "      <td>df</td>\n",
       "      <td>(DataFrame, Series)</td>\n",
       "      <td>58.4 KB</td>\n",
       "    </tr>\n",
       "    <tr>\n",
       "      <th>3</th>\n",
       "      <td>df4</td>\n",
       "      <td>(DataFrame, Series)</td>\n",
       "      <td>58.4 KB</td>\n",
       "    </tr>\n",
       "    <tr>\n",
       "      <th>4</th>\n",
       "      <td>a</td>\n",
       "      <td>(DataFrame, Series)</td>\n",
       "      <td>11.0 KB</td>\n",
       "    </tr>\n",
       "    <tr>\n",
       "      <th>5</th>\n",
       "      <td>_11</td>\n",
       "      <td>(DataFrame, Series)</td>\n",
       "      <td>11.0 KB</td>\n",
       "    </tr>\n",
       "    <tr>\n",
       "      <th>6</th>\n",
       "      <td>_14</td>\n",
       "      <td>(DataFrame, Series)</td>\n",
       "      <td>8.9 KB</td>\n",
       "    </tr>\n",
       "    <tr>\n",
       "      <th>7</th>\n",
       "      <td>df3</td>\n",
       "      <td>(DataFrame, Series)</td>\n",
       "      <td>5.9 KB</td>\n",
       "    </tr>\n",
       "    <tr>\n",
       "      <th>8</th>\n",
       "      <td>_15</td>\n",
       "      <td>(DataFrame, Series)</td>\n",
       "      <td>5.9 KB</td>\n",
       "    </tr>\n",
       "    <tr>\n",
       "      <th>9</th>\n",
       "      <td>Stop</td>\n",
       "      <td>(type,)</td>\n",
       "      <td>1.0 KB</td>\n",
       "    </tr>\n",
       "  </tbody>\n",
       "</table>\n",
       "</div>"
      ],
      "text/plain": [
       "   name                rtype      size\n",
       "0   df6  (DataFrame, Series)    5.7 MB\n",
       "1   df5  (DataFrame, Series)  590.2 KB\n",
       "2    df  (DataFrame, Series)   58.4 KB\n",
       "3   df4  (DataFrame, Series)   58.4 KB\n",
       "4     a  (DataFrame, Series)   11.0 KB\n",
       "5   _11  (DataFrame, Series)   11.0 KB\n",
       "6   _14  (DataFrame, Series)    8.9 KB\n",
       "7   df3  (DataFrame, Series)    5.9 KB\n",
       "8   _15  (DataFrame, Series)    5.9 KB\n",
       "9  Stop              (type,)    1.0 KB"
      ]
     },
     "execution_count": 42,
     "metadata": {},
     "output_type": "execute_result"
    }
   ],
   "source": [
    "# All local variables\n",
    "r = pak.memory_consumption( locals() )\n",
    "r"
   ]
  },
  {
   "cell_type": "code",
   "execution_count": 43,
   "id": "6fa802c7-a86b-4569-8343-835c414209d0",
   "metadata": {
    "execution": {
     "iopub.execute_input": "2023-04-10T19:39:24.554357Z",
     "iopub.status.busy": "2023-04-10T19:39:24.551056Z",
     "iopub.status.idle": "2023-04-10T19:39:24.645172Z",
     "shell.execute_reply": "2023-04-10T19:39:24.643097Z",
     "shell.execute_reply.started": "2023-04-10T19:39:24.554277Z"
    }
   },
   "outputs": [
    {
     "data": {
      "text/html": [
       "<div>\n",
       "<style scoped>\n",
       "    .dataframe tbody tr th:only-of-type {\n",
       "        vertical-align: middle;\n",
       "    }\n",
       "\n",
       "    .dataframe tbody tr th {\n",
       "        vertical-align: top;\n",
       "    }\n",
       "\n",
       "    .dataframe thead th {\n",
       "        text-align: right;\n",
       "    }\n",
       "</style>\n",
       "<table border=\"1\" class=\"dataframe\">\n",
       "  <thead>\n",
       "    <tr style=\"text-align: right;\">\n",
       "      <th></th>\n",
       "      <th>name</th>\n",
       "      <th>rtype</th>\n",
       "      <th>size</th>\n",
       "    </tr>\n",
       "  </thead>\n",
       "  <tbody>\n",
       "    <tr>\n",
       "      <th>0</th>\n",
       "      <td>features</td>\n",
       "      <td>(Series, set, str)</td>\n",
       "      <td>31.0 KB</td>\n",
       "    </tr>\n",
       "    <tr>\n",
       "      <th>1</th>\n",
       "      <td>secret</td>\n",
       "      <td>(Series, str)</td>\n",
       "      <td>8.0 KB</td>\n",
       "    </tr>\n",
       "    <tr>\n",
       "      <th>2</th>\n",
       "      <td>history</td>\n",
       "      <td>(Series, list, str)</td>\n",
       "      <td>7.2 KB</td>\n",
       "    </tr>\n",
       "    <tr>\n",
       "      <th>3</th>\n",
       "      <td>first_name</td>\n",
       "      <td>(Series, str)</td>\n",
       "      <td>6.3 KB</td>\n",
       "    </tr>\n",
       "    <tr>\n",
       "      <th>4</th>\n",
       "      <td>birthplace</td>\n",
       "      <td>(Series, str)</td>\n",
       "      <td>5.6 KB</td>\n",
       "    </tr>\n",
       "    <tr>\n",
       "      <th>5</th>\n",
       "      <td>postal_code</td>\n",
       "      <td>(Series, NAType)</td>\n",
       "      <td>644.0 B</td>\n",
       "    </tr>\n",
       "    <tr>\n",
       "      <th>6</th>\n",
       "      <td>age</td>\n",
       "      <td>(Series, int8)</td>\n",
       "      <td>344.0 B</td>\n",
       "    </tr>\n",
       "    <tr>\n",
       "      <th>7</th>\n",
       "      <td>age_class</td>\n",
       "      <td>(Series, int8)</td>\n",
       "      <td>344.0 B</td>\n",
       "    </tr>\n",
       "  </tbody>\n",
       "</table>\n",
       "</div>"
      ],
      "text/plain": [
       "          name                rtype     size\n",
       "0     features   (Series, set, str)  31.0 KB\n",
       "1       secret        (Series, str)   8.0 KB\n",
       "2      history  (Series, list, str)   7.2 KB\n",
       "3   first_name        (Series, str)   6.3 KB\n",
       "4   birthplace        (Series, str)   5.6 KB\n",
       "5  postal_code     (Series, NAType)  644.0 B\n",
       "6          age       (Series, int8)  344.0 B\n",
       "7    age_class       (Series, int8)  344.0 B"
      ]
     },
     "execution_count": 43,
     "metadata": {},
     "output_type": "execute_result"
    }
   ],
   "source": [
    "# If you give a DataFrame, it will return the column sizes\n",
    "pak.memory_consumption( df )"
   ]
  },
  {
   "cell_type": "code",
   "execution_count": null,
   "id": "c374094a-f236-4da1-bd4a-ebaf0f50652e",
   "metadata": {},
   "outputs": [],
   "source": []
  }
 ],
 "metadata": {
  "kernelspec": {
   "display_name": "Python 3 (ipykernel)",
   "language": "python",
   "name": "python3"
  },
  "language_info": {
   "codemirror_mode": {
    "name": "ipython",
    "version": 3
   },
   "file_extension": ".py",
   "mimetype": "text/x-python",
   "name": "python",
   "nbconvert_exporter": "python",
   "pygments_lexer": "ipython3",
   "version": "3.9.13"
  }
 },
 "nbformat": 4,
 "nbformat_minor": 5
}
