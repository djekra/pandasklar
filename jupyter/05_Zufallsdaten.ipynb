{
 "cells": [
  {
   "cell_type": "markdown",
   "metadata": {},
   "source": [
    "# Zufallsdaten"
   ]
  },
  {
   "cell_type": "code",
   "execution_count": 1,
   "metadata": {},
   "outputs": [
    {
     "name": "stdout",
     "output_type": "stream",
     "text": [
      "dropbox_path = /Data/Dropbox\n"
     ]
    },
    {
     "data": {
      "text/html": [
       "<img src onerror=\"var cell = this.closest('.jp-CodeCell');var editor = cell.querySelector('.jp-Editor');editor.style.background='DarkGray';this.parentNode.removeChild(this)\">"
      ],
      "text/plain": [
       "<IPython.core.display.HTML object>"
      ]
     },
     "metadata": {},
     "output_type": "display_data"
    },
    {
     "name": "stdout",
     "output_type": "stream",
     "text": [
      "time: 4.61 ms (started: 2022-02-14 07:44:35 +00:00)\n"
     ]
    }
   ],
   "source": [
    "# blab init\n",
    "import blab\n",
    "startup_notebook = blab.blab_startup()\n",
    "%run $startup_notebook"
   ]
  },
  {
   "cell_type": "code",
   "execution_count": 2,
   "metadata": {},
   "outputs": [
    {
     "name": "stdout",
     "output_type": "stream",
     "text": [
      "time: 312 ms (started: 2022-02-14 07:44:35 +00:00)\n"
     ]
    }
   ],
   "source": [
    "import numpy      as np\n",
    "import pandas     as pd \n",
    "import bpyth      as bpy\n",
    "import pandasklar as pak "
   ]
  },
  {
   "cell_type": "markdown",
   "metadata": {},
   "source": [
    "## Zufallsdaten"
   ]
  },
  {
   "cell_type": "code",
   "execution_count": 3,
   "metadata": {},
   "outputs": [
    {
     "name": "stdout",
     "output_type": "stream",
     "text": [
      "time: 43 ms (started: 2022-02-14 07:44:36 +00:00)\n"
     ]
    },
    {
     "data": {
      "text/plain": [
       "\u001b[0;31mSignature:\u001b[0m \u001b[0mpak\u001b[0m\u001b[0;34m.\u001b[0m\u001b[0mrandom_series\u001b[0m\u001b[0;34m(\u001b[0m\u001b[0msize\u001b[0m\u001b[0;34m,\u001b[0m \u001b[0mtyp\u001b[0m\u001b[0;34m,\u001b[0m \u001b[0;34m**\u001b[0m\u001b[0mkwargs\u001b[0m\u001b[0;34m)\u001b[0m\u001b[0;34m\u001b[0m\u001b[0;34m\u001b[0m\u001b[0m\n",
       "\u001b[0;31mDocstring:\u001b[0m\n",
       "Liefert eine Series von Zufallsdaten.\n",
       "\n",
       "Die Argumente werden dabei an die zuständigen Funktionen für Series weitergereicht.\n",
       "Generelle Argumente sind:\n",
       "* name\n",
       "* p_nan: Wert 0..1 legt fest, wieviele NaNs eingestreut werden\n",
       "* p_dup: Wert 0..1 legt fest, wieviele Dups enthalten sind.\n",
       "Beispiele:\n",
       "random_series( 10, 'int')\n",
       "random_series( 10, 'string', len_min=1, len_max=2)\n",
       "\u001b[0;31mFile:\u001b[0m      /Data/Dropbox/31_Projekte/01_Python/90 libs/pandasklar/content.py\n",
       "\u001b[0;31mType:\u001b[0m      function\n"
      ]
     },
     "metadata": {},
     "output_type": "display_data"
    }
   ],
   "source": [
    "?pak.random_series"
   ]
  },
  {
   "cell_type": "code",
   "execution_count": 4,
   "metadata": {},
   "outputs": [
    {
     "name": "stdout",
     "output_type": "stream",
     "text": [
      "Object `decorate` not found.\n",
      "time: 842 µs (started: 2022-02-14 07:44:36 +00:00)\n"
     ]
    }
   ],
   "source": [
    "?decorate"
   ]
  },
  {
   "cell_type": "code",
   "execution_count": 5,
   "metadata": {},
   "outputs": [
    {
     "data": {
      "text/html": [
       "<div>\n",
       "<style scoped>\n",
       "    .dataframe tbody tr th:only-of-type {\n",
       "        vertical-align: middle;\n",
       "    }\n",
       "\n",
       "    .dataframe tbody tr th {\n",
       "        vertical-align: top;\n",
       "    }\n",
       "\n",
       "    .dataframe thead th {\n",
       "        text-align: right;\n",
       "    }\n",
       "</style>\n",
       "<table border=\"1\" class=\"dataframe\">\n",
       "  <thead>\n",
       "    <tr style=\"text-align: right;\">\n",
       "      <th></th>\n",
       "      <th>A</th>\n",
       "      <th>B</th>\n",
       "      <th>C</th>\n",
       "      <th>D</th>\n",
       "      <th>E</th>\n",
       "    </tr>\n",
       "  </thead>\n",
       "  <tbody>\n",
       "    <tr>\n",
       "      <th>0</th>\n",
       "      <td>459</td>\n",
       "      <td>0.850</td>\n",
       "      <td>jVoQa</td>\n",
       "      <td>Jannick</td>\n",
       "      <td>b</td>\n",
       "    </tr>\n",
       "    <tr>\n",
       "      <th>1</th>\n",
       "      <td>273</td>\n",
       "      <td>0.319</td>\n",
       "      <td>lfIP</td>\n",
       "      <td>Uwe</td>\n",
       "      <td>c</td>\n",
       "    </tr>\n",
       "    <tr>\n",
       "      <th>2</th>\n",
       "      <td>236</td>\n",
       "      <td>0.445</td>\n",
       "      <td>PudD</td>\n",
       "      <td>Tom</td>\n",
       "      <td>e</td>\n",
       "    </tr>\n",
       "  </tbody>\n",
       "</table>\n",
       "</div>"
      ],
      "text/plain": [
       "     A      B      C        D  E\n",
       "0  459  0.850  jVoQa  Jannick  b\n",
       "1  273  0.319   lfIP      Uwe  c\n",
       "2  236  0.445   PudD      Tom  e"
      ]
     },
     "execution_count": 5,
     "metadata": {},
     "output_type": "execute_result"
    },
    {
     "name": "stdout",
     "output_type": "stream",
     "text": [
      "time: 15.6 ms (started: 2022-02-14 07:44:36 +00:00)\n"
     ]
    }
   ],
   "source": [
    "# einfachste Variante\n",
    "anz = 3\n",
    "i = pak.random_series( anz, 'i')\n",
    "f = pak.random_series( anz, 'f')\n",
    "s = pak.random_series( anz, 's')\n",
    "n = pak.random_series( anz, 'n')\n",
    "c = pak.random_series( anz, 'c')\n",
    "pak.dataframe( (i, f, s, n, c) )"
   ]
  },
  {
   "cell_type": "code",
   "execution_count": 6,
   "metadata": {},
   "outputs": [
    {
     "data": {
      "text/plain": [
       "pandas.core.series.Series"
      ]
     },
     "execution_count": 6,
     "metadata": {},
     "output_type": "execute_result"
    },
    {
     "name": "stdout",
     "output_type": "stream",
     "text": [
      "time: 4.63 ms (started: 2022-02-14 07:44:36 +00:00)\n"
     ]
    }
   ],
   "source": [
    "test = pak.random_series( 10, 'string', len_min=2, len_max=20,           p_nan=0,     p_dup=0,    name='Zufallsstring')\n",
    "type(test)"
   ]
  },
  {
   "cell_type": "code",
   "execution_count": 7,
   "metadata": {},
   "outputs": [
    {
     "data": {
      "text/html": [
       "<div>\n",
       "<style scoped>\n",
       "    .dataframe tbody tr th:only-of-type {\n",
       "        vertical-align: middle;\n",
       "    }\n",
       "\n",
       "    .dataframe tbody tr th {\n",
       "        vertical-align: top;\n",
       "    }\n",
       "\n",
       "    .dataframe thead th {\n",
       "        text-align: right;\n",
       "    }\n",
       "</style>\n",
       "<table border=\"1\" class=\"dataframe\">\n",
       "  <thead>\n",
       "    <tr style=\"text-align: right;\">\n",
       "      <th></th>\n",
       "      <th>Ganzzahl</th>\n",
       "      <th>Fließkommazahl</th>\n",
       "      <th>Zufallsstring</th>\n",
       "      <th>Vorname</th>\n",
       "      <th>Stadt</th>\n",
       "      <th>Liste</th>\n",
       "      <th>Mix</th>\n",
       "    </tr>\n",
       "  </thead>\n",
       "  <tbody>\n",
       "    <tr>\n",
       "      <th>0</th>\n",
       "      <td>2</td>\n",
       "      <td>0.0000</td>\n",
       "      <td>VkiaieKA87jUe</td>\n",
       "      <td>Peter</td>\n",
       "      <td>Bremerhaven</td>\n",
       "      <td>[Kevin, Anna]</td>\n",
       "      <td>{0}</td>\n",
       "    </tr>\n",
       "    <tr>\n",
       "      <th>1</th>\n",
       "      <td>0</td>\n",
       "      <td>0.0000</td>\n",
       "      <td>&lt;NA&gt;</td>\n",
       "      <td>Dominik</td>\n",
       "      <td>Bremen</td>\n",
       "      <td>[Katharina, Jakob, Bettina, Luisa, Wolfgang, A...</td>\n",
       "      <td>58168</td>\n",
       "    </tr>\n",
       "    <tr>\n",
       "      <th>2</th>\n",
       "      <td>&lt;NA&gt;</td>\n",
       "      <td>0.4707</td>\n",
       "      <td>mo70XR</td>\n",
       "      <td>&lt;NA&gt;</td>\n",
       "      <td>Bremen</td>\n",
       "      <td>[Christian, David, Tom, Florian, Patrick, Davi...</td>\n",
       "      <td>lnovAorVeäHl3idcexo</td>\n",
       "    </tr>\n",
       "    <tr>\n",
       "      <th>3</th>\n",
       "      <td>4</td>\n",
       "      <td>0.0000</td>\n",
       "      <td>hsuEBlfEGJ8</td>\n",
       "      <td>Jana</td>\n",
       "      <td>Bremerhaven</td>\n",
       "      <td>[Tom, Lars, Anja, Rita, Simone, Emil, Richard,...</td>\n",
       "      <td>NaN</td>\n",
       "    </tr>\n",
       "    <tr>\n",
       "      <th>4</th>\n",
       "      <td>3</td>\n",
       "      <td>0.0000</td>\n",
       "      <td>6Y</td>\n",
       "      <td>Linda</td>\n",
       "      <td>Bremen</td>\n",
       "      <td>[Ben, Nina, Hertha, Anna, Leoni, Willy, Peter]</td>\n",
       "      <td>-39485</td>\n",
       "    </tr>\n",
       "    <tr>\n",
       "      <th>...</th>\n",
       "      <td>...</td>\n",
       "      <td>...</td>\n",
       "      <td>...</td>\n",
       "      <td>...</td>\n",
       "      <td>...</td>\n",
       "      <td>...</td>\n",
       "      <td>...</td>\n",
       "    </tr>\n",
       "    <tr>\n",
       "      <th>95</th>\n",
       "      <td>-3</td>\n",
       "      <td>0.0385</td>\n",
       "      <td>iM6vmyXmbL3eÖWdepiE4</td>\n",
       "      <td>Inge</td>\n",
       "      <td>Bremen</td>\n",
       "      <td>[Philip, Anja, Antonia, Sophia, Richard, Julia...</td>\n",
       "      <td>4TÄPxXR1U5x2üoÖIYb</td>\n",
       "    </tr>\n",
       "    <tr>\n",
       "      <th>96</th>\n",
       "      <td>-4</td>\n",
       "      <td>0.1213</td>\n",
       "      <td>fnmö2Ji</td>\n",
       "      <td>Gustav</td>\n",
       "      <td>Bremen</td>\n",
       "      <td>[Anette, Tom, Louis, Jens, Alina, Regina, Bern...</td>\n",
       "      <td>20623</td>\n",
       "    </tr>\n",
       "    <tr>\n",
       "      <th>97</th>\n",
       "      <td>-3</td>\n",
       "      <td>0.4418</td>\n",
       "      <td>t6jQg</td>\n",
       "      <td>Lennard</td>\n",
       "      <td>Bremen</td>\n",
       "      <td>[Charlotte, Simone, Eric, Tanja, Tanja, Hendri...</td>\n",
       "      <td>0.2195</td>\n",
       "    </tr>\n",
       "    <tr>\n",
       "      <th>98</th>\n",
       "      <td>&lt;NA&gt;</td>\n",
       "      <td>0.0000</td>\n",
       "      <td>&lt;NA&gt;</td>\n",
       "      <td>Gustav</td>\n",
       "      <td>Bremerhaven</td>\n",
       "      <td>[Pascal, Anna]</td>\n",
       "      <td>0.8454</td>\n",
       "    </tr>\n",
       "    <tr>\n",
       "      <th>99</th>\n",
       "      <td>&lt;NA&gt;</td>\n",
       "      <td>0.5036</td>\n",
       "      <td>FjFOmusquQEkg</td>\n",
       "      <td>&lt;NA&gt;</td>\n",
       "      <td>Bremerhaven</td>\n",
       "      <td>NaN</td>\n",
       "      <td>Bremerhaven</td>\n",
       "    </tr>\n",
       "  </tbody>\n",
       "</table>\n",
       "<p>100 rows × 7 columns</p>\n",
       "</div>"
      ],
      "text/plain": [
       "    Ganzzahl  Fließkommazahl         Zufallsstring  Vorname        Stadt  \\\n",
       "0          2          0.0000         VkiaieKA87jUe    Peter  Bremerhaven   \n",
       "1          0          0.0000                  <NA>  Dominik       Bremen   \n",
       "2       <NA>          0.4707                mo70XR     <NA>       Bremen   \n",
       "3          4          0.0000           hsuEBlfEGJ8     Jana  Bremerhaven   \n",
       "4          3          0.0000                    6Y    Linda       Bremen   \n",
       "..       ...             ...                   ...      ...          ...   \n",
       "95        -3          0.0385  iM6vmyXmbL3eÖWdepiE4     Inge       Bremen   \n",
       "96        -4          0.1213               fnmö2Ji   Gustav       Bremen   \n",
       "97        -3          0.4418                 t6jQg  Lennard       Bremen   \n",
       "98      <NA>          0.0000                  <NA>   Gustav  Bremerhaven   \n",
       "99      <NA>          0.5036         FjFOmusquQEkg     <NA>  Bremerhaven   \n",
       "\n",
       "                                                Liste                  Mix  \n",
       "0                                       [Kevin, Anna]                  {0}  \n",
       "1   [Katharina, Jakob, Bettina, Luisa, Wolfgang, A...                58168  \n",
       "2   [Christian, David, Tom, Florian, Patrick, Davi...  lnovAorVeäHl3idcexo  \n",
       "3   [Tom, Lars, Anja, Rita, Simone, Emil, Richard,...                  NaN  \n",
       "4      [Ben, Nina, Hertha, Anna, Leoni, Willy, Peter]               -39485  \n",
       "..                                                ...                  ...  \n",
       "95  [Philip, Anja, Antonia, Sophia, Richard, Julia...   4TÄPxXR1U5x2üoÖIYb  \n",
       "96  [Anette, Tom, Louis, Jens, Alina, Regina, Bern...                20623  \n",
       "97  [Charlotte, Simone, Eric, Tanja, Tanja, Hendri...               0.2195  \n",
       "98                                     [Pascal, Anna]               0.8454  \n",
       "99                                                NaN          Bremerhaven  \n",
       "\n",
       "[100 rows x 7 columns]"
      ]
     },
     "execution_count": 7,
     "metadata": {},
     "output_type": "execute_result"
    },
    {
     "name": "stdout",
     "output_type": "stream",
     "text": [
      "time: 87.8 ms (started: 2022-02-14 07:44:36 +00:00)\n"
     ]
    }
   ],
   "source": [
    "# Mit Parametern\n",
    "anz = 100\n",
    "i = pak.random_series( anz, 'int',    min=-5, max=5,                   p_nan=0.1,   p_dup=0,    name='Ganzzahl')\n",
    "f = pak.random_series( anz, 'float',  decimals=4,                      p_nan=0.1,   p_dup=0,    name='Fließkommazahl')\n",
    "f = f.apply(pak.decorate, special=0, p=0.5)\n",
    "s = pak.random_series( anz, 'string', len_min=2, len_max=20,           p_nan=0.2,   p_dup=0,    name='Zufallsstring')\n",
    "n = pak.random_series( anz, 'name',                                    p_nan=0.2,   p_dup=0.33, name='Vorname')\n",
    "c = pak.random_series( anz, 'choice', choice=['Bremen','Bremerhaven'], p_nan=0.3,   p_dup=0,    name='Stadt')\n",
    "l = pak.random_series( anz, 'list',                                    p_nan=0.3,   p_dup=0.5,  name='Liste')\n",
    "m = pak.random_series( anz, 'mix',                                     p_nan=0.1,   p_dup=0,    name='Mix')\n",
    "df = pak.dataframe( (i, f, s, n, c, l, m) )\n",
    "df"
   ]
  },
  {
   "cell_type": "code",
   "execution_count": 8,
   "metadata": {},
   "outputs": [
    {
     "name": "stdout",
     "output_type": "stream",
     "text": [
      "8 Datensätze\n"
     ]
    },
    {
     "data": {
      "application/vnd.jupyter.widget-view+json": {
       "model_id": "9a36075d3a894c1a8f933c94f9309c89",
       "version_major": 2,
       "version_minor": 0
      },
      "text/plain": [
       "QgridWidget(grid_options={'fullWidthRows': True, 'syncColumnCellResize': True, 'forceFitColumns': False, 'defa…"
      ]
     },
     "metadata": {},
     "output_type": "display_data"
    },
    {
     "name": "stdout",
     "output_type": "stream",
     "text": [
      "time: 35.8 ms (started: 2022-02-14 07:44:36 +00:00)\n"
     ]
    }
   ],
   "source": [
    "pak.grid(pak.analyse_cols(df))"
   ]
  },
  {
   "cell_type": "markdown",
   "metadata": {},
   "source": [
    "## Zufallsdaten: leute()"
   ]
  },
  {
   "cell_type": "code",
   "execution_count": 9,
   "metadata": {},
   "outputs": [
    {
     "name": "stdout",
     "output_type": "stream",
     "text": [
      "time: 1.34 ms (started: 2022-02-14 07:44:36 +00:00)\n"
     ]
    },
    {
     "data": {
      "text/plain": [
       "\u001b[0;31mSignature:\u001b[0m \u001b[0mpak\u001b[0m\u001b[0;34m.\u001b[0m\u001b[0mleute\u001b[0m\u001b[0;34m(\u001b[0m\u001b[0manz\u001b[0m\u001b[0;34m=\u001b[0m\u001b[0;36m100\u001b[0m\u001b[0;34m)\u001b[0m\u001b[0;34m\u001b[0m\u001b[0;34m\u001b[0m\u001b[0m\n",
       "\u001b[0;31mDocstring:\u001b[0m Liefert ein DataFrame zu Testzwecken \n",
       "\u001b[0;31mFile:\u001b[0m      /Data/Dropbox/31_Projekte/01_Python/90 libs/pandasklar/content.py\n",
       "\u001b[0;31mType:\u001b[0m      function\n"
      ]
     },
     "metadata": {},
     "output_type": "display_data"
    }
   ],
   "source": [
    "?pak.leute"
   ]
  },
  {
   "cell_type": "code",
   "execution_count": 10,
   "metadata": {},
   "outputs": [
    {
     "data": {
      "text/html": [
       "<div>\n",
       "<style scoped>\n",
       "    .dataframe tbody tr th:only-of-type {\n",
       "        vertical-align: middle;\n",
       "    }\n",
       "\n",
       "    .dataframe tbody tr th {\n",
       "        vertical-align: top;\n",
       "    }\n",
       "\n",
       "    .dataframe thead th {\n",
       "        text-align: right;\n",
       "    }\n",
       "</style>\n",
       "<table border=\"1\" class=\"dataframe\">\n",
       "  <thead>\n",
       "    <tr style=\"text-align: right;\">\n",
       "      <th></th>\n",
       "      <th>vorname</th>\n",
       "      <th>alter</th>\n",
       "      <th>altersklasse</th>\n",
       "      <th>plz</th>\n",
       "      <th>geburtsstadt</th>\n",
       "      <th>passwort</th>\n",
       "      <th>merkmale</th>\n",
       "      <th>history</th>\n",
       "    </tr>\n",
       "  </thead>\n",
       "  <tbody>\n",
       "    <tr>\n",
       "      <th>0</th>\n",
       "      <td>Maik</td>\n",
       "      <td>33</td>\n",
       "      <td>30</td>\n",
       "      <td>55493</td>\n",
       "      <td>Bremen</td>\n",
       "      <td>uK6Hyv7F</td>\n",
       "      <td>{p, B}</td>\n",
       "      <td>[A, B, C, C]</td>\n",
       "    </tr>\n",
       "    <tr>\n",
       "      <th>1</th>\n",
       "      <td>Niklas</td>\n",
       "      <td>29</td>\n",
       "      <td>20</td>\n",
       "      <td>32582</td>\n",
       "      <td>Berlin</td>\n",
       "      <td>PTÜhFwÜE</td>\n",
       "      <td>{X, p}</td>\n",
       "      <td>[A, B, C]</td>\n",
       "    </tr>\n",
       "    <tr>\n",
       "      <th>2</th>\n",
       "      <td>Manfred</td>\n",
       "      <td>32</td>\n",
       "      <td>30</td>\n",
       "      <td>64881</td>\n",
       "      <td>&lt;NA&gt;</td>\n",
       "      <td>xoaeAvÖö9</td>\n",
       "      <td>{e, I, W}</td>\n",
       "      <td>[A, C, C, B]</td>\n",
       "    </tr>\n",
       "    <tr>\n",
       "      <th>3</th>\n",
       "      <td>Andre</td>\n",
       "      <td>39</td>\n",
       "      <td>30</td>\n",
       "      <td>68262</td>\n",
       "      <td>Bremen</td>\n",
       "      <td>WYzOrGGGOU</td>\n",
       "      <td>{A, I, G, N}</td>\n",
       "      <td>[A, A, A]</td>\n",
       "    </tr>\n",
       "    <tr>\n",
       "      <th>4</th>\n",
       "      <td>Niko</td>\n",
       "      <td>30</td>\n",
       "      <td>30</td>\n",
       "      <td>99809</td>\n",
       "      <td>&lt;NA&gt;</td>\n",
       "      <td>kaof3YöÜ</td>\n",
       "      <td>{E, f, T}</td>\n",
       "      <td>[c, b, a]</td>\n",
       "    </tr>\n",
       "    <tr>\n",
       "      <th>...</th>\n",
       "      <td>...</td>\n",
       "      <td>...</td>\n",
       "      <td>...</td>\n",
       "      <td>...</td>\n",
       "      <td>...</td>\n",
       "      <td>...</td>\n",
       "      <td>...</td>\n",
       "      <td>...</td>\n",
       "    </tr>\n",
       "    <tr>\n",
       "      <th>95</th>\n",
       "      <td>Gisela</td>\n",
       "      <td>29</td>\n",
       "      <td>20</td>\n",
       "      <td>16801</td>\n",
       "      <td>Berlin</td>\n",
       "      <td>äbYrösd</td>\n",
       "      <td>{2, J}</td>\n",
       "      <td>[A, B, C, C]</td>\n",
       "    </tr>\n",
       "    <tr>\n",
       "      <th>96</th>\n",
       "      <td>Anna</td>\n",
       "      <td>27</td>\n",
       "      <td>20</td>\n",
       "      <td>40610</td>\n",
       "      <td>Bremen</td>\n",
       "      <td>TlhImWe</td>\n",
       "      <td>{t, B, s, R, T}</td>\n",
       "      <td>[A, B, C]</td>\n",
       "    </tr>\n",
       "    <tr>\n",
       "      <th>97</th>\n",
       "      <td>Andre</td>\n",
       "      <td>29</td>\n",
       "      <td>20</td>\n",
       "      <td>11375</td>\n",
       "      <td>Bremen</td>\n",
       "      <td>SGFe3SN</td>\n",
       "      <td>{5, w, C, G, I}</td>\n",
       "      <td>[A, B, C]</td>\n",
       "    </tr>\n",
       "    <tr>\n",
       "      <th>98</th>\n",
       "      <td>Karin</td>\n",
       "      <td>42</td>\n",
       "      <td>40</td>\n",
       "      <td>22295</td>\n",
       "      <td>Berlin</td>\n",
       "      <td>0zts7oÜzXr</td>\n",
       "      <td>{s, z, d}</td>\n",
       "      <td>[a, b, c]</td>\n",
       "    </tr>\n",
       "    <tr>\n",
       "      <th>99</th>\n",
       "      <td>Maik</td>\n",
       "      <td>32</td>\n",
       "      <td>30</td>\n",
       "      <td>45745</td>\n",
       "      <td>&lt;NA&gt;</td>\n",
       "      <td>nbK6üzAF</td>\n",
       "      <td>{X, d, G}</td>\n",
       "      <td>[A, x]</td>\n",
       "    </tr>\n",
       "  </tbody>\n",
       "</table>\n",
       "<p>100 rows × 8 columns</p>\n",
       "</div>"
      ],
      "text/plain": [
       "    vorname  alter  altersklasse    plz geburtsstadt    passwort  \\\n",
       "0      Maik     33            30  55493       Bremen    uK6Hyv7F   \n",
       "1    Niklas     29            20  32582       Berlin    PTÜhFwÜE   \n",
       "2   Manfred     32            30  64881         <NA>   xoaeAvÖö9   \n",
       "3     Andre     39            30  68262       Bremen  WYzOrGGGOU   \n",
       "4      Niko     30            30  99809         <NA>    kaof3YöÜ   \n",
       "..      ...    ...           ...    ...          ...         ...   \n",
       "95   Gisela     29            20  16801       Berlin     äbYrösd   \n",
       "96     Anna     27            20  40610       Bremen     TlhImWe   \n",
       "97    Andre     29            20  11375       Bremen     SGFe3SN   \n",
       "98    Karin     42            40  22295       Berlin  0zts7oÜzXr   \n",
       "99     Maik     32            30  45745         <NA>    nbK6üzAF   \n",
       "\n",
       "           merkmale       history  \n",
       "0            {p, B}  [A, B, C, C]  \n",
       "1            {X, p}     [A, B, C]  \n",
       "2         {e, I, W}  [A, C, C, B]  \n",
       "3      {A, I, G, N}     [A, A, A]  \n",
       "4         {E, f, T}     [c, b, a]  \n",
       "..              ...           ...  \n",
       "95           {2, J}  [A, B, C, C]  \n",
       "96  {t, B, s, R, T}     [A, B, C]  \n",
       "97  {5, w, C, G, I}     [A, B, C]  \n",
       "98        {s, z, d}     [a, b, c]  \n",
       "99        {X, d, G}        [A, x]  \n",
       "\n",
       "[100 rows x 8 columns]"
      ]
     },
     "execution_count": 10,
     "metadata": {},
     "output_type": "execute_result"
    },
    {
     "name": "stdout",
     "output_type": "stream",
     "text": [
      "time: 58.1 ms (started: 2022-02-14 07:44:36 +00:00)\n"
     ]
    }
   ],
   "source": [
    "# Testdaten\n",
    "df = pak.leute()\n",
    "df"
   ]
  },
  {
   "cell_type": "code",
   "execution_count": 11,
   "metadata": {},
   "outputs": [
    {
     "name": "stdout",
     "output_type": "stream",
     "text": [
      "9 Datensätze\n"
     ]
    },
    {
     "data": {
      "application/vnd.jupyter.widget-view+json": {
       "model_id": "c2b45f1920304246b5fd0d382f6c6378",
       "version_major": 2,
       "version_minor": 0
      },
      "text/plain": [
       "QgridWidget(grid_options={'fullWidthRows': True, 'syncColumnCellResize': True, 'forceFitColumns': False, 'defa…"
      ]
     },
     "metadata": {},
     "output_type": "display_data"
    },
    {
     "name": "stdout",
     "output_type": "stream",
     "text": [
      "time: 37 ms (started: 2022-02-14 07:44:36 +00:00)\n"
     ]
    }
   ],
   "source": [
    "pak.grid(pak.analyse_cols(df))"
   ]
  },
  {
   "cell_type": "code",
   "execution_count": null,
   "metadata": {},
   "outputs": [],
   "source": []
  }
 ],
 "metadata": {
  "kernelspec": {
   "display_name": "Python 3 (ipykernel)",
   "language": "python",
   "name": "python3"
  },
  "language_info": {
   "codemirror_mode": {
    "name": "ipython",
    "version": 3
   },
   "file_extension": ".py",
   "mimetype": "text/x-python",
   "name": "python",
   "nbconvert_exporter": "python",
   "pygments_lexer": "ipython3",
   "version": "3.8.12"
  }
 },
 "nbformat": 4,
 "nbformat_minor": 4
}
