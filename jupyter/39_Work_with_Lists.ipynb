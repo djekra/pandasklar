{
 "cells": [
  {
   "cell_type": "code",
   "execution_count": 1,
   "metadata": {},
   "outputs": [
    {
     "name": "stdout",
     "output_type": "stream",
     "text": [
      "blab init\n",
      "blab found local libs at D:\\Dropbox\\31_Projekte\\01_Python\\libs\n",
      "Start Time: 09:56:20\n"
     ]
    },
    {
     "data": {
      "text/html": [
       "<img src onerror=\"var cell = this.closest('.jp-CodeCell');var editor = cell.querySelector('.jp-Editor');editor.style.background='Beige';this.parentNode.removeChild(this)\">"
      ],
      "text/plain": [
       "<IPython.core.display.HTML object>"
      ]
     },
     "metadata": {},
     "output_type": "display_data"
    },
    {
     "name": "stdout",
     "output_type": "stream",
     "text": [
      "time: 1.08 s\n"
     ]
    }
   ],
   "source": [
    "# blab init\n",
    "import blab\n",
    "startup_notebook = blab.blab_startup()\n",
    "%run $startup_notebook"
   ]
  },
  {
   "cell_type": "markdown",
   "metadata": {},
   "source": [
    "# Work with Lists\n",
    "* `find_in_list`: Searches a column with a list of strings. Returns a binary mask for the rows containing the searchstring in the list. \n",
    "* `apply_on_elements`: Applies a function to all elements of a Series of lists.\n",
    "* `list_to_string`: Converts a Series of lists of strings into a Series of strings."
   ]
  },
  {
   "cell_type": "code",
   "execution_count": 2,
   "metadata": {},
   "outputs": [
    {
     "name": "stdout",
     "output_type": "stream",
     "text": [
      "time: 5.14 s\n"
     ]
    }
   ],
   "source": [
    "#import numpy      as np\n",
    "import pandas     as pd \n",
    "import bpyth      as bpy\n",
    "import pandasklar as pak \n",
    "\n",
    "grid = pak.grid"
   ]
  },
  {
   "cell_type": "code",
   "execution_count": 3,
   "metadata": {},
   "outputs": [
    {
     "data": {
      "text/html": [
       "<div>\n",
       "<style scoped>\n",
       "    .dataframe tbody tr th:only-of-type {\n",
       "        vertical-align: middle;\n",
       "    }\n",
       "\n",
       "    .dataframe tbody tr th {\n",
       "        vertical-align: top;\n",
       "    }\n",
       "\n",
       "    .dataframe thead th {\n",
       "        text-align: right;\n",
       "    }\n",
       "</style>\n",
       "<table border=\"1\" class=\"dataframe\">\n",
       "  <thead>\n",
       "    <tr style=\"text-align: right;\">\n",
       "      <th></th>\n",
       "      <th>firstletter</th>\n",
       "      <th>string_or_nan</th>\n",
       "      <th>list_or_nan</th>\n",
       "      <th>wordlist</th>\n",
       "    </tr>\n",
       "  </thead>\n",
       "  <tbody>\n",
       "    <tr>\n",
       "      <th>0</th>\n",
       "      <td>M</td>\n",
       "      <td>ZmNi</td>\n",
       "      <td>[Thorsten, Christina, Barbara, Hanna, Gertrud]</td>\n",
       "      <td>Andrea Inge Yannick</td>\n",
       "    </tr>\n",
       "    <tr>\n",
       "      <th>1</th>\n",
       "      <td>B</td>\n",
       "      <td>öefK</td>\n",
       "      <td>[Mohammed, Anja, Neele, Torsten, Hans]</td>\n",
       "      <td>Diana Karina Astrid</td>\n",
       "    </tr>\n",
       "    <tr>\n",
       "      <th>2</th>\n",
       "      <td>N</td>\n",
       "      <td>&lt;NA&gt;</td>\n",
       "      <td>[Christian, Mohammed, Tom]</td>\n",
       "      <td>Ole Christian Miriam Tom Tanja</td>\n",
       "    </tr>\n",
       "    <tr>\n",
       "      <th>3</th>\n",
       "      <td>A</td>\n",
       "      <td>Üoüi</td>\n",
       "      <td>[Melanie, Elly]</td>\n",
       "      <td>Beate Ingo Tom Mathias</td>\n",
       "    </tr>\n",
       "  </tbody>\n",
       "</table>\n",
       "</div>"
      ],
      "text/plain": [
       "  firstletter string_or_nan                                     list_or_nan  \\\n",
       "0           M          ZmNi  [Thorsten, Christina, Barbara, Hanna, Gertrud]   \n",
       "1           B          öefK          [Mohammed, Anja, Neele, Torsten, Hans]   \n",
       "2           N          <NA>                      [Christian, Mohammed, Tom]   \n",
       "3           A          Üoüi                                 [Melanie, Elly]   \n",
       "\n",
       "                         wordlist  \n",
       "0             Andrea Inge Yannick  \n",
       "1             Diana Karina Astrid  \n",
       "2  Ole Christian Miriam Tom Tanja  \n",
       "3          Beate Ingo Tom Mathias  "
      ]
     },
     "execution_count": 3,
     "metadata": {},
     "output_type": "execute_result"
    },
    {
     "name": "stdout",
     "output_type": "stream",
     "text": [
      "time: 2.05 s\n"
     ]
    }
   ],
   "source": [
    "# Create test data\n",
    "anz = 1000\n",
    "v = pak.random_series( anz, 'name',                  p_nan=0   )\n",
    "w = v.str[:1]\n",
    "s = pak.random_series( anz, 'string',                p_nan=0   )\n",
    "t = pak.random_series( anz, 'string',                p_nan=0.1 )\n",
    "p = pak.random_series( anz, 'list',     len_max=5,   p_nan=0.1 )\n",
    "q = pak.random_series( anz, 'list',     len_max=5              ).str.join(' ')\n",
    "df = pak.dataframe( [w, t, p, q] )\n",
    "df.columns = ['firstletter','string_or_nan','list_or_nan','wordlist']\n",
    "df.head(4)"
   ]
  },
  {
   "cell_type": "code",
   "execution_count": 4,
   "metadata": {},
   "outputs": [
    {
     "name": "stdout",
     "output_type": "stream",
     "text": [
      "time: 621 ms\n"
     ]
    }
   ],
   "source": [
    "#pak.analyse_cols(df)"
   ]
  },
  {
   "cell_type": "markdown",
   "metadata": {},
   "source": [
    "## find_in_list()"
   ]
  },
  {
   "cell_type": "code",
   "execution_count": 12,
   "metadata": {},
   "outputs": [
    {
     "name": "stdout",
     "output_type": "stream",
     "text": [
      "time: 379 ms\n"
     ]
    },
    {
     "data": {
      "text/plain": [
       "\u001b[1;31mSignature:\u001b[0m \u001b[0mpak\u001b[0m\u001b[1;33m.\u001b[0m\u001b[0mfind_in_list\u001b[0m\u001b[1;33m(\u001b[0m\u001b[0mdf\u001b[0m\u001b[1;33m,\u001b[0m \u001b[0mcol_list_of_strings\u001b[0m\u001b[1;33m,\u001b[0m \u001b[0msearchstring\u001b[0m\u001b[1;33m)\u001b[0m\u001b[1;33m\u001b[0m\u001b[1;33m\u001b[0m\u001b[0m\n",
       "\u001b[1;31mDocstring:\u001b[0m\n",
       "Searches a column with a list of strings.\n",
       "Returns a binary mask for the rows containing the searchstring in the list.    \n",
       "\u001b[1;31mFile:\u001b[0m      d:\\dropbox\\31_projekte\\01_python\\git\\pandasklar\\src\\pandasklar\\pandas.py\n",
       "\u001b[1;31mType:\u001b[0m      function\n"
      ]
     },
     "metadata": {},
     "output_type": "display_data"
    }
   ],
   "source": [
    "?pak.find_in_list"
   ]
  },
  {
   "cell_type": "code",
   "execution_count": 6,
   "metadata": {},
   "outputs": [
    {
     "data": {
      "text/html": [
       "<div>\n",
       "<style scoped>\n",
       "    .dataframe tbody tr th:only-of-type {\n",
       "        vertical-align: middle;\n",
       "    }\n",
       "\n",
       "    .dataframe tbody tr th {\n",
       "        vertical-align: top;\n",
       "    }\n",
       "\n",
       "    .dataframe thead th {\n",
       "        text-align: right;\n",
       "    }\n",
       "</style>\n",
       "<table border=\"1\" class=\"dataframe\">\n",
       "  <thead>\n",
       "    <tr style=\"text-align: right;\">\n",
       "      <th></th>\n",
       "      <th>firstletter</th>\n",
       "      <th>string_or_nan</th>\n",
       "      <th>list_or_nan</th>\n",
       "      <th>wordlist</th>\n",
       "    </tr>\n",
       "  </thead>\n",
       "  <tbody>\n",
       "    <tr>\n",
       "      <th>125</th>\n",
       "      <td>J</td>\n",
       "      <td>&lt;NA&gt;</td>\n",
       "      <td>[Chiara, Stephanie, Sven]</td>\n",
       "      <td>Larissa Anna Mathias</td>\n",
       "    </tr>\n",
       "    <tr>\n",
       "      <th>553</th>\n",
       "      <td>S</td>\n",
       "      <td>Oenu</td>\n",
       "      <td>[Stephanie, Kim]</td>\n",
       "      <td>Nele Johannes</td>\n",
       "    </tr>\n",
       "    <tr>\n",
       "      <th>649</th>\n",
       "      <td>A</td>\n",
       "      <td>QuUQ1i</td>\n",
       "      <td>[Anja, Tanja, Stephanie, Georg, Stephan]</td>\n",
       "      <td>Sophie Anja Anja Else Luis</td>\n",
       "    </tr>\n",
       "    <tr>\n",
       "      <th>864</th>\n",
       "      <td>M</td>\n",
       "      <td>JKCk</td>\n",
       "      <td>[Stephanie, Eileen]</td>\n",
       "      <td>Tom Jutta Detlef Rudolph Ute</td>\n",
       "    </tr>\n",
       "  </tbody>\n",
       "</table>\n",
       "</div>"
      ],
      "text/plain": [
       "    firstletter string_or_nan                               list_or_nan  \\\n",
       "125           J          <NA>                 [Chiara, Stephanie, Sven]   \n",
       "553           S          Oenu                          [Stephanie, Kim]   \n",
       "649           A        QuUQ1i  [Anja, Tanja, Stephanie, Georg, Stephan]   \n",
       "864           M          JKCk                       [Stephanie, Eileen]   \n",
       "\n",
       "                         wordlist  \n",
       "125          Larissa Anna Mathias  \n",
       "553                 Nele Johannes  \n",
       "649    Sophie Anja Anja Else Luis  \n",
       "864  Tom Jutta Detlef Rudolph Ute  "
      ]
     },
     "execution_count": 6,
     "metadata": {},
     "output_type": "execute_result"
    },
    {
     "name": "stdout",
     "output_type": "stream",
     "text": [
      "time: 354 ms\n"
     ]
    }
   ],
   "source": [
    "# create mask for all rows in df \n",
    "# where column 'list_or_nan' contains 'Stephanie'\n",
    "mask = pak.find_in_list( df, 'list_or_nan', 'Stephanie' )\n",
    "df[mask]"
   ]
  },
  {
   "cell_type": "markdown",
   "metadata": {},
   "source": [
    "## apply_on_elements()"
   ]
  },
  {
   "cell_type": "code",
   "execution_count": 14,
   "metadata": {},
   "outputs": [
    {
     "name": "stdout",
     "output_type": "stream",
     "text": [
      "time: 358 ms\n"
     ]
    },
    {
     "data": {
      "text/plain": [
       "\u001b[1;31mSignature:\u001b[0m \u001b[0mpak\u001b[0m\u001b[1;33m.\u001b[0m\u001b[0mapply_on_elements\u001b[0m\u001b[1;33m(\u001b[0m\u001b[0mseries\u001b[0m\u001b[1;33m,\u001b[0m \u001b[0mfunktion\u001b[0m\u001b[1;33m)\u001b[0m\u001b[1;33m\u001b[0m\u001b[1;33m\u001b[0m\u001b[0m\n",
       "\u001b[1;31mDocstring:\u001b[0m\n",
       "Applies a function to all elements of a Series of lists.\n",
       "Example:\n",
       "df = pak.people()\n",
       "df['history2'] = pak.apply_on_elements(df.history, lambda x: x+'2' if x==x else '')    \n",
       "Also works with sets.\n",
       "\u001b[1;31mFile:\u001b[0m      d:\\dropbox\\31_projekte\\01_python\\git\\pandasklar\\src\\pandasklar\\pandas.py\n",
       "\u001b[1;31mType:\u001b[0m      function\n"
      ]
     },
     "metadata": {},
     "output_type": "display_data"
    }
   ],
   "source": [
    "?pak.apply_on_elements"
   ]
  },
  {
   "cell_type": "code",
   "execution_count": 13,
   "metadata": {},
   "outputs": [
    {
     "data": {
      "text/html": [
       "<div>\n",
       "<style scoped>\n",
       "    .dataframe tbody tr th:only-of-type {\n",
       "        vertical-align: middle;\n",
       "    }\n",
       "\n",
       "    .dataframe tbody tr th {\n",
       "        vertical-align: top;\n",
       "    }\n",
       "\n",
       "    .dataframe thead th {\n",
       "        text-align: right;\n",
       "    }\n",
       "</style>\n",
       "<table border=\"1\" class=\"dataframe\">\n",
       "  <thead>\n",
       "    <tr style=\"text-align: right;\">\n",
       "      <th></th>\n",
       "      <th>first_name</th>\n",
       "      <th>age</th>\n",
       "      <th>age_class</th>\n",
       "      <th>postal_code</th>\n",
       "      <th>birthplace</th>\n",
       "      <th>secret</th>\n",
       "      <th>features</th>\n",
       "      <th>history</th>\n",
       "      <th>history2</th>\n",
       "    </tr>\n",
       "  </thead>\n",
       "  <tbody>\n",
       "    <tr>\n",
       "      <th>0</th>\n",
       "      <td>Theresa</td>\n",
       "      <td>28</td>\n",
       "      <td>20</td>\n",
       "      <td>47204</td>\n",
       "      <td>Berlin</td>\n",
       "      <td>rDozqR</td>\n",
       "      <td>{Q, w, x}</td>\n",
       "      <td>[A, B, C]</td>\n",
       "      <td>[A2, B2, C2]</td>\n",
       "    </tr>\n",
       "    <tr>\n",
       "      <th>1</th>\n",
       "      <td>Jacqueline</td>\n",
       "      <td>32</td>\n",
       "      <td>30</td>\n",
       "      <td>93857</td>\n",
       "      <td>Bremen</td>\n",
       "      <td>5Op9nRC</td>\n",
       "      <td>{e, P, O, t, d}</td>\n",
       "      <td>[A, A, A]</td>\n",
       "      <td>[A2, A2, A2]</td>\n",
       "    </tr>\n",
       "    <tr>\n",
       "      <th>2</th>\n",
       "      <td>Marco</td>\n",
       "      <td>33</td>\n",
       "      <td>30</td>\n",
       "      <td>17268</td>\n",
       "      <td>Berlin</td>\n",
       "      <td>2mWÜd5</td>\n",
       "      <td>{1, 2}</td>\n",
       "      <td>[c, b, a]</td>\n",
       "      <td>[c2, b2, a2]</td>\n",
       "    </tr>\n",
       "    <tr>\n",
       "      <th>3</th>\n",
       "      <td>Tanja</td>\n",
       "      <td>27</td>\n",
       "      <td>20</td>\n",
       "      <td>51489</td>\n",
       "      <td>Berlin</td>\n",
       "      <td>lqeÖuwkzQ</td>\n",
       "      <td>{x}</td>\n",
       "      <td>[A, B, C, C]</td>\n",
       "      <td>[A2, B2, C2, C2]</td>\n",
       "    </tr>\n",
       "    <tr>\n",
       "      <th>4</th>\n",
       "      <td>Jule</td>\n",
       "      <td>40</td>\n",
       "      <td>40</td>\n",
       "      <td>54874</td>\n",
       "      <td>Bremen</td>\n",
       "      <td>rE2eHRKG</td>\n",
       "      <td>{Q, v, i, B}</td>\n",
       "      <td>[]</td>\n",
       "      <td>[]</td>\n",
       "    </tr>\n",
       "    <tr>\n",
       "      <th>...</th>\n",
       "      <td>...</td>\n",
       "      <td>...</td>\n",
       "      <td>...</td>\n",
       "      <td>...</td>\n",
       "      <td>...</td>\n",
       "      <td>...</td>\n",
       "      <td>...</td>\n",
       "      <td>...</td>\n",
       "      <td>...</td>\n",
       "    </tr>\n",
       "    <tr>\n",
       "      <th>95</th>\n",
       "      <td>Annica</td>\n",
       "      <td>30</td>\n",
       "      <td>30</td>\n",
       "      <td>19091</td>\n",
       "      <td>Bremen</td>\n",
       "      <td>vMZXüN</td>\n",
       "      <td>{H}</td>\n",
       "      <td>[]</td>\n",
       "      <td>[]</td>\n",
       "    </tr>\n",
       "    <tr>\n",
       "      <th>96</th>\n",
       "      <td>Ilse</td>\n",
       "      <td>35</td>\n",
       "      <td>30</td>\n",
       "      <td>20125</td>\n",
       "      <td>Bremen</td>\n",
       "      <td>BÖö5aIa</td>\n",
       "      <td>{q, Y, E}</td>\n",
       "      <td>[A, C, C, B]</td>\n",
       "      <td>[A2, C2, C2, B2]</td>\n",
       "    </tr>\n",
       "    <tr>\n",
       "      <th>97</th>\n",
       "      <td>Annica</td>\n",
       "      <td>31</td>\n",
       "      <td>30</td>\n",
       "      <td>&lt;NA&gt;</td>\n",
       "      <td>Berlin</td>\n",
       "      <td>KHIsW60b5x</td>\n",
       "      <td>{1, 2}</td>\n",
       "      <td>[c, b, a]</td>\n",
       "      <td>[c2, b2, a2]</td>\n",
       "    </tr>\n",
       "    <tr>\n",
       "      <th>98</th>\n",
       "      <td>Bianca</td>\n",
       "      <td>29</td>\n",
       "      <td>20</td>\n",
       "      <td>19091</td>\n",
       "      <td>&lt;NA&gt;</td>\n",
       "      <td>YipZF</td>\n",
       "      <td>{Q, C}</td>\n",
       "      <td>[A, x]</td>\n",
       "      <td>[A2, x2]</td>\n",
       "    </tr>\n",
       "    <tr>\n",
       "      <th>99</th>\n",
       "      <td>Maria</td>\n",
       "      <td>27</td>\n",
       "      <td>20</td>\n",
       "      <td>87865</td>\n",
       "      <td>&lt;NA&gt;</td>\n",
       "      <td>N0MCHVhuB1</td>\n",
       "      <td>{w, x, X, B, s}</td>\n",
       "      <td>[A, A, A]</td>\n",
       "      <td>[A2, A2, A2]</td>\n",
       "    </tr>\n",
       "  </tbody>\n",
       "</table>\n",
       "<p>100 rows × 9 columns</p>\n",
       "</div>"
      ],
      "text/plain": [
       "    first_name  age  age_class  postal_code birthplace      secret  \\\n",
       "0      Theresa   28         20        47204     Berlin      rDozqR   \n",
       "1   Jacqueline   32         30        93857     Bremen     5Op9nRC   \n",
       "2        Marco   33         30        17268     Berlin      2mWÜd5   \n",
       "3        Tanja   27         20        51489     Berlin   lqeÖuwkzQ   \n",
       "4         Jule   40         40        54874     Bremen    rE2eHRKG   \n",
       "..         ...  ...        ...          ...        ...         ...   \n",
       "95      Annica   30         30        19091     Bremen      vMZXüN   \n",
       "96        Ilse   35         30        20125     Bremen     BÖö5aIa   \n",
       "97      Annica   31         30         <NA>     Berlin  KHIsW60b5x   \n",
       "98      Bianca   29         20        19091       <NA>       YipZF   \n",
       "99       Maria   27         20        87865       <NA>  N0MCHVhuB1   \n",
       "\n",
       "           features       history          history2  \n",
       "0         {Q, w, x}     [A, B, C]      [A2, B2, C2]  \n",
       "1   {e, P, O, t, d}     [A, A, A]      [A2, A2, A2]  \n",
       "2            {1, 2}     [c, b, a]      [c2, b2, a2]  \n",
       "3               {x}  [A, B, C, C]  [A2, B2, C2, C2]  \n",
       "4      {Q, v, i, B}            []                []  \n",
       "..              ...           ...               ...  \n",
       "95              {H}            []                []  \n",
       "96        {q, Y, E}  [A, C, C, B]  [A2, C2, C2, B2]  \n",
       "97           {1, 2}     [c, b, a]      [c2, b2, a2]  \n",
       "98           {Q, C}        [A, x]          [A2, x2]  \n",
       "99  {w, x, X, B, s}     [A, A, A]      [A2, A2, A2]  \n",
       "\n",
       "[100 rows x 9 columns]"
      ]
     },
     "execution_count": 13,
     "metadata": {},
     "output_type": "execute_result"
    },
    {
     "name": "stdout",
     "output_type": "stream",
     "text": [
      "time: 452 ms\n"
     ]
    }
   ],
   "source": [
    "# run the example\n",
    "df = pak.people()\n",
    "df['history2'] = pak.apply_on_elements(df.history, lambda x: x+'2' if x==x else '') # x==x ensures not nan\n",
    "df"
   ]
  },
  {
   "cell_type": "markdown",
   "metadata": {},
   "source": [
    "## list_to_string()"
   ]
  },
  {
   "cell_type": "code",
   "execution_count": 31,
   "metadata": {},
   "outputs": [
    {
     "name": "stdout",
     "output_type": "stream",
     "text": [
      "time: 347 ms\n"
     ]
    },
    {
     "data": {
      "text/plain": [
       "\u001b[1;31mSignature:\u001b[0m \u001b[0mpak\u001b[0m\u001b[1;33m.\u001b[0m\u001b[0mlist_to_string\u001b[0m\u001b[1;33m(\u001b[0m\u001b[0mseries\u001b[0m\u001b[1;33m)\u001b[0m\u001b[1;33m\u001b[0m\u001b[1;33m\u001b[0m\u001b[0m\n",
       "\u001b[1;31mDocstring:\u001b[0m\n",
       "Converts a Series of lists of strings into a Series of strings.\n",
       "If it contains lists, the elements are enumerated and separated by commas.\n",
       "Example:\n",
       "df = pak.people()\n",
       "df['history2'] = pak.list_to_string(df.history)    \n",
       "\u001b[1;31mFile:\u001b[0m      d:\\dropbox\\31_projekte\\01_python\\git\\pandasklar\\src\\pandasklar\\pandas.py\n",
       "\u001b[1;31mType:\u001b[0m      function\n"
      ]
     },
     "metadata": {},
     "output_type": "display_data"
    }
   ],
   "source": [
    "?pak.list_to_string"
   ]
  },
  {
   "cell_type": "code",
   "execution_count": 33,
   "metadata": {},
   "outputs": [
    {
     "data": {
      "text/html": [
       "<div>\n",
       "<style scoped>\n",
       "    .dataframe tbody tr th:only-of-type {\n",
       "        vertical-align: middle;\n",
       "    }\n",
       "\n",
       "    .dataframe tbody tr th {\n",
       "        vertical-align: top;\n",
       "    }\n",
       "\n",
       "    .dataframe thead th {\n",
       "        text-align: right;\n",
       "    }\n",
       "</style>\n",
       "<table border=\"1\" class=\"dataframe\">\n",
       "  <thead>\n",
       "    <tr style=\"text-align: right;\">\n",
       "      <th></th>\n",
       "      <th>first_name</th>\n",
       "      <th>age</th>\n",
       "      <th>age_class</th>\n",
       "      <th>postal_code</th>\n",
       "      <th>birthplace</th>\n",
       "      <th>secret</th>\n",
       "      <th>features</th>\n",
       "      <th>history</th>\n",
       "      <th>history2</th>\n",
       "    </tr>\n",
       "  </thead>\n",
       "  <tbody>\n",
       "    <tr>\n",
       "      <th>0</th>\n",
       "      <td>Helene</td>\n",
       "      <td>37</td>\n",
       "      <td>30</td>\n",
       "      <td>32991</td>\n",
       "      <td>&lt;NA&gt;</td>\n",
       "      <td>boSDVS</td>\n",
       "      <td>{G}</td>\n",
       "      <td>[A, x]</td>\n",
       "      <td>A*x</td>\n",
       "    </tr>\n",
       "    <tr>\n",
       "      <th>1</th>\n",
       "      <td>Adrian</td>\n",
       "      <td>22</td>\n",
       "      <td>20</td>\n",
       "      <td>12154</td>\n",
       "      <td>Berlin</td>\n",
       "      <td>uYZCY3t</td>\n",
       "      <td>{L, p, u, d}</td>\n",
       "      <td>[A, C, C, B]</td>\n",
       "      <td>A*C*C*B</td>\n",
       "    </tr>\n",
       "    <tr>\n",
       "      <th>2</th>\n",
       "      <td>Nico</td>\n",
       "      <td>35</td>\n",
       "      <td>30</td>\n",
       "      <td>74407</td>\n",
       "      <td>Bremen</td>\n",
       "      <td>y9Di2t</td>\n",
       "      <td>{v, 0, W}</td>\n",
       "      <td>[]</td>\n",
       "      <td></td>\n",
       "    </tr>\n",
       "    <tr>\n",
       "      <th>3</th>\n",
       "      <td>Angela</td>\n",
       "      <td>31</td>\n",
       "      <td>30</td>\n",
       "      <td>66487</td>\n",
       "      <td>Berlin</td>\n",
       "      <td>83N4H</td>\n",
       "      <td>{r}</td>\n",
       "      <td>[c, b, a]</td>\n",
       "      <td>c*b*a</td>\n",
       "    </tr>\n",
       "    <tr>\n",
       "      <th>4</th>\n",
       "      <td>Marcel</td>\n",
       "      <td>30</td>\n",
       "      <td>30</td>\n",
       "      <td>89029</td>\n",
       "      <td>Bremen</td>\n",
       "      <td>OfCfwSayO</td>\n",
       "      <td>{z, 2, x, C}</td>\n",
       "      <td>[A, B, C]</td>\n",
       "      <td>A*B*C</td>\n",
       "    </tr>\n",
       "    <tr>\n",
       "      <th>...</th>\n",
       "      <td>...</td>\n",
       "      <td>...</td>\n",
       "      <td>...</td>\n",
       "      <td>...</td>\n",
       "      <td>...</td>\n",
       "      <td>...</td>\n",
       "      <td>...</td>\n",
       "      <td>...</td>\n",
       "      <td>...</td>\n",
       "    </tr>\n",
       "    <tr>\n",
       "      <th>95</th>\n",
       "      <td>Anna</td>\n",
       "      <td>35</td>\n",
       "      <td>30</td>\n",
       "      <td>19647</td>\n",
       "      <td>&lt;NA&gt;</td>\n",
       "      <td>ooÖEM1z1</td>\n",
       "      <td>{g, e, P}</td>\n",
       "      <td>[c, b, a]</td>\n",
       "      <td>c*b*a</td>\n",
       "    </tr>\n",
       "    <tr>\n",
       "      <th>96</th>\n",
       "      <td>Luise</td>\n",
       "      <td>28</td>\n",
       "      <td>20</td>\n",
       "      <td>50887</td>\n",
       "      <td>Berlin</td>\n",
       "      <td>oeNZU2</td>\n",
       "      <td>{1, p, e, l}</td>\n",
       "      <td>[A, B, C]</td>\n",
       "      <td>A*B*C</td>\n",
       "    </tr>\n",
       "    <tr>\n",
       "      <th>97</th>\n",
       "      <td>Lena</td>\n",
       "      <td>29</td>\n",
       "      <td>20</td>\n",
       "      <td>31955</td>\n",
       "      <td>Bremen</td>\n",
       "      <td>jöwODÖUe</td>\n",
       "      <td>{S, T, Y, l}</td>\n",
       "      <td>[A, A, A]</td>\n",
       "      <td>A*A*A</td>\n",
       "    </tr>\n",
       "    <tr>\n",
       "      <th>98</th>\n",
       "      <td>Andrea</td>\n",
       "      <td>35</td>\n",
       "      <td>30</td>\n",
       "      <td>44308</td>\n",
       "      <td>Bremen</td>\n",
       "      <td>ajg3ZC</td>\n",
       "      <td>{n}</td>\n",
       "      <td>[a, b, c]</td>\n",
       "      <td>a*b*c</td>\n",
       "    </tr>\n",
       "    <tr>\n",
       "      <th>99</th>\n",
       "      <td>Stella</td>\n",
       "      <td>27</td>\n",
       "      <td>20</td>\n",
       "      <td>91704</td>\n",
       "      <td>Berlin</td>\n",
       "      <td>qT66tD</td>\n",
       "      <td>{G}</td>\n",
       "      <td>[b, b, a, b]</td>\n",
       "      <td>b*b*a*b</td>\n",
       "    </tr>\n",
       "  </tbody>\n",
       "</table>\n",
       "<p>100 rows × 9 columns</p>\n",
       "</div>"
      ],
      "text/plain": [
       "   first_name  age  age_class  postal_code birthplace     secret  \\\n",
       "0      Helene   37         30        32991       <NA>     boSDVS   \n",
       "1      Adrian   22         20        12154     Berlin    uYZCY3t   \n",
       "2        Nico   35         30        74407     Bremen     y9Di2t   \n",
       "3      Angela   31         30        66487     Berlin      83N4H   \n",
       "4      Marcel   30         30        89029     Bremen  OfCfwSayO   \n",
       "..        ...  ...        ...          ...        ...        ...   \n",
       "95       Anna   35         30        19647       <NA>   ooÖEM1z1   \n",
       "96      Luise   28         20        50887     Berlin     oeNZU2   \n",
       "97       Lena   29         20        31955     Bremen   jöwODÖUe   \n",
       "98     Andrea   35         30        44308     Bremen     ajg3ZC   \n",
       "99     Stella   27         20        91704     Berlin     qT66tD   \n",
       "\n",
       "        features       history history2  \n",
       "0            {G}        [A, x]      A*x  \n",
       "1   {L, p, u, d}  [A, C, C, B]  A*C*C*B  \n",
       "2      {v, 0, W}            []           \n",
       "3            {r}     [c, b, a]    c*b*a  \n",
       "4   {z, 2, x, C}     [A, B, C]    A*B*C  \n",
       "..           ...           ...      ...  \n",
       "95     {g, e, P}     [c, b, a]    c*b*a  \n",
       "96  {1, p, e, l}     [A, B, C]    A*B*C  \n",
       "97  {S, T, Y, l}     [A, A, A]    A*A*A  \n",
       "98           {n}     [a, b, c]    a*b*c  \n",
       "99           {G}  [b, b, a, b]  b*b*a*b  \n",
       "\n",
       "[100 rows x 9 columns]"
      ]
     },
     "execution_count": 33,
     "metadata": {},
     "output_type": "execute_result"
    },
    {
     "name": "stdout",
     "output_type": "stream",
     "text": [
      "time: 429 ms\n"
     ]
    }
   ],
   "source": [
    "# run the example\n",
    "df = pak.people()\n",
    "df['history2'] = pak.list_to_string(df.history, sep='*')\n",
    "df"
   ]
  },
  {
   "cell_type": "code",
   "execution_count": 30,
   "metadata": {},
   "outputs": [
    {
     "name": "stdout",
     "output_type": "stream",
     "text": [
      "time: 409 ms\n"
     ]
    }
   ],
   "source": [
    "#pak.analyse_cols(df)"
   ]
  },
  {
   "cell_type": "code",
   "execution_count": null,
   "metadata": {},
   "outputs": [],
   "source": []
  }
 ],
 "metadata": {
  "kernelspec": {
   "display_name": "Python 3 (ipykernel)",
   "language": "python",
   "name": "python3"
  },
  "language_info": {
   "codemirror_mode": {
    "name": "ipython",
    "version": 3
   },
   "file_extension": ".py",
   "mimetype": "text/x-python",
   "name": "python",
   "nbconvert_exporter": "python",
   "pygments_lexer": "ipython3",
   "version": "3.9.13"
  }
 },
 "nbformat": 4,
 "nbformat_minor": 4
}
