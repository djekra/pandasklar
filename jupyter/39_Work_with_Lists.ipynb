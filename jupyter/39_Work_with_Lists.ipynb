{
 "cells": [
  {
   "cell_type": "markdown",
   "metadata": {},
   "source": [
    "__[Open and try this file online (Colab)](https://colab.research.google.com/github/djekra/pandasklar/blob/master/jupyter/39_Work_with_Lists.ipynb)__"
   ]
  },
  {
   "cell_type": "markdown",
   "metadata": {},
   "source": [
    "# Work with Lists\n",
    "* `find_in_list`: Searches a column with a list of strings. Returns a binary mask for the rows containing the searchstring in the list. \n",
    "* `apply_on_elements`: Applies a function to all elements of a Series of lists.\n",
    "* `list_to_string`: Converts a Series of lists of strings into a Series of strings."
   ]
  },
  {
   "cell_type": "code",
   "execution_count": 1,
   "metadata": {},
   "outputs": [
    {
     "name": "stdout",
     "output_type": "stream",
     "text": [
      "blab init\n",
      "environment['dropbox_path'] = /home/me/Data_Linux/Dropbox\n",
      "environment['lib_path']     = /home/me/Data_Linux/Dropbox/31_Projekte/01_Python/libs\n",
      "Start Time: 21:57:13\n"
     ]
    },
    {
     "data": {
      "text/html": [
       "<img src onerror=\"var cell = this.closest('.jp-CodeCell');var editor = cell.querySelector('.jp-Editor');editor.style.background='Beige';this.parentNode.removeChild(this)\">"
      ],
      "text/plain": [
       "<IPython.core.display.HTML object>"
      ]
     },
     "metadata": {},
     "output_type": "display_data"
    },
    {
     "name": "stdout",
     "output_type": "stream",
     "text": [
      "time: 407 ms\n"
     ]
    }
   ],
   "source": [
    "# blab init\n",
    "try:\n",
    "    import blab\n",
    "except ImportError as e:\n",
    "    !pip install blab\n",
    "    import blab    \n",
    "startup_notebook = blab.blab_startup()\n",
    "%run $startup_notebook "
   ]
  },
  {
   "cell_type": "code",
   "execution_count": 2,
   "metadata": {},
   "outputs": [
    {
     "name": "stdout",
     "output_type": "stream",
     "text": [
      "VERBOSE = True\n",
      "--> setting verbose=True as default for all pandasklar functions\n",
      "\n",
      "time: 282 ms\n"
     ]
    }
   ],
   "source": [
    "import pandas     as pd \n",
    "import bpyth      as bpy\n",
    "\n",
    "# pandasklar\n",
    "try:\n",
    "    import pandasklar as pak \n",
    "except ImportError as e:\n",
    "    !pip install pandasklar\n",
    "    import pandasklar as pak   \n",
    "    \n",
    "# verbose\n",
    "pak.Config.set('VERBOSE', True)"
   ]
  },
  {
   "cell_type": "code",
   "execution_count": 3,
   "metadata": {},
   "outputs": [
    {
     "name": "stdout",
     "output_type": "stream",
     "text": [
      "Input rtype=('list', 'Series', 'str') shape=(-77, -77)\n",
      "rotated=True Output rtype=('DataFrame', 'Series') shape=(1000, 4)\n"
     ]
    },
    {
     "data": {
      "text/html": [
       "<div>\n",
       "<style scoped>\n",
       "    .dataframe tbody tr th:only-of-type {\n",
       "        vertical-align: middle;\n",
       "    }\n",
       "\n",
       "    .dataframe tbody tr th {\n",
       "        vertical-align: top;\n",
       "    }\n",
       "\n",
       "    .dataframe thead th {\n",
       "        text-align: right;\n",
       "    }\n",
       "</style>\n",
       "<table border=\"1\" class=\"dataframe\">\n",
       "  <thead>\n",
       "    <tr style=\"text-align: right;\">\n",
       "      <th></th>\n",
       "      <th>firstletter</th>\n",
       "      <th>string_or_nan</th>\n",
       "      <th>list_or_nan</th>\n",
       "      <th>wordlist</th>\n",
       "    </tr>\n",
       "  </thead>\n",
       "  <tbody>\n",
       "    <tr>\n",
       "      <th>0</th>\n",
       "      <td>C</td>\n",
       "      <td>BxDaoM</td>\n",
       "      <td>[Ayleen, Tanja, Norbert, Lennard, Anja, None]</td>\n",
       "      <td>Josephine Melanie Yasmin Helga Tom</td>\n",
       "    </tr>\n",
       "    <tr>\n",
       "      <th>1</th>\n",
       "      <td>A</td>\n",
       "      <td>Kr6N</td>\n",
       "      <td>[Anna, Mark, Stephanie, Christoph, Tanja]</td>\n",
       "      <td>Gerhard Dennis Lieselotte Herbert Catharina</td>\n",
       "    </tr>\n",
       "    <tr>\n",
       "      <th>2</th>\n",
       "      <td>P</td>\n",
       "      <td>G2Z53</td>\n",
       "      <td>[Walter, Anja]</td>\n",
       "      <td>Tom Fynn Joshua</td>\n",
       "    </tr>\n",
       "    <tr>\n",
       "      <th>3</th>\n",
       "      <td>N</td>\n",
       "      <td>üÄVf1c</td>\n",
       "      <td>[Zoe, Christel]</td>\n",
       "      <td>Fritz Tanja Carina Herta Anja</td>\n",
       "    </tr>\n",
       "  </tbody>\n",
       "</table>\n",
       "</div>"
      ],
      "text/plain": [
       "  firstletter string_or_nan                                    list_or_nan  \\\n",
       "0           C        BxDaoM  [Ayleen, Tanja, Norbert, Lennard, Anja, None]   \n",
       "1           A          Kr6N      [Anna, Mark, Stephanie, Christoph, Tanja]   \n",
       "2           P         G2Z53                                 [Walter, Anja]   \n",
       "3           N        üÄVf1c                                [Zoe, Christel]   \n",
       "\n",
       "                                      wordlist  \n",
       "0           Josephine Melanie Yasmin Helga Tom  \n",
       "1  Gerhard Dennis Lieselotte Herbert Catharina  \n",
       "2                              Tom Fynn Joshua  \n",
       "3                Fritz Tanja Carina Herta Anja  "
      ]
     },
     "execution_count": 3,
     "metadata": {},
     "output_type": "execute_result"
    },
    {
     "name": "stdout",
     "output_type": "stream",
     "text": [
      "time: 928 ms\n"
     ]
    }
   ],
   "source": [
    "# Create test data\n",
    "anz = 1000\n",
    "v = pak.random_series( anz, 'name',                  p_nan=0   )\n",
    "w = v.str[:1]\n",
    "s = pak.random_series( anz, 'string',                p_nan=0   )\n",
    "t = pak.random_series( anz, 'string',                p_nan=0.1 )\n",
    "p = pak.random_series( anz, 'list',     len_max=5,   p_nan=0.1 )\n",
    "q = pak.random_series( anz, 'list',     len_max=5              ).str.join(' ')\n",
    "df = pak.dataframe( [w, t, p, q] )\n",
    "df.columns = ['firstletter','string_or_nan','list_or_nan','wordlist']\n",
    "df.head(4)"
   ]
  },
  {
   "cell_type": "code",
   "execution_count": 4,
   "metadata": {},
   "outputs": [
    {
     "name": "stdout",
     "output_type": "stream",
     "text": [
      "time: 10.5 ms\n"
     ]
    }
   ],
   "source": [
    "#pak.analyse_cols(df)"
   ]
  },
  {
   "cell_type": "markdown",
   "metadata": {},
   "source": [
    "## find_in_list()"
   ]
  },
  {
   "cell_type": "code",
   "execution_count": 5,
   "metadata": {},
   "outputs": [
    {
     "name": "stdout",
     "output_type": "stream",
     "text": [
      "time: 62.7 ms\n"
     ]
    },
    {
     "data": {
      "text/plain": [
       "\u001b[0;31mSignature:\u001b[0m \u001b[0mpak\u001b[0m\u001b[0;34m.\u001b[0m\u001b[0mfind_in_list\u001b[0m\u001b[0;34m(\u001b[0m\u001b[0mdf\u001b[0m\u001b[0;34m,\u001b[0m \u001b[0mcol_list_of_strings\u001b[0m\u001b[0;34m,\u001b[0m \u001b[0msearchstring\u001b[0m\u001b[0;34m)\u001b[0m\u001b[0;34m\u001b[0m\u001b[0;34m\u001b[0m\u001b[0m\n",
       "\u001b[0;31mDocstring:\u001b[0m\n",
       "Searches a column with a list of strings.\n",
       "Returns a binary mask for the rows containing the searchstring in the list.    \n",
       "\u001b[0;31mFile:\u001b[0m      ~/Data_Linux/Dropbox/31_Projekte/01_Python/git/pandasklar/src/pandasklar/pandas.py\n",
       "\u001b[0;31mType:\u001b[0m      function\n"
      ]
     },
     "metadata": {},
     "output_type": "display_data"
    }
   ],
   "source": [
    "?pak.find_in_list"
   ]
  },
  {
   "cell_type": "code",
   "execution_count": 6,
   "metadata": {},
   "outputs": [
    {
     "data": {
      "text/html": [
       "<div>\n",
       "<style scoped>\n",
       "    .dataframe tbody tr th:only-of-type {\n",
       "        vertical-align: middle;\n",
       "    }\n",
       "\n",
       "    .dataframe tbody tr th {\n",
       "        vertical-align: top;\n",
       "    }\n",
       "\n",
       "    .dataframe thead th {\n",
       "        text-align: right;\n",
       "    }\n",
       "</style>\n",
       "<table border=\"1\" class=\"dataframe\">\n",
       "  <thead>\n",
       "    <tr style=\"text-align: right;\">\n",
       "      <th></th>\n",
       "      <th>firstletter</th>\n",
       "      <th>string_or_nan</th>\n",
       "      <th>list_or_nan</th>\n",
       "      <th>wordlist</th>\n",
       "    </tr>\n",
       "  </thead>\n",
       "  <tbody>\n",
       "    <tr>\n",
       "      <th>1</th>\n",
       "      <td>A</td>\n",
       "      <td>Kr6N</td>\n",
       "      <td>[Anna, Mark, Stephanie, Christoph, Tanja]</td>\n",
       "      <td>Gerhard Dennis Lieselotte Herbert Catharina</td>\n",
       "    </tr>\n",
       "    <tr>\n",
       "      <th>75</th>\n",
       "      <td>A</td>\n",
       "      <td>&lt;NA&gt;</td>\n",
       "      <td>[Svenja, Stephanie, Elke, Leoni]</td>\n",
       "      <td>Erwin Anja Bruno Emilie</td>\n",
       "    </tr>\n",
       "    <tr>\n",
       "      <th>231</th>\n",
       "      <td>B</td>\n",
       "      <td>763y</td>\n",
       "      <td>[Lennard, Ruth, Tom, Tom, Stephanie, None]</td>\n",
       "      <td>Nico Tom Anja Meik</td>\n",
       "    </tr>\n",
       "    <tr>\n",
       "      <th>624</th>\n",
       "      <td>J</td>\n",
       "      <td>gQahlc</td>\n",
       "      <td>[Erich, Anna, Karla, Stephanie]</td>\n",
       "      <td>Harald Konstantin Annette Brigitte Tom</td>\n",
       "    </tr>\n",
       "    <tr>\n",
       "      <th>732</th>\n",
       "      <td>K</td>\n",
       "      <td>ZqOeJD4</td>\n",
       "      <td>[Simone, Alina, Marion, Stephanie, Tom]</td>\n",
       "      <td>Anna Ruth Tom</td>\n",
       "    </tr>\n",
       "    <tr>\n",
       "      <th>740</th>\n",
       "      <td>M</td>\n",
       "      <td>&lt;NA&gt;</td>\n",
       "      <td>[Stella, Stephanie, Anja, Charlotte, Marina]</td>\n",
       "      <td>Jasmin Tina</td>\n",
       "    </tr>\n",
       "  </tbody>\n",
       "</table>\n",
       "</div>"
      ],
      "text/plain": [
       "    firstletter string_or_nan                                   list_or_nan  \\\n",
       "1             A          Kr6N     [Anna, Mark, Stephanie, Christoph, Tanja]   \n",
       "75            A          <NA>              [Svenja, Stephanie, Elke, Leoni]   \n",
       "231           B          763y    [Lennard, Ruth, Tom, Tom, Stephanie, None]   \n",
       "624           J        gQahlc               [Erich, Anna, Karla, Stephanie]   \n",
       "732           K       ZqOeJD4       [Simone, Alina, Marion, Stephanie, Tom]   \n",
       "740           M          <NA>  [Stella, Stephanie, Anja, Charlotte, Marina]   \n",
       "\n",
       "                                        wordlist  \n",
       "1    Gerhard Dennis Lieselotte Herbert Catharina  \n",
       "75                       Erwin Anja Bruno Emilie  \n",
       "231                           Nico Tom Anja Meik  \n",
       "624       Harald Konstantin Annette Brigitte Tom  \n",
       "732                                Anna Ruth Tom  \n",
       "740                                  Jasmin Tina  "
      ]
     },
     "execution_count": 6,
     "metadata": {},
     "output_type": "execute_result"
    },
    {
     "name": "stdout",
     "output_type": "stream",
     "text": [
      "time: 35.9 ms\n"
     ]
    }
   ],
   "source": [
    "# create mask for all rows in df \n",
    "# where column 'list_or_nan' contains 'Stephanie'\n",
    "mask = pak.find_in_list( df, 'list_or_nan', 'Stephanie' )\n",
    "df[mask]"
   ]
  },
  {
   "cell_type": "markdown",
   "metadata": {},
   "source": [
    "## apply_on_elements()"
   ]
  },
  {
   "cell_type": "code",
   "execution_count": 7,
   "metadata": {},
   "outputs": [
    {
     "name": "stdout",
     "output_type": "stream",
     "text": [
      "time: 21.1 ms\n"
     ]
    },
    {
     "data": {
      "text/plain": [
       "\u001b[0;31mSignature:\u001b[0m \u001b[0mpak\u001b[0m\u001b[0;34m.\u001b[0m\u001b[0mapply_on_elements\u001b[0m\u001b[0;34m(\u001b[0m\u001b[0mseries\u001b[0m\u001b[0;34m,\u001b[0m \u001b[0mfunktion\u001b[0m\u001b[0;34m)\u001b[0m\u001b[0;34m\u001b[0m\u001b[0;34m\u001b[0m\u001b[0m\n",
       "\u001b[0;31mDocstring:\u001b[0m\n",
       "Applies a function to all elements of a Series of lists.\n",
       "Example:\n",
       "df = pak.people()\n",
       "df['history2'] = pak.apply_on_elements(df.history, lambda x: x+'2' if x==x else '')    \n",
       "Also works with sets.\n",
       "\u001b[0;31mFile:\u001b[0m      ~/Data_Linux/Dropbox/31_Projekte/01_Python/git/pandasklar/src/pandasklar/pandas.py\n",
       "\u001b[0;31mType:\u001b[0m      function\n"
      ]
     },
     "metadata": {},
     "output_type": "display_data"
    }
   ],
   "source": [
    "?pak.apply_on_elements"
   ]
  },
  {
   "cell_type": "code",
   "execution_count": 8,
   "metadata": {},
   "outputs": [
    {
     "data": {
      "text/html": [
       "<div>\n",
       "<style scoped>\n",
       "    .dataframe tbody tr th:only-of-type {\n",
       "        vertical-align: middle;\n",
       "    }\n",
       "\n",
       "    .dataframe tbody tr th {\n",
       "        vertical-align: top;\n",
       "    }\n",
       "\n",
       "    .dataframe thead th {\n",
       "        text-align: right;\n",
       "    }\n",
       "</style>\n",
       "<table border=\"1\" class=\"dataframe\">\n",
       "  <thead>\n",
       "    <tr style=\"text-align: right;\">\n",
       "      <th></th>\n",
       "      <th>first_name</th>\n",
       "      <th>age</th>\n",
       "      <th>age_class</th>\n",
       "      <th>postal_code</th>\n",
       "      <th>birthplace</th>\n",
       "      <th>secret</th>\n",
       "      <th>features</th>\n",
       "      <th>history</th>\n",
       "      <th>history2</th>\n",
       "    </tr>\n",
       "  </thead>\n",
       "  <tbody>\n",
       "    <tr>\n",
       "      <th>0</th>\n",
       "      <td>Marius</td>\n",
       "      <td>34</td>\n",
       "      <td>30</td>\n",
       "      <td>31055</td>\n",
       "      <td>&lt;NA&gt;</td>\n",
       "      <td>mouBue4i</td>\n",
       "      <td>{s, g}</td>\n",
       "      <td>[A, x]</td>\n",
       "      <td>[A2, x2]</td>\n",
       "    </tr>\n",
       "    <tr>\n",
       "      <th>1</th>\n",
       "      <td>Britta</td>\n",
       "      <td>40</td>\n",
       "      <td>40</td>\n",
       "      <td>62747</td>\n",
       "      <td>Berlin</td>\n",
       "      <td>Qhmi7Sqhn</td>\n",
       "      <td>{q, z}</td>\n",
       "      <td>[b, b, a, b]</td>\n",
       "      <td>[b2, b2, a2, b2]</td>\n",
       "    </tr>\n",
       "    <tr>\n",
       "      <th>2</th>\n",
       "      <td>Gerhard</td>\n",
       "      <td>26</td>\n",
       "      <td>20</td>\n",
       "      <td>30704</td>\n",
       "      <td>Bremen</td>\n",
       "      <td>Kai3uJhÖi</td>\n",
       "      <td>{T, b, G, s, L}</td>\n",
       "      <td>[a, b, c]</td>\n",
       "      <td>[a2, b2, c2]</td>\n",
       "    </tr>\n",
       "    <tr>\n",
       "      <th>3</th>\n",
       "      <td>Tanja</td>\n",
       "      <td>22</td>\n",
       "      <td>20</td>\n",
       "      <td>11133</td>\n",
       "      <td>Berlin</td>\n",
       "      <td>uV6güyx</td>\n",
       "      <td>{}</td>\n",
       "      <td>[A, C, C, B]</td>\n",
       "      <td>[A2, C2, C2, B2]</td>\n",
       "    </tr>\n",
       "    <tr>\n",
       "      <th>4</th>\n",
       "      <td>Laura</td>\n",
       "      <td>33</td>\n",
       "      <td>30</td>\n",
       "      <td>38555</td>\n",
       "      <td>Bremen</td>\n",
       "      <td>GgzÄWö</td>\n",
       "      <td>{h, w}</td>\n",
       "      <td>[c, b, a]</td>\n",
       "      <td>[c2, b2, a2]</td>\n",
       "    </tr>\n",
       "    <tr>\n",
       "      <th>...</th>\n",
       "      <td>...</td>\n",
       "      <td>...</td>\n",
       "      <td>...</td>\n",
       "      <td>...</td>\n",
       "      <td>...</td>\n",
       "      <td>...</td>\n",
       "      <td>...</td>\n",
       "      <td>...</td>\n",
       "      <td>...</td>\n",
       "    </tr>\n",
       "    <tr>\n",
       "      <th>95</th>\n",
       "      <td>Leah</td>\n",
       "      <td>30</td>\n",
       "      <td>30</td>\n",
       "      <td>76033</td>\n",
       "      <td>&lt;NA&gt;</td>\n",
       "      <td>ow3VNOae</td>\n",
       "      <td>{d, b, Q, S, X}</td>\n",
       "      <td>[A, C, C, B]</td>\n",
       "      <td>[A2, C2, C2, B2]</td>\n",
       "    </tr>\n",
       "    <tr>\n",
       "      <th>96</th>\n",
       "      <td>Kurt</td>\n",
       "      <td>34</td>\n",
       "      <td>30</td>\n",
       "      <td>36528</td>\n",
       "      <td>Bremen</td>\n",
       "      <td>ZCbLaRuÄu</td>\n",
       "      <td>{u}</td>\n",
       "      <td>[a, b, c]</td>\n",
       "      <td>[a2, b2, c2]</td>\n",
       "    </tr>\n",
       "    <tr>\n",
       "      <th>97</th>\n",
       "      <td>Nadine</td>\n",
       "      <td>30</td>\n",
       "      <td>30</td>\n",
       "      <td>89090</td>\n",
       "      <td>Berlin</td>\n",
       "      <td>JoG9Täo</td>\n",
       "      <td>{U, X, K}</td>\n",
       "      <td>[A, C, C, B]</td>\n",
       "      <td>[A2, C2, C2, B2]</td>\n",
       "    </tr>\n",
       "    <tr>\n",
       "      <th>98</th>\n",
       "      <td>Philipp</td>\n",
       "      <td>39</td>\n",
       "      <td>30</td>\n",
       "      <td>19868</td>\n",
       "      <td>Berlin</td>\n",
       "      <td>1snätQnö</td>\n",
       "      <td>{0, A}</td>\n",
       "      <td>[b, b, a, b]</td>\n",
       "      <td>[b2, b2, a2, b2]</td>\n",
       "    </tr>\n",
       "    <tr>\n",
       "      <th>99</th>\n",
       "      <td>Gerhard</td>\n",
       "      <td>30</td>\n",
       "      <td>30</td>\n",
       "      <td>80456</td>\n",
       "      <td>&lt;NA&gt;</td>\n",
       "      <td>FQVewqiTZ</td>\n",
       "      <td>{3, a}</td>\n",
       "      <td>[A, B, C]</td>\n",
       "      <td>[A2, B2, C2]</td>\n",
       "    </tr>\n",
       "  </tbody>\n",
       "</table>\n",
       "<p>100 rows × 9 columns</p>\n",
       "</div>"
      ],
      "text/plain": [
       "   first_name  age  age_class  postal_code birthplace     secret  \\\n",
       "0      Marius   34         30        31055       <NA>   mouBue4i   \n",
       "1      Britta   40         40        62747     Berlin  Qhmi7Sqhn   \n",
       "2     Gerhard   26         20        30704     Bremen  Kai3uJhÖi   \n",
       "3       Tanja   22         20        11133     Berlin    uV6güyx   \n",
       "4       Laura   33         30        38555     Bremen     GgzÄWö   \n",
       "..        ...  ...        ...          ...        ...        ...   \n",
       "95       Leah   30         30        76033       <NA>   ow3VNOae   \n",
       "96       Kurt   34         30        36528     Bremen  ZCbLaRuÄu   \n",
       "97     Nadine   30         30        89090     Berlin    JoG9Täo   \n",
       "98    Philipp   39         30        19868     Berlin   1snätQnö   \n",
       "99    Gerhard   30         30        80456       <NA>  FQVewqiTZ   \n",
       "\n",
       "           features       history          history2  \n",
       "0            {s, g}        [A, x]          [A2, x2]  \n",
       "1            {q, z}  [b, b, a, b]  [b2, b2, a2, b2]  \n",
       "2   {T, b, G, s, L}     [a, b, c]      [a2, b2, c2]  \n",
       "3                {}  [A, C, C, B]  [A2, C2, C2, B2]  \n",
       "4            {h, w}     [c, b, a]      [c2, b2, a2]  \n",
       "..              ...           ...               ...  \n",
       "95  {d, b, Q, S, X}  [A, C, C, B]  [A2, C2, C2, B2]  \n",
       "96              {u}     [a, b, c]      [a2, b2, c2]  \n",
       "97        {U, X, K}  [A, C, C, B]  [A2, C2, C2, B2]  \n",
       "98           {0, A}  [b, b, a, b]  [b2, b2, a2, b2]  \n",
       "99           {3, a}     [A, B, C]      [A2, B2, C2]  \n",
       "\n",
       "[100 rows x 9 columns]"
      ]
     },
     "execution_count": 8,
     "metadata": {},
     "output_type": "execute_result"
    },
    {
     "name": "stdout",
     "output_type": "stream",
     "text": [
      "time: 126 ms\n"
     ]
    }
   ],
   "source": [
    "# run the example\n",
    "df = pak.people()\n",
    "df['history2'] = pak.apply_on_elements(df.history, lambda x: x+'2' if x==x else '') # x==x ensures not nan\n",
    "df"
   ]
  },
  {
   "cell_type": "markdown",
   "metadata": {},
   "source": [
    "## list_to_string()"
   ]
  },
  {
   "cell_type": "code",
   "execution_count": 9,
   "metadata": {},
   "outputs": [
    {
     "name": "stdout",
     "output_type": "stream",
     "text": [
      "time: 24 ms\n"
     ]
    },
    {
     "data": {
      "text/plain": [
       "\u001b[0;31mSignature:\u001b[0m \u001b[0mpak\u001b[0m\u001b[0;34m.\u001b[0m\u001b[0mlist_to_string\u001b[0m\u001b[0;34m(\u001b[0m\u001b[0mseries\u001b[0m\u001b[0;34m,\u001b[0m \u001b[0msep\u001b[0m\u001b[0;34m=\u001b[0m\u001b[0;34m','\u001b[0m\u001b[0;34m)\u001b[0m\u001b[0;34m\u001b[0m\u001b[0;34m\u001b[0m\u001b[0m\n",
       "\u001b[0;31mDocstring:\u001b[0m\n",
       "Converts a Series of lists of strings into a Series of strings.\n",
       "* sep: The separator, default is ','\n",
       "Example:\n",
       "df = pak.people()\n",
       "df['history2'] = pak.list_to_string(df.history)    \n",
       "\u001b[0;31mFile:\u001b[0m      ~/Data_Linux/Dropbox/31_Projekte/01_Python/git/pandasklar/src/pandasklar/pandas.py\n",
       "\u001b[0;31mType:\u001b[0m      function\n"
      ]
     },
     "metadata": {},
     "output_type": "display_data"
    }
   ],
   "source": [
    "?pak.list_to_string"
   ]
  },
  {
   "cell_type": "code",
   "execution_count": 10,
   "metadata": {},
   "outputs": [
    {
     "data": {
      "text/html": [
       "<div>\n",
       "<style scoped>\n",
       "    .dataframe tbody tr th:only-of-type {\n",
       "        vertical-align: middle;\n",
       "    }\n",
       "\n",
       "    .dataframe tbody tr th {\n",
       "        vertical-align: top;\n",
       "    }\n",
       "\n",
       "    .dataframe thead th {\n",
       "        text-align: right;\n",
       "    }\n",
       "</style>\n",
       "<table border=\"1\" class=\"dataframe\">\n",
       "  <thead>\n",
       "    <tr style=\"text-align: right;\">\n",
       "      <th></th>\n",
       "      <th>first_name</th>\n",
       "      <th>age</th>\n",
       "      <th>age_class</th>\n",
       "      <th>postal_code</th>\n",
       "      <th>birthplace</th>\n",
       "      <th>secret</th>\n",
       "      <th>features</th>\n",
       "      <th>history</th>\n",
       "      <th>history2</th>\n",
       "    </tr>\n",
       "  </thead>\n",
       "  <tbody>\n",
       "    <tr>\n",
       "      <th>0</th>\n",
       "      <td>Herta</td>\n",
       "      <td>30</td>\n",
       "      <td>30</td>\n",
       "      <td>71626</td>\n",
       "      <td>Bremen</td>\n",
       "      <td>PGkltK</td>\n",
       "      <td>{L, z, T, A}</td>\n",
       "      <td>[]</td>\n",
       "      <td></td>\n",
       "    </tr>\n",
       "    <tr>\n",
       "      <th>1</th>\n",
       "      <td>Ella</td>\n",
       "      <td>29</td>\n",
       "      <td>20</td>\n",
       "      <td>30681</td>\n",
       "      <td>Berlin</td>\n",
       "      <td>vIWeäjjyB</td>\n",
       "      <td>{Y, J, T, A}</td>\n",
       "      <td>[A, C, C, B]</td>\n",
       "      <td>A*C*C*B</td>\n",
       "    </tr>\n",
       "    <tr>\n",
       "      <th>2</th>\n",
       "      <td>Josefine</td>\n",
       "      <td>32</td>\n",
       "      <td>30</td>\n",
       "      <td>45589</td>\n",
       "      <td>Bremen</td>\n",
       "      <td>90J7cyi</td>\n",
       "      <td>{}</td>\n",
       "      <td>[A, B, C]</td>\n",
       "      <td>A*B*C</td>\n",
       "    </tr>\n",
       "    <tr>\n",
       "      <th>3</th>\n",
       "      <td>Gerhard</td>\n",
       "      <td>40</td>\n",
       "      <td>40</td>\n",
       "      <td>13567</td>\n",
       "      <td>&lt;NA&gt;</td>\n",
       "      <td>drylj2oIl</td>\n",
       "      <td>{j, w, W}</td>\n",
       "      <td>[c, b, a]</td>\n",
       "      <td>c*b*a</td>\n",
       "    </tr>\n",
       "    <tr>\n",
       "      <th>4</th>\n",
       "      <td>Carolin</td>\n",
       "      <td>38</td>\n",
       "      <td>30</td>\n",
       "      <td>66531</td>\n",
       "      <td>Berlin</td>\n",
       "      <td>m1E73</td>\n",
       "      <td>{U, g, 3, w, H}</td>\n",
       "      <td>[b, b, a, b]</td>\n",
       "      <td>b*b*a*b</td>\n",
       "    </tr>\n",
       "    <tr>\n",
       "      <th>...</th>\n",
       "      <td>...</td>\n",
       "      <td>...</td>\n",
       "      <td>...</td>\n",
       "      <td>...</td>\n",
       "      <td>...</td>\n",
       "      <td>...</td>\n",
       "      <td>...</td>\n",
       "      <td>...</td>\n",
       "      <td>...</td>\n",
       "    </tr>\n",
       "    <tr>\n",
       "      <th>95</th>\n",
       "      <td>Joshua</td>\n",
       "      <td>30</td>\n",
       "      <td>30</td>\n",
       "      <td>13567</td>\n",
       "      <td>Bremen</td>\n",
       "      <td>doÜg2äu4</td>\n",
       "      <td>{A, Q, K, s, c}</td>\n",
       "      <td>[A, B, C]</td>\n",
       "      <td>A*B*C</td>\n",
       "    </tr>\n",
       "    <tr>\n",
       "      <th>96</th>\n",
       "      <td>Mike</td>\n",
       "      <td>33</td>\n",
       "      <td>30</td>\n",
       "      <td>51027</td>\n",
       "      <td>Berlin</td>\n",
       "      <td>CgnwIm0</td>\n",
       "      <td>{h, v, N}</td>\n",
       "      <td>[b, b, a, b]</td>\n",
       "      <td>b*b*a*b</td>\n",
       "    </tr>\n",
       "    <tr>\n",
       "      <th>97</th>\n",
       "      <td>Erwin</td>\n",
       "      <td>31</td>\n",
       "      <td>30</td>\n",
       "      <td>99042</td>\n",
       "      <td>Bremen</td>\n",
       "      <td>Bihtba</td>\n",
       "      <td>{u}</td>\n",
       "      <td>[A, B, C]</td>\n",
       "      <td>A*B*C</td>\n",
       "    </tr>\n",
       "    <tr>\n",
       "      <th>98</th>\n",
       "      <td>Simon</td>\n",
       "      <td>26</td>\n",
       "      <td>20</td>\n",
       "      <td>71356</td>\n",
       "      <td>Bremen</td>\n",
       "      <td>K0ÖeEue0G</td>\n",
       "      <td>{L, z, T, A}</td>\n",
       "      <td>[b, b, a, b]</td>\n",
       "      <td>b*b*a*b</td>\n",
       "    </tr>\n",
       "    <tr>\n",
       "      <th>99</th>\n",
       "      <td>Katharina</td>\n",
       "      <td>30</td>\n",
       "      <td>30</td>\n",
       "      <td>89346</td>\n",
       "      <td>Berlin</td>\n",
       "      <td>7UÜ0ac</td>\n",
       "      <td>{A, Q, K, s, c}</td>\n",
       "      <td>[A, x]</td>\n",
       "      <td>A*x</td>\n",
       "    </tr>\n",
       "  </tbody>\n",
       "</table>\n",
       "<p>100 rows × 9 columns</p>\n",
       "</div>"
      ],
      "text/plain": [
       "   first_name  age  age_class  postal_code birthplace     secret  \\\n",
       "0       Herta   30         30        71626     Bremen     PGkltK   \n",
       "1        Ella   29         20        30681     Berlin  vIWeäjjyB   \n",
       "2    Josefine   32         30        45589     Bremen    90J7cyi   \n",
       "3     Gerhard   40         40        13567       <NA>  drylj2oIl   \n",
       "4     Carolin   38         30        66531     Berlin      m1E73   \n",
       "..        ...  ...        ...          ...        ...        ...   \n",
       "95     Joshua   30         30        13567     Bremen   doÜg2äu4   \n",
       "96       Mike   33         30        51027     Berlin    CgnwIm0   \n",
       "97      Erwin   31         30        99042     Bremen     Bihtba   \n",
       "98      Simon   26         20        71356     Bremen  K0ÖeEue0G   \n",
       "99  Katharina   30         30        89346     Berlin     7UÜ0ac   \n",
       "\n",
       "           features       history history2  \n",
       "0      {L, z, T, A}            []           \n",
       "1      {Y, J, T, A}  [A, C, C, B]  A*C*C*B  \n",
       "2                {}     [A, B, C]    A*B*C  \n",
       "3         {j, w, W}     [c, b, a]    c*b*a  \n",
       "4   {U, g, 3, w, H}  [b, b, a, b]  b*b*a*b  \n",
       "..              ...           ...      ...  \n",
       "95  {A, Q, K, s, c}     [A, B, C]    A*B*C  \n",
       "96        {h, v, N}  [b, b, a, b]  b*b*a*b  \n",
       "97              {u}     [A, B, C]    A*B*C  \n",
       "98     {L, z, T, A}  [b, b, a, b]  b*b*a*b  \n",
       "99  {A, Q, K, s, c}        [A, x]      A*x  \n",
       "\n",
       "[100 rows x 9 columns]"
      ]
     },
     "execution_count": 10,
     "metadata": {},
     "output_type": "execute_result"
    },
    {
     "name": "stdout",
     "output_type": "stream",
     "text": [
      "time: 215 ms\n"
     ]
    }
   ],
   "source": [
    "# run the example\n",
    "df = pak.people()\n",
    "df['history2'] = pak.list_to_string(df.history, sep='*')\n",
    "df"
   ]
  },
  {
   "cell_type": "code",
   "execution_count": 11,
   "metadata": {},
   "outputs": [
    {
     "name": "stdout",
     "output_type": "stream",
     "text": [
      "time: 14.6 ms\n"
     ]
    }
   ],
   "source": [
    "#pak.analyse_cols(df)"
   ]
  },
  {
   "cell_type": "code",
   "execution_count": null,
   "metadata": {},
   "outputs": [],
   "source": []
  }
 ],
 "metadata": {
  "kernelspec": {
   "display_name": "Python 3 (ipykernel)",
   "language": "python",
   "name": "python3"
  },
  "language_info": {
   "codemirror_mode": {
    "name": "ipython",
    "version": 3
   },
   "file_extension": ".py",
   "mimetype": "text/x-python",
   "name": "python",
   "nbconvert_exporter": "python",
   "pygments_lexer": "ipython3",
   "version": "3.9.13"
  }
 },
 "nbformat": 4,
 "nbformat_minor": 4
}
