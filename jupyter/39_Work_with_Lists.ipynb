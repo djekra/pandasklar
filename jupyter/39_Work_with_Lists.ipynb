{
 "cells": [
  {
   "cell_type": "markdown",
   "metadata": {},
   "source": [
    "__[Open and try this file online (Colab)](https://colab.research.google.com/github/djekra/pandasklar/blob/master/jupyter/39_Work_with_Lists.ipynb)__"
   ]
  },
  {
   "cell_type": "markdown",
   "metadata": {},
   "source": [
    "# Work with Lists\n",
    "* `find_in_list`: Searches a column with a list of strings. Returns a binary mask for the rows containing the searchstring in the list. \n",
    "* `apply_on_elements`: Applies a function to all elements of a Series of lists.\n",
    "* `list_to_string`: Converts a Series of lists of strings into a Series of strings."
   ]
  },
  {
   "cell_type": "code",
   "execution_count": 1,
   "metadata": {
    "execution": {
     "iopub.execute_input": "2023-04-10T19:50:01.755046Z",
     "iopub.status.busy": "2023-04-10T19:50:01.754444Z",
     "iopub.status.idle": "2023-04-10T19:50:02.455566Z",
     "shell.execute_reply": "2023-04-10T19:50:02.454935Z",
     "shell.execute_reply.started": "2023-04-10T19:50:01.755014Z"
    }
   },
   "outputs": [
    {
     "name": "stdout",
     "output_type": "stream",
     "text": [
      "blab init\n",
      "environment['in_colab']     = False\n",
      "environment['dropbox_path'] = /home/me/Data_Linux/Dropbox\n",
      "environment['lib_path']     = /home/me/Data_Linux/Dropbox/31_Projekte/01_Python/libs\n",
      "Start Time: 21:50:01\n"
     ]
    },
    {
     "data": {
      "text/html": [
       "<img src onerror=\"var cell = this.closest('.jp-CodeCell');var editor = cell.querySelector('.jp-Editor');editor.style.background='Beige';this.parentNode.removeChild(this)\">"
      ],
      "text/plain": [
       "<IPython.core.display.HTML object>"
      ]
     },
     "metadata": {},
     "output_type": "display_data"
    }
   ],
   "source": [
    "# blab init\n",
    "try:\n",
    "    import blab\n",
    "except ImportError as e:\n",
    "    !pip install blab\n",
    "    import blab    \n",
    "startup_notebook = blab.blab_startup()\n",
    "%run $startup_notebook "
   ]
  },
  {
   "cell_type": "code",
   "execution_count": 2,
   "metadata": {
    "execution": {
     "iopub.execute_input": "2023-04-10T19:50:02.458661Z",
     "iopub.status.busy": "2023-04-10T19:50:02.457983Z",
     "iopub.status.idle": "2023-04-10T19:50:04.331720Z",
     "shell.execute_reply": "2023-04-10T19:50:04.330619Z",
     "shell.execute_reply.started": "2023-04-10T19:50:02.458628Z"
    }
   },
   "outputs": [
    {
     "name": "stdout",
     "output_type": "stream",
     "text": [
      "VERBOSE = True\n",
      "--> setting verbose=True as default for all pandasklar functions\n",
      "\n"
     ]
    }
   ],
   "source": [
    "import pandas     as pd \n",
    "import bpyth      as bpy\n",
    "\n",
    "# pandasklar\n",
    "try:\n",
    "    import pandasklar as pak \n",
    "except ImportError as e:\n",
    "    !pip install pandasklar\n",
    "    import pandasklar as pak   \n",
    "    \n",
    "# verbose\n",
    "pak.Config.set('VERBOSE', True)\n",
    "\n",
    "# copy_on_write\n",
    "pd.set_option(\"mode.copy_on_write\", True)"
   ]
  },
  {
   "cell_type": "code",
   "execution_count": 3,
   "metadata": {
    "execution": {
     "iopub.execute_input": "2023-04-10T19:50:04.334729Z",
     "iopub.status.busy": "2023-04-10T19:50:04.334010Z",
     "iopub.status.idle": "2023-04-10T19:50:05.494989Z",
     "shell.execute_reply": "2023-04-10T19:50:05.494080Z",
     "shell.execute_reply.started": "2023-04-10T19:50:04.334697Z"
    }
   },
   "outputs": [
    {
     "name": "stdout",
     "output_type": "stream",
     "text": [
      "Input rtype=('list', 'Series', 'str') shape=(-77, -77)\n",
      "rotated=True Output rtype=('DataFrame', 'Series') shape=(1000, 4)\n"
     ]
    },
    {
     "data": {
      "text/html": [
       "<div>\n",
       "<style scoped>\n",
       "    .dataframe tbody tr th:only-of-type {\n",
       "        vertical-align: middle;\n",
       "    }\n",
       "\n",
       "    .dataframe tbody tr th {\n",
       "        vertical-align: top;\n",
       "    }\n",
       "\n",
       "    .dataframe thead th {\n",
       "        text-align: right;\n",
       "    }\n",
       "</style>\n",
       "<table border=\"1\" class=\"dataframe\">\n",
       "  <thead>\n",
       "    <tr style=\"text-align: right;\">\n",
       "      <th></th>\n",
       "      <th>firstletter</th>\n",
       "      <th>string_or_nan</th>\n",
       "      <th>list_or_nan</th>\n",
       "      <th>wordlist</th>\n",
       "    </tr>\n",
       "  </thead>\n",
       "  <tbody>\n",
       "    <tr>\n",
       "      <th>0</th>\n",
       "      <td>H</td>\n",
       "      <td>FLqPwrF</td>\n",
       "      <td>[Anja, Daniela, Tom]</td>\n",
       "      <td>Doris Isabel</td>\n",
       "    </tr>\n",
       "    <tr>\n",
       "      <th>1</th>\n",
       "      <td>R</td>\n",
       "      <td>ö1TäRy</td>\n",
       "      <td>[Nathalie, Helga]</td>\n",
       "      <td>Anna Jacob Anja</td>\n",
       "    </tr>\n",
       "    <tr>\n",
       "      <th>2</th>\n",
       "      <td>N</td>\n",
       "      <td>sWJCHS</td>\n",
       "      <td>NaN</td>\n",
       "      <td>Heinz Hugo Tanja Elias Marion</td>\n",
       "    </tr>\n",
       "    <tr>\n",
       "      <th>3</th>\n",
       "      <td>A</td>\n",
       "      <td>YfüÖ</td>\n",
       "      <td>[Melanie, Milena]</td>\n",
       "      <td>Malte Margarethe Merle Anja</td>\n",
       "    </tr>\n",
       "  </tbody>\n",
       "</table>\n",
       "</div>"
      ],
      "text/plain": [
       "  firstletter string_or_nan           list_or_nan   \n",
       "0           H       FLqPwrF  [Anja, Daniela, Tom]  \\\n",
       "1           R        ö1TäRy     [Nathalie, Helga]   \n",
       "2           N        sWJCHS                   NaN   \n",
       "3           A          YfüÖ     [Melanie, Milena]   \n",
       "\n",
       "                        wordlist  \n",
       "0                   Doris Isabel  \n",
       "1                Anna Jacob Anja  \n",
       "2  Heinz Hugo Tanja Elias Marion  \n",
       "3    Malte Margarethe Merle Anja  "
      ]
     },
     "execution_count": 3,
     "metadata": {},
     "output_type": "execute_result"
    }
   ],
   "source": [
    "# Create test data\n",
    "anz = 1000\n",
    "v = pak.random_series( anz, 'name',                  p_nan=0   )\n",
    "w = v.str[:1]\n",
    "s = pak.random_series( anz, 'string',                p_nan=0   )\n",
    "t = pak.random_series( anz, 'string',                p_nan=0.1 )\n",
    "p = pak.random_series( anz, 'list',     len_max=5,   p_nan=0.1 )\n",
    "q = pak.random_series( anz, 'list',     len_max=5              ).str.join(' ')\n",
    "df = pak.dataframe( [w, t, p, q] )\n",
    "df.columns = ['firstletter','string_or_nan','list_or_nan','wordlist']\n",
    "df.head(4)"
   ]
  },
  {
   "cell_type": "code",
   "execution_count": 4,
   "metadata": {
    "execution": {
     "iopub.execute_input": "2023-04-10T19:50:05.496504Z",
     "iopub.status.busy": "2023-04-10T19:50:05.496054Z",
     "iopub.status.idle": "2023-04-10T19:50:05.525764Z",
     "shell.execute_reply": "2023-04-10T19:50:05.524960Z",
     "shell.execute_reply.started": "2023-04-10T19:50:05.496476Z"
    }
   },
   "outputs": [],
   "source": [
    "#pak.analyse_cols(df)"
   ]
  },
  {
   "cell_type": "markdown",
   "metadata": {},
   "source": [
    "## find_in_list()"
   ]
  },
  {
   "cell_type": "code",
   "execution_count": 5,
   "metadata": {
    "execution": {
     "iopub.execute_input": "2023-04-10T19:50:05.537581Z",
     "iopub.status.busy": "2023-04-10T19:50:05.534256Z",
     "iopub.status.idle": "2023-04-10T19:50:05.701307Z",
     "shell.execute_reply": "2023-04-10T19:50:05.700637Z",
     "shell.execute_reply.started": "2023-04-10T19:50:05.537526Z"
    }
   },
   "outputs": [
    {
     "data": {
      "text/plain": [
       "\u001b[0;31mSignature:\u001b[0m \u001b[0mpak\u001b[0m\u001b[0;34m.\u001b[0m\u001b[0mfind_in_list\u001b[0m\u001b[0;34m(\u001b[0m\u001b[0mdf\u001b[0m\u001b[0;34m,\u001b[0m \u001b[0mcol_list_of_strings\u001b[0m\u001b[0;34m,\u001b[0m \u001b[0msearchstring\u001b[0m\u001b[0;34m)\u001b[0m\u001b[0;34m\u001b[0m\u001b[0;34m\u001b[0m\u001b[0m\n",
       "\u001b[0;31mDocstring:\u001b[0m\n",
       "Searches a column with a list of strings.\n",
       "Returns a binary mask for the rows containing the searchstring in the list.    \n",
       "\u001b[0;31mFile:\u001b[0m      ~/Data_Linux/Dropbox/31_Projekte/01_Python/git/pandasklar/src/pandasklar/pandas.py\n",
       "\u001b[0;31mType:\u001b[0m      function\n"
      ]
     },
     "metadata": {},
     "output_type": "display_data"
    }
   ],
   "source": [
    "?pak.find_in_list"
   ]
  },
  {
   "cell_type": "code",
   "execution_count": 6,
   "metadata": {
    "execution": {
     "iopub.execute_input": "2023-04-10T19:50:05.702361Z",
     "iopub.status.busy": "2023-04-10T19:50:05.702150Z",
     "iopub.status.idle": "2023-04-10T19:50:05.742116Z",
     "shell.execute_reply": "2023-04-10T19:50:05.741431Z",
     "shell.execute_reply.started": "2023-04-10T19:50:05.702342Z"
    }
   },
   "outputs": [
    {
     "data": {
      "text/html": [
       "<div>\n",
       "<style scoped>\n",
       "    .dataframe tbody tr th:only-of-type {\n",
       "        vertical-align: middle;\n",
       "    }\n",
       "\n",
       "    .dataframe tbody tr th {\n",
       "        vertical-align: top;\n",
       "    }\n",
       "\n",
       "    .dataframe thead th {\n",
       "        text-align: right;\n",
       "    }\n",
       "</style>\n",
       "<table border=\"1\" class=\"dataframe\">\n",
       "  <thead>\n",
       "    <tr style=\"text-align: right;\">\n",
       "      <th></th>\n",
       "      <th>firstletter</th>\n",
       "      <th>string_or_nan</th>\n",
       "      <th>list_or_nan</th>\n",
       "      <th>wordlist</th>\n",
       "    </tr>\n",
       "  </thead>\n",
       "  <tbody>\n",
       "    <tr>\n",
       "      <th>18</th>\n",
       "      <td>D</td>\n",
       "      <td>SAxfmg</td>\n",
       "      <td>[Anna, Oskar, Lilli, Anna, Stephanie]</td>\n",
       "      <td>Hildegard Rita Tanja Ulrike</td>\n",
       "    </tr>\n",
       "    <tr>\n",
       "      <th>110</th>\n",
       "      <td>F</td>\n",
       "      <td>&lt;NA&gt;</td>\n",
       "      <td>[Max, Tom, Else, Maria, Stephanie]</td>\n",
       "      <td>Marcus Siegfried</td>\n",
       "    </tr>\n",
       "    <tr>\n",
       "      <th>131</th>\n",
       "      <td>C</td>\n",
       "      <td>KG3pYR</td>\n",
       "      <td>[Stephanie, Tanja, Manuel]</td>\n",
       "      <td>Swen Tom Helena Barbara Heike</td>\n",
       "    </tr>\n",
       "    <tr>\n",
       "      <th>225</th>\n",
       "      <td>A</td>\n",
       "      <td>jSe5</td>\n",
       "      <td>[Jasmin, Stephanie]</td>\n",
       "      <td>Edith Margarete Andreas</td>\n",
       "    </tr>\n",
       "    <tr>\n",
       "      <th>254</th>\n",
       "      <td>S</td>\n",
       "      <td>EM7x1g</td>\n",
       "      <td>[Nina, Stephanie, Silke]</td>\n",
       "      <td>Klara Josefine Dirk</td>\n",
       "    </tr>\n",
       "    <tr>\n",
       "      <th>567</th>\n",
       "      <td>T</td>\n",
       "      <td>Seue</td>\n",
       "      <td>[Simon, Stephanie]</td>\n",
       "      <td>Tanja Markus</td>\n",
       "    </tr>\n",
       "    <tr>\n",
       "      <th>643</th>\n",
       "      <td>C</td>\n",
       "      <td>ytaecoH</td>\n",
       "      <td>[Stephanie, Fritz, Catharina, Tom, Tanja]</td>\n",
       "      <td>Antonia Maik</td>\n",
       "    </tr>\n",
       "    <tr>\n",
       "      <th>791</th>\n",
       "      <td>R</td>\n",
       "      <td>cüuhCMB</td>\n",
       "      <td>[Marko, Ina, Stephanie, Bastian]</td>\n",
       "      <td>Hugo Anja</td>\n",
       "    </tr>\n",
       "    <tr>\n",
       "      <th>842</th>\n",
       "      <td>A</td>\n",
       "      <td>cETofuq</td>\n",
       "      <td>[Heike, Birgit, Stephanie, Rene, Alexandra]</td>\n",
       "      <td>Frieda Hugo Louis Tobias Stefan</td>\n",
       "    </tr>\n",
       "  </tbody>\n",
       "</table>\n",
       "</div>"
      ],
      "text/plain": [
       "    firstletter string_or_nan                                  list_or_nan   \n",
       "18            D        SAxfmg        [Anna, Oskar, Lilli, Anna, Stephanie]  \\\n",
       "110           F          <NA>           [Max, Tom, Else, Maria, Stephanie]   \n",
       "131           C        KG3pYR                   [Stephanie, Tanja, Manuel]   \n",
       "225           A          jSe5                          [Jasmin, Stephanie]   \n",
       "254           S        EM7x1g                     [Nina, Stephanie, Silke]   \n",
       "567           T          Seue                           [Simon, Stephanie]   \n",
       "643           C       ytaecoH    [Stephanie, Fritz, Catharina, Tom, Tanja]   \n",
       "791           R       cüuhCMB             [Marko, Ina, Stephanie, Bastian]   \n",
       "842           A       cETofuq  [Heike, Birgit, Stephanie, Rene, Alexandra]   \n",
       "\n",
       "                            wordlist  \n",
       "18       Hildegard Rita Tanja Ulrike  \n",
       "110                 Marcus Siegfried  \n",
       "131    Swen Tom Helena Barbara Heike  \n",
       "225          Edith Margarete Andreas  \n",
       "254              Klara Josefine Dirk  \n",
       "567                     Tanja Markus  \n",
       "643                     Antonia Maik  \n",
       "791                        Hugo Anja  \n",
       "842  Frieda Hugo Louis Tobias Stefan  "
      ]
     },
     "execution_count": 6,
     "metadata": {},
     "output_type": "execute_result"
    }
   ],
   "source": [
    "# create mask for all rows in df \n",
    "# where column 'list_or_nan' contains 'Stephanie'\n",
    "mask = pak.find_in_list( df, 'list_or_nan', 'Stephanie' )\n",
    "df[mask]"
   ]
  },
  {
   "cell_type": "markdown",
   "metadata": {},
   "source": [
    "## apply_on_elements()"
   ]
  },
  {
   "cell_type": "code",
   "execution_count": 7,
   "metadata": {
    "execution": {
     "iopub.execute_input": "2023-04-10T19:50:05.743040Z",
     "iopub.status.busy": "2023-04-10T19:50:05.742787Z",
     "iopub.status.idle": "2023-04-10T19:50:05.778909Z",
     "shell.execute_reply": "2023-04-10T19:50:05.778013Z",
     "shell.execute_reply.started": "2023-04-10T19:50:05.743015Z"
    }
   },
   "outputs": [
    {
     "data": {
      "text/plain": [
       "\u001b[0;31mSignature:\u001b[0m \u001b[0mpak\u001b[0m\u001b[0;34m.\u001b[0m\u001b[0mapply_on_elements\u001b[0m\u001b[0;34m(\u001b[0m\u001b[0mseries\u001b[0m\u001b[0;34m,\u001b[0m \u001b[0mfunktion\u001b[0m\u001b[0;34m)\u001b[0m\u001b[0;34m\u001b[0m\u001b[0;34m\u001b[0m\u001b[0m\n",
       "\u001b[0;31mDocstring:\u001b[0m\n",
       "Applies a function to all elements of a Series of lists.\n",
       "Example:\n",
       "df = pak.people()\n",
       "df['history2'] = pak.apply_on_elements(df.history, lambda x: x+'2' if x==x else '')    \n",
       "Also works with sets.\n",
       "\u001b[0;31mFile:\u001b[0m      ~/Data_Linux/Dropbox/31_Projekte/01_Python/git/pandasklar/src/pandasklar/pandas.py\n",
       "\u001b[0;31mType:\u001b[0m      function\n"
      ]
     },
     "metadata": {},
     "output_type": "display_data"
    }
   ],
   "source": [
    "?pak.apply_on_elements"
   ]
  },
  {
   "cell_type": "code",
   "execution_count": 8,
   "metadata": {
    "execution": {
     "iopub.execute_input": "2023-04-10T19:50:05.781125Z",
     "iopub.status.busy": "2023-04-10T19:50:05.780326Z",
     "iopub.status.idle": "2023-04-10T19:50:05.868902Z",
     "shell.execute_reply": "2023-04-10T19:50:05.868201Z",
     "shell.execute_reply.started": "2023-04-10T19:50:05.781083Z"
    }
   },
   "outputs": [
    {
     "data": {
      "text/html": [
       "<div>\n",
       "<style scoped>\n",
       "    .dataframe tbody tr th:only-of-type {\n",
       "        vertical-align: middle;\n",
       "    }\n",
       "\n",
       "    .dataframe tbody tr th {\n",
       "        vertical-align: top;\n",
       "    }\n",
       "\n",
       "    .dataframe thead th {\n",
       "        text-align: right;\n",
       "    }\n",
       "</style>\n",
       "<table border=\"1\" class=\"dataframe\">\n",
       "  <thead>\n",
       "    <tr style=\"text-align: right;\">\n",
       "      <th></th>\n",
       "      <th>first_name</th>\n",
       "      <th>age</th>\n",
       "      <th>age_class</th>\n",
       "      <th>postal_code</th>\n",
       "      <th>birthplace</th>\n",
       "      <th>secret</th>\n",
       "      <th>features</th>\n",
       "      <th>history</th>\n",
       "      <th>history2</th>\n",
       "    </tr>\n",
       "  </thead>\n",
       "  <tbody>\n",
       "    <tr>\n",
       "      <th>0</th>\n",
       "      <td>Caroline</td>\n",
       "      <td>35</td>\n",
       "      <td>30</td>\n",
       "      <td>59146</td>\n",
       "      <td>Bremen</td>\n",
       "      <td>8fJfZaeqMi</td>\n",
       "      <td>{d, s, o}</td>\n",
       "      <td>[A, A, A]</td>\n",
       "      <td>[A2, A2, A2]</td>\n",
       "    </tr>\n",
       "    <tr>\n",
       "      <th>1</th>\n",
       "      <td>Inge</td>\n",
       "      <td>31</td>\n",
       "      <td>30</td>\n",
       "      <td>27835</td>\n",
       "      <td>Berlin</td>\n",
       "      <td>cfKeii</td>\n",
       "      <td>{w, o, U}</td>\n",
       "      <td>[a, b, c]</td>\n",
       "      <td>[a2, b2, c2]</td>\n",
       "    </tr>\n",
       "    <tr>\n",
       "      <th>2</th>\n",
       "      <td>Bettina</td>\n",
       "      <td>41</td>\n",
       "      <td>40</td>\n",
       "      <td>&lt;NA&gt;</td>\n",
       "      <td>Bremen</td>\n",
       "      <td>bM9v7IGHHe</td>\n",
       "      <td>{k, Z, E, f, 2}</td>\n",
       "      <td>[]</td>\n",
       "      <td>[]</td>\n",
       "    </tr>\n",
       "    <tr>\n",
       "      <th>3</th>\n",
       "      <td>Gerhard</td>\n",
       "      <td>32</td>\n",
       "      <td>30</td>\n",
       "      <td>68877</td>\n",
       "      <td>Bremen</td>\n",
       "      <td>ÜKGhaF8</td>\n",
       "      <td>{m, Q, D, y}</td>\n",
       "      <td>[c, b, a]</td>\n",
       "      <td>[c2, b2, a2]</td>\n",
       "    </tr>\n",
       "    <tr>\n",
       "      <th>4</th>\n",
       "      <td>Alfred</td>\n",
       "      <td>30</td>\n",
       "      <td>30</td>\n",
       "      <td>51112</td>\n",
       "      <td>Berlin</td>\n",
       "      <td>kiihm</td>\n",
       "      <td>{W, I, F, T}</td>\n",
       "      <td>[A, C, C, B]</td>\n",
       "      <td>[A2, C2, C2, B2]</td>\n",
       "    </tr>\n",
       "    <tr>\n",
       "      <th>...</th>\n",
       "      <td>...</td>\n",
       "      <td>...</td>\n",
       "      <td>...</td>\n",
       "      <td>...</td>\n",
       "      <td>...</td>\n",
       "      <td>...</td>\n",
       "      <td>...</td>\n",
       "      <td>...</td>\n",
       "      <td>...</td>\n",
       "    </tr>\n",
       "    <tr>\n",
       "      <th>95</th>\n",
       "      <td>Jutta</td>\n",
       "      <td>25</td>\n",
       "      <td>20</td>\n",
       "      <td>57998</td>\n",
       "      <td>Bremen</td>\n",
       "      <td>LrHpÜty</td>\n",
       "      <td>{1, Y, F, w}</td>\n",
       "      <td>[A, x]</td>\n",
       "      <td>[A2, x2]</td>\n",
       "    </tr>\n",
       "    <tr>\n",
       "      <th>96</th>\n",
       "      <td>Ben</td>\n",
       "      <td>37</td>\n",
       "      <td>30</td>\n",
       "      <td>58284</td>\n",
       "      <td>&lt;NA&gt;</td>\n",
       "      <td>sdKeWo</td>\n",
       "      <td>{1, Y, F, w}</td>\n",
       "      <td>[A, C, C, B]</td>\n",
       "      <td>[A2, C2, C2, B2]</td>\n",
       "    </tr>\n",
       "    <tr>\n",
       "      <th>97</th>\n",
       "      <td>Simone</td>\n",
       "      <td>35</td>\n",
       "      <td>30</td>\n",
       "      <td>72471</td>\n",
       "      <td>&lt;NA&gt;</td>\n",
       "      <td>vfx0Ö2w</td>\n",
       "      <td>{2, X, z, j, l}</td>\n",
       "      <td>[]</td>\n",
       "      <td>[]</td>\n",
       "    </tr>\n",
       "    <tr>\n",
       "      <th>98</th>\n",
       "      <td>Rene</td>\n",
       "      <td>27</td>\n",
       "      <td>20</td>\n",
       "      <td>61293</td>\n",
       "      <td>&lt;NA&gt;</td>\n",
       "      <td>ei9gx8</td>\n",
       "      <td>{O, F, k, z}</td>\n",
       "      <td>[A, C, C, B]</td>\n",
       "      <td>[A2, C2, C2, B2]</td>\n",
       "    </tr>\n",
       "    <tr>\n",
       "      <th>99</th>\n",
       "      <td>Tanja</td>\n",
       "      <td>31</td>\n",
       "      <td>30</td>\n",
       "      <td>79279</td>\n",
       "      <td>Bremen</td>\n",
       "      <td>4UUgCBuXÖ</td>\n",
       "      <td>{5}</td>\n",
       "      <td>[b, b, a, b]</td>\n",
       "      <td>[b2, b2, a2, b2]</td>\n",
       "    </tr>\n",
       "  </tbody>\n",
       "</table>\n",
       "<p>100 rows × 9 columns</p>\n",
       "</div>"
      ],
      "text/plain": [
       "   first_name  age  age_class  postal_code birthplace      secret   \n",
       "0    Caroline   35         30        59146     Bremen  8fJfZaeqMi  \\\n",
       "1        Inge   31         30        27835     Berlin      cfKeii   \n",
       "2     Bettina   41         40         <NA>     Bremen  bM9v7IGHHe   \n",
       "3     Gerhard   32         30        68877     Bremen     ÜKGhaF8   \n",
       "4      Alfred   30         30        51112     Berlin       kiihm   \n",
       "..        ...  ...        ...          ...        ...         ...   \n",
       "95      Jutta   25         20        57998     Bremen     LrHpÜty   \n",
       "96        Ben   37         30        58284       <NA>      sdKeWo   \n",
       "97     Simone   35         30        72471       <NA>     vfx0Ö2w   \n",
       "98       Rene   27         20        61293       <NA>      ei9gx8   \n",
       "99      Tanja   31         30        79279     Bremen   4UUgCBuXÖ   \n",
       "\n",
       "           features       history          history2  \n",
       "0         {d, s, o}     [A, A, A]      [A2, A2, A2]  \n",
       "1         {w, o, U}     [a, b, c]      [a2, b2, c2]  \n",
       "2   {k, Z, E, f, 2}            []                []  \n",
       "3      {m, Q, D, y}     [c, b, a]      [c2, b2, a2]  \n",
       "4      {W, I, F, T}  [A, C, C, B]  [A2, C2, C2, B2]  \n",
       "..              ...           ...               ...  \n",
       "95     {1, Y, F, w}        [A, x]          [A2, x2]  \n",
       "96     {1, Y, F, w}  [A, C, C, B]  [A2, C2, C2, B2]  \n",
       "97  {2, X, z, j, l}            []                []  \n",
       "98     {O, F, k, z}  [A, C, C, B]  [A2, C2, C2, B2]  \n",
       "99              {5}  [b, b, a, b]  [b2, b2, a2, b2]  \n",
       "\n",
       "[100 rows x 9 columns]"
      ]
     },
     "execution_count": 8,
     "metadata": {},
     "output_type": "execute_result"
    }
   ],
   "source": [
    "# run the example\n",
    "df = pak.people()\n",
    "df['history2'] = pak.apply_on_elements(df.history, lambda x: x+'2' if x==x else '') # x==x ensures not nan\n",
    "df"
   ]
  },
  {
   "cell_type": "markdown",
   "metadata": {},
   "source": [
    "## list_to_string()"
   ]
  },
  {
   "cell_type": "code",
   "execution_count": 9,
   "metadata": {
    "execution": {
     "iopub.execute_input": "2023-04-10T19:50:05.870192Z",
     "iopub.status.busy": "2023-04-10T19:50:05.869781Z",
     "iopub.status.idle": "2023-04-10T19:50:05.900548Z",
     "shell.execute_reply": "2023-04-10T19:50:05.899720Z",
     "shell.execute_reply.started": "2023-04-10T19:50:05.870170Z"
    }
   },
   "outputs": [
    {
     "data": {
      "text/plain": [
       "\u001b[0;31mSignature:\u001b[0m \u001b[0mpak\u001b[0m\u001b[0;34m.\u001b[0m\u001b[0mlist_to_string\u001b[0m\u001b[0;34m(\u001b[0m\u001b[0mseries\u001b[0m\u001b[0;34m,\u001b[0m \u001b[0msep\u001b[0m\u001b[0;34m=\u001b[0m\u001b[0;34m','\u001b[0m\u001b[0;34m)\u001b[0m\u001b[0;34m\u001b[0m\u001b[0;34m\u001b[0m\u001b[0m\n",
       "\u001b[0;31mDocstring:\u001b[0m\n",
       "Converts a Series of lists of strings into a Series of strings.\n",
       "* sep: The separator, default is ','\n",
       "Example:\n",
       "df = pak.people()\n",
       "df['history2'] = pak.list_to_string(df.history)    \n",
       "\u001b[0;31mFile:\u001b[0m      ~/Data_Linux/Dropbox/31_Projekte/01_Python/git/pandasklar/src/pandasklar/pandas.py\n",
       "\u001b[0;31mType:\u001b[0m      function\n"
      ]
     },
     "metadata": {},
     "output_type": "display_data"
    }
   ],
   "source": [
    "?pak.list_to_string"
   ]
  },
  {
   "cell_type": "code",
   "execution_count": 10,
   "metadata": {
    "execution": {
     "iopub.execute_input": "2023-04-10T19:50:05.901930Z",
     "iopub.status.busy": "2023-04-10T19:50:05.901626Z",
     "iopub.status.idle": "2023-04-10T19:50:05.989747Z",
     "shell.execute_reply": "2023-04-10T19:50:05.989011Z",
     "shell.execute_reply.started": "2023-04-10T19:50:05.901904Z"
    }
   },
   "outputs": [
    {
     "data": {
      "text/html": [
       "<div>\n",
       "<style scoped>\n",
       "    .dataframe tbody tr th:only-of-type {\n",
       "        vertical-align: middle;\n",
       "    }\n",
       "\n",
       "    .dataframe tbody tr th {\n",
       "        vertical-align: top;\n",
       "    }\n",
       "\n",
       "    .dataframe thead th {\n",
       "        text-align: right;\n",
       "    }\n",
       "</style>\n",
       "<table border=\"1\" class=\"dataframe\">\n",
       "  <thead>\n",
       "    <tr style=\"text-align: right;\">\n",
       "      <th></th>\n",
       "      <th>first_name</th>\n",
       "      <th>age</th>\n",
       "      <th>age_class</th>\n",
       "      <th>postal_code</th>\n",
       "      <th>birthplace</th>\n",
       "      <th>secret</th>\n",
       "      <th>features</th>\n",
       "      <th>history</th>\n",
       "      <th>history2</th>\n",
       "    </tr>\n",
       "  </thead>\n",
       "  <tbody>\n",
       "    <tr>\n",
       "      <th>0</th>\n",
       "      <td>Yasmin</td>\n",
       "      <td>25</td>\n",
       "      <td>20</td>\n",
       "      <td>64767</td>\n",
       "      <td>Bremen</td>\n",
       "      <td>Q9vn2Ftcj</td>\n",
       "      <td>{o, v}</td>\n",
       "      <td>[b, b, a, b]</td>\n",
       "      <td>b*b*a*b</td>\n",
       "    </tr>\n",
       "    <tr>\n",
       "      <th>1</th>\n",
       "      <td>Elli</td>\n",
       "      <td>39</td>\n",
       "      <td>30</td>\n",
       "      <td>31484</td>\n",
       "      <td>Berlin</td>\n",
       "      <td>Äe2WqDIeGÖ</td>\n",
       "      <td>{F, E, G, 3, 0}</td>\n",
       "      <td>[A, C, C, B]</td>\n",
       "      <td>A*C*C*B</td>\n",
       "    </tr>\n",
       "    <tr>\n",
       "      <th>2</th>\n",
       "      <td>Heiko</td>\n",
       "      <td>31</td>\n",
       "      <td>30</td>\n",
       "      <td>34544</td>\n",
       "      <td>Berlin</td>\n",
       "      <td>ÖaplM3</td>\n",
       "      <td>{X, Y, k, H}</td>\n",
       "      <td>[]</td>\n",
       "      <td></td>\n",
       "    </tr>\n",
       "    <tr>\n",
       "      <th>3</th>\n",
       "      <td>Meike</td>\n",
       "      <td>32</td>\n",
       "      <td>30</td>\n",
       "      <td>54006</td>\n",
       "      <td>Bremen</td>\n",
       "      <td>DfIUmxNH2</td>\n",
       "      <td>{F, f, r, j, x}</td>\n",
       "      <td>[A, A, A]</td>\n",
       "      <td>A*A*A</td>\n",
       "    </tr>\n",
       "    <tr>\n",
       "      <th>4</th>\n",
       "      <td>Karla</td>\n",
       "      <td>40</td>\n",
       "      <td>40</td>\n",
       "      <td>95524</td>\n",
       "      <td>Bremen</td>\n",
       "      <td>aO1VI</td>\n",
       "      <td>{j, i}</td>\n",
       "      <td>[A, B, C, C]</td>\n",
       "      <td>A*B*C*C</td>\n",
       "    </tr>\n",
       "    <tr>\n",
       "      <th>...</th>\n",
       "      <td>...</td>\n",
       "      <td>...</td>\n",
       "      <td>...</td>\n",
       "      <td>...</td>\n",
       "      <td>...</td>\n",
       "      <td>...</td>\n",
       "      <td>...</td>\n",
       "      <td>...</td>\n",
       "      <td>...</td>\n",
       "    </tr>\n",
       "    <tr>\n",
       "      <th>95</th>\n",
       "      <td>Günther</td>\n",
       "      <td>36</td>\n",
       "      <td>30</td>\n",
       "      <td>53279</td>\n",
       "      <td>&lt;NA&gt;</td>\n",
       "      <td>qnÄMByCtw</td>\n",
       "      <td>{q, U}</td>\n",
       "      <td>[A, x]</td>\n",
       "      <td>A*x</td>\n",
       "    </tr>\n",
       "    <tr>\n",
       "      <th>96</th>\n",
       "      <td>Bettina</td>\n",
       "      <td>28</td>\n",
       "      <td>20</td>\n",
       "      <td>79867</td>\n",
       "      <td>Berlin</td>\n",
       "      <td>nKFznzNÄHI</td>\n",
       "      <td>{t, v}</td>\n",
       "      <td>[a, b, c]</td>\n",
       "      <td>a*b*c</td>\n",
       "    </tr>\n",
       "    <tr>\n",
       "      <th>97</th>\n",
       "      <td>Herta</td>\n",
       "      <td>26</td>\n",
       "      <td>20</td>\n",
       "      <td>96136</td>\n",
       "      <td>Bremen</td>\n",
       "      <td>AsoJFD</td>\n",
       "      <td>{d, V, r}</td>\n",
       "      <td>[A, B, C, C]</td>\n",
       "      <td>A*B*C*C</td>\n",
       "    </tr>\n",
       "    <tr>\n",
       "      <th>98</th>\n",
       "      <td>Lucas</td>\n",
       "      <td>23</td>\n",
       "      <td>20</td>\n",
       "      <td>15554</td>\n",
       "      <td>Berlin</td>\n",
       "      <td>CraÄU</td>\n",
       "      <td>{X, q, H}</td>\n",
       "      <td>[A, A, A]</td>\n",
       "      <td>A*A*A</td>\n",
       "    </tr>\n",
       "    <tr>\n",
       "      <th>99</th>\n",
       "      <td>Marianne</td>\n",
       "      <td>31</td>\n",
       "      <td>30</td>\n",
       "      <td>79711</td>\n",
       "      <td>&lt;NA&gt;</td>\n",
       "      <td>jykZpEKimD</td>\n",
       "      <td>{F, E, G, 3, 0}</td>\n",
       "      <td>[A, x]</td>\n",
       "      <td>A*x</td>\n",
       "    </tr>\n",
       "  </tbody>\n",
       "</table>\n",
       "<p>100 rows × 9 columns</p>\n",
       "</div>"
      ],
      "text/plain": [
       "   first_name  age  age_class  postal_code birthplace      secret   \n",
       "0      Yasmin   25         20        64767     Bremen   Q9vn2Ftcj  \\\n",
       "1        Elli   39         30        31484     Berlin  Äe2WqDIeGÖ   \n",
       "2       Heiko   31         30        34544     Berlin      ÖaplM3   \n",
       "3       Meike   32         30        54006     Bremen   DfIUmxNH2   \n",
       "4       Karla   40         40        95524     Bremen       aO1VI   \n",
       "..        ...  ...        ...          ...        ...         ...   \n",
       "95    Günther   36         30        53279       <NA>   qnÄMByCtw   \n",
       "96    Bettina   28         20        79867     Berlin  nKFznzNÄHI   \n",
       "97      Herta   26         20        96136     Bremen      AsoJFD   \n",
       "98      Lucas   23         20        15554     Berlin       CraÄU   \n",
       "99   Marianne   31         30        79711       <NA>  jykZpEKimD   \n",
       "\n",
       "           features       history history2  \n",
       "0            {o, v}  [b, b, a, b]  b*b*a*b  \n",
       "1   {F, E, G, 3, 0}  [A, C, C, B]  A*C*C*B  \n",
       "2      {X, Y, k, H}            []           \n",
       "3   {F, f, r, j, x}     [A, A, A]    A*A*A  \n",
       "4            {j, i}  [A, B, C, C]  A*B*C*C  \n",
       "..              ...           ...      ...  \n",
       "95           {q, U}        [A, x]      A*x  \n",
       "96           {t, v}     [a, b, c]    a*b*c  \n",
       "97        {d, V, r}  [A, B, C, C]  A*B*C*C  \n",
       "98        {X, q, H}     [A, A, A]    A*A*A  \n",
       "99  {F, E, G, 3, 0}        [A, x]      A*x  \n",
       "\n",
       "[100 rows x 9 columns]"
      ]
     },
     "execution_count": 10,
     "metadata": {},
     "output_type": "execute_result"
    }
   ],
   "source": [
    "# run the example\n",
    "df = pak.people()\n",
    "df['history2'] = pak.list_to_string(df.history, sep='*')\n",
    "df"
   ]
  },
  {
   "cell_type": "code",
   "execution_count": 11,
   "metadata": {
    "execution": {
     "iopub.execute_input": "2023-04-10T19:50:05.991080Z",
     "iopub.status.busy": "2023-04-10T19:50:05.990683Z",
     "iopub.status.idle": "2023-04-10T19:50:06.027260Z",
     "shell.execute_reply": "2023-04-10T19:50:06.026327Z",
     "shell.execute_reply.started": "2023-04-10T19:50:05.991055Z"
    }
   },
   "outputs": [],
   "source": [
    "#pak.analyse_cols(df)"
   ]
  },
  {
   "cell_type": "code",
   "execution_count": null,
   "metadata": {},
   "outputs": [],
   "source": []
  }
 ],
 "metadata": {
  "kernelspec": {
   "display_name": "Python 3 (ipykernel)",
   "language": "python",
   "name": "python3"
  },
  "language_info": {
   "codemirror_mode": {
    "name": "ipython",
    "version": 3
   },
   "file_extension": ".py",
   "mimetype": "text/x-python",
   "name": "python",
   "nbconvert_exporter": "python",
   "pygments_lexer": "ipython3",
   "version": "3.9.13"
  }
 },
 "nbformat": 4,
 "nbformat_minor": 4
}
