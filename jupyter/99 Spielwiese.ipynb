{
 "cells": [
  {
   "cell_type": "code",
   "execution_count": 1,
   "id": "d0f5ba85-02b4-49d7-86ee-87c2e69af747",
   "metadata": {},
   "outputs": [
    {
     "name": "stdout",
     "output_type": "stream",
     "text": [
      "JupyterLab Tools Version 0.21\n",
      "found local libs at C:\\Users\\me\\Dropbox\\31_Projekte\\01_Python\\libs\n",
      "Start Time: 12:16:07\n"
     ]
    },
    {
     "data": {
      "text/html": [
       "<img src onerror=\"var cell = this.closest('.jp-CodeCell');var editor = cell.querySelector('.jp-Editor');editor.style.background='DarkGray';this.parentNode.removeChild(this)\">"
      ],
      "text/plain": [
       "<IPython.core.display.HTML object>"
      ]
     },
     "metadata": {},
     "output_type": "display_data"
    }
   ],
   "source": [
    "# blab init\n",
    "import blab\n",
    "startup_notebook = blab.blab_startup()\n",
    "%run $startup_notebook"
   ]
  },
  {
   "cell_type": "code",
   "execution_count": 2,
   "id": "c6649283-c0dd-42a8-9be9-16f11e13cc68",
   "metadata": {},
   "outputs": [
    {
     "name": "stdout",
     "output_type": "stream",
     "text": [
      "time: 4.79 s\n"
     ]
    }
   ],
   "source": [
    "import numpy      as np\n",
    "import pandas     as pd \n",
    "import bpyth      as bpy\n",
    "import pandasklar as pak \n",
    "import blab\n",
    "\n",
    "grid = pak.grid"
   ]
  },
  {
   "cell_type": "code",
   "execution_count": 3,
   "id": "93297b43-9bca-4a39-9940-886912f0983e",
   "metadata": {},
   "outputs": [
    {
     "name": "stdout",
     "output_type": "stream",
     "text": [
      "..\\15 NLP Wortschatz 2\\10_Wiktionary_parsen\\y 28 lexeme generieren.ipynb\n",
      "..\\64 Pandas & pandasklar\\99 Spielwiese.ipynb\n",
      "..\\64 Pandas & pandasklar\\nb_out\\99 Spielwiese.ipynb\n",
      "----------------------------------\n",
      "..\\libs\\bj_helper_old\\pandas_analyse.py\n",
      "..\\libs\\pandasklar\\analyse.py\n",
      "time: 34.9 s\n"
     ]
    }
   ],
   "source": [
    "blab.search_notebooks('countgrid')"
   ]
  },
  {
   "cell_type": "code",
   "execution_count": 4,
   "id": "d524e2ba-16d0-4491-a432-003ed9337f53",
   "metadata": {},
   "outputs": [
    {
     "name": "stdout",
     "output_type": "stream",
     "text": [
      "time: 104 ms\n"
     ]
    },
    {
     "data": {
      "text/plain": [
       "\u001b[1;31mSignature:\u001b[0m \u001b[0mblab\u001b[0m\u001b[1;33m.\u001b[0m\u001b[0msearch_notebooks\u001b[0m\u001b[1;33m(\u001b[0m\u001b[0mquery\u001b[0m\u001b[1;33m,\u001b[0m \u001b[0mradius\u001b[0m\u001b[1;33m=\u001b[0m\u001b[1;36m1\u001b[0m\u001b[1;33m,\u001b[0m \u001b[0mexclude\u001b[0m\u001b[1;33m=\u001b[0m\u001b[1;33m[\u001b[0m\u001b[1;33m]\u001b[0m\u001b[1;33m)\u001b[0m\u001b[1;33m\u001b[0m\u001b[1;33m\u001b[0m\u001b[0m\n",
       "\u001b[1;31mDocstring:\u001b[0m\n",
       "Durchsucht Notebooks nach Vorkommen eines Strings.\n",
       "Nicht nur der Code, sondern auch alle Ausgaben werden durchsucht.\n",
       "Die Suche ist case-sensitiv.\n",
       "radius=1: Im ganzen Arbeitsraum\n",
       "radius=0: Im aktuellen Verzeichnis\n",
       "\u001b[1;31mFile:\u001b[0m      c:\\users\\me\\dropbox\\31_projekte\\01_python\\libs\\blab\\tools.py\n",
       "\u001b[1;31mType:\u001b[0m      function\n"
      ]
     },
     "metadata": {},
     "output_type": "display_data"
    }
   ],
   "source": [
    "?blab.search_notebooks"
   ]
  },
  {
   "cell_type": "code",
   "execution_count": null,
   "id": "7721a410-0aec-4f59-a0a0-7b3daf95b978",
   "metadata": {},
   "outputs": [],
   "source": []
  }
 ],
 "metadata": {
  "kernelspec": {
   "display_name": "Python 3 (ipykernel)",
   "language": "python",
   "name": "python3"
  },
  "language_info": {
   "codemirror_mode": {
    "name": "ipython",
    "version": 3
   },
   "file_extension": ".py",
   "mimetype": "text/x-python",
   "name": "python",
   "nbconvert_exporter": "python",
   "pygments_lexer": "ipython3",
   "version": "3.8.12"
  }
 },
 "nbformat": 4,
 "nbformat_minor": 5
}
