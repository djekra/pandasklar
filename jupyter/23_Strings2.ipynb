{
 "cells": [
  {
   "cell_type": "markdown",
   "metadata": {},
   "source": [
    "# Strings 2"
   ]
  },
  {
   "cell_type": "code",
   "execution_count": 1,
   "metadata": {},
   "outputs": [
    {
     "name": "stdout",
     "output_type": "stream",
     "text": [
      "JupyterLab Tools Version 0.21\n",
      "found local libs at C:\\Users\\me\\Dropbox\\31_Projekte\\01_Python\\libs\n",
      "Start Time: 12:17:19\n"
     ]
    },
    {
     "data": {
      "text/html": [
       "<img src onerror=\"var cell = this.closest('.jp-CodeCell');var editor = cell.querySelector('.jp-Editor');editor.style.background='DarkGray';this.parentNode.removeChild(this)\">"
      ],
      "text/plain": [
       "<IPython.core.display.HTML object>"
      ]
     },
     "metadata": {},
     "output_type": "display_data"
    }
   ],
   "source": [
    "# blab init\n",
    "import blab\n",
    "startup_notebook = blab.blab_startup()\n",
    "%run $startup_notebook"
   ]
  },
  {
   "cell_type": "code",
   "execution_count": 2,
   "metadata": {},
   "outputs": [
    {
     "name": "stdout",
     "output_type": "stream",
     "text": [
      "time: 5.01 s\n"
     ]
    }
   ],
   "source": [
    "import numpy      as np\n",
    "import pandas     as pd \n",
    "import bpyth      as bpy\n",
    "import pandasklar as pak "
   ]
  },
  {
   "cell_type": "code",
   "execution_count": 3,
   "metadata": {},
   "outputs": [
    {
     "data": {
      "text/html": [
       "<div>\n",
       "<style scoped>\n",
       "    .dataframe tbody tr th:only-of-type {\n",
       "        vertical-align: middle;\n",
       "    }\n",
       "\n",
       "    .dataframe tbody tr th {\n",
       "        vertical-align: top;\n",
       "    }\n",
       "\n",
       "    .dataframe thead th {\n",
       "        text-align: right;\n",
       "    }\n",
       "</style>\n",
       "<table border=\"1\" class=\"dataframe\">\n",
       "  <thead>\n",
       "    <tr style=\"text-align: right;\">\n",
       "      <th></th>\n",
       "      <th>no</th>\n",
       "      <th>space</th>\n",
       "      <th>komma</th>\n",
       "    </tr>\n",
       "  </thead>\n",
       "  <tbody>\n",
       "    <tr>\n",
       "      <th>0</th>\n",
       "      <td>HIceaegdgfefHIfcgfegcdcgHI</td>\n",
       "      <td>HI ceaegdgfef HI fcgfegcdcg HI</td>\n",
       "      <td>,HI,ceaegdgfef,HI,fcgfegcdcg,HI</td>\n",
       "    </tr>\n",
       "    <tr>\n",
       "      <th>1</th>\n",
       "      <td>UFFcddbegaebbUFFeefgeadaabUFF</td>\n",
       "      <td>UFF cddbegaebb UFF eefgeadaab UFF</td>\n",
       "      <td>,UFF,cddbegaebb,UFF,eefgeadaab,UFF</td>\n",
       "    </tr>\n",
       "    <tr>\n",
       "      <th>2</th>\n",
       "      <td>YOaabbgagfcfYOgggaecbcabYO</td>\n",
       "      <td>YO aabbgagfcf YO gggaecbcab YO</td>\n",
       "      <td>,YO,aabbgagfcf,YO,gggaecbcab,YO</td>\n",
       "    </tr>\n",
       "    <tr>\n",
       "      <th>3</th>\n",
       "      <td>YObbcddcdfegYOdafeefbbdbYO</td>\n",
       "      <td>YO bbcddcdfeg YO dafeefbbdb YO</td>\n",
       "      <td>,YO,bbcddcdfeg,YO,dafeefbbdb,YO</td>\n",
       "    </tr>\n",
       "    <tr>\n",
       "      <th>4</th>\n",
       "      <td>UFFeagbdgabfcUFFgcegaefdbfUFF</td>\n",
       "      <td>UFF eagbdgabfc UFF gcegaefdbf UFF</td>\n",
       "      <td>,UFF,eagbdgabfc,UFF,gcegaefdbf,UFF</td>\n",
       "    </tr>\n",
       "    <tr>\n",
       "      <th>...</th>\n",
       "      <td>...</td>\n",
       "      <td>...</td>\n",
       "      <td>...</td>\n",
       "    </tr>\n",
       "    <tr>\n",
       "      <th>99995</th>\n",
       "      <td>YOebdfdagddcYOdeaaabgaacYO</td>\n",
       "      <td>YO ebdfdagddc YO deaaabgaac YO</td>\n",
       "      <td>,YO,ebdfdagddc,YO,deaaabgaac,YO</td>\n",
       "    </tr>\n",
       "    <tr>\n",
       "      <th>99996</th>\n",
       "      <td>UFFdbgbecagbeUFFgaefcadgecUFF</td>\n",
       "      <td>UFF dbgbecagbe UFF gaefcadgec UFF</td>\n",
       "      <td>,UFF,dbgbecagbe,UFF,gaefcadgec,UFF</td>\n",
       "    </tr>\n",
       "    <tr>\n",
       "      <th>99997</th>\n",
       "      <td>HIfacacbdebaHIbcegfecbbbHI</td>\n",
       "      <td>HI facacbdeba HI bcegfecbbb HI</td>\n",
       "      <td>,HI,facacbdeba,HI,bcegfecbbb,HI</td>\n",
       "    </tr>\n",
       "    <tr>\n",
       "      <th>99998</th>\n",
       "      <td>HIcfcafdcdcaHIccegbcaggcHI</td>\n",
       "      <td>HI cfcafdcdca HI ccegbcaggc HI</td>\n",
       "      <td>,HI,cfcafdcdca,HI,ccegbcaggc,HI</td>\n",
       "    </tr>\n",
       "    <tr>\n",
       "      <th>99999</th>\n",
       "      <td>YOcafgbfbegdYOfabaadbabaYO</td>\n",
       "      <td>YO cafgbfbegd YO fabaadbaba YO</td>\n",
       "      <td>,YO,cafgbfbegd,YO,fabaadbaba,YO</td>\n",
       "    </tr>\n",
       "  </tbody>\n",
       "</table>\n",
       "<p>100000 rows × 3 columns</p>\n",
       "</div>"
      ],
      "text/plain": [
       "                                  no                               space  \\\n",
       "0         HIceaegdgfefHIfcgfegcdcgHI      HI ceaegdgfef HI fcgfegcdcg HI   \n",
       "1      UFFcddbegaebbUFFeefgeadaabUFF   UFF cddbegaebb UFF eefgeadaab UFF   \n",
       "2         YOaabbgagfcfYOgggaecbcabYO      YO aabbgagfcf YO gggaecbcab YO   \n",
       "3         YObbcddcdfegYOdafeefbbdbYO      YO bbcddcdfeg YO dafeefbbdb YO   \n",
       "4      UFFeagbdgabfcUFFgcegaefdbfUFF   UFF eagbdgabfc UFF gcegaefdbf UFF   \n",
       "...                              ...                                 ...   \n",
       "99995     YOebdfdagddcYOdeaaabgaacYO      YO ebdfdagddc YO deaaabgaac YO   \n",
       "99996  UFFdbgbecagbeUFFgaefcadgecUFF   UFF dbgbecagbe UFF gaefcadgec UFF   \n",
       "99997     HIfacacbdebaHIbcegfecbbbHI      HI facacbdeba HI bcegfecbbb HI   \n",
       "99998     HIcfcafdcdcaHIccegbcaggcHI      HI cfcafdcdca HI ccegbcaggc HI   \n",
       "99999     YOcafgbfbegdYOfabaadbabaYO      YO cafgbfbegd YO fabaadbaba YO   \n",
       "\n",
       "                                    komma  \n",
       "0         ,HI,ceaegdgfef,HI,fcgfegcdcg,HI  \n",
       "1      ,UFF,cddbegaebb,UFF,eefgeadaab,UFF  \n",
       "2         ,YO,aabbgagfcf,YO,gggaecbcab,YO  \n",
       "3         ,YO,bbcddcdfeg,YO,dafeefbbdb,YO  \n",
       "4      ,UFF,eagbdgabfc,UFF,gcegaefdbf,UFF  \n",
       "...                                   ...  \n",
       "99995     ,YO,ebdfdagddc,YO,deaaabgaac,YO  \n",
       "99996  ,UFF,dbgbecagbe,UFF,gaefcadgec,UFF  \n",
       "99997     ,HI,facacbdeba,HI,bcegfecbbb,HI  \n",
       "99998     ,HI,cfcafdcdca,HI,ccegbcaggc,HI  \n",
       "99999     ,YO,cafgbfbegd,YO,fabaadbaba,YO  \n",
       "\n",
       "[100000 rows x 3 columns]"
      ]
     },
     "execution_count": 3,
     "metadata": {},
     "output_type": "execute_result"
    },
    {
     "name": "stdout",
     "output_type": "stream",
     "text": [
      "time: 31.5 s\n"
     ]
    }
   ],
   "source": [
    "# create data to search in\n",
    "size = 100000\n",
    "a = pak.random_series( size, 'string', len_min=10, len_max=10,           p_dup=0.9)\n",
    "b = pak.random_series( size, 'choice', choice=['YO','UFF', 'HI'],  p_dup=0.9)\n",
    "c = pak.random_series( size, 'string', len_min=10, len_max=10,           p_dup=0.9)\n",
    "df = pak.dataframe([a,b,c])\n",
    "\n",
    "trenn = ''\n",
    "df['no'] =  trenn + df.B + trenn + df.A + trenn + df.B + trenn + df.C + trenn + df.B\n",
    "trenn = ' '\n",
    "df['space'] =  trenn + df.B + trenn + df.A + trenn + df.B + trenn + df.C + trenn + df.B\n",
    "trenn = ','\n",
    "df['komma'] =  trenn + df.B + trenn + df.A + trenn + df.B + trenn + df.C + trenn + df.B\n",
    "df = pak.drop_cols(df, list('ABC'))\n",
    "df"
   ]
  },
  {
   "cell_type": "markdown",
   "metadata": {},
   "source": [
    "## remove_str"
   ]
  },
  {
   "cell_type": "code",
   "execution_count": 4,
   "metadata": {},
   "outputs": [
    {
     "name": "stdout",
     "output_type": "stream",
     "text": [
      "time: 187 ms\n"
     ]
    }
   ],
   "source": [
    "col = 'no'\n",
    "df[col+'2'] = pak.remove_str(     df[col], ['YO','UFF', 'HI'])"
   ]
  },
  {
   "cell_type": "markdown",
   "metadata": {},
   "source": [
    "## remove_words"
   ]
  },
  {
   "cell_type": "code",
   "execution_count": 8,
   "metadata": {},
   "outputs": [
    {
     "data": {
      "text/html": [
       "<div>\n",
       "<style scoped>\n",
       "    .dataframe tbody tr th:only-of-type {\n",
       "        vertical-align: middle;\n",
       "    }\n",
       "\n",
       "    .dataframe tbody tr th {\n",
       "        vertical-align: top;\n",
       "    }\n",
       "\n",
       "    .dataframe thead th {\n",
       "        text-align: right;\n",
       "    }\n",
       "</style>\n",
       "<table border=\"1\" class=\"dataframe\">\n",
       "  <thead>\n",
       "    <tr style=\"text-align: right;\">\n",
       "      <th></th>\n",
       "      <th>no</th>\n",
       "      <th>no2</th>\n",
       "      <th>no3</th>\n",
       "    </tr>\n",
       "  </thead>\n",
       "  <tbody>\n",
       "    <tr>\n",
       "      <th>0</th>\n",
       "      <td>HIceaegdgfefHIfcgfegcdcgHI</td>\n",
       "      <td>HIceaegdgfefHIfcgfegcdcgHI</td>\n",
       "      <td>ceaegdgfeffcgfegcdcg</td>\n",
       "    </tr>\n",
       "    <tr>\n",
       "      <th>1</th>\n",
       "      <td>UFFcddbegaebbUFFeefgeadaabUFF</td>\n",
       "      <td>UFFcddbegaebbUFFeefgeadaabUFF</td>\n",
       "      <td>cddbegaebbeefgeadaab</td>\n",
       "    </tr>\n",
       "    <tr>\n",
       "      <th>2</th>\n",
       "      <td>YOaabbgagfcfYOgggaecbcabYO</td>\n",
       "      <td>YOaabbgagfcfYOgggaecbcabYO</td>\n",
       "      <td>aabbgagfcfgggaecbcab</td>\n",
       "    </tr>\n",
       "    <tr>\n",
       "      <th>3</th>\n",
       "      <td>YObbcddcdfegYOdafeefbbdbYO</td>\n",
       "      <td>YObbcddcdfegYOdafeefbbdbYO</td>\n",
       "      <td>bbcddcdfegdafeefbbdb</td>\n",
       "    </tr>\n",
       "    <tr>\n",
       "      <th>4</th>\n",
       "      <td>UFFeagbdgabfcUFFgcegaefdbfUFF</td>\n",
       "      <td>UFFeagbdgabfcUFFgcegaefdbfUFF</td>\n",
       "      <td>eagbdgabfcgcegaefdbf</td>\n",
       "    </tr>\n",
       "  </tbody>\n",
       "</table>\n",
       "</div>"
      ],
      "text/plain": [
       "                              no                            no2  \\\n",
       "0     HIceaegdgfefHIfcgfegcdcgHI     HIceaegdgfefHIfcgfegcdcgHI   \n",
       "1  UFFcddbegaebbUFFeefgeadaabUFF  UFFcddbegaebbUFFeefgeadaabUFF   \n",
       "2     YOaabbgagfcfYOgggaecbcabYO     YOaabbgagfcfYOgggaecbcabYO   \n",
       "3     YObbcddcdfegYOdafeefbbdbYO     YObbcddcdfegYOdafeefbbdbYO   \n",
       "4  UFFeagbdgabfcUFFgcegaefdbfUFF  UFFeagbdgabfcUFFgcegaefdbfUFF   \n",
       "\n",
       "                    no3  \n",
       "0  ceaegdgfeffcgfegcdcg  \n",
       "1  cddbegaebbeefgeadaab  \n",
       "2  aabbgagfcfgggaecbcab  \n",
       "3  bbcddcdfegdafeefbbdb  \n",
       "4  eagbdgabfcgcegaefdbf  "
      ]
     },
     "execution_count": 8,
     "metadata": {},
     "output_type": "execute_result"
    },
    {
     "name": "stdout",
     "output_type": "stream",
     "text": [
      "time: 1.86 s\n"
     ]
    }
   ],
   "source": [
    "col = 'no'\n",
    "df[col+'2'] = pak.remove_words(     df[col], ['YO','UFF', 'HI'])\n",
    "df[col+'3'] = pak.remove_str(       df[col], ['YO','UFF', 'HI'])\n",
    "assert     pak.check_identical(df[col], df[col+'2'], verbose=True) # nicht entfernt!\n",
    "assert not pak.check_identical(df[col], df[col+'3'], verbose=True) # sowieso entfernt \n",
    "spalten = [ col, col+'2', col+'3' ]\n",
    "df[spalten].head()"
   ]
  },
  {
   "cell_type": "code",
   "execution_count": 9,
   "metadata": {},
   "outputs": [
    {
     "data": {
      "text/html": [
       "<div>\n",
       "<style scoped>\n",
       "    .dataframe tbody tr th:only-of-type {\n",
       "        vertical-align: middle;\n",
       "    }\n",
       "\n",
       "    .dataframe tbody tr th {\n",
       "        vertical-align: top;\n",
       "    }\n",
       "\n",
       "    .dataframe thead th {\n",
       "        text-align: right;\n",
       "    }\n",
       "</style>\n",
       "<table border=\"1\" class=\"dataframe\">\n",
       "  <thead>\n",
       "    <tr style=\"text-align: right;\">\n",
       "      <th></th>\n",
       "      <th>space</th>\n",
       "      <th>space2</th>\n",
       "      <th>space3</th>\n",
       "    </tr>\n",
       "  </thead>\n",
       "  <tbody>\n",
       "    <tr>\n",
       "      <th>0</th>\n",
       "      <td>HI ceaegdgfef HI fcgfegcdcg HI</td>\n",
       "      <td>ceaegdgfef  fcgfegcdcg</td>\n",
       "      <td>ceaegdgfef  fcgfegcdcg</td>\n",
       "    </tr>\n",
       "    <tr>\n",
       "      <th>1</th>\n",
       "      <td>UFF cddbegaebb UFF eefgeadaab UFF</td>\n",
       "      <td>cddbegaebb  eefgeadaab</td>\n",
       "      <td>cddbegaebb  eefgeadaab</td>\n",
       "    </tr>\n",
       "    <tr>\n",
       "      <th>2</th>\n",
       "      <td>YO aabbgagfcf YO gggaecbcab YO</td>\n",
       "      <td>aabbgagfcf  gggaecbcab</td>\n",
       "      <td>aabbgagfcf  gggaecbcab</td>\n",
       "    </tr>\n",
       "    <tr>\n",
       "      <th>3</th>\n",
       "      <td>YO bbcddcdfeg YO dafeefbbdb YO</td>\n",
       "      <td>bbcddcdfeg  dafeefbbdb</td>\n",
       "      <td>bbcddcdfeg  dafeefbbdb</td>\n",
       "    </tr>\n",
       "    <tr>\n",
       "      <th>4</th>\n",
       "      <td>UFF eagbdgabfc UFF gcegaefdbf UFF</td>\n",
       "      <td>eagbdgabfc  gcegaefdbf</td>\n",
       "      <td>eagbdgabfc  gcegaefdbf</td>\n",
       "    </tr>\n",
       "  </tbody>\n",
       "</table>\n",
       "</div>"
      ],
      "text/plain": [
       "                                space                  space2  \\\n",
       "0      HI ceaegdgfef HI fcgfegcdcg HI  ceaegdgfef  fcgfegcdcg   \n",
       "1   UFF cddbegaebb UFF eefgeadaab UFF  cddbegaebb  eefgeadaab   \n",
       "2      YO aabbgagfcf YO gggaecbcab YO  aabbgagfcf  gggaecbcab   \n",
       "3      YO bbcddcdfeg YO dafeefbbdb YO  bbcddcdfeg  dafeefbbdb   \n",
       "4   UFF eagbdgabfc UFF gcegaefdbf UFF  eagbdgabfc  gcegaefdbf   \n",
       "\n",
       "                   space3  \n",
       "0  ceaegdgfef  fcgfegcdcg  \n",
       "1  cddbegaebb  eefgeadaab  \n",
       "2  aabbgagfcf  gggaecbcab  \n",
       "3  bbcddcdfeg  dafeefbbdb  \n",
       "4  eagbdgabfc  gcegaefdbf  "
      ]
     },
     "execution_count": 9,
     "metadata": {},
     "output_type": "execute_result"
    },
    {
     "name": "stdout",
     "output_type": "stream",
     "text": [
      "time: 2.62 s\n"
     ]
    }
   ],
   "source": [
    "col = 'space'\n",
    "df[col+'2'] = pak.remove_words(     df[col], ['YO','UFF', 'HI'])\n",
    "df[col+'3'] = pak.remove_str(       df[col], ['YO','UFF', 'HI'])\n",
    "assert not pak.check_identical(df[col], df[col+'2'], verbose=True) # hier entfernt!\n",
    "assert not pak.check_identical(df[col], df[col+'3'], verbose=True) # sowieso entfernt \n",
    "spalten = [ col, col+'2', col+'3' ]\n",
    "df[spalten].head()"
   ]
  },
  {
   "cell_type": "code",
   "execution_count": 10,
   "metadata": {},
   "outputs": [
    {
     "data": {
      "text/html": [
       "<div>\n",
       "<style scoped>\n",
       "    .dataframe tbody tr th:only-of-type {\n",
       "        vertical-align: middle;\n",
       "    }\n",
       "\n",
       "    .dataframe tbody tr th {\n",
       "        vertical-align: top;\n",
       "    }\n",
       "\n",
       "    .dataframe thead th {\n",
       "        text-align: right;\n",
       "    }\n",
       "</style>\n",
       "<table border=\"1\" class=\"dataframe\">\n",
       "  <thead>\n",
       "    <tr style=\"text-align: right;\">\n",
       "      <th></th>\n",
       "      <th>komma</th>\n",
       "      <th>komma2</th>\n",
       "      <th>komma3</th>\n",
       "    </tr>\n",
       "  </thead>\n",
       "  <tbody>\n",
       "    <tr>\n",
       "      <th>0</th>\n",
       "      <td>,HI,ceaegdgfef,HI,fcgfegcdcg,HI</td>\n",
       "      <td>,,ceaegdgfef,,fcgfegcdcg,</td>\n",
       "      <td>,,ceaegdgfef,,fcgfegcdcg,</td>\n",
       "    </tr>\n",
       "    <tr>\n",
       "      <th>1</th>\n",
       "      <td>,UFF,cddbegaebb,UFF,eefgeadaab,UFF</td>\n",
       "      <td>,,cddbegaebb,,eefgeadaab,</td>\n",
       "      <td>,,cddbegaebb,,eefgeadaab,</td>\n",
       "    </tr>\n",
       "    <tr>\n",
       "      <th>2</th>\n",
       "      <td>,YO,aabbgagfcf,YO,gggaecbcab,YO</td>\n",
       "      <td>,,aabbgagfcf,,gggaecbcab,</td>\n",
       "      <td>,,aabbgagfcf,,gggaecbcab,</td>\n",
       "    </tr>\n",
       "    <tr>\n",
       "      <th>3</th>\n",
       "      <td>,YO,bbcddcdfeg,YO,dafeefbbdb,YO</td>\n",
       "      <td>,,bbcddcdfeg,,dafeefbbdb,</td>\n",
       "      <td>,,bbcddcdfeg,,dafeefbbdb,</td>\n",
       "    </tr>\n",
       "    <tr>\n",
       "      <th>4</th>\n",
       "      <td>,UFF,eagbdgabfc,UFF,gcegaefdbf,UFF</td>\n",
       "      <td>,,eagbdgabfc,,gcegaefdbf,</td>\n",
       "      <td>,,eagbdgabfc,,gcegaefdbf,</td>\n",
       "    </tr>\n",
       "  </tbody>\n",
       "</table>\n",
       "</div>"
      ],
      "text/plain": [
       "                                komma                     komma2  \\\n",
       "0     ,HI,ceaegdgfef,HI,fcgfegcdcg,HI  ,,ceaegdgfef,,fcgfegcdcg,   \n",
       "1  ,UFF,cddbegaebb,UFF,eefgeadaab,UFF  ,,cddbegaebb,,eefgeadaab,   \n",
       "2     ,YO,aabbgagfcf,YO,gggaecbcab,YO  ,,aabbgagfcf,,gggaecbcab,   \n",
       "3     ,YO,bbcddcdfeg,YO,dafeefbbdb,YO  ,,bbcddcdfeg,,dafeefbbdb,   \n",
       "4  ,UFF,eagbdgabfc,UFF,gcegaefdbf,UFF  ,,eagbdgabfc,,gcegaefdbf,   \n",
       "\n",
       "                      komma3  \n",
       "0  ,,ceaegdgfef,,fcgfegcdcg,  \n",
       "1  ,,cddbegaebb,,eefgeadaab,  \n",
       "2  ,,aabbgagfcf,,gggaecbcab,  \n",
       "3  ,,bbcddcdfeg,,dafeefbbdb,  \n",
       "4  ,,eagbdgabfc,,gcegaefdbf,  "
      ]
     },
     "execution_count": 10,
     "metadata": {},
     "output_type": "execute_result"
    },
    {
     "name": "stdout",
     "output_type": "stream",
     "text": [
      "time: 2.14 s\n"
     ]
    }
   ],
   "source": [
    "col = 'komma'\n",
    "df[col+'2'] = pak.remove_words(     df[col], ['YO','UFF', 'HI'])\n",
    "df[col+'3'] = pak.remove_str(       df[col], ['YO','UFF', 'HI'])\n",
    "assert not pak.check_identical(df[col], df[col+'2'], verbose=True) # hier entfernt!\n",
    "assert not pak.check_identical(df[col], df[col+'3'], verbose=True) # sowieso entfernt \n",
    "spalten = [ col, col+'2', col+'3' ]\n",
    "df[spalten].head()"
   ]
  },
  {
   "cell_type": "markdown",
   "metadata": {},
   "source": [
    "## replace_str"
   ]
  },
  {
   "cell_type": "code",
   "execution_count": 11,
   "metadata": {},
   "outputs": [
    {
     "name": "stdout",
     "output_type": "stream",
     "text": [
      "time: 2 ms\n"
     ]
    }
   ],
   "source": [
    "spalten = ['no']\n",
    "df = df[spalten]"
   ]
  },
  {
   "cell_type": "code",
   "execution_count": 12,
   "metadata": {},
   "outputs": [
    {
     "name": "stdout",
     "output_type": "stream",
     "text": [
      "Wall time: 228 ms\n",
      "time: 229 ms\n"
     ]
    }
   ],
   "source": [
    "%%time\n",
    "r = {'YO':'JI','UFF':'OLL', 'HI':'KO'}\n",
    "df['replaced'] = pak.replace_str( df.no, r)"
   ]
  },
  {
   "cell_type": "code",
   "execution_count": 13,
   "metadata": {},
   "outputs": [
    {
     "data": {
      "text/html": [
       "<div>\n",
       "<style scoped>\n",
       "    .dataframe tbody tr th:only-of-type {\n",
       "        vertical-align: middle;\n",
       "    }\n",
       "\n",
       "    .dataframe tbody tr th {\n",
       "        vertical-align: top;\n",
       "    }\n",
       "\n",
       "    .dataframe thead th {\n",
       "        text-align: right;\n",
       "    }\n",
       "</style>\n",
       "<table border=\"1\" class=\"dataframe\">\n",
       "  <thead>\n",
       "    <tr style=\"text-align: right;\">\n",
       "      <th></th>\n",
       "      <th>no</th>\n",
       "      <th>replaced</th>\n",
       "    </tr>\n",
       "  </thead>\n",
       "  <tbody>\n",
       "    <tr>\n",
       "      <th>0</th>\n",
       "      <td>HIceaegdgfefHIfcgfegcdcgHI</td>\n",
       "      <td>KOceaegdgfefKOfcgfegcdcgKO</td>\n",
       "    </tr>\n",
       "    <tr>\n",
       "      <th>1</th>\n",
       "      <td>UFFcddbegaebbUFFeefgeadaabUFF</td>\n",
       "      <td>OLLcddbegaebbOLLeefgeadaabOLL</td>\n",
       "    </tr>\n",
       "    <tr>\n",
       "      <th>2</th>\n",
       "      <td>YOaabbgagfcfYOgggaecbcabYO</td>\n",
       "      <td>JIaabbgagfcfJIgggaecbcabJI</td>\n",
       "    </tr>\n",
       "    <tr>\n",
       "      <th>3</th>\n",
       "      <td>YObbcddcdfegYOdafeefbbdbYO</td>\n",
       "      <td>JIbbcddcdfegJIdafeefbbdbJI</td>\n",
       "    </tr>\n",
       "    <tr>\n",
       "      <th>4</th>\n",
       "      <td>UFFeagbdgabfcUFFgcegaefdbfUFF</td>\n",
       "      <td>OLLeagbdgabfcOLLgcegaefdbfOLL</td>\n",
       "    </tr>\n",
       "  </tbody>\n",
       "</table>\n",
       "</div>"
      ],
      "text/plain": [
       "                              no                       replaced\n",
       "0     HIceaegdgfefHIfcgfegcdcgHI     KOceaegdgfefKOfcgfegcdcgKO\n",
       "1  UFFcddbegaebbUFFeefgeadaabUFF  OLLcddbegaebbOLLeefgeadaabOLL\n",
       "2     YOaabbgagfcfYOgggaecbcabYO     JIaabbgagfcfJIgggaecbcabJI\n",
       "3     YObbcddcdfegYOdafeefbbdbYO     JIbbcddcdfegJIdafeefbbdbJI\n",
       "4  UFFeagbdgabfcUFFgcegaefdbfUFF  OLLeagbdgabfcOLLgcegaefdbfOLL"
      ]
     },
     "execution_count": 13,
     "metadata": {},
     "output_type": "execute_result"
    },
    {
     "name": "stdout",
     "output_type": "stream",
     "text": [
      "time: 48 ms\n"
     ]
    }
   ],
   "source": [
    "mask = (df.no != df.replaced)\n",
    "#pak.check_mask(df,mask)\n",
    "df[mask].head()"
   ]
  },
  {
   "cell_type": "code",
   "execution_count": 14,
   "metadata": {},
   "outputs": [
    {
     "name": "stdout",
     "output_type": "stream",
     "text": [
      "time: 62 ms\n"
     ]
    }
   ],
   "source": [
    "mask = df.replaced.str.contains('YO')\n",
    "pak.check_mask(df,mask,0)\n",
    "#df[mask]"
   ]
  },
  {
   "cell_type": "code",
   "execution_count": null,
   "metadata": {},
   "outputs": [],
   "source": []
  }
 ],
 "metadata": {
  "kernelspec": {
   "display_name": "Python 3 (ipykernel)",
   "language": "python",
   "name": "python3"
  },
  "language_info": {
   "codemirror_mode": {
    "name": "ipython",
    "version": 3
   },
   "file_extension": ".py",
   "mimetype": "text/x-python",
   "name": "python",
   "nbconvert_exporter": "python",
   "pygments_lexer": "ipython3",
   "version": "3.8.12"
  }
 },
 "nbformat": 4,
 "nbformat_minor": 4
}
