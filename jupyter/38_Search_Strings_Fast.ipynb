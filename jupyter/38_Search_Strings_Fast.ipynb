{
 "cells": [
  {
   "cell_type": "markdown",
   "metadata": {},
   "source": [
    "__[Open and try this file online (Colab)](https://colab.research.google.com/github/djekra/pandasklar/blob/master/jupyter/38_Search_Strings_Fast.ipynb)__"
   ]
  },
  {
   "cell_type": "markdown",
   "metadata": {},
   "source": [
    "# Search Strings Fast\n",
    "* `fast_startswith`: Searches string columns for matching beginnings.<br>\n",
    "   Like pandas str.startswith(), but much faster for large amounts of data, and it returns the matching fragment.\n",
    "* `fast_endswith`: Searches string columns for matching endings."
   ]
  },
  {
   "cell_type": "code",
   "execution_count": 1,
   "metadata": {
    "execution": {
     "iopub.execute_input": "2023-04-10T20:11:00.202602Z",
     "iopub.status.busy": "2023-04-10T20:11:00.201351Z",
     "iopub.status.idle": "2023-04-10T20:11:00.971054Z",
     "shell.execute_reply": "2023-04-10T20:11:00.970458Z",
     "shell.execute_reply.started": "2023-04-10T20:11:00.202529Z"
    }
   },
   "outputs": [
    {
     "name": "stdout",
     "output_type": "stream",
     "text": [
      "blab init\n",
      "environment['in_colab']     = False\n",
      "environment['dropbox_path'] = /home/me/Data_Linux/Dropbox\n",
      "environment['lib_path']     = /home/me/Data_Linux/Dropbox/31_Projekte/01_Python/libs\n",
      "Start Time: 22:11:00\n"
     ]
    },
    {
     "data": {
      "text/html": [
       "<img src onerror=\"var cell = this.closest('.jp-CodeCell');var editor = cell.querySelector('.jp-Editor');editor.style.background='Beige';this.parentNode.removeChild(this)\">"
      ],
      "text/plain": [
       "<IPython.core.display.HTML object>"
      ]
     },
     "metadata": {},
     "output_type": "display_data"
    }
   ],
   "source": [
    "# blab init\n",
    "try:\n",
    "    import blab\n",
    "except ImportError as e:\n",
    "    !pip install blab\n",
    "    import blab    \n",
    "startup_notebook = blab.blab_startup()\n",
    "%run $startup_notebook "
   ]
  },
  {
   "cell_type": "code",
   "execution_count": 2,
   "metadata": {
    "execution": {
     "iopub.execute_input": "2023-04-10T20:11:00.972805Z",
     "iopub.status.busy": "2023-04-10T20:11:00.972467Z",
     "iopub.status.idle": "2023-04-10T20:11:02.374591Z",
     "shell.execute_reply": "2023-04-10T20:11:02.373870Z",
     "shell.execute_reply.started": "2023-04-10T20:11:00.972781Z"
    }
   },
   "outputs": [
    {
     "name": "stdout",
     "output_type": "stream",
     "text": [
      "VERBOSE = True\n",
      "--> setting verbose=True as default for all pandasklar functions\n",
      "\n"
     ]
    }
   ],
   "source": [
    "import pandas     as pd \n",
    "import bpyth      as bpy\n",
    "\n",
    "# pandasklar\n",
    "try:\n",
    "    import pandasklar as pak \n",
    "except ImportError as e:\n",
    "    !pip install pandasklar\n",
    "    import pandasklar as pak   \n",
    "    \n",
    "# verbose\n",
    "pak.Config.set('VERBOSE', True)\n",
    "\n",
    "# copy_on_write\n",
    "pd.set_option(\"mode.copy_on_write\", True)"
   ]
  },
  {
   "cell_type": "markdown",
   "metadata": {},
   "source": [
    "## fast_startswith()"
   ]
  },
  {
   "cell_type": "code",
   "execution_count": 3,
   "metadata": {
    "execution": {
     "iopub.execute_input": "2023-04-10T20:11:02.377133Z",
     "iopub.status.busy": "2023-04-10T20:11:02.376614Z",
     "iopub.status.idle": "2023-04-10T20:11:02.449400Z",
     "shell.execute_reply": "2023-04-10T20:11:02.448778Z",
     "shell.execute_reply.started": "2023-04-10T20:11:02.377107Z"
    }
   },
   "outputs": [
    {
     "data": {
      "text/plain": [
       "\u001b[0;31mSignature:\u001b[0m\n",
       "\u001b[0mpak\u001b[0m\u001b[0;34m.\u001b[0m\u001b[0mfast_startswith\u001b[0m\u001b[0;34m(\u001b[0m\u001b[0;34m\u001b[0m\n",
       "\u001b[0;34m\u001b[0m    \u001b[0mdf\u001b[0m\u001b[0;34m,\u001b[0m\u001b[0;34m\u001b[0m\n",
       "\u001b[0;34m\u001b[0m    \u001b[0mcol_search\u001b[0m\u001b[0;34m,\u001b[0m\u001b[0;34m\u001b[0m\n",
       "\u001b[0;34m\u001b[0m    \u001b[0mcol_found\u001b[0m\u001b[0;34m,\u001b[0m\u001b[0;34m\u001b[0m\n",
       "\u001b[0;34m\u001b[0m    \u001b[0msearchfor\u001b[0m\u001b[0;34m,\u001b[0m\u001b[0;34m\u001b[0m\n",
       "\u001b[0;34m\u001b[0m    \u001b[0mfind_longest\u001b[0m\u001b[0;34m=\u001b[0m\u001b[0;32mTrue\u001b[0m\u001b[0;34m,\u001b[0m\u001b[0;34m\u001b[0m\n",
       "\u001b[0;34m\u001b[0m    \u001b[0mfind_identical\u001b[0m\u001b[0;34m=\u001b[0m\u001b[0;32mTrue\u001b[0m\u001b[0;34m,\u001b[0m\u001b[0;34m\u001b[0m\n",
       "\u001b[0;34m\u001b[0m\u001b[0;34m)\u001b[0m\u001b[0;34m\u001b[0m\u001b[0;34m\u001b[0m\u001b[0m\n",
       "\u001b[0;31mDocstring:\u001b[0m\n",
       "Searches string columns for matching beginnings.\n",
       "Like pandas str.startswith(), but much faster for large amounts of data,\n",
       "and it returns the matching fragment. \n",
       "* col_search:     Name of the column to be searched\n",
       "* col_found:      Names of the column into which the result is to be written\n",
       "* searchfor:      Series or List of strings to be searched for\n",
       "* find_longest:   Should the longest substring be given as the result? Otherwise the shortest.\n",
       "* find_identical: Should it be counted as a result if a string matches completely?\n",
       "\u001b[0;31mFile:\u001b[0m      ~/Data_Linux/Dropbox/31_Projekte/01_Python/git/pandasklar/src/pandasklar/string.py\n",
       "\u001b[0;31mType:\u001b[0m      function\n"
      ]
     },
     "metadata": {},
     "output_type": "display_data"
    }
   ],
   "source": [
    "?pak.fast_startswith"
   ]
  },
  {
   "cell_type": "code",
   "execution_count": 4,
   "metadata": {
    "execution": {
     "iopub.execute_input": "2023-04-10T20:11:02.453649Z",
     "iopub.status.busy": "2023-04-10T20:11:02.451064Z",
     "iopub.status.idle": "2023-04-10T20:11:12.465802Z",
     "shell.execute_reply": "2023-04-10T20:11:12.465110Z",
     "shell.execute_reply.started": "2023-04-10T20:11:02.453611Z"
    }
   },
   "outputs": [
    {
     "name": "stdout",
     "output_type": "stream",
     "text": [
      "300000 rows to search in\n"
     ]
    },
    {
     "data": {
      "text/html": [
       "<div>\n",
       "<style scoped>\n",
       "    .dataframe tbody tr th:only-of-type {\n",
       "        vertical-align: middle;\n",
       "    }\n",
       "\n",
       "    .dataframe tbody tr th {\n",
       "        vertical-align: top;\n",
       "    }\n",
       "\n",
       "    .dataframe thead th {\n",
       "        text-align: right;\n",
       "    }\n",
       "</style>\n",
       "<table border=\"1\" class=\"dataframe\">\n",
       "  <thead>\n",
       "    <tr style=\"text-align: right;\">\n",
       "      <th></th>\n",
       "      <th>U</th>\n",
       "    </tr>\n",
       "  </thead>\n",
       "  <tbody>\n",
       "    <tr>\n",
       "      <th>0</th>\n",
       "      <td>6ga1ZiaxKy</td>\n",
       "    </tr>\n",
       "    <tr>\n",
       "      <th>1</th>\n",
       "      <td>hXBqBIBoHS</td>\n",
       "    </tr>\n",
       "    <tr>\n",
       "      <th>2</th>\n",
       "      <td>uTürQGXÜ40</td>\n",
       "    </tr>\n",
       "  </tbody>\n",
       "</table>\n",
       "</div>"
      ],
      "text/plain": [
       "            U\n",
       "0  6ga1ZiaxKy\n",
       "1  hXBqBIBoHS\n",
       "2  uTürQGXÜ40"
      ]
     },
     "execution_count": 4,
     "metadata": {},
     "output_type": "execute_result"
    }
   ],
   "source": [
    "# create data to search in\n",
    "size = 300000 # REDUCE THIS IF NECESSARY\n",
    "manystrings = pd.DataFrame(pak.random_series(size,'string',len_min=10, len_max=10, name='U'))\n",
    "print(manystrings.shape[0], 'rows to search in')\n",
    "manystrings.head(3)"
   ]
  },
  {
   "cell_type": "code",
   "execution_count": 5,
   "metadata": {
    "execution": {
     "iopub.execute_input": "2023-04-10T20:11:12.469894Z",
     "iopub.status.busy": "2023-04-10T20:11:12.469577Z",
     "iopub.status.idle": "2023-04-10T20:11:13.054047Z",
     "shell.execute_reply": "2023-04-10T20:11:13.053303Z",
     "shell.execute_reply.started": "2023-04-10T20:11:12.469866Z"
    }
   },
   "outputs": [
    {
     "name": "stdout",
     "output_type": "stream",
     "text": [
      "30000 strings to search for\n"
     ]
    },
    {
     "data": {
      "text/plain": [
       "0    E2GI\n",
       "1    mn8P\n",
       "2      4O\n",
       "Name: rnd_string, dtype: string"
      ]
     },
     "execution_count": 5,
     "metadata": {},
     "output_type": "execute_result"
    }
   ],
   "source": [
    "# create data to search\n",
    "search_me   = pak.random_series( int(size/10),'string',len_min=2, len_max=4)\n",
    "print(search_me.shape[0], 'strings to search for')\n",
    "search_me.head(3)"
   ]
  },
  {
   "cell_type": "code",
   "execution_count": 6,
   "metadata": {
    "execution": {
     "iopub.execute_input": "2023-04-10T20:11:13.055230Z",
     "iopub.status.busy": "2023-04-10T20:11:13.054983Z",
     "iopub.status.idle": "2023-04-10T20:11:42.666060Z",
     "shell.execute_reply": "2023-04-10T20:11:42.665459Z",
     "shell.execute_reply.started": "2023-04-10T20:11:13.055207Z"
    }
   },
   "outputs": [
    {
     "name": "stdout",
     "output_type": "stream",
     "text": [
      "found 280755 matching rows\n",
      "CPU times: user 29.4 s, sys: 3.36 ms, total: 29.4 s\n",
      "Wall time: 29.6 s\n"
     ]
    },
    {
     "data": {
      "text/html": [
       "<div>\n",
       "<style scoped>\n",
       "    .dataframe tbody tr th:only-of-type {\n",
       "        vertical-align: middle;\n",
       "    }\n",
       "\n",
       "    .dataframe tbody tr th {\n",
       "        vertical-align: top;\n",
       "    }\n",
       "\n",
       "    .dataframe thead th {\n",
       "        text-align: right;\n",
       "    }\n",
       "</style>\n",
       "<table border=\"1\" class=\"dataframe\">\n",
       "  <thead>\n",
       "    <tr style=\"text-align: right;\">\n",
       "      <th></th>\n",
       "      <th>U</th>\n",
       "    </tr>\n",
       "  </thead>\n",
       "  <tbody>\n",
       "    <tr>\n",
       "      <th>0</th>\n",
       "      <td>6ga1ZiaxKy</td>\n",
       "    </tr>\n",
       "    <tr>\n",
       "      <th>1</th>\n",
       "      <td>hXBqBIBoHS</td>\n",
       "    </tr>\n",
       "    <tr>\n",
       "      <th>2</th>\n",
       "      <td>uTürQGXÜ40</td>\n",
       "    </tr>\n",
       "  </tbody>\n",
       "</table>\n",
       "</div>"
      ],
      "text/plain": [
       "            U\n",
       "0  6ga1ZiaxKy\n",
       "1  hXBqBIBoHS\n",
       "2  uTürQGXÜ40"
      ]
     },
     "execution_count": 6,
     "metadata": {},
     "output_type": "execute_result"
    }
   ],
   "source": [
    "%%time \n",
    "\n",
    "# Try built-in startswith\n",
    "# Wall time: 25s @ size = 300000\n",
    "\n",
    "mask = manystrings.U.str.startswith(tuple(search_me))\n",
    "result0 = manystrings[mask] # result of the built-in startswith\n",
    "\n",
    "\n",
    "print('found', result0.shape[0], 'matching rows')\n",
    "result0.head(3)"
   ]
  },
  {
   "cell_type": "code",
   "execution_count": 7,
   "metadata": {
    "execution": {
     "iopub.execute_input": "2023-04-10T20:11:42.669429Z",
     "iopub.status.busy": "2023-04-10T20:11:42.667954Z",
     "iopub.status.idle": "2023-04-10T20:11:44.026603Z",
     "shell.execute_reply": "2023-04-10T20:11:44.025765Z",
     "shell.execute_reply.started": "2023-04-10T20:11:42.669384Z"
    },
    "tags": []
   },
   "outputs": [
    {
     "name": "stdout",
     "output_type": "stream",
     "text": [
      "found 280755 matching rows\n",
      "CPU times: user 1.27 s, sys: 12 ms, total: 1.28 s\n",
      "Wall time: 1.31 s\n"
     ]
    },
    {
     "data": {
      "text/html": [
       "<div>\n",
       "<style scoped>\n",
       "    .dataframe tbody tr th:only-of-type {\n",
       "        vertical-align: middle;\n",
       "    }\n",
       "\n",
       "    .dataframe tbody tr th {\n",
       "        vertical-align: top;\n",
       "    }\n",
       "\n",
       "    .dataframe thead th {\n",
       "        text-align: right;\n",
       "    }\n",
       "</style>\n",
       "<table border=\"1\" class=\"dataframe\">\n",
       "  <thead>\n",
       "    <tr style=\"text-align: right;\">\n",
       "      <th></th>\n",
       "      <th>U</th>\n",
       "      <th>found</th>\n",
       "    </tr>\n",
       "  </thead>\n",
       "  <tbody>\n",
       "    <tr>\n",
       "      <th>0</th>\n",
       "      <td>6ga1ZiaxKy</td>\n",
       "      <td>6g</td>\n",
       "    </tr>\n",
       "    <tr>\n",
       "      <th>1</th>\n",
       "      <td>hXBqBIBoHS</td>\n",
       "      <td>hX</td>\n",
       "    </tr>\n",
       "    <tr>\n",
       "      <th>2</th>\n",
       "      <td>uTürQGXÜ40</td>\n",
       "      <td>uT</td>\n",
       "    </tr>\n",
       "  </tbody>\n",
       "</table>\n",
       "</div>"
      ],
      "text/plain": [
       "            U found\n",
       "0  6ga1ZiaxKy    6g\n",
       "1  hXBqBIBoHS    hX\n",
       "2  uTürQGXÜ40    uT"
      ]
     },
     "execution_count": 7,
     "metadata": {},
     "output_type": "execute_result"
    }
   ],
   "source": [
    "%%time\n",
    "\n",
    "# Try fast_startswith\n",
    "# Wall time: 779 ms @ size = 300000\n",
    "\n",
    "df = pak.fast_startswith( manystrings, 'U', 'found', search_me ) \n",
    "mask = df.found.notnull()\n",
    "result1 = df[mask]   # result of fast_startswith\n",
    "\n",
    "print('found', result1.shape[0], 'matching rows')\n",
    "assert result0.shape[0] == result1.shape[0]\n",
    "result1.head(3)"
   ]
  },
  {
   "cell_type": "markdown",
   "metadata": {},
   "source": [
    "### find_identical, find_longest"
   ]
  },
  {
   "cell_type": "code",
   "execution_count": 8,
   "metadata": {
    "execution": {
     "iopub.execute_input": "2023-04-10T20:11:44.030682Z",
     "iopub.status.busy": "2023-04-10T20:11:44.030062Z",
     "iopub.status.idle": "2023-04-10T20:11:45.827536Z",
     "shell.execute_reply": "2023-04-10T20:11:45.826789Z",
     "shell.execute_reply.started": "2023-04-10T20:11:44.030650Z"
    }
   },
   "outputs": [
    {
     "name": "stdout",
     "output_type": "stream",
     "text": [
      "100000 rows to search in\n"
     ]
    },
    {
     "data": {
      "text/html": [
       "<div>\n",
       "<style scoped>\n",
       "    .dataframe tbody tr th:only-of-type {\n",
       "        vertical-align: middle;\n",
       "    }\n",
       "\n",
       "    .dataframe tbody tr th {\n",
       "        vertical-align: top;\n",
       "    }\n",
       "\n",
       "    .dataframe thead th {\n",
       "        text-align: right;\n",
       "    }\n",
       "</style>\n",
       "<table border=\"1\" class=\"dataframe\">\n",
       "  <thead>\n",
       "    <tr style=\"text-align: right;\">\n",
       "      <th></th>\n",
       "      <th>U</th>\n",
       "    </tr>\n",
       "  </thead>\n",
       "  <tbody>\n",
       "    <tr>\n",
       "      <th>0</th>\n",
       "      <td>cE</td>\n",
       "    </tr>\n",
       "    <tr>\n",
       "      <th>1</th>\n",
       "      <td>Hu</td>\n",
       "    </tr>\n",
       "    <tr>\n",
       "      <th>2</th>\n",
       "      <td>Jo</td>\n",
       "    </tr>\n",
       "  </tbody>\n",
       "</table>\n",
       "</div>"
      ],
      "text/plain": [
       "    U\n",
       "0  cE\n",
       "1  Hu\n",
       "2  Jo"
      ]
     },
     "execution_count": 8,
     "metadata": {},
     "output_type": "execute_result"
    }
   ],
   "source": [
    "# create data to search in\n",
    "size = 100000 \n",
    "manystrings = pd.DataFrame(pak.random_series(size,'string',len_min=2, len_max=4, name='U'))\n",
    "print(manystrings.shape[0], 'rows to search in')\n",
    "manystrings.head(3)"
   ]
  },
  {
   "cell_type": "code",
   "execution_count": 9,
   "metadata": {
    "execution": {
     "iopub.execute_input": "2023-04-10T20:11:45.829022Z",
     "iopub.status.busy": "2023-04-10T20:11:45.828497Z",
     "iopub.status.idle": "2023-04-10T20:11:46.472981Z",
     "shell.execute_reply": "2023-04-10T20:11:46.472255Z",
     "shell.execute_reply.started": "2023-04-10T20:11:45.828995Z"
    }
   },
   "outputs": [
    {
     "data": {
      "text/html": [
       "<div>\n",
       "<style scoped>\n",
       "    .dataframe tbody tr th:only-of-type {\n",
       "        vertical-align: middle;\n",
       "    }\n",
       "\n",
       "    .dataframe tbody tr th {\n",
       "        vertical-align: top;\n",
       "    }\n",
       "\n",
       "    .dataframe thead th {\n",
       "        text-align: right;\n",
       "    }\n",
       "</style>\n",
       "<table border=\"1\" class=\"dataframe\">\n",
       "  <thead>\n",
       "    <tr style=\"text-align: right;\">\n",
       "      <th></th>\n",
       "      <th>U</th>\n",
       "      <th>found_longest</th>\n",
       "    </tr>\n",
       "  </thead>\n",
       "  <tbody>\n",
       "    <tr>\n",
       "      <th>3</th>\n",
       "      <td>äDHp</td>\n",
       "      <td>äD</td>\n",
       "    </tr>\n",
       "    <tr>\n",
       "      <th>4</th>\n",
       "      <td>hfo</td>\n",
       "      <td>hf</td>\n",
       "    </tr>\n",
       "    <tr>\n",
       "      <th>5</th>\n",
       "      <td>otR</td>\n",
       "      <td>ot</td>\n",
       "    </tr>\n",
       "    <tr>\n",
       "      <th>6</th>\n",
       "      <td>ü2W</td>\n",
       "      <td>ü2</td>\n",
       "    </tr>\n",
       "    <tr>\n",
       "      <th>7</th>\n",
       "      <td>8kbY</td>\n",
       "      <td>8k</td>\n",
       "    </tr>\n",
       "    <tr>\n",
       "      <th>...</th>\n",
       "      <td>...</td>\n",
       "      <td>...</td>\n",
       "    </tr>\n",
       "    <tr>\n",
       "      <th>99995</th>\n",
       "      <td>DIä</td>\n",
       "      <td>DI</td>\n",
       "    </tr>\n",
       "    <tr>\n",
       "      <th>99996</th>\n",
       "      <td>V41</td>\n",
       "      <td>V4</td>\n",
       "    </tr>\n",
       "    <tr>\n",
       "      <th>99997</th>\n",
       "      <td>puxn</td>\n",
       "      <td>pux</td>\n",
       "    </tr>\n",
       "    <tr>\n",
       "      <th>99998</th>\n",
       "      <td>1NGI</td>\n",
       "      <td>1N</td>\n",
       "    </tr>\n",
       "    <tr>\n",
       "      <th>99999</th>\n",
       "      <td>tAüe</td>\n",
       "      <td>tA</td>\n",
       "    </tr>\n",
       "  </tbody>\n",
       "</table>\n",
       "<p>95376 rows × 2 columns</p>\n",
       "</div>"
      ],
      "text/plain": [
       "          U found_longest\n",
       "3      äDHp            äD\n",
       "4       hfo            hf\n",
       "5       otR            ot\n",
       "6       ü2W            ü2\n",
       "7      8kbY            8k\n",
       "...     ...           ...\n",
       "99995   DIä            DI\n",
       "99996   V41            V4\n",
       "99997  puxn           pux\n",
       "99998  1NGI            1N\n",
       "99999  tAüe            tA\n",
       "\n",
       "[95376 rows x 2 columns]"
      ]
     },
     "execution_count": 9,
     "metadata": {},
     "output_type": "execute_result"
    }
   ],
   "source": [
    "# search self for longest substring\n",
    "df = pak.fast_startswith(manystrings, 'U', 'found_longest', manystrings.U, find_identical=False, find_longest=True) \n",
    "mask = df.found_longest.notnull()\n",
    "self1 = df[mask]   \n",
    "self1"
   ]
  },
  {
   "cell_type": "code",
   "execution_count": 10,
   "metadata": {
    "execution": {
     "iopub.execute_input": "2023-04-10T20:11:46.474429Z",
     "iopub.status.busy": "2023-04-10T20:11:46.474010Z",
     "iopub.status.idle": "2023-04-10T20:11:47.112338Z",
     "shell.execute_reply": "2023-04-10T20:11:47.111590Z",
     "shell.execute_reply.started": "2023-04-10T20:11:46.474405Z"
    }
   },
   "outputs": [
    {
     "data": {
      "text/html": [
       "<div>\n",
       "<style scoped>\n",
       "    .dataframe tbody tr th:only-of-type {\n",
       "        vertical-align: middle;\n",
       "    }\n",
       "\n",
       "    .dataframe tbody tr th {\n",
       "        vertical-align: top;\n",
       "    }\n",
       "\n",
       "    .dataframe thead th {\n",
       "        text-align: right;\n",
       "    }\n",
       "</style>\n",
       "<table border=\"1\" class=\"dataframe\">\n",
       "  <thead>\n",
       "    <tr style=\"text-align: right;\">\n",
       "      <th></th>\n",
       "      <th>U</th>\n",
       "      <th>found_shortest</th>\n",
       "    </tr>\n",
       "  </thead>\n",
       "  <tbody>\n",
       "    <tr>\n",
       "      <th>3</th>\n",
       "      <td>äDHp</td>\n",
       "      <td>äD</td>\n",
       "    </tr>\n",
       "    <tr>\n",
       "      <th>4</th>\n",
       "      <td>hfo</td>\n",
       "      <td>hf</td>\n",
       "    </tr>\n",
       "    <tr>\n",
       "      <th>5</th>\n",
       "      <td>otR</td>\n",
       "      <td>ot</td>\n",
       "    </tr>\n",
       "    <tr>\n",
       "      <th>6</th>\n",
       "      <td>ü2W</td>\n",
       "      <td>ü2</td>\n",
       "    </tr>\n",
       "    <tr>\n",
       "      <th>7</th>\n",
       "      <td>8kbY</td>\n",
       "      <td>8k</td>\n",
       "    </tr>\n",
       "    <tr>\n",
       "      <th>...</th>\n",
       "      <td>...</td>\n",
       "      <td>...</td>\n",
       "    </tr>\n",
       "    <tr>\n",
       "      <th>99995</th>\n",
       "      <td>DIä</td>\n",
       "      <td>DI</td>\n",
       "    </tr>\n",
       "    <tr>\n",
       "      <th>99996</th>\n",
       "      <td>V41</td>\n",
       "      <td>V4</td>\n",
       "    </tr>\n",
       "    <tr>\n",
       "      <th>99997</th>\n",
       "      <td>puxn</td>\n",
       "      <td>pu</td>\n",
       "    </tr>\n",
       "    <tr>\n",
       "      <th>99998</th>\n",
       "      <td>1NGI</td>\n",
       "      <td>1N</td>\n",
       "    </tr>\n",
       "    <tr>\n",
       "      <th>99999</th>\n",
       "      <td>tAüe</td>\n",
       "      <td>tA</td>\n",
       "    </tr>\n",
       "  </tbody>\n",
       "</table>\n",
       "<p>95376 rows × 2 columns</p>\n",
       "</div>"
      ],
      "text/plain": [
       "          U found_shortest\n",
       "3      äDHp             äD\n",
       "4       hfo             hf\n",
       "5       otR             ot\n",
       "6       ü2W             ü2\n",
       "7      8kbY             8k\n",
       "...     ...            ...\n",
       "99995   DIä             DI\n",
       "99996   V41             V4\n",
       "99997  puxn             pu\n",
       "99998  1NGI             1N\n",
       "99999  tAüe             tA\n",
       "\n",
       "[95376 rows x 2 columns]"
      ]
     },
     "execution_count": 10,
     "metadata": {},
     "output_type": "execute_result"
    }
   ],
   "source": [
    "# search self for shortest substring\n",
    "df = pak.fast_startswith(manystrings, 'U', 'found_shortest', manystrings.U, find_identical=False, find_longest=False) \n",
    "mask = df.found_shortest.notnull()\n",
    "self2 = df[mask]   \n",
    "self2"
   ]
  },
  {
   "cell_type": "code",
   "execution_count": 11,
   "metadata": {
    "execution": {
     "iopub.execute_input": "2023-04-10T20:11:47.115455Z",
     "iopub.status.busy": "2023-04-10T20:11:47.115130Z",
     "iopub.status.idle": "2023-04-10T20:11:47.271044Z",
     "shell.execute_reply": "2023-04-10T20:11:47.270359Z",
     "shell.execute_reply.started": "2023-04-10T20:11:47.115426Z"
    }
   },
   "outputs": [
    {
     "data": {
      "text/html": [
       "<div>\n",
       "<style scoped>\n",
       "    .dataframe tbody tr th:only-of-type {\n",
       "        vertical-align: middle;\n",
       "    }\n",
       "\n",
       "    .dataframe tbody tr th {\n",
       "        vertical-align: top;\n",
       "    }\n",
       "\n",
       "    .dataframe thead th {\n",
       "        text-align: right;\n",
       "    }\n",
       "</style>\n",
       "<table border=\"1\" class=\"dataframe\">\n",
       "  <thead>\n",
       "    <tr style=\"text-align: right;\">\n",
       "      <th></th>\n",
       "      <th>U</th>\n",
       "      <th>found_longest</th>\n",
       "      <th>found_shortest</th>\n",
       "    </tr>\n",
       "  </thead>\n",
       "  <tbody>\n",
       "    <tr>\n",
       "      <th>34</th>\n",
       "      <td>xWTt</td>\n",
       "      <td>xWT</td>\n",
       "      <td>xW</td>\n",
       "    </tr>\n",
       "    <tr>\n",
       "      <th>47</th>\n",
       "      <td>4Wpd</td>\n",
       "      <td>4Wp</td>\n",
       "      <td>4W</td>\n",
       "    </tr>\n",
       "    <tr>\n",
       "      <th>58</th>\n",
       "      <td>Dosp</td>\n",
       "      <td>Dos</td>\n",
       "      <td>Do</td>\n",
       "    </tr>\n",
       "    <tr>\n",
       "      <th>65</th>\n",
       "      <td>fAün</td>\n",
       "      <td>fAü</td>\n",
       "      <td>fA</td>\n",
       "    </tr>\n",
       "    <tr>\n",
       "      <th>73</th>\n",
       "      <td>PwÄY</td>\n",
       "      <td>PwÄ</td>\n",
       "      <td>Pw</td>\n",
       "    </tr>\n",
       "    <tr>\n",
       "      <th>...</th>\n",
       "      <td>...</td>\n",
       "      <td>...</td>\n",
       "      <td>...</td>\n",
       "    </tr>\n",
       "    <tr>\n",
       "      <th>95342</th>\n",
       "      <td>jeej</td>\n",
       "      <td>jee</td>\n",
       "      <td>je</td>\n",
       "    </tr>\n",
       "    <tr>\n",
       "      <th>95350</th>\n",
       "      <td>rIMn</td>\n",
       "      <td>rIM</td>\n",
       "      <td>rI</td>\n",
       "    </tr>\n",
       "    <tr>\n",
       "      <th>95353</th>\n",
       "      <td>0PÜI</td>\n",
       "      <td>0PÜ</td>\n",
       "      <td>0P</td>\n",
       "    </tr>\n",
       "    <tr>\n",
       "      <th>95354</th>\n",
       "      <td>avyD</td>\n",
       "      <td>avy</td>\n",
       "      <td>av</td>\n",
       "    </tr>\n",
       "    <tr>\n",
       "      <th>95373</th>\n",
       "      <td>puxn</td>\n",
       "      <td>pux</td>\n",
       "      <td>pu</td>\n",
       "    </tr>\n",
       "  </tbody>\n",
       "</table>\n",
       "<p>8390 rows × 3 columns</p>\n",
       "</div>"
      ],
      "text/plain": [
       "          U found_longest found_shortest\n",
       "34     xWTt           xWT             xW\n",
       "47     4Wpd           4Wp             4W\n",
       "58     Dosp           Dos             Do\n",
       "65     fAün           fAü             fA\n",
       "73     PwÄY           PwÄ             Pw\n",
       "...     ...           ...            ...\n",
       "95342  jeej           jee             je\n",
       "95350  rIMn           rIM             rI\n",
       "95353  0PÜI           0PÜ             0P\n",
       "95354  avyD           avy             av\n",
       "95373  puxn           pux             pu\n",
       "\n",
       "[8390 rows x 3 columns]"
      ]
     },
     "execution_count": 11,
     "metadata": {},
     "output_type": "execute_result"
    }
   ],
   "source": [
    "# compare longest and shortest\n",
    "result = pd.merge(self1, self2, how='outer')\n",
    "assert self1.shape[0] == result.shape[0]\n",
    "assert self2.shape[0] == result.shape[0]\n",
    "mask = result.found_shortest != result.found_longest\n",
    "\n",
    "result[mask]"
   ]
  },
  {
   "cell_type": "markdown",
   "metadata": {},
   "source": [
    "## fast_endswith()"
   ]
  },
  {
   "cell_type": "code",
   "execution_count": 12,
   "metadata": {
    "execution": {
     "iopub.execute_input": "2023-04-10T20:11:47.272596Z",
     "iopub.status.busy": "2023-04-10T20:11:47.272070Z",
     "iopub.status.idle": "2023-04-10T20:11:50.635538Z",
     "shell.execute_reply": "2023-04-10T20:11:50.634853Z",
     "shell.execute_reply.started": "2023-04-10T20:11:47.272558Z"
    }
   },
   "outputs": [
    {
     "name": "stdout",
     "output_type": "stream",
     "text": [
      "100000 rows to search in\n"
     ]
    },
    {
     "data": {
      "text/html": [
       "<div>\n",
       "<style scoped>\n",
       "    .dataframe tbody tr th:only-of-type {\n",
       "        vertical-align: middle;\n",
       "    }\n",
       "\n",
       "    .dataframe tbody tr th {\n",
       "        vertical-align: top;\n",
       "    }\n",
       "\n",
       "    .dataframe thead th {\n",
       "        text-align: right;\n",
       "    }\n",
       "</style>\n",
       "<table border=\"1\" class=\"dataframe\">\n",
       "  <thead>\n",
       "    <tr style=\"text-align: right;\">\n",
       "      <th></th>\n",
       "      <th>U</th>\n",
       "    </tr>\n",
       "  </thead>\n",
       "  <tbody>\n",
       "    <tr>\n",
       "      <th>0</th>\n",
       "      <td>VV3bflVex0</td>\n",
       "    </tr>\n",
       "    <tr>\n",
       "      <th>1</th>\n",
       "      <td>KMDFUKpa9I</td>\n",
       "    </tr>\n",
       "    <tr>\n",
       "      <th>2</th>\n",
       "      <td>Y3fUqz6bcV</td>\n",
       "    </tr>\n",
       "  </tbody>\n",
       "</table>\n",
       "</div>"
      ],
      "text/plain": [
       "            U\n",
       "0  VV3bflVex0\n",
       "1  KMDFUKpa9I\n",
       "2  Y3fUqz6bcV"
      ]
     },
     "execution_count": 12,
     "metadata": {},
     "output_type": "execute_result"
    }
   ],
   "source": [
    "# create data to search in\n",
    "size = 100000 # REDUCE THIS IF NECESSARY\n",
    "manystrings = pd.DataFrame(pak.random_series(size,'string',len_min=10, len_max=10, name='U'))\n",
    "print(manystrings.shape[0], 'rows to search in')\n",
    "manystrings.head(3)"
   ]
  },
  {
   "cell_type": "code",
   "execution_count": 13,
   "metadata": {
    "execution": {
     "iopub.execute_input": "2023-04-10T20:11:50.636912Z",
     "iopub.status.busy": "2023-04-10T20:11:50.636437Z",
     "iopub.status.idle": "2023-04-10T20:11:50.845338Z",
     "shell.execute_reply": "2023-04-10T20:11:50.844454Z",
     "shell.execute_reply.started": "2023-04-10T20:11:50.636884Z"
    }
   },
   "outputs": [
    {
     "name": "stdout",
     "output_type": "stream",
     "text": [
      "10000 strings to search for\n"
     ]
    },
    {
     "data": {
      "text/plain": [
       "0    LPIO\n",
       "1    C99D\n",
       "2     ong\n",
       "Name: rnd_string, dtype: string"
      ]
     },
     "execution_count": 13,
     "metadata": {},
     "output_type": "execute_result"
    }
   ],
   "source": [
    "# create data to search\n",
    "search_me   = pak.random_series( int(size/10),'string',len_min=2, len_max=4)\n",
    "print(search_me.shape[0], 'strings to search for')\n",
    "search_me.head(3)"
   ]
  },
  {
   "cell_type": "code",
   "execution_count": 14,
   "metadata": {
    "execution": {
     "iopub.execute_input": "2023-04-10T20:11:50.846635Z",
     "iopub.status.busy": "2023-04-10T20:11:50.846370Z",
     "iopub.status.idle": "2023-04-10T20:11:57.621690Z",
     "shell.execute_reply": "2023-04-10T20:11:57.620845Z",
     "shell.execute_reply.started": "2023-04-10T20:11:50.846610Z"
    }
   },
   "outputs": [
    {
     "name": "stdout",
     "output_type": "stream",
     "text": [
      "found 58361 matching rows\n",
      "CPU times: user 6.7 s, sys: 4.04 ms, total: 6.7 s\n",
      "Wall time: 6.74 s\n"
     ]
    },
    {
     "data": {
      "text/html": [
       "<div>\n",
       "<style scoped>\n",
       "    .dataframe tbody tr th:only-of-type {\n",
       "        vertical-align: middle;\n",
       "    }\n",
       "\n",
       "    .dataframe tbody tr th {\n",
       "        vertical-align: top;\n",
       "    }\n",
       "\n",
       "    .dataframe thead th {\n",
       "        text-align: right;\n",
       "    }\n",
       "</style>\n",
       "<table border=\"1\" class=\"dataframe\">\n",
       "  <thead>\n",
       "    <tr style=\"text-align: right;\">\n",
       "      <th></th>\n",
       "      <th>U</th>\n",
       "    </tr>\n",
       "  </thead>\n",
       "  <tbody>\n",
       "    <tr>\n",
       "      <th>0</th>\n",
       "      <td>VV3bflVex0</td>\n",
       "    </tr>\n",
       "    <tr>\n",
       "      <th>1</th>\n",
       "      <td>KMDFUKpa9I</td>\n",
       "    </tr>\n",
       "    <tr>\n",
       "      <th>3</th>\n",
       "      <td>wQg414üpQS</td>\n",
       "    </tr>\n",
       "  </tbody>\n",
       "</table>\n",
       "</div>"
      ],
      "text/plain": [
       "            U\n",
       "0  VV3bflVex0\n",
       "1  KMDFUKpa9I\n",
       "3  wQg414üpQS"
      ]
     },
     "execution_count": 14,
     "metadata": {},
     "output_type": "execute_result"
    }
   ],
   "source": [
    "%%time \n",
    "\n",
    "# Try built-in endswith\n",
    "# Wall time: 5.43 s @ size = 100000\n",
    "\n",
    "mask = manystrings.U.str.endswith(tuple(search_me))\n",
    "result0 = manystrings[mask] # result of the built-in startswith\n",
    "\n",
    "\n",
    "print('found', result0.shape[0], 'matching rows')\n",
    "result0.head(3)"
   ]
  },
  {
   "cell_type": "code",
   "execution_count": 15,
   "metadata": {
    "execution": {
     "iopub.execute_input": "2023-04-10T20:11:57.622891Z",
     "iopub.status.busy": "2023-04-10T20:11:57.622628Z",
     "iopub.status.idle": "2023-04-10T20:11:58.247913Z",
     "shell.execute_reply": "2023-04-10T20:11:58.247081Z",
     "shell.execute_reply.started": "2023-04-10T20:11:57.622865Z"
    },
    "tags": []
   },
   "outputs": [
    {
     "name": "stdout",
     "output_type": "stream",
     "text": [
      "found 58361 matching rows\n",
      "CPU times: user 566 ms, sys: 4.02 ms, total: 570 ms\n",
      "Wall time: 582 ms\n"
     ]
    },
    {
     "data": {
      "text/html": [
       "<div>\n",
       "<style scoped>\n",
       "    .dataframe tbody tr th:only-of-type {\n",
       "        vertical-align: middle;\n",
       "    }\n",
       "\n",
       "    .dataframe tbody tr th {\n",
       "        vertical-align: top;\n",
       "    }\n",
       "\n",
       "    .dataframe thead th {\n",
       "        text-align: right;\n",
       "    }\n",
       "</style>\n",
       "<table border=\"1\" class=\"dataframe\">\n",
       "  <thead>\n",
       "    <tr style=\"text-align: right;\">\n",
       "      <th></th>\n",
       "      <th>U</th>\n",
       "      <th>found</th>\n",
       "    </tr>\n",
       "  </thead>\n",
       "  <tbody>\n",
       "    <tr>\n",
       "      <th>0</th>\n",
       "      <td>VV3bflVex0</td>\n",
       "      <td>x0</td>\n",
       "    </tr>\n",
       "    <tr>\n",
       "      <th>1</th>\n",
       "      <td>KMDFUKpa9I</td>\n",
       "      <td>9I</td>\n",
       "    </tr>\n",
       "    <tr>\n",
       "      <th>3</th>\n",
       "      <td>wQg414üpQS</td>\n",
       "      <td>QS</td>\n",
       "    </tr>\n",
       "  </tbody>\n",
       "</table>\n",
       "</div>"
      ],
      "text/plain": [
       "            U found\n",
       "0  VV3bflVex0    x0\n",
       "1  KMDFUKpa9I    9I\n",
       "3  wQg414üpQS    QS"
      ]
     },
     "execution_count": 15,
     "metadata": {},
     "output_type": "execute_result"
    }
   ],
   "source": [
    "%%time\n",
    "\n",
    "# Try fast_endswith\n",
    "# Wall time: 307 ms @ size = 100000\n",
    "\n",
    "df = pak.fast_endswith( manystrings, 'U', 'found', search_me ) \n",
    "mask = df.found.notnull()\n",
    "result1 = df[mask]   # result of fast_startswith\n",
    "\n",
    "print('found', result1.shape[0], 'matching rows')\n",
    "assert result0.shape[0] == result1.shape[0]\n",
    "result1.head(3)"
   ]
  }
 ],
 "metadata": {
  "kernelspec": {
   "display_name": "Python 3 (ipykernel)",
   "language": "python",
   "name": "python3"
  },
  "language_info": {
   "codemirror_mode": {
    "name": "ipython",
    "version": 3
   },
   "file_extension": ".py",
   "mimetype": "text/x-python",
   "name": "python",
   "nbconvert_exporter": "python",
   "pygments_lexer": "ipython3",
   "version": "3.9.13"
  }
 },
 "nbformat": 4,
 "nbformat_minor": 4
}
