{
 "cells": [
  {
   "cell_type": "markdown",
   "metadata": {},
   "source": [
    "# Search Strings Fast\n",
    "* `fast_startswith`: Searches string columns for matching beginnings.<br>\n",
    "   Like pandas str.startswith(), but much faster for large amounts of data, and it returns the matching fragment.\n",
    "* `fast_endswith`: Searches string columns for matching endings."
   ]
  },
  {
   "cell_type": "code",
   "execution_count": 1,
   "metadata": {},
   "outputs": [],
   "source": [
    "# blab init\n",
    "try:\n",
    "    import blab\n",
    "except ImportError as e:\n",
    "    !pip install blab\n",
    "    import blab    \n",
    "startup_notebook = blab.blab_startup()\n",
    "%run $startup_notebook "
   ]
  },
  {
   "cell_type": "code",
   "execution_count": 3,
   "metadata": {},
   "outputs": [
    {
     "name": "stdout",
     "output_type": "stream",
     "text": [
      "VERBOSE = True\n",
      "--> setting verbose=True as default for all pandasklar functions\n",
      "\n",
      "time: 10.8 s\n"
     ]
    }
   ],
   "source": [
    "import pandas     as pd \n",
    "import bpyth      as bpy\n",
    "\n",
    "# pandasklar\n",
    "try:\n",
    "    import pandasklar as pak \n",
    "except ImportError as e:\n",
    "    !pip install pandasklar\n",
    "    import pandasklar as pak   \n",
    "    \n",
    "# verbose\n",
    "pak.Config.set('VERBOSE', True)"
   ]
  },
  {
   "cell_type": "markdown",
   "metadata": {},
   "source": [
    "## fast_startswith()"
   ]
  },
  {
   "cell_type": "code",
   "execution_count": 3,
   "metadata": {},
   "outputs": [
    {
     "name": "stdout",
     "output_type": "stream",
     "text": [
      "time: 75.3 ms (started: 2022-10-31 18:18:41 +01:00)\n"
     ]
    },
    {
     "data": {
      "text/plain": [
       "\u001b[0;31mSignature:\u001b[0m\n",
       "\u001b[0mpak\u001b[0m\u001b[0;34m.\u001b[0m\u001b[0mfast_startswith\u001b[0m\u001b[0;34m(\u001b[0m\u001b[0;34m\u001b[0m\n",
       "\u001b[0;34m\u001b[0m    \u001b[0mdf\u001b[0m\u001b[0;34m,\u001b[0m\u001b[0;34m\u001b[0m\n",
       "\u001b[0;34m\u001b[0m    \u001b[0mcol_search\u001b[0m\u001b[0;34m,\u001b[0m\u001b[0;34m\u001b[0m\n",
       "\u001b[0;34m\u001b[0m    \u001b[0mcol_found\u001b[0m\u001b[0;34m,\u001b[0m\u001b[0;34m\u001b[0m\n",
       "\u001b[0;34m\u001b[0m    \u001b[0msearchfor\u001b[0m\u001b[0;34m,\u001b[0m\u001b[0;34m\u001b[0m\n",
       "\u001b[0;34m\u001b[0m    \u001b[0mfind_longest\u001b[0m\u001b[0;34m=\u001b[0m\u001b[0;32mTrue\u001b[0m\u001b[0;34m,\u001b[0m\u001b[0;34m\u001b[0m\n",
       "\u001b[0;34m\u001b[0m    \u001b[0mfind_identical\u001b[0m\u001b[0;34m=\u001b[0m\u001b[0;32mTrue\u001b[0m\u001b[0;34m,\u001b[0m\u001b[0;34m\u001b[0m\n",
       "\u001b[0;34m\u001b[0m\u001b[0;34m)\u001b[0m\u001b[0;34m\u001b[0m\u001b[0;34m\u001b[0m\u001b[0m\n",
       "\u001b[0;31mDocstring:\u001b[0m\n",
       "Searches string columns for matching beginnings.\n",
       "Like pandas str.startswith(), but much faster for large amounts of data,\n",
       "and it returns the matching fragment. \n",
       "* col_search:     Name of the column to be searched\n",
       "* col_found:      Names of the column into which the result is to be written\n",
       "* searchfor:      Series or List of strings to be searched for\n",
       "* find_longest:   Should the longest substring be given as the result? Otherwise the shortest.\n",
       "* find_identical: Should it be counted as a result if a string matches completely?\n",
       "\u001b[0;31mFile:\u001b[0m      /media/me/DATA/Dropbox/31_Projekte/01_Python/git/pandasklar/src/pandasklar/string.py\n",
       "\u001b[0;31mType:\u001b[0m      function\n"
      ]
     },
     "metadata": {},
     "output_type": "display_data"
    }
   ],
   "source": [
    "?pak.fast_startswith"
   ]
  },
  {
   "cell_type": "code",
   "execution_count": 4,
   "metadata": {},
   "outputs": [
    {
     "name": "stdout",
     "output_type": "stream",
     "text": [
      "300000 rows to search in\n"
     ]
    },
    {
     "data": {
      "text/html": [
       "<div>\n",
       "<style scoped>\n",
       "    .dataframe tbody tr th:only-of-type {\n",
       "        vertical-align: middle;\n",
       "    }\n",
       "\n",
       "    .dataframe tbody tr th {\n",
       "        vertical-align: top;\n",
       "    }\n",
       "\n",
       "    .dataframe thead th {\n",
       "        text-align: right;\n",
       "    }\n",
       "</style>\n",
       "<table border=\"1\" class=\"dataframe\">\n",
       "  <thead>\n",
       "    <tr style=\"text-align: right;\">\n",
       "      <th></th>\n",
       "      <th>U</th>\n",
       "    </tr>\n",
       "  </thead>\n",
       "  <tbody>\n",
       "    <tr>\n",
       "      <th>0</th>\n",
       "      <td>5vie4igg3D</td>\n",
       "    </tr>\n",
       "    <tr>\n",
       "      <th>1</th>\n",
       "      <td>vrÜdLwrIKo</td>\n",
       "    </tr>\n",
       "    <tr>\n",
       "      <th>2</th>\n",
       "      <td>UvD2ykAFFe</td>\n",
       "    </tr>\n",
       "  </tbody>\n",
       "</table>\n",
       "</div>"
      ],
      "text/plain": [
       "            U\n",
       "0  5vie4igg3D\n",
       "1  vrÜdLwrIKo\n",
       "2  UvD2ykAFFe"
      ]
     },
     "execution_count": 4,
     "metadata": {},
     "output_type": "execute_result"
    },
    {
     "name": "stdout",
     "output_type": "stream",
     "text": [
      "time: 10.2 s (started: 2022-10-31 18:18:41 +01:00)\n"
     ]
    }
   ],
   "source": [
    "# create data to search in\n",
    "size = 300000 # REDUCE THIS IF NECESSARY\n",
    "manystrings = pd.DataFrame(pak.random_series(size,'string',len_min=10, len_max=10, name='U'))\n",
    "print(manystrings.shape[0], 'rows to search in')\n",
    "manystrings.head(3)"
   ]
  },
  {
   "cell_type": "code",
   "execution_count": 5,
   "metadata": {},
   "outputs": [
    {
     "name": "stdout",
     "output_type": "stream",
     "text": [
      "30000 strings to search for\n"
     ]
    },
    {
     "data": {
      "text/plain": [
       "0    äeä\n",
       "1     Za\n",
       "2    CZ7\n",
       "Name: rnd_string, dtype: string"
      ]
     },
     "execution_count": 5,
     "metadata": {},
     "output_type": "execute_result"
    },
    {
     "name": "stdout",
     "output_type": "stream",
     "text": [
      "time: 550 ms (started: 2022-10-31 18:18:51 +01:00)\n"
     ]
    }
   ],
   "source": [
    "# create data to search\n",
    "search_me   = pak.random_series( int(size/10),'string',len_min=2, len_max=4)\n",
    "print(search_me.shape[0], 'strings to search for')\n",
    "search_me.head(3)"
   ]
  },
  {
   "cell_type": "code",
   "execution_count": 6,
   "metadata": {},
   "outputs": [
    {
     "name": "stdout",
     "output_type": "stream",
     "text": [
      "found 280610 matching rows\n",
      "CPU times: user 29 s, sys: 32.5 ms, total: 29 s\n",
      "Wall time: 29.5 s\n"
     ]
    },
    {
     "data": {
      "text/html": [
       "<div>\n",
       "<style scoped>\n",
       "    .dataframe tbody tr th:only-of-type {\n",
       "        vertical-align: middle;\n",
       "    }\n",
       "\n",
       "    .dataframe tbody tr th {\n",
       "        vertical-align: top;\n",
       "    }\n",
       "\n",
       "    .dataframe thead th {\n",
       "        text-align: right;\n",
       "    }\n",
       "</style>\n",
       "<table border=\"1\" class=\"dataframe\">\n",
       "  <thead>\n",
       "    <tr style=\"text-align: right;\">\n",
       "      <th></th>\n",
       "      <th>U</th>\n",
       "    </tr>\n",
       "  </thead>\n",
       "  <tbody>\n",
       "    <tr>\n",
       "      <th>0</th>\n",
       "      <td>5vie4igg3D</td>\n",
       "    </tr>\n",
       "    <tr>\n",
       "      <th>1</th>\n",
       "      <td>vrÜdLwrIKo</td>\n",
       "    </tr>\n",
       "    <tr>\n",
       "      <th>2</th>\n",
       "      <td>UvD2ykAFFe</td>\n",
       "    </tr>\n",
       "  </tbody>\n",
       "</table>\n",
       "</div>"
      ],
      "text/plain": [
       "            U\n",
       "0  5vie4igg3D\n",
       "1  vrÜdLwrIKo\n",
       "2  UvD2ykAFFe"
      ]
     },
     "execution_count": 6,
     "metadata": {},
     "output_type": "execute_result"
    },
    {
     "name": "stdout",
     "output_type": "stream",
     "text": [
      "time: 29.5 s (started: 2022-10-31 18:18:52 +01:00)\n"
     ]
    }
   ],
   "source": [
    "%%time \n",
    "\n",
    "# Try built-in startswith\n",
    "# Wall time: 25s @ size = 300000\n",
    "\n",
    "mask = manystrings.U.str.startswith(tuple(search_me))\n",
    "result0 = manystrings[mask] # result of the built-in startswith\n",
    "\n",
    "\n",
    "print('found', result0.shape[0], 'matching rows')\n",
    "result0.head(3)"
   ]
  },
  {
   "cell_type": "code",
   "execution_count": 7,
   "metadata": {},
   "outputs": [
    {
     "name": "stdout",
     "output_type": "stream",
     "text": [
      "found 280610 matching rows\n",
      "CPU times: user 1.22 s, sys: 0 ns, total: 1.22 s\n",
      "Wall time: 1.25 s\n"
     ]
    },
    {
     "data": {
      "text/html": [
       "<div>\n",
       "<style scoped>\n",
       "    .dataframe tbody tr th:only-of-type {\n",
       "        vertical-align: middle;\n",
       "    }\n",
       "\n",
       "    .dataframe tbody tr th {\n",
       "        vertical-align: top;\n",
       "    }\n",
       "\n",
       "    .dataframe thead th {\n",
       "        text-align: right;\n",
       "    }\n",
       "</style>\n",
       "<table border=\"1\" class=\"dataframe\">\n",
       "  <thead>\n",
       "    <tr style=\"text-align: right;\">\n",
       "      <th></th>\n",
       "      <th>U</th>\n",
       "      <th>found</th>\n",
       "    </tr>\n",
       "  </thead>\n",
       "  <tbody>\n",
       "    <tr>\n",
       "      <th>0</th>\n",
       "      <td>5vie4igg3D</td>\n",
       "      <td>5v</td>\n",
       "    </tr>\n",
       "    <tr>\n",
       "      <th>1</th>\n",
       "      <td>vrÜdLwrIKo</td>\n",
       "      <td>vr</td>\n",
       "    </tr>\n",
       "    <tr>\n",
       "      <th>2</th>\n",
       "      <td>UvD2ykAFFe</td>\n",
       "      <td>Uv</td>\n",
       "    </tr>\n",
       "  </tbody>\n",
       "</table>\n",
       "</div>"
      ],
      "text/plain": [
       "            U found\n",
       "0  5vie4igg3D    5v\n",
       "1  vrÜdLwrIKo    vr\n",
       "2  UvD2ykAFFe    Uv"
      ]
     },
     "execution_count": 7,
     "metadata": {},
     "output_type": "execute_result"
    },
    {
     "name": "stdout",
     "output_type": "stream",
     "text": [
      "time: 1.29 s (started: 2022-10-31 18:19:21 +01:00)\n"
     ]
    }
   ],
   "source": [
    "%%time\n",
    "\n",
    "# Try fast_startswith\n",
    "# Wall time: 779 ms @ size = 300000\n",
    "\n",
    "df = pak.fast_startswith( manystrings, 'U', 'found', search_me ) \n",
    "mask = df.found.notnull()\n",
    "result1 = df[mask]   # result of fast_startswith\n",
    "\n",
    "print('found', result1.shape[0], 'matching rows')\n",
    "assert result0.shape[0] == result1.shape[0]\n",
    "result1.head(3)"
   ]
  },
  {
   "cell_type": "markdown",
   "metadata": {},
   "source": [
    "### find_identical, find_longest"
   ]
  },
  {
   "cell_type": "code",
   "execution_count": 8,
   "metadata": {},
   "outputs": [
    {
     "name": "stdout",
     "output_type": "stream",
     "text": [
      "100000 rows to search in\n"
     ]
    },
    {
     "data": {
      "text/html": [
       "<div>\n",
       "<style scoped>\n",
       "    .dataframe tbody tr th:only-of-type {\n",
       "        vertical-align: middle;\n",
       "    }\n",
       "\n",
       "    .dataframe tbody tr th {\n",
       "        vertical-align: top;\n",
       "    }\n",
       "\n",
       "    .dataframe thead th {\n",
       "        text-align: right;\n",
       "    }\n",
       "</style>\n",
       "<table border=\"1\" class=\"dataframe\">\n",
       "  <thead>\n",
       "    <tr style=\"text-align: right;\">\n",
       "      <th></th>\n",
       "      <th>U</th>\n",
       "    </tr>\n",
       "  </thead>\n",
       "  <tbody>\n",
       "    <tr>\n",
       "      <th>0</th>\n",
       "      <td>Ale</td>\n",
       "    </tr>\n",
       "    <tr>\n",
       "      <th>1</th>\n",
       "      <td>pN9</td>\n",
       "    </tr>\n",
       "    <tr>\n",
       "      <th>2</th>\n",
       "      <td>kia</td>\n",
       "    </tr>\n",
       "  </tbody>\n",
       "</table>\n",
       "</div>"
      ],
      "text/plain": [
       "     U\n",
       "0  Ale\n",
       "1  pN9\n",
       "2  kia"
      ]
     },
     "execution_count": 8,
     "metadata": {},
     "output_type": "execute_result"
    },
    {
     "name": "stdout",
     "output_type": "stream",
     "text": [
      "time: 1.76 s (started: 2022-10-31 18:19:22 +01:00)\n"
     ]
    }
   ],
   "source": [
    "# create data to search in\n",
    "size = 100000 \n",
    "manystrings = pd.DataFrame(pak.random_series(size,'string',len_min=2, len_max=4, name='U'))\n",
    "print(manystrings.shape[0], 'rows to search in')\n",
    "manystrings.head(3)"
   ]
  },
  {
   "cell_type": "code",
   "execution_count": 9,
   "metadata": {},
   "outputs": [
    {
     "data": {
      "text/html": [
       "<div>\n",
       "<style scoped>\n",
       "    .dataframe tbody tr th:only-of-type {\n",
       "        vertical-align: middle;\n",
       "    }\n",
       "\n",
       "    .dataframe tbody tr th {\n",
       "        vertical-align: top;\n",
       "    }\n",
       "\n",
       "    .dataframe thead th {\n",
       "        text-align: right;\n",
       "    }\n",
       "</style>\n",
       "<table border=\"1\" class=\"dataframe\">\n",
       "  <thead>\n",
       "    <tr style=\"text-align: right;\">\n",
       "      <th></th>\n",
       "      <th>U</th>\n",
       "      <th>found_longest</th>\n",
       "    </tr>\n",
       "  </thead>\n",
       "  <tbody>\n",
       "    <tr>\n",
       "      <th>0</th>\n",
       "      <td>Ale</td>\n",
       "      <td>Al</td>\n",
       "    </tr>\n",
       "    <tr>\n",
       "      <th>1</th>\n",
       "      <td>pN9</td>\n",
       "      <td>pN</td>\n",
       "    </tr>\n",
       "    <tr>\n",
       "      <th>2</th>\n",
       "      <td>kia</td>\n",
       "      <td>ki</td>\n",
       "    </tr>\n",
       "    <tr>\n",
       "      <th>3</th>\n",
       "      <td>crI</td>\n",
       "      <td>cr</td>\n",
       "    </tr>\n",
       "    <tr>\n",
       "      <th>5</th>\n",
       "      <td>äFH</td>\n",
       "      <td>äF</td>\n",
       "    </tr>\n",
       "    <tr>\n",
       "      <th>...</th>\n",
       "      <td>...</td>\n",
       "      <td>...</td>\n",
       "    </tr>\n",
       "    <tr>\n",
       "      <th>99995</th>\n",
       "      <td>t1w</td>\n",
       "      <td>t1</td>\n",
       "    </tr>\n",
       "    <tr>\n",
       "      <th>99996</th>\n",
       "      <td>eBA6</td>\n",
       "      <td>eBA</td>\n",
       "    </tr>\n",
       "    <tr>\n",
       "      <th>99997</th>\n",
       "      <td>ONÖ2</td>\n",
       "      <td>ON</td>\n",
       "    </tr>\n",
       "    <tr>\n",
       "      <th>99998</th>\n",
       "      <td>S1i</td>\n",
       "      <td>S1</td>\n",
       "    </tr>\n",
       "    <tr>\n",
       "      <th>99999</th>\n",
       "      <td>HGXD</td>\n",
       "      <td>HG</td>\n",
       "    </tr>\n",
       "  </tbody>\n",
       "</table>\n",
       "<p>95376 rows × 2 columns</p>\n",
       "</div>"
      ],
      "text/plain": [
       "          U found_longest\n",
       "0       Ale            Al\n",
       "1       pN9            pN\n",
       "2       kia            ki\n",
       "3       crI            cr\n",
       "5       äFH            äF\n",
       "...     ...           ...\n",
       "99995   t1w            t1\n",
       "99996  eBA6           eBA\n",
       "99997  ONÖ2            ON\n",
       "99998   S1i            S1\n",
       "99999  HGXD            HG\n",
       "\n",
       "[95376 rows x 2 columns]"
      ]
     },
     "execution_count": 9,
     "metadata": {},
     "output_type": "execute_result"
    },
    {
     "name": "stdout",
     "output_type": "stream",
     "text": [
      "time: 767 ms (started: 2022-10-31 18:19:24 +01:00)\n"
     ]
    }
   ],
   "source": [
    "# search self for longest substring\n",
    "df = pak.fast_startswith(manystrings, 'U', 'found_longest', manystrings.U, find_identical=False, find_longest=True) \n",
    "mask = df.found_longest.notnull()\n",
    "self1 = df[mask]   \n",
    "self1"
   ]
  },
  {
   "cell_type": "code",
   "execution_count": 10,
   "metadata": {},
   "outputs": [
    {
     "data": {
      "text/html": [
       "<div>\n",
       "<style scoped>\n",
       "    .dataframe tbody tr th:only-of-type {\n",
       "        vertical-align: middle;\n",
       "    }\n",
       "\n",
       "    .dataframe tbody tr th {\n",
       "        vertical-align: top;\n",
       "    }\n",
       "\n",
       "    .dataframe thead th {\n",
       "        text-align: right;\n",
       "    }\n",
       "</style>\n",
       "<table border=\"1\" class=\"dataframe\">\n",
       "  <thead>\n",
       "    <tr style=\"text-align: right;\">\n",
       "      <th></th>\n",
       "      <th>U</th>\n",
       "      <th>found_shortest</th>\n",
       "    </tr>\n",
       "  </thead>\n",
       "  <tbody>\n",
       "    <tr>\n",
       "      <th>0</th>\n",
       "      <td>Ale</td>\n",
       "      <td>Al</td>\n",
       "    </tr>\n",
       "    <tr>\n",
       "      <th>1</th>\n",
       "      <td>pN9</td>\n",
       "      <td>pN</td>\n",
       "    </tr>\n",
       "    <tr>\n",
       "      <th>2</th>\n",
       "      <td>kia</td>\n",
       "      <td>ki</td>\n",
       "    </tr>\n",
       "    <tr>\n",
       "      <th>3</th>\n",
       "      <td>crI</td>\n",
       "      <td>cr</td>\n",
       "    </tr>\n",
       "    <tr>\n",
       "      <th>5</th>\n",
       "      <td>äFH</td>\n",
       "      <td>äF</td>\n",
       "    </tr>\n",
       "    <tr>\n",
       "      <th>...</th>\n",
       "      <td>...</td>\n",
       "      <td>...</td>\n",
       "    </tr>\n",
       "    <tr>\n",
       "      <th>99995</th>\n",
       "      <td>t1w</td>\n",
       "      <td>t1</td>\n",
       "    </tr>\n",
       "    <tr>\n",
       "      <th>99996</th>\n",
       "      <td>eBA6</td>\n",
       "      <td>eB</td>\n",
       "    </tr>\n",
       "    <tr>\n",
       "      <th>99997</th>\n",
       "      <td>ONÖ2</td>\n",
       "      <td>ON</td>\n",
       "    </tr>\n",
       "    <tr>\n",
       "      <th>99998</th>\n",
       "      <td>S1i</td>\n",
       "      <td>S1</td>\n",
       "    </tr>\n",
       "    <tr>\n",
       "      <th>99999</th>\n",
       "      <td>HGXD</td>\n",
       "      <td>HG</td>\n",
       "    </tr>\n",
       "  </tbody>\n",
       "</table>\n",
       "<p>95376 rows × 2 columns</p>\n",
       "</div>"
      ],
      "text/plain": [
       "          U found_shortest\n",
       "0       Ale             Al\n",
       "1       pN9             pN\n",
       "2       kia             ki\n",
       "3       crI             cr\n",
       "5       äFH             äF\n",
       "...     ...            ...\n",
       "99995   t1w             t1\n",
       "99996  eBA6             eB\n",
       "99997  ONÖ2             ON\n",
       "99998   S1i             S1\n",
       "99999  HGXD             HG\n",
       "\n",
       "[95376 rows x 2 columns]"
      ]
     },
     "execution_count": 10,
     "metadata": {},
     "output_type": "execute_result"
    },
    {
     "name": "stdout",
     "output_type": "stream",
     "text": [
      "time: 749 ms (started: 2022-10-31 18:19:25 +01:00)\n"
     ]
    }
   ],
   "source": [
    "# search self for shortest substring\n",
    "df = pak.fast_startswith(manystrings, 'U', 'found_shortest', manystrings.U, find_identical=False, find_longest=False) \n",
    "mask = df.found_shortest.notnull()\n",
    "self2 = df[mask]   \n",
    "self2"
   ]
  },
  {
   "cell_type": "code",
   "execution_count": 11,
   "metadata": {},
   "outputs": [
    {
     "data": {
      "text/html": [
       "<div>\n",
       "<style scoped>\n",
       "    .dataframe tbody tr th:only-of-type {\n",
       "        vertical-align: middle;\n",
       "    }\n",
       "\n",
       "    .dataframe tbody tr th {\n",
       "        vertical-align: top;\n",
       "    }\n",
       "\n",
       "    .dataframe thead th {\n",
       "        text-align: right;\n",
       "    }\n",
       "</style>\n",
       "<table border=\"1\" class=\"dataframe\">\n",
       "  <thead>\n",
       "    <tr style=\"text-align: right;\">\n",
       "      <th></th>\n",
       "      <th>U</th>\n",
       "      <th>found_longest</th>\n",
       "      <th>found_shortest</th>\n",
       "    </tr>\n",
       "  </thead>\n",
       "  <tbody>\n",
       "    <tr>\n",
       "      <th>70</th>\n",
       "      <td>wNÖ0</td>\n",
       "      <td>wNÖ</td>\n",
       "      <td>wN</td>\n",
       "    </tr>\n",
       "    <tr>\n",
       "      <th>102</th>\n",
       "      <td>LseQ</td>\n",
       "      <td>Lse</td>\n",
       "      <td>Ls</td>\n",
       "    </tr>\n",
       "    <tr>\n",
       "      <th>105</th>\n",
       "      <td>dpiö</td>\n",
       "      <td>dpi</td>\n",
       "      <td>dp</td>\n",
       "    </tr>\n",
       "    <tr>\n",
       "      <th>111</th>\n",
       "      <td>Äwu7</td>\n",
       "      <td>Äwu</td>\n",
       "      <td>Äw</td>\n",
       "    </tr>\n",
       "    <tr>\n",
       "      <th>113</th>\n",
       "      <td>032v</td>\n",
       "      <td>032</td>\n",
       "      <td>03</td>\n",
       "    </tr>\n",
       "    <tr>\n",
       "      <th>...</th>\n",
       "      <td>...</td>\n",
       "      <td>...</td>\n",
       "      <td>...</td>\n",
       "    </tr>\n",
       "    <tr>\n",
       "      <th>95353</th>\n",
       "      <td>GX4ö</td>\n",
       "      <td>GX4</td>\n",
       "      <td>GX</td>\n",
       "    </tr>\n",
       "    <tr>\n",
       "      <th>95361</th>\n",
       "      <td>UapQ</td>\n",
       "      <td>Uap</td>\n",
       "      <td>Ua</td>\n",
       "    </tr>\n",
       "    <tr>\n",
       "      <th>95366</th>\n",
       "      <td>STg3</td>\n",
       "      <td>STg</td>\n",
       "      <td>ST</td>\n",
       "    </tr>\n",
       "    <tr>\n",
       "      <th>95368</th>\n",
       "      <td>EHvu</td>\n",
       "      <td>EHv</td>\n",
       "      <td>EH</td>\n",
       "    </tr>\n",
       "    <tr>\n",
       "      <th>95372</th>\n",
       "      <td>eBA6</td>\n",
       "      <td>eBA</td>\n",
       "      <td>eB</td>\n",
       "    </tr>\n",
       "  </tbody>\n",
       "</table>\n",
       "<p>8335 rows × 3 columns</p>\n",
       "</div>"
      ],
      "text/plain": [
       "          U found_longest found_shortest\n",
       "70     wNÖ0           wNÖ             wN\n",
       "102    LseQ           Lse             Ls\n",
       "105    dpiö           dpi             dp\n",
       "111    Äwu7           Äwu             Äw\n",
       "113    032v           032             03\n",
       "...     ...           ...            ...\n",
       "95353  GX4ö           GX4             GX\n",
       "95361  UapQ           Uap             Ua\n",
       "95366  STg3           STg             ST\n",
       "95368  EHvu           EHv             EH\n",
       "95372  eBA6           eBA             eB\n",
       "\n",
       "[8335 rows x 3 columns]"
      ]
     },
     "execution_count": 11,
     "metadata": {},
     "output_type": "execute_result"
    },
    {
     "name": "stdout",
     "output_type": "stream",
     "text": [
      "time: 159 ms (started: 2022-10-31 18:19:26 +01:00)\n"
     ]
    }
   ],
   "source": [
    "# compare longest and shortest\n",
    "result = pd.merge(self1, self2, how='outer')\n",
    "assert self1.shape[0] == result.shape[0]\n",
    "assert self2.shape[0] == result.shape[0]\n",
    "mask = result.found_shortest != result.found_longest\n",
    "\n",
    "result[mask]"
   ]
  },
  {
   "cell_type": "markdown",
   "metadata": {},
   "source": [
    "## fast_endswith()"
   ]
  },
  {
   "cell_type": "code",
   "execution_count": 12,
   "metadata": {},
   "outputs": [
    {
     "name": "stdout",
     "output_type": "stream",
     "text": [
      "100000 rows to search in\n"
     ]
    },
    {
     "data": {
      "text/html": [
       "<div>\n",
       "<style scoped>\n",
       "    .dataframe tbody tr th:only-of-type {\n",
       "        vertical-align: middle;\n",
       "    }\n",
       "\n",
       "    .dataframe tbody tr th {\n",
       "        vertical-align: top;\n",
       "    }\n",
       "\n",
       "    .dataframe thead th {\n",
       "        text-align: right;\n",
       "    }\n",
       "</style>\n",
       "<table border=\"1\" class=\"dataframe\">\n",
       "  <thead>\n",
       "    <tr style=\"text-align: right;\">\n",
       "      <th></th>\n",
       "      <th>U</th>\n",
       "    </tr>\n",
       "  </thead>\n",
       "  <tbody>\n",
       "    <tr>\n",
       "      <th>0</th>\n",
       "      <td>saBfxi6ÜjÄ</td>\n",
       "    </tr>\n",
       "    <tr>\n",
       "      <th>1</th>\n",
       "      <td>UrPoKeHHtö</td>\n",
       "    </tr>\n",
       "    <tr>\n",
       "      <th>2</th>\n",
       "      <td>öI9LÄg1eHJ</td>\n",
       "    </tr>\n",
       "  </tbody>\n",
       "</table>\n",
       "</div>"
      ],
      "text/plain": [
       "            U\n",
       "0  saBfxi6ÜjÄ\n",
       "1  UrPoKeHHtö\n",
       "2  öI9LÄg1eHJ"
      ]
     },
     "execution_count": 12,
     "metadata": {},
     "output_type": "execute_result"
    },
    {
     "name": "stdout",
     "output_type": "stream",
     "text": [
      "time: 3.42 s (started: 2022-10-31 18:19:26 +01:00)\n"
     ]
    }
   ],
   "source": [
    "# create data to search in\n",
    "size = 100000 # REDUCE THIS IF NECESSARY\n",
    "manystrings = pd.DataFrame(pak.random_series(size,'string',len_min=10, len_max=10, name='U'))\n",
    "print(manystrings.shape[0], 'rows to search in')\n",
    "manystrings.head(3)"
   ]
  },
  {
   "cell_type": "code",
   "execution_count": 13,
   "metadata": {},
   "outputs": [
    {
     "name": "stdout",
     "output_type": "stream",
     "text": [
      "10000 strings to search for\n"
     ]
    },
    {
     "data": {
      "text/plain": [
       "0     K1\n",
       "1    BKÜ\n",
       "2    8V3\n",
       "Name: rnd_string, dtype: string"
      ]
     },
     "execution_count": 13,
     "metadata": {},
     "output_type": "execute_result"
    },
    {
     "name": "stdout",
     "output_type": "stream",
     "text": [
      "time: 212 ms (started: 2022-10-31 18:19:29 +01:00)\n"
     ]
    }
   ],
   "source": [
    "# create data to search\n",
    "search_me   = pak.random_series( int(size/10),'string',len_min=2, len_max=4)\n",
    "print(search_me.shape[0], 'strings to search for')\n",
    "search_me.head(3)"
   ]
  },
  {
   "cell_type": "code",
   "execution_count": 14,
   "metadata": {},
   "outputs": [
    {
     "name": "stdout",
     "output_type": "stream",
     "text": [
      "found 57826 matching rows\n",
      "CPU times: user 7.35 s, sys: 192 µs, total: 7.35 s\n",
      "Wall time: 7.39 s\n"
     ]
    },
    {
     "data": {
      "text/html": [
       "<div>\n",
       "<style scoped>\n",
       "    .dataframe tbody tr th:only-of-type {\n",
       "        vertical-align: middle;\n",
       "    }\n",
       "\n",
       "    .dataframe tbody tr th {\n",
       "        vertical-align: top;\n",
       "    }\n",
       "\n",
       "    .dataframe thead th {\n",
       "        text-align: right;\n",
       "    }\n",
       "</style>\n",
       "<table border=\"1\" class=\"dataframe\">\n",
       "  <thead>\n",
       "    <tr style=\"text-align: right;\">\n",
       "      <th></th>\n",
       "      <th>U</th>\n",
       "    </tr>\n",
       "  </thead>\n",
       "  <tbody>\n",
       "    <tr>\n",
       "      <th>4</th>\n",
       "      <td>CoOsvuXÖQü</td>\n",
       "    </tr>\n",
       "    <tr>\n",
       "      <th>5</th>\n",
       "      <td>üAHJeaCU0d</td>\n",
       "    </tr>\n",
       "    <tr>\n",
       "      <th>8</th>\n",
       "      <td>aDFWp1VCza</td>\n",
       "    </tr>\n",
       "  </tbody>\n",
       "</table>\n",
       "</div>"
      ],
      "text/plain": [
       "            U\n",
       "4  CoOsvuXÖQü\n",
       "5  üAHJeaCU0d\n",
       "8  aDFWp1VCza"
      ]
     },
     "execution_count": 14,
     "metadata": {},
     "output_type": "execute_result"
    },
    {
     "name": "stdout",
     "output_type": "stream",
     "text": [
      "time: 7.43 s (started: 2022-10-31 18:19:29 +01:00)\n"
     ]
    }
   ],
   "source": [
    "%%time \n",
    "\n",
    "# Try built-in endswith\n",
    "# Wall time: 5.43 s @ size = 100000\n",
    "\n",
    "mask = manystrings.U.str.endswith(tuple(search_me))\n",
    "result0 = manystrings[mask] # result of the built-in startswith\n",
    "\n",
    "\n",
    "print('found', result0.shape[0], 'matching rows')\n",
    "result0.head(3)"
   ]
  },
  {
   "cell_type": "code",
   "execution_count": 15,
   "metadata": {},
   "outputs": [
    {
     "name": "stdout",
     "output_type": "stream",
     "text": [
      "found 57826 matching rows\n",
      "CPU times: user 481 ms, sys: 63 µs, total: 481 ms\n",
      "Wall time: 497 ms\n"
     ]
    },
    {
     "data": {
      "text/html": [
       "<div>\n",
       "<style scoped>\n",
       "    .dataframe tbody tr th:only-of-type {\n",
       "        vertical-align: middle;\n",
       "    }\n",
       "\n",
       "    .dataframe tbody tr th {\n",
       "        vertical-align: top;\n",
       "    }\n",
       "\n",
       "    .dataframe thead th {\n",
       "        text-align: right;\n",
       "    }\n",
       "</style>\n",
       "<table border=\"1\" class=\"dataframe\">\n",
       "  <thead>\n",
       "    <tr style=\"text-align: right;\">\n",
       "      <th></th>\n",
       "      <th>U</th>\n",
       "      <th>found</th>\n",
       "    </tr>\n",
       "  </thead>\n",
       "  <tbody>\n",
       "    <tr>\n",
       "      <th>4</th>\n",
       "      <td>CoOsvuXÖQü</td>\n",
       "      <td>Qü</td>\n",
       "    </tr>\n",
       "    <tr>\n",
       "      <th>5</th>\n",
       "      <td>üAHJeaCU0d</td>\n",
       "      <td>0d</td>\n",
       "    </tr>\n",
       "    <tr>\n",
       "      <th>8</th>\n",
       "      <td>aDFWp1VCza</td>\n",
       "      <td>za</td>\n",
       "    </tr>\n",
       "  </tbody>\n",
       "</table>\n",
       "</div>"
      ],
      "text/plain": [
       "            U found\n",
       "4  CoOsvuXÖQü    Qü\n",
       "5  üAHJeaCU0d    0d\n",
       "8  aDFWp1VCza    za"
      ]
     },
     "execution_count": 15,
     "metadata": {},
     "output_type": "execute_result"
    },
    {
     "name": "stdout",
     "output_type": "stream",
     "text": [
      "time: 532 ms (started: 2022-10-31 18:19:37 +01:00)\n"
     ]
    }
   ],
   "source": [
    "%%time\n",
    "\n",
    "# Try fast_endswith\n",
    "# Wall time: 307 ms @ size = 100000\n",
    "\n",
    "df = pak.fast_endswith( manystrings, 'U', 'found', search_me ) \n",
    "mask = df.found.notnull()\n",
    "result1 = df[mask]   # result of fast_startswith\n",
    "\n",
    "print('found', result1.shape[0], 'matching rows')\n",
    "assert result0.shape[0] == result1.shape[0]\n",
    "result1.head(3)"
   ]
  }
 ],
 "metadata": {
  "kernelspec": {
   "display_name": "Python 3 (ipykernel)",
   "language": "python",
   "name": "python3"
  },
  "language_info": {
   "codemirror_mode": {
    "name": "ipython",
    "version": 3
   },
   "file_extension": ".py",
   "mimetype": "text/x-python",
   "name": "python",
   "nbconvert_exporter": "python",
   "pygments_lexer": "ipython3",
   "version": "3.9.13"
  }
 },
 "nbformat": 4,
 "nbformat_minor": 4
}
