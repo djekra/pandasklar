{
 "cells": [
  {
   "cell_type": "markdown",
   "metadata": {},
   "source": [
    "__[Open and try this file online (Colab)](https://colab.research.google.com/github/djekra/pandasklar/blob/master/jupyter/37_Slice_Strings_Variably.ipynb)__"
   ]
  },
  {
   "cell_type": "markdown",
   "metadata": {},
   "source": [
    "# Slice Strings Variably\n",
    "* `slice_string`: Slices a column of strings based on indexes in another columns."
   ]
  },
  {
   "cell_type": "code",
   "execution_count": 1,
   "metadata": {
    "execution": {
     "iopub.execute_input": "2023-04-10T19:46:45.977159Z",
     "iopub.status.busy": "2023-04-10T19:46:45.975701Z",
     "iopub.status.idle": "2023-04-10T19:46:46.743343Z",
     "shell.execute_reply": "2023-04-10T19:46:46.741978Z",
     "shell.execute_reply.started": "2023-04-10T19:46:45.977093Z"
    }
   },
   "outputs": [
    {
     "name": "stdout",
     "output_type": "stream",
     "text": [
      "blab init\n",
      "environment['in_colab']     = False\n",
      "environment['dropbox_path'] = /home/me/Data_Linux/Dropbox\n",
      "environment['lib_path']     = /home/me/Data_Linux/Dropbox/31_Projekte/01_Python/libs\n",
      "Start Time: 21:46:46\n"
     ]
    },
    {
     "data": {
      "text/html": [
       "<img src onerror=\"var cell = this.closest('.jp-CodeCell');var editor = cell.querySelector('.jp-Editor');editor.style.background='Beige';this.parentNode.removeChild(this)\">"
      ],
      "text/plain": [
       "<IPython.core.display.HTML object>"
      ]
     },
     "metadata": {},
     "output_type": "display_data"
    }
   ],
   "source": [
    "# blab init\n",
    "try:\n",
    "    import blab\n",
    "except ImportError as e:\n",
    "    !pip install blab\n",
    "    import blab    \n",
    "startup_notebook = blab.blab_startup()\n",
    "%run $startup_notebook "
   ]
  },
  {
   "cell_type": "code",
   "execution_count": 2,
   "metadata": {
    "execution": {
     "iopub.execute_input": "2023-04-10T19:46:46.746243Z",
     "iopub.status.busy": "2023-04-10T19:46:46.745510Z",
     "iopub.status.idle": "2023-04-10T19:46:48.304370Z",
     "shell.execute_reply": "2023-04-10T19:46:48.303756Z",
     "shell.execute_reply.started": "2023-04-10T19:46:46.746209Z"
    }
   },
   "outputs": [],
   "source": [
    "import pandas     as pd \n",
    "import bpyth      as bpy\n",
    "\n",
    "# pandasklar\n",
    "try:\n",
    "    import pandasklar as pak \n",
    "except ImportError as e:\n",
    "    !pip install pandasklar\n",
    "    import pandasklar as pak   \n",
    "    \n",
    "# verbose\n",
    "#pak.Config.set('VERBOSE', True)\n",
    "\n",
    "# copy_on_write\n",
    "pd.set_option(\"mode.copy_on_write\", True)"
   ]
  },
  {
   "cell_type": "markdown",
   "metadata": {},
   "source": [
    "## slice_string()\n",
    "* `slice_string`: Slices a column of strings based on indexes in another columns."
   ]
  },
  {
   "cell_type": "code",
   "execution_count": 3,
   "metadata": {
    "execution": {
     "iopub.execute_input": "2023-04-10T19:46:48.307156Z",
     "iopub.status.busy": "2023-04-10T19:46:48.306409Z",
     "iopub.status.idle": "2023-04-10T19:46:48.381173Z",
     "shell.execute_reply": "2023-04-10T19:46:48.380536Z",
     "shell.execute_reply.started": "2023-04-10T19:46:48.307125Z"
    }
   },
   "outputs": [
    {
     "data": {
      "text/plain": [
       "\u001b[0;31mSignature:\u001b[0m  \u001b[0mpak\u001b[0m\u001b[0;34m.\u001b[0m\u001b[0mslice_string\u001b[0m\u001b[0;34m(\u001b[0m\u001b[0mdf\u001b[0m\u001b[0;34m,\u001b[0m \u001b[0mcol_text\u001b[0m\u001b[0;34m,\u001b[0m \u001b[0mcol_start\u001b[0m\u001b[0;34m,\u001b[0m \u001b[0mcol_end\u001b[0m\u001b[0;34m,\u001b[0m \u001b[0mcol_result\u001b[0m\u001b[0;34m)\u001b[0m\u001b[0;34m\u001b[0m\u001b[0;34m\u001b[0m\u001b[0m\n",
       "\u001b[0;31mDocstring:\u001b[0m\n",
       "Slices a column of strings based on indexes in another columns.\n",
       "* col_text:   Name of the column containing the  text.\n",
       "* col_start:  Name of the column containing the  start index OR the start index numeric.  \n",
       "* col_end:    Name of the column containing the  end index   OR the end index numeric.      \n",
       "* col_result: Name of the column to hold the result.        \n",
       "\u001b[0;31mFile:\u001b[0m      ~/Data_Linux/Dropbox/31_Projekte/01_Python/git/pandasklar/src/pandasklar/string.py\n",
       "\u001b[0;31mType:\u001b[0m      function\n"
      ]
     },
     "metadata": {},
     "output_type": "display_data"
    }
   ],
   "source": [
    "? pak.slice_string"
   ]
  },
  {
   "cell_type": "code",
   "execution_count": 4,
   "metadata": {
    "execution": {
     "iopub.execute_input": "2023-04-10T19:46:48.389770Z",
     "iopub.status.busy": "2023-04-10T19:46:48.389217Z",
     "iopub.status.idle": "2023-04-10T19:46:49.568414Z",
     "shell.execute_reply": "2023-04-10T19:46:49.567665Z",
     "shell.execute_reply.started": "2023-04-10T19:46:48.389735Z"
    }
   },
   "outputs": [
    {
     "data": {
      "text/html": [
       "<div>\n",
       "<style scoped>\n",
       "    .dataframe tbody tr th:only-of-type {\n",
       "        vertical-align: middle;\n",
       "    }\n",
       "\n",
       "    .dataframe tbody tr th {\n",
       "        vertical-align: top;\n",
       "    }\n",
       "\n",
       "    .dataframe thead th {\n",
       "        text-align: right;\n",
       "    }\n",
       "</style>\n",
       "<table border=\"1\" class=\"dataframe\">\n",
       "  <thead>\n",
       "    <tr style=\"text-align: right;\">\n",
       "      <th></th>\n",
       "      <th>first_name</th>\n",
       "      <th>from</th>\n",
       "      <th>to</th>\n",
       "    </tr>\n",
       "  </thead>\n",
       "  <tbody>\n",
       "    <tr>\n",
       "      <th>0</th>\n",
       "      <td>Tom</td>\n",
       "      <td>0</td>\n",
       "      <td>3</td>\n",
       "    </tr>\n",
       "    <tr>\n",
       "      <th>1</th>\n",
       "      <td>Willy</td>\n",
       "      <td>1</td>\n",
       "      <td>-1</td>\n",
       "    </tr>\n",
       "    <tr>\n",
       "      <th>2</th>\n",
       "      <td>Anja</td>\n",
       "      <td>2</td>\n",
       "      <td>-3</td>\n",
       "    </tr>\n",
       "    <tr>\n",
       "      <th>3</th>\n",
       "      <td>Mika</td>\n",
       "      <td>2</td>\n",
       "      <td>2</td>\n",
       "    </tr>\n",
       "    <tr>\n",
       "      <th>4</th>\n",
       "      <td>Kirsten</td>\n",
       "      <td>1</td>\n",
       "      <td>3</td>\n",
       "    </tr>\n",
       "    <tr>\n",
       "      <th>...</th>\n",
       "      <td>...</td>\n",
       "      <td>...</td>\n",
       "      <td>...</td>\n",
       "    </tr>\n",
       "    <tr>\n",
       "      <th>99995</th>\n",
       "      <td>Isabell</td>\n",
       "      <td>0</td>\n",
       "      <td>-2</td>\n",
       "    </tr>\n",
       "    <tr>\n",
       "      <th>99996</th>\n",
       "      <td>Andreas</td>\n",
       "      <td>2</td>\n",
       "      <td>4</td>\n",
       "    </tr>\n",
       "    <tr>\n",
       "      <th>99997</th>\n",
       "      <td>Elfriede</td>\n",
       "      <td>0</td>\n",
       "      <td>3</td>\n",
       "    </tr>\n",
       "    <tr>\n",
       "      <th>99998</th>\n",
       "      <td>Sandra</td>\n",
       "      <td>1</td>\n",
       "      <td>1</td>\n",
       "    </tr>\n",
       "    <tr>\n",
       "      <th>99999</th>\n",
       "      <td>Aileen</td>\n",
       "      <td>0</td>\n",
       "      <td>2</td>\n",
       "    </tr>\n",
       "  </tbody>\n",
       "</table>\n",
       "<p>100000 rows × 3 columns</p>\n",
       "</div>"
      ],
      "text/plain": [
       "      first_name  from  to\n",
       "0            Tom     0   3\n",
       "1          Willy     1  -1\n",
       "2           Anja     2  -3\n",
       "3           Mika     2   2\n",
       "4        Kirsten     1   3\n",
       "...          ...   ...  ..\n",
       "99995    Isabell     0  -2\n",
       "99996    Andreas     2   4\n",
       "99997   Elfriede     0   3\n",
       "99998     Sandra     1   1\n",
       "99999     Aileen     0   2\n",
       "\n",
       "[100000 rows x 3 columns]"
      ]
     },
     "execution_count": 4,
     "metadata": {},
     "output_type": "execute_result"
    }
   ],
   "source": [
    "# Create test data\n",
    "anz = 100000\n",
    "a = pak.random_series( anz, 'name',                                   p_nan=0,   p_dup=0, name='first_name')\n",
    "b = pak.random_series( anz, 'int',    min=0,  max=2,                  p_nan=0,   p_dup=0, name='from')\n",
    "c = pak.random_series( anz, 'int',    min=0,  max=5,                  p_nan=0,   p_dup=0, name='plus')\n",
    "d = pak.random_series( anz, 'int',    min=-3, max=-1,                 p_nan=0,   p_dup=0, name='to2')\n",
    "df = pak.dataframe( (a, b, c, d) )\n",
    "df['to'] = df['from'] + df['plus']\n",
    "mask = (df['to'] > df.first_name.str.len())   |   (df['to'] == 0)\n",
    "df.loc[mask,'to'] = df[mask].to2\n",
    "df = pak.drop_cols(df,['plus','to2'])\n",
    "df"
   ]
  },
  {
   "cell_type": "code",
   "execution_count": 5,
   "metadata": {
    "execution": {
     "iopub.execute_input": "2023-04-10T19:46:49.570107Z",
     "iopub.status.busy": "2023-04-10T19:46:49.569527Z",
     "iopub.status.idle": "2023-04-10T19:46:49.694096Z",
     "shell.execute_reply": "2023-04-10T19:46:49.693424Z",
     "shell.execute_reply.started": "2023-04-10T19:46:49.570077Z"
    }
   },
   "outputs": [
    {
     "data": {
      "text/html": [
       "<div>\n",
       "<style scoped>\n",
       "    .dataframe tbody tr th:only-of-type {\n",
       "        vertical-align: middle;\n",
       "    }\n",
       "\n",
       "    .dataframe tbody tr th {\n",
       "        vertical-align: top;\n",
       "    }\n",
       "\n",
       "    .dataframe thead th {\n",
       "        text-align: right;\n",
       "    }\n",
       "</style>\n",
       "<table border=\"1\" class=\"dataframe\">\n",
       "  <thead>\n",
       "    <tr style=\"text-align: right;\">\n",
       "      <th></th>\n",
       "      <th>first_name</th>\n",
       "      <th>from</th>\n",
       "      <th>to</th>\n",
       "      <th>first_name_cut</th>\n",
       "    </tr>\n",
       "  </thead>\n",
       "  <tbody>\n",
       "    <tr>\n",
       "      <th>0</th>\n",
       "      <td>Tom</td>\n",
       "      <td>0</td>\n",
       "      <td>3</td>\n",
       "      <td>Tom</td>\n",
       "    </tr>\n",
       "    <tr>\n",
       "      <th>1</th>\n",
       "      <td>Willy</td>\n",
       "      <td>1</td>\n",
       "      <td>-1</td>\n",
       "      <td>ill</td>\n",
       "    </tr>\n",
       "    <tr>\n",
       "      <th>2</th>\n",
       "      <td>Anja</td>\n",
       "      <td>2</td>\n",
       "      <td>-3</td>\n",
       "      <td></td>\n",
       "    </tr>\n",
       "    <tr>\n",
       "      <th>3</th>\n",
       "      <td>Mika</td>\n",
       "      <td>2</td>\n",
       "      <td>2</td>\n",
       "      <td></td>\n",
       "    </tr>\n",
       "    <tr>\n",
       "      <th>4</th>\n",
       "      <td>Kirsten</td>\n",
       "      <td>1</td>\n",
       "      <td>3</td>\n",
       "      <td>ir</td>\n",
       "    </tr>\n",
       "    <tr>\n",
       "      <th>...</th>\n",
       "      <td>...</td>\n",
       "      <td>...</td>\n",
       "      <td>...</td>\n",
       "      <td>...</td>\n",
       "    </tr>\n",
       "    <tr>\n",
       "      <th>99995</th>\n",
       "      <td>Isabell</td>\n",
       "      <td>0</td>\n",
       "      <td>-2</td>\n",
       "      <td>Isabe</td>\n",
       "    </tr>\n",
       "    <tr>\n",
       "      <th>99996</th>\n",
       "      <td>Andreas</td>\n",
       "      <td>2</td>\n",
       "      <td>4</td>\n",
       "      <td>dr</td>\n",
       "    </tr>\n",
       "    <tr>\n",
       "      <th>99997</th>\n",
       "      <td>Elfriede</td>\n",
       "      <td>0</td>\n",
       "      <td>3</td>\n",
       "      <td>Elf</td>\n",
       "    </tr>\n",
       "    <tr>\n",
       "      <th>99998</th>\n",
       "      <td>Sandra</td>\n",
       "      <td>1</td>\n",
       "      <td>1</td>\n",
       "      <td></td>\n",
       "    </tr>\n",
       "    <tr>\n",
       "      <th>99999</th>\n",
       "      <td>Aileen</td>\n",
       "      <td>0</td>\n",
       "      <td>2</td>\n",
       "      <td>Ai</td>\n",
       "    </tr>\n",
       "  </tbody>\n",
       "</table>\n",
       "<p>100000 rows × 4 columns</p>\n",
       "</div>"
      ],
      "text/plain": [
       "      first_name  from  to first_name_cut\n",
       "0            Tom     0   3            Tom\n",
       "1          Willy     1  -1            ill\n",
       "2           Anja     2  -3               \n",
       "3           Mika     2   2               \n",
       "4        Kirsten     1   3             ir\n",
       "...          ...   ...  ..            ...\n",
       "99995    Isabell     0  -2          Isabe\n",
       "99996    Andreas     2   4             dr\n",
       "99997   Elfriede     0   3            Elf\n",
       "99998     Sandra     1   1               \n",
       "99999     Aileen     0   2             Ai\n",
       "\n",
       "[100000 rows x 4 columns]"
      ]
     },
     "execution_count": 5,
     "metadata": {},
     "output_type": "execute_result"
    }
   ],
   "source": [
    "pak.slice_string(df, 'first_name', 'from', 'to', 'first_name_cut')"
   ]
  },
  {
   "cell_type": "code",
   "execution_count": 6,
   "metadata": {
    "execution": {
     "iopub.execute_input": "2023-04-10T19:46:49.695620Z",
     "iopub.status.busy": "2023-04-10T19:46:49.695155Z",
     "iopub.status.idle": "2023-04-10T19:46:49.830917Z",
     "shell.execute_reply": "2023-04-10T19:46:49.829468Z",
     "shell.execute_reply.started": "2023-04-10T19:46:49.695592Z"
    }
   },
   "outputs": [
    {
     "data": {
      "text/html": [
       "<div>\n",
       "<style scoped>\n",
       "    .dataframe tbody tr th:only-of-type {\n",
       "        vertical-align: middle;\n",
       "    }\n",
       "\n",
       "    .dataframe tbody tr th {\n",
       "        vertical-align: top;\n",
       "    }\n",
       "\n",
       "    .dataframe thead th {\n",
       "        text-align: right;\n",
       "    }\n",
       "</style>\n",
       "<table border=\"1\" class=\"dataframe\">\n",
       "  <thead>\n",
       "    <tr style=\"text-align: right;\">\n",
       "      <th></th>\n",
       "      <th>first_name</th>\n",
       "      <th>from</th>\n",
       "      <th>to</th>\n",
       "      <th>first_name_cut</th>\n",
       "    </tr>\n",
       "  </thead>\n",
       "  <tbody>\n",
       "    <tr>\n",
       "      <th>0</th>\n",
       "      <td>Tom</td>\n",
       "      <td>0</td>\n",
       "      <td>3</td>\n",
       "      <td>o</td>\n",
       "    </tr>\n",
       "    <tr>\n",
       "      <th>1</th>\n",
       "      <td>Willy</td>\n",
       "      <td>1</td>\n",
       "      <td>-1</td>\n",
       "      <td>ill</td>\n",
       "    </tr>\n",
       "    <tr>\n",
       "      <th>2</th>\n",
       "      <td>Anja</td>\n",
       "      <td>2</td>\n",
       "      <td>-3</td>\n",
       "      <td>nj</td>\n",
       "    </tr>\n",
       "    <tr>\n",
       "      <th>3</th>\n",
       "      <td>Mika</td>\n",
       "      <td>2</td>\n",
       "      <td>2</td>\n",
       "      <td>ik</td>\n",
       "    </tr>\n",
       "    <tr>\n",
       "      <th>4</th>\n",
       "      <td>Kirsten</td>\n",
       "      <td>1</td>\n",
       "      <td>3</td>\n",
       "      <td>irste</td>\n",
       "    </tr>\n",
       "    <tr>\n",
       "      <th>...</th>\n",
       "      <td>...</td>\n",
       "      <td>...</td>\n",
       "      <td>...</td>\n",
       "      <td>...</td>\n",
       "    </tr>\n",
       "    <tr>\n",
       "      <th>99995</th>\n",
       "      <td>Isabell</td>\n",
       "      <td>0</td>\n",
       "      <td>-2</td>\n",
       "      <td>sabel</td>\n",
       "    </tr>\n",
       "    <tr>\n",
       "      <th>99996</th>\n",
       "      <td>Andreas</td>\n",
       "      <td>2</td>\n",
       "      <td>4</td>\n",
       "      <td>ndrea</td>\n",
       "    </tr>\n",
       "    <tr>\n",
       "      <th>99997</th>\n",
       "      <td>Elfriede</td>\n",
       "      <td>0</td>\n",
       "      <td>3</td>\n",
       "      <td>lfried</td>\n",
       "    </tr>\n",
       "    <tr>\n",
       "      <th>99998</th>\n",
       "      <td>Sandra</td>\n",
       "      <td>1</td>\n",
       "      <td>1</td>\n",
       "      <td>andr</td>\n",
       "    </tr>\n",
       "    <tr>\n",
       "      <th>99999</th>\n",
       "      <td>Aileen</td>\n",
       "      <td>0</td>\n",
       "      <td>2</td>\n",
       "      <td>ilee</td>\n",
       "    </tr>\n",
       "  </tbody>\n",
       "</table>\n",
       "<p>100000 rows × 4 columns</p>\n",
       "</div>"
      ],
      "text/plain": [
       "      first_name  from  to first_name_cut\n",
       "0            Tom     0   3              o\n",
       "1          Willy     1  -1            ill\n",
       "2           Anja     2  -3             nj\n",
       "3           Mika     2   2             ik\n",
       "4        Kirsten     1   3          irste\n",
       "...          ...   ...  ..            ...\n",
       "99995    Isabell     0  -2          sabel\n",
       "99996    Andreas     2   4          ndrea\n",
       "99997   Elfriede     0   3         lfried\n",
       "99998     Sandra     1   1           andr\n",
       "99999     Aileen     0   2           ilee\n",
       "\n",
       "[100000 rows x 4 columns]"
      ]
     },
     "execution_count": 6,
     "metadata": {},
     "output_type": "execute_result"
    }
   ],
   "source": [
    "pak.slice_string(df, 'first_name', 1, -1, 'first_name_cut')"
   ]
  },
  {
   "cell_type": "code",
   "execution_count": null,
   "metadata": {},
   "outputs": [],
   "source": []
  }
 ],
 "metadata": {
  "kernelspec": {
   "display_name": "Python 3 (ipykernel)",
   "language": "python",
   "name": "python3"
  },
  "language_info": {
   "codemirror_mode": {
    "name": "ipython",
    "version": 3
   },
   "file_extension": ".py",
   "mimetype": "text/x-python",
   "name": "python",
   "nbconvert_exporter": "python",
   "pygments_lexer": "ipython3",
   "version": "3.9.13"
  }
 },
 "nbformat": 4,
 "nbformat_minor": 4
}
