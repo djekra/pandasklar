{
 "cells": [
  {
   "cell_type": "markdown",
   "metadata": {},
   "source": [
    "__[Open and try this file online (Colab)](https://colab.research.google.com/github/djekra/pandasklar/blob/master/jupyter/36_Cleanup_Strings.ipynb)__"
   ]
  },
  {
   "cell_type": "markdown",
   "metadata": {},
   "source": [
    "# Cleanup Strings\n",
    "* `remove_str`: Removes a list of unwanted substrings from a Series of strings.\n",
    "* `remove_words`: Removes a list of unwanted words from a Series of strings.\n",
    "* `replace_str`: Replaces substrings from a Series of strings according to a dict."
   ]
  },
  {
   "cell_type": "code",
   "execution_count": 1,
   "metadata": {
    "execution": {
     "iopub.execute_input": "2023-04-10T19:45:56.290661Z",
     "iopub.status.busy": "2023-04-10T19:45:56.289834Z",
     "iopub.status.idle": "2023-04-10T19:45:57.076106Z",
     "shell.execute_reply": "2023-04-10T19:45:57.075487Z",
     "shell.execute_reply.started": "2023-04-10T19:45:56.290612Z"
    }
   },
   "outputs": [
    {
     "name": "stdout",
     "output_type": "stream",
     "text": [
      "blab init\n",
      "environment['in_colab']     = False\n",
      "environment['dropbox_path'] = /home/me/Data_Linux/Dropbox\n",
      "environment['lib_path']     = /home/me/Data_Linux/Dropbox/31_Projekte/01_Python/libs\n",
      "Start Time: 21:45:56\n"
     ]
    },
    {
     "data": {
      "text/html": [
       "<img src onerror=\"var cell = this.closest('.jp-CodeCell');var editor = cell.querySelector('.jp-Editor');editor.style.background='Beige';this.parentNode.removeChild(this)\">"
      ],
      "text/plain": [
       "<IPython.core.display.HTML object>"
      ]
     },
     "metadata": {},
     "output_type": "display_data"
    }
   ],
   "source": [
    "# blab init\n",
    "try:\n",
    "    import blab\n",
    "except ImportError as e:\n",
    "    !pip install blab\n",
    "    import blab    \n",
    "startup_notebook = blab.blab_startup()\n",
    "%run $startup_notebook "
   ]
  },
  {
   "cell_type": "code",
   "execution_count": 2,
   "metadata": {
    "execution": {
     "iopub.execute_input": "2023-04-10T19:45:57.082733Z",
     "iopub.status.busy": "2023-04-10T19:45:57.080159Z",
     "iopub.status.idle": "2023-04-10T19:45:58.709613Z",
     "shell.execute_reply": "2023-04-10T19:45:58.708929Z",
     "shell.execute_reply.started": "2023-04-10T19:45:57.082694Z"
    }
   },
   "outputs": [
    {
     "name": "stdout",
     "output_type": "stream",
     "text": [
      "VERBOSE = True\n",
      "--> setting verbose=True as default for all pandasklar functions\n",
      "\n"
     ]
    }
   ],
   "source": [
    "import pandas     as pd \n",
    "import bpyth      as bpy\n",
    "\n",
    "# pandasklar\n",
    "try:\n",
    "    import pandasklar as pak \n",
    "except ImportError as e:\n",
    "    !pip install pandasklar\n",
    "    import pandasklar as pak   \n",
    "    \n",
    "# verbose\n",
    "pak.Config.set('VERBOSE', True)\n",
    "\n",
    "# copy_on_write\n",
    "pd.set_option(\"mode.copy_on_write\", True)"
   ]
  },
  {
   "cell_type": "code",
   "execution_count": 3,
   "metadata": {
    "execution": {
     "iopub.execute_input": "2023-04-10T19:45:58.711550Z",
     "iopub.status.busy": "2023-04-10T19:45:58.710750Z",
     "iopub.status.idle": "2023-04-10T19:46:13.330718Z",
     "shell.execute_reply": "2023-04-10T19:46:13.330059Z",
     "shell.execute_reply.started": "2023-04-10T19:45:58.711522Z"
    }
   },
   "outputs": [
    {
     "name": "stdout",
     "output_type": "stream",
     "text": [
      "Input rtype=('list', 'Series', 'str') shape=(3, 100000)\n",
      "rotated=True Output rtype=('DataFrame', 'Series') shape=(100000, 3)\n"
     ]
    },
    {
     "data": {
      "text/html": [
       "<div>\n",
       "<style scoped>\n",
       "    .dataframe tbody tr th:only-of-type {\n",
       "        vertical-align: middle;\n",
       "    }\n",
       "\n",
       "    .dataframe tbody tr th {\n",
       "        vertical-align: top;\n",
       "    }\n",
       "\n",
       "    .dataframe thead th {\n",
       "        text-align: right;\n",
       "    }\n",
       "</style>\n",
       "<table border=\"1\" class=\"dataframe\">\n",
       "  <thead>\n",
       "    <tr style=\"text-align: right;\">\n",
       "      <th></th>\n",
       "      <th>nosep</th>\n",
       "      <th>space</th>\n",
       "      <th>comma</th>\n",
       "    </tr>\n",
       "  </thead>\n",
       "  <tbody>\n",
       "    <tr>\n",
       "      <th>0</th>\n",
       "      <td>HIadfcggedefHIgedccfbgdeHI</td>\n",
       "      <td>HI adfcggedef HI gedccfbgde HI</td>\n",
       "      <td>,HI,adfcggedef,HI,gedccfbgde,HI</td>\n",
       "    </tr>\n",
       "    <tr>\n",
       "      <th>1</th>\n",
       "      <td>UFFafdcgaeafgUFFeaegagbdacUFF</td>\n",
       "      <td>UFF afdcgaeafg UFF eaegagbdac UFF</td>\n",
       "      <td>,UFF,afdcgaeafg,UFF,eaegagbdac,UFF</td>\n",
       "    </tr>\n",
       "    <tr>\n",
       "      <th>2</th>\n",
       "      <td>YOeeceffcebbYOfbcgddcdgbYO</td>\n",
       "      <td>YO eeceffcebb YO fbcgddcdgb YO</td>\n",
       "      <td>,YO,eeceffcebb,YO,fbcgddcdgb,YO</td>\n",
       "    </tr>\n",
       "    <tr>\n",
       "      <th>3</th>\n",
       "      <td>YOfegafgcadaYOfeabfbcffcYO</td>\n",
       "      <td>YO fegafgcada YO feabfbcffc YO</td>\n",
       "      <td>,YO,fegafgcada,YO,feabfbcffc,YO</td>\n",
       "    </tr>\n",
       "    <tr>\n",
       "      <th>4</th>\n",
       "      <td>YOcbffbgcfdaYObceggeggdaYO</td>\n",
       "      <td>YO cbffbgcfda YO bceggeggda YO</td>\n",
       "      <td>,YO,cbffbgcfda,YO,bceggeggda,YO</td>\n",
       "    </tr>\n",
       "    <tr>\n",
       "      <th>...</th>\n",
       "      <td>...</td>\n",
       "      <td>...</td>\n",
       "      <td>...</td>\n",
       "    </tr>\n",
       "    <tr>\n",
       "      <th>99995</th>\n",
       "      <td>UFFcagaaacbdgUFFbggbfdebdbUFF</td>\n",
       "      <td>UFF cagaaacbdg UFF bggbfdebdb UFF</td>\n",
       "      <td>,UFF,cagaaacbdg,UFF,bggbfdebdb,UFF</td>\n",
       "    </tr>\n",
       "    <tr>\n",
       "      <th>99996</th>\n",
       "      <td>UFFffcafgagaeUFFagfaadcdecUFF</td>\n",
       "      <td>UFF ffcafgagae UFF agfaadcdec UFF</td>\n",
       "      <td>,UFF,ffcafgagae,UFF,agfaadcdec,UFF</td>\n",
       "    </tr>\n",
       "    <tr>\n",
       "      <th>99997</th>\n",
       "      <td>YOecdcdddefgYOdafgcaebcaYO</td>\n",
       "      <td>YO ecdcdddefg YO dafgcaebca YO</td>\n",
       "      <td>,YO,ecdcdddefg,YO,dafgcaebca,YO</td>\n",
       "    </tr>\n",
       "    <tr>\n",
       "      <th>99998</th>\n",
       "      <td>HIgcdcddgedaHIeccbggffbfHI</td>\n",
       "      <td>HI gcdcddgeda HI eccbggffbf HI</td>\n",
       "      <td>,HI,gcdcddgeda,HI,eccbggffbf,HI</td>\n",
       "    </tr>\n",
       "    <tr>\n",
       "      <th>99999</th>\n",
       "      <td>HIbcebbddfbbHIgcfdddgcafHI</td>\n",
       "      <td>HI bcebbddfbb HI gcfdddgcaf HI</td>\n",
       "      <td>,HI,bcebbddfbb,HI,gcfdddgcaf,HI</td>\n",
       "    </tr>\n",
       "  </tbody>\n",
       "</table>\n",
       "<p>100000 rows × 3 columns</p>\n",
       "</div>"
      ],
      "text/plain": [
       "                               nosep                               space   \n",
       "0         HIadfcggedefHIgedccfbgdeHI      HI adfcggedef HI gedccfbgde HI  \\\n",
       "1      UFFafdcgaeafgUFFeaegagbdacUFF   UFF afdcgaeafg UFF eaegagbdac UFF   \n",
       "2         YOeeceffcebbYOfbcgddcdgbYO      YO eeceffcebb YO fbcgddcdgb YO   \n",
       "3         YOfegafgcadaYOfeabfbcffcYO      YO fegafgcada YO feabfbcffc YO   \n",
       "4         YOcbffbgcfdaYObceggeggdaYO      YO cbffbgcfda YO bceggeggda YO   \n",
       "...                              ...                                 ...   \n",
       "99995  UFFcagaaacbdgUFFbggbfdebdbUFF   UFF cagaaacbdg UFF bggbfdebdb UFF   \n",
       "99996  UFFffcafgagaeUFFagfaadcdecUFF   UFF ffcafgagae UFF agfaadcdec UFF   \n",
       "99997     YOecdcdddefgYOdafgcaebcaYO      YO ecdcdddefg YO dafgcaebca YO   \n",
       "99998     HIgcdcddgedaHIeccbggffbfHI      HI gcdcddgeda HI eccbggffbf HI   \n",
       "99999     HIbcebbddfbbHIgcfdddgcafHI      HI bcebbddfbb HI gcfdddgcaf HI   \n",
       "\n",
       "                                    comma  \n",
       "0         ,HI,adfcggedef,HI,gedccfbgde,HI  \n",
       "1      ,UFF,afdcgaeafg,UFF,eaegagbdac,UFF  \n",
       "2         ,YO,eeceffcebb,YO,fbcgddcdgb,YO  \n",
       "3         ,YO,fegafgcada,YO,feabfbcffc,YO  \n",
       "4         ,YO,cbffbgcfda,YO,bceggeggda,YO  \n",
       "...                                   ...  \n",
       "99995  ,UFF,cagaaacbdg,UFF,bggbfdebdb,UFF  \n",
       "99996  ,UFF,ffcafgagae,UFF,agfaadcdec,UFF  \n",
       "99997     ,YO,ecdcdddefg,YO,dafgcaebca,YO  \n",
       "99998     ,HI,gcdcddgeda,HI,eccbggffbf,HI  \n",
       "99999     ,HI,bcebbddfbb,HI,gcfdddgcaf,HI  \n",
       "\n",
       "[100000 rows x 3 columns]"
      ]
     },
     "execution_count": 3,
     "metadata": {},
     "output_type": "execute_result"
    }
   ],
   "source": [
    "# create test data to search in\n",
    "size = 100000\n",
    "a = pak.random_series( size, 'string', len_min=10, len_max=10,           p_dup=0.9)\n",
    "b = pak.random_series( size, 'choice', choice=['YO','UFF', 'HI'],        p_dup=0.9)\n",
    "c = pak.random_series( size, 'string', len_min=10, len_max=10,           p_dup=0.9)\n",
    "df_test = pak.dataframe([a,b,c])\n",
    "\n",
    "trenn = ''\n",
    "df_test['nosep'] =     trenn + df_test.B + trenn + df_test.A + trenn + df_test.B + trenn + df_test.C + trenn + df_test.B\n",
    "trenn = ' '\n",
    "df_test['space'] =  trenn + df_test.B + trenn + df_test.A + trenn + df_test.B + trenn + df_test.C + trenn + df_test.B\n",
    "trenn = ','\n",
    "df_test['comma'] =  trenn + df_test.B + trenn + df_test.A + trenn + df_test.B + trenn + df_test.C + trenn + df_test.B\n",
    "df_test = pak.drop_cols(df_test, list('ABC'))\n",
    "df_test"
   ]
  },
  {
   "cell_type": "markdown",
   "metadata": {},
   "source": [
    "## remove_str()"
   ]
  },
  {
   "cell_type": "code",
   "execution_count": 4,
   "metadata": {
    "execution": {
     "iopub.execute_input": "2023-04-10T19:46:13.334801Z",
     "iopub.status.busy": "2023-04-10T19:46:13.334481Z",
     "iopub.status.idle": "2023-04-10T19:46:13.410090Z",
     "shell.execute_reply": "2023-04-10T19:46:13.409402Z",
     "shell.execute_reply.started": "2023-04-10T19:46:13.334781Z"
    }
   },
   "outputs": [
    {
     "data": {
      "text/plain": [
       "\u001b[0;31mSignature:\u001b[0m \u001b[0mpak\u001b[0m\u001b[0;34m.\u001b[0m\u001b[0mremove_str\u001b[0m\u001b[0;34m(\u001b[0m\u001b[0mseries\u001b[0m\u001b[0;34m,\u001b[0m \u001b[0mremove_list\u001b[0m\u001b[0;34m,\u001b[0m \u001b[0msafemode\u001b[0m\u001b[0;34m=\u001b[0m\u001b[0;32mTrue\u001b[0m\u001b[0;34m)\u001b[0m\u001b[0;34m\u001b[0m\u001b[0;34m\u001b[0m\u001b[0m\n",
       "\u001b[0;31mDocstring:\u001b[0m\n",
       "Removes a list of unwanted substrings from a Series of strings.\n",
       "* remove_list: list of substrings to remove\n",
       "* safemode:    Selects the algorithm.\n",
       "               safemode=True:  Each substring is removed separately\n",
       "               safemode=False: Works with one regular expression.\n",
       "                               Special characters such as asterisks must be backslashed.    \n",
       "\u001b[0;31mFile:\u001b[0m      ~/Data_Linux/Dropbox/31_Projekte/01_Python/git/pandasklar/src/pandasklar/string.py\n",
       "\u001b[0;31mType:\u001b[0m      function\n"
      ]
     },
     "metadata": {},
     "output_type": "display_data"
    }
   ],
   "source": [
    "?pak.remove_str"
   ]
  },
  {
   "cell_type": "code",
   "execution_count": 5,
   "metadata": {
    "execution": {
     "iopub.execute_input": "2023-04-10T19:46:13.413542Z",
     "iopub.status.busy": "2023-04-10T19:46:13.413190Z",
     "iopub.status.idle": "2023-04-10T19:46:13.458175Z",
     "shell.execute_reply": "2023-04-10T19:46:13.457149Z",
     "shell.execute_reply.started": "2023-04-10T19:46:13.413519Z"
    }
   },
   "outputs": [
    {
     "data": {
      "text/html": [
       "<div>\n",
       "<style scoped>\n",
       "    .dataframe tbody tr th:only-of-type {\n",
       "        vertical-align: middle;\n",
       "    }\n",
       "\n",
       "    .dataframe tbody tr th {\n",
       "        vertical-align: top;\n",
       "    }\n",
       "\n",
       "    .dataframe thead th {\n",
       "        text-align: right;\n",
       "    }\n",
       "</style>\n",
       "<table border=\"1\" class=\"dataframe\">\n",
       "  <thead>\n",
       "    <tr style=\"text-align: right;\">\n",
       "      <th></th>\n",
       "      <th>nosep</th>\n",
       "    </tr>\n",
       "  </thead>\n",
       "  <tbody>\n",
       "    <tr>\n",
       "      <th>0</th>\n",
       "      <td>HIadfcggedefHIgedccfbgdeHI</td>\n",
       "    </tr>\n",
       "    <tr>\n",
       "      <th>1</th>\n",
       "      <td>UFFafdcgaeafgUFFeaegagbdacUFF</td>\n",
       "    </tr>\n",
       "    <tr>\n",
       "      <th>2</th>\n",
       "      <td>YOeeceffcebbYOfbcgddcdgbYO</td>\n",
       "    </tr>\n",
       "  </tbody>\n",
       "</table>\n",
       "</div>"
      ],
      "text/plain": [
       "                           nosep\n",
       "0     HIadfcggedefHIgedccfbgdeHI\n",
       "1  UFFafdcgaeafgUFFeaegagbdacUFF\n",
       "2     YOeeceffcebbYOfbcgddcdgbYO"
      ]
     },
     "execution_count": 5,
     "metadata": {},
     "output_type": "execute_result"
    }
   ],
   "source": [
    "# Test data\n",
    "cols = ['nosep']\n",
    "df = df_test[cols].copy()\n",
    "df.head(3)"
   ]
  },
  {
   "cell_type": "code",
   "execution_count": 6,
   "metadata": {
    "execution": {
     "iopub.execute_input": "2023-04-10T19:46:13.471670Z",
     "iopub.status.busy": "2023-04-10T19:46:13.463788Z",
     "iopub.status.idle": "2023-04-10T19:46:13.722638Z",
     "shell.execute_reply": "2023-04-10T19:46:13.721119Z",
     "shell.execute_reply.started": "2023-04-10T19:46:13.471570Z"
    }
   },
   "outputs": [
    {
     "data": {
      "text/html": [
       "<div>\n",
       "<style scoped>\n",
       "    .dataframe tbody tr th:only-of-type {\n",
       "        vertical-align: middle;\n",
       "    }\n",
       "\n",
       "    .dataframe tbody tr th {\n",
       "        vertical-align: top;\n",
       "    }\n",
       "\n",
       "    .dataframe thead th {\n",
       "        text-align: right;\n",
       "    }\n",
       "</style>\n",
       "<table border=\"1\" class=\"dataframe\">\n",
       "  <thead>\n",
       "    <tr style=\"text-align: right;\">\n",
       "      <th></th>\n",
       "      <th>nosep</th>\n",
       "      <th>nosep_remove_str</th>\n",
       "    </tr>\n",
       "  </thead>\n",
       "  <tbody>\n",
       "    <tr>\n",
       "      <th>0</th>\n",
       "      <td>HIadfcggedefHIgedccfbgdeHI</td>\n",
       "      <td>adfcggedefgedccfbgde</td>\n",
       "    </tr>\n",
       "    <tr>\n",
       "      <th>1</th>\n",
       "      <td>UFFafdcgaeafgUFFeaegagbdacUFF</td>\n",
       "      <td>afdcgaeafgeaegagbdac</td>\n",
       "    </tr>\n",
       "    <tr>\n",
       "      <th>2</th>\n",
       "      <td>YOeeceffcebbYOfbcgddcdgbYO</td>\n",
       "      <td>eeceffcebbfbcgddcdgb</td>\n",
       "    </tr>\n",
       "    <tr>\n",
       "      <th>3</th>\n",
       "      <td>YOfegafgcadaYOfeabfbcffcYO</td>\n",
       "      <td>fegafgcadafeabfbcffc</td>\n",
       "    </tr>\n",
       "    <tr>\n",
       "      <th>4</th>\n",
       "      <td>YOcbffbgcfdaYObceggeggdaYO</td>\n",
       "      <td>cbffbgcfdabceggeggda</td>\n",
       "    </tr>\n",
       "    <tr>\n",
       "      <th>...</th>\n",
       "      <td>...</td>\n",
       "      <td>...</td>\n",
       "    </tr>\n",
       "    <tr>\n",
       "      <th>99995</th>\n",
       "      <td>UFFcagaaacbdgUFFbggbfdebdbUFF</td>\n",
       "      <td>cagaaacbdgbggbfdebdb</td>\n",
       "    </tr>\n",
       "    <tr>\n",
       "      <th>99996</th>\n",
       "      <td>UFFffcafgagaeUFFagfaadcdecUFF</td>\n",
       "      <td>ffcafgagaeagfaadcdec</td>\n",
       "    </tr>\n",
       "    <tr>\n",
       "      <th>99997</th>\n",
       "      <td>YOecdcdddefgYOdafgcaebcaYO</td>\n",
       "      <td>ecdcdddefgdafgcaebca</td>\n",
       "    </tr>\n",
       "    <tr>\n",
       "      <th>99998</th>\n",
       "      <td>HIgcdcddgedaHIeccbggffbfHI</td>\n",
       "      <td>gcdcddgedaeccbggffbf</td>\n",
       "    </tr>\n",
       "    <tr>\n",
       "      <th>99999</th>\n",
       "      <td>HIbcebbddfbbHIgcfdddgcafHI</td>\n",
       "      <td>bcebbddfbbgcfdddgcaf</td>\n",
       "    </tr>\n",
       "  </tbody>\n",
       "</table>\n",
       "<p>100000 rows × 2 columns</p>\n",
       "</div>"
      ],
      "text/plain": [
       "                               nosep      nosep_remove_str\n",
       "0         HIadfcggedefHIgedccfbgdeHI  adfcggedefgedccfbgde\n",
       "1      UFFafdcgaeafgUFFeaegagbdacUFF  afdcgaeafgeaegagbdac\n",
       "2         YOeeceffcebbYOfbcgddcdgbYO  eeceffcebbfbcgddcdgb\n",
       "3         YOfegafgcadaYOfeabfbcffcYO  fegafgcadafeabfbcffc\n",
       "4         YOcbffbgcfdaYObceggeggdaYO  cbffbgcfdabceggeggda\n",
       "...                              ...                   ...\n",
       "99995  UFFcagaaacbdgUFFbggbfdebdbUFF  cagaaacbdgbggbfdebdb\n",
       "99996  UFFffcafgagaeUFFagfaadcdecUFF  ffcafgagaeagfaadcdec\n",
       "99997     YOecdcdddefgYOdafgcaebcaYO  ecdcdddefgdafgcaebca\n",
       "99998     HIgcdcddgedaHIeccbggffbfHI  gcdcddgedaeccbggffbf\n",
       "99999     HIbcebbddfbbHIgcfdddgcafHI  bcebbddfbbgcfdddgcaf\n",
       "\n",
       "[100000 rows x 2 columns]"
      ]
     },
     "execution_count": 6,
     "metadata": {},
     "output_type": "execute_result"
    }
   ],
   "source": [
    "# compare orig / after remove_str\n",
    "for col in df.columns:\n",
    "    df[col+'_remove_str'] = pak.remove_str( df[col], ['YO', 'UFF', 'HI'])\n",
    "df"
   ]
  },
  {
   "cell_type": "markdown",
   "metadata": {},
   "source": [
    "## remove_words()"
   ]
  },
  {
   "cell_type": "code",
   "execution_count": 7,
   "metadata": {
    "execution": {
     "iopub.execute_input": "2023-04-10T19:46:13.726040Z",
     "iopub.status.busy": "2023-04-10T19:46:13.725670Z",
     "iopub.status.idle": "2023-04-10T19:46:13.761175Z",
     "shell.execute_reply": "2023-04-10T19:46:13.760091Z",
     "shell.execute_reply.started": "2023-04-10T19:46:13.726006Z"
    }
   },
   "outputs": [
    {
     "data": {
      "text/plain": [
       "\u001b[0;31mSignature:\u001b[0m \u001b[0mpak\u001b[0m\u001b[0;34m.\u001b[0m\u001b[0mremove_words\u001b[0m\u001b[0;34m(\u001b[0m\u001b[0mseries\u001b[0m\u001b[0;34m,\u001b[0m \u001b[0mremove_list\u001b[0m\u001b[0;34m)\u001b[0m\u001b[0;34m\u001b[0m\u001b[0;34m\u001b[0m\u001b[0m\n",
       "\u001b[0;31mDocstring:\u001b[0m\n",
       "Removes a list of unwanted words from a Series of strings.\n",
       "Works by regular expression, so special characters such as asterisks must be backslashed.  \n",
       "\u001b[0;31mFile:\u001b[0m      ~/Data_Linux/Dropbox/31_Projekte/01_Python/git/pandasklar/src/pandasklar/string.py\n",
       "\u001b[0;31mType:\u001b[0m      function\n"
      ]
     },
     "metadata": {},
     "output_type": "display_data"
    }
   ],
   "source": [
    "?pak.remove_words"
   ]
  },
  {
   "cell_type": "code",
   "execution_count": 8,
   "metadata": {
    "execution": {
     "iopub.execute_input": "2023-04-10T19:46:13.762415Z",
     "iopub.status.busy": "2023-04-10T19:46:13.762097Z",
     "iopub.status.idle": "2023-04-10T19:46:13.843038Z",
     "shell.execute_reply": "2023-04-10T19:46:13.842256Z",
     "shell.execute_reply.started": "2023-04-10T19:46:13.762392Z"
    }
   },
   "outputs": [
    {
     "data": {
      "text/html": [
       "<div>\n",
       "<style scoped>\n",
       "    .dataframe tbody tr th:only-of-type {\n",
       "        vertical-align: middle;\n",
       "    }\n",
       "\n",
       "    .dataframe tbody tr th {\n",
       "        vertical-align: top;\n",
       "    }\n",
       "\n",
       "    .dataframe thead th {\n",
       "        text-align: right;\n",
       "    }\n",
       "</style>\n",
       "<table border=\"1\" class=\"dataframe\">\n",
       "  <thead>\n",
       "    <tr style=\"text-align: right;\">\n",
       "      <th></th>\n",
       "      <th>nosep</th>\n",
       "      <th>space</th>\n",
       "      <th>comma</th>\n",
       "    </tr>\n",
       "  </thead>\n",
       "  <tbody>\n",
       "    <tr>\n",
       "      <th>0</th>\n",
       "      <td>HIadfcggedefHIgedccfbgdeHI</td>\n",
       "      <td>HI adfcggedef HI gedccfbgde HI</td>\n",
       "      <td>,HI,adfcggedef,HI,gedccfbgde,HI</td>\n",
       "    </tr>\n",
       "    <tr>\n",
       "      <th>1</th>\n",
       "      <td>UFFafdcgaeafgUFFeaegagbdacUFF</td>\n",
       "      <td>UFF afdcgaeafg UFF eaegagbdac UFF</td>\n",
       "      <td>,UFF,afdcgaeafg,UFF,eaegagbdac,UFF</td>\n",
       "    </tr>\n",
       "    <tr>\n",
       "      <th>2</th>\n",
       "      <td>YOeeceffcebbYOfbcgddcdgbYO</td>\n",
       "      <td>YO eeceffcebb YO fbcgddcdgb YO</td>\n",
       "      <td>,YO,eeceffcebb,YO,fbcgddcdgb,YO</td>\n",
       "    </tr>\n",
       "  </tbody>\n",
       "</table>\n",
       "</div>"
      ],
      "text/plain": [
       "                           nosep                               space   \n",
       "0     HIadfcggedefHIgedccfbgdeHI      HI adfcggedef HI gedccfbgde HI  \\\n",
       "1  UFFafdcgaeafgUFFeaegagbdacUFF   UFF afdcgaeafg UFF eaegagbdac UFF   \n",
       "2     YOeeceffcebbYOfbcgddcdgbYO      YO eeceffcebb YO fbcgddcdgb YO   \n",
       "\n",
       "                                comma  \n",
       "0     ,HI,adfcggedef,HI,gedccfbgde,HI  \n",
       "1  ,UFF,afdcgaeafg,UFF,eaegagbdac,UFF  \n",
       "2     ,YO,eeceffcebb,YO,fbcgddcdgb,YO  "
      ]
     },
     "execution_count": 8,
     "metadata": {},
     "output_type": "execute_result"
    }
   ],
   "source": [
    "# Test data\n",
    "df = df_test.copy()\n",
    "df.head(3)"
   ]
  },
  {
   "cell_type": "code",
   "execution_count": 9,
   "metadata": {
    "execution": {
     "iopub.execute_input": "2023-04-10T19:46:13.847273Z",
     "iopub.status.busy": "2023-04-10T19:46:13.846787Z",
     "iopub.status.idle": "2023-04-10T19:46:14.913058Z",
     "shell.execute_reply": "2023-04-10T19:46:14.912422Z",
     "shell.execute_reply.started": "2023-04-10T19:46:13.847247Z"
    }
   },
   "outputs": [
    {
     "data": {
      "text/html": [
       "<div>\n",
       "<style scoped>\n",
       "    .dataframe tbody tr th:only-of-type {\n",
       "        vertical-align: middle;\n",
       "    }\n",
       "\n",
       "    .dataframe tbody tr th {\n",
       "        vertical-align: top;\n",
       "    }\n",
       "\n",
       "    .dataframe thead th {\n",
       "        text-align: right;\n",
       "    }\n",
       "</style>\n",
       "<table border=\"1\" class=\"dataframe\">\n",
       "  <thead>\n",
       "    <tr style=\"text-align: right;\">\n",
       "      <th></th>\n",
       "      <th>comma</th>\n",
       "      <th>comma_str</th>\n",
       "      <th>comma_words</th>\n",
       "      <th>nosep</th>\n",
       "      <th>nosep_str</th>\n",
       "      <th>nosep_words</th>\n",
       "      <th>space</th>\n",
       "      <th>space_str</th>\n",
       "      <th>space_words</th>\n",
       "    </tr>\n",
       "  </thead>\n",
       "  <tbody>\n",
       "    <tr>\n",
       "      <th>0</th>\n",
       "      <td>,HI,adfcggedef,HI,gedccfbgde,HI</td>\n",
       "      <td>,,adfcggedef,,gedccfbgde,</td>\n",
       "      <td>,,adfcggedef,,gedccfbgde,</td>\n",
       "      <td>HIadfcggedefHIgedccfbgdeHI</td>\n",
       "      <td>adfcggedefgedccfbgde</td>\n",
       "      <td>HIadfcggedefHIgedccfbgdeHI</td>\n",
       "      <td>HI adfcggedef HI gedccfbgde HI</td>\n",
       "      <td>adfcggedef  gedccfbgde</td>\n",
       "      <td>adfcggedef  gedccfbgde</td>\n",
       "    </tr>\n",
       "    <tr>\n",
       "      <th>1</th>\n",
       "      <td>,UFF,afdcgaeafg,UFF,eaegagbdac,UFF</td>\n",
       "      <td>,,afdcgaeafg,,eaegagbdac,</td>\n",
       "      <td>,,afdcgaeafg,,eaegagbdac,</td>\n",
       "      <td>UFFafdcgaeafgUFFeaegagbdacUFF</td>\n",
       "      <td>afdcgaeafgeaegagbdac</td>\n",
       "      <td>UFFafdcgaeafgUFFeaegagbdacUFF</td>\n",
       "      <td>UFF afdcgaeafg UFF eaegagbdac UFF</td>\n",
       "      <td>afdcgaeafg  eaegagbdac</td>\n",
       "      <td>afdcgaeafg  eaegagbdac</td>\n",
       "    </tr>\n",
       "    <tr>\n",
       "      <th>2</th>\n",
       "      <td>,YO,eeceffcebb,YO,fbcgddcdgb,YO</td>\n",
       "      <td>,,eeceffcebb,,fbcgddcdgb,</td>\n",
       "      <td>,,eeceffcebb,,fbcgddcdgb,</td>\n",
       "      <td>YOeeceffcebbYOfbcgddcdgbYO</td>\n",
       "      <td>eeceffcebbfbcgddcdgb</td>\n",
       "      <td>YOeeceffcebbYOfbcgddcdgbYO</td>\n",
       "      <td>YO eeceffcebb YO fbcgddcdgb YO</td>\n",
       "      <td>eeceffcebb  fbcgddcdgb</td>\n",
       "      <td>eeceffcebb  fbcgddcdgb</td>\n",
       "    </tr>\n",
       "    <tr>\n",
       "      <th>3</th>\n",
       "      <td>,YO,fegafgcada,YO,feabfbcffc,YO</td>\n",
       "      <td>,,fegafgcada,,feabfbcffc,</td>\n",
       "      <td>,,fegafgcada,,feabfbcffc,</td>\n",
       "      <td>YOfegafgcadaYOfeabfbcffcYO</td>\n",
       "      <td>fegafgcadafeabfbcffc</td>\n",
       "      <td>YOfegafgcadaYOfeabfbcffcYO</td>\n",
       "      <td>YO fegafgcada YO feabfbcffc YO</td>\n",
       "      <td>fegafgcada  feabfbcffc</td>\n",
       "      <td>fegafgcada  feabfbcffc</td>\n",
       "    </tr>\n",
       "    <tr>\n",
       "      <th>4</th>\n",
       "      <td>,YO,cbffbgcfda,YO,bceggeggda,YO</td>\n",
       "      <td>,,cbffbgcfda,,bceggeggda,</td>\n",
       "      <td>,,cbffbgcfda,,bceggeggda,</td>\n",
       "      <td>YOcbffbgcfdaYObceggeggdaYO</td>\n",
       "      <td>cbffbgcfdabceggeggda</td>\n",
       "      <td>YOcbffbgcfdaYObceggeggdaYO</td>\n",
       "      <td>YO cbffbgcfda YO bceggeggda YO</td>\n",
       "      <td>cbffbgcfda  bceggeggda</td>\n",
       "      <td>cbffbgcfda  bceggeggda</td>\n",
       "    </tr>\n",
       "  </tbody>\n",
       "</table>\n",
       "</div>"
      ],
      "text/plain": [
       "                                comma                  comma_str   \n",
       "0     ,HI,adfcggedef,HI,gedccfbgde,HI  ,,adfcggedef,,gedccfbgde,  \\\n",
       "1  ,UFF,afdcgaeafg,UFF,eaegagbdac,UFF  ,,afdcgaeafg,,eaegagbdac,   \n",
       "2     ,YO,eeceffcebb,YO,fbcgddcdgb,YO  ,,eeceffcebb,,fbcgddcdgb,   \n",
       "3     ,YO,fegafgcada,YO,feabfbcffc,YO  ,,fegafgcada,,feabfbcffc,   \n",
       "4     ,YO,cbffbgcfda,YO,bceggeggda,YO  ,,cbffbgcfda,,bceggeggda,   \n",
       "\n",
       "                 comma_words                          nosep   \n",
       "0  ,,adfcggedef,,gedccfbgde,     HIadfcggedefHIgedccfbgdeHI  \\\n",
       "1  ,,afdcgaeafg,,eaegagbdac,  UFFafdcgaeafgUFFeaegagbdacUFF   \n",
       "2  ,,eeceffcebb,,fbcgddcdgb,     YOeeceffcebbYOfbcgddcdgbYO   \n",
       "3  ,,fegafgcada,,feabfbcffc,     YOfegafgcadaYOfeabfbcffcYO   \n",
       "4  ,,cbffbgcfda,,bceggeggda,     YOcbffbgcfdaYObceggeggdaYO   \n",
       "\n",
       "              nosep_str                    nosep_words   \n",
       "0  adfcggedefgedccfbgde     HIadfcggedefHIgedccfbgdeHI  \\\n",
       "1  afdcgaeafgeaegagbdac  UFFafdcgaeafgUFFeaegagbdacUFF   \n",
       "2  eeceffcebbfbcgddcdgb     YOeeceffcebbYOfbcgddcdgbYO   \n",
       "3  fegafgcadafeabfbcffc     YOfegafgcadaYOfeabfbcffcYO   \n",
       "4  cbffbgcfdabceggeggda     YOcbffbgcfdaYObceggeggdaYO   \n",
       "\n",
       "                                space               space_str   \n",
       "0      HI adfcggedef HI gedccfbgde HI  adfcggedef  gedccfbgde  \\\n",
       "1   UFF afdcgaeafg UFF eaegagbdac UFF  afdcgaeafg  eaegagbdac   \n",
       "2      YO eeceffcebb YO fbcgddcdgb YO  eeceffcebb  fbcgddcdgb   \n",
       "3      YO fegafgcada YO feabfbcffc YO  fegafgcada  feabfbcffc   \n",
       "4      YO cbffbgcfda YO bceggeggda YO  cbffbgcfda  bceggeggda   \n",
       "\n",
       "              space_words  \n",
       "0  adfcggedef  gedccfbgde  \n",
       "1  afdcgaeafg  eaegagbdac  \n",
       "2  eeceffcebb  fbcgddcdgb  \n",
       "3  fegafgcada  feabfbcffc  \n",
       "4  cbffbgcfda  bceggeggda  "
      ]
     },
     "execution_count": 9,
     "metadata": {},
     "output_type": "execute_result"
    }
   ],
   "source": [
    "# compare orig / after remove_str / after remove_words\n",
    "for col in df.columns:\n",
    "    df[col+'_str'] =   pak.remove_str(   df[col], ['YO', 'UFF', 'HI'])\n",
    "    df[col+'_words'] = pak.remove_words( df[col], ['YO', 'UFF', 'HI'])\n",
    "\n",
    "pak.move_cols(df).head()"
   ]
  },
  {
   "cell_type": "markdown",
   "metadata": {},
   "source": [
    "## replace_str()"
   ]
  },
  {
   "cell_type": "code",
   "execution_count": 10,
   "metadata": {
    "execution": {
     "iopub.execute_input": "2023-04-10T19:46:14.914884Z",
     "iopub.status.busy": "2023-04-10T19:46:14.914634Z",
     "iopub.status.idle": "2023-04-10T19:46:14.953087Z",
     "shell.execute_reply": "2023-04-10T19:46:14.949349Z",
     "shell.execute_reply.started": "2023-04-10T19:46:14.914864Z"
    }
   },
   "outputs": [
    {
     "data": {
      "text/plain": [
       "\u001b[0;31mSignature:\u001b[0m \u001b[0mpak\u001b[0m\u001b[0;34m.\u001b[0m\u001b[0mreplace_str\u001b[0m\u001b[0;34m(\u001b[0m\u001b[0mseries\u001b[0m\u001b[0;34m,\u001b[0m \u001b[0mtranslationtable\u001b[0m\u001b[0;34m)\u001b[0m\u001b[0;34m\u001b[0m\u001b[0;34m\u001b[0m\u001b[0m\n",
       "\u001b[0;31mDocstring:\u001b[0m\n",
       "Replaces substrings from a Series of strings according to a translationtable.\n",
       "* translationtable: Can be a dict, a list of tuples or a DataFrame with two columns.\n",
       "  Example: {'President Trump':'Trump',   'HELLO':'Hello'}\n",
       "  or      [('President Trump','Trump'), ('HELLO','Hello')]\n",
       "\u001b[0;31mFile:\u001b[0m      ~/Data_Linux/Dropbox/31_Projekte/01_Python/git/pandasklar/src/pandasklar/string.py\n",
       "\u001b[0;31mType:\u001b[0m      function\n"
      ]
     },
     "metadata": {},
     "output_type": "display_data"
    }
   ],
   "source": [
    "?pak.replace_str"
   ]
  },
  {
   "cell_type": "code",
   "execution_count": 11,
   "metadata": {
    "execution": {
     "iopub.execute_input": "2023-04-10T19:46:14.956686Z",
     "iopub.status.busy": "2023-04-10T19:46:14.956345Z",
     "iopub.status.idle": "2023-04-10T19:46:15.001344Z",
     "shell.execute_reply": "2023-04-10T19:46:15.000305Z",
     "shell.execute_reply.started": "2023-04-10T19:46:14.956659Z"
    }
   },
   "outputs": [
    {
     "name": "stdout",
     "output_type": "stream",
     "text": [
      "Input rtype=('list', 'tuple', 'str') shape=(2, 2)\n",
      "rotated=False Output rtype=('DataFrame', 'Series') shape=(2, 2)\n"
     ]
    },
    {
     "data": {
      "text/html": [
       "<div>\n",
       "<style scoped>\n",
       "    .dataframe tbody tr th:only-of-type {\n",
       "        vertical-align: middle;\n",
       "    }\n",
       "\n",
       "    .dataframe tbody tr th {\n",
       "        vertical-align: top;\n",
       "    }\n",
       "\n",
       "    .dataframe thead th {\n",
       "        text-align: right;\n",
       "    }\n",
       "</style>\n",
       "<table border=\"1\" class=\"dataframe\">\n",
       "  <thead>\n",
       "    <tr style=\"text-align: right;\">\n",
       "      <th></th>\n",
       "      <th>A</th>\n",
       "      <th>B</th>\n",
       "    </tr>\n",
       "  </thead>\n",
       "  <tbody>\n",
       "    <tr>\n",
       "      <th>0</th>\n",
       "      <td>The sun is bright</td>\n",
       "      <td>1</td>\n",
       "    </tr>\n",
       "    <tr>\n",
       "      <th>1</th>\n",
       "      <td>The night is dark</td>\n",
       "      <td>2</td>\n",
       "    </tr>\n",
       "  </tbody>\n",
       "</table>\n",
       "</div>"
      ],
      "text/plain": [
       "                   A  B\n",
       "0  The sun is bright  1\n",
       "1  The night is dark  2"
      ]
     },
     "execution_count": 11,
     "metadata": {},
     "output_type": "execute_result"
    }
   ],
   "source": [
    "df = pak.dataframe([ ('The sun is bright',1),\n",
    "                     ('The night is dark', 2) ])\n",
    "df"
   ]
  },
  {
   "cell_type": "code",
   "execution_count": 12,
   "metadata": {
    "execution": {
     "iopub.execute_input": "2023-04-10T19:46:15.009989Z",
     "iopub.status.busy": "2023-04-10T19:46:15.007682Z",
     "iopub.status.idle": "2023-04-10T19:46:15.046782Z",
     "shell.execute_reply": "2023-04-10T19:46:15.045826Z",
     "shell.execute_reply.started": "2023-04-10T19:46:15.009948Z"
    }
   },
   "outputs": [
    {
     "data": {
      "text/plain": [
       "{'The': 'THE', 'sun': 'SUN', 'dark': 'DARK'}"
      ]
     },
     "execution_count": 12,
     "metadata": {},
     "output_type": "execute_result"
    }
   ],
   "source": [
    "translate = {'The':'THE', 'sun':'SUN', 'dark':'DARK'}\n",
    "translate = [('The','THE'), ('sun','SUN'), ('dark','DARK')]\n",
    "dict(translate )"
   ]
  },
  {
   "cell_type": "code",
   "execution_count": 13,
   "metadata": {
    "execution": {
     "iopub.execute_input": "2023-04-10T19:46:15.048060Z",
     "iopub.status.busy": "2023-04-10T19:46:15.047639Z",
     "iopub.status.idle": "2023-04-10T19:46:15.094494Z",
     "shell.execute_reply": "2023-04-10T19:46:15.093763Z",
     "shell.execute_reply.started": "2023-04-10T19:46:15.048031Z"
    }
   },
   "outputs": [
    {
     "data": {
      "text/plain": [
       "0    THE SUN is bright\n",
       "1    THE night is DARK\n",
       "Name: A, dtype: object"
      ]
     },
     "execution_count": 13,
     "metadata": {},
     "output_type": "execute_result"
    }
   ],
   "source": [
    "pak.replace_str( df.A, translate)"
   ]
  },
  {
   "cell_type": "code",
   "execution_count": 14,
   "metadata": {
    "execution": {
     "iopub.execute_input": "2023-04-10T19:46:15.095893Z",
     "iopub.status.busy": "2023-04-10T19:46:15.095464Z",
     "iopub.status.idle": "2023-04-10T19:46:15.144416Z",
     "shell.execute_reply": "2023-04-10T19:46:15.142253Z",
     "shell.execute_reply.started": "2023-04-10T19:46:15.095869Z"
    }
   },
   "outputs": [
    {
     "data": {
      "text/html": [
       "<div>\n",
       "<style scoped>\n",
       "    .dataframe tbody tr th:only-of-type {\n",
       "        vertical-align: middle;\n",
       "    }\n",
       "\n",
       "    .dataframe tbody tr th {\n",
       "        vertical-align: top;\n",
       "    }\n",
       "\n",
       "    .dataframe thead th {\n",
       "        text-align: right;\n",
       "    }\n",
       "</style>\n",
       "<table border=\"1\" class=\"dataframe\">\n",
       "  <thead>\n",
       "    <tr style=\"text-align: right;\">\n",
       "      <th></th>\n",
       "      <th>A</th>\n",
       "      <th>B</th>\n",
       "    </tr>\n",
       "  </thead>\n",
       "  <tbody>\n",
       "    <tr>\n",
       "      <th>0</th>\n",
       "      <td>THE SUN is bright</td>\n",
       "      <td>1</td>\n",
       "    </tr>\n",
       "    <tr>\n",
       "      <th>1</th>\n",
       "      <td>THE night is DARK</td>\n",
       "      <td>2</td>\n",
       "    </tr>\n",
       "  </tbody>\n",
       "</table>\n",
       "</div>"
      ],
      "text/plain": [
       "                   A  B\n",
       "0  THE SUN is bright  1\n",
       "1  THE night is DARK  2"
      ]
     },
     "execution_count": 14,
     "metadata": {},
     "output_type": "execute_result"
    }
   ],
   "source": [
    "df['A'] = pak.replace_str( df.A, translate)\n",
    "df"
   ]
  },
  {
   "cell_type": "code",
   "execution_count": null,
   "metadata": {},
   "outputs": [],
   "source": []
  }
 ],
 "metadata": {
  "kernelspec": {
   "display_name": "Python 3 (ipykernel)",
   "language": "python",
   "name": "python3"
  },
  "language_info": {
   "codemirror_mode": {
    "name": "ipython",
    "version": 3
   },
   "file_extension": ".py",
   "mimetype": "text/x-python",
   "name": "python",
   "nbconvert_exporter": "python",
   "pygments_lexer": "ipython3",
   "version": "3.9.13"
  }
 },
 "nbformat": 4,
 "nbformat_minor": 4
}
