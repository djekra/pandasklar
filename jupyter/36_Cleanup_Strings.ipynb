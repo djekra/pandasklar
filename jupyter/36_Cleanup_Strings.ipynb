{
 "cells": [
  {
   "cell_type": "markdown",
   "metadata": {},
   "source": [
    "# Cleanup Strings\n",
    "* `remove_str`: Removes a list of unwanted substrings from a Series of strings.\n",
    "* `remove_words`: Removes a list of unwanted words from a Series of strings.\n",
    "* `replace_str`: Replaces substrings from a Series of strings according to a dict."
   ]
  },
  {
   "cell_type": "code",
   "execution_count": 1,
   "metadata": {},
   "outputs": [],
   "source": [
    "# blab init\n",
    "try:\n",
    "    import blab\n",
    "except ImportError as e:\n",
    "    !pip install blab\n",
    "    import blab    \n",
    "startup_notebook = blab.blab_startup()\n",
    "%run $startup_notebook "
   ]
  },
  {
   "cell_type": "code",
   "execution_count": 3,
   "metadata": {},
   "outputs": [
    {
     "name": "stdout",
     "output_type": "stream",
     "text": [
      "VERBOSE = True\n",
      "--> setting verbose=True as default for all pandasklar functions\n",
      "\n",
      "time: 10.8 s\n"
     ]
    }
   ],
   "source": [
    "import pandas     as pd \n",
    "import bpyth      as bpy\n",
    "\n",
    "# pandasklar\n",
    "try:\n",
    "    import pandasklar as pak \n",
    "except ImportError as e:\n",
    "    !pip install pandasklar\n",
    "    import pandasklar as pak   \n",
    "    \n",
    "# verbose\n",
    "pak.Config.set('VERBOSE', True)"
   ]
  },
  {
   "cell_type": "code",
   "execution_count": 3,
   "metadata": {},
   "outputs": [
    {
     "data": {
      "text/html": [
       "<div>\n",
       "<style scoped>\n",
       "    .dataframe tbody tr th:only-of-type {\n",
       "        vertical-align: middle;\n",
       "    }\n",
       "\n",
       "    .dataframe tbody tr th {\n",
       "        vertical-align: top;\n",
       "    }\n",
       "\n",
       "    .dataframe thead th {\n",
       "        text-align: right;\n",
       "    }\n",
       "</style>\n",
       "<table border=\"1\" class=\"dataframe\">\n",
       "  <thead>\n",
       "    <tr style=\"text-align: right;\">\n",
       "      <th></th>\n",
       "      <th>nosep</th>\n",
       "      <th>space</th>\n",
       "      <th>comma</th>\n",
       "    </tr>\n",
       "  </thead>\n",
       "  <tbody>\n",
       "    <tr>\n",
       "      <th>0</th>\n",
       "      <td>YOgefgegbgfeYOadfacgdafaYO</td>\n",
       "      <td>YO gefgegbgfe YO adfacgdafa YO</td>\n",
       "      <td>,YO,gefgegbgfe,YO,adfacgdafa,YO</td>\n",
       "    </tr>\n",
       "    <tr>\n",
       "      <th>1</th>\n",
       "      <td>HIgaebdfgfccHIfbaaebgcfeHI</td>\n",
       "      <td>HI gaebdfgfcc HI fbaaebgcfe HI</td>\n",
       "      <td>,HI,gaebdfgfcc,HI,fbaaebgcfe,HI</td>\n",
       "    </tr>\n",
       "    <tr>\n",
       "      <th>2</th>\n",
       "      <td>UFFcfgdcfcfbaUFFgceecddfcdUFF</td>\n",
       "      <td>UFF cfgdcfcfba UFF gceecddfcd UFF</td>\n",
       "      <td>,UFF,cfgdcfcfba,UFF,gceecddfcd,UFF</td>\n",
       "    </tr>\n",
       "    <tr>\n",
       "      <th>3</th>\n",
       "      <td>HIgabdgdaefbHIbdgfbccgeeHI</td>\n",
       "      <td>HI gabdgdaefb HI bdgfbccgee HI</td>\n",
       "      <td>,HI,gabdgdaefb,HI,bdgfbccgee,HI</td>\n",
       "    </tr>\n",
       "    <tr>\n",
       "      <th>4</th>\n",
       "      <td>HIcgfcffbgegHIdddebgfffdHI</td>\n",
       "      <td>HI cgfcffbgeg HI dddebgfffd HI</td>\n",
       "      <td>,HI,cgfcffbgeg,HI,dddebgfffd,HI</td>\n",
       "    </tr>\n",
       "    <tr>\n",
       "      <th>...</th>\n",
       "      <td>...</td>\n",
       "      <td>...</td>\n",
       "      <td>...</td>\n",
       "    </tr>\n",
       "    <tr>\n",
       "      <th>99995</th>\n",
       "      <td>UFFggafebfdcbUFFefdbcbababUFF</td>\n",
       "      <td>UFF ggafebfdcb UFF efdbcbabab UFF</td>\n",
       "      <td>,UFF,ggafebfdcb,UFF,efdbcbabab,UFF</td>\n",
       "    </tr>\n",
       "    <tr>\n",
       "      <th>99996</th>\n",
       "      <td>UFFgagfacgdbbUFFcfeccdfedfUFF</td>\n",
       "      <td>UFF gagfacgdbb UFF cfeccdfedf UFF</td>\n",
       "      <td>,UFF,gagfacgdbb,UFF,cfeccdfedf,UFF</td>\n",
       "    </tr>\n",
       "    <tr>\n",
       "      <th>99997</th>\n",
       "      <td>UFFgegafebgdaUFFaegdeecdagUFF</td>\n",
       "      <td>UFF gegafebgda UFF aegdeecdag UFF</td>\n",
       "      <td>,UFF,gegafebgda,UFF,aegdeecdag,UFF</td>\n",
       "    </tr>\n",
       "    <tr>\n",
       "      <th>99998</th>\n",
       "      <td>UFFdcecedeaacUFFbadbaaddfgUFF</td>\n",
       "      <td>UFF dcecedeaac UFF badbaaddfg UFF</td>\n",
       "      <td>,UFF,dcecedeaac,UFF,badbaaddfg,UFF</td>\n",
       "    </tr>\n",
       "    <tr>\n",
       "      <th>99999</th>\n",
       "      <td>HIgbbefabdbbHIdbbabcgaadHI</td>\n",
       "      <td>HI gbbefabdbb HI dbbabcgaad HI</td>\n",
       "      <td>,HI,gbbefabdbb,HI,dbbabcgaad,HI</td>\n",
       "    </tr>\n",
       "  </tbody>\n",
       "</table>\n",
       "<p>100000 rows × 3 columns</p>\n",
       "</div>"
      ],
      "text/plain": [
       "                               nosep                               space  \\\n",
       "0         YOgefgegbgfeYOadfacgdafaYO      YO gefgegbgfe YO adfacgdafa YO   \n",
       "1         HIgaebdfgfccHIfbaaebgcfeHI      HI gaebdfgfcc HI fbaaebgcfe HI   \n",
       "2      UFFcfgdcfcfbaUFFgceecddfcdUFF   UFF cfgdcfcfba UFF gceecddfcd UFF   \n",
       "3         HIgabdgdaefbHIbdgfbccgeeHI      HI gabdgdaefb HI bdgfbccgee HI   \n",
       "4         HIcgfcffbgegHIdddebgfffdHI      HI cgfcffbgeg HI dddebgfffd HI   \n",
       "...                              ...                                 ...   \n",
       "99995  UFFggafebfdcbUFFefdbcbababUFF   UFF ggafebfdcb UFF efdbcbabab UFF   \n",
       "99996  UFFgagfacgdbbUFFcfeccdfedfUFF   UFF gagfacgdbb UFF cfeccdfedf UFF   \n",
       "99997  UFFgegafebgdaUFFaegdeecdagUFF   UFF gegafebgda UFF aegdeecdag UFF   \n",
       "99998  UFFdcecedeaacUFFbadbaaddfgUFF   UFF dcecedeaac UFF badbaaddfg UFF   \n",
       "99999     HIgbbefabdbbHIdbbabcgaadHI      HI gbbefabdbb HI dbbabcgaad HI   \n",
       "\n",
       "                                    comma  \n",
       "0         ,YO,gefgegbgfe,YO,adfacgdafa,YO  \n",
       "1         ,HI,gaebdfgfcc,HI,fbaaebgcfe,HI  \n",
       "2      ,UFF,cfgdcfcfba,UFF,gceecddfcd,UFF  \n",
       "3         ,HI,gabdgdaefb,HI,bdgfbccgee,HI  \n",
       "4         ,HI,cgfcffbgeg,HI,dddebgfffd,HI  \n",
       "...                                   ...  \n",
       "99995  ,UFF,ggafebfdcb,UFF,efdbcbabab,UFF  \n",
       "99996  ,UFF,gagfacgdbb,UFF,cfeccdfedf,UFF  \n",
       "99997  ,UFF,gegafebgda,UFF,aegdeecdag,UFF  \n",
       "99998  ,UFF,dcecedeaac,UFF,badbaaddfg,UFF  \n",
       "99999     ,HI,gbbefabdbb,HI,dbbabcgaad,HI  \n",
       "\n",
       "[100000 rows x 3 columns]"
      ]
     },
     "execution_count": 3,
     "metadata": {},
     "output_type": "execute_result"
    },
    {
     "name": "stdout",
     "output_type": "stream",
     "text": [
      "time: 14.3 s\n"
     ]
    }
   ],
   "source": [
    "# create test data to search in\n",
    "size = 100000\n",
    "a = pak.random_series( size, 'string', len_min=10, len_max=10,           p_dup=0.9)\n",
    "b = pak.random_series( size, 'choice', choice=['YO','UFF', 'HI'],        p_dup=0.9)\n",
    "c = pak.random_series( size, 'string', len_min=10, len_max=10,           p_dup=0.9)\n",
    "df_test = pak.dataframe([a,b,c])\n",
    "\n",
    "trenn = ''\n",
    "df_test['nosep'] =     trenn + df_test.B + trenn + df_test.A + trenn + df_test.B + trenn + df_test.C + trenn + df_test.B\n",
    "trenn = ' '\n",
    "df_test['space'] =  trenn + df_test.B + trenn + df_test.A + trenn + df_test.B + trenn + df_test.C + trenn + df_test.B\n",
    "trenn = ','\n",
    "df_test['comma'] =  trenn + df_test.B + trenn + df_test.A + trenn + df_test.B + trenn + df_test.C + trenn + df_test.B\n",
    "df_test = pak.drop_cols(df_test, list('ABC'))\n",
    "df_test"
   ]
  },
  {
   "cell_type": "markdown",
   "metadata": {},
   "source": [
    "## remove_str()"
   ]
  },
  {
   "cell_type": "code",
   "execution_count": 4,
   "metadata": {},
   "outputs": [
    {
     "name": "stdout",
     "output_type": "stream",
     "text": [
      "time: 83.9 ms\n"
     ]
    },
    {
     "data": {
      "text/plain": [
       "\u001b[0;31mSignature:\u001b[0m \u001b[0mpak\u001b[0m\u001b[0;34m.\u001b[0m\u001b[0mremove_str\u001b[0m\u001b[0;34m(\u001b[0m\u001b[0mseries\u001b[0m\u001b[0;34m,\u001b[0m \u001b[0mremove_list\u001b[0m\u001b[0;34m,\u001b[0m \u001b[0msafemode\u001b[0m\u001b[0;34m=\u001b[0m\u001b[0;32mTrue\u001b[0m\u001b[0;34m)\u001b[0m\u001b[0;34m\u001b[0m\u001b[0;34m\u001b[0m\u001b[0m\n",
       "\u001b[0;31mDocstring:\u001b[0m\n",
       "Removes a list of unwanted substrings from a Series of strings.\n",
       "* remove_list: list of substrings to remove\n",
       "* safemode:    Selects the algorithm.\n",
       "               safemode=True:  Each substring is removed separately\n",
       "               safemode=False: Works with one regular expression.\n",
       "                               Special characters such as asterisks must be backslashed.    \n",
       "\u001b[0;31mFile:\u001b[0m      /media/me/DATA/Dropbox/31_Projekte/01_Python/git/pandasklar/src/pandasklar/string.py\n",
       "\u001b[0;31mType:\u001b[0m      function\n"
      ]
     },
     "metadata": {},
     "output_type": "display_data"
    }
   ],
   "source": [
    "?pak.remove_str"
   ]
  },
  {
   "cell_type": "code",
   "execution_count": 5,
   "metadata": {},
   "outputs": [
    {
     "data": {
      "text/html": [
       "<div>\n",
       "<style scoped>\n",
       "    .dataframe tbody tr th:only-of-type {\n",
       "        vertical-align: middle;\n",
       "    }\n",
       "\n",
       "    .dataframe tbody tr th {\n",
       "        vertical-align: top;\n",
       "    }\n",
       "\n",
       "    .dataframe thead th {\n",
       "        text-align: right;\n",
       "    }\n",
       "</style>\n",
       "<table border=\"1\" class=\"dataframe\">\n",
       "  <thead>\n",
       "    <tr style=\"text-align: right;\">\n",
       "      <th></th>\n",
       "      <th>nosep</th>\n",
       "    </tr>\n",
       "  </thead>\n",
       "  <tbody>\n",
       "    <tr>\n",
       "      <th>0</th>\n",
       "      <td>YOgefgegbgfeYOadfacgdafaYO</td>\n",
       "    </tr>\n",
       "    <tr>\n",
       "      <th>1</th>\n",
       "      <td>HIgaebdfgfccHIfbaaebgcfeHI</td>\n",
       "    </tr>\n",
       "    <tr>\n",
       "      <th>2</th>\n",
       "      <td>UFFcfgdcfcfbaUFFgceecddfcdUFF</td>\n",
       "    </tr>\n",
       "  </tbody>\n",
       "</table>\n",
       "</div>"
      ],
      "text/plain": [
       "                           nosep\n",
       "0     YOgefgegbgfeYOadfacgdafaYO\n",
       "1     HIgaebdfgfccHIfbaaebgcfeHI\n",
       "2  UFFcfgdcfcfbaUFFgceecddfcdUFF"
      ]
     },
     "execution_count": 5,
     "metadata": {},
     "output_type": "execute_result"
    },
    {
     "name": "stdout",
     "output_type": "stream",
     "text": [
      "time: 39.3 ms\n"
     ]
    }
   ],
   "source": [
    "# Test data\n",
    "cols = ['nosep']\n",
    "df = df_test[cols].copy()\n",
    "df.head(3)"
   ]
  },
  {
   "cell_type": "code",
   "execution_count": 6,
   "metadata": {},
   "outputs": [
    {
     "data": {
      "text/html": [
       "<div>\n",
       "<style scoped>\n",
       "    .dataframe tbody tr th:only-of-type {\n",
       "        vertical-align: middle;\n",
       "    }\n",
       "\n",
       "    .dataframe tbody tr th {\n",
       "        vertical-align: top;\n",
       "    }\n",
       "\n",
       "    .dataframe thead th {\n",
       "        text-align: right;\n",
       "    }\n",
       "</style>\n",
       "<table border=\"1\" class=\"dataframe\">\n",
       "  <thead>\n",
       "    <tr style=\"text-align: right;\">\n",
       "      <th></th>\n",
       "      <th>nosep</th>\n",
       "      <th>nosep_remove_str</th>\n",
       "    </tr>\n",
       "  </thead>\n",
       "  <tbody>\n",
       "    <tr>\n",
       "      <th>0</th>\n",
       "      <td>YOgefgegbgfeYOadfacgdafaYO</td>\n",
       "      <td>gefgegbgfeadfacgdafa</td>\n",
       "    </tr>\n",
       "    <tr>\n",
       "      <th>1</th>\n",
       "      <td>HIgaebdfgfccHIfbaaebgcfeHI</td>\n",
       "      <td>gaebdfgfccfbaaebgcfe</td>\n",
       "    </tr>\n",
       "    <tr>\n",
       "      <th>2</th>\n",
       "      <td>UFFcfgdcfcfbaUFFgceecddfcdUFF</td>\n",
       "      <td>cfgdcfcfbagceecddfcd</td>\n",
       "    </tr>\n",
       "    <tr>\n",
       "      <th>3</th>\n",
       "      <td>HIgabdgdaefbHIbdgfbccgeeHI</td>\n",
       "      <td>gabdgdaefbbdgfbccgee</td>\n",
       "    </tr>\n",
       "    <tr>\n",
       "      <th>4</th>\n",
       "      <td>HIcgfcffbgegHIdddebgfffdHI</td>\n",
       "      <td>cgfcffbgegdddebgfffd</td>\n",
       "    </tr>\n",
       "    <tr>\n",
       "      <th>...</th>\n",
       "      <td>...</td>\n",
       "      <td>...</td>\n",
       "    </tr>\n",
       "    <tr>\n",
       "      <th>99995</th>\n",
       "      <td>UFFggafebfdcbUFFefdbcbababUFF</td>\n",
       "      <td>ggafebfdcbefdbcbabab</td>\n",
       "    </tr>\n",
       "    <tr>\n",
       "      <th>99996</th>\n",
       "      <td>UFFgagfacgdbbUFFcfeccdfedfUFF</td>\n",
       "      <td>gagfacgdbbcfeccdfedf</td>\n",
       "    </tr>\n",
       "    <tr>\n",
       "      <th>99997</th>\n",
       "      <td>UFFgegafebgdaUFFaegdeecdagUFF</td>\n",
       "      <td>gegafebgdaaegdeecdag</td>\n",
       "    </tr>\n",
       "    <tr>\n",
       "      <th>99998</th>\n",
       "      <td>UFFdcecedeaacUFFbadbaaddfgUFF</td>\n",
       "      <td>dcecedeaacbadbaaddfg</td>\n",
       "    </tr>\n",
       "    <tr>\n",
       "      <th>99999</th>\n",
       "      <td>HIgbbefabdbbHIdbbabcgaadHI</td>\n",
       "      <td>gbbefabdbbdbbabcgaad</td>\n",
       "    </tr>\n",
       "  </tbody>\n",
       "</table>\n",
       "<p>100000 rows × 2 columns</p>\n",
       "</div>"
      ],
      "text/plain": [
       "                               nosep      nosep_remove_str\n",
       "0         YOgefgegbgfeYOadfacgdafaYO  gefgegbgfeadfacgdafa\n",
       "1         HIgaebdfgfccHIfbaaebgcfeHI  gaebdfgfccfbaaebgcfe\n",
       "2      UFFcfgdcfcfbaUFFgceecddfcdUFF  cfgdcfcfbagceecddfcd\n",
       "3         HIgabdgdaefbHIbdgfbccgeeHI  gabdgdaefbbdgfbccgee\n",
       "4         HIcgfcffbgegHIdddebgfffdHI  cgfcffbgegdddebgfffd\n",
       "...                              ...                   ...\n",
       "99995  UFFggafebfdcbUFFefdbcbababUFF  ggafebfdcbefdbcbabab\n",
       "99996  UFFgagfacgdbbUFFcfeccdfedfUFF  gagfacgdbbcfeccdfedf\n",
       "99997  UFFgegafebgdaUFFaegdeecdagUFF  gegafebgdaaegdeecdag\n",
       "99998  UFFdcecedeaacUFFbadbaaddfgUFF  dcecedeaacbadbaaddfg\n",
       "99999     HIgbbefabdbbHIdbbabcgaadHI  gbbefabdbbdbbabcgaad\n",
       "\n",
       "[100000 rows x 2 columns]"
      ]
     },
     "execution_count": 6,
     "metadata": {},
     "output_type": "execute_result"
    },
    {
     "name": "stdout",
     "output_type": "stream",
     "text": [
      "time: 199 ms\n"
     ]
    }
   ],
   "source": [
    "# compare orig / after remove_str\n",
    "for col in df.columns:\n",
    "    df[col+'_remove_str'] = pak.remove_str( df[col], ['YO', 'UFF', 'HI'])\n",
    "df"
   ]
  },
  {
   "cell_type": "markdown",
   "metadata": {},
   "source": [
    "## remove_words()"
   ]
  },
  {
   "cell_type": "code",
   "execution_count": 7,
   "metadata": {},
   "outputs": [
    {
     "name": "stdout",
     "output_type": "stream",
     "text": [
      "time: 25.4 ms\n"
     ]
    },
    {
     "data": {
      "text/plain": [
       "\u001b[0;31mSignature:\u001b[0m \u001b[0mpak\u001b[0m\u001b[0;34m.\u001b[0m\u001b[0mremove_words\u001b[0m\u001b[0;34m(\u001b[0m\u001b[0mseries\u001b[0m\u001b[0;34m,\u001b[0m \u001b[0mremove_list\u001b[0m\u001b[0;34m)\u001b[0m\u001b[0;34m\u001b[0m\u001b[0;34m\u001b[0m\u001b[0m\n",
       "\u001b[0;31mDocstring:\u001b[0m\n",
       "Removes a list of unwanted words from a Series of strings.\n",
       "Works by regular expression, so special characters such as asterisks must be backslashed.  \n",
       "\u001b[0;31mFile:\u001b[0m      /media/me/DATA/Dropbox/31_Projekte/01_Python/git/pandasklar/src/pandasklar/string.py\n",
       "\u001b[0;31mType:\u001b[0m      function\n"
      ]
     },
     "metadata": {},
     "output_type": "display_data"
    }
   ],
   "source": [
    "?pak.remove_words"
   ]
  },
  {
   "cell_type": "code",
   "execution_count": 8,
   "metadata": {},
   "outputs": [
    {
     "data": {
      "text/html": [
       "<div>\n",
       "<style scoped>\n",
       "    .dataframe tbody tr th:only-of-type {\n",
       "        vertical-align: middle;\n",
       "    }\n",
       "\n",
       "    .dataframe tbody tr th {\n",
       "        vertical-align: top;\n",
       "    }\n",
       "\n",
       "    .dataframe thead th {\n",
       "        text-align: right;\n",
       "    }\n",
       "</style>\n",
       "<table border=\"1\" class=\"dataframe\">\n",
       "  <thead>\n",
       "    <tr style=\"text-align: right;\">\n",
       "      <th></th>\n",
       "      <th>nosep</th>\n",
       "      <th>space</th>\n",
       "      <th>comma</th>\n",
       "    </tr>\n",
       "  </thead>\n",
       "  <tbody>\n",
       "    <tr>\n",
       "      <th>0</th>\n",
       "      <td>YOgefgegbgfeYOadfacgdafaYO</td>\n",
       "      <td>YO gefgegbgfe YO adfacgdafa YO</td>\n",
       "      <td>,YO,gefgegbgfe,YO,adfacgdafa,YO</td>\n",
       "    </tr>\n",
       "    <tr>\n",
       "      <th>1</th>\n",
       "      <td>HIgaebdfgfccHIfbaaebgcfeHI</td>\n",
       "      <td>HI gaebdfgfcc HI fbaaebgcfe HI</td>\n",
       "      <td>,HI,gaebdfgfcc,HI,fbaaebgcfe,HI</td>\n",
       "    </tr>\n",
       "    <tr>\n",
       "      <th>2</th>\n",
       "      <td>UFFcfgdcfcfbaUFFgceecddfcdUFF</td>\n",
       "      <td>UFF cfgdcfcfba UFF gceecddfcd UFF</td>\n",
       "      <td>,UFF,cfgdcfcfba,UFF,gceecddfcd,UFF</td>\n",
       "    </tr>\n",
       "  </tbody>\n",
       "</table>\n",
       "</div>"
      ],
      "text/plain": [
       "                           nosep                               space  \\\n",
       "0     YOgefgegbgfeYOadfacgdafaYO      YO gefgegbgfe YO adfacgdafa YO   \n",
       "1     HIgaebdfgfccHIfbaaebgcfeHI      HI gaebdfgfcc HI fbaaebgcfe HI   \n",
       "2  UFFcfgdcfcfbaUFFgceecddfcdUFF   UFF cfgdcfcfba UFF gceecddfcd UFF   \n",
       "\n",
       "                                comma  \n",
       "0     ,YO,gefgegbgfe,YO,adfacgdafa,YO  \n",
       "1     ,HI,gaebdfgfcc,HI,fbaaebgcfe,HI  \n",
       "2  ,UFF,cfgdcfcfba,UFF,gceecddfcd,UFF  "
      ]
     },
     "execution_count": 8,
     "metadata": {},
     "output_type": "execute_result"
    },
    {
     "name": "stdout",
     "output_type": "stream",
     "text": [
      "time: 69.4 ms\n"
     ]
    }
   ],
   "source": [
    "# Test data\n",
    "df = df_test.copy()\n",
    "df.head(3)"
   ]
  },
  {
   "cell_type": "code",
   "execution_count": 9,
   "metadata": {},
   "outputs": [
    {
     "data": {
      "text/html": [
       "<div>\n",
       "<style scoped>\n",
       "    .dataframe tbody tr th:only-of-type {\n",
       "        vertical-align: middle;\n",
       "    }\n",
       "\n",
       "    .dataframe tbody tr th {\n",
       "        vertical-align: top;\n",
       "    }\n",
       "\n",
       "    .dataframe thead th {\n",
       "        text-align: right;\n",
       "    }\n",
       "</style>\n",
       "<table border=\"1\" class=\"dataframe\">\n",
       "  <thead>\n",
       "    <tr style=\"text-align: right;\">\n",
       "      <th></th>\n",
       "      <th>comma</th>\n",
       "      <th>comma_str</th>\n",
       "      <th>comma_words</th>\n",
       "      <th>nosep</th>\n",
       "      <th>nosep_str</th>\n",
       "      <th>nosep_words</th>\n",
       "      <th>space</th>\n",
       "      <th>space_str</th>\n",
       "      <th>space_words</th>\n",
       "    </tr>\n",
       "  </thead>\n",
       "  <tbody>\n",
       "    <tr>\n",
       "      <th>0</th>\n",
       "      <td>,YO,gefgegbgfe,YO,adfacgdafa,YO</td>\n",
       "      <td>,,gefgegbgfe,,adfacgdafa,</td>\n",
       "      <td>,,gefgegbgfe,,adfacgdafa,</td>\n",
       "      <td>YOgefgegbgfeYOadfacgdafaYO</td>\n",
       "      <td>gefgegbgfeadfacgdafa</td>\n",
       "      <td>YOgefgegbgfeYOadfacgdafaYO</td>\n",
       "      <td>YO gefgegbgfe YO adfacgdafa YO</td>\n",
       "      <td>gefgegbgfe  adfacgdafa</td>\n",
       "      <td>gefgegbgfe  adfacgdafa</td>\n",
       "    </tr>\n",
       "    <tr>\n",
       "      <th>1</th>\n",
       "      <td>,HI,gaebdfgfcc,HI,fbaaebgcfe,HI</td>\n",
       "      <td>,,gaebdfgfcc,,fbaaebgcfe,</td>\n",
       "      <td>,,gaebdfgfcc,,fbaaebgcfe,</td>\n",
       "      <td>HIgaebdfgfccHIfbaaebgcfeHI</td>\n",
       "      <td>gaebdfgfccfbaaebgcfe</td>\n",
       "      <td>HIgaebdfgfccHIfbaaebgcfeHI</td>\n",
       "      <td>HI gaebdfgfcc HI fbaaebgcfe HI</td>\n",
       "      <td>gaebdfgfcc  fbaaebgcfe</td>\n",
       "      <td>gaebdfgfcc  fbaaebgcfe</td>\n",
       "    </tr>\n",
       "    <tr>\n",
       "      <th>2</th>\n",
       "      <td>,UFF,cfgdcfcfba,UFF,gceecddfcd,UFF</td>\n",
       "      <td>,,cfgdcfcfba,,gceecddfcd,</td>\n",
       "      <td>,,cfgdcfcfba,,gceecddfcd,</td>\n",
       "      <td>UFFcfgdcfcfbaUFFgceecddfcdUFF</td>\n",
       "      <td>cfgdcfcfbagceecddfcd</td>\n",
       "      <td>UFFcfgdcfcfbaUFFgceecddfcdUFF</td>\n",
       "      <td>UFF cfgdcfcfba UFF gceecddfcd UFF</td>\n",
       "      <td>cfgdcfcfba  gceecddfcd</td>\n",
       "      <td>cfgdcfcfba  gceecddfcd</td>\n",
       "    </tr>\n",
       "    <tr>\n",
       "      <th>3</th>\n",
       "      <td>,HI,gabdgdaefb,HI,bdgfbccgee,HI</td>\n",
       "      <td>,,gabdgdaefb,,bdgfbccgee,</td>\n",
       "      <td>,,gabdgdaefb,,bdgfbccgee,</td>\n",
       "      <td>HIgabdgdaefbHIbdgfbccgeeHI</td>\n",
       "      <td>gabdgdaefbbdgfbccgee</td>\n",
       "      <td>HIgabdgdaefbHIbdgfbccgeeHI</td>\n",
       "      <td>HI gabdgdaefb HI bdgfbccgee HI</td>\n",
       "      <td>gabdgdaefb  bdgfbccgee</td>\n",
       "      <td>gabdgdaefb  bdgfbccgee</td>\n",
       "    </tr>\n",
       "    <tr>\n",
       "      <th>4</th>\n",
       "      <td>,HI,cgfcffbgeg,HI,dddebgfffd,HI</td>\n",
       "      <td>,,cgfcffbgeg,,dddebgfffd,</td>\n",
       "      <td>,,cgfcffbgeg,,dddebgfffd,</td>\n",
       "      <td>HIcgfcffbgegHIdddebgfffdHI</td>\n",
       "      <td>cgfcffbgegdddebgfffd</td>\n",
       "      <td>HIcgfcffbgegHIdddebgfffdHI</td>\n",
       "      <td>HI cgfcffbgeg HI dddebgfffd HI</td>\n",
       "      <td>cgfcffbgeg  dddebgfffd</td>\n",
       "      <td>cgfcffbgeg  dddebgfffd</td>\n",
       "    </tr>\n",
       "  </tbody>\n",
       "</table>\n",
       "</div>"
      ],
      "text/plain": [
       "                                comma                  comma_str  \\\n",
       "0     ,YO,gefgegbgfe,YO,adfacgdafa,YO  ,,gefgegbgfe,,adfacgdafa,   \n",
       "1     ,HI,gaebdfgfcc,HI,fbaaebgcfe,HI  ,,gaebdfgfcc,,fbaaebgcfe,   \n",
       "2  ,UFF,cfgdcfcfba,UFF,gceecddfcd,UFF  ,,cfgdcfcfba,,gceecddfcd,   \n",
       "3     ,HI,gabdgdaefb,HI,bdgfbccgee,HI  ,,gabdgdaefb,,bdgfbccgee,   \n",
       "4     ,HI,cgfcffbgeg,HI,dddebgfffd,HI  ,,cgfcffbgeg,,dddebgfffd,   \n",
       "\n",
       "                 comma_words                          nosep  \\\n",
       "0  ,,gefgegbgfe,,adfacgdafa,     YOgefgegbgfeYOadfacgdafaYO   \n",
       "1  ,,gaebdfgfcc,,fbaaebgcfe,     HIgaebdfgfccHIfbaaebgcfeHI   \n",
       "2  ,,cfgdcfcfba,,gceecddfcd,  UFFcfgdcfcfbaUFFgceecddfcdUFF   \n",
       "3  ,,gabdgdaefb,,bdgfbccgee,     HIgabdgdaefbHIbdgfbccgeeHI   \n",
       "4  ,,cgfcffbgeg,,dddebgfffd,     HIcgfcffbgegHIdddebgfffdHI   \n",
       "\n",
       "              nosep_str                    nosep_words  \\\n",
       "0  gefgegbgfeadfacgdafa     YOgefgegbgfeYOadfacgdafaYO   \n",
       "1  gaebdfgfccfbaaebgcfe     HIgaebdfgfccHIfbaaebgcfeHI   \n",
       "2  cfgdcfcfbagceecddfcd  UFFcfgdcfcfbaUFFgceecddfcdUFF   \n",
       "3  gabdgdaefbbdgfbccgee     HIgabdgdaefbHIbdgfbccgeeHI   \n",
       "4  cgfcffbgegdddebgfffd     HIcgfcffbgegHIdddebgfffdHI   \n",
       "\n",
       "                                space               space_str  \\\n",
       "0      YO gefgegbgfe YO adfacgdafa YO  gefgegbgfe  adfacgdafa   \n",
       "1      HI gaebdfgfcc HI fbaaebgcfe HI  gaebdfgfcc  fbaaebgcfe   \n",
       "2   UFF cfgdcfcfba UFF gceecddfcd UFF  cfgdcfcfba  gceecddfcd   \n",
       "3      HI gabdgdaefb HI bdgfbccgee HI  gabdgdaefb  bdgfbccgee   \n",
       "4      HI cgfcffbgeg HI dddebgfffd HI  cgfcffbgeg  dddebgfffd   \n",
       "\n",
       "              space_words  \n",
       "0  gefgegbgfe  adfacgdafa  \n",
       "1  gaebdfgfcc  fbaaebgcfe  \n",
       "2  cfgdcfcfba  gceecddfcd  \n",
       "3  gabdgdaefb  bdgfbccgee  \n",
       "4  cgfcffbgeg  dddebgfffd  "
      ]
     },
     "execution_count": 9,
     "metadata": {},
     "output_type": "execute_result"
    },
    {
     "name": "stdout",
     "output_type": "stream",
     "text": [
      "time: 949 ms\n"
     ]
    }
   ],
   "source": [
    "# compare orig / after remove_str / after remove_words\n",
    "for col in df.columns:\n",
    "    df[col+'_str'] =   pak.remove_str(   df[col], ['YO', 'UFF', 'HI'])\n",
    "    df[col+'_words'] = pak.remove_words( df[col], ['YO', 'UFF', 'HI'])\n",
    "\n",
    "pak.move_cols(df).head()"
   ]
  },
  {
   "cell_type": "markdown",
   "metadata": {},
   "source": [
    "## replace_str()"
   ]
  },
  {
   "cell_type": "code",
   "execution_count": 10,
   "metadata": {},
   "outputs": [
    {
     "name": "stdout",
     "output_type": "stream",
     "text": [
      "time: 27.2 ms\n"
     ]
    },
    {
     "data": {
      "text/plain": [
       "\u001b[0;31mSignature:\u001b[0m \u001b[0mpak\u001b[0m\u001b[0;34m.\u001b[0m\u001b[0mreplace_str\u001b[0m\u001b[0;34m(\u001b[0m\u001b[0mseries\u001b[0m\u001b[0;34m,\u001b[0m \u001b[0mreplace_dict\u001b[0m\u001b[0;34m)\u001b[0m\u001b[0;34m\u001b[0m\u001b[0;34m\u001b[0m\u001b[0m\n",
       "\u001b[0;31mDocstring:\u001b[0m\n",
       "Replaces substrings from a Series of strings according to a dict.\n",
       "* replace_dict: Example {'President Trump':'Trump', 'HELLO':'Hello'}\n",
       "\u001b[0;31mFile:\u001b[0m      /media/me/DATA/Dropbox/31_Projekte/01_Python/git/pandasklar/src/pandasklar/string.py\n",
       "\u001b[0;31mType:\u001b[0m      function\n"
      ]
     },
     "metadata": {},
     "output_type": "display_data"
    }
   ],
   "source": [
    "?pak.replace_str"
   ]
  },
  {
   "cell_type": "code",
   "execution_count": 11,
   "metadata": {},
   "outputs": [
    {
     "data": {
      "text/html": [
       "<div>\n",
       "<style scoped>\n",
       "    .dataframe tbody tr th:only-of-type {\n",
       "        vertical-align: middle;\n",
       "    }\n",
       "\n",
       "    .dataframe tbody tr th {\n",
       "        vertical-align: top;\n",
       "    }\n",
       "\n",
       "    .dataframe thead th {\n",
       "        text-align: right;\n",
       "    }\n",
       "</style>\n",
       "<table border=\"1\" class=\"dataframe\">\n",
       "  <thead>\n",
       "    <tr style=\"text-align: right;\">\n",
       "      <th></th>\n",
       "      <th>A</th>\n",
       "      <th>B</th>\n",
       "    </tr>\n",
       "  </thead>\n",
       "  <tbody>\n",
       "    <tr>\n",
       "      <th>0</th>\n",
       "      <td>The sun is bright</td>\n",
       "      <td>1</td>\n",
       "    </tr>\n",
       "    <tr>\n",
       "      <th>1</th>\n",
       "      <td>The night is dark</td>\n",
       "      <td>2</td>\n",
       "    </tr>\n",
       "  </tbody>\n",
       "</table>\n",
       "</div>"
      ],
      "text/plain": [
       "                   A  B\n",
       "0  The sun is bright  1\n",
       "1  The night is dark  2"
      ]
     },
     "execution_count": 11,
     "metadata": {},
     "output_type": "execute_result"
    },
    {
     "name": "stdout",
     "output_type": "stream",
     "text": [
      "time: 76.9 ms\n"
     ]
    }
   ],
   "source": [
    "df = pak.dataframe([ ('The sun is bright',1),\n",
    "                     ('The night is dark', 2) ])\n",
    "df"
   ]
  },
  {
   "cell_type": "code",
   "execution_count": 15,
   "metadata": {},
   "outputs": [
    {
     "data": {
      "text/plain": [
       "{'The': 'THE', 'sun': 'SUN', 'dark': 'DARK'}"
      ]
     },
     "execution_count": 15,
     "metadata": {},
     "output_type": "execute_result"
    },
    {
     "name": "stdout",
     "output_type": "stream",
     "text": [
      "time: 27 ms\n"
     ]
    }
   ],
   "source": [
    "translate = {'The':'THE', 'sun':'SUN', 'dark':'DARK'}\n",
    "translate = [('The','THE'), ('sun','SUN'), ('dark','DARK')]\n",
    "dict(translate )"
   ]
  },
  {
   "cell_type": "code",
   "execution_count": 13,
   "metadata": {},
   "outputs": [
    {
     "name": "stdout",
     "output_type": "stream",
     "text": [
      "##\n"
     ]
    },
    {
     "data": {
      "text/plain": [
       "'HI'"
      ]
     },
     "execution_count": 13,
     "metadata": {},
     "output_type": "execute_result"
    },
    {
     "name": "stdout",
     "output_type": "stream",
     "text": [
      "time: 35.3 ms\n"
     ]
    }
   ],
   "source": [
    "pak.replace_str( df.A, translate)"
   ]
  },
  {
   "cell_type": "code",
   "execution_count": 14,
   "metadata": {},
   "outputs": [
    {
     "name": "stdout",
     "output_type": "stream",
     "text": [
      "##\n"
     ]
    },
    {
     "data": {
      "text/html": [
       "<div>\n",
       "<style scoped>\n",
       "    .dataframe tbody tr th:only-of-type {\n",
       "        vertical-align: middle;\n",
       "    }\n",
       "\n",
       "    .dataframe tbody tr th {\n",
       "        vertical-align: top;\n",
       "    }\n",
       "\n",
       "    .dataframe thead th {\n",
       "        text-align: right;\n",
       "    }\n",
       "</style>\n",
       "<table border=\"1\" class=\"dataframe\">\n",
       "  <thead>\n",
       "    <tr style=\"text-align: right;\">\n",
       "      <th></th>\n",
       "      <th>A</th>\n",
       "      <th>B</th>\n",
       "    </tr>\n",
       "  </thead>\n",
       "  <tbody>\n",
       "    <tr>\n",
       "      <th>0</th>\n",
       "      <td>HI</td>\n",
       "      <td>1</td>\n",
       "    </tr>\n",
       "    <tr>\n",
       "      <th>1</th>\n",
       "      <td>HI</td>\n",
       "      <td>2</td>\n",
       "    </tr>\n",
       "  </tbody>\n",
       "</table>\n",
       "</div>"
      ],
      "text/plain": [
       "    A  B\n",
       "0  HI  1\n",
       "1  HI  2"
      ]
     },
     "execution_count": 14,
     "metadata": {},
     "output_type": "execute_result"
    },
    {
     "name": "stdout",
     "output_type": "stream",
     "text": [
      "time: 34.6 ms\n"
     ]
    }
   ],
   "source": [
    "df['A'] = pak.replace_str( df.A, translate)\n",
    "df"
   ]
  },
  {
   "cell_type": "code",
   "execution_count": null,
   "metadata": {},
   "outputs": [],
   "source": []
  }
 ],
 "metadata": {
  "kernelspec": {
   "display_name": "Python 3 (ipykernel)",
   "language": "python",
   "name": "python3"
  },
  "language_info": {
   "codemirror_mode": {
    "name": "ipython",
    "version": 3
   },
   "file_extension": ".py",
   "mimetype": "text/x-python",
   "name": "python",
   "nbconvert_exporter": "python",
   "pygments_lexer": "ipython3",
   "version": "3.9.13"
  }
 },
 "nbformat": 4,
 "nbformat_minor": 4
}
