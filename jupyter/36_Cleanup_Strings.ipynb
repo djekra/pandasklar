{
 "cells": [
  {
   "cell_type": "code",
   "execution_count": 1,
   "metadata": {},
   "outputs": [
    {
     "name": "stdout",
     "output_type": "stream",
     "text": [
      "blab init\n",
      "blab found local libs at D:\\Dropbox\\31_Projekte\\01_Python\\libs\n",
      "Start Time: 09:38:56\n"
     ]
    },
    {
     "data": {
      "text/html": [
       "<img src onerror=\"var cell = this.closest('.jp-CodeCell');var editor = cell.querySelector('.jp-Editor');editor.style.background='Beige';this.parentNode.removeChild(this)\">"
      ],
      "text/plain": [
       "<IPython.core.display.HTML object>"
      ]
     },
     "metadata": {},
     "output_type": "display_data"
    },
    {
     "name": "stdout",
     "output_type": "stream",
     "text": [
      "time: 1.64 s\n"
     ]
    }
   ],
   "source": [
    "# blab init\n",
    "import blab\n",
    "startup_notebook = blab.blab_startup()\n",
    "%run $startup_notebook"
   ]
  },
  {
   "cell_type": "markdown",
   "metadata": {},
   "source": [
    "# Cleanup Strings\n",
    "* `remove_str`: Removes a list of unwanted substrings from a Series of strings.\n",
    "* `remove_words`: Removes a list of unwanted words from a Series of strings.\n",
    "* `replace_str`: Replaces substrings from a Series of strings according to a dict."
   ]
  },
  {
   "cell_type": "code",
   "execution_count": 2,
   "metadata": {},
   "outputs": [
    {
     "name": "stdout",
     "output_type": "stream",
     "text": [
      "time: 7.98 s\n"
     ]
    }
   ],
   "source": [
    "#import numpy      as np\n",
    "import pandas     as pd \n",
    "import bpyth      as bpy\n",
    "import pandasklar as pak "
   ]
  },
  {
   "cell_type": "code",
   "execution_count": 3,
   "metadata": {},
   "outputs": [
    {
     "data": {
      "text/html": [
       "<div>\n",
       "<style scoped>\n",
       "    .dataframe tbody tr th:only-of-type {\n",
       "        vertical-align: middle;\n",
       "    }\n",
       "\n",
       "    .dataframe tbody tr th {\n",
       "        vertical-align: top;\n",
       "    }\n",
       "\n",
       "    .dataframe thead th {\n",
       "        text-align: right;\n",
       "    }\n",
       "</style>\n",
       "<table border=\"1\" class=\"dataframe\">\n",
       "  <thead>\n",
       "    <tr style=\"text-align: right;\">\n",
       "      <th></th>\n",
       "      <th>nosep</th>\n",
       "      <th>space</th>\n",
       "      <th>comma</th>\n",
       "    </tr>\n",
       "  </thead>\n",
       "  <tbody>\n",
       "    <tr>\n",
       "      <th>0</th>\n",
       "      <td>YOefbbbabfffYOgfadbgcaccYO</td>\n",
       "      <td>YO efbbbabfff YO gfadbgcacc YO</td>\n",
       "      <td>,YO,efbbbabfff,YO,gfadbgcacc,YO</td>\n",
       "    </tr>\n",
       "    <tr>\n",
       "      <th>1</th>\n",
       "      <td>UFFggaecgcgdfUFFdfcbacebacUFF</td>\n",
       "      <td>UFF ggaecgcgdf UFF dfcbacebac UFF</td>\n",
       "      <td>,UFF,ggaecgcgdf,UFF,dfcbacebac,UFF</td>\n",
       "    </tr>\n",
       "    <tr>\n",
       "      <th>2</th>\n",
       "      <td>HIgdcgcfaefbHIebdfcdabfdHI</td>\n",
       "      <td>HI gdcgcfaefb HI ebdfcdabfd HI</td>\n",
       "      <td>,HI,gdcgcfaefb,HI,ebdfcdabfd,HI</td>\n",
       "    </tr>\n",
       "    <tr>\n",
       "      <th>3</th>\n",
       "      <td>UFFabgcadgaefUFFcfdddfddgbUFF</td>\n",
       "      <td>UFF abgcadgaef UFF cfdddfddgb UFF</td>\n",
       "      <td>,UFF,abgcadgaef,UFF,cfdddfddgb,UFF</td>\n",
       "    </tr>\n",
       "    <tr>\n",
       "      <th>4</th>\n",
       "      <td>UFFabdfcbfcgaUFFceeefdgedbUFF</td>\n",
       "      <td>UFF abdfcbfcga UFF ceeefdgedb UFF</td>\n",
       "      <td>,UFF,abdfcbfcga,UFF,ceeefdgedb,UFF</td>\n",
       "    </tr>\n",
       "    <tr>\n",
       "      <th>...</th>\n",
       "      <td>...</td>\n",
       "      <td>...</td>\n",
       "      <td>...</td>\n",
       "    </tr>\n",
       "    <tr>\n",
       "      <th>99995</th>\n",
       "      <td>YOecbfecgfbcYOecdcdfgdecYO</td>\n",
       "      <td>YO ecbfecgfbc YO ecdcdfgdec YO</td>\n",
       "      <td>,YO,ecbfecgfbc,YO,ecdcdfgdec,YO</td>\n",
       "    </tr>\n",
       "    <tr>\n",
       "      <th>99996</th>\n",
       "      <td>YOffbcdcaeffYObbeaebgffbYO</td>\n",
       "      <td>YO ffbcdcaeff YO bbeaebgffb YO</td>\n",
       "      <td>,YO,ffbcdcaeff,YO,bbeaebgffb,YO</td>\n",
       "    </tr>\n",
       "    <tr>\n",
       "      <th>99997</th>\n",
       "      <td>YOfbagfecefdYOaeafcceaegYO</td>\n",
       "      <td>YO fbagfecefd YO aeafcceaeg YO</td>\n",
       "      <td>,YO,fbagfecefd,YO,aeafcceaeg,YO</td>\n",
       "    </tr>\n",
       "    <tr>\n",
       "      <th>99998</th>\n",
       "      <td>HIgaebgadebfHIecagddaabcHI</td>\n",
       "      <td>HI gaebgadebf HI ecagddaabc HI</td>\n",
       "      <td>,HI,gaebgadebf,HI,ecagddaabc,HI</td>\n",
       "    </tr>\n",
       "    <tr>\n",
       "      <th>99999</th>\n",
       "      <td>HIaggbbfaaggHIbfdbeaefdcHI</td>\n",
       "      <td>HI aggbbfaagg HI bfdbeaefdc HI</td>\n",
       "      <td>,HI,aggbbfaagg,HI,bfdbeaefdc,HI</td>\n",
       "    </tr>\n",
       "  </tbody>\n",
       "</table>\n",
       "<p>100000 rows × 3 columns</p>\n",
       "</div>"
      ],
      "text/plain": [
       "                               nosep                               space  \\\n",
       "0         YOefbbbabfffYOgfadbgcaccYO      YO efbbbabfff YO gfadbgcacc YO   \n",
       "1      UFFggaecgcgdfUFFdfcbacebacUFF   UFF ggaecgcgdf UFF dfcbacebac UFF   \n",
       "2         HIgdcgcfaefbHIebdfcdabfdHI      HI gdcgcfaefb HI ebdfcdabfd HI   \n",
       "3      UFFabgcadgaefUFFcfdddfddgbUFF   UFF abgcadgaef UFF cfdddfddgb UFF   \n",
       "4      UFFabdfcbfcgaUFFceeefdgedbUFF   UFF abdfcbfcga UFF ceeefdgedb UFF   \n",
       "...                              ...                                 ...   \n",
       "99995     YOecbfecgfbcYOecdcdfgdecYO      YO ecbfecgfbc YO ecdcdfgdec YO   \n",
       "99996     YOffbcdcaeffYObbeaebgffbYO      YO ffbcdcaeff YO bbeaebgffb YO   \n",
       "99997     YOfbagfecefdYOaeafcceaegYO      YO fbagfecefd YO aeafcceaeg YO   \n",
       "99998     HIgaebgadebfHIecagddaabcHI      HI gaebgadebf HI ecagddaabc HI   \n",
       "99999     HIaggbbfaaggHIbfdbeaefdcHI      HI aggbbfaagg HI bfdbeaefdc HI   \n",
       "\n",
       "                                    comma  \n",
       "0         ,YO,efbbbabfff,YO,gfadbgcacc,YO  \n",
       "1      ,UFF,ggaecgcgdf,UFF,dfcbacebac,UFF  \n",
       "2         ,HI,gdcgcfaefb,HI,ebdfcdabfd,HI  \n",
       "3      ,UFF,abgcadgaef,UFF,cfdddfddgb,UFF  \n",
       "4      ,UFF,abdfcbfcga,UFF,ceeefdgedb,UFF  \n",
       "...                                   ...  \n",
       "99995     ,YO,ecbfecgfbc,YO,ecdcdfgdec,YO  \n",
       "99996     ,YO,ffbcdcaeff,YO,bbeaebgffb,YO  \n",
       "99997     ,YO,fbagfecefd,YO,aeafcceaeg,YO  \n",
       "99998     ,HI,gaebgadebf,HI,ecagddaabc,HI  \n",
       "99999     ,HI,aggbbfaagg,HI,bfdbeaefdc,HI  \n",
       "\n",
       "[100000 rows x 3 columns]"
      ]
     },
     "execution_count": 3,
     "metadata": {},
     "output_type": "execute_result"
    },
    {
     "name": "stdout",
     "output_type": "stream",
     "text": [
      "time: 23.6 s\n"
     ]
    }
   ],
   "source": [
    "# create test data to search in\n",
    "size = 100000\n",
    "a = pak.random_series( size, 'string', len_min=10, len_max=10,           p_dup=0.9)\n",
    "b = pak.random_series( size, 'choice', choice=['YO','UFF', 'HI'],        p_dup=0.9)\n",
    "c = pak.random_series( size, 'string', len_min=10, len_max=10,           p_dup=0.9)\n",
    "df_test = pak.dataframe([a,b,c])\n",
    "\n",
    "trenn = ''\n",
    "df_test['nosep'] =     trenn + df_test.B + trenn + df_test.A + trenn + df_test.B + trenn + df_test.C + trenn + df_test.B\n",
    "trenn = ' '\n",
    "df_test['space'] =  trenn + df_test.B + trenn + df_test.A + trenn + df_test.B + trenn + df_test.C + trenn + df_test.B\n",
    "trenn = ','\n",
    "df_test['comma'] =  trenn + df_test.B + trenn + df_test.A + trenn + df_test.B + trenn + df_test.C + trenn + df_test.B\n",
    "df_test = pak.drop_cols(df_test, list('ABC'))\n",
    "df_test"
   ]
  },
  {
   "cell_type": "markdown",
   "metadata": {},
   "source": [
    "## remove_str()"
   ]
  },
  {
   "cell_type": "code",
   "execution_count": 15,
   "metadata": {},
   "outputs": [
    {
     "name": "stdout",
     "output_type": "stream",
     "text": [
      "time: 339 ms\n"
     ]
    },
    {
     "data": {
      "text/plain": [
       "\u001b[1;31mSignature:\u001b[0m \u001b[0mpak\u001b[0m\u001b[1;33m.\u001b[0m\u001b[0mremove_str\u001b[0m\u001b[1;33m(\u001b[0m\u001b[0mseries\u001b[0m\u001b[1;33m,\u001b[0m \u001b[0mremove_list\u001b[0m\u001b[1;33m,\u001b[0m \u001b[0msafemode\u001b[0m\u001b[1;33m=\u001b[0m\u001b[1;32mTrue\u001b[0m\u001b[1;33m)\u001b[0m\u001b[1;33m\u001b[0m\u001b[1;33m\u001b[0m\u001b[0m\n",
       "\u001b[1;31mDocstring:\u001b[0m\n",
       "Removes unwanted substrings from a Series of strings.\n",
       "* remove_list: list of substrings to remove\n",
       "* safemode:    Selects the algorithm.\n",
       "               safemode=True:  Each substring is removed separately\n",
       "               safemode=False: Works with one regular expression.\n",
       "                               Special characters such as asterisks must be backslashed.    \n",
       "\u001b[1;31mFile:\u001b[0m      d:\\dropbox\\31_projekte\\01_python\\git\\pandasklar\\src\\pandasklar\\string.py\n",
       "\u001b[1;31mType:\u001b[0m      function\n"
      ]
     },
     "metadata": {},
     "output_type": "display_data"
    }
   ],
   "source": [
    "?pak.remove_str"
   ]
  },
  {
   "cell_type": "code",
   "execution_count": 5,
   "metadata": {},
   "outputs": [
    {
     "data": {
      "text/html": [
       "<div>\n",
       "<style scoped>\n",
       "    .dataframe tbody tr th:only-of-type {\n",
       "        vertical-align: middle;\n",
       "    }\n",
       "\n",
       "    .dataframe tbody tr th {\n",
       "        vertical-align: top;\n",
       "    }\n",
       "\n",
       "    .dataframe thead th {\n",
       "        text-align: right;\n",
       "    }\n",
       "</style>\n",
       "<table border=\"1\" class=\"dataframe\">\n",
       "  <thead>\n",
       "    <tr style=\"text-align: right;\">\n",
       "      <th></th>\n",
       "      <th>nosep</th>\n",
       "    </tr>\n",
       "  </thead>\n",
       "  <tbody>\n",
       "    <tr>\n",
       "      <th>0</th>\n",
       "      <td>YOefbbbabfffYOgfadbgcaccYO</td>\n",
       "    </tr>\n",
       "    <tr>\n",
       "      <th>1</th>\n",
       "      <td>UFFggaecgcgdfUFFdfcbacebacUFF</td>\n",
       "    </tr>\n",
       "    <tr>\n",
       "      <th>2</th>\n",
       "      <td>HIgdcgcfaefbHIebdfcdabfdHI</td>\n",
       "    </tr>\n",
       "  </tbody>\n",
       "</table>\n",
       "</div>"
      ],
      "text/plain": [
       "                           nosep\n",
       "0     YOefbbbabfffYOgfadbgcaccYO\n",
       "1  UFFggaecgcgdfUFFdfcbacebacUFF\n",
       "2     HIgdcgcfaefbHIebdfcdabfdHI"
      ]
     },
     "execution_count": 5,
     "metadata": {},
     "output_type": "execute_result"
    },
    {
     "name": "stdout",
     "output_type": "stream",
     "text": [
      "time: 616 ms\n"
     ]
    }
   ],
   "source": [
    "# Test data\n",
    "cols = ['nosep']\n",
    "df = df_test[cols].copy()\n",
    "df.head(3)"
   ]
  },
  {
   "cell_type": "code",
   "execution_count": 6,
   "metadata": {},
   "outputs": [
    {
     "data": {
      "text/html": [
       "<div>\n",
       "<style scoped>\n",
       "    .dataframe tbody tr th:only-of-type {\n",
       "        vertical-align: middle;\n",
       "    }\n",
       "\n",
       "    .dataframe tbody tr th {\n",
       "        vertical-align: top;\n",
       "    }\n",
       "\n",
       "    .dataframe thead th {\n",
       "        text-align: right;\n",
       "    }\n",
       "</style>\n",
       "<table border=\"1\" class=\"dataframe\">\n",
       "  <thead>\n",
       "    <tr style=\"text-align: right;\">\n",
       "      <th></th>\n",
       "      <th>nosep</th>\n",
       "      <th>nosep_remove_str</th>\n",
       "    </tr>\n",
       "  </thead>\n",
       "  <tbody>\n",
       "    <tr>\n",
       "      <th>0</th>\n",
       "      <td>YOefbbbabfffYOgfadbgcaccYO</td>\n",
       "      <td>efbbbabfffgfadbgcacc</td>\n",
       "    </tr>\n",
       "    <tr>\n",
       "      <th>1</th>\n",
       "      <td>UFFggaecgcgdfUFFdfcbacebacUFF</td>\n",
       "      <td>ggaecgcgdfdfcbacebac</td>\n",
       "    </tr>\n",
       "    <tr>\n",
       "      <th>2</th>\n",
       "      <td>HIgdcgcfaefbHIebdfcdabfdHI</td>\n",
       "      <td>gdcgcfaefbebdfcdabfd</td>\n",
       "    </tr>\n",
       "    <tr>\n",
       "      <th>3</th>\n",
       "      <td>UFFabgcadgaefUFFcfdddfddgbUFF</td>\n",
       "      <td>abgcadgaefcfdddfddgb</td>\n",
       "    </tr>\n",
       "    <tr>\n",
       "      <th>4</th>\n",
       "      <td>UFFabdfcbfcgaUFFceeefdgedbUFF</td>\n",
       "      <td>abdfcbfcgaceeefdgedb</td>\n",
       "    </tr>\n",
       "    <tr>\n",
       "      <th>...</th>\n",
       "      <td>...</td>\n",
       "      <td>...</td>\n",
       "    </tr>\n",
       "    <tr>\n",
       "      <th>99995</th>\n",
       "      <td>YOecbfecgfbcYOecdcdfgdecYO</td>\n",
       "      <td>ecbfecgfbcecdcdfgdec</td>\n",
       "    </tr>\n",
       "    <tr>\n",
       "      <th>99996</th>\n",
       "      <td>YOffbcdcaeffYObbeaebgffbYO</td>\n",
       "      <td>ffbcdcaeffbbeaebgffb</td>\n",
       "    </tr>\n",
       "    <tr>\n",
       "      <th>99997</th>\n",
       "      <td>YOfbagfecefdYOaeafcceaegYO</td>\n",
       "      <td>fbagfecefdaeafcceaeg</td>\n",
       "    </tr>\n",
       "    <tr>\n",
       "      <th>99998</th>\n",
       "      <td>HIgaebgadebfHIecagddaabcHI</td>\n",
       "      <td>gaebgadebfecagddaabc</td>\n",
       "    </tr>\n",
       "    <tr>\n",
       "      <th>99999</th>\n",
       "      <td>HIaggbbfaaggHIbfdbeaefdcHI</td>\n",
       "      <td>aggbbfaaggbfdbeaefdc</td>\n",
       "    </tr>\n",
       "  </tbody>\n",
       "</table>\n",
       "<p>100000 rows × 2 columns</p>\n",
       "</div>"
      ],
      "text/plain": [
       "                               nosep      nosep_remove_str\n",
       "0         YOefbbbabfffYOgfadbgcaccYO  efbbbabfffgfadbgcacc\n",
       "1      UFFggaecgcgdfUFFdfcbacebacUFF  ggaecgcgdfdfcbacebac\n",
       "2         HIgdcgcfaefbHIebdfcdabfdHI  gdcgcfaefbebdfcdabfd\n",
       "3      UFFabgcadgaefUFFcfdddfddgbUFF  abgcadgaefcfdddfddgb\n",
       "4      UFFabdfcbfcgaUFFceeefdgedbUFF  abdfcbfcgaceeefdgedb\n",
       "...                              ...                   ...\n",
       "99995     YOecbfecgfbcYOecdcdfgdecYO  ecbfecgfbcecdcdfgdec\n",
       "99996     YOffbcdcaeffYObbeaebgffbYO  ffbcdcaeffbbeaebgffb\n",
       "99997     YOfbagfecefdYOaeafcceaegYO  fbagfecefdaeafcceaeg\n",
       "99998     HIgaebgadebfHIecagddaabcHI  gaebgadebfecagddaabc\n",
       "99999     HIaggbbfaaggHIbfdbeaefdcHI  aggbbfaaggbfdbeaefdc\n",
       "\n",
       "[100000 rows x 2 columns]"
      ]
     },
     "execution_count": 6,
     "metadata": {},
     "output_type": "execute_result"
    },
    {
     "name": "stdout",
     "output_type": "stream",
     "text": [
      "time: 562 ms\n"
     ]
    }
   ],
   "source": [
    "# compare orig / after remove_str\n",
    "for col in df.columns:\n",
    "    df[col+'_remove_str'] = pak.remove_str( df[col], ['YO', 'UFF', 'HI'])\n",
    "df"
   ]
  },
  {
   "cell_type": "markdown",
   "metadata": {},
   "source": [
    "## remove_words()"
   ]
  },
  {
   "cell_type": "code",
   "execution_count": 16,
   "metadata": {},
   "outputs": [
    {
     "name": "stdout",
     "output_type": "stream",
     "text": [
      "time: 340 ms\n"
     ]
    },
    {
     "data": {
      "text/plain": [
       "\u001b[1;31mSignature:\u001b[0m \u001b[0mpak\u001b[0m\u001b[1;33m.\u001b[0m\u001b[0mremove_words\u001b[0m\u001b[1;33m(\u001b[0m\u001b[0mseries\u001b[0m\u001b[1;33m,\u001b[0m \u001b[0mremove_list\u001b[0m\u001b[1;33m)\u001b[0m\u001b[1;33m\u001b[0m\u001b[1;33m\u001b[0m\u001b[0m\n",
       "\u001b[1;31mDocstring:\u001b[0m\n",
       "Removes a list of unwanted words from a Series of strings.\n",
       "Works by regular expression, so special characters such as asterisks must be backslashed.  \n",
       "\u001b[1;31mFile:\u001b[0m      d:\\dropbox\\31_projekte\\01_python\\git\\pandasklar\\src\\pandasklar\\string.py\n",
       "\u001b[1;31mType:\u001b[0m      function\n"
      ]
     },
     "metadata": {},
     "output_type": "display_data"
    }
   ],
   "source": [
    "?pak.remove_words"
   ]
  },
  {
   "cell_type": "code",
   "execution_count": 8,
   "metadata": {},
   "outputs": [
    {
     "data": {
      "text/html": [
       "<div>\n",
       "<style scoped>\n",
       "    .dataframe tbody tr th:only-of-type {\n",
       "        vertical-align: middle;\n",
       "    }\n",
       "\n",
       "    .dataframe tbody tr th {\n",
       "        vertical-align: top;\n",
       "    }\n",
       "\n",
       "    .dataframe thead th {\n",
       "        text-align: right;\n",
       "    }\n",
       "</style>\n",
       "<table border=\"1\" class=\"dataframe\">\n",
       "  <thead>\n",
       "    <tr style=\"text-align: right;\">\n",
       "      <th></th>\n",
       "      <th>nosep</th>\n",
       "      <th>space</th>\n",
       "      <th>comma</th>\n",
       "    </tr>\n",
       "  </thead>\n",
       "  <tbody>\n",
       "    <tr>\n",
       "      <th>0</th>\n",
       "      <td>YOefbbbabfffYOgfadbgcaccYO</td>\n",
       "      <td>YO efbbbabfff YO gfadbgcacc YO</td>\n",
       "      <td>,YO,efbbbabfff,YO,gfadbgcacc,YO</td>\n",
       "    </tr>\n",
       "    <tr>\n",
       "      <th>1</th>\n",
       "      <td>UFFggaecgcgdfUFFdfcbacebacUFF</td>\n",
       "      <td>UFF ggaecgcgdf UFF dfcbacebac UFF</td>\n",
       "      <td>,UFF,ggaecgcgdf,UFF,dfcbacebac,UFF</td>\n",
       "    </tr>\n",
       "    <tr>\n",
       "      <th>2</th>\n",
       "      <td>HIgdcgcfaefbHIebdfcdabfdHI</td>\n",
       "      <td>HI gdcgcfaefb HI ebdfcdabfd HI</td>\n",
       "      <td>,HI,gdcgcfaefb,HI,ebdfcdabfd,HI</td>\n",
       "    </tr>\n",
       "  </tbody>\n",
       "</table>\n",
       "</div>"
      ],
      "text/plain": [
       "                           nosep                               space  \\\n",
       "0     YOefbbbabfffYOgfadbgcaccYO      YO efbbbabfff YO gfadbgcacc YO   \n",
       "1  UFFggaecgcgdfUFFdfcbacebacUFF   UFF ggaecgcgdf UFF dfcbacebac UFF   \n",
       "2     HIgdcgcfaefbHIebdfcdabfdHI      HI gdcgcfaefb HI ebdfcdabfd HI   \n",
       "\n",
       "                                comma  \n",
       "0     ,YO,efbbbabfff,YO,gfadbgcacc,YO  \n",
       "1  ,UFF,ggaecgcgdf,UFF,dfcbacebac,UFF  \n",
       "2     ,HI,gdcgcfaefb,HI,ebdfcdabfd,HI  "
      ]
     },
     "execution_count": 8,
     "metadata": {},
     "output_type": "execute_result"
    },
    {
     "name": "stdout",
     "output_type": "stream",
     "text": [
      "time: 382 ms\n"
     ]
    }
   ],
   "source": [
    "# Test data\n",
    "df = df_test.copy()\n",
    "df.head(3)"
   ]
  },
  {
   "cell_type": "code",
   "execution_count": 9,
   "metadata": {},
   "outputs": [
    {
     "data": {
      "text/html": [
       "<div>\n",
       "<style scoped>\n",
       "    .dataframe tbody tr th:only-of-type {\n",
       "        vertical-align: middle;\n",
       "    }\n",
       "\n",
       "    .dataframe tbody tr th {\n",
       "        vertical-align: top;\n",
       "    }\n",
       "\n",
       "    .dataframe thead th {\n",
       "        text-align: right;\n",
       "    }\n",
       "</style>\n",
       "<table border=\"1\" class=\"dataframe\">\n",
       "  <thead>\n",
       "    <tr style=\"text-align: right;\">\n",
       "      <th></th>\n",
       "      <th>comma</th>\n",
       "      <th>comma_str</th>\n",
       "      <th>comma_words</th>\n",
       "      <th>nosep</th>\n",
       "      <th>nosep_str</th>\n",
       "      <th>nosep_words</th>\n",
       "      <th>space</th>\n",
       "      <th>space_str</th>\n",
       "      <th>space_words</th>\n",
       "    </tr>\n",
       "  </thead>\n",
       "  <tbody>\n",
       "    <tr>\n",
       "      <th>0</th>\n",
       "      <td>,YO,efbbbabfff,YO,gfadbgcacc,YO</td>\n",
       "      <td>,,efbbbabfff,,gfadbgcacc,</td>\n",
       "      <td>,,efbbbabfff,,gfadbgcacc,</td>\n",
       "      <td>YOefbbbabfffYOgfadbgcaccYO</td>\n",
       "      <td>efbbbabfffgfadbgcacc</td>\n",
       "      <td>YOefbbbabfffYOgfadbgcaccYO</td>\n",
       "      <td>YO efbbbabfff YO gfadbgcacc YO</td>\n",
       "      <td>efbbbabfff  gfadbgcacc</td>\n",
       "      <td>efbbbabfff  gfadbgcacc</td>\n",
       "    </tr>\n",
       "    <tr>\n",
       "      <th>1</th>\n",
       "      <td>,UFF,ggaecgcgdf,UFF,dfcbacebac,UFF</td>\n",
       "      <td>,,ggaecgcgdf,,dfcbacebac,</td>\n",
       "      <td>,,ggaecgcgdf,,dfcbacebac,</td>\n",
       "      <td>UFFggaecgcgdfUFFdfcbacebacUFF</td>\n",
       "      <td>ggaecgcgdfdfcbacebac</td>\n",
       "      <td>UFFggaecgcgdfUFFdfcbacebacUFF</td>\n",
       "      <td>UFF ggaecgcgdf UFF dfcbacebac UFF</td>\n",
       "      <td>ggaecgcgdf  dfcbacebac</td>\n",
       "      <td>ggaecgcgdf  dfcbacebac</td>\n",
       "    </tr>\n",
       "    <tr>\n",
       "      <th>2</th>\n",
       "      <td>,HI,gdcgcfaefb,HI,ebdfcdabfd,HI</td>\n",
       "      <td>,,gdcgcfaefb,,ebdfcdabfd,</td>\n",
       "      <td>,,gdcgcfaefb,,ebdfcdabfd,</td>\n",
       "      <td>HIgdcgcfaefbHIebdfcdabfdHI</td>\n",
       "      <td>gdcgcfaefbebdfcdabfd</td>\n",
       "      <td>HIgdcgcfaefbHIebdfcdabfdHI</td>\n",
       "      <td>HI gdcgcfaefb HI ebdfcdabfd HI</td>\n",
       "      <td>gdcgcfaefb  ebdfcdabfd</td>\n",
       "      <td>gdcgcfaefb  ebdfcdabfd</td>\n",
       "    </tr>\n",
       "    <tr>\n",
       "      <th>3</th>\n",
       "      <td>,UFF,abgcadgaef,UFF,cfdddfddgb,UFF</td>\n",
       "      <td>,,abgcadgaef,,cfdddfddgb,</td>\n",
       "      <td>,,abgcadgaef,,cfdddfddgb,</td>\n",
       "      <td>UFFabgcadgaefUFFcfdddfddgbUFF</td>\n",
       "      <td>abgcadgaefcfdddfddgb</td>\n",
       "      <td>UFFabgcadgaefUFFcfdddfddgbUFF</td>\n",
       "      <td>UFF abgcadgaef UFF cfdddfddgb UFF</td>\n",
       "      <td>abgcadgaef  cfdddfddgb</td>\n",
       "      <td>abgcadgaef  cfdddfddgb</td>\n",
       "    </tr>\n",
       "    <tr>\n",
       "      <th>4</th>\n",
       "      <td>,UFF,abdfcbfcga,UFF,ceeefdgedb,UFF</td>\n",
       "      <td>,,abdfcbfcga,,ceeefdgedb,</td>\n",
       "      <td>,,abdfcbfcga,,ceeefdgedb,</td>\n",
       "      <td>UFFabdfcbfcgaUFFceeefdgedbUFF</td>\n",
       "      <td>abdfcbfcgaceeefdgedb</td>\n",
       "      <td>UFFabdfcbfcgaUFFceeefdgedbUFF</td>\n",
       "      <td>UFF abdfcbfcga UFF ceeefdgedb UFF</td>\n",
       "      <td>abdfcbfcga  ceeefdgedb</td>\n",
       "      <td>abdfcbfcga  ceeefdgedb</td>\n",
       "    </tr>\n",
       "  </tbody>\n",
       "</table>\n",
       "</div>"
      ],
      "text/plain": [
       "                                comma                  comma_str  \\\n",
       "0     ,YO,efbbbabfff,YO,gfadbgcacc,YO  ,,efbbbabfff,,gfadbgcacc,   \n",
       "1  ,UFF,ggaecgcgdf,UFF,dfcbacebac,UFF  ,,ggaecgcgdf,,dfcbacebac,   \n",
       "2     ,HI,gdcgcfaefb,HI,ebdfcdabfd,HI  ,,gdcgcfaefb,,ebdfcdabfd,   \n",
       "3  ,UFF,abgcadgaef,UFF,cfdddfddgb,UFF  ,,abgcadgaef,,cfdddfddgb,   \n",
       "4  ,UFF,abdfcbfcga,UFF,ceeefdgedb,UFF  ,,abdfcbfcga,,ceeefdgedb,   \n",
       "\n",
       "                 comma_words                          nosep  \\\n",
       "0  ,,efbbbabfff,,gfadbgcacc,     YOefbbbabfffYOgfadbgcaccYO   \n",
       "1  ,,ggaecgcgdf,,dfcbacebac,  UFFggaecgcgdfUFFdfcbacebacUFF   \n",
       "2  ,,gdcgcfaefb,,ebdfcdabfd,     HIgdcgcfaefbHIebdfcdabfdHI   \n",
       "3  ,,abgcadgaef,,cfdddfddgb,  UFFabgcadgaefUFFcfdddfddgbUFF   \n",
       "4  ,,abdfcbfcga,,ceeefdgedb,  UFFabdfcbfcgaUFFceeefdgedbUFF   \n",
       "\n",
       "              nosep_str                    nosep_words  \\\n",
       "0  efbbbabfffgfadbgcacc     YOefbbbabfffYOgfadbgcaccYO   \n",
       "1  ggaecgcgdfdfcbacebac  UFFggaecgcgdfUFFdfcbacebacUFF   \n",
       "2  gdcgcfaefbebdfcdabfd     HIgdcgcfaefbHIebdfcdabfdHI   \n",
       "3  abgcadgaefcfdddfddgb  UFFabgcadgaefUFFcfdddfddgbUFF   \n",
       "4  abdfcbfcgaceeefdgedb  UFFabdfcbfcgaUFFceeefdgedbUFF   \n",
       "\n",
       "                                space               space_str  \\\n",
       "0      YO efbbbabfff YO gfadbgcacc YO  efbbbabfff  gfadbgcacc   \n",
       "1   UFF ggaecgcgdf UFF dfcbacebac UFF  ggaecgcgdf  dfcbacebac   \n",
       "2      HI gdcgcfaefb HI ebdfcdabfd HI  gdcgcfaefb  ebdfcdabfd   \n",
       "3   UFF abgcadgaef UFF cfdddfddgb UFF  abgcadgaef  cfdddfddgb   \n",
       "4   UFF abdfcbfcga UFF ceeefdgedb UFF  abdfcbfcga  ceeefdgedb   \n",
       "\n",
       "              space_words  \n",
       "0  efbbbabfff  gfadbgcacc  \n",
       "1  ggaecgcgdf  dfcbacebac  \n",
       "2  gdcgcfaefb  ebdfcdabfd  \n",
       "3  abgcadgaef  cfdddfddgb  \n",
       "4  abdfcbfcga  ceeefdgedb  "
      ]
     },
     "execution_count": 9,
     "metadata": {},
     "output_type": "execute_result"
    },
    {
     "name": "stdout",
     "output_type": "stream",
     "text": [
      "time: 2.01 s\n"
     ]
    }
   ],
   "source": [
    "# compare orig / after remove_str / after remove_words\n",
    "for col in df.columns:\n",
    "    df[col+'_str'] =   pak.remove_str(   df[col], ['YO', 'UFF', 'HI'])\n",
    "    df[col+'_words'] = pak.remove_words( df[col], ['YO', 'UFF', 'HI'])\n",
    "\n",
    "pak.move_cols(df).head()"
   ]
  },
  {
   "cell_type": "markdown",
   "metadata": {},
   "source": [
    "## replace_str()"
   ]
  },
  {
   "cell_type": "code",
   "execution_count": 10,
   "metadata": {},
   "outputs": [
    {
     "name": "stdout",
     "output_type": "stream",
     "text": [
      "time: 382 ms\n"
     ]
    },
    {
     "data": {
      "text/plain": [
       "\u001b[1;31mSignature:\u001b[0m \u001b[0mpak\u001b[0m\u001b[1;33m.\u001b[0m\u001b[0mreplace_str\u001b[0m\u001b[1;33m(\u001b[0m\u001b[0mseries\u001b[0m\u001b[1;33m,\u001b[0m \u001b[0mreplace_dict\u001b[0m\u001b[1;33m)\u001b[0m\u001b[1;33m\u001b[0m\u001b[1;33m\u001b[0m\u001b[0m\n",
       "\u001b[1;31mDocstring:\u001b[0m\n",
       "Replaces characters and words from a series.\n",
       "* replace_dict: Example {'President Trump':'Trump', 'HELLO':'Hello'}\n",
       "\u001b[1;31mFile:\u001b[0m      d:\\dropbox\\31_projekte\\01_python\\git\\pandasklar\\src\\pandasklar\\string.py\n",
       "\u001b[1;31mType:\u001b[0m      function\n"
      ]
     },
     "metadata": {},
     "output_type": "display_data"
    }
   ],
   "source": [
    "?pak.replace_str"
   ]
  },
  {
   "cell_type": "code",
   "execution_count": 11,
   "metadata": {},
   "outputs": [
    {
     "data": {
      "text/html": [
       "<div>\n",
       "<style scoped>\n",
       "    .dataframe tbody tr th:only-of-type {\n",
       "        vertical-align: middle;\n",
       "    }\n",
       "\n",
       "    .dataframe tbody tr th {\n",
       "        vertical-align: top;\n",
       "    }\n",
       "\n",
       "    .dataframe thead th {\n",
       "        text-align: right;\n",
       "    }\n",
       "</style>\n",
       "<table border=\"1\" class=\"dataframe\">\n",
       "  <thead>\n",
       "    <tr style=\"text-align: right;\">\n",
       "      <th></th>\n",
       "      <th>nosep</th>\n",
       "    </tr>\n",
       "  </thead>\n",
       "  <tbody>\n",
       "    <tr>\n",
       "      <th>0</th>\n",
       "      <td>YOefbbbabfffYOgfadbgcaccYO</td>\n",
       "    </tr>\n",
       "    <tr>\n",
       "      <th>1</th>\n",
       "      <td>UFFggaecgcgdfUFFdfcbacebacUFF</td>\n",
       "    </tr>\n",
       "    <tr>\n",
       "      <th>2</th>\n",
       "      <td>HIgdcgcfaefbHIebdfcdabfdHI</td>\n",
       "    </tr>\n",
       "  </tbody>\n",
       "</table>\n",
       "</div>"
      ],
      "text/plain": [
       "                           nosep\n",
       "0     YOefbbbabfffYOgfadbgcaccYO\n",
       "1  UFFggaecgcgdfUFFdfcbacebacUFF\n",
       "2     HIgdcgcfaefbHIebdfcdabfdHI"
      ]
     },
     "execution_count": 11,
     "metadata": {},
     "output_type": "execute_result"
    },
    {
     "name": "stdout",
     "output_type": "stream",
     "text": [
      "time: 346 ms\n"
     ]
    }
   ],
   "source": [
    "# Test data\n",
    "cols = ['nosep']\n",
    "df = df_test[cols].copy()\n",
    "df.head(3)"
   ]
  },
  {
   "cell_type": "code",
   "execution_count": 12,
   "metadata": {},
   "outputs": [
    {
     "name": "stdout",
     "output_type": "stream",
     "text": [
      "CPU times: total: 141 ms\n",
      "Wall time: 144 ms\n",
      "time: 480 ms\n"
     ]
    }
   ],
   "source": [
    "%%time\n",
    "# replace\n",
    "r = {'YO':'JI','UFF':'OLL', 'HI':'KO'}\n",
    "df['replaced'] = pak.replace_str( df.nosep, r) "
   ]
  },
  {
   "cell_type": "code",
   "execution_count": 13,
   "metadata": {},
   "outputs": [
    {
     "data": {
      "text/html": [
       "<div>\n",
       "<style scoped>\n",
       "    .dataframe tbody tr th:only-of-type {\n",
       "        vertical-align: middle;\n",
       "    }\n",
       "\n",
       "    .dataframe tbody tr th {\n",
       "        vertical-align: top;\n",
       "    }\n",
       "\n",
       "    .dataframe thead th {\n",
       "        text-align: right;\n",
       "    }\n",
       "</style>\n",
       "<table border=\"1\" class=\"dataframe\">\n",
       "  <thead>\n",
       "    <tr style=\"text-align: right;\">\n",
       "      <th></th>\n",
       "      <th>nosep</th>\n",
       "      <th>replaced</th>\n",
       "    </tr>\n",
       "  </thead>\n",
       "  <tbody>\n",
       "    <tr>\n",
       "      <th>0</th>\n",
       "      <td>YOefbbbabfffYOgfadbgcaccYO</td>\n",
       "      <td>JIefbbbabfffJIgfadbgcaccJI</td>\n",
       "    </tr>\n",
       "    <tr>\n",
       "      <th>1</th>\n",
       "      <td>UFFggaecgcgdfUFFdfcbacebacUFF</td>\n",
       "      <td>OLLggaecgcgdfOLLdfcbacebacOLL</td>\n",
       "    </tr>\n",
       "    <tr>\n",
       "      <th>2</th>\n",
       "      <td>HIgdcgcfaefbHIebdfcdabfdHI</td>\n",
       "      <td>KOgdcgcfaefbKOebdfcdabfdKO</td>\n",
       "    </tr>\n",
       "    <tr>\n",
       "      <th>3</th>\n",
       "      <td>UFFabgcadgaefUFFcfdddfddgbUFF</td>\n",
       "      <td>OLLabgcadgaefOLLcfdddfddgbOLL</td>\n",
       "    </tr>\n",
       "    <tr>\n",
       "      <th>4</th>\n",
       "      <td>UFFabdfcbfcgaUFFceeefdgedbUFF</td>\n",
       "      <td>OLLabdfcbfcgaOLLceeefdgedbOLL</td>\n",
       "    </tr>\n",
       "  </tbody>\n",
       "</table>\n",
       "</div>"
      ],
      "text/plain": [
       "                           nosep                       replaced\n",
       "0     YOefbbbabfffYOgfadbgcaccYO     JIefbbbabfffJIgfadbgcaccJI\n",
       "1  UFFggaecgcgdfUFFdfcbacebacUFF  OLLggaecgcgdfOLLdfcbacebacOLL\n",
       "2     HIgdcgcfaefbHIebdfcdabfdHI     KOgdcgcfaefbKOebdfcdabfdKO\n",
       "3  UFFabgcadgaefUFFcfdddfddgbUFF  OLLabgcadgaefOLLcfdddfddgbOLL\n",
       "4  UFFabdfcbfcgaUFFceeefdgedbUFF  OLLabdfcbfcgaOLLceeefdgedbOLL"
      ]
     },
     "execution_count": 13,
     "metadata": {},
     "output_type": "execute_result"
    },
    {
     "name": "stdout",
     "output_type": "stream",
     "text": [
      "time: 365 ms\n"
     ]
    }
   ],
   "source": [
    "# examine result\n",
    "mask = (df.nosep != df.replaced)\n",
    "#pak.check_mask(df,mask)\n",
    "df[mask].head()"
   ]
  },
  {
   "cell_type": "code",
   "execution_count": 14,
   "metadata": {},
   "outputs": [
    {
     "name": "stdout",
     "output_type": "stream",
     "text": [
      "time: 374 ms\n"
     ]
    }
   ],
   "source": [
    "# examine result\n",
    "mask = df.replaced.str.contains('YO')\n",
    "pak.check_mask(df,mask,0)\n",
    "#df[mask]"
   ]
  }
 ],
 "metadata": {
  "kernelspec": {
   "display_name": "Python 3 (ipykernel)",
   "language": "python",
   "name": "python3"
  },
  "language_info": {
   "codemirror_mode": {
    "name": "ipython",
    "version": 3
   },
   "file_extension": ".py",
   "mimetype": "text/x-python",
   "name": "python",
   "nbconvert_exporter": "python",
   "pygments_lexer": "ipython3",
   "version": "3.9.13"
  }
 },
 "nbformat": 4,
 "nbformat_minor": 4
}
