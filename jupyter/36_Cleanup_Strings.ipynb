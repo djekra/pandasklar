{
 "cells": [
  {
   "cell_type": "markdown",
   "metadata": {},
   "source": [
    "__[Open and try this file online (Colab)](https://colab.research.google.com/github/djekra/pandasklar/blob/master/jupyter/36_Cleanup_Strings.ipynb)__"
   ]
  },
  {
   "cell_type": "markdown",
   "metadata": {},
   "source": [
    "# Cleanup Strings\n",
    "* `remove_str`: Removes a list of unwanted substrings from a Series of strings.\n",
    "* `remove_words`: Removes a list of unwanted words from a Series of strings.\n",
    "* `replace_str`: Replaces substrings from a Series of strings according to a dict.\n",
    "* `preprocess_str`: Multiple methods for simplification and cleaning"
   ]
  },
  {
   "cell_type": "code",
   "execution_count": 3,
   "metadata": {
    "execution": {
     "iopub.execute_input": "2023-07-07T14:12:24.785803Z",
     "iopub.status.busy": "2023-07-07T14:12:24.785419Z",
     "iopub.status.idle": "2023-07-07T14:12:25.765318Z",
     "shell.execute_reply": "2023-07-07T14:12:25.764559Z",
     "shell.execute_reply.started": "2023-07-07T14:12:24.785767Z"
    }
   },
   "outputs": [
    {
     "name": "stdout",
     "output_type": "stream",
     "text": [
      "blab init\n",
      "environment['in_colab']     = False\n",
      "environment['dropbox_path'] = /home/me/Data_Linux/Dropbox\n",
      "environment['lib_path']     = /home/me/Data_Linux/Dropbox/31_Projekte/01_Python/libs\n",
      "Start Time: 16:12:25\n"
     ]
    },
    {
     "data": {
      "text/html": [
       "<img src onerror=\"var cell = this.closest('.jp-CodeCell');var editor = cell.querySelector('.jp-Editor');editor.style.background='Beige';this.parentNode.removeChild(this)\">"
      ],
      "text/plain": [
       "<IPython.core.display.HTML object>"
      ]
     },
     "metadata": {},
     "output_type": "display_data"
    }
   ],
   "source": [
    "# blab init\n",
    "try:\n",
    "    import blab\n",
    "except ImportError as e:\n",
    "    !pip install blab\n",
    "    import blab    \n",
    "startup_notebook = blab.blab_startup()\n",
    "%run $startup_notebook "
   ]
  },
  {
   "cell_type": "code",
   "execution_count": 4,
   "metadata": {
    "execution": {
     "iopub.execute_input": "2023-07-07T14:12:25.770127Z",
     "iopub.status.busy": "2023-07-07T14:12:25.767254Z",
     "iopub.status.idle": "2023-07-07T14:12:27.720135Z",
     "shell.execute_reply": "2023-07-07T14:12:27.719446Z",
     "shell.execute_reply.started": "2023-07-07T14:12:25.770085Z"
    }
   },
   "outputs": [
    {
     "name": "stdout",
     "output_type": "stream",
     "text": [
      "VERBOSE = True\n",
      "--> setting verbose=True as default for all pandasklar functions\n",
      "\n"
     ]
    }
   ],
   "source": [
    "import pandas     as pd \n",
    "import bpyth      as bpy\n",
    "\n",
    "# pandasklar\n",
    "try:\n",
    "    import pandasklar as pak \n",
    "except ImportError as e:\n",
    "    !pip install pandasklar\n",
    "    import pandasklar as pak   \n",
    "    \n",
    "# verbose\n",
    "pak.Config.set('VERBOSE', True)\n",
    "\n",
    "# copy_on_write\n",
    "pd.set_option(\"mode.copy_on_write\", True)"
   ]
  },
  {
   "cell_type": "code",
   "execution_count": 5,
   "metadata": {
    "execution": {
     "iopub.execute_input": "2023-07-07T14:12:27.721546Z",
     "iopub.status.busy": "2023-07-07T14:12:27.721036Z",
     "iopub.status.idle": "2023-07-07T14:12:42.913494Z",
     "shell.execute_reply": "2023-07-07T14:12:42.912742Z",
     "shell.execute_reply.started": "2023-07-07T14:12:27.721447Z"
    }
   },
   "outputs": [
    {
     "name": "stdout",
     "output_type": "stream",
     "text": [
      "Input rtype=('list', 'Series', 'str') shape=(3, 100000)\n",
      "rotated=True Output rtype=('DataFrame', 'Series') shape=(100000, 3)\n"
     ]
    },
    {
     "data": {
      "text/html": [
       "<div>\n",
       "<style scoped>\n",
       "    .dataframe tbody tr th:only-of-type {\n",
       "        vertical-align: middle;\n",
       "    }\n",
       "\n",
       "    .dataframe tbody tr th {\n",
       "        vertical-align: top;\n",
       "    }\n",
       "\n",
       "    .dataframe thead th {\n",
       "        text-align: right;\n",
       "    }\n",
       "</style>\n",
       "<table border=\"1\" class=\"dataframe\">\n",
       "  <thead>\n",
       "    <tr style=\"text-align: right;\">\n",
       "      <th></th>\n",
       "      <th>nosep</th>\n",
       "      <th>space</th>\n",
       "      <th>comma</th>\n",
       "    </tr>\n",
       "  </thead>\n",
       "  <tbody>\n",
       "    <tr>\n",
       "      <th>0</th>\n",
       "      <td>YOdbbafcefdfYOfaafgaababYO</td>\n",
       "      <td>YO dbbafcefdf YO faafgaabab YO</td>\n",
       "      <td>,YO,dbbafcefdf,YO,faafgaabab,YO</td>\n",
       "    </tr>\n",
       "    <tr>\n",
       "      <th>1</th>\n",
       "      <td>UFFcgaffcfcaeUFFbfefbeecfaUFF</td>\n",
       "      <td>UFF cgaffcfcae UFF bfefbeecfa UFF</td>\n",
       "      <td>,UFF,cgaffcfcae,UFF,bfefbeecfa,UFF</td>\n",
       "    </tr>\n",
       "    <tr>\n",
       "      <th>2</th>\n",
       "      <td>HIbggfdfdabgHIgbedagbbfcHI</td>\n",
       "      <td>HI bggfdfdabg HI gbedagbbfc HI</td>\n",
       "      <td>,HI,bggfdfdabg,HI,gbedagbbfc,HI</td>\n",
       "    </tr>\n",
       "    <tr>\n",
       "      <th>3</th>\n",
       "      <td>UFFcgdfbdaecfUFFebbdfacaffUFF</td>\n",
       "      <td>UFF cgdfbdaecf UFF ebbdfacaff UFF</td>\n",
       "      <td>,UFF,cgdfbdaecf,UFF,ebbdfacaff,UFF</td>\n",
       "    </tr>\n",
       "    <tr>\n",
       "      <th>4</th>\n",
       "      <td>HIcdcabcdaeeHIbacgbacgbcHI</td>\n",
       "      <td>HI cdcabcdaee HI bacgbacgbc HI</td>\n",
       "      <td>,HI,cdcabcdaee,HI,bacgbacgbc,HI</td>\n",
       "    </tr>\n",
       "    <tr>\n",
       "      <th>...</th>\n",
       "      <td>...</td>\n",
       "      <td>...</td>\n",
       "      <td>...</td>\n",
       "    </tr>\n",
       "    <tr>\n",
       "      <th>99995</th>\n",
       "      <td>YOaaeccdbbadYOedfgfgccbdYO</td>\n",
       "      <td>YO aaeccdbbad YO edfgfgccbd YO</td>\n",
       "      <td>,YO,aaeccdbbad,YO,edfgfgccbd,YO</td>\n",
       "    </tr>\n",
       "    <tr>\n",
       "      <th>99996</th>\n",
       "      <td>YOafddabddcgYObdebffddfcYO</td>\n",
       "      <td>YO afddabddcg YO bdebffddfc YO</td>\n",
       "      <td>,YO,afddabddcg,YO,bdebffddfc,YO</td>\n",
       "    </tr>\n",
       "    <tr>\n",
       "      <th>99997</th>\n",
       "      <td>HIdgbfcgggccHIabbcfaaegcHI</td>\n",
       "      <td>HI dgbfcgggcc HI abbcfaaegc HI</td>\n",
       "      <td>,HI,dgbfcgggcc,HI,abbcfaaegc,HI</td>\n",
       "    </tr>\n",
       "    <tr>\n",
       "      <th>99998</th>\n",
       "      <td>HIdgfcbfacffHIbeedccebbaHI</td>\n",
       "      <td>HI dgfcbfacff HI beedccebba HI</td>\n",
       "      <td>,HI,dgfcbfacff,HI,beedccebba,HI</td>\n",
       "    </tr>\n",
       "    <tr>\n",
       "      <th>99999</th>\n",
       "      <td>YOdefadffabcYObebgafbdfcYO</td>\n",
       "      <td>YO defadffabc YO bebgafbdfc YO</td>\n",
       "      <td>,YO,defadffabc,YO,bebgafbdfc,YO</td>\n",
       "    </tr>\n",
       "  </tbody>\n",
       "</table>\n",
       "<p>100000 rows × 3 columns</p>\n",
       "</div>"
      ],
      "text/plain": [
       "                               nosep                               space  \\\n",
       "0         YOdbbafcefdfYOfaafgaababYO      YO dbbafcefdf YO faafgaabab YO   \n",
       "1      UFFcgaffcfcaeUFFbfefbeecfaUFF   UFF cgaffcfcae UFF bfefbeecfa UFF   \n",
       "2         HIbggfdfdabgHIgbedagbbfcHI      HI bggfdfdabg HI gbedagbbfc HI   \n",
       "3      UFFcgdfbdaecfUFFebbdfacaffUFF   UFF cgdfbdaecf UFF ebbdfacaff UFF   \n",
       "4         HIcdcabcdaeeHIbacgbacgbcHI      HI cdcabcdaee HI bacgbacgbc HI   \n",
       "...                              ...                                 ...   \n",
       "99995     YOaaeccdbbadYOedfgfgccbdYO      YO aaeccdbbad YO edfgfgccbd YO   \n",
       "99996     YOafddabddcgYObdebffddfcYO      YO afddabddcg YO bdebffddfc YO   \n",
       "99997     HIdgbfcgggccHIabbcfaaegcHI      HI dgbfcgggcc HI abbcfaaegc HI   \n",
       "99998     HIdgfcbfacffHIbeedccebbaHI      HI dgfcbfacff HI beedccebba HI   \n",
       "99999     YOdefadffabcYObebgafbdfcYO      YO defadffabc YO bebgafbdfc YO   \n",
       "\n",
       "                                    comma  \n",
       "0         ,YO,dbbafcefdf,YO,faafgaabab,YO  \n",
       "1      ,UFF,cgaffcfcae,UFF,bfefbeecfa,UFF  \n",
       "2         ,HI,bggfdfdabg,HI,gbedagbbfc,HI  \n",
       "3      ,UFF,cgdfbdaecf,UFF,ebbdfacaff,UFF  \n",
       "4         ,HI,cdcabcdaee,HI,bacgbacgbc,HI  \n",
       "...                                   ...  \n",
       "99995     ,YO,aaeccdbbad,YO,edfgfgccbd,YO  \n",
       "99996     ,YO,afddabddcg,YO,bdebffddfc,YO  \n",
       "99997     ,HI,dgbfcgggcc,HI,abbcfaaegc,HI  \n",
       "99998     ,HI,dgfcbfacff,HI,beedccebba,HI  \n",
       "99999     ,YO,defadffabc,YO,bebgafbdfc,YO  \n",
       "\n",
       "[100000 rows x 3 columns]"
      ]
     },
     "execution_count": 5,
     "metadata": {},
     "output_type": "execute_result"
    }
   ],
   "source": [
    "# create test data to search in\n",
    "size = 100000\n",
    "a = pak.random_series( size, 'string', len_min=10, len_max=10,           p_dup=0.9)\n",
    "b = pak.random_series( size, 'choice', choice=['YO','UFF', 'HI'],        p_dup=0.9)\n",
    "c = pak.random_series( size, 'string', len_min=10, len_max=10,           p_dup=0.9)\n",
    "df_test = pak.dataframe([a,b,c])\n",
    "\n",
    "trenn = ''\n",
    "df_test['nosep'] =     trenn + df_test.B + trenn + df_test.A + trenn + df_test.B + trenn + df_test.C + trenn + df_test.B\n",
    "trenn = ' '\n",
    "df_test['space'] =  trenn + df_test.B + trenn + df_test.A + trenn + df_test.B + trenn + df_test.C + trenn + df_test.B\n",
    "trenn = ','\n",
    "df_test['comma'] =  trenn + df_test.B + trenn + df_test.A + trenn + df_test.B + trenn + df_test.C + trenn + df_test.B\n",
    "df_test = pak.drop_cols(df_test, list('ABC'))\n",
    "df_test"
   ]
  },
  {
   "cell_type": "code",
   "execution_count": 6,
   "metadata": {
    "execution": {
     "iopub.execute_input": "2023-07-07T14:12:42.915534Z",
     "iopub.status.busy": "2023-07-07T14:12:42.915104Z",
     "iopub.status.idle": "2023-07-07T14:12:42.942991Z",
     "shell.execute_reply": "2023-07-07T14:12:42.942013Z",
     "shell.execute_reply.started": "2023-07-07T14:12:42.915504Z"
    }
   },
   "outputs": [
    {
     "data": {
      "text/markdown": [
       "<h2>remove_str<span style=\"font-size:small;\">(series, remove_list, safemode=True)</span></h2>\n",
       "\n",
       "Removes a list of unwanted substrings from a Series of strings.\n",
       "* remove_list: list of substrings to remove\n",
       "* safemode:    Selects the algorithm.\n",
       "               safemode=True:  Each substring is removed separately\n",
       "               safemode=False: Works with one regular expression.\n",
       "                               Special characters such as asterisks must be backslashed.    "
      ],
      "text/plain": [
       "<IPython.core.display.Markdown object>"
      ]
     },
     "metadata": {},
     "output_type": "display_data"
    }
   ],
   "source": [
    "blab.help(pak.remove_str)"
   ]
  },
  {
   "cell_type": "code",
   "execution_count": 7,
   "metadata": {
    "execution": {
     "iopub.execute_input": "2023-07-07T14:12:42.944146Z",
     "iopub.status.busy": "2023-07-07T14:12:42.943813Z",
     "iopub.status.idle": "2023-07-07T14:12:42.988455Z",
     "shell.execute_reply": "2023-07-07T14:12:42.987645Z",
     "shell.execute_reply.started": "2023-07-07T14:12:42.944114Z"
    }
   },
   "outputs": [
    {
     "data": {
      "text/html": [
       "<div>\n",
       "<style scoped>\n",
       "    .dataframe tbody tr th:only-of-type {\n",
       "        vertical-align: middle;\n",
       "    }\n",
       "\n",
       "    .dataframe tbody tr th {\n",
       "        vertical-align: top;\n",
       "    }\n",
       "\n",
       "    .dataframe thead th {\n",
       "        text-align: right;\n",
       "    }\n",
       "</style>\n",
       "<table border=\"1\" class=\"dataframe\">\n",
       "  <thead>\n",
       "    <tr style=\"text-align: right;\">\n",
       "      <th></th>\n",
       "      <th>nosep</th>\n",
       "    </tr>\n",
       "  </thead>\n",
       "  <tbody>\n",
       "    <tr>\n",
       "      <th>0</th>\n",
       "      <td>YOdbbafcefdfYOfaafgaababYO</td>\n",
       "    </tr>\n",
       "    <tr>\n",
       "      <th>1</th>\n",
       "      <td>UFFcgaffcfcaeUFFbfefbeecfaUFF</td>\n",
       "    </tr>\n",
       "    <tr>\n",
       "      <th>2</th>\n",
       "      <td>HIbggfdfdabgHIgbedagbbfcHI</td>\n",
       "    </tr>\n",
       "  </tbody>\n",
       "</table>\n",
       "</div>"
      ],
      "text/plain": [
       "                           nosep\n",
       "0     YOdbbafcefdfYOfaafgaababYO\n",
       "1  UFFcgaffcfcaeUFFbfefbeecfaUFF\n",
       "2     HIbggfdfdabgHIgbedagbbfcHI"
      ]
     },
     "execution_count": 7,
     "metadata": {},
     "output_type": "execute_result"
    }
   ],
   "source": [
    "# Test data\n",
    "cols = ['nosep']\n",
    "df = df_test[cols].copy()\n",
    "df.head(3)"
   ]
  },
  {
   "cell_type": "code",
   "execution_count": 8,
   "metadata": {
    "execution": {
     "iopub.execute_input": "2023-07-07T14:12:42.989411Z",
     "iopub.status.busy": "2023-07-07T14:12:42.989163Z",
     "iopub.status.idle": "2023-07-07T14:12:43.230793Z",
     "shell.execute_reply": "2023-07-07T14:12:43.229990Z",
     "shell.execute_reply.started": "2023-07-07T14:12:42.989388Z"
    }
   },
   "outputs": [
    {
     "data": {
      "text/html": [
       "<div>\n",
       "<style scoped>\n",
       "    .dataframe tbody tr th:only-of-type {\n",
       "        vertical-align: middle;\n",
       "    }\n",
       "\n",
       "    .dataframe tbody tr th {\n",
       "        vertical-align: top;\n",
       "    }\n",
       "\n",
       "    .dataframe thead th {\n",
       "        text-align: right;\n",
       "    }\n",
       "</style>\n",
       "<table border=\"1\" class=\"dataframe\">\n",
       "  <thead>\n",
       "    <tr style=\"text-align: right;\">\n",
       "      <th></th>\n",
       "      <th>nosep</th>\n",
       "      <th>nosep_remove_str</th>\n",
       "    </tr>\n",
       "  </thead>\n",
       "  <tbody>\n",
       "    <tr>\n",
       "      <th>0</th>\n",
       "      <td>YOdbbafcefdfYOfaafgaababYO</td>\n",
       "      <td>dbbafcefdffaafgaabab</td>\n",
       "    </tr>\n",
       "    <tr>\n",
       "      <th>1</th>\n",
       "      <td>UFFcgaffcfcaeUFFbfefbeecfaUFF</td>\n",
       "      <td>cgaffcfcaebfefbeecfa</td>\n",
       "    </tr>\n",
       "    <tr>\n",
       "      <th>2</th>\n",
       "      <td>HIbggfdfdabgHIgbedagbbfcHI</td>\n",
       "      <td>bggfdfdabggbedagbbfc</td>\n",
       "    </tr>\n",
       "    <tr>\n",
       "      <th>3</th>\n",
       "      <td>UFFcgdfbdaecfUFFebbdfacaffUFF</td>\n",
       "      <td>cgdfbdaecfebbdfacaff</td>\n",
       "    </tr>\n",
       "    <tr>\n",
       "      <th>4</th>\n",
       "      <td>HIcdcabcdaeeHIbacgbacgbcHI</td>\n",
       "      <td>cdcabcdaeebacgbacgbc</td>\n",
       "    </tr>\n",
       "    <tr>\n",
       "      <th>...</th>\n",
       "      <td>...</td>\n",
       "      <td>...</td>\n",
       "    </tr>\n",
       "    <tr>\n",
       "      <th>99995</th>\n",
       "      <td>YOaaeccdbbadYOedfgfgccbdYO</td>\n",
       "      <td>aaeccdbbadedfgfgccbd</td>\n",
       "    </tr>\n",
       "    <tr>\n",
       "      <th>99996</th>\n",
       "      <td>YOafddabddcgYObdebffddfcYO</td>\n",
       "      <td>afddabddcgbdebffddfc</td>\n",
       "    </tr>\n",
       "    <tr>\n",
       "      <th>99997</th>\n",
       "      <td>HIdgbfcgggccHIabbcfaaegcHI</td>\n",
       "      <td>dgbfcgggccabbcfaaegc</td>\n",
       "    </tr>\n",
       "    <tr>\n",
       "      <th>99998</th>\n",
       "      <td>HIdgfcbfacffHIbeedccebbaHI</td>\n",
       "      <td>dgfcbfacffbeedccebba</td>\n",
       "    </tr>\n",
       "    <tr>\n",
       "      <th>99999</th>\n",
       "      <td>YOdefadffabcYObebgafbdfcYO</td>\n",
       "      <td>defadffabcbebgafbdfc</td>\n",
       "    </tr>\n",
       "  </tbody>\n",
       "</table>\n",
       "<p>100000 rows × 2 columns</p>\n",
       "</div>"
      ],
      "text/plain": [
       "                               nosep      nosep_remove_str\n",
       "0         YOdbbafcefdfYOfaafgaababYO  dbbafcefdffaafgaabab\n",
       "1      UFFcgaffcfcaeUFFbfefbeecfaUFF  cgaffcfcaebfefbeecfa\n",
       "2         HIbggfdfdabgHIgbedagbbfcHI  bggfdfdabggbedagbbfc\n",
       "3      UFFcgdfbdaecfUFFebbdfacaffUFF  cgdfbdaecfebbdfacaff\n",
       "4         HIcdcabcdaeeHIbacgbacgbcHI  cdcabcdaeebacgbacgbc\n",
       "...                              ...                   ...\n",
       "99995     YOaaeccdbbadYOedfgfgccbdYO  aaeccdbbadedfgfgccbd\n",
       "99996     YOafddabddcgYObdebffddfcYO  afddabddcgbdebffddfc\n",
       "99997     HIdgbfcgggccHIabbcfaaegcHI  dgbfcgggccabbcfaaegc\n",
       "99998     HIdgfcbfacffHIbeedccebbaHI  dgfcbfacffbeedccebba\n",
       "99999     YOdefadffabcYObebgafbdfcYO  defadffabcbebgafbdfc\n",
       "\n",
       "[100000 rows x 2 columns]"
      ]
     },
     "execution_count": 8,
     "metadata": {},
     "output_type": "execute_result"
    }
   ],
   "source": [
    "# compare orig / after remove_str\n",
    "for col in df.columns:\n",
    "    df[col+'_remove_str'] = pak.remove_str( df[col], ['YO', 'UFF', 'HI'])\n",
    "df"
   ]
  },
  {
   "cell_type": "code",
   "execution_count": 17,
   "metadata": {
    "execution": {
     "iopub.execute_input": "2023-07-07T14:13:04.944626Z",
     "iopub.status.busy": "2023-07-07T14:13:04.942680Z",
     "iopub.status.idle": "2023-07-07T14:13:04.997103Z",
     "shell.execute_reply": "2023-07-07T14:13:04.996228Z",
     "shell.execute_reply.started": "2023-07-07T14:13:04.944568Z"
    }
   },
   "outputs": [
    {
     "data": {
      "text/markdown": [
       "<h2>remove_words<span style=\"font-size:small;\">(series, remove_list)</span></h2>\n",
       "\n",
       "Removes a list of unwanted words from a Series of strings.\n",
       "Works by regular expression, so special characters such as asterisks must be backslashed.  "
      ],
      "text/plain": [
       "<IPython.core.display.Markdown object>"
      ]
     },
     "metadata": {},
     "output_type": "display_data"
    }
   ],
   "source": [
    "blab.help(pak.remove_words)"
   ]
  },
  {
   "cell_type": "code",
   "execution_count": 10,
   "metadata": {
    "execution": {
     "iopub.execute_input": "2023-07-07T14:12:43.282788Z",
     "iopub.status.busy": "2023-07-07T14:12:43.282489Z",
     "iopub.status.idle": "2023-07-07T14:12:43.367532Z",
     "shell.execute_reply": "2023-07-07T14:12:43.366722Z",
     "shell.execute_reply.started": "2023-07-07T14:12:43.282758Z"
    }
   },
   "outputs": [
    {
     "data": {
      "text/html": [
       "<div>\n",
       "<style scoped>\n",
       "    .dataframe tbody tr th:only-of-type {\n",
       "        vertical-align: middle;\n",
       "    }\n",
       "\n",
       "    .dataframe tbody tr th {\n",
       "        vertical-align: top;\n",
       "    }\n",
       "\n",
       "    .dataframe thead th {\n",
       "        text-align: right;\n",
       "    }\n",
       "</style>\n",
       "<table border=\"1\" class=\"dataframe\">\n",
       "  <thead>\n",
       "    <tr style=\"text-align: right;\">\n",
       "      <th></th>\n",
       "      <th>nosep</th>\n",
       "      <th>space</th>\n",
       "      <th>comma</th>\n",
       "    </tr>\n",
       "  </thead>\n",
       "  <tbody>\n",
       "    <tr>\n",
       "      <th>0</th>\n",
       "      <td>YOdbbafcefdfYOfaafgaababYO</td>\n",
       "      <td>YO dbbafcefdf YO faafgaabab YO</td>\n",
       "      <td>,YO,dbbafcefdf,YO,faafgaabab,YO</td>\n",
       "    </tr>\n",
       "    <tr>\n",
       "      <th>1</th>\n",
       "      <td>UFFcgaffcfcaeUFFbfefbeecfaUFF</td>\n",
       "      <td>UFF cgaffcfcae UFF bfefbeecfa UFF</td>\n",
       "      <td>,UFF,cgaffcfcae,UFF,bfefbeecfa,UFF</td>\n",
       "    </tr>\n",
       "    <tr>\n",
       "      <th>2</th>\n",
       "      <td>HIbggfdfdabgHIgbedagbbfcHI</td>\n",
       "      <td>HI bggfdfdabg HI gbedagbbfc HI</td>\n",
       "      <td>,HI,bggfdfdabg,HI,gbedagbbfc,HI</td>\n",
       "    </tr>\n",
       "  </tbody>\n",
       "</table>\n",
       "</div>"
      ],
      "text/plain": [
       "                           nosep                               space  \\\n",
       "0     YOdbbafcefdfYOfaafgaababYO      YO dbbafcefdf YO faafgaabab YO   \n",
       "1  UFFcgaffcfcaeUFFbfefbeecfaUFF   UFF cgaffcfcae UFF bfefbeecfa UFF   \n",
       "2     HIbggfdfdabgHIgbedagbbfcHI      HI bggfdfdabg HI gbedagbbfc HI   \n",
       "\n",
       "                                comma  \n",
       "0     ,YO,dbbafcefdf,YO,faafgaabab,YO  \n",
       "1  ,UFF,cgaffcfcae,UFF,bfefbeecfa,UFF  \n",
       "2     ,HI,bggfdfdabg,HI,gbedagbbfc,HI  "
      ]
     },
     "execution_count": 10,
     "metadata": {},
     "output_type": "execute_result"
    }
   ],
   "source": [
    "# Test data\n",
    "df = df_test.copy()\n",
    "df.head(3)"
   ]
  },
  {
   "cell_type": "code",
   "execution_count": 11,
   "metadata": {
    "execution": {
     "iopub.execute_input": "2023-07-07T14:12:43.373393Z",
     "iopub.status.busy": "2023-07-07T14:12:43.371129Z",
     "iopub.status.idle": "2023-07-07T14:12:44.601484Z",
     "shell.execute_reply": "2023-07-07T14:12:44.600626Z",
     "shell.execute_reply.started": "2023-07-07T14:12:43.373341Z"
    }
   },
   "outputs": [
    {
     "data": {
      "text/html": [
       "<div>\n",
       "<style scoped>\n",
       "    .dataframe tbody tr th:only-of-type {\n",
       "        vertical-align: middle;\n",
       "    }\n",
       "\n",
       "    .dataframe tbody tr th {\n",
       "        vertical-align: top;\n",
       "    }\n",
       "\n",
       "    .dataframe thead th {\n",
       "        text-align: right;\n",
       "    }\n",
       "</style>\n",
       "<table border=\"1\" class=\"dataframe\">\n",
       "  <thead>\n",
       "    <tr style=\"text-align: right;\">\n",
       "      <th></th>\n",
       "      <th>comma</th>\n",
       "      <th>comma_str</th>\n",
       "      <th>comma_words</th>\n",
       "      <th>nosep</th>\n",
       "      <th>nosep_str</th>\n",
       "      <th>nosep_words</th>\n",
       "      <th>space</th>\n",
       "      <th>space_str</th>\n",
       "      <th>space_words</th>\n",
       "    </tr>\n",
       "  </thead>\n",
       "  <tbody>\n",
       "    <tr>\n",
       "      <th>0</th>\n",
       "      <td>,YO,dbbafcefdf,YO,faafgaabab,YO</td>\n",
       "      <td>,,dbbafcefdf,,faafgaabab,</td>\n",
       "      <td>,,dbbafcefdf,,faafgaabab,</td>\n",
       "      <td>YOdbbafcefdfYOfaafgaababYO</td>\n",
       "      <td>dbbafcefdffaafgaabab</td>\n",
       "      <td>YOdbbafcefdfYOfaafgaababYO</td>\n",
       "      <td>YO dbbafcefdf YO faafgaabab YO</td>\n",
       "      <td>dbbafcefdf  faafgaabab</td>\n",
       "      <td>dbbafcefdf  faafgaabab</td>\n",
       "    </tr>\n",
       "    <tr>\n",
       "      <th>1</th>\n",
       "      <td>,UFF,cgaffcfcae,UFF,bfefbeecfa,UFF</td>\n",
       "      <td>,,cgaffcfcae,,bfefbeecfa,</td>\n",
       "      <td>,,cgaffcfcae,,bfefbeecfa,</td>\n",
       "      <td>UFFcgaffcfcaeUFFbfefbeecfaUFF</td>\n",
       "      <td>cgaffcfcaebfefbeecfa</td>\n",
       "      <td>UFFcgaffcfcaeUFFbfefbeecfaUFF</td>\n",
       "      <td>UFF cgaffcfcae UFF bfefbeecfa UFF</td>\n",
       "      <td>cgaffcfcae  bfefbeecfa</td>\n",
       "      <td>cgaffcfcae  bfefbeecfa</td>\n",
       "    </tr>\n",
       "    <tr>\n",
       "      <th>2</th>\n",
       "      <td>,HI,bggfdfdabg,HI,gbedagbbfc,HI</td>\n",
       "      <td>,,bggfdfdabg,,gbedagbbfc,</td>\n",
       "      <td>,,bggfdfdabg,,gbedagbbfc,</td>\n",
       "      <td>HIbggfdfdabgHIgbedagbbfcHI</td>\n",
       "      <td>bggfdfdabggbedagbbfc</td>\n",
       "      <td>HIbggfdfdabgHIgbedagbbfcHI</td>\n",
       "      <td>HI bggfdfdabg HI gbedagbbfc HI</td>\n",
       "      <td>bggfdfdabg  gbedagbbfc</td>\n",
       "      <td>bggfdfdabg  gbedagbbfc</td>\n",
       "    </tr>\n",
       "    <tr>\n",
       "      <th>3</th>\n",
       "      <td>,UFF,cgdfbdaecf,UFF,ebbdfacaff,UFF</td>\n",
       "      <td>,,cgdfbdaecf,,ebbdfacaff,</td>\n",
       "      <td>,,cgdfbdaecf,,ebbdfacaff,</td>\n",
       "      <td>UFFcgdfbdaecfUFFebbdfacaffUFF</td>\n",
       "      <td>cgdfbdaecfebbdfacaff</td>\n",
       "      <td>UFFcgdfbdaecfUFFebbdfacaffUFF</td>\n",
       "      <td>UFF cgdfbdaecf UFF ebbdfacaff UFF</td>\n",
       "      <td>cgdfbdaecf  ebbdfacaff</td>\n",
       "      <td>cgdfbdaecf  ebbdfacaff</td>\n",
       "    </tr>\n",
       "    <tr>\n",
       "      <th>4</th>\n",
       "      <td>,HI,cdcabcdaee,HI,bacgbacgbc,HI</td>\n",
       "      <td>,,cdcabcdaee,,bacgbacgbc,</td>\n",
       "      <td>,,cdcabcdaee,,bacgbacgbc,</td>\n",
       "      <td>HIcdcabcdaeeHIbacgbacgbcHI</td>\n",
       "      <td>cdcabcdaeebacgbacgbc</td>\n",
       "      <td>HIcdcabcdaeeHIbacgbacgbcHI</td>\n",
       "      <td>HI cdcabcdaee HI bacgbacgbc HI</td>\n",
       "      <td>cdcabcdaee  bacgbacgbc</td>\n",
       "      <td>cdcabcdaee  bacgbacgbc</td>\n",
       "    </tr>\n",
       "  </tbody>\n",
       "</table>\n",
       "</div>"
      ],
      "text/plain": [
       "                                comma                  comma_str  \\\n",
       "0     ,YO,dbbafcefdf,YO,faafgaabab,YO  ,,dbbafcefdf,,faafgaabab,   \n",
       "1  ,UFF,cgaffcfcae,UFF,bfefbeecfa,UFF  ,,cgaffcfcae,,bfefbeecfa,   \n",
       "2     ,HI,bggfdfdabg,HI,gbedagbbfc,HI  ,,bggfdfdabg,,gbedagbbfc,   \n",
       "3  ,UFF,cgdfbdaecf,UFF,ebbdfacaff,UFF  ,,cgdfbdaecf,,ebbdfacaff,   \n",
       "4     ,HI,cdcabcdaee,HI,bacgbacgbc,HI  ,,cdcabcdaee,,bacgbacgbc,   \n",
       "\n",
       "                 comma_words                          nosep  \\\n",
       "0  ,,dbbafcefdf,,faafgaabab,     YOdbbafcefdfYOfaafgaababYO   \n",
       "1  ,,cgaffcfcae,,bfefbeecfa,  UFFcgaffcfcaeUFFbfefbeecfaUFF   \n",
       "2  ,,bggfdfdabg,,gbedagbbfc,     HIbggfdfdabgHIgbedagbbfcHI   \n",
       "3  ,,cgdfbdaecf,,ebbdfacaff,  UFFcgdfbdaecfUFFebbdfacaffUFF   \n",
       "4  ,,cdcabcdaee,,bacgbacgbc,     HIcdcabcdaeeHIbacgbacgbcHI   \n",
       "\n",
       "              nosep_str                    nosep_words  \\\n",
       "0  dbbafcefdffaafgaabab     YOdbbafcefdfYOfaafgaababYO   \n",
       "1  cgaffcfcaebfefbeecfa  UFFcgaffcfcaeUFFbfefbeecfaUFF   \n",
       "2  bggfdfdabggbedagbbfc     HIbggfdfdabgHIgbedagbbfcHI   \n",
       "3  cgdfbdaecfebbdfacaff  UFFcgdfbdaecfUFFebbdfacaffUFF   \n",
       "4  cdcabcdaeebacgbacgbc     HIcdcabcdaeeHIbacgbacgbcHI   \n",
       "\n",
       "                                space               space_str  \\\n",
       "0      YO dbbafcefdf YO faafgaabab YO  dbbafcefdf  faafgaabab   \n",
       "1   UFF cgaffcfcae UFF bfefbeecfa UFF  cgaffcfcae  bfefbeecfa   \n",
       "2      HI bggfdfdabg HI gbedagbbfc HI  bggfdfdabg  gbedagbbfc   \n",
       "3   UFF cgdfbdaecf UFF ebbdfacaff UFF  cgdfbdaecf  ebbdfacaff   \n",
       "4      HI cdcabcdaee HI bacgbacgbc HI  cdcabcdaee  bacgbacgbc   \n",
       "\n",
       "              space_words  \n",
       "0  dbbafcefdf  faafgaabab  \n",
       "1  cgaffcfcae  bfefbeecfa  \n",
       "2  bggfdfdabg  gbedagbbfc  \n",
       "3  cgdfbdaecf  ebbdfacaff  \n",
       "4  cdcabcdaee  bacgbacgbc  "
      ]
     },
     "execution_count": 11,
     "metadata": {},
     "output_type": "execute_result"
    }
   ],
   "source": [
    "# compare orig / after remove_str / after remove_words\n",
    "for col in df.columns:\n",
    "    df[col+'_str'] =   pak.remove_str(   df[col], ['YO', 'UFF', 'HI'])\n",
    "    df[col+'_words'] = pak.remove_words( df[col], ['YO', 'UFF', 'HI'])\n",
    "\n",
    "pak.move_cols(df).head()"
   ]
  },
  {
   "cell_type": "code",
   "execution_count": 18,
   "metadata": {
    "execution": {
     "iopub.execute_input": "2023-07-07T14:13:17.872117Z",
     "iopub.status.busy": "2023-07-07T14:13:17.871735Z",
     "iopub.status.idle": "2023-07-07T14:13:17.919751Z",
     "shell.execute_reply": "2023-07-07T14:13:17.917042Z",
     "shell.execute_reply.started": "2023-07-07T14:13:17.872083Z"
    }
   },
   "outputs": [
    {
     "data": {
      "text/markdown": [
       "<h2>replace_str<span style=\"font-size:small;\">(series, translationtable)</span></h2>\n",
       "\n",
       "Replaces substrings from a Series of strings according to a translationtable.\n",
       "* translationtable: Can be a dict, a list of tuples or a DataFrame with two columns.\n",
       "  Example: {'President Trump':'Trump',   'HELLO':'Hello'}\n",
       "  or      [('President Trump','Trump'), ('HELLO','Hello')]"
      ],
      "text/plain": [
       "<IPython.core.display.Markdown object>"
      ]
     },
     "metadata": {},
     "output_type": "display_data"
    }
   ],
   "source": [
    "blab.help(pak.replace_str)"
   ]
  },
  {
   "cell_type": "code",
   "execution_count": 13,
   "metadata": {
    "execution": {
     "iopub.execute_input": "2023-07-07T14:12:44.648760Z",
     "iopub.status.busy": "2023-07-07T14:12:44.647526Z",
     "iopub.status.idle": "2023-07-07T14:12:44.696922Z",
     "shell.execute_reply": "2023-07-07T14:12:44.695696Z",
     "shell.execute_reply.started": "2023-07-07T14:12:44.648676Z"
    }
   },
   "outputs": [
    {
     "name": "stdout",
     "output_type": "stream",
     "text": [
      "Input rtype=('list', 'tuple', 'str') shape=(2, 2)\n",
      "rotated=False Output rtype=('DataFrame', 'Series') shape=(2, 2)\n"
     ]
    },
    {
     "data": {
      "text/html": [
       "<div>\n",
       "<style scoped>\n",
       "    .dataframe tbody tr th:only-of-type {\n",
       "        vertical-align: middle;\n",
       "    }\n",
       "\n",
       "    .dataframe tbody tr th {\n",
       "        vertical-align: top;\n",
       "    }\n",
       "\n",
       "    .dataframe thead th {\n",
       "        text-align: right;\n",
       "    }\n",
       "</style>\n",
       "<table border=\"1\" class=\"dataframe\">\n",
       "  <thead>\n",
       "    <tr style=\"text-align: right;\">\n",
       "      <th></th>\n",
       "      <th>A</th>\n",
       "      <th>B</th>\n",
       "    </tr>\n",
       "  </thead>\n",
       "  <tbody>\n",
       "    <tr>\n",
       "      <th>0</th>\n",
       "      <td>The sun is bright</td>\n",
       "      <td>1</td>\n",
       "    </tr>\n",
       "    <tr>\n",
       "      <th>1</th>\n",
       "      <td>The night is dark</td>\n",
       "      <td>2</td>\n",
       "    </tr>\n",
       "  </tbody>\n",
       "</table>\n",
       "</div>"
      ],
      "text/plain": [
       "                   A  B\n",
       "0  The sun is bright  1\n",
       "1  The night is dark  2"
      ]
     },
     "execution_count": 13,
     "metadata": {},
     "output_type": "execute_result"
    }
   ],
   "source": [
    "df = pak.dataframe([ ('The sun is bright',1),\n",
    "                     ('The night is dark', 2) ])\n",
    "df"
   ]
  },
  {
   "cell_type": "code",
   "execution_count": 14,
   "metadata": {
    "execution": {
     "iopub.execute_input": "2023-07-07T14:12:44.698512Z",
     "iopub.status.busy": "2023-07-07T14:12:44.698036Z",
     "iopub.status.idle": "2023-07-07T14:12:44.737260Z",
     "shell.execute_reply": "2023-07-07T14:12:44.736512Z",
     "shell.execute_reply.started": "2023-07-07T14:12:44.698483Z"
    }
   },
   "outputs": [
    {
     "data": {
      "text/plain": [
       "{'The': 'THE', 'sun': 'SUN', 'dark': 'DARK'}"
      ]
     },
     "execution_count": 14,
     "metadata": {},
     "output_type": "execute_result"
    }
   ],
   "source": [
    "translate = {'The':'THE', 'sun':'SUN', 'dark':'DARK'}\n",
    "translate = [('The','THE'), ('sun','SUN'), ('dark','DARK')]\n",
    "dict(translate )"
   ]
  },
  {
   "cell_type": "code",
   "execution_count": 15,
   "metadata": {
    "execution": {
     "iopub.execute_input": "2023-07-07T14:12:44.738191Z",
     "iopub.status.busy": "2023-07-07T14:12:44.737935Z",
     "iopub.status.idle": "2023-07-07T14:12:44.798791Z",
     "shell.execute_reply": "2023-07-07T14:12:44.797868Z",
     "shell.execute_reply.started": "2023-07-07T14:12:44.738165Z"
    }
   },
   "outputs": [
    {
     "data": {
      "text/plain": [
       "0    THE SUN is bright\n",
       "1    THE night is DARK\n",
       "Name: A, dtype: object"
      ]
     },
     "execution_count": 15,
     "metadata": {},
     "output_type": "execute_result"
    }
   ],
   "source": [
    "pak.replace_str( df.A, translate)"
   ]
  },
  {
   "cell_type": "code",
   "execution_count": 16,
   "metadata": {
    "execution": {
     "iopub.execute_input": "2023-07-07T14:12:44.802169Z",
     "iopub.status.busy": "2023-07-07T14:12:44.801761Z",
     "iopub.status.idle": "2023-07-07T14:12:44.881914Z",
     "shell.execute_reply": "2023-07-07T14:12:44.873839Z",
     "shell.execute_reply.started": "2023-07-07T14:12:44.802137Z"
    }
   },
   "outputs": [
    {
     "data": {
      "text/html": [
       "<div>\n",
       "<style scoped>\n",
       "    .dataframe tbody tr th:only-of-type {\n",
       "        vertical-align: middle;\n",
       "    }\n",
       "\n",
       "    .dataframe tbody tr th {\n",
       "        vertical-align: top;\n",
       "    }\n",
       "\n",
       "    .dataframe thead th {\n",
       "        text-align: right;\n",
       "    }\n",
       "</style>\n",
       "<table border=\"1\" class=\"dataframe\">\n",
       "  <thead>\n",
       "    <tr style=\"text-align: right;\">\n",
       "      <th></th>\n",
       "      <th>A</th>\n",
       "      <th>B</th>\n",
       "    </tr>\n",
       "  </thead>\n",
       "  <tbody>\n",
       "    <tr>\n",
       "      <th>0</th>\n",
       "      <td>THE SUN is bright</td>\n",
       "      <td>1</td>\n",
       "    </tr>\n",
       "    <tr>\n",
       "      <th>1</th>\n",
       "      <td>THE night is DARK</td>\n",
       "      <td>2</td>\n",
       "    </tr>\n",
       "  </tbody>\n",
       "</table>\n",
       "</div>"
      ],
      "text/plain": [
       "                   A  B\n",
       "0  THE SUN is bright  1\n",
       "1  THE night is DARK  2"
      ]
     },
     "execution_count": 16,
     "metadata": {},
     "output_type": "execute_result"
    }
   ],
   "source": [
    "df['A'] = pak.replace_str( df.A, translate)\n",
    "df"
   ]
  },
  {
   "cell_type": "code",
   "execution_count": 19,
   "metadata": {
    "execution": {
     "iopub.execute_input": "2023-07-07T14:13:51.517939Z",
     "iopub.status.busy": "2023-07-07T14:13:51.517416Z",
     "iopub.status.idle": "2023-07-07T14:13:51.569313Z",
     "shell.execute_reply": "2023-07-07T14:13:51.568130Z",
     "shell.execute_reply.started": "2023-07-07T14:13:51.517893Z"
    }
   },
   "outputs": [
    {
     "data": {
      "text/markdown": [
       "<h2>preprocess_str<span style=\"font-size:small;\">(dirty, how='')</span></h2>\n",
       "\n",
       "Simplification and cleaning\n",
       "* dirty is Series or DataFrame. For a dataframe, all str columns are treated.\n",
       "* how determines which purge steps are executed.\n",
       "  - fillna is always executed anyway\n",
       "  - strip\n",
       "  - minus2space replaces hyphens with spaces\n",
       "  - lower\n",
       "  - filter_letters deletes everything that is not a letter or number or space\n",
       "  - umlaut2single replaces umlauts with single letters\n",
       "  - umlaut2double replaces umlauts with letter combinations          \n",
       "  - solowhite replaces multiple whitespaces with single space\n",
       "  - but_anything takes the original if nothing else is left in the end\n",
       "* for how there are also presets, these are signalled by an abbreviation"
      ],
      "text/plain": [
       "<IPython.core.display.Markdown object>"
      ]
     },
     "metadata": {},
     "output_type": "display_data"
    }
   ],
   "source": [
    "blab.help(pak.preprocess_str)"
   ]
  },
  {
   "cell_type": "code",
   "execution_count": 20,
   "metadata": {
    "execution": {
     "iopub.execute_input": "2023-07-07T14:13:51.573331Z",
     "iopub.status.busy": "2023-07-07T14:13:51.572680Z",
     "iopub.status.idle": "2023-07-07T14:13:51.655316Z",
     "shell.execute_reply": "2023-07-07T14:13:51.645999Z",
     "shell.execute_reply.started": "2023-07-07T14:13:51.573295Z"
    }
   },
   "outputs": [
    {
     "data": {
      "text/html": [
       "<div>\n",
       "<style scoped>\n",
       "    .dataframe tbody tr th:only-of-type {\n",
       "        vertical-align: middle;\n",
       "    }\n",
       "\n",
       "    .dataframe tbody tr th {\n",
       "        vertical-align: top;\n",
       "    }\n",
       "\n",
       "    .dataframe thead th {\n",
       "        text-align: right;\n",
       "    }\n",
       "</style>\n",
       "<table border=\"1\" class=\"dataframe\">\n",
       "  <thead>\n",
       "    <tr style=\"text-align: right;\">\n",
       "      <th></th>\n",
       "      <th>A</th>\n",
       "      <th>B</th>\n",
       "      <th>C</th>\n",
       "      <th>D</th>\n",
       "    </tr>\n",
       "  </thead>\n",
       "  <tbody>\n",
       "    <tr>\n",
       "      <th>0</th>\n",
       "      <td>-</td>\n",
       "      <td>-</td>\n",
       "      <td></td>\n",
       "      <td>-</td>\n",
       "    </tr>\n",
       "    <tr>\n",
       "      <th>1</th>\n",
       "      <td>€</td>\n",
       "      <td>€</td>\n",
       "      <td></td>\n",
       "      <td>€</td>\n",
       "    </tr>\n",
       "    <tr>\n",
       "      <th>2</th>\n",
       "      <td>hÄLLo-weltß</td>\n",
       "      <td>hällo weltß</td>\n",
       "      <td>haello weltss</td>\n",
       "      <td>hallo weltss</td>\n",
       "    </tr>\n",
       "    <tr>\n",
       "      <th>3</th>\n",
       "      <td>Ällo welt?</td>\n",
       "      <td>ällo welt</td>\n",
       "      <td>aello welt</td>\n",
       "      <td>allo welt</td>\n",
       "    </tr>\n",
       "    <tr>\n",
       "      <th>4</th>\n",
       "      <td>(jo)</td>\n",
       "      <td>jo</td>\n",
       "      <td>jo</td>\n",
       "      <td>jo</td>\n",
       "    </tr>\n",
       "    <tr>\n",
       "      <th>5</th>\n",
       "      <td>jo...jo</td>\n",
       "      <td>jojo</td>\n",
       "      <td>jojo</td>\n",
       "      <td>jojo</td>\n",
       "    </tr>\n",
       "    <tr>\n",
       "      <th>6</th>\n",
       "      <td>Halle /ßaale</td>\n",
       "      <td>halle ßaale</td>\n",
       "      <td>halle ssaale</td>\n",
       "      <td>halle ssaale</td>\n",
       "    </tr>\n",
       "    <tr>\n",
       "      <th>7</th>\n",
       "      <td>Hallo\\welt</td>\n",
       "      <td>hallowelt</td>\n",
       "      <td>hallowelt</td>\n",
       "      <td>hallowelt</td>\n",
       "    </tr>\n",
       "  </tbody>\n",
       "</table>\n",
       "</div>"
      ],
      "text/plain": [
       "              A            B              C             D\n",
       "0             -            -                            -\n",
       "1             €            €                            €\n",
       "2   hÄLLo-weltß  hällo weltß  haello weltss  hallo weltss\n",
       "3    Ällo welt?    ällo welt     aello welt     allo welt\n",
       "4          (jo)           jo             jo            jo\n",
       "5       jo...jo         jojo           jojo          jojo\n",
       "6  Halle /ßaale  halle ßaale   halle ssaale  halle ssaale\n",
       "7    Hallo\\welt    hallowelt      hallowelt     hallowelt"
      ]
     },
     "execution_count": 20,
     "metadata": {},
     "output_type": "execute_result"
    }
   ],
   "source": [
    "df = pd.DataFrame(pd.Series(['-','€','hÄLLo-weltß','Ällo welt?','(jo)','jo...jo','Halle /ßaale', 'Hallo\\welt']))\n",
    "df.columns = ['A']\n",
    "\n",
    "df['B'] = pak.preprocess_str(df.A, how='STD_0')\n",
    "df['C'] = pak.preprocess_str(df.B, how='filter_letters umlaut2double esszett2ss')\n",
    "df['D'] = pak.preprocess_str(df.B, how='filter_letters umlaut2single esszett2ss but_anything')\n",
    "\n",
    "df"
   ]
  }
 ],
 "metadata": {
  "kernelspec": {
   "display_name": "Python 3 (ipykernel)",
   "language": "python",
   "name": "python3"
  },
  "language_info": {
   "codemirror_mode": {
    "name": "ipython",
    "version": 3
   },
   "file_extension": ".py",
   "mimetype": "text/x-python",
   "name": "python",
   "nbconvert_exporter": "python",
   "pygments_lexer": "ipython3",
   "version": "3.10.11"
  }
 },
 "nbformat": 4,
 "nbformat_minor": 4
}
