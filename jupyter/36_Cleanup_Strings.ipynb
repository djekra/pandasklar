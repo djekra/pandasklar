{
 "cells": [
  {
   "cell_type": "markdown",
   "metadata": {},
   "source": [
    "__[Open and try this file online (Colab)](https://colab.research.google.com/github/djekra/pandasklar/blob/master/jupyter/36_Cleanup_Strings.ipynb)__"
   ]
  },
  {
   "cell_type": "markdown",
   "metadata": {},
   "source": [
    "# Cleanup Strings\n",
    "* `remove_str`: Removes a list of unwanted substrings from a Series of strings.\n",
    "* `remove_words`: Removes a list of unwanted words from a Series of strings.\n",
    "* `replace_str`: Replaces substrings from a Series of strings according to a dict."
   ]
  },
  {
   "cell_type": "code",
   "execution_count": 1,
   "metadata": {},
   "outputs": [
    {
     "name": "stdout",
     "output_type": "stream",
     "text": [
      "blab init\n",
      "environment['dropbox_path'] = /home/me/Data_Linux/Dropbox\n",
      "environment['lib_path']     = /home/me/Data_Linux/Dropbox/31_Projekte/01_Python/libs\n",
      "Start Time: 21:51:39\n"
     ]
    },
    {
     "data": {
      "text/html": [
       "<img src onerror=\"var cell = this.closest('.jp-CodeCell');var editor = cell.querySelector('.jp-Editor');editor.style.background='Beige';this.parentNode.removeChild(this)\">"
      ],
      "text/plain": [
       "<IPython.core.display.HTML object>"
      ]
     },
     "metadata": {},
     "output_type": "display_data"
    },
    {
     "name": "stdout",
     "output_type": "stream",
     "text": [
      "time: 385 ms\n"
     ]
    }
   ],
   "source": [
    "# blab init\n",
    "try:\n",
    "    import blab\n",
    "except ImportError as e:\n",
    "    !pip install blab\n",
    "    import blab    \n",
    "startup_notebook = blab.blab_startup()\n",
    "%run $startup_notebook "
   ]
  },
  {
   "cell_type": "code",
   "execution_count": 2,
   "metadata": {},
   "outputs": [
    {
     "name": "stdout",
     "output_type": "stream",
     "text": [
      "VERBOSE = True\n",
      "--> setting verbose=True as default for all pandasklar functions\n",
      "\n",
      "time: 296 ms\n"
     ]
    }
   ],
   "source": [
    "import pandas     as pd \n",
    "import bpyth      as bpy\n",
    "\n",
    "# pandasklar\n",
    "try:\n",
    "    import pandasklar as pak \n",
    "except ImportError as e:\n",
    "    !pip install pandasklar\n",
    "    import pandasklar as pak   \n",
    "    \n",
    "# verbose\n",
    "pak.Config.set('VERBOSE', True)"
   ]
  },
  {
   "cell_type": "code",
   "execution_count": 3,
   "metadata": {},
   "outputs": [
    {
     "name": "stdout",
     "output_type": "stream",
     "text": [
      "Input rtype=('list', 'Series', 'str') shape=(3, 100000)\n",
      "rotated=True Output rtype=('DataFrame', 'Series') shape=(100000, 3)\n"
     ]
    },
    {
     "data": {
      "text/html": [
       "<div>\n",
       "<style scoped>\n",
       "    .dataframe tbody tr th:only-of-type {\n",
       "        vertical-align: middle;\n",
       "    }\n",
       "\n",
       "    .dataframe tbody tr th {\n",
       "        vertical-align: top;\n",
       "    }\n",
       "\n",
       "    .dataframe thead th {\n",
       "        text-align: right;\n",
       "    }\n",
       "</style>\n",
       "<table border=\"1\" class=\"dataframe\">\n",
       "  <thead>\n",
       "    <tr style=\"text-align: right;\">\n",
       "      <th></th>\n",
       "      <th>nosep</th>\n",
       "      <th>space</th>\n",
       "      <th>comma</th>\n",
       "    </tr>\n",
       "  </thead>\n",
       "  <tbody>\n",
       "    <tr>\n",
       "      <th>0</th>\n",
       "      <td>HIdbbaggecadHIegceacbdceHI</td>\n",
       "      <td>HI dbbaggecad HI egceacbdce HI</td>\n",
       "      <td>,HI,dbbaggecad,HI,egceacbdce,HI</td>\n",
       "    </tr>\n",
       "    <tr>\n",
       "      <th>1</th>\n",
       "      <td>YOffabgdeedbYOcbdggbfdbaYO</td>\n",
       "      <td>YO ffabgdeedb YO cbdggbfdba YO</td>\n",
       "      <td>,YO,ffabgdeedb,YO,cbdggbfdba,YO</td>\n",
       "    </tr>\n",
       "    <tr>\n",
       "      <th>2</th>\n",
       "      <td>UFFaefaaabdgcUFFgdcbaagbgfUFF</td>\n",
       "      <td>UFF aefaaabdgc UFF gdcbaagbgf UFF</td>\n",
       "      <td>,UFF,aefaaabdgc,UFF,gdcbaagbgf,UFF</td>\n",
       "    </tr>\n",
       "    <tr>\n",
       "      <th>3</th>\n",
       "      <td>HIdbggcbdgegHIffgcgeeccbHI</td>\n",
       "      <td>HI dbggcbdgeg HI ffgcgeeccb HI</td>\n",
       "      <td>,HI,dbggcbdgeg,HI,ffgcgeeccb,HI</td>\n",
       "    </tr>\n",
       "    <tr>\n",
       "      <th>4</th>\n",
       "      <td>YOeedfafbbcgYOgeddbeaaacYO</td>\n",
       "      <td>YO eedfafbbcg YO geddbeaaac YO</td>\n",
       "      <td>,YO,eedfafbbcg,YO,geddbeaaac,YO</td>\n",
       "    </tr>\n",
       "    <tr>\n",
       "      <th>...</th>\n",
       "      <td>...</td>\n",
       "      <td>...</td>\n",
       "      <td>...</td>\n",
       "    </tr>\n",
       "    <tr>\n",
       "      <th>99995</th>\n",
       "      <td>UFFbdfgfbadacUFFaeefcggbbfUFF</td>\n",
       "      <td>UFF bdfgfbadac UFF aeefcggbbf UFF</td>\n",
       "      <td>,UFF,bdfgfbadac,UFF,aeefcggbbf,UFF</td>\n",
       "    </tr>\n",
       "    <tr>\n",
       "      <th>99996</th>\n",
       "      <td>HIcggfgecebgHIacgbafcdfdHI</td>\n",
       "      <td>HI cggfgecebg HI acgbafcdfd HI</td>\n",
       "      <td>,HI,cggfgecebg,HI,acgbafcdfd,HI</td>\n",
       "    </tr>\n",
       "    <tr>\n",
       "      <th>99997</th>\n",
       "      <td>UFFggddbbebdeUFFdeaedbfaefUFF</td>\n",
       "      <td>UFF ggddbbebde UFF deaedbfaef UFF</td>\n",
       "      <td>,UFF,ggddbbebde,UFF,deaedbfaef,UFF</td>\n",
       "    </tr>\n",
       "    <tr>\n",
       "      <th>99998</th>\n",
       "      <td>HIgbeagabbgbHIfaaddbbedgHI</td>\n",
       "      <td>HI gbeagabbgb HI faaddbbedg HI</td>\n",
       "      <td>,HI,gbeagabbgb,HI,faaddbbedg,HI</td>\n",
       "    </tr>\n",
       "    <tr>\n",
       "      <th>99999</th>\n",
       "      <td>HIcecacafgabHIdgggafeccaHI</td>\n",
       "      <td>HI cecacafgab HI dgggafecca HI</td>\n",
       "      <td>,HI,cecacafgab,HI,dgggafecca,HI</td>\n",
       "    </tr>\n",
       "  </tbody>\n",
       "</table>\n",
       "<p>100000 rows × 3 columns</p>\n",
       "</div>"
      ],
      "text/plain": [
       "                               nosep                               space  \\\n",
       "0         HIdbbaggecadHIegceacbdceHI      HI dbbaggecad HI egceacbdce HI   \n",
       "1         YOffabgdeedbYOcbdggbfdbaYO      YO ffabgdeedb YO cbdggbfdba YO   \n",
       "2      UFFaefaaabdgcUFFgdcbaagbgfUFF   UFF aefaaabdgc UFF gdcbaagbgf UFF   \n",
       "3         HIdbggcbdgegHIffgcgeeccbHI      HI dbggcbdgeg HI ffgcgeeccb HI   \n",
       "4         YOeedfafbbcgYOgeddbeaaacYO      YO eedfafbbcg YO geddbeaaac YO   \n",
       "...                              ...                                 ...   \n",
       "99995  UFFbdfgfbadacUFFaeefcggbbfUFF   UFF bdfgfbadac UFF aeefcggbbf UFF   \n",
       "99996     HIcggfgecebgHIacgbafcdfdHI      HI cggfgecebg HI acgbafcdfd HI   \n",
       "99997  UFFggddbbebdeUFFdeaedbfaefUFF   UFF ggddbbebde UFF deaedbfaef UFF   \n",
       "99998     HIgbeagabbgbHIfaaddbbedgHI      HI gbeagabbgb HI faaddbbedg HI   \n",
       "99999     HIcecacafgabHIdgggafeccaHI      HI cecacafgab HI dgggafecca HI   \n",
       "\n",
       "                                    comma  \n",
       "0         ,HI,dbbaggecad,HI,egceacbdce,HI  \n",
       "1         ,YO,ffabgdeedb,YO,cbdggbfdba,YO  \n",
       "2      ,UFF,aefaaabdgc,UFF,gdcbaagbgf,UFF  \n",
       "3         ,HI,dbggcbdgeg,HI,ffgcgeeccb,HI  \n",
       "4         ,YO,eedfafbbcg,YO,geddbeaaac,YO  \n",
       "...                                   ...  \n",
       "99995  ,UFF,bdfgfbadac,UFF,aeefcggbbf,UFF  \n",
       "99996     ,HI,cggfgecebg,HI,acgbafcdfd,HI  \n",
       "99997  ,UFF,ggddbbebde,UFF,deaedbfaef,UFF  \n",
       "99998     ,HI,gbeagabbgb,HI,faaddbbedg,HI  \n",
       "99999     ,HI,cecacafgab,HI,dgggafecca,HI  \n",
       "\n",
       "[100000 rows x 3 columns]"
      ]
     },
     "execution_count": 3,
     "metadata": {},
     "output_type": "execute_result"
    },
    {
     "name": "stdout",
     "output_type": "stream",
     "text": [
      "time: 15 s\n"
     ]
    }
   ],
   "source": [
    "# create test data to search in\n",
    "size = 100000\n",
    "a = pak.random_series( size, 'string', len_min=10, len_max=10,           p_dup=0.9)\n",
    "b = pak.random_series( size, 'choice', choice=['YO','UFF', 'HI'],        p_dup=0.9)\n",
    "c = pak.random_series( size, 'string', len_min=10, len_max=10,           p_dup=0.9)\n",
    "df_test = pak.dataframe([a,b,c])\n",
    "\n",
    "trenn = ''\n",
    "df_test['nosep'] =     trenn + df_test.B + trenn + df_test.A + trenn + df_test.B + trenn + df_test.C + trenn + df_test.B\n",
    "trenn = ' '\n",
    "df_test['space'] =  trenn + df_test.B + trenn + df_test.A + trenn + df_test.B + trenn + df_test.C + trenn + df_test.B\n",
    "trenn = ','\n",
    "df_test['comma'] =  trenn + df_test.B + trenn + df_test.A + trenn + df_test.B + trenn + df_test.C + trenn + df_test.B\n",
    "df_test = pak.drop_cols(df_test, list('ABC'))\n",
    "df_test"
   ]
  },
  {
   "cell_type": "markdown",
   "metadata": {},
   "source": [
    "## remove_str()"
   ]
  },
  {
   "cell_type": "code",
   "execution_count": 4,
   "metadata": {},
   "outputs": [
    {
     "name": "stdout",
     "output_type": "stream",
     "text": [
      "time: 65.5 ms\n"
     ]
    },
    {
     "data": {
      "text/plain": [
       "\u001b[0;31mSignature:\u001b[0m \u001b[0mpak\u001b[0m\u001b[0;34m.\u001b[0m\u001b[0mremove_str\u001b[0m\u001b[0;34m(\u001b[0m\u001b[0mseries\u001b[0m\u001b[0;34m,\u001b[0m \u001b[0mremove_list\u001b[0m\u001b[0;34m,\u001b[0m \u001b[0msafemode\u001b[0m\u001b[0;34m=\u001b[0m\u001b[0;32mTrue\u001b[0m\u001b[0;34m)\u001b[0m\u001b[0;34m\u001b[0m\u001b[0;34m\u001b[0m\u001b[0m\n",
       "\u001b[0;31mDocstring:\u001b[0m\n",
       "Removes a list of unwanted substrings from a Series of strings.\n",
       "* remove_list: list of substrings to remove\n",
       "* safemode:    Selects the algorithm.\n",
       "               safemode=True:  Each substring is removed separately\n",
       "               safemode=False: Works with one regular expression.\n",
       "                               Special characters such as asterisks must be backslashed.    \n",
       "\u001b[0;31mFile:\u001b[0m      ~/Data_Linux/Dropbox/31_Projekte/01_Python/git/pandasklar/src/pandasklar/string.py\n",
       "\u001b[0;31mType:\u001b[0m      function\n"
      ]
     },
     "metadata": {},
     "output_type": "display_data"
    }
   ],
   "source": [
    "?pak.remove_str"
   ]
  },
  {
   "cell_type": "code",
   "execution_count": 5,
   "metadata": {},
   "outputs": [
    {
     "data": {
      "text/html": [
       "<div>\n",
       "<style scoped>\n",
       "    .dataframe tbody tr th:only-of-type {\n",
       "        vertical-align: middle;\n",
       "    }\n",
       "\n",
       "    .dataframe tbody tr th {\n",
       "        vertical-align: top;\n",
       "    }\n",
       "\n",
       "    .dataframe thead th {\n",
       "        text-align: right;\n",
       "    }\n",
       "</style>\n",
       "<table border=\"1\" class=\"dataframe\">\n",
       "  <thead>\n",
       "    <tr style=\"text-align: right;\">\n",
       "      <th></th>\n",
       "      <th>nosep</th>\n",
       "    </tr>\n",
       "  </thead>\n",
       "  <tbody>\n",
       "    <tr>\n",
       "      <th>0</th>\n",
       "      <td>HIdbbaggecadHIegceacbdceHI</td>\n",
       "    </tr>\n",
       "    <tr>\n",
       "      <th>1</th>\n",
       "      <td>YOffabgdeedbYOcbdggbfdbaYO</td>\n",
       "    </tr>\n",
       "    <tr>\n",
       "      <th>2</th>\n",
       "      <td>UFFaefaaabdgcUFFgdcbaagbgfUFF</td>\n",
       "    </tr>\n",
       "  </tbody>\n",
       "</table>\n",
       "</div>"
      ],
      "text/plain": [
       "                           nosep\n",
       "0     HIdbbaggecadHIegceacbdceHI\n",
       "1     YOffabgdeedbYOcbdggbfdbaYO\n",
       "2  UFFaefaaabdgcUFFgdcbaagbgfUFF"
      ]
     },
     "execution_count": 5,
     "metadata": {},
     "output_type": "execute_result"
    },
    {
     "name": "stdout",
     "output_type": "stream",
     "text": [
      "time: 46.4 ms\n"
     ]
    }
   ],
   "source": [
    "# Test data\n",
    "cols = ['nosep']\n",
    "df = df_test[cols].copy()\n",
    "df.head(3)"
   ]
  },
  {
   "cell_type": "code",
   "execution_count": 6,
   "metadata": {},
   "outputs": [
    {
     "data": {
      "text/html": [
       "<div>\n",
       "<style scoped>\n",
       "    .dataframe tbody tr th:only-of-type {\n",
       "        vertical-align: middle;\n",
       "    }\n",
       "\n",
       "    .dataframe tbody tr th {\n",
       "        vertical-align: top;\n",
       "    }\n",
       "\n",
       "    .dataframe thead th {\n",
       "        text-align: right;\n",
       "    }\n",
       "</style>\n",
       "<table border=\"1\" class=\"dataframe\">\n",
       "  <thead>\n",
       "    <tr style=\"text-align: right;\">\n",
       "      <th></th>\n",
       "      <th>nosep</th>\n",
       "      <th>nosep_remove_str</th>\n",
       "    </tr>\n",
       "  </thead>\n",
       "  <tbody>\n",
       "    <tr>\n",
       "      <th>0</th>\n",
       "      <td>HIdbbaggecadHIegceacbdceHI</td>\n",
       "      <td>dbbaggecadegceacbdce</td>\n",
       "    </tr>\n",
       "    <tr>\n",
       "      <th>1</th>\n",
       "      <td>YOffabgdeedbYOcbdggbfdbaYO</td>\n",
       "      <td>ffabgdeedbcbdggbfdba</td>\n",
       "    </tr>\n",
       "    <tr>\n",
       "      <th>2</th>\n",
       "      <td>UFFaefaaabdgcUFFgdcbaagbgfUFF</td>\n",
       "      <td>aefaaabdgcgdcbaagbgf</td>\n",
       "    </tr>\n",
       "    <tr>\n",
       "      <th>3</th>\n",
       "      <td>HIdbggcbdgegHIffgcgeeccbHI</td>\n",
       "      <td>dbggcbdgegffgcgeeccb</td>\n",
       "    </tr>\n",
       "    <tr>\n",
       "      <th>4</th>\n",
       "      <td>YOeedfafbbcgYOgeddbeaaacYO</td>\n",
       "      <td>eedfafbbcggeddbeaaac</td>\n",
       "    </tr>\n",
       "    <tr>\n",
       "      <th>...</th>\n",
       "      <td>...</td>\n",
       "      <td>...</td>\n",
       "    </tr>\n",
       "    <tr>\n",
       "      <th>99995</th>\n",
       "      <td>UFFbdfgfbadacUFFaeefcggbbfUFF</td>\n",
       "      <td>bdfgfbadacaeefcggbbf</td>\n",
       "    </tr>\n",
       "    <tr>\n",
       "      <th>99996</th>\n",
       "      <td>HIcggfgecebgHIacgbafcdfdHI</td>\n",
       "      <td>cggfgecebgacgbafcdfd</td>\n",
       "    </tr>\n",
       "    <tr>\n",
       "      <th>99997</th>\n",
       "      <td>UFFggddbbebdeUFFdeaedbfaefUFF</td>\n",
       "      <td>ggddbbebdedeaedbfaef</td>\n",
       "    </tr>\n",
       "    <tr>\n",
       "      <th>99998</th>\n",
       "      <td>HIgbeagabbgbHIfaaddbbedgHI</td>\n",
       "      <td>gbeagabbgbfaaddbbedg</td>\n",
       "    </tr>\n",
       "    <tr>\n",
       "      <th>99999</th>\n",
       "      <td>HIcecacafgabHIdgggafeccaHI</td>\n",
       "      <td>cecacafgabdgggafecca</td>\n",
       "    </tr>\n",
       "  </tbody>\n",
       "</table>\n",
       "<p>100000 rows × 2 columns</p>\n",
       "</div>"
      ],
      "text/plain": [
       "                               nosep      nosep_remove_str\n",
       "0         HIdbbaggecadHIegceacbdceHI  dbbaggecadegceacbdce\n",
       "1         YOffabgdeedbYOcbdggbfdbaYO  ffabgdeedbcbdggbfdba\n",
       "2      UFFaefaaabdgcUFFgdcbaagbgfUFF  aefaaabdgcgdcbaagbgf\n",
       "3         HIdbggcbdgegHIffgcgeeccbHI  dbggcbdgegffgcgeeccb\n",
       "4         YOeedfafbbcgYOgeddbeaaacYO  eedfafbbcggeddbeaaac\n",
       "...                              ...                   ...\n",
       "99995  UFFbdfgfbadacUFFaeefcggbbfUFF  bdfgfbadacaeefcggbbf\n",
       "99996     HIcggfgecebgHIacgbafcdfdHI  cggfgecebgacgbafcdfd\n",
       "99997  UFFggddbbebdeUFFdeaedbfaefUFF  ggddbbebdedeaedbfaef\n",
       "99998     HIgbeagabbgbHIfaaddbbedgHI  gbeagabbgbfaaddbbedg\n",
       "99999     HIcecacafgabHIdgggafeccaHI  cecacafgabdgggafecca\n",
       "\n",
       "[100000 rows x 2 columns]"
      ]
     },
     "execution_count": 6,
     "metadata": {},
     "output_type": "execute_result"
    },
    {
     "name": "stdout",
     "output_type": "stream",
     "text": [
      "time: 202 ms\n"
     ]
    }
   ],
   "source": [
    "# compare orig / after remove_str\n",
    "for col in df.columns:\n",
    "    df[col+'_remove_str'] = pak.remove_str( df[col], ['YO', 'UFF', 'HI'])\n",
    "df"
   ]
  },
  {
   "cell_type": "markdown",
   "metadata": {},
   "source": [
    "## remove_words()"
   ]
  },
  {
   "cell_type": "code",
   "execution_count": 7,
   "metadata": {},
   "outputs": [
    {
     "name": "stdout",
     "output_type": "stream",
     "text": [
      "time: 14.9 ms\n"
     ]
    },
    {
     "data": {
      "text/plain": [
       "\u001b[0;31mSignature:\u001b[0m \u001b[0mpak\u001b[0m\u001b[0;34m.\u001b[0m\u001b[0mremove_words\u001b[0m\u001b[0;34m(\u001b[0m\u001b[0mseries\u001b[0m\u001b[0;34m,\u001b[0m \u001b[0mremove_list\u001b[0m\u001b[0;34m)\u001b[0m\u001b[0;34m\u001b[0m\u001b[0;34m\u001b[0m\u001b[0m\n",
       "\u001b[0;31mDocstring:\u001b[0m\n",
       "Removes a list of unwanted words from a Series of strings.\n",
       "Works by regular expression, so special characters such as asterisks must be backslashed.  \n",
       "\u001b[0;31mFile:\u001b[0m      ~/Data_Linux/Dropbox/31_Projekte/01_Python/git/pandasklar/src/pandasklar/string.py\n",
       "\u001b[0;31mType:\u001b[0m      function\n"
      ]
     },
     "metadata": {},
     "output_type": "display_data"
    }
   ],
   "source": [
    "?pak.remove_words"
   ]
  },
  {
   "cell_type": "code",
   "execution_count": 8,
   "metadata": {},
   "outputs": [
    {
     "data": {
      "text/html": [
       "<div>\n",
       "<style scoped>\n",
       "    .dataframe tbody tr th:only-of-type {\n",
       "        vertical-align: middle;\n",
       "    }\n",
       "\n",
       "    .dataframe tbody tr th {\n",
       "        vertical-align: top;\n",
       "    }\n",
       "\n",
       "    .dataframe thead th {\n",
       "        text-align: right;\n",
       "    }\n",
       "</style>\n",
       "<table border=\"1\" class=\"dataframe\">\n",
       "  <thead>\n",
       "    <tr style=\"text-align: right;\">\n",
       "      <th></th>\n",
       "      <th>nosep</th>\n",
       "      <th>space</th>\n",
       "      <th>comma</th>\n",
       "    </tr>\n",
       "  </thead>\n",
       "  <tbody>\n",
       "    <tr>\n",
       "      <th>0</th>\n",
       "      <td>HIdbbaggecadHIegceacbdceHI</td>\n",
       "      <td>HI dbbaggecad HI egceacbdce HI</td>\n",
       "      <td>,HI,dbbaggecad,HI,egceacbdce,HI</td>\n",
       "    </tr>\n",
       "    <tr>\n",
       "      <th>1</th>\n",
       "      <td>YOffabgdeedbYOcbdggbfdbaYO</td>\n",
       "      <td>YO ffabgdeedb YO cbdggbfdba YO</td>\n",
       "      <td>,YO,ffabgdeedb,YO,cbdggbfdba,YO</td>\n",
       "    </tr>\n",
       "    <tr>\n",
       "      <th>2</th>\n",
       "      <td>UFFaefaaabdgcUFFgdcbaagbgfUFF</td>\n",
       "      <td>UFF aefaaabdgc UFF gdcbaagbgf UFF</td>\n",
       "      <td>,UFF,aefaaabdgc,UFF,gdcbaagbgf,UFF</td>\n",
       "    </tr>\n",
       "  </tbody>\n",
       "</table>\n",
       "</div>"
      ],
      "text/plain": [
       "                           nosep                               space  \\\n",
       "0     HIdbbaggecadHIegceacbdceHI      HI dbbaggecad HI egceacbdce HI   \n",
       "1     YOffabgdeedbYOcbdggbfdbaYO      YO ffabgdeedb YO cbdggbfdba YO   \n",
       "2  UFFaefaaabdgcUFFgdcbaagbgfUFF   UFF aefaaabdgc UFF gdcbaagbgf UFF   \n",
       "\n",
       "                                comma  \n",
       "0     ,HI,dbbaggecad,HI,egceacbdce,HI  \n",
       "1     ,YO,ffabgdeedb,YO,cbdggbfdba,YO  \n",
       "2  ,UFF,aefaaabdgc,UFF,gdcbaagbgf,UFF  "
      ]
     },
     "execution_count": 8,
     "metadata": {},
     "output_type": "execute_result"
    },
    {
     "name": "stdout",
     "output_type": "stream",
     "text": [
      "time: 51.1 ms\n"
     ]
    }
   ],
   "source": [
    "# Test data\n",
    "df = df_test.copy()\n",
    "df.head(3)"
   ]
  },
  {
   "cell_type": "code",
   "execution_count": 9,
   "metadata": {},
   "outputs": [
    {
     "data": {
      "text/html": [
       "<div>\n",
       "<style scoped>\n",
       "    .dataframe tbody tr th:only-of-type {\n",
       "        vertical-align: middle;\n",
       "    }\n",
       "\n",
       "    .dataframe tbody tr th {\n",
       "        vertical-align: top;\n",
       "    }\n",
       "\n",
       "    .dataframe thead th {\n",
       "        text-align: right;\n",
       "    }\n",
       "</style>\n",
       "<table border=\"1\" class=\"dataframe\">\n",
       "  <thead>\n",
       "    <tr style=\"text-align: right;\">\n",
       "      <th></th>\n",
       "      <th>comma</th>\n",
       "      <th>comma_str</th>\n",
       "      <th>comma_words</th>\n",
       "      <th>nosep</th>\n",
       "      <th>nosep_str</th>\n",
       "      <th>nosep_words</th>\n",
       "      <th>space</th>\n",
       "      <th>space_str</th>\n",
       "      <th>space_words</th>\n",
       "    </tr>\n",
       "  </thead>\n",
       "  <tbody>\n",
       "    <tr>\n",
       "      <th>0</th>\n",
       "      <td>,HI,dbbaggecad,HI,egceacbdce,HI</td>\n",
       "      <td>,,dbbaggecad,,egceacbdce,</td>\n",
       "      <td>,,dbbaggecad,,egceacbdce,</td>\n",
       "      <td>HIdbbaggecadHIegceacbdceHI</td>\n",
       "      <td>dbbaggecadegceacbdce</td>\n",
       "      <td>HIdbbaggecadHIegceacbdceHI</td>\n",
       "      <td>HI dbbaggecad HI egceacbdce HI</td>\n",
       "      <td>dbbaggecad  egceacbdce</td>\n",
       "      <td>dbbaggecad  egceacbdce</td>\n",
       "    </tr>\n",
       "    <tr>\n",
       "      <th>1</th>\n",
       "      <td>,YO,ffabgdeedb,YO,cbdggbfdba,YO</td>\n",
       "      <td>,,ffabgdeedb,,cbdggbfdba,</td>\n",
       "      <td>,,ffabgdeedb,,cbdggbfdba,</td>\n",
       "      <td>YOffabgdeedbYOcbdggbfdbaYO</td>\n",
       "      <td>ffabgdeedbcbdggbfdba</td>\n",
       "      <td>YOffabgdeedbYOcbdggbfdbaYO</td>\n",
       "      <td>YO ffabgdeedb YO cbdggbfdba YO</td>\n",
       "      <td>ffabgdeedb  cbdggbfdba</td>\n",
       "      <td>ffabgdeedb  cbdggbfdba</td>\n",
       "    </tr>\n",
       "    <tr>\n",
       "      <th>2</th>\n",
       "      <td>,UFF,aefaaabdgc,UFF,gdcbaagbgf,UFF</td>\n",
       "      <td>,,aefaaabdgc,,gdcbaagbgf,</td>\n",
       "      <td>,,aefaaabdgc,,gdcbaagbgf,</td>\n",
       "      <td>UFFaefaaabdgcUFFgdcbaagbgfUFF</td>\n",
       "      <td>aefaaabdgcgdcbaagbgf</td>\n",
       "      <td>UFFaefaaabdgcUFFgdcbaagbgfUFF</td>\n",
       "      <td>UFF aefaaabdgc UFF gdcbaagbgf UFF</td>\n",
       "      <td>aefaaabdgc  gdcbaagbgf</td>\n",
       "      <td>aefaaabdgc  gdcbaagbgf</td>\n",
       "    </tr>\n",
       "    <tr>\n",
       "      <th>3</th>\n",
       "      <td>,HI,dbggcbdgeg,HI,ffgcgeeccb,HI</td>\n",
       "      <td>,,dbggcbdgeg,,ffgcgeeccb,</td>\n",
       "      <td>,,dbggcbdgeg,,ffgcgeeccb,</td>\n",
       "      <td>HIdbggcbdgegHIffgcgeeccbHI</td>\n",
       "      <td>dbggcbdgegffgcgeeccb</td>\n",
       "      <td>HIdbggcbdgegHIffgcgeeccbHI</td>\n",
       "      <td>HI dbggcbdgeg HI ffgcgeeccb HI</td>\n",
       "      <td>dbggcbdgeg  ffgcgeeccb</td>\n",
       "      <td>dbggcbdgeg  ffgcgeeccb</td>\n",
       "    </tr>\n",
       "    <tr>\n",
       "      <th>4</th>\n",
       "      <td>,YO,eedfafbbcg,YO,geddbeaaac,YO</td>\n",
       "      <td>,,eedfafbbcg,,geddbeaaac,</td>\n",
       "      <td>,,eedfafbbcg,,geddbeaaac,</td>\n",
       "      <td>YOeedfafbbcgYOgeddbeaaacYO</td>\n",
       "      <td>eedfafbbcggeddbeaaac</td>\n",
       "      <td>YOeedfafbbcgYOgeddbeaaacYO</td>\n",
       "      <td>YO eedfafbbcg YO geddbeaaac YO</td>\n",
       "      <td>eedfafbbcg  geddbeaaac</td>\n",
       "      <td>eedfafbbcg  geddbeaaac</td>\n",
       "    </tr>\n",
       "  </tbody>\n",
       "</table>\n",
       "</div>"
      ],
      "text/plain": [
       "                                comma                  comma_str  \\\n",
       "0     ,HI,dbbaggecad,HI,egceacbdce,HI  ,,dbbaggecad,,egceacbdce,   \n",
       "1     ,YO,ffabgdeedb,YO,cbdggbfdba,YO  ,,ffabgdeedb,,cbdggbfdba,   \n",
       "2  ,UFF,aefaaabdgc,UFF,gdcbaagbgf,UFF  ,,aefaaabdgc,,gdcbaagbgf,   \n",
       "3     ,HI,dbggcbdgeg,HI,ffgcgeeccb,HI  ,,dbggcbdgeg,,ffgcgeeccb,   \n",
       "4     ,YO,eedfafbbcg,YO,geddbeaaac,YO  ,,eedfafbbcg,,geddbeaaac,   \n",
       "\n",
       "                 comma_words                          nosep  \\\n",
       "0  ,,dbbaggecad,,egceacbdce,     HIdbbaggecadHIegceacbdceHI   \n",
       "1  ,,ffabgdeedb,,cbdggbfdba,     YOffabgdeedbYOcbdggbfdbaYO   \n",
       "2  ,,aefaaabdgc,,gdcbaagbgf,  UFFaefaaabdgcUFFgdcbaagbgfUFF   \n",
       "3  ,,dbggcbdgeg,,ffgcgeeccb,     HIdbggcbdgegHIffgcgeeccbHI   \n",
       "4  ,,eedfafbbcg,,geddbeaaac,     YOeedfafbbcgYOgeddbeaaacYO   \n",
       "\n",
       "              nosep_str                    nosep_words  \\\n",
       "0  dbbaggecadegceacbdce     HIdbbaggecadHIegceacbdceHI   \n",
       "1  ffabgdeedbcbdggbfdba     YOffabgdeedbYOcbdggbfdbaYO   \n",
       "2  aefaaabdgcgdcbaagbgf  UFFaefaaabdgcUFFgdcbaagbgfUFF   \n",
       "3  dbggcbdgegffgcgeeccb     HIdbggcbdgegHIffgcgeeccbHI   \n",
       "4  eedfafbbcggeddbeaaac     YOeedfafbbcgYOgeddbeaaacYO   \n",
       "\n",
       "                                space               space_str  \\\n",
       "0      HI dbbaggecad HI egceacbdce HI  dbbaggecad  egceacbdce   \n",
       "1      YO ffabgdeedb YO cbdggbfdba YO  ffabgdeedb  cbdggbfdba   \n",
       "2   UFF aefaaabdgc UFF gdcbaagbgf UFF  aefaaabdgc  gdcbaagbgf   \n",
       "3      HI dbggcbdgeg HI ffgcgeeccb HI  dbggcbdgeg  ffgcgeeccb   \n",
       "4      YO eedfafbbcg YO geddbeaaac YO  eedfafbbcg  geddbeaaac   \n",
       "\n",
       "              space_words  \n",
       "0  dbbaggecad  egceacbdce  \n",
       "1  ffabgdeedb  cbdggbfdba  \n",
       "2  aefaaabdgc  gdcbaagbgf  \n",
       "3  dbggcbdgeg  ffgcgeeccb  \n",
       "4  eedfafbbcg  geddbeaaac  "
      ]
     },
     "execution_count": 9,
     "metadata": {},
     "output_type": "execute_result"
    },
    {
     "name": "stdout",
     "output_type": "stream",
     "text": [
      "time: 1.05 s\n"
     ]
    }
   ],
   "source": [
    "# compare orig / after remove_str / after remove_words\n",
    "for col in df.columns:\n",
    "    df[col+'_str'] =   pak.remove_str(   df[col], ['YO', 'UFF', 'HI'])\n",
    "    df[col+'_words'] = pak.remove_words( df[col], ['YO', 'UFF', 'HI'])\n",
    "\n",
    "pak.move_cols(df).head()"
   ]
  },
  {
   "cell_type": "markdown",
   "metadata": {},
   "source": [
    "## replace_str()"
   ]
  },
  {
   "cell_type": "code",
   "execution_count": 10,
   "metadata": {},
   "outputs": [
    {
     "name": "stdout",
     "output_type": "stream",
     "text": [
      "time: 16.7 ms\n"
     ]
    },
    {
     "data": {
      "text/plain": [
       "\u001b[0;31mSignature:\u001b[0m \u001b[0mpak\u001b[0m\u001b[0;34m.\u001b[0m\u001b[0mreplace_str\u001b[0m\u001b[0;34m(\u001b[0m\u001b[0mseries\u001b[0m\u001b[0;34m,\u001b[0m \u001b[0mtranslationtable\u001b[0m\u001b[0;34m)\u001b[0m\u001b[0;34m\u001b[0m\u001b[0;34m\u001b[0m\u001b[0m\n",
       "\u001b[0;31mDocstring:\u001b[0m\n",
       "Replaces substrings from a Series of strings according to a translationtable.\n",
       "* translationtable: Can be a dict, a list of tuples or a DataFrame with two columns.\n",
       "  Example: {'President Trump':'Trump',   'HELLO':'Hello'}\n",
       "  or      [('President Trump','Trump'), ('HELLO','Hello')]\n",
       "\u001b[0;31mFile:\u001b[0m      ~/Data_Linux/Dropbox/31_Projekte/01_Python/git/pandasklar/src/pandasklar/string.py\n",
       "\u001b[0;31mType:\u001b[0m      function\n"
      ]
     },
     "metadata": {},
     "output_type": "display_data"
    }
   ],
   "source": [
    "?pak.replace_str"
   ]
  },
  {
   "cell_type": "code",
   "execution_count": 11,
   "metadata": {},
   "outputs": [
    {
     "name": "stdout",
     "output_type": "stream",
     "text": [
      "Input rtype=('list', 'tuple', 'str') shape=(2, 2)\n",
      "rotated=False Output rtype=('DataFrame', 'Series') shape=(2, 2)\n"
     ]
    },
    {
     "data": {
      "text/html": [
       "<div>\n",
       "<style scoped>\n",
       "    .dataframe tbody tr th:only-of-type {\n",
       "        vertical-align: middle;\n",
       "    }\n",
       "\n",
       "    .dataframe tbody tr th {\n",
       "        vertical-align: top;\n",
       "    }\n",
       "\n",
       "    .dataframe thead th {\n",
       "        text-align: right;\n",
       "    }\n",
       "</style>\n",
       "<table border=\"1\" class=\"dataframe\">\n",
       "  <thead>\n",
       "    <tr style=\"text-align: right;\">\n",
       "      <th></th>\n",
       "      <th>A</th>\n",
       "      <th>B</th>\n",
       "    </tr>\n",
       "  </thead>\n",
       "  <tbody>\n",
       "    <tr>\n",
       "      <th>0</th>\n",
       "      <td>The sun is bright</td>\n",
       "      <td>1</td>\n",
       "    </tr>\n",
       "    <tr>\n",
       "      <th>1</th>\n",
       "      <td>The night is dark</td>\n",
       "      <td>2</td>\n",
       "    </tr>\n",
       "  </tbody>\n",
       "</table>\n",
       "</div>"
      ],
      "text/plain": [
       "                   A  B\n",
       "0  The sun is bright  1\n",
       "1  The night is dark  2"
      ]
     },
     "execution_count": 11,
     "metadata": {},
     "output_type": "execute_result"
    },
    {
     "name": "stdout",
     "output_type": "stream",
     "text": [
      "time: 28.2 ms\n"
     ]
    }
   ],
   "source": [
    "df = pak.dataframe([ ('The sun is bright',1),\n",
    "                     ('The night is dark', 2) ])\n",
    "df"
   ]
  },
  {
   "cell_type": "code",
   "execution_count": 12,
   "metadata": {},
   "outputs": [
    {
     "data": {
      "text/plain": [
       "{'The': 'THE', 'sun': 'SUN', 'dark': 'DARK'}"
      ]
     },
     "execution_count": 12,
     "metadata": {},
     "output_type": "execute_result"
    },
    {
     "name": "stdout",
     "output_type": "stream",
     "text": [
      "time: 45.8 ms\n"
     ]
    }
   ],
   "source": [
    "translate = {'The':'THE', 'sun':'SUN', 'dark':'DARK'}\n",
    "translate = [('The','THE'), ('sun','SUN'), ('dark','DARK')]\n",
    "dict(translate )"
   ]
  },
  {
   "cell_type": "code",
   "execution_count": 13,
   "metadata": {},
   "outputs": [
    {
     "data": {
      "text/plain": [
       "0    THE SUN is bright\n",
       "1    THE night is DARK\n",
       "Name: A, dtype: object"
      ]
     },
     "execution_count": 13,
     "metadata": {},
     "output_type": "execute_result"
    },
    {
     "name": "stdout",
     "output_type": "stream",
     "text": [
      "time: 25.4 ms\n"
     ]
    }
   ],
   "source": [
    "pak.replace_str( df.A, translate)"
   ]
  },
  {
   "cell_type": "code",
   "execution_count": 14,
   "metadata": {},
   "outputs": [
    {
     "data": {
      "text/html": [
       "<div>\n",
       "<style scoped>\n",
       "    .dataframe tbody tr th:only-of-type {\n",
       "        vertical-align: middle;\n",
       "    }\n",
       "\n",
       "    .dataframe tbody tr th {\n",
       "        vertical-align: top;\n",
       "    }\n",
       "\n",
       "    .dataframe thead th {\n",
       "        text-align: right;\n",
       "    }\n",
       "</style>\n",
       "<table border=\"1\" class=\"dataframe\">\n",
       "  <thead>\n",
       "    <tr style=\"text-align: right;\">\n",
       "      <th></th>\n",
       "      <th>A</th>\n",
       "      <th>B</th>\n",
       "    </tr>\n",
       "  </thead>\n",
       "  <tbody>\n",
       "    <tr>\n",
       "      <th>0</th>\n",
       "      <td>THE SUN is bright</td>\n",
       "      <td>1</td>\n",
       "    </tr>\n",
       "    <tr>\n",
       "      <th>1</th>\n",
       "      <td>THE night is DARK</td>\n",
       "      <td>2</td>\n",
       "    </tr>\n",
       "  </tbody>\n",
       "</table>\n",
       "</div>"
      ],
      "text/plain": [
       "                   A  B\n",
       "0  THE SUN is bright  1\n",
       "1  THE night is DARK  2"
      ]
     },
     "execution_count": 14,
     "metadata": {},
     "output_type": "execute_result"
    },
    {
     "name": "stdout",
     "output_type": "stream",
     "text": [
      "time: 15.6 ms\n"
     ]
    }
   ],
   "source": [
    "df['A'] = pak.replace_str( df.A, translate)\n",
    "df"
   ]
  },
  {
   "cell_type": "code",
   "execution_count": null,
   "metadata": {},
   "outputs": [],
   "source": []
  }
 ],
 "metadata": {
  "kernelspec": {
   "display_name": "Python 3 (ipykernel)",
   "language": "python",
   "name": "python3"
  },
  "language_info": {
   "codemirror_mode": {
    "name": "ipython",
    "version": 3
   },
   "file_extension": ".py",
   "mimetype": "text/x-python",
   "name": "python",
   "nbconvert_exporter": "python",
   "pygments_lexer": "ipython3",
   "version": "3.9.13"
  }
 },
 "nbformat": 4,
 "nbformat_minor": 4
}
