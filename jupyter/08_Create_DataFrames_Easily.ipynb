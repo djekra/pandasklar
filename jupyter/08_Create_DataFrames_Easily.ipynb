{
 "cells": [
  {
   "cell_type": "markdown",
   "metadata": {},
   "source": [
    "__[Open and try this file online (Colab)](https://colab.research.google.com/github/djekra/pandasklar/blob/master/jupyter/24_Create_DataFrames_Easily.ipynb)__"
   ]
  },
  {
   "cell_type": "markdown",
   "metadata": {},
   "source": [
    "# Create DataFrames Easily\n",
    "* `dataframe`: Converts multidimensional objects into dataframes. Dictionaries and Tuples are interpreted column-wise, Lists and Counters by rows."
   ]
  },
  {
   "cell_type": "code",
   "execution_count": 25,
   "metadata": {
    "execution": {
     "iopub.execute_input": "2025-03-30T15:40:50.154481Z",
     "iopub.status.busy": "2025-03-30T15:40:50.151260Z",
     "iopub.status.idle": "2025-03-30T15:40:50.268623Z",
     "shell.execute_reply": "2025-03-30T15:40:50.267800Z",
     "shell.execute_reply.started": "2025-03-30T15:40:50.154321Z"
    }
   },
   "outputs": [
    {
     "name": "stdout",
     "output_type": "stream",
     "text": [
      "blab init\n",
      "environment['in_colab']     = False\n",
      "environment['dropbox_path'] = /media/me/LinuxDropbox/Dropbox\n",
      "environment['lib_path']     = /media/me/LinuxDropbox/Dropbox/31_Projekte/01_Python/libs\n",
      "Start Time: 17:40:50\n"
     ]
    },
    {
     "data": {
      "text/html": [
       "<img src onerror=\"var cell = this.closest('.jp-CodeCell');var editor = cell.querySelector('.jp-Editor');editor.style.background='Beige';this.parentNode.removeChild(this)\">"
      ],
      "text/plain": [
       "<IPython.core.display.HTML object>"
      ]
     },
     "metadata": {},
     "output_type": "display_data"
    }
   ],
   "source": [
    "# blab init\n",
    "try:\n",
    "    import blab\n",
    "except ImportError as e:\n",
    "    !pip install blab\n",
    "    import blab    \n",
    "startup_notebook = blab.blab_startup()\n",
    "%run $startup_notebook "
   ]
  },
  {
   "cell_type": "code",
   "execution_count": 26,
   "metadata": {
    "execution": {
     "iopub.execute_input": "2025-03-30T15:40:50.270339Z",
     "iopub.status.busy": "2025-03-30T15:40:50.269683Z",
     "iopub.status.idle": "2025-03-30T15:40:50.290480Z",
     "shell.execute_reply": "2025-03-30T15:40:50.289792Z",
     "shell.execute_reply.started": "2025-03-30T15:40:50.270300Z"
    }
   },
   "outputs": [
    {
     "name": "stdout",
     "output_type": "stream",
     "text": [
      "VERBOSE = True\n",
      "--> setting parameter verbose=True as default for all pandasklar functions\n",
      "\n",
      "FRAMEWORK = polars\n",
      "--> setting parameter framework=polars as default for all pandasklar functions\n",
      "\n"
     ]
    }
   ],
   "source": [
    "import numpy      as np\n",
    "import pandas     as pd \n",
    "import polars     as pl\n",
    "import datetime   as dt\n",
    "import bpyth      as bpy\n",
    "\n",
    "# pandasklar\n",
    "try:\n",
    "    import pandasklar as pak \n",
    "except ImportError as e:\n",
    "    !pip install pandasklar\n",
    "    import pandasklar as pak   \n",
    "    \n",
    "# Config\n",
    "pak.Config.set('VERBOSE', True)\n",
    "pak.Config.set('FRAMEWORK', 'polars')\n",
    "\n",
    "# copy_on_write\n",
    "pd.set_option(\"mode.copy_on_write\", True)"
   ]
  },
  {
   "cell_type": "markdown",
   "metadata": {},
   "source": [
    "## dataframe()"
   ]
  },
  {
   "cell_type": "code",
   "execution_count": 27,
   "metadata": {
    "execution": {
     "iopub.execute_input": "2025-03-30T15:40:50.291483Z",
     "iopub.status.busy": "2025-03-30T15:40:50.291265Z",
     "iopub.status.idle": "2025-03-30T15:40:50.311930Z",
     "shell.execute_reply": "2025-03-30T15:40:50.311021Z",
     "shell.execute_reply.started": "2025-03-30T15:40:50.291464Z"
    }
   },
   "outputs": [
    {
     "data": {
      "text/markdown": [
       "<span style=\"font-size:larger; margin-top: 15px; display: block;\">**dataframe**(inp, verbose=None, framework=None):</span>\n",
       "\n",
       "Converts various multidimensional objects into DataFrames (Pandas or Polars).\n",
       "\n",
       "This function intelligently transforms a wide range of input data structures into either a\n",
       "Pandas DataFrame or a Polars DataFrame, based on the specified `framework`. It automatically\n",
       "infers the intended structure (row-wise or column-wise) and handles various data types.\n",
       "\n",
       "**Input Handling:**\n",
       "\n",
       "The function can handle the following input types:\n",
       "\n",
       "- **Scalars:** Single values (int, float, str, bool) are converted into a 1x1 DataFrame.\n",
       "- **Lists:**\n",
       "    - One-dimensional lists are interpreted as a single row.\n",
       "    - Multidimensional lists (list of lists, list of tuples) are interpreted row-wise,\n",
       "      where each inner list/tuple represents a row.\n",
       "    - A list of Series is interpreted column-wise.\n",
       "- **Tuples:**\n",
       "    - One-dimensional tuples are interpreted as a single row.\n",
       "    - Multidimensional tuples (tuple of lists, tuple of tuples) are interpreted column-wise,\n",
       "      where each inner list/tuple represents a column.\n",
       "    - A tuple of Series is interpreted column-wise.\n",
       "- **Dictionaries:**\n",
       "    - One-dimensional dictionaries are interpreted as a single row.\n",
       "    - Multidimensional dictionaries are interpreted column-wise, where keys become column names.\n",
       "    - Lists of dictionaries are interpreted row-wise.\n",
       "- **Pandas Series** (pd.Series): Interpreted as a single column.\n",
       "- **Polars Series** (pl.Series): Interpreted as a single column.\n",
       "- **NumPy ndarrays** (np.ndarray): Interpreted as a single column.\n",
       "- **Lists/Tuples of Series/ndarrays:** Interpreted column-wise, where each Series/ndarray represents a column.\n",
       "\n",
       "**Key Features:**\n",
       "- **Automatic Structure Inference:** The function automatically determines whether the input data\n",
       "  should be interpreted row-wise or column-wise, based on the input type.\n",
       "- **Column Name Handling:** Sensible column names are automatically assigned if not provided.\n",
       "  Duplicate column names or numeric column names are replaced with letters (A, B, C, ...).\n",
       "- **Framework Flexibility:** Supports both Pandas and Polars DataFrames.\n",
       "- **Series/ndarray Handling:** Correctly handles Pandas Series, Polars Series, and NumPy ndarrays as columns.\n",
       "- **Robustness:** Handles various edge cases, including empty inputs and mixed data types.\n",
       "\n",
       "**Args:**\n",
       "- `inp`: The input object to be converted into a DataFrame. Can be any of the types listed above.\n",
       "- `verbose` (bool, optional): If True, prints detailed information about the input object and the\n",
       "        conversion process. Defaults to the value of `Config.get('VERBOSE')`.\n",
       "- `framework` (str, optional): Specifies the desired DataFrame framework. Must be either 'pandas'\n",
       "        or 'polars'. Defaults to the value of `Config.get('FRAMEWORK')`.\n",
       "\n",
       "**Returns:**\n",
       "- pandas.DataFrame or polars.DataFrame: The resulting DataFrame, based on the specified `framework`."
      ],
      "text/plain": [
       "<IPython.core.display.Markdown object>"
      ]
     },
     "metadata": {},
     "output_type": "display_data"
    }
   ],
   "source": [
    "help(pak.dataframe)"
   ]
  },
  {
   "cell_type": "markdown",
   "metadata": {},
   "source": [
    "### Rowwise"
   ]
  },
  {
   "cell_type": "code",
   "execution_count": 28,
   "metadata": {
    "execution": {
     "iopub.execute_input": "2025-03-30T15:40:50.313811Z",
     "iopub.status.busy": "2025-03-30T15:40:50.313274Z",
     "iopub.status.idle": "2025-03-30T15:40:50.330360Z",
     "shell.execute_reply": "2025-03-30T15:40:50.329707Z",
     "shell.execute_reply.started": "2025-03-30T15:40:50.313782Z"
    }
   },
   "outputs": [],
   "source": [
    "# 2 dimensions \n",
    "inp = [ list('Hallo'), \n",
    "        list('Welt!'), \n",
    "        list('Coole'),  \n",
    "        list('Sache'),        \n",
    "      ]"
   ]
  },
  {
   "cell_type": "code",
   "execution_count": 29,
   "metadata": {
    "execution": {
     "iopub.execute_input": "2025-03-30T15:40:50.331542Z",
     "iopub.status.busy": "2025-03-30T15:40:50.331187Z",
     "iopub.status.idle": "2025-03-30T15:40:50.357689Z",
     "shell.execute_reply": "2025-03-30T15:40:50.357009Z",
     "shell.execute_reply.started": "2025-03-30T15:40:50.331510Z"
    }
   },
   "outputs": [
    {
     "name": "stdout",
     "output_type": "stream",
     "text": [
      "dataframe: Input rtype=('list', 'list', 'str') shape=(4, 5)\n"
     ]
    },
    {
     "data": {
      "text/html": [
       "<div>\n",
       "<style scoped>\n",
       "    .dataframe tbody tr th:only-of-type {\n",
       "        vertical-align: middle;\n",
       "    }\n",
       "\n",
       "    .dataframe tbody tr th {\n",
       "        vertical-align: top;\n",
       "    }\n",
       "\n",
       "    .dataframe thead th {\n",
       "        text-align: right;\n",
       "    }\n",
       "</style>\n",
       "<table border=\"1\" class=\"dataframe\">\n",
       "  <thead>\n",
       "    <tr style=\"text-align: right;\">\n",
       "      <th></th>\n",
       "      <th>A</th>\n",
       "      <th>B</th>\n",
       "      <th>C</th>\n",
       "      <th>D</th>\n",
       "      <th>E</th>\n",
       "    </tr>\n",
       "  </thead>\n",
       "  <tbody>\n",
       "    <tr>\n",
       "      <th>0</th>\n",
       "      <td>H</td>\n",
       "      <td>a</td>\n",
       "      <td>l</td>\n",
       "      <td>l</td>\n",
       "      <td>o</td>\n",
       "    </tr>\n",
       "    <tr>\n",
       "      <th>1</th>\n",
       "      <td>W</td>\n",
       "      <td>e</td>\n",
       "      <td>l</td>\n",
       "      <td>t</td>\n",
       "      <td>!</td>\n",
       "    </tr>\n",
       "    <tr>\n",
       "      <th>2</th>\n",
       "      <td>C</td>\n",
       "      <td>o</td>\n",
       "      <td>o</td>\n",
       "      <td>l</td>\n",
       "      <td>e</td>\n",
       "    </tr>\n",
       "    <tr>\n",
       "      <th>3</th>\n",
       "      <td>S</td>\n",
       "      <td>a</td>\n",
       "      <td>c</td>\n",
       "      <td>h</td>\n",
       "      <td>e</td>\n",
       "    </tr>\n",
       "  </tbody>\n",
       "</table>\n",
       "</div>"
      ],
      "text/plain": [
       "   A  B  C  D  E\n",
       "0  H  a  l  l  o\n",
       "1  W  e  l  t  !\n",
       "2  C  o  o  l  e\n",
       "3  S  a  c  h  e"
      ]
     },
     "execution_count": 29,
     "metadata": {},
     "output_type": "execute_result"
    }
   ],
   "source": [
    "out = pak.dataframe(inp, framework='pandas')\n",
    "out"
   ]
  },
  {
   "cell_type": "code",
   "execution_count": 30,
   "metadata": {
    "execution": {
     "iopub.execute_input": "2025-03-30T15:40:50.358761Z",
     "iopub.status.busy": "2025-03-30T15:40:50.358472Z",
     "iopub.status.idle": "2025-03-30T15:40:50.387356Z",
     "shell.execute_reply": "2025-03-30T15:40:50.386149Z",
     "shell.execute_reply.started": "2025-03-30T15:40:50.358739Z"
    }
   },
   "outputs": [
    {
     "name": "stdout",
     "output_type": "stream",
     "text": [
      "dataframe: Input rtype=('list', 'list', 'int') shape=(4, 3)\n"
     ]
    },
    {
     "data": {
      "text/html": [
       "<div><style>\n",
       ".dataframe > thead > tr,\n",
       ".dataframe > tbody > tr {\n",
       "  text-align: right;\n",
       "  white-space: pre-wrap;\n",
       "}\n",
       "</style>\n",
       "<small>shape: (4, 3)</small><table border=\"1\" class=\"dataframe\"><thead><tr><th>A</th><th>B</th><th>C</th></tr><tr><td>i64</td><td>i64</td><td>i64</td></tr></thead><tbody><tr><td>1</td><td>2</td><td>3</td></tr><tr><td>4</td><td>5</td><td>6</td></tr><tr><td>7</td><td>8</td><td>9</td></tr><tr><td>10</td><td>11</td><td>12</td></tr></tbody></table></div>"
      ],
      "text/plain": [
       "shape: (4, 3)\n",
       "┌─────┬─────┬─────┐\n",
       "│ A   ┆ B   ┆ C   │\n",
       "│ --- ┆ --- ┆ --- │\n",
       "│ i64 ┆ i64 ┆ i64 │\n",
       "╞═════╪═════╪═════╡\n",
       "│ 1   ┆ 2   ┆ 3   │\n",
       "│ 4   ┆ 5   ┆ 6   │\n",
       "│ 7   ┆ 8   ┆ 9   │\n",
       "│ 10  ┆ 11  ┆ 12  │\n",
       "└─────┴─────┴─────┘"
      ]
     },
     "execution_count": 30,
     "metadata": {},
     "output_type": "execute_result"
    }
   ],
   "source": [
    "# 2 dimensions\n",
    "inp = [[1,2,3],[4,5,6], [7, 8, 9], [10, 11, 12]]\n",
    "out = pak.dataframe(inp, framework='polars')\n",
    "out"
   ]
  },
  {
   "cell_type": "markdown",
   "metadata": {},
   "source": [
    "### Columnwise"
   ]
  },
  {
   "cell_type": "code",
   "execution_count": 31,
   "metadata": {
    "execution": {
     "iopub.execute_input": "2025-03-30T15:40:50.389415Z",
     "iopub.status.busy": "2025-03-30T15:40:50.388988Z",
     "iopub.status.idle": "2025-03-30T15:40:50.423206Z",
     "shell.execute_reply": "2025-03-30T15:40:50.421926Z",
     "shell.execute_reply.started": "2025-03-30T15:40:50.389376Z"
    }
   },
   "outputs": [
    {
     "name": "stdout",
     "output_type": "stream",
     "text": [
      "dataframe: Input rtype=('tuple', 'list', 'int') shape=(4, 5)\n"
     ]
    },
    {
     "data": {
      "text/html": [
       "<div>\n",
       "<style scoped>\n",
       "    .dataframe tbody tr th:only-of-type {\n",
       "        vertical-align: middle;\n",
       "    }\n",
       "\n",
       "    .dataframe tbody tr th {\n",
       "        vertical-align: top;\n",
       "    }\n",
       "\n",
       "    .dataframe thead th {\n",
       "        text-align: right;\n",
       "    }\n",
       "</style>\n",
       "<table border=\"1\" class=\"dataframe\">\n",
       "  <thead>\n",
       "    <tr style=\"text-align: right;\">\n",
       "      <th></th>\n",
       "      <th>A</th>\n",
       "      <th>B</th>\n",
       "      <th>C</th>\n",
       "      <th>D</th>\n",
       "    </tr>\n",
       "  </thead>\n",
       "  <tbody>\n",
       "    <tr>\n",
       "      <th>0</th>\n",
       "      <td>1</td>\n",
       "      <td>a</td>\n",
       "      <td>100</td>\n",
       "      <td>18%</td>\n",
       "    </tr>\n",
       "    <tr>\n",
       "      <th>1</th>\n",
       "      <td>2</td>\n",
       "      <td>v</td>\n",
       "      <td>55</td>\n",
       "      <td>105%</td>\n",
       "    </tr>\n",
       "    <tr>\n",
       "      <th>2</th>\n",
       "      <td>3</td>\n",
       "      <td>vvvv</td>\n",
       "      <td>315</td>\n",
       "      <td>56%</td>\n",
       "    </tr>\n",
       "    <tr>\n",
       "      <th>3</th>\n",
       "      <td>4</td>\n",
       "      <td>e</td>\n",
       "      <td>68</td>\n",
       "      <td>12%</td>\n",
       "    </tr>\n",
       "    <tr>\n",
       "      <th>4</th>\n",
       "      <td>6</td>\n",
       "      <td>Q</td>\n",
       "      <td>23</td>\n",
       "      <td>4%</td>\n",
       "    </tr>\n",
       "  </tbody>\n",
       "</table>\n",
       "</div>"
      ],
      "text/plain": [
       "   A     B    C     D\n",
       "0  1     a  100   18%\n",
       "1  2     v   55  105%\n",
       "2  3  vvvv  315   56%\n",
       "3  4     e   68   12%\n",
       "4  6     Q   23    4%"
      ]
     },
     "execution_count": 31,
     "metadata": {},
     "output_type": "execute_result"
    }
   ],
   "source": [
    "# Tuple of lists\n",
    "Number = [1,2,3,4,6]\n",
    "L1     = ['a','v','vvvv','e','Q']\n",
    "L2     = [100, 55, 315, 68, 23]\n",
    "L3     = ['18%','105%','56%','12%','4%']\n",
    "inp = (Number, L1, L2, L3)\n",
    "\n",
    "df = pak.dataframe(inp, framework='pandas')\n",
    "df"
   ]
  },
  {
   "cell_type": "code",
   "execution_count": 32,
   "metadata": {
    "execution": {
     "iopub.execute_input": "2025-03-30T15:40:50.424996Z",
     "iopub.status.busy": "2025-03-30T15:40:50.424282Z",
     "iopub.status.idle": "2025-03-30T15:40:50.466278Z",
     "shell.execute_reply": "2025-03-30T15:40:50.464581Z",
     "shell.execute_reply.started": "2025-03-30T15:40:50.424953Z"
    }
   },
   "outputs": [
    {
     "name": "stdout",
     "output_type": "stream",
     "text": [
      "dataframe: Input rtype=('dict', 'list', 'int') shape=(5, 4)\n",
      "dataframe: dict\n"
     ]
    },
    {
     "data": {
      "text/html": [
       "<div><style>\n",
       ".dataframe > thead > tr,\n",
       ".dataframe > tbody > tr {\n",
       "  text-align: right;\n",
       "  white-space: pre-wrap;\n",
       "}\n",
       "</style>\n",
       "<small>shape: (4, 5)</small><table border=\"1\" class=\"dataframe\"><thead><tr><th>AA</th><th>BB</th><th>CC</th><th>DD</th><th>EE</th></tr><tr><td>i64</td><td>i64</td><td>i64</td><td>i64</td><td>i64</td></tr></thead><tbody><tr><td>1</td><td>2</td><td>3</td><td>4</td><td>5</td></tr><tr><td>1</td><td>4</td><td>6</td><td>4</td><td>10</td></tr><tr><td>1</td><td>8</td><td>9</td><td>4</td><td>15</td></tr><tr><td>1</td><td>16</td><td>12</td><td>4</td><td>20</td></tr></tbody></table></div>"
      ],
      "text/plain": [
       "shape: (4, 5)\n",
       "┌─────┬─────┬─────┬─────┬─────┐\n",
       "│ AA  ┆ BB  ┆ CC  ┆ DD  ┆ EE  │\n",
       "│ --- ┆ --- ┆ --- ┆ --- ┆ --- │\n",
       "│ i64 ┆ i64 ┆ i64 ┆ i64 ┆ i64 │\n",
       "╞═════╪═════╪═════╪═════╪═════╡\n",
       "│ 1   ┆ 2   ┆ 3   ┆ 4   ┆ 5   │\n",
       "│ 1   ┆ 4   ┆ 6   ┆ 4   ┆ 10  │\n",
       "│ 1   ┆ 8   ┆ 9   ┆ 4   ┆ 15  │\n",
       "│ 1   ┆ 16  ┆ 12  ┆ 4   ┆ 20  │\n",
       "└─────┴─────┴─────┴─────┴─────┘"
      ]
     },
     "execution_count": 32,
     "metadata": {},
     "output_type": "execute_result"
    }
   ],
   "source": [
    "# dict of lists\n",
    "inp = {'AA': [1,1,1,1],\n",
    "       'BB': [2,4,8,16],\n",
    "       'CC': [3,6,9,12],\n",
    "       'DD': [4,4,4,4],\n",
    "       'EE': [5,10,15,20],                \n",
    "               }\n",
    "out = pak.dataframe(inp)\n",
    "out"
   ]
  },
  {
   "cell_type": "code",
   "execution_count": 33,
   "metadata": {
    "execution": {
     "iopub.execute_input": "2025-03-30T15:40:50.467741Z",
     "iopub.status.busy": "2025-03-30T15:40:50.467412Z",
     "iopub.status.idle": "2025-03-30T15:40:50.503807Z",
     "shell.execute_reply": "2025-03-30T15:40:50.502873Z",
     "shell.execute_reply.started": "2025-03-30T15:40:50.467711Z"
    }
   },
   "outputs": [
    {
     "name": "stdout",
     "output_type": "stream",
     "text": [
      "dataframe: Input rtype=('dict', 'tuple', 'int') shape=(5, 4)\n",
      "dataframe: dict\n"
     ]
    },
    {
     "data": {
      "text/html": [
       "<div><style>\n",
       ".dataframe > thead > tr,\n",
       ".dataframe > tbody > tr {\n",
       "  text-align: right;\n",
       "  white-space: pre-wrap;\n",
       "}\n",
       "</style>\n",
       "<small>shape: (4, 5)</small><table border=\"1\" class=\"dataframe\"><thead><tr><th>AA</th><th>BB</th><th>CC</th><th>DD</th><th>EE</th></tr><tr><td>i64</td><td>i64</td><td>i64</td><td>i64</td><td>i64</td></tr></thead><tbody><tr><td>1</td><td>2</td><td>3</td><td>4</td><td>5</td></tr><tr><td>1</td><td>4</td><td>6</td><td>4</td><td>10</td></tr><tr><td>1</td><td>8</td><td>9</td><td>4</td><td>15</td></tr><tr><td>1</td><td>16</td><td>12</td><td>4</td><td>20</td></tr></tbody></table></div>"
      ],
      "text/plain": [
       "shape: (4, 5)\n",
       "┌─────┬─────┬─────┬─────┬─────┐\n",
       "│ AA  ┆ BB  ┆ CC  ┆ DD  ┆ EE  │\n",
       "│ --- ┆ --- ┆ --- ┆ --- ┆ --- │\n",
       "│ i64 ┆ i64 ┆ i64 ┆ i64 ┆ i64 │\n",
       "╞═════╪═════╪═════╪═════╪═════╡\n",
       "│ 1   ┆ 2   ┆ 3   ┆ 4   ┆ 5   │\n",
       "│ 1   ┆ 4   ┆ 6   ┆ 4   ┆ 10  │\n",
       "│ 1   ┆ 8   ┆ 9   ┆ 4   ┆ 15  │\n",
       "│ 1   ┆ 16  ┆ 12  ┆ 4   ┆ 20  │\n",
       "└─────┴─────┴─────┴─────┴─────┘"
      ]
     },
     "execution_count": 33,
     "metadata": {},
     "output_type": "execute_result"
    }
   ],
   "source": [
    "# dict of tuples\n",
    "inp = {'AA': (1,1,1,1   ),\n",
    "       'BB': (2,4,8,16  ),\n",
    "       'CC': (3,6,9,12  ),\n",
    "       'DD': (4,4,4,4   ),\n",
    "       'EE': (5,10,15,20),                \n",
    "               }\n",
    "out = pak.dataframe(inp)\n",
    "out"
   ]
  },
  {
   "cell_type": "code",
   "execution_count": 34,
   "metadata": {
    "execution": {
     "iopub.execute_input": "2025-03-30T15:40:50.507907Z",
     "iopub.status.busy": "2025-03-30T15:40:50.507437Z",
     "iopub.status.idle": "2025-03-30T15:40:50.531146Z",
     "shell.execute_reply": "2025-03-30T15:40:50.530221Z",
     "shell.execute_reply.started": "2025-03-30T15:40:50.507849Z"
    }
   },
   "outputs": [
    {
     "name": "stdout",
     "output_type": "stream",
     "text": [
      "dataframe: Input rtype=('list', 'dict', 'int') shape=(3, 3)\n"
     ]
    },
    {
     "data": {
      "text/html": [
       "<div><style>\n",
       ".dataframe > thead > tr,\n",
       ".dataframe > tbody > tr {\n",
       "  text-align: right;\n",
       "  white-space: pre-wrap;\n",
       "}\n",
       "</style>\n",
       "<small>shape: (3, 3)</small><table border=\"1\" class=\"dataframe\"><thead><tr><th>AA</th><th>BB</th><th>CC</th></tr><tr><td>i64</td><td>i64</td><td>i64</td></tr></thead><tbody><tr><td>1</td><td>2</td><td>3</td></tr><tr><td>1</td><td>4</td><td>9</td></tr><tr><td>1</td><td>16</td><td>81</td></tr></tbody></table></div>"
      ],
      "text/plain": [
       "shape: (3, 3)\n",
       "┌─────┬─────┬─────┐\n",
       "│ AA  ┆ BB  ┆ CC  │\n",
       "│ --- ┆ --- ┆ --- │\n",
       "│ i64 ┆ i64 ┆ i64 │\n",
       "╞═════╪═════╪═════╡\n",
       "│ 1   ┆ 2   ┆ 3   │\n",
       "│ 1   ┆ 4   ┆ 9   │\n",
       "│ 1   ┆ 16  ┆ 81  │\n",
       "└─────┴─────┴─────┘"
      ]
     },
     "execution_count": 34,
     "metadata": {},
     "output_type": "execute_result"
    }
   ],
   "source": [
    "# list of dicts\n",
    "inp = [ {'AA': 1, 'BB': 2,  'CC': 3, },\n",
    "        {'AA': 1, 'BB': 4,  'CC': 9, },\n",
    "        {'AA': 1, 'BB': 16, 'CC': 81, } ]    \n",
    "out = pak.dataframe(inp)\n",
    "out"
   ]
  },
  {
   "cell_type": "code",
   "execution_count": 35,
   "metadata": {
    "execution": {
     "iopub.execute_input": "2025-03-30T15:40:50.532446Z",
     "iopub.status.busy": "2025-03-30T15:40:50.532056Z",
     "iopub.status.idle": "2025-03-30T15:40:50.567375Z",
     "shell.execute_reply": "2025-03-30T15:40:50.566316Z",
     "shell.execute_reply.started": "2025-03-30T15:40:50.532408Z"
    }
   },
   "outputs": [
    {
     "name": "stdout",
     "output_type": "stream",
     "text": [
      "dataframe: Input rtype=('dict', 'dict', 'int') shape=(3, 4)\n",
      "dataframe: dict\n"
     ]
    },
    {
     "data": {
      "text/html": [
       "<div><style>\n",
       ".dataframe > thead > tr,\n",
       ".dataframe > tbody > tr {\n",
       "  text-align: right;\n",
       "  white-space: pre-wrap;\n",
       "}\n",
       "</style>\n",
       "<small>shape: (4, 3)</small><table border=\"1\" class=\"dataframe\"><thead><tr><th>0</th><th>1</th><th>2</th></tr><tr><td>i64</td><td>i64</td><td>i64</td></tr></thead><tbody><tr><td>5</td><td>10</td><td>15</td></tr><tr><td>0</td><td>0</td><td>0</td></tr><tr><td>3</td><td>3</td><td>7</td></tr><tr><td>3</td><td>5</td><td>6</td></tr></tbody></table></div>"
      ],
      "text/plain": [
       "shape: (4, 3)\n",
       "┌─────┬─────┬─────┐\n",
       "│ 0   ┆ 1   ┆ 2   │\n",
       "│ --- ┆ --- ┆ --- │\n",
       "│ i64 ┆ i64 ┆ i64 │\n",
       "╞═════╪═════╪═════╡\n",
       "│ 5   ┆ 10  ┆ 15  │\n",
       "│ 0   ┆ 0   ┆ 0   │\n",
       "│ 3   ┆ 3   ┆ 7   │\n",
       "│ 3   ┆ 5   ┆ 6   │\n",
       "└─────┴─────┴─────┘"
      ]
     },
     "execution_count": 35,
     "metadata": {},
     "output_type": "execute_result"
    }
   ],
   "source": [
    "# dict of dicts\n",
    "inp ={\n",
    " 0: {'AA':  5, 'BB': 0, 'CC': 3, 'DD': 3},\n",
    " 1: {'AA': 10, 'BB': 0, 'CC': 3, 'DD': 5},\n",
    " 2: {'AA': 15, 'BB': 0, 'CC': 7, 'DD': 6}}\n",
    "out = pak.dataframe(inp, framework='polars')\n",
    "out"
   ]
  },
  {
   "cell_type": "code",
   "execution_count": 36,
   "metadata": {
    "execution": {
     "iopub.execute_input": "2025-03-30T15:40:50.568745Z",
     "iopub.status.busy": "2025-03-30T15:40:50.568319Z",
     "iopub.status.idle": "2025-03-30T15:40:50.597589Z",
     "shell.execute_reply": "2025-03-30T15:40:50.596402Z",
     "shell.execute_reply.started": "2025-03-30T15:40:50.568704Z"
    }
   },
   "outputs": [
    {
     "name": "stdout",
     "output_type": "stream",
     "text": [
      "dataframe: Input rtype=('dict', 'ndarray', 'int') shape=(-77, -77)\n",
      "dataframe: dict\n"
     ]
    },
    {
     "data": {
      "text/html": [
       "<div><style>\n",
       ".dataframe > thead > tr,\n",
       ".dataframe > tbody > tr {\n",
       "  text-align: right;\n",
       "  white-space: pre-wrap;\n",
       "}\n",
       "</style>\n",
       "<small>shape: (4, 4)</small><table border=\"1\" class=\"dataframe\"><thead><tr><th>AA</th><th>BB</th><th>CC</th><th>DD</th></tr><tr><td>i32</td><td>cat</td><td>f32</td><td>str</td></tr></thead><tbody><tr><td>-77</td><td>&quot;test&quot;</td><td>1.0</td><td>&quot;foo&quot;</td></tr><tr><td>-77</td><td>&quot;train&quot;</td><td>1.0</td><td>&quot;foo&quot;</td></tr><tr><td>-77</td><td>&quot;test&quot;</td><td>1.0</td><td>&quot;foo&quot;</td></tr><tr><td>-77</td><td>&quot;train&quot;</td><td>1.0</td><td>&quot;foo&quot;</td></tr></tbody></table></div>"
      ],
      "text/plain": [
       "shape: (4, 4)\n",
       "┌─────┬───────┬─────┬─────┐\n",
       "│ AA  ┆ BB    ┆ CC  ┆ DD  │\n",
       "│ --- ┆ ---   ┆ --- ┆ --- │\n",
       "│ i32 ┆ cat   ┆ f32 ┆ str │\n",
       "╞═════╪═══════╪═════╪═════╡\n",
       "│ -77 ┆ test  ┆ 1.0 ┆ foo │\n",
       "│ -77 ┆ train ┆ 1.0 ┆ foo │\n",
       "│ -77 ┆ test  ┆ 1.0 ┆ foo │\n",
       "│ -77 ┆ train ┆ 1.0 ┆ foo │\n",
       "└─────┴───────┴─────┴─────┘"
      ]
     },
     "execution_count": 36,
     "metadata": {},
     "output_type": "execute_result"
    }
   ],
   "source": [
    "# dict of mix\n",
    "inp = { 'AA': np.array([-77] * 4, dtype='int32'),\n",
    "        'BB': pd.Categorical([\"test\", \"train\", \"test\", \"train\"]),\n",
    "        'CC': pd.Series(1, index=list(range(4)), dtype='float32'),\n",
    "        'DD': 'foo', \n",
    "      }\n",
    "out = pak.dataframe(inp)\n",
    "out"
   ]
  },
  {
   "cell_type": "code",
   "execution_count": 37,
   "metadata": {
    "execution": {
     "iopub.execute_input": "2025-03-30T15:40:50.599037Z",
     "iopub.status.busy": "2025-03-30T15:40:50.598648Z",
     "iopub.status.idle": "2025-03-30T15:40:50.623813Z",
     "shell.execute_reply": "2025-03-30T15:40:50.622887Z",
     "shell.execute_reply.started": "2025-03-30T15:40:50.599001Z"
    }
   },
   "outputs": [
    {
     "name": "stdout",
     "output_type": "stream",
     "text": [
      "dataframe: Input rtype=('dict', 'ndarray', 'float') shape=(2, 50)\n",
      "dataframe: dict\n"
     ]
    },
    {
     "data": {
      "text/html": [
       "<div><style>\n",
       ".dataframe > thead > tr,\n",
       ".dataframe > tbody > tr {\n",
       "  text-align: right;\n",
       "  white-space: pre-wrap;\n",
       "}\n",
       "</style>\n",
       "<small>shape: (4, 2)</small><table border=\"1\" class=\"dataframe\"><thead><tr><th>AA</th><th>BB</th></tr><tr><td>f64</td><td>f64</td></tr></thead><tbody><tr><td>0.0</td><td>-10.0</td></tr><tr><td>0.204082</td><td>-9.795918</td></tr><tr><td>0.408163</td><td>-9.591837</td></tr><tr><td>0.612245</td><td>-9.387755</td></tr></tbody></table></div>"
      ],
      "text/plain": [
       "shape: (4, 2)\n",
       "┌──────────┬───────────┐\n",
       "│ AA       ┆ BB        │\n",
       "│ ---      ┆ ---       │\n",
       "│ f64      ┆ f64       │\n",
       "╞══════════╪═══════════╡\n",
       "│ 0.0      ┆ -10.0     │\n",
       "│ 0.204082 ┆ -9.795918 │\n",
       "│ 0.408163 ┆ -9.591837 │\n",
       "│ 0.612245 ┆ -9.387755 │\n",
       "└──────────┴───────────┘"
      ]
     },
     "execution_count": 37,
     "metadata": {},
     "output_type": "execute_result"
    }
   ],
   "source": [
    "# Linear Series\n",
    "inp = {'AA': np.linspace(0, 10), \n",
    "       'BB': np.linspace(-10, 0) }\n",
    "out = pak.dataframe(inp)\n",
    "out.head(4)"
   ]
  },
  {
   "cell_type": "markdown",
   "metadata": {},
   "source": [
    "### Columnwise: list or tuple of Series"
   ]
  },
  {
   "cell_type": "code",
   "execution_count": 38,
   "metadata": {
    "execution": {
     "iopub.execute_input": "2025-03-30T15:40:50.626839Z",
     "iopub.status.busy": "2025-03-30T15:40:50.626188Z",
     "iopub.status.idle": "2025-03-30T15:40:50.696234Z",
     "shell.execute_reply": "2025-03-30T15:40:50.695599Z",
     "shell.execute_reply.started": "2025-03-30T15:40:50.626811Z"
    }
   },
   "outputs": [
    {
     "data": {
      "text/plain": [
       "\u001b[31mSignature:\u001b[39m pak.random_series(size, typ, framework=\u001b[38;5;28;01mNone\u001b[39;00m, **kwargs)\n",
       "\u001b[31mDocstring:\u001b[39m\n",
       "Returns a series of random data. \n",
       "* size\n",
       "* typ: 'int', 'float', 'string', 'name', 'choice', 'list', 'time', mix',\n",
       "       'ascending', 'descending', 'perlin' or 'errorprone'. Or the first letter of this.\n",
       "       'name' generates random first names, 'list' generates lists of random first names.\n",
       "       'mix' generates mixed datatypes. \n",
       "       'ascending', 'descending' and 'perlin' generates ordered random sequences.\n",
       "       'errorprone' generates sequences of NaNs, 0, 1 with similar index. Useful for testing. \n",
       "\n",
       "The other arguments are passed to the appropriate functions for the type of random data.\n",
       "General arguments are:\n",
       "* name\n",
       "* p_nan: value 0..1 specifies  how many NaNs are interspersed\n",
       "* p_dup: value 0..1 determines how many Dups are included.\n",
       "\n",
       "There are extra parameters for some types of random data:\n",
       "- int:    min, max: closed interval, min and max are both possible values in the generated data\n",
       "- float:  decimals: how many decimal places\n",
       "- string: len_min, len_max: controls the length of the generated character sequence\n",
       "          mix: Explicit specification of the available character set. Overwrites p_dup. \n",
       "               Example: mix='ABCabc'\n",
       "- list:   len_min, len_max: controls the length of the generated lists. \n",
       "- time:   min, max\n",
       "- choice: choice: List or Series of elements to choose\n",
       "- perlin: freq: List of up to frequencies, see random_perlin for more details\n",
       "          op: 'add' or 'mult', how the frequencies are linked together\n",
       "          sc: scaling, default is 'max_abs', this scales -1..1, see function scale\n",
       "\n",
       "Examples:    \n",
       "=========\n",
       "random_series( 10, 'int')\n",
       "random_series( 10, 'string', len_min=1, len_max=2)\n",
       "\u001b[31mFile:\u001b[39m      /media/me/LinuxDropbox/Dropbox/31_Projekte/01_Python/88_PyCharm/pandasklar/src/pandasklar/content.py\n",
       "\u001b[31mType:\u001b[39m      function"
      ]
     },
     "metadata": {},
     "output_type": "display_data"
    }
   ],
   "source": [
    "?pak.random_series"
   ]
  },
  {
   "cell_type": "code",
   "execution_count": 39,
   "metadata": {
    "execution": {
     "iopub.execute_input": "2025-03-30T15:40:50.697349Z",
     "iopub.status.busy": "2025-03-30T15:40:50.696993Z",
     "iopub.status.idle": "2025-03-30T15:40:50.717704Z",
     "shell.execute_reply": "2025-03-30T15:40:50.716739Z",
     "shell.execute_reply.started": "2025-03-30T15:40:50.697313Z"
    }
   },
   "outputs": [
    {
     "data": {
      "text/html": [
       "<div><style>\n",
       ".dataframe > thead > tr,\n",
       ".dataframe > tbody > tr {\n",
       "  text-align: right;\n",
       "  white-space: pre-wrap;\n",
       "}\n",
       "</style>\n",
       "<small>shape: (10,)</small><table border=\"1\" class=\"dataframe\"><thead><tr><th>rnd_int</th></tr><tr><td>i64</td></tr></thead><tbody><tr><td>973</td></tr><tr><td>124</td></tr><tr><td>505</td></tr><tr><td>765</td></tr><tr><td>233</td></tr><tr><td>200</td></tr><tr><td>431</td></tr><tr><td>716</td></tr><tr><td>613</td></tr><tr><td>923</td></tr></tbody></table></div>"
      ],
      "text/plain": [
       "shape: (10,)\n",
       "Series: 'rnd_int' [i64]\n",
       "[\n",
       "\t973\n",
       "\t124\n",
       "\t505\n",
       "\t765\n",
       "\t233\n",
       "\t200\n",
       "\t431\n",
       "\t716\n",
       "\t613\n",
       "\t923\n",
       "]"
      ]
     },
     "execution_count": 39,
     "metadata": {},
     "output_type": "execute_result"
    }
   ],
   "source": [
    "# Try\n",
    "pak.random_series( 10, 'int')"
   ]
  },
  {
   "cell_type": "code",
   "execution_count": 40,
   "metadata": {
    "execution": {
     "iopub.execute_input": "2025-03-30T15:40:50.719671Z",
     "iopub.status.busy": "2025-03-30T15:40:50.719287Z",
     "iopub.status.idle": "2025-03-30T15:40:50.767307Z",
     "shell.execute_reply": "2025-03-30T15:40:50.766264Z",
     "shell.execute_reply.started": "2025-03-30T15:40:50.719640Z"
    }
   },
   "outputs": [
    {
     "name": "stdout",
     "output_type": "stream",
     "text": [
      "dataframe: Input rtype=('list', 'Series', 'str') shape=(-77, -77)\n",
      "dataframe: list or tuple of ndarray or Series\n"
     ]
    },
    {
     "data": {
      "text/html": [
       "<div><style>\n",
       ".dataframe > thead > tr,\n",
       ".dataframe > tbody > tr {\n",
       "  text-align: right;\n",
       "  white-space: pre-wrap;\n",
       "}\n",
       "</style>\n",
       "<small>shape: (10, 7)</small><table border=\"1\" class=\"dataframe\"><thead><tr><th>first_name</th><th>rnd_int</th><th>birtplace</th><th>zip</th><th>secret</th><th>features</th><th>history</th></tr><tr><td>str</td><td>i64</td><td>str</td><td>i64</td><td>str</td><td>object</td><td>list[str]</td></tr></thead><tbody><tr><td>&quot;Carolin&quot;</td><td>37</td><td>&quot;Berlin&quot;</td><td>17139</td><td>&quot;BaFiqÜG&quot;</td><td>{&#x27;v&#x27;, &#x27;g&#x27;, &#x27;K&#x27;, &#x27;f&#x27;, &#x27;T&#x27;}</td><td>[&quot;A&quot;, &quot;B&quot;, &quot;C&quot;]</td></tr><tr><td>&quot;Swen&quot;</td><td>23</td><td>null</td><td>30923</td><td>&quot;ZVnQsu&quot;</td><td>set()</td><td>[&quot;A&quot;, &quot;A&quot;, &quot;A&quot;]</td></tr><tr><td>&quot;Walter&quot;</td><td>26</td><td>null</td><td>null</td><td>&quot;FwlCXI&quot;</td><td>{&#x27;p&#x27;}</td><td>[&quot;A&quot;, &quot;x&quot;]</td></tr><tr><td>&quot;Fabian&quot;</td><td>34</td><td>&quot;Bremen&quot;</td><td>92175</td><td>&quot;mjöVeCaupA&quot;</td><td>{&#x27;d&#x27;}</td><td>[&quot;c&quot;, &quot;b&quot;, &quot;a&quot;]</td></tr><tr><td>&quot;Tom&quot;</td><td>38</td><td>&quot;Berlin&quot;</td><td>52054</td><td>&quot;ücDPZwoÖn&quot;</td><td>{&#x27;F&#x27;, &#x27;l&#x27;, &#x27;V&#x27;, &#x27;G&#x27;}</td><td>[&quot;A&quot;, &quot;B&quot;, … &quot;C&quot;]</td></tr><tr><td>&quot;Till&quot;</td><td>26</td><td>&quot;Berlin&quot;</td><td>43430</td><td>&quot;BuOUq2Yg&quot;</td><td>{&#x27;Z&#x27;, &#x27;y&#x27;, &#x27;t&#x27;, &#x27;e&#x27;, &#x27;0&#x27;}</td><td>[]</td></tr><tr><td>&quot;Anna&quot;</td><td>23</td><td>null</td><td>66523</td><td>&quot;n21Uqlee&quot;</td><td>{&#x27;X&#x27;, &#x27;p&#x27;}</td><td>[&quot;A&quot;, &quot;C&quot;, … &quot;B&quot;]</td></tr><tr><td>&quot;Georg&quot;</td><td>33</td><td>&quot;Berlin&quot;</td><td>43430</td><td>&quot;uvKSZt&quot;</td><td>{&#x27;i&#x27;, &#x27;m&#x27;}</td><td>[&quot;b&quot;, &quot;b&quot;, … &quot;b&quot;]</td></tr><tr><td>&quot;Tanja&quot;</td><td>38</td><td>&quot;Bremen&quot;</td><td>20970</td><td>&quot;yoÖG5Ivul2&quot;</td><td>{&#x27;d&#x27;}</td><td>[&quot;a&quot;, &quot;b&quot;, &quot;c&quot;]</td></tr><tr><td>&quot;Lisa&quot;</td><td>36</td><td>&quot;Bremen&quot;</td><td>17139</td><td>&quot;UtafQBCwy&quot;</td><td>{&#x27;i&#x27;, &#x27;m&#x27;}</td><td>[&quot;A&quot;, &quot;A&quot;, &quot;A&quot;]</td></tr></tbody></table></div>"
      ],
      "text/plain": [
       "shape: (10, 7)\n",
       "┌────────────┬─────────┬───────────┬───────┬────────────┬──────────────────────┬───────────────────┐\n",
       "│ first_name ┆ rnd_int ┆ birtplace ┆ zip   ┆ secret     ┆ features             ┆ history           │\n",
       "│ ---        ┆ ---     ┆ ---       ┆ ---   ┆ ---        ┆ ---                  ┆ ---               │\n",
       "│ str        ┆ i64     ┆ str       ┆ i64   ┆ str        ┆ object               ┆ list[str]         │\n",
       "╞════════════╪═════════╪═══════════╪═══════╪════════════╪══════════════════════╪═══════════════════╡\n",
       "│ Carolin    ┆ 37      ┆ Berlin    ┆ 17139 ┆ BaFiqÜG    ┆ {'v', 'g', 'K', 'f', ┆ [\"A\", \"B\", \"C\"]   │\n",
       "│            ┆         ┆           ┆       ┆            ┆ 'T'}                 ┆                   │\n",
       "│ Swen       ┆ 23      ┆ null      ┆ 30923 ┆ ZVnQsu     ┆ set()                ┆ [\"A\", \"A\", \"A\"]   │\n",
       "│ Walter     ┆ 26      ┆ null      ┆ null  ┆ FwlCXI     ┆ {'p'}                ┆ [\"A\", \"x\"]        │\n",
       "│ Fabian     ┆ 34      ┆ Bremen    ┆ 92175 ┆ mjöVeCaupA ┆ {'d'}                ┆ [\"c\", \"b\", \"a\"]   │\n",
       "│ Tom        ┆ 38      ┆ Berlin    ┆ 52054 ┆ ücDPZwoÖn  ┆ {'F', 'l', 'V', 'G'} ┆ [\"A\", \"B\", … \"C\"] │\n",
       "│ Till       ┆ 26      ┆ Berlin    ┆ 43430 ┆ BuOUq2Yg   ┆ {'Z', 'y', 't', 'e', ┆ []                │\n",
       "│            ┆         ┆           ┆       ┆            ┆ '0'}                 ┆                   │\n",
       "│ Anna       ┆ 23      ┆ null      ┆ 66523 ┆ n21Uqlee   ┆ {'X', 'p'}           ┆ [\"A\", \"C\", … \"B\"] │\n",
       "│ Georg      ┆ 33      ┆ Berlin    ┆ 43430 ┆ uvKSZt     ┆ {'i', 'm'}           ┆ [\"b\", \"b\", … \"b\"] │\n",
       "│ Tanja      ┆ 38      ┆ Bremen    ┆ 20970 ┆ yoÖG5Ivul2 ┆ {'d'}                ┆ [\"a\", \"b\", \"c\"]   │\n",
       "│ Lisa       ┆ 36      ┆ Bremen    ┆ 17139 ┆ UtafQBCwy  ┆ {'i', 'm'}           ┆ [\"A\", \"A\", \"A\"]   │\n",
       "└────────────┴─────────┴───────────┴───────┴────────────┴──────────────────────┴───────────────────┘"
      ]
     },
     "execution_count": 40,
     "metadata": {},
     "output_type": "execute_result"
    }
   ],
   "source": [
    "# \n",
    "anz = 10\n",
    "a = pak.random_series( anz, 'name',                                                             name='first_name' )\n",
    "b = pak.random_series( anz, 'int',    min=20, max=30) + pak.random_series( anz, 'int', min=0, max=12) \n",
    "b.rename('age')\n",
    "c = pak.random_series( anz, 'choice', choice=['Bremen','Berlin'],      p_nan=0.3,   p_dup=0,    name='birtplace')\n",
    "d = pak.random_series( anz, 'int',    min=10000, max=99999,            p_nan=0.02,  p_dup=0.3,  name='zip')\n",
    "e = pak.random_series( anz, 'string', len_min=5, len_max=10,           p_nan=0,     p_dup=0,    name='secret')\n",
    "f = pak.random_series( anz, 'string', len_min=0, len_max=5,            p_nan=0,     p_dup=0.2,  name='features')\n",
    "if pak.Config.get('FRAMEWORK') == 'pandas':\n",
    "    f = f.apply(set) \n",
    "else:\n",
    "    f = f.map_elements(set, return_dtype=pl.Object)\n",
    "g = pak.random_series( anz, 'choice', choice=['ABC','ABCC','','abc','cba','Ax','AAA','ACCB','bbab'],  name='history')\n",
    "if pak.Config.get('FRAMEWORK') == 'pandas':\n",
    "    g = g.apply(list) \n",
    "else:\n",
    "    g = g.map_elements(list, return_dtype=pl.List(pl.Utf8))\n",
    "inp = [a,b,c,d,e,f,g]\n",
    "pak.dataframe(inp)"
   ]
  },
  {
   "cell_type": "markdown",
   "metadata": {},
   "source": [
    "### Create DataFrame from Counter"
   ]
  },
  {
   "cell_type": "code",
   "execution_count": 41,
   "metadata": {
    "execution": {
     "iopub.execute_input": "2025-03-30T15:40:50.768552Z",
     "iopub.status.busy": "2025-03-30T15:40:50.768204Z",
     "iopub.status.idle": "2025-03-30T15:40:50.789309Z",
     "shell.execute_reply": "2025-03-30T15:40:50.788538Z",
     "shell.execute_reply.started": "2025-03-30T15:40:50.768525Z"
    }
   },
   "outputs": [
    {
     "data": {
      "text/plain": [
       "[('testtext', 3),\n",
       " ('ein', 2),\n",
       " ('dies', 1),\n",
       " ('ist', 1),\n",
       " ('der', 1),\n",
       " ('nicht', 1),\n",
       " ('nur', 1),\n",
       " ('wort', 1),\n",
       " ('mehrfach', 1),\n",
       " ('enthält', 1)]"
      ]
     },
     "execution_count": 41,
     "metadata": {},
     "output_type": "execute_result"
    }
   ],
   "source": [
    "from collections import Counter\n",
    "import re\n",
    "text = \"Dies ist ein Testtext, der nicht nur ein Wort mehrfach enthält. Testtext Testtext.\"\n",
    "text = re.sub(r'[^\\w\\s]', '', text)  # Satzzeichen entfernen\n",
    "word_counts = Counter(text.lower().split())\n",
    "data = word_counts.most_common()\n",
    "data"
   ]
  },
  {
   "cell_type": "code",
   "execution_count": 42,
   "metadata": {
    "execution": {
     "iopub.execute_input": "2025-03-30T15:40:50.790409Z",
     "iopub.status.busy": "2025-03-30T15:40:50.790094Z",
     "iopub.status.idle": "2025-03-30T15:40:50.816290Z",
     "shell.execute_reply": "2025-03-30T15:40:50.815064Z",
     "shell.execute_reply.started": "2025-03-30T15:40:50.790383Z"
    }
   },
   "outputs": [
    {
     "name": "stdout",
     "output_type": "stream",
     "text": [
      "dataframe: Input rtype=('list', 'tuple', 'str') shape=(10, 2)\n"
     ]
    },
    {
     "data": {
      "text/html": [
       "<div><style>\n",
       ".dataframe > thead > tr,\n",
       ".dataframe > tbody > tr {\n",
       "  text-align: right;\n",
       "  white-space: pre-wrap;\n",
       "}\n",
       "</style>\n",
       "<small>shape: (10, 2)</small><table border=\"1\" class=\"dataframe\"><thead><tr><th>A</th><th>B</th></tr><tr><td>str</td><td>i64</td></tr></thead><tbody><tr><td>&quot;testtext&quot;</td><td>3</td></tr><tr><td>&quot;ein&quot;</td><td>2</td></tr><tr><td>&quot;dies&quot;</td><td>1</td></tr><tr><td>&quot;ist&quot;</td><td>1</td></tr><tr><td>&quot;der&quot;</td><td>1</td></tr><tr><td>&quot;nicht&quot;</td><td>1</td></tr><tr><td>&quot;nur&quot;</td><td>1</td></tr><tr><td>&quot;wort&quot;</td><td>1</td></tr><tr><td>&quot;mehrfach&quot;</td><td>1</td></tr><tr><td>&quot;enthält&quot;</td><td>1</td></tr></tbody></table></div>"
      ],
      "text/plain": [
       "shape: (10, 2)\n",
       "┌──────────┬─────┐\n",
       "│ A        ┆ B   │\n",
       "│ ---      ┆ --- │\n",
       "│ str      ┆ i64 │\n",
       "╞══════════╪═════╡\n",
       "│ testtext ┆ 3   │\n",
       "│ ein      ┆ 2   │\n",
       "│ dies     ┆ 1   │\n",
       "│ ist      ┆ 1   │\n",
       "│ der      ┆ 1   │\n",
       "│ nicht    ┆ 1   │\n",
       "│ nur      ┆ 1   │\n",
       "│ wort     ┆ 1   │\n",
       "│ mehrfach ┆ 1   │\n",
       "│ enthält  ┆ 1   │\n",
       "└──────────┴─────┘"
      ]
     },
     "execution_count": 42,
     "metadata": {},
     "output_type": "execute_result"
    }
   ],
   "source": [
    "pak.dataframe(data)"
   ]
  },
  {
   "cell_type": "markdown",
   "metadata": {},
   "source": [
    "## Spielwiese"
   ]
  }
 ],
 "metadata": {
  "kernelspec": {
   "display_name": "Python 3 (ipykernel)",
   "language": "python",
   "name": "python3"
  },
  "language_info": {
   "codemirror_mode": {
    "name": "ipython",
    "version": 3
   },
   "file_extension": ".py",
   "mimetype": "text/x-python",
   "name": "python",
   "nbconvert_exporter": "python",
   "pygments_lexer": "ipython3",
   "version": "3.12.9"
  }
 },
 "nbformat": 4,
 "nbformat_minor": 4
}
