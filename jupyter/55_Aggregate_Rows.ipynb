{
 "cells": [
  {
   "cell_type": "markdown",
   "metadata": {},
   "source": [
    "__[Open and try this file online (Colab)](https://colab.research.google.com/github/djekra/pandasklar/blob/master/jupyter/55_Aggregate_Rows.ipynb)__"
   ]
  },
  {
   "cell_type": "markdown",
   "metadata": {},
   "source": [
    "# Aggregate Rows\n",
    "* `group_and_agg`: Groups and aggregates. Provides a user interface similar to that of MS Access.\n",
    "* `most_freq_elt`: Aggregates a Series to the most frequent scalar element.<br>\n",
    "   Like Series.mode, but always returns a scalar.\n",
    "* `top_values`: Aggregates a Series to a list of the most frequent elements.<br>\n",
    "   Can also return the counts of the most frequent elements.  \n",
    "   \n",
    "* `first_valid_value`: Returns the first not-nan values of a Series.    \n",
    "* `last_valid_value`:  Returns the last  not-nan values of a Series.      \n",
    "\n",
    "* `agg_words`: Aggregates a Series of strings to a long string.<br>\n",
    "   A space is always placed between the elements, the order is preserved.\n",
    "* `agg_words_nodup`: Aggregates a Series of strings (e.g. signal words) to a long string.\n",
    "   Like agg_words, but duplicates are removed.\n",
    "* `agg_strings_nospace`: Aggregates a Series of strings into one long string.<br>\n",
    "   Like agg_words, but no separators between the substrings.  \n",
    "   \n",
    "* `agg_to_list`: Aggregates a Series to a list. \n",
    "   Normally this can also be done with a simple 'list', \n",
    "   but in combination with transform this does not work.\n",
    "   Then agg_to_list can be used as a substitute.\n",
    "* `agg_dicts`: Aggregates a Series of dicts to a single dict.<br>\n",
    "   If a key occurs more than once, the value is overwritten.\n",
    "* `agg_dicts_2dd`: Aggregates a Series of dicts to a single defaultdict(list).<br>\n",
    "   I.e. multiple keys are allowed. The values are always lists. \n",
    "* `agg_defaultdicts`: Aggregates a Series of defaultdict(list) to a single defaultdict(list)."
   ]
  },
  {
   "cell_type": "code",
   "execution_count": 1,
   "metadata": {},
   "outputs": [
    {
     "name": "stdout",
     "output_type": "stream",
     "text": [
      "blab init\n",
      "environment['dropbox_path'] = /home/me/Data_Linux/Dropbox\n",
      "environment['lib_path']     = /home/me/Data_Linux/Dropbox/31_Projekte/01_Python/libs\n",
      "Start Time: 21:59:25\n"
     ]
    },
    {
     "data": {
      "text/html": [
       "<img src onerror=\"var cell = this.closest('.jp-CodeCell');var editor = cell.querySelector('.jp-Editor');editor.style.background='Beige';this.parentNode.removeChild(this)\">"
      ],
      "text/plain": [
       "<IPython.core.display.HTML object>"
      ]
     },
     "metadata": {},
     "output_type": "display_data"
    },
    {
     "name": "stdout",
     "output_type": "stream",
     "text": [
      "time: 391 ms\n"
     ]
    }
   ],
   "source": [
    "# blab init\n",
    "try:\n",
    "    import blab\n",
    "except ImportError as e:\n",
    "    !pip install blab\n",
    "    import blab    \n",
    "startup_notebook = blab.blab_startup()\n",
    "%run $startup_notebook "
   ]
  },
  {
   "cell_type": "code",
   "execution_count": 2,
   "metadata": {},
   "outputs": [
    {
     "name": "stdout",
     "output_type": "stream",
     "text": [
      "VERBOSE = True\n",
      "--> setting verbose=True as default for all pandasklar functions\n",
      "\n",
      "time: 272 ms\n"
     ]
    }
   ],
   "source": [
    "import numpy      as np\n",
    "import pandas     as pd \n",
    "import bpyth      as bpy\n",
    "\n",
    "# pandasklar\n",
    "try:\n",
    "    import pandasklar as pak \n",
    "except ImportError as e:\n",
    "    !pip install pandasklar\n",
    "    import pandasklar as pak   \n",
    "    \n",
    "# verbose\n",
    "pak.Config.set('VERBOSE', True)"
   ]
  },
  {
   "cell_type": "markdown",
   "metadata": {},
   "source": [
    "## group_and_agg()"
   ]
  },
  {
   "cell_type": "code",
   "execution_count": 3,
   "metadata": {},
   "outputs": [
    {
     "name": "stdout",
     "output_type": "stream",
     "text": [
      "time: 59.2 ms\n"
     ]
    },
    {
     "data": {
      "text/plain": [
       "\u001b[0;31mSignature:\u001b[0m\n",
       "\u001b[0mpak\u001b[0m\u001b[0;34m.\u001b[0m\u001b[0mgroup_and_agg\u001b[0m\u001b[0;34m(\u001b[0m\u001b[0;34m\u001b[0m\n",
       "\u001b[0;34m\u001b[0m    \u001b[0mdf\u001b[0m\u001b[0;34m,\u001b[0m\u001b[0;34m\u001b[0m\n",
       "\u001b[0;34m\u001b[0m    \u001b[0mcol_origins\u001b[0m\u001b[0;34m,\u001b[0m\u001b[0;34m\u001b[0m\n",
       "\u001b[0;34m\u001b[0m    \u001b[0mcol_funcs\u001b[0m\u001b[0;34m=\u001b[0m\u001b[0;32mNone\u001b[0m\u001b[0;34m,\u001b[0m\u001b[0;34m\u001b[0m\n",
       "\u001b[0;34m\u001b[0m    \u001b[0mcol_names\u001b[0m\u001b[0;34m=\u001b[0m\u001b[0;32mNone\u001b[0m\u001b[0;34m,\u001b[0m\u001b[0;34m\u001b[0m\n",
       "\u001b[0;34m\u001b[0m    \u001b[0mdropna\u001b[0m\u001b[0;34m=\u001b[0m\u001b[0;32mTrue\u001b[0m\u001b[0;34m,\u001b[0m\u001b[0;34m\u001b[0m\n",
       "\u001b[0;34m\u001b[0m    \u001b[0moptimize\u001b[0m\u001b[0;34m=\u001b[0m\u001b[0;32mFalse\u001b[0m\u001b[0;34m,\u001b[0m\u001b[0;34m\u001b[0m\n",
       "\u001b[0;34m\u001b[0m    \u001b[0mverbose\u001b[0m\u001b[0;34m=\u001b[0m\u001b[0;32mNone\u001b[0m\u001b[0;34m,\u001b[0m\u001b[0;34m\u001b[0m\n",
       "\u001b[0;34m\u001b[0m\u001b[0;34m)\u001b[0m\u001b[0;34m\u001b[0m\u001b[0;34m\u001b[0m\u001b[0m\n",
       "\u001b[0;31mDocstring:\u001b[0m\n",
       "Groups and aggregates. Provides a user interface similar to that of MS Access.\n",
       "* col_origins: list of all columns to process\n",
       "* col_funcs:   list of all functions to apply to the columns above. \n",
       "               Sometimes you have to use strings, sometimes function names.\n",
       "               'group' or '' = grouping. \n",
       "* col_names:   list of new names for the result columns. Optional. Space = default name will be taken.\n",
       "* dropna:      Parameter for groupby.\n",
       "* optimize:    True to handle duplicated rows seperatly. \n",
       "               Useful in situations with not many duplicated rows and slow functions in col_funcs.\n",
       "\n",
       "Example:\n",
       "df = pak.people()\n",
       "pak.group_and_agg( df, \n",
       "                   col_origins=['age_class', 'birthplace', 'first_name',  'age', 'age', 'first_name'],\n",
       "                   col_funcs  =['group',     'group',      pak.agg_words, 'min', 'max', 'min'],\n",
       "             )    \n",
       "\u001b[0;31mFile:\u001b[0m      ~/Data_Linux/Dropbox/31_Projekte/01_Python/git/pandasklar/src/pandasklar/aggregate.py\n",
       "\u001b[0;31mType:\u001b[0m      function\n"
      ]
     },
     "metadata": {},
     "output_type": "display_data"
    }
   ],
   "source": [
    "?pak.group_and_agg"
   ]
  },
  {
   "cell_type": "markdown",
   "metadata": {},
   "source": [
    "### Basic example"
   ]
  },
  {
   "cell_type": "code",
   "execution_count": 4,
   "metadata": {},
   "outputs": [
    {
     "name": "stdout",
     "output_type": "stream",
     "text": [
      "94 rows less, now 6 rows\n"
     ]
    },
    {
     "data": {
      "text/html": [
       "<div>\n",
       "<style scoped>\n",
       "    .dataframe tbody tr th:only-of-type {\n",
       "        vertical-align: middle;\n",
       "    }\n",
       "\n",
       "    .dataframe tbody tr th {\n",
       "        vertical-align: top;\n",
       "    }\n",
       "\n",
       "    .dataframe thead th {\n",
       "        text-align: right;\n",
       "    }\n",
       "</style>\n",
       "<table border=\"1\" class=\"dataframe\">\n",
       "  <thead>\n",
       "    <tr style=\"text-align: right;\">\n",
       "      <th></th>\n",
       "      <th>age_class</th>\n",
       "      <th>birthplace</th>\n",
       "      <th>first_name_agg_words</th>\n",
       "      <th>age_min</th>\n",
       "      <th>age_max</th>\n",
       "      <th>first_name_min</th>\n",
       "    </tr>\n",
       "  </thead>\n",
       "  <tbody>\n",
       "    <tr>\n",
       "      <th>0</th>\n",
       "      <td>20</td>\n",
       "      <td>Berlin</td>\n",
       "      <td>Stefanie Manuel Tom Bernd Claus Herta Laura Le...</td>\n",
       "      <td>21</td>\n",
       "      <td>29</td>\n",
       "      <td>Alexandra</td>\n",
       "    </tr>\n",
       "    <tr>\n",
       "      <th>1</th>\n",
       "      <td>20</td>\n",
       "      <td>Bremen</td>\n",
       "      <td>Kurt Werner Lea Johanna Sebastian Louise Louis...</td>\n",
       "      <td>21</td>\n",
       "      <td>29</td>\n",
       "      <td>Heike</td>\n",
       "    </tr>\n",
       "    <tr>\n",
       "      <th>2</th>\n",
       "      <td>30</td>\n",
       "      <td>Berlin</td>\n",
       "      <td>Anja Gabriele Torsten Marion Hans Rita Petra M...</td>\n",
       "      <td>30</td>\n",
       "      <td>38</td>\n",
       "      <td>Anja</td>\n",
       "    </tr>\n",
       "    <tr>\n",
       "      <th>3</th>\n",
       "      <td>30</td>\n",
       "      <td>Bremen</td>\n",
       "      <td>Sophia Elisabeth Felix Niko Gerhard Barbara Ma...</td>\n",
       "      <td>31</td>\n",
       "      <td>39</td>\n",
       "      <td>Anna</td>\n",
       "    </tr>\n",
       "    <tr>\n",
       "      <th>4</th>\n",
       "      <td>40</td>\n",
       "      <td>Berlin</td>\n",
       "      <td>Volker</td>\n",
       "      <td>40</td>\n",
       "      <td>40</td>\n",
       "      <td>Volker</td>\n",
       "    </tr>\n",
       "    <tr>\n",
       "      <th>5</th>\n",
       "      <td>40</td>\n",
       "      <td>Bremen</td>\n",
       "      <td>Jörg Jennifer Gustav Ina Laura</td>\n",
       "      <td>40</td>\n",
       "      <td>42</td>\n",
       "      <td>Gustav</td>\n",
       "    </tr>\n",
       "  </tbody>\n",
       "</table>\n",
       "</div>"
      ],
      "text/plain": [
       "   age_class birthplace                               first_name_agg_words  \\\n",
       "0         20     Berlin  Stefanie Manuel Tom Bernd Claus Herta Laura Le...   \n",
       "1         20     Bremen  Kurt Werner Lea Johanna Sebastian Louise Louis...   \n",
       "2         30     Berlin  Anja Gabriele Torsten Marion Hans Rita Petra M...   \n",
       "3         30     Bremen  Sophia Elisabeth Felix Niko Gerhard Barbara Ma...   \n",
       "4         40     Berlin                                             Volker   \n",
       "5         40     Bremen                     Jörg Jennifer Gustav Ina Laura   \n",
       "\n",
       "   age_min  age_max first_name_min  \n",
       "0       21       29      Alexandra  \n",
       "1       21       29          Heike  \n",
       "2       30       38           Anja  \n",
       "3       31       39           Anna  \n",
       "4       40       40         Volker  \n",
       "5       40       42         Gustav  "
      ]
     },
     "execution_count": 4,
     "metadata": {},
     "output_type": "execute_result"
    },
    {
     "name": "stdout",
     "output_type": "stream",
     "text": [
      "time: 134 ms\n"
     ]
    }
   ],
   "source": [
    "# Try the example\n",
    "df = pak.people()\n",
    "pak.group_and_agg( df, \n",
    "                   col_origins=['age_class', 'birthplace', 'first_name',  'age', 'age', 'first_name'],\n",
    "                   col_funcs  =['group',     'group',      pak.agg_words, 'min', 'max', 'min'],\n",
    "             ) "
   ]
  },
  {
   "cell_type": "markdown",
   "metadata": {},
   "source": [
    "### col_names parameter"
   ]
  },
  {
   "cell_type": "code",
   "execution_count": 5,
   "metadata": {},
   "outputs": [
    {
     "name": "stdout",
     "output_type": "stream",
     "text": [
      "94 rows less, now 6 rows\n"
     ]
    },
    {
     "data": {
      "text/html": [
       "<div>\n",
       "<style scoped>\n",
       "    .dataframe tbody tr th:only-of-type {\n",
       "        vertical-align: middle;\n",
       "    }\n",
       "\n",
       "    .dataframe tbody tr th {\n",
       "        vertical-align: top;\n",
       "    }\n",
       "\n",
       "    .dataframe thead th {\n",
       "        text-align: right;\n",
       "    }\n",
       "</style>\n",
       "<table border=\"1\" class=\"dataframe\">\n",
       "  <thead>\n",
       "    <tr style=\"text-align: right;\">\n",
       "      <th></th>\n",
       "      <th>AGE_CLASS</th>\n",
       "      <th>BIRTHPLACE</th>\n",
       "      <th>first_name_agg</th>\n",
       "      <th>age_min</th>\n",
       "      <th>age_max</th>\n",
       "      <th>first_name_min</th>\n",
       "    </tr>\n",
       "  </thead>\n",
       "  <tbody>\n",
       "    <tr>\n",
       "      <th>0</th>\n",
       "      <td>20</td>\n",
       "      <td>Berlin</td>\n",
       "      <td>Emily Benedikt Helena Johann Anke Emma Friedri...</td>\n",
       "      <td>24</td>\n",
       "      <td>29</td>\n",
       "      <td>Anke</td>\n",
       "    </tr>\n",
       "    <tr>\n",
       "      <th>1</th>\n",
       "      <td>20</td>\n",
       "      <td>Bremen</td>\n",
       "      <td>Annika Kim Barbara Isabelle Marion Antje Vince...</td>\n",
       "      <td>22</td>\n",
       "      <td>29</td>\n",
       "      <td>Annika</td>\n",
       "    </tr>\n",
       "    <tr>\n",
       "      <th>2</th>\n",
       "      <td>30</td>\n",
       "      <td>Berlin</td>\n",
       "      <td>Anna Maria Frank Ina Franz Gisela Clara Dirk H...</td>\n",
       "      <td>30</td>\n",
       "      <td>39</td>\n",
       "      <td>Anna</td>\n",
       "    </tr>\n",
       "    <tr>\n",
       "      <th>3</th>\n",
       "      <td>30</td>\n",
       "      <td>Bremen</td>\n",
       "      <td>Denis Carl Bernd Manfred Tanja Hans Rita Arthu...</td>\n",
       "      <td>30</td>\n",
       "      <td>38</td>\n",
       "      <td>Arthur</td>\n",
       "    </tr>\n",
       "    <tr>\n",
       "      <th>4</th>\n",
       "      <td>40</td>\n",
       "      <td>Berlin</td>\n",
       "      <td>Melina Ina Richard</td>\n",
       "      <td>40</td>\n",
       "      <td>42</td>\n",
       "      <td>Ina</td>\n",
       "    </tr>\n",
       "    <tr>\n",
       "      <th>5</th>\n",
       "      <td>40</td>\n",
       "      <td>Bremen</td>\n",
       "      <td>Christa</td>\n",
       "      <td>42</td>\n",
       "      <td>42</td>\n",
       "      <td>Christa</td>\n",
       "    </tr>\n",
       "  </tbody>\n",
       "</table>\n",
       "</div>"
      ],
      "text/plain": [
       "   AGE_CLASS BIRTHPLACE                                     first_name_agg  \\\n",
       "0         20     Berlin  Emily Benedikt Helena Johann Anke Emma Friedri...   \n",
       "1         20     Bremen  Annika Kim Barbara Isabelle Marion Antje Vince...   \n",
       "2         30     Berlin  Anna Maria Frank Ina Franz Gisela Clara Dirk H...   \n",
       "3         30     Bremen  Denis Carl Bernd Manfred Tanja Hans Rita Arthu...   \n",
       "4         40     Berlin                                 Melina Ina Richard   \n",
       "5         40     Bremen                                            Christa   \n",
       "\n",
       "   age_min  age_max first_name_min  \n",
       "0       24       29           Anke  \n",
       "1       22       29         Annika  \n",
       "2       30       39           Anna  \n",
       "3       30       38         Arthur  \n",
       "4       40       42            Ina  \n",
       "5       42       42        Christa  "
      ]
     },
     "execution_count": 5,
     "metadata": {},
     "output_type": "execute_result"
    },
    {
     "name": "stdout",
     "output_type": "stream",
     "text": [
      "time: 114 ms\n"
     ]
    }
   ],
   "source": [
    "# just to rename the result columns\n",
    "df = pak.people()\n",
    "pak.group_and_agg( df, \n",
    "                   col_origins=['age_class', 'birthplace', 'first_name',     'age', 'age', 'first_name'],\n",
    "                   col_funcs  =['group',     'group',      pak.agg_words,    'min', 'max', 'min'       ],\n",
    "                   col_names  =['AGE_CLASS', 'BIRTHPLACE', 'first_name_agg', '',    '',    ''          ],                  \n",
    "             ) "
   ]
  },
  {
   "cell_type": "markdown",
   "metadata": {},
   "source": [
    "### dropna parameter\n",
    "Is NaN a regular groupable value? Default: No, NanNs are dropped."
   ]
  },
  {
   "cell_type": "code",
   "execution_count": 6,
   "metadata": {},
   "outputs": [
    {
     "name": "stdout",
     "output_type": "stream",
     "text": [
      "Input rtype=('list', 'list', 'str') shape=(8, 3)\n",
      "rotated=False Output rtype=('DataFrame', 'Series') shape=(8, 3)\n"
     ]
    },
    {
     "data": {
      "text/html": [
       "<div>\n",
       "<style scoped>\n",
       "    .dataframe tbody tr th:only-of-type {\n",
       "        vertical-align: middle;\n",
       "    }\n",
       "\n",
       "    .dataframe tbody tr th {\n",
       "        vertical-align: top;\n",
       "    }\n",
       "\n",
       "    .dataframe thead th {\n",
       "        text-align: right;\n",
       "    }\n",
       "</style>\n",
       "<table border=\"1\" class=\"dataframe\">\n",
       "  <thead>\n",
       "    <tr style=\"text-align: right;\">\n",
       "      <th></th>\n",
       "      <th>A</th>\n",
       "      <th>B</th>\n",
       "      <th>C</th>\n",
       "    </tr>\n",
       "  </thead>\n",
       "  <tbody>\n",
       "    <tr>\n",
       "      <th>0</th>\n",
       "      <td>A</td>\n",
       "      <td>None</td>\n",
       "      <td>1.0</td>\n",
       "    </tr>\n",
       "    <tr>\n",
       "      <th>1</th>\n",
       "      <td>A</td>\n",
       "      <td>B</td>\n",
       "      <td>NaN</td>\n",
       "    </tr>\n",
       "    <tr>\n",
       "      <th>2</th>\n",
       "      <td>A</td>\n",
       "      <td>B</td>\n",
       "      <td>NaN</td>\n",
       "    </tr>\n",
       "    <tr>\n",
       "      <th>3</th>\n",
       "      <td>None</td>\n",
       "      <td>B</td>\n",
       "      <td>9.0</td>\n",
       "    </tr>\n",
       "    <tr>\n",
       "      <th>4</th>\n",
       "      <td>A</td>\n",
       "      <td>B</td>\n",
       "      <td>2.0</td>\n",
       "    </tr>\n",
       "    <tr>\n",
       "      <th>5</th>\n",
       "      <td>A</td>\n",
       "      <td>B</td>\n",
       "      <td>8.0</td>\n",
       "    </tr>\n",
       "    <tr>\n",
       "      <th>6</th>\n",
       "      <td>Q</td>\n",
       "      <td>B</td>\n",
       "      <td>3.0</td>\n",
       "    </tr>\n",
       "    <tr>\n",
       "      <th>7</th>\n",
       "      <td>A</td>\n",
       "      <td>Q</td>\n",
       "      <td>7.0</td>\n",
       "    </tr>\n",
       "  </tbody>\n",
       "</table>\n",
       "</div>"
      ],
      "text/plain": [
       "      A     B    C\n",
       "0     A  None  1.0\n",
       "1     A     B  NaN\n",
       "2     A     B  NaN\n",
       "3  None     B  9.0\n",
       "4     A     B  2.0\n",
       "5     A     B  8.0\n",
       "6     Q     B  3.0\n",
       "7     A     Q  7.0"
      ]
     },
     "execution_count": 6,
     "metadata": {},
     "output_type": "execute_result"
    },
    {
     "name": "stdout",
     "output_type": "stream",
     "text": [
      "time: 28 ms\n"
     ]
    }
   ],
   "source": [
    "# Create test data \n",
    "# and save it for later comparisons\n",
    "\n",
    "data = []\n",
    "data.append( ['A',  None,  1,      ] )\n",
    "data.append( ['A',  'B',   None,   ] )\n",
    "data.append( ['A',  'B',   np.NaN, ] )\n",
    "data.append( [None, 'B',   9,      ] )\n",
    "  \n",
    "data.append( ['A',  'B',   2,      ] )\n",
    "data.append( ['A',  'B',   8,      ] )\n",
    "\n",
    "data.append( ['Q',  'B',   3,      ] )\n",
    "data.append( ['A',  'Q',   7,      ] )\n",
    "\n",
    "data = pak.dataframe(data)\n",
    "data"
   ]
  },
  {
   "cell_type": "code",
   "execution_count": 7,
   "metadata": {},
   "outputs": [
    {
     "name": "stdout",
     "output_type": "stream",
     "text": [
      "5 rows less, now 3 rows\n"
     ]
    },
    {
     "data": {
      "text/html": [
       "<div>\n",
       "<style scoped>\n",
       "    .dataframe tbody tr th:only-of-type {\n",
       "        vertical-align: middle;\n",
       "    }\n",
       "\n",
       "    .dataframe tbody tr th {\n",
       "        vertical-align: top;\n",
       "    }\n",
       "\n",
       "    .dataframe thead th {\n",
       "        text-align: right;\n",
       "    }\n",
       "</style>\n",
       "<table border=\"1\" class=\"dataframe\">\n",
       "  <thead>\n",
       "    <tr style=\"text-align: right;\">\n",
       "      <th></th>\n",
       "      <th>A</th>\n",
       "      <th>B</th>\n",
       "      <th>C_min</th>\n",
       "      <th>C_max</th>\n",
       "    </tr>\n",
       "  </thead>\n",
       "  <tbody>\n",
       "    <tr>\n",
       "      <th>0</th>\n",
       "      <td>A</td>\n",
       "      <td>B</td>\n",
       "      <td>2.0</td>\n",
       "      <td>8.0</td>\n",
       "    </tr>\n",
       "    <tr>\n",
       "      <th>1</th>\n",
       "      <td>A</td>\n",
       "      <td>Q</td>\n",
       "      <td>7.0</td>\n",
       "      <td>7.0</td>\n",
       "    </tr>\n",
       "    <tr>\n",
       "      <th>2</th>\n",
       "      <td>Q</td>\n",
       "      <td>B</td>\n",
       "      <td>3.0</td>\n",
       "      <td>3.0</td>\n",
       "    </tr>\n",
       "  </tbody>\n",
       "</table>\n",
       "</div>"
      ],
      "text/plain": [
       "   A  B  C_min  C_max\n",
       "0  A  B    2.0    8.0\n",
       "1  A  Q    7.0    7.0\n",
       "2  Q  B    3.0    3.0"
      ]
     },
     "execution_count": 7,
     "metadata": {},
     "output_type": "execute_result"
    },
    {
     "name": "stdout",
     "output_type": "stream",
     "text": [
      "time: 61.1 ms\n"
     ]
    }
   ],
   "source": [
    "# Default is dropna=True.\n",
    "# If grouped by A and B in this way, the maximum values 1 and 9 do not come into play at all.\n",
    "\n",
    "r = pak.group_and_agg(data, \n",
    "              [ 'A',     'B',     'C',   'C',   ],  # col_origins: Liste aller columns, die verarbeitet werden sollen\n",
    "              [ 'group', 'group', 'min', 'max', ],  # col_funcs:   Liste aller Funktionen, die darauf angewendet werden sollen\n",
    "             )\n",
    "\n",
    "r"
   ]
  },
  {
   "cell_type": "code",
   "execution_count": 8,
   "metadata": {},
   "outputs": [
    {
     "name": "stdout",
     "output_type": "stream",
     "text": [
      "3 rows less, now 5 rows\n"
     ]
    },
    {
     "data": {
      "text/html": [
       "<div>\n",
       "<style scoped>\n",
       "    .dataframe tbody tr th:only-of-type {\n",
       "        vertical-align: middle;\n",
       "    }\n",
       "\n",
       "    .dataframe tbody tr th {\n",
       "        vertical-align: top;\n",
       "    }\n",
       "\n",
       "    .dataframe thead th {\n",
       "        text-align: right;\n",
       "    }\n",
       "</style>\n",
       "<table border=\"1\" class=\"dataframe\">\n",
       "  <thead>\n",
       "    <tr style=\"text-align: right;\">\n",
       "      <th></th>\n",
       "      <th>A</th>\n",
       "      <th>B</th>\n",
       "      <th>Cmin</th>\n",
       "      <th>Cmax</th>\n",
       "    </tr>\n",
       "  </thead>\n",
       "  <tbody>\n",
       "    <tr>\n",
       "      <th>0</th>\n",
       "      <td>A</td>\n",
       "      <td>B</td>\n",
       "      <td>2.0</td>\n",
       "      <td>8.0</td>\n",
       "    </tr>\n",
       "    <tr>\n",
       "      <th>1</th>\n",
       "      <td>A</td>\n",
       "      <td>Q</td>\n",
       "      <td>7.0</td>\n",
       "      <td>7.0</td>\n",
       "    </tr>\n",
       "    <tr>\n",
       "      <th>2</th>\n",
       "      <td>A</td>\n",
       "      <td>NaN</td>\n",
       "      <td>1.0</td>\n",
       "      <td>1.0</td>\n",
       "    </tr>\n",
       "    <tr>\n",
       "      <th>3</th>\n",
       "      <td>Q</td>\n",
       "      <td>B</td>\n",
       "      <td>3.0</td>\n",
       "      <td>3.0</td>\n",
       "    </tr>\n",
       "    <tr>\n",
       "      <th>4</th>\n",
       "      <td>NaN</td>\n",
       "      <td>B</td>\n",
       "      <td>9.0</td>\n",
       "      <td>9.0</td>\n",
       "    </tr>\n",
       "  </tbody>\n",
       "</table>\n",
       "</div>"
      ],
      "text/plain": [
       "     A    B  Cmin  Cmax\n",
       "0    A    B   2.0   8.0\n",
       "1    A    Q   7.0   7.0\n",
       "2    A  NaN   1.0   1.0\n",
       "3    Q    B   3.0   3.0\n",
       "4  NaN    B   9.0   9.0"
      ]
     },
     "execution_count": 8,
     "metadata": {},
     "output_type": "execute_result"
    },
    {
     "name": "stdout",
     "output_type": "stream",
     "text": [
      "time: 63.1 ms\n"
     ]
    }
   ],
   "source": [
    "# With dropna=False NaN gets its own groups\n",
    "# If grouped by A and B in this way, the maximum values 1 and 9 are included in the result.\n",
    "\n",
    "r = pak.group_and_agg(data, \n",
    "              [ 'A',     'B',     'C',    'C',     ],\n",
    "              [ 'group', 'group', 'min',  'max',   ],\n",
    "              [ 'A',     'B',     'Cmin', 'Cmax',  ],  # col_names:   Liste neuer Namen für die Ergebnisspalten           \n",
    "              dropna=False\n",
    "             )\n",
    "\n",
    "r"
   ]
  },
  {
   "cell_type": "markdown",
   "metadata": {},
   "source": [
    "## Aggregate functions min(), max(), first(), last()\n",
    "More aggregate functions: https://www.shanelynn.ie/summarising-aggregation-and-grouping-data-in-python-pandas/"
   ]
  },
  {
   "cell_type": "code",
   "execution_count": 9,
   "metadata": {},
   "outputs": [
    {
     "name": "stdout",
     "output_type": "stream",
     "text": [
      "Input rtype=('list', 'list', 'str') shape=(7, 3)\n",
      "rotated=False Output rtype=('DataFrame', 'Series') shape=(7, 3)\n"
     ]
    },
    {
     "data": {
      "text/html": [
       "<div>\n",
       "<style scoped>\n",
       "    .dataframe tbody tr th:only-of-type {\n",
       "        vertical-align: middle;\n",
       "    }\n",
       "\n",
       "    .dataframe tbody tr th {\n",
       "        vertical-align: top;\n",
       "    }\n",
       "\n",
       "    .dataframe thead th {\n",
       "        text-align: right;\n",
       "    }\n",
       "</style>\n",
       "<table border=\"1\" class=\"dataframe\">\n",
       "  <thead>\n",
       "    <tr style=\"text-align: right;\">\n",
       "      <th></th>\n",
       "      <th>A</th>\n",
       "      <th>B</th>\n",
       "      <th>C</th>\n",
       "    </tr>\n",
       "  </thead>\n",
       "  <tbody>\n",
       "    <tr>\n",
       "      <th>0</th>\n",
       "      <td>A</td>\n",
       "      <td>B</td>\n",
       "      <td>NaN</td>\n",
       "    </tr>\n",
       "    <tr>\n",
       "      <th>1</th>\n",
       "      <td>A</td>\n",
       "      <td>B</td>\n",
       "      <td>NaN</td>\n",
       "    </tr>\n",
       "    <tr>\n",
       "      <th>2</th>\n",
       "      <td>A</td>\n",
       "      <td>B</td>\n",
       "      <td>2.0</td>\n",
       "    </tr>\n",
       "    <tr>\n",
       "      <th>3</th>\n",
       "      <td>A</td>\n",
       "      <td>B</td>\n",
       "      <td>3.0</td>\n",
       "    </tr>\n",
       "    <tr>\n",
       "      <th>4</th>\n",
       "      <td>A</td>\n",
       "      <td>Q</td>\n",
       "      <td>8.0</td>\n",
       "    </tr>\n",
       "    <tr>\n",
       "      <th>5</th>\n",
       "      <td>A</td>\n",
       "      <td>Q</td>\n",
       "      <td>7.0</td>\n",
       "    </tr>\n",
       "    <tr>\n",
       "      <th>6</th>\n",
       "      <td>Q</td>\n",
       "      <td>B</td>\n",
       "      <td>3.0</td>\n",
       "    </tr>\n",
       "  </tbody>\n",
       "</table>\n",
       "</div>"
      ],
      "text/plain": [
       "   A  B    C\n",
       "0  A  B  NaN\n",
       "1  A  B  NaN\n",
       "2  A  B  2.0\n",
       "3  A  B  3.0\n",
       "4  A  Q  8.0\n",
       "5  A  Q  7.0\n",
       "6  Q  B  3.0"
      ]
     },
     "execution_count": 9,
     "metadata": {},
     "output_type": "execute_result"
    },
    {
     "name": "stdout",
     "output_type": "stream",
     "text": [
      "time: 36 ms\n"
     ]
    }
   ],
   "source": [
    "# Create test data\n",
    "data = []\n",
    "data.append( ['A',  'B',   None,   ] )\n",
    "data.append( ['A',  'B',   np.NaN, ] )\n",
    "  \n",
    "data.append( ['A',  'B',   2,      ] )\n",
    "data.append( ['A',  'B',   3,      ] )\n",
    "data.append( ['A',  'Q',   8,      ] )\n",
    "data.append( ['A',  'Q',   7,      ] )\n",
    "\n",
    "data.append( ['Q',  'B',   3,      ] )\n",
    "data = pak.dataframe(data)\n",
    "data"
   ]
  },
  {
   "cell_type": "code",
   "execution_count": 10,
   "metadata": {},
   "outputs": [
    {
     "name": "stdout",
     "output_type": "stream",
     "text": [
      "4 rows less, now 3 rows\n"
     ]
    },
    {
     "data": {
      "text/html": [
       "<div>\n",
       "<style scoped>\n",
       "    .dataframe tbody tr th:only-of-type {\n",
       "        vertical-align: middle;\n",
       "    }\n",
       "\n",
       "    .dataframe tbody tr th {\n",
       "        vertical-align: top;\n",
       "    }\n",
       "\n",
       "    .dataframe thead th {\n",
       "        text-align: right;\n",
       "    }\n",
       "</style>\n",
       "<table border=\"1\" class=\"dataframe\">\n",
       "  <thead>\n",
       "    <tr style=\"text-align: right;\">\n",
       "      <th></th>\n",
       "      <th>A</th>\n",
       "      <th>B</th>\n",
       "      <th>C_min</th>\n",
       "      <th>C_max</th>\n",
       "      <th>C_first</th>\n",
       "      <th>C_last</th>\n",
       "    </tr>\n",
       "  </thead>\n",
       "  <tbody>\n",
       "    <tr>\n",
       "      <th>0</th>\n",
       "      <td>A</td>\n",
       "      <td>B</td>\n",
       "      <td>2.0</td>\n",
       "      <td>3.0</td>\n",
       "      <td>2.0</td>\n",
       "      <td>3.0</td>\n",
       "    </tr>\n",
       "    <tr>\n",
       "      <th>1</th>\n",
       "      <td>A</td>\n",
       "      <td>Q</td>\n",
       "      <td>7.0</td>\n",
       "      <td>8.0</td>\n",
       "      <td>8.0</td>\n",
       "      <td>7.0</td>\n",
       "    </tr>\n",
       "    <tr>\n",
       "      <th>2</th>\n",
       "      <td>Q</td>\n",
       "      <td>B</td>\n",
       "      <td>3.0</td>\n",
       "      <td>3.0</td>\n",
       "      <td>3.0</td>\n",
       "      <td>3.0</td>\n",
       "    </tr>\n",
       "  </tbody>\n",
       "</table>\n",
       "</div>"
      ],
      "text/plain": [
       "   A  B  C_min  C_max  C_first  C_last\n",
       "0  A  B    2.0    3.0      2.0     3.0\n",
       "1  A  Q    7.0    8.0      8.0     7.0\n",
       "2  Q  B    3.0    3.0      3.0     3.0"
      ]
     },
     "execution_count": 10,
     "metadata": {},
     "output_type": "execute_result"
    },
    {
     "name": "stdout",
     "output_type": "stream",
     "text": [
      "time: 73.8 ms\n"
     ]
    }
   ],
   "source": [
    "r = pak.group_and_agg(data, \n",
    "              [ 'A',     'B',     'C',   'C',   'C',     'C',   ], \n",
    "              [ 'group', 'group', 'min', 'max', 'first', 'last', ], \n",
    "             )\n",
    "r"
   ]
  },
  {
   "cell_type": "markdown",
   "metadata": {},
   "source": [
    "## Aggregate functions count(), size(), unique()"
   ]
  },
  {
   "cell_type": "code",
   "execution_count": 11,
   "metadata": {},
   "outputs": [
    {
     "name": "stdout",
     "output_type": "stream",
     "text": [
      "Input rtype=('list', 'list', 'str') shape=(7, 3)\n",
      "rotated=False Output rtype=('DataFrame', 'Series') shape=(7, 3)\n"
     ]
    },
    {
     "data": {
      "text/html": [
       "<div>\n",
       "<style scoped>\n",
       "    .dataframe tbody tr th:only-of-type {\n",
       "        vertical-align: middle;\n",
       "    }\n",
       "\n",
       "    .dataframe tbody tr th {\n",
       "        vertical-align: top;\n",
       "    }\n",
       "\n",
       "    .dataframe thead th {\n",
       "        text-align: right;\n",
       "    }\n",
       "</style>\n",
       "<table border=\"1\" class=\"dataframe\">\n",
       "  <thead>\n",
       "    <tr style=\"text-align: right;\">\n",
       "      <th></th>\n",
       "      <th>A</th>\n",
       "      <th>B</th>\n",
       "      <th>C</th>\n",
       "    </tr>\n",
       "  </thead>\n",
       "  <tbody>\n",
       "    <tr>\n",
       "      <th>0</th>\n",
       "      <td>A</td>\n",
       "      <td>B</td>\n",
       "      <td>NaN</td>\n",
       "    </tr>\n",
       "    <tr>\n",
       "      <th>1</th>\n",
       "      <td>A</td>\n",
       "      <td>B</td>\n",
       "      <td>NaN</td>\n",
       "    </tr>\n",
       "    <tr>\n",
       "      <th>2</th>\n",
       "      <td>A</td>\n",
       "      <td>B</td>\n",
       "      <td>2.0</td>\n",
       "    </tr>\n",
       "    <tr>\n",
       "      <th>3</th>\n",
       "      <td>A</td>\n",
       "      <td>B</td>\n",
       "      <td>3.0</td>\n",
       "    </tr>\n",
       "    <tr>\n",
       "      <th>4</th>\n",
       "      <td>A</td>\n",
       "      <td>Q</td>\n",
       "      <td>8.0</td>\n",
       "    </tr>\n",
       "    <tr>\n",
       "      <th>5</th>\n",
       "      <td>A</td>\n",
       "      <td>Q</td>\n",
       "      <td>8.0</td>\n",
       "    </tr>\n",
       "    <tr>\n",
       "      <th>6</th>\n",
       "      <td>Q</td>\n",
       "      <td>B</td>\n",
       "      <td>3.0</td>\n",
       "    </tr>\n",
       "  </tbody>\n",
       "</table>\n",
       "</div>"
      ],
      "text/plain": [
       "   A  B    C\n",
       "0  A  B  NaN\n",
       "1  A  B  NaN\n",
       "2  A  B  2.0\n",
       "3  A  B  3.0\n",
       "4  A  Q  8.0\n",
       "5  A  Q  8.0\n",
       "6  Q  B  3.0"
      ]
     },
     "execution_count": 11,
     "metadata": {},
     "output_type": "execute_result"
    },
    {
     "name": "stdout",
     "output_type": "stream",
     "text": [
      "time: 22.8 ms\n"
     ]
    }
   ],
   "source": [
    "# Create test data\n",
    "data = []\n",
    "data.append( ['A',  'B',   None,   ] )\n",
    "data.append( ['A',  'B',   np.NaN, ] )\n",
    "  \n",
    "data.append( ['A',  'B',   2,      ] )\n",
    "data.append( ['A',  'B',   3,      ] )\n",
    "data.append( ['A',  'Q',   8,      ] )\n",
    "data.append( ['A',  'Q',   8,      ] )\n",
    "\n",
    "data.append( ['Q',  'B',   3,      ] )\n",
    "data = pak.dataframe(data)\n",
    "data"
   ]
  },
  {
   "cell_type": "code",
   "execution_count": 12,
   "metadata": {},
   "outputs": [
    {
     "name": "stdout",
     "output_type": "stream",
     "text": [
      "4 rows less, now 3 rows\n"
     ]
    },
    {
     "data": {
      "text/html": [
       "<div>\n",
       "<style scoped>\n",
       "    .dataframe tbody tr th:only-of-type {\n",
       "        vertical-align: middle;\n",
       "    }\n",
       "\n",
       "    .dataframe tbody tr th {\n",
       "        vertical-align: top;\n",
       "    }\n",
       "\n",
       "    .dataframe thead th {\n",
       "        text-align: right;\n",
       "    }\n",
       "</style>\n",
       "<table border=\"1\" class=\"dataframe\">\n",
       "  <thead>\n",
       "    <tr style=\"text-align: right;\">\n",
       "      <th></th>\n",
       "      <th>A</th>\n",
       "      <th>B</th>\n",
       "      <th>C_count</th>\n",
       "      <th>C_size</th>\n",
       "      <th>C_nunique</th>\n",
       "    </tr>\n",
       "  </thead>\n",
       "  <tbody>\n",
       "    <tr>\n",
       "      <th>0</th>\n",
       "      <td>A</td>\n",
       "      <td>B</td>\n",
       "      <td>2</td>\n",
       "      <td>4</td>\n",
       "      <td>2</td>\n",
       "    </tr>\n",
       "    <tr>\n",
       "      <th>1</th>\n",
       "      <td>A</td>\n",
       "      <td>Q</td>\n",
       "      <td>2</td>\n",
       "      <td>2</td>\n",
       "      <td>1</td>\n",
       "    </tr>\n",
       "    <tr>\n",
       "      <th>2</th>\n",
       "      <td>Q</td>\n",
       "      <td>B</td>\n",
       "      <td>1</td>\n",
       "      <td>1</td>\n",
       "      <td>1</td>\n",
       "    </tr>\n",
       "  </tbody>\n",
       "</table>\n",
       "</div>"
      ],
      "text/plain": [
       "   A  B  C_count  C_size  C_nunique\n",
       "0  A  B        2       4          2\n",
       "1  A  Q        2       2          1\n",
       "2  Q  B        1       1          1"
      ]
     },
     "execution_count": 12,
     "metadata": {},
     "output_type": "execute_result"
    },
    {
     "name": "stdout",
     "output_type": "stream",
     "text": [
      "time: 59.6 ms\n"
     ]
    }
   ],
   "source": [
    "# count counts values,                  NaN is not counted\n",
    "# size counts values,                   NaN is included in the count\n",
    "# nunique counts only different values, NaN is not counted\n",
    "\n",
    "r = pak.group_and_agg(data, \n",
    "              [ 'A',     'B',     'C',     'C',    'C',       ], \n",
    "              [ 'group', 'group', 'count', 'size', 'nunique', ], \n",
    "             )\n",
    "\n",
    "r"
   ]
  },
  {
   "cell_type": "markdown",
   "metadata": {},
   "source": [
    "## Aggregate functions most_freq_elt() and top_values()\n",
    "Identificate the most frequent elements and determine their counts"
   ]
  },
  {
   "cell_type": "code",
   "execution_count": 13,
   "metadata": {},
   "outputs": [
    {
     "name": "stdout",
     "output_type": "stream",
     "text": [
      "time: 12.9 ms\n"
     ]
    },
    {
     "data": {
      "text/plain": [
       "\u001b[0;31mSignature:\u001b[0m \u001b[0mpak\u001b[0m\u001b[0;34m.\u001b[0m\u001b[0mmost_freq_elt\u001b[0m\u001b[0;34m(\u001b[0m\u001b[0mseries\u001b[0m\u001b[0;34m,\u001b[0m \u001b[0minaccurate_limit\u001b[0m\u001b[0;34m=\u001b[0m\u001b[0;34m(\u001b[0m\u001b[0;36m10000\u001b[0m\u001b[0;34m,\u001b[0m \u001b[0;36m1000\u001b[0m\u001b[0;34m)\u001b[0m\u001b[0;34m)\u001b[0m\u001b[0;34m\u001b[0m\u001b[0;34m\u001b[0m\u001b[0m\n",
       "\u001b[0;31mDocstring:\u001b[0m\n",
       "Aggregates a Series to the most frequent scalar element.\n",
       "Like Series.mode, but always returns a scalar.\n",
       "If two elements are equally frequent, just any one is returned .\n",
       "* inaccurate_limit: If the data is bigger than this, examine take a sample of this size.\n",
       "  The first value is for hashable datatypes, the second for non_hashable datatypes.\n",
       "  Set inaccurate_limit=(None,None) if you don't accept inaccuraties.\n",
       "\n",
       "Example:\n",
       "df = pak.people()\n",
       "df.groupby('age_class')['first_name'].apply(pak.most_freq_elt)    \n",
       "\u001b[0;31mFile:\u001b[0m      ~/Data_Linux/Dropbox/31_Projekte/01_Python/git/pandasklar/src/pandasklar/aggregate.py\n",
       "\u001b[0;31mType:\u001b[0m      function\n"
      ]
     },
     "metadata": {},
     "output_type": "display_data"
    }
   ],
   "source": [
    "?pak.most_freq_elt"
   ]
  },
  {
   "cell_type": "code",
   "execution_count": 14,
   "metadata": {
    "tags": []
   },
   "outputs": [
    {
     "data": {
      "text/plain": [
       "age_class\n",
       "20      Anja\n",
       "30    Alfred\n",
       "40    Louisa\n",
       "Name: first_name, dtype: object"
      ]
     },
     "execution_count": 14,
     "metadata": {},
     "output_type": "execute_result"
    },
    {
     "name": "stdout",
     "output_type": "stream",
     "text": [
      "time: 97.3 ms\n"
     ]
    }
   ],
   "source": [
    "# Run the example\n",
    "df = pak.people()\n",
    "df.groupby('age_class')['first_name'].apply(pak.most_freq_elt)"
   ]
  },
  {
   "cell_type": "code",
   "execution_count": 15,
   "metadata": {},
   "outputs": [
    {
     "name": "stdout",
     "output_type": "stream",
     "text": [
      "time: 19.5 ms\n"
     ]
    },
    {
     "data": {
      "text/plain": [
       "\u001b[0;31mSignature:\u001b[0m \u001b[0mpak\u001b[0m\u001b[0;34m.\u001b[0m\u001b[0mtop_values\u001b[0m\u001b[0;34m(\u001b[0m\u001b[0mseries\u001b[0m\u001b[0;34m,\u001b[0m \u001b[0mlimit\u001b[0m\u001b[0;34m=\u001b[0m\u001b[0;36m3\u001b[0m\u001b[0;34m,\u001b[0m \u001b[0mcount\u001b[0m\u001b[0;34m=\u001b[0m\u001b[0;32mFalse\u001b[0m\u001b[0;34m)\u001b[0m\u001b[0;34m\u001b[0m\u001b[0;34m\u001b[0m\u001b[0m\n",
       "\u001b[0;31mDocstring:\u001b[0m\n",
       "Aggregates a Series to a list of the most frequent elements.\n",
       "Or, if there is only one, this single element.\n",
       "Can also return the counts of the most frequent elements.    \n",
       "* limit: limits the length of the resulting list\n",
       "* count: count=False shows the most frequent elements (default)\n",
       "         cont=True   shows the corresponding counts of the elements\n",
       "Example:\n",
       "df = pak.people()\n",
       "df.groupby('age_class')['first_name'].apply(pak.top_values)\n",
       "\n",
       "Caution, does not work well with very long data sets.\n",
       "There are partials preconfigured for 3, 5, 10, 20, 100, 1000 elements,\n",
       "i.e. top_values_100 or top_values_count_20\n",
       "\u001b[0;31mFile:\u001b[0m      ~/Data_Linux/Dropbox/31_Projekte/01_Python/git/pandasklar/src/pandasklar/aggregate.py\n",
       "\u001b[0;31mType:\u001b[0m      function\n"
      ]
     },
     "metadata": {},
     "output_type": "display_data"
    }
   ],
   "source": [
    "?pak.top_values"
   ]
  },
  {
   "cell_type": "code",
   "execution_count": 16,
   "metadata": {
    "tags": []
   },
   "outputs": [
    {
     "data": {
      "text/plain": [
       "age_class\n",
       "20     [Ulrich, Stefan, Heidi]\n",
       "30     [Antje, Sara, Jonathan]\n",
       "40    [Jannis, Willi, Kirsten]\n",
       "Name: first_name, dtype: object"
      ]
     },
     "execution_count": 16,
     "metadata": {},
     "output_type": "execute_result"
    },
    {
     "name": "stdout",
     "output_type": "stream",
     "text": [
      "time: 87.9 ms\n"
     ]
    }
   ],
   "source": [
    "# Run the example\n",
    "df = pak.people()\n",
    "df.groupby('age_class')['first_name'].apply(pak.top_values)"
   ]
  },
  {
   "cell_type": "code",
   "execution_count": 17,
   "metadata": {},
   "outputs": [
    {
     "name": "stdout",
     "output_type": "stream",
     "text": [
      "Input rtype=('list', 'list', 'str') shape=(12, 2)\n",
      "rotated=False Output rtype=('DataFrame', 'Series') shape=(12, 2)\n"
     ]
    },
    {
     "data": {
      "text/html": [
       "<div>\n",
       "<style scoped>\n",
       "    .dataframe tbody tr th:only-of-type {\n",
       "        vertical-align: middle;\n",
       "    }\n",
       "\n",
       "    .dataframe tbody tr th {\n",
       "        vertical-align: top;\n",
       "    }\n",
       "\n",
       "    .dataframe thead th {\n",
       "        text-align: right;\n",
       "    }\n",
       "</style>\n",
       "<table border=\"1\" class=\"dataframe\">\n",
       "  <thead>\n",
       "    <tr style=\"text-align: right;\">\n",
       "      <th></th>\n",
       "      <th>A</th>\n",
       "      <th>B</th>\n",
       "    </tr>\n",
       "  </thead>\n",
       "  <tbody>\n",
       "    <tr>\n",
       "      <th>0</th>\n",
       "      <td>A</td>\n",
       "      <td>None</td>\n",
       "    </tr>\n",
       "    <tr>\n",
       "      <th>1</th>\n",
       "      <td>A</td>\n",
       "      <td>None</td>\n",
       "    </tr>\n",
       "    <tr>\n",
       "      <th>2</th>\n",
       "      <td>A</td>\n",
       "      <td>NaN</td>\n",
       "    </tr>\n",
       "    <tr>\n",
       "      <th>3</th>\n",
       "      <td>A</td>\n",
       "      <td>2</td>\n",
       "    </tr>\n",
       "    <tr>\n",
       "      <th>4</th>\n",
       "      <td>A</td>\n",
       "      <td>2</td>\n",
       "    </tr>\n",
       "    <tr>\n",
       "      <th>5</th>\n",
       "      <td>A</td>\n",
       "      <td>3</td>\n",
       "    </tr>\n",
       "    <tr>\n",
       "      <th>6</th>\n",
       "      <td>A</td>\n",
       "      <td>3</td>\n",
       "    </tr>\n",
       "    <tr>\n",
       "      <th>7</th>\n",
       "      <td>A</td>\n",
       "      <td>4</td>\n",
       "    </tr>\n",
       "    <tr>\n",
       "      <th>8</th>\n",
       "      <td>A</td>\n",
       "      <td>None</td>\n",
       "    </tr>\n",
       "    <tr>\n",
       "      <th>9</th>\n",
       "      <td>B</td>\n",
       "      <td>p</td>\n",
       "    </tr>\n",
       "    <tr>\n",
       "      <th>10</th>\n",
       "      <td>B</td>\n",
       "      <td>p</td>\n",
       "    </tr>\n",
       "    <tr>\n",
       "      <th>11</th>\n",
       "      <td>B</td>\n",
       "      <td>z</td>\n",
       "    </tr>\n",
       "  </tbody>\n",
       "</table>\n",
       "</div>"
      ],
      "text/plain": [
       "    A     B\n",
       "0   A  None\n",
       "1   A  None\n",
       "2   A   NaN\n",
       "3   A     2\n",
       "4   A     2\n",
       "5   A     3\n",
       "6   A     3\n",
       "7   A     4\n",
       "8   A  None\n",
       "9   B     p\n",
       "10  B     p\n",
       "11  B     z"
      ]
     },
     "execution_count": 17,
     "metadata": {},
     "output_type": "execute_result"
    },
    {
     "name": "stdout",
     "output_type": "stream",
     "text": [
      "time: 28.1 ms\n"
     ]
    }
   ],
   "source": [
    "# Create test data\n",
    "data = []\n",
    "data.append( ['A',  None,   ] )\n",
    "data.append( ['A',  None,   ] )\n",
    "data.append( ['A',  np.NaN, ] )\n",
    "  \n",
    "data.append( ['A',  2,      ] )\n",
    "data.append( ['A',  2,      ] )\n",
    "data.append( ['A',  3,      ] )\n",
    "data.append( ['A',  3,      ] )\n",
    "data.append( ['A',  4,      ] )\n",
    "data.append( ['A',  None,   ] )\n",
    "data.append( ['B',  'p'     ] )\n",
    "data.append( ['B',  'p',    ] )\n",
    "data.append( ['B',  'z',    ] )\n",
    "\n",
    "data = pak.dataframe(data)\n",
    "data"
   ]
  },
  {
   "cell_type": "code",
   "execution_count": 18,
   "metadata": {},
   "outputs": [
    {
     "name": "stdout",
     "output_type": "stream",
     "text": [
      "10 rows less, now 2 rows\n"
     ]
    },
    {
     "data": {
      "text/html": [
       "<div>\n",
       "<style scoped>\n",
       "    .dataframe tbody tr th:only-of-type {\n",
       "        vertical-align: middle;\n",
       "    }\n",
       "\n",
       "    .dataframe tbody tr th {\n",
       "        vertical-align: top;\n",
       "    }\n",
       "\n",
       "    .dataframe thead th {\n",
       "        text-align: right;\n",
       "    }\n",
       "</style>\n",
       "<table border=\"1\" class=\"dataframe\">\n",
       "  <thead>\n",
       "    <tr style=\"text-align: right;\">\n",
       "      <th></th>\n",
       "      <th>A</th>\n",
       "      <th>B_mostfreq</th>\n",
       "      <th>B_mode</th>\n",
       "      <th>B_top</th>\n",
       "      <th>B_count</th>\n",
       "    </tr>\n",
       "  </thead>\n",
       "  <tbody>\n",
       "    <tr>\n",
       "      <th>0</th>\n",
       "      <td>A</td>\n",
       "      <td>2</td>\n",
       "      <td>[2, 3]</td>\n",
       "      <td>[None, 2, 3, nan, 4]</td>\n",
       "      <td>[3, 2, 2, 1, 1]</td>\n",
       "    </tr>\n",
       "    <tr>\n",
       "      <th>1</th>\n",
       "      <td>B</td>\n",
       "      <td>p</td>\n",
       "      <td>p</td>\n",
       "      <td>[p, z]</td>\n",
       "      <td>[2, 1]</td>\n",
       "    </tr>\n",
       "  </tbody>\n",
       "</table>\n",
       "</div>"
      ],
      "text/plain": [
       "   A B_mostfreq  B_mode                 B_top          B_count\n",
       "0  A          2  [2, 3]  [None, 2, 3, nan, 4]  [3, 2, 2, 1, 1]\n",
       "1  B          p       p                [p, z]           [2, 1]"
      ]
     },
     "execution_count": 18,
     "metadata": {},
     "output_type": "execute_result"
    },
    {
     "name": "stdout",
     "output_type": "stream",
     "text": [
      "time: 59.3 ms\n"
     ]
    }
   ],
   "source": [
    "# most_freq_elt     like mode, but always returns a scalar and never NaN\n",
    "# mode              only returns a scalar if the result is unique. Again, no NaN.\n",
    "# top_values        always returns a list of the most frequent elements, NaN is counted like a normal element. \n",
    "#                   There are top_values preconfigured for 3, 5, 10, 20, 100, 1000 elements. \n",
    "# top_values_count  provides a list of frequencies to match. \n",
    "\n",
    "r = pak.group_and_agg(data, \n",
    "              [ 'A',     'B',                 'B',             'B',               'B',                      ], \n",
    "              [ 'group',  pak.most_freq_elt,  pd.Series.mode,  pak.top_values_10,  pak.top_values_count_10, ],   # mode must be specially asked to be with us\n",
    "              [ 'A',     'B_mostfreq',        '',              'B_top',           'B_count',                ]\n",
    "               #list('ABCDEF')\n",
    "             )\n",
    "\n",
    "r"
   ]
  },
  {
   "cell_type": "markdown",
   "metadata": {},
   "source": [
    "## Aggregate functions first_valid_value() and last_valid_value()"
   ]
  },
  {
   "cell_type": "code",
   "execution_count": 19,
   "metadata": {},
   "outputs": [
    {
     "name": "stdout",
     "output_type": "stream",
     "text": [
      "time: 18 ms\n"
     ]
    },
    {
     "data": {
      "text/plain": [
       "\u001b[0;31mSignature:\u001b[0m \u001b[0mpak\u001b[0m\u001b[0;34m.\u001b[0m\u001b[0mfirst_valid_value\u001b[0m\u001b[0;34m(\u001b[0m\u001b[0mseries\u001b[0m\u001b[0;34m)\u001b[0m\u001b[0;34m\u001b[0m\u001b[0;34m\u001b[0m\u001b[0m\n",
       "\u001b[0;31mDocstring:\u001b[0m Returns the first not-nan values of a Series. \n",
       "\u001b[0;31mFile:\u001b[0m      ~/Data_Linux/Dropbox/31_Projekte/01_Python/git/pandasklar/src/pandasklar/pandas.py\n",
       "\u001b[0;31mType:\u001b[0m      function\n"
      ]
     },
     "metadata": {},
     "output_type": "display_data"
    }
   ],
   "source": [
    "?pak.first_valid_value"
   ]
  },
  {
   "cell_type": "code",
   "execution_count": 20,
   "metadata": {},
   "outputs": [
    {
     "name": "stdout",
     "output_type": "stream",
     "text": [
      "time: 18.7 ms\n"
     ]
    }
   ],
   "source": [
    "s = pd.Series( [np.NaN, 1, np.NaN, 'z', np.NaN])\n",
    "assert pak.first_valid_value(s) == 1\n",
    "assert pak.last_valid_value(s) == 'z'"
   ]
  },
  {
   "cell_type": "code",
   "execution_count": 21,
   "metadata": {},
   "outputs": [
    {
     "name": "stdout",
     "output_type": "stream",
     "text": [
      "time: 13.3 ms\n"
     ]
    }
   ],
   "source": [
    "s = pd.Series( [np.NaN, None])\n",
    "assert pak.first_valid_value(s) is None\n",
    "assert pak.last_valid_value(s)  is None"
   ]
  },
  {
   "cell_type": "markdown",
   "metadata": {},
   "source": [
    "## Aggregate strings\n",
    "* agg_words, agg_words_nodup, agg_strings_nospace"
   ]
  },
  {
   "cell_type": "code",
   "execution_count": 22,
   "metadata": {},
   "outputs": [
    {
     "name": "stdout",
     "output_type": "stream",
     "text": [
      "time: 22.4 ms\n"
     ]
    },
    {
     "data": {
      "text/plain": [
       "\u001b[0;31mSignature:\u001b[0m \u001b[0mpak\u001b[0m\u001b[0;34m.\u001b[0m\u001b[0magg_words\u001b[0m\u001b[0;34m(\u001b[0m\u001b[0mseries\u001b[0m\u001b[0;34m)\u001b[0m\u001b[0;34m\u001b[0m\u001b[0;34m\u001b[0m\u001b[0m\n",
       "\u001b[0;31mDocstring:\u001b[0m\n",
       "Aggregates a Series of strings to a long string.\n",
       "A space is always placed between the elements,\n",
       "the order is preserved.\n",
       "\u001b[0;31mFile:\u001b[0m      ~/Data_Linux/Dropbox/31_Projekte/01_Python/git/pandasklar/src/pandasklar/aggregate.py\n",
       "\u001b[0;31mType:\u001b[0m      function\n"
      ]
     },
     "metadata": {},
     "output_type": "display_data"
    }
   ],
   "source": [
    "?pak.agg_words"
   ]
  },
  {
   "cell_type": "code",
   "execution_count": 23,
   "metadata": {},
   "outputs": [
    {
     "name": "stdout",
     "output_type": "stream",
     "text": [
      "time: 17.7 ms\n"
     ]
    },
    {
     "data": {
      "text/plain": [
       "\u001b[0;31mSignature:\u001b[0m \u001b[0mpak\u001b[0m\u001b[0;34m.\u001b[0m\u001b[0magg_words_nodup\u001b[0m\u001b[0;34m(\u001b[0m\u001b[0mseries\u001b[0m\u001b[0;34m)\u001b[0m\u001b[0;34m\u001b[0m\u001b[0;34m\u001b[0m\u001b[0m\n",
       "\u001b[0;31mDocstring:\u001b[0m\n",
       "Aggregates a Series of strings (e.g. signal words) to a long string.\n",
       "A space is always placed between the individual elements,\n",
       "the order is preserved,\n",
       "duplicates are removed.\n",
       "\u001b[0;31mFile:\u001b[0m      ~/Data_Linux/Dropbox/31_Projekte/01_Python/git/pandasklar/src/pandasklar/aggregate.py\n",
       "\u001b[0;31mType:\u001b[0m      function\n"
      ]
     },
     "metadata": {},
     "output_type": "display_data"
    }
   ],
   "source": [
    "?pak.agg_words_nodup"
   ]
  },
  {
   "cell_type": "code",
   "execution_count": 24,
   "metadata": {},
   "outputs": [
    {
     "name": "stdout",
     "output_type": "stream",
     "text": [
      "time: 13.7 ms\n"
     ]
    },
    {
     "data": {
      "text/plain": [
       "\u001b[0;31mSignature:\u001b[0m \u001b[0mpak\u001b[0m\u001b[0;34m.\u001b[0m\u001b[0magg_strings_nospace\u001b[0m\u001b[0;34m(\u001b[0m\u001b[0mseries\u001b[0m\u001b[0;34m)\u001b[0m\u001b[0;34m\u001b[0m\u001b[0;34m\u001b[0m\u001b[0m\n",
       "\u001b[0;31mDocstring:\u001b[0m\n",
       "Aggregates a Series of strings into one long string.\n",
       "No separators between the substrings.\n",
       "\u001b[0;31mFile:\u001b[0m      ~/Data_Linux/Dropbox/31_Projekte/01_Python/git/pandasklar/src/pandasklar/aggregate.py\n",
       "\u001b[0;31mType:\u001b[0m      function\n"
      ]
     },
     "metadata": {},
     "output_type": "display_data"
    }
   ],
   "source": [
    "?pak.agg_strings_nospace"
   ]
  },
  {
   "cell_type": "code",
   "execution_count": 25,
   "metadata": {},
   "outputs": [
    {
     "name": "stdout",
     "output_type": "stream",
     "text": [
      "Input rtype=('list', 'list', 'str') shape=(16, 2)\n",
      "rotated=False Output rtype=('DataFrame', 'Series') shape=(16, 2)\n"
     ]
    },
    {
     "data": {
      "text/html": [
       "<div>\n",
       "<style scoped>\n",
       "    .dataframe tbody tr th:only-of-type {\n",
       "        vertical-align: middle;\n",
       "    }\n",
       "\n",
       "    .dataframe tbody tr th {\n",
       "        vertical-align: top;\n",
       "    }\n",
       "\n",
       "    .dataframe thead th {\n",
       "        text-align: right;\n",
       "    }\n",
       "</style>\n",
       "<table border=\"1\" class=\"dataframe\">\n",
       "  <thead>\n",
       "    <tr style=\"text-align: right;\">\n",
       "      <th></th>\n",
       "      <th>A</th>\n",
       "      <th>B</th>\n",
       "    </tr>\n",
       "  </thead>\n",
       "  <tbody>\n",
       "    <tr>\n",
       "      <th>0</th>\n",
       "      <td>A</td>\n",
       "      <td>None</td>\n",
       "    </tr>\n",
       "    <tr>\n",
       "      <th>1</th>\n",
       "      <td>A</td>\n",
       "      <td>None</td>\n",
       "    </tr>\n",
       "    <tr>\n",
       "      <th>2</th>\n",
       "      <td>A</td>\n",
       "      <td>NaN</td>\n",
       "    </tr>\n",
       "    <tr>\n",
       "      <th>3</th>\n",
       "      <td>A</td>\n",
       "      <td>Who</td>\n",
       "    </tr>\n",
       "    <tr>\n",
       "      <th>4</th>\n",
       "      <td>A</td>\n",
       "      <td>is is</td>\n",
       "    </tr>\n",
       "    <tr>\n",
       "      <th>5</th>\n",
       "      <td>A</td>\n",
       "      <td>who</td>\n",
       "    </tr>\n",
       "    <tr>\n",
       "      <th>6</th>\n",
       "      <td>A</td>\n",
       "      <td>and</td>\n",
       "    </tr>\n",
       "    <tr>\n",
       "      <th>7</th>\n",
       "      <td>A</td>\n",
       "      <td>who</td>\n",
       "    </tr>\n",
       "    <tr>\n",
       "      <th>8</th>\n",
       "      <td>A</td>\n",
       "      <td>is is is</td>\n",
       "    </tr>\n",
       "    <tr>\n",
       "      <th>9</th>\n",
       "      <td>A</td>\n",
       "      <td>None</td>\n",
       "    </tr>\n",
       "    <tr>\n",
       "      <th>10</th>\n",
       "      <td>A</td>\n",
       "      <td>what?</td>\n",
       "    </tr>\n",
       "    <tr>\n",
       "      <th>11</th>\n",
       "      <td>B</td>\n",
       "      <td></td>\n",
       "    </tr>\n",
       "    <tr>\n",
       "      <th>12</th>\n",
       "      <td>B</td>\n",
       "      <td></td>\n",
       "    </tr>\n",
       "    <tr>\n",
       "      <th>13</th>\n",
       "      <td>B</td>\n",
       "      <td>zz</td>\n",
       "    </tr>\n",
       "    <tr>\n",
       "      <th>14</th>\n",
       "      <td>B</td>\n",
       "      <td></td>\n",
       "    </tr>\n",
       "    <tr>\n",
       "      <th>15</th>\n",
       "      <td>B</td>\n",
       "      <td>zz</td>\n",
       "    </tr>\n",
       "  </tbody>\n",
       "</table>\n",
       "</div>"
      ],
      "text/plain": [
       "    A         B\n",
       "0   A      None\n",
       "1   A      None\n",
       "2   A       NaN\n",
       "3   A       Who\n",
       "4   A     is is\n",
       "5   A       who\n",
       "6   A       and\n",
       "7   A       who\n",
       "8   A  is is is\n",
       "9   A      None\n",
       "10  A     what?\n",
       "11  B          \n",
       "12  B          \n",
       "13  B        zz\n",
       "14  B          \n",
       "15  B        zz"
      ]
     },
     "execution_count": 25,
     "metadata": {},
     "output_type": "execute_result"
    },
    {
     "name": "stdout",
     "output_type": "stream",
     "text": [
      "time: 38.7 ms\n"
     ]
    }
   ],
   "source": [
    "# Create test data\n",
    "data = []\n",
    "data.append( ['A',  None,   ] )\n",
    "data.append( ['A',  None,   ] )\n",
    "data.append( ['A',  np.NaN, ] )\n",
    "  \n",
    "data.append( ['A',  'Who',    ] )\n",
    "data.append( ['A',  'is is',    ] )\n",
    "data.append( ['A',  'who',    ] )\n",
    "data.append( ['A',  'and',    ] )\n",
    "data.append( ['A',  'who',    ] )\n",
    "data.append( ['A',  'is is is',    ] )\n",
    "data.append( ['A',  None,   ] )\n",
    "data.append( ['A',  'what?',   ] )\n",
    "data.append( ['B',  ''        ] )\n",
    "data.append( ['B',  '   ',    ] )  # several narrow spaces\n",
    "data.append( ['B',  'zz',     ] )\n",
    "data.append( ['B',  ' ',      ] )  # one narrow space\n",
    "data.append( ['B',  'zz',     ] )\n",
    "\n",
    "data = pak.dataframe(data)\n",
    "data"
   ]
  },
  {
   "cell_type": "code",
   "execution_count": 26,
   "metadata": {},
   "outputs": [
    {
     "name": "stdout",
     "output_type": "stream",
     "text": [
      "14 rows less, now 2 rows\n"
     ]
    },
    {
     "data": {
      "text/html": [
       "<div>\n",
       "<style scoped>\n",
       "    .dataframe tbody tr th:only-of-type {\n",
       "        vertical-align: middle;\n",
       "    }\n",
       "\n",
       "    .dataframe tbody tr th {\n",
       "        vertical-align: top;\n",
       "    }\n",
       "\n",
       "    .dataframe thead th {\n",
       "        text-align: right;\n",
       "    }\n",
       "</style>\n",
       "<table border=\"1\" class=\"dataframe\">\n",
       "  <thead>\n",
       "    <tr style=\"text-align: right;\">\n",
       "      <th></th>\n",
       "      <th>A</th>\n",
       "      <th>B_agg_words</th>\n",
       "      <th>B_agg_words_nodup</th>\n",
       "      <th>B_agg_strings_nospace</th>\n",
       "    </tr>\n",
       "  </thead>\n",
       "  <tbody>\n",
       "    <tr>\n",
       "      <th>0</th>\n",
       "      <td>A</td>\n",
       "      <td>Who is is who and who is is is what?</td>\n",
       "      <td>Who is who and what?</td>\n",
       "      <td>Whois iswhoandwhois is iswhat?</td>\n",
       "    </tr>\n",
       "    <tr>\n",
       "      <th>1</th>\n",
       "      <td>B</td>\n",
       "      <td>zz zz</td>\n",
       "      <td>zz</td>\n",
       "      <td>zz zz</td>\n",
       "    </tr>\n",
       "  </tbody>\n",
       "</table>\n",
       "</div>"
      ],
      "text/plain": [
       "   A                           B_agg_words     B_agg_words_nodup  \\\n",
       "0  A  Who is is who and who is is is what?  Who is who and what?   \n",
       "1  B                                 zz zz                    zz   \n",
       "\n",
       "            B_agg_strings_nospace  \n",
       "0  Whois iswhoandwhois is iswhat?  \n",
       "1                           zz zz  "
      ]
     },
     "execution_count": 26,
     "metadata": {},
     "output_type": "execute_result"
    },
    {
     "name": "stdout",
     "output_type": "stream",
     "text": [
      "time: 46.8 ms\n"
     ]
    }
   ],
   "source": [
    "# agg_words :           Collects all scalars together like words in a sentence. NaN is ignored.\n",
    "# agg_words_nodups :    Collects all scalars together like signal words in a set: No dups. Order is preserved. NaN is ignored.\n",
    "# agg_strings_nospace : Just hangs everything one after the other. NaN is ignored.\n",
    "\n",
    "r = pak.group_and_agg(data, \n",
    "              [ 'A', 'B', 'B', 'B',], \n",
    "              [ 'group',  pak.agg_words, pak.agg_words_nodup, pak.agg_strings_nospace, ], \n",
    "              #[ 'A', 'B1', 'B2', 'B3' ],                 \n",
    "\n",
    "             ) \n",
    "\n",
    "r"
   ]
  },
  {
   "cell_type": "markdown",
   "metadata": {},
   "source": [
    "## Aggregate lists\n",
    "* list, explode, sum"
   ]
  },
  {
   "cell_type": "code",
   "execution_count": 27,
   "metadata": {},
   "outputs": [
    {
     "name": "stdout",
     "output_type": "stream",
     "text": [
      "Input rtype=('list', 'list', 'str') shape=(12, 2)\n",
      "rotated=False Output rtype=('DataFrame', 'Series') shape=(12, 2)\n"
     ]
    },
    {
     "data": {
      "text/html": [
       "<div>\n",
       "<style scoped>\n",
       "    .dataframe tbody tr th:only-of-type {\n",
       "        vertical-align: middle;\n",
       "    }\n",
       "\n",
       "    .dataframe tbody tr th {\n",
       "        vertical-align: top;\n",
       "    }\n",
       "\n",
       "    .dataframe thead th {\n",
       "        text-align: right;\n",
       "    }\n",
       "</style>\n",
       "<table border=\"1\" class=\"dataframe\">\n",
       "  <thead>\n",
       "    <tr style=\"text-align: right;\">\n",
       "      <th></th>\n",
       "      <th>A</th>\n",
       "      <th>B</th>\n",
       "    </tr>\n",
       "  </thead>\n",
       "  <tbody>\n",
       "    <tr>\n",
       "      <th>0</th>\n",
       "      <td>A</td>\n",
       "      <td>None</td>\n",
       "    </tr>\n",
       "    <tr>\n",
       "      <th>1</th>\n",
       "      <td>A</td>\n",
       "      <td>None</td>\n",
       "    </tr>\n",
       "    <tr>\n",
       "      <th>2</th>\n",
       "      <td>A</td>\n",
       "      <td>NaN</td>\n",
       "    </tr>\n",
       "    <tr>\n",
       "      <th>3</th>\n",
       "      <td>A</td>\n",
       "      <td>2</td>\n",
       "    </tr>\n",
       "    <tr>\n",
       "      <th>4</th>\n",
       "      <td>A</td>\n",
       "      <td>2</td>\n",
       "    </tr>\n",
       "    <tr>\n",
       "      <th>5</th>\n",
       "      <td>A</td>\n",
       "      <td>3</td>\n",
       "    </tr>\n",
       "    <tr>\n",
       "      <th>6</th>\n",
       "      <td>A</td>\n",
       "      <td>3</td>\n",
       "    </tr>\n",
       "    <tr>\n",
       "      <th>7</th>\n",
       "      <td>A</td>\n",
       "      <td>None</td>\n",
       "    </tr>\n",
       "    <tr>\n",
       "      <th>8</th>\n",
       "      <td>A</td>\n",
       "      <td>4</td>\n",
       "    </tr>\n",
       "    <tr>\n",
       "      <th>9</th>\n",
       "      <td>B</td>\n",
       "      <td>p</td>\n",
       "    </tr>\n",
       "    <tr>\n",
       "      <th>10</th>\n",
       "      <td>B</td>\n",
       "      <td>p</td>\n",
       "    </tr>\n",
       "    <tr>\n",
       "      <th>11</th>\n",
       "      <td>B</td>\n",
       "      <td>z</td>\n",
       "    </tr>\n",
       "  </tbody>\n",
       "</table>\n",
       "</div>"
      ],
      "text/plain": [
       "    A     B\n",
       "0   A  None\n",
       "1   A  None\n",
       "2   A   NaN\n",
       "3   A     2\n",
       "4   A     2\n",
       "5   A     3\n",
       "6   A     3\n",
       "7   A  None\n",
       "8   A     4\n",
       "9   B     p\n",
       "10  B     p\n",
       "11  B     z"
      ]
     },
     "execution_count": 27,
     "metadata": {},
     "output_type": "execute_result"
    },
    {
     "name": "stdout",
     "output_type": "stream",
     "text": [
      "time: 29.5 ms\n"
     ]
    }
   ],
   "source": [
    "# Create test data\n",
    "data = []\n",
    "data.append( ['A',  None,   ] )\n",
    "data.append( ['A',  None,   ] )\n",
    "data.append( ['A',  np.NaN, ] )\n",
    "  \n",
    "data.append( ['A',  2,      ] )\n",
    "data.append( ['A',  2,      ] )\n",
    "data.append( ['A',  3,      ] )\n",
    "data.append( ['A',  3,      ] )\n",
    "data.append( ['A',  None,   ] )\n",
    "data.append( ['A',  4,      ] )\n",
    "data.append( ['B',  'p'     ] )\n",
    "data.append( ['B',  'p',    ] )\n",
    "data.append( ['B',  'z',    ] )\n",
    "\n",
    "data = pak.dataframe(data)\n",
    "data"
   ]
  },
  {
   "cell_type": "markdown",
   "metadata": {},
   "source": [
    "### list aggregates scalars to lists"
   ]
  },
  {
   "cell_type": "code",
   "execution_count": 28,
   "metadata": {},
   "outputs": [
    {
     "name": "stdout",
     "output_type": "stream",
     "text": [
      "10 rows less, now 2 rows\n"
     ]
    },
    {
     "data": {
      "text/html": [
       "<div>\n",
       "<style scoped>\n",
       "    .dataframe tbody tr th:only-of-type {\n",
       "        vertical-align: middle;\n",
       "    }\n",
       "\n",
       "    .dataframe tbody tr th {\n",
       "        vertical-align: top;\n",
       "    }\n",
       "\n",
       "    .dataframe thead th {\n",
       "        text-align: right;\n",
       "    }\n",
       "</style>\n",
       "<table border=\"1\" class=\"dataframe\">\n",
       "  <thead>\n",
       "    <tr style=\"text-align: right;\">\n",
       "      <th></th>\n",
       "      <th>A</th>\n",
       "      <th>B</th>\n",
       "    </tr>\n",
       "  </thead>\n",
       "  <tbody>\n",
       "    <tr>\n",
       "      <th>0</th>\n",
       "      <td>A</td>\n",
       "      <td>[None, None, nan, 2, 2, 3, 3, None, 4]</td>\n",
       "    </tr>\n",
       "    <tr>\n",
       "      <th>1</th>\n",
       "      <td>B</td>\n",
       "      <td>[p, p, z]</td>\n",
       "    </tr>\n",
       "  </tbody>\n",
       "</table>\n",
       "</div>"
      ],
      "text/plain": [
       "   A                                       B\n",
       "0  A  [None, None, nan, 2, 2, 3, 3, None, 4]\n",
       "1  B                               [p, p, z]"
      ]
     },
     "execution_count": 28,
     "metadata": {},
     "output_type": "execute_result"
    },
    {
     "name": "stdout",
     "output_type": "stream",
     "text": [
      "time: 44.6 ms\n"
     ]
    }
   ],
   "source": [
    "r = pak.group_and_agg(data, \n",
    "              [ 'A',     'B',     ], \n",
    "              [ 'group',  list,   ],  # by the way, this works the same way with set                \n",
    "              [ 'A',     'B',     ]\n",
    "             )\n",
    "\n",
    "r"
   ]
  },
  {
   "cell_type": "markdown",
   "metadata": {},
   "source": [
    "### explode turns lists back into scalars"
   ]
  },
  {
   "cell_type": "code",
   "execution_count": 29,
   "metadata": {},
   "outputs": [
    {
     "data": {
      "text/html": [
       "<div>\n",
       "<style scoped>\n",
       "    .dataframe tbody tr th:only-of-type {\n",
       "        vertical-align: middle;\n",
       "    }\n",
       "\n",
       "    .dataframe tbody tr th {\n",
       "        vertical-align: top;\n",
       "    }\n",
       "\n",
       "    .dataframe thead th {\n",
       "        text-align: right;\n",
       "    }\n",
       "</style>\n",
       "<table border=\"1\" class=\"dataframe\">\n",
       "  <thead>\n",
       "    <tr style=\"text-align: right;\">\n",
       "      <th></th>\n",
       "      <th>A</th>\n",
       "      <th>B</th>\n",
       "    </tr>\n",
       "  </thead>\n",
       "  <tbody>\n",
       "    <tr>\n",
       "      <th>0</th>\n",
       "      <td>A</td>\n",
       "      <td>None</td>\n",
       "    </tr>\n",
       "    <tr>\n",
       "      <th>0</th>\n",
       "      <td>A</td>\n",
       "      <td>None</td>\n",
       "    </tr>\n",
       "    <tr>\n",
       "      <th>0</th>\n",
       "      <td>A</td>\n",
       "      <td>NaN</td>\n",
       "    </tr>\n",
       "    <tr>\n",
       "      <th>0</th>\n",
       "      <td>A</td>\n",
       "      <td>2</td>\n",
       "    </tr>\n",
       "    <tr>\n",
       "      <th>0</th>\n",
       "      <td>A</td>\n",
       "      <td>2</td>\n",
       "    </tr>\n",
       "    <tr>\n",
       "      <th>0</th>\n",
       "      <td>A</td>\n",
       "      <td>3</td>\n",
       "    </tr>\n",
       "    <tr>\n",
       "      <th>0</th>\n",
       "      <td>A</td>\n",
       "      <td>3</td>\n",
       "    </tr>\n",
       "    <tr>\n",
       "      <th>0</th>\n",
       "      <td>A</td>\n",
       "      <td>None</td>\n",
       "    </tr>\n",
       "    <tr>\n",
       "      <th>0</th>\n",
       "      <td>A</td>\n",
       "      <td>4</td>\n",
       "    </tr>\n",
       "    <tr>\n",
       "      <th>1</th>\n",
       "      <td>B</td>\n",
       "      <td>p</td>\n",
       "    </tr>\n",
       "    <tr>\n",
       "      <th>1</th>\n",
       "      <td>B</td>\n",
       "      <td>p</td>\n",
       "    </tr>\n",
       "    <tr>\n",
       "      <th>1</th>\n",
       "      <td>B</td>\n",
       "      <td>z</td>\n",
       "    </tr>\n",
       "  </tbody>\n",
       "</table>\n",
       "</div>"
      ],
      "text/plain": [
       "   A     B\n",
       "0  A  None\n",
       "0  A  None\n",
       "0  A   NaN\n",
       "0  A     2\n",
       "0  A     2\n",
       "0  A     3\n",
       "0  A     3\n",
       "0  A  None\n",
       "0  A     4\n",
       "1  B     p\n",
       "1  B     p\n",
       "1  B     z"
      ]
     },
     "execution_count": 29,
     "metadata": {},
     "output_type": "execute_result"
    },
    {
     "name": "stdout",
     "output_type": "stream",
     "text": [
      "time: 31.8 ms\n"
     ]
    }
   ],
   "source": [
    "# undo\n",
    "r.explode('B')"
   ]
  },
  {
   "cell_type": "code",
   "execution_count": 30,
   "metadata": {},
   "outputs": [
    {
     "name": "stdout",
     "output_type": "stream",
     "text": [
      "time: 31.1 ms\n"
     ]
    }
   ],
   "source": [
    "# equal!\n",
    "r = pak.reset_index(r.explode('B'))\n",
    "assert pak.check_equal(data,r)"
   ]
  },
  {
   "cell_type": "markdown",
   "metadata": {},
   "source": [
    "### agg_to_list()"
   ]
  },
  {
   "cell_type": "code",
   "execution_count": 31,
   "metadata": {},
   "outputs": [
    {
     "name": "stdout",
     "output_type": "stream",
     "text": [
      "time: 15.4 ms\n"
     ]
    },
    {
     "data": {
      "text/plain": [
       "\u001b[0;31mSignature:\u001b[0m \u001b[0mpak\u001b[0m\u001b[0;34m.\u001b[0m\u001b[0magg_to_list\u001b[0m\u001b[0;34m(\u001b[0m\u001b[0mseries\u001b[0m\u001b[0;34m)\u001b[0m\u001b[0;34m\u001b[0m\u001b[0;34m\u001b[0m\u001b[0m\n",
       "\u001b[0;31mDocstring:\u001b[0m\n",
       "Aggregates a Series to a list. \n",
       "Normally this can also be done with a simple 'list', but in combination with transform this does not work.\n",
       "Then agg_to_list can be used as a substitute.\n",
       "\u001b[0;31mFile:\u001b[0m      ~/Data_Linux/Dropbox/31_Projekte/01_Python/git/pandasklar/src/pandasklar/aggregate.py\n",
       "\u001b[0;31mType:\u001b[0m      function\n"
      ]
     },
     "metadata": {},
     "output_type": "display_data"
    }
   ],
   "source": [
    "?pak.agg_to_list"
   ]
  },
  {
   "cell_type": "markdown",
   "metadata": {},
   "source": [
    "### sum aggregates lists to longer lists"
   ]
  },
  {
   "cell_type": "code",
   "execution_count": 32,
   "metadata": {},
   "outputs": [
    {
     "name": "stdout",
     "output_type": "stream",
     "text": [
      "Input rtype=('list', 'list', 'str') shape=(-77, -77)\n",
      "rotated=False Output rtype=('DataFrame', 'Series') shape=(12, 2)\n"
     ]
    },
    {
     "data": {
      "text/html": [
       "<div>\n",
       "<style scoped>\n",
       "    .dataframe tbody tr th:only-of-type {\n",
       "        vertical-align: middle;\n",
       "    }\n",
       "\n",
       "    .dataframe tbody tr th {\n",
       "        vertical-align: top;\n",
       "    }\n",
       "\n",
       "    .dataframe thead th {\n",
       "        text-align: right;\n",
       "    }\n",
       "</style>\n",
       "<table border=\"1\" class=\"dataframe\">\n",
       "  <thead>\n",
       "    <tr style=\"text-align: right;\">\n",
       "      <th></th>\n",
       "      <th>A</th>\n",
       "      <th>B</th>\n",
       "    </tr>\n",
       "  </thead>\n",
       "  <tbody>\n",
       "    <tr>\n",
       "      <th>0</th>\n",
       "      <td>A</td>\n",
       "      <td>None</td>\n",
       "    </tr>\n",
       "    <tr>\n",
       "      <th>1</th>\n",
       "      <td>A</td>\n",
       "      <td>[None, None]</td>\n",
       "    </tr>\n",
       "    <tr>\n",
       "      <th>2</th>\n",
       "      <td>A</td>\n",
       "      <td>NaN</td>\n",
       "    </tr>\n",
       "    <tr>\n",
       "      <th>3</th>\n",
       "      <td>A</td>\n",
       "      <td>[Who, is, who]</td>\n",
       "    </tr>\n",
       "    <tr>\n",
       "      <th>4</th>\n",
       "      <td>A</td>\n",
       "      <td>[and, qq]</td>\n",
       "    </tr>\n",
       "    <tr>\n",
       "      <th>5</th>\n",
       "      <td>A</td>\n",
       "      <td>[who, qq]</td>\n",
       "    </tr>\n",
       "    <tr>\n",
       "      <th>6</th>\n",
       "      <td>A</td>\n",
       "      <td>[is, qq]</td>\n",
       "    </tr>\n",
       "    <tr>\n",
       "      <th>7</th>\n",
       "      <td>A</td>\n",
       "      <td>[None, qq]</td>\n",
       "    </tr>\n",
       "    <tr>\n",
       "      <th>8</th>\n",
       "      <td>A</td>\n",
       "      <td>[what?, qq]</td>\n",
       "    </tr>\n",
       "    <tr>\n",
       "      <th>9</th>\n",
       "      <td>B</td>\n",
       "      <td>[]</td>\n",
       "    </tr>\n",
       "    <tr>\n",
       "      <th>10</th>\n",
       "      <td>B</td>\n",
       "      <td>[xx, yy]</td>\n",
       "    </tr>\n",
       "    <tr>\n",
       "      <th>11</th>\n",
       "      <td>B</td>\n",
       "      <td>[zz]</td>\n",
       "    </tr>\n",
       "  </tbody>\n",
       "</table>\n",
       "</div>"
      ],
      "text/plain": [
       "    A               B\n",
       "0   A            None\n",
       "1   A    [None, None]\n",
       "2   A             NaN\n",
       "3   A  [Who, is, who]\n",
       "4   A       [and, qq]\n",
       "5   A       [who, qq]\n",
       "6   A        [is, qq]\n",
       "7   A      [None, qq]\n",
       "8   A     [what?, qq]\n",
       "9   B              []\n",
       "10  B        [xx, yy]\n",
       "11  B            [zz]"
      ]
     },
     "execution_count": 32,
     "metadata": {},
     "output_type": "execute_result"
    },
    {
     "name": "stdout",
     "output_type": "stream",
     "text": [
      "time: 32.9 ms\n"
     ]
    }
   ],
   "source": [
    "# Create test data\n",
    "data = []\n",
    "data.append( ['A',  None,                  ] )\n",
    "data.append( ['A',  [None,None]            ] )\n",
    "data.append( ['A',  np.NaN,                ] )\n",
    "  \n",
    "data.append( ['A',  ['Who', 'is', 'who']  ] )\n",
    "data.append( ['A',  ['and', 'qq']          ] )\n",
    "data.append( ['A',  ['who', 'qq']          ] )\n",
    "data.append( ['A',  ['is', 'qq']          ] )\n",
    "data.append( ['A',  [None,  'qq']          ] )\n",
    "data.append( ['A',  ['what?','qq'],         ] )\n",
    "data.append( ['B',  ['']                   ] )\n",
    "data.append( ['B',  ['xx','yy'],           ] )  \n",
    "data.append( ['B',  ['zz'],                ] )\n",
    "\n",
    "data = pak.dataframe(data)\n",
    "data"
   ]
  },
  {
   "cell_type": "code",
   "execution_count": 33,
   "metadata": {},
   "outputs": [
    {
     "name": "stdout",
     "output_type": "stream",
     "text": [
      "10 rows less, now 2 rows\n"
     ]
    },
    {
     "data": {
      "text/html": [
       "<div>\n",
       "<style scoped>\n",
       "    .dataframe tbody tr th:only-of-type {\n",
       "        vertical-align: middle;\n",
       "    }\n",
       "\n",
       "    .dataframe tbody tr th {\n",
       "        vertical-align: top;\n",
       "    }\n",
       "\n",
       "    .dataframe thead th {\n",
       "        text-align: right;\n",
       "    }\n",
       "</style>\n",
       "<table border=\"1\" class=\"dataframe\">\n",
       "  <thead>\n",
       "    <tr style=\"text-align: right;\">\n",
       "      <th></th>\n",
       "      <th>A</th>\n",
       "      <th>B</th>\n",
       "    </tr>\n",
       "  </thead>\n",
       "  <tbody>\n",
       "    <tr>\n",
       "      <th>0</th>\n",
       "      <td>A</td>\n",
       "      <td>[None, None, Who, is, who, and, qq, who, qq, i...</td>\n",
       "    </tr>\n",
       "    <tr>\n",
       "      <th>1</th>\n",
       "      <td>B</td>\n",
       "      <td>[, xx, yy, zz]</td>\n",
       "    </tr>\n",
       "  </tbody>\n",
       "</table>\n",
       "</div>"
      ],
      "text/plain": [
       "   A                                                  B\n",
       "0  A  [None, None, Who, is, who, and, qq, who, qq, i...\n",
       "1  B                                     [, xx, yy, zz]"
      ]
     },
     "execution_count": 33,
     "metadata": {},
     "output_type": "execute_result"
    },
    {
     "name": "stdout",
     "output_type": "stream",
     "text": [
      "time: 51.9 ms\n"
     ]
    }
   ],
   "source": [
    "r = pak.group_and_agg(data, \n",
    "              [ 'A',     'B',     ], \n",
    "              [ 'group',  sum,   ],  \n",
    "              [ 'A',     'B',     ],                   \n",
    "\n",
    "             )\n",
    "\n",
    "r"
   ]
  },
  {
   "cell_type": "markdown",
   "metadata": {},
   "source": [
    "## Aggregate dicts"
   ]
  },
  {
   "cell_type": "code",
   "execution_count": 34,
   "metadata": {},
   "outputs": [
    {
     "name": "stdout",
     "output_type": "stream",
     "text": [
      "Input rtype=('list', 'list', 'str') shape=(-77, -77)\n",
      "rotated=False Output rtype=('DataFrame', 'Series') shape=(5, 2)\n"
     ]
    },
    {
     "data": {
      "text/html": [
       "<div>\n",
       "<style scoped>\n",
       "    .dataframe tbody tr th:only-of-type {\n",
       "        vertical-align: middle;\n",
       "    }\n",
       "\n",
       "    .dataframe tbody tr th {\n",
       "        vertical-align: top;\n",
       "    }\n",
       "\n",
       "    .dataframe thead th {\n",
       "        text-align: right;\n",
       "    }\n",
       "</style>\n",
       "<table border=\"1\" class=\"dataframe\">\n",
       "  <thead>\n",
       "    <tr style=\"text-align: right;\">\n",
       "      <th></th>\n",
       "      <th>A</th>\n",
       "      <th>D</th>\n",
       "      <th>DD</th>\n",
       "    </tr>\n",
       "  </thead>\n",
       "  <tbody>\n",
       "    <tr>\n",
       "      <th>0</th>\n",
       "      <td>A</td>\n",
       "      <td>{'a': 1}</td>\n",
       "      <td>{'a': [1]}</td>\n",
       "    </tr>\n",
       "    <tr>\n",
       "      <th>1</th>\n",
       "      <td>A</td>\n",
       "      <td>{'a': 1}</td>\n",
       "      <td>{'a': [1]}</td>\n",
       "    </tr>\n",
       "    <tr>\n",
       "      <th>2</th>\n",
       "      <td>A</td>\n",
       "      <td>{'b': 2, 'c': 3}</td>\n",
       "      <td>{'b': [2], 'c': [3]}</td>\n",
       "    </tr>\n",
       "    <tr>\n",
       "      <th>3</th>\n",
       "      <td>A</td>\n",
       "      <td>{'a': 4}</td>\n",
       "      <td>{'a': [4]}</td>\n",
       "    </tr>\n",
       "    <tr>\n",
       "      <th>4</th>\n",
       "      <td>B</td>\n",
       "      <td>{'bb': 22}</td>\n",
       "      <td>{'bb': [22]}</td>\n",
       "    </tr>\n",
       "  </tbody>\n",
       "</table>\n",
       "</div>"
      ],
      "text/plain": [
       "   A                 D                    DD\n",
       "0  A          {'a': 1}            {'a': [1]}\n",
       "1  A          {'a': 1}            {'a': [1]}\n",
       "2  A  {'b': 2, 'c': 3}  {'b': [2], 'c': [3]}\n",
       "3  A          {'a': 4}            {'a': [4]}\n",
       "4  B        {'bb': 22}          {'bb': [22]}"
      ]
     },
     "execution_count": 34,
     "metadata": {},
     "output_type": "execute_result"
    },
    {
     "name": "stdout",
     "output_type": "stream",
     "text": [
      "time: 29.9 ms\n"
     ]
    }
   ],
   "source": [
    "# Create test data\n",
    "data = []\n",
    "data.append( ['A',  {'a':1},           ] )\n",
    "data.append( ['A',  {'a':1},           ] )\n",
    "data.append( ['A',  {'b':2, 'c':3 },   ] )\n",
    "data.append( ['A',  {'a':4},           ] )\n",
    "data.append( ['B',  {'bb':22},         ] )\n",
    "#data.append( ['B',  {},                ] )\n",
    "\n",
    "data = pak.dataframe(data)\n",
    "data.columns = ['A','D']\n",
    "\n",
    "# DD is a copy of D, but as defaultdict\n",
    "data['DD'] = data.D.copy() \n",
    "\n",
    "# dict_to_defaultdict turns the dict in the given column into a defaultdict\n",
    "data = pak.dict_to_defaultdict( data, col='DD' )\n",
    "data"
   ]
  },
  {
   "cell_type": "code",
   "execution_count": 35,
   "metadata": {},
   "outputs": [
    {
     "name": "stdout",
     "output_type": "stream",
     "text": [
      "3 rows less, now 2 rows\n"
     ]
    },
    {
     "data": {
      "text/html": [
       "<div>\n",
       "<style scoped>\n",
       "    .dataframe tbody tr th:only-of-type {\n",
       "        vertical-align: middle;\n",
       "    }\n",
       "\n",
       "    .dataframe tbody tr th {\n",
       "        vertical-align: top;\n",
       "    }\n",
       "\n",
       "    .dataframe thead th {\n",
       "        text-align: right;\n",
       "    }\n",
       "</style>\n",
       "<table border=\"1\" class=\"dataframe\">\n",
       "  <thead>\n",
       "    <tr style=\"text-align: right;\">\n",
       "      <th></th>\n",
       "      <th>A</th>\n",
       "      <th>D_dict</th>\n",
       "      <th>D_defaultdict</th>\n",
       "    </tr>\n",
       "  </thead>\n",
       "  <tbody>\n",
       "    <tr>\n",
       "      <th>0</th>\n",
       "      <td>A</td>\n",
       "      <td>{'a': 4, 'b': 2, 'c': 3}</td>\n",
       "      <td>{'a': [1, 4], 'b': [2], 'c': [3]}</td>\n",
       "    </tr>\n",
       "    <tr>\n",
       "      <th>1</th>\n",
       "      <td>B</td>\n",
       "      <td>{'bb': 22}</td>\n",
       "      <td>{'bb': [22]}</td>\n",
       "    </tr>\n",
       "  </tbody>\n",
       "</table>\n",
       "</div>"
      ],
      "text/plain": [
       "   A                    D_dict                      D_defaultdict\n",
       "0  A  {'a': 4, 'b': 2, 'c': 3}  {'a': [1, 4], 'b': [2], 'c': [3]}\n",
       "1  B                {'bb': 22}                       {'bb': [22]}"
      ]
     },
     "execution_count": 35,
     "metadata": {},
     "output_type": "execute_result"
    },
    {
     "name": "stdout",
     "output_type": "stream",
     "text": [
      "time: 60.7 ms\n"
     ]
    }
   ],
   "source": [
    "# agg_dicts      aggregates dicts and overwrites conflicting values\n",
    "# agg_dicts_2dd  does the same, but results defaultdicts, so no values are lost\n",
    "\n",
    "r = pak.group_and_agg(data, \n",
    "              [ 'A',     'D',            'D',                 ], \n",
    "              [ 'group',  pak.agg_dicts, pak.agg_dicts_2dd,  ],  \n",
    "              [ 'A',     'D_dict',       'D_defaultdict',    ],                   \n",
    "\n",
    "             )\n",
    "\n",
    "r"
   ]
  },
  {
   "cell_type": "markdown",
   "metadata": {},
   "source": [
    "## Aggregate defaultdicts"
   ]
  },
  {
   "cell_type": "code",
   "execution_count": 36,
   "metadata": {},
   "outputs": [
    {
     "data": {
      "text/html": [
       "<div>\n",
       "<style scoped>\n",
       "    .dataframe tbody tr th:only-of-type {\n",
       "        vertical-align: middle;\n",
       "    }\n",
       "\n",
       "    .dataframe tbody tr th {\n",
       "        vertical-align: top;\n",
       "    }\n",
       "\n",
       "    .dataframe thead th {\n",
       "        text-align: right;\n",
       "    }\n",
       "</style>\n",
       "<table border=\"1\" class=\"dataframe\">\n",
       "  <thead>\n",
       "    <tr style=\"text-align: right;\">\n",
       "      <th></th>\n",
       "      <th>A</th>\n",
       "      <th>D</th>\n",
       "      <th>DD</th>\n",
       "    </tr>\n",
       "  </thead>\n",
       "  <tbody>\n",
       "    <tr>\n",
       "      <th>0</th>\n",
       "      <td>A</td>\n",
       "      <td>{'a': 1}</td>\n",
       "      <td>{'a': [1]}</td>\n",
       "    </tr>\n",
       "    <tr>\n",
       "      <th>1</th>\n",
       "      <td>A</td>\n",
       "      <td>{'a': 1}</td>\n",
       "      <td>{'a': [1]}</td>\n",
       "    </tr>\n",
       "    <tr>\n",
       "      <th>2</th>\n",
       "      <td>A</td>\n",
       "      <td>{'b': 2, 'c': 3}</td>\n",
       "      <td>{'b': [2], 'c': [3]}</td>\n",
       "    </tr>\n",
       "    <tr>\n",
       "      <th>3</th>\n",
       "      <td>A</td>\n",
       "      <td>{'a': 4}</td>\n",
       "      <td>{'a': [4]}</td>\n",
       "    </tr>\n",
       "    <tr>\n",
       "      <th>4</th>\n",
       "      <td>B</td>\n",
       "      <td>{'bb': 22}</td>\n",
       "      <td>{'bb': [22]}</td>\n",
       "    </tr>\n",
       "  </tbody>\n",
       "</table>\n",
       "</div>"
      ],
      "text/plain": [
       "   A                 D                    DD\n",
       "0  A          {'a': 1}            {'a': [1]}\n",
       "1  A          {'a': 1}            {'a': [1]}\n",
       "2  A  {'b': 2, 'c': 3}  {'b': [2], 'c': [3]}\n",
       "3  A          {'a': 4}            {'a': [4]}\n",
       "4  B        {'bb': 22}          {'bb': [22]}"
      ]
     },
     "execution_count": 36,
     "metadata": {},
     "output_type": "execute_result"
    },
    {
     "name": "stdout",
     "output_type": "stream",
     "text": [
      "time: 28.7 ms\n"
     ]
    }
   ],
   "source": [
    "# See the test data again\n",
    "data"
   ]
  },
  {
   "cell_type": "code",
   "execution_count": 37,
   "metadata": {},
   "outputs": [
    {
     "name": "stdout",
     "output_type": "stream",
     "text": [
      "3 rows less, now 2 rows\n"
     ]
    },
    {
     "data": {
      "text/html": [
       "<div>\n",
       "<style scoped>\n",
       "    .dataframe tbody tr th:only-of-type {\n",
       "        vertical-align: middle;\n",
       "    }\n",
       "\n",
       "    .dataframe tbody tr th {\n",
       "        vertical-align: top;\n",
       "    }\n",
       "\n",
       "    .dataframe thead th {\n",
       "        text-align: right;\n",
       "    }\n",
       "</style>\n",
       "<table border=\"1\" class=\"dataframe\">\n",
       "  <thead>\n",
       "    <tr style=\"text-align: right;\">\n",
       "      <th></th>\n",
       "      <th>A</th>\n",
       "      <th>DD</th>\n",
       "    </tr>\n",
       "  </thead>\n",
       "  <tbody>\n",
       "    <tr>\n",
       "      <th>0</th>\n",
       "      <td>A</td>\n",
       "      <td>{'a': [1, 4], 'b': [2], 'c': [3]}</td>\n",
       "    </tr>\n",
       "    <tr>\n",
       "      <th>1</th>\n",
       "      <td>B</td>\n",
       "      <td>{'bb': [22]}</td>\n",
       "    </tr>\n",
       "  </tbody>\n",
       "</table>\n",
       "</div>"
      ],
      "text/plain": [
       "   A                                 DD\n",
       "0  A  {'a': [1, 4], 'b': [2], 'c': [3]}\n",
       "1  B                       {'bb': [22]}"
      ]
     },
     "execution_count": 37,
     "metadata": {},
     "output_type": "execute_result"
    },
    {
     "name": "stdout",
     "output_type": "stream",
     "text": [
      "time: 64.5 ms\n"
     ]
    }
   ],
   "source": [
    "# agg_defaultdicts aggregates defaultdicts\n",
    "\n",
    "r = pak.group_and_agg(data, \n",
    "              [ 'A',      'DD',                            ], \n",
    "              [ 'group',  pak.agg_defaultdicts,            ],  \n",
    "              [ 'A',      'DD',                            ],                   \n",
    "\n",
    "             )\n",
    "\n",
    "r"
   ]
  }
 ],
 "metadata": {
  "kernelspec": {
   "display_name": "Python 3 (ipykernel)",
   "language": "python",
   "name": "python3"
  },
  "language_info": {
   "codemirror_mode": {
    "name": "ipython",
    "version": 3
   },
   "file_extension": ".py",
   "mimetype": "text/x-python",
   "name": "python",
   "nbconvert_exporter": "python",
   "pygments_lexer": "ipython3",
   "version": "3.9.13"
  },
  "toc-autonumbering": false
 },
 "nbformat": 4,
 "nbformat_minor": 4
}
