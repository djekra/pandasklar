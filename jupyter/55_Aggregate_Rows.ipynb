{
 "cells": [
  {
   "cell_type": "markdown",
   "metadata": {},
   "source": [
    "__[Open and try this file online (Colab)](https://colab.research.google.com/github/djekra/pandasklar/blob/master/jupyter/55_Aggregate_Rows.ipynb)__"
   ]
  },
  {
   "cell_type": "markdown",
   "metadata": {},
   "source": [
    "# Aggregate Rows\n",
    "* `group_and_agg`: Groups and aggregates. Provides a user interface similar to that of MS Access.\n",
    "* `most_freq_elt`: Aggregates a Series to the most frequent scalar element.<br>\n",
    "   Like Series.mode, but always returns a scalar.\n",
    "* `top_values`: Aggregates a Series to a list of the most frequent elements.<br>\n",
    "   Can also return the counts of the most frequent elements.  \n",
    "   \n",
    "* `first_valid_value`: Returns the first not-nan values of a Series.    \n",
    "* `last_valid_value`:  Returns the last  not-nan values of a Series.      \n",
    "\n",
    "* `agg_words`: Aggregates a Series of strings to a long string.<br>\n",
    "   A space is always placed between the elements, the order is preserved.\n",
    "* `agg_words_nodup`: Aggregates a Series of strings (e.g. signal words) to a long string.\n",
    "   Like agg_words, but duplicates are removed.\n",
    "* `agg_strings_nospace`: Aggregates a Series of strings into one long string.<br>\n",
    "   Like agg_words, but no separators between the substrings.  \n",
    "   \n",
    "* `agg_to_list`: Aggregates a Series to a list. \n",
    "   Normally this can also be done with a simple 'list', \n",
    "   but in combination with transform this does not work.\n",
    "   Then agg_to_list can be used as a substitute.\n",
    "* `agg_dicts`: Aggregates a Series of dicts to a single dict.<br>\n",
    "   If a key occurs more than once, the value is overwritten.\n",
    "* `agg_dicts_2dd`: Aggregates a Series of dicts to a single defaultdict(list).<br>\n",
    "   I.e. multiple keys are allowed. The values are always lists. \n",
    "* `agg_defaultdicts`: Aggregates a Series of defaultdict(list) to a single defaultdict(list)."
   ]
  },
  {
   "cell_type": "code",
   "execution_count": 1,
   "metadata": {
    "execution": {
     "iopub.execute_input": "2023-05-10T10:30:38.245949Z",
     "iopub.status.busy": "2023-05-10T10:30:38.245437Z",
     "iopub.status.idle": "2023-05-10T10:30:39.033234Z",
     "shell.execute_reply": "2023-05-10T10:30:39.032528Z",
     "shell.execute_reply.started": "2023-05-10T10:30:38.245897Z"
    }
   },
   "outputs": [
    {
     "name": "stdout",
     "output_type": "stream",
     "text": [
      "blab init\n",
      "environment['in_colab']     = False\n",
      "environment['dropbox_path'] = /home/me/Data_Linux/Dropbox\n",
      "environment['lib_path']     = /home/me/Data_Linux/Dropbox/31_Projekte/01_Python/libs\n",
      "Start Time: 12:30:38\n"
     ]
    },
    {
     "data": {
      "text/html": [
       "<img src onerror=\"var cell = this.closest('.jp-CodeCell');var editor = cell.querySelector('.jp-Editor');editor.style.background='Beige';this.parentNode.removeChild(this)\">"
      ],
      "text/plain": [
       "<IPython.core.display.HTML object>"
      ]
     },
     "metadata": {},
     "output_type": "display_data"
    }
   ],
   "source": [
    "# blab init\n",
    "try:\n",
    "    import blab\n",
    "except ImportError as e:\n",
    "    !pip install blab\n",
    "    import blab    \n",
    "startup_notebook = blab.blab_startup()\n",
    "%run $startup_notebook "
   ]
  },
  {
   "cell_type": "code",
   "execution_count": 2,
   "metadata": {
    "execution": {
     "iopub.execute_input": "2023-05-10T10:30:39.034904Z",
     "iopub.status.busy": "2023-05-10T10:30:39.034571Z",
     "iopub.status.idle": "2023-05-10T10:30:41.201816Z",
     "shell.execute_reply": "2023-05-10T10:30:41.200864Z",
     "shell.execute_reply.started": "2023-05-10T10:30:39.034878Z"
    }
   },
   "outputs": [
    {
     "name": "stdout",
     "output_type": "stream",
     "text": [
      "VERBOSE = True\n",
      "--> setting verbose=True as default for all pandasklar functions\n",
      "\n"
     ]
    }
   ],
   "source": [
    "import numpy      as np\n",
    "import pandas     as pd \n",
    "import bpyth      as bpy\n",
    "\n",
    "# pandasklar\n",
    "try:\n",
    "    import pandasklar as pak \n",
    "except ImportError as e:\n",
    "    !pip install pandasklar\n",
    "    import pandasklar as pak   \n",
    "    \n",
    "# verbose\n",
    "pak.Config.set('VERBOSE', True)\n",
    "\n",
    "# copy_on_write\n",
    "pd.set_option(\"mode.copy_on_write\", True)"
   ]
  },
  {
   "cell_type": "markdown",
   "metadata": {},
   "source": [
    "## partial_pivot()"
   ]
  },
  {
   "cell_type": "code",
   "execution_count": 102,
   "metadata": {
    "execution": {
     "iopub.execute_input": "2023-05-10T12:00:47.526983Z",
     "iopub.status.busy": "2023-05-10T12:00:47.526336Z",
     "iopub.status.idle": "2023-05-10T12:00:47.570970Z",
     "shell.execute_reply": "2023-05-10T12:00:47.570066Z",
     "shell.execute_reply.started": "2023-05-10T12:00:47.526926Z"
    },
    "tags": []
   },
   "outputs": [
    {
     "data": {
      "text/plain": [
       "\u001b[0;31mSignature:\u001b[0m\n",
       "\u001b[0mpak\u001b[0m\u001b[0;34m.\u001b[0m\u001b[0mpartial_pivot\u001b[0m\u001b[0;34m(\u001b[0m\u001b[0;34m\u001b[0m\n",
       "\u001b[0;34m\u001b[0m    \u001b[0mdf\u001b[0m\u001b[0;34m,\u001b[0m\u001b[0;34m\u001b[0m\n",
       "\u001b[0;34m\u001b[0m    \u001b[0mcol_score\u001b[0m\u001b[0;34m=\u001b[0m\u001b[0;32mNone\u001b[0m\u001b[0;34m,\u001b[0m\u001b[0;34m\u001b[0m\n",
       "\u001b[0;34m\u001b[0m    \u001b[0mcols_group\u001b[0m\u001b[0;34m=\u001b[0m\u001b[0;32mNone\u001b[0m\u001b[0;34m,\u001b[0m\u001b[0;34m\u001b[0m\n",
       "\u001b[0;34m\u001b[0m    \u001b[0mcol_pivot\u001b[0m\u001b[0;34m=\u001b[0m\u001b[0;32mNone\u001b[0m\u001b[0;34m,\u001b[0m\u001b[0;34m\u001b[0m\n",
       "\u001b[0;34m\u001b[0m    \u001b[0mwidth_max\u001b[0m\u001b[0;34m=\u001b[0m\u001b[0;32mNone\u001b[0m\u001b[0;34m,\u001b[0m\u001b[0;34m\u001b[0m\n",
       "\u001b[0;34m\u001b[0m\u001b[0;34m)\u001b[0m\u001b[0;34m\u001b[0m\u001b[0;34m\u001b[0m\u001b[0m\n",
       "\u001b[0;31mDocstring:\u001b[0m <no docstring>\n",
       "\u001b[0;31mFile:\u001b[0m      ~/Data_Linux/Dropbox/31_Projekte/01_Python/git/pandasklar/src/pandasklar/aggregate.py\n",
       "\u001b[0;31mType:\u001b[0m      function\n"
      ]
     },
     "metadata": {},
     "output_type": "display_data"
    }
   ],
   "source": [
    "?pak.partial_pivot"
   ]
  },
  {
   "cell_type": "code",
   "execution_count": 139,
   "metadata": {
    "execution": {
     "iopub.execute_input": "2023-05-10T12:53:59.132525Z",
     "iopub.status.busy": "2023-05-10T12:53:59.132101Z",
     "iopub.status.idle": "2023-05-10T12:53:59.316131Z",
     "shell.execute_reply": "2023-05-10T12:53:59.315315Z",
     "shell.execute_reply.started": "2023-05-10T12:53:59.132492Z"
    },
    "tags": []
   },
   "outputs": [
    {
     "data": {
      "text/html": [
       "<div>\n",
       "<style scoped>\n",
       "    .dataframe tbody tr th:only-of-type {\n",
       "        vertical-align: middle;\n",
       "    }\n",
       "\n",
       "    .dataframe tbody tr th {\n",
       "        vertical-align: top;\n",
       "    }\n",
       "\n",
       "    .dataframe thead th {\n",
       "        text-align: right;\n",
       "    }\n",
       "</style>\n",
       "<table border=\"1\" class=\"dataframe\">\n",
       "  <thead>\n",
       "    <tr style=\"text-align: right;\">\n",
       "      <th></th>\n",
       "      <th>first_name</th>\n",
       "      <th>age</th>\n",
       "      <th>score</th>\n",
       "    </tr>\n",
       "  </thead>\n",
       "  <tbody>\n",
       "    <tr>\n",
       "      <th>399</th>\n",
       "      <td>Angela</td>\n",
       "      <td>24</td>\n",
       "      <td>32532</td>\n",
       "    </tr>\n",
       "    <tr>\n",
       "      <th>168</th>\n",
       "      <td>Angela</td>\n",
       "      <td>35</td>\n",
       "      <td>93031</td>\n",
       "    </tr>\n",
       "    <tr>\n",
       "      <th>489</th>\n",
       "      <td>Angelika</td>\n",
       "      <td>30</td>\n",
       "      <td>67425</td>\n",
       "    </tr>\n",
       "    <tr>\n",
       "      <th>150</th>\n",
       "      <td>Angelika</td>\n",
       "      <td>31</td>\n",
       "      <td>63008</td>\n",
       "    </tr>\n",
       "    <tr>\n",
       "      <th>391</th>\n",
       "      <td>Angelika</td>\n",
       "      <td>38</td>\n",
       "      <td>17280</td>\n",
       "    </tr>\n",
       "    <tr>\n",
       "      <th>...</th>\n",
       "      <td>...</td>\n",
       "      <td>...</td>\n",
       "      <td>...</td>\n",
       "    </tr>\n",
       "    <tr>\n",
       "      <th>350</th>\n",
       "      <td>Heinrich</td>\n",
       "      <td>34</td>\n",
       "      <td>72355</td>\n",
       "    </tr>\n",
       "    <tr>\n",
       "      <th>362</th>\n",
       "      <td>Heinrich</td>\n",
       "      <td>34</td>\n",
       "      <td>15929</td>\n",
       "    </tr>\n",
       "    <tr>\n",
       "      <th>461</th>\n",
       "      <td>Helene</td>\n",
       "      <td>27</td>\n",
       "      <td>65294</td>\n",
       "    </tr>\n",
       "    <tr>\n",
       "      <th>101</th>\n",
       "      <td>Helene</td>\n",
       "      <td>34</td>\n",
       "      <td>66763</td>\n",
       "    </tr>\n",
       "    <tr>\n",
       "      <th>173</th>\n",
       "      <td>Hendrik</td>\n",
       "      <td>23</td>\n",
       "      <td>33534</td>\n",
       "    </tr>\n",
       "  </tbody>\n",
       "</table>\n",
       "<p>100 rows × 3 columns</p>\n",
       "</div>"
      ],
      "text/plain": [
       "    first_name  age  score\n",
       "399     Angela   24  32532\n",
       "168     Angela   35  93031\n",
       "489   Angelika   30  67425\n",
       "150   Angelika   31  63008\n",
       "391   Angelika   38  17280\n",
       "..         ...  ...    ...\n",
       "350   Heinrich   34  72355\n",
       "362   Heinrich   34  15929\n",
       "461     Helene   27  65294\n",
       "101     Helene   34  66763\n",
       "173    Hendrik   23  33534\n",
       "\n",
       "[100 rows x 3 columns]"
      ]
     },
     "execution_count": 139,
     "metadata": {},
     "output_type": "execute_result"
    }
   ],
   "source": [
    "# create test data\n",
    "df = pak.people(500)\n",
    "df = pak.drop_cols(df,['features','history','secret','birthplace','age_class'])\n",
    "df = pak.rename_col(df, 'postal_code', 'score')\n",
    "df = df.sort_values(['first_name','age'])\n",
    "\n",
    "# Keep only the dups\n",
    "mask = df.duplicated(subset='first_name', keep=False)\n",
    "df = df[mask].head(100)\n",
    "df['score'] = df.score.fillna(0)\n",
    "df"
   ]
  },
  {
   "cell_type": "code",
   "execution_count": 142,
   "metadata": {
    "execution": {
     "iopub.execute_input": "2023-05-10T14:01:27.176862Z",
     "iopub.status.busy": "2023-05-10T14:01:27.176585Z",
     "iopub.status.idle": "2023-05-10T14:01:27.317143Z",
     "shell.execute_reply": "2023-05-10T14:01:27.316219Z",
     "shell.execute_reply.started": "2023-05-10T14:01:27.176840Z"
    },
    "tags": []
   },
   "outputs": [
    {
     "data": {
      "text/html": [
       "<div>\n",
       "<style scoped>\n",
       "    .dataframe tbody tr th:only-of-type {\n",
       "        vertical-align: middle;\n",
       "    }\n",
       "\n",
       "    .dataframe tbody tr th {\n",
       "        vertical-align: top;\n",
       "    }\n",
       "\n",
       "    .dataframe thead th {\n",
       "        text-align: right;\n",
       "    }\n",
       "</style>\n",
       "<table border=\"1\" class=\"dataframe\">\n",
       "  <thead>\n",
       "    <tr style=\"text-align: right;\">\n",
       "      <th></th>\n",
       "      <th>first_name</th>\n",
       "      <th>score</th>\n",
       "      <th>age_0</th>\n",
       "      <th>age_1</th>\n",
       "    </tr>\n",
       "  </thead>\n",
       "  <tbody>\n",
       "    <tr>\n",
       "      <th>0</th>\n",
       "      <td>Angela</td>\n",
       "      <td>32532</td>\n",
       "      <td>24</td>\n",
       "      <td>&lt;NA&gt;</td>\n",
       "    </tr>\n",
       "    <tr>\n",
       "      <th>1</th>\n",
       "      <td>Angela</td>\n",
       "      <td>93031</td>\n",
       "      <td>35</td>\n",
       "      <td>&lt;NA&gt;</td>\n",
       "    </tr>\n",
       "    <tr>\n",
       "      <th>2</th>\n",
       "      <td>Angelika</td>\n",
       "      <td>17280</td>\n",
       "      <td>38</td>\n",
       "      <td>&lt;NA&gt;</td>\n",
       "    </tr>\n",
       "    <tr>\n",
       "      <th>3</th>\n",
       "      <td>Angelika</td>\n",
       "      <td>63008</td>\n",
       "      <td>31</td>\n",
       "      <td>&lt;NA&gt;</td>\n",
       "    </tr>\n",
       "    <tr>\n",
       "      <th>4</th>\n",
       "      <td>Angelika</td>\n",
       "      <td>67425</td>\n",
       "      <td>30</td>\n",
       "      <td>&lt;NA&gt;</td>\n",
       "    </tr>\n",
       "    <tr>\n",
       "      <th>...</th>\n",
       "      <td>...</td>\n",
       "      <td>...</td>\n",
       "      <td>...</td>\n",
       "      <td>...</td>\n",
       "    </tr>\n",
       "    <tr>\n",
       "      <th>94</th>\n",
       "      <td>Heinrich</td>\n",
       "      <td>60454</td>\n",
       "      <td>32</td>\n",
       "      <td>&lt;NA&gt;</td>\n",
       "    </tr>\n",
       "    <tr>\n",
       "      <th>95</th>\n",
       "      <td>Heinrich</td>\n",
       "      <td>72355</td>\n",
       "      <td>34</td>\n",
       "      <td>&lt;NA&gt;</td>\n",
       "    </tr>\n",
       "    <tr>\n",
       "      <th>96</th>\n",
       "      <td>Helene</td>\n",
       "      <td>65294</td>\n",
       "      <td>27</td>\n",
       "      <td>&lt;NA&gt;</td>\n",
       "    </tr>\n",
       "    <tr>\n",
       "      <th>97</th>\n",
       "      <td>Helene</td>\n",
       "      <td>66763</td>\n",
       "      <td>34</td>\n",
       "      <td>&lt;NA&gt;</td>\n",
       "    </tr>\n",
       "    <tr>\n",
       "      <th>98</th>\n",
       "      <td>Hendrik</td>\n",
       "      <td>33534</td>\n",
       "      <td>23</td>\n",
       "      <td>&lt;NA&gt;</td>\n",
       "    </tr>\n",
       "  </tbody>\n",
       "</table>\n",
       "<p>99 rows × 4 columns</p>\n",
       "</div>"
      ],
      "text/plain": [
       "   first_name  score  age_0  age_1\n",
       "0      Angela  32532     24   <NA>\n",
       "1      Angela  93031     35   <NA>\n",
       "2    Angelika  17280     38   <NA>\n",
       "3    Angelika  63008     31   <NA>\n",
       "4    Angelika  67425     30   <NA>\n",
       "..        ...    ...    ...    ...\n",
       "94   Heinrich  60454     32   <NA>\n",
       "95   Heinrich  72355     34   <NA>\n",
       "96     Helene  65294     27   <NA>\n",
       "97     Helene  66763     34   <NA>\n",
       "98    Hendrik  33534     23   <NA>\n",
       "\n",
       "[99 rows x 4 columns]"
      ]
     },
     "execution_count": 142,
     "metadata": {},
     "output_type": "execute_result"
    }
   ],
   "source": [
    "result = pak.partial_pivot(df, col_pivot='age')\n",
    "result"
   ]
  },
  {
   "cell_type": "code",
   "execution_count": 143,
   "metadata": {
    "execution": {
     "iopub.execute_input": "2023-05-10T14:01:36.910466Z",
     "iopub.status.busy": "2023-05-10T14:01:36.909770Z",
     "iopub.status.idle": "2023-05-10T14:01:37.017107Z",
     "shell.execute_reply": "2023-05-10T14:01:37.016218Z",
     "shell.execute_reply.started": "2023-05-10T14:01:36.910434Z"
    },
    "tags": []
   },
   "outputs": [
    {
     "data": {
      "text/html": [
       "<div>\n",
       "<style scoped>\n",
       "    .dataframe tbody tr th:only-of-type {\n",
       "        vertical-align: middle;\n",
       "    }\n",
       "\n",
       "    .dataframe tbody tr th {\n",
       "        vertical-align: top;\n",
       "    }\n",
       "\n",
       "    .dataframe thead th {\n",
       "        text-align: right;\n",
       "    }\n",
       "</style>\n",
       "<table border=\"1\" class=\"dataframe\">\n",
       "  <thead>\n",
       "    <tr style=\"text-align: right;\">\n",
       "      <th></th>\n",
       "      <th>first_name</th>\n",
       "      <th>age_0</th>\n",
       "      <th>age_1</th>\n",
       "      <th>age_2</th>\n",
       "      <th>age_3</th>\n",
       "      <th>age_4</th>\n",
       "    </tr>\n",
       "  </thead>\n",
       "  <tbody>\n",
       "    <tr>\n",
       "      <th>0</th>\n",
       "      <td>Angela</td>\n",
       "      <td>24</td>\n",
       "      <td>35</td>\n",
       "      <td>&lt;NA&gt;</td>\n",
       "      <td>&lt;NA&gt;</td>\n",
       "      <td>&lt;NA&gt;</td>\n",
       "    </tr>\n",
       "    <tr>\n",
       "      <th>1</th>\n",
       "      <td>Angelika</td>\n",
       "      <td>30</td>\n",
       "      <td>31</td>\n",
       "      <td>38</td>\n",
       "      <td>&lt;NA&gt;</td>\n",
       "      <td>&lt;NA&gt;</td>\n",
       "    </tr>\n",
       "    <tr>\n",
       "      <th>2</th>\n",
       "      <td>Anja</td>\n",
       "      <td>28</td>\n",
       "      <td>36</td>\n",
       "      <td>&lt;NA&gt;</td>\n",
       "      <td>&lt;NA&gt;</td>\n",
       "      <td>&lt;NA&gt;</td>\n",
       "    </tr>\n",
       "    <tr>\n",
       "      <th>3</th>\n",
       "      <td>Anne</td>\n",
       "      <td>26</td>\n",
       "      <td>30</td>\n",
       "      <td>&lt;NA&gt;</td>\n",
       "      <td>&lt;NA&gt;</td>\n",
       "      <td>&lt;NA&gt;</td>\n",
       "    </tr>\n",
       "    <tr>\n",
       "      <th>4</th>\n",
       "      <td>Anneliese</td>\n",
       "      <td>33</td>\n",
       "      <td>38</td>\n",
       "      <td>&lt;NA&gt;</td>\n",
       "      <td>&lt;NA&gt;</td>\n",
       "      <td>&lt;NA&gt;</td>\n",
       "    </tr>\n",
       "    <tr>\n",
       "      <th>5</th>\n",
       "      <td>Annette</td>\n",
       "      <td>25</td>\n",
       "      <td>28</td>\n",
       "      <td>30</td>\n",
       "      <td>&lt;NA&gt;</td>\n",
       "      <td>&lt;NA&gt;</td>\n",
       "    </tr>\n",
       "    <tr>\n",
       "      <th>6</th>\n",
       "      <td>Antje</td>\n",
       "      <td>27</td>\n",
       "      <td>34</td>\n",
       "      <td>34</td>\n",
       "      <td>&lt;NA&gt;</td>\n",
       "      <td>&lt;NA&gt;</td>\n",
       "    </tr>\n",
       "    <tr>\n",
       "      <th>7</th>\n",
       "      <td>Astrid</td>\n",
       "      <td>32</td>\n",
       "      <td>36</td>\n",
       "      <td>&lt;NA&gt;</td>\n",
       "      <td>&lt;NA&gt;</td>\n",
       "      <td>&lt;NA&gt;</td>\n",
       "    </tr>\n",
       "    <tr>\n",
       "      <th>8</th>\n",
       "      <td>Ayleen</td>\n",
       "      <td>29</td>\n",
       "      <td>33</td>\n",
       "      <td>37</td>\n",
       "      <td>&lt;NA&gt;</td>\n",
       "      <td>&lt;NA&gt;</td>\n",
       "    </tr>\n",
       "    <tr>\n",
       "      <th>9</th>\n",
       "      <td>Ben</td>\n",
       "      <td>32</td>\n",
       "      <td>35</td>\n",
       "      <td>&lt;NA&gt;</td>\n",
       "      <td>&lt;NA&gt;</td>\n",
       "      <td>&lt;NA&gt;</td>\n",
       "    </tr>\n",
       "    <tr>\n",
       "      <th>10</th>\n",
       "      <td>Benjamin</td>\n",
       "      <td>25</td>\n",
       "      <td>30</td>\n",
       "      <td>&lt;NA&gt;</td>\n",
       "      <td>&lt;NA&gt;</td>\n",
       "      <td>&lt;NA&gt;</td>\n",
       "    </tr>\n",
       "    <tr>\n",
       "      <th>11</th>\n",
       "      <td>Bettina</td>\n",
       "      <td>30</td>\n",
       "      <td>32</td>\n",
       "      <td>39</td>\n",
       "      <td>&lt;NA&gt;</td>\n",
       "      <td>&lt;NA&gt;</td>\n",
       "    </tr>\n",
       "    <tr>\n",
       "      <th>12</th>\n",
       "      <td>Bianca</td>\n",
       "      <td>31</td>\n",
       "      <td>37</td>\n",
       "      <td>&lt;NA&gt;</td>\n",
       "      <td>&lt;NA&gt;</td>\n",
       "      <td>&lt;NA&gt;</td>\n",
       "    </tr>\n",
       "    <tr>\n",
       "      <th>13</th>\n",
       "      <td>Björn</td>\n",
       "      <td>26</td>\n",
       "      <td>34</td>\n",
       "      <td>&lt;NA&gt;</td>\n",
       "      <td>&lt;NA&gt;</td>\n",
       "      <td>&lt;NA&gt;</td>\n",
       "    </tr>\n",
       "    <tr>\n",
       "      <th>14</th>\n",
       "      <td>Bärbel</td>\n",
       "      <td>22</td>\n",
       "      <td>29</td>\n",
       "      <td>&lt;NA&gt;</td>\n",
       "      <td>&lt;NA&gt;</td>\n",
       "      <td>&lt;NA&gt;</td>\n",
       "    </tr>\n",
       "    <tr>\n",
       "      <th>15</th>\n",
       "      <td>Carina</td>\n",
       "      <td>25</td>\n",
       "      <td>29</td>\n",
       "      <td>31</td>\n",
       "      <td>36</td>\n",
       "      <td>37</td>\n",
       "    </tr>\n",
       "    <tr>\n",
       "      <th>16</th>\n",
       "      <td>Carl</td>\n",
       "      <td>38</td>\n",
       "      <td>38</td>\n",
       "      <td>&lt;NA&gt;</td>\n",
       "      <td>&lt;NA&gt;</td>\n",
       "      <td>&lt;NA&gt;</td>\n",
       "    </tr>\n",
       "    <tr>\n",
       "      <th>17</th>\n",
       "      <td>Caroline</td>\n",
       "      <td>34</td>\n",
       "      <td>41</td>\n",
       "      <td>&lt;NA&gt;</td>\n",
       "      <td>&lt;NA&gt;</td>\n",
       "      <td>&lt;NA&gt;</td>\n",
       "    </tr>\n",
       "    <tr>\n",
       "      <th>18</th>\n",
       "      <td>Charlotte</td>\n",
       "      <td>32</td>\n",
       "      <td>38</td>\n",
       "      <td>&lt;NA&gt;</td>\n",
       "      <td>&lt;NA&gt;</td>\n",
       "      <td>&lt;NA&gt;</td>\n",
       "    </tr>\n",
       "    <tr>\n",
       "      <th>19</th>\n",
       "      <td>Chiara</td>\n",
       "      <td>22</td>\n",
       "      <td>25</td>\n",
       "      <td>&lt;NA&gt;</td>\n",
       "      <td>&lt;NA&gt;</td>\n",
       "      <td>&lt;NA&gt;</td>\n",
       "    </tr>\n",
       "    <tr>\n",
       "      <th>20</th>\n",
       "      <td>Christopher</td>\n",
       "      <td>26</td>\n",
       "      <td>38</td>\n",
       "      <td>&lt;NA&gt;</td>\n",
       "      <td>&lt;NA&gt;</td>\n",
       "      <td>&lt;NA&gt;</td>\n",
       "    </tr>\n",
       "    <tr>\n",
       "      <th>21</th>\n",
       "      <td>Cornelia</td>\n",
       "      <td>36</td>\n",
       "      <td>40</td>\n",
       "      <td>&lt;NA&gt;</td>\n",
       "      <td>&lt;NA&gt;</td>\n",
       "      <td>&lt;NA&gt;</td>\n",
       "    </tr>\n",
       "    <tr>\n",
       "      <th>22</th>\n",
       "      <td>Curt</td>\n",
       "      <td>21</td>\n",
       "      <td>31</td>\n",
       "      <td>&lt;NA&gt;</td>\n",
       "      <td>&lt;NA&gt;</td>\n",
       "      <td>&lt;NA&gt;</td>\n",
       "    </tr>\n",
       "    <tr>\n",
       "      <th>23</th>\n",
       "      <td>Daniela</td>\n",
       "      <td>25</td>\n",
       "      <td>32</td>\n",
       "      <td>&lt;NA&gt;</td>\n",
       "      <td>&lt;NA&gt;</td>\n",
       "      <td>&lt;NA&gt;</td>\n",
       "    </tr>\n",
       "    <tr>\n",
       "      <th>24</th>\n",
       "      <td>Detlef</td>\n",
       "      <td>36</td>\n",
       "      <td>39</td>\n",
       "      <td>&lt;NA&gt;</td>\n",
       "      <td>&lt;NA&gt;</td>\n",
       "      <td>&lt;NA&gt;</td>\n",
       "    </tr>\n",
       "    <tr>\n",
       "      <th>25</th>\n",
       "      <td>Dominic</td>\n",
       "      <td>30</td>\n",
       "      <td>38</td>\n",
       "      <td>&lt;NA&gt;</td>\n",
       "      <td>&lt;NA&gt;</td>\n",
       "      <td>&lt;NA&gt;</td>\n",
       "    </tr>\n",
       "    <tr>\n",
       "      <th>26</th>\n",
       "      <td>Eileen</td>\n",
       "      <td>22</td>\n",
       "      <td>35</td>\n",
       "      <td>&lt;NA&gt;</td>\n",
       "      <td>&lt;NA&gt;</td>\n",
       "      <td>&lt;NA&gt;</td>\n",
       "    </tr>\n",
       "    <tr>\n",
       "      <th>27</th>\n",
       "      <td>Elke</td>\n",
       "      <td>29</td>\n",
       "      <td>31</td>\n",
       "      <td>32</td>\n",
       "      <td>&lt;NA&gt;</td>\n",
       "      <td>&lt;NA&gt;</td>\n",
       "    </tr>\n",
       "    <tr>\n",
       "      <th>28</th>\n",
       "      <td>Ella</td>\n",
       "      <td>26</td>\n",
       "      <td>33</td>\n",
       "      <td>37</td>\n",
       "      <td>&lt;NA&gt;</td>\n",
       "      <td>&lt;NA&gt;</td>\n",
       "    </tr>\n",
       "    <tr>\n",
       "      <th>29</th>\n",
       "      <td>Elly</td>\n",
       "      <td>33</td>\n",
       "      <td>36</td>\n",
       "      <td>&lt;NA&gt;</td>\n",
       "      <td>&lt;NA&gt;</td>\n",
       "      <td>&lt;NA&gt;</td>\n",
       "    </tr>\n",
       "    <tr>\n",
       "      <th>30</th>\n",
       "      <td>Eric</td>\n",
       "      <td>23</td>\n",
       "      <td>25</td>\n",
       "      <td>41</td>\n",
       "      <td>&lt;NA&gt;</td>\n",
       "      <td>&lt;NA&gt;</td>\n",
       "    </tr>\n",
       "    <tr>\n",
       "      <th>31</th>\n",
       "      <td>Erich</td>\n",
       "      <td>27</td>\n",
       "      <td>35</td>\n",
       "      <td>&lt;NA&gt;</td>\n",
       "      <td>&lt;NA&gt;</td>\n",
       "      <td>&lt;NA&gt;</td>\n",
       "    </tr>\n",
       "    <tr>\n",
       "      <th>32</th>\n",
       "      <td>Fiona</td>\n",
       "      <td>29</td>\n",
       "      <td>35</td>\n",
       "      <td>36</td>\n",
       "      <td>&lt;NA&gt;</td>\n",
       "      <td>&lt;NA&gt;</td>\n",
       "    </tr>\n",
       "    <tr>\n",
       "      <th>33</th>\n",
       "      <td>Florian</td>\n",
       "      <td>30</td>\n",
       "      <td>30</td>\n",
       "      <td>&lt;NA&gt;</td>\n",
       "      <td>&lt;NA&gt;</td>\n",
       "      <td>&lt;NA&gt;</td>\n",
       "    </tr>\n",
       "    <tr>\n",
       "      <th>34</th>\n",
       "      <td>Franziska</td>\n",
       "      <td>26</td>\n",
       "      <td>31</td>\n",
       "      <td>&lt;NA&gt;</td>\n",
       "      <td>&lt;NA&gt;</td>\n",
       "      <td>&lt;NA&gt;</td>\n",
       "    </tr>\n",
       "    <tr>\n",
       "      <th>35</th>\n",
       "      <td>Fritz</td>\n",
       "      <td>31</td>\n",
       "      <td>33</td>\n",
       "      <td>&lt;NA&gt;</td>\n",
       "      <td>&lt;NA&gt;</td>\n",
       "      <td>&lt;NA&gt;</td>\n",
       "    </tr>\n",
       "    <tr>\n",
       "      <th>36</th>\n",
       "      <td>Gabriele</td>\n",
       "      <td>25</td>\n",
       "      <td>38</td>\n",
       "      <td>&lt;NA&gt;</td>\n",
       "      <td>&lt;NA&gt;</td>\n",
       "      <td>&lt;NA&gt;</td>\n",
       "    </tr>\n",
       "    <tr>\n",
       "      <th>37</th>\n",
       "      <td>Gerd</td>\n",
       "      <td>30</td>\n",
       "      <td>32</td>\n",
       "      <td>&lt;NA&gt;</td>\n",
       "      <td>&lt;NA&gt;</td>\n",
       "      <td>&lt;NA&gt;</td>\n",
       "    </tr>\n",
       "    <tr>\n",
       "      <th>38</th>\n",
       "      <td>Hanna</td>\n",
       "      <td>24</td>\n",
       "      <td>29</td>\n",
       "      <td>&lt;NA&gt;</td>\n",
       "      <td>&lt;NA&gt;</td>\n",
       "      <td>&lt;NA&gt;</td>\n",
       "    </tr>\n",
       "    <tr>\n",
       "      <th>39</th>\n",
       "      <td>Hannes</td>\n",
       "      <td>30</td>\n",
       "      <td>31</td>\n",
       "      <td>&lt;NA&gt;</td>\n",
       "      <td>&lt;NA&gt;</td>\n",
       "      <td>&lt;NA&gt;</td>\n",
       "    </tr>\n",
       "    <tr>\n",
       "      <th>40</th>\n",
       "      <td>Hans</td>\n",
       "      <td>32</td>\n",
       "      <td>33</td>\n",
       "      <td>&lt;NA&gt;</td>\n",
       "      <td>&lt;NA&gt;</td>\n",
       "      <td>&lt;NA&gt;</td>\n",
       "    </tr>\n",
       "    <tr>\n",
       "      <th>41</th>\n",
       "      <td>Heinrich</td>\n",
       "      <td>32</td>\n",
       "      <td>34</td>\n",
       "      <td>34</td>\n",
       "      <td>&lt;NA&gt;</td>\n",
       "      <td>&lt;NA&gt;</td>\n",
       "    </tr>\n",
       "    <tr>\n",
       "      <th>42</th>\n",
       "      <td>Helene</td>\n",
       "      <td>27</td>\n",
       "      <td>34</td>\n",
       "      <td>&lt;NA&gt;</td>\n",
       "      <td>&lt;NA&gt;</td>\n",
       "      <td>&lt;NA&gt;</td>\n",
       "    </tr>\n",
       "    <tr>\n",
       "      <th>43</th>\n",
       "      <td>Hendrik</td>\n",
       "      <td>23</td>\n",
       "      <td>&lt;NA&gt;</td>\n",
       "      <td>&lt;NA&gt;</td>\n",
       "      <td>&lt;NA&gt;</td>\n",
       "      <td>&lt;NA&gt;</td>\n",
       "    </tr>\n",
       "  </tbody>\n",
       "</table>\n",
       "</div>"
      ],
      "text/plain": [
       "     first_name  age_0  age_1  age_2  age_3  age_4\n",
       "0        Angela     24     35   <NA>   <NA>   <NA>\n",
       "1      Angelika     30     31     38   <NA>   <NA>\n",
       "2          Anja     28     36   <NA>   <NA>   <NA>\n",
       "3          Anne     26     30   <NA>   <NA>   <NA>\n",
       "4     Anneliese     33     38   <NA>   <NA>   <NA>\n",
       "5       Annette     25     28     30   <NA>   <NA>\n",
       "6         Antje     27     34     34   <NA>   <NA>\n",
       "7        Astrid     32     36   <NA>   <NA>   <NA>\n",
       "8        Ayleen     29     33     37   <NA>   <NA>\n",
       "9           Ben     32     35   <NA>   <NA>   <NA>\n",
       "10     Benjamin     25     30   <NA>   <NA>   <NA>\n",
       "11      Bettina     30     32     39   <NA>   <NA>\n",
       "12       Bianca     31     37   <NA>   <NA>   <NA>\n",
       "13        Björn     26     34   <NA>   <NA>   <NA>\n",
       "14       Bärbel     22     29   <NA>   <NA>   <NA>\n",
       "15       Carina     25     29     31     36     37\n",
       "16         Carl     38     38   <NA>   <NA>   <NA>\n",
       "17     Caroline     34     41   <NA>   <NA>   <NA>\n",
       "18    Charlotte     32     38   <NA>   <NA>   <NA>\n",
       "19       Chiara     22     25   <NA>   <NA>   <NA>\n",
       "20  Christopher     26     38   <NA>   <NA>   <NA>\n",
       "21     Cornelia     36     40   <NA>   <NA>   <NA>\n",
       "22         Curt     21     31   <NA>   <NA>   <NA>\n",
       "23      Daniela     25     32   <NA>   <NA>   <NA>\n",
       "24       Detlef     36     39   <NA>   <NA>   <NA>\n",
       "25      Dominic     30     38   <NA>   <NA>   <NA>\n",
       "26       Eileen     22     35   <NA>   <NA>   <NA>\n",
       "27         Elke     29     31     32   <NA>   <NA>\n",
       "28         Ella     26     33     37   <NA>   <NA>\n",
       "29         Elly     33     36   <NA>   <NA>   <NA>\n",
       "30         Eric     23     25     41   <NA>   <NA>\n",
       "31        Erich     27     35   <NA>   <NA>   <NA>\n",
       "32        Fiona     29     35     36   <NA>   <NA>\n",
       "33      Florian     30     30   <NA>   <NA>   <NA>\n",
       "34    Franziska     26     31   <NA>   <NA>   <NA>\n",
       "35        Fritz     31     33   <NA>   <NA>   <NA>\n",
       "36     Gabriele     25     38   <NA>   <NA>   <NA>\n",
       "37         Gerd     30     32   <NA>   <NA>   <NA>\n",
       "38        Hanna     24     29   <NA>   <NA>   <NA>\n",
       "39       Hannes     30     31   <NA>   <NA>   <NA>\n",
       "40         Hans     32     33   <NA>   <NA>   <NA>\n",
       "41     Heinrich     32     34     34   <NA>   <NA>\n",
       "42       Helene     27     34   <NA>   <NA>   <NA>\n",
       "43      Hendrik     23   <NA>   <NA>   <NA>   <NA>"
      ]
     },
     "execution_count": 143,
     "metadata": {},
     "output_type": "execute_result"
    }
   ],
   "source": [
    "result = pak.partial_pivot(df, cols_group=['first_name'], col_pivot='age', width_max=None)\n",
    "result"
   ]
  },
  {
   "cell_type": "markdown",
   "metadata": {},
   "source": [
    "## group_and_agg()"
   ]
  },
  {
   "cell_type": "code",
   "execution_count": null,
   "metadata": {
    "execution": {
     "iopub.status.busy": "2023-05-10T10:30:42.015462Z",
     "iopub.status.idle": "2023-05-10T10:30:42.016061Z",
     "shell.execute_reply": "2023-05-10T10:30:42.015923Z",
     "shell.execute_reply.started": "2023-05-10T10:30:42.015907Z"
    }
   },
   "outputs": [],
   "source": [
    "?pak.group_and_agg"
   ]
  },
  {
   "cell_type": "markdown",
   "metadata": {},
   "source": [
    "### Basic example"
   ]
  },
  {
   "cell_type": "code",
   "execution_count": null,
   "metadata": {
    "execution": {
     "iopub.status.busy": "2023-05-10T10:30:42.016992Z",
     "iopub.status.idle": "2023-05-10T10:30:42.017295Z",
     "shell.execute_reply": "2023-05-10T10:30:42.017162Z",
     "shell.execute_reply.started": "2023-05-10T10:30:42.017147Z"
    }
   },
   "outputs": [],
   "source": [
    "# Try the example\n",
    "df = pak.people()\n",
    "pak.group_and_agg( df, \n",
    "                   col_origins=['age_class', 'birthplace', 'first_name',  'age', 'age', 'first_name'],\n",
    "                   col_funcs  =['group',     'group',      pak.agg_words, 'min', 'max', 'min'],\n",
    "             ) "
   ]
  },
  {
   "cell_type": "markdown",
   "metadata": {},
   "source": [
    "### col_names parameter"
   ]
  },
  {
   "cell_type": "code",
   "execution_count": null,
   "metadata": {
    "execution": {
     "iopub.status.busy": "2023-05-10T10:30:42.022066Z",
     "iopub.status.idle": "2023-05-10T10:30:42.022566Z",
     "shell.execute_reply": "2023-05-10T10:30:42.022355Z",
     "shell.execute_reply.started": "2023-05-10T10:30:42.022330Z"
    }
   },
   "outputs": [],
   "source": [
    "# just to rename the result columns\n",
    "df = pak.people()\n",
    "pak.group_and_agg( df, \n",
    "                   col_origins=['age_class', 'birthplace', 'first_name',     'age', 'age', 'first_name'],\n",
    "                   col_funcs  =['group',     'group',      pak.agg_words,    'min', 'max', 'min'       ],\n",
    "                   col_names  =['AGE_CLASS', 'BIRTHPLACE', 'first_name_agg', '',    '',    ''          ],                  \n",
    "             ) "
   ]
  },
  {
   "cell_type": "markdown",
   "metadata": {},
   "source": [
    "### dropna parameter\n",
    "Is NaN a regular groupable value? Default: No, NanNs are dropped."
   ]
  },
  {
   "cell_type": "code",
   "execution_count": null,
   "metadata": {
    "execution": {
     "iopub.status.busy": "2023-05-10T10:30:42.024736Z",
     "iopub.status.idle": "2023-05-10T10:30:42.025161Z",
     "shell.execute_reply": "2023-05-10T10:30:42.024980Z",
     "shell.execute_reply.started": "2023-05-10T10:30:42.024959Z"
    }
   },
   "outputs": [],
   "source": [
    "# Create test data \n",
    "# and save it for later comparisons\n",
    "\n",
    "data = []\n",
    "data.append( ['A',  None,  1,      ] )\n",
    "data.append( ['A',  'B',   None,   ] )\n",
    "data.append( ['A',  'B',   np.NaN, ] )\n",
    "data.append( [None, 'B',   9,      ] )\n",
    "  \n",
    "data.append( ['A',  'B',   2,      ] )\n",
    "data.append( ['A',  'B',   8,      ] )\n",
    "\n",
    "data.append( ['Q',  'B',   3,      ] )\n",
    "data.append( ['A',  'Q',   7,      ] )\n",
    "\n",
    "data = pak.dataframe(data)\n",
    "data"
   ]
  },
  {
   "cell_type": "code",
   "execution_count": null,
   "metadata": {
    "execution": {
     "iopub.status.busy": "2023-05-10T10:30:42.026345Z",
     "iopub.status.idle": "2023-05-10T10:30:42.027059Z",
     "shell.execute_reply": "2023-05-10T10:30:42.026907Z",
     "shell.execute_reply.started": "2023-05-10T10:30:42.026888Z"
    }
   },
   "outputs": [],
   "source": [
    "# Default is dropna=True.\n",
    "# If grouped by A and B in this way, the maximum values 1 and 9 do not come into play at all.\n",
    "\n",
    "r = pak.group_and_agg(data, \n",
    "              [ 'A',     'B',     'C',   'C',   ],  # col_origins: Liste aller columns, die verarbeitet werden sollen\n",
    "              [ 'group', 'group', 'min', 'max', ],  # col_funcs:   Liste aller Funktionen, die darauf angewendet werden sollen\n",
    "             )\n",
    "\n",
    "r"
   ]
  },
  {
   "cell_type": "code",
   "execution_count": null,
   "metadata": {
    "execution": {
     "iopub.status.busy": "2023-05-10T10:30:42.027839Z",
     "iopub.status.idle": "2023-05-10T10:30:42.028770Z",
     "shell.execute_reply": "2023-05-10T10:30:42.028573Z",
     "shell.execute_reply.started": "2023-05-10T10:30:42.028551Z"
    }
   },
   "outputs": [],
   "source": [
    "# With dropna=False NaN gets its own groups\n",
    "# If grouped by A and B in this way, the maximum values 1 and 9 are included in the result.\n",
    "\n",
    "r = pak.group_and_agg(data, \n",
    "              [ 'A',     'B',     'C',    'C',     ],\n",
    "              [ 'group', 'group', 'min',  'max',   ],\n",
    "              [ 'A',     'B',     'Cmin', 'Cmax',  ],  # col_names:   Liste neuer Namen für die Ergebnisspalten           \n",
    "              dropna=False\n",
    "             )\n",
    "\n",
    "r"
   ]
  },
  {
   "cell_type": "markdown",
   "metadata": {},
   "source": [
    "## Aggregate functions min(), max(), first(), last()\n",
    "More aggregate functions: https://www.shanelynn.ie/summarising-aggregation-and-grouping-data-in-python-pandas/"
   ]
  },
  {
   "cell_type": "code",
   "execution_count": null,
   "metadata": {
    "execution": {
     "iopub.status.busy": "2023-05-10T10:30:42.029782Z",
     "iopub.status.idle": "2023-05-10T10:30:42.030640Z",
     "shell.execute_reply": "2023-05-10T10:30:42.030456Z",
     "shell.execute_reply.started": "2023-05-10T10:30:42.030436Z"
    }
   },
   "outputs": [],
   "source": [
    "# Create test data\n",
    "data = []\n",
    "data.append( ['A',  'B',   None,   ] )\n",
    "data.append( ['A',  'B',   np.NaN, ] )\n",
    "  \n",
    "data.append( ['A',  'B',   2,      ] )\n",
    "data.append( ['A',  'B',   3,      ] )\n",
    "data.append( ['A',  'Q',   8,      ] )\n",
    "data.append( ['A',  'Q',   7,      ] )\n",
    "\n",
    "data.append( ['Q',  'B',   3,      ] )\n",
    "data = pak.dataframe(data)\n",
    "data"
   ]
  },
  {
   "cell_type": "code",
   "execution_count": null,
   "metadata": {
    "execution": {
     "iopub.status.busy": "2023-05-10T10:30:42.031585Z",
     "iopub.status.idle": "2023-05-10T10:30:42.032523Z",
     "shell.execute_reply": "2023-05-10T10:30:42.032246Z",
     "shell.execute_reply.started": "2023-05-10T10:30:42.032223Z"
    }
   },
   "outputs": [],
   "source": [
    "r = pak.group_and_agg(data, \n",
    "              [ 'A',     'B',     'C',   'C',   'C',     'C',   ], \n",
    "              [ 'group', 'group', 'min', 'max', 'first', 'last', ], \n",
    "             )\n",
    "r"
   ]
  },
  {
   "cell_type": "markdown",
   "metadata": {},
   "source": [
    "## Aggregate functions count(), size(), unique()"
   ]
  },
  {
   "cell_type": "code",
   "execution_count": null,
   "metadata": {
    "execution": {
     "iopub.status.busy": "2023-05-10T10:30:42.033395Z",
     "iopub.status.idle": "2023-05-10T10:30:42.034087Z",
     "shell.execute_reply": "2023-05-10T10:30:42.033933Z",
     "shell.execute_reply.started": "2023-05-10T10:30:42.033914Z"
    }
   },
   "outputs": [],
   "source": [
    "# Create test data\n",
    "data = []\n",
    "data.append( ['A',  'B',   None,   ] )\n",
    "data.append( ['A',  'B',   np.NaN, ] )\n",
    "  \n",
    "data.append( ['A',  'B',   2,      ] )\n",
    "data.append( ['A',  'B',   3,      ] )\n",
    "data.append( ['A',  'Q',   8,      ] )\n",
    "data.append( ['A',  'Q',   8,      ] )\n",
    "\n",
    "data.append( ['Q',  'B',   3,      ] )\n",
    "data = pak.dataframe(data)\n",
    "data"
   ]
  },
  {
   "cell_type": "code",
   "execution_count": null,
   "metadata": {
    "execution": {
     "iopub.status.busy": "2023-05-10T10:30:42.038753Z",
     "iopub.status.idle": "2023-05-10T10:30:42.039842Z",
     "shell.execute_reply": "2023-05-10T10:30:42.039607Z",
     "shell.execute_reply.started": "2023-05-10T10:30:42.039578Z"
    }
   },
   "outputs": [],
   "source": [
    "# count counts values,                  NaN is not counted\n",
    "# size counts values,                   NaN is included in the count\n",
    "# nunique counts only different values, NaN is not counted\n",
    "\n",
    "r = pak.group_and_agg(data, \n",
    "              [ 'A',     'B',     'C',     'C',    'C',       ], \n",
    "              [ 'group', 'group', 'count', 'size', 'nunique', ], \n",
    "             )\n",
    "\n",
    "r"
   ]
  },
  {
   "cell_type": "markdown",
   "metadata": {},
   "source": [
    "## Aggregate functions most_freq_elt() and top_values()\n",
    "Identificate the most frequent elements and determine their counts"
   ]
  },
  {
   "cell_type": "code",
   "execution_count": null,
   "metadata": {
    "execution": {
     "iopub.status.busy": "2023-05-10T10:30:42.041343Z",
     "iopub.status.idle": "2023-05-10T10:30:42.041756Z",
     "shell.execute_reply": "2023-05-10T10:30:42.041582Z",
     "shell.execute_reply.started": "2023-05-10T10:30:42.041563Z"
    }
   },
   "outputs": [],
   "source": [
    "?pak.most_freq_elt"
   ]
  },
  {
   "cell_type": "code",
   "execution_count": null,
   "metadata": {
    "execution": {
     "iopub.status.busy": "2023-05-10T10:30:42.042933Z",
     "iopub.status.idle": "2023-05-10T10:30:42.043662Z",
     "shell.execute_reply": "2023-05-10T10:30:42.043504Z",
     "shell.execute_reply.started": "2023-05-10T10:30:42.043485Z"
    },
    "tags": []
   },
   "outputs": [],
   "source": [
    "# Run the example\n",
    "df = pak.people()\n",
    "df.groupby('age_class')['first_name'].apply(pak.most_freq_elt)"
   ]
  },
  {
   "cell_type": "code",
   "execution_count": null,
   "metadata": {
    "execution": {
     "iopub.status.busy": "2023-05-10T10:30:42.044461Z",
     "iopub.status.idle": "2023-05-10T10:30:42.044774Z",
     "shell.execute_reply": "2023-05-10T10:30:42.044638Z",
     "shell.execute_reply.started": "2023-05-10T10:30:42.044624Z"
    }
   },
   "outputs": [],
   "source": [
    "?pak.top_values"
   ]
  },
  {
   "cell_type": "code",
   "execution_count": null,
   "metadata": {
    "execution": {
     "iopub.status.busy": "2023-05-10T10:30:42.045762Z",
     "iopub.status.idle": "2023-05-10T10:30:42.046654Z",
     "shell.execute_reply": "2023-05-10T10:30:42.046330Z",
     "shell.execute_reply.started": "2023-05-10T10:30:42.046313Z"
    },
    "tags": []
   },
   "outputs": [],
   "source": [
    "# Run the example\n",
    "df = pak.people()\n",
    "df.groupby('age_class')['first_name'].apply(pak.top_values)"
   ]
  },
  {
   "cell_type": "code",
   "execution_count": null,
   "metadata": {
    "execution": {
     "iopub.status.busy": "2023-05-10T10:30:42.050833Z",
     "iopub.status.idle": "2023-05-10T10:30:42.055332Z",
     "shell.execute_reply": "2023-05-10T10:30:42.055035Z",
     "shell.execute_reply.started": "2023-05-10T10:30:42.054996Z"
    }
   },
   "outputs": [],
   "source": [
    "# Create test data\n",
    "data = []\n",
    "data.append( ['A',  None,   ] )\n",
    "data.append( ['A',  None,   ] )\n",
    "data.append( ['A',  np.NaN, ] )\n",
    "  \n",
    "data.append( ['A',  2,      ] )\n",
    "data.append( ['A',  2,      ] )\n",
    "data.append( ['A',  3,      ] )\n",
    "data.append( ['A',  3,      ] )\n",
    "data.append( ['A',  4,      ] )\n",
    "data.append( ['A',  None,   ] )\n",
    "data.append( ['B',  'p'     ] )\n",
    "data.append( ['B',  'p',    ] )\n",
    "data.append( ['B',  'z',    ] )\n",
    "\n",
    "data = pak.dataframe(data)\n",
    "data"
   ]
  },
  {
   "cell_type": "code",
   "execution_count": null,
   "metadata": {
    "execution": {
     "iopub.status.busy": "2023-05-10T10:30:42.056486Z",
     "iopub.status.idle": "2023-05-10T10:30:42.057309Z",
     "shell.execute_reply": "2023-05-10T10:30:42.057133Z",
     "shell.execute_reply.started": "2023-05-10T10:30:42.057112Z"
    }
   },
   "outputs": [],
   "source": [
    "# most_freq_elt     like mode, but always returns a scalar and never NaN\n",
    "# mode              only returns a scalar if the result is unique. Again, no NaN.\n",
    "# top_values        always returns a list of the most frequent elements, NaN is counted like a normal element. \n",
    "#                   There are top_values preconfigured for 3, 5, 10, 20, 100, 1000 elements. \n",
    "# top_values_count  provides a list of frequencies to match. \n",
    "\n",
    "r = pak.group_and_agg(data, \n",
    "              [ 'A',     'B',                 'B',             'B',               'B',                      ], \n",
    "              [ 'group',  pak.most_freq_elt,  pd.Series.mode,  pak.top_values_10,  pak.top_values_count_10, ],   # mode must be specially asked to be with us\n",
    "              [ 'A',     'B_mostfreq',        '',              'B_top',           'B_count',                ]\n",
    "               #list('ABCDEF')\n",
    "             )\n",
    "\n",
    "r"
   ]
  },
  {
   "cell_type": "markdown",
   "metadata": {},
   "source": [
    "## Aggregate functions first_valid_value() and last_valid_value()"
   ]
  },
  {
   "cell_type": "code",
   "execution_count": null,
   "metadata": {
    "execution": {
     "iopub.status.busy": "2023-05-10T10:30:42.058618Z",
     "iopub.status.idle": "2023-05-10T10:30:42.059377Z",
     "shell.execute_reply": "2023-05-10T10:30:42.059203Z",
     "shell.execute_reply.started": "2023-05-10T10:30:42.059183Z"
    }
   },
   "outputs": [],
   "source": [
    "?pak.first_valid_value"
   ]
  },
  {
   "cell_type": "code",
   "execution_count": null,
   "metadata": {
    "execution": {
     "iopub.status.busy": "2023-05-10T10:30:42.060239Z",
     "iopub.status.idle": "2023-05-10T10:30:42.060582Z",
     "shell.execute_reply": "2023-05-10T10:30:42.060435Z",
     "shell.execute_reply.started": "2023-05-10T10:30:42.060418Z"
    }
   },
   "outputs": [],
   "source": [
    "s = pd.Series( [np.NaN, 1, np.NaN, 'z', np.NaN])\n",
    "assert pak.first_valid_value(s) == 1\n",
    "assert pak.last_valid_value(s) == 'z'"
   ]
  },
  {
   "cell_type": "code",
   "execution_count": null,
   "metadata": {
    "execution": {
     "iopub.status.busy": "2023-05-10T10:30:42.061611Z",
     "iopub.status.idle": "2023-05-10T10:30:42.062280Z",
     "shell.execute_reply": "2023-05-10T10:30:42.062124Z",
     "shell.execute_reply.started": "2023-05-10T10:30:42.062105Z"
    }
   },
   "outputs": [],
   "source": [
    "s = pd.Series( [np.NaN, None])\n",
    "assert pak.first_valid_value(s) is None\n",
    "assert pak.last_valid_value(s)  is None"
   ]
  },
  {
   "cell_type": "markdown",
   "metadata": {},
   "source": [
    "## Aggregate strings\n",
    "* agg_words, agg_words_nodup, agg_strings_nospace"
   ]
  },
  {
   "cell_type": "code",
   "execution_count": null,
   "metadata": {
    "execution": {
     "iopub.status.busy": "2023-05-10T10:30:42.063063Z",
     "iopub.status.idle": "2023-05-10T10:30:42.063732Z",
     "shell.execute_reply": "2023-05-10T10:30:42.063577Z",
     "shell.execute_reply.started": "2023-05-10T10:30:42.063559Z"
    }
   },
   "outputs": [],
   "source": [
    "?pak.agg_words"
   ]
  },
  {
   "cell_type": "code",
   "execution_count": null,
   "metadata": {
    "execution": {
     "iopub.status.busy": "2023-05-10T10:30:42.064548Z",
     "iopub.status.idle": "2023-05-10T10:30:42.065348Z",
     "shell.execute_reply": "2023-05-10T10:30:42.065178Z",
     "shell.execute_reply.started": "2023-05-10T10:30:42.065158Z"
    }
   },
   "outputs": [],
   "source": [
    "?pak.agg_words_nodup"
   ]
  },
  {
   "cell_type": "code",
   "execution_count": null,
   "metadata": {
    "execution": {
     "iopub.status.busy": "2023-05-10T10:30:42.066324Z",
     "iopub.status.idle": "2023-05-10T10:30:42.066679Z",
     "shell.execute_reply": "2023-05-10T10:30:42.066529Z",
     "shell.execute_reply.started": "2023-05-10T10:30:42.066510Z"
    }
   },
   "outputs": [],
   "source": [
    "?pak.agg_strings_nospace"
   ]
  },
  {
   "cell_type": "code",
   "execution_count": null,
   "metadata": {
    "execution": {
     "iopub.status.busy": "2023-05-10T10:30:42.067782Z",
     "iopub.status.idle": "2023-05-10T10:30:42.068902Z",
     "shell.execute_reply": "2023-05-10T10:30:42.068713Z",
     "shell.execute_reply.started": "2023-05-10T10:30:42.068691Z"
    }
   },
   "outputs": [],
   "source": [
    "# Create test data\n",
    "data = []\n",
    "data.append( ['A',  None,   ] )\n",
    "data.append( ['A',  None,   ] )\n",
    "data.append( ['A',  np.NaN, ] )\n",
    "  \n",
    "data.append( ['A',  'Who',    ] )\n",
    "data.append( ['A',  'is is',    ] )\n",
    "data.append( ['A',  'who',    ] )\n",
    "data.append( ['A',  'and',    ] )\n",
    "data.append( ['A',  'who',    ] )\n",
    "data.append( ['A',  'is is is',    ] )\n",
    "data.append( ['A',  None,   ] )\n",
    "data.append( ['A',  'what?',   ] )\n",
    "data.append( ['B',  ''        ] )\n",
    "data.append( ['B',  '   ',    ] )  # several narrow spaces\n",
    "data.append( ['B',  'zz',     ] )\n",
    "data.append( ['B',  ' ',      ] )  # one narrow space\n",
    "data.append( ['B',  'zz',     ] )\n",
    "\n",
    "data = pak.dataframe(data)\n",
    "data"
   ]
  },
  {
   "cell_type": "code",
   "execution_count": null,
   "metadata": {
    "execution": {
     "iopub.status.busy": "2023-05-10T10:30:42.069798Z",
     "iopub.status.idle": "2023-05-10T10:30:42.070848Z",
     "shell.execute_reply": "2023-05-10T10:30:42.070341Z",
     "shell.execute_reply.started": "2023-05-10T10:30:42.070323Z"
    }
   },
   "outputs": [],
   "source": [
    "# agg_words :           Collects all scalars together like words in a sentence. NaN is ignored.\n",
    "# agg_words_nodups :    Collects all scalars together like signal words in a set: No dups. Order is preserved. NaN is ignored.\n",
    "# agg_strings_nospace : Just hangs everything one after the other. NaN is ignored.\n",
    "\n",
    "r = pak.group_and_agg(data, \n",
    "              [ 'A', 'B', 'B', 'B',], \n",
    "              [ 'group',  pak.agg_words, pak.agg_words_nodup, pak.agg_strings_nospace, ], \n",
    "              #[ 'A', 'B1', 'B2', 'B3' ],                 \n",
    "\n",
    "             ) \n",
    "\n",
    "r"
   ]
  },
  {
   "cell_type": "markdown",
   "metadata": {},
   "source": [
    "## Aggregate lists\n",
    "* list, explode, sum"
   ]
  },
  {
   "cell_type": "code",
   "execution_count": null,
   "metadata": {
    "execution": {
     "iopub.status.busy": "2023-05-10T10:30:42.071972Z",
     "iopub.status.idle": "2023-05-10T10:30:42.072953Z",
     "shell.execute_reply": "2023-05-10T10:30:42.072766Z",
     "shell.execute_reply.started": "2023-05-10T10:30:42.072744Z"
    }
   },
   "outputs": [],
   "source": [
    "# Create test data\n",
    "data = []\n",
    "data.append( ['A',  None,   ] )\n",
    "data.append( ['A',  None,   ] )\n",
    "data.append( ['A',  np.NaN, ] )\n",
    "  \n",
    "data.append( ['A',  2,      ] )\n",
    "data.append( ['A',  2,      ] )\n",
    "data.append( ['A',  3,      ] )\n",
    "data.append( ['A',  3,      ] )\n",
    "data.append( ['A',  None,   ] )\n",
    "data.append( ['A',  4,      ] )\n",
    "data.append( ['B',  'p'     ] )\n",
    "data.append( ['B',  'p',    ] )\n",
    "data.append( ['B',  'z',    ] )\n",
    "\n",
    "data = pak.dataframe(data)\n",
    "data"
   ]
  },
  {
   "cell_type": "markdown",
   "metadata": {},
   "source": [
    "### list aggregates scalars to lists"
   ]
  },
  {
   "cell_type": "code",
   "execution_count": null,
   "metadata": {
    "execution": {
     "iopub.status.busy": "2023-05-10T10:30:42.075799Z",
     "iopub.status.idle": "2023-05-10T10:30:42.076789Z",
     "shell.execute_reply": "2023-05-10T10:30:42.076601Z",
     "shell.execute_reply.started": "2023-05-10T10:30:42.076578Z"
    }
   },
   "outputs": [],
   "source": [
    "r = pak.group_and_agg(data, \n",
    "              [ 'A',     'B',     ], \n",
    "              [ 'group',  list,   ],  # by the way, this works the same way with set                \n",
    "              [ 'A',     'B',     ]\n",
    "             )\n",
    "\n",
    "r"
   ]
  },
  {
   "cell_type": "markdown",
   "metadata": {},
   "source": [
    "### explode turns lists back into scalars"
   ]
  },
  {
   "cell_type": "code",
   "execution_count": null,
   "metadata": {
    "execution": {
     "iopub.status.busy": "2023-05-10T10:30:42.077687Z",
     "iopub.status.idle": "2023-05-10T10:30:42.078393Z",
     "shell.execute_reply": "2023-05-10T10:30:42.078240Z",
     "shell.execute_reply.started": "2023-05-10T10:30:42.078222Z"
    }
   },
   "outputs": [],
   "source": [
    "# undo\n",
    "r.explode('B')"
   ]
  },
  {
   "cell_type": "code",
   "execution_count": null,
   "metadata": {
    "execution": {
     "iopub.status.busy": "2023-05-10T10:30:42.079219Z",
     "iopub.status.idle": "2023-05-10T10:30:42.079931Z",
     "shell.execute_reply": "2023-05-10T10:30:42.079776Z",
     "shell.execute_reply.started": "2023-05-10T10:30:42.079757Z"
    }
   },
   "outputs": [],
   "source": [
    "# equal!\n",
    "r = pak.reset_index(r.explode('B'))\n",
    "assert pak.check_equal(data,r)"
   ]
  },
  {
   "cell_type": "markdown",
   "metadata": {},
   "source": [
    "### agg_to_list()"
   ]
  },
  {
   "cell_type": "code",
   "execution_count": null,
   "metadata": {
    "execution": {
     "iopub.status.busy": "2023-05-10T10:30:42.080736Z",
     "iopub.status.idle": "2023-05-10T10:30:42.081392Z",
     "shell.execute_reply": "2023-05-10T10:30:42.081235Z",
     "shell.execute_reply.started": "2023-05-10T10:30:42.081218Z"
    }
   },
   "outputs": [],
   "source": [
    "?pak.agg_to_list"
   ]
  },
  {
   "cell_type": "markdown",
   "metadata": {},
   "source": [
    "### sum aggregates lists to longer lists"
   ]
  },
  {
   "cell_type": "code",
   "execution_count": null,
   "metadata": {
    "execution": {
     "iopub.status.busy": "2023-05-10T10:30:42.082229Z",
     "iopub.status.idle": "2023-05-10T10:30:42.082932Z",
     "shell.execute_reply": "2023-05-10T10:30:42.082777Z",
     "shell.execute_reply.started": "2023-05-10T10:30:42.082759Z"
    }
   },
   "outputs": [],
   "source": [
    "# Create test data\n",
    "data = []\n",
    "data.append( ['A',  None,                  ] )\n",
    "data.append( ['A',  [None,None]            ] )\n",
    "data.append( ['A',  np.NaN,                ] )\n",
    "  \n",
    "data.append( ['A',  ['Who', 'is', 'who']  ] )\n",
    "data.append( ['A',  ['and', 'qq']          ] )\n",
    "data.append( ['A',  ['who', 'qq']          ] )\n",
    "data.append( ['A',  ['is', 'qq']          ] )\n",
    "data.append( ['A',  [None,  'qq']          ] )\n",
    "data.append( ['A',  ['what?','qq'],         ] )\n",
    "data.append( ['B',  ['']                   ] )\n",
    "data.append( ['B',  ['xx','yy'],           ] )  \n",
    "data.append( ['B',  ['zz'],                ] )\n",
    "\n",
    "data = pak.dataframe(data)\n",
    "data"
   ]
  },
  {
   "cell_type": "code",
   "execution_count": null,
   "metadata": {
    "execution": {
     "iopub.status.busy": "2023-05-10T10:30:42.083744Z",
     "iopub.status.idle": "2023-05-10T10:30:42.084446Z",
     "shell.execute_reply": "2023-05-10T10:30:42.084292Z",
     "shell.execute_reply.started": "2023-05-10T10:30:42.084275Z"
    }
   },
   "outputs": [],
   "source": [
    "r = pak.group_and_agg(data, \n",
    "              [ 'A',     'B',     ], \n",
    "              [ 'group',  sum,   ],  \n",
    "              [ 'A',     'B',     ],                   \n",
    "\n",
    "             )\n",
    "\n",
    "r"
   ]
  },
  {
   "cell_type": "markdown",
   "metadata": {},
   "source": [
    "## Aggregate dicts"
   ]
  },
  {
   "cell_type": "code",
   "execution_count": null,
   "metadata": {
    "execution": {
     "iopub.status.busy": "2023-05-10T10:30:42.086276Z",
     "iopub.status.idle": "2023-05-10T10:30:42.086637Z",
     "shell.execute_reply": "2023-05-10T10:30:42.086491Z",
     "shell.execute_reply.started": "2023-05-10T10:30:42.086474Z"
    }
   },
   "outputs": [],
   "source": [
    "# Create test data\n",
    "data = []\n",
    "data.append( ['A',  {'a':1},           ] )\n",
    "data.append( ['A',  {'a':1},           ] )\n",
    "data.append( ['A',  {'b':2, 'c':3 },   ] )\n",
    "data.append( ['A',  {'a':4},           ] )\n",
    "data.append( ['B',  {'bb':22},         ] )\n",
    "#data.append( ['B',  {},                ] )\n",
    "\n",
    "data = pak.dataframe(data)\n",
    "data.columns = ['A','D']\n",
    "\n",
    "# DD is a copy of D, but as defaultdict\n",
    "data['DD'] = data.D.copy() \n",
    "\n",
    "# dict_to_defaultdict turns the dict in the given column into a defaultdict\n",
    "data = pak.dict_to_defaultdict( data, col='DD' )\n",
    "data"
   ]
  },
  {
   "cell_type": "code",
   "execution_count": null,
   "metadata": {
    "execution": {
     "iopub.status.busy": "2023-05-10T10:30:42.087666Z",
     "iopub.status.idle": "2023-05-10T10:30:42.088041Z",
     "shell.execute_reply": "2023-05-10T10:30:42.087887Z",
     "shell.execute_reply.started": "2023-05-10T10:30:42.087872Z"
    }
   },
   "outputs": [],
   "source": [
    "# agg_dicts      aggregates dicts and overwrites conflicting values\n",
    "# agg_dicts_2dd  does the same, but results defaultdicts, so no values are lost\n",
    "\n",
    "r = pak.group_and_agg(data, \n",
    "              [ 'A',     'D',            'D',                 ], \n",
    "              [ 'group',  pak.agg_dicts, pak.agg_dicts_2dd,  ],  \n",
    "              [ 'A',     'D_dict',       'D_defaultdict',    ],                   \n",
    "\n",
    "             )\n",
    "\n",
    "r"
   ]
  },
  {
   "cell_type": "markdown",
   "metadata": {},
   "source": [
    "## Aggregate defaultdicts"
   ]
  },
  {
   "cell_type": "code",
   "execution_count": null,
   "metadata": {
    "execution": {
     "iopub.status.busy": "2023-05-10T10:30:42.089178Z",
     "iopub.status.idle": "2023-05-10T10:30:42.089519Z",
     "shell.execute_reply": "2023-05-10T10:30:42.089376Z",
     "shell.execute_reply.started": "2023-05-10T10:30:42.089361Z"
    }
   },
   "outputs": [],
   "source": [
    "# See the test data again\n",
    "data"
   ]
  },
  {
   "cell_type": "code",
   "execution_count": null,
   "metadata": {
    "execution": {
     "iopub.status.busy": "2023-05-10T10:30:42.090749Z",
     "iopub.status.idle": "2023-05-10T10:30:42.091407Z",
     "shell.execute_reply": "2023-05-10T10:30:42.091257Z",
     "shell.execute_reply.started": "2023-05-10T10:30:42.091240Z"
    },
    "tags": []
   },
   "outputs": [],
   "source": [
    "# agg_defaultdicts aggregates defaultdicts\n",
    "\n",
    "r = pak.group_and_agg(data, \n",
    "              [ 'A',      'DD',                            ], \n",
    "              [ 'group',  pak.agg_defaultdicts,            ],  \n",
    "              [ 'A',      'DD',                            ],                   \n",
    "\n",
    "             )\n",
    "\n",
    "r"
   ]
  }
 ],
 "metadata": {
  "kernelspec": {
   "display_name": "Python 3 (ipykernel)",
   "language": "python",
   "name": "python3"
  },
  "language_info": {
   "codemirror_mode": {
    "name": "ipython",
    "version": 3
   },
   "file_extension": ".py",
   "mimetype": "text/x-python",
   "name": "python",
   "nbconvert_exporter": "python",
   "pygments_lexer": "ipython3",
   "version": "3.9.13"
  },
  "toc-autonumbering": false
 },
 "nbformat": 4,
 "nbformat_minor": 4
}
