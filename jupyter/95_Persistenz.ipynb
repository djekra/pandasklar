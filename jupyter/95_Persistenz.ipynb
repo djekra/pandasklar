{
 "cells": [
  {
   "cell_type": "markdown",
   "metadata": {},
   "source": [
    "# Persistenz\n",
    "* https://stackoverflow.com/questions/17098654/how-to-store-a-dataframe-using-pandas\n",
    "* https://pandas.pydata.org/pandas-docs/stable/user_guide/io.html#io-perf\n",
    "\n",
    "* Gut geeignete Verfahren sind Feather und Pickle. Beide sind schnell und bewahren Datatypes.\n",
    "* Feather ist manchmal störrisch mit column names\n",
    "* hdf funktioniert nicht gut mit Strings und produziert immer große Dateien"
   ]
  },
  {
   "cell_type": "code",
   "execution_count": 1,
   "metadata": {},
   "outputs": [
    {
     "name": "stdout",
     "output_type": "stream",
     "text": [
      "dropbox_path = C:\\Users\\me\\Dropbox\n",
      "Start Time: 13:33:00\n"
     ]
    },
    {
     "data": {
      "text/html": [
       "<img src onerror=\"var cell = this.closest('.jp-CodeCell');var editor = cell.querySelector('.jp-Editor');editor.style.background='DarkGray';this.parentNode.removeChild(this)\">"
      ],
      "text/plain": [
       "<IPython.core.display.HTML object>"
      ]
     },
     "metadata": {},
     "output_type": "display_data"
    }
   ],
   "source": [
    "# blab init\n",
    "import blab\n",
    "startup_notebook = blab.blab_startup()\n",
    "%run $startup_notebook"
   ]
  },
  {
   "cell_type": "code",
   "execution_count": 2,
   "metadata": {},
   "outputs": [
    {
     "name": "stdout",
     "output_type": "stream",
     "text": [
      "time: 4.44 s\n"
     ]
    }
   ],
   "source": [
    "import numpy      as np\n",
    "import pandas     as pd \n",
    "import bpyth      as bpy\n",
    "import pandasklar as pak \n",
    "\n",
    "grid = pak.grid"
   ]
  },
  {
   "cell_type": "code",
   "execution_count": 3,
   "metadata": {},
   "outputs": [
    {
     "name": "stdout",
     "output_type": "stream",
     "text": [
      "time: 999 µs\n"
     ]
    }
   ],
   "source": [
    "import sys\n",
    "import pickle\n",
    "import json"
   ]
  },
  {
   "cell_type": "code",
   "execution_count": 4,
   "metadata": {},
   "outputs": [
    {
     "name": "stdout",
     "output_type": "stream",
     "text": [
      "time: 2.38 s\n"
     ]
    }
   ],
   "source": [
    "# Testdatensatz\n",
    "df_test = pak.leute(8000)\n",
    "df_test = pak.drop_cols(df_test,['merkmale','history'])"
   ]
  },
  {
   "cell_type": "code",
   "execution_count": 5,
   "metadata": {},
   "outputs": [
    {
     "name": "stdout",
     "output_type": "stream",
     "text": [
      "time: 2 ms\n"
     ]
    }
   ],
   "source": [
    "def compare_datatypes(df, result):\n",
    "    df     = pak.analyse_cols(df)\n",
    "    result = pak.analyse_cols(result)\n",
    "    löschen = ['mem_usage']\n",
    "    df     = pak.drop_cols(df, löschen)\n",
    "    result = pak.drop_cols(result, löschen)    \n",
    "    return pak.get_different_rows(df,result)"
   ]
  },
  {
   "cell_type": "markdown",
   "metadata": {},
   "source": [
    "## Speichern und Laden in verschiedenen Formaten"
   ]
  },
  {
   "cell_type": "code",
   "execution_count": 6,
   "metadata": {},
   "outputs": [
    {
     "name": "stdout",
     "output_type": "stream",
     "text": [
      "time: 6 ms\n"
     ]
    }
   ],
   "source": [
    "# csv-Format\n",
    "# csv funktioniert nicht\n",
    "\n",
    "def csv_save(df):\n",
    "    df.to_csv('persistenz.csv', index=False)\n",
    "    \n",
    "def csv_load():\n",
    "    return pd.read_csv('persistenz.csv')\n",
    "\n",
    "def csv_save_and_load(df):\n",
    "    csv_save(df)\n",
    "    result = csv_load()\n",
    "    assert pak.check_identical(df, result)\n",
    "\n",
    "def csv_save_and_load_dt(df):\n",
    "    csv_save(df)\n",
    "    result = csv_load()\n",
    "    return compare_datatypes(df, result)"
   ]
  },
  {
   "cell_type": "code",
   "execution_count": 7,
   "metadata": {},
   "outputs": [
    {
     "name": "stdout",
     "output_type": "stream",
     "text": [
      "time: 5 ms\n"
     ]
    }
   ],
   "source": [
    "# json-Format\n",
    "# json funktioniert nicht\n",
    "\n",
    "def json_save(df):\n",
    "    df.to_json('persistenz.json')\n",
    "    \n",
    "def json_load():\n",
    "    return pd.read_json('persistenz.json')\n",
    "\n",
    "def json_save_and_load(df):\n",
    "    json_save(df)\n",
    "    result = json_load()\n",
    "    assert pak.check_identical(df, result)\n",
    "    \n",
    "def json_save_and_load_dt(df):\n",
    "    json_save(df)\n",
    "    result = json_load()\n",
    "    return compare_datatypes(df, result) "
   ]
  },
  {
   "cell_type": "code",
   "execution_count": 8,
   "metadata": {},
   "outputs": [
    {
     "name": "stdout",
     "output_type": "stream",
     "text": [
      "time: 5 ms\n"
     ]
    }
   ],
   "source": [
    "# pickle-Format\n",
    "\n",
    "def pickle_save(df):\n",
    "    df.to_pickle('persistenz.pickle')\n",
    "    \n",
    "def pickle_load():\n",
    "    return pd.read_pickle('persistenz.pickle')\n",
    "\n",
    "def pickle_save_and_load(df):\n",
    "    pickle_save(df)\n",
    "    result = pickle_load()\n",
    "    assert pak.check_identical(df, result)\n",
    "    \n",
    "def pickle_save_and_load_dt(df):\n",
    "    pickle_save(df)\n",
    "    result = pickle_load()\n",
    "    return compare_datatypes(df, result) "
   ]
  },
  {
   "cell_type": "code",
   "execution_count": 9,
   "metadata": {},
   "outputs": [
    {
     "name": "stdout",
     "output_type": "stream",
     "text": [
      "time: 6 ms\n"
     ]
    }
   ],
   "source": [
    "# feather-Format\n",
    "\n",
    "def feather_save(df):\n",
    "    df.to_feather('persistenz.feather')\n",
    "    \n",
    "def feather_load():\n",
    "    return pd.read_feather('persistenz.feather')\n",
    "\n",
    "def feather_save_and_load(df):\n",
    "    feather_save(df)\n",
    "    result = feather_load()\n",
    "    assert pak.check_identical(df, result)\n",
    "    \n",
    "def feather_save_and_load_dt(df):\n",
    "    feather_save(df)\n",
    "    result = feather_load()\n",
    "    return compare_datatypes(df, result)"
   ]
  },
  {
   "cell_type": "markdown",
   "metadata": {},
   "source": [
    "## Geschwindigkeitsvergleich"
   ]
  },
  {
   "cell_type": "code",
   "execution_count": 10,
   "metadata": {},
   "outputs": [
    {
     "name": "stdout",
     "output_type": "stream",
     "text": [
      "588 ms ± 121 ms per loop (mean ± std. dev. of 7 runs, 1 loop each)\n",
      "time: 5.66 s\n"
     ]
    }
   ],
   "source": [
    "%timeit feather_save_and_load(df_test)"
   ]
  },
  {
   "cell_type": "code",
   "execution_count": 11,
   "metadata": {},
   "outputs": [
    {
     "name": "stdout",
     "output_type": "stream",
     "text": [
      "340 ms ± 73.1 ms per loop (mean ± std. dev. of 7 runs, 1 loop each)\n",
      "time: 3.11 s\n"
     ]
    }
   ],
   "source": [
    "%timeit pickle_save_and_load(df_test)"
   ]
  },
  {
   "cell_type": "code",
   "execution_count": 12,
   "metadata": {},
   "outputs": [
    {
     "name": "stdout",
     "output_type": "stream",
     "text": [
      "time: 1 ms\n"
     ]
    }
   ],
   "source": [
    "#%timeit json_save_and_load(df_test)  "
   ]
  },
  {
   "cell_type": "code",
   "execution_count": 13,
   "metadata": {
    "tags": []
   },
   "outputs": [
    {
     "name": "stdout",
     "output_type": "stream",
     "text": [
      "time: 1 ms\n"
     ]
    }
   ],
   "source": [
    "#%timeit csv_save_and_load(df_test)"
   ]
  },
  {
   "cell_type": "markdown",
   "metadata": {},
   "source": [
    "## Datatypes Unterschiede"
   ]
  },
  {
   "cell_type": "code",
   "execution_count": 14,
   "metadata": {},
   "outputs": [
    {
     "data": {
      "text/plain": [
       "'Keine Datensätze'"
      ]
     },
     "execution_count": 14,
     "metadata": {},
     "output_type": "execute_result"
    },
    {
     "name": "stdout",
     "output_type": "stream",
     "text": [
      "time: 425 ms\n"
     ]
    }
   ],
   "source": [
    "r = feather_save_and_load_dt(df_test)\n",
    "grid(r)"
   ]
  },
  {
   "cell_type": "code",
   "execution_count": 15,
   "metadata": {},
   "outputs": [
    {
     "data": {
      "text/plain": [
       "'Keine Datensätze'"
      ]
     },
     "execution_count": 15,
     "metadata": {},
     "output_type": "execute_result"
    },
    {
     "name": "stdout",
     "output_type": "stream",
     "text": [
      "time: 475 ms\n"
     ]
    }
   ],
   "source": [
    "r = pickle_save_and_load_dt(df_test)\n",
    "grid(r)"
   ]
  },
  {
   "cell_type": "code",
   "execution_count": 16,
   "metadata": {},
   "outputs": [
    {
     "name": "stdout",
     "output_type": "stream",
     "text": [
      "time: 1.99 ms\n"
     ]
    }
   ],
   "source": [
    "#r = json_save_and_load_dt(df_test)  \n",
    "#grid(r)"
   ]
  },
  {
   "cell_type": "code",
   "execution_count": 17,
   "metadata": {
    "tags": []
   },
   "outputs": [
    {
     "name": "stdout",
     "output_type": "stream",
     "text": [
      "time: 0 ns\n"
     ]
    }
   ],
   "source": [
    "#r = csv_save_and_load_dt(df_test)\n",
    "#grid(r)"
   ]
  }
 ],
 "metadata": {
  "kernelspec": {
   "display_name": "Python 3 (ipykernel)",
   "language": "python",
   "name": "python3"
  },
  "language_info": {
   "codemirror_mode": {
    "name": "ipython",
    "version": 3
   },
   "file_extension": ".py",
   "mimetype": "text/x-python",
   "name": "python",
   "nbconvert_exporter": "python",
   "pygments_lexer": "ipython3",
   "version": "3.8.12"
  }
 },
 "nbformat": 4,
 "nbformat_minor": 4
}
