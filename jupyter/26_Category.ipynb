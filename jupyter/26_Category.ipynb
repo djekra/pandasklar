{
 "cells": [
  {
   "cell_type": "markdown",
   "metadata": {},
   "source": [
    "# Category\n"
   ]
  },
  {
   "cell_type": "code",
   "execution_count": 1,
   "metadata": {},
   "outputs": [
    {
     "name": "stdout",
     "output_type": "stream",
     "text": [
      "dropbox_path = /Data/Dropbox\n"
     ]
    },
    {
     "data": {
      "text/html": [
       "<img src onerror=\"var cell = this.closest('.jp-CodeCell');var editor = cell.querySelector('.jp-Editor');editor.style.background='DarkGray';this.parentNode.removeChild(this)\">"
      ],
      "text/plain": [
       "<IPython.core.display.HTML object>"
      ]
     },
     "metadata": {},
     "output_type": "display_data"
    },
    {
     "name": "stdout",
     "output_type": "stream",
     "text": [
      "time: 4.38 ms (started: 2022-02-14 08:16:03 +00:00)\n"
     ]
    }
   ],
   "source": [
    "# blab init\n",
    "import blab\n",
    "startup_notebook = blab.blab_startup()\n",
    "%run $startup_notebook"
   ]
  },
  {
   "cell_type": "code",
   "execution_count": 2,
   "metadata": {},
   "outputs": [
    {
     "name": "stdout",
     "output_type": "stream",
     "text": [
      "time: 779 ms (started: 2022-02-14 08:16:03 +00:00)\n"
     ]
    }
   ],
   "source": [
    "import numpy      as np\n",
    "import pandas     as pd \n",
    "import bpyth      as bpy\n",
    "import pandasklar as pak "
   ]
  },
  {
   "cell_type": "code",
   "execution_count": 3,
   "metadata": {},
   "outputs": [
    {
     "name": "stdout",
     "output_type": "stream",
     "text": [
      "change_datatype \n",
      "A                    --> pd.Int16  \n",
      "B                    --> np.float32\n",
      "E                    --> pd.string \n",
      "change_datatype vorher: 2.1 K nachher: 2.0 K\n",
      "\n"
     ]
    },
    {
     "data": {
      "text/html": [
       "<div>\n",
       "<style scoped>\n",
       "    .dataframe tbody tr th:only-of-type {\n",
       "        vertical-align: middle;\n",
       "    }\n",
       "\n",
       "    .dataframe tbody tr th {\n",
       "        vertical-align: top;\n",
       "    }\n",
       "\n",
       "    .dataframe thead th {\n",
       "        text-align: right;\n",
       "    }\n",
       "</style>\n",
       "<table border=\"1\" class=\"dataframe\">\n",
       "  <thead>\n",
       "    <tr style=\"text-align: right;\">\n",
       "      <th></th>\n",
       "      <th>A</th>\n",
       "      <th>B</th>\n",
       "      <th>C</th>\n",
       "      <th>D</th>\n",
       "      <th>E</th>\n",
       "    </tr>\n",
       "  </thead>\n",
       "  <tbody>\n",
       "    <tr>\n",
       "      <th>0</th>\n",
       "      <td>273</td>\n",
       "      <td>0.568</td>\n",
       "      <td>sBäF</td>\n",
       "      <td>Tom</td>\n",
       "      <td>a</td>\n",
       "    </tr>\n",
       "    <tr>\n",
       "      <th>1</th>\n",
       "      <td>375</td>\n",
       "      <td>0.502</td>\n",
       "      <td>9B4tÜ</td>\n",
       "      <td>Gerhard</td>\n",
       "      <td>c</td>\n",
       "    </tr>\n",
       "    <tr>\n",
       "      <th>2</th>\n",
       "      <td>96</td>\n",
       "      <td>0.710</td>\n",
       "      <td>fNiNnWK</td>\n",
       "      <td>Dieter</td>\n",
       "      <td>b</td>\n",
       "    </tr>\n",
       "    <tr>\n",
       "      <th>3</th>\n",
       "      <td>883</td>\n",
       "      <td>0.778</td>\n",
       "      <td>ACUol</td>\n",
       "      <td>Ernst</td>\n",
       "      <td>d</td>\n",
       "    </tr>\n",
       "    <tr>\n",
       "      <th>4</th>\n",
       "      <td>587</td>\n",
       "      <td>0.521</td>\n",
       "      <td>ERQz</td>\n",
       "      <td>Jana</td>\n",
       "      <td>e</td>\n",
       "    </tr>\n",
       "    <tr>\n",
       "      <th>5</th>\n",
       "      <td>970</td>\n",
       "      <td>0.105</td>\n",
       "      <td>pHjdÖjI</td>\n",
       "      <td>Celina</td>\n",
       "      <td>d</td>\n",
       "    </tr>\n",
       "    <tr>\n",
       "      <th>6</th>\n",
       "      <td>459</td>\n",
       "      <td>0.983</td>\n",
       "      <td>eLtInyB</td>\n",
       "      <td>Ole</td>\n",
       "      <td>c</td>\n",
       "    </tr>\n",
       "    <tr>\n",
       "      <th>7</th>\n",
       "      <td>95</td>\n",
       "      <td>0.712</td>\n",
       "      <td>BEd8PV</td>\n",
       "      <td>Edith</td>\n",
       "      <td>b</td>\n",
       "    </tr>\n",
       "    <tr>\n",
       "      <th>8</th>\n",
       "      <td>467</td>\n",
       "      <td>0.285</td>\n",
       "      <td>GcbviC</td>\n",
       "      <td>Klaus</td>\n",
       "      <td>d</td>\n",
       "    </tr>\n",
       "    <tr>\n",
       "      <th>9</th>\n",
       "      <td>819</td>\n",
       "      <td>0.344</td>\n",
       "      <td>Ü0pkP2N</td>\n",
       "      <td>Lothar</td>\n",
       "      <td>d</td>\n",
       "    </tr>\n",
       "  </tbody>\n",
       "</table>\n",
       "</div>"
      ],
      "text/plain": [
       "     A      B        C        D  E\n",
       "0  273  0.568     sBäF      Tom  a\n",
       "1  375  0.502    9B4tÜ  Gerhard  c\n",
       "2   96  0.710  fNiNnWK   Dieter  b\n",
       "3  883  0.778    ACUol    Ernst  d\n",
       "4  587  0.521     ERQz     Jana  e\n",
       "5  970  0.105  pHjdÖjI   Celina  d\n",
       "6  459  0.983  eLtInyB      Ole  c\n",
       "7   95  0.712   BEd8PV    Edith  b\n",
       "8  467  0.285   GcbviC    Klaus  d\n",
       "9  819  0.344  Ü0pkP2N   Lothar  d"
      ]
     },
     "execution_count": 3,
     "metadata": {},
     "output_type": "execute_result"
    },
    {
     "name": "stdout",
     "output_type": "stream",
     "text": [
      "time: 27.8 ms (started: 2022-02-14 08:16:04 +00:00)\n"
     ]
    }
   ],
   "source": [
    "# Beispieldaten\n",
    "anz = 10\n",
    "i = pak.random_series( anz, 'i')\n",
    "f = pak.random_series( anz, 'f')\n",
    "s = pak.random_series( anz, 's')\n",
    "n = pak.random_series( anz, 'n')\n",
    "c = pak.random_series( anz, 'c')\n",
    "df = pak.dataframe( (i, f, s, n, c) )\n",
    "df = pak.change_datatype(df)\n",
    "df"
   ]
  },
  {
   "cell_type": "code",
   "execution_count": null,
   "metadata": {},
   "outputs": [],
   "source": []
  }
 ],
 "metadata": {
  "kernelspec": {
   "display_name": "Python 3 (ipykernel)",
   "language": "python",
   "name": "python3"
  },
  "language_info": {
   "codemirror_mode": {
    "name": "ipython",
    "version": 3
   },
   "file_extension": ".py",
   "mimetype": "text/x-python",
   "name": "python",
   "nbconvert_exporter": "python",
   "pygments_lexer": "ipython3",
   "version": "3.8.12"
  }
 },
 "nbformat": 4,
 "nbformat_minor": 4
}
