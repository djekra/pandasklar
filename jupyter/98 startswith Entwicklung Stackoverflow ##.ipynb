{
 "cells": [
  {
   "cell_type": "markdown",
   "metadata": {},
   "source": [
    "# Strings startswith"
   ]
  },
  {
   "cell_type": "code",
   "execution_count": 3,
   "metadata": {},
   "outputs": [],
   "source": [
    "import numpy  as np\n",
    "import pandas as pd \n",
    "import random\n",
    "from pandas._testing import rands_array\n",
    "from bisect import bisect_right\n",
    "\n",
    "# create random strings\n",
    "def zufallsdaten(anz):   \n",
    "    result = pd.DataFrame()         \n",
    "    result['string_A'] = pd.util.testing.rands_array(10, anz)   \n",
    "    result['string_B'] = pd.util.testing.rands_array(10, anz)    \n",
    "    def bearbeite_element( skalar ):\n",
    "        l = random.randint(2,5)\n",
    "        return skalar[0:l] \n",
    "    result['string_B'] = result['string_B'].apply(bearbeite_element)\n",
    "    return result\n",
    "\n",
    "# create data to search in\n",
    "manystrings = pd.DataFrame(zufallsdaten(1000000)['string_A'])\n",
    "\n",
    "# create data to search\n",
    "search_me   = pd.DataFrame(zufallsdaten(100000)['string_B'].drop_duplicates())\n",
    "\n"
   ]
  },
  {
   "cell_type": "code",
   "execution_count": 4,
   "metadata": {},
   "outputs": [
    {
     "data": {
      "text/html": [
       "<div>\n",
       "<style scoped>\n",
       "    .dataframe tbody tr th:only-of-type {\n",
       "        vertical-align: middle;\n",
       "    }\n",
       "\n",
       "    .dataframe tbody tr th {\n",
       "        vertical-align: top;\n",
       "    }\n",
       "\n",
       "    .dataframe thead th {\n",
       "        text-align: right;\n",
       "    }\n",
       "</style>\n",
       "<table border=\"1\" class=\"dataframe\">\n",
       "  <thead>\n",
       "    <tr style=\"text-align: right;\">\n",
       "      <th></th>\n",
       "      <th>string_A</th>\n",
       "    </tr>\n",
       "  </thead>\n",
       "  <tbody>\n",
       "    <tr>\n",
       "      <th>0</th>\n",
       "      <td>Am1wQQQqjx</td>\n",
       "    </tr>\n",
       "    <tr>\n",
       "      <th>1</th>\n",
       "      <td>BQNhYNxYRF</td>\n",
       "    </tr>\n",
       "    <tr>\n",
       "      <th>2</th>\n",
       "      <td>A6qBjCOpS6</td>\n",
       "    </tr>\n",
       "    <tr>\n",
       "      <th>3</th>\n",
       "      <td>8RLaZSFiDc</td>\n",
       "    </tr>\n",
       "    <tr>\n",
       "      <th>4</th>\n",
       "      <td>qA8cUP8lGC</td>\n",
       "    </tr>\n",
       "    <tr>\n",
       "      <th>...</th>\n",
       "      <td>...</td>\n",
       "    </tr>\n",
       "    <tr>\n",
       "      <th>999995</th>\n",
       "      <td>CBA9qMuM3v</td>\n",
       "    </tr>\n",
       "    <tr>\n",
       "      <th>999996</th>\n",
       "      <td>uExudwYvPN</td>\n",
       "    </tr>\n",
       "    <tr>\n",
       "      <th>999997</th>\n",
       "      <td>hnDE9s5fuc</td>\n",
       "    </tr>\n",
       "    <tr>\n",
       "      <th>999998</th>\n",
       "      <td>w6Fu5dQalu</td>\n",
       "    </tr>\n",
       "    <tr>\n",
       "      <th>999999</th>\n",
       "      <td>yRRraiYBCc</td>\n",
       "    </tr>\n",
       "  </tbody>\n",
       "</table>\n",
       "<p>1000000 rows × 1 columns</p>\n",
       "</div>"
      ],
      "text/plain": [
       "          string_A\n",
       "0       Am1wQQQqjx\n",
       "1       BQNhYNxYRF\n",
       "2       A6qBjCOpS6\n",
       "3       8RLaZSFiDc\n",
       "4       qA8cUP8lGC\n",
       "...            ...\n",
       "999995  CBA9qMuM3v\n",
       "999996  uExudwYvPN\n",
       "999997  hnDE9s5fuc\n",
       "999998  w6Fu5dQalu\n",
       "999999  yRRraiYBCc\n",
       "\n",
       "[1000000 rows x 1 columns]"
      ]
     },
     "execution_count": 4,
     "metadata": {},
     "output_type": "execute_result"
    }
   ],
   "source": [
    "manystrings"
   ]
  },
  {
   "cell_type": "code",
   "execution_count": 5,
   "metadata": {},
   "outputs": [],
   "source": [
    "# fast startswith alternative. Finds the longest / shortest matching fragment and writes it into the field foundfieldname.\n",
    "# if find_identical, the strings may not be identical.  \n",
    "def fast_startswith(df, searchfieldname, foundfieldname, searchseries, find_longest=True, find_identical=True):\n",
    "    \n",
    "    # startswith alternative, works only if all strings in searchme have the same length. Also returns the matching fragment\n",
    "    def startwiths(data, searchme, find_identical):\n",
    "        prefix = searchme[bisect_right(searchme, data)-1]\n",
    "        if ((data!=prefix) or find_identical ) and data.startswith(prefix): \n",
    "            return prefix    \n",
    "        \n",
    "    search = pd.DataFrame(searchseries)\n",
    "    search.columns = ['searchstring']\n",
    "    search['len'] = search.searchstring.str.len()\n",
    "    grouped = search.groupby('len')\n",
    "    lengroups = grouped.agg(list).reset_index().sort_values('len', ascending=find_longest)  \n",
    "    result = df.copy()\n",
    "    result[foundfieldname] = None\n",
    "    for index, row in lengroups.iterrows():\n",
    "        result[foundfieldname].update(result[searchfieldname].apply(startwiths, searchme=sorted(row.searchstring), find_identical=find_identical)  )  \n",
    "        #result[foundfieldname] = result[foundfieldname].fillna(  result[searchfieldname].apply(startwiths, searchme=sorted(row.searchstring))  )\n",
    "    return result\n",
    "    \n",
    "    "
   ]
  },
  {
   "cell_type": "code",
   "execution_count": 6,
   "metadata": {},
   "outputs": [],
   "source": [
    "def fast_startswith2(df, searchfieldname, foundfieldname, searchseries):\n",
    "\n",
    "    # startswith alternative, works only if all strings in searchme have the same length. Also returns the matching fragment\n",
    "    def startwiths(data, searchme):\n",
    "        prefix = searchme[bisect_right(searchme, data)-1]\n",
    "        if data.startswith(prefix): return prefix    \n",
    "    \n",
    "    def grouped_startswith(searchme, data):\n",
    "        data[foundfieldname].update(data[searchfieldname].apply(startwiths, searchme=sorted(searchme.searchstring)))\n",
    "        return list(searchme.searchstring)   \n",
    "    \n",
    "    search = pd.DataFrame(searchseries)\n",
    "    search.columns = ['searchstring']\n",
    "    search['len'] = search.searchstring.str.len()\n",
    "    grouped = search.groupby('len')     \n",
    "    result = df.copy()\n",
    "    result[foundfieldname] = None\n",
    "    grouped.apply(grouped_startswith, data=result)\n",
    "    return result    \n",
    "\n"
   ]
  },
  {
   "cell_type": "code",
   "execution_count": 7,
   "metadata": {},
   "outputs": [
    {
     "name": "stdout",
     "output_type": "stream",
     "text": [
      "CPU times: user 1min 8s, sys: 0 ns, total: 1min 8s\n",
      "Wall time: 1min 8s\n"
     ]
    }
   ],
   "source": [
    "%%time \n",
    "mask = manystrings.string_A.str.startswith(tuple(search_me.string_B))\n",
    "result0 = manystrings[mask]\n",
    "# result0: built-in startswith\n",
    "# Wall time: 1min 6s \n",
    "\n"
   ]
  },
  {
   "cell_type": "code",
   "execution_count": 8,
   "metadata": {},
   "outputs": [
    {
     "name": "stdout",
     "output_type": "stream",
     "text": [
      "CPU times: user 6.56 s, sys: 10.3 ms, total: 6.57 s\n",
      "Wall time: 6.56 s\n"
     ]
    }
   ],
   "source": [
    "%%time\n",
    "df = fast_startswith(manystrings, 'string_A', 'found', search_me.string_B) \n",
    "mask = df.found.notnull()\n",
    "result1 = df[mask]   \n",
    "#print( result0.shape[0],   result1.shape[0])\n",
    "assert result0.shape[0] == result1.shape[0]\n",
    "\n",
    "# result1: iterate through groups of strings with same length.\n",
    "# also returns the matching fragment\n",
    "# Wall time: 6.33 s\n",
    "\n"
   ]
  },
  {
   "cell_type": "code",
   "execution_count": 9,
   "metadata": {},
   "outputs": [
    {
     "name": "stdout",
     "output_type": "stream",
     "text": [
      "CPU times: user 6.2 s, sys: 24 ms, total: 6.23 s\n",
      "Wall time: 6.22 s\n"
     ]
    }
   ],
   "source": [
    "%%time\n",
    "df = fast_startswith2(manystrings, 'string_A', 'found', search_me.string_B) \n",
    "mask = df.found.notnull()\n",
    "result2 = df[mask]    \n",
    "#print( result0.shape[0],   result2.shape[0])\n",
    "assert result0.shape[0] == result2.shape[0]\n",
    "\n",
    "# result2: apply fast startswith method on groups of strings with same length\n",
    "# also returns the matching fragment\n",
    "# Wall time: 5.94 s\n",
    "\n"
   ]
  },
  {
   "cell_type": "code",
   "execution_count": 10,
   "metadata": {},
   "outputs": [
    {
     "data": {
      "text/html": [
       "<div>\n",
       "<style scoped>\n",
       "    .dataframe tbody tr th:only-of-type {\n",
       "        vertical-align: middle;\n",
       "    }\n",
       "\n",
       "    .dataframe tbody tr th {\n",
       "        vertical-align: top;\n",
       "    }\n",
       "\n",
       "    .dataframe thead th {\n",
       "        text-align: right;\n",
       "    }\n",
       "</style>\n",
       "<table border=\"1\" class=\"dataframe\">\n",
       "  <thead>\n",
       "    <tr style=\"text-align: right;\">\n",
       "      <th></th>\n",
       "      <th>string_A</th>\n",
       "      <th>found_1</th>\n",
       "      <th>found_2</th>\n",
       "    </tr>\n",
       "  </thead>\n",
       "  <tbody>\n",
       "  </tbody>\n",
       "</table>\n",
       "</div>"
      ],
      "text/plain": [
       "Empty DataFrame\n",
       "Columns: [string_A, found_1, found_2]\n",
       "Index: []"
      ]
     },
     "execution_count": 10,
     "metadata": {},
     "output_type": "execute_result"
    }
   ],
   "source": [
    "# differences? May occur if you use find_longest=False\n",
    "result = pd.merge(result1,result2, on='string_A', suffixes=('_1','_2'))\n",
    "mask = (result.found_1 != result.found_2)\n",
    "result[mask]\n",
    "\n"
   ]
  },
  {
   "cell_type": "code",
   "execution_count": 11,
   "metadata": {},
   "outputs": [
    {
     "data": {
      "text/html": [
       "<div>\n",
       "<style scoped>\n",
       "    .dataframe tbody tr th:only-of-type {\n",
       "        vertical-align: middle;\n",
       "    }\n",
       "\n",
       "    .dataframe tbody tr th {\n",
       "        vertical-align: top;\n",
       "    }\n",
       "\n",
       "    .dataframe thead th {\n",
       "        text-align: right;\n",
       "    }\n",
       "</style>\n",
       "<table border=\"1\" class=\"dataframe\">\n",
       "  <thead>\n",
       "    <tr style=\"text-align: right;\">\n",
       "      <th></th>\n",
       "      <th>string_B</th>\n",
       "      <th>found</th>\n",
       "    </tr>\n",
       "  </thead>\n",
       "  <tbody>\n",
       "    <tr>\n",
       "      <th>1</th>\n",
       "      <td>9noCu</td>\n",
       "      <td>9n</td>\n",
       "    </tr>\n",
       "    <tr>\n",
       "      <th>3</th>\n",
       "      <td>q7c</td>\n",
       "      <td>q7</td>\n",
       "    </tr>\n",
       "    <tr>\n",
       "      <th>5</th>\n",
       "      <td>AYlW</td>\n",
       "      <td>AY</td>\n",
       "    </tr>\n",
       "    <tr>\n",
       "      <th>6</th>\n",
       "      <td>8Xk5</td>\n",
       "      <td>8X</td>\n",
       "    </tr>\n",
       "    <tr>\n",
       "      <th>7</th>\n",
       "      <td>Pus0</td>\n",
       "      <td>Pu</td>\n",
       "    </tr>\n",
       "    <tr>\n",
       "      <th>...</th>\n",
       "      <td>...</td>\n",
       "      <td>...</td>\n",
       "    </tr>\n",
       "    <tr>\n",
       "      <th>99995</th>\n",
       "      <td>L2wbM</td>\n",
       "      <td>L2</td>\n",
       "    </tr>\n",
       "    <tr>\n",
       "      <th>99996</th>\n",
       "      <td>OyFZ4</td>\n",
       "      <td>Oy</td>\n",
       "    </tr>\n",
       "    <tr>\n",
       "      <th>99997</th>\n",
       "      <td>owAN</td>\n",
       "      <td>ow</td>\n",
       "    </tr>\n",
       "    <tr>\n",
       "      <th>99998</th>\n",
       "      <td>5sU</td>\n",
       "      <td>5s</td>\n",
       "    </tr>\n",
       "    <tr>\n",
       "      <th>99999</th>\n",
       "      <td>rC9VL</td>\n",
       "      <td>rC</td>\n",
       "    </tr>\n",
       "  </tbody>\n",
       "</table>\n",
       "<p>73566 rows × 2 columns</p>\n",
       "</div>"
      ],
      "text/plain": [
       "      string_B found\n",
       "1        9noCu    9n\n",
       "3          q7c    q7\n",
       "5         AYlW    AY\n",
       "6         8Xk5    8X\n",
       "7         Pus0    Pu\n",
       "...        ...   ...\n",
       "99995    L2wbM    L2\n",
       "99996    OyFZ4    Oy\n",
       "99997     owAN    ow\n",
       "99998      5sU    5s\n",
       "99999    rC9VL    rC\n",
       "\n",
       "[73566 rows x 2 columns]"
      ]
     },
     "execution_count": 11,
     "metadata": {},
     "output_type": "execute_result"
    }
   ],
   "source": [
    "# search self\n",
    "df = fast_startswith(search_me, 'string_B', 'found', search_me.string_B, find_identical=False) \n",
    "mask = df.found.notnull()\n",
    "df[mask]    \n",
    "\n"
   ]
  },
  {
   "cell_type": "code",
   "execution_count": null,
   "metadata": {},
   "outputs": [],
   "source": []
  }
 ],
 "metadata": {
  "kernelspec": {
   "display_name": "Python 3 (ipykernel)",
   "language": "python",
   "name": "python3"
  },
  "language_info": {
   "codemirror_mode": {
    "name": "ipython",
    "version": 3
   },
   "file_extension": ".py",
   "mimetype": "text/x-python",
   "name": "python",
   "nbconvert_exporter": "python",
   "pygments_lexer": "ipython3",
   "version": "3.8.12"
  }
 },
 "nbformat": 4,
 "nbformat_minor": 4
}
