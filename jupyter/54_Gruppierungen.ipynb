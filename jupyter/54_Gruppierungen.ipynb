{
 "cells": [
  {
   "cell_type": "markdown",
   "metadata": {},
   "source": [
    "# Gruppierungen\n",
    "* transform bläht die Gruppierung wieder zur Original Shape auf, siehe eigenes Dokument transform\n",
    "* unstack entpivotisiert eine Gruppierung und macht Spalten zu Zeilen >> eigenes Thema"
   ]
  },
  {
   "cell_type": "code",
   "execution_count": 1,
   "metadata": {},
   "outputs": [
    {
     "name": "stdout",
     "output_type": "stream",
     "text": [
      "JupyterLab Tools Version 0.21\n",
      "found local libs at /Data_lab/libs\n",
      "Start Time: 07:54:28\n"
     ]
    },
    {
     "data": {
      "text/html": [
       "<img src onerror=\"var cell = this.closest('.jp-CodeCell');var editor = cell.querySelector('.jp-Editor');editor.style.background='DarkGray';this.parentNode.removeChild(this)\">"
      ],
      "text/plain": [
       "<IPython.core.display.HTML object>"
      ]
     },
     "metadata": {},
     "output_type": "display_data"
    },
    {
     "name": "stdout",
     "output_type": "stream",
     "text": [
      "time: 246 ms (started: 2022-06-23 07:54:28 +00:00)\n"
     ]
    }
   ],
   "source": [
    "# blab init\n",
    "import blab\n",
    "startup_notebook = blab.blab_startup()\n",
    "%run $startup_notebook"
   ]
  },
  {
   "cell_type": "code",
   "execution_count": 2,
   "metadata": {},
   "outputs": [
    {
     "name": "stdout",
     "output_type": "stream",
     "text": [
      "time: 1.39 s (started: 2022-06-23 07:54:28 +00:00)\n"
     ]
    }
   ],
   "source": [
    "import numpy      as np\n",
    "import pandas     as pd \n",
    "import bpyth      as bpy\n",
    "import pandasklar as pak \n",
    "\n",
    "grid = pak.grid"
   ]
  },
  {
   "cell_type": "code",
   "execution_count": 3,
   "metadata": {},
   "outputs": [
    {
     "name": "stdout",
     "output_type": "stream",
     "text": [
      "100 Datensätze\n"
     ]
    },
    {
     "data": {
      "text/html": [
       "\n",
       "        <iframe\n",
       "            width=\"100%\"\n",
       "            height=\"475\"\n",
       "            src=\"http://me-Mint:40002/dtale/iframe/1\"\n",
       "            frameborder=\"0\"\n",
       "            allowfullscreen\n",
       "            \n",
       "        ></iframe>\n",
       "        "
      ],
      "text/plain": [
       "<IPython.lib.display.IFrame at 0x7f57461f8f10>"
      ]
     },
     "metadata": {},
     "output_type": "display_data"
    },
    {
     "data": {
      "text/plain": []
     },
     "execution_count": 3,
     "metadata": {},
     "output_type": "execute_result"
    },
    {
     "name": "stdout",
     "output_type": "stream",
     "text": [
      "time: 174 ms (started: 2022-06-23 07:54:29 +00:00)\n"
     ]
    }
   ],
   "source": [
    "# Beispieldaten erzeugen\n",
    "np.random.seed(100)\n",
    "df = pak.leute(100).sort_values(['alter','vorname'])\n",
    "df = pak.move_cols(df,['alter','vorname'], 'altersklasse')\n",
    "grid(df)"
   ]
  },
  {
   "cell_type": "markdown",
   "metadata": {},
   "source": [
    "## Basics"
   ]
  },
  {
   "cell_type": "code",
   "execution_count": 4,
   "metadata": {},
   "outputs": [
    {
     "name": "stdout",
     "output_type": "stream",
     "text": [
      "time: 902 µs (started: 2022-06-23 07:54:30 +00:00)\n"
     ]
    }
   ],
   "source": [
    "# grouped-Objekt erzeugen\n",
    "grouped_altersklasse = df.groupby('altersklasse')"
   ]
  },
  {
   "cell_type": "code",
   "execution_count": 5,
   "metadata": {},
   "outputs": [
    {
     "data": {
      "text/plain": [
       "{20: [33, 23, 60, 70, 87, 24, 21, 7, 26, 90, 29, 19, 51, 12, 75, 22, 57, 92, 73, 79, 32, 64, 81, 53, 8, 41, 97, 5, 27, 76, 85, 98, 40], 30: [6, 88, 18, 39, 31, 80, 43, 52, 44, 59, 78, 13, 9, 54, 72, 20, 83, 0, 2, 71, 94, 66, 56, 3, 55, 96, 30, 84, 77, 16, 28, 35, 47, 1, 4, 36, 14, 37, 42, 95, 49, 25, 34, 93, 45, 48, 58, 63, 11, 82, 62, 10, 15, 65, 61, 99, 38, 89, 86, 91, 68], 40: [46, 67, 69, 74, 17, 50]}"
      ]
     },
     "execution_count": 5,
     "metadata": {},
     "output_type": "execute_result"
    },
    {
     "name": "stdout",
     "output_type": "stream",
     "text": [
      "time: 3.35 ms (started: 2022-06-23 07:54:30 +00:00)\n"
     ]
    }
   ],
   "source": [
    "# Gruppen anzeigen\n",
    "grouped_altersklasse.groups"
   ]
  },
  {
   "cell_type": "code",
   "execution_count": 6,
   "metadata": {},
   "outputs": [
    {
     "name": "stdout",
     "output_type": "stream",
     "text": [
      "20 33\n",
      "30 61\n",
      "40 6\n",
      "time: 10.9 ms (started: 2022-06-23 07:54:30 +00:00)\n"
     ]
    }
   ],
   "source": [
    "# Gruppen iterieren\n",
    "for name, group in grouped_altersklasse:\n",
    "    print(name, len(group))"
   ]
  },
  {
   "cell_type": "code",
   "execution_count": 7,
   "metadata": {},
   "outputs": [
    {
     "data": {
      "text/html": [
       "<div>\n",
       "<style scoped>\n",
       "    .dataframe tbody tr th:only-of-type {\n",
       "        vertical-align: middle;\n",
       "    }\n",
       "\n",
       "    .dataframe tbody tr th {\n",
       "        vertical-align: top;\n",
       "    }\n",
       "\n",
       "    .dataframe thead th {\n",
       "        text-align: right;\n",
       "    }\n",
       "</style>\n",
       "<table border=\"1\" class=\"dataframe\">\n",
       "  <thead>\n",
       "    <tr style=\"text-align: right;\">\n",
       "      <th></th>\n",
       "      <th>altersklasse</th>\n",
       "      <th>alter</th>\n",
       "      <th>vorname</th>\n",
       "      <th>plz</th>\n",
       "      <th>geburtsstadt</th>\n",
       "      <th>passwort</th>\n",
       "      <th>merkmale</th>\n",
       "      <th>history</th>\n",
       "    </tr>\n",
       "  </thead>\n",
       "  <tbody>\n",
       "    <tr>\n",
       "      <th>33</th>\n",
       "      <td>20</td>\n",
       "      <td>20</td>\n",
       "      <td>Luise</td>\n",
       "      <td>12349</td>\n",
       "      <td>Bremen</td>\n",
       "      <td>sueZtu9</td>\n",
       "      <td>{1, K, Z, t}</td>\n",
       "      <td>[A, x]</td>\n",
       "    </tr>\n",
       "    <tr>\n",
       "      <th>23</th>\n",
       "      <td>20</td>\n",
       "      <td>21</td>\n",
       "      <td>Bettina</td>\n",
       "      <td>65173</td>\n",
       "      <td>Bremen</td>\n",
       "      <td>h2gmXdlR</td>\n",
       "      <td>{E}</td>\n",
       "      <td>[c, b, a]</td>\n",
       "    </tr>\n",
       "    <tr>\n",
       "      <th>60</th>\n",
       "      <td>20</td>\n",
       "      <td>22</td>\n",
       "      <td>Detlef</td>\n",
       "      <td>20558</td>\n",
       "      <td>Bremen</td>\n",
       "      <td>InPggz4e</td>\n",
       "      <td>{i, 0, t}</td>\n",
       "      <td>[]</td>\n",
       "    </tr>\n",
       "    <tr>\n",
       "      <th>70</th>\n",
       "      <td>20</td>\n",
       "      <td>22</td>\n",
       "      <td>Helga</td>\n",
       "      <td>17664</td>\n",
       "      <td>Berlin</td>\n",
       "      <td>ÖsVtbINx</td>\n",
       "      <td>{N, y, 4, G}</td>\n",
       "      <td>[b, b, a, b]</td>\n",
       "    </tr>\n",
       "    <tr>\n",
       "      <th>87</th>\n",
       "      <td>20</td>\n",
       "      <td>22</td>\n",
       "      <td>Helga</td>\n",
       "      <td>36893</td>\n",
       "      <td>&lt;NA&gt;</td>\n",
       "      <td>MRLN8geZJq</td>\n",
       "      <td>{b, a, 5, g, K}</td>\n",
       "      <td>[A, B, C]</td>\n",
       "    </tr>\n",
       "    <tr>\n",
       "      <th>24</th>\n",
       "      <td>20</td>\n",
       "      <td>23</td>\n",
       "      <td>Tim</td>\n",
       "      <td>77954</td>\n",
       "      <td>Berlin</td>\n",
       "      <td>kG5zRh</td>\n",
       "      <td>{D, P, 1, m}</td>\n",
       "      <td>[A, A, A]</td>\n",
       "    </tr>\n",
       "    <tr>\n",
       "      <th>21</th>\n",
       "      <td>20</td>\n",
       "      <td>24</td>\n",
       "      <td>Claudia</td>\n",
       "      <td>66954</td>\n",
       "      <td>Bremen</td>\n",
       "      <td>B2aFS8FW</td>\n",
       "      <td>{n, t}</td>\n",
       "      <td>[A, x]</td>\n",
       "    </tr>\n",
       "    <tr>\n",
       "      <th>7</th>\n",
       "      <td>20</td>\n",
       "      <td>24</td>\n",
       "      <td>Nikolas</td>\n",
       "      <td>29367</td>\n",
       "      <td>Berlin</td>\n",
       "      <td>DqoÜä4AXh</td>\n",
       "      <td>{n, T, c, h}</td>\n",
       "      <td>[a, b, c]</td>\n",
       "    </tr>\n",
       "    <tr>\n",
       "      <th>26</th>\n",
       "      <td>20</td>\n",
       "      <td>25</td>\n",
       "      <td>Christel</td>\n",
       "      <td>57493</td>\n",
       "      <td>Bremen</td>\n",
       "      <td>aku2ON3</td>\n",
       "      <td>{N}</td>\n",
       "      <td>[A, B, C]</td>\n",
       "    </tr>\n",
       "    <tr>\n",
       "      <th>90</th>\n",
       "      <td>20</td>\n",
       "      <td>25</td>\n",
       "      <td>Ingrid</td>\n",
       "      <td>62684</td>\n",
       "      <td>Bremen</td>\n",
       "      <td>üOIMi</td>\n",
       "      <td>{W, f, t}</td>\n",
       "      <td>[c, b, a]</td>\n",
       "    </tr>\n",
       "    <tr>\n",
       "      <th>29</th>\n",
       "      <td>20</td>\n",
       "      <td>25</td>\n",
       "      <td>Nicole</td>\n",
       "      <td>60857</td>\n",
       "      <td>Bremen</td>\n",
       "      <td>qkQÄ6H</td>\n",
       "      <td>{Y, 5, 0, m}</td>\n",
       "      <td>[A, B, C, C]</td>\n",
       "    </tr>\n",
       "    <tr>\n",
       "      <th>19</th>\n",
       "      <td>20</td>\n",
       "      <td>25</td>\n",
       "      <td>Tobias</td>\n",
       "      <td>17823</td>\n",
       "      <td>Bremen</td>\n",
       "      <td>ÜöTaav</td>\n",
       "      <td>{l, g}</td>\n",
       "      <td>[A, x]</td>\n",
       "    </tr>\n",
       "    <tr>\n",
       "      <th>51</th>\n",
       "      <td>20</td>\n",
       "      <td>26</td>\n",
       "      <td>Raphael</td>\n",
       "      <td>98049</td>\n",
       "      <td>Bremen</td>\n",
       "      <td>q8uQawWHN</td>\n",
       "      <td>{2, 5, 4}</td>\n",
       "      <td>[c, b, a]</td>\n",
       "    </tr>\n",
       "    <tr>\n",
       "      <th>12</th>\n",
       "      <td>20</td>\n",
       "      <td>26</td>\n",
       "      <td>Till</td>\n",
       "      <td>86927</td>\n",
       "      <td>Berlin</td>\n",
       "      <td>PUWgG</td>\n",
       "      <td>{z, G}</td>\n",
       "      <td>[A, A, A]</td>\n",
       "    </tr>\n",
       "    <tr>\n",
       "      <th>75</th>\n",
       "      <td>20</td>\n",
       "      <td>26</td>\n",
       "      <td>Till</td>\n",
       "      <td>59432</td>\n",
       "      <td>Bremen</td>\n",
       "      <td>fx9hRE</td>\n",
       "      <td>{c, f}</td>\n",
       "      <td>[c, b, a]</td>\n",
       "    </tr>\n",
       "    <tr>\n",
       "      <th>22</th>\n",
       "      <td>20</td>\n",
       "      <td>27</td>\n",
       "      <td>Alexander</td>\n",
       "      <td>40404</td>\n",
       "      <td>Berlin</td>\n",
       "      <td>HKntZQ</td>\n",
       "      <td>{v, T, 2, p, X}</td>\n",
       "      <td>[A, C, C, B]</td>\n",
       "    </tr>\n",
       "    <tr>\n",
       "      <th>57</th>\n",
       "      <td>20</td>\n",
       "      <td>27</td>\n",
       "      <td>Helga</td>\n",
       "      <td>93811</td>\n",
       "      <td>Bremen</td>\n",
       "      <td>ACGeDy1</td>\n",
       "      <td>{F, G, n, S, y}</td>\n",
       "      <td>[A, C, C, B]</td>\n",
       "    </tr>\n",
       "    <tr>\n",
       "      <th>92</th>\n",
       "      <td>20</td>\n",
       "      <td>27</td>\n",
       "      <td>Ingrid</td>\n",
       "      <td>85024</td>\n",
       "      <td>&lt;NA&gt;</td>\n",
       "      <td>dlYbGuYNj</td>\n",
       "      <td>{E, l}</td>\n",
       "      <td>[]</td>\n",
       "    </tr>\n",
       "    <tr>\n",
       "      <th>73</th>\n",
       "      <td>20</td>\n",
       "      <td>27</td>\n",
       "      <td>Lilly</td>\n",
       "      <td>93811</td>\n",
       "      <td>Bremen</td>\n",
       "      <td>hjläxGuLk</td>\n",
       "      <td>{H, g}</td>\n",
       "      <td>[A, A, A]</td>\n",
       "    </tr>\n",
       "    <tr>\n",
       "      <th>79</th>\n",
       "      <td>20</td>\n",
       "      <td>27</td>\n",
       "      <td>Maurice</td>\n",
       "      <td>98049</td>\n",
       "      <td>&lt;NA&gt;</td>\n",
       "      <td>UYLjV4f</td>\n",
       "      <td>{U, X, l, S}</td>\n",
       "      <td>[A, A, A]</td>\n",
       "    </tr>\n",
       "    <tr>\n",
       "      <th>32</th>\n",
       "      <td>20</td>\n",
       "      <td>27</td>\n",
       "      <td>Niklas</td>\n",
       "      <td>51121</td>\n",
       "      <td>&lt;NA&gt;</td>\n",
       "      <td>P5xd1XyWP</td>\n",
       "      <td>{E, l, m}</td>\n",
       "      <td>[A, C, C, B]</td>\n",
       "    </tr>\n",
       "    <tr>\n",
       "      <th>64</th>\n",
       "      <td>20</td>\n",
       "      <td>27</td>\n",
       "      <td>Yannic</td>\n",
       "      <td>&lt;NA&gt;</td>\n",
       "      <td>Bremen</td>\n",
       "      <td>51PReoha</td>\n",
       "      <td>{V, y}</td>\n",
       "      <td>[b, b, a, b]</td>\n",
       "    </tr>\n",
       "    <tr>\n",
       "      <th>81</th>\n",
       "      <td>20</td>\n",
       "      <td>28</td>\n",
       "      <td>Alexander</td>\n",
       "      <td>36514</td>\n",
       "      <td>&lt;NA&gt;</td>\n",
       "      <td>OHXySJX6äo</td>\n",
       "      <td>{x}</td>\n",
       "      <td>[A, B, C]</td>\n",
       "    </tr>\n",
       "    <tr>\n",
       "      <th>53</th>\n",
       "      <td>20</td>\n",
       "      <td>28</td>\n",
       "      <td>Christa</td>\n",
       "      <td>99904</td>\n",
       "      <td>Berlin</td>\n",
       "      <td>guaQTIaJ</td>\n",
       "      <td>{Z, h, d, t}</td>\n",
       "      <td>[]</td>\n",
       "    </tr>\n",
       "    <tr>\n",
       "      <th>8</th>\n",
       "      <td>20</td>\n",
       "      <td>28</td>\n",
       "      <td>Fiona</td>\n",
       "      <td>91514</td>\n",
       "      <td>Berlin</td>\n",
       "      <td>2zzV8jlNsk</td>\n",
       "      <td>{M}</td>\n",
       "      <td>[A, A, A]</td>\n",
       "    </tr>\n",
       "    <tr>\n",
       "      <th>41</th>\n",
       "      <td>20</td>\n",
       "      <td>28</td>\n",
       "      <td>Katja</td>\n",
       "      <td>60214</td>\n",
       "      <td>Berlin</td>\n",
       "      <td>vo6UOy3</td>\n",
       "      <td>{o, t}</td>\n",
       "      <td>[A, A, A]</td>\n",
       "    </tr>\n",
       "    <tr>\n",
       "      <th>97</th>\n",
       "      <td>20</td>\n",
       "      <td>28</td>\n",
       "      <td>Michelle</td>\n",
       "      <td>&lt;NA&gt;</td>\n",
       "      <td>Bremen</td>\n",
       "      <td>culHkbFU</td>\n",
       "      <td>{r, B}</td>\n",
       "      <td>[A, C, C, B]</td>\n",
       "    </tr>\n",
       "    <tr>\n",
       "      <th>5</th>\n",
       "      <td>20</td>\n",
       "      <td>28</td>\n",
       "      <td>Tom</td>\n",
       "      <td>88095</td>\n",
       "      <td>Bremen</td>\n",
       "      <td>pKvüEPW3Hb</td>\n",
       "      <td>{P, p, t}</td>\n",
       "      <td>[c, b, a]</td>\n",
       "    </tr>\n",
       "    <tr>\n",
       "      <th>27</th>\n",
       "      <td>20</td>\n",
       "      <td>29</td>\n",
       "      <td>Ingeborg</td>\n",
       "      <td>64075</td>\n",
       "      <td>Berlin</td>\n",
       "      <td>qEf2bAs</td>\n",
       "      <td>{A, q}</td>\n",
       "      <td>[A, x]</td>\n",
       "    </tr>\n",
       "    <tr>\n",
       "      <th>76</th>\n",
       "      <td>20</td>\n",
       "      <td>29</td>\n",
       "      <td>Steffen</td>\n",
       "      <td>36514</td>\n",
       "      <td>Bremen</td>\n",
       "      <td>6LpIq</td>\n",
       "      <td>{g}</td>\n",
       "      <td>[A, A, A]</td>\n",
       "    </tr>\n",
       "    <tr>\n",
       "      <th>85</th>\n",
       "      <td>20</td>\n",
       "      <td>29</td>\n",
       "      <td>Till</td>\n",
       "      <td>56043</td>\n",
       "      <td>Berlin</td>\n",
       "      <td>ÜD24ü</td>\n",
       "      <td>{N}</td>\n",
       "      <td>[A, A, A]</td>\n",
       "    </tr>\n",
       "    <tr>\n",
       "      <th>98</th>\n",
       "      <td>20</td>\n",
       "      <td>29</td>\n",
       "      <td>Tim</td>\n",
       "      <td>57987</td>\n",
       "      <td>Bremen</td>\n",
       "      <td>9bOÖDpp</td>\n",
       "      <td>{J}</td>\n",
       "      <td>[b, b, a, b]</td>\n",
       "    </tr>\n",
       "    <tr>\n",
       "      <th>40</th>\n",
       "      <td>20</td>\n",
       "      <td>29</td>\n",
       "      <td>Torsten</td>\n",
       "      <td>72637</td>\n",
       "      <td>Berlin</td>\n",
       "      <td>öxÜüü</td>\n",
       "      <td>{Z, t, P, L, S}</td>\n",
       "      <td>[b, b, a, b]</td>\n",
       "    </tr>\n",
       "  </tbody>\n",
       "</table>\n",
       "</div>"
      ],
      "text/plain": [
       "    altersklasse  alter    vorname    plz geburtsstadt    passwort  \\\n",
       "33            20     20      Luise  12349       Bremen     sueZtu9   \n",
       "23            20     21    Bettina  65173       Bremen    h2gmXdlR   \n",
       "60            20     22     Detlef  20558       Bremen    InPggz4e   \n",
       "70            20     22      Helga  17664       Berlin    ÖsVtbINx   \n",
       "87            20     22      Helga  36893         <NA>  MRLN8geZJq   \n",
       "24            20     23        Tim  77954       Berlin      kG5zRh   \n",
       "21            20     24    Claudia  66954       Bremen    B2aFS8FW   \n",
       "7             20     24    Nikolas  29367       Berlin   DqoÜä4AXh   \n",
       "26            20     25   Christel  57493       Bremen     aku2ON3   \n",
       "90            20     25     Ingrid  62684       Bremen       üOIMi   \n",
       "29            20     25     Nicole  60857       Bremen      qkQÄ6H   \n",
       "19            20     25     Tobias  17823       Bremen      ÜöTaav   \n",
       "51            20     26    Raphael  98049       Bremen   q8uQawWHN   \n",
       "12            20     26       Till  86927       Berlin       PUWgG   \n",
       "75            20     26       Till  59432       Bremen      fx9hRE   \n",
       "22            20     27  Alexander  40404       Berlin      HKntZQ   \n",
       "57            20     27      Helga  93811       Bremen     ACGeDy1   \n",
       "92            20     27     Ingrid  85024         <NA>   dlYbGuYNj   \n",
       "73            20     27      Lilly  93811       Bremen   hjläxGuLk   \n",
       "79            20     27    Maurice  98049         <NA>     UYLjV4f   \n",
       "32            20     27     Niklas  51121         <NA>   P5xd1XyWP   \n",
       "64            20     27     Yannic   <NA>       Bremen    51PReoha   \n",
       "81            20     28  Alexander  36514         <NA>  OHXySJX6äo   \n",
       "53            20     28    Christa  99904       Berlin    guaQTIaJ   \n",
       "8             20     28      Fiona  91514       Berlin  2zzV8jlNsk   \n",
       "41            20     28      Katja  60214       Berlin     vo6UOy3   \n",
       "97            20     28   Michelle   <NA>       Bremen    culHkbFU   \n",
       "5             20     28        Tom  88095       Bremen  pKvüEPW3Hb   \n",
       "27            20     29   Ingeborg  64075       Berlin     qEf2bAs   \n",
       "76            20     29    Steffen  36514       Bremen       6LpIq   \n",
       "85            20     29       Till  56043       Berlin       ÜD24ü   \n",
       "98            20     29        Tim  57987       Bremen     9bOÖDpp   \n",
       "40            20     29    Torsten  72637       Berlin       öxÜüü   \n",
       "\n",
       "           merkmale       history  \n",
       "33     {1, K, Z, t}        [A, x]  \n",
       "23              {E}     [c, b, a]  \n",
       "60        {i, 0, t}            []  \n",
       "70     {N, y, 4, G}  [b, b, a, b]  \n",
       "87  {b, a, 5, g, K}     [A, B, C]  \n",
       "24     {D, P, 1, m}     [A, A, A]  \n",
       "21           {n, t}        [A, x]  \n",
       "7      {n, T, c, h}     [a, b, c]  \n",
       "26              {N}     [A, B, C]  \n",
       "90        {W, f, t}     [c, b, a]  \n",
       "29     {Y, 5, 0, m}  [A, B, C, C]  \n",
       "19           {l, g}        [A, x]  \n",
       "51        {2, 5, 4}     [c, b, a]  \n",
       "12           {z, G}     [A, A, A]  \n",
       "75           {c, f}     [c, b, a]  \n",
       "22  {v, T, 2, p, X}  [A, C, C, B]  \n",
       "57  {F, G, n, S, y}  [A, C, C, B]  \n",
       "92           {E, l}            []  \n",
       "73           {H, g}     [A, A, A]  \n",
       "79     {U, X, l, S}     [A, A, A]  \n",
       "32        {E, l, m}  [A, C, C, B]  \n",
       "64           {V, y}  [b, b, a, b]  \n",
       "81              {x}     [A, B, C]  \n",
       "53     {Z, h, d, t}            []  \n",
       "8               {M}     [A, A, A]  \n",
       "41           {o, t}     [A, A, A]  \n",
       "97           {r, B}  [A, C, C, B]  \n",
       "5         {P, p, t}     [c, b, a]  \n",
       "27           {A, q}        [A, x]  \n",
       "76              {g}     [A, A, A]  \n",
       "85              {N}     [A, A, A]  \n",
       "98              {J}  [b, b, a, b]  \n",
       "40  {Z, t, P, L, S}  [b, b, a, b]  "
      ]
     },
     "execution_count": 7,
     "metadata": {},
     "output_type": "execute_result"
    },
    {
     "name": "stdout",
     "output_type": "stream",
     "text": [
      "time: 34.6 ms (started: 2022-06-23 07:54:30 +00:00)\n"
     ]
    }
   ],
   "source": [
    "# Einzelne Gruppe selektieren\n",
    "# wirkt wie eine Maske\n",
    "grouped_altersklasse.get_group(20)"
   ]
  },
  {
   "cell_type": "markdown",
   "metadata": {},
   "source": [
    "## Aggregatfunktionen\n",
    "Liste von Aggregatfunktionen: https://www.shanelynn.ie/summarising-aggregation-and-grouping-data-in-python-pandas/"
   ]
  },
  {
   "cell_type": "code",
   "execution_count": 8,
   "metadata": {},
   "outputs": [
    {
     "data": {
      "text/plain": [
       "altersklasse\n",
       "20    [20, 21, 22, 22, 22, 23, 24, 24, 25, 25, 25, 2...\n",
       "30    [30, 30, 30, 30, 30, 30, 30, 30, 30, 30, 31, 3...\n",
       "40                             [40, 41, 41, 41, 41, 42]\n",
       "Name: alter, dtype: object"
      ]
     },
     "execution_count": 8,
     "metadata": {},
     "output_type": "execute_result"
    },
    {
     "name": "stdout",
     "output_type": "stream",
     "text": [
      "time: 4.59 ms (started: 2022-06-23 07:54:30 +00:00)\n"
     ]
    }
   ],
   "source": [
    "s = grouped_altersklasse['alter'].apply(list)\n",
    "s"
   ]
  },
  {
   "cell_type": "markdown",
   "metadata": {},
   "source": [
    "### Mittelwert"
   ]
  },
  {
   "cell_type": "code",
   "execution_count": 9,
   "metadata": {},
   "outputs": [
    {
     "data": {
      "text/html": [
       "<div>\n",
       "<style scoped>\n",
       "    .dataframe tbody tr th:only-of-type {\n",
       "        vertical-align: middle;\n",
       "    }\n",
       "\n",
       "    .dataframe tbody tr th {\n",
       "        vertical-align: top;\n",
       "    }\n",
       "\n",
       "    .dataframe thead th {\n",
       "        text-align: right;\n",
       "    }\n",
       "</style>\n",
       "<table border=\"1\" class=\"dataframe\">\n",
       "  <thead>\n",
       "    <tr style=\"text-align: right;\">\n",
       "      <th></th>\n",
       "      <th>alter</th>\n",
       "      <th>plz</th>\n",
       "    </tr>\n",
       "    <tr>\n",
       "      <th>altersklasse</th>\n",
       "      <th></th>\n",
       "      <th></th>\n",
       "    </tr>\n",
       "  </thead>\n",
       "  <tbody>\n",
       "    <tr>\n",
       "      <th>20</th>\n",
       "      <td>26.0</td>\n",
       "      <td>61157.870968</td>\n",
       "    </tr>\n",
       "    <tr>\n",
       "      <th>30</th>\n",
       "      <td>34.163934</td>\n",
       "      <td>59802.818182</td>\n",
       "    </tr>\n",
       "    <tr>\n",
       "      <th>40</th>\n",
       "      <td>41.0</td>\n",
       "      <td>76354.833333</td>\n",
       "    </tr>\n",
       "  </tbody>\n",
       "</table>\n",
       "</div>"
      ],
      "text/plain": [
       "                  alter           plz\n",
       "altersklasse                         \n",
       "20                 26.0  61157.870968\n",
       "30            34.163934  59802.818182\n",
       "40                 41.0  76354.833333"
      ]
     },
     "execution_count": 9,
     "metadata": {},
     "output_type": "execute_result"
    },
    {
     "name": "stdout",
     "output_type": "stream",
     "text": [
      "time: 59.4 ms (started: 2022-06-23 07:54:30 +00:00)\n"
     ]
    }
   ],
   "source": [
    "grouped_altersklasse.mean()"
   ]
  },
  {
   "cell_type": "code",
   "execution_count": 10,
   "metadata": {},
   "outputs": [
    {
     "data": {
      "text/plain": [
       "altersklasse\n",
       "20         26.0\n",
       "30    34.163934\n",
       "40         41.0\n",
       "Name: alter, dtype: Float64"
      ]
     },
     "execution_count": 10,
     "metadata": {},
     "output_type": "execute_result"
    },
    {
     "name": "stdout",
     "output_type": "stream",
     "text": [
      "time: 2.77 ms (started: 2022-06-23 07:54:30 +00:00)\n"
     ]
    }
   ],
   "source": [
    "grouped_altersklasse['alter'].mean()"
   ]
  },
  {
   "cell_type": "markdown",
   "metadata": {},
   "source": [
    "### Häufigkeiten\n",
    "\n",
    "* https://stackoverflow.com/questions/22391433/count-the-frequency-that-a-value-occurs-in-a-dataframe-column"
   ]
  },
  {
   "cell_type": "code",
   "execution_count": 11,
   "metadata": {},
   "outputs": [
    {
     "data": {
      "text/plain": [
       "altersklasse\n",
       "20    33\n",
       "30    61\n",
       "40     6\n",
       "Name: alter, dtype: int64"
      ]
     },
     "execution_count": 11,
     "metadata": {},
     "output_type": "execute_result"
    },
    {
     "name": "stdout",
     "output_type": "stream",
     "text": [
      "time: 2.66 ms (started: 2022-06-23 07:54:30 +00:00)\n"
     ]
    }
   ],
   "source": [
    "grouped_altersklasse['alter'].count()"
   ]
  },
  {
   "cell_type": "code",
   "execution_count": 12,
   "metadata": {},
   "outputs": [
    {
     "name": "stdout",
     "output_type": "stream",
     "text": [
      "100 Datensätze\n"
     ]
    },
    {
     "data": {
      "text/html": [
       "\n",
       "        <iframe\n",
       "            width=\"100%\"\n",
       "            height=\"475\"\n",
       "            src=\"http://me-Mint:40002/dtale/iframe/2\"\n",
       "            frameborder=\"0\"\n",
       "            allowfullscreen\n",
       "            \n",
       "        ></iframe>\n",
       "        "
      ],
      "text/plain": [
       "<IPython.lib.display.IFrame at 0x7f57440dfdf0>"
      ]
     },
     "metadata": {},
     "output_type": "display_data"
    },
    {
     "data": {
      "text/plain": []
     },
     "execution_count": 12,
     "metadata": {},
     "output_type": "execute_result"
    },
    {
     "name": "stdout",
     "output_type": "stream",
     "text": [
      "time: 32.6 ms (started: 2022-06-23 07:54:30 +00:00)\n"
     ]
    }
   ],
   "source": [
    "grid(df)"
   ]
  },
  {
   "cell_type": "code",
   "execution_count": 13,
   "metadata": {},
   "outputs": [
    {
     "data": {
      "text/html": [
       "<div>\n",
       "<style scoped>\n",
       "    .dataframe tbody tr th:only-of-type {\n",
       "        vertical-align: middle;\n",
       "    }\n",
       "\n",
       "    .dataframe tbody tr th {\n",
       "        vertical-align: top;\n",
       "    }\n",
       "\n",
       "    .dataframe thead th {\n",
       "        text-align: right;\n",
       "    }\n",
       "</style>\n",
       "<table border=\"1\" class=\"dataframe\">\n",
       "  <thead>\n",
       "    <tr style=\"text-align: right;\">\n",
       "      <th></th>\n",
       "      <th>altersklasse</th>\n",
       "      <th>vorname</th>\n",
       "      <th>plz</th>\n",
       "      <th>geburtsstadt</th>\n",
       "      <th>passwort</th>\n",
       "      <th>merkmale</th>\n",
       "      <th>history</th>\n",
       "    </tr>\n",
       "    <tr>\n",
       "      <th>alter</th>\n",
       "      <th></th>\n",
       "      <th></th>\n",
       "      <th></th>\n",
       "      <th></th>\n",
       "      <th></th>\n",
       "      <th></th>\n",
       "      <th></th>\n",
       "    </tr>\n",
       "  </thead>\n",
       "  <tbody>\n",
       "    <tr>\n",
       "      <th>20</th>\n",
       "      <td>1</td>\n",
       "      <td>1</td>\n",
       "      <td>1</td>\n",
       "      <td>1</td>\n",
       "      <td>1</td>\n",
       "      <td>1</td>\n",
       "      <td>1</td>\n",
       "    </tr>\n",
       "    <tr>\n",
       "      <th>21</th>\n",
       "      <td>1</td>\n",
       "      <td>1</td>\n",
       "      <td>1</td>\n",
       "      <td>1</td>\n",
       "      <td>1</td>\n",
       "      <td>1</td>\n",
       "      <td>1</td>\n",
       "    </tr>\n",
       "    <tr>\n",
       "      <th>22</th>\n",
       "      <td>3</td>\n",
       "      <td>3</td>\n",
       "      <td>3</td>\n",
       "      <td>2</td>\n",
       "      <td>3</td>\n",
       "      <td>3</td>\n",
       "      <td>3</td>\n",
       "    </tr>\n",
       "    <tr>\n",
       "      <th>23</th>\n",
       "      <td>1</td>\n",
       "      <td>1</td>\n",
       "      <td>1</td>\n",
       "      <td>1</td>\n",
       "      <td>1</td>\n",
       "      <td>1</td>\n",
       "      <td>1</td>\n",
       "    </tr>\n",
       "    <tr>\n",
       "      <th>24</th>\n",
       "      <td>2</td>\n",
       "      <td>2</td>\n",
       "      <td>2</td>\n",
       "      <td>2</td>\n",
       "      <td>2</td>\n",
       "      <td>2</td>\n",
       "      <td>2</td>\n",
       "    </tr>\n",
       "    <tr>\n",
       "      <th>25</th>\n",
       "      <td>4</td>\n",
       "      <td>4</td>\n",
       "      <td>4</td>\n",
       "      <td>4</td>\n",
       "      <td>4</td>\n",
       "      <td>4</td>\n",
       "      <td>4</td>\n",
       "    </tr>\n",
       "    <tr>\n",
       "      <th>26</th>\n",
       "      <td>3</td>\n",
       "      <td>3</td>\n",
       "      <td>3</td>\n",
       "      <td>3</td>\n",
       "      <td>3</td>\n",
       "      <td>3</td>\n",
       "      <td>3</td>\n",
       "    </tr>\n",
       "    <tr>\n",
       "      <th>27</th>\n",
       "      <td>7</td>\n",
       "      <td>7</td>\n",
       "      <td>6</td>\n",
       "      <td>4</td>\n",
       "      <td>7</td>\n",
       "      <td>7</td>\n",
       "      <td>7</td>\n",
       "    </tr>\n",
       "    <tr>\n",
       "      <th>28</th>\n",
       "      <td>6</td>\n",
       "      <td>6</td>\n",
       "      <td>5</td>\n",
       "      <td>5</td>\n",
       "      <td>6</td>\n",
       "      <td>6</td>\n",
       "      <td>6</td>\n",
       "    </tr>\n",
       "    <tr>\n",
       "      <th>29</th>\n",
       "      <td>5</td>\n",
       "      <td>5</td>\n",
       "      <td>5</td>\n",
       "      <td>5</td>\n",
       "      <td>5</td>\n",
       "      <td>5</td>\n",
       "      <td>5</td>\n",
       "    </tr>\n",
       "    <tr>\n",
       "      <th>30</th>\n",
       "      <td>10</td>\n",
       "      <td>10</td>\n",
       "      <td>10</td>\n",
       "      <td>8</td>\n",
       "      <td>10</td>\n",
       "      <td>10</td>\n",
       "      <td>10</td>\n",
       "    </tr>\n",
       "    <tr>\n",
       "      <th>31</th>\n",
       "      <td>3</td>\n",
       "      <td>3</td>\n",
       "      <td>3</td>\n",
       "      <td>2</td>\n",
       "      <td>3</td>\n",
       "      <td>3</td>\n",
       "      <td>3</td>\n",
       "    </tr>\n",
       "    <tr>\n",
       "      <th>32</th>\n",
       "      <td>8</td>\n",
       "      <td>8</td>\n",
       "      <td>6</td>\n",
       "      <td>5</td>\n",
       "      <td>8</td>\n",
       "      <td>8</td>\n",
       "      <td>8</td>\n",
       "    </tr>\n",
       "    <tr>\n",
       "      <th>33</th>\n",
       "      <td>5</td>\n",
       "      <td>5</td>\n",
       "      <td>5</td>\n",
       "      <td>5</td>\n",
       "      <td>5</td>\n",
       "      <td>5</td>\n",
       "      <td>5</td>\n",
       "    </tr>\n",
       "    <tr>\n",
       "      <th>34</th>\n",
       "      <td>6</td>\n",
       "      <td>6</td>\n",
       "      <td>5</td>\n",
       "      <td>6</td>\n",
       "      <td>6</td>\n",
       "      <td>6</td>\n",
       "      <td>6</td>\n",
       "    </tr>\n",
       "    <tr>\n",
       "      <th>35</th>\n",
       "      <td>8</td>\n",
       "      <td>8</td>\n",
       "      <td>6</td>\n",
       "      <td>7</td>\n",
       "      <td>8</td>\n",
       "      <td>8</td>\n",
       "      <td>8</td>\n",
       "    </tr>\n",
       "    <tr>\n",
       "      <th>36</th>\n",
       "      <td>3</td>\n",
       "      <td>3</td>\n",
       "      <td>3</td>\n",
       "      <td>1</td>\n",
       "      <td>3</td>\n",
       "      <td>3</td>\n",
       "      <td>3</td>\n",
       "    </tr>\n",
       "    <tr>\n",
       "      <th>37</th>\n",
       "      <td>10</td>\n",
       "      <td>10</td>\n",
       "      <td>9</td>\n",
       "      <td>9</td>\n",
       "      <td>10</td>\n",
       "      <td>10</td>\n",
       "      <td>10</td>\n",
       "    </tr>\n",
       "    <tr>\n",
       "      <th>38</th>\n",
       "      <td>4</td>\n",
       "      <td>4</td>\n",
       "      <td>4</td>\n",
       "      <td>0</td>\n",
       "      <td>4</td>\n",
       "      <td>4</td>\n",
       "      <td>4</td>\n",
       "    </tr>\n",
       "    <tr>\n",
       "      <th>39</th>\n",
       "      <td>4</td>\n",
       "      <td>4</td>\n",
       "      <td>4</td>\n",
       "      <td>1</td>\n",
       "      <td>4</td>\n",
       "      <td>4</td>\n",
       "      <td>4</td>\n",
       "    </tr>\n",
       "    <tr>\n",
       "      <th>40</th>\n",
       "      <td>1</td>\n",
       "      <td>1</td>\n",
       "      <td>1</td>\n",
       "      <td>1</td>\n",
       "      <td>1</td>\n",
       "      <td>1</td>\n",
       "      <td>1</td>\n",
       "    </tr>\n",
       "    <tr>\n",
       "      <th>41</th>\n",
       "      <td>4</td>\n",
       "      <td>4</td>\n",
       "      <td>4</td>\n",
       "      <td>4</td>\n",
       "      <td>4</td>\n",
       "      <td>4</td>\n",
       "      <td>4</td>\n",
       "    </tr>\n",
       "    <tr>\n",
       "      <th>42</th>\n",
       "      <td>1</td>\n",
       "      <td>1</td>\n",
       "      <td>1</td>\n",
       "      <td>0</td>\n",
       "      <td>1</td>\n",
       "      <td>1</td>\n",
       "      <td>1</td>\n",
       "    </tr>\n",
       "  </tbody>\n",
       "</table>\n",
       "</div>"
      ],
      "text/plain": [
       "       altersklasse  vorname  plz  geburtsstadt  passwort  merkmale  history\n",
       "alter                                                                       \n",
       "20                1        1    1             1         1         1        1\n",
       "21                1        1    1             1         1         1        1\n",
       "22                3        3    3             2         3         3        3\n",
       "23                1        1    1             1         1         1        1\n",
       "24                2        2    2             2         2         2        2\n",
       "25                4        4    4             4         4         4        4\n",
       "26                3        3    3             3         3         3        3\n",
       "27                7        7    6             4         7         7        7\n",
       "28                6        6    5             5         6         6        6\n",
       "29                5        5    5             5         5         5        5\n",
       "30               10       10   10             8        10        10       10\n",
       "31                3        3    3             2         3         3        3\n",
       "32                8        8    6             5         8         8        8\n",
       "33                5        5    5             5         5         5        5\n",
       "34                6        6    5             6         6         6        6\n",
       "35                8        8    6             7         8         8        8\n",
       "36                3        3    3             1         3         3        3\n",
       "37               10       10    9             9        10        10       10\n",
       "38                4        4    4             0         4         4        4\n",
       "39                4        4    4             1         4         4        4\n",
       "40                1        1    1             1         1         1        1\n",
       "41                4        4    4             4         4         4        4\n",
       "42                1        1    1             0         1         1        1"
      ]
     },
     "execution_count": 13,
     "metadata": {},
     "output_type": "execute_result"
    },
    {
     "name": "stdout",
     "output_type": "stream",
     "text": [
      "time: 8.48 ms (started: 2022-06-23 07:54:30 +00:00)\n"
     ]
    }
   ],
   "source": [
    "df.groupby(['alter']).count() # siehe auch size()"
   ]
  },
  {
   "cell_type": "code",
   "execution_count": 14,
   "metadata": {},
   "outputs": [
    {
     "data": {
      "text/html": [
       "<div>\n",
       "<style scoped>\n",
       "    .dataframe tbody tr th:only-of-type {\n",
       "        vertical-align: middle;\n",
       "    }\n",
       "\n",
       "    .dataframe tbody tr th {\n",
       "        vertical-align: top;\n",
       "    }\n",
       "\n",
       "    .dataframe thead th {\n",
       "        text-align: right;\n",
       "    }\n",
       "</style>\n",
       "<table border=\"1\" class=\"dataframe\">\n",
       "  <thead>\n",
       "    <tr style=\"text-align: right;\">\n",
       "      <th></th>\n",
       "      <th>alter</th>\n",
       "      <th>plz</th>\n",
       "      <th>altersklasse</th>\n",
       "      <th>vorname</th>\n",
       "      <th>geburtsstadt</th>\n",
       "      <th>passwort</th>\n",
       "      <th>merkmale</th>\n",
       "      <th>history</th>\n",
       "    </tr>\n",
       "  </thead>\n",
       "  <tbody>\n",
       "    <tr>\n",
       "      <th>0</th>\n",
       "      <td>20</td>\n",
       "      <td>12349</td>\n",
       "      <td>1</td>\n",
       "      <td>1</td>\n",
       "      <td>1</td>\n",
       "      <td>1</td>\n",
       "      <td>1</td>\n",
       "      <td>1</td>\n",
       "    </tr>\n",
       "    <tr>\n",
       "      <th>1</th>\n",
       "      <td>21</td>\n",
       "      <td>65173</td>\n",
       "      <td>1</td>\n",
       "      <td>1</td>\n",
       "      <td>1</td>\n",
       "      <td>1</td>\n",
       "      <td>1</td>\n",
       "      <td>1</td>\n",
       "    </tr>\n",
       "    <tr>\n",
       "      <th>2</th>\n",
       "      <td>22</td>\n",
       "      <td>17664</td>\n",
       "      <td>1</td>\n",
       "      <td>1</td>\n",
       "      <td>1</td>\n",
       "      <td>1</td>\n",
       "      <td>1</td>\n",
       "      <td>1</td>\n",
       "    </tr>\n",
       "    <tr>\n",
       "      <th>3</th>\n",
       "      <td>22</td>\n",
       "      <td>20558</td>\n",
       "      <td>1</td>\n",
       "      <td>1</td>\n",
       "      <td>1</td>\n",
       "      <td>1</td>\n",
       "      <td>1</td>\n",
       "      <td>1</td>\n",
       "    </tr>\n",
       "    <tr>\n",
       "      <th>4</th>\n",
       "      <td>22</td>\n",
       "      <td>36893</td>\n",
       "      <td>1</td>\n",
       "      <td>1</td>\n",
       "      <td>0</td>\n",
       "      <td>1</td>\n",
       "      <td>1</td>\n",
       "      <td>1</td>\n",
       "    </tr>\n",
       "    <tr>\n",
       "      <th>...</th>\n",
       "      <td>...</td>\n",
       "      <td>...</td>\n",
       "      <td>...</td>\n",
       "      <td>...</td>\n",
       "      <td>...</td>\n",
       "      <td>...</td>\n",
       "      <td>...</td>\n",
       "      <td>...</td>\n",
       "    </tr>\n",
       "    <tr>\n",
       "      <th>86</th>\n",
       "      <td>41</td>\n",
       "      <td>46514</td>\n",
       "      <td>1</td>\n",
       "      <td>1</td>\n",
       "      <td>1</td>\n",
       "      <td>1</td>\n",
       "      <td>1</td>\n",
       "      <td>1</td>\n",
       "    </tr>\n",
       "    <tr>\n",
       "      <th>87</th>\n",
       "      <td>41</td>\n",
       "      <td>57346</td>\n",
       "      <td>1</td>\n",
       "      <td>1</td>\n",
       "      <td>1</td>\n",
       "      <td>1</td>\n",
       "      <td>1</td>\n",
       "      <td>1</td>\n",
       "    </tr>\n",
       "    <tr>\n",
       "      <th>88</th>\n",
       "      <td>41</td>\n",
       "      <td>85024</td>\n",
       "      <td>1</td>\n",
       "      <td>1</td>\n",
       "      <td>1</td>\n",
       "      <td>1</td>\n",
       "      <td>1</td>\n",
       "      <td>1</td>\n",
       "    </tr>\n",
       "    <tr>\n",
       "      <th>89</th>\n",
       "      <td>41</td>\n",
       "      <td>88487</td>\n",
       "      <td>1</td>\n",
       "      <td>1</td>\n",
       "      <td>1</td>\n",
       "      <td>1</td>\n",
       "      <td>1</td>\n",
       "      <td>1</td>\n",
       "    </tr>\n",
       "    <tr>\n",
       "      <th>90</th>\n",
       "      <td>42</td>\n",
       "      <td>98053</td>\n",
       "      <td>1</td>\n",
       "      <td>1</td>\n",
       "      <td>0</td>\n",
       "      <td>1</td>\n",
       "      <td>1</td>\n",
       "      <td>1</td>\n",
       "    </tr>\n",
       "  </tbody>\n",
       "</table>\n",
       "<p>91 rows × 8 columns</p>\n",
       "</div>"
      ],
      "text/plain": [
       "    alter    plz  altersklasse  vorname  geburtsstadt  passwort  merkmale  \\\n",
       "0      20  12349             1        1             1         1         1   \n",
       "1      21  65173             1        1             1         1         1   \n",
       "2      22  17664             1        1             1         1         1   \n",
       "3      22  20558             1        1             1         1         1   \n",
       "4      22  36893             1        1             0         1         1   \n",
       "..    ...    ...           ...      ...           ...       ...       ...   \n",
       "86     41  46514             1        1             1         1         1   \n",
       "87     41  57346             1        1             1         1         1   \n",
       "88     41  85024             1        1             1         1         1   \n",
       "89     41  88487             1        1             1         1         1   \n",
       "90     42  98053             1        1             0         1         1   \n",
       "\n",
       "    history  \n",
       "0         1  \n",
       "1         1  \n",
       "2         1  \n",
       "3         1  \n",
       "4         1  \n",
       "..      ...  \n",
       "86        1  \n",
       "87        1  \n",
       "88        1  \n",
       "89        1  \n",
       "90        1  \n",
       "\n",
       "[91 rows x 8 columns]"
      ]
     },
     "execution_count": 14,
     "metadata": {},
     "output_type": "execute_result"
    },
    {
     "name": "stdout",
     "output_type": "stream",
     "text": [
      "time: 10.7 ms (started: 2022-06-23 07:54:30 +00:00)\n"
     ]
    }
   ],
   "source": [
    "df.groupby(['alter','plz'], as_index=False).count() # siehe auch size()"
   ]
  },
  {
   "cell_type": "code",
   "execution_count": 15,
   "metadata": {},
   "outputs": [
    {
     "data": {
      "text/plain": [
       "alter  plz  \n",
       "20     12349    1\n",
       "21     65173    1\n",
       "22     17664    1\n",
       "       20558    1\n",
       "       36893    1\n",
       "               ..\n",
       "41     46514    1\n",
       "       57346    1\n",
       "       85024    1\n",
       "       88487    1\n",
       "42     98053    1\n",
       "Length: 91, dtype: int64"
      ]
     },
     "execution_count": 15,
     "metadata": {},
     "output_type": "execute_result"
    },
    {
     "name": "stdout",
     "output_type": "stream",
     "text": [
      "time: 6.29 ms (started: 2022-06-23 07:54:30 +00:00)\n"
     ]
    }
   ],
   "source": [
    "df.groupby(['alter','plz']).size() "
   ]
  },
  {
   "cell_type": "code",
   "execution_count": 16,
   "metadata": {},
   "outputs": [
    {
     "data": {
      "text/plain": [
       "alter  plz  \n",
       "20     12349    1\n",
       "21     65173    1\n",
       "22     17664    1\n",
       "       20558    1\n",
       "       36893    1\n",
       "               ..\n",
       "41     46514    1\n",
       "       57346    1\n",
       "       85024    1\n",
       "       88487    1\n",
       "42     98053    1\n",
       "Length: 91, dtype: int64"
      ]
     },
     "execution_count": 16,
     "metadata": {},
     "output_type": "execute_result"
    },
    {
     "name": "stdout",
     "output_type": "stream",
     "text": [
      "time: 5.33 ms (started: 2022-06-23 07:54:30 +00:00)\n"
     ]
    }
   ],
   "source": [
    "a = df.groupby(['alter','plz']).size()\n",
    "a"
   ]
  },
  {
   "cell_type": "code",
   "execution_count": 17,
   "metadata": {},
   "outputs": [
    {
     "name": "stdout",
     "output_type": "stream",
     "text": [
      "Series mit MultiIndex\n"
     ]
    },
    {
     "data": {
      "text/html": [
       "<div>\n",
       "<style scoped>\n",
       "    .dataframe tbody tr th:only-of-type {\n",
       "        vertical-align: middle;\n",
       "    }\n",
       "\n",
       "    .dataframe tbody tr th {\n",
       "        vertical-align: top;\n",
       "    }\n",
       "\n",
       "    .dataframe thead th {\n",
       "        text-align: right;\n",
       "    }\n",
       "</style>\n",
       "<table border=\"1\" class=\"dataframe\">\n",
       "  <thead>\n",
       "    <tr style=\"text-align: right;\">\n",
       "      <th></th>\n",
       "      <th>alter</th>\n",
       "      <th>plz</th>\n",
       "      <th>0</th>\n",
       "    </tr>\n",
       "  </thead>\n",
       "  <tbody>\n",
       "    <tr>\n",
       "      <th>0</th>\n",
       "      <td>20</td>\n",
       "      <td>12349</td>\n",
       "      <td>1</td>\n",
       "    </tr>\n",
       "    <tr>\n",
       "      <th>1</th>\n",
       "      <td>21</td>\n",
       "      <td>65173</td>\n",
       "      <td>1</td>\n",
       "    </tr>\n",
       "    <tr>\n",
       "      <th>2</th>\n",
       "      <td>22</td>\n",
       "      <td>17664</td>\n",
       "      <td>1</td>\n",
       "    </tr>\n",
       "    <tr>\n",
       "      <th>3</th>\n",
       "      <td>22</td>\n",
       "      <td>20558</td>\n",
       "      <td>1</td>\n",
       "    </tr>\n",
       "    <tr>\n",
       "      <th>4</th>\n",
       "      <td>22</td>\n",
       "      <td>36893</td>\n",
       "      <td>1</td>\n",
       "    </tr>\n",
       "    <tr>\n",
       "      <th>...</th>\n",
       "      <td>...</td>\n",
       "      <td>...</td>\n",
       "      <td>...</td>\n",
       "    </tr>\n",
       "    <tr>\n",
       "      <th>86</th>\n",
       "      <td>41</td>\n",
       "      <td>46514</td>\n",
       "      <td>1</td>\n",
       "    </tr>\n",
       "    <tr>\n",
       "      <th>87</th>\n",
       "      <td>41</td>\n",
       "      <td>57346</td>\n",
       "      <td>1</td>\n",
       "    </tr>\n",
       "    <tr>\n",
       "      <th>88</th>\n",
       "      <td>41</td>\n",
       "      <td>85024</td>\n",
       "      <td>1</td>\n",
       "    </tr>\n",
       "    <tr>\n",
       "      <th>89</th>\n",
       "      <td>41</td>\n",
       "      <td>88487</td>\n",
       "      <td>1</td>\n",
       "    </tr>\n",
       "    <tr>\n",
       "      <th>90</th>\n",
       "      <td>42</td>\n",
       "      <td>98053</td>\n",
       "      <td>1</td>\n",
       "    </tr>\n",
       "  </tbody>\n",
       "</table>\n",
       "<p>91 rows × 3 columns</p>\n",
       "</div>"
      ],
      "text/plain": [
       "    alter    plz  0\n",
       "0      20  12349  1\n",
       "1      21  65173  1\n",
       "2      22  17664  1\n",
       "3      22  20558  1\n",
       "4      22  36893  1\n",
       "..    ...    ... ..\n",
       "86     41  46514  1\n",
       "87     41  57346  1\n",
       "88     41  85024  1\n",
       "89     41  88487  1\n",
       "90     42  98053  1\n",
       "\n",
       "[91 rows x 3 columns]"
      ]
     },
     "execution_count": 17,
     "metadata": {},
     "output_type": "execute_result"
    },
    {
     "name": "stdout",
     "output_type": "stream",
     "text": [
      "time: 7.29 ms (started: 2022-06-23 07:54:30 +00:00)\n"
     ]
    }
   ],
   "source": [
    "a = pak.drop_multiindex(a, verbose=True)\n",
    "a"
   ]
  },
  {
   "cell_type": "code",
   "execution_count": 18,
   "metadata": {},
   "outputs": [
    {
     "name": "stdout",
     "output_type": "stream",
     "text": [
      "DataFrame ohne MultiIndex\n"
     ]
    },
    {
     "data": {
      "text/html": [
       "<div>\n",
       "<style scoped>\n",
       "    .dataframe tbody tr th:only-of-type {\n",
       "        vertical-align: middle;\n",
       "    }\n",
       "\n",
       "    .dataframe tbody tr th {\n",
       "        vertical-align: top;\n",
       "    }\n",
       "\n",
       "    .dataframe thead th {\n",
       "        text-align: right;\n",
       "    }\n",
       "</style>\n",
       "<table border=\"1\" class=\"dataframe\">\n",
       "  <thead>\n",
       "    <tr style=\"text-align: right;\">\n",
       "      <th></th>\n",
       "      <th>alter</th>\n",
       "      <th>plz</th>\n",
       "      <th>0</th>\n",
       "    </tr>\n",
       "  </thead>\n",
       "  <tbody>\n",
       "    <tr>\n",
       "      <th>0</th>\n",
       "      <td>20</td>\n",
       "      <td>12349</td>\n",
       "      <td>1</td>\n",
       "    </tr>\n",
       "    <tr>\n",
       "      <th>1</th>\n",
       "      <td>21</td>\n",
       "      <td>65173</td>\n",
       "      <td>1</td>\n",
       "    </tr>\n",
       "    <tr>\n",
       "      <th>2</th>\n",
       "      <td>22</td>\n",
       "      <td>17664</td>\n",
       "      <td>1</td>\n",
       "    </tr>\n",
       "    <tr>\n",
       "      <th>3</th>\n",
       "      <td>22</td>\n",
       "      <td>20558</td>\n",
       "      <td>1</td>\n",
       "    </tr>\n",
       "    <tr>\n",
       "      <th>4</th>\n",
       "      <td>22</td>\n",
       "      <td>36893</td>\n",
       "      <td>1</td>\n",
       "    </tr>\n",
       "    <tr>\n",
       "      <th>...</th>\n",
       "      <td>...</td>\n",
       "      <td>...</td>\n",
       "      <td>...</td>\n",
       "    </tr>\n",
       "    <tr>\n",
       "      <th>86</th>\n",
       "      <td>41</td>\n",
       "      <td>46514</td>\n",
       "      <td>1</td>\n",
       "    </tr>\n",
       "    <tr>\n",
       "      <th>87</th>\n",
       "      <td>41</td>\n",
       "      <td>57346</td>\n",
       "      <td>1</td>\n",
       "    </tr>\n",
       "    <tr>\n",
       "      <th>88</th>\n",
       "      <td>41</td>\n",
       "      <td>85024</td>\n",
       "      <td>1</td>\n",
       "    </tr>\n",
       "    <tr>\n",
       "      <th>89</th>\n",
       "      <td>41</td>\n",
       "      <td>88487</td>\n",
       "      <td>1</td>\n",
       "    </tr>\n",
       "    <tr>\n",
       "      <th>90</th>\n",
       "      <td>42</td>\n",
       "      <td>98053</td>\n",
       "      <td>1</td>\n",
       "    </tr>\n",
       "  </tbody>\n",
       "</table>\n",
       "<p>91 rows × 3 columns</p>\n",
       "</div>"
      ],
      "text/plain": [
       "    alter    plz  0\n",
       "0      20  12349  1\n",
       "1      21  65173  1\n",
       "2      22  17664  1\n",
       "3      22  20558  1\n",
       "4      22  36893  1\n",
       "..    ...    ... ..\n",
       "86     41  46514  1\n",
       "87     41  57346  1\n",
       "88     41  85024  1\n",
       "89     41  88487  1\n",
       "90     42  98053  1\n",
       "\n",
       "[91 rows x 3 columns]"
      ]
     },
     "execution_count": 18,
     "metadata": {},
     "output_type": "execute_result"
    },
    {
     "name": "stdout",
     "output_type": "stream",
     "text": [
      "time: 7.39 ms (started: 2022-06-23 07:54:30 +00:00)\n"
     ]
    }
   ],
   "source": [
    "a = pak.drop_multiindex(a, verbose=True)\n",
    "a"
   ]
  },
  {
   "cell_type": "code",
   "execution_count": 19,
   "metadata": {},
   "outputs": [
    {
     "data": {
      "text/plain": [
       "30    61\n",
       "20    33\n",
       "40     6\n",
       "Name: altersklasse, dtype: Int64"
      ]
     },
     "execution_count": 19,
     "metadata": {},
     "output_type": "execute_result"
    },
    {
     "name": "stdout",
     "output_type": "stream",
     "text": [
      "time: 3.34 ms (started: 2022-06-23 07:54:30 +00:00)\n"
     ]
    }
   ],
   "source": [
    "df['altersklasse'].value_counts() "
   ]
  },
  {
   "cell_type": "code",
   "execution_count": 20,
   "metadata": {},
   "outputs": [
    {
     "data": {
      "text/html": [
       "<div>\n",
       "<style scoped>\n",
       "    .dataframe tbody tr th:only-of-type {\n",
       "        vertical-align: middle;\n",
       "    }\n",
       "\n",
       "    .dataframe tbody tr th {\n",
       "        vertical-align: top;\n",
       "    }\n",
       "\n",
       "    .dataframe thead th {\n",
       "        text-align: right;\n",
       "    }\n",
       "</style>\n",
       "<table border=\"1\" class=\"dataframe\">\n",
       "  <thead>\n",
       "    <tr style=\"text-align: right;\">\n",
       "      <th></th>\n",
       "      <th>alter</th>\n",
       "      <th>vorname</th>\n",
       "      <th>plz</th>\n",
       "      <th>geburtsstadt</th>\n",
       "      <th>passwort</th>\n",
       "      <th>merkmale</th>\n",
       "      <th>history</th>\n",
       "    </tr>\n",
       "    <tr>\n",
       "      <th>altersklasse</th>\n",
       "      <th></th>\n",
       "      <th></th>\n",
       "      <th></th>\n",
       "      <th></th>\n",
       "      <th></th>\n",
       "      <th></th>\n",
       "      <th></th>\n",
       "    </tr>\n",
       "  </thead>\n",
       "  <tbody>\n",
       "    <tr>\n",
       "      <th>20</th>\n",
       "      <td>33</td>\n",
       "      <td>33</td>\n",
       "      <td>31</td>\n",
       "      <td>28</td>\n",
       "      <td>33</td>\n",
       "      <td>33</td>\n",
       "      <td>33</td>\n",
       "    </tr>\n",
       "    <tr>\n",
       "      <th>30</th>\n",
       "      <td>61</td>\n",
       "      <td>61</td>\n",
       "      <td>55</td>\n",
       "      <td>44</td>\n",
       "      <td>61</td>\n",
       "      <td>61</td>\n",
       "      <td>61</td>\n",
       "    </tr>\n",
       "    <tr>\n",
       "      <th>40</th>\n",
       "      <td>6</td>\n",
       "      <td>6</td>\n",
       "      <td>6</td>\n",
       "      <td>5</td>\n",
       "      <td>6</td>\n",
       "      <td>6</td>\n",
       "      <td>6</td>\n",
       "    </tr>\n",
       "  </tbody>\n",
       "</table>\n",
       "</div>"
      ],
      "text/plain": [
       "              alter  vorname  plz  geburtsstadt  passwort  merkmale  history\n",
       "altersklasse                                                                \n",
       "20               33       33   31            28        33        33       33\n",
       "30               61       61   55            44        61        61       61\n",
       "40                6        6    6             5         6         6        6"
      ]
     },
     "execution_count": 20,
     "metadata": {},
     "output_type": "execute_result"
    },
    {
     "name": "stdout",
     "output_type": "stream",
     "text": [
      "time: 8.87 ms (started: 2022-06-23 07:54:30 +00:00)\n"
     ]
    }
   ],
   "source": [
    "df.groupby('altersklasse').count()"
   ]
  },
  {
   "cell_type": "code",
   "execution_count": 21,
   "metadata": {},
   "outputs": [
    {
     "data": {
      "text/html": [
       "<div>\n",
       "<style scoped>\n",
       "    .dataframe tbody tr th:only-of-type {\n",
       "        vertical-align: middle;\n",
       "    }\n",
       "\n",
       "    .dataframe tbody tr th {\n",
       "        vertical-align: top;\n",
       "    }\n",
       "\n",
       "    .dataframe thead th {\n",
       "        text-align: right;\n",
       "    }\n",
       "</style>\n",
       "<table border=\"1\" class=\"dataframe\">\n",
       "  <thead>\n",
       "    <tr style=\"text-align: right;\">\n",
       "      <th></th>\n",
       "      <th>level_0</th>\n",
       "      <th>altersklasse</th>\n",
       "      <th>0</th>\n",
       "    </tr>\n",
       "  </thead>\n",
       "  <tbody>\n",
       "    <tr>\n",
       "      <th>0</th>\n",
       "      <td>alter</td>\n",
       "      <td>20</td>\n",
       "      <td>33</td>\n",
       "    </tr>\n",
       "    <tr>\n",
       "      <th>1</th>\n",
       "      <td>alter</td>\n",
       "      <td>30</td>\n",
       "      <td>61</td>\n",
       "    </tr>\n",
       "    <tr>\n",
       "      <th>2</th>\n",
       "      <td>alter</td>\n",
       "      <td>40</td>\n",
       "      <td>6</td>\n",
       "    </tr>\n",
       "    <tr>\n",
       "      <th>3</th>\n",
       "      <td>vorname</td>\n",
       "      <td>20</td>\n",
       "      <td>33</td>\n",
       "    </tr>\n",
       "    <tr>\n",
       "      <th>4</th>\n",
       "      <td>vorname</td>\n",
       "      <td>30</td>\n",
       "      <td>61</td>\n",
       "    </tr>\n",
       "    <tr>\n",
       "      <th>5</th>\n",
       "      <td>vorname</td>\n",
       "      <td>40</td>\n",
       "      <td>6</td>\n",
       "    </tr>\n",
       "    <tr>\n",
       "      <th>6</th>\n",
       "      <td>plz</td>\n",
       "      <td>20</td>\n",
       "      <td>31</td>\n",
       "    </tr>\n",
       "    <tr>\n",
       "      <th>7</th>\n",
       "      <td>plz</td>\n",
       "      <td>30</td>\n",
       "      <td>55</td>\n",
       "    </tr>\n",
       "    <tr>\n",
       "      <th>8</th>\n",
       "      <td>plz</td>\n",
       "      <td>40</td>\n",
       "      <td>6</td>\n",
       "    </tr>\n",
       "    <tr>\n",
       "      <th>9</th>\n",
       "      <td>geburtsstadt</td>\n",
       "      <td>20</td>\n",
       "      <td>28</td>\n",
       "    </tr>\n",
       "    <tr>\n",
       "      <th>10</th>\n",
       "      <td>geburtsstadt</td>\n",
       "      <td>30</td>\n",
       "      <td>44</td>\n",
       "    </tr>\n",
       "    <tr>\n",
       "      <th>11</th>\n",
       "      <td>geburtsstadt</td>\n",
       "      <td>40</td>\n",
       "      <td>5</td>\n",
       "    </tr>\n",
       "    <tr>\n",
       "      <th>12</th>\n",
       "      <td>passwort</td>\n",
       "      <td>20</td>\n",
       "      <td>33</td>\n",
       "    </tr>\n",
       "    <tr>\n",
       "      <th>13</th>\n",
       "      <td>passwort</td>\n",
       "      <td>30</td>\n",
       "      <td>61</td>\n",
       "    </tr>\n",
       "    <tr>\n",
       "      <th>14</th>\n",
       "      <td>passwort</td>\n",
       "      <td>40</td>\n",
       "      <td>6</td>\n",
       "    </tr>\n",
       "    <tr>\n",
       "      <th>15</th>\n",
       "      <td>merkmale</td>\n",
       "      <td>20</td>\n",
       "      <td>33</td>\n",
       "    </tr>\n",
       "    <tr>\n",
       "      <th>16</th>\n",
       "      <td>merkmale</td>\n",
       "      <td>30</td>\n",
       "      <td>61</td>\n",
       "    </tr>\n",
       "    <tr>\n",
       "      <th>17</th>\n",
       "      <td>merkmale</td>\n",
       "      <td>40</td>\n",
       "      <td>6</td>\n",
       "    </tr>\n",
       "    <tr>\n",
       "      <th>18</th>\n",
       "      <td>history</td>\n",
       "      <td>20</td>\n",
       "      <td>33</td>\n",
       "    </tr>\n",
       "    <tr>\n",
       "      <th>19</th>\n",
       "      <td>history</td>\n",
       "      <td>30</td>\n",
       "      <td>61</td>\n",
       "    </tr>\n",
       "    <tr>\n",
       "      <th>20</th>\n",
       "      <td>history</td>\n",
       "      <td>40</td>\n",
       "      <td>6</td>\n",
       "    </tr>\n",
       "  </tbody>\n",
       "</table>\n",
       "</div>"
      ],
      "text/plain": [
       "         level_0  altersklasse   0\n",
       "0          alter            20  33\n",
       "1          alter            30  61\n",
       "2          alter            40   6\n",
       "3        vorname            20  33\n",
       "4        vorname            30  61\n",
       "5        vorname            40   6\n",
       "6            plz            20  31\n",
       "7            plz            30  55\n",
       "8            plz            40   6\n",
       "9   geburtsstadt            20  28\n",
       "10  geburtsstadt            30  44\n",
       "11  geburtsstadt            40   5\n",
       "12      passwort            20  33\n",
       "13      passwort            30  61\n",
       "14      passwort            40   6\n",
       "15      merkmale            20  33\n",
       "16      merkmale            30  61\n",
       "17      merkmale            40   6\n",
       "18       history            20  33\n",
       "19       history            30  61\n",
       "20       history            40   6"
      ]
     },
     "execution_count": 21,
     "metadata": {},
     "output_type": "execute_result"
    },
    {
     "name": "stdout",
     "output_type": "stream",
     "text": [
      "time: 8.53 ms (started: 2022-06-23 07:54:30 +00:00)\n"
     ]
    }
   ],
   "source": [
    "pak.drop_multiindex(df.groupby('altersklasse').count().unstack())"
   ]
  },
  {
   "cell_type": "code",
   "execution_count": null,
   "metadata": {},
   "outputs": [],
   "source": []
  },
  {
   "cell_type": "markdown",
   "metadata": {},
   "source": [
    "## Häufigstes Element"
   ]
  },
  {
   "cell_type": "code",
   "execution_count": 22,
   "metadata": {},
   "outputs": [
    {
     "data": {
      "text/plain": [
       "altersklasse\n",
       "20    27\n",
       "30    30\n",
       "40    41\n",
       "Name: alter, dtype: Int8"
      ]
     },
     "execution_count": 22,
     "metadata": {},
     "output_type": "execute_result"
    },
    {
     "name": "stdout",
     "output_type": "stream",
     "text": [
      "time: 4.67 ms (started: 2022-06-23 07:54:30 +00:00)\n"
     ]
    }
   ],
   "source": [
    "# most_freq_elt: Wie Series.mode, aber liefert immer ein Skalar\n",
    "grouped_altersklasse['alter'].agg( pak.most_freq_elt)"
   ]
  },
  {
   "cell_type": "code",
   "execution_count": 23,
   "metadata": {},
   "outputs": [
    {
     "data": {
      "text/html": [
       "<div>\n",
       "<style scoped>\n",
       "    .dataframe tbody tr th:only-of-type {\n",
       "        vertical-align: middle;\n",
       "    }\n",
       "\n",
       "    .dataframe tbody tr th {\n",
       "        vertical-align: top;\n",
       "    }\n",
       "\n",
       "    .dataframe thead th {\n",
       "        text-align: right;\n",
       "    }\n",
       "</style>\n",
       "<table border=\"1\" class=\"dataframe\">\n",
       "  <thead>\n",
       "    <tr style=\"text-align: right;\">\n",
       "      <th></th>\n",
       "      <th>alter</th>\n",
       "    </tr>\n",
       "    <tr>\n",
       "      <th>altersklasse</th>\n",
       "      <th></th>\n",
       "    </tr>\n",
       "  </thead>\n",
       "  <tbody>\n",
       "    <tr>\n",
       "      <th>20</th>\n",
       "      <td>27</td>\n",
       "    </tr>\n",
       "    <tr>\n",
       "      <th>30</th>\n",
       "      <td>30</td>\n",
       "    </tr>\n",
       "    <tr>\n",
       "      <th>40</th>\n",
       "      <td>41</td>\n",
       "    </tr>\n",
       "  </tbody>\n",
       "</table>\n",
       "</div>"
      ],
      "text/plain": [
       "              alter\n",
       "altersklasse       \n",
       "20               27\n",
       "30               30\n",
       "40               41"
      ]
     },
     "execution_count": 23,
     "metadata": {},
     "output_type": "execute_result"
    },
    {
     "name": "stdout",
     "output_type": "stream",
     "text": [
      "time: 5.91 ms (started: 2022-06-23 07:54:30 +00:00)\n"
     ]
    }
   ],
   "source": [
    "grouped_altersklasse['alter'].agg( pak.most_freq_elt).to_frame()"
   ]
  },
  {
   "cell_type": "code",
   "execution_count": 24,
   "metadata": {},
   "outputs": [
    {
     "name": "stdout",
     "output_type": "stream",
     "text": [
      "time: 527 µs (started: 2022-06-23 07:54:30 +00:00)\n"
     ]
    }
   ],
   "source": [
    "#df.groupby(['sex','age'])['bla'].agg(pd.Series.mode)"
   ]
  },
  {
   "cell_type": "markdown",
   "metadata": {},
   "source": [
    "## agg: Komplexe Aggregation"
   ]
  },
  {
   "cell_type": "code",
   "execution_count": 25,
   "metadata": {},
   "outputs": [
    {
     "data": {
      "text/html": [
       "<div>\n",
       "<style scoped>\n",
       "    .dataframe tbody tr th:only-of-type {\n",
       "        vertical-align: middle;\n",
       "    }\n",
       "\n",
       "    .dataframe tbody tr th {\n",
       "        vertical-align: top;\n",
       "    }\n",
       "\n",
       "    .dataframe thead th {\n",
       "        text-align: right;\n",
       "    }\n",
       "</style>\n",
       "<table border=\"1\" class=\"dataframe\">\n",
       "  <thead>\n",
       "    <tr style=\"text-align: right;\">\n",
       "      <th></th>\n",
       "      <th>altersklasse</th>\n",
       "      <th>alter</th>\n",
       "      <th>vorname</th>\n",
       "      <th>plz</th>\n",
       "      <th>geburtsstadt</th>\n",
       "      <th>passwort</th>\n",
       "      <th>merkmale</th>\n",
       "      <th>history</th>\n",
       "    </tr>\n",
       "  </thead>\n",
       "  <tbody>\n",
       "    <tr>\n",
       "      <th>33</th>\n",
       "      <td>20</td>\n",
       "      <td>20</td>\n",
       "      <td>Luise</td>\n",
       "      <td>12349</td>\n",
       "      <td>Bremen</td>\n",
       "      <td>sueZtu9</td>\n",
       "      <td>{1, K, Z, t}</td>\n",
       "      <td>[A, x]</td>\n",
       "    </tr>\n",
       "    <tr>\n",
       "      <th>23</th>\n",
       "      <td>20</td>\n",
       "      <td>21</td>\n",
       "      <td>Bettina</td>\n",
       "      <td>65173</td>\n",
       "      <td>Bremen</td>\n",
       "      <td>h2gmXdlR</td>\n",
       "      <td>{E}</td>\n",
       "      <td>[c, b, a]</td>\n",
       "    </tr>\n",
       "    <tr>\n",
       "      <th>60</th>\n",
       "      <td>20</td>\n",
       "      <td>22</td>\n",
       "      <td>Detlef</td>\n",
       "      <td>20558</td>\n",
       "      <td>Bremen</td>\n",
       "      <td>InPggz4e</td>\n",
       "      <td>{i, 0, t}</td>\n",
       "      <td>[]</td>\n",
       "    </tr>\n",
       "    <tr>\n",
       "      <th>70</th>\n",
       "      <td>20</td>\n",
       "      <td>22</td>\n",
       "      <td>Helga</td>\n",
       "      <td>17664</td>\n",
       "      <td>Berlin</td>\n",
       "      <td>ÖsVtbINx</td>\n",
       "      <td>{N, y, 4, G}</td>\n",
       "      <td>[b, b, a, b]</td>\n",
       "    </tr>\n",
       "    <tr>\n",
       "      <th>87</th>\n",
       "      <td>20</td>\n",
       "      <td>22</td>\n",
       "      <td>Helga</td>\n",
       "      <td>36893</td>\n",
       "      <td>&lt;NA&gt;</td>\n",
       "      <td>MRLN8geZJq</td>\n",
       "      <td>{b, a, 5, g, K}</td>\n",
       "      <td>[A, B, C]</td>\n",
       "    </tr>\n",
       "    <tr>\n",
       "      <th>...</th>\n",
       "      <td>...</td>\n",
       "      <td>...</td>\n",
       "      <td>...</td>\n",
       "      <td>...</td>\n",
       "      <td>...</td>\n",
       "      <td>...</td>\n",
       "      <td>...</td>\n",
       "      <td>...</td>\n",
       "    </tr>\n",
       "    <tr>\n",
       "      <th>67</th>\n",
       "      <td>40</td>\n",
       "      <td>41</td>\n",
       "      <td>Eileen</td>\n",
       "      <td>85024</td>\n",
       "      <td>Berlin</td>\n",
       "      <td>n5öBnHn1</td>\n",
       "      <td>{u}</td>\n",
       "      <td>[A, x]</td>\n",
       "    </tr>\n",
       "    <tr>\n",
       "      <th>69</th>\n",
       "      <td>40</td>\n",
       "      <td>41</td>\n",
       "      <td>Lilly</td>\n",
       "      <td>57346</td>\n",
       "      <td>Berlin</td>\n",
       "      <td>JQZÖpr5d</td>\n",
       "      <td>{n, P, c, m}</td>\n",
       "      <td>[]</td>\n",
       "    </tr>\n",
       "    <tr>\n",
       "      <th>74</th>\n",
       "      <td>40</td>\n",
       "      <td>41</td>\n",
       "      <td>Niklas</td>\n",
       "      <td>88487</td>\n",
       "      <td>Berlin</td>\n",
       "      <td>0EZIeX</td>\n",
       "      <td>{n, F, o, g}</td>\n",
       "      <td>[A, C, C, B]</td>\n",
       "    </tr>\n",
       "    <tr>\n",
       "      <th>17</th>\n",
       "      <td>40</td>\n",
       "      <td>41</td>\n",
       "      <td>Walter</td>\n",
       "      <td>46514</td>\n",
       "      <td>Bremen</td>\n",
       "      <td>eV5äBlKR0L</td>\n",
       "      <td>{E, l}</td>\n",
       "      <td>[]</td>\n",
       "    </tr>\n",
       "    <tr>\n",
       "      <th>50</th>\n",
       "      <td>40</td>\n",
       "      <td>42</td>\n",
       "      <td>Alina</td>\n",
       "      <td>98053</td>\n",
       "      <td>&lt;NA&gt;</td>\n",
       "      <td>lZgmH</td>\n",
       "      <td>{2}</td>\n",
       "      <td>[c, b, a]</td>\n",
       "    </tr>\n",
       "  </tbody>\n",
       "</table>\n",
       "<p>100 rows × 8 columns</p>\n",
       "</div>"
      ],
      "text/plain": [
       "    altersklasse  alter  vorname    plz geburtsstadt    passwort  \\\n",
       "33            20     20    Luise  12349       Bremen     sueZtu9   \n",
       "23            20     21  Bettina  65173       Bremen    h2gmXdlR   \n",
       "60            20     22   Detlef  20558       Bremen    InPggz4e   \n",
       "70            20     22    Helga  17664       Berlin    ÖsVtbINx   \n",
       "87            20     22    Helga  36893         <NA>  MRLN8geZJq   \n",
       "..           ...    ...      ...    ...          ...         ...   \n",
       "67            40     41   Eileen  85024       Berlin    n5öBnHn1   \n",
       "69            40     41    Lilly  57346       Berlin    JQZÖpr5d   \n",
       "74            40     41   Niklas  88487       Berlin      0EZIeX   \n",
       "17            40     41   Walter  46514       Bremen  eV5äBlKR0L   \n",
       "50            40     42    Alina  98053         <NA>       lZgmH   \n",
       "\n",
       "           merkmale       history  \n",
       "33     {1, K, Z, t}        [A, x]  \n",
       "23              {E}     [c, b, a]  \n",
       "60        {i, 0, t}            []  \n",
       "70     {N, y, 4, G}  [b, b, a, b]  \n",
       "87  {b, a, 5, g, K}     [A, B, C]  \n",
       "..              ...           ...  \n",
       "67              {u}        [A, x]  \n",
       "69     {n, P, c, m}            []  \n",
       "74     {n, F, o, g}  [A, C, C, B]  \n",
       "17           {E, l}            []  \n",
       "50              {2}     [c, b, a]  \n",
       "\n",
       "[100 rows x 8 columns]"
      ]
     },
     "execution_count": 25,
     "metadata": {},
     "output_type": "execute_result"
    },
    {
     "name": "stdout",
     "output_type": "stream",
     "text": [
      "time: 17.1 ms (started: 2022-06-23 07:54:30 +00:00)\n"
     ]
    }
   ],
   "source": [
    "df"
   ]
  },
  {
   "cell_type": "code",
   "execution_count": 26,
   "metadata": {},
   "outputs": [
    {
     "name": "stdout",
     "output_type": "stream",
     "text": [
      "time: 802 µs (started: 2022-06-23 07:54:31 +00:00)\n"
     ]
    }
   ],
   "source": [
    "gruppiert = df.groupby('altersklasse')"
   ]
  },
  {
   "cell_type": "code",
   "execution_count": 27,
   "metadata": {},
   "outputs": [
    {
     "name": "stdout",
     "output_type": "stream",
     "text": [
      "time: 747 µs (started: 2022-06-23 07:54:31 +00:00)\n"
     ]
    }
   ],
   "source": [
    "def top_values_2(x): return pak.top_values(x, 2)"
   ]
  },
  {
   "cell_type": "code",
   "execution_count": 28,
   "metadata": {},
   "outputs": [
    {
     "name": "stdout",
     "output_type": "stream",
     "text": [
      "3 Datensätze\n"
     ]
    },
    {
     "data": {
      "text/html": [
       "\n",
       "        <iframe\n",
       "            width=\"100%\"\n",
       "            height=\"475\"\n",
       "            src=\"http://me-Mint:40002/dtale/iframe/3\"\n",
       "            frameborder=\"0\"\n",
       "            allowfullscreen\n",
       "            \n",
       "        ></iframe>\n",
       "        "
      ],
      "text/plain": [
       "<IPython.lib.display.IFrame at 0x7f57440e3190>"
      ]
     },
     "metadata": {},
     "output_type": "display_data"
    },
    {
     "data": {
      "text/plain": []
     },
     "execution_count": 28,
     "metadata": {},
     "output_type": "execute_result"
    },
    {
     "name": "stdout",
     "output_type": "stream",
     "text": [
      "time: 51.6 ms (started: 2022-06-23 07:54:31 +00:00)\n"
     ]
    }
   ],
   "source": [
    "ergebnis = gruppiert.agg(\n",
    "    alter_max           = ('alter',          max ),                          # maximaler Wert\n",
    "    alter_main          = ('alter',          pak.most_freq_elt),                 # häufigster Wert\n",
    "    #alter_list          = ('alter',          list),                          # alle Werte   \n",
    "    alter_set           = ('alter',          set),                           # alle Werte jeweils einmal     \n",
    "    string_join         = ('vorname',        pak.agg_words),\n",
    "    string_join_setlike = ('geburtsstadt',   pak.agg_words_nodup),\n",
    "    listen_join         = ('history',        sum),         \n",
    "    listen_top3         = ('history',        pak.top_values),                    # top_values liefert die häufigsten Elemente\n",
    "    listen_top2         = ('history',        top_values_2),                 # top_values hat noch einen Parameter zur Angabe der Anzahl der Elemente                       \n",
    "    mengen_join         = ('merkmale',       lambda x: set.union(*x)   ),    # siehe https://stackoverflow.com/questions/25020595/row-wise-unions-in-pandas-groupby   \n",
    "    count               = ('vorname',        'count')                        # die Funktionsname kann auch als String. Alternative: nunique zählt Dups nicht doppelt\n",
    "    \n",
    ").reset_index()\n",
    "\n",
    "grid(ergebnis)\n",
    "\n"
   ]
  },
  {
   "cell_type": "markdown",
   "metadata": {},
   "source": [
    "## group_and_agg"
   ]
  },
  {
   "cell_type": "code",
   "execution_count": 29,
   "metadata": {},
   "outputs": [
    {
     "name": "stdout",
     "output_type": "stream",
     "text": [
      "time: 48.9 ms (started: 2022-06-23 07:54:31 +00:00)\n"
     ]
    },
    {
     "data": {
      "text/plain": [
       "\u001b[0;31mSignature:\u001b[0m\n",
       "\u001b[0mpak\u001b[0m\u001b[0;34m.\u001b[0m\u001b[0mgroup_and_agg\u001b[0m\u001b[0;34m(\u001b[0m\u001b[0;34m\u001b[0m\n",
       "\u001b[0;34m\u001b[0m    \u001b[0mdf\u001b[0m\u001b[0;34m,\u001b[0m\u001b[0;34m\u001b[0m\n",
       "\u001b[0;34m\u001b[0m    \u001b[0mcol_origins\u001b[0m\u001b[0;34m,\u001b[0m\u001b[0;34m\u001b[0m\n",
       "\u001b[0;34m\u001b[0m    \u001b[0mcol_funcs\u001b[0m\u001b[0;34m=\u001b[0m\u001b[0;32mNone\u001b[0m\u001b[0;34m,\u001b[0m\u001b[0;34m\u001b[0m\n",
       "\u001b[0;34m\u001b[0m    \u001b[0mcol_names\u001b[0m\u001b[0;34m=\u001b[0m\u001b[0;32mNone\u001b[0m\u001b[0;34m,\u001b[0m\u001b[0;34m\u001b[0m\n",
       "\u001b[0;34m\u001b[0m    \u001b[0mdropna\u001b[0m\u001b[0;34m=\u001b[0m\u001b[0;32mTrue\u001b[0m\u001b[0;34m,\u001b[0m\u001b[0;34m\u001b[0m\n",
       "\u001b[0;34m\u001b[0m    \u001b[0mverbose\u001b[0m\u001b[0;34m=\u001b[0m\u001b[0;32mNone\u001b[0m\u001b[0;34m,\u001b[0m\u001b[0;34m\u001b[0m\n",
       "\u001b[0;34m\u001b[0m\u001b[0;34m)\u001b[0m\u001b[0;34m\u001b[0m\u001b[0;34m\u001b[0m\u001b[0m\n",
       "\u001b[0;31mDocstring:\u001b[0m\n",
       "Gruppiert und aggregiert.\n",
       "* col_origins: Liste aller columns, die verarbeitet werden sollen\n",
       "* col_funcs:   Liste aller Funktionen, die darauf angewendet werden sollen. \n",
       "               Manchmal muss man Strings verwenden, manchmal Funktionsnamen.\n",
       "               'group' oder '' = Gruppieren. \n",
       "* col_names:   Liste neuer Namen für die Ergebnisspalten. Optional. Leerzeichen = Standardname wird übernommen.\n",
       "* dropna:      Parameter für groupby\n",
       "Beispiel:\n",
       "group_and_agg(df, \n",
       "              col_origins=['altersklasse','geburtsstadt', 'vorname',     'alter', 'alter', 'vorname'],\n",
       "              col_funcs  =['group',       'group',        agg_strings,   'min',   'max',   'min'],\n",
       "             )    \n",
       "\u001b[0;31mFile:\u001b[0m      /Data_lab/libs/pandasklar/pandas.py\n",
       "\u001b[0;31mType:\u001b[0m      function\n"
      ]
     },
     "metadata": {},
     "output_type": "display_data"
    }
   ],
   "source": [
    "?pak.group_and_agg"
   ]
  },
  {
   "cell_type": "code",
   "execution_count": 30,
   "metadata": {},
   "outputs": [
    {
     "data": {
      "text/html": [
       "<div>\n",
       "<style scoped>\n",
       "    .dataframe tbody tr th:only-of-type {\n",
       "        vertical-align: middle;\n",
       "    }\n",
       "\n",
       "    .dataframe tbody tr th {\n",
       "        vertical-align: top;\n",
       "    }\n",
       "\n",
       "    .dataframe thead th {\n",
       "        text-align: right;\n",
       "    }\n",
       "</style>\n",
       "<table border=\"1\" class=\"dataframe\">\n",
       "  <thead>\n",
       "    <tr style=\"text-align: right;\">\n",
       "      <th></th>\n",
       "      <th>altersklasse</th>\n",
       "      <th>geburtsstadt</th>\n",
       "      <th>vorname_agg_words</th>\n",
       "      <th>alter_min</th>\n",
       "      <th>alter_max</th>\n",
       "      <th>vorname_min</th>\n",
       "    </tr>\n",
       "  </thead>\n",
       "  <tbody>\n",
       "    <tr>\n",
       "      <th>0</th>\n",
       "      <td>20</td>\n",
       "      <td>Berlin</td>\n",
       "      <td>Helga Tim Nikolas Till Alexander Christa Fiona...</td>\n",
       "      <td>22</td>\n",
       "      <td>29</td>\n",
       "      <td>Alexander</td>\n",
       "    </tr>\n",
       "    <tr>\n",
       "      <th>1</th>\n",
       "      <td>20</td>\n",
       "      <td>Bremen</td>\n",
       "      <td>Luise Bettina Detlef Claudia Christel Ingrid N...</td>\n",
       "      <td>20</td>\n",
       "      <td>29</td>\n",
       "      <td>Bettina</td>\n",
       "    </tr>\n",
       "    <tr>\n",
       "      <th>2</th>\n",
       "      <td>30</td>\n",
       "      <td>Berlin</td>\n",
       "      <td>Torben Zoe Helena Ingrid Maike Barbara Edith S...</td>\n",
       "      <td>30</td>\n",
       "      <td>37</td>\n",
       "      <td>Alina</td>\n",
       "    </tr>\n",
       "    <tr>\n",
       "      <th>3</th>\n",
       "      <td>30</td>\n",
       "      <td>Bremen</td>\n",
       "      <td>Eric Finn Hannes Larissa Luise Sylvia Anna Ste...</td>\n",
       "      <td>30</td>\n",
       "      <td>39</td>\n",
       "      <td>Anja</td>\n",
       "    </tr>\n",
       "    <tr>\n",
       "      <th>4</th>\n",
       "      <td>40</td>\n",
       "      <td>Berlin</td>\n",
       "      <td>Eileen Lilly Niklas</td>\n",
       "      <td>41</td>\n",
       "      <td>41</td>\n",
       "      <td>Eileen</td>\n",
       "    </tr>\n",
       "    <tr>\n",
       "      <th>5</th>\n",
       "      <td>40</td>\n",
       "      <td>Bremen</td>\n",
       "      <td>Eva Walter</td>\n",
       "      <td>40</td>\n",
       "      <td>41</td>\n",
       "      <td>Eva</td>\n",
       "    </tr>\n",
       "  </tbody>\n",
       "</table>\n",
       "</div>"
      ],
      "text/plain": [
       "   altersklasse geburtsstadt  \\\n",
       "0            20       Berlin   \n",
       "1            20       Bremen   \n",
       "2            30       Berlin   \n",
       "3            30       Bremen   \n",
       "4            40       Berlin   \n",
       "5            40       Bremen   \n",
       "\n",
       "                                   vorname_agg_words  alter_min  alter_max  \\\n",
       "0  Helga Tim Nikolas Till Alexander Christa Fiona...         22         29   \n",
       "1  Luise Bettina Detlef Claudia Christel Ingrid N...         20         29   \n",
       "2  Torben Zoe Helena Ingrid Maike Barbara Edith S...         30         37   \n",
       "3  Eric Finn Hannes Larissa Luise Sylvia Anna Ste...         30         39   \n",
       "4                                Eileen Lilly Niklas         41         41   \n",
       "5                                         Eva Walter         40         41   \n",
       "\n",
       "  vorname_min  \n",
       "0   Alexander  \n",
       "1     Bettina  \n",
       "2       Alina  \n",
       "3        Anja  \n",
       "4      Eileen  \n",
       "5         Eva  "
      ]
     },
     "execution_count": 30,
     "metadata": {},
     "output_type": "execute_result"
    },
    {
     "name": "stdout",
     "output_type": "stream",
     "text": [
      "time: 22.2 ms (started: 2022-06-23 07:54:31 +00:00)\n"
     ]
    }
   ],
   "source": [
    "r = pak.group_and_agg(df, \n",
    "              ['altersklasse','geburtsstadt', 'vorname',     'alter','alter', 'vorname'],\n",
    "              ['group',       '',          pak.agg_words,    'min',  'max',   'min'],\n",
    "             )\n",
    "\n",
    "r"
   ]
  },
  {
   "cell_type": "code",
   "execution_count": 31,
   "metadata": {},
   "outputs": [
    {
     "data": {
      "text/html": [
       "<div>\n",
       "<style scoped>\n",
       "    .dataframe tbody tr th:only-of-type {\n",
       "        vertical-align: middle;\n",
       "    }\n",
       "\n",
       "    .dataframe tbody tr th {\n",
       "        vertical-align: top;\n",
       "    }\n",
       "\n",
       "    .dataframe thead th {\n",
       "        text-align: right;\n",
       "    }\n",
       "</style>\n",
       "<table border=\"1\" class=\"dataframe\">\n",
       "  <thead>\n",
       "    <tr style=\"text-align: right;\">\n",
       "      <th></th>\n",
       "      <th>AK</th>\n",
       "      <th>GS</th>\n",
       "      <th>vornamen_alle</th>\n",
       "      <th>alter_min</th>\n",
       "      <th>alter_max</th>\n",
       "      <th>vorname_min</th>\n",
       "    </tr>\n",
       "  </thead>\n",
       "  <tbody>\n",
       "    <tr>\n",
       "      <th>0</th>\n",
       "      <td>20</td>\n",
       "      <td>Berlin</td>\n",
       "      <td>Helga Tim Nikolas Till Alexander Christa Fiona...</td>\n",
       "      <td>22</td>\n",
       "      <td>29</td>\n",
       "      <td>Alexander</td>\n",
       "    </tr>\n",
       "    <tr>\n",
       "      <th>1</th>\n",
       "      <td>20</td>\n",
       "      <td>Bremen</td>\n",
       "      <td>Luise Bettina Detlef Claudia Christel Ingrid N...</td>\n",
       "      <td>20</td>\n",
       "      <td>29</td>\n",
       "      <td>Bettina</td>\n",
       "    </tr>\n",
       "    <tr>\n",
       "      <th>2</th>\n",
       "      <td>20</td>\n",
       "      <td>&lt;NA&gt;</td>\n",
       "      <td>Helga Ingrid Maurice Niklas Alexander</td>\n",
       "      <td>22</td>\n",
       "      <td>28</td>\n",
       "      <td>Alexander</td>\n",
       "    </tr>\n",
       "    <tr>\n",
       "      <th>3</th>\n",
       "      <td>30</td>\n",
       "      <td>Berlin</td>\n",
       "      <td>Torben Zoe Helena Ingrid Maike Barbara Edith S...</td>\n",
       "      <td>30</td>\n",
       "      <td>37</td>\n",
       "      <td>Alina</td>\n",
       "    </tr>\n",
       "    <tr>\n",
       "      <th>4</th>\n",
       "      <td>30</td>\n",
       "      <td>Bremen</td>\n",
       "      <td>Eric Finn Hannes Larissa Luise Sylvia Anna Ste...</td>\n",
       "      <td>30</td>\n",
       "      <td>39</td>\n",
       "      <td>Anja</td>\n",
       "    </tr>\n",
       "    <tr>\n",
       "      <th>5</th>\n",
       "      <td>30</td>\n",
       "      <td>&lt;NA&gt;</td>\n",
       "      <td>Britta Renate Elfriede Finn Tanja Torben David...</td>\n",
       "      <td>30</td>\n",
       "      <td>39</td>\n",
       "      <td>Alexandra</td>\n",
       "    </tr>\n",
       "    <tr>\n",
       "      <th>6</th>\n",
       "      <td>40</td>\n",
       "      <td>Berlin</td>\n",
       "      <td>Eileen Lilly Niklas</td>\n",
       "      <td>41</td>\n",
       "      <td>41</td>\n",
       "      <td>Eileen</td>\n",
       "    </tr>\n",
       "    <tr>\n",
       "      <th>7</th>\n",
       "      <td>40</td>\n",
       "      <td>Bremen</td>\n",
       "      <td>Eva Walter</td>\n",
       "      <td>40</td>\n",
       "      <td>41</td>\n",
       "      <td>Eva</td>\n",
       "    </tr>\n",
       "    <tr>\n",
       "      <th>8</th>\n",
       "      <td>40</td>\n",
       "      <td>&lt;NA&gt;</td>\n",
       "      <td>Alina</td>\n",
       "      <td>42</td>\n",
       "      <td>42</td>\n",
       "      <td>Alina</td>\n",
       "    </tr>\n",
       "  </tbody>\n",
       "</table>\n",
       "</div>"
      ],
      "text/plain": [
       "   AK      GS                                      vornamen_alle  alter_min  \\\n",
       "0  20  Berlin  Helga Tim Nikolas Till Alexander Christa Fiona...         22   \n",
       "1  20  Bremen  Luise Bettina Detlef Claudia Christel Ingrid N...         20   \n",
       "2  20    <NA>              Helga Ingrid Maurice Niklas Alexander         22   \n",
       "3  30  Berlin  Torben Zoe Helena Ingrid Maike Barbara Edith S...         30   \n",
       "4  30  Bremen  Eric Finn Hannes Larissa Luise Sylvia Anna Ste...         30   \n",
       "5  30    <NA>  Britta Renate Elfriede Finn Tanja Torben David...         30   \n",
       "6  40  Berlin                                Eileen Lilly Niklas         41   \n",
       "7  40  Bremen                                         Eva Walter         40   \n",
       "8  40    <NA>                                              Alina         42   \n",
       "\n",
       "   alter_max vorname_min  \n",
       "0         29   Alexander  \n",
       "1         29     Bettina  \n",
       "2         28   Alexander  \n",
       "3         37       Alina  \n",
       "4         39        Anja  \n",
       "5         39   Alexandra  \n",
       "6         41      Eileen  \n",
       "7         41         Eva  \n",
       "8         42       Alina  "
      ]
     },
     "execution_count": 31,
     "metadata": {},
     "output_type": "execute_result"
    },
    {
     "name": "stdout",
     "output_type": "stream",
     "text": [
      "time: 24.1 ms (started: 2022-06-23 07:54:31 +00:00)\n"
     ]
    }
   ],
   "source": [
    "r = pak.group_and_agg(df, \n",
    "              ['altersklasse','geburtsstadt', 'vorname',        'alter','alter', 'vorname'],\n",
    "              ['',            '',           pak.agg_words,      'min',  'max',   'min'    ],\n",
    "              ['AK',          'GS',           'vornamen_alle',  '',     '',      ''       ],\n",
    "              dropna=False\n",
    "             )\n",
    "\n",
    "r"
   ]
  },
  {
   "cell_type": "code",
   "execution_count": 32,
   "metadata": {},
   "outputs": [
    {
     "data": {
      "text/html": [
       "<div>\n",
       "<style scoped>\n",
       "    .dataframe tbody tr th:only-of-type {\n",
       "        vertical-align: middle;\n",
       "    }\n",
       "\n",
       "    .dataframe tbody tr th {\n",
       "        vertical-align: top;\n",
       "    }\n",
       "\n",
       "    .dataframe thead th {\n",
       "        text-align: right;\n",
       "    }\n",
       "</style>\n",
       "<table border=\"1\" class=\"dataframe\">\n",
       "  <thead>\n",
       "    <tr style=\"text-align: right;\">\n",
       "      <th></th>\n",
       "      <th>AK</th>\n",
       "      <th>Stadt</th>\n",
       "    </tr>\n",
       "  </thead>\n",
       "  <tbody>\n",
       "    <tr>\n",
       "      <th>0</th>\n",
       "      <td>20</td>\n",
       "      <td>Berlin</td>\n",
       "    </tr>\n",
       "    <tr>\n",
       "      <th>1</th>\n",
       "      <td>20</td>\n",
       "      <td>Bremen</td>\n",
       "    </tr>\n",
       "    <tr>\n",
       "      <th>2</th>\n",
       "      <td>20</td>\n",
       "      <td>&lt;NA&gt;</td>\n",
       "    </tr>\n",
       "    <tr>\n",
       "      <th>3</th>\n",
       "      <td>30</td>\n",
       "      <td>Berlin</td>\n",
       "    </tr>\n",
       "    <tr>\n",
       "      <th>4</th>\n",
       "      <td>30</td>\n",
       "      <td>Bremen</td>\n",
       "    </tr>\n",
       "    <tr>\n",
       "      <th>5</th>\n",
       "      <td>30</td>\n",
       "      <td>&lt;NA&gt;</td>\n",
       "    </tr>\n",
       "    <tr>\n",
       "      <th>6</th>\n",
       "      <td>40</td>\n",
       "      <td>Berlin</td>\n",
       "    </tr>\n",
       "    <tr>\n",
       "      <th>7</th>\n",
       "      <td>40</td>\n",
       "      <td>Bremen</td>\n",
       "    </tr>\n",
       "    <tr>\n",
       "      <th>8</th>\n",
       "      <td>40</td>\n",
       "      <td>&lt;NA&gt;</td>\n",
       "    </tr>\n",
       "  </tbody>\n",
       "</table>\n",
       "</div>"
      ],
      "text/plain": [
       "   AK   Stadt\n",
       "0  20  Berlin\n",
       "1  20  Bremen\n",
       "2  20    <NA>\n",
       "3  30  Berlin\n",
       "4  30  Bremen\n",
       "5  30    <NA>\n",
       "6  40  Berlin\n",
       "7  40  Bremen\n",
       "8  40    <NA>"
      ]
     },
     "execution_count": 32,
     "metadata": {},
     "output_type": "execute_result"
    },
    {
     "name": "stdout",
     "output_type": "stream",
     "text": [
      "time: 16.7 ms (started: 2022-06-23 07:54:31 +00:00)\n"
     ]
    }
   ],
   "source": [
    "r = pak.group_and_agg(df, ['altersklasse','geburtsstadt'], dropna=False, col_names=['AK','Stadt'] )\n",
    "r"
   ]
  },
  {
   "cell_type": "markdown",
   "metadata": {},
   "source": [
    "## Group & Filter"
   ]
  },
  {
   "cell_type": "code",
   "execution_count": 33,
   "metadata": {},
   "outputs": [
    {
     "data": {
      "text/html": [
       "<div>\n",
       "<style scoped>\n",
       "    .dataframe tbody tr th:only-of-type {\n",
       "        vertical-align: middle;\n",
       "    }\n",
       "\n",
       "    .dataframe tbody tr th {\n",
       "        vertical-align: top;\n",
       "    }\n",
       "\n",
       "    .dataframe thead th {\n",
       "        text-align: right;\n",
       "    }\n",
       "</style>\n",
       "<table border=\"1\" class=\"dataframe\">\n",
       "  <thead>\n",
       "    <tr style=\"text-align: right;\">\n",
       "      <th></th>\n",
       "      <th>altersklasse</th>\n",
       "      <th>alter</th>\n",
       "      <th>plz</th>\n",
       "      <th>geburtsstadt</th>\n",
       "      <th>passwort</th>\n",
       "      <th>merkmale</th>\n",
       "      <th>history</th>\n",
       "    </tr>\n",
       "    <tr>\n",
       "      <th>vorname</th>\n",
       "      <th></th>\n",
       "      <th></th>\n",
       "      <th></th>\n",
       "      <th></th>\n",
       "      <th></th>\n",
       "      <th></th>\n",
       "      <th></th>\n",
       "    </tr>\n",
       "  </thead>\n",
       "  <tbody>\n",
       "    <tr>\n",
       "      <th>Alexander</th>\n",
       "      <td>2</td>\n",
       "      <td>2</td>\n",
       "      <td>2</td>\n",
       "      <td>1</td>\n",
       "      <td>2</td>\n",
       "      <td>2</td>\n",
       "      <td>2</td>\n",
       "    </tr>\n",
       "    <tr>\n",
       "      <th>Alexandra</th>\n",
       "      <td>1</td>\n",
       "      <td>1</td>\n",
       "      <td>1</td>\n",
       "      <td>0</td>\n",
       "      <td>1</td>\n",
       "      <td>1</td>\n",
       "      <td>1</td>\n",
       "    </tr>\n",
       "    <tr>\n",
       "      <th>Alina</th>\n",
       "      <td>2</td>\n",
       "      <td>2</td>\n",
       "      <td>2</td>\n",
       "      <td>1</td>\n",
       "      <td>2</td>\n",
       "      <td>2</td>\n",
       "      <td>2</td>\n",
       "    </tr>\n",
       "    <tr>\n",
       "      <th>Anja</th>\n",
       "      <td>1</td>\n",
       "      <td>1</td>\n",
       "      <td>1</td>\n",
       "      <td>1</td>\n",
       "      <td>1</td>\n",
       "      <td>1</td>\n",
       "      <td>1</td>\n",
       "    </tr>\n",
       "    <tr>\n",
       "      <th>Anna</th>\n",
       "      <td>2</td>\n",
       "      <td>2</td>\n",
       "      <td>1</td>\n",
       "      <td>2</td>\n",
       "      <td>2</td>\n",
       "      <td>2</td>\n",
       "      <td>2</td>\n",
       "    </tr>\n",
       "    <tr>\n",
       "      <th>...</th>\n",
       "      <td>...</td>\n",
       "      <td>...</td>\n",
       "      <td>...</td>\n",
       "      <td>...</td>\n",
       "      <td>...</td>\n",
       "      <td>...</td>\n",
       "      <td>...</td>\n",
       "    </tr>\n",
       "    <tr>\n",
       "      <th>Torsten</th>\n",
       "      <td>1</td>\n",
       "      <td>1</td>\n",
       "      <td>1</td>\n",
       "      <td>1</td>\n",
       "      <td>1</td>\n",
       "      <td>1</td>\n",
       "      <td>1</td>\n",
       "    </tr>\n",
       "    <tr>\n",
       "      <th>Uwe</th>\n",
       "      <td>1</td>\n",
       "      <td>1</td>\n",
       "      <td>1</td>\n",
       "      <td>0</td>\n",
       "      <td>1</td>\n",
       "      <td>1</td>\n",
       "      <td>1</td>\n",
       "    </tr>\n",
       "    <tr>\n",
       "      <th>Walter</th>\n",
       "      <td>2</td>\n",
       "      <td>2</td>\n",
       "      <td>2</td>\n",
       "      <td>2</td>\n",
       "      <td>2</td>\n",
       "      <td>2</td>\n",
       "      <td>2</td>\n",
       "    </tr>\n",
       "    <tr>\n",
       "      <th>Yannic</th>\n",
       "      <td>1</td>\n",
       "      <td>1</td>\n",
       "      <td>0</td>\n",
       "      <td>1</td>\n",
       "      <td>1</td>\n",
       "      <td>1</td>\n",
       "      <td>1</td>\n",
       "    </tr>\n",
       "    <tr>\n",
       "      <th>Zoe</th>\n",
       "      <td>1</td>\n",
       "      <td>1</td>\n",
       "      <td>1</td>\n",
       "      <td>1</td>\n",
       "      <td>1</td>\n",
       "      <td>1</td>\n",
       "      <td>1</td>\n",
       "    </tr>\n",
       "  </tbody>\n",
       "</table>\n",
       "<p>70 rows × 7 columns</p>\n",
       "</div>"
      ],
      "text/plain": [
       "           altersklasse  alter  plz  geburtsstadt  passwort  merkmale  history\n",
       "vorname                                                                       \n",
       "Alexander             2      2    2             1         2         2        2\n",
       "Alexandra             1      1    1             0         1         1        1\n",
       "Alina                 2      2    2             1         2         2        2\n",
       "Anja                  1      1    1             1         1         1        1\n",
       "Anna                  2      2    1             2         2         2        2\n",
       "...                 ...    ...  ...           ...       ...       ...      ...\n",
       "Torsten               1      1    1             1         1         1        1\n",
       "Uwe                   1      1    1             0         1         1        1\n",
       "Walter                2      2    2             2         2         2        2\n",
       "Yannic                1      1    0             1         1         1        1\n",
       "Zoe                   1      1    1             1         1         1        1\n",
       "\n",
       "[70 rows x 7 columns]"
      ]
     },
     "execution_count": 33,
     "metadata": {},
     "output_type": "execute_result"
    },
    {
     "name": "stdout",
     "output_type": "stream",
     "text": [
      "time: 8.48 ms (started: 2022-06-23 07:54:31 +00:00)\n"
     ]
    }
   ],
   "source": [
    "df.groupby('vorname').count()"
   ]
  },
  {
   "cell_type": "code",
   "execution_count": 34,
   "metadata": {},
   "outputs": [
    {
     "name": "stdout",
     "output_type": "stream",
     "text": [
      "56 Datensätze\n"
     ]
    },
    {
     "data": {
      "text/html": [
       "\n",
       "        <iframe\n",
       "            width=\"100%\"\n",
       "            height=\"475\"\n",
       "            src=\"http://me-Mint:40002/dtale/iframe/4\"\n",
       "            frameborder=\"0\"\n",
       "            allowfullscreen\n",
       "            \n",
       "        ></iframe>\n",
       "        "
      ],
      "text/plain": [
       "<IPython.lib.display.IFrame at 0x7f5744100fd0>"
      ]
     },
     "metadata": {},
     "output_type": "display_data"
    },
    {
     "data": {
      "text/plain": []
     },
     "execution_count": 34,
     "metadata": {},
     "output_type": "execute_result"
    },
    {
     "name": "stdout",
     "output_type": "stream",
     "text": [
      "time: 40.1 ms (started: 2022-06-23 07:54:31 +00:00)\n"
     ]
    }
   ],
   "source": [
    " # alle Datensätze mit Namen, die mehrfach vorkommen\n",
    "result = df.groupby('vorname').filter(lambda x: len(x) >= 2)\n",
    "result = result.sort_values('vorname')\n",
    "grid(result)"
   ]
  },
  {
   "cell_type": "markdown",
   "metadata": {},
   "source": [
    "### Mehrfachgruppierung & Filter"
   ]
  },
  {
   "cell_type": "code",
   "execution_count": 35,
   "metadata": {},
   "outputs": [
    {
     "data": {
      "text/html": [
       "<div>\n",
       "<style scoped>\n",
       "    .dataframe tbody tr th:only-of-type {\n",
       "        vertical-align: middle;\n",
       "    }\n",
       "\n",
       "    .dataframe tbody tr th {\n",
       "        vertical-align: top;\n",
       "    }\n",
       "\n",
       "    .dataframe thead th {\n",
       "        text-align: right;\n",
       "    }\n",
       "</style>\n",
       "<table border=\"1\" class=\"dataframe\">\n",
       "  <thead>\n",
       "    <tr style=\"text-align: right;\">\n",
       "      <th></th>\n",
       "      <th>altersklasse</th>\n",
       "      <th>alter</th>\n",
       "      <th>vorname</th>\n",
       "      <th>plz</th>\n",
       "      <th>geburtsstadt</th>\n",
       "      <th>passwort</th>\n",
       "      <th>merkmale</th>\n",
       "      <th>history</th>\n",
       "    </tr>\n",
       "  </thead>\n",
       "  <tbody>\n",
       "    <tr>\n",
       "      <th>70</th>\n",
       "      <td>20</td>\n",
       "      <td>22</td>\n",
       "      <td>Helga</td>\n",
       "      <td>17664</td>\n",
       "      <td>Berlin</td>\n",
       "      <td>ÖsVtbINx</td>\n",
       "      <td>{N, y, 4, G}</td>\n",
       "      <td>[b, b, a, b]</td>\n",
       "    </tr>\n",
       "    <tr>\n",
       "      <th>87</th>\n",
       "      <td>20</td>\n",
       "      <td>22</td>\n",
       "      <td>Helga</td>\n",
       "      <td>36893</td>\n",
       "      <td>&lt;NA&gt;</td>\n",
       "      <td>MRLN8geZJq</td>\n",
       "      <td>{b, a, 5, g, K}</td>\n",
       "      <td>[A, B, C]</td>\n",
       "    </tr>\n",
       "    <tr>\n",
       "      <th>12</th>\n",
       "      <td>20</td>\n",
       "      <td>26</td>\n",
       "      <td>Till</td>\n",
       "      <td>86927</td>\n",
       "      <td>Berlin</td>\n",
       "      <td>PUWgG</td>\n",
       "      <td>{z, G}</td>\n",
       "      <td>[A, A, A]</td>\n",
       "    </tr>\n",
       "    <tr>\n",
       "      <th>75</th>\n",
       "      <td>20</td>\n",
       "      <td>26</td>\n",
       "      <td>Till</td>\n",
       "      <td>59432</td>\n",
       "      <td>Bremen</td>\n",
       "      <td>fx9hRE</td>\n",
       "      <td>{c, f}</td>\n",
       "      <td>[c, b, a]</td>\n",
       "    </tr>\n",
       "    <tr>\n",
       "      <th>30</th>\n",
       "      <td>30</td>\n",
       "      <td>34</td>\n",
       "      <td>Edith</td>\n",
       "      <td>15947</td>\n",
       "      <td>Berlin</td>\n",
       "      <td>iÜÄqäeo3VA</td>\n",
       "      <td>{U, V}</td>\n",
       "      <td>[]</td>\n",
       "    </tr>\n",
       "    <tr>\n",
       "      <th>84</th>\n",
       "      <td>30</td>\n",
       "      <td>34</td>\n",
       "      <td>Edith</td>\n",
       "      <td>66954</td>\n",
       "      <td>Bremen</td>\n",
       "      <td>0hS4dph0K6</td>\n",
       "      <td>{P, t, H, m}</td>\n",
       "      <td>[b, b, a, b]</td>\n",
       "    </tr>\n",
       "  </tbody>\n",
       "</table>\n",
       "</div>"
      ],
      "text/plain": [
       "    altersklasse  alter vorname    plz geburtsstadt    passwort  \\\n",
       "70            20     22   Helga  17664       Berlin    ÖsVtbINx   \n",
       "87            20     22   Helga  36893         <NA>  MRLN8geZJq   \n",
       "12            20     26    Till  86927       Berlin       PUWgG   \n",
       "75            20     26    Till  59432       Bremen      fx9hRE   \n",
       "30            30     34   Edith  15947       Berlin  iÜÄqäeo3VA   \n",
       "84            30     34   Edith  66954       Bremen  0hS4dph0K6   \n",
       "\n",
       "           merkmale       history  \n",
       "70     {N, y, 4, G}  [b, b, a, b]  \n",
       "87  {b, a, 5, g, K}     [A, B, C]  \n",
       "12           {z, G}     [A, A, A]  \n",
       "75           {c, f}     [c, b, a]  \n",
       "30           {U, V}            []  \n",
       "84     {P, t, H, m}  [b, b, a, b]  "
      ]
     },
     "execution_count": 35,
     "metadata": {},
     "output_type": "execute_result"
    },
    {
     "name": "stdout",
     "output_type": "stream",
     "text": [
      "time: 21.5 ms (started: 2022-06-23 07:54:31 +00:00)\n"
     ]
    }
   ],
   "source": [
    "# nochmal mit Mehrfachgruppierung\n",
    "# alle Namen die mehrfach vorkommen und die gleiche Altersklasse haben\n",
    "df.groupby(['vorname','alter']).filter(lambda x: len(x) >= 2)"
   ]
  },
  {
   "cell_type": "markdown",
   "metadata": {},
   "source": [
    "### Das Gleiche stattdessen mit value_counts\n",
    "* muss noch repariert werden"
   ]
  },
  {
   "cell_type": "code",
   "execution_count": 36,
   "metadata": {},
   "outputs": [
    {
     "data": {
      "text/plain": [
       "Till        3\n",
       "Ingrid      3\n",
       "Michelle    3\n",
       "Helga       3\n",
       "Edith       2\n",
       "           ..\n",
       "Nadine      1\n",
       "Uwe         1\n",
       "Sophia      1\n",
       "Eva         1\n",
       "Eileen      1\n",
       "Name: vorname, Length: 70, dtype: Int64"
      ]
     },
     "execution_count": 36,
     "metadata": {},
     "output_type": "execute_result"
    },
    {
     "name": "stdout",
     "output_type": "stream",
     "text": [
      "time: 3.94 ms (started: 2022-06-23 07:54:31 +00:00)\n"
     ]
    }
   ],
   "source": [
    "# Frequencies of each value in the column.\n",
    "freq = df['vorname'].value_counts()\n",
    "freq"
   ]
  },
  {
   "cell_type": "code",
   "execution_count": 37,
   "metadata": {},
   "outputs": [
    {
     "data": {
      "text/plain": [
       "Index(['Till', 'Ingrid', 'Michelle', 'Helga', 'Edith', 'Alexander', 'Lilly',\n",
       "       'Niklas', 'Tim', 'Anna', 'Tom', 'Alina', 'Christopher', 'Marianne',\n",
       "       'Maurice', 'Walter', 'Finn', 'Tanja', 'Steffen', 'Eric', 'Ingeborg',\n",
       "       'Larissa', 'Torben', 'Maike', 'Stefanie', 'Luise'],\n",
       "      dtype='string')"
      ]
     },
     "execution_count": 37,
     "metadata": {},
     "output_type": "execute_result"
    },
    {
     "name": "stdout",
     "output_type": "stream",
     "text": [
      "time: 2.6 ms (started: 2022-06-23 07:54:31 +00:00)\n"
     ]
    }
   ],
   "source": [
    "frequent_values = freq[freq >= 2].index\n",
    "frequent_values"
   ]
  },
  {
   "cell_type": "code",
   "execution_count": 38,
   "metadata": {},
   "outputs": [
    {
     "name": "stdout",
     "output_type": "stream",
     "text": [
      "56 Datensätze\n"
     ]
    },
    {
     "data": {
      "text/html": [
       "\n",
       "        <iframe\n",
       "            width=\"100%\"\n",
       "            height=\"475\"\n",
       "            src=\"http://me-Mint:40002/dtale/iframe/5\"\n",
       "            frameborder=\"0\"\n",
       "            allowfullscreen\n",
       "            \n",
       "        ></iframe>\n",
       "        "
      ],
      "text/plain": [
       "<IPython.lib.display.IFrame at 0x7f5744081310>"
      ]
     },
     "metadata": {},
     "output_type": "display_data"
    },
    {
     "data": {
      "text/plain": []
     },
     "execution_count": 38,
     "metadata": {},
     "output_type": "execute_result"
    },
    {
     "name": "stdout",
     "output_type": "stream",
     "text": [
      "time: 33.2 ms (started: 2022-06-23 07:54:31 +00:00)\n"
     ]
    }
   ],
   "source": [
    "mask = df['vorname'].isin(frequent_values)\n",
    "grid(df[mask])"
   ]
  },
  {
   "cell_type": "markdown",
   "metadata": {},
   "source": [
    "## Group & Apply"
   ]
  },
  {
   "cell_type": "code",
   "execution_count": 39,
   "metadata": {},
   "outputs": [
    {
     "name": "stdout",
     "output_type": "stream",
     "text": [
      "time: 1.15 ms (started: 2022-06-23 07:54:31 +00:00)\n"
     ]
    }
   ],
   "source": [
    "df2 = pd.DataFrame({'A': 'a a b'.split(), 'B': [1,2,3], 'C': [4,6, 5]})"
   ]
  },
  {
   "cell_type": "code",
   "execution_count": 40,
   "metadata": {},
   "outputs": [
    {
     "name": "stdout",
     "output_type": "stream",
     "text": [
      "time: 925 µs (started: 2022-06-23 07:54:31 +00:00)\n"
     ]
    }
   ],
   "source": [
    "g = df2.groupby('A')"
   ]
  },
  {
   "cell_type": "code",
   "execution_count": 41,
   "metadata": {},
   "outputs": [
    {
     "data": {
      "text/html": [
       "<div>\n",
       "<style scoped>\n",
       "    .dataframe tbody tr th:only-of-type {\n",
       "        vertical-align: middle;\n",
       "    }\n",
       "\n",
       "    .dataframe tbody tr th {\n",
       "        vertical-align: top;\n",
       "    }\n",
       "\n",
       "    .dataframe thead th {\n",
       "        text-align: right;\n",
       "    }\n",
       "</style>\n",
       "<table border=\"1\" class=\"dataframe\">\n",
       "  <thead>\n",
       "    <tr style=\"text-align: right;\">\n",
       "      <th></th>\n",
       "      <th>B</th>\n",
       "      <th>C</th>\n",
       "    </tr>\n",
       "  </thead>\n",
       "  <tbody>\n",
       "    <tr>\n",
       "      <th>0</th>\n",
       "      <td>0.333333</td>\n",
       "      <td>0.4</td>\n",
       "    </tr>\n",
       "    <tr>\n",
       "      <th>1</th>\n",
       "      <td>0.666667</td>\n",
       "      <td>0.6</td>\n",
       "    </tr>\n",
       "    <tr>\n",
       "      <th>2</th>\n",
       "      <td>1.000000</td>\n",
       "      <td>1.0</td>\n",
       "    </tr>\n",
       "  </tbody>\n",
       "</table>\n",
       "</div>"
      ],
      "text/plain": [
       "          B    C\n",
       "0  0.333333  0.4\n",
       "1  0.666667  0.6\n",
       "2  1.000000  1.0"
      ]
     },
     "execution_count": 41,
     "metadata": {},
     "output_type": "execute_result"
    },
    {
     "name": "stdout",
     "output_type": "stream",
     "text": [
      "time: 10.5 ms (started: 2022-06-23 07:54:31 +00:00)\n"
     ]
    }
   ],
   "source": [
    "# The function passed to apply takes a dataframe as its argument and returns a dataframe. \n",
    "# apply combines the result for each group together into a new dataframe:\n",
    "def gruppenanteil(df):\n",
    "    return df / df.sum()\n",
    "\n",
    "g.apply(gruppenanteil)"
   ]
  },
  {
   "cell_type": "code",
   "execution_count": 42,
   "metadata": {},
   "outputs": [
    {
     "data": {
      "text/html": [
       "<div>\n",
       "<style scoped>\n",
       "    .dataframe tbody tr th:only-of-type {\n",
       "        vertical-align: middle;\n",
       "    }\n",
       "\n",
       "    .dataframe tbody tr th {\n",
       "        vertical-align: top;\n",
       "    }\n",
       "\n",
       "    .dataframe thead th {\n",
       "        text-align: right;\n",
       "    }\n",
       "</style>\n",
       "<table border=\"1\" class=\"dataframe\">\n",
       "  <thead>\n",
       "    <tr style=\"text-align: right;\">\n",
       "      <th></th>\n",
       "      <th>B</th>\n",
       "      <th>C</th>\n",
       "    </tr>\n",
       "    <tr>\n",
       "      <th>A</th>\n",
       "      <th></th>\n",
       "      <th></th>\n",
       "    </tr>\n",
       "  </thead>\n",
       "  <tbody>\n",
       "    <tr>\n",
       "      <th>a</th>\n",
       "      <td>1</td>\n",
       "      <td>2</td>\n",
       "    </tr>\n",
       "    <tr>\n",
       "      <th>b</th>\n",
       "      <td>0</td>\n",
       "      <td>0</td>\n",
       "    </tr>\n",
       "  </tbody>\n",
       "</table>\n",
       "</div>"
      ],
      "text/plain": [
       "   B  C\n",
       "A      \n",
       "a  1  2\n",
       "b  0  0"
      ]
     },
     "execution_count": 42,
     "metadata": {},
     "output_type": "execute_result"
    },
    {
     "name": "stdout",
     "output_type": "stream",
     "text": [
      "time: 10.8 ms (started: 2022-06-23 07:54:31 +00:00)\n"
     ]
    }
   ],
   "source": [
    "# The function passed to apply takes a dataframe as its argument and returns a series. \n",
    "# apply combines the result for each group together into a new dataframe:\n",
    "def gruppendelta(df):\n",
    "    return df.max() - df.min()\n",
    "\n",
    "g.apply(gruppendelta)"
   ]
  },
  {
   "cell_type": "code",
   "execution_count": 43,
   "metadata": {},
   "outputs": [
    {
     "data": {
      "text/html": [
       "<div>\n",
       "<style scoped>\n",
       "    .dataframe tbody tr th:only-of-type {\n",
       "        vertical-align: middle;\n",
       "    }\n",
       "\n",
       "    .dataframe tbody tr th {\n",
       "        vertical-align: top;\n",
       "    }\n",
       "\n",
       "    .dataframe thead th {\n",
       "        text-align: right;\n",
       "    }\n",
       "</style>\n",
       "<table border=\"1\" class=\"dataframe\">\n",
       "  <thead>\n",
       "    <tr style=\"text-align: right;\">\n",
       "      <th></th>\n",
       "      <th>0</th>\n",
       "    </tr>\n",
       "    <tr>\n",
       "      <th>A</th>\n",
       "      <th></th>\n",
       "    </tr>\n",
       "  </thead>\n",
       "  <tbody>\n",
       "    <tr>\n",
       "      <th>a</th>\n",
       "      <td>5</td>\n",
       "    </tr>\n",
       "    <tr>\n",
       "      <th>b</th>\n",
       "      <td>2</td>\n",
       "    </tr>\n",
       "  </tbody>\n",
       "</table>\n",
       "</div>"
      ],
      "text/plain": [
       "   0\n",
       "A   \n",
       "a  5\n",
       "b  2"
      ]
     },
     "execution_count": 43,
     "metadata": {},
     "output_type": "execute_result"
    },
    {
     "name": "stdout",
     "output_type": "stream",
     "text": [
      "time: 4.16 ms (started: 2022-06-23 07:54:31 +00:00)\n"
     ]
    }
   ],
   "source": [
    "# The function passed to apply takes a dataframe as its argument and returns a scalar. \n",
    "# apply combines the result for each group together into a series, including setting the index as appropriate:\n",
    "def gruppenspezial(df):\n",
    "    return df.C.max() - df.B.min()\n",
    "\n",
    "g.apply(gruppenspezial).to_frame()"
   ]
  },
  {
   "cell_type": "code",
   "execution_count": null,
   "metadata": {},
   "outputs": [],
   "source": []
  }
 ],
 "metadata": {
  "kernelspec": {
   "display_name": "Python 3 (ipykernel)",
   "language": "python",
   "name": "python3"
  },
  "language_info": {
   "codemirror_mode": {
    "name": "ipython",
    "version": 3
   },
   "file_extension": ".py",
   "mimetype": "text/x-python",
   "name": "python",
   "nbconvert_exporter": "python",
   "pygments_lexer": "ipython3",
   "version": "3.8.12"
  },
  "toc-autonumbering": false
 },
 "nbformat": 4,
 "nbformat_minor": 4
}
